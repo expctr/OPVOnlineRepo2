{
 "cells": [
  {
   "cell_type": "code",
   "execution_count": 1,
   "id": "5c496ac8-c639-4c8c-b976-f1f8ce168874",
   "metadata": {},
   "outputs": [
    {
     "name": "stderr",
     "output_type": "stream",
     "text": [
      "C:\\Users\\iasha\\AppData\\Local\\Temp\\ipykernel_15924\\424092037.py:11: DeprecationWarning: \n",
      "Pyarrow will become a required dependency of pandas in the next major release of pandas (pandas 3.0),\n",
      "(to allow more performant data types, such as the Arrow string type, and better interoperability with other libraries)\n",
      "but was not found to be installed on your system.\n",
      "If this would cause problems for you,\n",
      "please provide us feedback at https://github.com/pandas-dev/pandas/issues/54466\n",
      "        \n",
      "  import pandas as pd\n"
     ]
    },
    {
     "name": "stdout",
     "output_type": "stream",
     "text": [
      "WARNING:tensorflow:From C:\\python\\python311\\Lib\\site-packages\\keras\\src\\losses.py:2976: The name tf.losses.sparse_softmax_cross_entropy is deprecated. Please use tf.compat.v1.losses.sparse_softmax_cross_entropy instead.\n",
      "\n"
     ]
    }
   ],
   "source": [
    "import os\n",
    "import datetime\n",
    "import time\n",
    "\n",
    "import IPython\n",
    "import IPython.display\n",
    "from ipywidgets import IntProgress\n",
    "import matplotlib as mpl\n",
    "import matplotlib.pyplot as plt\n",
    "import numpy as np\n",
    "import pandas as pd\n",
    "import seaborn as sns\n",
    "import tensorflow as tf\n",
    "from tensorflow import keras\n",
    "\n",
    "from sklearn.metrics import r2_score\n",
    "import math\n",
    "\n",
    "mpl.rcParams['figure.figsize'] = (8, 6)\n",
    "mpl.rcParams['axes.grid'] = False"
   ]
  },
  {
   "cell_type": "code",
   "execution_count": 2,
   "id": "bc1317b0-357d-40b7-a89d-e429d7ac48b8",
   "metadata": {},
   "outputs": [],
   "source": [
    "import warnings\n",
    "warnings.filterwarnings('ignore')"
   ]
  },
  {
   "cell_type": "code",
   "execution_count": 3,
   "id": "742088f3-4104-4d45-badc-c8a3c3a343ce",
   "metadata": {},
   "outputs": [],
   "source": [
    "def convert_line_to_list(line: str):\n",
    "    split_line = line.split(' ')\n",
    "    result_list = []\n",
    "\n",
    "    for current in split_line:\n",
    "        if current == '\\n':\n",
    "            continue\n",
    "            \n",
    "        result_list.append(int(current))\n",
    "\n",
    "    return result_list"
   ]
  },
  {
   "cell_type": "code",
   "execution_count": 4,
   "id": "83a2dd6c-76e1-4a80-99c2-84151541c387",
   "metadata": {},
   "outputs": [],
   "source": [
    "def get_mlt(clustering_unit_index):\n",
    "    return clustering_unit_index // 80 * 0.25\n",
    "\n",
    "def get_magneticLat(clustering_unit_index):\n",
    "    return clustering_unit_index % 80 * 0.5 + 50"
   ]
  },
  {
   "cell_type": "code",
   "execution_count": 5,
   "id": "089333f6-d844-463c-a7d2-9e77bde24183",
   "metadata": {},
   "outputs": [],
   "source": [
    "def cluster_unit_index_to_file_path(clustering_unit_index):\n",
    "    mlt = get_mlt(clustering_unit_index)\n",
    "    magnetic_lat = get_magneticLat(clustering_unit_index)\n",
    "    \n",
    "    return f\"C:\\\\Coding\\\\final-qualifying-work_2023-2024\\\\OvationPrimeDataCollector\\\\north-nowcast-diffuse\\\\{mlt:.2f}_{magnetic_lat:.1f}.csv\""
   ]
  },
  {
   "cell_type": "code",
   "execution_count": 6,
   "id": "6ad54871-4fe2-4df3-9f9e-62438de26146",
   "metadata": {},
   "outputs": [],
   "source": [
    "def get_cluster_centre(cluster):\n",
    "    cluster_centre = pd.read_csv(cluster_unit_index_to_file_path(cluster[0]), sep=';', low_memory=False)\n",
    "\n",
    "    f = IntProgress(min=0, max=len(cluster))\n",
    "    display(f)\n",
    "    i = 0\n",
    "    for clustering_unit_index in cluster:\n",
    "        # if i % 100 == 0:\n",
    "        #     f.value += 100\n",
    "        f.value += 1\n",
    "        if i == 0:\n",
    "            i += 1\n",
    "            continue\n",
    "        current_df = pd.read_csv(cluster_unit_index_to_file_path(clustering_unit_index), sep=';', low_memory=False)\n",
    "        cluster_centre['y'] += current_df['y']\n",
    "        i += 1\n",
    "\n",
    "    cluster_centre['y'] = cluster_centre['y'].divide(len(cluster))\n",
    "    return cluster_centre"
   ]
  },
  {
   "cell_type": "code",
   "execution_count": 7,
   "id": "b50eb510-5229-43a4-849c-3198776f5d03",
   "metadata": {},
   "outputs": [],
   "source": [
    "class WindowGenerator():\n",
    "  def __init__(self, input_width, label_width, shift,\n",
    "               train_df, val_df, test_df,\n",
    "               label_columns=None):\n",
    "    # Store the raw data.\n",
    "    self.train_df = train_df\n",
    "    self.val_df = val_df\n",
    "    self.test_df = test_df\n",
    "\n",
    "    # Work out the label column indices.\n",
    "    self.label_columns = label_columns\n",
    "    if label_columns is not None:\n",
    "      self.label_columns_indices = {name: i for i, name in\n",
    "                                    enumerate(label_columns)}\n",
    "    self.column_indices = {name: i for i, name in\n",
    "                           enumerate(train_df.columns)}\n",
    "\n",
    "    # Work out the window parameters.\n",
    "    self.input_width = input_width\n",
    "    self.label_width = label_width\n",
    "    self.shift = shift\n",
    "\n",
    "    self.total_window_size = input_width + shift\n",
    "\n",
    "    self.input_slice = slice(0, input_width)\n",
    "    self.input_indices = np.arange(self.total_window_size)[self.input_slice]\n",
    "\n",
    "    self.label_start = self.total_window_size - self.label_width\n",
    "    self.labels_slice = slice(self.label_start, None)\n",
    "    self.label_indices = np.arange(self.total_window_size)[self.labels_slice]\n",
    "\n",
    "  def __repr__(self):\n",
    "    return '\\n'.join([\n",
    "        f'Total window size: {self.total_window_size}',\n",
    "        f'Input indices: {self.input_indices}',\n",
    "        f'Label indices: {self.label_indices}',\n",
    "        f'Label column name(s): {self.label_columns}'])"
   ]
  },
  {
   "cell_type": "code",
   "execution_count": 8,
   "id": "958236c6-c012-45dd-b624-c41bb3beba93",
   "metadata": {},
   "outputs": [],
   "source": [
    "def split_window(self, features):\n",
    "  inputs = features[:, self.input_slice, :]\n",
    "  labels = features[:, self.labels_slice, :]\n",
    "  if self.label_columns is not None:\n",
    "    labels = tf.stack(\n",
    "        [labels[:, :, self.column_indices[name]] for name in self.label_columns],\n",
    "        axis=-1)\n",
    "\n",
    "  # Slicing doesn't preserve static shape information, so set the shapes\n",
    "  # manually. This way the `tf.data.Datasets` are easier to inspect.\n",
    "  inputs.set_shape([None, self.input_width, None])\n",
    "  labels.set_shape([None, self.label_width, None])\n",
    "\n",
    "  return inputs, labels\n",
    "\n",
    "WindowGenerator.split_window = split_window"
   ]
  },
  {
   "cell_type": "code",
   "execution_count": 9,
   "id": "ab174b92-5d20-47bd-8807-5c570866f4aa",
   "metadata": {},
   "outputs": [],
   "source": [
    "def make_dataset(self, data):\n",
    "  data = np.array(data, dtype=np.float32)\n",
    "  ds = tf.keras.utils.timeseries_dataset_from_array(\n",
    "      data=data,\n",
    "      targets=None,\n",
    "      sequence_length=self.total_window_size,\n",
    "      sequence_stride=1,\n",
    "      shuffle=True,\n",
    "      batch_size=32,)\n",
    "\n",
    "  ds = ds.map(self.split_window)\n",
    "\n",
    "  return ds\n",
    "\n",
    "WindowGenerator.make_dataset = make_dataset"
   ]
  },
  {
   "cell_type": "code",
   "execution_count": 10,
   "id": "fc69391d-8896-4743-abf2-342b4d7cc1cb",
   "metadata": {},
   "outputs": [],
   "source": [
    "@property\n",
    "def train(self):\n",
    "  return self.make_dataset(self.train_df)\n",
    "\n",
    "@property\n",
    "def val(self):\n",
    "  return self.make_dataset(self.val_df)\n",
    "\n",
    "@property\n",
    "def test(self):\n",
    "  return self.make_dataset(self.test_df)\n",
    "\n",
    "@property\n",
    "def example(self):\n",
    "  \"\"\"Get and cache an example batch of `inputs, labels` for plotting.\"\"\"\n",
    "  result = getattr(self, '_example', None)\n",
    "  if result is None:\n",
    "    # No example batch was found, so get one from the `.train` dataset\n",
    "    result = next(iter(self.train))\n",
    "    # And cache it for next time\n",
    "    self._example = result\n",
    "  return result\n",
    "\n",
    "WindowGenerator.train = train\n",
    "WindowGenerator.val = val\n",
    "WindowGenerator.test = test\n",
    "WindowGenerator.example = example"
   ]
  },
  {
   "cell_type": "code",
   "execution_count": 11,
   "id": "cec89917-81cd-432f-91d5-da59e269b839",
   "metadata": {},
   "outputs": [],
   "source": [
    "MAX_EPOCHS = 20\n",
    "\n",
    "def compile_and_fit(model, window, patience=2):\n",
    "  early_stopping = tf.keras.callbacks.EarlyStopping(monitor='val_loss',\n",
    "                                                    patience=patience,\n",
    "                                                    mode='min')\n",
    "    \n",
    "  model.compile(loss=tf.losses.MeanSquaredError(),\n",
    "                optimizer=tf.optimizers.Adam(),\n",
    "                metrics=[tf.metrics.MeanAbsoluteError()])\n",
    "\n",
    "  history = model.fit(window.train, epochs=MAX_EPOCHS,\n",
    "                      validation_data=window.val,\n",
    "                      callbacks=[early_stopping])\n",
    "  return history"
   ]
  },
  {
   "cell_type": "code",
   "execution_count": 25,
   "id": "49a0d13a-d100-4a85-ad2f-72775c79b05c",
   "metadata": {},
   "outputs": [],
   "source": [
    "def investigate(cluster_index, model, conv_width, clusters, save_data):\n",
    "    cluster_centre = get_cluster_centre(clusters[cluster_index])\n",
    "    cluster_centre = cluster_centre.drop(['date'], axis=1)\n",
    "    cluster_centre = cluster_centre.drop(['segment'], axis=1)\n",
    "    \n",
    "    n = len(cluster_centre)\n",
    "    train_df = cluster_centre[0:int(n*0.7)]\n",
    "    val_df = cluster_centre[int(n*0.7):int(n*0.9)]\n",
    "    test_df = cluster_centre[int(n*0.9):]\n",
    "\n",
    "    train_mean = train_df.mean()\n",
    "    train_std = train_df.std()\n",
    "\n",
    "    train_df = (train_df - train_mean) / train_std\n",
    "    val_df = (val_df - train_mean) / train_std\n",
    "    test_df = (test_df - train_mean) / train_std\n",
    "    \n",
    "    conv_window = WindowGenerator(\n",
    "    input_width=conv_width,\n",
    "    label_width=1,\n",
    "    shift=1,\n",
    "    train_df=train_df,\n",
    "    val_df=val_df,\n",
    "    test_df=test_df,\n",
    "    label_columns=['y']\n",
    "    )\n",
    "\n",
    "    model = keras.models.Sequential.from_config(model.get_config())\n",
    "    \n",
    "    history = compile_and_fit(model, conv_window)\n",
    "\n",
    "    inputs, labels = conv_window.example\n",
    "\n",
    "    val_df_numpy = val_df.to_numpy()\n",
    "    train_df_numpy = train_df.to_numpy()\n",
    "    test_df_numpy = test_df.to_numpy()\n",
    "    new_true_values_val = []\n",
    "    new_true_values_train = []\n",
    "    new_true_values_test = []\n",
    "    new_input_val = []\n",
    "    new_input_train = []\n",
    "    new_input_test = []\n",
    "\n",
    "    new_true_values_val = val_df_numpy[3:].flatten()\n",
    "    new_input_val = np.column_stack([val_df_numpy[0:-3], val_df_numpy[1:-2], val_df_numpy[2:-1]])\n",
    "\n",
    "    new_true_values_train = train_df_numpy[3:].flatten()\n",
    "    new_input_train = np.column_stack([train_df_numpy[0:-3], train_df_numpy[1:-2], train_df_numpy[2:-1]])\n",
    "\n",
    "    new_true_values_test = test_df_numpy[3:].flatten()\n",
    "    new_input_test = np.column_stack([test_df_numpy[0:-3], test_df_numpy[1:-2], test_df_numpy[2:-1]])\n",
    "        \n",
    "    val_predictions = model(np.array(new_input_val)).numpy()\n",
    "    train_predictions = model(np.array(new_input_train)).numpy()\n",
    "    test_predictions = model(np.array(new_input_test)).numpy()\n",
    "    \n",
    "    new_val_predictions = val_predictions.flatten()\n",
    "    new_train_predictions = train_predictions.flatten()\n",
    "    new_test_predictions = test_predictions.flatten()\n",
    "    \n",
    "    new_true_values_val = (new_true_values_val * train_std['y']) + train_mean['y']\n",
    "    new_val_predictions = (new_val_predictions * train_std['y']) + train_mean['y']\n",
    "\n",
    "    new_true_values_train = (new_true_values_train * train_std['y']) + train_mean['y']\n",
    "    new_train_predictions = (new_train_predictions * train_std['y']) + train_mean['y']\n",
    "\n",
    "    new_true_values_test = (new_true_values_test * train_std['y']) + train_mean['y']\n",
    "    new_test_predictions = (new_test_predictions * train_std['y']) + train_mean['y']\n",
    "\n",
    "    print(\"***TRAIN***:\")\n",
    "    output_file.write(\"***TRAIN***:\\n\")\n",
    "    print(f\"correlation related to cluster centre: {np.corrcoef(new_true_values_train, new_train_predictions)[0][1]:.2f}\")\n",
    "    output_file.write(f\"correlation related to cluster centre: {np.corrcoef(new_true_values_train, new_train_predictions)[0][1]:.2f}\\n\")\n",
    "    print(f\"r2 score related to cluster centre: {r2_score(new_true_values_train, new_train_predictions):.2f}\")\n",
    "    output_file.write(f\"r2 score related to cluster centre: {r2_score(new_true_values_train, new_train_predictions):.2f}\\n\")\n",
    "    print(\"***VALIDATION***:\")\n",
    "    output_file.write(\"***VALIDATION***:\\n\")\n",
    "    print(f\"correlation related to cluster centre: {np.corrcoef(new_true_values_val, new_val_predictions)[0][1]:.2f}\")\n",
    "    output_file.write(f\"correlation related to cluster centre: {np.corrcoef(new_true_values_val, new_val_predictions)[0][1]:.2f}\\n\")\n",
    "    print(f\"r2 score related to cluster centre: {r2_score(new_true_values_val, new_val_predictions):.2f}\")\n",
    "    output_file.write(f\"r2 score related to cluster centre: {r2_score(new_true_values_val, new_val_predictions):.2f}\\n\")\n",
    "    print(\"***TEST***:\")\n",
    "    output_file.write(\"***TEST***:\\n\")\n",
    "    print(f\"correlation related to cluster centre: {np.corrcoef(new_true_values_test, new_test_predictions)[0][1]:.2f}\")\n",
    "    output_file.write(f\"correlation related to cluster centre: {np.corrcoef(new_true_values_test, new_test_predictions)[0][1]:.2f}\\n\")\n",
    "    print(f\"r2 score related to cluster centre: {r2_score(new_true_values_test, new_test_predictions):.2f}\")\n",
    "    output_file.write(f\"r2 score related to cluster centre: {r2_score(new_true_values_test, new_test_predictions):.2f}\\n\")\n",
    "\n",
    "    sum_correlation_val = 0\n",
    "    sum_r2_val = 0\n",
    "\n",
    "    sum_correlation_test = 0\n",
    "    sum_r2_test = 0\n",
    "\n",
    "    f = IntProgress(min=0, max=len(clusters[cluster_index]))\n",
    "    display(f)\n",
    "\n",
    "    i = 0\n",
    "    for clustering_unit_index in clusters[cluster_index]:\n",
    "        if (i % 100 == 0):\n",
    "            f.value += 100\n",
    "        \n",
    "        current_df = pd.read_csv(cluster_unit_index_to_file_path(clustering_unit_index), sep=';', low_memory=False)\n",
    "        current_df = current_df.drop(['date'], axis=1)\n",
    "        current_df = current_df.drop(['segment'], axis=1)\n",
    "\n",
    "        n = len(current_df)\n",
    "        current_train_df = current_df[0:int(n*0.7)]\n",
    "        current_val_df = current_df[int(n*0.7):int(n*0.9)]\n",
    "        current_test_df = current_df[int(n*0.9):]\n",
    "\n",
    "        current_train_df = (current_train_df - train_mean) / train_std\n",
    "        current_val_df = (current_val_df - train_mean) / train_std\n",
    "        current_test_df = (current_test_df - train_mean) / train_std\n",
    "\n",
    "        current_val_df_numpy = current_val_df.to_numpy()\n",
    "        current_new_true_values_val = current_val_df_numpy[3:].flatten()\n",
    "        current_new_input_val = np.column_stack([current_val_df_numpy[0:-3], current_val_df_numpy[1:-2], current_val_df_numpy[2:-1]])\n",
    "\n",
    "        current_test_df_numpy = current_test_df.to_numpy()\n",
    "        current_new_true_values_test = current_test_df_numpy[3:].flatten()\n",
    "        current_new_input_test = np.column_stack([current_test_df_numpy[0:-3], current_test_df_numpy[1:-2], current_test_df_numpy[2:-1]])\n",
    "\n",
    "        current_val_predictions = model(np.array(current_new_input_val)).numpy()\n",
    "        current_new_val_predictions = current_val_predictions.flatten()\n",
    "\n",
    "        current_test_predictions = model(np.array(current_new_input_test)).numpy()\n",
    "        current_new_test_predictions = current_test_predictions.flatten()\n",
    "\n",
    "        current_new_true_values_val = (current_new_true_values_val * train_std['y']) + train_mean['y']\n",
    "        current_new_val_predictions = (current_new_val_predictions * train_std['y']) + train_mean['y']\n",
    "\n",
    "        current_new_true_values_test = (current_new_true_values_test * train_std['y']) + train_mean['y']\n",
    "        current_new_test_predictions = (current_new_test_predictions * train_std['y']) + train_mean['y']\n",
    "            \n",
    "        sum_correlation_val += np.corrcoef(current_new_true_values_val, current_new_val_predictions)[0][1]\n",
    "        sum_r2_val += r2_score(current_new_true_values_val, current_new_val_predictions)\n",
    "\n",
    "        sum_correlation_test += np.corrcoef(current_new_true_values_test, current_new_test_predictions)[0][1]\n",
    "        sum_r2_test += r2_score(current_new_true_values_test, current_new_test_predictions)\n",
    "\n",
    "        i += 1\n",
    "\n",
    "    if (save_data):\n",
    "        f = open(f\"out\\\\train-mean-and-std\\\\train mean and std for cluster {cluster_index}.txt\", \"w\")\n",
    "        f.write(str(train_mean.mean()) + ' ' + str(train_std.mean()))\n",
    "        f.close()\n",
    "        model.save(f\"out\\\\saved-models\\\\model for cluster {cluster_index}\")\n",
    "\n",
    "    cluster_len = len(clusters[cluster_index])\n",
    "    \n",
    "    return sum_correlation_val / cluster_len, sum_r2_val / cluster_len, sum_correlation_test / cluster_len, sum_r2_test / cluster_len"
   ]
  },
  {
   "cell_type": "code",
   "execution_count": 37,
   "id": "5ad4b77a-3091-45a8-a871-5977a48e687f",
   "metadata": {},
   "outputs": [],
   "source": [
    "def do_investigations(model, clusters, conv_width):\n",
    "    cluster_sizes = []\n",
    "    average_correlations_val = []\n",
    "    average_r2_scores_val = []\n",
    "    average_correlations_test = []\n",
    "    average_r2_scores_test = []\n",
    "\n",
    "    for i in range(len(clusters)):\n",
    "        print(f\"---do_investigations. cluster index : {i}---\")\n",
    "        output_file.write(f\"---do_investigations. cluster index : {i}---\\n\")\n",
    "        average_correlation_val, average_r2_val, average_correlation_test, average_r2_test = investigate(i, model, conv_width, clusters, True)\n",
    "        \n",
    "        print(\"***VALIDATION***:\")\n",
    "        output_file.write(\"***VALIDATION***:\\n\")\n",
    "        print(f\"average correlation val: {average_correlation_val:.2f}\")\n",
    "        output_file.write(f\"average correlation val: {average_correlation_val:.2f}\\n\")\n",
    "        print(f\"average r2 val: {average_r2_val:.2f}\")\n",
    "        output_file.write(f\"average r2 val: {average_r2_val:.2f}\\n\")\n",
    "        print(\"***TEST***:\")\n",
    "        output_file.write(\"***TEST***:\\n\")\n",
    "        print(f\"average correlation test: {average_correlation_test:.2f}\")\n",
    "        output_file.write(f\"average correlation test: {average_correlation_test:.2f}\\n\")\n",
    "        print(f\"average r2 test: {average_r2_test:.2f}\")\n",
    "        output_file.write(f\"average r2 test: {average_r2_test:.2f}\\n\")\n",
    "\n",
    "        cluster_sizes.append(len(clusters[i]))\n",
    "        average_correlations_val.append(average_correlation_val)\n",
    "        average_r2_scores_val.append(average_r2_val)\n",
    "        average_correlations_test.append(average_correlation_test)\n",
    "        average_r2_scores_test.append(average_r2_test)\n",
    "\n",
    "    return cluster_sizes, average_correlations_val, average_r2_scores_val, average_correlations_test, average_r2_scores_test"
   ]
  },
  {
   "cell_type": "code",
   "execution_count": 35,
   "id": "bd5bb17d-f0f0-41f8-a216-1f604354c7ed",
   "metadata": {},
   "outputs": [],
   "source": [
    "def print_metrics(cluster_sizes, average_correlations_val, average_r2_scores_val, average_correlations_test, average_r2_scores_test, clusters):\n",
    "    total_size = 0\n",
    "    correlation_sum_val = 0\n",
    "    r2_score_sum_val = 0\n",
    "    correlation_sum_test = 0\n",
    "    r2_score_sum_test = 0\n",
    "    \n",
    "    bad_clusters_indices = []\n",
    "\n",
    "    for i in range(len(cluster_sizes)):\n",
    "        if (math.isnan(average_correlations_val[i]) or (average_r2_scores_val[i] < 0)):\n",
    "            bad_clusters_indices.append(i)\n",
    "            continue\n",
    "        \n",
    "        correlation_sum_val += cluster_sizes[i] * average_correlations_val[i]\n",
    "        r2_score_sum_val += cluster_sizes[i] * average_r2_scores_val[i]\n",
    "        correlation_sum_test += cluster_sizes[i] * average_correlations_test[i]\n",
    "        r2_score_sum_test += cluster_sizes[i] * average_r2_scores_test[i]\n",
    "        total_size += cluster_sizes[i]\n",
    "\n",
    "    weighted_average_correlation_val = correlation_sum_val / total_size\n",
    "    weighted_average_r2_score_val = r2_score_sum_val / total_size\n",
    "    weighted_average_correlation_test = correlation_sum_test / total_size\n",
    "    weighted_average_r2_score_test = r2_score_sum_test / total_size\n",
    "\n",
    "    print(f\"weighted_average_correlation_val: {weighted_average_correlation_val:.2f}\")\n",
    "    output_file.write(f\"weighted_average_correlation_val: {weighted_average_correlation_val:.2f}\\n\")\n",
    "    print(f\"weighted_average_r2_score_val: {weighted_average_r2_score_val:.2f}\")\n",
    "    output_file.write(f\"weighted_average_r2_score_val: {weighted_average_r2_score_val:.2f}\\n\")\n",
    "    print(f\"weighted_average_correlation_test: {weighted_average_correlation_test:.2f}\")\n",
    "    output_file.write(f\"weighted_average_correlation_test: {weighted_average_correlation_test:.2f}\\n\")\n",
    "    print(f\"weighted_average_r2_score_test: {weighted_average_r2_score_test:.2f}\")\n",
    "    output_file.write(f\"weighted_average_r2_score_test: {weighted_average_r2_score_test:.2f}\\n\")\n",
    "\n",
    "    bad_clusters_size_sum = 0\n",
    "    total_clusters_size_sum = 0\n",
    "\n",
    "    for cluster_size in cluster_sizes:\n",
    "        total_clusters_size_sum += cluster_size\n",
    "    \n",
    "    for bad_cluster_index in bad_clusters_indices:\n",
    "        bad_clusters_size_sum += len(clusters[bad_cluster_index])\n",
    "\n",
    "    bad_clusters_rate = bad_clusters_size_sum / total_clusters_size_sum\n",
    "\n",
    "    print(f\"bad clusters rate: {bad_clusters_rate:.2f}\")\n",
    "    output_file.write(f\"bad clusters rate: {bad_clusters_rate:.2f}\\n\")\n",
    "    print(f\"bad cluster indices: {bad_clusters_indices}\")\n",
    "    output_file.write(f\"bad cluster indices: {bad_clusters_indices}\\n\")"
   ]
  },
  {
   "cell_type": "code",
   "execution_count": 16,
   "id": "5617952d-1bcf-466e-9388-799b85c6bc7e",
   "metadata": {},
   "outputs": [],
   "source": [
    "def show_results(model, clusters, conv_width):\n",
    "    cluster_sizes, average_correlations_val, average_r2_scores_val, average_correlations_test, average_r2_scores_test = do_investigations(model, clusters, conv_width)\n",
    "    print_metrics(cluster_sizes, average_correlations_val, average_r2_scores_val, average_correlations_test, average_r2_scores_test, clusters)"
   ]
  },
  {
   "cell_type": "code",
   "execution_count": 17,
   "id": "776882d6-8435-46f0-9c36-eb1c89b0634a",
   "metadata": {},
   "outputs": [],
   "source": [
    "CONV_WIDTH = 3"
   ]
  },
  {
   "cell_type": "code",
   "execution_count": 18,
   "id": "10b769f4-4e06-4d51-bb0b-561f86733e5a",
   "metadata": {
    "scrolled": true
   },
   "outputs": [
    {
     "name": "stdout",
     "output_type": "stream",
     "text": [
      "WARNING:tensorflow:From C:\\python\\python311\\Lib\\site-packages\\keras\\src\\backend.py:873: The name tf.get_default_graph is deprecated. Please use tf.compat.v1.get_default_graph instead.\n",
      "\n"
     ]
    }
   ],
   "source": [
    "multi_step_dense_model = tf.keras.Sequential([\n",
    "    # Shape: (time, features) => (time*features)\n",
    "    tf.keras.layers.Flatten(),\n",
    "    tf.keras.layers.Dense(units=32, activation='relu'),\n",
    "    tf.keras.layers.Dense(units=32, activation='relu'),\n",
    "    tf.keras.layers.Dense(units=1),\n",
    "    # Add back the time dimension.\n",
    "    # Shape: (outputs) => (1, outputs)\n",
    "    tf.keras.layers.Reshape([1, -1]),\n",
    "])"
   ]
  },
  {
   "cell_type": "code",
   "execution_count": 19,
   "id": "5f284891-fcf1-4d84-879b-274cfbbd243e",
   "metadata": {},
   "outputs": [],
   "source": [
    "def get_clusters(path):\n",
    "    file = open(path, 'r')\n",
    "    lines = file.readlines()\n",
    "    file.close()\n",
    "\n",
    "    clusters = []\n",
    "\n",
    "    for line in lines:\n",
    "        if line.strip() == '':\n",
    "            continue\n",
    "        clusters.append(convert_line_to_list(line))\n",
    "\n",
    "    return clusters"
   ]
  },
  {
   "cell_type": "code",
   "execution_count": 38,
   "id": "5586bad6-458a-47fe-a043-7b883df7a0cf",
   "metadata": {},
   "outputs": [
    {
     "name": "stdout",
     "output_type": "stream",
     "text": [
      "------------------------------------------------------\n",
      "msd kmeans 60 0.1 20.txt\n",
      "---do_investigations. cluster index : 0---\n"
     ]
    },
    {
     "data": {
      "application/vnd.jupyter.widget-view+json": {
       "model_id": "77cf8c9505f44ef4b6f5b983b6a6d7b5",
       "version_major": 2,
       "version_minor": 0
      },
      "text/plain": [
       "IntProgress(value=0, max=110)"
      ]
     },
     "metadata": {},
     "output_type": "display_data"
    },
    {
     "name": "stdout",
     "output_type": "stream",
     "text": [
      "Epoch 1/20\n",
      "368/368 [==============================] - 3s 4ms/step - loss: 0.3090 - mean_absolute_error: 0.3613 - val_loss: 0.1612 - val_mean_absolute_error: 0.2766\n",
      "Epoch 2/20\n",
      "368/368 [==============================] - 1s 3ms/step - loss: 0.2127 - mean_absolute_error: 0.3103 - val_loss: 0.1577 - val_mean_absolute_error: 0.2695\n",
      "Epoch 3/20\n",
      "368/368 [==============================] - 1s 3ms/step - loss: 0.2110 - mean_absolute_error: 0.3096 - val_loss: 0.1575 - val_mean_absolute_error: 0.2704\n",
      "Epoch 4/20\n",
      "368/368 [==============================] - 1s 3ms/step - loss: 0.2108 - mean_absolute_error: 0.3085 - val_loss: 0.1579 - val_mean_absolute_error: 0.2795\n",
      "Epoch 5/20\n",
      "368/368 [==============================] - 1s 3ms/step - loss: 0.2106 - mean_absolute_error: 0.3080 - val_loss: 0.1580 - val_mean_absolute_error: 0.2768\n",
      "***TRAIN***:\n",
      "correlation related to cluster centre: 0.89\n",
      "r2 score related to cluster centre: 0.79\n",
      "***VALIDATION***:\n",
      "correlation related to cluster centre: 0.91\n",
      "r2 score related to cluster centre: 0.82\n",
      "***TEST***:\n",
      "correlation related to cluster centre: 0.87\n",
      "r2 score related to cluster centre: 0.76\n"
     ]
    },
    {
     "data": {
      "application/vnd.jupyter.widget-view+json": {
       "model_id": "ac2b4f5648034693a341600ebb135876",
       "version_major": 2,
       "version_minor": 0
      },
      "text/plain": [
       "IntProgress(value=0, max=110)"
      ]
     },
     "metadata": {},
     "output_type": "display_data"
    },
    {
     "name": "stdout",
     "output_type": "stream",
     "text": [
      "INFO:tensorflow:Assets written to: out\\saved-models\\model for cluster 0\\assets\n"
     ]
    },
    {
     "name": "stderr",
     "output_type": "stream",
     "text": [
      "INFO:tensorflow:Assets written to: out\\saved-models\\model for cluster 0\\assets\n"
     ]
    },
    {
     "name": "stdout",
     "output_type": "stream",
     "text": [
      "***VALIDATION***:\n",
      "average correlation val: 0.90\n",
      "average r2 val: 0.74\n",
      "***TEST***:\n",
      "average correlation test: 0.87\n",
      "average r2 test: 0.76\n",
      "---do_investigations. cluster index : 1---\n"
     ]
    },
    {
     "data": {
      "application/vnd.jupyter.widget-view+json": {
       "model_id": "02a6440329d24350b795463e1e68b3b4",
       "version_major": 2,
       "version_minor": 0
      },
      "text/plain": [
       "IntProgress(value=0, max=184)"
      ]
     },
     "metadata": {},
     "output_type": "display_data"
    },
    {
     "name": "stdout",
     "output_type": "stream",
     "text": [
      "Epoch 1/20\n",
      "368/368 [==============================] - 2s 3ms/step - loss: 0.2482 - mean_absolute_error: 0.3035 - val_loss: 0.1519 - val_mean_absolute_error: 0.2122\n",
      "Epoch 2/20\n",
      "368/368 [==============================] - 1s 3ms/step - loss: 0.1931 - mean_absolute_error: 0.2641 - val_loss: 0.1507 - val_mean_absolute_error: 0.2090\n",
      "Epoch 3/20\n",
      "368/368 [==============================] - 1s 3ms/step - loss: 0.1923 - mean_absolute_error: 0.2638 - val_loss: 0.1493 - val_mean_absolute_error: 0.2085\n",
      "Epoch 4/20\n",
      "368/368 [==============================] - 1s 3ms/step - loss: 0.1918 - mean_absolute_error: 0.2628 - val_loss: 0.1499 - val_mean_absolute_error: 0.2098\n",
      "Epoch 5/20\n",
      "368/368 [==============================] - 1s 3ms/step - loss: 0.1909 - mean_absolute_error: 0.2620 - val_loss: 0.1507 - val_mean_absolute_error: 0.2099\n",
      "***TRAIN***:\n",
      "correlation related to cluster centre: 0.90\n",
      "r2 score related to cluster centre: 0.81\n",
      "***VALIDATION***:\n",
      "correlation related to cluster centre: 0.92\n",
      "r2 score related to cluster centre: 0.83\n",
      "***TEST***:\n",
      "correlation related to cluster centre: 0.89\n",
      "r2 score related to cluster centre: 0.79\n"
     ]
    },
    {
     "data": {
      "application/vnd.jupyter.widget-view+json": {
       "model_id": "34b790f712ac470488177a790fe5bfee",
       "version_major": 2,
       "version_minor": 0
      },
      "text/plain": [
       "IntProgress(value=0, max=184)"
      ]
     },
     "metadata": {},
     "output_type": "display_data"
    },
    {
     "name": "stdout",
     "output_type": "stream",
     "text": [
      "INFO:tensorflow:Assets written to: out\\saved-models\\model for cluster 1\\assets\n"
     ]
    },
    {
     "name": "stderr",
     "output_type": "stream",
     "text": [
      "INFO:tensorflow:Assets written to: out\\saved-models\\model for cluster 1\\assets\n"
     ]
    },
    {
     "name": "stdout",
     "output_type": "stream",
     "text": [
      "***VALIDATION***:\n",
      "average correlation val: 0.90\n",
      "average r2 val: 0.77\n",
      "***TEST***:\n",
      "average correlation test: 0.88\n",
      "average r2 test: 0.74\n",
      "---do_investigations. cluster index : 2---\n"
     ]
    },
    {
     "data": {
      "application/vnd.jupyter.widget-view+json": {
       "model_id": "83b63597a5204ec8a1e31fa2dde27eaf",
       "version_major": 2,
       "version_minor": 0
      },
      "text/plain": [
       "IntProgress(value=0, max=207)"
      ]
     },
     "metadata": {},
     "output_type": "display_data"
    },
    {
     "name": "stdout",
     "output_type": "stream",
     "text": [
      "Epoch 1/20\n",
      "368/368 [==============================] - 10s 3ms/step - loss: 0.2996 - mean_absolute_error: 0.3592 - val_loss: 0.1868 - val_mean_absolute_error: 0.2896\n",
      "Epoch 2/20\n",
      "368/368 [==============================] - 1s 3ms/step - loss: 0.2020 - mean_absolute_error: 0.3075 - val_loss: 0.1835 - val_mean_absolute_error: 0.2857\n",
      "Epoch 3/20\n",
      "368/368 [==============================] - 1s 3ms/step - loss: 0.2009 - mean_absolute_error: 0.3063 - val_loss: 0.1869 - val_mean_absolute_error: 0.2879\n",
      "Epoch 4/20\n",
      "368/368 [==============================] - 1s 3ms/step - loss: 0.2012 - mean_absolute_error: 0.3065 - val_loss: 0.1859 - val_mean_absolute_error: 0.2843\n",
      "***TRAIN***:\n",
      "correlation related to cluster centre: 0.90\n",
      "r2 score related to cluster centre: 0.80\n",
      "***VALIDATION***:\n",
      "correlation related to cluster centre: 0.90\n",
      "r2 score related to cluster centre: 0.81\n",
      "***TEST***:\n",
      "correlation related to cluster centre: 0.89\n",
      "r2 score related to cluster centre: 0.78\n"
     ]
    },
    {
     "data": {
      "application/vnd.jupyter.widget-view+json": {
       "model_id": "747a9b5c99064fb290564e77a04bd28b",
       "version_major": 2,
       "version_minor": 0
      },
      "text/plain": [
       "IntProgress(value=0, max=207)"
      ]
     },
     "metadata": {},
     "output_type": "display_data"
    },
    {
     "name": "stdout",
     "output_type": "stream",
     "text": [
      "INFO:tensorflow:Assets written to: out\\saved-models\\model for cluster 2\\assets\n"
     ]
    },
    {
     "name": "stderr",
     "output_type": "stream",
     "text": [
      "INFO:tensorflow:Assets written to: out\\saved-models\\model for cluster 2\\assets\n"
     ]
    },
    {
     "name": "stdout",
     "output_type": "stream",
     "text": [
      "***VALIDATION***:\n",
      "average correlation val: 0.90\n",
      "average r2 val: 0.80\n",
      "***TEST***:\n",
      "average correlation test: 0.88\n",
      "average r2 test: 0.77\n",
      "---do_investigations. cluster index : 3---\n"
     ]
    },
    {
     "data": {
      "application/vnd.jupyter.widget-view+json": {
       "model_id": "299c40b532244a41948bc25a3023b59f",
       "version_major": 2,
       "version_minor": 0
      },
      "text/plain": [
       "IntProgress(value=0, max=118)"
      ]
     },
     "metadata": {},
     "output_type": "display_data"
    },
    {
     "name": "stdout",
     "output_type": "stream",
     "text": [
      "Epoch 1/20\n",
      "368/368 [==============================] - 2s 3ms/step - loss: 0.2607 - mean_absolute_error: 0.3215 - val_loss: 0.2176 - val_mean_absolute_error: 0.2907\n",
      "Epoch 2/20\n",
      "368/368 [==============================] - 1s 3ms/step - loss: 0.2044 - mean_absolute_error: 0.2833 - val_loss: 0.2219 - val_mean_absolute_error: 0.2868\n",
      "Epoch 3/20\n",
      "368/368 [==============================] - 1s 3ms/step - loss: 0.2046 - mean_absolute_error: 0.2825 - val_loss: 0.2193 - val_mean_absolute_error: 0.2883\n",
      "***TRAIN***:\n",
      "correlation related to cluster centre: 0.89\n",
      "r2 score related to cluster centre: 0.80\n",
      "***VALIDATION***:\n",
      "correlation related to cluster centre: 0.90\n",
      "r2 score related to cluster centre: 0.81\n",
      "***TEST***:\n",
      "correlation related to cluster centre: 0.89\n",
      "r2 score related to cluster centre: 0.79\n"
     ]
    },
    {
     "data": {
      "application/vnd.jupyter.widget-view+json": {
       "model_id": "edacdc92ea364991821d0eeb0ed16561",
       "version_major": 2,
       "version_minor": 0
      },
      "text/plain": [
       "IntProgress(value=0, max=118)"
      ]
     },
     "metadata": {},
     "output_type": "display_data"
    },
    {
     "name": "stdout",
     "output_type": "stream",
     "text": [
      "INFO:tensorflow:Assets written to: out\\saved-models\\model for cluster 3\\assets\n"
     ]
    },
    {
     "name": "stderr",
     "output_type": "stream",
     "text": [
      "INFO:tensorflow:Assets written to: out\\saved-models\\model for cluster 3\\assets\n"
     ]
    },
    {
     "name": "stdout",
     "output_type": "stream",
     "text": [
      "***VALIDATION***:\n",
      "average correlation val: 0.90\n",
      "average r2 val: 0.80\n",
      "***TEST***:\n",
      "average correlation test: 0.88\n",
      "average r2 test: 0.78\n",
      "---do_investigations. cluster index : 4---\n"
     ]
    },
    {
     "data": {
      "application/vnd.jupyter.widget-view+json": {
       "model_id": "9d5e7359e1e349f4b70f3f79192ee5b6",
       "version_major": 2,
       "version_minor": 0
      },
      "text/plain": [
       "IntProgress(value=0, max=119)"
      ]
     },
     "metadata": {},
     "output_type": "display_data"
    },
    {
     "name": "stdout",
     "output_type": "stream",
     "text": [
      "Epoch 1/20\n",
      "368/368 [==============================] - 2s 4ms/step - loss: 0.2869 - mean_absolute_error: 0.3321 - val_loss: 0.1939 - val_mean_absolute_error: 0.2773\n",
      "Epoch 2/20\n",
      "368/368 [==============================] - 1s 3ms/step - loss: 0.2054 - mean_absolute_error: 0.2882 - val_loss: 0.1885 - val_mean_absolute_error: 0.2762\n",
      "Epoch 3/20\n",
      "368/368 [==============================] - 1s 3ms/step - loss: 0.2060 - mean_absolute_error: 0.2876 - val_loss: 0.1897 - val_mean_absolute_error: 0.2760\n",
      "Epoch 4/20\n",
      "368/368 [==============================] - 1s 3ms/step - loss: 0.2052 - mean_absolute_error: 0.2872 - val_loss: 0.1993 - val_mean_absolute_error: 0.2766\n",
      "***TRAIN***:\n",
      "correlation related to cluster centre: 0.89\n",
      "r2 score related to cluster centre: 0.79\n",
      "***VALIDATION***:\n",
      "correlation related to cluster centre: 0.90\n",
      "r2 score related to cluster centre: 0.81\n",
      "***TEST***:\n",
      "correlation related to cluster centre: 0.88\n",
      "r2 score related to cluster centre: 0.78\n"
     ]
    },
    {
     "data": {
      "application/vnd.jupyter.widget-view+json": {
       "model_id": "036d3dcaef43495da42b1910def7dc7c",
       "version_major": 2,
       "version_minor": 0
      },
      "text/plain": [
       "IntProgress(value=0, max=119)"
      ]
     },
     "metadata": {},
     "output_type": "display_data"
    },
    {
     "name": "stdout",
     "output_type": "stream",
     "text": [
      "INFO:tensorflow:Assets written to: out\\saved-models\\model for cluster 4\\assets\n"
     ]
    },
    {
     "name": "stderr",
     "output_type": "stream",
     "text": [
      "INFO:tensorflow:Assets written to: out\\saved-models\\model for cluster 4\\assets\n"
     ]
    },
    {
     "name": "stdout",
     "output_type": "stream",
     "text": [
      "***VALIDATION***:\n",
      "average correlation val: 0.90\n",
      "average r2 val: 0.80\n",
      "***TEST***:\n",
      "average correlation test: 0.88\n",
      "average r2 test: 0.78\n",
      "---do_investigations. cluster index : 5---\n"
     ]
    },
    {
     "data": {
      "application/vnd.jupyter.widget-view+json": {
       "model_id": "5688f00d94e24aa1980758ae82598fa3",
       "version_major": 2,
       "version_minor": 0
      },
      "text/plain": [
       "IntProgress(value=0, max=377)"
      ]
     },
     "metadata": {},
     "output_type": "display_data"
    },
    {
     "name": "stdout",
     "output_type": "stream",
     "text": [
      "Epoch 1/20\n",
      "368/368 [==============================] - 2s 3ms/step - loss: 0.2443 - mean_absolute_error: 0.3112 - val_loss: 0.2506 - val_mean_absolute_error: 0.2730\n",
      "Epoch 2/20\n",
      "368/368 [==============================] - 1s 3ms/step - loss: 0.2066 - mean_absolute_error: 0.2736 - val_loss: 0.2498 - val_mean_absolute_error: 0.2734\n",
      "Epoch 3/20\n",
      "368/368 [==============================] - 1s 3ms/step - loss: 0.2059 - mean_absolute_error: 0.2720 - val_loss: 0.2613 - val_mean_absolute_error: 0.2786\n",
      "Epoch 4/20\n",
      "368/368 [==============================] - 1s 3ms/step - loss: 0.2028 - mean_absolute_error: 0.2701 - val_loss: 0.2505 - val_mean_absolute_error: 0.2699\n",
      "***TRAIN***:\n",
      "correlation related to cluster centre: 0.89\n",
      "r2 score related to cluster centre: 0.80\n",
      "***VALIDATION***:\n",
      "correlation related to cluster centre: 0.90\n",
      "r2 score related to cluster centre: 0.81\n",
      "***TEST***:\n",
      "correlation related to cluster centre: 0.89\n",
      "r2 score related to cluster centre: 0.79\n"
     ]
    },
    {
     "data": {
      "application/vnd.jupyter.widget-view+json": {
       "model_id": "b62a61e79955476596a9622cbcc641db",
       "version_major": 2,
       "version_minor": 0
      },
      "text/plain": [
       "IntProgress(value=0, max=377)"
      ]
     },
     "metadata": {},
     "output_type": "display_data"
    },
    {
     "name": "stdout",
     "output_type": "stream",
     "text": [
      "INFO:tensorflow:Assets written to: out\\saved-models\\model for cluster 5\\assets\n"
     ]
    },
    {
     "name": "stderr",
     "output_type": "stream",
     "text": [
      "INFO:tensorflow:Assets written to: out\\saved-models\\model for cluster 5\\assets\n"
     ]
    },
    {
     "name": "stdout",
     "output_type": "stream",
     "text": [
      "***VALIDATION***:\n",
      "average correlation val: 0.88\n",
      "average r2 val: 0.77\n",
      "***TEST***:\n",
      "average correlation test: 0.88\n",
      "average r2 test: 0.76\n",
      "---do_investigations. cluster index : 6---\n"
     ]
    },
    {
     "data": {
      "application/vnd.jupyter.widget-view+json": {
       "model_id": "5b5db5dce715451b958a4333d4b8ba5b",
       "version_major": 2,
       "version_minor": 0
      },
      "text/plain": [
       "IntProgress(value=0, max=160)"
      ]
     },
     "metadata": {},
     "output_type": "display_data"
    },
    {
     "name": "stdout",
     "output_type": "stream",
     "text": [
      "Epoch 1/20\n",
      "368/368 [==============================] - 2s 3ms/step - loss: 0.2664 - mean_absolute_error: 0.3651 - val_loss: 0.1866 - val_mean_absolute_error: 0.3059\n",
      "Epoch 2/20\n",
      "368/368 [==============================] - 1s 3ms/step - loss: 0.2068 - mean_absolute_error: 0.3189 - val_loss: 0.1864 - val_mean_absolute_error: 0.2953\n",
      "Epoch 3/20\n",
      "368/368 [==============================] - 1s 3ms/step - loss: 0.2060 - mean_absolute_error: 0.3174 - val_loss: 0.1838 - val_mean_absolute_error: 0.3007\n",
      "Epoch 4/20\n",
      "368/368 [==============================] - 1s 3ms/step - loss: 0.2049 - mean_absolute_error: 0.3159 - val_loss: 0.1854 - val_mean_absolute_error: 0.2962\n",
      "Epoch 5/20\n",
      "368/368 [==============================] - 1s 3ms/step - loss: 0.2050 - mean_absolute_error: 0.3158 - val_loss: 0.1833 - val_mean_absolute_error: 0.2941\n",
      "Epoch 6/20\n",
      "368/368 [==============================] - 1s 3ms/step - loss: 0.2045 - mean_absolute_error: 0.3160 - val_loss: 0.1832 - val_mean_absolute_error: 0.2989\n",
      "Epoch 7/20\n",
      "368/368 [==============================] - 1s 3ms/step - loss: 0.2047 - mean_absolute_error: 0.3155 - val_loss: 0.1836 - val_mean_absolute_error: 0.2953\n",
      "Epoch 8/20\n",
      "368/368 [==============================] - 1s 3ms/step - loss: 0.2040 - mean_absolute_error: 0.3146 - val_loss: 0.1833 - val_mean_absolute_error: 0.3015\n",
      "***TRAIN***:\n",
      "correlation related to cluster centre: 0.89\n",
      "r2 score related to cluster centre: 0.80\n",
      "***VALIDATION***:\n",
      "correlation related to cluster centre: 0.91\n",
      "r2 score related to cluster centre: 0.82\n",
      "***TEST***:\n",
      "correlation related to cluster centre: 0.88\n",
      "r2 score related to cluster centre: 0.78\n"
     ]
    },
    {
     "data": {
      "application/vnd.jupyter.widget-view+json": {
       "model_id": "e844b53f097d48e58f1c0c8a0025c2f5",
       "version_major": 2,
       "version_minor": 0
      },
      "text/plain": [
       "IntProgress(value=0, max=160)"
      ]
     },
     "metadata": {},
     "output_type": "display_data"
    },
    {
     "name": "stdout",
     "output_type": "stream",
     "text": [
      "INFO:tensorflow:Assets written to: out\\saved-models\\model for cluster 6\\assets\n"
     ]
    },
    {
     "name": "stderr",
     "output_type": "stream",
     "text": [
      "INFO:tensorflow:Assets written to: out\\saved-models\\model for cluster 6\\assets\n"
     ]
    },
    {
     "name": "stdout",
     "output_type": "stream",
     "text": [
      "***VALIDATION***:\n",
      "average correlation val: 0.91\n",
      "average r2 val: 0.81\n",
      "***TEST***:\n",
      "average correlation test: 0.88\n",
      "average r2 test: 0.77\n",
      "---do_investigations. cluster index : 7---\n"
     ]
    },
    {
     "data": {
      "application/vnd.jupyter.widget-view+json": {
       "model_id": "5970afc63ff5451f9820e5277a89a206",
       "version_major": 2,
       "version_minor": 0
      },
      "text/plain": [
       "IntProgress(value=0, max=303)"
      ]
     },
     "metadata": {},
     "output_type": "display_data"
    },
    {
     "name": "stdout",
     "output_type": "stream",
     "text": [
      "Epoch 1/20\n",
      "368/368 [==============================] - 2s 3ms/step - loss: 0.0626 - mean_absolute_error: 0.1368 - val_loss: 0.0301 - val_mean_absolute_error: 0.0887\n",
      "Epoch 2/20\n",
      "368/368 [==============================] - 1s 3ms/step - loss: 0.0374 - mean_absolute_error: 0.1049 - val_loss: 0.0276 - val_mean_absolute_error: 0.0912\n",
      "Epoch 3/20\n",
      "368/368 [==============================] - 1s 3ms/step - loss: 0.0371 - mean_absolute_error: 0.1048 - val_loss: 0.0269 - val_mean_absolute_error: 0.0824\n",
      "Epoch 4/20\n",
      "368/368 [==============================] - 1s 3ms/step - loss: 0.0367 - mean_absolute_error: 0.1045 - val_loss: 0.0275 - val_mean_absolute_error: 0.0955\n",
      "Epoch 5/20\n",
      "368/368 [==============================] - 1s 3ms/step - loss: 0.0363 - mean_absolute_error: 0.1030 - val_loss: 0.0268 - val_mean_absolute_error: 0.0903\n",
      "Epoch 6/20\n",
      "368/368 [==============================] - 1s 3ms/step - loss: 0.0365 - mean_absolute_error: 0.1039 - val_loss: 0.0263 - val_mean_absolute_error: 0.0856\n",
      "Epoch 7/20\n",
      "368/368 [==============================] - 1s 3ms/step - loss: 0.0366 - mean_absolute_error: 0.1036 - val_loss: 0.0271 - val_mean_absolute_error: 0.0859\n",
      "Epoch 8/20\n",
      "368/368 [==============================] - 1s 3ms/step - loss: 0.0364 - mean_absolute_error: 0.1036 - val_loss: 0.0267 - val_mean_absolute_error: 0.0864\n",
      "***TRAIN***:\n",
      "correlation related to cluster centre: 0.98\n",
      "r2 score related to cluster centre: 0.97\n",
      "***VALIDATION***:\n",
      "correlation related to cluster centre: 0.98\n",
      "r2 score related to cluster centre: 0.95\n",
      "***TEST***:\n",
      "correlation related to cluster centre: 0.93\n",
      "r2 score related to cluster centre: 0.87\n"
     ]
    },
    {
     "data": {
      "application/vnd.jupyter.widget-view+json": {
       "model_id": "51693c5fe89d44adbebd8bf94bfaada8",
       "version_major": 2,
       "version_minor": 0
      },
      "text/plain": [
       "IntProgress(value=0, max=303)"
      ]
     },
     "metadata": {},
     "output_type": "display_data"
    },
    {
     "name": "stdout",
     "output_type": "stream",
     "text": [
      "INFO:tensorflow:Assets written to: out\\saved-models\\model for cluster 7\\assets\n"
     ]
    },
    {
     "name": "stderr",
     "output_type": "stream",
     "text": [
      "INFO:tensorflow:Assets written to: out\\saved-models\\model for cluster 7\\assets\n"
     ]
    },
    {
     "name": "stdout",
     "output_type": "stream",
     "text": [
      "***VALIDATION***:\n",
      "average correlation val: 0.90\n",
      "average r2 val: 0.78\n",
      "***TEST***:\n",
      "average correlation test: 0.86\n",
      "average r2 test: 0.71\n",
      "---do_investigations. cluster index : 8---\n"
     ]
    },
    {
     "data": {
      "application/vnd.jupyter.widget-view+json": {
       "model_id": "32e5f9fa92464abdb7773911c93699dc",
       "version_major": 2,
       "version_minor": 0
      },
      "text/plain": [
       "IntProgress(value=0, max=133)"
      ]
     },
     "metadata": {},
     "output_type": "display_data"
    },
    {
     "name": "stdout",
     "output_type": "stream",
     "text": [
      "Epoch 1/20\n",
      "368/368 [==============================] - 2s 3ms/step - loss: 0.2519 - mean_absolute_error: 0.3271 - val_loss: 0.1725 - val_mean_absolute_error: 0.2840\n",
      "Epoch 2/20\n",
      "368/368 [==============================] - 1s 3ms/step - loss: 0.2078 - mean_absolute_error: 0.2985 - val_loss: 0.1716 - val_mean_absolute_error: 0.2741\n",
      "Epoch 3/20\n",
      "368/368 [==============================] - 1s 3ms/step - loss: 0.2064 - mean_absolute_error: 0.2963 - val_loss: 0.1725 - val_mean_absolute_error: 0.2773\n",
      "Epoch 4/20\n",
      "368/368 [==============================] - 1s 3ms/step - loss: 0.2066 - mean_absolute_error: 0.2965 - val_loss: 0.1728 - val_mean_absolute_error: 0.2699\n",
      "***TRAIN***:\n",
      "correlation related to cluster centre: 0.89\n",
      "r2 score related to cluster centre: 0.80\n",
      "***VALIDATION***:\n",
      "correlation related to cluster centre: 0.91\n",
      "r2 score related to cluster centre: 0.82\n",
      "***TEST***:\n",
      "correlation related to cluster centre: 0.88\n",
      "r2 score related to cluster centre: 0.78\n"
     ]
    },
    {
     "data": {
      "application/vnd.jupyter.widget-view+json": {
       "model_id": "85b02435cf6447b890e04bd749133b88",
       "version_major": 2,
       "version_minor": 0
      },
      "text/plain": [
       "IntProgress(value=0, max=133)"
      ]
     },
     "metadata": {},
     "output_type": "display_data"
    },
    {
     "name": "stdout",
     "output_type": "stream",
     "text": [
      "INFO:tensorflow:Assets written to: out\\saved-models\\model for cluster 8\\assets\n"
     ]
    },
    {
     "name": "stderr",
     "output_type": "stream",
     "text": [
      "INFO:tensorflow:Assets written to: out\\saved-models\\model for cluster 8\\assets\n"
     ]
    },
    {
     "name": "stdout",
     "output_type": "stream",
     "text": [
      "***VALIDATION***:\n",
      "average correlation val: 0.90\n",
      "average r2 val: 0.82\n",
      "***TEST***:\n",
      "average correlation test: 0.88\n",
      "average r2 test: 0.78\n",
      "---do_investigations. cluster index : 9---\n"
     ]
    },
    {
     "data": {
      "application/vnd.jupyter.widget-view+json": {
       "model_id": "3b642e075cea49378b1fb0f54f33cea7",
       "version_major": 2,
       "version_minor": 0
      },
      "text/plain": [
       "IntProgress(value=0, max=188)"
      ]
     },
     "metadata": {},
     "output_type": "display_data"
    },
    {
     "name": "stdout",
     "output_type": "stream",
     "text": [
      "Epoch 1/20\n",
      "368/368 [==============================] - 2s 3ms/step - loss: 0.2461 - mean_absolute_error: 0.3556 - val_loss: 0.1964 - val_mean_absolute_error: 0.3141\n",
      "Epoch 2/20\n",
      "368/368 [==============================] - 1s 3ms/step - loss: 0.2074 - mean_absolute_error: 0.3176 - val_loss: 0.1958 - val_mean_absolute_error: 0.3117\n",
      "Epoch 3/20\n",
      "368/368 [==============================] - 1s 3ms/step - loss: 0.2064 - mean_absolute_error: 0.3172 - val_loss: 0.1988 - val_mean_absolute_error: 0.3187\n",
      "Epoch 4/20\n",
      "368/368 [==============================] - 1s 3ms/step - loss: 0.2065 - mean_absolute_error: 0.3170 - val_loss: 0.1951 - val_mean_absolute_error: 0.3123\n",
      "Epoch 5/20\n",
      "368/368 [==============================] - 1s 3ms/step - loss: 0.2068 - mean_absolute_error: 0.3176 - val_loss: 0.1980 - val_mean_absolute_error: 0.3225\n",
      "Epoch 6/20\n",
      "368/368 [==============================] - 1s 3ms/step - loss: 0.2061 - mean_absolute_error: 0.3175 - val_loss: 0.1987 - val_mean_absolute_error: 0.3175\n",
      "***TRAIN***:\n",
      "correlation related to cluster centre: 0.89\n",
      "r2 score related to cluster centre: 0.80\n",
      "***VALIDATION***:\n",
      "correlation related to cluster centre: 0.90\n",
      "r2 score related to cluster centre: 0.81\n",
      "***TEST***:\n",
      "correlation related to cluster centre: 0.88\n",
      "r2 score related to cluster centre: 0.78\n"
     ]
    },
    {
     "data": {
      "application/vnd.jupyter.widget-view+json": {
       "model_id": "1b90944ae54c4b9da2e286f05a51d641",
       "version_major": 2,
       "version_minor": 0
      },
      "text/plain": [
       "IntProgress(value=0, max=188)"
      ]
     },
     "metadata": {},
     "output_type": "display_data"
    },
    {
     "name": "stdout",
     "output_type": "stream",
     "text": [
      "INFO:tensorflow:Assets written to: out\\saved-models\\model for cluster 9\\assets\n"
     ]
    },
    {
     "name": "stderr",
     "output_type": "stream",
     "text": [
      "INFO:tensorflow:Assets written to: out\\saved-models\\model for cluster 9\\assets\n"
     ]
    },
    {
     "name": "stdout",
     "output_type": "stream",
     "text": [
      "***VALIDATION***:\n",
      "average correlation val: 0.90\n",
      "average r2 val: 0.80\n",
      "***TEST***:\n",
      "average correlation test: 0.88\n",
      "average r2 test: 0.76\n",
      "---do_investigations. cluster index : 10---\n"
     ]
    },
    {
     "data": {
      "application/vnd.jupyter.widget-view+json": {
       "model_id": "5900130ffb2a453684eb4a3888cbad11",
       "version_major": 2,
       "version_minor": 0
      },
      "text/plain": [
       "IntProgress(value=0, max=124)"
      ]
     },
     "metadata": {},
     "output_type": "display_data"
    },
    {
     "name": "stdout",
     "output_type": "stream",
     "text": [
      "Epoch 1/20\n",
      "368/368 [==============================] - 2s 3ms/step - loss: 0.2522 - mean_absolute_error: 0.3543 - val_loss: 0.1561 - val_mean_absolute_error: 0.2808\n",
      "Epoch 2/20\n",
      "368/368 [==============================] - 1s 3ms/step - loss: 0.1923 - mean_absolute_error: 0.3023 - val_loss: 0.1567 - val_mean_absolute_error: 0.2845\n",
      "Epoch 3/20\n",
      "368/368 [==============================] - 1s 3ms/step - loss: 0.1911 - mean_absolute_error: 0.3011 - val_loss: 0.1538 - val_mean_absolute_error: 0.2752\n",
      "Epoch 4/20\n",
      "368/368 [==============================] - 1s 3ms/step - loss: 0.1902 - mean_absolute_error: 0.3004 - val_loss: 0.1537 - val_mean_absolute_error: 0.2775\n",
      "Epoch 5/20\n",
      "368/368 [==============================] - 1s 3ms/step - loss: 0.1908 - mean_absolute_error: 0.3009 - val_loss: 0.1548 - val_mean_absolute_error: 0.2760\n",
      "Epoch 6/20\n",
      "368/368 [==============================] - 1s 3ms/step - loss: 0.1906 - mean_absolute_error: 0.3007 - val_loss: 0.1536 - val_mean_absolute_error: 0.2777\n",
      "Epoch 7/20\n",
      "368/368 [==============================] - 1s 3ms/step - loss: 0.1903 - mean_absolute_error: 0.3009 - val_loss: 0.1544 - val_mean_absolute_error: 0.2707\n",
      "Epoch 8/20\n",
      "368/368 [==============================] - 1s 3ms/step - loss: 0.1906 - mean_absolute_error: 0.3009 - val_loss: 0.1538 - val_mean_absolute_error: 0.2785\n",
      "***TRAIN***:\n",
      "correlation related to cluster centre: 0.90\n",
      "r2 score related to cluster centre: 0.81\n",
      "***VALIDATION***:\n",
      "correlation related to cluster centre: 0.91\n",
      "r2 score related to cluster centre: 0.83\n",
      "***TEST***:\n",
      "correlation related to cluster centre: 0.88\n",
      "r2 score related to cluster centre: 0.77\n"
     ]
    },
    {
     "data": {
      "application/vnd.jupyter.widget-view+json": {
       "model_id": "7c81c43391024a74aefb7de5b0fd5fca",
       "version_major": 2,
       "version_minor": 0
      },
      "text/plain": [
       "IntProgress(value=0, max=124)"
      ]
     },
     "metadata": {},
     "output_type": "display_data"
    },
    {
     "name": "stdout",
     "output_type": "stream",
     "text": [
      "INFO:tensorflow:Assets written to: out\\saved-models\\model for cluster 10\\assets\n"
     ]
    },
    {
     "name": "stderr",
     "output_type": "stream",
     "text": [
      "INFO:tensorflow:Assets written to: out\\saved-models\\model for cluster 10\\assets\n"
     ]
    },
    {
     "name": "stdout",
     "output_type": "stream",
     "text": [
      "***VALIDATION***:\n",
      "average correlation val: 0.91\n",
      "average r2 val: 0.83\n",
      "***TEST***:\n",
      "average correlation test: 0.88\n",
      "average r2 test: 0.77\n",
      "---do_investigations. cluster index : 11---\n"
     ]
    },
    {
     "data": {
      "application/vnd.jupyter.widget-view+json": {
       "model_id": "1282988a37c148ba93e691d24976824a",
       "version_major": 2,
       "version_minor": 0
      },
      "text/plain": [
       "IntProgress(value=0, max=157)"
      ]
     },
     "metadata": {},
     "output_type": "display_data"
    },
    {
     "name": "stdout",
     "output_type": "stream",
     "text": [
      "Epoch 1/20\n",
      "368/368 [==============================] - 2s 3ms/step - loss: 0.2585 - mean_absolute_error: 0.3575 - val_loss: 0.1640 - val_mean_absolute_error: 0.2849\n",
      "Epoch 2/20\n",
      "368/368 [==============================] - 1s 3ms/step - loss: 0.1948 - mean_absolute_error: 0.3048 - val_loss: 0.1641 - val_mean_absolute_error: 0.2880\n",
      "Epoch 3/20\n",
      "368/368 [==============================] - 1s 3ms/step - loss: 0.1939 - mean_absolute_error: 0.3041 - val_loss: 0.1659 - val_mean_absolute_error: 0.2941\n",
      "***TRAIN***:\n",
      "correlation related to cluster centre: 0.90\n",
      "r2 score related to cluster centre: 0.81\n",
      "***VALIDATION***:\n",
      "correlation related to cluster centre: 0.91\n",
      "r2 score related to cluster centre: 0.83\n",
      "***TEST***:\n",
      "correlation related to cluster centre: 0.88\n",
      "r2 score related to cluster centre: 0.77\n"
     ]
    },
    {
     "data": {
      "application/vnd.jupyter.widget-view+json": {
       "model_id": "09d297f461af40b4ac9cacd4e80c65f2",
       "version_major": 2,
       "version_minor": 0
      },
      "text/plain": [
       "IntProgress(value=0, max=157)"
      ]
     },
     "metadata": {},
     "output_type": "display_data"
    },
    {
     "name": "stdout",
     "output_type": "stream",
     "text": [
      "INFO:tensorflow:Assets written to: out\\saved-models\\model for cluster 11\\assets\n"
     ]
    },
    {
     "name": "stderr",
     "output_type": "stream",
     "text": [
      "INFO:tensorflow:Assets written to: out\\saved-models\\model for cluster 11\\assets\n"
     ]
    },
    {
     "name": "stdout",
     "output_type": "stream",
     "text": [
      "***VALIDATION***:\n",
      "average correlation val: 0.91\n",
      "average r2 val: 0.75\n",
      "***TEST***:\n",
      "average correlation test: 0.88\n",
      "average r2 test: 0.71\n",
      "---do_investigations. cluster index : 12---\n"
     ]
    },
    {
     "data": {
      "application/vnd.jupyter.widget-view+json": {
       "model_id": "913d284c33134d1990c6124c623e8f2d",
       "version_major": 2,
       "version_minor": 0
      },
      "text/plain": [
       "IntProgress(value=0, max=2408)"
      ]
     },
     "metadata": {},
     "output_type": "display_data"
    },
    {
     "name": "stdout",
     "output_type": "stream",
     "text": [
      "Epoch 1/20\n",
      "368/368 [==============================] - 2s 3ms/step - loss: 0.1551 - mean_absolute_error: 0.2410 - val_loss: 0.0683 - val_mean_absolute_error: 0.1313\n",
      "Epoch 2/20\n",
      "368/368 [==============================] - 1s 3ms/step - loss: 0.0664 - mean_absolute_error: 0.1570 - val_loss: 0.0660 - val_mean_absolute_error: 0.1265\n",
      "Epoch 3/20\n",
      "368/368 [==============================] - 1s 3ms/step - loss: 0.0658 - mean_absolute_error: 0.1555 - val_loss: 0.0679 - val_mean_absolute_error: 0.1387\n",
      "Epoch 4/20\n",
      "368/368 [==============================] - 1s 3ms/step - loss: 0.0658 - mean_absolute_error: 0.1560 - val_loss: 0.0682 - val_mean_absolute_error: 0.1420\n",
      "***TRAIN***:\n",
      "correlation related to cluster centre: 0.97\n",
      "r2 score related to cluster centre: 0.93\n",
      "***VALIDATION***:\n",
      "correlation related to cluster centre: 0.94\n",
      "r2 score related to cluster centre: 0.87\n",
      "***TEST***:\n",
      "correlation related to cluster centre: 0.92\n",
      "r2 score related to cluster centre: 0.84\n"
     ]
    },
    {
     "data": {
      "application/vnd.jupyter.widget-view+json": {
       "model_id": "102107e27f2f4a9ca22542d214ed6cac",
       "version_major": 2,
       "version_minor": 0
      },
      "text/plain": [
       "IntProgress(value=0, max=2408)"
      ]
     },
     "metadata": {},
     "output_type": "display_data"
    },
    {
     "name": "stdout",
     "output_type": "stream",
     "text": [
      "INFO:tensorflow:Assets written to: out\\saved-models\\model for cluster 12\\assets\n"
     ]
    },
    {
     "name": "stderr",
     "output_type": "stream",
     "text": [
      "INFO:tensorflow:Assets written to: out\\saved-models\\model for cluster 12\\assets\n"
     ]
    },
    {
     "name": "stdout",
     "output_type": "stream",
     "text": [
      "***VALIDATION***:\n",
      "average correlation val: nan\n",
      "average r2 val: -70455886015538100613152768.00\n",
      "***TEST***:\n",
      "average correlation test: nan\n",
      "average r2 test: -914489254428927735975903232.00\n",
      "---do_investigations. cluster index : 13---\n"
     ]
    },
    {
     "data": {
      "application/vnd.jupyter.widget-view+json": {
       "model_id": "fcbaecc491164dd3a6bfa4bb17843f9f",
       "version_major": 2,
       "version_minor": 0
      },
      "text/plain": [
       "IntProgress(value=0, max=136)"
      ]
     },
     "metadata": {},
     "output_type": "display_data"
    },
    {
     "name": "stdout",
     "output_type": "stream",
     "text": [
      "Epoch 1/20\n",
      "368/368 [==============================] - 2s 3ms/step - loss: 0.2950 - mean_absolute_error: 0.3343 - val_loss: 0.2636 - val_mean_absolute_error: 0.3021\n",
      "Epoch 2/20\n",
      "368/368 [==============================] - 1s 3ms/step - loss: 0.2092 - mean_absolute_error: 0.2777 - val_loss: 0.2449 - val_mean_absolute_error: 0.2860\n",
      "Epoch 3/20\n",
      "368/368 [==============================] - 1s 3ms/step - loss: 0.2074 - mean_absolute_error: 0.2769 - val_loss: 0.2473 - val_mean_absolute_error: 0.2852\n",
      "Epoch 4/20\n",
      "368/368 [==============================] - 1s 3ms/step - loss: 0.2062 - mean_absolute_error: 0.2759 - val_loss: 0.2459 - val_mean_absolute_error: 0.2834\n",
      "***TRAIN***:\n",
      "correlation related to cluster centre: 0.89\n",
      "r2 score related to cluster centre: 0.80\n",
      "***VALIDATION***:\n",
      "correlation related to cluster centre: 0.90\n",
      "r2 score related to cluster centre: 0.81\n",
      "***TEST***:\n",
      "correlation related to cluster centre: 0.89\n",
      "r2 score related to cluster centre: 0.79\n"
     ]
    },
    {
     "data": {
      "application/vnd.jupyter.widget-view+json": {
       "model_id": "beef773dcaea4d66ae570779ee6cc8e5",
       "version_major": 2,
       "version_minor": 0
      },
      "text/plain": [
       "IntProgress(value=0, max=136)"
      ]
     },
     "metadata": {},
     "output_type": "display_data"
    },
    {
     "name": "stdout",
     "output_type": "stream",
     "text": [
      "INFO:tensorflow:Assets written to: out\\saved-models\\model for cluster 13\\assets\n"
     ]
    },
    {
     "name": "stderr",
     "output_type": "stream",
     "text": [
      "INFO:tensorflow:Assets written to: out\\saved-models\\model for cluster 13\\assets\n"
     ]
    },
    {
     "name": "stdout",
     "output_type": "stream",
     "text": [
      "***VALIDATION***:\n",
      "average correlation val: 0.90\n",
      "average r2 val: 0.81\n",
      "***TEST***:\n",
      "average correlation test: 0.89\n",
      "average r2 test: 0.78\n",
      "---do_investigations. cluster index : 14---\n"
     ]
    },
    {
     "data": {
      "application/vnd.jupyter.widget-view+json": {
       "model_id": "8c6d925edc3444b2a9373914ea448213",
       "version_major": 2,
       "version_minor": 0
      },
      "text/plain": [
       "IntProgress(value=0, max=99)"
      ]
     },
     "metadata": {},
     "output_type": "display_data"
    },
    {
     "name": "stdout",
     "output_type": "stream",
     "text": [
      "Epoch 1/20\n",
      "368/368 [==============================] - 2s 3ms/step - loss: 0.2721 - mean_absolute_error: 0.3615 - val_loss: 0.1393 - val_mean_absolute_error: 0.2670\n",
      "Epoch 2/20\n",
      "368/368 [==============================] - 1s 3ms/step - loss: 0.2029 - mean_absolute_error: 0.3058 - val_loss: 0.1388 - val_mean_absolute_error: 0.2656\n",
      "Epoch 3/20\n",
      "368/368 [==============================] - 1s 3ms/step - loss: 0.2016 - mean_absolute_error: 0.3044 - val_loss: 0.1374 - val_mean_absolute_error: 0.2654\n",
      "Epoch 4/20\n",
      "368/368 [==============================] - 1s 3ms/step - loss: 0.2013 - mean_absolute_error: 0.3037 - val_loss: 0.1383 - val_mean_absolute_error: 0.2684\n",
      "Epoch 5/20\n",
      "368/368 [==============================] - 1s 3ms/step - loss: 0.2014 - mean_absolute_error: 0.3040 - val_loss: 0.1369 - val_mean_absolute_error: 0.2613\n",
      "Epoch 6/20\n",
      "368/368 [==============================] - 1s 3ms/step - loss: 0.2016 - mean_absolute_error: 0.3035 - val_loss: 0.1367 - val_mean_absolute_error: 0.2639\n",
      "Epoch 7/20\n",
      "368/368 [==============================] - 1s 3ms/step - loss: 0.2004 - mean_absolute_error: 0.3028 - val_loss: 0.1380 - val_mean_absolute_error: 0.2625\n",
      "Epoch 8/20\n",
      "368/368 [==============================] - 1s 3ms/step - loss: 0.2014 - mean_absolute_error: 0.3036 - val_loss: 0.1379 - val_mean_absolute_error: 0.2666\n",
      "***TRAIN***:\n",
      "correlation related to cluster centre: 0.90\n",
      "r2 score related to cluster centre: 0.80\n",
      "***VALIDATION***:\n",
      "correlation related to cluster centre: 0.91\n",
      "r2 score related to cluster centre: 0.82\n",
      "***TEST***:\n",
      "correlation related to cluster centre: 0.87\n",
      "r2 score related to cluster centre: 0.76\n"
     ]
    },
    {
     "data": {
      "application/vnd.jupyter.widget-view+json": {
       "model_id": "79c49c11e108492e9d5aaaab91e38299",
       "version_major": 2,
       "version_minor": 0
      },
      "text/plain": [
       "IntProgress(value=0, max=99)"
      ]
     },
     "metadata": {},
     "output_type": "display_data"
    },
    {
     "name": "stdout",
     "output_type": "stream",
     "text": [
      "INFO:tensorflow:Assets written to: out\\saved-models\\model for cluster 14\\assets\n"
     ]
    },
    {
     "name": "stderr",
     "output_type": "stream",
     "text": [
      "INFO:tensorflow:Assets written to: out\\saved-models\\model for cluster 14\\assets\n"
     ]
    },
    {
     "name": "stdout",
     "output_type": "stream",
     "text": [
      "***VALIDATION***:\n",
      "average correlation val: 0.91\n",
      "average r2 val: 0.82\n",
      "***TEST***:\n",
      "average correlation test: 0.87\n",
      "average r2 test: 0.76\n",
      "---do_investigations. cluster index : 15---\n"
     ]
    },
    {
     "data": {
      "application/vnd.jupyter.widget-view+json": {
       "model_id": "9ccb8a0ed11f4bcab716afe18d73f02c",
       "version_major": 2,
       "version_minor": 0
      },
      "text/plain": [
       "IntProgress(value=0, max=241)"
      ]
     },
     "metadata": {},
     "output_type": "display_data"
    },
    {
     "name": "stdout",
     "output_type": "stream",
     "text": [
      "Epoch 1/20\n",
      "368/368 [==============================] - 2s 3ms/step - loss: 0.2764 - mean_absolute_error: 0.3477 - val_loss: 0.1678 - val_mean_absolute_error: 0.2590\n",
      "Epoch 2/20\n",
      "368/368 [==============================] - 1s 3ms/step - loss: 0.1999 - mean_absolute_error: 0.2922 - val_loss: 0.1685 - val_mean_absolute_error: 0.2599\n",
      "Epoch 3/20\n",
      "368/368 [==============================] - 1s 3ms/step - loss: 0.1985 - mean_absolute_error: 0.2905 - val_loss: 0.1658 - val_mean_absolute_error: 0.2604\n",
      "Epoch 4/20\n",
      "368/368 [==============================] - 1s 3ms/step - loss: 0.1971 - mean_absolute_error: 0.2884 - val_loss: 0.1650 - val_mean_absolute_error: 0.2590\n",
      "Epoch 5/20\n",
      "368/368 [==============================] - 1s 3ms/step - loss: 0.1965 - mean_absolute_error: 0.2890 - val_loss: 0.1659 - val_mean_absolute_error: 0.2568\n",
      "Epoch 6/20\n",
      "368/368 [==============================] - 1s 3ms/step - loss: 0.1969 - mean_absolute_error: 0.2889 - val_loss: 0.1690 - val_mean_absolute_error: 0.2556\n",
      "***TRAIN***:\n",
      "correlation related to cluster centre: 0.90\n",
      "r2 score related to cluster centre: 0.80\n",
      "***VALIDATION***:\n",
      "correlation related to cluster centre: 0.90\n",
      "r2 score related to cluster centre: 0.81\n",
      "***TEST***:\n",
      "correlation related to cluster centre: 0.89\n",
      "r2 score related to cluster centre: 0.79\n"
     ]
    },
    {
     "data": {
      "application/vnd.jupyter.widget-view+json": {
       "model_id": "3b06df13df964fc1a896ee2dc5bc0e7f",
       "version_major": 2,
       "version_minor": 0
      },
      "text/plain": [
       "IntProgress(value=0, max=241)"
      ]
     },
     "metadata": {},
     "output_type": "display_data"
    },
    {
     "name": "stdout",
     "output_type": "stream",
     "text": [
      "INFO:tensorflow:Assets written to: out\\saved-models\\model for cluster 15\\assets\n"
     ]
    },
    {
     "name": "stderr",
     "output_type": "stream",
     "text": [
      "INFO:tensorflow:Assets written to: out\\saved-models\\model for cluster 15\\assets\n"
     ]
    },
    {
     "name": "stdout",
     "output_type": "stream",
     "text": [
      "***VALIDATION***:\n",
      "average correlation val: 0.89\n",
      "average r2 val: 0.79\n",
      "***TEST***:\n",
      "average correlation test: 0.88\n",
      "average r2 test: 0.77\n",
      "---do_investigations. cluster index : 16---\n"
     ]
    },
    {
     "data": {
      "application/vnd.jupyter.widget-view+json": {
       "model_id": "09aed146e9da43008640c851d9948201",
       "version_major": 2,
       "version_minor": 0
      },
      "text/plain": [
       "IntProgress(value=0, max=140)"
      ]
     },
     "metadata": {},
     "output_type": "display_data"
    },
    {
     "name": "stdout",
     "output_type": "stream",
     "text": [
      "Epoch 1/20\n",
      "368/368 [==============================] - 2s 3ms/step - loss: 0.2550 - mean_absolute_error: 0.3446 - val_loss: 0.1662 - val_mean_absolute_error: 0.2680\n",
      "Epoch 2/20\n",
      "368/368 [==============================] - 1s 3ms/step - loss: 0.1887 - mean_absolute_error: 0.2937 - val_loss: 0.1650 - val_mean_absolute_error: 0.2709\n",
      "Epoch 3/20\n",
      "368/368 [==============================] - 1s 3ms/step - loss: 0.1883 - mean_absolute_error: 0.2935 - val_loss: 0.1660 - val_mean_absolute_error: 0.2684\n",
      "Epoch 4/20\n",
      "368/368 [==============================] - 1s 3ms/step - loss: 0.1878 - mean_absolute_error: 0.2932 - val_loss: 0.1632 - val_mean_absolute_error: 0.2684\n",
      "Epoch 5/20\n",
      "368/368 [==============================] - 1s 3ms/step - loss: 0.1878 - mean_absolute_error: 0.2930 - val_loss: 0.1628 - val_mean_absolute_error: 0.2666\n",
      "Epoch 6/20\n",
      "368/368 [==============================] - 1s 3ms/step - loss: 0.1874 - mean_absolute_error: 0.2931 - val_loss: 0.1627 - val_mean_absolute_error: 0.2683\n",
      "Epoch 7/20\n",
      "368/368 [==============================] - 1s 3ms/step - loss: 0.1871 - mean_absolute_error: 0.2935 - val_loss: 0.1638 - val_mean_absolute_error: 0.2675\n",
      "Epoch 8/20\n",
      "368/368 [==============================] - 1s 3ms/step - loss: 0.1877 - mean_absolute_error: 0.2929 - val_loss: 0.1631 - val_mean_absolute_error: 0.2674\n",
      "***TRAIN***:\n",
      "correlation related to cluster centre: 0.90\n",
      "r2 score related to cluster centre: 0.82\n",
      "***VALIDATION***:\n",
      "correlation related to cluster centre: 0.91\n",
      "r2 score related to cluster centre: 0.83\n",
      "***TEST***:\n",
      "correlation related to cluster centre: 0.89\n",
      "r2 score related to cluster centre: 0.79\n"
     ]
    },
    {
     "data": {
      "application/vnd.jupyter.widget-view+json": {
       "model_id": "467af4784ded44309f4fd50d8680adae",
       "version_major": 2,
       "version_minor": 0
      },
      "text/plain": [
       "IntProgress(value=0, max=140)"
      ]
     },
     "metadata": {},
     "output_type": "display_data"
    },
    {
     "name": "stdout",
     "output_type": "stream",
     "text": [
      "INFO:tensorflow:Assets written to: out\\saved-models\\model for cluster 16\\assets\n"
     ]
    },
    {
     "name": "stderr",
     "output_type": "stream",
     "text": [
      "INFO:tensorflow:Assets written to: out\\saved-models\\model for cluster 16\\assets\n"
     ]
    },
    {
     "name": "stdout",
     "output_type": "stream",
     "text": [
      "***VALIDATION***:\n",
      "average correlation val: 0.92\n",
      "average r2 val: 0.81\n",
      "***TEST***:\n",
      "average correlation test: 0.89\n",
      "average r2 test: 0.70\n",
      "---do_investigations. cluster index : 17---\n"
     ]
    },
    {
     "data": {
      "application/vnd.jupyter.widget-view+json": {
       "model_id": "2185d75b5c2f43b68e363fae015a7872",
       "version_major": 2,
       "version_minor": 0
      },
      "text/plain": [
       "IntProgress(value=0, max=436)"
      ]
     },
     "metadata": {},
     "output_type": "display_data"
    },
    {
     "name": "stdout",
     "output_type": "stream",
     "text": [
      "Epoch 1/20\n",
      "368/368 [==============================] - 2s 3ms/step - loss: 0.0999 - mean_absolute_error: 0.1645 - val_loss: 0.0417 - val_mean_absolute_error: 0.0800\n",
      "Epoch 2/20\n",
      "368/368 [==============================] - 1s 3ms/step - loss: 0.0195 - mean_absolute_error: 0.0754 - val_loss: 0.0330 - val_mean_absolute_error: 0.0859\n",
      "Epoch 3/20\n",
      "368/368 [==============================] - 1s 3ms/step - loss: 0.0183 - mean_absolute_error: 0.0747 - val_loss: 0.0307 - val_mean_absolute_error: 0.0719\n",
      "Epoch 4/20\n",
      "368/368 [==============================] - 1s 3ms/step - loss: 0.0177 - mean_absolute_error: 0.0723 - val_loss: 0.0292 - val_mean_absolute_error: 0.0741\n",
      "Epoch 5/20\n",
      "368/368 [==============================] - 1s 3ms/step - loss: 0.0179 - mean_absolute_error: 0.0736 - val_loss: 0.0283 - val_mean_absolute_error: 0.0688\n",
      "Epoch 6/20\n",
      "368/368 [==============================] - 1s 3ms/step - loss: 0.0175 - mean_absolute_error: 0.0728 - val_loss: 0.0282 - val_mean_absolute_error: 0.0651\n",
      "Epoch 7/20\n",
      "368/368 [==============================] - 1s 3ms/step - loss: 0.0175 - mean_absolute_error: 0.0743 - val_loss: 0.0279 - val_mean_absolute_error: 0.0657\n",
      "Epoch 8/20\n",
      "368/368 [==============================] - 1s 3ms/step - loss: 0.0176 - mean_absolute_error: 0.0736 - val_loss: 0.0287 - val_mean_absolute_error: 0.0779\n",
      "Epoch 9/20\n",
      "368/368 [==============================] - 1s 3ms/step - loss: 0.0177 - mean_absolute_error: 0.0748 - val_loss: 0.0290 - val_mean_absolute_error: 0.0808\n",
      "***TRAIN***:\n",
      "correlation related to cluster centre: 0.99\n",
      "r2 score related to cluster centre: 0.98\n",
      "***VALIDATION***:\n",
      "correlation related to cluster centre: 0.97\n",
      "r2 score related to cluster centre: 0.93\n",
      "***TEST***:\n",
      "correlation related to cluster centre: 0.97\n",
      "r2 score related to cluster centre: 0.93\n"
     ]
    },
    {
     "data": {
      "application/vnd.jupyter.widget-view+json": {
       "model_id": "b8d3008b9ea549919ccf598abd5e2e92",
       "version_major": 2,
       "version_minor": 0
      },
      "text/plain": [
       "IntProgress(value=0, max=436)"
      ]
     },
     "metadata": {},
     "output_type": "display_data"
    },
    {
     "name": "stdout",
     "output_type": "stream",
     "text": [
      "INFO:tensorflow:Assets written to: out\\saved-models\\model for cluster 17\\assets\n"
     ]
    },
    {
     "name": "stderr",
     "output_type": "stream",
     "text": [
      "INFO:tensorflow:Assets written to: out\\saved-models\\model for cluster 17\\assets\n"
     ]
    },
    {
     "name": "stdout",
     "output_type": "stream",
     "text": [
      "***VALIDATION***:\n",
      "average correlation val: 0.89\n",
      "average r2 val: 0.79\n",
      "***TEST***:\n",
      "average correlation test: 0.86\n",
      "average r2 test: 0.72\n",
      "---do_investigations. cluster index : 18---\n"
     ]
    },
    {
     "data": {
      "application/vnd.jupyter.widget-view+json": {
       "model_id": "ab78ad93be1d4994b320f8dc40752189",
       "version_major": 2,
       "version_minor": 0
      },
      "text/plain": [
       "IntProgress(value=0, max=264)"
      ]
     },
     "metadata": {},
     "output_type": "display_data"
    },
    {
     "name": "stdout",
     "output_type": "stream",
     "text": [
      "Epoch 1/20\n",
      "368/368 [==============================] - 2s 3ms/step - loss: 0.2031 - mean_absolute_error: 0.2926 - val_loss: 0.1402 - val_mean_absolute_error: 0.2392\n",
      "Epoch 2/20\n",
      "368/368 [==============================] - 1s 3ms/step - loss: 0.1668 - mean_absolute_error: 0.2627 - val_loss: 0.1396 - val_mean_absolute_error: 0.2320\n",
      "Epoch 3/20\n",
      "368/368 [==============================] - 1s 3ms/step - loss: 0.1657 - mean_absolute_error: 0.2619 - val_loss: 0.1389 - val_mean_absolute_error: 0.2308\n",
      "Epoch 4/20\n",
      "368/368 [==============================] - 1s 3ms/step - loss: 0.1655 - mean_absolute_error: 0.2619 - val_loss: 0.1378 - val_mean_absolute_error: 0.2334\n",
      "Epoch 5/20\n",
      "368/368 [==============================] - 1s 3ms/step - loss: 0.1653 - mean_absolute_error: 0.2619 - val_loss: 0.1382 - val_mean_absolute_error: 0.2380\n",
      "Epoch 6/20\n",
      "368/368 [==============================] - 1s 3ms/step - loss: 0.1651 - mean_absolute_error: 0.2608 - val_loss: 0.1381 - val_mean_absolute_error: 0.2363\n",
      "***TRAIN***:\n",
      "correlation related to cluster centre: 0.92\n",
      "r2 score related to cluster centre: 0.84\n",
      "***VALIDATION***:\n",
      "correlation related to cluster centre: 0.92\n",
      "r2 score related to cluster centre: 0.85\n",
      "***TEST***:\n",
      "correlation related to cluster centre: 0.89\n",
      "r2 score related to cluster centre: 0.79\n"
     ]
    },
    {
     "data": {
      "application/vnd.jupyter.widget-view+json": {
       "model_id": "e323672e892842fe9e596c908449539c",
       "version_major": 2,
       "version_minor": 0
      },
      "text/plain": [
       "IntProgress(value=0, max=264)"
      ]
     },
     "metadata": {},
     "output_type": "display_data"
    },
    {
     "name": "stdout",
     "output_type": "stream",
     "text": [
      "INFO:tensorflow:Assets written to: out\\saved-models\\model for cluster 18\\assets\n"
     ]
    },
    {
     "name": "stderr",
     "output_type": "stream",
     "text": [
      "INFO:tensorflow:Assets written to: out\\saved-models\\model for cluster 18\\assets\n"
     ]
    },
    {
     "name": "stdout",
     "output_type": "stream",
     "text": [
      "***VALIDATION***:\n",
      "average correlation val: 0.90\n",
      "average r2 val: 0.79\n",
      "***TEST***:\n",
      "average correlation test: 0.87\n",
      "average r2 test: 0.74\n",
      "---do_investigations. cluster index : 19---\n"
     ]
    },
    {
     "data": {
      "application/vnd.jupyter.widget-view+json": {
       "model_id": "c9b4e14863494bbf9415e501c5f1c75d",
       "version_major": 2,
       "version_minor": 0
      },
      "text/plain": [
       "IntProgress(value=0, max=197)"
      ]
     },
     "metadata": {},
     "output_type": "display_data"
    },
    {
     "name": "stdout",
     "output_type": "stream",
     "text": [
      "Epoch 1/20\n",
      "368/368 [==============================] - 2s 3ms/step - loss: 0.2543 - mean_absolute_error: 0.3383 - val_loss: 0.1736 - val_mean_absolute_error: 0.2766\n",
      "Epoch 2/20\n",
      "368/368 [==============================] - 1s 3ms/step - loss: 0.1870 - mean_absolute_error: 0.2963 - val_loss: 0.1739 - val_mean_absolute_error: 0.2924\n",
      "Epoch 3/20\n",
      "368/368 [==============================] - 1s 3ms/step - loss: 0.1874 - mean_absolute_error: 0.2978 - val_loss: 0.1736 - val_mean_absolute_error: 0.2884\n",
      "***TRAIN***:\n",
      "correlation related to cluster centre: 0.90\n",
      "r2 score related to cluster centre: 0.81\n",
      "***VALIDATION***:\n",
      "correlation related to cluster centre: 0.91\n",
      "r2 score related to cluster centre: 0.83\n",
      "***TEST***:\n",
      "correlation related to cluster centre: 0.88\n",
      "r2 score related to cluster centre: 0.77\n"
     ]
    },
    {
     "data": {
      "application/vnd.jupyter.widget-view+json": {
       "model_id": "eec690fa1a534ef496863f459702050d",
       "version_major": 2,
       "version_minor": 0
      },
      "text/plain": [
       "IntProgress(value=0, max=197)"
      ]
     },
     "metadata": {},
     "output_type": "display_data"
    },
    {
     "name": "stdout",
     "output_type": "stream",
     "text": [
      "INFO:tensorflow:Assets written to: out\\saved-models\\model for cluster 19\\assets\n"
     ]
    },
    {
     "name": "stderr",
     "output_type": "stream",
     "text": [
      "INFO:tensorflow:Assets written to: out\\saved-models\\model for cluster 19\\assets\n"
     ]
    },
    {
     "name": "stdout",
     "output_type": "stream",
     "text": [
      "***VALIDATION***:\n",
      "average correlation val: 0.91\n",
      "average r2 val: 0.79\n",
      "***TEST***:\n",
      "average correlation test: 0.89\n",
      "average r2 test: 0.73\n",
      "---do_investigations. cluster index : 20---\n"
     ]
    },
    {
     "data": {
      "application/vnd.jupyter.widget-view+json": {
       "model_id": "e54dd8c10fe647749681323f3753f680",
       "version_major": 2,
       "version_minor": 0
      },
      "text/plain": [
       "IntProgress(value=0, max=1412)"
      ]
     },
     "metadata": {},
     "output_type": "display_data"
    },
    {
     "name": "stdout",
     "output_type": "stream",
     "text": [
      "Epoch 1/20\n",
      "368/368 [==============================] - 2s 3ms/step - loss: 0.1871 - mean_absolute_error: 0.2385 - val_loss: 0.0800 - val_mean_absolute_error: 0.1492\n",
      "Epoch 2/20\n",
      "368/368 [==============================] - 1s 3ms/step - loss: 0.0620 - mean_absolute_error: 0.1512 - val_loss: 0.0754 - val_mean_absolute_error: 0.1458\n",
      "Epoch 3/20\n",
      "368/368 [==============================] - 1s 3ms/step - loss: 0.0617 - mean_absolute_error: 0.1504 - val_loss: 0.0741 - val_mean_absolute_error: 0.1435\n",
      "Epoch 4/20\n",
      "368/368 [==============================] - 1s 3ms/step - loss: 0.0606 - mean_absolute_error: 0.1495 - val_loss: 0.0770 - val_mean_absolute_error: 0.1520\n",
      "Epoch 5/20\n",
      "368/368 [==============================] - 1s 3ms/step - loss: 0.0607 - mean_absolute_error: 0.1501 - val_loss: 0.0731 - val_mean_absolute_error: 0.1401\n",
      "Epoch 6/20\n",
      "368/368 [==============================] - 1s 3ms/step - loss: 0.0604 - mean_absolute_error: 0.1480 - val_loss: 0.0745 - val_mean_absolute_error: 0.1456\n",
      "Epoch 7/20\n",
      "368/368 [==============================] - 1s 3ms/step - loss: 0.0604 - mean_absolute_error: 0.1495 - val_loss: 0.0767 - val_mean_absolute_error: 0.1501\n",
      "***TRAIN***:\n",
      "correlation related to cluster centre: 0.97\n",
      "r2 score related to cluster centre: 0.94\n",
      "***VALIDATION***:\n",
      "correlation related to cluster centre: 0.93\n",
      "r2 score related to cluster centre: 0.86\n",
      "***TEST***:\n",
      "correlation related to cluster centre: 0.94\n",
      "r2 score related to cluster centre: 0.87\n"
     ]
    },
    {
     "data": {
      "application/vnd.jupyter.widget-view+json": {
       "model_id": "f83eb4952b0a44afaaa3df84a707025e",
       "version_major": 2,
       "version_minor": 0
      },
      "text/plain": [
       "IntProgress(value=0, max=1412)"
      ]
     },
     "metadata": {},
     "output_type": "display_data"
    },
    {
     "name": "stdout",
     "output_type": "stream",
     "text": [
      "INFO:tensorflow:Assets written to: out\\saved-models\\model for cluster 20\\assets\n"
     ]
    },
    {
     "name": "stderr",
     "output_type": "stream",
     "text": [
      "INFO:tensorflow:Assets written to: out\\saved-models\\model for cluster 20\\assets\n"
     ]
    },
    {
     "name": "stdout",
     "output_type": "stream",
     "text": [
      "***VALIDATION***:\n",
      "average correlation val: nan\n",
      "average r2 val: -241252313002295628348260352.00\n",
      "***TEST***:\n",
      "average correlation test: nan\n",
      "average r2 test: -883811259034118683562606592.00\n",
      "---do_investigations. cluster index : 21---\n"
     ]
    },
    {
     "data": {
      "application/vnd.jupyter.widget-view+json": {
       "model_id": "3ec4a7dd1e86489fbd61ee9baff203d8",
       "version_major": 2,
       "version_minor": 0
      },
      "text/plain": [
       "IntProgress(value=0, max=167)"
      ]
     },
     "metadata": {},
     "output_type": "display_data"
    },
    {
     "name": "stdout",
     "output_type": "stream",
     "text": [
      "Epoch 1/20\n",
      "368/368 [==============================] - 2s 3ms/step - loss: 0.3142 - mean_absolute_error: 0.3324 - val_loss: 0.2774 - val_mean_absolute_error: 0.2838\n",
      "Epoch 2/20\n",
      "368/368 [==============================] - 1s 3ms/step - loss: 0.2097 - mean_absolute_error: 0.2713 - val_loss: 0.2648 - val_mean_absolute_error: 0.2845\n",
      "Epoch 3/20\n",
      "368/368 [==============================] - 1s 3ms/step - loss: 0.2094 - mean_absolute_error: 0.2710 - val_loss: 0.2842 - val_mean_absolute_error: 0.2990\n",
      "Epoch 4/20\n",
      "368/368 [==============================] - 1s 3ms/step - loss: 0.2097 - mean_absolute_error: 0.2700 - val_loss: 0.3176 - val_mean_absolute_error: 0.3180\n",
      "***TRAIN***:\n",
      "correlation related to cluster centre: 0.89\n",
      "r2 score related to cluster centre: 0.77\n",
      "***VALIDATION***:\n",
      "correlation related to cluster centre: 0.90\n",
      "r2 score related to cluster centre: 0.77\n",
      "***TEST***:\n",
      "correlation related to cluster centre: 0.88\n",
      "r2 score related to cluster centre: 0.76\n"
     ]
    },
    {
     "data": {
      "application/vnd.jupyter.widget-view+json": {
       "model_id": "678f4712f92c498ebed087a079a4dbd2",
       "version_major": 2,
       "version_minor": 0
      },
      "text/plain": [
       "IntProgress(value=0, max=167)"
      ]
     },
     "metadata": {},
     "output_type": "display_data"
    },
    {
     "name": "stdout",
     "output_type": "stream",
     "text": [
      "INFO:tensorflow:Assets written to: out\\saved-models\\model for cluster 21\\assets\n"
     ]
    },
    {
     "name": "stderr",
     "output_type": "stream",
     "text": [
      "INFO:tensorflow:Assets written to: out\\saved-models\\model for cluster 21\\assets\n"
     ]
    },
    {
     "name": "stdout",
     "output_type": "stream",
     "text": [
      "***VALIDATION***:\n",
      "average correlation val: 0.90\n",
      "average r2 val: 0.76\n",
      "***TEST***:\n",
      "average correlation test: 0.88\n",
      "average r2 test: 0.75\n",
      "weighted_average_correlation_val: 0.90\n",
      "weighted_average_r2_score_val: 0.79\n",
      "weighted_average_correlation_test: 0.88\n",
      "weighted_average_r2_score_test: 0.75\n",
      "bad clusters rate: 0.50\n",
      "bad cluster indices: [12, 20]\n",
      "------------------------------------------------------\n"
     ]
    }
   ],
   "source": [
    "first_path = r\"C:\\Coding\\final-qualifying-work_2023-2024\\ClusteringCpp\\output\\kmeans 5 0.1 20.txt\"\n",
    "second_path = r\"C:\\Coding\\final-qualifying-work_2023-2024\\ClusteringCpp\\output\\kmeans 15 0.1 20.txt\"\n",
    "third_path = r\"C:\\Coding\\final-qualifying-work_2023-2024\\ClusteringCpp\\output\\kmeans 30 0.1 20.txt\"\n",
    "fourth_path = r\"C:\\Coding\\final-qualifying-work_2023-2024\\ClusteringCpp\\output\\kmeans 60 0.1 20.txt\"\n",
    "\n",
    "output_file = open(\"best-model.txt\", \"w\")\n",
    "\n",
    "selected_path = fourth_path\n",
    "\n",
    "print('------------------------------------------------------')\n",
    "output_file.write('------------------------------------------------------\\n')\n",
    "\n",
    "print(f\"msd {os.path.split(selected_path)[-1]}\")\n",
    "output_file.write(f\"msd {os.path.split(selected_path)[-1]}\\n\")\n",
    "show_results(multi_step_dense_model, get_clusters(selected_path), CONV_WIDTH)\n",
    "\n",
    "print('------------------------------------------------------')\n",
    "output_file.write('------------------------------------------------------\\n')\n",
    "\n",
    "output_file.close()"
   ]
  }
 ],
 "metadata": {
  "kernelspec": {
   "display_name": "Python 3 (ipykernel)",
   "language": "python",
   "name": "python3"
  },
  "language_info": {
   "codemirror_mode": {
    "name": "ipython",
    "version": 3
   },
   "file_extension": ".py",
   "mimetype": "text/x-python",
   "name": "python",
   "nbconvert_exporter": "python",
   "pygments_lexer": "ipython3",
   "version": "3.11.7"
  }
 },
 "nbformat": 4,
 "nbformat_minor": 5
}
