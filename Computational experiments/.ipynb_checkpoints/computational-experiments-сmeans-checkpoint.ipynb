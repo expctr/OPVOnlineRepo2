{
 "cells": [
  {
   "cell_type": "code",
   "execution_count": 1,
   "id": "5c496ac8-c639-4c8c-b976-f1f8ce168874",
   "metadata": {},
   "outputs": [
    {
     "name": "stderr",
     "output_type": "stream",
     "text": [
      "C:\\Users\\iasha\\AppData\\Local\\Temp\\ipykernel_5436\\424092037.py:11: DeprecationWarning: \n",
      "Pyarrow will become a required dependency of pandas in the next major release of pandas (pandas 3.0),\n",
      "(to allow more performant data types, such as the Arrow string type, and better interoperability with other libraries)\n",
      "but was not found to be installed on your system.\n",
      "If this would cause problems for you,\n",
      "please provide us feedback at https://github.com/pandas-dev/pandas/issues/54466\n",
      "        \n",
      "  import pandas as pd\n"
     ]
    },
    {
     "name": "stdout",
     "output_type": "stream",
     "text": [
      "WARNING:tensorflow:From C:\\python\\python311\\Lib\\site-packages\\keras\\src\\losses.py:2976: The name tf.losses.sparse_softmax_cross_entropy is deprecated. Please use tf.compat.v1.losses.sparse_softmax_cross_entropy instead.\n",
      "\n"
     ]
    }
   ],
   "source": [
    "import os\n",
    "import datetime\n",
    "import time\n",
    "\n",
    "import IPython\n",
    "import IPython.display\n",
    "from ipywidgets import IntProgress\n",
    "import matplotlib as mpl\n",
    "import matplotlib.pyplot as plt\n",
    "import numpy as np\n",
    "import pandas as pd\n",
    "import seaborn as sns\n",
    "import tensorflow as tf\n",
    "from tensorflow import keras\n",
    "\n",
    "from sklearn.metrics import r2_score\n",
    "import math\n",
    "\n",
    "mpl.rcParams['figure.figsize'] = (8, 6)\n",
    "mpl.rcParams['axes.grid'] = False"
   ]
  },
  {
   "cell_type": "code",
   "execution_count": 2,
   "id": "bc1317b0-357d-40b7-a89d-e429d7ac48b8",
   "metadata": {},
   "outputs": [],
   "source": [
    "import warnings\n",
    "warnings.filterwarnings('ignore')"
   ]
  },
  {
   "cell_type": "code",
   "execution_count": 3,
   "id": "742088f3-4104-4d45-badc-c8a3c3a343ce",
   "metadata": {},
   "outputs": [],
   "source": [
    "def convert_line_to_list(line: str):\n",
    "    split_line = line.split(' ')\n",
    "    result_list = []\n",
    "\n",
    "    for current in split_line:\n",
    "        if current == '\\n':\n",
    "            continue\n",
    "            \n",
    "        result_list.append(int(current))\n",
    "\n",
    "    return result_list"
   ]
  },
  {
   "cell_type": "code",
   "execution_count": 4,
   "id": "83a2dd6c-76e1-4a80-99c2-84151541c387",
   "metadata": {},
   "outputs": [],
   "source": [
    "def get_mlt(clustering_unit_index):\n",
    "    return clustering_unit_index // 80 * 0.25\n",
    "\n",
    "def get_magneticLat(clustering_unit_index):\n",
    "    return clustering_unit_index % 80 * 0.5 + 50"
   ]
  },
  {
   "cell_type": "code",
   "execution_count": 5,
   "id": "089333f6-d844-463c-a7d2-9e77bde24183",
   "metadata": {},
   "outputs": [],
   "source": [
    "def cluster_unit_index_to_file_path(clustering_unit_index):\n",
    "    mlt = get_mlt(clustering_unit_index)\n",
    "    magnetic_lat = get_magneticLat(clustering_unit_index)\n",
    "    \n",
    "    return f\"C:\\\\Coding\\\\final-qualifying-work_2023-2024\\\\OvationPrimeDataCollector\\\\north-nowcast-diffuse\\\\{mlt:.2f}_{magnetic_lat:.1f}.csv\""
   ]
  },
  {
   "cell_type": "code",
   "execution_count": 6,
   "id": "6ad54871-4fe2-4df3-9f9e-62438de26146",
   "metadata": {},
   "outputs": [],
   "source": [
    "def get_cluster_centre(cluster):\n",
    "    cluster_centre = pd.read_csv(cluster_unit_index_to_file_path(cluster[0]), sep=';', low_memory=False)\n",
    "\n",
    "    f = IntProgress(min=0, max=len(cluster))\n",
    "    display(f)\n",
    "    i = 0\n",
    "    for clustering_unit_index in cluster:\n",
    "        # if i % 100 == 0:\n",
    "        #     f.value += 100\n",
    "        f.value += 1\n",
    "        if i == 0:\n",
    "            i += 1\n",
    "            continue\n",
    "        current_df = pd.read_csv(cluster_unit_index_to_file_path(clustering_unit_index), sep=';', low_memory=False)\n",
    "        cluster_centre['y'] += current_df['y']\n",
    "        i += 1\n",
    "\n",
    "    cluster_centre['y'] = cluster_centre['y'].divide(len(cluster))\n",
    "    return cluster_centre"
   ]
  },
  {
   "cell_type": "code",
   "execution_count": 7,
   "id": "b50eb510-5229-43a4-849c-3198776f5d03",
   "metadata": {},
   "outputs": [],
   "source": [
    "class WindowGenerator():\n",
    "  def __init__(self, input_width, label_width, shift,\n",
    "               train_df, val_df, test_df,\n",
    "               label_columns=None):\n",
    "    # Store the raw data.\n",
    "    self.train_df = train_df\n",
    "    self.val_df = val_df\n",
    "    self.test_df = test_df\n",
    "\n",
    "    # Work out the label column indices.\n",
    "    self.label_columns = label_columns\n",
    "    if label_columns is not None:\n",
    "      self.label_columns_indices = {name: i for i, name in\n",
    "                                    enumerate(label_columns)}\n",
    "    self.column_indices = {name: i for i, name in\n",
    "                           enumerate(train_df.columns)}\n",
    "\n",
    "    # Work out the window parameters.\n",
    "    self.input_width = input_width\n",
    "    self.label_width = label_width\n",
    "    self.shift = shift\n",
    "\n",
    "    self.total_window_size = input_width + shift\n",
    "\n",
    "    self.input_slice = slice(0, input_width)\n",
    "    self.input_indices = np.arange(self.total_window_size)[self.input_slice]\n",
    "\n",
    "    self.label_start = self.total_window_size - self.label_width\n",
    "    self.labels_slice = slice(self.label_start, None)\n",
    "    self.label_indices = np.arange(self.total_window_size)[self.labels_slice]\n",
    "\n",
    "  def __repr__(self):\n",
    "    return '\\n'.join([\n",
    "        f'Total window size: {self.total_window_size}',\n",
    "        f'Input indices: {self.input_indices}',\n",
    "        f'Label indices: {self.label_indices}',\n",
    "        f'Label column name(s): {self.label_columns}'])"
   ]
  },
  {
   "cell_type": "code",
   "execution_count": 8,
   "id": "958236c6-c012-45dd-b624-c41bb3beba93",
   "metadata": {},
   "outputs": [],
   "source": [
    "def split_window(self, features):\n",
    "  inputs = features[:, self.input_slice, :]\n",
    "  labels = features[:, self.labels_slice, :]\n",
    "  if self.label_columns is not None:\n",
    "    labels = tf.stack(\n",
    "        [labels[:, :, self.column_indices[name]] for name in self.label_columns],\n",
    "        axis=-1)\n",
    "\n",
    "  # Slicing doesn't preserve static shape information, so set the shapes\n",
    "  # manually. This way the `tf.data.Datasets` are easier to inspect.\n",
    "  inputs.set_shape([None, self.input_width, None])\n",
    "  labels.set_shape([None, self.label_width, None])\n",
    "\n",
    "  return inputs, labels\n",
    "\n",
    "WindowGenerator.split_window = split_window"
   ]
  },
  {
   "cell_type": "code",
   "execution_count": 9,
   "id": "ab174b92-5d20-47bd-8807-5c570866f4aa",
   "metadata": {},
   "outputs": [],
   "source": [
    "def make_dataset(self, data):\n",
    "  data = np.array(data, dtype=np.float32)\n",
    "  ds = tf.keras.utils.timeseries_dataset_from_array(\n",
    "      data=data,\n",
    "      targets=None,\n",
    "      sequence_length=self.total_window_size,\n",
    "      sequence_stride=1,\n",
    "      shuffle=True,\n",
    "      batch_size=32,)\n",
    "\n",
    "  ds = ds.map(self.split_window)\n",
    "\n",
    "  return ds\n",
    "\n",
    "WindowGenerator.make_dataset = make_dataset"
   ]
  },
  {
   "cell_type": "code",
   "execution_count": 10,
   "id": "fc69391d-8896-4743-abf2-342b4d7cc1cb",
   "metadata": {},
   "outputs": [],
   "source": [
    "@property\n",
    "def train(self):\n",
    "  return self.make_dataset(self.train_df)\n",
    "\n",
    "@property\n",
    "def val(self):\n",
    "  return self.make_dataset(self.val_df)\n",
    "\n",
    "@property\n",
    "def test(self):\n",
    "  return self.make_dataset(self.test_df)\n",
    "\n",
    "@property\n",
    "def example(self):\n",
    "  \"\"\"Get and cache an example batch of `inputs, labels` for plotting.\"\"\"\n",
    "  result = getattr(self, '_example', None)\n",
    "  if result is None:\n",
    "    # No example batch was found, so get one from the `.train` dataset\n",
    "    result = next(iter(self.train))\n",
    "    # And cache it for next time\n",
    "    self._example = result\n",
    "  return result\n",
    "\n",
    "WindowGenerator.train = train\n",
    "WindowGenerator.val = val\n",
    "WindowGenerator.test = test\n",
    "WindowGenerator.example = example"
   ]
  },
  {
   "cell_type": "code",
   "execution_count": 11,
   "id": "cec89917-81cd-432f-91d5-da59e269b839",
   "metadata": {},
   "outputs": [],
   "source": [
    "MAX_EPOCHS = 20\n",
    "\n",
    "def compile_and_fit(model, window, patience=2):\n",
    "  early_stopping = tf.keras.callbacks.EarlyStopping(monitor='val_loss',\n",
    "                                                    patience=patience,\n",
    "                                                    mode='min')\n",
    "    \n",
    "  model.compile(loss=tf.losses.MeanSquaredError(),\n",
    "                optimizer=tf.optimizers.Adam(),\n",
    "                metrics=[tf.metrics.MeanAbsoluteError()])\n",
    "\n",
    "  history = model.fit(window.train, epochs=MAX_EPOCHS,\n",
    "                      validation_data=window.val,\n",
    "                      callbacks=[early_stopping])\n",
    "  return history"
   ]
  },
  {
   "cell_type": "code",
   "execution_count": 12,
   "id": "49a0d13a-d100-4a85-ad2f-72775c79b05c",
   "metadata": {},
   "outputs": [],
   "source": [
    "def investigate(cluster_index, model, conv_width, clusters, save_data):\n",
    "    cluster_centre = get_cluster_centre(clusters[cluster_index])\n",
    "    cluster_centre = cluster_centre.drop(['date'], axis=1)\n",
    "    cluster_centre = cluster_centre.drop(['segment'], axis=1)\n",
    "    \n",
    "    n = len(cluster_centre)\n",
    "    train_df = cluster_centre[0:int(n*0.7)]\n",
    "    val_df = cluster_centre[int(n*0.7):int(n*0.9)]\n",
    "    test_df = cluster_centre[int(n*0.9):]\n",
    "\n",
    "    train_mean = train_df.mean()\n",
    "    train_std = train_df.std()\n",
    "\n",
    "    train_df = (train_df - train_mean) / train_std\n",
    "    val_df = (val_df - train_mean) / train_std\n",
    "    test_df = (test_df - train_mean) / train_std\n",
    "    \n",
    "    conv_window = WindowGenerator(\n",
    "    input_width=conv_width,\n",
    "    label_width=1,\n",
    "    shift=1,\n",
    "    train_df=train_df,\n",
    "    val_df=val_df,\n",
    "    test_df=test_df,\n",
    "    label_columns=['y']\n",
    "    )\n",
    "\n",
    "    model = keras.models.Sequential.from_config(model.get_config())\n",
    "    \n",
    "    history = compile_and_fit(model, conv_window)\n",
    "\n",
    "    inputs, labels = conv_window.example\n",
    "\n",
    "    val_df_numpy = val_df.to_numpy()\n",
    "    train_df_numpy = train_df.to_numpy()\n",
    "    new_true_values_val = []\n",
    "    new_true_values_train = []\n",
    "    new_input_val = []\n",
    "    new_input_train = []\n",
    "\n",
    "    new_true_values_val = val_df_numpy[3:].flatten()\n",
    "    new_input_val = np.column_stack([val_df_numpy[0:-3], val_df_numpy[1:-2], val_df_numpy[2:-1]])\n",
    "\n",
    "    new_true_values_train = train_df_numpy[3:].flatten()\n",
    "    new_input_train = np.column_stack([train_df_numpy[0:-3], train_df_numpy[1:-2], train_df_numpy[2:-1]])\n",
    "        \n",
    "    val_predictions = model(np.array(new_input_val)).numpy()\n",
    "    train_predictions = model(np.array(new_input_train)).numpy()\n",
    "    \n",
    "    new_val_predictions = val_predictions.flatten()\n",
    "    new_train_predictions = train_predictions.flatten()\n",
    "    \n",
    "    new_true_values_val = (new_true_values_val * train_std['y']) + train_mean['y']\n",
    "    new_val_predictions = (new_val_predictions * train_std['y']) + train_mean['y']\n",
    "\n",
    "    new_true_values_train = (new_true_values_train * train_std['y']) + train_mean['y']\n",
    "    new_train_predictions = (new_train_predictions * train_std['y']) + train_mean['y']\n",
    "\n",
    "    print(\"***TRAIN***:\")\n",
    "    output_file.write(\"***TRAIN***:\\n\")\n",
    "    print(f\"correlation related to cluster centre: {np.corrcoef(new_true_values_train, new_train_predictions)[0][1]:.2f}\")\n",
    "    output_file.write(f\"correlation related to cluster centre: {np.corrcoef(new_true_values_train, new_train_predictions)[0][1]:.2f}\\n\")\n",
    "    print(f\"r2 score related to cluster centre: {r2_score(new_true_values_train, new_train_predictions):.2f}\")\n",
    "    output_file.write(f\"r2 score related to cluster centre: {r2_score(new_true_values_train, new_train_predictions):.2f}\\n\")\n",
    "    print(\"***VALIDATION***:\")\n",
    "    output_file.write(\"***VALIDATION***:\\n\")\n",
    "    print(f\"correlation related to cluster centre: {np.corrcoef(new_true_values_val, new_val_predictions)[0][1]:.2f}\")\n",
    "    output_file.write(f\"correlation related to cluster centre: {np.corrcoef(new_true_values_val, new_val_predictions)[0][1]:.2f}\\n\")\n",
    "    print(f\"r2 score related to cluster centre: {r2_score(new_true_values_val, new_val_predictions):.2f}\")\n",
    "    output_file.write(f\"r2 score related to cluster centre: {r2_score(new_true_values_val, new_val_predictions):.2f}\\n\")\n",
    "\n",
    "    sum_correlation_val = 0\n",
    "    sum_r2_val = 0\n",
    "\n",
    "    f = IntProgress(min=0, max=len(clusters[cluster_index]))\n",
    "    display(f)\n",
    "\n",
    "    i = 0\n",
    "    for clustering_unit_index in clusters[cluster_index]:\n",
    "        if (i % 100 == 0):\n",
    "            f.value += 100\n",
    "        \n",
    "        current_df = pd.read_csv(cluster_unit_index_to_file_path(clustering_unit_index), sep=';', low_memory=False)\n",
    "        current_df = current_df.drop(['date'], axis=1)\n",
    "        current_df = current_df.drop(['segment'], axis=1)\n",
    "\n",
    "        n = len(current_df)\n",
    "        current_train_df = current_df[0:int(n*0.7)]\n",
    "        current_val_df = current_df[int(n*0.7):int(n*0.9)]\n",
    "        current_test_df = current_df[int(n*0.9):]\n",
    "\n",
    "        current_train_df = (current_train_df - train_mean) / train_std\n",
    "        current_val_df = (current_val_df - train_mean) / train_std\n",
    "        current_test_df = (current_test_df - train_mean) / train_std\n",
    "\n",
    "        current_val_df_numpy = current_val_df.to_numpy()\n",
    "        current_new_true_values_val = current_val_df_numpy[3:].flatten()\n",
    "        current_new_input_val = np.column_stack([current_val_df_numpy[0:-3], current_val_df_numpy[1:-2], current_val_df_numpy[2:-1]])\n",
    "\n",
    "        current_val_predictions = model(np.array(current_new_input_val)).numpy()\n",
    "        current_new_val_predictions = current_val_predictions.flatten()\n",
    "\n",
    "        current_new_true_values_val = (current_new_true_values_val * train_std['y']) + train_mean['y']\n",
    "        current_new_val_predictions = (current_new_val_predictions * train_std['y']) + train_mean['y']\n",
    "            \n",
    "        sum_correlation_val += np.corrcoef(current_new_true_values_val, current_new_val_predictions)[0][1]\n",
    "        sum_r2_val += r2_score(current_new_true_values_val, current_new_val_predictions)\n",
    "\n",
    "        i += 1\n",
    "\n",
    "    if (save_data):\n",
    "        f = open(f\"train mean and std for cluster {cluster_index}.txt\", \"w\")\n",
    "        f.write(str(train_mean.mean()) + ' ' + str(train_std.mean()))\n",
    "        f.close()\n",
    "        model.save(f\"model for cluster {cluster_index}\")\n",
    "\n",
    "    cluster_len = len(clusters[cluster_index])\n",
    "    \n",
    "    return sum_correlation_val / cluster_len, sum_r2_val / cluster_len,"
   ]
  },
  {
   "cell_type": "code",
   "execution_count": 13,
   "id": "5ad4b77a-3091-45a8-a871-5977a48e687f",
   "metadata": {},
   "outputs": [],
   "source": [
    "def do_investigations(model, clusters, conv_width):\n",
    "    cluster_sizes = []\n",
    "    correlations = []\n",
    "    r2_scores = []\n",
    "\n",
    "    for i in range(len(clusters)):\n",
    "        print(f\"---do_investigations. cluster index : {i}---\")\n",
    "        output_file.write(f\"---do_investigations. cluster index : {i}---\\n\")\n",
    "        average_correlation, average_r2 = investigate(i, model, conv_width, clusters, False)\n",
    "        \n",
    "        print(\"***VALIDATION***:\")\n",
    "        output_file.write(\"***VALIDATION***:\\n\")\n",
    "        print(f\"average correlation: {average_correlation:.2f}\")\n",
    "        output_file.write(f\"average correlation: {average_correlation:.2f}\\n\")\n",
    "        print(f\"average r2: {average_r2:.2f}\")\n",
    "        output_file.write(f\"average r2: {average_r2:.2f}\\n\")\n",
    "\n",
    "        cluster_sizes.append(len(clusters[i]))\n",
    "        correlations.append(average_correlation)\n",
    "        r2_scores.append(average_r2)\n",
    "\n",
    "    return cluster_sizes, correlations, r2_scores"
   ]
  },
  {
   "cell_type": "code",
   "execution_count": 14,
   "id": "bd5bb17d-f0f0-41f8-a216-1f604354c7ed",
   "metadata": {},
   "outputs": [],
   "source": [
    "def print_metrics(cluster_sizes, correlations, r2_scores, clusters):\n",
    "    total_size = 0\n",
    "    correlation_sum = 0\n",
    "    r2_score_sum = 0\n",
    "    \n",
    "    bad_clusters_indices = []\n",
    "\n",
    "    for i in range(len(cluster_sizes)):\n",
    "        if (math.isnan(correlations[i]) or (r2_scores[i] < 0)):\n",
    "            bad_clusters_indices.append(i)\n",
    "            continue\n",
    "        \n",
    "        correlation_sum += cluster_sizes[i] * correlations[i]\n",
    "        r2_score_sum += cluster_sizes[i] * r2_scores[i]\n",
    "        total_size += cluster_sizes[i]\n",
    "\n",
    "    weighted_average_correlation = correlation_sum / total_size\n",
    "    weighted_average_r2_score = r2_score_sum / total_size\n",
    "\n",
    "    print(f\"weighted_average_correlation: {weighted_average_correlation:.2f}\")\n",
    "    output_file.write(f\"weighted_average_correlation: {weighted_average_correlation:.2f}\\n\")\n",
    "    print(f\"weighted_average_r2_score: {weighted_average_r2_score:.2f}\")\n",
    "    output_file.write(f\"weighted_average_r2_score: {weighted_average_r2_score:.2f}\\n\")\n",
    "\n",
    "    bad_clusters_size_sum = 0\n",
    "    total_clusters_size_sum = 0\n",
    "\n",
    "    for cluster_size in cluster_sizes:\n",
    "        total_clusters_size_sum += cluster_size\n",
    "    \n",
    "    for bad_cluster_index in bad_clusters_indices:\n",
    "        bad_clusters_size_sum += len(clusters[bad_cluster_index])\n",
    "\n",
    "    bad_clusters_rate = bad_clusters_size_sum / total_clusters_size_sum\n",
    "\n",
    "    print(f\"bad clusters rate: {bad_clusters_rate:.2f}%\")\n",
    "    output_file.write(f\"bad clusters rate: {bad_clusters_rate:.2f}%\\n\")"
   ]
  },
  {
   "cell_type": "code",
   "execution_count": 15,
   "id": "5617952d-1bcf-466e-9388-799b85c6bc7e",
   "metadata": {},
   "outputs": [],
   "source": [
    "def show_results(model, clusters, conv_width):\n",
    "    cluster_sizes, correlations, r2_scores = do_investigations(model, clusters, conv_width)\n",
    "    print_metrics(cluster_sizes, correlations, r2_scores, clusters)"
   ]
  },
  {
   "cell_type": "code",
   "execution_count": 16,
   "id": "776882d6-8435-46f0-9c36-eb1c89b0634a",
   "metadata": {},
   "outputs": [],
   "source": [
    "CONV_WIDTH = 3"
   ]
  },
  {
   "cell_type": "code",
   "execution_count": 17,
   "id": "10b769f4-4e06-4d51-bb0b-561f86733e5a",
   "metadata": {
    "scrolled": true
   },
   "outputs": [
    {
     "name": "stdout",
     "output_type": "stream",
     "text": [
      "WARNING:tensorflow:From C:\\python\\python311\\Lib\\site-packages\\keras\\src\\backend.py:873: The name tf.get_default_graph is deprecated. Please use tf.compat.v1.get_default_graph instead.\n",
      "\n"
     ]
    }
   ],
   "source": [
    "multi_step_dense_model = tf.keras.Sequential([\n",
    "    # Shape: (time, features) => (time*features)\n",
    "    tf.keras.layers.Flatten(),\n",
    "    tf.keras.layers.Dense(units=32, activation='relu'),\n",
    "    tf.keras.layers.Dense(units=32, activation='relu'),\n",
    "    tf.keras.layers.Dense(units=1),\n",
    "    # Add back the time dimension.\n",
    "    # Shape: (outputs) => (1, outputs)\n",
    "    tf.keras.layers.Reshape([1, -1]),\n",
    "])"
   ]
  },
  {
   "cell_type": "code",
   "execution_count": 18,
   "id": "6b7e99b0-3f31-4d4a-8398-dd8fce7fc683",
   "metadata": {
    "scrolled": true
   },
   "outputs": [],
   "source": [
    "lstm_model = tf.keras.models.Sequential([\n",
    "    # Shape [batch, time, features] => [batch, time, lstm_units]\n",
    "    tf.keras.layers.Conv1D(filters=32,\n",
    "                           kernel_size=(CONV_WIDTH,),\n",
    "                           activation='relu'),\n",
    "    tf.keras.layers.LSTM(128, return_sequences=True),\n",
    "    # Shape => [batch, time, features]\n",
    "    tf.keras.layers.Dense(units=1)\n",
    "])"
   ]
  },
  {
   "cell_type": "code",
   "execution_count": 19,
   "id": "e33b7ad0-dae9-4997-83ac-db93f7889d3a",
   "metadata": {},
   "outputs": [],
   "source": [
    "rnn_model = tf.keras.models.Sequential([\n",
    "    # Shape [batch, time, features] => [batch, time, lstm_units]\n",
    "    tf.keras.layers.Conv1D(filters=32,\n",
    "                           kernel_size=(CONV_WIDTH,),\n",
    "                           activation='relu'),\n",
    "    tf.keras.layers.SimpleRNN(128, return_sequences=True),\n",
    "    # Shape => [batch, time, features]\n",
    "    tf.keras.layers.Dense(units=1)\n",
    "])"
   ]
  },
  {
   "cell_type": "code",
   "execution_count": 20,
   "id": "5f284891-fcf1-4d84-879b-274cfbbd243e",
   "metadata": {},
   "outputs": [],
   "source": [
    "def get_clusters(path):\n",
    "    file = open(path, 'r')\n",
    "    lines = file.readlines()\n",
    "    file.close()\n",
    "\n",
    "    clusters = []\n",
    "\n",
    "    for line in lines:\n",
    "        if line.strip() == '':\n",
    "            continue\n",
    "        clusters.append(convert_line_to_list(line))\n",
    "\n",
    "    return clusters"
   ]
  },
  {
   "cell_type": "code",
   "execution_count": 21,
   "id": "508ae3e2-8639-4bfa-a687-7b0545369d11",
   "metadata": {},
   "outputs": [
    {
     "name": "stdout",
     "output_type": "stream",
     "text": [
      "------------------------------------------------------\n",
      "msd cmeans 5 0.1 20.txt\n",
      "---do_investigations. cluster index : 0---\n"
     ]
    },
    {
     "data": {
      "application/vnd.jupyter.widget-view+json": {
       "model_id": "4085f32d2f7c4ecbb3098c2a0039cf09",
       "version_major": 2,
       "version_minor": 0
      },
      "text/plain": [
       "IntProgress(value=0, max=313)"
      ]
     },
     "metadata": {},
     "output_type": "display_data"
    },
    {
     "name": "stdout",
     "output_type": "stream",
     "text": [
      "Epoch 1/20\n",
      "WARNING:tensorflow:From C:\\python\\python311\\Lib\\site-packages\\keras\\src\\utils\\tf_utils.py:492: The name tf.ragged.RaggedTensorValue is deprecated. Please use tf.compat.v1.ragged.RaggedTensorValue instead.\n",
      "\n",
      "368/368 [==============================] - 2s 3ms/step - loss: 0.2975 - mean_absolute_error: 0.3792 - val_loss: 0.1557 - val_mean_absolute_error: 0.2682\n",
      "Epoch 2/20\n",
      "368/368 [==============================] - 1s 2ms/step - loss: 0.1982 - mean_absolute_error: 0.3051 - val_loss: 0.1513 - val_mean_absolute_error: 0.2677\n",
      "Epoch 3/20\n",
      "368/368 [==============================] - 1s 2ms/step - loss: 0.1978 - mean_absolute_error: 0.3050 - val_loss: 0.1496 - val_mean_absolute_error: 0.2688\n",
      "Epoch 4/20\n",
      "368/368 [==============================] - 1s 2ms/step - loss: 0.1971 - mean_absolute_error: 0.3039 - val_loss: 0.1502 - val_mean_absolute_error: 0.2671\n",
      "Epoch 5/20\n",
      "368/368 [==============================] - 1s 2ms/step - loss: 0.1958 - mean_absolute_error: 0.3029 - val_loss: 0.1487 - val_mean_absolute_error: 0.2657\n",
      "Epoch 6/20\n",
      "368/368 [==============================] - 1s 2ms/step - loss: 0.1971 - mean_absolute_error: 0.3035 - val_loss: 0.1493 - val_mean_absolute_error: 0.2652\n",
      "Epoch 7/20\n",
      "368/368 [==============================] - 1s 2ms/step - loss: 0.1962 - mean_absolute_error: 0.3030 - val_loss: 0.1489 - val_mean_absolute_error: 0.2730\n",
      "***TRAIN***:\n",
      "correlation related to cluster centre: 0.90\n",
      "r2 score related to cluster centre: 0.81\n",
      "***VALIDATION***:\n",
      "correlation related to cluster centre: 0.91\n",
      "r2 score related to cluster centre: 0.83\n"
     ]
    },
    {
     "data": {
      "application/vnd.jupyter.widget-view+json": {
       "model_id": "92c1d2e2a1164edfa96dbe413f905702",
       "version_major": 2,
       "version_minor": 0
      },
      "text/plain": [
       "IntProgress(value=0, max=313)"
      ]
     },
     "metadata": {},
     "output_type": "display_data"
    },
    {
     "name": "stdout",
     "output_type": "stream",
     "text": [
      "***VALIDATION***:\n",
      "average correlation: 0.91\n",
      "average r2: 0.79\n",
      "---do_investigations. cluster index : 1---\n"
     ]
    },
    {
     "data": {
      "application/vnd.jupyter.widget-view+json": {
       "model_id": "5fdecabef7294529a44a794c8df355ee",
       "version_major": 2,
       "version_minor": 0
      },
      "text/plain": [
       "IntProgress(value=0, max=238)"
      ]
     },
     "metadata": {},
     "output_type": "display_data"
    },
    {
     "name": "stdout",
     "output_type": "stream",
     "text": [
      "Epoch 1/20\n",
      "368/368 [==============================] - 2s 3ms/step - loss: 0.2252 - mean_absolute_error: 0.3262 - val_loss: 0.1698 - val_mean_absolute_error: 0.2815\n",
      "Epoch 2/20\n",
      "368/368 [==============================] - 1s 2ms/step - loss: 0.1788 - mean_absolute_error: 0.2894 - val_loss: 0.1708 - val_mean_absolute_error: 0.2802\n",
      "Epoch 3/20\n",
      "368/368 [==============================] - 1s 2ms/step - loss: 0.1770 - mean_absolute_error: 0.2881 - val_loss: 0.1627 - val_mean_absolute_error: 0.2735\n",
      "Epoch 4/20\n",
      "368/368 [==============================] - 1s 2ms/step - loss: 0.1769 - mean_absolute_error: 0.2877 - val_loss: 0.1640 - val_mean_absolute_error: 0.2797\n",
      "Epoch 5/20\n",
      "368/368 [==============================] - 1s 2ms/step - loss: 0.1771 - mean_absolute_error: 0.2879 - val_loss: 0.1635 - val_mean_absolute_error: 0.2789\n",
      "***TRAIN***:\n",
      "correlation related to cluster centre: 0.91\n",
      "r2 score related to cluster centre: 0.82\n",
      "***VALIDATION***:\n",
      "correlation related to cluster centre: 0.92\n",
      "r2 score related to cluster centre: 0.84\n"
     ]
    },
    {
     "data": {
      "application/vnd.jupyter.widget-view+json": {
       "model_id": "467a4de4f3c04ea8bdb993b6669fc481",
       "version_major": 2,
       "version_minor": 0
      },
      "text/plain": [
       "IntProgress(value=0, max=238)"
      ]
     },
     "metadata": {},
     "output_type": "display_data"
    },
    {
     "name": "stdout",
     "output_type": "stream",
     "text": [
      "***VALIDATION***:\n",
      "average correlation: 0.91\n",
      "average r2: 0.78\n",
      "---do_investigations. cluster index : 2---\n"
     ]
    },
    {
     "data": {
      "application/vnd.jupyter.widget-view+json": {
       "model_id": "09903f8ca0aa47b891ca81113fd3903f",
       "version_major": 2,
       "version_minor": 0
      },
      "text/plain": [
       "IntProgress(value=0, max=237)"
      ]
     },
     "metadata": {},
     "output_type": "display_data"
    },
    {
     "name": "stdout",
     "output_type": "stream",
     "text": [
      "Epoch 1/20\n",
      "368/368 [==============================] - 2s 3ms/step - loss: 0.2941 - mean_absolute_error: 0.3564 - val_loss: 0.1628 - val_mean_absolute_error: 0.2703\n",
      "Epoch 2/20\n",
      "368/368 [==============================] - 1s 2ms/step - loss: 0.2099 - mean_absolute_error: 0.3041 - val_loss: 0.1636 - val_mean_absolute_error: 0.2732\n",
      "Epoch 3/20\n",
      "368/368 [==============================] - 1s 2ms/step - loss: 0.2098 - mean_absolute_error: 0.3036 - val_loss: 0.1630 - val_mean_absolute_error: 0.2748\n",
      "***TRAIN***:\n",
      "correlation related to cluster centre: 0.89\n",
      "r2 score related to cluster centre: 0.79\n",
      "***VALIDATION***:\n",
      "correlation related to cluster centre: 0.91\n",
      "r2 score related to cluster centre: 0.82\n"
     ]
    },
    {
     "data": {
      "application/vnd.jupyter.widget-view+json": {
       "model_id": "af516c234c8e406aba0ee419162dd651",
       "version_major": 2,
       "version_minor": 0
      },
      "text/plain": [
       "IntProgress(value=0, max=237)"
      ]
     },
     "metadata": {},
     "output_type": "display_data"
    },
    {
     "name": "stdout",
     "output_type": "stream",
     "text": [
      "***VALIDATION***:\n",
      "average correlation: 0.90\n",
      "average r2: 0.79\n",
      "---do_investigations. cluster index : 3---\n"
     ]
    },
    {
     "data": {
      "application/vnd.jupyter.widget-view+json": {
       "model_id": "135ca98f46a24722b53c556beb753d82",
       "version_major": 2,
       "version_minor": 0
      },
      "text/plain": [
       "IntProgress(value=0, max=6308)"
      ]
     },
     "metadata": {},
     "output_type": "display_data"
    },
    {
     "name": "stdout",
     "output_type": "stream",
     "text": [
      "Epoch 1/20\n",
      "368/368 [==============================] - 2s 3ms/step - loss: 0.2554 - mean_absolute_error: 0.3292 - val_loss: 0.2320 - val_mean_absolute_error: 0.2838\n",
      "Epoch 2/20\n",
      "368/368 [==============================] - 1s 2ms/step - loss: 0.2031 - mean_absolute_error: 0.2802 - val_loss: 0.2278 - val_mean_absolute_error: 0.2782\n",
      "Epoch 3/20\n",
      "368/368 [==============================] - 1s 2ms/step - loss: 0.2016 - mean_absolute_error: 0.2787 - val_loss: 0.2281 - val_mean_absolute_error: 0.2775\n",
      "Epoch 4/20\n",
      "368/368 [==============================] - 1s 2ms/step - loss: 0.2010 - mean_absolute_error: 0.2786 - val_loss: 0.2280 - val_mean_absolute_error: 0.2782\n",
      "***TRAIN***:\n",
      "correlation related to cluster centre: 0.90\n",
      "r2 score related to cluster centre: 0.80\n",
      "***VALIDATION***:\n",
      "correlation related to cluster centre: 0.90\n",
      "r2 score related to cluster centre: 0.81\n"
     ]
    },
    {
     "data": {
      "application/vnd.jupyter.widget-view+json": {
       "model_id": "3b413dd7633b472ab18c24ee460028a1",
       "version_major": 2,
       "version_minor": 0
      },
      "text/plain": [
       "IntProgress(value=0, max=6308)"
      ]
     },
     "metadata": {},
     "output_type": "display_data"
    },
    {
     "name": "stdout",
     "output_type": "stream",
     "text": [
      "***VALIDATION***:\n",
      "average correlation: nan\n",
      "average r2: -28758808261497190411782848512.00\n",
      "---do_investigations. cluster index : 4---\n"
     ]
    },
    {
     "data": {
      "application/vnd.jupyter.widget-view+json": {
       "model_id": "260f5c8c16944839b461aafa36e54766",
       "version_major": 2,
       "version_minor": 0
      },
      "text/plain": [
       "IntProgress(value=0, max=584)"
      ]
     },
     "metadata": {},
     "output_type": "display_data"
    },
    {
     "name": "stdout",
     "output_type": "stream",
     "text": [
      "Epoch 1/20\n",
      "368/368 [==============================] - 2s 3ms/step - loss: 0.2781 - mean_absolute_error: 0.3536 - val_loss: 0.1929 - val_mean_absolute_error: 0.2876\n",
      "Epoch 2/20\n",
      "368/368 [==============================] - 1s 2ms/step - loss: 0.2043 - mean_absolute_error: 0.2982 - val_loss: 0.1905 - val_mean_absolute_error: 0.2809\n",
      "Epoch 3/20\n",
      "368/368 [==============================] - 1s 2ms/step - loss: 0.2035 - mean_absolute_error: 0.2965 - val_loss: 0.1885 - val_mean_absolute_error: 0.2827\n",
      "Epoch 4/20\n",
      "368/368 [==============================] - 1s 2ms/step - loss: 0.2036 - mean_absolute_error: 0.2969 - val_loss: 0.1881 - val_mean_absolute_error: 0.2872\n",
      "Epoch 5/20\n",
      "368/368 [==============================] - 1s 2ms/step - loss: 0.2030 - mean_absolute_error: 0.2963 - val_loss: 0.1867 - val_mean_absolute_error: 0.2851\n",
      "Epoch 6/20\n",
      "368/368 [==============================] - 1s 2ms/step - loss: 0.2016 - mean_absolute_error: 0.2953 - val_loss: 0.1887 - val_mean_absolute_error: 0.2780\n",
      "Epoch 7/20\n",
      "368/368 [==============================] - 1s 2ms/step - loss: 0.2011 - mean_absolute_error: 0.2940 - val_loss: 0.1870 - val_mean_absolute_error: 0.2794\n",
      "***TRAIN***:\n",
      "correlation related to cluster centre: 0.90\n",
      "r2 score related to cluster centre: 0.80\n",
      "***VALIDATION***:\n",
      "correlation related to cluster centre: 0.91\n",
      "r2 score related to cluster centre: 0.82\n"
     ]
    },
    {
     "data": {
      "application/vnd.jupyter.widget-view+json": {
       "model_id": "14ab74c05e4949a38c9de00020074004",
       "version_major": 2,
       "version_minor": 0
      },
      "text/plain": [
       "IntProgress(value=0, max=584)"
      ]
     },
     "metadata": {},
     "output_type": "display_data"
    },
    {
     "name": "stdout",
     "output_type": "stream",
     "text": [
      "***VALIDATION***:\n",
      "average correlation: 0.91\n",
      "average r2: 0.80\n",
      "weighted_average_correlation: 0.91\n",
      "weighted_average_r2_score: 0.79\n",
      "bad clusters rate: 0.82%\n",
      "------------------------------------------------------\n"
     ]
    }
   ],
   "source": [
    "first_path = r\"C:\\Coding\\final-qualifying-work_2023-2024\\ClusteringCpp\\output\\cmeans 5 0.1 20.txt\"\n",
    "second_path = r\"C:\\Coding\\final-qualifying-work_2023-2024\\ClusteringCpp\\output\\cmeans 15 0.1 20.txt\"\n",
    "third_path = r\"C:\\Coding\\final-qualifying-work_2023-2024\\ClusteringCpp\\output\\cmeans 30 0.1 20.txt\"\n",
    "fourth_path = r\"C:\\Coding\\final-qualifying-work_2023-2024\\ClusteringCpp\\output\\cmeans 60 0.1 5.txt\"\n",
    "\n",
    "output_file = open(\"computational-experiments-output-cmeans.txt\", \"a\")\n",
    "\n",
    "selected_path = first_path\n",
    "\n",
    "print('------------------------------------------------------')\n",
    "output_file.write('------------------------------------------------------\\n')\n",
    "\n",
    "print(f\"msd {os.path.split(selected_path)[-1]}\")\n",
    "output_file.write(f\"msd {os.path.split(selected_path)[-1]}\\n\")\n",
    "show_results(multi_step_dense_model, get_clusters(selected_path), CONV_WIDTH)\n",
    "\n",
    "print('------------------------------------------------------')\n",
    "output_file.write('------------------------------------------------------\\n')\n",
    "\n",
    "output_file.close()"
   ]
  },
  {
   "cell_type": "code",
   "execution_count": 22,
   "id": "655c677a-f830-483e-8341-783051afbe14",
   "metadata": {},
   "outputs": [
    {
     "name": "stdout",
     "output_type": "stream",
     "text": [
      "------------------------------------------------------\n",
      "msd cmeans 15 0.1 20.txt\n",
      "---do_investigations. cluster index : 0---\n"
     ]
    },
    {
     "data": {
      "application/vnd.jupyter.widget-view+json": {
       "model_id": "5cd0ecae1def46eaa655b2c0a653aca3",
       "version_major": 2,
       "version_minor": 0
      },
      "text/plain": [
       "IntProgress(value=0, max=85)"
      ]
     },
     "metadata": {},
     "output_type": "display_data"
    },
    {
     "name": "stdout",
     "output_type": "stream",
     "text": [
      "Epoch 1/20\n",
      "368/368 [==============================] - 2s 3ms/step - loss: 0.1131 - mean_absolute_error: 0.2155 - val_loss: 0.1046 - val_mean_absolute_error: 0.1951\n",
      "Epoch 2/20\n",
      "368/368 [==============================] - 1s 2ms/step - loss: 0.0792 - mean_absolute_error: 0.1805 - val_loss: 0.1025 - val_mean_absolute_error: 0.1891\n",
      "Epoch 3/20\n",
      "368/368 [==============================] - 1s 2ms/step - loss: 0.0787 - mean_absolute_error: 0.1796 - val_loss: 0.1017 - val_mean_absolute_error: 0.1886\n",
      "Epoch 4/20\n",
      "368/368 [==============================] - 1s 2ms/step - loss: 0.0790 - mean_absolute_error: 0.1802 - val_loss: 0.1036 - val_mean_absolute_error: 0.1895\n",
      "Epoch 5/20\n",
      "368/368 [==============================] - 1s 2ms/step - loss: 0.0786 - mean_absolute_error: 0.1799 - val_loss: 0.1032 - val_mean_absolute_error: 0.1912\n",
      "***TRAIN***:\n",
      "correlation related to cluster centre: 0.96\n",
      "r2 score related to cluster centre: 0.92\n",
      "***VALIDATION***:\n",
      "correlation related to cluster centre: 0.94\n",
      "r2 score related to cluster centre: 0.88\n"
     ]
    },
    {
     "data": {
      "application/vnd.jupyter.widget-view+json": {
       "model_id": "65347d76e6fd4053ade16928691bada4",
       "version_major": 2,
       "version_minor": 0
      },
      "text/plain": [
       "IntProgress(value=0, max=85)"
      ]
     },
     "metadata": {},
     "output_type": "display_data"
    },
    {
     "name": "stdout",
     "output_type": "stream",
     "text": [
      "***VALIDATION***:\n",
      "average correlation: 0.91\n",
      "average r2: 0.83\n",
      "---do_investigations. cluster index : 1---\n"
     ]
    },
    {
     "data": {
      "application/vnd.jupyter.widget-view+json": {
       "model_id": "e17d1749f31b4cd292d191d5fbea17b7",
       "version_major": 2,
       "version_minor": 0
      },
      "text/plain": [
       "IntProgress(value=0, max=101)"
      ]
     },
     "metadata": {},
     "output_type": "display_data"
    },
    {
     "name": "stdout",
     "output_type": "stream",
     "text": [
      "Epoch 1/20\n",
      "368/368 [==============================] - 2s 3ms/step - loss: 0.2712 - mean_absolute_error: 0.3568 - val_loss: 0.1487 - val_mean_absolute_error: 0.2699\n",
      "Epoch 2/20\n",
      "368/368 [==============================] - 1s 2ms/step - loss: 0.2135 - mean_absolute_error: 0.3107 - val_loss: 0.1473 - val_mean_absolute_error: 0.2702\n",
      "Epoch 3/20\n",
      "368/368 [==============================] - 1s 2ms/step - loss: 0.2108 - mean_absolute_error: 0.3077 - val_loss: 0.1479 - val_mean_absolute_error: 0.2758\n",
      "Epoch 4/20\n",
      "368/368 [==============================] - 1s 2ms/step - loss: 0.2111 - mean_absolute_error: 0.3082 - val_loss: 0.1489 - val_mean_absolute_error: 0.2681\n",
      "***TRAIN***:\n",
      "correlation related to cluster centre: 0.89\n",
      "r2 score related to cluster centre: 0.79\n",
      "***VALIDATION***:\n",
      "correlation related to cluster centre: 0.90\n",
      "r2 score related to cluster centre: 0.81\n"
     ]
    },
    {
     "data": {
      "application/vnd.jupyter.widget-view+json": {
       "model_id": "82561b713ac7404abf1ec7045cad07de",
       "version_major": 2,
       "version_minor": 0
      },
      "text/plain": [
       "IntProgress(value=0, max=101)"
      ]
     },
     "metadata": {},
     "output_type": "display_data"
    },
    {
     "name": "stdout",
     "output_type": "stream",
     "text": [
      "***VALIDATION***:\n",
      "average correlation: 0.90\n",
      "average r2: 0.72\n",
      "---do_investigations. cluster index : 2---\n"
     ]
    },
    {
     "data": {
      "application/vnd.jupyter.widget-view+json": {
       "model_id": "d8e02a690d0f43c28426862302b19fcf",
       "version_major": 2,
       "version_minor": 0
      },
      "text/plain": [
       "IntProgress(value=0, max=6106)"
      ]
     },
     "metadata": {},
     "output_type": "display_data"
    },
    {
     "name": "stdout",
     "output_type": "stream",
     "text": [
      "Epoch 1/20\n",
      "368/368 [==============================] - 2s 3ms/step - loss: 0.2556 - mean_absolute_error: 0.3338 - val_loss: 0.2410 - val_mean_absolute_error: 0.2725\n",
      "Epoch 2/20\n",
      "368/368 [==============================] - 1s 2ms/step - loss: 0.2018 - mean_absolute_error: 0.2759 - val_loss: 0.2362 - val_mean_absolute_error: 0.2700\n",
      "Epoch 3/20\n",
      "368/368 [==============================] - 1s 2ms/step - loss: 0.1972 - mean_absolute_error: 0.2742 - val_loss: 0.2382 - val_mean_absolute_error: 0.2728\n",
      "Epoch 4/20\n",
      "368/368 [==============================] - 1s 2ms/step - loss: 0.1978 - mean_absolute_error: 0.2740 - val_loss: 0.2434 - val_mean_absolute_error: 0.2773\n",
      "***TRAIN***:\n",
      "correlation related to cluster centre: 0.90\n",
      "r2 score related to cluster centre: 0.80\n",
      "***VALIDATION***:\n",
      "correlation related to cluster centre: 0.90\n",
      "r2 score related to cluster centre: 0.80\n"
     ]
    },
    {
     "data": {
      "application/vnd.jupyter.widget-view+json": {
       "model_id": "be9ed1fe59794589a309742e0226f059",
       "version_major": 2,
       "version_minor": 0
      },
      "text/plain": [
       "IntProgress(value=0, max=6106)"
      ]
     },
     "metadata": {},
     "output_type": "display_data"
    },
    {
     "name": "stdout",
     "output_type": "stream",
     "text": [
      "***VALIDATION***:\n",
      "average correlation: nan\n",
      "average r2: -16665631770396916916139589632.00\n",
      "---do_investigations. cluster index : 3---\n"
     ]
    },
    {
     "data": {
      "application/vnd.jupyter.widget-view+json": {
       "model_id": "7ee35caf30db4b8f81bd4bb2493793ef",
       "version_major": 2,
       "version_minor": 0
      },
      "text/plain": [
       "IntProgress(value=0, max=42)"
      ]
     },
     "metadata": {},
     "output_type": "display_data"
    },
    {
     "name": "stdout",
     "output_type": "stream",
     "text": [
      "Epoch 1/20\n",
      "368/368 [==============================] - 2s 3ms/step - loss: 0.2662 - mean_absolute_error: 0.3558 - val_loss: 0.1735 - val_mean_absolute_error: 0.2866\n",
      "Epoch 2/20\n",
      "368/368 [==============================] - 1s 2ms/step - loss: 0.1963 - mean_absolute_error: 0.3051 - val_loss: 0.1711 - val_mean_absolute_error: 0.2811\n",
      "Epoch 3/20\n",
      "368/368 [==============================] - 1s 2ms/step - loss: 0.1969 - mean_absolute_error: 0.3046 - val_loss: 0.1710 - val_mean_absolute_error: 0.2844\n",
      "Epoch 4/20\n",
      "368/368 [==============================] - 1s 2ms/step - loss: 0.1952 - mean_absolute_error: 0.3044 - val_loss: 0.1712 - val_mean_absolute_error: 0.2783\n",
      "Epoch 5/20\n",
      "368/368 [==============================] - 1s 2ms/step - loss: 0.1954 - mean_absolute_error: 0.3035 - val_loss: 0.1716 - val_mean_absolute_error: 0.2835\n",
      "***TRAIN***:\n",
      "correlation related to cluster centre: 0.90\n",
      "r2 score related to cluster centre: 0.81\n",
      "***VALIDATION***:\n",
      "correlation related to cluster centre: 0.91\n",
      "r2 score related to cluster centre: 0.83\n"
     ]
    },
    {
     "data": {
      "application/vnd.jupyter.widget-view+json": {
       "model_id": "a12f071d5b4b4b4083b4bcf561b58689",
       "version_major": 2,
       "version_minor": 0
      },
      "text/plain": [
       "IntProgress(value=0, max=42)"
      ]
     },
     "metadata": {},
     "output_type": "display_data"
    },
    {
     "name": "stdout",
     "output_type": "stream",
     "text": [
      "***VALIDATION***:\n",
      "average correlation: 0.91\n",
      "average r2: 0.82\n",
      "---do_investigations. cluster index : 4---\n"
     ]
    },
    {
     "data": {
      "application/vnd.jupyter.widget-view+json": {
       "model_id": "f4e45249ba834e74a0a3b06ef09bf278",
       "version_major": 2,
       "version_minor": 0
      },
      "text/plain": [
       "IntProgress(value=0, max=147)"
      ]
     },
     "metadata": {},
     "output_type": "display_data"
    },
    {
     "name": "stdout",
     "output_type": "stream",
     "text": [
      "Epoch 1/20\n",
      "368/368 [==============================] - 2s 3ms/step - loss: 0.2461 - mean_absolute_error: 0.3455 - val_loss: 0.1762 - val_mean_absolute_error: 0.2794\n",
      "Epoch 2/20\n",
      "368/368 [==============================] - 1s 2ms/step - loss: 0.1909 - mean_absolute_error: 0.3011 - val_loss: 0.1690 - val_mean_absolute_error: 0.2773\n",
      "Epoch 3/20\n",
      "368/368 [==============================] - 1s 2ms/step - loss: 0.1901 - mean_absolute_error: 0.2999 - val_loss: 0.1704 - val_mean_absolute_error: 0.2846\n",
      "Epoch 4/20\n",
      "368/368 [==============================] - 1s 2ms/step - loss: 0.1896 - mean_absolute_error: 0.2995 - val_loss: 0.1684 - val_mean_absolute_error: 0.2812\n",
      "Epoch 5/20\n",
      "368/368 [==============================] - 1s 2ms/step - loss: 0.1892 - mean_absolute_error: 0.2991 - val_loss: 0.1685 - val_mean_absolute_error: 0.2793\n",
      "Epoch 6/20\n",
      "368/368 [==============================] - 1s 3ms/step - loss: 0.1889 - mean_absolute_error: 0.2992 - val_loss: 0.1687 - val_mean_absolute_error: 0.2799\n",
      "***TRAIN***:\n",
      "correlation related to cluster centre: 0.90\n",
      "r2 score related to cluster centre: 0.81\n",
      "***VALIDATION***:\n",
      "correlation related to cluster centre: 0.91\n",
      "r2 score related to cluster centre: 0.83\n"
     ]
    },
    {
     "data": {
      "application/vnd.jupyter.widget-view+json": {
       "model_id": "64872efd295a49fd912f3beeccda6142",
       "version_major": 2,
       "version_minor": 0
      },
      "text/plain": [
       "IntProgress(value=0, max=147)"
      ]
     },
     "metadata": {},
     "output_type": "display_data"
    },
    {
     "name": "stdout",
     "output_type": "stream",
     "text": [
      "***VALIDATION***:\n",
      "average correlation: 0.91\n",
      "average r2: 0.82\n",
      "---do_investigations. cluster index : 5---\n"
     ]
    },
    {
     "data": {
      "application/vnd.jupyter.widget-view+json": {
       "model_id": "fe182c69ee0e4ad38b4a3db701b55ff1",
       "version_major": 2,
       "version_minor": 0
      },
      "text/plain": [
       "IntProgress(value=0, max=32)"
      ]
     },
     "metadata": {},
     "output_type": "display_data"
    },
    {
     "name": "stdout",
     "output_type": "stream",
     "text": [
      "Epoch 1/20\n",
      "368/368 [==============================] - 2s 3ms/step - loss: 0.2342 - mean_absolute_error: 0.3277 - val_loss: 0.1727 - val_mean_absolute_error: 0.2889\n",
      "Epoch 2/20\n",
      "368/368 [==============================] - 1s 2ms/step - loss: 0.1849 - mean_absolute_error: 0.2921 - val_loss: 0.1692 - val_mean_absolute_error: 0.2851\n",
      "Epoch 3/20\n",
      "368/368 [==============================] - 1s 2ms/step - loss: 0.1836 - mean_absolute_error: 0.2912 - val_loss: 0.1724 - val_mean_absolute_error: 0.2931\n",
      "Epoch 4/20\n",
      "368/368 [==============================] - 1s 2ms/step - loss: 0.1847 - mean_absolute_error: 0.2921 - val_loss: 0.1721 - val_mean_absolute_error: 0.2856\n",
      "***TRAIN***:\n",
      "correlation related to cluster centre: 0.90\n",
      "r2 score related to cluster centre: 0.81\n",
      "***VALIDATION***:\n",
      "correlation related to cluster centre: 0.91\n",
      "r2 score related to cluster centre: 0.83\n"
     ]
    },
    {
     "data": {
      "application/vnd.jupyter.widget-view+json": {
       "model_id": "a96fbd1eabf2436184702860141cf6e3",
       "version_major": 2,
       "version_minor": 0
      },
      "text/plain": [
       "IntProgress(value=0, max=32)"
      ]
     },
     "metadata": {},
     "output_type": "display_data"
    },
    {
     "name": "stdout",
     "output_type": "stream",
     "text": [
      "***VALIDATION***:\n",
      "average correlation: 0.91\n",
      "average r2: 0.82\n",
      "---do_investigations. cluster index : 6---\n"
     ]
    },
    {
     "data": {
      "application/vnd.jupyter.widget-view+json": {
       "model_id": "6c91c322b783408dba22107027636059",
       "version_major": 2,
       "version_minor": 0
      },
      "text/plain": [
       "IntProgress(value=0, max=82)"
      ]
     },
     "metadata": {},
     "output_type": "display_data"
    },
    {
     "name": "stdout",
     "output_type": "stream",
     "text": [
      "Epoch 1/20\n",
      "368/368 [==============================] - 2s 3ms/step - loss: 0.2959 - mean_absolute_error: 0.3548 - val_loss: 0.1933 - val_mean_absolute_error: 0.3050\n",
      "Epoch 2/20\n",
      "368/368 [==============================] - 1s 2ms/step - loss: 0.2104 - mean_absolute_error: 0.3002 - val_loss: 0.1836 - val_mean_absolute_error: 0.2899\n",
      "Epoch 3/20\n",
      "368/368 [==============================] - 1s 2ms/step - loss: 0.2094 - mean_absolute_error: 0.3002 - val_loss: 0.1971 - val_mean_absolute_error: 0.3031\n",
      "Epoch 4/20\n",
      "368/368 [==============================] - 1s 2ms/step - loss: 0.2088 - mean_absolute_error: 0.2988 - val_loss: 0.1896 - val_mean_absolute_error: 0.2980\n",
      "***TRAIN***:\n",
      "correlation related to cluster centre: 0.89\n",
      "r2 score related to cluster centre: 0.78\n",
      "***VALIDATION***:\n",
      "correlation related to cluster centre: 0.90\n",
      "r2 score related to cluster centre: 0.80\n"
     ]
    },
    {
     "data": {
      "application/vnd.jupyter.widget-view+json": {
       "model_id": "a0ef4c6b12dd4555b5a8ed362a3de132",
       "version_major": 2,
       "version_minor": 0
      },
      "text/plain": [
       "IntProgress(value=0, max=82)"
      ]
     },
     "metadata": {},
     "output_type": "display_data"
    },
    {
     "name": "stdout",
     "output_type": "stream",
     "text": [
      "***VALIDATION***:\n",
      "average correlation: 0.90\n",
      "average r2: 0.79\n",
      "---do_investigations. cluster index : 7---\n"
     ]
    },
    {
     "data": {
      "application/vnd.jupyter.widget-view+json": {
       "model_id": "9a13348b0d134337af33bca85f7ec968",
       "version_major": 2,
       "version_minor": 0
      },
      "text/plain": [
       "IntProgress(value=0, max=56)"
      ]
     },
     "metadata": {},
     "output_type": "display_data"
    },
    {
     "name": "stdout",
     "output_type": "stream",
     "text": [
      "Epoch 1/20\n",
      "368/368 [==============================] - 2s 3ms/step - loss: 0.2324 - mean_absolute_error: 0.3399 - val_loss: 0.1821 - val_mean_absolute_error: 0.3002\n",
      "Epoch 2/20\n",
      "368/368 [==============================] - 1s 2ms/step - loss: 0.2052 - mean_absolute_error: 0.3118 - val_loss: 0.1794 - val_mean_absolute_error: 0.2981\n",
      "Epoch 3/20\n",
      "368/368 [==============================] - 1s 2ms/step - loss: 0.2049 - mean_absolute_error: 0.3112 - val_loss: 0.1817 - val_mean_absolute_error: 0.2997\n",
      "Epoch 4/20\n",
      "368/368 [==============================] - 1s 3ms/step - loss: 0.2039 - mean_absolute_error: 0.3105 - val_loss: 0.1843 - val_mean_absolute_error: 0.2978\n",
      "***TRAIN***:\n",
      "correlation related to cluster centre: 0.89\n",
      "r2 score related to cluster centre: 0.80\n",
      "***VALIDATION***:\n",
      "correlation related to cluster centre: 0.91\n",
      "r2 score related to cluster centre: 0.82\n"
     ]
    },
    {
     "data": {
      "application/vnd.jupyter.widget-view+json": {
       "model_id": "ea4874f510a84b7a929f82e30d01696b",
       "version_major": 2,
       "version_minor": 0
      },
      "text/plain": [
       "IntProgress(value=0, max=56)"
      ]
     },
     "metadata": {},
     "output_type": "display_data"
    },
    {
     "name": "stdout",
     "output_type": "stream",
     "text": [
      "***VALIDATION***:\n",
      "average correlation: 0.91\n",
      "average r2: 0.82\n",
      "---do_investigations. cluster index : 8---\n"
     ]
    },
    {
     "data": {
      "application/vnd.jupyter.widget-view+json": {
       "model_id": "cc801cc25ecf41859c61f6ef0c4e7a24",
       "version_major": 2,
       "version_minor": 0
      },
      "text/plain": [
       "IntProgress(value=0, max=138)"
      ]
     },
     "metadata": {},
     "output_type": "display_data"
    },
    {
     "name": "stdout",
     "output_type": "stream",
     "text": [
      "Epoch 1/20\n",
      "368/368 [==============================] - 2s 3ms/step - loss: 0.3059 - mean_absolute_error: 0.3806 - val_loss: 0.1421 - val_mean_absolute_error: 0.2645\n",
      "Epoch 2/20\n",
      "368/368 [==============================] - 1s 2ms/step - loss: 0.1924 - mean_absolute_error: 0.2998 - val_loss: 0.1400 - val_mean_absolute_error: 0.2629\n",
      "Epoch 3/20\n",
      "368/368 [==============================] - 1s 2ms/step - loss: 0.1921 - mean_absolute_error: 0.2992 - val_loss: 0.1395 - val_mean_absolute_error: 0.2595\n",
      "Epoch 4/20\n",
      "368/368 [==============================] - 1s 2ms/step - loss: 0.1919 - mean_absolute_error: 0.2993 - val_loss: 0.1398 - val_mean_absolute_error: 0.2601\n",
      "Epoch 5/20\n",
      "368/368 [==============================] - 1s 2ms/step - loss: 0.1911 - mean_absolute_error: 0.2976 - val_loss: 0.1390 - val_mean_absolute_error: 0.2608\n",
      "Epoch 6/20\n",
      "368/368 [==============================] - 1s 2ms/step - loss: 0.1903 - mean_absolute_error: 0.2974 - val_loss: 0.1387 - val_mean_absolute_error: 0.2582\n",
      "Epoch 7/20\n",
      "368/368 [==============================] - 1s 2ms/step - loss: 0.1908 - mean_absolute_error: 0.2976 - val_loss: 0.1397 - val_mean_absolute_error: 0.2579\n",
      "Epoch 8/20\n",
      "368/368 [==============================] - 1s 2ms/step - loss: 0.1907 - mean_absolute_error: 0.2978 - val_loss: 0.1400 - val_mean_absolute_error: 0.2594\n",
      "***TRAIN***:\n",
      "correlation related to cluster centre: 0.90\n",
      "r2 score related to cluster centre: 0.81\n",
      "***VALIDATION***:\n",
      "correlation related to cluster centre: 0.91\n",
      "r2 score related to cluster centre: 0.83\n"
     ]
    },
    {
     "data": {
      "application/vnd.jupyter.widget-view+json": {
       "model_id": "862d502f16a3493dabf0fafc6a5e7317",
       "version_major": 2,
       "version_minor": 0
      },
      "text/plain": [
       "IntProgress(value=0, max=138)"
      ]
     },
     "metadata": {},
     "output_type": "display_data"
    },
    {
     "name": "stdout",
     "output_type": "stream",
     "text": [
      "***VALIDATION***:\n",
      "average correlation: 0.91\n",
      "average r2: 0.83\n",
      "---do_investigations. cluster index : 9---\n"
     ]
    },
    {
     "data": {
      "application/vnd.jupyter.widget-view+json": {
       "model_id": "ce0592fadfb648fb859827eaadb94f10",
       "version_major": 2,
       "version_minor": 0
      },
      "text/plain": [
       "IntProgress(value=0, max=145)"
      ]
     },
     "metadata": {},
     "output_type": "display_data"
    },
    {
     "name": "stdout",
     "output_type": "stream",
     "text": [
      "Epoch 1/20\n",
      "368/368 [==============================] - 2s 3ms/step - loss: 0.2518 - mean_absolute_error: 0.3296 - val_loss: 0.1940 - val_mean_absolute_error: 0.2829\n",
      "Epoch 2/20\n",
      "368/368 [==============================] - 1s 2ms/step - loss: 0.2063 - mean_absolute_error: 0.2905 - val_loss: 0.1858 - val_mean_absolute_error: 0.2676\n",
      "Epoch 3/20\n",
      "368/368 [==============================] - 1s 2ms/step - loss: 0.2074 - mean_absolute_error: 0.2899 - val_loss: 0.1826 - val_mean_absolute_error: 0.2731\n",
      "Epoch 4/20\n",
      "368/368 [==============================] - 1s 2ms/step - loss: 0.2051 - mean_absolute_error: 0.2877 - val_loss: 0.1836 - val_mean_absolute_error: 0.2683\n",
      "Epoch 5/20\n",
      "368/368 [==============================] - 1s 2ms/step - loss: 0.2044 - mean_absolute_error: 0.2878 - val_loss: 0.1834 - val_mean_absolute_error: 0.2693\n",
      "***TRAIN***:\n",
      "correlation related to cluster centre: 0.89\n",
      "r2 score related to cluster centre: 0.80\n",
      "***VALIDATION***:\n",
      "correlation related to cluster centre: 0.91\n",
      "r2 score related to cluster centre: 0.82\n"
     ]
    },
    {
     "data": {
      "application/vnd.jupyter.widget-view+json": {
       "model_id": "856454c4eec24e4f8683674974edf053",
       "version_major": 2,
       "version_minor": 0
      },
      "text/plain": [
       "IntProgress(value=0, max=145)"
      ]
     },
     "metadata": {},
     "output_type": "display_data"
    },
    {
     "name": "stdout",
     "output_type": "stream",
     "text": [
      "***VALIDATION***:\n",
      "average correlation: 0.90\n",
      "average r2: 0.81\n",
      "---do_investigations. cluster index : 10---\n"
     ]
    },
    {
     "data": {
      "application/vnd.jupyter.widget-view+json": {
       "model_id": "5361a649347043e9946906321357aeb4",
       "version_major": 2,
       "version_minor": 0
      },
      "text/plain": [
       "IntProgress(value=0, max=73)"
      ]
     },
     "metadata": {},
     "output_type": "display_data"
    },
    {
     "name": "stdout",
     "output_type": "stream",
     "text": [
      "Epoch 1/20\n",
      "368/368 [==============================] - 2s 3ms/step - loss: 0.2687 - mean_absolute_error: 0.3568 - val_loss: 0.1489 - val_mean_absolute_error: 0.2758\n",
      "Epoch 2/20\n",
      "368/368 [==============================] - 1s 2ms/step - loss: 0.1902 - mean_absolute_error: 0.3014 - val_loss: 0.1435 - val_mean_absolute_error: 0.2650\n",
      "Epoch 3/20\n",
      "368/368 [==============================] - 1s 2ms/step - loss: 0.1879 - mean_absolute_error: 0.2994 - val_loss: 0.1441 - val_mean_absolute_error: 0.2731\n",
      "Epoch 4/20\n",
      "368/368 [==============================] - 1s 2ms/step - loss: 0.1881 - mean_absolute_error: 0.2998 - val_loss: 0.1435 - val_mean_absolute_error: 0.2707\n",
      "Epoch 5/20\n",
      "368/368 [==============================] - 1s 2ms/step - loss: 0.1875 - mean_absolute_error: 0.2990 - val_loss: 0.1441 - val_mean_absolute_error: 0.2735\n",
      "Epoch 6/20\n",
      "368/368 [==============================] - 1s 2ms/step - loss: 0.1877 - mean_absolute_error: 0.2992 - val_loss: 0.1441 - val_mean_absolute_error: 0.2714\n",
      "***TRAIN***:\n",
      "correlation related to cluster centre: 0.90\n",
      "r2 score related to cluster centre: 0.81\n",
      "***VALIDATION***:\n",
      "correlation related to cluster centre: 0.91\n",
      "r2 score related to cluster centre: 0.83\n"
     ]
    },
    {
     "data": {
      "application/vnd.jupyter.widget-view+json": {
       "model_id": "38cf9e4cc3c540a9a4fae111bf0d2447",
       "version_major": 2,
       "version_minor": 0
      },
      "text/plain": [
       "IntProgress(value=0, max=73)"
      ]
     },
     "metadata": {},
     "output_type": "display_data"
    },
    {
     "name": "stdout",
     "output_type": "stream",
     "text": [
      "***VALIDATION***:\n",
      "average correlation: 0.91\n",
      "average r2: 0.81\n",
      "---do_investigations. cluster index : 11---\n"
     ]
    },
    {
     "data": {
      "application/vnd.jupyter.widget-view+json": {
       "model_id": "87a7436189ec44178d252b0d2a7ce9a9",
       "version_major": 2,
       "version_minor": 0
      },
      "text/plain": [
       "IntProgress(value=0, max=566)"
      ]
     },
     "metadata": {},
     "output_type": "display_data"
    },
    {
     "name": "stdout",
     "output_type": "stream",
     "text": [
      "Epoch 1/20\n",
      "368/368 [==============================] - 2s 3ms/step - loss: 0.2750 - mean_absolute_error: 0.3554 - val_loss: 0.2055 - val_mean_absolute_error: 0.3006\n",
      "Epoch 2/20\n",
      "368/368 [==============================] - 1s 3ms/step - loss: 0.2031 - mean_absolute_error: 0.3010 - val_loss: 0.1992 - val_mean_absolute_error: 0.2962\n",
      "Epoch 3/20\n",
      "368/368 [==============================] - 1s 2ms/step - loss: 0.2022 - mean_absolute_error: 0.3005 - val_loss: 0.1987 - val_mean_absolute_error: 0.3006\n",
      "Epoch 4/20\n",
      "368/368 [==============================] - 1s 2ms/step - loss: 0.2019 - mean_absolute_error: 0.3003 - val_loss: 0.2000 - val_mean_absolute_error: 0.3013\n",
      "Epoch 5/20\n",
      "368/368 [==============================] - 1s 2ms/step - loss: 0.2011 - mean_absolute_error: 0.2995 - val_loss: 0.1988 - val_mean_absolute_error: 0.3011\n",
      "***TRAIN***:\n",
      "correlation related to cluster centre: 0.90\n",
      "r2 score related to cluster centre: 0.80\n",
      "***VALIDATION***:\n",
      "correlation related to cluster centre: 0.91\n",
      "r2 score related to cluster centre: 0.82\n"
     ]
    },
    {
     "data": {
      "application/vnd.jupyter.widget-view+json": {
       "model_id": "3fbedaf1724a4cd9a94f15c5584bcbf1",
       "version_major": 2,
       "version_minor": 0
      },
      "text/plain": [
       "IntProgress(value=0, max=566)"
      ]
     },
     "metadata": {},
     "output_type": "display_data"
    },
    {
     "name": "stdout",
     "output_type": "stream",
     "text": [
      "***VALIDATION***:\n",
      "average correlation: 0.90\n",
      "average r2: 0.78\n",
      "---do_investigations. cluster index : 12---\n"
     ]
    },
    {
     "data": {
      "application/vnd.jupyter.widget-view+json": {
       "model_id": "74d0fe8f86274447a808e336f363e24e",
       "version_major": 2,
       "version_minor": 0
      },
      "text/plain": [
       "IntProgress(value=0, max=36)"
      ]
     },
     "metadata": {},
     "output_type": "display_data"
    },
    {
     "name": "stdout",
     "output_type": "stream",
     "text": [
      "Epoch 1/20\n",
      "368/368 [==============================] - 2s 3ms/step - loss: 0.2433 - mean_absolute_error: 0.3461 - val_loss: 0.1770 - val_mean_absolute_error: 0.2884\n",
      "Epoch 2/20\n",
      "368/368 [==============================] - 1s 2ms/step - loss: 0.2053 - mean_absolute_error: 0.3100 - val_loss: 0.1752 - val_mean_absolute_error: 0.2871\n",
      "Epoch 3/20\n",
      "368/368 [==============================] - 1s 3ms/step - loss: 0.2039 - mean_absolute_error: 0.3088 - val_loss: 0.1746 - val_mean_absolute_error: 0.2893\n",
      "Epoch 4/20\n",
      "368/368 [==============================] - 1s 2ms/step - loss: 0.2038 - mean_absolute_error: 0.3089 - val_loss: 0.1753 - val_mean_absolute_error: 0.2835\n",
      "Epoch 5/20\n",
      "368/368 [==============================] - 1s 2ms/step - loss: 0.2030 - mean_absolute_error: 0.3078 - val_loss: 0.1746 - val_mean_absolute_error: 0.2846\n",
      "Epoch 6/20\n",
      "368/368 [==============================] - 1s 3ms/step - loss: 0.2025 - mean_absolute_error: 0.3073 - val_loss: 0.1768 - val_mean_absolute_error: 0.2885\n",
      "Epoch 7/20\n",
      "368/368 [==============================] - 1s 2ms/step - loss: 0.2032 - mean_absolute_error: 0.3080 - val_loss: 0.1752 - val_mean_absolute_error: 0.2856\n",
      "***TRAIN***:\n",
      "correlation related to cluster centre: 0.89\n",
      "r2 score related to cluster centre: 0.80\n",
      "***VALIDATION***:\n",
      "correlation related to cluster centre: 0.91\n",
      "r2 score related to cluster centre: 0.82\n"
     ]
    },
    {
     "data": {
      "application/vnd.jupyter.widget-view+json": {
       "model_id": "6e826b173fd647c0ba274404807ac5ff",
       "version_major": 2,
       "version_minor": 0
      },
      "text/plain": [
       "IntProgress(value=0, max=36)"
      ]
     },
     "metadata": {},
     "output_type": "display_data"
    },
    {
     "name": "stdout",
     "output_type": "stream",
     "text": [
      "***VALIDATION***:\n",
      "average correlation: 0.91\n",
      "average r2: 0.82\n",
      "---do_investigations. cluster index : 13---\n"
     ]
    },
    {
     "data": {
      "application/vnd.jupyter.widget-view+json": {
       "model_id": "d7e5ab538cb2467f8fe452696d9d740e",
       "version_major": 2,
       "version_minor": 0
      },
      "text/plain": [
       "IntProgress(value=0, max=49)"
      ]
     },
     "metadata": {},
     "output_type": "display_data"
    },
    {
     "name": "stdout",
     "output_type": "stream",
     "text": [
      "Epoch 1/20\n",
      "368/368 [==============================] - 2s 3ms/step - loss: 0.1796 - mean_absolute_error: 0.2487 - val_loss: 0.1536 - val_mean_absolute_error: 0.1780\n",
      "Epoch 2/20\n",
      "368/368 [==============================] - 1s 3ms/step - loss: 0.1164 - mean_absolute_error: 0.1979 - val_loss: 0.1459 - val_mean_absolute_error: 0.1759\n",
      "Epoch 3/20\n",
      "368/368 [==============================] - 1s 2ms/step - loss: 0.1137 - mean_absolute_error: 0.1963 - val_loss: 0.1487 - val_mean_absolute_error: 0.1755\n",
      "Epoch 4/20\n",
      "368/368 [==============================] - 1s 2ms/step - loss: 0.1135 - mean_absolute_error: 0.1953 - val_loss: 0.1750 - val_mean_absolute_error: 0.2062\n",
      "***TRAIN***:\n",
      "correlation related to cluster centre: 0.94\n",
      "r2 score related to cluster centre: 0.87\n",
      "***VALIDATION***:\n",
      "correlation related to cluster centre: 0.89\n",
      "r2 score related to cluster centre: 0.74\n"
     ]
    },
    {
     "data": {
      "application/vnd.jupyter.widget-view+json": {
       "model_id": "97c034ff117c43fcb5457eabb0bcf304",
       "version_major": 2,
       "version_minor": 0
      },
      "text/plain": [
       "IntProgress(value=0, max=49)"
      ]
     },
     "metadata": {},
     "output_type": "display_data"
    },
    {
     "name": "stdout",
     "output_type": "stream",
     "text": [
      "***VALIDATION***:\n",
      "average correlation: 0.90\n",
      "average r2: 0.55\n",
      "---do_investigations. cluster index : 14---\n"
     ]
    },
    {
     "data": {
      "application/vnd.jupyter.widget-view+json": {
       "model_id": "b27cee4fbff94d5ab0a3905fa56d4d3e",
       "version_major": 2,
       "version_minor": 0
      },
      "text/plain": [
       "IntProgress(value=0, max=22)"
      ]
     },
     "metadata": {},
     "output_type": "display_data"
    },
    {
     "name": "stdout",
     "output_type": "stream",
     "text": [
      "Epoch 1/20\n",
      "368/368 [==============================] - 2s 3ms/step - loss: 0.2601 - mean_absolute_error: 0.3628 - val_loss: 0.1780 - val_mean_absolute_error: 0.2884\n",
      "Epoch 2/20\n",
      "368/368 [==============================] - 1s 2ms/step - loss: 0.2016 - mean_absolute_error: 0.3087 - val_loss: 0.1786 - val_mean_absolute_error: 0.2854\n",
      "Epoch 3/20\n",
      "368/368 [==============================] - 1s 2ms/step - loss: 0.2015 - mean_absolute_error: 0.3091 - val_loss: 0.1800 - val_mean_absolute_error: 0.2864\n",
      "***TRAIN***:\n",
      "correlation related to cluster centre: 0.90\n",
      "r2 score related to cluster centre: 0.80\n",
      "***VALIDATION***:\n",
      "correlation related to cluster centre: 0.91\n",
      "r2 score related to cluster centre: 0.82\n"
     ]
    },
    {
     "data": {
      "application/vnd.jupyter.widget-view+json": {
       "model_id": "faa4bc4dc74e4caca32bdedc64551f52",
       "version_major": 2,
       "version_minor": 0
      },
      "text/plain": [
       "IntProgress(value=0, max=22)"
      ]
     },
     "metadata": {},
     "output_type": "display_data"
    },
    {
     "name": "stdout",
     "output_type": "stream",
     "text": [
      "***VALIDATION***:\n",
      "average correlation: 0.91\n",
      "average r2: 0.81\n",
      "weighted_average_correlation: 0.91\n",
      "weighted_average_r2_score: 0.79\n",
      "bad clusters rate: 0.80%\n",
      "------------------------------------------------------\n"
     ]
    }
   ],
   "source": [
    "first_path = r\"C:\\Coding\\final-qualifying-work_2023-2024\\ClusteringCpp\\output\\cmeans 5 0.1 20.txt\"\n",
    "second_path = r\"C:\\Coding\\final-qualifying-work_2023-2024\\ClusteringCpp\\output\\cmeans 15 0.1 20.txt\"\n",
    "third_path = r\"C:\\Coding\\final-qualifying-work_2023-2024\\ClusteringCpp\\output\\cmeans 30 0.1 20.txt\"\n",
    "fourth_path = r\"C:\\Coding\\final-qualifying-work_2023-2024\\ClusteringCpp\\output\\cmeans 60 0.1 5.txt\"\n",
    "\n",
    "output_file = open(\"computational-experiments-output-cmeans.txt\", \"a\")\n",
    "\n",
    "selected_path = second_path\n",
    "\n",
    "print('------------------------------------------------------')\n",
    "output_file.write('------------------------------------------------------\\n')\n",
    "\n",
    "print(f\"msd {os.path.split(selected_path)[-1]}\")\n",
    "output_file.write(f\"msd {os.path.split(selected_path)[-1]}\\n\")\n",
    "show_results(multi_step_dense_model, get_clusters(selected_path), CONV_WIDTH)\n",
    "\n",
    "print('------------------------------------------------------')\n",
    "output_file.write('------------------------------------------------------\\n')\n",
    "\n",
    "output_file.close()"
   ]
  },
  {
   "cell_type": "code",
   "execution_count": 23,
   "id": "88f497ed-560d-4b80-90eb-5ef092038d33",
   "metadata": {},
   "outputs": [
    {
     "name": "stdout",
     "output_type": "stream",
     "text": [
      "------------------------------------------------------\n",
      "msd cmeans 30 0.1 20.txt\n",
      "---do_investigations. cluster index : 0---\n"
     ]
    },
    {
     "data": {
      "application/vnd.jupyter.widget-view+json": {
       "model_id": "c0f570fade704bd1ad3d59205a727df4",
       "version_major": 2,
       "version_minor": 0
      },
      "text/plain": [
       "IntProgress(value=0, max=188)"
      ]
     },
     "metadata": {},
     "output_type": "display_data"
    },
    {
     "name": "stdout",
     "output_type": "stream",
     "text": [
      "Epoch 1/20\n",
      "368/368 [==============================] - 2s 3ms/step - loss: 0.2611 - mean_absolute_error: 0.3408 - val_loss: 0.1979 - val_mean_absolute_error: 0.2881\n",
      "Epoch 2/20\n",
      "368/368 [==============================] - 1s 3ms/step - loss: 0.2075 - mean_absolute_error: 0.2902 - val_loss: 0.1980 - val_mean_absolute_error: 0.2887\n",
      "Epoch 3/20\n",
      "368/368 [==============================] - 1s 2ms/step - loss: 0.2066 - mean_absolute_error: 0.2882 - val_loss: 0.1962 - val_mean_absolute_error: 0.2836\n",
      "Epoch 4/20\n",
      "368/368 [==============================] - 1s 2ms/step - loss: 0.2039 - mean_absolute_error: 0.2866 - val_loss: 0.1952 - val_mean_absolute_error: 0.2818\n",
      "Epoch 5/20\n",
      "368/368 [==============================] - 1s 2ms/step - loss: 0.2037 - mean_absolute_error: 0.2854 - val_loss: 0.1937 - val_mean_absolute_error: 0.2888\n",
      "Epoch 6/20\n",
      "368/368 [==============================] - 1s 2ms/step - loss: 0.2039 - mean_absolute_error: 0.2848 - val_loss: 0.2008 - val_mean_absolute_error: 0.2858\n",
      "Epoch 7/20\n",
      "368/368 [==============================] - 1s 2ms/step - loss: 0.2041 - mean_absolute_error: 0.2852 - val_loss: 0.1948 - val_mean_absolute_error: 0.2752\n",
      "***TRAIN***:\n",
      "correlation related to cluster centre: 0.89\n",
      "r2 score related to cluster centre: 0.80\n",
      "***VALIDATION***:\n",
      "correlation related to cluster centre: 0.90\n",
      "r2 score related to cluster centre: 0.82\n"
     ]
    },
    {
     "data": {
      "application/vnd.jupyter.widget-view+json": {
       "model_id": "936df08e1b9f4f07b43f56ab992e432c",
       "version_major": 2,
       "version_minor": 0
      },
      "text/plain": [
       "IntProgress(value=0, max=188)"
      ]
     },
     "metadata": {},
     "output_type": "display_data"
    },
    {
     "name": "stdout",
     "output_type": "stream",
     "text": [
      "***VALIDATION***:\n",
      "average correlation: 0.90\n",
      "average r2: 0.81\n",
      "---do_investigations. cluster index : 1---\n"
     ]
    },
    {
     "data": {
      "application/vnd.jupyter.widget-view+json": {
       "model_id": "ff9f28e5f1234a0691b1b7f14eca2c1f",
       "version_major": 2,
       "version_minor": 0
      },
      "text/plain": [
       "IntProgress(value=0, max=43)"
      ]
     },
     "metadata": {},
     "output_type": "display_data"
    },
    {
     "name": "stdout",
     "output_type": "stream",
     "text": [
      "Epoch 1/20\n",
      "368/368 [==============================] - 2s 3ms/step - loss: 0.2418 - mean_absolute_error: 0.3245 - val_loss: 0.1602 - val_mean_absolute_error: 0.2638\n",
      "Epoch 2/20\n",
      "368/368 [==============================] - 1s 2ms/step - loss: 0.2134 - mean_absolute_error: 0.2996 - val_loss: 0.1630 - val_mean_absolute_error: 0.2569\n",
      "Epoch 3/20\n",
      "368/368 [==============================] - 1s 2ms/step - loss: 0.2139 - mean_absolute_error: 0.2996 - val_loss: 0.1612 - val_mean_absolute_error: 0.2625\n",
      "***TRAIN***:\n",
      "correlation related to cluster centre: 0.89\n",
      "r2 score related to cluster centre: 0.79\n",
      "***VALIDATION***:\n",
      "correlation related to cluster centre: 0.90\n",
      "r2 score related to cluster centre: 0.81\n"
     ]
    },
    {
     "data": {
      "application/vnd.jupyter.widget-view+json": {
       "model_id": "854a27b8df8e46ba8bb611adb3013900",
       "version_major": 2,
       "version_minor": 0
      },
      "text/plain": [
       "IntProgress(value=0, max=43)"
      ]
     },
     "metadata": {},
     "output_type": "display_data"
    },
    {
     "name": "stdout",
     "output_type": "stream",
     "text": [
      "***VALIDATION***:\n",
      "average correlation: 0.90\n",
      "average r2: 0.81\n",
      "---do_investigations. cluster index : 2---\n"
     ]
    },
    {
     "data": {
      "application/vnd.jupyter.widget-view+json": {
       "model_id": "8a0d7d60f7c040d09617684af9c544e2",
       "version_major": 2,
       "version_minor": 0
      },
      "text/plain": [
       "IntProgress(value=0, max=20)"
      ]
     },
     "metadata": {},
     "output_type": "display_data"
    },
    {
     "name": "stdout",
     "output_type": "stream",
     "text": [
      "Epoch 1/20\n",
      "368/368 [==============================] - 2s 3ms/step - loss: 0.2477 - mean_absolute_error: 0.3408 - val_loss: 0.1744 - val_mean_absolute_error: 0.2946\n",
      "Epoch 2/20\n",
      "368/368 [==============================] - 1s 2ms/step - loss: 0.2069 - mean_absolute_error: 0.3085 - val_loss: 0.1800 - val_mean_absolute_error: 0.2916\n",
      "Epoch 3/20\n",
      "368/368 [==============================] - 1s 2ms/step - loss: 0.2063 - mean_absolute_error: 0.3069 - val_loss: 0.1777 - val_mean_absolute_error: 0.2917\n",
      "***TRAIN***:\n",
      "correlation related to cluster centre: 0.89\n",
      "r2 score related to cluster centre: 0.79\n",
      "***VALIDATION***:\n",
      "correlation related to cluster centre: 0.91\n",
      "r2 score related to cluster centre: 0.82\n"
     ]
    },
    {
     "data": {
      "application/vnd.jupyter.widget-view+json": {
       "model_id": "5d6be77b4b134b1c8ea55e4aa96cbb42",
       "version_major": 2,
       "version_minor": 0
      },
      "text/plain": [
       "IntProgress(value=0, max=20)"
      ]
     },
     "metadata": {},
     "output_type": "display_data"
    },
    {
     "name": "stdout",
     "output_type": "stream",
     "text": [
      "***VALIDATION***:\n",
      "average correlation: 0.91\n",
      "average r2: 0.82\n",
      "---do_investigations. cluster index : 3---\n"
     ]
    },
    {
     "data": {
      "application/vnd.jupyter.widget-view+json": {
       "model_id": "011b9d7da84b45b8a4eaea10d1e807ba",
       "version_major": 2,
       "version_minor": 0
      },
      "text/plain": [
       "IntProgress(value=0, max=68)"
      ]
     },
     "metadata": {},
     "output_type": "display_data"
    },
    {
     "name": "stdout",
     "output_type": "stream",
     "text": [
      "Epoch 1/20\n",
      "368/368 [==============================] - 2s 3ms/step - loss: 0.2593 - mean_absolute_error: 0.3406 - val_loss: 0.1858 - val_mean_absolute_error: 0.2872\n",
      "Epoch 2/20\n",
      "368/368 [==============================] - 1s 2ms/step - loss: 0.2073 - mean_absolute_error: 0.2932 - val_loss: 0.1812 - val_mean_absolute_error: 0.2822\n",
      "Epoch 3/20\n",
      "368/368 [==============================] - 1s 2ms/step - loss: 0.2068 - mean_absolute_error: 0.2925 - val_loss: 0.1798 - val_mean_absolute_error: 0.2735\n",
      "Epoch 4/20\n",
      "368/368 [==============================] - 1s 2ms/step - loss: 0.2070 - mean_absolute_error: 0.2921 - val_loss: 0.1813 - val_mean_absolute_error: 0.2754\n",
      "Epoch 5/20\n",
      "368/368 [==============================] - 1s 2ms/step - loss: 0.2062 - mean_absolute_error: 0.2917 - val_loss: 0.1818 - val_mean_absolute_error: 0.2802\n",
      "***TRAIN***:\n",
      "correlation related to cluster centre: 0.89\n",
      "r2 score related to cluster centre: 0.79\n",
      "***VALIDATION***:\n",
      "correlation related to cluster centre: 0.90\n",
      "r2 score related to cluster centre: 0.81\n"
     ]
    },
    {
     "data": {
      "application/vnd.jupyter.widget-view+json": {
       "model_id": "1d6a8e074db2484e995adf910278531d",
       "version_major": 2,
       "version_minor": 0
      },
      "text/plain": [
       "IntProgress(value=0, max=68)"
      ]
     },
     "metadata": {},
     "output_type": "display_data"
    },
    {
     "name": "stdout",
     "output_type": "stream",
     "text": [
      "***VALIDATION***:\n",
      "average correlation: 0.90\n",
      "average r2: 0.81\n",
      "---do_investigations. cluster index : 4---\n"
     ]
    },
    {
     "data": {
      "application/vnd.jupyter.widget-view+json": {
       "model_id": "951d2ef56e604015b117a21717fc8115",
       "version_major": 2,
       "version_minor": 0
      },
      "text/plain": [
       "IntProgress(value=0, max=4)"
      ]
     },
     "metadata": {},
     "output_type": "display_data"
    },
    {
     "name": "stdout",
     "output_type": "stream",
     "text": [
      "Epoch 1/20\n",
      "368/368 [==============================] - 2s 3ms/step - loss: 0.2551 - mean_absolute_error: 0.3503 - val_loss: 0.2196 - val_mean_absolute_error: 0.3171\n",
      "Epoch 2/20\n",
      "368/368 [==============================] - 1s 2ms/step - loss: 0.1950 - mean_absolute_error: 0.3035 - val_loss: 0.2030 - val_mean_absolute_error: 0.3014\n",
      "Epoch 3/20\n",
      "368/368 [==============================] - 1s 2ms/step - loss: 0.1944 - mean_absolute_error: 0.3021 - val_loss: 0.2326 - val_mean_absolute_error: 0.3240\n",
      "Epoch 4/20\n",
      "368/368 [==============================] - 1s 2ms/step - loss: 0.1939 - mean_absolute_error: 0.3021 - val_loss: 0.2007 - val_mean_absolute_error: 0.3021\n",
      "Epoch 5/20\n",
      "368/368 [==============================] - 1s 2ms/step - loss: 0.1936 - mean_absolute_error: 0.3019 - val_loss: 0.2139 - val_mean_absolute_error: 0.3121\n",
      "Epoch 6/20\n",
      "368/368 [==============================] - 1s 2ms/step - loss: 0.1934 - mean_absolute_error: 0.3014 - val_loss: 0.2156 - val_mean_absolute_error: 0.3151\n",
      "***TRAIN***:\n",
      "correlation related to cluster centre: 0.90\n",
      "r2 score related to cluster centre: 0.80\n",
      "***VALIDATION***:\n",
      "correlation related to cluster centre: 0.91\n",
      "r2 score related to cluster centre: 0.81\n"
     ]
    },
    {
     "data": {
      "application/vnd.jupyter.widget-view+json": {
       "model_id": "869856cd1e7348e6ac53ede895dbe15b",
       "version_major": 2,
       "version_minor": 0
      },
      "text/plain": [
       "IntProgress(value=0, max=4)"
      ]
     },
     "metadata": {},
     "output_type": "display_data"
    },
    {
     "name": "stdout",
     "output_type": "stream",
     "text": [
      "***VALIDATION***:\n",
      "average correlation: 0.91\n",
      "average r2: 0.81\n",
      "---do_investigations. cluster index : 5---\n"
     ]
    },
    {
     "data": {
      "application/vnd.jupyter.widget-view+json": {
       "model_id": "5bea23a63c2448e6aed632afa82284d5",
       "version_major": 2,
       "version_minor": 0
      },
      "text/plain": [
       "IntProgress(value=0, max=22)"
      ]
     },
     "metadata": {},
     "output_type": "display_data"
    },
    {
     "name": "stdout",
     "output_type": "stream",
     "text": [
      "Epoch 1/20\n",
      "368/368 [==============================] - 2s 3ms/step - loss: 0.2437 - mean_absolute_error: 0.3442 - val_loss: 0.1771 - val_mean_absolute_error: 0.2888\n",
      "Epoch 2/20\n",
      "368/368 [==============================] - 1s 2ms/step - loss: 0.2054 - mean_absolute_error: 0.3116 - val_loss: 0.1809 - val_mean_absolute_error: 0.3109\n",
      "Epoch 3/20\n",
      "368/368 [==============================] - 1s 2ms/step - loss: 0.2053 - mean_absolute_error: 0.3110 - val_loss: 0.1791 - val_mean_absolute_error: 0.3062\n",
      "***TRAIN***:\n",
      "correlation related to cluster centre: 0.89\n",
      "r2 score related to cluster centre: 0.79\n",
      "***VALIDATION***:\n",
      "correlation related to cluster centre: 0.91\n",
      "r2 score related to cluster centre: 0.82\n"
     ]
    },
    {
     "data": {
      "application/vnd.jupyter.widget-view+json": {
       "model_id": "69a0ae500d704f5699ffe8fe7544084a",
       "version_major": 2,
       "version_minor": 0
      },
      "text/plain": [
       "IntProgress(value=0, max=22)"
      ]
     },
     "metadata": {},
     "output_type": "display_data"
    },
    {
     "name": "stdout",
     "output_type": "stream",
     "text": [
      "***VALIDATION***:\n",
      "average correlation: 0.91\n",
      "average r2: 0.82\n",
      "---do_investigations. cluster index : 6---\n"
     ]
    },
    {
     "data": {
      "application/vnd.jupyter.widget-view+json": {
       "model_id": "f9746e8f01c644c79d8ed159a9efece1",
       "version_major": 2,
       "version_minor": 0
      },
      "text/plain": [
       "IntProgress(value=0, max=20)"
      ]
     },
     "metadata": {},
     "output_type": "display_data"
    },
    {
     "name": "stdout",
     "output_type": "stream",
     "text": [
      "Epoch 1/20\n",
      "368/368 [==============================] - 2s 3ms/step - loss: 0.2683 - mean_absolute_error: 0.3560 - val_loss: 0.1790 - val_mean_absolute_error: 0.2981\n",
      "Epoch 2/20\n",
      "368/368 [==============================] - 1s 2ms/step - loss: 0.2042 - mean_absolute_error: 0.3145 - val_loss: 0.1774 - val_mean_absolute_error: 0.2991\n",
      "Epoch 3/20\n",
      "368/368 [==============================] - 1s 2ms/step - loss: 0.2033 - mean_absolute_error: 0.3131 - val_loss: 0.1769 - val_mean_absolute_error: 0.3002\n",
      "Epoch 4/20\n",
      "368/368 [==============================] - 1s 2ms/step - loss: 0.2027 - mean_absolute_error: 0.3128 - val_loss: 0.1771 - val_mean_absolute_error: 0.3001\n",
      "Epoch 5/20\n",
      "368/368 [==============================] - 1s 2ms/step - loss: 0.2028 - mean_absolute_error: 0.3125 - val_loss: 0.1804 - val_mean_absolute_error: 0.3072\n",
      "***TRAIN***:\n",
      "correlation related to cluster centre: 0.89\n",
      "r2 score related to cluster centre: 0.80\n",
      "***VALIDATION***:\n",
      "correlation related to cluster centre: 0.91\n",
      "r2 score related to cluster centre: 0.82\n"
     ]
    },
    {
     "data": {
      "application/vnd.jupyter.widget-view+json": {
       "model_id": "fbb46393fcb84af5bc4ac7b4fa114f44",
       "version_major": 2,
       "version_minor": 0
      },
      "text/plain": [
       "IntProgress(value=0, max=20)"
      ]
     },
     "metadata": {},
     "output_type": "display_data"
    },
    {
     "name": "stdout",
     "output_type": "stream",
     "text": [
      "***VALIDATION***:\n",
      "average correlation: 0.91\n",
      "average r2: 0.82\n",
      "---do_investigations. cluster index : 7---\n"
     ]
    },
    {
     "data": {
      "application/vnd.jupyter.widget-view+json": {
       "model_id": "91998474f0bc4d24bd8aaa682daae7f1",
       "version_major": 2,
       "version_minor": 0
      },
      "text/plain": [
       "IntProgress(value=0, max=8)"
      ]
     },
     "metadata": {},
     "output_type": "display_data"
    },
    {
     "name": "stdout",
     "output_type": "stream",
     "text": [
      "Epoch 1/20\n",
      "368/368 [==============================] - 2s 3ms/step - loss: 0.2817 - mean_absolute_error: 0.3537 - val_loss: 0.1737 - val_mean_absolute_error: 0.2746\n",
      "Epoch 2/20\n",
      "368/368 [==============================] - 1s 2ms/step - loss: 0.2041 - mean_absolute_error: 0.3042 - val_loss: 0.1696 - val_mean_absolute_error: 0.2756\n",
      "Epoch 3/20\n",
      "368/368 [==============================] - 1s 2ms/step - loss: 0.2026 - mean_absolute_error: 0.3030 - val_loss: 0.1694 - val_mean_absolute_error: 0.2709\n",
      "Epoch 4/20\n",
      "368/368 [==============================] - 1s 2ms/step - loss: 0.2022 - mean_absolute_error: 0.3033 - val_loss: 0.1695 - val_mean_absolute_error: 0.2734\n",
      "Epoch 5/20\n",
      "368/368 [==============================] - 1s 3ms/step - loss: 0.2015 - mean_absolute_error: 0.3025 - val_loss: 0.1707 - val_mean_absolute_error: 0.2732\n",
      "***TRAIN***:\n",
      "correlation related to cluster centre: 0.90\n",
      "r2 score related to cluster centre: 0.80\n",
      "***VALIDATION***:\n",
      "correlation related to cluster centre: 0.91\n",
      "r2 score related to cluster centre: 0.82\n"
     ]
    },
    {
     "data": {
      "application/vnd.jupyter.widget-view+json": {
       "model_id": "27169d7acc5340c69e7ec0521391405f",
       "version_major": 2,
       "version_minor": 0
      },
      "text/plain": [
       "IntProgress(value=0, max=8)"
      ]
     },
     "metadata": {},
     "output_type": "display_data"
    },
    {
     "name": "stdout",
     "output_type": "stream",
     "text": [
      "***VALIDATION***:\n",
      "average correlation: 0.91\n",
      "average r2: 0.82\n",
      "---do_investigations. cluster index : 8---\n"
     ]
    },
    {
     "data": {
      "application/vnd.jupyter.widget-view+json": {
       "model_id": "f35ad9d3f20e4fc6a3a3999842ca62af",
       "version_major": 2,
       "version_minor": 0
      },
      "text/plain": [
       "IntProgress(value=0, max=4291)"
      ]
     },
     "metadata": {},
     "output_type": "display_data"
    },
    {
     "name": "stdout",
     "output_type": "stream",
     "text": [
      "Epoch 1/20\n",
      "368/368 [==============================] - 2s 3ms/step - loss: 0.2134 - mean_absolute_error: 0.2842 - val_loss: 0.1491 - val_mean_absolute_error: 0.2004\n",
      "Epoch 2/20\n",
      "368/368 [==============================] - 1s 2ms/step - loss: 0.1248 - mean_absolute_error: 0.2136 - val_loss: 0.1448 - val_mean_absolute_error: 0.1962\n",
      "Epoch 3/20\n",
      "368/368 [==============================] - 1s 2ms/step - loss: 0.1242 - mean_absolute_error: 0.2133 - val_loss: 0.1442 - val_mean_absolute_error: 0.1970\n",
      "Epoch 4/20\n",
      "368/368 [==============================] - 1s 2ms/step - loss: 0.1224 - mean_absolute_error: 0.2104 - val_loss: 0.1436 - val_mean_absolute_error: 0.1955\n",
      "Epoch 5/20\n",
      "368/368 [==============================] - 1s 2ms/step - loss: 0.1232 - mean_absolute_error: 0.2113 - val_loss: 0.1439 - val_mean_absolute_error: 0.1949\n",
      "Epoch 6/20\n",
      "368/368 [==============================] - 1s 2ms/step - loss: 0.1228 - mean_absolute_error: 0.2110 - val_loss: 0.1440 - val_mean_absolute_error: 0.1954\n",
      "***TRAIN***:\n",
      "correlation related to cluster centre: 0.94\n",
      "r2 score related to cluster centre: 0.88\n",
      "***VALIDATION***:\n",
      "correlation related to cluster centre: 0.91\n",
      "r2 score related to cluster centre: 0.82\n"
     ]
    },
    {
     "data": {
      "application/vnd.jupyter.widget-view+json": {
       "model_id": "823a733de38d48fe8b608b18183665d0",
       "version_major": 2,
       "version_minor": 0
      },
      "text/plain": [
       "IntProgress(value=0, max=4291)"
      ]
     },
     "metadata": {},
     "output_type": "display_data"
    },
    {
     "name": "stdout",
     "output_type": "stream",
     "text": [
      "***VALIDATION***:\n",
      "average correlation: nan\n",
      "average r2: -85530319667887382068199424.00\n",
      "---do_investigations. cluster index : 9---\n"
     ]
    },
    {
     "data": {
      "application/vnd.jupyter.widget-view+json": {
       "model_id": "dc24b00f41f240098006768f728b8209",
       "version_major": 2,
       "version_minor": 0
      },
      "text/plain": [
       "IntProgress(value=0, max=68)"
      ]
     },
     "metadata": {},
     "output_type": "display_data"
    },
    {
     "name": "stdout",
     "output_type": "stream",
     "text": [
      "Epoch 1/20\n",
      "368/368 [==============================] - 2s 3ms/step - loss: 0.2976 - mean_absolute_error: 0.3626 - val_loss: 0.1433 - val_mean_absolute_error: 0.2709\n",
      "Epoch 2/20\n",
      "368/368 [==============================] - 1s 2ms/step - loss: 0.2081 - mean_absolute_error: 0.3094 - val_loss: 0.1396 - val_mean_absolute_error: 0.2631\n",
      "Epoch 3/20\n",
      "368/368 [==============================] - 1s 2ms/step - loss: 0.2071 - mean_absolute_error: 0.3085 - val_loss: 0.1378 - val_mean_absolute_error: 0.2568\n",
      "Epoch 4/20\n",
      "368/368 [==============================] - 1s 2ms/step - loss: 0.2063 - mean_absolute_error: 0.3075 - val_loss: 0.1442 - val_mean_absolute_error: 0.2665\n",
      "Epoch 5/20\n",
      "368/368 [==============================] - 1s 2ms/step - loss: 0.2067 - mean_absolute_error: 0.3079 - val_loss: 0.1377 - val_mean_absolute_error: 0.2582\n",
      "Epoch 6/20\n",
      "368/368 [==============================] - 1s 2ms/step - loss: 0.2058 - mean_absolute_error: 0.3070 - val_loss: 0.1381 - val_mean_absolute_error: 0.2576\n",
      "Epoch 7/20\n",
      "368/368 [==============================] - 1s 2ms/step - loss: 0.2058 - mean_absolute_error: 0.3068 - val_loss: 0.1412 - val_mean_absolute_error: 0.2669\n",
      "***TRAIN***:\n",
      "correlation related to cluster centre: 0.89\n",
      "r2 score related to cluster centre: 0.79\n",
      "***VALIDATION***:\n",
      "correlation related to cluster centre: 0.91\n",
      "r2 score related to cluster centre: 0.82\n"
     ]
    },
    {
     "data": {
      "application/vnd.jupyter.widget-view+json": {
       "model_id": "048d8049dd324996a520b962a133f082",
       "version_major": 2,
       "version_minor": 0
      },
      "text/plain": [
       "IntProgress(value=0, max=68)"
      ]
     },
     "metadata": {},
     "output_type": "display_data"
    },
    {
     "name": "stdout",
     "output_type": "stream",
     "text": [
      "***VALIDATION***:\n",
      "average correlation: 0.91\n",
      "average r2: 0.82\n",
      "---do_investigations. cluster index : 10---\n"
     ]
    },
    {
     "data": {
      "application/vnd.jupyter.widget-view+json": {
       "model_id": "946de8f7fe1946cc829fc8a90b48521d",
       "version_major": 2,
       "version_minor": 0
      },
      "text/plain": [
       "IntProgress(value=0, max=20)"
      ]
     },
     "metadata": {},
     "output_type": "display_data"
    },
    {
     "name": "stdout",
     "output_type": "stream",
     "text": [
      "Epoch 1/20\n",
      "368/368 [==============================] - 2s 3ms/step - loss: 0.2569 - mean_absolute_error: 0.3457 - val_loss: 0.1492 - val_mean_absolute_error: 0.2659\n",
      "Epoch 2/20\n",
      "368/368 [==============================] - 1s 2ms/step - loss: 0.1889 - mean_absolute_error: 0.2975 - val_loss: 0.1466 - val_mean_absolute_error: 0.2654\n",
      "Epoch 3/20\n",
      "368/368 [==============================] - 1s 3ms/step - loss: 0.1882 - mean_absolute_error: 0.2966 - val_loss: 0.1463 - val_mean_absolute_error: 0.2629\n",
      "Epoch 4/20\n",
      "368/368 [==============================] - 1s 3ms/step - loss: 0.1880 - mean_absolute_error: 0.2961 - val_loss: 0.1460 - val_mean_absolute_error: 0.2672\n",
      "Epoch 5/20\n",
      "368/368 [==============================] - 1s 3ms/step - loss: 0.1880 - mean_absolute_error: 0.2969 - val_loss: 0.1472 - val_mean_absolute_error: 0.2666\n",
      "Epoch 6/20\n",
      "368/368 [==============================] - 1s 2ms/step - loss: 0.1877 - mean_absolute_error: 0.2964 - val_loss: 0.1456 - val_mean_absolute_error: 0.2623\n",
      "Epoch 7/20\n",
      "368/368 [==============================] - 1s 3ms/step - loss: 0.1870 - mean_absolute_error: 0.2954 - val_loss: 0.1454 - val_mean_absolute_error: 0.2641\n",
      "Epoch 8/20\n",
      "368/368 [==============================] - 1s 3ms/step - loss: 0.1864 - mean_absolute_error: 0.2943 - val_loss: 0.1453 - val_mean_absolute_error: 0.2619\n",
      "Epoch 9/20\n",
      "368/368 [==============================] - 1s 2ms/step - loss: 0.1867 - mean_absolute_error: 0.2943 - val_loss: 0.1456 - val_mean_absolute_error: 0.2621\n",
      "Epoch 10/20\n",
      "368/368 [==============================] - 1s 2ms/step - loss: 0.1871 - mean_absolute_error: 0.2949 - val_loss: 0.1443 - val_mean_absolute_error: 0.2585\n",
      "Epoch 11/20\n",
      "368/368 [==============================] - 1s 3ms/step - loss: 0.1867 - mean_absolute_error: 0.2945 - val_loss: 0.1474 - val_mean_absolute_error: 0.2627\n",
      "Epoch 12/20\n",
      "368/368 [==============================] - 1s 2ms/step - loss: 0.1864 - mean_absolute_error: 0.2942 - val_loss: 0.1449 - val_mean_absolute_error: 0.2605\n",
      "***TRAIN***:\n",
      "correlation related to cluster centre: 0.90\n",
      "r2 score related to cluster centre: 0.82\n",
      "***VALIDATION***:\n",
      "correlation related to cluster centre: 0.91\n",
      "r2 score related to cluster centre: 0.83\n"
     ]
    },
    {
     "data": {
      "application/vnd.jupyter.widget-view+json": {
       "model_id": "3d11d1ab8f8043e085bec663a22b10c4",
       "version_major": 2,
       "version_minor": 0
      },
      "text/plain": [
       "IntProgress(value=0, max=20)"
      ]
     },
     "metadata": {},
     "output_type": "display_data"
    },
    {
     "name": "stdout",
     "output_type": "stream",
     "text": [
      "***VALIDATION***:\n",
      "average correlation: 0.91\n",
      "average r2: 0.83\n",
      "---do_investigations. cluster index : 11---\n"
     ]
    },
    {
     "data": {
      "application/vnd.jupyter.widget-view+json": {
       "model_id": "1962160e5a024b189bef39d9fb9baf5d",
       "version_major": 2,
       "version_minor": 0
      },
      "text/plain": [
       "IntProgress(value=0, max=29)"
      ]
     },
     "metadata": {},
     "output_type": "display_data"
    },
    {
     "name": "stdout",
     "output_type": "stream",
     "text": [
      "Epoch 1/20\n",
      "368/368 [==============================] - 2s 3ms/step - loss: 0.2570 - mean_absolute_error: 0.3539 - val_loss: 0.1786 - val_mean_absolute_error: 0.2971\n",
      "Epoch 2/20\n",
      "368/368 [==============================] - 1s 3ms/step - loss: 0.2066 - mean_absolute_error: 0.3156 - val_loss: 0.1794 - val_mean_absolute_error: 0.2980\n",
      "Epoch 3/20\n",
      "368/368 [==============================] - 1s 3ms/step - loss: 0.2059 - mean_absolute_error: 0.3146 - val_loss: 0.1763 - val_mean_absolute_error: 0.2935\n",
      "Epoch 4/20\n",
      "368/368 [==============================] - 1s 3ms/step - loss: 0.2058 - mean_absolute_error: 0.3139 - val_loss: 0.1779 - val_mean_absolute_error: 0.3011\n",
      "Epoch 5/20\n",
      "368/368 [==============================] - 1s 2ms/step - loss: 0.2060 - mean_absolute_error: 0.3141 - val_loss: 0.1797 - val_mean_absolute_error: 0.3069\n",
      "***TRAIN***:\n",
      "correlation related to cluster centre: 0.89\n",
      "r2 score related to cluster centre: 0.79\n",
      "***VALIDATION***:\n",
      "correlation related to cluster centre: 0.91\n",
      "r2 score related to cluster centre: 0.82\n"
     ]
    },
    {
     "data": {
      "application/vnd.jupyter.widget-view+json": {
       "model_id": "ed561492a2cf4b8b91660c21a0f61e1b",
       "version_major": 2,
       "version_minor": 0
      },
      "text/plain": [
       "IntProgress(value=0, max=29)"
      ]
     },
     "metadata": {},
     "output_type": "display_data"
    },
    {
     "name": "stdout",
     "output_type": "stream",
     "text": [
      "***VALIDATION***:\n",
      "average correlation: 0.90\n",
      "average r2: 0.81\n",
      "---do_investigations. cluster index : 12---\n"
     ]
    },
    {
     "data": {
      "application/vnd.jupyter.widget-view+json": {
       "model_id": "3d8455e4420e4b52bda3f73eabcf1668",
       "version_major": 2,
       "version_minor": 0
      },
      "text/plain": [
       "IntProgress(value=0, max=1506)"
      ]
     },
     "metadata": {},
     "output_type": "display_data"
    },
    {
     "name": "stdout",
     "output_type": "stream",
     "text": [
      "Epoch 1/20\n",
      "368/368 [==============================] - 2s 3ms/step - loss: 0.3155 - mean_absolute_error: 0.3228 - val_loss: 0.2458 - val_mean_absolute_error: 0.2787\n",
      "Epoch 2/20\n",
      "368/368 [==============================] - 1s 3ms/step - loss: 0.2059 - mean_absolute_error: 0.2782 - val_loss: 0.2417 - val_mean_absolute_error: 0.2785\n",
      "Epoch 3/20\n",
      "368/368 [==============================] - 1s 2ms/step - loss: 0.2054 - mean_absolute_error: 0.2786 - val_loss: 0.2436 - val_mean_absolute_error: 0.2780\n",
      "Epoch 4/20\n",
      "368/368 [==============================] - 1s 2ms/step - loss: 0.2043 - mean_absolute_error: 0.2766 - val_loss: 0.2430 - val_mean_absolute_error: 0.2840\n",
      "***TRAIN***:\n",
      "correlation related to cluster centre: 0.89\n",
      "r2 score related to cluster centre: 0.80\n",
      "***VALIDATION***:\n",
      "correlation related to cluster centre: 0.90\n",
      "r2 score related to cluster centre: 0.81\n"
     ]
    },
    {
     "data": {
      "application/vnd.jupyter.widget-view+json": {
       "model_id": "69b8eecaab37451ab3069b095849e500",
       "version_major": 2,
       "version_minor": 0
      },
      "text/plain": [
       "IntProgress(value=0, max=1506)"
      ]
     },
     "metadata": {},
     "output_type": "display_data"
    },
    {
     "name": "stdout",
     "output_type": "stream",
     "text": [
      "***VALIDATION***:\n",
      "average correlation: 0.89\n",
      "average r2: 0.68\n",
      "---do_investigations. cluster index : 13---\n"
     ]
    },
    {
     "data": {
      "application/vnd.jupyter.widget-view+json": {
       "model_id": "42e3ec530915453ea839792f4e3ac45b",
       "version_major": 2,
       "version_minor": 0
      },
      "text/plain": [
       "IntProgress(value=0, max=10)"
      ]
     },
     "metadata": {},
     "output_type": "display_data"
    },
    {
     "name": "stdout",
     "output_type": "stream",
     "text": [
      "Epoch 1/20\n",
      "368/368 [==============================] - 2s 3ms/step - loss: 0.2431 - mean_absolute_error: 0.3315 - val_loss: 0.1775 - val_mean_absolute_error: 0.2792\n",
      "Epoch 2/20\n",
      "368/368 [==============================] - 1s 2ms/step - loss: 0.2021 - mean_absolute_error: 0.3025 - val_loss: 0.1766 - val_mean_absolute_error: 0.2773\n",
      "Epoch 3/20\n",
      "368/368 [==============================] - 1s 3ms/step - loss: 0.2012 - mean_absolute_error: 0.3018 - val_loss: 0.1783 - val_mean_absolute_error: 0.2754\n",
      "Epoch 4/20\n",
      "368/368 [==============================] - 1s 2ms/step - loss: 0.2008 - mean_absolute_error: 0.3012 - val_loss: 0.1783 - val_mean_absolute_error: 0.2743\n",
      "***TRAIN***:\n",
      "correlation related to cluster centre: 0.90\n",
      "r2 score related to cluster centre: 0.80\n",
      "***VALIDATION***:\n",
      "correlation related to cluster centre: 0.91\n",
      "r2 score related to cluster centre: 0.82\n"
     ]
    },
    {
     "data": {
      "application/vnd.jupyter.widget-view+json": {
       "model_id": "89d734493dcb442c984c348526328041",
       "version_major": 2,
       "version_minor": 0
      },
      "text/plain": [
       "IntProgress(value=0, max=10)"
      ]
     },
     "metadata": {},
     "output_type": "display_data"
    },
    {
     "name": "stdout",
     "output_type": "stream",
     "text": [
      "***VALIDATION***:\n",
      "average correlation: 0.91\n",
      "average r2: 0.82\n",
      "---do_investigations. cluster index : 14---\n"
     ]
    },
    {
     "data": {
      "application/vnd.jupyter.widget-view+json": {
       "model_id": "9f695d7ffa254df6a2951de686586c06",
       "version_major": 2,
       "version_minor": 0
      },
      "text/plain": [
       "IntProgress(value=0, max=32)"
      ]
     },
     "metadata": {},
     "output_type": "display_data"
    },
    {
     "name": "stdout",
     "output_type": "stream",
     "text": [
      "Epoch 1/20\n",
      "368/368 [==============================] - 2s 3ms/step - loss: 0.2358 - mean_absolute_error: 0.3303 - val_loss: 0.1492 - val_mean_absolute_error: 0.2791\n",
      "Epoch 2/20\n",
      "368/368 [==============================] - 1s 2ms/step - loss: 0.1707 - mean_absolute_error: 0.2871 - val_loss: 0.1513 - val_mean_absolute_error: 0.2915\n",
      "Epoch 3/20\n",
      "368/368 [==============================] - 1s 2ms/step - loss: 0.1704 - mean_absolute_error: 0.2864 - val_loss: 0.1482 - val_mean_absolute_error: 0.2819\n",
      "Epoch 4/20\n",
      "368/368 [==============================] - 1s 2ms/step - loss: 0.1691 - mean_absolute_error: 0.2853 - val_loss: 0.1444 - val_mean_absolute_error: 0.2746\n",
      "Epoch 5/20\n",
      "368/368 [==============================] - 1s 2ms/step - loss: 0.1684 - mean_absolute_error: 0.2850 - val_loss: 0.1447 - val_mean_absolute_error: 0.2727\n",
      "Epoch 6/20\n",
      "368/368 [==============================] - 1s 2ms/step - loss: 0.1684 - mean_absolute_error: 0.2846 - val_loss: 0.1443 - val_mean_absolute_error: 0.2721\n",
      "Epoch 7/20\n",
      "368/368 [==============================] - 1s 2ms/step - loss: 0.1686 - mean_absolute_error: 0.2853 - val_loss: 0.1448 - val_mean_absolute_error: 0.2744\n",
      "Epoch 8/20\n",
      "368/368 [==============================] - 1s 2ms/step - loss: 0.1680 - mean_absolute_error: 0.2847 - val_loss: 0.1465 - val_mean_absolute_error: 0.2776\n",
      "***TRAIN***:\n",
      "correlation related to cluster centre: 0.91\n",
      "r2 score related to cluster centre: 0.83\n",
      "***VALIDATION***:\n",
      "correlation related to cluster centre: 0.91\n",
      "r2 score related to cluster centre: 0.83\n"
     ]
    },
    {
     "data": {
      "application/vnd.jupyter.widget-view+json": {
       "model_id": "c22b5a901f8546908d2e8da9384d2de4",
       "version_major": 2,
       "version_minor": 0
      },
      "text/plain": [
       "IntProgress(value=0, max=32)"
      ]
     },
     "metadata": {},
     "output_type": "display_data"
    },
    {
     "name": "stdout",
     "output_type": "stream",
     "text": [
      "***VALIDATION***:\n",
      "average correlation: 0.91\n",
      "average r2: 0.80\n",
      "---do_investigations. cluster index : 15---\n"
     ]
    },
    {
     "data": {
      "application/vnd.jupyter.widget-view+json": {
       "model_id": "b7c580a08a6d41f5af79eefa91d708f1",
       "version_major": 2,
       "version_minor": 0
      },
      "text/plain": [
       "IntProgress(value=0, max=216)"
      ]
     },
     "metadata": {},
     "output_type": "display_data"
    },
    {
     "name": "stdout",
     "output_type": "stream",
     "text": [
      "Epoch 1/20\n",
      "368/368 [==============================] - 2s 3ms/step - loss: 0.2735 - mean_absolute_error: 0.3625 - val_loss: 0.1698 - val_mean_absolute_error: 0.2820\n",
      "Epoch 2/20\n",
      "368/368 [==============================] - 1s 2ms/step - loss: 0.1832 - mean_absolute_error: 0.2953 - val_loss: 0.1682 - val_mean_absolute_error: 0.2813\n",
      "Epoch 3/20\n",
      "368/368 [==============================] - 1s 2ms/step - loss: 0.1830 - mean_absolute_error: 0.2948 - val_loss: 0.1659 - val_mean_absolute_error: 0.2789\n",
      "Epoch 4/20\n",
      "368/368 [==============================] - 1s 2ms/step - loss: 0.1820 - mean_absolute_error: 0.2936 - val_loss: 0.1710 - val_mean_absolute_error: 0.2838\n",
      "Epoch 5/20\n",
      "368/368 [==============================] - 1s 2ms/step - loss: 0.1817 - mean_absolute_error: 0.2941 - val_loss: 0.1646 - val_mean_absolute_error: 0.2752\n",
      "Epoch 6/20\n",
      "368/368 [==============================] - 1s 2ms/step - loss: 0.1810 - mean_absolute_error: 0.2933 - val_loss: 0.1674 - val_mean_absolute_error: 0.2806\n",
      "Epoch 7/20\n",
      "368/368 [==============================] - 1s 2ms/step - loss: 0.1814 - mean_absolute_error: 0.2938 - val_loss: 0.1647 - val_mean_absolute_error: 0.2775\n",
      "***TRAIN***:\n",
      "correlation related to cluster centre: 0.91\n",
      "r2 score related to cluster centre: 0.82\n",
      "***VALIDATION***:\n",
      "correlation related to cluster centre: 0.92\n",
      "r2 score related to cluster centre: 0.84\n"
     ]
    },
    {
     "data": {
      "application/vnd.jupyter.widget-view+json": {
       "model_id": "b9c25196e62647c39232623863cd23d5",
       "version_major": 2,
       "version_minor": 0
      },
      "text/plain": [
       "IntProgress(value=0, max=216)"
      ]
     },
     "metadata": {},
     "output_type": "display_data"
    },
    {
     "name": "stdout",
     "output_type": "stream",
     "text": [
      "***VALIDATION***:\n",
      "average correlation: 0.92\n",
      "average r2: 0.82\n",
      "---do_investigations. cluster index : 16---\n"
     ]
    },
    {
     "data": {
      "application/vnd.jupyter.widget-view+json": {
       "model_id": "0788a137b51847d1958cdaf85f585b50",
       "version_major": 2,
       "version_minor": 0
      },
      "text/plain": [
       "IntProgress(value=0, max=22)"
      ]
     },
     "metadata": {},
     "output_type": "display_data"
    },
    {
     "name": "stdout",
     "output_type": "stream",
     "text": [
      "Epoch 1/20\n",
      "368/368 [==============================] - 2s 3ms/step - loss: 0.2671 - mean_absolute_error: 0.3379 - val_loss: 0.1824 - val_mean_absolute_error: 0.2850\n",
      "Epoch 2/20\n",
      "368/368 [==============================] - 1s 2ms/step - loss: 0.1849 - mean_absolute_error: 0.2927 - val_loss: 0.1774 - val_mean_absolute_error: 0.2830\n",
      "Epoch 3/20\n",
      "368/368 [==============================] - 1s 2ms/step - loss: 0.1846 - mean_absolute_error: 0.2918 - val_loss: 0.1792 - val_mean_absolute_error: 0.2842\n",
      "Epoch 4/20\n",
      "368/368 [==============================] - 1s 2ms/step - loss: 0.1842 - mean_absolute_error: 0.2920 - val_loss: 0.1767 - val_mean_absolute_error: 0.2775\n",
      "Epoch 5/20\n",
      "368/368 [==============================] - 1s 2ms/step - loss: 0.1840 - mean_absolute_error: 0.2915 - val_loss: 0.1790 - val_mean_absolute_error: 0.2881\n",
      "Epoch 6/20\n",
      "368/368 [==============================] - 1s 2ms/step - loss: 0.1833 - mean_absolute_error: 0.2913 - val_loss: 0.1792 - val_mean_absolute_error: 0.2774\n",
      "***TRAIN***:\n",
      "correlation related to cluster centre: 0.90\n",
      "r2 score related to cluster centre: 0.82\n",
      "***VALIDATION***:\n",
      "correlation related to cluster centre: 0.91\n",
      "r2 score related to cluster centre: 0.83\n"
     ]
    },
    {
     "data": {
      "application/vnd.jupyter.widget-view+json": {
       "model_id": "cc8bd57d0722463a86c485deef758f91",
       "version_major": 2,
       "version_minor": 0
      },
      "text/plain": [
       "IntProgress(value=0, max=22)"
      ]
     },
     "metadata": {},
     "output_type": "display_data"
    },
    {
     "name": "stdout",
     "output_type": "stream",
     "text": [
      "***VALIDATION***:\n",
      "average correlation: 0.91\n",
      "average r2: 0.83\n",
      "---do_investigations. cluster index : 17---\n"
     ]
    },
    {
     "data": {
      "application/vnd.jupyter.widget-view+json": {
       "model_id": "9d9075d3ede54cfa8d6201e859a438e9",
       "version_major": 2,
       "version_minor": 0
      },
      "text/plain": [
       "IntProgress(value=0, max=13)"
      ]
     },
     "metadata": {},
     "output_type": "display_data"
    },
    {
     "name": "stdout",
     "output_type": "stream",
     "text": [
      "Epoch 1/20\n",
      "368/368 [==============================] - 2s 3ms/step - loss: 0.2444 - mean_absolute_error: 0.3458 - val_loss: 0.1860 - val_mean_absolute_error: 0.2908\n",
      "Epoch 2/20\n",
      "368/368 [==============================] - 1s 2ms/step - loss: 0.2066 - mean_absolute_error: 0.3109 - val_loss: 0.1861 - val_mean_absolute_error: 0.2869\n",
      "Epoch 3/20\n",
      "368/368 [==============================] - 1s 2ms/step - loss: 0.2061 - mean_absolute_error: 0.3106 - val_loss: 0.1933 - val_mean_absolute_error: 0.3001\n",
      "***TRAIN***:\n",
      "correlation related to cluster centre: 0.89\n",
      "r2 score related to cluster centre: 0.79\n",
      "***VALIDATION***:\n",
      "correlation related to cluster centre: 0.91\n",
      "r2 score related to cluster centre: 0.81\n"
     ]
    },
    {
     "data": {
      "application/vnd.jupyter.widget-view+json": {
       "model_id": "54457cd426ff4f9fa85a9138347d4a68",
       "version_major": 2,
       "version_minor": 0
      },
      "text/plain": [
       "IntProgress(value=0, max=13)"
      ]
     },
     "metadata": {},
     "output_type": "display_data"
    },
    {
     "name": "stdout",
     "output_type": "stream",
     "text": [
      "***VALIDATION***:\n",
      "average correlation: 0.91\n",
      "average r2: 0.81\n",
      "---do_investigations. cluster index : 18---\n"
     ]
    },
    {
     "data": {
      "application/vnd.jupyter.widget-view+json": {
       "model_id": "38076b9f30844f2aba2440896f364e0d",
       "version_major": 2,
       "version_minor": 0
      },
      "text/plain": [
       "IntProgress(value=0, max=43)"
      ]
     },
     "metadata": {},
     "output_type": "display_data"
    },
    {
     "name": "stdout",
     "output_type": "stream",
     "text": [
      "Epoch 1/20\n",
      "368/368 [==============================] - 2s 3ms/step - loss: 0.2527 - mean_absolute_error: 0.3456 - val_loss: 0.1492 - val_mean_absolute_error: 0.2627\n",
      "Epoch 2/20\n",
      "368/368 [==============================] - 1s 2ms/step - loss: 0.2163 - mean_absolute_error: 0.3102 - val_loss: 0.1502 - val_mean_absolute_error: 0.2760\n",
      "Epoch 3/20\n",
      "368/368 [==============================] - 1s 2ms/step - loss: 0.2144 - mean_absolute_error: 0.3073 - val_loss: 0.1483 - val_mean_absolute_error: 0.2744\n",
      "Epoch 4/20\n",
      "368/368 [==============================] - 1s 2ms/step - loss: 0.2138 - mean_absolute_error: 0.3072 - val_loss: 0.1469 - val_mean_absolute_error: 0.2683\n",
      "Epoch 5/20\n",
      "368/368 [==============================] - 1s 2ms/step - loss: 0.2137 - mean_absolute_error: 0.3062 - val_loss: 0.1516 - val_mean_absolute_error: 0.2770\n",
      "Epoch 6/20\n",
      "368/368 [==============================] - 1s 2ms/step - loss: 0.2128 - mean_absolute_error: 0.3060 - val_loss: 0.1485 - val_mean_absolute_error: 0.2721\n",
      "***TRAIN***:\n",
      "correlation related to cluster centre: 0.89\n",
      "r2 score related to cluster centre: 0.79\n",
      "***VALIDATION***:\n",
      "correlation related to cluster centre: 0.90\n",
      "r2 score related to cluster centre: 0.81\n"
     ]
    },
    {
     "data": {
      "application/vnd.jupyter.widget-view+json": {
       "model_id": "6bf927e5f24f4c9380a7e94c9b9cb60e",
       "version_major": 2,
       "version_minor": 0
      },
      "text/plain": [
       "IntProgress(value=0, max=43)"
      ]
     },
     "metadata": {},
     "output_type": "display_data"
    },
    {
     "name": "stdout",
     "output_type": "stream",
     "text": [
      "***VALIDATION***:\n",
      "average correlation: 0.90\n",
      "average r2: 0.55\n",
      "---do_investigations. cluster index : 19---\n"
     ]
    },
    {
     "data": {
      "application/vnd.jupyter.widget-view+json": {
       "model_id": "068c41fb3b80439a82df076d63298774",
       "version_major": 2,
       "version_minor": 0
      },
      "text/plain": [
       "IntProgress(value=0, max=710)"
      ]
     },
     "metadata": {},
     "output_type": "display_data"
    },
    {
     "name": "stdout",
     "output_type": "stream",
     "text": [
      "Epoch 1/20\n",
      "368/368 [==============================] - 2s 3ms/step - loss: 0.2571 - mean_absolute_error: 0.3565 - val_loss: 0.2095 - val_mean_absolute_error: 0.3085\n",
      "Epoch 2/20\n",
      "368/368 [==============================] - 1s 2ms/step - loss: 0.2046 - mean_absolute_error: 0.3070 - val_loss: 0.2078 - val_mean_absolute_error: 0.3042\n",
      "Epoch 3/20\n",
      "368/368 [==============================] - 1s 2ms/step - loss: 0.2033 - mean_absolute_error: 0.3057 - val_loss: 0.2070 - val_mean_absolute_error: 0.3035\n",
      "Epoch 4/20\n",
      "368/368 [==============================] - 1s 3ms/step - loss: 0.2034 - mean_absolute_error: 0.3052 - val_loss: 0.2077 - val_mean_absolute_error: 0.3098\n",
      "Epoch 5/20\n",
      "368/368 [==============================] - 1s 3ms/step - loss: 0.2035 - mean_absolute_error: 0.3052 - val_loss: 0.2074 - val_mean_absolute_error: 0.3048\n",
      "***TRAIN***:\n",
      "correlation related to cluster centre: 0.89\n",
      "r2 score related to cluster centre: 0.80\n",
      "***VALIDATION***:\n",
      "correlation related to cluster centre: 0.90\n",
      "r2 score related to cluster centre: 0.82\n"
     ]
    },
    {
     "data": {
      "application/vnd.jupyter.widget-view+json": {
       "model_id": "d6b84f20bc2e414f9fe777b1c1340ad8",
       "version_major": 2,
       "version_minor": 0
      },
      "text/plain": [
       "IntProgress(value=0, max=710)"
      ]
     },
     "metadata": {},
     "output_type": "display_data"
    },
    {
     "name": "stdout",
     "output_type": "stream",
     "text": [
      "***VALIDATION***:\n",
      "average correlation: 0.90\n",
      "average r2: 0.77\n",
      "---do_investigations. cluster index : 20---\n"
     ]
    },
    {
     "data": {
      "application/vnd.jupyter.widget-view+json": {
       "model_id": "4ea5f10cdd7842489796b36abc0935c1",
       "version_major": 2,
       "version_minor": 0
      },
      "text/plain": [
       "IntProgress(value=0, max=14)"
      ]
     },
     "metadata": {},
     "output_type": "display_data"
    },
    {
     "name": "stdout",
     "output_type": "stream",
     "text": [
      "Epoch 1/20\n",
      "368/368 [==============================] - 2s 3ms/step - loss: 0.2404 - mean_absolute_error: 0.3472 - val_loss: 0.1915 - val_mean_absolute_error: 0.3039\n",
      "Epoch 2/20\n",
      "368/368 [==============================] - 1s 3ms/step - loss: 0.2051 - mean_absolute_error: 0.3120 - val_loss: 0.1887 - val_mean_absolute_error: 0.2979\n",
      "Epoch 3/20\n",
      "368/368 [==============================] - 1s 3ms/step - loss: 0.2043 - mean_absolute_error: 0.3106 - val_loss: 0.1882 - val_mean_absolute_error: 0.2973\n",
      "Epoch 4/20\n",
      "368/368 [==============================] - 1s 3ms/step - loss: 0.2035 - mean_absolute_error: 0.3101 - val_loss: 0.1907 - val_mean_absolute_error: 0.2982\n",
      "Epoch 5/20\n",
      "368/368 [==============================] - 1s 3ms/step - loss: 0.2040 - mean_absolute_error: 0.3104 - val_loss: 0.1881 - val_mean_absolute_error: 0.3024\n",
      "Epoch 6/20\n",
      "368/368 [==============================] - 1s 3ms/step - loss: 0.2037 - mean_absolute_error: 0.3101 - val_loss: 0.1917 - val_mean_absolute_error: 0.3063\n",
      "Epoch 7/20\n",
      "368/368 [==============================] - 1s 3ms/step - loss: 0.2033 - mean_absolute_error: 0.3094 - val_loss: 0.1878 - val_mean_absolute_error: 0.2989\n",
      "Epoch 8/20\n",
      "368/368 [==============================] - 1s 2ms/step - loss: 0.2026 - mean_absolute_error: 0.3092 - val_loss: 0.1885 - val_mean_absolute_error: 0.2998\n",
      "Epoch 9/20\n",
      "368/368 [==============================] - 1s 2ms/step - loss: 0.2028 - mean_absolute_error: 0.3097 - val_loss: 0.1909 - val_mean_absolute_error: 0.3016\n",
      "***TRAIN***:\n",
      "correlation related to cluster centre: 0.89\n",
      "r2 score related to cluster centre: 0.80\n",
      "***VALIDATION***:\n",
      "correlation related to cluster centre: 0.91\n",
      "r2 score related to cluster centre: 0.82\n"
     ]
    },
    {
     "data": {
      "application/vnd.jupyter.widget-view+json": {
       "model_id": "497ffc15485e47838e1f7cf6c8dae26a",
       "version_major": 2,
       "version_minor": 0
      },
      "text/plain": [
       "IntProgress(value=0, max=14)"
      ]
     },
     "metadata": {},
     "output_type": "display_data"
    },
    {
     "name": "stdout",
     "output_type": "stream",
     "text": [
      "***VALIDATION***:\n",
      "average correlation: 0.91\n",
      "average r2: 0.82\n",
      "---do_investigations. cluster index : 21---\n"
     ]
    },
    {
     "data": {
      "application/vnd.jupyter.widget-view+json": {
       "model_id": "5820f749c331480ca0db11e01927a003",
       "version_major": 2,
       "version_minor": 0
      },
      "text/plain": [
       "IntProgress(value=0, max=27)"
      ]
     },
     "metadata": {},
     "output_type": "display_data"
    },
    {
     "name": "stdout",
     "output_type": "stream",
     "text": [
      "Epoch 1/20\n",
      "368/368 [==============================] - 2s 3ms/step - loss: 0.2953 - mean_absolute_error: 0.3711 - val_loss: 0.1417 - val_mean_absolute_error: 0.2609\n",
      "Epoch 2/20\n",
      "368/368 [==============================] - 1s 2ms/step - loss: 0.1995 - mean_absolute_error: 0.3075 - val_loss: 0.1393 - val_mean_absolute_error: 0.2578\n",
      "Epoch 3/20\n",
      "368/368 [==============================] - 1s 2ms/step - loss: 0.1983 - mean_absolute_error: 0.3061 - val_loss: 0.1401 - val_mean_absolute_error: 0.2591\n",
      "Epoch 4/20\n",
      "368/368 [==============================] - 1s 2ms/step - loss: 0.1968 - mean_absolute_error: 0.3050 - val_loss: 0.1384 - val_mean_absolute_error: 0.2623\n",
      "Epoch 5/20\n",
      "368/368 [==============================] - 1s 2ms/step - loss: 0.1969 - mean_absolute_error: 0.3047 - val_loss: 0.1375 - val_mean_absolute_error: 0.2595\n",
      "Epoch 6/20\n",
      "368/368 [==============================] - 1s 2ms/step - loss: 0.1959 - mean_absolute_error: 0.3035 - val_loss: 0.1380 - val_mean_absolute_error: 0.2565\n",
      "Epoch 7/20\n",
      "368/368 [==============================] - 1s 2ms/step - loss: 0.1956 - mean_absolute_error: 0.3034 - val_loss: 0.1374 - val_mean_absolute_error: 0.2608\n",
      "Epoch 8/20\n",
      "368/368 [==============================] - 1s 2ms/step - loss: 0.1951 - mean_absolute_error: 0.3035 - val_loss: 0.1369 - val_mean_absolute_error: 0.2600\n",
      "Epoch 9/20\n",
      "368/368 [==============================] - 1s 2ms/step - loss: 0.1964 - mean_absolute_error: 0.3040 - val_loss: 0.1377 - val_mean_absolute_error: 0.2577\n",
      "Epoch 10/20\n",
      "368/368 [==============================] - 1s 2ms/step - loss: 0.1955 - mean_absolute_error: 0.3030 - val_loss: 0.1371 - val_mean_absolute_error: 0.2580\n",
      "***TRAIN***:\n",
      "correlation related to cluster centre: 0.90\n",
      "r2 score related to cluster centre: 0.81\n",
      "***VALIDATION***:\n",
      "correlation related to cluster centre: 0.91\n",
      "r2 score related to cluster centre: 0.83\n"
     ]
    },
    {
     "data": {
      "application/vnd.jupyter.widget-view+json": {
       "model_id": "b2f851fbd15c44a3a95e19d1c7fe2311",
       "version_major": 2,
       "version_minor": 0
      },
      "text/plain": [
       "IntProgress(value=0, max=27)"
      ]
     },
     "metadata": {},
     "output_type": "display_data"
    },
    {
     "name": "stdout",
     "output_type": "stream",
     "text": [
      "***VALIDATION***:\n",
      "average correlation: 0.91\n",
      "average r2: 0.83\n",
      "---do_investigations. cluster index : 22---\n"
     ]
    },
    {
     "data": {
      "application/vnd.jupyter.widget-view+json": {
       "model_id": "6b4679e0d6b94b7da4a31c3b2c94bbf7",
       "version_major": 2,
       "version_minor": 0
      },
      "text/plain": [
       "IntProgress(value=0, max=64)"
      ]
     },
     "metadata": {},
     "output_type": "display_data"
    },
    {
     "name": "stdout",
     "output_type": "stream",
     "text": [
      "Epoch 1/20\n",
      "368/368 [==============================] - 2s 3ms/step - loss: 0.1849 - mean_absolute_error: 0.2680 - val_loss: 0.1360 - val_mean_absolute_error: 0.2036\n",
      "Epoch 2/20\n",
      "368/368 [==============================] - 1s 2ms/step - loss: 0.1403 - mean_absolute_error: 0.2269 - val_loss: 0.1314 - val_mean_absolute_error: 0.2034\n",
      "Epoch 3/20\n",
      "368/368 [==============================] - 1s 2ms/step - loss: 0.1400 - mean_absolute_error: 0.2268 - val_loss: 0.1284 - val_mean_absolute_error: 0.1971\n",
      "Epoch 4/20\n",
      "368/368 [==============================] - 1s 2ms/step - loss: 0.1379 - mean_absolute_error: 0.2241 - val_loss: 0.1301 - val_mean_absolute_error: 0.2013\n",
      "Epoch 5/20\n",
      "368/368 [==============================] - 1s 2ms/step - loss: 0.1379 - mean_absolute_error: 0.2251 - val_loss: 0.1327 - val_mean_absolute_error: 0.2072\n",
      "***TRAIN***:\n",
      "correlation related to cluster centre: 0.93\n",
      "r2 score related to cluster centre: 0.86\n",
      "***VALIDATION***:\n",
      "correlation related to cluster centre: 0.91\n",
      "r2 score related to cluster centre: 0.82\n"
     ]
    },
    {
     "data": {
      "application/vnd.jupyter.widget-view+json": {
       "model_id": "d54c0557bcfd422190d97cb39f50c33a",
       "version_major": 2,
       "version_minor": 0
      },
      "text/plain": [
       "IntProgress(value=0, max=64)"
      ]
     },
     "metadata": {},
     "output_type": "display_data"
    },
    {
     "name": "stdout",
     "output_type": "stream",
     "text": [
      "***VALIDATION***:\n",
      "average correlation: 0.91\n",
      "average r2: 0.79\n",
      "---do_investigations. cluster index : 23---\n"
     ]
    },
    {
     "data": {
      "application/vnd.jupyter.widget-view+json": {
       "model_id": "0307056032b54aa199b688edf54e15e5",
       "version_major": 2,
       "version_minor": 0
      },
      "text/plain": [
       "IntProgress(value=0, max=4)"
      ]
     },
     "metadata": {},
     "output_type": "display_data"
    },
    {
     "name": "stdout",
     "output_type": "stream",
     "text": [
      "Epoch 1/20\n",
      "368/368 [==============================] - 2s 3ms/step - loss: 0.2731 - mean_absolute_error: 0.3226 - val_loss: 0.2026 - val_mean_absolute_error: 0.2971\n",
      "Epoch 2/20\n",
      "368/368 [==============================] - 1s 2ms/step - loss: 0.1544 - mean_absolute_error: 0.2608 - val_loss: 0.2046 - val_mean_absolute_error: 0.2978\n",
      "Epoch 3/20\n",
      "368/368 [==============================] - 1s 2ms/step - loss: 0.1533 - mean_absolute_error: 0.2598 - val_loss: 0.1982 - val_mean_absolute_error: 0.2946\n",
      "Epoch 4/20\n",
      "368/368 [==============================] - 1s 2ms/step - loss: 0.1531 - mean_absolute_error: 0.2592 - val_loss: 0.1984 - val_mean_absolute_error: 0.2945\n",
      "Epoch 5/20\n",
      "368/368 [==============================] - 1s 2ms/step - loss: 0.1527 - mean_absolute_error: 0.2591 - val_loss: 0.2009 - val_mean_absolute_error: 0.2936\n",
      "***TRAIN***:\n",
      "correlation related to cluster centre: 0.92\n",
      "r2 score related to cluster centre: 0.85\n",
      "***VALIDATION***:\n",
      "correlation related to cluster centre: 0.91\n",
      "r2 score related to cluster centre: 0.82\n"
     ]
    },
    {
     "data": {
      "application/vnd.jupyter.widget-view+json": {
       "model_id": "3f33e74457e346a383b67e6c635d5ff1",
       "version_major": 2,
       "version_minor": 0
      },
      "text/plain": [
       "IntProgress(value=0, max=4)"
      ]
     },
     "metadata": {},
     "output_type": "display_data"
    },
    {
     "name": "stdout",
     "output_type": "stream",
     "text": [
      "***VALIDATION***:\n",
      "average correlation: 0.91\n",
      "average r2: 0.83\n",
      "---do_investigations. cluster index : 24---\n"
     ]
    },
    {
     "data": {
      "application/vnd.jupyter.widget-view+json": {
       "model_id": "a3620d11c1474e4db481b8d848a674a6",
       "version_major": 2,
       "version_minor": 0
      },
      "text/plain": [
       "IntProgress(value=0, max=77)"
      ]
     },
     "metadata": {},
     "output_type": "display_data"
    },
    {
     "name": "stdout",
     "output_type": "stream",
     "text": [
      "Epoch 1/20\n",
      "368/368 [==============================] - 2s 3ms/step - loss: 0.2364 - mean_absolute_error: 0.3377 - val_loss: 0.1440 - val_mean_absolute_error: 0.2631\n",
      "Epoch 2/20\n",
      "368/368 [==============================] - 1s 2ms/step - loss: 0.1899 - mean_absolute_error: 0.2969 - val_loss: 0.1410 - val_mean_absolute_error: 0.2594\n",
      "Epoch 3/20\n",
      "368/368 [==============================] - 1s 2ms/step - loss: 0.1891 - mean_absolute_error: 0.2957 - val_loss: 0.1411 - val_mean_absolute_error: 0.2579\n",
      "Epoch 4/20\n",
      "368/368 [==============================] - 1s 2ms/step - loss: 0.1888 - mean_absolute_error: 0.2961 - val_loss: 0.1396 - val_mean_absolute_error: 0.2609\n",
      "Epoch 5/20\n",
      "368/368 [==============================] - 1s 2ms/step - loss: 0.1885 - mean_absolute_error: 0.2952 - val_loss: 0.1403 - val_mean_absolute_error: 0.2618\n",
      "Epoch 6/20\n",
      "368/368 [==============================] - 1s 2ms/step - loss: 0.1883 - mean_absolute_error: 0.2953 - val_loss: 0.1402 - val_mean_absolute_error: 0.2565\n",
      "***TRAIN***:\n",
      "correlation related to cluster centre: 0.90\n",
      "r2 score related to cluster centre: 0.81\n",
      "***VALIDATION***:\n",
      "correlation related to cluster centre: 0.91\n",
      "r2 score related to cluster centre: 0.83\n"
     ]
    },
    {
     "data": {
      "application/vnd.jupyter.widget-view+json": {
       "model_id": "a10b34ba0f66494eb4d0d2e1c8a56d6e",
       "version_major": 2,
       "version_minor": 0
      },
      "text/plain": [
       "IntProgress(value=0, max=77)"
      ]
     },
     "metadata": {},
     "output_type": "display_data"
    },
    {
     "name": "stdout",
     "output_type": "stream",
     "text": [
      "***VALIDATION***:\n",
      "average correlation: 0.91\n",
      "average r2: 0.83\n",
      "---do_investigations. cluster index : 25---\n"
     ]
    },
    {
     "data": {
      "application/vnd.jupyter.widget-view+json": {
       "model_id": "cacc0ffda64c45a1b68034c455d3d8c6",
       "version_major": 2,
       "version_minor": 0
      },
      "text/plain": [
       "IntProgress(value=0, max=6)"
      ]
     },
     "metadata": {},
     "output_type": "display_data"
    },
    {
     "name": "stdout",
     "output_type": "stream",
     "text": [
      "Epoch 1/20\n",
      "368/368 [==============================] - 2s 3ms/step - loss: 0.2338 - mean_absolute_error: 0.3336 - val_loss: 0.1797 - val_mean_absolute_error: 0.2906\n",
      "Epoch 2/20\n",
      "368/368 [==============================] - 1s 2ms/step - loss: 0.1998 - mean_absolute_error: 0.3075 - val_loss: 0.1867 - val_mean_absolute_error: 0.2947\n",
      "Epoch 3/20\n",
      "368/368 [==============================] - 1s 2ms/step - loss: 0.1996 - mean_absolute_error: 0.3070 - val_loss: 0.1881 - val_mean_absolute_error: 0.2957\n",
      "***TRAIN***:\n",
      "correlation related to cluster centre: 0.90\n",
      "r2 score related to cluster centre: 0.80\n",
      "***VALIDATION***:\n",
      "correlation related to cluster centre: 0.91\n",
      "r2 score related to cluster centre: 0.81\n"
     ]
    },
    {
     "data": {
      "application/vnd.jupyter.widget-view+json": {
       "model_id": "986751eb8d16420ca85c1169ea307b29",
       "version_major": 2,
       "version_minor": 0
      },
      "text/plain": [
       "IntProgress(value=0, max=6)"
      ]
     },
     "metadata": {},
     "output_type": "display_data"
    },
    {
     "name": "stdout",
     "output_type": "stream",
     "text": [
      "***VALIDATION***:\n",
      "average correlation: 0.91\n",
      "average r2: 0.82\n",
      "---do_investigations. cluster index : 26---\n"
     ]
    },
    {
     "data": {
      "application/vnd.jupyter.widget-view+json": {
       "model_id": "42b182f0a8a64248bc7963e5b5e7000c",
       "version_major": 2,
       "version_minor": 0
      },
      "text/plain": [
       "IntProgress(value=0, max=18)"
      ]
     },
     "metadata": {},
     "output_type": "display_data"
    },
    {
     "name": "stdout",
     "output_type": "stream",
     "text": [
      "Epoch 1/20\n",
      "368/368 [==============================] - 2s 3ms/step - loss: 0.2550 - mean_absolute_error: 0.3457 - val_loss: 0.1578 - val_mean_absolute_error: 0.2728\n",
      "Epoch 2/20\n",
      "368/368 [==============================] - 1s 2ms/step - loss: 0.1790 - mean_absolute_error: 0.2885 - val_loss: 0.1558 - val_mean_absolute_error: 0.2683\n",
      "Epoch 3/20\n",
      "368/368 [==============================] - 1s 2ms/step - loss: 0.1791 - mean_absolute_error: 0.2884 - val_loss: 0.1555 - val_mean_absolute_error: 0.2688\n",
      "Epoch 4/20\n",
      "368/368 [==============================] - 1s 2ms/step - loss: 0.1787 - mean_absolute_error: 0.2878 - val_loss: 0.1561 - val_mean_absolute_error: 0.2662\n",
      "Epoch 5/20\n",
      "368/368 [==============================] - 1s 3ms/step - loss: 0.1782 - mean_absolute_error: 0.2871 - val_loss: 0.1559 - val_mean_absolute_error: 0.2681\n",
      "***TRAIN***:\n",
      "correlation related to cluster centre: 0.91\n",
      "r2 score related to cluster centre: 0.82\n",
      "***VALIDATION***:\n",
      "correlation related to cluster centre: 0.91\n",
      "r2 score related to cluster centre: 0.83\n"
     ]
    },
    {
     "data": {
      "application/vnd.jupyter.widget-view+json": {
       "model_id": "1334b130c9cc41fa8527e289c2413baa",
       "version_major": 2,
       "version_minor": 0
      },
      "text/plain": [
       "IntProgress(value=0, max=18)"
      ]
     },
     "metadata": {},
     "output_type": "display_data"
    },
    {
     "name": "stdout",
     "output_type": "stream",
     "text": [
      "***VALIDATION***:\n",
      "average correlation: 0.91\n",
      "average r2: 0.83\n",
      "---do_investigations. cluster index : 27---\n"
     ]
    },
    {
     "data": {
      "application/vnd.jupyter.widget-view+json": {
       "model_id": "5248bdeeb4f3437ea8e39335afa32e2f",
       "version_major": 2,
       "version_minor": 0
      },
      "text/plain": [
       "IntProgress(value=0, max=50)"
      ]
     },
     "metadata": {},
     "output_type": "display_data"
    },
    {
     "name": "stdout",
     "output_type": "stream",
     "text": [
      "Epoch 1/20\n",
      "368/368 [==============================] - 2s 3ms/step - loss: 0.2168 - mean_absolute_error: 0.3262 - val_loss: 0.1455 - val_mean_absolute_error: 0.2688\n",
      "Epoch 2/20\n",
      "368/368 [==============================] - 1s 2ms/step - loss: 0.1826 - mean_absolute_error: 0.2942 - val_loss: 0.1455 - val_mean_absolute_error: 0.2723\n",
      "Epoch 3/20\n",
      "368/368 [==============================] - 1s 2ms/step - loss: 0.1813 - mean_absolute_error: 0.2931 - val_loss: 0.1439 - val_mean_absolute_error: 0.2662\n",
      "Epoch 4/20\n",
      "368/368 [==============================] - 1s 2ms/step - loss: 0.1811 - mean_absolute_error: 0.2933 - val_loss: 0.1451 - val_mean_absolute_error: 0.2647\n",
      "Epoch 5/20\n",
      "368/368 [==============================] - 1s 2ms/step - loss: 0.1805 - mean_absolute_error: 0.2924 - val_loss: 0.1450 - val_mean_absolute_error: 0.2648\n",
      "***TRAIN***:\n",
      "correlation related to cluster centre: 0.91\n",
      "r2 score related to cluster centre: 0.82\n",
      "***VALIDATION***:\n",
      "correlation related to cluster centre: 0.91\n",
      "r2 score related to cluster centre: 0.83\n"
     ]
    },
    {
     "data": {
      "application/vnd.jupyter.widget-view+json": {
       "model_id": "1ccd88f53f274ddb9d4a942d0783ee46",
       "version_major": 2,
       "version_minor": 0
      },
      "text/plain": [
       "IntProgress(value=0, max=50)"
      ]
     },
     "metadata": {},
     "output_type": "display_data"
    },
    {
     "name": "stdout",
     "output_type": "stream",
     "text": [
      "***VALIDATION***:\n",
      "average correlation: 0.91\n",
      "average r2: 0.83\n",
      "---do_investigations. cluster index : 28---\n"
     ]
    },
    {
     "data": {
      "application/vnd.jupyter.widget-view+json": {
       "model_id": "e2bfabaae7214924abff0abf9df2dcc1",
       "version_major": 2,
       "version_minor": 0
      },
      "text/plain": [
       "IntProgress(value=0, max=34)"
      ]
     },
     "metadata": {},
     "output_type": "display_data"
    },
    {
     "name": "stdout",
     "output_type": "stream",
     "text": [
      "Epoch 1/20\n",
      "368/368 [==============================] - 2s 3ms/step - loss: 0.1965 - mean_absolute_error: 0.2787 - val_loss: 0.1428 - val_mean_absolute_error: 0.2140\n",
      "Epoch 2/20\n",
      "368/368 [==============================] - 1s 2ms/step - loss: 0.1376 - mean_absolute_error: 0.2312 - val_loss: 0.1353 - val_mean_absolute_error: 0.2053\n",
      "Epoch 3/20\n",
      "368/368 [==============================] - 1s 2ms/step - loss: 0.1369 - mean_absolute_error: 0.2312 - val_loss: 0.1414 - val_mean_absolute_error: 0.2197\n",
      "Epoch 4/20\n",
      "368/368 [==============================] - 1s 2ms/step - loss: 0.1362 - mean_absolute_error: 0.2308 - val_loss: 0.1336 - val_mean_absolute_error: 0.2028\n",
      "Epoch 5/20\n",
      "368/368 [==============================] - 1s 2ms/step - loss: 0.1357 - mean_absolute_error: 0.2300 - val_loss: 0.1343 - val_mean_absolute_error: 0.2060\n",
      "Epoch 6/20\n",
      "368/368 [==============================] - 1s 2ms/step - loss: 0.1356 - mean_absolute_error: 0.2310 - val_loss: 0.1333 - val_mean_absolute_error: 0.2057\n",
      "Epoch 7/20\n",
      "368/368 [==============================] - 1s 2ms/step - loss: 0.1352 - mean_absolute_error: 0.2297 - val_loss: 0.1371 - val_mean_absolute_error: 0.2120\n",
      "Epoch 8/20\n",
      "368/368 [==============================] - 1s 3ms/step - loss: 0.1353 - mean_absolute_error: 0.2299 - val_loss: 0.1324 - val_mean_absolute_error: 0.2025\n",
      "Epoch 9/20\n",
      "368/368 [==============================] - 1s 2ms/step - loss: 0.1345 - mean_absolute_error: 0.2292 - val_loss: 0.1337 - val_mean_absolute_error: 0.2070\n",
      "Epoch 10/20\n",
      "368/368 [==============================] - 1s 2ms/step - loss: 0.1347 - mean_absolute_error: 0.2288 - val_loss: 0.1468 - val_mean_absolute_error: 0.2317\n",
      "***TRAIN***:\n",
      "correlation related to cluster centre: 0.93\n",
      "r2 score related to cluster centre: 0.86\n",
      "***VALIDATION***:\n",
      "correlation related to cluster centre: 0.88\n",
      "r2 score related to cluster centre: 0.75\n"
     ]
    },
    {
     "data": {
      "application/vnd.jupyter.widget-view+json": {
       "model_id": "4270f2f085834015b3e9f6603b7cddee",
       "version_major": 2,
       "version_minor": 0
      },
      "text/plain": [
       "IntProgress(value=0, max=34)"
      ]
     },
     "metadata": {},
     "output_type": "display_data"
    },
    {
     "name": "stdout",
     "output_type": "stream",
     "text": [
      "***VALIDATION***:\n",
      "average correlation: 0.90\n",
      "average r2: 0.67\n",
      "---do_investigations. cluster index : 29---\n"
     ]
    },
    {
     "data": {
      "application/vnd.jupyter.widget-view+json": {
       "model_id": "77466f53118c48f6925068f91041b925",
       "version_major": 2,
       "version_minor": 0
      },
      "text/plain": [
       "IntProgress(value=0, max=53)"
      ]
     },
     "metadata": {},
     "output_type": "display_data"
    },
    {
     "name": "stdout",
     "output_type": "stream",
     "text": [
      "Epoch 1/20\n",
      "368/368 [==============================] - 2s 3ms/step - loss: 0.2852 - mean_absolute_error: 0.3530 - val_loss: 0.1862 - val_mean_absolute_error: 0.2848\n",
      "Epoch 2/20\n",
      "368/368 [==============================] - 1s 2ms/step - loss: 0.1972 - mean_absolute_error: 0.3030 - val_loss: 0.1823 - val_mean_absolute_error: 0.2824\n",
      "Epoch 3/20\n",
      "368/368 [==============================] - 1s 2ms/step - loss: 0.1945 - mean_absolute_error: 0.3014 - val_loss: 0.1805 - val_mean_absolute_error: 0.2799\n",
      "Epoch 4/20\n",
      "368/368 [==============================] - 1s 3ms/step - loss: 0.1939 - mean_absolute_error: 0.3005 - val_loss: 0.1811 - val_mean_absolute_error: 0.2797\n",
      "Epoch 5/20\n",
      "368/368 [==============================] - 1s 2ms/step - loss: 0.1938 - mean_absolute_error: 0.3004 - val_loss: 0.1808 - val_mean_absolute_error: 0.2839\n",
      "***TRAIN***:\n",
      "correlation related to cluster centre: 0.90\n",
      "r2 score related to cluster centre: 0.81\n",
      "***VALIDATION***:\n",
      "correlation related to cluster centre: 0.91\n",
      "r2 score related to cluster centre: 0.83\n"
     ]
    },
    {
     "data": {
      "application/vnd.jupyter.widget-view+json": {
       "model_id": "040c4653b2bc4bff90823eed3f9902b8",
       "version_major": 2,
       "version_minor": 0
      },
      "text/plain": [
       "IntProgress(value=0, max=53)"
      ]
     },
     "metadata": {},
     "output_type": "display_data"
    },
    {
     "name": "stdout",
     "output_type": "stream",
     "text": [
      "***VALIDATION***:\n",
      "average correlation: 0.91\n",
      "average r2: 0.83\n",
      "weighted_average_correlation: 0.90\n",
      "weighted_average_r2_score: 0.74\n",
      "bad clusters rate: 0.56%\n",
      "------------------------------------------------------\n"
     ]
    }
   ],
   "source": [
    "first_path = r\"C:\\Coding\\final-qualifying-work_2023-2024\\ClusteringCpp\\output\\cmeans 5 0.1 20.txt\"\n",
    "second_path = r\"C:\\Coding\\final-qualifying-work_2023-2024\\ClusteringCpp\\output\\cmeans 15 0.1 20.txt\"\n",
    "third_path = r\"C:\\Coding\\final-qualifying-work_2023-2024\\ClusteringCpp\\output\\cmeans 30 0.1 20.txt\"\n",
    "fourth_path = r\"C:\\Coding\\final-qualifying-work_2023-2024\\ClusteringCpp\\output\\cmeans 60 0.1 5.txt\"\n",
    "\n",
    "output_file = open(\"computational-experiments-output-cmeans.txt\", \"a\")\n",
    "\n",
    "selected_path = third_path\n",
    "\n",
    "print('------------------------------------------------------')\n",
    "output_file.write('------------------------------------------------------\\n')\n",
    "\n",
    "print(f\"msd {os.path.split(selected_path)[-1]}\")\n",
    "output_file.write(f\"msd {os.path.split(selected_path)[-1]}\\n\")\n",
    "show_results(multi_step_dense_model, get_clusters(selected_path), CONV_WIDTH)\n",
    "\n",
    "print('------------------------------------------------------')\n",
    "output_file.write('------------------------------------------------------\\n')\n",
    "\n",
    "output_file.close()"
   ]
  },
  {
   "cell_type": "code",
   "execution_count": 24,
   "id": "9e778097-a35e-4535-9244-891f2804e591",
   "metadata": {},
   "outputs": [
    {
     "name": "stdout",
     "output_type": "stream",
     "text": [
      "------------------------------------------------------\n",
      "msd cmeans 60 0.1 5.txt\n",
      "---do_investigations. cluster index : 0---\n"
     ]
    },
    {
     "data": {
      "application/vnd.jupyter.widget-view+json": {
       "model_id": "fa9abb175743485cb7e3cbb39ad13776",
       "version_major": 2,
       "version_minor": 0
      },
      "text/plain": [
       "IntProgress(value=0, max=2)"
      ]
     },
     "metadata": {},
     "output_type": "display_data"
    },
    {
     "name": "stdout",
     "output_type": "stream",
     "text": [
      "Epoch 1/20\n",
      "368/368 [==============================] - 2s 3ms/step - loss: 0.2327 - mean_absolute_error: 0.3334 - val_loss: 0.2135 - val_mean_absolute_error: 0.2979\n",
      "Epoch 2/20\n",
      "368/368 [==============================] - 1s 3ms/step - loss: 0.1984 - mean_absolute_error: 0.2994 - val_loss: 0.2135 - val_mean_absolute_error: 0.3036\n",
      "Epoch 3/20\n",
      "368/368 [==============================] - 1s 3ms/step - loss: 0.1995 - mean_absolute_error: 0.2996 - val_loss: 0.2155 - val_mean_absolute_error: 0.2957\n",
      "Epoch 4/20\n",
      "368/368 [==============================] - 1s 2ms/step - loss: 0.1976 - mean_absolute_error: 0.2984 - val_loss: 0.2125 - val_mean_absolute_error: 0.2962\n",
      "Epoch 5/20\n",
      "368/368 [==============================] - 1s 2ms/step - loss: 0.1978 - mean_absolute_error: 0.2989 - val_loss: 0.2154 - val_mean_absolute_error: 0.2940\n",
      "Epoch 6/20\n",
      "368/368 [==============================] - 1s 2ms/step - loss: 0.1964 - mean_absolute_error: 0.2975 - val_loss: 0.2128 - val_mean_absolute_error: 0.2958\n",
      "***TRAIN***:\n",
      "correlation related to cluster centre: 0.90\n",
      "r2 score related to cluster centre: 0.81\n",
      "***VALIDATION***:\n",
      "correlation related to cluster centre: 0.91\n",
      "r2 score related to cluster centre: 0.82\n"
     ]
    },
    {
     "data": {
      "application/vnd.jupyter.widget-view+json": {
       "model_id": "8ad76268db9b4757a27d410f4661a7e0",
       "version_major": 2,
       "version_minor": 0
      },
      "text/plain": [
       "IntProgress(value=0, max=2)"
      ]
     },
     "metadata": {},
     "output_type": "display_data"
    },
    {
     "name": "stdout",
     "output_type": "stream",
     "text": [
      "***VALIDATION***:\n",
      "average correlation: 0.91\n",
      "average r2: 0.82\n",
      "---do_investigations. cluster index : 1---\n"
     ]
    },
    {
     "data": {
      "application/vnd.jupyter.widget-view+json": {
       "model_id": "d2470086fda84f41878c55147714d89e",
       "version_major": 2,
       "version_minor": 0
      },
      "text/plain": [
       "IntProgress(value=0, max=89)"
      ]
     },
     "metadata": {},
     "output_type": "display_data"
    },
    {
     "name": "stdout",
     "output_type": "stream",
     "text": [
      "Epoch 1/20\n",
      "368/368 [==============================] - 2s 3ms/step - loss: 0.2592 - mean_absolute_error: 0.3041 - val_loss: 0.2609 - val_mean_absolute_error: 0.2793\n",
      "Epoch 2/20\n",
      "368/368 [==============================] - 1s 2ms/step - loss: 0.2087 - mean_absolute_error: 0.2720 - val_loss: 0.2608 - val_mean_absolute_error: 0.2749\n",
      "Epoch 3/20\n",
      "368/368 [==============================] - 1s 2ms/step - loss: 0.2071 - mean_absolute_error: 0.2715 - val_loss: 0.2794 - val_mean_absolute_error: 0.2792\n",
      "Epoch 4/20\n",
      "368/368 [==============================] - 1s 2ms/step - loss: 0.2054 - mean_absolute_error: 0.2697 - val_loss: 0.2593 - val_mean_absolute_error: 0.2731\n",
      "Epoch 5/20\n",
      "368/368 [==============================] - 1s 2ms/step - loss: 0.2033 - mean_absolute_error: 0.2689 - val_loss: 0.2669 - val_mean_absolute_error: 0.2754\n",
      "Epoch 6/20\n",
      "368/368 [==============================] - 1s 2ms/step - loss: 0.2057 - mean_absolute_error: 0.2700 - val_loss: 0.2566 - val_mean_absolute_error: 0.2713\n",
      "Epoch 7/20\n",
      "368/368 [==============================] - 1s 2ms/step - loss: 0.2040 - mean_absolute_error: 0.2693 - val_loss: 0.2573 - val_mean_absolute_error: 0.2722\n",
      "Epoch 8/20\n",
      "368/368 [==============================] - 1s 2ms/step - loss: 0.2034 - mean_absolute_error: 0.2689 - val_loss: 0.2579 - val_mean_absolute_error: 0.2710\n",
      "***TRAIN***:\n",
      "correlation related to cluster centre: 0.89\n",
      "r2 score related to cluster centre: 0.80\n",
      "***VALIDATION***:\n",
      "correlation related to cluster centre: 0.90\n",
      "r2 score related to cluster centre: 0.81\n"
     ]
    },
    {
     "data": {
      "application/vnd.jupyter.widget-view+json": {
       "model_id": "632bc77af8d04ea5854d44aeb699a2a4",
       "version_major": 2,
       "version_minor": 0
      },
      "text/plain": [
       "IntProgress(value=0, max=89)"
      ]
     },
     "metadata": {},
     "output_type": "display_data"
    },
    {
     "name": "stdout",
     "output_type": "stream",
     "text": [
      "***VALIDATION***:\n",
      "average correlation: 0.89\n",
      "average r2: 0.79\n",
      "---do_investigations. cluster index : 2---\n"
     ]
    },
    {
     "data": {
      "application/vnd.jupyter.widget-view+json": {
       "model_id": "d2ff72aeb3f74edfbe05fd7fbdc77793",
       "version_major": 2,
       "version_minor": 0
      },
      "text/plain": [
       "IntProgress(value=0, max=4)"
      ]
     },
     "metadata": {},
     "output_type": "display_data"
    },
    {
     "name": "stdout",
     "output_type": "stream",
     "text": [
      "Epoch 1/20\n",
      "368/368 [==============================] - 2s 3ms/step - loss: 0.2588 - mean_absolute_error: 0.3534 - val_loss: 0.1793 - val_mean_absolute_error: 0.3102\n",
      "Epoch 2/20\n",
      "368/368 [==============================] - 1s 3ms/step - loss: 0.2075 - mean_absolute_error: 0.3183 - val_loss: 0.1739 - val_mean_absolute_error: 0.2979\n",
      "Epoch 3/20\n",
      "368/368 [==============================] - 1s 2ms/step - loss: 0.2063 - mean_absolute_error: 0.3168 - val_loss: 0.1781 - val_mean_absolute_error: 0.3107\n",
      "Epoch 4/20\n",
      "368/368 [==============================] - 1s 2ms/step - loss: 0.2066 - mean_absolute_error: 0.3172 - val_loss: 0.1771 - val_mean_absolute_error: 0.3025\n",
      "***TRAIN***:\n",
      "correlation related to cluster centre: 0.89\n",
      "r2 score related to cluster centre: 0.79\n",
      "***VALIDATION***:\n",
      "correlation related to cluster centre: 0.90\n",
      "r2 score related to cluster centre: 0.81\n"
     ]
    },
    {
     "data": {
      "application/vnd.jupyter.widget-view+json": {
       "model_id": "f9dcea9a463c45aab9ee6cd3ed6da2be",
       "version_major": 2,
       "version_minor": 0
      },
      "text/plain": [
       "IntProgress(value=0, max=4)"
      ]
     },
     "metadata": {},
     "output_type": "display_data"
    },
    {
     "name": "stdout",
     "output_type": "stream",
     "text": [
      "***VALIDATION***:\n",
      "average correlation: 0.90\n",
      "average r2: 0.81\n",
      "---do_investigations. cluster index : 3---\n"
     ]
    },
    {
     "data": {
      "application/vnd.jupyter.widget-view+json": {
       "model_id": "8a720b08a1ab4eb790711591d8a224d4",
       "version_major": 2,
       "version_minor": 0
      },
      "text/plain": [
       "IntProgress(value=0, max=95)"
      ]
     },
     "metadata": {},
     "output_type": "display_data"
    },
    {
     "name": "stdout",
     "output_type": "stream",
     "text": [
      "Epoch 1/20\n",
      "368/368 [==============================] - 2s 3ms/step - loss: 0.2735 - mean_absolute_error: 0.3766 - val_loss: 0.2473 - val_mean_absolute_error: 0.3486\n",
      "Epoch 2/20\n",
      "368/368 [==============================] - 1s 2ms/step - loss: 0.2173 - mean_absolute_error: 0.3320 - val_loss: 0.2449 - val_mean_absolute_error: 0.3454\n",
      "Epoch 3/20\n",
      "368/368 [==============================] - 1s 3ms/step - loss: 0.2168 - mean_absolute_error: 0.3318 - val_loss: 0.2434 - val_mean_absolute_error: 0.3470\n",
      "Epoch 4/20\n",
      "368/368 [==============================] - 1s 2ms/step - loss: 0.2163 - mean_absolute_error: 0.3313 - val_loss: 0.2454 - val_mean_absolute_error: 0.3511\n",
      "Epoch 5/20\n",
      "368/368 [==============================] - 1s 2ms/step - loss: 0.2154 - mean_absolute_error: 0.3306 - val_loss: 0.2444 - val_mean_absolute_error: 0.3486\n",
      "***TRAIN***:\n",
      "correlation related to cluster centre: 0.89\n",
      "r2 score related to cluster centre: 0.79\n",
      "***VALIDATION***:\n",
      "correlation related to cluster centre: 0.90\n",
      "r2 score related to cluster centre: 0.80\n"
     ]
    },
    {
     "data": {
      "application/vnd.jupyter.widget-view+json": {
       "model_id": "0ebbf2ea2d884344a6f37676f64cc37c",
       "version_major": 2,
       "version_minor": 0
      },
      "text/plain": [
       "IntProgress(value=0, max=95)"
      ]
     },
     "metadata": {},
     "output_type": "display_data"
    },
    {
     "name": "stdout",
     "output_type": "stream",
     "text": [
      "***VALIDATION***:\n",
      "average correlation: 0.90\n",
      "average r2: 0.75\n",
      "---do_investigations. cluster index : 4---\n"
     ]
    },
    {
     "data": {
      "application/vnd.jupyter.widget-view+json": {
       "model_id": "47e70a8b636c4ae492d6320807bcbf65",
       "version_major": 2,
       "version_minor": 0
      },
      "text/plain": [
       "IntProgress(value=0, max=5)"
      ]
     },
     "metadata": {},
     "output_type": "display_data"
    },
    {
     "name": "stdout",
     "output_type": "stream",
     "text": [
      "Epoch 1/20\n",
      "368/368 [==============================] - 2s 3ms/step - loss: 0.2411 - mean_absolute_error: 0.3533 - val_loss: 0.1813 - val_mean_absolute_error: 0.2985\n",
      "Epoch 2/20\n",
      "368/368 [==============================] - 1s 2ms/step - loss: 0.2097 - mean_absolute_error: 0.3244 - val_loss: 0.1834 - val_mean_absolute_error: 0.3027\n",
      "Epoch 3/20\n",
      "368/368 [==============================] - 1s 2ms/step - loss: 0.2101 - mean_absolute_error: 0.3247 - val_loss: 0.1807 - val_mean_absolute_error: 0.3022\n",
      "Epoch 4/20\n",
      "368/368 [==============================] - 1s 2ms/step - loss: 0.2093 - mean_absolute_error: 0.3237 - val_loss: 0.1806 - val_mean_absolute_error: 0.2969\n",
      "Epoch 5/20\n",
      "368/368 [==============================] - 1s 3ms/step - loss: 0.2081 - mean_absolute_error: 0.3225 - val_loss: 0.1809 - val_mean_absolute_error: 0.3006\n",
      "Epoch 6/20\n",
      "368/368 [==============================] - 1s 2ms/step - loss: 0.2084 - mean_absolute_error: 0.3227 - val_loss: 0.1803 - val_mean_absolute_error: 0.2975\n",
      "Epoch 7/20\n",
      "368/368 [==============================] - 1s 2ms/step - loss: 0.2081 - mean_absolute_error: 0.3224 - val_loss: 0.1819 - val_mean_absolute_error: 0.2978\n",
      "Epoch 8/20\n",
      "368/368 [==============================] - 1s 3ms/step - loss: 0.2085 - mean_absolute_error: 0.3226 - val_loss: 0.1816 - val_mean_absolute_error: 0.2997\n",
      "***TRAIN***:\n",
      "correlation related to cluster centre: 0.89\n",
      "r2 score related to cluster centre: 0.79\n",
      "***VALIDATION***:\n",
      "correlation related to cluster centre: 0.91\n",
      "r2 score related to cluster centre: 0.82\n"
     ]
    },
    {
     "data": {
      "application/vnd.jupyter.widget-view+json": {
       "model_id": "85218c8e67ce441aa1c5c94ed17bd9c4",
       "version_major": 2,
       "version_minor": 0
      },
      "text/plain": [
       "IntProgress(value=0, max=5)"
      ]
     },
     "metadata": {},
     "output_type": "display_data"
    },
    {
     "name": "stdout",
     "output_type": "stream",
     "text": [
      "***VALIDATION***:\n",
      "average correlation: 0.90\n",
      "average r2: 0.81\n",
      "---do_investigations. cluster index : 5---\n"
     ]
    },
    {
     "data": {
      "application/vnd.jupyter.widget-view+json": {
       "model_id": "ff8f2a0ef8574d619be2a2a0b3d9a924",
       "version_major": 2,
       "version_minor": 0
      },
      "text/plain": [
       "IntProgress(value=0, max=4404)"
      ]
     },
     "metadata": {},
     "output_type": "display_data"
    },
    {
     "name": "stdout",
     "output_type": "stream",
     "text": [
      "Epoch 1/20\n",
      "368/368 [==============================] - 2s 3ms/step - loss: 0.1949 - mean_absolute_error: 0.2754 - val_loss: 0.1463 - val_mean_absolute_error: 0.2054\n",
      "Epoch 2/20\n",
      "368/368 [==============================] - 1s 2ms/step - loss: 0.1189 - mean_absolute_error: 0.2098 - val_loss: 0.1379 - val_mean_absolute_error: 0.1963\n",
      "Epoch 3/20\n",
      "368/368 [==============================] - 1s 2ms/step - loss: 0.1173 - mean_absolute_error: 0.2073 - val_loss: 0.1341 - val_mean_absolute_error: 0.1908\n",
      "Epoch 4/20\n",
      "368/368 [==============================] - 1s 2ms/step - loss: 0.1175 - mean_absolute_error: 0.2076 - val_loss: 0.1381 - val_mean_absolute_error: 0.2022\n",
      "Epoch 5/20\n",
      "368/368 [==============================] - 1s 2ms/step - loss: 0.1170 - mean_absolute_error: 0.2088 - val_loss: 0.1324 - val_mean_absolute_error: 0.1905\n",
      "Epoch 6/20\n",
      "368/368 [==============================] - 1s 2ms/step - loss: 0.1185 - mean_absolute_error: 0.2088 - val_loss: 0.1367 - val_mean_absolute_error: 0.1977\n",
      "Epoch 7/20\n",
      "368/368 [==============================] - 1s 2ms/step - loss: 0.1172 - mean_absolute_error: 0.2070 - val_loss: 0.1383 - val_mean_absolute_error: 0.2027\n",
      "***TRAIN***:\n",
      "correlation related to cluster centre: 0.94\n",
      "r2 score related to cluster centre: 0.88\n",
      "***VALIDATION***:\n",
      "correlation related to cluster centre: 0.91\n",
      "r2 score related to cluster centre: 0.82\n"
     ]
    },
    {
     "data": {
      "application/vnd.jupyter.widget-view+json": {
       "model_id": "186d1efb3a304c5b81463af772d644ff",
       "version_major": 2,
       "version_minor": 0
      },
      "text/plain": [
       "IntProgress(value=0, max=4404)"
      ]
     },
     "metadata": {},
     "output_type": "display_data"
    },
    {
     "name": "stdout",
     "output_type": "stream",
     "text": [
      "***VALIDATION***:\n",
      "average correlation: nan\n",
      "average r2: -1427193775381135925970993152.00\n",
      "---do_investigations. cluster index : 6---\n"
     ]
    },
    {
     "data": {
      "application/vnd.jupyter.widget-view+json": {
       "model_id": "a9f26e0bd8394ea9b3e0203fc3cca7ca",
       "version_major": 2,
       "version_minor": 0
      },
      "text/plain": [
       "IntProgress(value=0, max=17)"
      ]
     },
     "metadata": {},
     "output_type": "display_data"
    },
    {
     "name": "stdout",
     "output_type": "stream",
     "text": [
      "Epoch 1/20\n",
      "368/368 [==============================] - 2s 3ms/step - loss: 0.2501 - mean_absolute_error: 0.3529 - val_loss: 0.1833 - val_mean_absolute_error: 0.3003\n",
      "Epoch 2/20\n",
      "368/368 [==============================] - 1s 2ms/step - loss: 0.2073 - mean_absolute_error: 0.3177 - val_loss: 0.1839 - val_mean_absolute_error: 0.2989\n",
      "Epoch 3/20\n",
      "368/368 [==============================] - 1s 3ms/step - loss: 0.2060 - mean_absolute_error: 0.3169 - val_loss: 0.1833 - val_mean_absolute_error: 0.3027\n",
      "***TRAIN***:\n",
      "correlation related to cluster centre: 0.89\n",
      "r2 score related to cluster centre: 0.80\n",
      "***VALIDATION***:\n",
      "correlation related to cluster centre: 0.91\n",
      "r2 score related to cluster centre: 0.82\n"
     ]
    },
    {
     "data": {
      "application/vnd.jupyter.widget-view+json": {
       "model_id": "1df588868eaa4f3f8ac2bcaf69b138c5",
       "version_major": 2,
       "version_minor": 0
      },
      "text/plain": [
       "IntProgress(value=0, max=17)"
      ]
     },
     "metadata": {},
     "output_type": "display_data"
    },
    {
     "name": "stdout",
     "output_type": "stream",
     "text": [
      "***VALIDATION***:\n",
      "average correlation: 0.90\n",
      "average r2: 0.81\n",
      "---do_investigations. cluster index : 7---\n"
     ]
    },
    {
     "data": {
      "application/vnd.jupyter.widget-view+json": {
       "model_id": "8a75ac29322c4a9bbebf62451a60268d",
       "version_major": 2,
       "version_minor": 0
      },
      "text/plain": [
       "IntProgress(value=0, max=131)"
      ]
     },
     "metadata": {},
     "output_type": "display_data"
    },
    {
     "name": "stdout",
     "output_type": "stream",
     "text": [
      "Epoch 1/20\n",
      "368/368 [==============================] - 2s 3ms/step - loss: 0.2313 - mean_absolute_error: 0.3267 - val_loss: 0.1442 - val_mean_absolute_error: 0.2428\n",
      "Epoch 2/20\n",
      "368/368 [==============================] - 1s 2ms/step - loss: 0.1874 - mean_absolute_error: 0.2839 - val_loss: 0.1433 - val_mean_absolute_error: 0.2430\n",
      "Epoch 3/20\n",
      "368/368 [==============================] - 1s 2ms/step - loss: 0.1861 - mean_absolute_error: 0.2829 - val_loss: 0.1419 - val_mean_absolute_error: 0.2441\n",
      "Epoch 4/20\n",
      "368/368 [==============================] - 1s 2ms/step - loss: 0.1866 - mean_absolute_error: 0.2831 - val_loss: 0.1450 - val_mean_absolute_error: 0.2468\n",
      "Epoch 5/20\n",
      "368/368 [==============================] - 1s 2ms/step - loss: 0.1859 - mean_absolute_error: 0.2824 - val_loss: 0.1433 - val_mean_absolute_error: 0.2429\n",
      "***TRAIN***:\n",
      "correlation related to cluster centre: 0.90\n",
      "r2 score related to cluster centre: 0.82\n",
      "***VALIDATION***:\n",
      "correlation related to cluster centre: 0.91\n",
      "r2 score related to cluster centre: 0.83\n"
     ]
    },
    {
     "data": {
      "application/vnd.jupyter.widget-view+json": {
       "model_id": "60177d370bb741479df90619c7ac5f3e",
       "version_major": 2,
       "version_minor": 0
      },
      "text/plain": [
       "IntProgress(value=0, max=131)"
      ]
     },
     "metadata": {},
     "output_type": "display_data"
    },
    {
     "name": "stdout",
     "output_type": "stream",
     "text": [
      "***VALIDATION***:\n",
      "average correlation: 0.91\n",
      "average r2: 0.81\n",
      "---do_investigations. cluster index : 8---\n"
     ]
    },
    {
     "data": {
      "application/vnd.jupyter.widget-view+json": {
       "model_id": "4f69709d75d045d3903cb74839f99eb9",
       "version_major": 2,
       "version_minor": 0
      },
      "text/plain": [
       "IntProgress(value=0, max=67)"
      ]
     },
     "metadata": {},
     "output_type": "display_data"
    },
    {
     "name": "stdout",
     "output_type": "stream",
     "text": [
      "Epoch 1/20\n",
      "368/368 [==============================] - 2s 3ms/step - loss: 0.2521 - mean_absolute_error: 0.3270 - val_loss: 0.1885 - val_mean_absolute_error: 0.2871\n",
      "Epoch 2/20\n",
      "368/368 [==============================] - 1s 2ms/step - loss: 0.2062 - mean_absolute_error: 0.2908 - val_loss: 0.1869 - val_mean_absolute_error: 0.2863\n",
      "Epoch 3/20\n",
      "368/368 [==============================] - 1s 2ms/step - loss: 0.2052 - mean_absolute_error: 0.2887 - val_loss: 0.1849 - val_mean_absolute_error: 0.2777\n",
      "Epoch 4/20\n",
      "368/368 [==============================] - 1s 2ms/step - loss: 0.2061 - mean_absolute_error: 0.2888 - val_loss: 0.1846 - val_mean_absolute_error: 0.2782\n",
      "Epoch 5/20\n",
      "368/368 [==============================] - 1s 2ms/step - loss: 0.2039 - mean_absolute_error: 0.2870 - val_loss: 0.1857 - val_mean_absolute_error: 0.2774\n",
      "Epoch 6/20\n",
      "368/368 [==============================] - 1s 2ms/step - loss: 0.2043 - mean_absolute_error: 0.2868 - val_loss: 0.1847 - val_mean_absolute_error: 0.2755\n",
      "***TRAIN***:\n",
      "correlation related to cluster centre: 0.89\n",
      "r2 score related to cluster centre: 0.80\n",
      "***VALIDATION***:\n",
      "correlation related to cluster centre: 0.91\n",
      "r2 score related to cluster centre: 0.82\n"
     ]
    },
    {
     "data": {
      "application/vnd.jupyter.widget-view+json": {
       "model_id": "a1ad6a11c90a48c08c95615891fadc70",
       "version_major": 2,
       "version_minor": 0
      },
      "text/plain": [
       "IntProgress(value=0, max=67)"
      ]
     },
     "metadata": {},
     "output_type": "display_data"
    },
    {
     "name": "stdout",
     "output_type": "stream",
     "text": [
      "***VALIDATION***:\n",
      "average correlation: 0.90\n",
      "average r2: 0.81\n",
      "---do_investigations. cluster index : 9---\n"
     ]
    },
    {
     "data": {
      "application/vnd.jupyter.widget-view+json": {
       "model_id": "8701ef69e151480ba4be593fceee6b9e",
       "version_major": 2,
       "version_minor": 0
      },
      "text/plain": [
       "IntProgress(value=0, max=15)"
      ]
     },
     "metadata": {},
     "output_type": "display_data"
    },
    {
     "name": "stdout",
     "output_type": "stream",
     "text": [
      "Epoch 1/20\n",
      "368/368 [==============================] - 2s 3ms/step - loss: 0.2957 - mean_absolute_error: 0.3625 - val_loss: 0.2022 - val_mean_absolute_error: 0.3042\n",
      "Epoch 2/20\n",
      "368/368 [==============================] - 1s 3ms/step - loss: 0.2014 - mean_absolute_error: 0.3063 - val_loss: 0.1958 - val_mean_absolute_error: 0.2980\n",
      "Epoch 3/20\n",
      "368/368 [==============================] - 1s 2ms/step - loss: 0.2010 - mean_absolute_error: 0.3065 - val_loss: 0.2073 - val_mean_absolute_error: 0.3153\n",
      "Epoch 4/20\n",
      "368/368 [==============================] - 1s 2ms/step - loss: 0.2000 - mean_absolute_error: 0.3056 - val_loss: 0.1984 - val_mean_absolute_error: 0.3020\n",
      "***TRAIN***:\n",
      "correlation related to cluster centre: 0.89\n",
      "r2 score related to cluster centre: 0.80\n",
      "***VALIDATION***:\n",
      "correlation related to cluster centre: 0.91\n",
      "r2 score related to cluster centre: 0.82\n"
     ]
    },
    {
     "data": {
      "application/vnd.jupyter.widget-view+json": {
       "model_id": "8d75833391534ccfb65a7274d3eecee5",
       "version_major": 2,
       "version_minor": 0
      },
      "text/plain": [
       "IntProgress(value=0, max=15)"
      ]
     },
     "metadata": {},
     "output_type": "display_data"
    },
    {
     "name": "stdout",
     "output_type": "stream",
     "text": [
      "***VALIDATION***:\n",
      "average correlation: 0.91\n",
      "average r2: 0.81\n",
      "---do_investigations. cluster index : 10---\n"
     ]
    },
    {
     "data": {
      "application/vnd.jupyter.widget-view+json": {
       "model_id": "95934fec8c3a461c9c17e7732eb8bec5",
       "version_major": 2,
       "version_minor": 0
      },
      "text/plain": [
       "IntProgress(value=0, max=32)"
      ]
     },
     "metadata": {},
     "output_type": "display_data"
    },
    {
     "name": "stdout",
     "output_type": "stream",
     "text": [
      "Epoch 1/20\n",
      "368/368 [==============================] - 2s 3ms/step - loss: 0.2556 - mean_absolute_error: 0.3601 - val_loss: 0.1953 - val_mean_absolute_error: 0.3185\n",
      "Epoch 2/20\n",
      "368/368 [==============================] - 1s 3ms/step - loss: 0.2099 - mean_absolute_error: 0.3229 - val_loss: 0.1934 - val_mean_absolute_error: 0.3149\n",
      "Epoch 3/20\n",
      "368/368 [==============================] - 1s 3ms/step - loss: 0.2087 - mean_absolute_error: 0.3221 - val_loss: 0.1938 - val_mean_absolute_error: 0.3158\n",
      "Epoch 4/20\n",
      "368/368 [==============================] - 1s 2ms/step - loss: 0.2079 - mean_absolute_error: 0.3213 - val_loss: 0.1929 - val_mean_absolute_error: 0.3114\n",
      "Epoch 5/20\n",
      "368/368 [==============================] - 1s 3ms/step - loss: 0.2080 - mean_absolute_error: 0.3211 - val_loss: 0.1913 - val_mean_absolute_error: 0.3063\n",
      "Epoch 6/20\n",
      "368/368 [==============================] - 1s 2ms/step - loss: 0.2082 - mean_absolute_error: 0.3211 - val_loss: 0.1928 - val_mean_absolute_error: 0.3138\n",
      "Epoch 7/20\n",
      "368/368 [==============================] - 1s 2ms/step - loss: 0.2071 - mean_absolute_error: 0.3198 - val_loss: 0.1923 - val_mean_absolute_error: 0.3116\n",
      "***TRAIN***:\n",
      "correlation related to cluster centre: 0.89\n",
      "r2 score related to cluster centre: 0.79\n",
      "***VALIDATION***:\n",
      "correlation related to cluster centre: 0.90\n",
      "r2 score related to cluster centre: 0.82\n"
     ]
    },
    {
     "data": {
      "application/vnd.jupyter.widget-view+json": {
       "model_id": "03a2744b95fc41bdb3db2175fc624e06",
       "version_major": 2,
       "version_minor": 0
      },
      "text/plain": [
       "IntProgress(value=0, max=32)"
      ]
     },
     "metadata": {},
     "output_type": "display_data"
    },
    {
     "name": "stdout",
     "output_type": "stream",
     "text": [
      "***VALIDATION***:\n",
      "average correlation: 0.90\n",
      "average r2: 0.80\n",
      "---do_investigations. cluster index : 11---\n"
     ]
    },
    {
     "data": {
      "application/vnd.jupyter.widget-view+json": {
       "model_id": "2d199d3be4504c6baef9b081ed818804",
       "version_major": 2,
       "version_minor": 0
      },
      "text/plain": [
       "IntProgress(value=0, max=24)"
      ]
     },
     "metadata": {},
     "output_type": "display_data"
    },
    {
     "name": "stdout",
     "output_type": "stream",
     "text": [
      "Epoch 1/20\n",
      "368/368 [==============================] - 2s 3ms/step - loss: 0.2659 - mean_absolute_error: 0.3147 - val_loss: 0.2722 - val_mean_absolute_error: 0.2735\n",
      "Epoch 2/20\n",
      "368/368 [==============================] - 1s 2ms/step - loss: 0.2141 - mean_absolute_error: 0.2691 - val_loss: 0.2638 - val_mean_absolute_error: 0.2769\n",
      "Epoch 3/20\n",
      "368/368 [==============================] - 1s 2ms/step - loss: 0.2081 - mean_absolute_error: 0.2664 - val_loss: 0.2603 - val_mean_absolute_error: 0.2658\n",
      "Epoch 4/20\n",
      "368/368 [==============================] - 1s 2ms/step - loss: 0.2104 - mean_absolute_error: 0.2675 - val_loss: 0.2728 - val_mean_absolute_error: 0.2743\n",
      "Epoch 5/20\n",
      "368/368 [==============================] - 1s 2ms/step - loss: 0.2101 - mean_absolute_error: 0.2657 - val_loss: 0.2572 - val_mean_absolute_error: 0.2664\n",
      "Epoch 6/20\n",
      "368/368 [==============================] - 1s 2ms/step - loss: 0.2057 - mean_absolute_error: 0.2644 - val_loss: 0.2566 - val_mean_absolute_error: 0.2731\n",
      "Epoch 7/20\n",
      "368/368 [==============================] - 1s 2ms/step - loss: 0.2082 - mean_absolute_error: 0.2654 - val_loss: 0.2561 - val_mean_absolute_error: 0.2627\n",
      "Epoch 8/20\n",
      "368/368 [==============================] - 1s 2ms/step - loss: 0.2073 - mean_absolute_error: 0.2652 - val_loss: 0.2609 - val_mean_absolute_error: 0.2732\n",
      "Epoch 9/20\n",
      "368/368 [==============================] - 1s 2ms/step - loss: 0.2096 - mean_absolute_error: 0.2664 - val_loss: 0.2632 - val_mean_absolute_error: 0.2718\n",
      "***TRAIN***:\n",
      "correlation related to cluster centre: 0.89\n",
      "r2 score related to cluster centre: 0.80\n",
      "***VALIDATION***:\n",
      "correlation related to cluster centre: 0.90\n",
      "r2 score related to cluster centre: 0.81\n"
     ]
    },
    {
     "data": {
      "application/vnd.jupyter.widget-view+json": {
       "model_id": "6fbcdad061b5457f92c6c6c9c87c963c",
       "version_major": 2,
       "version_minor": 0
      },
      "text/plain": [
       "IntProgress(value=0, max=24)"
      ]
     },
     "metadata": {},
     "output_type": "display_data"
    },
    {
     "name": "stdout",
     "output_type": "stream",
     "text": [
      "***VALIDATION***:\n",
      "average correlation: 0.90\n",
      "average r2: 0.78\n",
      "---do_investigations. cluster index : 12---\n"
     ]
    },
    {
     "data": {
      "application/vnd.jupyter.widget-view+json": {
       "model_id": "cb69f1f866334e3b9e3e93141864d90a",
       "version_major": 2,
       "version_minor": 0
      },
      "text/plain": [
       "IntProgress(value=0, max=3)"
      ]
     },
     "metadata": {},
     "output_type": "display_data"
    },
    {
     "name": "stdout",
     "output_type": "stream",
     "text": [
      "Epoch 1/20\n",
      "368/368 [==============================] - 2s 3ms/step - loss: 0.2523 - mean_absolute_error: 0.3515 - val_loss: 0.1821 - val_mean_absolute_error: 0.2933\n",
      "Epoch 2/20\n",
      "368/368 [==============================] - 1s 2ms/step - loss: 0.2015 - mean_absolute_error: 0.3098 - val_loss: 0.1814 - val_mean_absolute_error: 0.2893\n",
      "Epoch 3/20\n",
      "368/368 [==============================] - 1s 2ms/step - loss: 0.2023 - mean_absolute_error: 0.3099 - val_loss: 0.1805 - val_mean_absolute_error: 0.2936\n",
      "Epoch 4/20\n",
      "368/368 [==============================] - 1s 2ms/step - loss: 0.2020 - mean_absolute_error: 0.3092 - val_loss: 0.1810 - val_mean_absolute_error: 0.2953\n",
      "Epoch 5/20\n",
      "368/368 [==============================] - 1s 2ms/step - loss: 0.2008 - mean_absolute_error: 0.3091 - val_loss: 0.1807 - val_mean_absolute_error: 0.2897\n",
      "***TRAIN***:\n",
      "correlation related to cluster centre: 0.89\n",
      "r2 score related to cluster centre: 0.80\n",
      "***VALIDATION***:\n",
      "correlation related to cluster centre: 0.91\n",
      "r2 score related to cluster centre: 0.82\n"
     ]
    },
    {
     "data": {
      "application/vnd.jupyter.widget-view+json": {
       "model_id": "28165f0c50af4bd5813ccdcf71881713",
       "version_major": 2,
       "version_minor": 0
      },
      "text/plain": [
       "IntProgress(value=0, max=3)"
      ]
     },
     "metadata": {},
     "output_type": "display_data"
    },
    {
     "name": "stdout",
     "output_type": "stream",
     "text": [
      "***VALIDATION***:\n",
      "average correlation: 0.91\n",
      "average r2: 0.82\n",
      "---do_investigations. cluster index : 13---\n"
     ]
    },
    {
     "data": {
      "application/vnd.jupyter.widget-view+json": {
       "model_id": "80926a0667b94c22a58b7beae306d538",
       "version_major": 2,
       "version_minor": 0
      },
      "text/plain": [
       "IntProgress(value=0, max=384)"
      ]
     },
     "metadata": {},
     "output_type": "display_data"
    },
    {
     "name": "stdout",
     "output_type": "stream",
     "text": [
      "Epoch 1/20\n",
      "368/368 [==============================] - 2s 3ms/step - loss: 0.2562 - mean_absolute_error: 0.3342 - val_loss: 0.2330 - val_mean_absolute_error: 0.3022\n",
      "Epoch 2/20\n",
      "368/368 [==============================] - 1s 2ms/step - loss: 0.2049 - mean_absolute_error: 0.2868 - val_loss: 0.2406 - val_mean_absolute_error: 0.3076\n",
      "Epoch 3/20\n",
      "368/368 [==============================] - 1s 2ms/step - loss: 0.2040 - mean_absolute_error: 0.2859 - val_loss: 0.2474 - val_mean_absolute_error: 0.3183\n",
      "***TRAIN***:\n",
      "correlation related to cluster centre: 0.89\n",
      "r2 score related to cluster centre: 0.79\n",
      "***VALIDATION***:\n",
      "correlation related to cluster centre: 0.90\n",
      "r2 score related to cluster centre: 0.80\n"
     ]
    },
    {
     "data": {
      "application/vnd.jupyter.widget-view+json": {
       "model_id": "30331cf90b664805bce24fcd2cea4648",
       "version_major": 2,
       "version_minor": 0
      },
      "text/plain": [
       "IntProgress(value=0, max=384)"
      ]
     },
     "metadata": {},
     "output_type": "display_data"
    },
    {
     "name": "stdout",
     "output_type": "stream",
     "text": [
      "***VALIDATION***:\n",
      "average correlation: 0.89\n",
      "average r2: 0.66\n",
      "---do_investigations. cluster index : 14---\n"
     ]
    },
    {
     "data": {
      "application/vnd.jupyter.widget-view+json": {
       "model_id": "a0057e56e7aa40d8b3dcd779a5ebc08a",
       "version_major": 2,
       "version_minor": 0
      },
      "text/plain": [
       "IntProgress(value=0, max=166)"
      ]
     },
     "metadata": {},
     "output_type": "display_data"
    },
    {
     "name": "stdout",
     "output_type": "stream",
     "text": [
      "Epoch 1/20\n",
      "368/368 [==============================] - 2s 3ms/step - loss: 0.2494 - mean_absolute_error: 0.3258 - val_loss: 0.2287 - val_mean_absolute_error: 0.2782\n",
      "Epoch 2/20\n",
      "368/368 [==============================] - 1s 2ms/step - loss: 0.2065 - mean_absolute_error: 0.2818 - val_loss: 0.2108 - val_mean_absolute_error: 0.2777\n",
      "Epoch 3/20\n",
      "368/368 [==============================] - 1s 2ms/step - loss: 0.2047 - mean_absolute_error: 0.2813 - val_loss: 0.2104 - val_mean_absolute_error: 0.2791\n",
      "Epoch 4/20\n",
      "368/368 [==============================] - 1s 2ms/step - loss: 0.2045 - mean_absolute_error: 0.2808 - val_loss: 0.2137 - val_mean_absolute_error: 0.2731\n",
      "Epoch 5/20\n",
      "368/368 [==============================] - 1s 2ms/step - loss: 0.2042 - mean_absolute_error: 0.2810 - val_loss: 0.2114 - val_mean_absolute_error: 0.2754\n",
      "***TRAIN***:\n",
      "correlation related to cluster centre: 0.89\n",
      "r2 score related to cluster centre: 0.80\n",
      "***VALIDATION***:\n",
      "correlation related to cluster centre: 0.90\n",
      "r2 score related to cluster centre: 0.82\n"
     ]
    },
    {
     "data": {
      "application/vnd.jupyter.widget-view+json": {
       "model_id": "832a9438609b4f739dbac7a30d6638d6",
       "version_major": 2,
       "version_minor": 0
      },
      "text/plain": [
       "IntProgress(value=0, max=166)"
      ]
     },
     "metadata": {},
     "output_type": "display_data"
    },
    {
     "name": "stdout",
     "output_type": "stream",
     "text": [
      "***VALIDATION***:\n",
      "average correlation: 0.90\n",
      "average r2: 0.81\n",
      "---do_investigations. cluster index : 15---\n"
     ]
    },
    {
     "data": {
      "application/vnd.jupyter.widget-view+json": {
       "model_id": "6cc15d8d93ab467a9a2862016072ba74",
       "version_major": 2,
       "version_minor": 0
      },
      "text/plain": [
       "IntProgress(value=0, max=36)"
      ]
     },
     "metadata": {},
     "output_type": "display_data"
    },
    {
     "name": "stdout",
     "output_type": "stream",
     "text": [
      "Epoch 1/20\n",
      "368/368 [==============================] - 2s 3ms/step - loss: 0.2682 - mean_absolute_error: 0.3613 - val_loss: 0.1887 - val_mean_absolute_error: 0.3033\n",
      "Epoch 2/20\n",
      "368/368 [==============================] - 1s 2ms/step - loss: 0.2007 - mean_absolute_error: 0.3109 - val_loss: 0.1843 - val_mean_absolute_error: 0.2943\n",
      "Epoch 3/20\n",
      "368/368 [==============================] - 1s 2ms/step - loss: 0.1994 - mean_absolute_error: 0.3097 - val_loss: 0.1880 - val_mean_absolute_error: 0.3034\n",
      "Epoch 4/20\n",
      "368/368 [==============================] - 1s 2ms/step - loss: 0.1986 - mean_absolute_error: 0.3090 - val_loss: 0.1850 - val_mean_absolute_error: 0.3022\n",
      "***TRAIN***:\n",
      "correlation related to cluster centre: 0.90\n",
      "r2 score related to cluster centre: 0.80\n",
      "***VALIDATION***:\n",
      "correlation related to cluster centre: 0.91\n",
      "r2 score related to cluster centre: 0.82\n"
     ]
    },
    {
     "data": {
      "application/vnd.jupyter.widget-view+json": {
       "model_id": "c1d36733fbb34f619e6053e5a393e99e",
       "version_major": 2,
       "version_minor": 0
      },
      "text/plain": [
       "IntProgress(value=0, max=36)"
      ]
     },
     "metadata": {},
     "output_type": "display_data"
    },
    {
     "name": "stdout",
     "output_type": "stream",
     "text": [
      "***VALIDATION***:\n",
      "average correlation: 0.91\n",
      "average r2: 0.81\n",
      "---do_investigations. cluster index : 16---\n"
     ]
    },
    {
     "data": {
      "application/vnd.jupyter.widget-view+json": {
       "model_id": "8d8c2dc9a30b4714952f4a971f9f6ae6",
       "version_major": 2,
       "version_minor": 0
      },
      "text/plain": [
       "IntProgress(value=0, max=6)"
      ]
     },
     "metadata": {},
     "output_type": "display_data"
    },
    {
     "name": "stdout",
     "output_type": "stream",
     "text": [
      "Epoch 1/20\n",
      "368/368 [==============================] - 2s 3ms/step - loss: 0.2458 - mean_absolute_error: 0.3520 - val_loss: 0.2117 - val_mean_absolute_error: 0.3263\n",
      "Epoch 2/20\n",
      "368/368 [==============================] - 1s 2ms/step - loss: 0.2117 - mean_absolute_error: 0.3235 - val_loss: 0.2118 - val_mean_absolute_error: 0.3235\n",
      "Epoch 3/20\n",
      "368/368 [==============================] - 1s 3ms/step - loss: 0.2106 - mean_absolute_error: 0.3218 - val_loss: 0.2122 - val_mean_absolute_error: 0.3200\n",
      "***TRAIN***:\n",
      "correlation related to cluster centre: 0.89\n",
      "r2 score related to cluster centre: 0.79\n",
      "***VALIDATION***:\n",
      "correlation related to cluster centre: 0.90\n",
      "r2 score related to cluster centre: 0.81\n"
     ]
    },
    {
     "data": {
      "application/vnd.jupyter.widget-view+json": {
       "model_id": "72d3d159925a477696eb6f13300ecac3",
       "version_major": 2,
       "version_minor": 0
      },
      "text/plain": [
       "IntProgress(value=0, max=6)"
      ]
     },
     "metadata": {},
     "output_type": "display_data"
    },
    {
     "name": "stdout",
     "output_type": "stream",
     "text": [
      "***VALIDATION***:\n",
      "average correlation: 0.90\n",
      "average r2: 0.81\n",
      "---do_investigations. cluster index : 17---\n"
     ]
    },
    {
     "data": {
      "application/vnd.jupyter.widget-view+json": {
       "model_id": "ad69c176535945819eb6a11854dd4d81",
       "version_major": 2,
       "version_minor": 0
      },
      "text/plain": [
       "IntProgress(value=0, max=5)"
      ]
     },
     "metadata": {},
     "output_type": "display_data"
    },
    {
     "name": "stdout",
     "output_type": "stream",
     "text": [
      "Epoch 1/20\n",
      "368/368 [==============================] - 2s 3ms/step - loss: 0.2778 - mean_absolute_error: 0.3670 - val_loss: 0.1992 - val_mean_absolute_error: 0.3129\n",
      "Epoch 2/20\n",
      "368/368 [==============================] - 1s 3ms/step - loss: 0.2064 - mean_absolute_error: 0.3138 - val_loss: 0.1944 - val_mean_absolute_error: 0.3010\n",
      "Epoch 3/20\n",
      "368/368 [==============================] - 1s 2ms/step - loss: 0.2047 - mean_absolute_error: 0.3125 - val_loss: 0.1922 - val_mean_absolute_error: 0.3012\n",
      "Epoch 4/20\n",
      "368/368 [==============================] - 1s 3ms/step - loss: 0.2042 - mean_absolute_error: 0.3114 - val_loss: 0.1930 - val_mean_absolute_error: 0.3036\n",
      "Epoch 5/20\n",
      "368/368 [==============================] - 1s 3ms/step - loss: 0.2044 - mean_absolute_error: 0.3118 - val_loss: 0.1918 - val_mean_absolute_error: 0.3035\n",
      "Epoch 6/20\n",
      "368/368 [==============================] - 1s 2ms/step - loss: 0.2036 - mean_absolute_error: 0.3123 - val_loss: 0.1938 - val_mean_absolute_error: 0.3012\n",
      "Epoch 7/20\n",
      "368/368 [==============================] - 1s 2ms/step - loss: 0.2029 - mean_absolute_error: 0.3113 - val_loss: 0.1930 - val_mean_absolute_error: 0.3048\n",
      "***TRAIN***:\n",
      "correlation related to cluster centre: 0.89\n",
      "r2 score related to cluster centre: 0.80\n",
      "***VALIDATION***:\n",
      "correlation related to cluster centre: 0.91\n",
      "r2 score related to cluster centre: 0.82\n"
     ]
    },
    {
     "data": {
      "application/vnd.jupyter.widget-view+json": {
       "model_id": "528016c9b7f64a3db1f92520e042e111",
       "version_major": 2,
       "version_minor": 0
      },
      "text/plain": [
       "IntProgress(value=0, max=5)"
      ]
     },
     "metadata": {},
     "output_type": "display_data"
    },
    {
     "name": "stdout",
     "output_type": "stream",
     "text": [
      "***VALIDATION***:\n",
      "average correlation: 0.91\n",
      "average r2: 0.82\n",
      "---do_investigations. cluster index : 18---\n"
     ]
    },
    {
     "data": {
      "application/vnd.jupyter.widget-view+json": {
       "model_id": "b83c8234c08440dd8cf7d7c823fb658d",
       "version_major": 2,
       "version_minor": 0
      },
      "text/plain": [
       "IntProgress(value=0, max=13)"
      ]
     },
     "metadata": {},
     "output_type": "display_data"
    },
    {
     "name": "stdout",
     "output_type": "stream",
     "text": [
      "Epoch 1/20\n",
      "368/368 [==============================] - 2s 3ms/step - loss: 0.2529 - mean_absolute_error: 0.3610 - val_loss: 0.2326 - val_mean_absolute_error: 0.3401\n",
      "Epoch 2/20\n",
      "368/368 [==============================] - 1s 2ms/step - loss: 0.2090 - mean_absolute_error: 0.3188 - val_loss: 0.2311 - val_mean_absolute_error: 0.3425\n",
      "Epoch 3/20\n",
      "368/368 [==============================] - 1s 3ms/step - loss: 0.2076 - mean_absolute_error: 0.3172 - val_loss: 0.2336 - val_mean_absolute_error: 0.3475\n",
      "Epoch 4/20\n",
      "368/368 [==============================] - 1s 3ms/step - loss: 0.2070 - mean_absolute_error: 0.3165 - val_loss: 0.2297 - val_mean_absolute_error: 0.3361\n",
      "Epoch 5/20\n",
      "368/368 [==============================] - 1s 3ms/step - loss: 0.2070 - mean_absolute_error: 0.3164 - val_loss: 0.2268 - val_mean_absolute_error: 0.3355\n",
      "Epoch 6/20\n",
      "368/368 [==============================] - 1s 3ms/step - loss: 0.2065 - mean_absolute_error: 0.3163 - val_loss: 0.2364 - val_mean_absolute_error: 0.3412\n",
      "Epoch 7/20\n",
      "368/368 [==============================] - 1s 3ms/step - loss: 0.2066 - mean_absolute_error: 0.3167 - val_loss: 0.2349 - val_mean_absolute_error: 0.3461\n",
      "***TRAIN***:\n",
      "correlation related to cluster centre: 0.89\n",
      "r2 score related to cluster centre: 0.79\n",
      "***VALIDATION***:\n",
      "correlation related to cluster centre: 0.90\n",
      "r2 score related to cluster centre: 0.81\n"
     ]
    },
    {
     "data": {
      "application/vnd.jupyter.widget-view+json": {
       "model_id": "578227f66bdf41f6819e90e1414b4b3a",
       "version_major": 2,
       "version_minor": 0
      },
      "text/plain": [
       "IntProgress(value=0, max=13)"
      ]
     },
     "metadata": {},
     "output_type": "display_data"
    },
    {
     "name": "stdout",
     "output_type": "stream",
     "text": [
      "***VALIDATION***:\n",
      "average correlation: 0.90\n",
      "average r2: 0.79\n",
      "---do_investigations. cluster index : 19---\n"
     ]
    },
    {
     "data": {
      "application/vnd.jupyter.widget-view+json": {
       "model_id": "cc937a24d9f54b74825f293f8592086e",
       "version_major": 2,
       "version_minor": 0
      },
      "text/plain": [
       "IntProgress(value=0, max=5)"
      ]
     },
     "metadata": {},
     "output_type": "display_data"
    },
    {
     "name": "stdout",
     "output_type": "stream",
     "text": [
      "Epoch 1/20\n",
      "368/368 [==============================] - 2s 3ms/step - loss: 0.3137 - mean_absolute_error: 0.4029 - val_loss: 0.1727 - val_mean_absolute_error: 0.2949\n",
      "Epoch 2/20\n",
      "368/368 [==============================] - 1s 2ms/step - loss: 0.2099 - mean_absolute_error: 0.3198 - val_loss: 0.1706 - val_mean_absolute_error: 0.2930\n",
      "Epoch 3/20\n",
      "368/368 [==============================] - 1s 2ms/step - loss: 0.2085 - mean_absolute_error: 0.3181 - val_loss: 0.1712 - val_mean_absolute_error: 0.2932\n",
      "Epoch 4/20\n",
      "368/368 [==============================] - 1s 2ms/step - loss: 0.2081 - mean_absolute_error: 0.3177 - val_loss: 0.1704 - val_mean_absolute_error: 0.2878\n",
      "Epoch 5/20\n",
      "368/368 [==============================] - 1s 3ms/step - loss: 0.2076 - mean_absolute_error: 0.3172 - val_loss: 0.1700 - val_mean_absolute_error: 0.2901\n",
      "Epoch 6/20\n",
      "368/368 [==============================] - 1s 3ms/step - loss: 0.2077 - mean_absolute_error: 0.3174 - val_loss: 0.1722 - val_mean_absolute_error: 0.2956\n",
      "Epoch 7/20\n",
      "368/368 [==============================] - 1s 3ms/step - loss: 0.2074 - mean_absolute_error: 0.3172 - val_loss: 0.1729 - val_mean_absolute_error: 0.2933\n",
      "***TRAIN***:\n",
      "correlation related to cluster centre: 0.89\n",
      "r2 score related to cluster centre: 0.79\n",
      "***VALIDATION***:\n",
      "correlation related to cluster centre: 0.91\n",
      "r2 score related to cluster centre: 0.82\n"
     ]
    },
    {
     "data": {
      "application/vnd.jupyter.widget-view+json": {
       "model_id": "5ccb869e37ca4886b8e69f1d8afbff21",
       "version_major": 2,
       "version_minor": 0
      },
      "text/plain": [
       "IntProgress(value=0, max=5)"
      ]
     },
     "metadata": {},
     "output_type": "display_data"
    },
    {
     "name": "stdout",
     "output_type": "stream",
     "text": [
      "***VALIDATION***:\n",
      "average correlation: 0.90\n",
      "average r2: 0.82\n",
      "---do_investigations. cluster index : 20---\n"
     ]
    },
    {
     "data": {
      "application/vnd.jupyter.widget-view+json": {
       "model_id": "1bc5652e7bed4369aadbccee0e96651d",
       "version_major": 2,
       "version_minor": 0
      },
      "text/plain": [
       "IntProgress(value=0, max=12)"
      ]
     },
     "metadata": {},
     "output_type": "display_data"
    },
    {
     "name": "stdout",
     "output_type": "stream",
     "text": [
      "Epoch 1/20\n",
      "368/368 [==============================] - 2s 3ms/step - loss: 0.2206 - mean_absolute_error: 0.3247 - val_loss: 0.1741 - val_mean_absolute_error: 0.2893\n",
      "Epoch 2/20\n",
      "368/368 [==============================] - 1s 2ms/step - loss: 0.1981 - mean_absolute_error: 0.3057 - val_loss: 0.1747 - val_mean_absolute_error: 0.2891\n",
      "Epoch 3/20\n",
      "368/368 [==============================] - 1s 2ms/step - loss: 0.1972 - mean_absolute_error: 0.3050 - val_loss: 0.1722 - val_mean_absolute_error: 0.2794\n",
      "Epoch 4/20\n",
      "368/368 [==============================] - 1s 2ms/step - loss: 0.1971 - mean_absolute_error: 0.3044 - val_loss: 0.1723 - val_mean_absolute_error: 0.2853\n",
      "Epoch 5/20\n",
      "368/368 [==============================] - 1s 2ms/step - loss: 0.1969 - mean_absolute_error: 0.3045 - val_loss: 0.1715 - val_mean_absolute_error: 0.2812\n",
      "Epoch 6/20\n",
      "368/368 [==============================] - 1s 3ms/step - loss: 0.1976 - mean_absolute_error: 0.3054 - val_loss: 0.1738 - val_mean_absolute_error: 0.2848\n",
      "Epoch 7/20\n",
      "368/368 [==============================] - 1s 2ms/step - loss: 0.1964 - mean_absolute_error: 0.3043 - val_loss: 0.1722 - val_mean_absolute_error: 0.2841\n",
      "***TRAIN***:\n",
      "correlation related to cluster centre: 0.90\n",
      "r2 score related to cluster centre: 0.80\n",
      "***VALIDATION***:\n",
      "correlation related to cluster centre: 0.91\n",
      "r2 score related to cluster centre: 0.83\n"
     ]
    },
    {
     "data": {
      "application/vnd.jupyter.widget-view+json": {
       "model_id": "bdf2b83b46394587b31f47e48f33212a",
       "version_major": 2,
       "version_minor": 0
      },
      "text/plain": [
       "IntProgress(value=0, max=12)"
      ]
     },
     "metadata": {},
     "output_type": "display_data"
    },
    {
     "name": "stdout",
     "output_type": "stream",
     "text": [
      "***VALIDATION***:\n",
      "average correlation: 0.91\n",
      "average r2: 0.82\n",
      "---do_investigations. cluster index : 21---\n"
     ]
    },
    {
     "data": {
      "application/vnd.jupyter.widget-view+json": {
       "model_id": "f42da0440d3b4195bc60c8afb673f154",
       "version_major": 2,
       "version_minor": 0
      },
      "text/plain": [
       "IntProgress(value=0, max=18)"
      ]
     },
     "metadata": {},
     "output_type": "display_data"
    },
    {
     "name": "stdout",
     "output_type": "stream",
     "text": [
      "Epoch 1/20\n",
      "368/368 [==============================] - 2s 3ms/step - loss: 0.2399 - mean_absolute_error: 0.3063 - val_loss: 0.1162 - val_mean_absolute_error: 0.1877\n",
      "Epoch 2/20\n",
      "368/368 [==============================] - 1s 2ms/step - loss: 0.1501 - mean_absolute_error: 0.2507 - val_loss: 0.1088 - val_mean_absolute_error: 0.1858\n",
      "Epoch 3/20\n",
      "368/368 [==============================] - 1s 3ms/step - loss: 0.1474 - mean_absolute_error: 0.2492 - val_loss: 0.1059 - val_mean_absolute_error: 0.1831\n",
      "Epoch 4/20\n",
      "368/368 [==============================] - 1s 2ms/step - loss: 0.1465 - mean_absolute_error: 0.2473 - val_loss: 0.1059 - val_mean_absolute_error: 0.1872\n",
      "Epoch 5/20\n",
      "368/368 [==============================] - 1s 2ms/step - loss: 0.1473 - mean_absolute_error: 0.2499 - val_loss: 0.1049 - val_mean_absolute_error: 0.1837\n",
      "Epoch 6/20\n",
      "368/368 [==============================] - 1s 2ms/step - loss: 0.1462 - mean_absolute_error: 0.2481 - val_loss: 0.1055 - val_mean_absolute_error: 0.1849\n",
      "Epoch 7/20\n",
      "368/368 [==============================] - 1s 2ms/step - loss: 0.1471 - mean_absolute_error: 0.2486 - val_loss: 0.1040 - val_mean_absolute_error: 0.1835\n",
      "Epoch 8/20\n",
      "368/368 [==============================] - 1s 2ms/step - loss: 0.1452 - mean_absolute_error: 0.2469 - val_loss: 0.1067 - val_mean_absolute_error: 0.1913\n",
      "Epoch 9/20\n",
      "368/368 [==============================] - 1s 2ms/step - loss: 0.1467 - mean_absolute_error: 0.2485 - val_loss: 0.1067 - val_mean_absolute_error: 0.1919\n",
      "***TRAIN***:\n",
      "correlation related to cluster centre: 0.93\n",
      "r2 score related to cluster centre: 0.85\n",
      "***VALIDATION***:\n",
      "correlation related to cluster centre: 0.92\n",
      "r2 score related to cluster centre: 0.83\n"
     ]
    },
    {
     "data": {
      "application/vnd.jupyter.widget-view+json": {
       "model_id": "eee51b8cafb147e4b81b445382b70b90",
       "version_major": 2,
       "version_minor": 0
      },
      "text/plain": [
       "IntProgress(value=0, max=18)"
      ]
     },
     "metadata": {},
     "output_type": "display_data"
    },
    {
     "name": "stdout",
     "output_type": "stream",
     "text": [
      "***VALIDATION***:\n",
      "average correlation: 0.90\n",
      "average r2: 0.78\n",
      "---do_investigations. cluster index : 22---\n"
     ]
    },
    {
     "data": {
      "application/vnd.jupyter.widget-view+json": {
       "model_id": "cbb132eafa494f50877c0128207420e2",
       "version_major": 2,
       "version_minor": 0
      },
      "text/plain": [
       "IntProgress(value=0, max=12)"
      ]
     },
     "metadata": {},
     "output_type": "display_data"
    },
    {
     "name": "stdout",
     "output_type": "stream",
     "text": [
      "Epoch 1/20\n",
      "368/368 [==============================] - 2s 3ms/step - loss: 0.3006 - mean_absolute_error: 0.3160 - val_loss: 0.2103 - val_mean_absolute_error: 0.2517\n",
      "Epoch 2/20\n",
      "368/368 [==============================] - 1s 2ms/step - loss: 0.2028 - mean_absolute_error: 0.2738 - val_loss: 0.2081 - val_mean_absolute_error: 0.2533\n",
      "Epoch 3/20\n",
      "368/368 [==============================] - 1s 2ms/step - loss: 0.2021 - mean_absolute_error: 0.2728 - val_loss: 0.2087 - val_mean_absolute_error: 0.2581\n",
      "Epoch 4/20\n",
      "368/368 [==============================] - 1s 3ms/step - loss: 0.2027 - mean_absolute_error: 0.2727 - val_loss: 0.2062 - val_mean_absolute_error: 0.2503\n",
      "Epoch 5/20\n",
      "368/368 [==============================] - 1s 3ms/step - loss: 0.2017 - mean_absolute_error: 0.2723 - val_loss: 0.2101 - val_mean_absolute_error: 0.2517\n",
      "Epoch 6/20\n",
      "368/368 [==============================] - 1s 3ms/step - loss: 0.2019 - mean_absolute_error: 0.2725 - val_loss: 0.2197 - val_mean_absolute_error: 0.2616\n",
      "***TRAIN***:\n",
      "correlation related to cluster centre: 0.89\n",
      "r2 score related to cluster centre: 0.79\n",
      "***VALIDATION***:\n",
      "correlation related to cluster centre: 0.90\n",
      "r2 score related to cluster centre: 0.80\n"
     ]
    },
    {
     "data": {
      "application/vnd.jupyter.widget-view+json": {
       "model_id": "522bf39c57754b4cbf048ecadc3d5e8e",
       "version_major": 2,
       "version_minor": 0
      },
      "text/plain": [
       "IntProgress(value=0, max=12)"
      ]
     },
     "metadata": {},
     "output_type": "display_data"
    },
    {
     "name": "stdout",
     "output_type": "stream",
     "text": [
      "***VALIDATION***:\n",
      "average correlation: 0.88\n",
      "average r2: 0.75\n",
      "---do_investigations. cluster index : 23---\n"
     ]
    },
    {
     "data": {
      "application/vnd.jupyter.widget-view+json": {
       "model_id": "3e11d877d8ce496285026aef4937ef00",
       "version_major": 2,
       "version_minor": 0
      },
      "text/plain": [
       "IntProgress(value=0, max=20)"
      ]
     },
     "metadata": {},
     "output_type": "display_data"
    },
    {
     "name": "stdout",
     "output_type": "stream",
     "text": [
      "Epoch 1/20\n",
      "368/368 [==============================] - 2s 3ms/step - loss: 0.2801 - mean_absolute_error: 0.3222 - val_loss: 0.2004 - val_mean_absolute_error: 0.2622\n",
      "Epoch 2/20\n",
      "368/368 [==============================] - 1s 2ms/step - loss: 0.2016 - mean_absolute_error: 0.2786 - val_loss: 0.1959 - val_mean_absolute_error: 0.2622\n",
      "Epoch 3/20\n",
      "368/368 [==============================] - 1s 2ms/step - loss: 0.2005 - mean_absolute_error: 0.2790 - val_loss: 0.1963 - val_mean_absolute_error: 0.2656\n",
      "Epoch 4/20\n",
      "368/368 [==============================] - 1s 3ms/step - loss: 0.2013 - mean_absolute_error: 0.2791 - val_loss: 0.1971 - val_mean_absolute_error: 0.2669\n",
      "***TRAIN***:\n",
      "correlation related to cluster centre: 0.90\n",
      "r2 score related to cluster centre: 0.80\n",
      "***VALIDATION***:\n",
      "correlation related to cluster centre: 0.90\n",
      "r2 score related to cluster centre: 0.81\n"
     ]
    },
    {
     "data": {
      "application/vnd.jupyter.widget-view+json": {
       "model_id": "fc9cce871bba426abcbdbeb3b902bc62",
       "version_major": 2,
       "version_minor": 0
      },
      "text/plain": [
       "IntProgress(value=0, max=20)"
      ]
     },
     "metadata": {},
     "output_type": "display_data"
    },
    {
     "name": "stdout",
     "output_type": "stream",
     "text": [
      "***VALIDATION***:\n",
      "average correlation: 0.88\n",
      "average r2: 0.76\n",
      "---do_investigations. cluster index : 24---\n"
     ]
    },
    {
     "data": {
      "application/vnd.jupyter.widget-view+json": {
       "model_id": "88d8b72a3ead4f879dde26ce28da49ff",
       "version_major": 2,
       "version_minor": 0
      },
      "text/plain": [
       "IntProgress(value=0, max=105)"
      ]
     },
     "metadata": {},
     "output_type": "display_data"
    },
    {
     "name": "stdout",
     "output_type": "stream",
     "text": [
      "Epoch 1/20\n",
      "368/368 [==============================] - 2s 3ms/step - loss: 0.1858 - mean_absolute_error: 0.2940 - val_loss: 0.1448 - val_mean_absolute_error: 0.2497\n",
      "Epoch 2/20\n",
      "368/368 [==============================] - 1s 2ms/step - loss: 0.1419 - mean_absolute_error: 0.2534 - val_loss: 0.1439 - val_mean_absolute_error: 0.2471\n",
      "Epoch 3/20\n",
      "368/368 [==============================] - 1s 2ms/step - loss: 0.1402 - mean_absolute_error: 0.2519 - val_loss: 0.1439 - val_mean_absolute_error: 0.2531\n",
      "Epoch 4/20\n",
      "368/368 [==============================] - 1s 2ms/step - loss: 0.1400 - mean_absolute_error: 0.2516 - val_loss: 0.1443 - val_mean_absolute_error: 0.2465\n",
      "Epoch 5/20\n",
      "368/368 [==============================] - 1s 2ms/step - loss: 0.1393 - mean_absolute_error: 0.2509 - val_loss: 0.1436 - val_mean_absolute_error: 0.2543\n",
      "Epoch 6/20\n",
      "368/368 [==============================] - 1s 2ms/step - loss: 0.1399 - mean_absolute_error: 0.2519 - val_loss: 0.1427 - val_mean_absolute_error: 0.2513\n",
      "Epoch 7/20\n",
      "368/368 [==============================] - 1s 2ms/step - loss: 0.1398 - mean_absolute_error: 0.2516 - val_loss: 0.1477 - val_mean_absolute_error: 0.2675\n",
      "Epoch 8/20\n",
      "368/368 [==============================] - 1s 3ms/step - loss: 0.1397 - mean_absolute_error: 0.2520 - val_loss: 0.1429 - val_mean_absolute_error: 0.2489\n",
      "***TRAIN***:\n",
      "correlation related to cluster centre: 0.93\n",
      "r2 score related to cluster centre: 0.86\n",
      "***VALIDATION***:\n",
      "correlation related to cluster centre: 0.92\n",
      "r2 score related to cluster centre: 0.85\n"
     ]
    },
    {
     "data": {
      "application/vnd.jupyter.widget-view+json": {
       "model_id": "b766c218e392494c8c7cdcbdb23858b0",
       "version_major": 2,
       "version_minor": 0
      },
      "text/plain": [
       "IntProgress(value=0, max=105)"
      ]
     },
     "metadata": {},
     "output_type": "display_data"
    },
    {
     "name": "stdout",
     "output_type": "stream",
     "text": [
      "***VALIDATION***:\n",
      "average correlation: 0.91\n",
      "average r2: 0.82\n",
      "---do_investigations. cluster index : 25---\n"
     ]
    },
    {
     "data": {
      "application/vnd.jupyter.widget-view+json": {
       "model_id": "233331877ffa4e5faca83fbc2a64d547",
       "version_major": 2,
       "version_minor": 0
      },
      "text/plain": [
       "IntProgress(value=0, max=13)"
      ]
     },
     "metadata": {},
     "output_type": "display_data"
    },
    {
     "name": "stdout",
     "output_type": "stream",
     "text": [
      "Epoch 1/20\n",
      "368/368 [==============================] - 2s 3ms/step - loss: 0.2345 - mean_absolute_error: 0.3377 - val_loss: 0.1758 - val_mean_absolute_error: 0.2899\n",
      "Epoch 2/20\n",
      "368/368 [==============================] - 1s 2ms/step - loss: 0.2036 - mean_absolute_error: 0.3080 - val_loss: 0.1752 - val_mean_absolute_error: 0.2881\n",
      "Epoch 3/20\n",
      "368/368 [==============================] - 1s 2ms/step - loss: 0.2024 - mean_absolute_error: 0.3074 - val_loss: 0.1754 - val_mean_absolute_error: 0.2884\n",
      "Epoch 4/20\n",
      "368/368 [==============================] - 1s 2ms/step - loss: 0.2027 - mean_absolute_error: 0.3071 - val_loss: 0.1747 - val_mean_absolute_error: 0.2868\n",
      "Epoch 5/20\n",
      "368/368 [==============================] - 1s 3ms/step - loss: 0.2029 - mean_absolute_error: 0.3075 - val_loss: 0.1756 - val_mean_absolute_error: 0.2869\n",
      "Epoch 6/20\n",
      "368/368 [==============================] - 1s 2ms/step - loss: 0.2023 - mean_absolute_error: 0.3067 - val_loss: 0.1774 - val_mean_absolute_error: 0.2937\n",
      "***TRAIN***:\n",
      "correlation related to cluster centre: 0.89\n",
      "r2 score related to cluster centre: 0.80\n",
      "***VALIDATION***:\n",
      "correlation related to cluster centre: 0.91\n",
      "r2 score related to cluster centre: 0.82\n"
     ]
    },
    {
     "data": {
      "application/vnd.jupyter.widget-view+json": {
       "model_id": "4ffeb69f3ddf454487f8ad94ef12335e",
       "version_major": 2,
       "version_minor": 0
      },
      "text/plain": [
       "IntProgress(value=0, max=13)"
      ]
     },
     "metadata": {},
     "output_type": "display_data"
    },
    {
     "name": "stdout",
     "output_type": "stream",
     "text": [
      "***VALIDATION***:\n",
      "average correlation: 0.91\n",
      "average r2: 0.82\n",
      "---do_investigations. cluster index : 26---\n"
     ]
    },
    {
     "data": {
      "application/vnd.jupyter.widget-view+json": {
       "model_id": "48a3007f43c44e8b9be4586848b6cab3",
       "version_major": 2,
       "version_minor": 0
      },
      "text/plain": [
       "IntProgress(value=0, max=251)"
      ]
     },
     "metadata": {},
     "output_type": "display_data"
    },
    {
     "name": "stdout",
     "output_type": "stream",
     "text": [
      "Epoch 1/20\n",
      "368/368 [==============================] - 2s 3ms/step - loss: 0.3326 - mean_absolute_error: 0.3732 - val_loss: 0.1539 - val_mean_absolute_error: 0.2761\n",
      "Epoch 2/20\n",
      "368/368 [==============================] - 1s 2ms/step - loss: 0.2093 - mean_absolute_error: 0.3093 - val_loss: 0.1515 - val_mean_absolute_error: 0.2693\n",
      "Epoch 3/20\n",
      "368/368 [==============================] - 1s 2ms/step - loss: 0.2070 - mean_absolute_error: 0.3073 - val_loss: 0.1518 - val_mean_absolute_error: 0.2767\n",
      "Epoch 4/20\n",
      "368/368 [==============================] - 1s 2ms/step - loss: 0.2067 - mean_absolute_error: 0.3076 - val_loss: 0.1515 - val_mean_absolute_error: 0.2673\n",
      "Epoch 5/20\n",
      "368/368 [==============================] - 1s 2ms/step - loss: 0.2073 - mean_absolute_error: 0.3071 - val_loss: 0.1512 - val_mean_absolute_error: 0.2756\n",
      "Epoch 6/20\n",
      "368/368 [==============================] - 1s 2ms/step - loss: 0.2071 - mean_absolute_error: 0.3073 - val_loss: 0.1520 - val_mean_absolute_error: 0.2681\n",
      "Epoch 7/20\n",
      "368/368 [==============================] - 1s 2ms/step - loss: 0.2064 - mean_absolute_error: 0.3067 - val_loss: 0.1517 - val_mean_absolute_error: 0.2735\n",
      "***TRAIN***:\n",
      "correlation related to cluster centre: 0.89\n",
      "r2 score related to cluster centre: 0.80\n",
      "***VALIDATION***:\n",
      "correlation related to cluster centre: 0.91\n",
      "r2 score related to cluster centre: 0.82\n"
     ]
    },
    {
     "data": {
      "application/vnd.jupyter.widget-view+json": {
       "model_id": "20422e7831b6435f923422b207445e07",
       "version_major": 2,
       "version_minor": 0
      },
      "text/plain": [
       "IntProgress(value=0, max=251)"
      ]
     },
     "metadata": {},
     "output_type": "display_data"
    },
    {
     "name": "stdout",
     "output_type": "stream",
     "text": [
      "***VALIDATION***:\n",
      "average correlation: 0.91\n",
      "average r2: 0.77\n",
      "---do_investigations. cluster index : 27---\n"
     ]
    },
    {
     "data": {
      "application/vnd.jupyter.widget-view+json": {
       "model_id": "b1c2d9ddef534aa48f49894d2e404e1c",
       "version_major": 2,
       "version_minor": 0
      },
      "text/plain": [
       "IntProgress(value=0, max=1)"
      ]
     },
     "metadata": {},
     "output_type": "display_data"
    },
    {
     "name": "stdout",
     "output_type": "stream",
     "text": [
      "Epoch 1/20\n",
      "368/368 [==============================] - 2s 3ms/step - loss: 0.2723 - mean_absolute_error: 0.3389 - val_loss: 0.2154 - val_mean_absolute_error: 0.2813\n",
      "Epoch 2/20\n",
      "368/368 [==============================] - 1s 2ms/step - loss: 0.1907 - mean_absolute_error: 0.2915 - val_loss: 0.2169 - val_mean_absolute_error: 0.2814\n",
      "Epoch 3/20\n",
      "368/368 [==============================] - 1s 2ms/step - loss: 0.1901 - mean_absolute_error: 0.2906 - val_loss: 0.2104 - val_mean_absolute_error: 0.2798\n",
      "Epoch 4/20\n",
      "368/368 [==============================] - 1s 2ms/step - loss: 0.1908 - mean_absolute_error: 0.2909 - val_loss: 0.2114 - val_mean_absolute_error: 0.2796\n",
      "Epoch 5/20\n",
      "368/368 [==============================] - 1s 2ms/step - loss: 0.1902 - mean_absolute_error: 0.2904 - val_loss: 0.2090 - val_mean_absolute_error: 0.2811\n",
      "Epoch 6/20\n",
      "368/368 [==============================] - 1s 2ms/step - loss: 0.1890 - mean_absolute_error: 0.2895 - val_loss: 0.2098 - val_mean_absolute_error: 0.2836\n",
      "Epoch 7/20\n",
      "368/368 [==============================] - 1s 2ms/step - loss: 0.1872 - mean_absolute_error: 0.2888 - val_loss: 0.2084 - val_mean_absolute_error: 0.2797\n",
      "Epoch 8/20\n",
      "368/368 [==============================] - 1s 2ms/step - loss: 0.1882 - mean_absolute_error: 0.2888 - val_loss: 0.2088 - val_mean_absolute_error: 0.2784\n",
      "Epoch 9/20\n",
      "368/368 [==============================] - 1s 2ms/step - loss: 0.1893 - mean_absolute_error: 0.2907 - val_loss: 0.2101 - val_mean_absolute_error: 0.2797\n",
      "***TRAIN***:\n",
      "correlation related to cluster centre: 0.90\n",
      "r2 score related to cluster centre: 0.81\n",
      "***VALIDATION***:\n",
      "correlation related to cluster centre: 0.91\n",
      "r2 score related to cluster centre: 0.82\n"
     ]
    },
    {
     "data": {
      "application/vnd.jupyter.widget-view+json": {
       "model_id": "b946fecc23394bf9be8aac7fb0290647",
       "version_major": 2,
       "version_minor": 0
      },
      "text/plain": [
       "IntProgress(value=0, max=1)"
      ]
     },
     "metadata": {},
     "output_type": "display_data"
    },
    {
     "name": "stdout",
     "output_type": "stream",
     "text": [
      "***VALIDATION***:\n",
      "average correlation: 0.91\n",
      "average r2: 0.82\n",
      "---do_investigations. cluster index : 28---\n"
     ]
    },
    {
     "data": {
      "application/vnd.jupyter.widget-view+json": {
       "model_id": "fbd5aa12134f4194bf648f6dabdf5174",
       "version_major": 2,
       "version_minor": 0
      },
      "text/plain": [
       "IntProgress(value=0, max=13)"
      ]
     },
     "metadata": {},
     "output_type": "display_data"
    },
    {
     "name": "stdout",
     "output_type": "stream",
     "text": [
      "Epoch 1/20\n",
      "368/368 [==============================] - 2s 3ms/step - loss: 0.2726 - mean_absolute_error: 0.3590 - val_loss: 0.1818 - val_mean_absolute_error: 0.2965\n",
      "Epoch 2/20\n",
      "368/368 [==============================] - 1s 2ms/step - loss: 0.2011 - mean_absolute_error: 0.3053 - val_loss: 0.1814 - val_mean_absolute_error: 0.2966\n",
      "Epoch 3/20\n",
      "368/368 [==============================] - 1s 2ms/step - loss: 0.2008 - mean_absolute_error: 0.3042 - val_loss: 0.1804 - val_mean_absolute_error: 0.2940\n",
      "Epoch 4/20\n",
      "368/368 [==============================] - 1s 2ms/step - loss: 0.1993 - mean_absolute_error: 0.3025 - val_loss: 0.1869 - val_mean_absolute_error: 0.3089\n",
      "Epoch 5/20\n",
      "368/368 [==============================] - 1s 2ms/step - loss: 0.2001 - mean_absolute_error: 0.3030 - val_loss: 0.1798 - val_mean_absolute_error: 0.2942\n",
      "Epoch 6/20\n",
      "368/368 [==============================] - 1s 2ms/step - loss: 0.1993 - mean_absolute_error: 0.3024 - val_loss: 0.1828 - val_mean_absolute_error: 0.3009\n",
      "Epoch 7/20\n",
      "368/368 [==============================] - 1s 2ms/step - loss: 0.2003 - mean_absolute_error: 0.3030 - val_loss: 0.1792 - val_mean_absolute_error: 0.2885\n",
      "Epoch 8/20\n",
      "368/368 [==============================] - 1s 2ms/step - loss: 0.1985 - mean_absolute_error: 0.3016 - val_loss: 0.1794 - val_mean_absolute_error: 0.2916\n",
      "Epoch 9/20\n",
      "368/368 [==============================] - 1s 2ms/step - loss: 0.1994 - mean_absolute_error: 0.3021 - val_loss: 0.1795 - val_mean_absolute_error: 0.2937\n",
      "***TRAIN***:\n",
      "correlation related to cluster centre: 0.90\n",
      "r2 score related to cluster centre: 0.80\n",
      "***VALIDATION***:\n",
      "correlation related to cluster centre: 0.91\n",
      "r2 score related to cluster centre: 0.82\n"
     ]
    },
    {
     "data": {
      "application/vnd.jupyter.widget-view+json": {
       "model_id": "64bd3a9224854a32b6af40117cb4c769",
       "version_major": 2,
       "version_minor": 0
      },
      "text/plain": [
       "IntProgress(value=0, max=13)"
      ]
     },
     "metadata": {},
     "output_type": "display_data"
    },
    {
     "name": "stdout",
     "output_type": "stream",
     "text": [
      "***VALIDATION***:\n",
      "average correlation: 0.91\n",
      "average r2: 0.81\n",
      "---do_investigations. cluster index : 29---\n"
     ]
    },
    {
     "data": {
      "application/vnd.jupyter.widget-view+json": {
       "model_id": "f0c757f277774c96a5f00892808bd5ba",
       "version_major": 2,
       "version_minor": 0
      },
      "text/plain": [
       "IntProgress(value=0, max=23)"
      ]
     },
     "metadata": {},
     "output_type": "display_data"
    },
    {
     "name": "stdout",
     "output_type": "stream",
     "text": [
      "Epoch 1/20\n",
      "368/368 [==============================] - 2s 3ms/step - loss: 0.2544 - mean_absolute_error: 0.3549 - val_loss: 0.1979 - val_mean_absolute_error: 0.3071\n",
      "Epoch 2/20\n",
      "368/368 [==============================] - 1s 2ms/step - loss: 0.2112 - mean_absolute_error: 0.3177 - val_loss: 0.1938 - val_mean_absolute_error: 0.3065\n",
      "Epoch 3/20\n",
      "368/368 [==============================] - 1s 3ms/step - loss: 0.2080 - mean_absolute_error: 0.3154 - val_loss: 0.1919 - val_mean_absolute_error: 0.3030\n",
      "Epoch 4/20\n",
      "368/368 [==============================] - 1s 2ms/step - loss: 0.2075 - mean_absolute_error: 0.3152 - val_loss: 0.1978 - val_mean_absolute_error: 0.3067\n",
      "Epoch 5/20\n",
      "368/368 [==============================] - 1s 2ms/step - loss: 0.2070 - mean_absolute_error: 0.3147 - val_loss: 0.1925 - val_mean_absolute_error: 0.3006\n",
      "***TRAIN***:\n",
      "correlation related to cluster centre: 0.89\n",
      "r2 score related to cluster centre: 0.79\n",
      "***VALIDATION***:\n",
      "correlation related to cluster centre: 0.90\n",
      "r2 score related to cluster centre: 0.82\n"
     ]
    },
    {
     "data": {
      "application/vnd.jupyter.widget-view+json": {
       "model_id": "65f15d7f07ee48a8ae3907136e4651ee",
       "version_major": 2,
       "version_minor": 0
      },
      "text/plain": [
       "IntProgress(value=0, max=23)"
      ]
     },
     "metadata": {},
     "output_type": "display_data"
    },
    {
     "name": "stdout",
     "output_type": "stream",
     "text": [
      "***VALIDATION***:\n",
      "average correlation: 0.90\n",
      "average r2: 0.81\n",
      "---do_investigations. cluster index : 30---\n"
     ]
    },
    {
     "data": {
      "application/vnd.jupyter.widget-view+json": {
       "model_id": "f131d334ee00482c9a70239c1e203807",
       "version_major": 2,
       "version_minor": 0
      },
      "text/plain": [
       "IntProgress(value=0, max=3)"
      ]
     },
     "metadata": {},
     "output_type": "display_data"
    },
    {
     "name": "stdout",
     "output_type": "stream",
     "text": [
      "Epoch 1/20\n",
      "368/368 [==============================] - 2s 3ms/step - loss: 0.2289 - mean_absolute_error: 0.3335 - val_loss: 0.1432 - val_mean_absolute_error: 0.2698\n",
      "Epoch 2/20\n",
      "368/368 [==============================] - 1s 2ms/step - loss: 0.1982 - mean_absolute_error: 0.3073 - val_loss: 0.1432 - val_mean_absolute_error: 0.2701\n",
      "Epoch 3/20\n",
      "368/368 [==============================] - 1s 2ms/step - loss: 0.1976 - mean_absolute_error: 0.3068 - val_loss: 0.1406 - val_mean_absolute_error: 0.2604\n",
      "Epoch 4/20\n",
      "368/368 [==============================] - 1s 2ms/step - loss: 0.1969 - mean_absolute_error: 0.3057 - val_loss: 0.1430 - val_mean_absolute_error: 0.2666\n",
      "Epoch 5/20\n",
      "368/368 [==============================] - 1s 2ms/step - loss: 0.1968 - mean_absolute_error: 0.3061 - val_loss: 0.1404 - val_mean_absolute_error: 0.2604\n",
      "Epoch 6/20\n",
      "368/368 [==============================] - 1s 2ms/step - loss: 0.1964 - mean_absolute_error: 0.3055 - val_loss: 0.1422 - val_mean_absolute_error: 0.2586\n",
      "Epoch 7/20\n",
      "368/368 [==============================] - 1s 2ms/step - loss: 0.1960 - mean_absolute_error: 0.3052 - val_loss: 0.1423 - val_mean_absolute_error: 0.2645\n",
      "***TRAIN***:\n",
      "correlation related to cluster centre: 0.90\n",
      "r2 score related to cluster centre: 0.80\n",
      "***VALIDATION***:\n",
      "correlation related to cluster centre: 0.91\n",
      "r2 score related to cluster centre: 0.82\n"
     ]
    },
    {
     "data": {
      "application/vnd.jupyter.widget-view+json": {
       "model_id": "d541717cc67440fc98af3f22bce3135b",
       "version_major": 2,
       "version_minor": 0
      },
      "text/plain": [
       "IntProgress(value=0, max=3)"
      ]
     },
     "metadata": {},
     "output_type": "display_data"
    },
    {
     "name": "stdout",
     "output_type": "stream",
     "text": [
      "***VALIDATION***:\n",
      "average correlation: 0.91\n",
      "average r2: 0.83\n",
      "---do_investigations. cluster index : 31---\n"
     ]
    },
    {
     "data": {
      "application/vnd.jupyter.widget-view+json": {
       "model_id": "852b6654917d422bb280f2ac5a089041",
       "version_major": 2,
       "version_minor": 0
      },
      "text/plain": [
       "IntProgress(value=0, max=2)"
      ]
     },
     "metadata": {},
     "output_type": "display_data"
    },
    {
     "name": "stdout",
     "output_type": "stream",
     "text": [
      "Epoch 1/20\n",
      "368/368 [==============================] - 2s 3ms/step - loss: 0.2680 - mean_absolute_error: 0.3423 - val_loss: 0.1529 - val_mean_absolute_error: 0.2518\n",
      "Epoch 2/20\n",
      "368/368 [==============================] - 1s 2ms/step - loss: 0.1927 - mean_absolute_error: 0.2932 - val_loss: 0.1524 - val_mean_absolute_error: 0.2464\n",
      "Epoch 3/20\n",
      "368/368 [==============================] - 1s 2ms/step - loss: 0.1910 - mean_absolute_error: 0.2927 - val_loss: 0.1529 - val_mean_absolute_error: 0.2442\n",
      "Epoch 4/20\n",
      "368/368 [==============================] - 1s 2ms/step - loss: 0.1915 - mean_absolute_error: 0.2918 - val_loss: 0.1516 - val_mean_absolute_error: 0.2495\n",
      "Epoch 5/20\n",
      "368/368 [==============================] - 1s 2ms/step - loss: 0.1907 - mean_absolute_error: 0.2921 - val_loss: 0.1510 - val_mean_absolute_error: 0.2469\n",
      "Epoch 6/20\n",
      "368/368 [==============================] - 1s 2ms/step - loss: 0.1903 - mean_absolute_error: 0.2917 - val_loss: 0.1519 - val_mean_absolute_error: 0.2491\n",
      "Epoch 7/20\n",
      "368/368 [==============================] - 1s 2ms/step - loss: 0.1903 - mean_absolute_error: 0.2907 - val_loss: 0.1527 - val_mean_absolute_error: 0.2504\n",
      "***TRAIN***:\n",
      "correlation related to cluster centre: 0.90\n",
      "r2 score related to cluster centre: 0.81\n",
      "***VALIDATION***:\n",
      "correlation related to cluster centre: 0.91\n",
      "r2 score related to cluster centre: 0.83\n"
     ]
    },
    {
     "data": {
      "application/vnd.jupyter.widget-view+json": {
       "model_id": "3ca8f6ae89e34937a2ddddb8cb8fddba",
       "version_major": 2,
       "version_minor": 0
      },
      "text/plain": [
       "IntProgress(value=0, max=2)"
      ]
     },
     "metadata": {},
     "output_type": "display_data"
    },
    {
     "name": "stdout",
     "output_type": "stream",
     "text": [
      "***VALIDATION***:\n",
      "average correlation: 0.91\n",
      "average r2: 0.83\n",
      "---do_investigations. cluster index : 32---\n"
     ]
    },
    {
     "data": {
      "application/vnd.jupyter.widget-view+json": {
       "model_id": "0d7b41aea0864ff6b86c181955031aac",
       "version_major": 2,
       "version_minor": 0
      },
      "text/plain": [
       "IntProgress(value=0, max=12)"
      ]
     },
     "metadata": {},
     "output_type": "display_data"
    },
    {
     "name": "stdout",
     "output_type": "stream",
     "text": [
      "Epoch 1/20\n",
      "368/368 [==============================] - 2s 3ms/step - loss: 0.2483 - mean_absolute_error: 0.3468 - val_loss: 0.1826 - val_mean_absolute_error: 0.2932\n",
      "Epoch 2/20\n",
      "368/368 [==============================] - 1s 2ms/step - loss: 0.1999 - mean_absolute_error: 0.3088 - val_loss: 0.1793 - val_mean_absolute_error: 0.2911\n",
      "Epoch 3/20\n",
      "368/368 [==============================] - 1s 2ms/step - loss: 0.1980 - mean_absolute_error: 0.3073 - val_loss: 0.1789 - val_mean_absolute_error: 0.2924\n",
      "Epoch 4/20\n",
      "368/368 [==============================] - 1s 2ms/step - loss: 0.1983 - mean_absolute_error: 0.3077 - val_loss: 0.1805 - val_mean_absolute_error: 0.2916\n",
      "Epoch 5/20\n",
      "368/368 [==============================] - 1s 2ms/step - loss: 0.1983 - mean_absolute_error: 0.3071 - val_loss: 0.1802 - val_mean_absolute_error: 0.2949\n",
      "***TRAIN***:\n",
      "correlation related to cluster centre: 0.90\n",
      "r2 score related to cluster centre: 0.80\n",
      "***VALIDATION***:\n",
      "correlation related to cluster centre: 0.91\n",
      "r2 score related to cluster centre: 0.83\n"
     ]
    },
    {
     "data": {
      "application/vnd.jupyter.widget-view+json": {
       "model_id": "93afa94c6a50437bbb482ec76699508b",
       "version_major": 2,
       "version_minor": 0
      },
      "text/plain": [
       "IntProgress(value=0, max=12)"
      ]
     },
     "metadata": {},
     "output_type": "display_data"
    },
    {
     "name": "stdout",
     "output_type": "stream",
     "text": [
      "***VALIDATION***:\n",
      "average correlation: 0.91\n",
      "average r2: 0.82\n",
      "---do_investigations. cluster index : 33---\n"
     ]
    },
    {
     "data": {
      "application/vnd.jupyter.widget-view+json": {
       "model_id": "1c98a7b3015a45db922f08e472a6c76b",
       "version_major": 2,
       "version_minor": 0
      },
      "text/plain": [
       "IntProgress(value=0, max=47)"
      ]
     },
     "metadata": {},
     "output_type": "display_data"
    },
    {
     "name": "stdout",
     "output_type": "stream",
     "text": [
      "Epoch 1/20\n",
      "368/368 [==============================] - 2s 3ms/step - loss: 0.2526 - mean_absolute_error: 0.3596 - val_loss: 0.2119 - val_mean_absolute_error: 0.3253\n",
      "Epoch 2/20\n",
      "368/368 [==============================] - 1s 2ms/step - loss: 0.2089 - mean_absolute_error: 0.3212 - val_loss: 0.2027 - val_mean_absolute_error: 0.3143\n",
      "Epoch 3/20\n",
      "368/368 [==============================] - 1s 2ms/step - loss: 0.2082 - mean_absolute_error: 0.3204 - val_loss: 0.2004 - val_mean_absolute_error: 0.3131\n",
      "Epoch 4/20\n",
      "368/368 [==============================] - 1s 2ms/step - loss: 0.2081 - mean_absolute_error: 0.3203 - val_loss: 0.2046 - val_mean_absolute_error: 0.3239\n",
      "Epoch 5/20\n",
      "368/368 [==============================] - 1s 2ms/step - loss: 0.2082 - mean_absolute_error: 0.3203 - val_loss: 0.2004 - val_mean_absolute_error: 0.3139\n",
      "Epoch 6/20\n",
      "368/368 [==============================] - 1s 2ms/step - loss: 0.2066 - mean_absolute_error: 0.3178 - val_loss: 0.1998 - val_mean_absolute_error: 0.3099\n",
      "Epoch 7/20\n",
      "368/368 [==============================] - 1s 2ms/step - loss: 0.2076 - mean_absolute_error: 0.3195 - val_loss: 0.2141 - val_mean_absolute_error: 0.3280\n",
      "Epoch 8/20\n",
      "368/368 [==============================] - 1s 2ms/step - loss: 0.2073 - mean_absolute_error: 0.3192 - val_loss: 0.2003 - val_mean_absolute_error: 0.3077\n",
      "***TRAIN***:\n",
      "correlation related to cluster centre: 0.89\n",
      "r2 score related to cluster centre: 0.80\n",
      "***VALIDATION***:\n",
      "correlation related to cluster centre: 0.90\n",
      "r2 score related to cluster centre: 0.82\n"
     ]
    },
    {
     "data": {
      "application/vnd.jupyter.widget-view+json": {
       "model_id": "b15b0be9c8a44c15ae710ad302b9bde9",
       "version_major": 2,
       "version_minor": 0
      },
      "text/plain": [
       "IntProgress(value=0, max=47)"
      ]
     },
     "metadata": {},
     "output_type": "display_data"
    },
    {
     "name": "stdout",
     "output_type": "stream",
     "text": [
      "***VALIDATION***:\n",
      "average correlation: 0.90\n",
      "average r2: 0.80\n",
      "---do_investigations. cluster index : 34---\n"
     ]
    },
    {
     "data": {
      "application/vnd.jupyter.widget-view+json": {
       "model_id": "630553ecd9184c3d8070f099bc20a744",
       "version_major": 2,
       "version_minor": 0
      },
      "text/plain": [
       "IntProgress(value=0, max=248)"
      ]
     },
     "metadata": {},
     "output_type": "display_data"
    },
    {
     "name": "stdout",
     "output_type": "stream",
     "text": [
      "Epoch 1/20\n",
      "368/368 [==============================] - 2s 3ms/step - loss: 0.2344 - mean_absolute_error: 0.3280 - val_loss: 0.1505 - val_mean_absolute_error: 0.2696\n",
      "Epoch 2/20\n",
      "368/368 [==============================] - 1s 2ms/step - loss: 0.1857 - mean_absolute_error: 0.2974 - val_loss: 0.1502 - val_mean_absolute_error: 0.2697\n",
      "Epoch 3/20\n",
      "368/368 [==============================] - 1s 2ms/step - loss: 0.1851 - mean_absolute_error: 0.2969 - val_loss: 0.1488 - val_mean_absolute_error: 0.2689\n",
      "Epoch 4/20\n",
      "368/368 [==============================] - 1s 3ms/step - loss: 0.1846 - mean_absolute_error: 0.2961 - val_loss: 0.1503 - val_mean_absolute_error: 0.2664\n",
      "Epoch 5/20\n",
      "368/368 [==============================] - 1s 2ms/step - loss: 0.1850 - mean_absolute_error: 0.2965 - val_loss: 0.1499 - val_mean_absolute_error: 0.2665\n",
      "***TRAIN***:\n",
      "correlation related to cluster centre: 0.90\n",
      "r2 score related to cluster centre: 0.82\n",
      "***VALIDATION***:\n",
      "correlation related to cluster centre: 0.91\n",
      "r2 score related to cluster centre: 0.83\n"
     ]
    },
    {
     "data": {
      "application/vnd.jupyter.widget-view+json": {
       "model_id": "b2c3e4edd12f4a5d832aa6c568a73aa2",
       "version_major": 2,
       "version_minor": 0
      },
      "text/plain": [
       "IntProgress(value=0, max=248)"
      ]
     },
     "metadata": {},
     "output_type": "display_data"
    },
    {
     "name": "stdout",
     "output_type": "stream",
     "text": [
      "***VALIDATION***:\n",
      "average correlation: 0.91\n",
      "average r2: 0.81\n",
      "---do_investigations. cluster index : 35---\n"
     ]
    },
    {
     "data": {
      "application/vnd.jupyter.widget-view+json": {
       "model_id": "2ce1430ef5e94f3a9746c8456b30eec6",
       "version_major": 2,
       "version_minor": 0
      },
      "text/plain": [
       "IntProgress(value=0, max=2)"
      ]
     },
     "metadata": {},
     "output_type": "display_data"
    },
    {
     "name": "stdout",
     "output_type": "stream",
     "text": [
      "Epoch 1/20\n",
      "368/368 [==============================] - 2s 3ms/step - loss: 0.2397 - mean_absolute_error: 0.3167 - val_loss: 0.1837 - val_mean_absolute_error: 0.2604\n",
      "Epoch 2/20\n",
      "368/368 [==============================] - 1s 2ms/step - loss: 0.1854 - mean_absolute_error: 0.2846 - val_loss: 0.1792 - val_mean_absolute_error: 0.2622\n",
      "Epoch 3/20\n",
      "368/368 [==============================] - 1s 2ms/step - loss: 0.1846 - mean_absolute_error: 0.2838 - val_loss: 0.1851 - val_mean_absolute_error: 0.2619\n",
      "Epoch 4/20\n",
      "368/368 [==============================] - 1s 2ms/step - loss: 0.1860 - mean_absolute_error: 0.2846 - val_loss: 0.1811 - val_mean_absolute_error: 0.2624\n",
      "***TRAIN***:\n",
      "correlation related to cluster centre: 0.90\n",
      "r2 score related to cluster centre: 0.81\n",
      "***VALIDATION***:\n",
      "correlation related to cluster centre: 0.91\n",
      "r2 score related to cluster centre: 0.83\n"
     ]
    },
    {
     "data": {
      "application/vnd.jupyter.widget-view+json": {
       "model_id": "9c1987dc7493422cb5ac37fbfe246252",
       "version_major": 2,
       "version_minor": 0
      },
      "text/plain": [
       "IntProgress(value=0, max=2)"
      ]
     },
     "metadata": {},
     "output_type": "display_data"
    },
    {
     "name": "stdout",
     "output_type": "stream",
     "text": [
      "***VALIDATION***:\n",
      "average correlation: 0.91\n",
      "average r2: 0.83\n",
      "---do_investigations. cluster index : 36---\n"
     ]
    },
    {
     "data": {
      "application/vnd.jupyter.widget-view+json": {
       "model_id": "ee00bca01ed044dab357a5097e3e1b21",
       "version_major": 2,
       "version_minor": 0
      },
      "text/plain": [
       "IntProgress(value=0, max=603)"
      ]
     },
     "metadata": {},
     "output_type": "display_data"
    },
    {
     "name": "stdout",
     "output_type": "stream",
     "text": [
      "Epoch 1/20\n",
      "368/368 [==============================] - 2s 3ms/step - loss: 0.2568 - mean_absolute_error: 0.3126 - val_loss: 0.2558 - val_mean_absolute_error: 0.2800\n",
      "Epoch 2/20\n",
      "368/368 [==============================] - 1s 2ms/step - loss: 0.2048 - mean_absolute_error: 0.2780 - val_loss: 0.2520 - val_mean_absolute_error: 0.2772\n",
      "Epoch 3/20\n",
      "368/368 [==============================] - 1s 2ms/step - loss: 0.2029 - mean_absolute_error: 0.2770 - val_loss: 0.2505 - val_mean_absolute_error: 0.2761\n",
      "Epoch 4/20\n",
      "368/368 [==============================] - 1s 3ms/step - loss: 0.2022 - mean_absolute_error: 0.2754 - val_loss: 0.2498 - val_mean_absolute_error: 0.2811\n",
      "Epoch 5/20\n",
      "368/368 [==============================] - 1s 2ms/step - loss: 0.2023 - mean_absolute_error: 0.2761 - val_loss: 0.2537 - val_mean_absolute_error: 0.2806\n",
      "Epoch 6/20\n",
      "368/368 [==============================] - 1s 2ms/step - loss: 0.2015 - mean_absolute_error: 0.2747 - val_loss: 0.2483 - val_mean_absolute_error: 0.2807\n",
      "Epoch 7/20\n",
      "368/368 [==============================] - 1s 2ms/step - loss: 0.2016 - mean_absolute_error: 0.2747 - val_loss: 0.2505 - val_mean_absolute_error: 0.2898\n",
      "Epoch 8/20\n",
      "368/368 [==============================] - 1s 2ms/step - loss: 0.2009 - mean_absolute_error: 0.2751 - val_loss: 0.2524 - val_mean_absolute_error: 0.2794\n",
      "***TRAIN***:\n",
      "correlation related to cluster centre: 0.89\n",
      "r2 score related to cluster centre: 0.80\n",
      "***VALIDATION***:\n",
      "correlation related to cluster centre: 0.90\n",
      "r2 score related to cluster centre: 0.80\n"
     ]
    },
    {
     "data": {
      "application/vnd.jupyter.widget-view+json": {
       "model_id": "adf0383af4a547dd9c38840d093203cb",
       "version_major": 2,
       "version_minor": 0
      },
      "text/plain": [
       "IntProgress(value=0, max=603)"
      ]
     },
     "metadata": {},
     "output_type": "display_data"
    },
    {
     "name": "stdout",
     "output_type": "stream",
     "text": [
      "***VALIDATION***:\n",
      "average correlation: 0.89\n",
      "average r2: 0.76\n",
      "---do_investigations. cluster index : 37---\n"
     ]
    },
    {
     "data": {
      "application/vnd.jupyter.widget-view+json": {
       "model_id": "56c94aeb662342e884358e87b93017ee",
       "version_major": 2,
       "version_minor": 0
      },
      "text/plain": [
       "IntProgress(value=0, max=64)"
      ]
     },
     "metadata": {},
     "output_type": "display_data"
    },
    {
     "name": "stdout",
     "output_type": "stream",
     "text": [
      "Epoch 1/20\n",
      "368/368 [==============================] - 2s 3ms/step - loss: 0.0633 - mean_absolute_error: 0.1462 - val_loss: 0.0437 - val_mean_absolute_error: 0.1246\n",
      "Epoch 2/20\n",
      "368/368 [==============================] - 1s 2ms/step - loss: 0.0358 - mean_absolute_error: 0.1119 - val_loss: 0.0426 - val_mean_absolute_error: 0.1234\n",
      "Epoch 3/20\n",
      "368/368 [==============================] - 1s 2ms/step - loss: 0.0357 - mean_absolute_error: 0.1120 - val_loss: 0.0439 - val_mean_absolute_error: 0.1227\n",
      "Epoch 4/20\n",
      "368/368 [==============================] - 1s 2ms/step - loss: 0.0357 - mean_absolute_error: 0.1129 - val_loss: 0.0436 - val_mean_absolute_error: 0.1222\n",
      "***TRAIN***:\n",
      "correlation related to cluster centre: 0.98\n",
      "r2 score related to cluster centre: 0.96\n",
      "***VALIDATION***:\n",
      "correlation related to cluster centre: 0.96\n",
      "r2 score related to cluster centre: 0.92\n"
     ]
    },
    {
     "data": {
      "application/vnd.jupyter.widget-view+json": {
       "model_id": "83f0b29d2a2047afb3fb749958123147",
       "version_major": 2,
       "version_minor": 0
      },
      "text/plain": [
       "IntProgress(value=0, max=64)"
      ]
     },
     "metadata": {},
     "output_type": "display_data"
    },
    {
     "name": "stdout",
     "output_type": "stream",
     "text": [
      "***VALIDATION***:\n",
      "average correlation: 0.90\n",
      "average r2: 0.81\n",
      "---do_investigations. cluster index : 38---\n"
     ]
    },
    {
     "data": {
      "application/vnd.jupyter.widget-view+json": {
       "model_id": "7569d38f9fae466ea886c6ab7c675551",
       "version_major": 2,
       "version_minor": 0
      },
      "text/plain": [
       "IntProgress(value=0, max=1)"
      ]
     },
     "metadata": {},
     "output_type": "display_data"
    },
    {
     "name": "stdout",
     "output_type": "stream",
     "text": [
      "Epoch 1/20\n",
      "368/368 [==============================] - 2s 3ms/step - loss: 0.2350 - mean_absolute_error: 0.3444 - val_loss: 0.1372 - val_mean_absolute_error: 0.2590\n",
      "Epoch 2/20\n",
      "368/368 [==============================] - 1s 2ms/step - loss: 0.2101 - mean_absolute_error: 0.3191 - val_loss: 0.1382 - val_mean_absolute_error: 0.2576\n",
      "Epoch 3/20\n",
      "368/368 [==============================] - 1s 2ms/step - loss: 0.2091 - mean_absolute_error: 0.3171 - val_loss: 0.1373 - val_mean_absolute_error: 0.2556\n",
      "***TRAIN***:\n",
      "correlation related to cluster centre: 0.89\n",
      "r2 score related to cluster centre: 0.80\n",
      "***VALIDATION***:\n",
      "correlation related to cluster centre: 0.90\n",
      "r2 score related to cluster centre: 0.82\n"
     ]
    },
    {
     "data": {
      "application/vnd.jupyter.widget-view+json": {
       "model_id": "d42d11907a174f7198eecc93dbf405e4",
       "version_major": 2,
       "version_minor": 0
      },
      "text/plain": [
       "IntProgress(value=0, max=1)"
      ]
     },
     "metadata": {},
     "output_type": "display_data"
    },
    {
     "name": "stdout",
     "output_type": "stream",
     "text": [
      "***VALIDATION***:\n",
      "average correlation: 0.90\n",
      "average r2: 0.82\n",
      "---do_investigations. cluster index : 39---\n"
     ]
    },
    {
     "data": {
      "application/vnd.jupyter.widget-view+json": {
       "model_id": "8b1684eb2ae5429eb624b4744601edd1",
       "version_major": 2,
       "version_minor": 0
      },
      "text/plain": [
       "IntProgress(value=0, max=9)"
      ]
     },
     "metadata": {},
     "output_type": "display_data"
    },
    {
     "name": "stdout",
     "output_type": "stream",
     "text": [
      "Epoch 1/20\n",
      "368/368 [==============================] - 2s 3ms/step - loss: 0.2788 - mean_absolute_error: 0.3633 - val_loss: 0.1748 - val_mean_absolute_error: 0.2923\n",
      "Epoch 2/20\n",
      "368/368 [==============================] - 1s 3ms/step - loss: 0.2093 - mean_absolute_error: 0.3203 - val_loss: 0.1759 - val_mean_absolute_error: 0.2868\n",
      "Epoch 3/20\n",
      "368/368 [==============================] - 1s 3ms/step - loss: 0.2080 - mean_absolute_error: 0.3192 - val_loss: 0.1756 - val_mean_absolute_error: 0.2869\n",
      "***TRAIN***:\n",
      "correlation related to cluster centre: 0.89\n",
      "r2 score related to cluster centre: 0.79\n",
      "***VALIDATION***:\n",
      "correlation related to cluster centre: 0.91\n",
      "r2 score related to cluster centre: 0.82\n"
     ]
    },
    {
     "data": {
      "application/vnd.jupyter.widget-view+json": {
       "model_id": "8ac41b69ae10468ebb004b42384f055b",
       "version_major": 2,
       "version_minor": 0
      },
      "text/plain": [
       "IntProgress(value=0, max=9)"
      ]
     },
     "metadata": {},
     "output_type": "display_data"
    },
    {
     "name": "stdout",
     "output_type": "stream",
     "text": [
      "***VALIDATION***:\n",
      "average correlation: 0.90\n",
      "average r2: 0.81\n",
      "---do_investigations. cluster index : 40---\n"
     ]
    },
    {
     "data": {
      "application/vnd.jupyter.widget-view+json": {
       "model_id": "a0d2fc0a93324e5e9399b39ba2af5669",
       "version_major": 2,
       "version_minor": 0
      },
      "text/plain": [
       "IntProgress(value=0, max=3)"
      ]
     },
     "metadata": {},
     "output_type": "display_data"
    },
    {
     "name": "stdout",
     "output_type": "stream",
     "text": [
      "Epoch 1/20\n",
      "368/368 [==============================] - 2s 3ms/step - loss: 0.2724 - mean_absolute_error: 0.3660 - val_loss: 0.1988 - val_mean_absolute_error: 0.3280\n",
      "Epoch 2/20\n",
      "368/368 [==============================] - 1s 2ms/step - loss: 0.2112 - mean_absolute_error: 0.3233 - val_loss: 0.1929 - val_mean_absolute_error: 0.3173\n",
      "Epoch 3/20\n",
      "368/368 [==============================] - 1s 3ms/step - loss: 0.2087 - mean_absolute_error: 0.3206 - val_loss: 0.1931 - val_mean_absolute_error: 0.3120\n",
      "Epoch 4/20\n",
      "368/368 [==============================] - 1s 2ms/step - loss: 0.2083 - mean_absolute_error: 0.3193 - val_loss: 0.1926 - val_mean_absolute_error: 0.3200\n",
      "Epoch 5/20\n",
      "368/368 [==============================] - 1s 2ms/step - loss: 0.2080 - mean_absolute_error: 0.3190 - val_loss: 0.1920 - val_mean_absolute_error: 0.3173\n",
      "Epoch 6/20\n",
      "368/368 [==============================] - 1s 3ms/step - loss: 0.2075 - mean_absolute_error: 0.3195 - val_loss: 0.1924 - val_mean_absolute_error: 0.3176\n",
      "Epoch 7/20\n",
      "368/368 [==============================] - 1s 3ms/step - loss: 0.2077 - mean_absolute_error: 0.3198 - val_loss: 0.1920 - val_mean_absolute_error: 0.3183\n",
      "Epoch 8/20\n",
      "368/368 [==============================] - 1s 3ms/step - loss: 0.2071 - mean_absolute_error: 0.3184 - val_loss: 0.1909 - val_mean_absolute_error: 0.3135\n",
      "Epoch 9/20\n",
      "368/368 [==============================] - 1s 3ms/step - loss: 0.2067 - mean_absolute_error: 0.3183 - val_loss: 0.1927 - val_mean_absolute_error: 0.3197\n",
      "Epoch 10/20\n",
      "368/368 [==============================] - 1s 3ms/step - loss: 0.2070 - mean_absolute_error: 0.3188 - val_loss: 0.1919 - val_mean_absolute_error: 0.3137\n",
      "***TRAIN***:\n",
      "correlation related to cluster centre: 0.89\n",
      "r2 score related to cluster centre: 0.79\n",
      "***VALIDATION***:\n",
      "correlation related to cluster centre: 0.90\n",
      "r2 score related to cluster centre: 0.82\n"
     ]
    },
    {
     "data": {
      "application/vnd.jupyter.widget-view+json": {
       "model_id": "20bf82aa29b54cfca8744ef119cbdfdb",
       "version_major": 2,
       "version_minor": 0
      },
      "text/plain": [
       "IntProgress(value=0, max=3)"
      ]
     },
     "metadata": {},
     "output_type": "display_data"
    },
    {
     "name": "stdout",
     "output_type": "stream",
     "text": [
      "***VALIDATION***:\n",
      "average correlation: 0.90\n",
      "average r2: 0.81\n",
      "---do_investigations. cluster index : 41---\n"
     ]
    },
    {
     "data": {
      "application/vnd.jupyter.widget-view+json": {
       "model_id": "3dab4ec446d3485789b19ed6d0d0f667",
       "version_major": 2,
       "version_minor": 0
      },
      "text/plain": [
       "IntProgress(value=0, max=5)"
      ]
     },
     "metadata": {},
     "output_type": "display_data"
    },
    {
     "name": "stdout",
     "output_type": "stream",
     "text": [
      "Epoch 1/20\n",
      "368/368 [==============================] - 2s 3ms/step - loss: 0.2647 - mean_absolute_error: 0.3534 - val_loss: 0.1806 - val_mean_absolute_error: 0.2932\n",
      "Epoch 2/20\n",
      "368/368 [==============================] - 1s 2ms/step - loss: 0.1976 - mean_absolute_error: 0.3030 - val_loss: 0.1786 - val_mean_absolute_error: 0.2858\n",
      "Epoch 3/20\n",
      "368/368 [==============================] - 1s 2ms/step - loss: 0.1964 - mean_absolute_error: 0.3023 - val_loss: 0.1807 - val_mean_absolute_error: 0.2915\n",
      "Epoch 4/20\n",
      "368/368 [==============================] - 1s 2ms/step - loss: 0.1963 - mean_absolute_error: 0.3023 - val_loss: 0.1805 - val_mean_absolute_error: 0.2891\n",
      "***TRAIN***:\n",
      "correlation related to cluster centre: 0.90\n",
      "r2 score related to cluster centre: 0.80\n",
      "***VALIDATION***:\n",
      "correlation related to cluster centre: 0.91\n",
      "r2 score related to cluster centre: 0.82\n"
     ]
    },
    {
     "data": {
      "application/vnd.jupyter.widget-view+json": {
       "model_id": "6cbadd76d21b4d3bb63852b443d4660a",
       "version_major": 2,
       "version_minor": 0
      },
      "text/plain": [
       "IntProgress(value=0, max=5)"
      ]
     },
     "metadata": {},
     "output_type": "display_data"
    },
    {
     "name": "stdout",
     "output_type": "stream",
     "text": [
      "***VALIDATION***:\n",
      "average correlation: 0.91\n",
      "average r2: 0.82\n",
      "---do_investigations. cluster index : 42---\n"
     ]
    },
    {
     "data": {
      "application/vnd.jupyter.widget-view+json": {
       "model_id": "4f5c98de06a541c0b3320d71fb65425e",
       "version_major": 2,
       "version_minor": 0
      },
      "text/plain": [
       "IntProgress(value=0, max=6)"
      ]
     },
     "metadata": {},
     "output_type": "display_data"
    },
    {
     "name": "stdout",
     "output_type": "stream",
     "text": [
      "Epoch 1/20\n",
      "368/368 [==============================] - 2s 3ms/step - loss: 0.2232 - mean_absolute_error: 0.3252 - val_loss: 0.1525 - val_mean_absolute_error: 0.2593\n",
      "Epoch 2/20\n",
      "368/368 [==============================] - 1s 2ms/step - loss: 0.2003 - mean_absolute_error: 0.3029 - val_loss: 0.1498 - val_mean_absolute_error: 0.2566\n",
      "Epoch 3/20\n",
      "368/368 [==============================] - 1s 2ms/step - loss: 0.2001 - mean_absolute_error: 0.3028 - val_loss: 0.1565 - val_mean_absolute_error: 0.2697\n",
      "Epoch 4/20\n",
      "368/368 [==============================] - 1s 2ms/step - loss: 0.1996 - mean_absolute_error: 0.3026 - val_loss: 0.1537 - val_mean_absolute_error: 0.2617\n",
      "***TRAIN***:\n",
      "correlation related to cluster centre: 0.90\n",
      "r2 score related to cluster centre: 0.80\n",
      "***VALIDATION***:\n",
      "correlation related to cluster centre: 0.91\n",
      "r2 score related to cluster centre: 0.82\n"
     ]
    },
    {
     "data": {
      "application/vnd.jupyter.widget-view+json": {
       "model_id": "1d1e98a52f0d46b18494a0ccdcca4ab4",
       "version_major": 2,
       "version_minor": 0
      },
      "text/plain": [
       "IntProgress(value=0, max=6)"
      ]
     },
     "metadata": {},
     "output_type": "display_data"
    },
    {
     "name": "stdout",
     "output_type": "stream",
     "text": [
      "***VALIDATION***:\n",
      "average correlation: 0.91\n",
      "average r2: 0.81\n",
      "---do_investigations. cluster index : 43---\n"
     ]
    },
    {
     "data": {
      "application/vnd.jupyter.widget-view+json": {
       "model_id": "c2a6ca67b6714ec4ba57825def041f39",
       "version_major": 2,
       "version_minor": 0
      },
      "text/plain": [
       "IntProgress(value=0, max=1)"
      ]
     },
     "metadata": {},
     "output_type": "display_data"
    },
    {
     "name": "stdout",
     "output_type": "stream",
     "text": [
      "Epoch 1/20\n",
      "368/368 [==============================] - 2s 3ms/step - loss: 0.3028 - mean_absolute_error: 0.3774 - val_loss: 0.1390 - val_mean_absolute_error: 0.2615\n",
      "Epoch 2/20\n",
      "368/368 [==============================] - 1s 3ms/step - loss: 0.2093 - mean_absolute_error: 0.3157 - val_loss: 0.1376 - val_mean_absolute_error: 0.2596\n",
      "Epoch 3/20\n",
      "368/368 [==============================] - 1s 2ms/step - loss: 0.2084 - mean_absolute_error: 0.3142 - val_loss: 0.1439 - val_mean_absolute_error: 0.2692\n",
      "Epoch 4/20\n",
      "368/368 [==============================] - 1s 2ms/step - loss: 0.2078 - mean_absolute_error: 0.3139 - val_loss: 0.1383 - val_mean_absolute_error: 0.2594\n",
      "***TRAIN***:\n",
      "correlation related to cluster centre: 0.89\n",
      "r2 score related to cluster centre: 0.79\n",
      "***VALIDATION***:\n",
      "correlation related to cluster centre: 0.91\n",
      "r2 score related to cluster centre: 0.83\n"
     ]
    },
    {
     "data": {
      "application/vnd.jupyter.widget-view+json": {
       "model_id": "eca009e4c2bb403f9254f6f56206be1e",
       "version_major": 2,
       "version_minor": 0
      },
      "text/plain": [
       "IntProgress(value=0, max=1)"
      ]
     },
     "metadata": {},
     "output_type": "display_data"
    },
    {
     "name": "stdout",
     "output_type": "stream",
     "text": [
      "***VALIDATION***:\n",
      "average correlation: 0.91\n",
      "average r2: 0.83\n",
      "---do_investigations. cluster index : 44---\n"
     ]
    },
    {
     "data": {
      "application/vnd.jupyter.widget-view+json": {
       "model_id": "ad07a8945f5548d4a57fc8810b5fc0e8",
       "version_major": 2,
       "version_minor": 0
      },
      "text/plain": [
       "IntProgress(value=0, max=91)"
      ]
     },
     "metadata": {},
     "output_type": "display_data"
    },
    {
     "name": "stdout",
     "output_type": "stream",
     "text": [
      "Epoch 1/20\n",
      "368/368 [==============================] - 2s 3ms/step - loss: 0.2469 - mean_absolute_error: 0.3310 - val_loss: 0.1732 - val_mean_absolute_error: 0.2748\n",
      "Epoch 2/20\n",
      "368/368 [==============================] - 1s 2ms/step - loss: 0.2101 - mean_absolute_error: 0.2964 - val_loss: 0.1734 - val_mean_absolute_error: 0.2772\n",
      "Epoch 3/20\n",
      "368/368 [==============================] - 1s 2ms/step - loss: 0.2100 - mean_absolute_error: 0.2952 - val_loss: 0.1713 - val_mean_absolute_error: 0.2712\n",
      "Epoch 4/20\n",
      "368/368 [==============================] - 1s 2ms/step - loss: 0.2089 - mean_absolute_error: 0.2946 - val_loss: 0.1719 - val_mean_absolute_error: 0.2712\n",
      "Epoch 5/20\n",
      "368/368 [==============================] - 1s 2ms/step - loss: 0.2080 - mean_absolute_error: 0.2936 - val_loss: 0.1733 - val_mean_absolute_error: 0.2747\n",
      "***TRAIN***:\n",
      "correlation related to cluster centre: 0.89\n",
      "r2 score related to cluster centre: 0.79\n",
      "***VALIDATION***:\n",
      "correlation related to cluster centre: 0.91\n",
      "r2 score related to cluster centre: 0.82\n"
     ]
    },
    {
     "data": {
      "application/vnd.jupyter.widget-view+json": {
       "model_id": "3488c2dee9ac49098f94018fbd6f9546",
       "version_major": 2,
       "version_minor": 0
      },
      "text/plain": [
       "IntProgress(value=0, max=91)"
      ]
     },
     "metadata": {},
     "output_type": "display_data"
    },
    {
     "name": "stdout",
     "output_type": "stream",
     "text": [
      "***VALIDATION***:\n",
      "average correlation: 0.90\n",
      "average r2: 0.81\n",
      "---do_investigations. cluster index : 45---\n"
     ]
    },
    {
     "data": {
      "application/vnd.jupyter.widget-view+json": {
       "model_id": "2c804762808b47ab97ca272879710a27",
       "version_major": 2,
       "version_minor": 0
      },
      "text/plain": [
       "IntProgress(value=0, max=11)"
      ]
     },
     "metadata": {},
     "output_type": "display_data"
    },
    {
     "name": "stdout",
     "output_type": "stream",
     "text": [
      "Epoch 1/20\n",
      "368/368 [==============================] - 2s 3ms/step - loss: 0.2034 - mean_absolute_error: 0.2920 - val_loss: 0.4250 - val_mean_absolute_error: 0.3091\n",
      "Epoch 2/20\n",
      "368/368 [==============================] - 1s 2ms/step - loss: 0.1824 - mean_absolute_error: 0.2707 - val_loss: 0.4285 - val_mean_absolute_error: 0.3169\n",
      "Epoch 3/20\n",
      "368/368 [==============================] - 1s 2ms/step - loss: 0.1823 - mean_absolute_error: 0.2711 - val_loss: 0.4189 - val_mean_absolute_error: 0.3110\n",
      "Epoch 4/20\n",
      "368/368 [==============================] - 1s 2ms/step - loss: 0.1806 - mean_absolute_error: 0.2696 - val_loss: 0.4180 - val_mean_absolute_error: 0.3083\n",
      "Epoch 5/20\n",
      "368/368 [==============================] - 1s 2ms/step - loss: 0.1836 - mean_absolute_error: 0.2723 - val_loss: 0.4189 - val_mean_absolute_error: 0.3100\n",
      "Epoch 6/20\n",
      "368/368 [==============================] - 1s 2ms/step - loss: 0.1801 - mean_absolute_error: 0.2693 - val_loss: 0.4176 - val_mean_absolute_error: 0.3085\n",
      "Epoch 7/20\n",
      "368/368 [==============================] - 1s 3ms/step - loss: 0.1824 - mean_absolute_error: 0.2704 - val_loss: 0.4175 - val_mean_absolute_error: 0.3088\n",
      "Epoch 8/20\n",
      "368/368 [==============================] - 1s 2ms/step - loss: 0.1812 - mean_absolute_error: 0.2699 - val_loss: 0.4172 - val_mean_absolute_error: 0.3077\n",
      "Epoch 9/20\n",
      "368/368 [==============================] - 1s 2ms/step - loss: 0.1808 - mean_absolute_error: 0.2697 - val_loss: 0.4163 - val_mean_absolute_error: 0.3090\n",
      "Epoch 10/20\n",
      "368/368 [==============================] - 1s 2ms/step - loss: 0.1803 - mean_absolute_error: 0.2690 - val_loss: 0.4184 - val_mean_absolute_error: 0.3089\n",
      "Epoch 11/20\n",
      "368/368 [==============================] - 1s 2ms/step - loss: 0.1795 - mean_absolute_error: 0.2686 - val_loss: 0.4178 - val_mean_absolute_error: 0.3079\n",
      "***TRAIN***:\n",
      "correlation related to cluster centre: 0.91\n",
      "r2 score related to cluster centre: 0.82\n",
      "***VALIDATION***:\n",
      "correlation related to cluster centre: 0.88\n",
      "r2 score related to cluster centre: 0.77\n"
     ]
    },
    {
     "data": {
      "application/vnd.jupyter.widget-view+json": {
       "model_id": "80861df3b79a46b3af07620b6db9a8c3",
       "version_major": 2,
       "version_minor": 0
      },
      "text/plain": [
       "IntProgress(value=0, max=11)"
      ]
     },
     "metadata": {},
     "output_type": "display_data"
    },
    {
     "name": "stdout",
     "output_type": "stream",
     "text": [
      "***VALIDATION***:\n",
      "average correlation: 0.88\n",
      "average r2: 0.77\n",
      "---do_investigations. cluster index : 46---\n"
     ]
    },
    {
     "data": {
      "application/vnd.jupyter.widget-view+json": {
       "model_id": "afa54a80d79e4830bbb83e3bf812389b",
       "version_major": 2,
       "version_minor": 0
      },
      "text/plain": [
       "IntProgress(value=0, max=80)"
      ]
     },
     "metadata": {},
     "output_type": "display_data"
    },
    {
     "name": "stdout",
     "output_type": "stream",
     "text": [
      "Epoch 1/20\n",
      "368/368 [==============================] - 2s 3ms/step - loss: 0.2570 - mean_absolute_error: 0.3470 - val_loss: 0.1756 - val_mean_absolute_error: 0.2831\n",
      "Epoch 2/20\n",
      "368/368 [==============================] - 1s 3ms/step - loss: 0.1987 - mean_absolute_error: 0.3031 - val_loss: 0.1739 - val_mean_absolute_error: 0.2824\n",
      "Epoch 3/20\n",
      "368/368 [==============================] - 1s 2ms/step - loss: 0.1984 - mean_absolute_error: 0.3025 - val_loss: 0.1812 - val_mean_absolute_error: 0.2891\n",
      "Epoch 4/20\n",
      "368/368 [==============================] - 1s 2ms/step - loss: 0.1991 - mean_absolute_error: 0.3035 - val_loss: 0.1750 - val_mean_absolute_error: 0.2847\n",
      "***TRAIN***:\n",
      "correlation related to cluster centre: 0.90\n",
      "r2 score related to cluster centre: 0.80\n",
      "***VALIDATION***:\n",
      "correlation related to cluster centre: 0.91\n",
      "r2 score related to cluster centre: 0.82\n"
     ]
    },
    {
     "data": {
      "application/vnd.jupyter.widget-view+json": {
       "model_id": "e568a81689334802ba485a27c685e8d1",
       "version_major": 2,
       "version_minor": 0
      },
      "text/plain": [
       "IntProgress(value=0, max=80)"
      ]
     },
     "metadata": {},
     "output_type": "display_data"
    },
    {
     "name": "stdout",
     "output_type": "stream",
     "text": [
      "***VALIDATION***:\n",
      "average correlation: 0.92\n",
      "average r2: 0.81\n",
      "---do_investigations. cluster index : 47---\n"
     ]
    },
    {
     "data": {
      "application/vnd.jupyter.widget-view+json": {
       "model_id": "6781f63b691346db9b54cd3ce64ba2d8",
       "version_major": 2,
       "version_minor": 0
      },
      "text/plain": [
       "IntProgress(value=0, max=114)"
      ]
     },
     "metadata": {},
     "output_type": "display_data"
    },
    {
     "name": "stdout",
     "output_type": "stream",
     "text": [
      "Epoch 1/20\n",
      "368/368 [==============================] - 2s 3ms/step - loss: 0.2945 - mean_absolute_error: 0.3589 - val_loss: 0.1971 - val_mean_absolute_error: 0.2949\n",
      "Epoch 2/20\n",
      "368/368 [==============================] - 1s 2ms/step - loss: 0.2030 - mean_absolute_error: 0.3077 - val_loss: 0.1973 - val_mean_absolute_error: 0.2903\n",
      "Epoch 3/20\n",
      "368/368 [==============================] - 1s 2ms/step - loss: 0.2023 - mean_absolute_error: 0.3066 - val_loss: 0.1939 - val_mean_absolute_error: 0.2919\n",
      "Epoch 4/20\n",
      "368/368 [==============================] - 1s 2ms/step - loss: 0.2016 - mean_absolute_error: 0.3062 - val_loss: 0.1978 - val_mean_absolute_error: 0.2891\n",
      "Epoch 5/20\n",
      "368/368 [==============================] - 1s 2ms/step - loss: 0.2024 - mean_absolute_error: 0.3059 - val_loss: 0.1955 - val_mean_absolute_error: 0.2918\n",
      "***TRAIN***:\n",
      "correlation related to cluster centre: 0.90\n",
      "r2 score related to cluster centre: 0.80\n",
      "***VALIDATION***:\n",
      "correlation related to cluster centre: 0.90\n",
      "r2 score related to cluster centre: 0.82\n"
     ]
    },
    {
     "data": {
      "application/vnd.jupyter.widget-view+json": {
       "model_id": "180d37e32c4f400fb5000b84da7b26f9",
       "version_major": 2,
       "version_minor": 0
      },
      "text/plain": [
       "IntProgress(value=0, max=114)"
      ]
     },
     "metadata": {},
     "output_type": "display_data"
    },
    {
     "name": "stdout",
     "output_type": "stream",
     "text": [
      "***VALIDATION***:\n",
      "average correlation: 0.90\n",
      "average r2: 0.79\n",
      "---do_investigations. cluster index : 48---\n"
     ]
    },
    {
     "data": {
      "application/vnd.jupyter.widget-view+json": {
       "model_id": "9abd43946135425c9be705cbd98ed605",
       "version_major": 2,
       "version_minor": 0
      },
      "text/plain": [
       "IntProgress(value=0, max=99)"
      ]
     },
     "metadata": {},
     "output_type": "display_data"
    },
    {
     "name": "stdout",
     "output_type": "stream",
     "text": [
      "Epoch 1/20\n",
      "368/368 [==============================] - 2s 3ms/step - loss: 0.3016 - mean_absolute_error: 0.3251 - val_loss: 0.3052 - val_mean_absolute_error: 0.3019\n",
      "Epoch 2/20\n",
      "368/368 [==============================] - 1s 2ms/step - loss: 0.2074 - mean_absolute_error: 0.2722 - val_loss: 0.2803 - val_mean_absolute_error: 0.2855\n",
      "Epoch 3/20\n",
      "368/368 [==============================] - 1s 2ms/step - loss: 0.2056 - mean_absolute_error: 0.2716 - val_loss: 0.2937 - val_mean_absolute_error: 0.3057\n",
      "Epoch 4/20\n",
      "368/368 [==============================] - 1s 3ms/step - loss: 0.2047 - mean_absolute_error: 0.2708 - val_loss: 0.2816 - val_mean_absolute_error: 0.3014\n",
      "***TRAIN***:\n",
      "correlation related to cluster centre: 0.89\n",
      "r2 score related to cluster centre: 0.79\n",
      "***VALIDATION***:\n",
      "correlation related to cluster centre: 0.90\n",
      "r2 score related to cluster centre: 0.80\n"
     ]
    },
    {
     "data": {
      "application/vnd.jupyter.widget-view+json": {
       "model_id": "d34474403eca454fa7d6b22c1dceabb3",
       "version_major": 2,
       "version_minor": 0
      },
      "text/plain": [
       "IntProgress(value=0, max=99)"
      ]
     },
     "metadata": {},
     "output_type": "display_data"
    },
    {
     "name": "stdout",
     "output_type": "stream",
     "text": [
      "***VALIDATION***:\n",
      "average correlation: 0.90\n",
      "average r2: 0.74\n",
      "---do_investigations. cluster index : 49---\n"
     ]
    },
    {
     "data": {
      "application/vnd.jupyter.widget-view+json": {
       "model_id": "cc17d4da83d1438599d07b4111720bc4",
       "version_major": 2,
       "version_minor": 0
      },
      "text/plain": [
       "IntProgress(value=0, max=8)"
      ]
     },
     "metadata": {},
     "output_type": "display_data"
    },
    {
     "name": "stdout",
     "output_type": "stream",
     "text": [
      "Epoch 1/20\n",
      "368/368 [==============================] - 2s 3ms/step - loss: 0.2733 - mean_absolute_error: 0.3710 - val_loss: 0.1795 - val_mean_absolute_error: 0.2971\n",
      "Epoch 2/20\n",
      "368/368 [==============================] - 1s 2ms/step - loss: 0.2137 - mean_absolute_error: 0.3241 - val_loss: 0.1797 - val_mean_absolute_error: 0.3003\n",
      "Epoch 3/20\n",
      "368/368 [==============================] - 1s 2ms/step - loss: 0.2117 - mean_absolute_error: 0.3224 - val_loss: 0.1788 - val_mean_absolute_error: 0.2998\n",
      "Epoch 4/20\n",
      "368/368 [==============================] - 1s 2ms/step - loss: 0.2121 - mean_absolute_error: 0.3227 - val_loss: 0.1801 - val_mean_absolute_error: 0.3045\n",
      "Epoch 5/20\n",
      "368/368 [==============================] - 1s 2ms/step - loss: 0.2111 - mean_absolute_error: 0.3216 - val_loss: 0.1800 - val_mean_absolute_error: 0.3050\n",
      "***TRAIN***:\n",
      "correlation related to cluster centre: 0.89\n",
      "r2 score related to cluster centre: 0.79\n",
      "***VALIDATION***:\n",
      "correlation related to cluster centre: 0.90\n",
      "r2 score related to cluster centre: 0.82\n"
     ]
    },
    {
     "data": {
      "application/vnd.jupyter.widget-view+json": {
       "model_id": "9040f4f391c94318afcf156da59adade",
       "version_major": 2,
       "version_minor": 0
      },
      "text/plain": [
       "IntProgress(value=0, max=8)"
      ]
     },
     "metadata": {},
     "output_type": "display_data"
    },
    {
     "name": "stdout",
     "output_type": "stream",
     "text": [
      "***VALIDATION***:\n",
      "average correlation: 0.90\n",
      "average r2: 0.81\n",
      "---do_investigations. cluster index : 50---\n"
     ]
    },
    {
     "data": {
      "application/vnd.jupyter.widget-view+json": {
       "model_id": "0a718f04889545f2bf89a168bf9e2f1d",
       "version_major": 2,
       "version_minor": 0
      },
      "text/plain": [
       "IntProgress(value=0, max=13)"
      ]
     },
     "metadata": {},
     "output_type": "display_data"
    },
    {
     "name": "stdout",
     "output_type": "stream",
     "text": [
      "Epoch 1/20\n",
      "368/368 [==============================] - 2s 3ms/step - loss: 0.2523 - mean_absolute_error: 0.3487 - val_loss: 0.1825 - val_mean_absolute_error: 0.2888\n",
      "Epoch 2/20\n",
      "368/368 [==============================] - 1s 2ms/step - loss: 0.2073 - mean_absolute_error: 0.3109 - val_loss: 0.1868 - val_mean_absolute_error: 0.2943\n",
      "Epoch 3/20\n",
      "368/368 [==============================] - 1s 2ms/step - loss: 0.2060 - mean_absolute_error: 0.3097 - val_loss: 0.1812 - val_mean_absolute_error: 0.2898\n",
      "Epoch 4/20\n",
      "368/368 [==============================] - 1s 2ms/step - loss: 0.2047 - mean_absolute_error: 0.3083 - val_loss: 0.1801 - val_mean_absolute_error: 0.2835\n",
      "Epoch 5/20\n",
      "368/368 [==============================] - 1s 2ms/step - loss: 0.2049 - mean_absolute_error: 0.3089 - val_loss: 0.1790 - val_mean_absolute_error: 0.2877\n",
      "Epoch 6/20\n",
      "368/368 [==============================] - 1s 2ms/step - loss: 0.2051 - mean_absolute_error: 0.3080 - val_loss: 0.1794 - val_mean_absolute_error: 0.2851\n",
      "Epoch 7/20\n",
      "368/368 [==============================] - 1s 3ms/step - loss: 0.2044 - mean_absolute_error: 0.3080 - val_loss: 0.1797 - val_mean_absolute_error: 0.2872\n",
      "***TRAIN***:\n",
      "correlation related to cluster centre: 0.89\n",
      "r2 score related to cluster centre: 0.80\n",
      "***VALIDATION***:\n",
      "correlation related to cluster centre: 0.91\n",
      "r2 score related to cluster centre: 0.82\n"
     ]
    },
    {
     "data": {
      "application/vnd.jupyter.widget-view+json": {
       "model_id": "2bb7900c4a8e4b50abf6dcbefee7f9dc",
       "version_major": 2,
       "version_minor": 0
      },
      "text/plain": [
       "IntProgress(value=0, max=13)"
      ]
     },
     "metadata": {},
     "output_type": "display_data"
    },
    {
     "name": "stdout",
     "output_type": "stream",
     "text": [
      "***VALIDATION***:\n",
      "average correlation: 0.90\n",
      "average r2: 0.82\n",
      "---do_investigations. cluster index : 51---\n"
     ]
    },
    {
     "data": {
      "application/vnd.jupyter.widget-view+json": {
       "model_id": "4b9e99ddc4464310bf559ccb6cd25e51",
       "version_major": 2,
       "version_minor": 0
      },
      "text/plain": [
       "IntProgress(value=0, max=177)"
      ]
     },
     "metadata": {},
     "output_type": "display_data"
    },
    {
     "name": "stdout",
     "output_type": "stream",
     "text": [
      "Epoch 1/20\n",
      "368/368 [==============================] - 2s 3ms/step - loss: 0.2545 - mean_absolute_error: 0.3168 - val_loss: 0.2419 - val_mean_absolute_error: 0.2700\n",
      "Epoch 2/20\n",
      "368/368 [==============================] - 1s 2ms/step - loss: 0.2056 - mean_absolute_error: 0.2766 - val_loss: 0.2416 - val_mean_absolute_error: 0.2682\n",
      "Epoch 3/20\n",
      "368/368 [==============================] - 1s 3ms/step - loss: 0.2028 - mean_absolute_error: 0.2756 - val_loss: 0.2408 - val_mean_absolute_error: 0.2708\n",
      "Epoch 4/20\n",
      "368/368 [==============================] - 1s 2ms/step - loss: 0.2031 - mean_absolute_error: 0.2747 - val_loss: 0.2361 - val_mean_absolute_error: 0.2643\n",
      "Epoch 5/20\n",
      "368/368 [==============================] - 1s 2ms/step - loss: 0.2025 - mean_absolute_error: 0.2736 - val_loss: 0.2407 - val_mean_absolute_error: 0.2714\n",
      "Epoch 6/20\n",
      "368/368 [==============================] - 1s 2ms/step - loss: 0.2028 - mean_absolute_error: 0.2743 - val_loss: 0.2347 - val_mean_absolute_error: 0.2666\n",
      "Epoch 7/20\n",
      "368/368 [==============================] - 1s 2ms/step - loss: 0.2016 - mean_absolute_error: 0.2732 - val_loss: 0.2362 - val_mean_absolute_error: 0.2669\n",
      "Epoch 8/20\n",
      "368/368 [==============================] - 1s 2ms/step - loss: 0.2011 - mean_absolute_error: 0.2732 - val_loss: 0.2332 - val_mean_absolute_error: 0.2648\n",
      "Epoch 9/20\n",
      "368/368 [==============================] - 1s 2ms/step - loss: 0.2021 - mean_absolute_error: 0.2735 - val_loss: 0.2390 - val_mean_absolute_error: 0.2650\n",
      "Epoch 10/20\n",
      "368/368 [==============================] - 1s 3ms/step - loss: 0.2007 - mean_absolute_error: 0.2728 - val_loss: 0.2362 - val_mean_absolute_error: 0.2654\n",
      "***TRAIN***:\n",
      "correlation related to cluster centre: 0.90\n",
      "r2 score related to cluster centre: 0.80\n",
      "***VALIDATION***:\n",
      "correlation related to cluster centre: 0.90\n",
      "r2 score related to cluster centre: 0.81\n"
     ]
    },
    {
     "data": {
      "application/vnd.jupyter.widget-view+json": {
       "model_id": "bbf75d8aec9e464e99fdb16fe2db38b6",
       "version_major": 2,
       "version_minor": 0
      },
      "text/plain": [
       "IntProgress(value=0, max=177)"
      ]
     },
     "metadata": {},
     "output_type": "display_data"
    },
    {
     "name": "stdout",
     "output_type": "stream",
     "text": [
      "***VALIDATION***:\n",
      "average correlation: 0.90\n",
      "average r2: 0.79\n",
      "---do_investigations. cluster index : 52---\n"
     ]
    },
    {
     "data": {
      "application/vnd.jupyter.widget-view+json": {
       "model_id": "94aaa58e95084d909db19b175e992516",
       "version_major": 2,
       "version_minor": 0
      },
      "text/plain": [
       "IntProgress(value=0, max=25)"
      ]
     },
     "metadata": {},
     "output_type": "display_data"
    },
    {
     "name": "stdout",
     "output_type": "stream",
     "text": [
      "Epoch 1/20\n",
      "368/368 [==============================] - 2s 3ms/step - loss: 0.2360 - mean_absolute_error: 0.3391 - val_loss: 0.1875 - val_mean_absolute_error: 0.2971\n",
      "Epoch 2/20\n",
      "368/368 [==============================] - 1s 2ms/step - loss: 0.2065 - mean_absolute_error: 0.3133 - val_loss: 0.1878 - val_mean_absolute_error: 0.3077\n",
      "Epoch 3/20\n",
      "368/368 [==============================] - 1s 2ms/step - loss: 0.2049 - mean_absolute_error: 0.3111 - val_loss: 0.1884 - val_mean_absolute_error: 0.3030\n",
      "***TRAIN***:\n",
      "correlation related to cluster centre: 0.89\n",
      "r2 score related to cluster centre: 0.79\n",
      "***VALIDATION***:\n",
      "correlation related to cluster centre: 0.90\n",
      "r2 score related to cluster centre: 0.81\n"
     ]
    },
    {
     "data": {
      "application/vnd.jupyter.widget-view+json": {
       "model_id": "319a060606964d5496c18f6b607ec12c",
       "version_major": 2,
       "version_minor": 0
      },
      "text/plain": [
       "IntProgress(value=0, max=25)"
      ]
     },
     "metadata": {},
     "output_type": "display_data"
    },
    {
     "name": "stdout",
     "output_type": "stream",
     "text": [
      "***VALIDATION***:\n",
      "average correlation: 0.90\n",
      "average r2: 0.81\n",
      "---do_investigations. cluster index : 53---\n"
     ]
    },
    {
     "data": {
      "application/vnd.jupyter.widget-view+json": {
       "model_id": "240d0e25133f4a08b2903fe00314d246",
       "version_major": 2,
       "version_minor": 0
      },
      "text/plain": [
       "IntProgress(value=0, max=4)"
      ]
     },
     "metadata": {},
     "output_type": "display_data"
    },
    {
     "name": "stdout",
     "output_type": "stream",
     "text": [
      "Epoch 1/20\n",
      "368/368 [==============================] - 2s 3ms/step - loss: 0.2840 - mean_absolute_error: 0.3624 - val_loss: 0.2069 - val_mean_absolute_error: 0.3174\n",
      "Epoch 2/20\n",
      "368/368 [==============================] - 1s 2ms/step - loss: 0.2061 - mean_absolute_error: 0.3162 - val_loss: 0.2017 - val_mean_absolute_error: 0.3077\n",
      "Epoch 3/20\n",
      "368/368 [==============================] - 1s 2ms/step - loss: 0.2052 - mean_absolute_error: 0.3150 - val_loss: 0.2003 - val_mean_absolute_error: 0.3047\n",
      "Epoch 4/20\n",
      "368/368 [==============================] - 1s 2ms/step - loss: 0.2053 - mean_absolute_error: 0.3151 - val_loss: 0.2036 - val_mean_absolute_error: 0.3039\n",
      "Epoch 5/20\n",
      "368/368 [==============================] - 1s 2ms/step - loss: 0.2052 - mean_absolute_error: 0.3144 - val_loss: 0.2001 - val_mean_absolute_error: 0.3105\n",
      "Epoch 6/20\n",
      "368/368 [==============================] - 1s 3ms/step - loss: 0.2052 - mean_absolute_error: 0.3145 - val_loss: 0.1989 - val_mean_absolute_error: 0.3101\n",
      "Epoch 7/20\n",
      "368/368 [==============================] - 1s 2ms/step - loss: 0.2061 - mean_absolute_error: 0.3155 - val_loss: 0.2045 - val_mean_absolute_error: 0.3130\n",
      "Epoch 8/20\n",
      "368/368 [==============================] - 1s 3ms/step - loss: 0.2052 - mean_absolute_error: 0.3145 - val_loss: 0.1982 - val_mean_absolute_error: 0.3056\n",
      "Epoch 9/20\n",
      "368/368 [==============================] - 1s 2ms/step - loss: 0.2048 - mean_absolute_error: 0.3143 - val_loss: 0.1985 - val_mean_absolute_error: 0.3059\n",
      "Epoch 10/20\n",
      "368/368 [==============================] - 1s 2ms/step - loss: 0.2044 - mean_absolute_error: 0.3140 - val_loss: 0.1999 - val_mean_absolute_error: 0.3077\n",
      "***TRAIN***:\n",
      "correlation related to cluster centre: 0.89\n",
      "r2 score related to cluster centre: 0.79\n",
      "***VALIDATION***:\n",
      "correlation related to cluster centre: 0.90\n",
      "r2 score related to cluster centre: 0.81\n"
     ]
    },
    {
     "data": {
      "application/vnd.jupyter.widget-view+json": {
       "model_id": "58bd7b703b624142af3a27260b78d20d",
       "version_major": 2,
       "version_minor": 0
      },
      "text/plain": [
       "IntProgress(value=0, max=4)"
      ]
     },
     "metadata": {},
     "output_type": "display_data"
    },
    {
     "name": "stdout",
     "output_type": "stream",
     "text": [
      "***VALIDATION***:\n",
      "average correlation: 0.90\n",
      "average r2: 0.81\n",
      "---do_investigations. cluster index : 54---\n"
     ]
    },
    {
     "data": {
      "application/vnd.jupyter.widget-view+json": {
       "model_id": "2ad29a1b03844d9dbceb570e7f2a1ff2",
       "version_major": 2,
       "version_minor": 0
      },
      "text/plain": [
       "IntProgress(value=0, max=5)"
      ]
     },
     "metadata": {},
     "output_type": "display_data"
    },
    {
     "name": "stdout",
     "output_type": "stream",
     "text": [
      "Epoch 1/20\n",
      "368/368 [==============================] - 2s 3ms/step - loss: 0.2562 - mean_absolute_error: 0.3568 - val_loss: 0.1854 - val_mean_absolute_error: 0.2933\n",
      "Epoch 2/20\n",
      "368/368 [==============================] - 1s 2ms/step - loss: 0.2064 - mean_absolute_error: 0.3147 - val_loss: 0.1822 - val_mean_absolute_error: 0.2917\n",
      "Epoch 3/20\n",
      "368/368 [==============================] - 1s 2ms/step - loss: 0.2062 - mean_absolute_error: 0.3146 - val_loss: 0.1810 - val_mean_absolute_error: 0.2895\n",
      "Epoch 4/20\n",
      "368/368 [==============================] - 1s 2ms/step - loss: 0.2059 - mean_absolute_error: 0.3141 - val_loss: 0.1815 - val_mean_absolute_error: 0.2940\n",
      "Epoch 5/20\n",
      "368/368 [==============================] - 1s 2ms/step - loss: 0.2056 - mean_absolute_error: 0.3138 - val_loss: 0.1831 - val_mean_absolute_error: 0.2942\n",
      "***TRAIN***:\n",
      "correlation related to cluster centre: 0.89\n",
      "r2 score related to cluster centre: 0.80\n",
      "***VALIDATION***:\n",
      "correlation related to cluster centre: 0.91\n",
      "r2 score related to cluster centre: 0.82\n"
     ]
    },
    {
     "data": {
      "application/vnd.jupyter.widget-view+json": {
       "model_id": "d28076d16a4745cc8b894b10f5784fac",
       "version_major": 2,
       "version_minor": 0
      },
      "text/plain": [
       "IntProgress(value=0, max=5)"
      ]
     },
     "metadata": {},
     "output_type": "display_data"
    },
    {
     "name": "stdout",
     "output_type": "stream",
     "text": [
      "***VALIDATION***:\n",
      "average correlation: 0.91\n",
      "average r2: 0.82\n",
      "---do_investigations. cluster index : 55---\n"
     ]
    },
    {
     "data": {
      "application/vnd.jupyter.widget-view+json": {
       "model_id": "8b85dfc15b6a4abbb6e9ec563ffafb83",
       "version_major": 2,
       "version_minor": 0
      },
      "text/plain": [
       "IntProgress(value=0, max=47)"
      ]
     },
     "metadata": {},
     "output_type": "display_data"
    },
    {
     "name": "stdout",
     "output_type": "stream",
     "text": [
      "Epoch 1/20\n",
      "368/368 [==============================] - 2s 3ms/step - loss: 0.2751 - mean_absolute_error: 0.3693 - val_loss: 0.2092 - val_mean_absolute_error: 0.3299\n",
      "Epoch 2/20\n",
      "368/368 [==============================] - 1s 2ms/step - loss: 0.2079 - mean_absolute_error: 0.3194 - val_loss: 0.2073 - val_mean_absolute_error: 0.3237\n",
      "Epoch 3/20\n",
      "368/368 [==============================] - 1s 2ms/step - loss: 0.2070 - mean_absolute_error: 0.3183 - val_loss: 0.2086 - val_mean_absolute_error: 0.3260\n",
      "Epoch 4/20\n",
      "368/368 [==============================] - 1s 2ms/step - loss: 0.2061 - mean_absolute_error: 0.3179 - val_loss: 0.2041 - val_mean_absolute_error: 0.3165\n",
      "Epoch 5/20\n",
      "368/368 [==============================] - 1s 2ms/step - loss: 0.2064 - mean_absolute_error: 0.3174 - val_loss: 0.2047 - val_mean_absolute_error: 0.3179\n",
      "Epoch 6/20\n",
      "368/368 [==============================] - 1s 2ms/step - loss: 0.2066 - mean_absolute_error: 0.3182 - val_loss: 0.2047 - val_mean_absolute_error: 0.3164\n",
      "***TRAIN***:\n",
      "correlation related to cluster centre: 0.89\n",
      "r2 score related to cluster centre: 0.80\n",
      "***VALIDATION***:\n",
      "correlation related to cluster centre: 0.90\n",
      "r2 score related to cluster centre: 0.82\n"
     ]
    },
    {
     "data": {
      "application/vnd.jupyter.widget-view+json": {
       "model_id": "e4bc63c1692a441ca6850499d5af3af6",
       "version_major": 2,
       "version_minor": 0
      },
      "text/plain": [
       "IntProgress(value=0, max=47)"
      ]
     },
     "metadata": {},
     "output_type": "display_data"
    },
    {
     "name": "stdout",
     "output_type": "stream",
     "text": [
      "***VALIDATION***:\n",
      "average correlation: 0.90\n",
      "average r2: 0.81\n",
      "---do_investigations. cluster index : 56---\n"
     ]
    },
    {
     "data": {
      "application/vnd.jupyter.widget-view+json": {
       "model_id": "e94fa69b38b548c68f8276eea93dc173",
       "version_major": 2,
       "version_minor": 0
      },
      "text/plain": [
       "IntProgress(value=0, max=28)"
      ]
     },
     "metadata": {},
     "output_type": "display_data"
    },
    {
     "name": "stdout",
     "output_type": "stream",
     "text": [
      "Epoch 1/20\n",
      "368/368 [==============================] - 2s 3ms/step - loss: 0.2678 - mean_absolute_error: 0.3660 - val_loss: 0.1699 - val_mean_absolute_error: 0.2744\n",
      "Epoch 2/20\n",
      "368/368 [==============================] - 1s 2ms/step - loss: 0.1835 - mean_absolute_error: 0.2900 - val_loss: 0.1672 - val_mean_absolute_error: 0.2771\n",
      "Epoch 3/20\n",
      "368/368 [==============================] - 1s 2ms/step - loss: 0.1829 - mean_absolute_error: 0.2897 - val_loss: 0.1671 - val_mean_absolute_error: 0.2771\n",
      "Epoch 4/20\n",
      "368/368 [==============================] - 1s 2ms/step - loss: 0.1828 - mean_absolute_error: 0.2901 - val_loss: 0.1673 - val_mean_absolute_error: 0.2735\n",
      "Epoch 5/20\n",
      "368/368 [==============================] - 1s 2ms/step - loss: 0.1820 - mean_absolute_error: 0.2892 - val_loss: 0.1672 - val_mean_absolute_error: 0.2706\n",
      "***TRAIN***:\n",
      "correlation related to cluster centre: 0.91\n",
      "r2 score related to cluster centre: 0.82\n",
      "***VALIDATION***:\n",
      "correlation related to cluster centre: 0.91\n",
      "r2 score related to cluster centre: 0.83\n"
     ]
    },
    {
     "data": {
      "application/vnd.jupyter.widget-view+json": {
       "model_id": "d9fe72d58dc04392ac58e6d0e8cb70b7",
       "version_major": 2,
       "version_minor": 0
      },
      "text/plain": [
       "IntProgress(value=0, max=28)"
      ]
     },
     "metadata": {},
     "output_type": "display_data"
    },
    {
     "name": "stdout",
     "output_type": "stream",
     "text": [
      "***VALIDATION***:\n",
      "average correlation: 0.92\n",
      "average r2: 0.84\n",
      "---do_investigations. cluster index : 57---\n"
     ]
    },
    {
     "data": {
      "application/vnd.jupyter.widget-view+json": {
       "model_id": "170ff0be688f4695b02ccffdc6aa764f",
       "version_major": 2,
       "version_minor": 0
      },
      "text/plain": [
       "IntProgress(value=0, max=1)"
      ]
     },
     "metadata": {},
     "output_type": "display_data"
    },
    {
     "name": "stdout",
     "output_type": "stream",
     "text": [
      "Epoch 1/20\n",
      "368/368 [==============================] - 2s 3ms/step - loss: 0.2781 - mean_absolute_error: 0.3732 - val_loss: 0.1906 - val_mean_absolute_error: 0.3147\n",
      "Epoch 2/20\n",
      "368/368 [==============================] - 1s 2ms/step - loss: 0.2201 - mean_absolute_error: 0.3317 - val_loss: 0.1898 - val_mean_absolute_error: 0.3118\n",
      "Epoch 3/20\n",
      "368/368 [==============================] - 1s 2ms/step - loss: 0.2201 - mean_absolute_error: 0.3316 - val_loss: 0.1894 - val_mean_absolute_error: 0.3098\n",
      "Epoch 4/20\n",
      "368/368 [==============================] - 1s 2ms/step - loss: 0.2194 - mean_absolute_error: 0.3310 - val_loss: 0.1887 - val_mean_absolute_error: 0.3082\n",
      "Epoch 5/20\n",
      "368/368 [==============================] - 1s 2ms/step - loss: 0.2186 - mean_absolute_error: 0.3305 - val_loss: 0.1918 - val_mean_absolute_error: 0.3039\n",
      "Epoch 6/20\n",
      "368/368 [==============================] - 1s 2ms/step - loss: 0.2191 - mean_absolute_error: 0.3304 - val_loss: 0.1888 - val_mean_absolute_error: 0.3098\n",
      "***TRAIN***:\n",
      "correlation related to cluster centre: 0.89\n",
      "r2 score related to cluster centre: 0.78\n",
      "***VALIDATION***:\n",
      "correlation related to cluster centre: 0.90\n",
      "r2 score related to cluster centre: 0.80\n"
     ]
    },
    {
     "data": {
      "application/vnd.jupyter.widget-view+json": {
       "model_id": "f66180d3d7174381a5e3455cb15d5dc9",
       "version_major": 2,
       "version_minor": 0
      },
      "text/plain": [
       "IntProgress(value=0, max=1)"
      ]
     },
     "metadata": {},
     "output_type": "display_data"
    },
    {
     "name": "stdout",
     "output_type": "stream",
     "text": [
      "***VALIDATION***:\n",
      "average correlation: 0.90\n",
      "average r2: 0.80\n",
      "weighted_average_correlation: 0.90\n",
      "weighted_average_r2_score: 0.77\n",
      "bad clusters rate: 0.57%\n",
      "------------------------------------------------------\n"
     ]
    }
   ],
   "source": [
    "first_path = r\"C:\\Coding\\final-qualifying-work_2023-2024\\ClusteringCpp\\output\\cmeans 5 0.1 20.txt\"\n",
    "second_path = r\"C:\\Coding\\final-qualifying-work_2023-2024\\ClusteringCpp\\output\\cmeans 15 0.1 20.txt\"\n",
    "third_path = r\"C:\\Coding\\final-qualifying-work_2023-2024\\ClusteringCpp\\output\\cmeans 30 0.1 20.txt\"\n",
    "fourth_path = r\"C:\\Coding\\final-qualifying-work_2023-2024\\ClusteringCpp\\output\\cmeans 60 0.1 5.txt\"\n",
    "\n",
    "output_file = open(\"computational-experiments-output-cmeans.txt\", \"a\")\n",
    "\n",
    "selected_path = fourth_path\n",
    "\n",
    "print('------------------------------------------------------')\n",
    "output_file.write('------------------------------------------------------\\n')\n",
    "\n",
    "print(f\"msd {os.path.split(selected_path)[-1]}\")\n",
    "output_file.write(f\"msd {os.path.split(selected_path)[-1]}\\n\")\n",
    "show_results(multi_step_dense_model, get_clusters(selected_path), CONV_WIDTH)\n",
    "\n",
    "print('------------------------------------------------------')\n",
    "output_file.write('------------------------------------------------------\\n')\n",
    "\n",
    "output_file.close()"
   ]
  },
  {
   "cell_type": "code",
   "execution_count": 25,
   "id": "85bb487e-a791-4db6-88e5-0628162e941b",
   "metadata": {},
   "outputs": [
    {
     "name": "stdout",
     "output_type": "stream",
     "text": [
      "------------------------------------------------------\n",
      "lstm cmeans 5 0.1 20.txt\n",
      "---do_investigations. cluster index : 0---\n"
     ]
    },
    {
     "data": {
      "application/vnd.jupyter.widget-view+json": {
       "model_id": "3f39a8510c6743f39b02ae141231263f",
       "version_major": 2,
       "version_minor": 0
      },
      "text/plain": [
       "IntProgress(value=0, max=313)"
      ]
     },
     "metadata": {},
     "output_type": "display_data"
    },
    {
     "name": "stdout",
     "output_type": "stream",
     "text": [
      "Epoch 1/20\n",
      "368/368 [==============================] - 5s 8ms/step - loss: 0.2577 - mean_absolute_error: 0.3526 - val_loss: 0.1545 - val_mean_absolute_error: 0.2859\n",
      "Epoch 2/20\n",
      "368/368 [==============================] - 2s 5ms/step - loss: 0.1983 - mean_absolute_error: 0.3058 - val_loss: 0.1494 - val_mean_absolute_error: 0.2755\n",
      "Epoch 3/20\n",
      "368/368 [==============================] - 2s 5ms/step - loss: 0.1989 - mean_absolute_error: 0.3054 - val_loss: 0.1556 - val_mean_absolute_error: 0.2932\n",
      "Epoch 4/20\n",
      "368/368 [==============================] - 2s 5ms/step - loss: 0.1979 - mean_absolute_error: 0.3047 - val_loss: 0.1546 - val_mean_absolute_error: 0.2860\n",
      "***TRAIN***:\n",
      "correlation related to cluster centre: 0.90\n",
      "r2 score related to cluster centre: 0.80\n",
      "***VALIDATION***:\n",
      "correlation related to cluster centre: 0.91\n",
      "r2 score related to cluster centre: 0.82\n"
     ]
    },
    {
     "data": {
      "application/vnd.jupyter.widget-view+json": {
       "model_id": "d4dfd6be98f74b3d9e933bc3f3ccee2f",
       "version_major": 2,
       "version_minor": 0
      },
      "text/plain": [
       "IntProgress(value=0, max=313)"
      ]
     },
     "metadata": {},
     "output_type": "display_data"
    },
    {
     "name": "stdout",
     "output_type": "stream",
     "text": [
      "***VALIDATION***:\n",
      "average correlation: 0.91\n",
      "average r2: 0.76\n",
      "---do_investigations. cluster index : 1---\n"
     ]
    },
    {
     "data": {
      "application/vnd.jupyter.widget-view+json": {
       "model_id": "5c8192bc1b954bd0ad4858a958b821a4",
       "version_major": 2,
       "version_minor": 0
      },
      "text/plain": [
       "IntProgress(value=0, max=238)"
      ]
     },
     "metadata": {},
     "output_type": "display_data"
    },
    {
     "name": "stdout",
     "output_type": "stream",
     "text": [
      "Epoch 1/20\n",
      "368/368 [==============================] - 4s 6ms/step - loss: 0.2460 - mean_absolute_error: 0.3416 - val_loss: 0.1674 - val_mean_absolute_error: 0.2730\n",
      "Epoch 2/20\n",
      "368/368 [==============================] - 2s 5ms/step - loss: 0.1789 - mean_absolute_error: 0.2902 - val_loss: 0.1658 - val_mean_absolute_error: 0.2739\n",
      "Epoch 3/20\n",
      "368/368 [==============================] - 2s 5ms/step - loss: 0.1782 - mean_absolute_error: 0.2893 - val_loss: 0.1635 - val_mean_absolute_error: 0.2805\n",
      "Epoch 4/20\n",
      "368/368 [==============================] - 2s 5ms/step - loss: 0.1769 - mean_absolute_error: 0.2886 - val_loss: 0.1634 - val_mean_absolute_error: 0.2701\n",
      "Epoch 5/20\n",
      "368/368 [==============================] - 2s 5ms/step - loss: 0.1773 - mean_absolute_error: 0.2885 - val_loss: 0.1633 - val_mean_absolute_error: 0.2737\n",
      "Epoch 6/20\n",
      "368/368 [==============================] - 2s 5ms/step - loss: 0.1774 - mean_absolute_error: 0.2887 - val_loss: 0.1629 - val_mean_absolute_error: 0.2741\n",
      "Epoch 7/20\n",
      "368/368 [==============================] - 2s 5ms/step - loss: 0.1769 - mean_absolute_error: 0.2885 - val_loss: 0.1625 - val_mean_absolute_error: 0.2727\n",
      "Epoch 8/20\n",
      "368/368 [==============================] - 2s 5ms/step - loss: 0.1769 - mean_absolute_error: 0.2882 - val_loss: 0.1629 - val_mean_absolute_error: 0.2712\n",
      "Epoch 9/20\n",
      "368/368 [==============================] - 2s 5ms/step - loss: 0.1768 - mean_absolute_error: 0.2884 - val_loss: 0.1622 - val_mean_absolute_error: 0.2736\n",
      "Epoch 10/20\n",
      "368/368 [==============================] - 2s 5ms/step - loss: 0.1772 - mean_absolute_error: 0.2881 - val_loss: 0.1622 - val_mean_absolute_error: 0.2739\n",
      "Epoch 11/20\n",
      "368/368 [==============================] - 2s 5ms/step - loss: 0.1766 - mean_absolute_error: 0.2880 - val_loss: 0.1664 - val_mean_absolute_error: 0.2696\n",
      "Epoch 12/20\n",
      "368/368 [==============================] - 2s 5ms/step - loss: 0.1789 - mean_absolute_error: 0.2899 - val_loss: 0.1634 - val_mean_absolute_error: 0.2733\n",
      "***TRAIN***:\n",
      "correlation related to cluster centre: 0.91\n",
      "r2 score related to cluster centre: 0.82\n",
      "***VALIDATION***:\n",
      "correlation related to cluster centre: 0.92\n",
      "r2 score related to cluster centre: 0.84\n"
     ]
    },
    {
     "data": {
      "application/vnd.jupyter.widget-view+json": {
       "model_id": "40e1d30041c84d66b56d605b1ada3126",
       "version_major": 2,
       "version_minor": 0
      },
      "text/plain": [
       "IntProgress(value=0, max=238)"
      ]
     },
     "metadata": {},
     "output_type": "display_data"
    },
    {
     "name": "stdout",
     "output_type": "stream",
     "text": [
      "***VALIDATION***:\n",
      "average correlation: 0.90\n",
      "average r2: 0.76\n",
      "---do_investigations. cluster index : 2---\n"
     ]
    },
    {
     "data": {
      "application/vnd.jupyter.widget-view+json": {
       "model_id": "acca3e1a7a214e0d88ff88acd9f952ad",
       "version_major": 2,
       "version_minor": 0
      },
      "text/plain": [
       "IntProgress(value=0, max=237)"
      ]
     },
     "metadata": {},
     "output_type": "display_data"
    },
    {
     "name": "stdout",
     "output_type": "stream",
     "text": [
      "Epoch 1/20\n",
      "368/368 [==============================] - 4s 6ms/step - loss: 0.2816 - mean_absolute_error: 0.3575 - val_loss: 0.1711 - val_mean_absolute_error: 0.2796\n",
      "Epoch 2/20\n",
      "368/368 [==============================] - 2s 5ms/step - loss: 0.2126 - mean_absolute_error: 0.3061 - val_loss: 0.1665 - val_mean_absolute_error: 0.2805\n",
      "Epoch 3/20\n",
      "368/368 [==============================] - 2s 5ms/step - loss: 0.2112 - mean_absolute_error: 0.3043 - val_loss: 0.1610 - val_mean_absolute_error: 0.2698\n",
      "Epoch 4/20\n",
      "368/368 [==============================] - 2s 5ms/step - loss: 0.2097 - mean_absolute_error: 0.3032 - val_loss: 0.1641 - val_mean_absolute_error: 0.2785\n",
      "Epoch 5/20\n",
      "368/368 [==============================] - 2s 5ms/step - loss: 0.2090 - mean_absolute_error: 0.3032 - val_loss: 0.1605 - val_mean_absolute_error: 0.2728\n",
      "Epoch 6/20\n",
      "368/368 [==============================] - 2s 5ms/step - loss: 0.2094 - mean_absolute_error: 0.3026 - val_loss: 0.1745 - val_mean_absolute_error: 0.2922\n",
      "Epoch 7/20\n",
      "368/368 [==============================] - 2s 5ms/step - loss: 0.2090 - mean_absolute_error: 0.3025 - val_loss: 0.1644 - val_mean_absolute_error: 0.2747\n",
      "***TRAIN***:\n",
      "correlation related to cluster centre: 0.89\n",
      "r2 score related to cluster centre: 0.79\n",
      "***VALIDATION***:\n",
      "correlation related to cluster centre: 0.91\n",
      "r2 score related to cluster centre: 0.82\n"
     ]
    },
    {
     "data": {
      "application/vnd.jupyter.widget-view+json": {
       "model_id": "9cc25d240fb946ab86f36e3f80285945",
       "version_major": 2,
       "version_minor": 0
      },
      "text/plain": [
       "IntProgress(value=0, max=237)"
      ]
     },
     "metadata": {},
     "output_type": "display_data"
    },
    {
     "name": "stdout",
     "output_type": "stream",
     "text": [
      "***VALIDATION***:\n",
      "average correlation: 0.90\n",
      "average r2: 0.80\n",
      "---do_investigations. cluster index : 3---\n"
     ]
    },
    {
     "data": {
      "application/vnd.jupyter.widget-view+json": {
       "model_id": "c47727cde3a34f689620298ced8cf055",
       "version_major": 2,
       "version_minor": 0
      },
      "text/plain": [
       "IntProgress(value=0, max=6308)"
      ]
     },
     "metadata": {},
     "output_type": "display_data"
    },
    {
     "name": "stdout",
     "output_type": "stream",
     "text": [
      "Epoch 1/20\n",
      "368/368 [==============================] - 4s 6ms/step - loss: 0.2563 - mean_absolute_error: 0.3225 - val_loss: 0.2388 - val_mean_absolute_error: 0.2777\n",
      "Epoch 2/20\n",
      "368/368 [==============================] - 2s 5ms/step - loss: 0.2038 - mean_absolute_error: 0.2826 - val_loss: 0.2503 - val_mean_absolute_error: 0.2891\n",
      "Epoch 3/20\n",
      "368/368 [==============================] - 2s 5ms/step - loss: 0.2034 - mean_absolute_error: 0.2816 - val_loss: 0.2580 - val_mean_absolute_error: 0.2904\n",
      "***TRAIN***:\n",
      "correlation related to cluster centre: 0.89\n",
      "r2 score related to cluster centre: 0.78\n",
      "***VALIDATION***:\n",
      "correlation related to cluster centre: 0.89\n",
      "r2 score related to cluster centre: 0.78\n"
     ]
    },
    {
     "data": {
      "application/vnd.jupyter.widget-view+json": {
       "model_id": "8b7e649dee8e4a0b91da6a88f4eb00a5",
       "version_major": 2,
       "version_minor": 0
      },
      "text/plain": [
       "IntProgress(value=0, max=6308)"
      ]
     },
     "metadata": {},
     "output_type": "display_data"
    },
    {
     "name": "stdout",
     "output_type": "stream",
     "text": [
      "***VALIDATION***:\n",
      "average correlation: nan\n",
      "average r2: -1990561054860921505692254208.00\n",
      "---do_investigations. cluster index : 4---\n"
     ]
    },
    {
     "data": {
      "application/vnd.jupyter.widget-view+json": {
       "model_id": "5b992bc243424831b714f6ca869df483",
       "version_major": 2,
       "version_minor": 0
      },
      "text/plain": [
       "IntProgress(value=0, max=584)"
      ]
     },
     "metadata": {},
     "output_type": "display_data"
    },
    {
     "name": "stdout",
     "output_type": "stream",
     "text": [
      "Epoch 1/20\n",
      "368/368 [==============================] - 5s 6ms/step - loss: 0.2699 - mean_absolute_error: 0.3471 - val_loss: 0.1908 - val_mean_absolute_error: 0.2940\n",
      "Epoch 2/20\n",
      "368/368 [==============================] - 2s 5ms/step - loss: 0.2053 - mean_absolute_error: 0.2995 - val_loss: 0.1916 - val_mean_absolute_error: 0.2885\n",
      "Epoch 3/20\n",
      "368/368 [==============================] - 2s 5ms/step - loss: 0.2023 - mean_absolute_error: 0.2965 - val_loss: 0.1879 - val_mean_absolute_error: 0.2858\n",
      "Epoch 4/20\n",
      "368/368 [==============================] - 2s 5ms/step - loss: 0.2036 - mean_absolute_error: 0.2976 - val_loss: 0.1884 - val_mean_absolute_error: 0.2882\n",
      "Epoch 5/20\n",
      "368/368 [==============================] - 2s 5ms/step - loss: 0.2032 - mean_absolute_error: 0.2969 - val_loss: 0.1884 - val_mean_absolute_error: 0.2947\n",
      "***TRAIN***:\n",
      "correlation related to cluster centre: 0.89\n",
      "r2 score related to cluster centre: 0.80\n",
      "***VALIDATION***:\n",
      "correlation related to cluster centre: 0.91\n",
      "r2 score related to cluster centre: 0.82\n"
     ]
    },
    {
     "data": {
      "application/vnd.jupyter.widget-view+json": {
       "model_id": "77de593eb1f64ca5b515011af1f460d1",
       "version_major": 2,
       "version_minor": 0
      },
      "text/plain": [
       "IntProgress(value=0, max=584)"
      ]
     },
     "metadata": {},
     "output_type": "display_data"
    },
    {
     "name": "stdout",
     "output_type": "stream",
     "text": [
      "***VALIDATION***:\n",
      "average correlation: 0.90\n",
      "average r2: 0.77\n",
      "weighted_average_correlation: 0.91\n",
      "weighted_average_r2_score: 0.77\n",
      "bad clusters rate: 0.82%\n",
      "------------------------------------------------------\n"
     ]
    }
   ],
   "source": [
    "first_path = r\"C:\\Coding\\final-qualifying-work_2023-2024\\ClusteringCpp\\output\\cmeans 5 0.1 20.txt\"\n",
    "second_path = r\"C:\\Coding\\final-qualifying-work_2023-2024\\ClusteringCpp\\output\\cmeans 15 0.1 20.txt\"\n",
    "third_path = r\"C:\\Coding\\final-qualifying-work_2023-2024\\ClusteringCpp\\output\\cmeans 30 0.1 20.txt\"\n",
    "fourth_path = r\"C:\\Coding\\final-qualifying-work_2023-2024\\ClusteringCpp\\output\\cmeans 60 0.1 5.txt\"\n",
    "\n",
    "output_file = open(\"computational-experiments-output-cmeans.txt\", \"a\")\n",
    "\n",
    "selected_path = first_path\n",
    "\n",
    "print('------------------------------------------------------')\n",
    "output_file.write('------------------------------------------------------\\n')\n",
    "\n",
    "print(f\"lstm {os.path.split(selected_path)[-1]}\")\n",
    "output_file.write(f\"lstm {os.path.split(selected_path)[-1]}\\n\")\n",
    "show_results(lstm_model, get_clusters(selected_path), CONV_WIDTH)\n",
    "\n",
    "print('------------------------------------------------------')\n",
    "output_file.write('------------------------------------------------------\\n')\n",
    "\n",
    "output_file.close()"
   ]
  },
  {
   "cell_type": "code",
   "execution_count": 26,
   "id": "ac5fc712-5063-446c-a69a-45f964b8dc69",
   "metadata": {},
   "outputs": [
    {
     "name": "stdout",
     "output_type": "stream",
     "text": [
      "------------------------------------------------------\n",
      "lstm cmeans 15 0.1 20.txt\n",
      "---do_investigations. cluster index : 0---\n"
     ]
    },
    {
     "data": {
      "application/vnd.jupyter.widget-view+json": {
       "model_id": "eb214b22d0d7438ab7861cab201f01ee",
       "version_major": 2,
       "version_minor": 0
      },
      "text/plain": [
       "IntProgress(value=0, max=85)"
      ]
     },
     "metadata": {},
     "output_type": "display_data"
    },
    {
     "name": "stdout",
     "output_type": "stream",
     "text": [
      "Epoch 1/20\n",
      "368/368 [==============================] - 5s 6ms/step - loss: 0.1456 - mean_absolute_error: 0.2401 - val_loss: 0.1069 - val_mean_absolute_error: 0.1969\n",
      "Epoch 2/20\n",
      "368/368 [==============================] - 2s 5ms/step - loss: 0.0807 - mean_absolute_error: 0.1840 - val_loss: 0.1057 - val_mean_absolute_error: 0.1933\n",
      "Epoch 3/20\n",
      "368/368 [==============================] - 2s 5ms/step - loss: 0.0798 - mean_absolute_error: 0.1825 - val_loss: 0.1062 - val_mean_absolute_error: 0.1926\n",
      "Epoch 4/20\n",
      "368/368 [==============================] - 2s 5ms/step - loss: 0.0793 - mean_absolute_error: 0.1814 - val_loss: 0.1059 - val_mean_absolute_error: 0.1915\n",
      "***TRAIN***:\n",
      "correlation related to cluster centre: 0.96\n",
      "r2 score related to cluster centre: 0.92\n",
      "***VALIDATION***:\n",
      "correlation related to cluster centre: 0.94\n",
      "r2 score related to cluster centre: 0.88\n"
     ]
    },
    {
     "data": {
      "application/vnd.jupyter.widget-view+json": {
       "model_id": "30ac511d36604977bef2ee79dd87f357",
       "version_major": 2,
       "version_minor": 0
      },
      "text/plain": [
       "IntProgress(value=0, max=85)"
      ]
     },
     "metadata": {},
     "output_type": "display_data"
    },
    {
     "name": "stdout",
     "output_type": "stream",
     "text": [
      "***VALIDATION***:\n",
      "average correlation: 0.88\n",
      "average r2: 0.74\n",
      "---do_investigations. cluster index : 1---\n"
     ]
    },
    {
     "data": {
      "application/vnd.jupyter.widget-view+json": {
       "model_id": "34c02fbc48f7496bb0774b5fdd14b983",
       "version_major": 2,
       "version_minor": 0
      },
      "text/plain": [
       "IntProgress(value=0, max=101)"
      ]
     },
     "metadata": {},
     "output_type": "display_data"
    },
    {
     "name": "stdout",
     "output_type": "stream",
     "text": [
      "Epoch 1/20\n",
      "368/368 [==============================] - 5s 6ms/step - loss: 0.2952 - mean_absolute_error: 0.3731 - val_loss: 0.1519 - val_mean_absolute_error: 0.2791\n",
      "Epoch 2/20\n",
      "368/368 [==============================] - 2s 5ms/step - loss: 0.2134 - mean_absolute_error: 0.3099 - val_loss: 0.1486 - val_mean_absolute_error: 0.2806\n",
      "Epoch 3/20\n",
      "368/368 [==============================] - 2s 5ms/step - loss: 0.2125 - mean_absolute_error: 0.3084 - val_loss: 0.1611 - val_mean_absolute_error: 0.3017\n",
      "Epoch 4/20\n",
      "368/368 [==============================] - 2s 5ms/step - loss: 0.2118 - mean_absolute_error: 0.3079 - val_loss: 0.1522 - val_mean_absolute_error: 0.2802\n",
      "***TRAIN***:\n",
      "correlation related to cluster centre: 0.89\n",
      "r2 score related to cluster centre: 0.78\n",
      "***VALIDATION***:\n",
      "correlation related to cluster centre: 0.91\n",
      "r2 score related to cluster centre: 0.81\n"
     ]
    },
    {
     "data": {
      "application/vnd.jupyter.widget-view+json": {
       "model_id": "564708458ea747e796db3b8ce342f652",
       "version_major": 2,
       "version_minor": 0
      },
      "text/plain": [
       "IntProgress(value=0, max=101)"
      ]
     },
     "metadata": {},
     "output_type": "display_data"
    },
    {
     "name": "stdout",
     "output_type": "stream",
     "text": [
      "***VALIDATION***:\n",
      "average correlation: 0.90\n",
      "average r2: 0.69\n",
      "---do_investigations. cluster index : 2---\n"
     ]
    },
    {
     "data": {
      "application/vnd.jupyter.widget-view+json": {
       "model_id": "1b40c7981aa24812a1abfc9756922b8c",
       "version_major": 2,
       "version_minor": 0
      },
      "text/plain": [
       "IntProgress(value=0, max=6106)"
      ]
     },
     "metadata": {},
     "output_type": "display_data"
    },
    {
     "name": "stdout",
     "output_type": "stream",
     "text": [
      "Epoch 1/20\n",
      "368/368 [==============================] - 5s 6ms/step - loss: 0.2612 - mean_absolute_error: 0.3189 - val_loss: 0.2392 - val_mean_absolute_error: 0.2712\n",
      "Epoch 2/20\n",
      "368/368 [==============================] - 2s 5ms/step - loss: 0.2011 - mean_absolute_error: 0.2774 - val_loss: 0.2388 - val_mean_absolute_error: 0.2685\n",
      "Epoch 3/20\n",
      "368/368 [==============================] - 2s 5ms/step - loss: 0.2006 - mean_absolute_error: 0.2765 - val_loss: 0.2403 - val_mean_absolute_error: 0.2686\n",
      "Epoch 4/20\n",
      "368/368 [==============================] - 2s 5ms/step - loss: 0.1984 - mean_absolute_error: 0.2754 - val_loss: 0.2381 - val_mean_absolute_error: 0.2670\n",
      "Epoch 5/20\n",
      "368/368 [==============================] - 2s 5ms/step - loss: 0.1990 - mean_absolute_error: 0.2751 - val_loss: 0.2404 - val_mean_absolute_error: 0.2691\n",
      "Epoch 6/20\n",
      "368/368 [==============================] - 2s 5ms/step - loss: 0.1991 - mean_absolute_error: 0.2746 - val_loss: 0.2354 - val_mean_absolute_error: 0.2690\n",
      "Epoch 7/20\n",
      "368/368 [==============================] - 2s 5ms/step - loss: 0.1991 - mean_absolute_error: 0.2758 - val_loss: 0.2411 - val_mean_absolute_error: 0.2681\n",
      "Epoch 8/20\n",
      "368/368 [==============================] - 2s 5ms/step - loss: 0.1982 - mean_absolute_error: 0.2741 - val_loss: 0.2384 - val_mean_absolute_error: 0.2703\n",
      "***TRAIN***:\n",
      "correlation related to cluster centre: 0.90\n",
      "r2 score related to cluster centre: 0.80\n",
      "***VALIDATION***:\n",
      "correlation related to cluster centre: 0.90\n",
      "r2 score related to cluster centre: 0.80\n"
     ]
    },
    {
     "data": {
      "application/vnd.jupyter.widget-view+json": {
       "model_id": "e2a30b16a35e46be9e1f27f64169f6ee",
       "version_major": 2,
       "version_minor": 0
      },
      "text/plain": [
       "IntProgress(value=0, max=6106)"
      ]
     },
     "metadata": {},
     "output_type": "display_data"
    },
    {
     "name": "stdout",
     "output_type": "stream",
     "text": [
      "***VALIDATION***:\n",
      "average correlation: nan\n",
      "average r2: -5991728104623035240782233600.00\n",
      "---do_investigations. cluster index : 3---\n"
     ]
    },
    {
     "data": {
      "application/vnd.jupyter.widget-view+json": {
       "model_id": "440010fea5dd41259cce7fb3ffdb514c",
       "version_major": 2,
       "version_minor": 0
      },
      "text/plain": [
       "IntProgress(value=0, max=42)"
      ]
     },
     "metadata": {},
     "output_type": "display_data"
    },
    {
     "name": "stdout",
     "output_type": "stream",
     "text": [
      "Epoch 1/20\n",
      "368/368 [==============================] - 9s 6ms/step - loss: 0.2508 - mean_absolute_error: 0.3498 - val_loss: 0.1748 - val_mean_absolute_error: 0.2949\n",
      "Epoch 2/20\n",
      "368/368 [==============================] - 2s 5ms/step - loss: 0.1980 - mean_absolute_error: 0.3067 - val_loss: 0.1717 - val_mean_absolute_error: 0.2822\n",
      "Epoch 3/20\n",
      "368/368 [==============================] - 2s 5ms/step - loss: 0.1966 - mean_absolute_error: 0.3055 - val_loss: 0.1715 - val_mean_absolute_error: 0.2827\n",
      "Epoch 4/20\n",
      "368/368 [==============================] - 2s 5ms/step - loss: 0.1971 - mean_absolute_error: 0.3051 - val_loss: 0.1708 - val_mean_absolute_error: 0.2826\n",
      "Epoch 5/20\n",
      "368/368 [==============================] - 2s 5ms/step - loss: 0.1964 - mean_absolute_error: 0.3054 - val_loss: 0.1714 - val_mean_absolute_error: 0.2811\n",
      "Epoch 6/20\n",
      "368/368 [==============================] - 2s 5ms/step - loss: 0.1961 - mean_absolute_error: 0.3047 - val_loss: 0.1708 - val_mean_absolute_error: 0.2845\n",
      "***TRAIN***:\n",
      "correlation related to cluster centre: 0.90\n",
      "r2 score related to cluster centre: 0.81\n",
      "***VALIDATION***:\n",
      "correlation related to cluster centre: 0.91\n",
      "r2 score related to cluster centre: 0.83\n"
     ]
    },
    {
     "data": {
      "application/vnd.jupyter.widget-view+json": {
       "model_id": "4cbc91ed55c64ddf983cccd0762a1b4f",
       "version_major": 2,
       "version_minor": 0
      },
      "text/plain": [
       "IntProgress(value=0, max=42)"
      ]
     },
     "metadata": {},
     "output_type": "display_data"
    },
    {
     "name": "stdout",
     "output_type": "stream",
     "text": [
      "***VALIDATION***:\n",
      "average correlation: 0.91\n",
      "average r2: 0.82\n",
      "---do_investigations. cluster index : 4---\n"
     ]
    },
    {
     "data": {
      "application/vnd.jupyter.widget-view+json": {
       "model_id": "7436f91b60e944a5af78e6a0f9be85ce",
       "version_major": 2,
       "version_minor": 0
      },
      "text/plain": [
       "IntProgress(value=0, max=147)"
      ]
     },
     "metadata": {},
     "output_type": "display_data"
    },
    {
     "name": "stdout",
     "output_type": "stream",
     "text": [
      "Epoch 1/20\n",
      "368/368 [==============================] - 5s 6ms/step - loss: 0.2628 - mean_absolute_error: 0.3602 - val_loss: 0.1730 - val_mean_absolute_error: 0.2897\n",
      "Epoch 2/20\n",
      "368/368 [==============================] - 2s 5ms/step - loss: 0.1932 - mean_absolute_error: 0.3040 - val_loss: 0.1697 - val_mean_absolute_error: 0.2820\n",
      "Epoch 3/20\n",
      "368/368 [==============================] - 2s 5ms/step - loss: 0.1923 - mean_absolute_error: 0.3018 - val_loss: 0.1699 - val_mean_absolute_error: 0.2836\n",
      "Epoch 4/20\n",
      "368/368 [==============================] - 2s 5ms/step - loss: 0.1921 - mean_absolute_error: 0.3013 - val_loss: 0.1745 - val_mean_absolute_error: 0.2883\n",
      "***TRAIN***:\n",
      "correlation related to cluster centre: 0.90\n",
      "r2 score related to cluster centre: 0.81\n",
      "***VALIDATION***:\n",
      "correlation related to cluster centre: 0.91\n",
      "r2 score related to cluster centre: 0.83\n"
     ]
    },
    {
     "data": {
      "application/vnd.jupyter.widget-view+json": {
       "model_id": "88850b2cf2ff4da8b9640f8687e19940",
       "version_major": 2,
       "version_minor": 0
      },
      "text/plain": [
       "IntProgress(value=0, max=147)"
      ]
     },
     "metadata": {},
     "output_type": "display_data"
    },
    {
     "name": "stdout",
     "output_type": "stream",
     "text": [
      "***VALIDATION***:\n",
      "average correlation: 0.91\n",
      "average r2: 0.80\n",
      "---do_investigations. cluster index : 5---\n"
     ]
    },
    {
     "data": {
      "application/vnd.jupyter.widget-view+json": {
       "model_id": "c694f238117e4ace89e6fab9825bed59",
       "version_major": 2,
       "version_minor": 0
      },
      "text/plain": [
       "IntProgress(value=0, max=32)"
      ]
     },
     "metadata": {},
     "output_type": "display_data"
    },
    {
     "name": "stdout",
     "output_type": "stream",
     "text": [
      "Epoch 1/20\n",
      "368/368 [==============================] - 4s 6ms/step - loss: 0.2728 - mean_absolute_error: 0.3511 - val_loss: 0.1699 - val_mean_absolute_error: 0.2765\n",
      "Epoch 2/20\n",
      "368/368 [==============================] - 2s 5ms/step - loss: 0.1862 - mean_absolute_error: 0.2939 - val_loss: 0.1752 - val_mean_absolute_error: 0.2849\n",
      "Epoch 3/20\n",
      "368/368 [==============================] - 2s 5ms/step - loss: 0.1855 - mean_absolute_error: 0.2929 - val_loss: 0.1706 - val_mean_absolute_error: 0.2708\n",
      "***TRAIN***:\n",
      "correlation related to cluster centre: 0.90\n",
      "r2 score related to cluster centre: 0.81\n",
      "***VALIDATION***:\n",
      "correlation related to cluster centre: 0.91\n",
      "r2 score related to cluster centre: 0.83\n"
     ]
    },
    {
     "data": {
      "application/vnd.jupyter.widget-view+json": {
       "model_id": "848619bfda58467d9e9d8e6d98335616",
       "version_major": 2,
       "version_minor": 0
      },
      "text/plain": [
       "IntProgress(value=0, max=32)"
      ]
     },
     "metadata": {},
     "output_type": "display_data"
    },
    {
     "name": "stdout",
     "output_type": "stream",
     "text": [
      "***VALIDATION***:\n",
      "average correlation: 0.91\n",
      "average r2: 0.83\n",
      "---do_investigations. cluster index : 6---\n"
     ]
    },
    {
     "data": {
      "application/vnd.jupyter.widget-view+json": {
       "model_id": "198ee180845d46abbb16943cdf1b7113",
       "version_major": 2,
       "version_minor": 0
      },
      "text/plain": [
       "IntProgress(value=0, max=82)"
      ]
     },
     "metadata": {},
     "output_type": "display_data"
    },
    {
     "name": "stdout",
     "output_type": "stream",
     "text": [
      "Epoch 1/20\n",
      "368/368 [==============================] - 4s 6ms/step - loss: 0.2655 - mean_absolute_error: 0.3444 - val_loss: 0.1708 - val_mean_absolute_error: 0.2803\n",
      "Epoch 2/20\n",
      "368/368 [==============================] - 2s 5ms/step - loss: 0.2100 - mean_absolute_error: 0.3002 - val_loss: 0.1690 - val_mean_absolute_error: 0.2760\n",
      "Epoch 3/20\n",
      "368/368 [==============================] - 2s 5ms/step - loss: 0.2093 - mean_absolute_error: 0.2991 - val_loss: 0.1705 - val_mean_absolute_error: 0.2916\n",
      "Epoch 4/20\n",
      "368/368 [==============================] - 2s 5ms/step - loss: 0.2093 - mean_absolute_error: 0.2988 - val_loss: 0.1686 - val_mean_absolute_error: 0.2821\n",
      "Epoch 5/20\n",
      "368/368 [==============================] - 2s 5ms/step - loss: 0.2088 - mean_absolute_error: 0.2985 - val_loss: 0.1670 - val_mean_absolute_error: 0.2771\n",
      "Epoch 6/20\n",
      "368/368 [==============================] - 2s 5ms/step - loss: 0.2093 - mean_absolute_error: 0.2985 - val_loss: 0.1690 - val_mean_absolute_error: 0.2787\n",
      "Epoch 7/20\n",
      "368/368 [==============================] - 2s 5ms/step - loss: 0.2086 - mean_absolute_error: 0.2982 - val_loss: 0.1672 - val_mean_absolute_error: 0.2718\n",
      "***TRAIN***:\n",
      "correlation related to cluster centre: 0.89\n",
      "r2 score related to cluster centre: 0.79\n",
      "***VALIDATION***:\n",
      "correlation related to cluster centre: 0.91\n",
      "r2 score related to cluster centre: 0.82\n"
     ]
    },
    {
     "data": {
      "application/vnd.jupyter.widget-view+json": {
       "model_id": "3f721c0b8f2647a4bd7665f09b48c456",
       "version_major": 2,
       "version_minor": 0
      },
      "text/plain": [
       "IntProgress(value=0, max=82)"
      ]
     },
     "metadata": {},
     "output_type": "display_data"
    },
    {
     "name": "stdout",
     "output_type": "stream",
     "text": [
      "***VALIDATION***:\n",
      "average correlation: 0.91\n",
      "average r2: 0.82\n",
      "---do_investigations. cluster index : 7---\n"
     ]
    },
    {
     "data": {
      "application/vnd.jupyter.widget-view+json": {
       "model_id": "f758a1456fe94793b27f57c66ed9b96a",
       "version_major": 2,
       "version_minor": 0
      },
      "text/plain": [
       "IntProgress(value=0, max=56)"
      ]
     },
     "metadata": {},
     "output_type": "display_data"
    },
    {
     "name": "stdout",
     "output_type": "stream",
     "text": [
      "Epoch 1/20\n",
      "368/368 [==============================] - 4s 6ms/step - loss: 0.2620 - mean_absolute_error: 0.3580 - val_loss: 0.1837 - val_mean_absolute_error: 0.2906\n",
      "Epoch 2/20\n",
      "368/368 [==============================] - 2s 5ms/step - loss: 0.2074 - mean_absolute_error: 0.3129 - val_loss: 0.1810 - val_mean_absolute_error: 0.2906\n",
      "Epoch 3/20\n",
      "368/368 [==============================] - 2s 5ms/step - loss: 0.2054 - mean_absolute_error: 0.3107 - val_loss: 0.1793 - val_mean_absolute_error: 0.2926\n",
      "Epoch 4/20\n",
      "368/368 [==============================] - 2s 5ms/step - loss: 0.2053 - mean_absolute_error: 0.3113 - val_loss: 0.1796 - val_mean_absolute_error: 0.2874\n",
      "Epoch 5/20\n",
      "368/368 [==============================] - 2s 5ms/step - loss: 0.2045 - mean_absolute_error: 0.3103 - val_loss: 0.1785 - val_mean_absolute_error: 0.2913\n",
      "Epoch 6/20\n",
      "368/368 [==============================] - 2s 5ms/step - loss: 0.2046 - mean_absolute_error: 0.3104 - val_loss: 0.1805 - val_mean_absolute_error: 0.2865\n",
      "Epoch 7/20\n",
      "368/368 [==============================] - 2s 5ms/step - loss: 0.2040 - mean_absolute_error: 0.3098 - val_loss: 0.1793 - val_mean_absolute_error: 0.2879\n",
      "***TRAIN***:\n",
      "correlation related to cluster centre: 0.89\n",
      "r2 score related to cluster centre: 0.80\n",
      "***VALIDATION***:\n",
      "correlation related to cluster centre: 0.91\n",
      "r2 score related to cluster centre: 0.82\n"
     ]
    },
    {
     "data": {
      "application/vnd.jupyter.widget-view+json": {
       "model_id": "5d71ee58abba486ea023b2a83bce38e4",
       "version_major": 2,
       "version_minor": 0
      },
      "text/plain": [
       "IntProgress(value=0, max=56)"
      ]
     },
     "metadata": {},
     "output_type": "display_data"
    },
    {
     "name": "stdout",
     "output_type": "stream",
     "text": [
      "***VALIDATION***:\n",
      "average correlation: 0.91\n",
      "average r2: 0.82\n",
      "---do_investigations. cluster index : 8---\n"
     ]
    },
    {
     "data": {
      "application/vnd.jupyter.widget-view+json": {
       "model_id": "c2ec3ee9af234a09ac085e9179c408a3",
       "version_major": 2,
       "version_minor": 0
      },
      "text/plain": [
       "IntProgress(value=0, max=138)"
      ]
     },
     "metadata": {},
     "output_type": "display_data"
    },
    {
     "name": "stdout",
     "output_type": "stream",
     "text": [
      "Epoch 1/20\n",
      "368/368 [==============================] - 4s 6ms/step - loss: 0.2619 - mean_absolute_error: 0.3476 - val_loss: 0.1410 - val_mean_absolute_error: 0.2710\n",
      "Epoch 2/20\n",
      "368/368 [==============================] - 2s 5ms/step - loss: 0.1926 - mean_absolute_error: 0.3002 - val_loss: 0.1406 - val_mean_absolute_error: 0.2722\n",
      "Epoch 3/20\n",
      "368/368 [==============================] - 2s 5ms/step - loss: 0.1925 - mean_absolute_error: 0.2999 - val_loss: 0.1405 - val_mean_absolute_error: 0.2710\n",
      "Epoch 4/20\n",
      "368/368 [==============================] - 2s 5ms/step - loss: 0.1915 - mean_absolute_error: 0.2989 - val_loss: 0.1385 - val_mean_absolute_error: 0.2620\n",
      "Epoch 5/20\n",
      "368/368 [==============================] - 2s 5ms/step - loss: 0.1921 - mean_absolute_error: 0.2991 - val_loss: 0.1413 - val_mean_absolute_error: 0.2735\n",
      "Epoch 6/20\n",
      "368/368 [==============================] - 2s 5ms/step - loss: 0.1920 - mean_absolute_error: 0.2980 - val_loss: 0.1386 - val_mean_absolute_error: 0.2636\n",
      "***TRAIN***:\n",
      "correlation related to cluster centre: 0.90\n",
      "r2 score related to cluster centre: 0.81\n",
      "***VALIDATION***:\n",
      "correlation related to cluster centre: 0.91\n",
      "r2 score related to cluster centre: 0.83\n"
     ]
    },
    {
     "data": {
      "application/vnd.jupyter.widget-view+json": {
       "model_id": "5c4f905292514b608c23702aed6f9044",
       "version_major": 2,
       "version_minor": 0
      },
      "text/plain": [
       "IntProgress(value=0, max=138)"
      ]
     },
     "metadata": {},
     "output_type": "display_data"
    },
    {
     "name": "stdout",
     "output_type": "stream",
     "text": [
      "***VALIDATION***:\n",
      "average correlation: 0.91\n",
      "average r2: 0.83\n",
      "---do_investigations. cluster index : 9---\n"
     ]
    },
    {
     "data": {
      "application/vnd.jupyter.widget-view+json": {
       "model_id": "df3b46cf6c5e4c339c5f988434c5d57f",
       "version_major": 2,
       "version_minor": 0
      },
      "text/plain": [
       "IntProgress(value=0, max=145)"
      ]
     },
     "metadata": {},
     "output_type": "display_data"
    },
    {
     "name": "stdout",
     "output_type": "stream",
     "text": [
      "Epoch 1/20\n",
      "368/368 [==============================] - 4s 6ms/step - loss: 0.2746 - mean_absolute_error: 0.3349 - val_loss: 0.1959 - val_mean_absolute_error: 0.2876\n",
      "Epoch 2/20\n",
      "368/368 [==============================] - 2s 5ms/step - loss: 0.2082 - mean_absolute_error: 0.2906 - val_loss: 0.1890 - val_mean_absolute_error: 0.2822\n",
      "Epoch 3/20\n",
      "368/368 [==============================] - 2s 5ms/step - loss: 0.2071 - mean_absolute_error: 0.2900 - val_loss: 0.1853 - val_mean_absolute_error: 0.2811\n",
      "Epoch 4/20\n",
      "368/368 [==============================] - 2s 5ms/step - loss: 0.2069 - mean_absolute_error: 0.2887 - val_loss: 0.1890 - val_mean_absolute_error: 0.2828\n",
      "Epoch 5/20\n",
      "368/368 [==============================] - 2s 5ms/step - loss: 0.2057 - mean_absolute_error: 0.2884 - val_loss: 0.1950 - val_mean_absolute_error: 0.2905\n",
      "***TRAIN***:\n",
      "correlation related to cluster centre: 0.89\n",
      "r2 score related to cluster centre: 0.79\n",
      "***VALIDATION***:\n",
      "correlation related to cluster centre: 0.91\n",
      "r2 score related to cluster centre: 0.81\n"
     ]
    },
    {
     "data": {
      "application/vnd.jupyter.widget-view+json": {
       "model_id": "a552e4992ad0412fa83c0dc20f7ff409",
       "version_major": 2,
       "version_minor": 0
      },
      "text/plain": [
       "IntProgress(value=0, max=145)"
      ]
     },
     "metadata": {},
     "output_type": "display_data"
    },
    {
     "name": "stdout",
     "output_type": "stream",
     "text": [
      "***VALIDATION***:\n",
      "average correlation: 0.90\n",
      "average r2: 0.80\n",
      "---do_investigations. cluster index : 10---\n"
     ]
    },
    {
     "data": {
      "application/vnd.jupyter.widget-view+json": {
       "model_id": "4f76c564c48a4b7eb8f71f8e953b5072",
       "version_major": 2,
       "version_minor": 0
      },
      "text/plain": [
       "IntProgress(value=0, max=73)"
      ]
     },
     "metadata": {},
     "output_type": "display_data"
    },
    {
     "name": "stdout",
     "output_type": "stream",
     "text": [
      "Epoch 1/20\n",
      "368/368 [==============================] - 4s 6ms/step - loss: 0.2531 - mean_absolute_error: 0.3532 - val_loss: 0.1439 - val_mean_absolute_error: 0.2707\n",
      "Epoch 2/20\n",
      "368/368 [==============================] - 2s 5ms/step - loss: 0.1896 - mean_absolute_error: 0.3021 - val_loss: 0.1455 - val_mean_absolute_error: 0.2753\n",
      "Epoch 3/20\n",
      "368/368 [==============================] - 2s 5ms/step - loss: 0.1888 - mean_absolute_error: 0.3008 - val_loss: 0.1459 - val_mean_absolute_error: 0.2786\n",
      "***TRAIN***:\n",
      "correlation related to cluster centre: 0.90\n",
      "r2 score related to cluster centre: 0.81\n",
      "***VALIDATION***:\n",
      "correlation related to cluster centre: 0.91\n",
      "r2 score related to cluster centre: 0.83\n"
     ]
    },
    {
     "data": {
      "application/vnd.jupyter.widget-view+json": {
       "model_id": "b5352e17a2944fd59d0a55e1ec98b2ca",
       "version_major": 2,
       "version_minor": 0
      },
      "text/plain": [
       "IntProgress(value=0, max=73)"
      ]
     },
     "metadata": {},
     "output_type": "display_data"
    },
    {
     "name": "stdout",
     "output_type": "stream",
     "text": [
      "***VALIDATION***:\n",
      "average correlation: 0.91\n",
      "average r2: 0.80\n",
      "---do_investigations. cluster index : 11---\n"
     ]
    },
    {
     "data": {
      "application/vnd.jupyter.widget-view+json": {
       "model_id": "19829fa347bc42d5bf6e44f02ca79214",
       "version_major": 2,
       "version_minor": 0
      },
      "text/plain": [
       "IntProgress(value=0, max=566)"
      ]
     },
     "metadata": {},
     "output_type": "display_data"
    },
    {
     "name": "stdout",
     "output_type": "stream",
     "text": [
      "Epoch 1/20\n",
      "368/368 [==============================] - 4s 6ms/step - loss: 0.2799 - mean_absolute_error: 0.3593 - val_loss: 0.2069 - val_mean_absolute_error: 0.2968\n",
      "Epoch 2/20\n",
      "368/368 [==============================] - 2s 5ms/step - loss: 0.2045 - mean_absolute_error: 0.3033 - val_loss: 0.2060 - val_mean_absolute_error: 0.2985\n",
      "Epoch 3/20\n",
      "368/368 [==============================] - 2s 5ms/step - loss: 0.2043 - mean_absolute_error: 0.3027 - val_loss: 0.2061 - val_mean_absolute_error: 0.3023\n",
      "Epoch 4/20\n",
      "368/368 [==============================] - 2s 5ms/step - loss: 0.2037 - mean_absolute_error: 0.3021 - val_loss: 0.2139 - val_mean_absolute_error: 0.3110\n",
      "***TRAIN***:\n",
      "correlation related to cluster centre: 0.89\n",
      "r2 score related to cluster centre: 0.79\n",
      "***VALIDATION***:\n",
      "correlation related to cluster centre: 0.91\n",
      "r2 score related to cluster centre: 0.81\n"
     ]
    },
    {
     "data": {
      "application/vnd.jupyter.widget-view+json": {
       "model_id": "ef77f2a0d5da4ad2806044c976460cb5",
       "version_major": 2,
       "version_minor": 0
      },
      "text/plain": [
       "IntProgress(value=0, max=566)"
      ]
     },
     "metadata": {},
     "output_type": "display_data"
    },
    {
     "name": "stdout",
     "output_type": "stream",
     "text": [
      "***VALIDATION***:\n",
      "average correlation: 0.90\n",
      "average r2: 0.76\n",
      "---do_investigations. cluster index : 12---\n"
     ]
    },
    {
     "data": {
      "application/vnd.jupyter.widget-view+json": {
       "model_id": "e912e77329bb4db6813ee23acc157f62",
       "version_major": 2,
       "version_minor": 0
      },
      "text/plain": [
       "IntProgress(value=0, max=36)"
      ]
     },
     "metadata": {},
     "output_type": "display_data"
    },
    {
     "name": "stdout",
     "output_type": "stream",
     "text": [
      "Epoch 1/20\n",
      "368/368 [==============================] - 5s 8ms/step - loss: 0.2574 - mean_absolute_error: 0.3532 - val_loss: 0.1821 - val_mean_absolute_error: 0.3015\n",
      "Epoch 2/20\n",
      "368/368 [==============================] - 2s 5ms/step - loss: 0.2054 - mean_absolute_error: 0.3113 - val_loss: 0.1827 - val_mean_absolute_error: 0.2964\n",
      "Epoch 3/20\n",
      "368/368 [==============================] - 2s 5ms/step - loss: 0.2049 - mean_absolute_error: 0.3110 - val_loss: 0.1796 - val_mean_absolute_error: 0.2975\n",
      "Epoch 4/20\n",
      "368/368 [==============================] - 2s 5ms/step - loss: 0.2038 - mean_absolute_error: 0.3098 - val_loss: 0.1756 - val_mean_absolute_error: 0.2919\n",
      "Epoch 5/20\n",
      "368/368 [==============================] - 2s 5ms/step - loss: 0.2043 - mean_absolute_error: 0.3099 - val_loss: 0.1773 - val_mean_absolute_error: 0.2921\n",
      "Epoch 6/20\n",
      "368/368 [==============================] - 2s 5ms/step - loss: 0.2041 - mean_absolute_error: 0.3097 - val_loss: 0.1745 - val_mean_absolute_error: 0.2886\n",
      "Epoch 7/20\n",
      "368/368 [==============================] - 2s 5ms/step - loss: 0.2042 - mean_absolute_error: 0.3096 - val_loss: 0.1750 - val_mean_absolute_error: 0.2901\n",
      "Epoch 8/20\n",
      "368/368 [==============================] - 2s 5ms/step - loss: 0.2038 - mean_absolute_error: 0.3097 - val_loss: 0.1752 - val_mean_absolute_error: 0.2889\n",
      "***TRAIN***:\n",
      "correlation related to cluster centre: 0.89\n",
      "r2 score related to cluster centre: 0.80\n",
      "***VALIDATION***:\n",
      "correlation related to cluster centre: 0.91\n",
      "r2 score related to cluster centre: 0.82\n"
     ]
    },
    {
     "data": {
      "application/vnd.jupyter.widget-view+json": {
       "model_id": "6ef7e2cc82d645979fee219ead13b327",
       "version_major": 2,
       "version_minor": 0
      },
      "text/plain": [
       "IntProgress(value=0, max=36)"
      ]
     },
     "metadata": {},
     "output_type": "display_data"
    },
    {
     "name": "stdout",
     "output_type": "stream",
     "text": [
      "***VALIDATION***:\n",
      "average correlation: 0.90\n",
      "average r2: 0.81\n",
      "---do_investigations. cluster index : 13---\n"
     ]
    },
    {
     "data": {
      "application/vnd.jupyter.widget-view+json": {
       "model_id": "55572c6d71c44758955c780ccdb550eb",
       "version_major": 2,
       "version_minor": 0
      },
      "text/plain": [
       "IntProgress(value=0, max=49)"
      ]
     },
     "metadata": {},
     "output_type": "display_data"
    },
    {
     "name": "stdout",
     "output_type": "stream",
     "text": [
      "Epoch 1/20\n",
      "368/368 [==============================] - 4s 6ms/step - loss: 0.2007 - mean_absolute_error: 0.2590 - val_loss: 0.1603 - val_mean_absolute_error: 0.1668\n",
      "Epoch 2/20\n",
      "368/368 [==============================] - 2s 5ms/step - loss: 0.1222 - mean_absolute_error: 0.2035 - val_loss: 0.1545 - val_mean_absolute_error: 0.1671\n",
      "Epoch 3/20\n",
      "368/368 [==============================] - 2s 5ms/step - loss: 0.1175 - mean_absolute_error: 0.2018 - val_loss: 0.1505 - val_mean_absolute_error: 0.1684\n",
      "Epoch 4/20\n",
      "368/368 [==============================] - 2s 5ms/step - loss: 0.1170 - mean_absolute_error: 0.2015 - val_loss: 0.1478 - val_mean_absolute_error: 0.1653\n",
      "Epoch 5/20\n",
      "368/368 [==============================] - 2s 5ms/step - loss: 0.1145 - mean_absolute_error: 0.1987 - val_loss: 0.1450 - val_mean_absolute_error: 0.1621\n",
      "Epoch 6/20\n",
      "368/368 [==============================] - 2s 5ms/step - loss: 0.1129 - mean_absolute_error: 0.1962 - val_loss: 0.1443 - val_mean_absolute_error: 0.1628\n",
      "Epoch 7/20\n",
      "368/368 [==============================] - 2s 5ms/step - loss: 0.1128 - mean_absolute_error: 0.1988 - val_loss: 0.1438 - val_mean_absolute_error: 0.1644\n",
      "Epoch 8/20\n",
      "368/368 [==============================] - 2s 5ms/step - loss: 0.1146 - mean_absolute_error: 0.1995 - val_loss: 0.1435 - val_mean_absolute_error: 0.1631\n",
      "Epoch 9/20\n",
      "368/368 [==============================] - 2s 5ms/step - loss: 0.1144 - mean_absolute_error: 0.1978 - val_loss: 0.1436 - val_mean_absolute_error: 0.1644\n",
      "Epoch 10/20\n",
      "368/368 [==============================] - 2s 5ms/step - loss: 0.1116 - mean_absolute_error: 0.1971 - val_loss: 0.1442 - val_mean_absolute_error: 0.1662\n",
      "***TRAIN***:\n",
      "correlation related to cluster centre: 0.94\n",
      "r2 score related to cluster centre: 0.89\n",
      "***VALIDATION***:\n",
      "correlation related to cluster centre: 0.89\n",
      "r2 score related to cluster centre: 0.78\n"
     ]
    },
    {
     "data": {
      "application/vnd.jupyter.widget-view+json": {
       "model_id": "9ce288a411a14103bb6a401c346dfee2",
       "version_major": 2,
       "version_minor": 0
      },
      "text/plain": [
       "IntProgress(value=0, max=49)"
      ]
     },
     "metadata": {},
     "output_type": "display_data"
    },
    {
     "name": "stdout",
     "output_type": "stream",
     "text": [
      "***VALIDATION***:\n",
      "average correlation: 0.89\n",
      "average r2: 0.72\n",
      "---do_investigations. cluster index : 14---\n"
     ]
    },
    {
     "data": {
      "application/vnd.jupyter.widget-view+json": {
       "model_id": "da77942fbb024153bf26ca5e5792a560",
       "version_major": 2,
       "version_minor": 0
      },
      "text/plain": [
       "IntProgress(value=0, max=22)"
      ]
     },
     "metadata": {},
     "output_type": "display_data"
    },
    {
     "name": "stdout",
     "output_type": "stream",
     "text": [
      "Epoch 1/20\n",
      "368/368 [==============================] - 4s 6ms/step - loss: 0.2624 - mean_absolute_error: 0.3538 - val_loss: 0.1800 - val_mean_absolute_error: 0.2880\n",
      "Epoch 2/20\n",
      "368/368 [==============================] - 2s 5ms/step - loss: 0.2020 - mean_absolute_error: 0.3095 - val_loss: 0.1805 - val_mean_absolute_error: 0.2892\n",
      "Epoch 3/20\n",
      "368/368 [==============================] - 2s 5ms/step - loss: 0.2017 - mean_absolute_error: 0.3095 - val_loss: 0.1792 - val_mean_absolute_error: 0.2867\n",
      "Epoch 4/20\n",
      "368/368 [==============================] - 2s 5ms/step - loss: 0.2001 - mean_absolute_error: 0.3078 - val_loss: 0.1781 - val_mean_absolute_error: 0.2862\n",
      "Epoch 5/20\n",
      "368/368 [==============================] - 2s 5ms/step - loss: 0.2009 - mean_absolute_error: 0.3082 - val_loss: 0.1822 - val_mean_absolute_error: 0.2939\n",
      "Epoch 6/20\n",
      "368/368 [==============================] - 2s 5ms/step - loss: 0.2000 - mean_absolute_error: 0.3073 - val_loss: 0.1784 - val_mean_absolute_error: 0.2843\n",
      "***TRAIN***:\n",
      "correlation related to cluster centre: 0.90\n",
      "r2 score related to cluster centre: 0.80\n",
      "***VALIDATION***:\n",
      "correlation related to cluster centre: 0.91\n",
      "r2 score related to cluster centre: 0.82\n"
     ]
    },
    {
     "data": {
      "application/vnd.jupyter.widget-view+json": {
       "model_id": "873e6eb324814b158f9212eca54364b2",
       "version_major": 2,
       "version_minor": 0
      },
      "text/plain": [
       "IntProgress(value=0, max=22)"
      ]
     },
     "metadata": {},
     "output_type": "display_data"
    },
    {
     "name": "stdout",
     "output_type": "stream",
     "text": [
      "***VALIDATION***:\n",
      "average correlation: 0.91\n",
      "average r2: 0.82\n",
      "weighted_average_correlation: 0.90\n",
      "weighted_average_r2_score: 0.78\n",
      "bad clusters rate: 0.80%\n",
      "------------------------------------------------------\n"
     ]
    }
   ],
   "source": [
    "first_path = r\"C:\\Coding\\final-qualifying-work_2023-2024\\ClusteringCpp\\output\\cmeans 5 0.1 20.txt\"\n",
    "second_path = r\"C:\\Coding\\final-qualifying-work_2023-2024\\ClusteringCpp\\output\\cmeans 15 0.1 20.txt\"\n",
    "third_path = r\"C:\\Coding\\final-qualifying-work_2023-2024\\ClusteringCpp\\output\\cmeans 30 0.1 20.txt\"\n",
    "fourth_path = r\"C:\\Coding\\final-qualifying-work_2023-2024\\ClusteringCpp\\output\\cmeans 60 0.1 5.txt\"\n",
    "\n",
    "output_file = open(\"computational-experiments-output-cmeans.txt\", \"a\")\n",
    "\n",
    "selected_path = second_path\n",
    "\n",
    "print('------------------------------------------------------')\n",
    "output_file.write('------------------------------------------------------\\n')\n",
    "\n",
    "print(f\"lstm {os.path.split(selected_path)[-1]}\")\n",
    "output_file.write(f\"lstm {os.path.split(selected_path)[-1]}\\n\")\n",
    "show_results(lstm_model, get_clusters(selected_path), CONV_WIDTH)\n",
    "\n",
    "print('------------------------------------------------------')\n",
    "output_file.write('------------------------------------------------------\\n')\n",
    "\n",
    "output_file.close()"
   ]
  },
  {
   "cell_type": "code",
   "execution_count": 27,
   "id": "dc1c5325-c9fe-46a7-8e7e-e3a1b384d6a6",
   "metadata": {},
   "outputs": [
    {
     "name": "stdout",
     "output_type": "stream",
     "text": [
      "------------------------------------------------------\n",
      "lstm cmeans 30 0.1 20.txt\n",
      "---do_investigations. cluster index : 0---\n"
     ]
    },
    {
     "data": {
      "application/vnd.jupyter.widget-view+json": {
       "model_id": "29cb22e0adc74bd5b0d26ac1a471ec85",
       "version_major": 2,
       "version_minor": 0
      },
      "text/plain": [
       "IntProgress(value=0, max=188)"
      ]
     },
     "metadata": {},
     "output_type": "display_data"
    },
    {
     "name": "stdout",
     "output_type": "stream",
     "text": [
      "Epoch 1/20\n",
      "368/368 [==============================] - 5s 6ms/step - loss: 0.2817 - mean_absolute_error: 0.3350 - val_loss: 0.1997 - val_mean_absolute_error: 0.2781\n",
      "Epoch 2/20\n",
      "368/368 [==============================] - 2s 5ms/step - loss: 0.2079 - mean_absolute_error: 0.2911 - val_loss: 0.1969 - val_mean_absolute_error: 0.2801\n",
      "Epoch 3/20\n",
      "368/368 [==============================] - 2s 5ms/step - loss: 0.2063 - mean_absolute_error: 0.2888 - val_loss: 0.1972 - val_mean_absolute_error: 0.2854\n",
      "Epoch 4/20\n",
      "368/368 [==============================] - 2s 5ms/step - loss: 0.2072 - mean_absolute_error: 0.2887 - val_loss: 0.1981 - val_mean_absolute_error: 0.2756\n",
      "***TRAIN***:\n",
      "correlation related to cluster centre: 0.89\n",
      "r2 score related to cluster centre: 0.79\n",
      "***VALIDATION***:\n",
      "correlation related to cluster centre: 0.90\n",
      "r2 score related to cluster centre: 0.81\n"
     ]
    },
    {
     "data": {
      "application/vnd.jupyter.widget-view+json": {
       "model_id": "66743c0d4e12418f95befce49c002669",
       "version_major": 2,
       "version_minor": 0
      },
      "text/plain": [
       "IntProgress(value=0, max=188)"
      ]
     },
     "metadata": {},
     "output_type": "display_data"
    },
    {
     "name": "stdout",
     "output_type": "stream",
     "text": [
      "***VALIDATION***:\n",
      "average correlation: 0.90\n",
      "average r2: 0.81\n",
      "---do_investigations. cluster index : 1---\n"
     ]
    },
    {
     "data": {
      "application/vnd.jupyter.widget-view+json": {
       "model_id": "d0f0912cb04248a5a6019aeab89b93d4",
       "version_major": 2,
       "version_minor": 0
      },
      "text/plain": [
       "IntProgress(value=0, max=43)"
      ]
     },
     "metadata": {},
     "output_type": "display_data"
    },
    {
     "name": "stdout",
     "output_type": "stream",
     "text": [
      "Epoch 1/20\n",
      "368/368 [==============================] - 5s 6ms/step - loss: 0.2860 - mean_absolute_error: 0.3511 - val_loss: 0.1660 - val_mean_absolute_error: 0.2741\n",
      "Epoch 2/20\n",
      "368/368 [==============================] - 2s 5ms/step - loss: 0.2140 - mean_absolute_error: 0.3020 - val_loss: 0.1617 - val_mean_absolute_error: 0.2653\n",
      "Epoch 3/20\n",
      "368/368 [==============================] - 2s 5ms/step - loss: 0.2127 - mean_absolute_error: 0.3006 - val_loss: 0.1681 - val_mean_absolute_error: 0.2710\n",
      "Epoch 4/20\n",
      "368/368 [==============================] - 2s 5ms/step - loss: 0.2124 - mean_absolute_error: 0.3004 - val_loss: 0.1594 - val_mean_absolute_error: 0.2681\n",
      "Epoch 5/20\n",
      "368/368 [==============================] - 2s 5ms/step - loss: 0.2119 - mean_absolute_error: 0.2995 - val_loss: 0.1604 - val_mean_absolute_error: 0.2659\n",
      "Epoch 6/20\n",
      "368/368 [==============================] - 2s 5ms/step - loss: 0.2114 - mean_absolute_error: 0.2990 - val_loss: 0.1611 - val_mean_absolute_error: 0.2670\n",
      "***TRAIN***:\n",
      "correlation related to cluster centre: 0.89\n",
      "r2 score related to cluster centre: 0.79\n",
      "***VALIDATION***:\n",
      "correlation related to cluster centre: 0.90\n",
      "r2 score related to cluster centre: 0.81\n"
     ]
    },
    {
     "data": {
      "application/vnd.jupyter.widget-view+json": {
       "model_id": "5f26887cb297437f92e485d5109dcfb8",
       "version_major": 2,
       "version_minor": 0
      },
      "text/plain": [
       "IntProgress(value=0, max=43)"
      ]
     },
     "metadata": {},
     "output_type": "display_data"
    },
    {
     "name": "stdout",
     "output_type": "stream",
     "text": [
      "***VALIDATION***:\n",
      "average correlation: 0.90\n",
      "average r2: 0.81\n",
      "---do_investigations. cluster index : 2---\n"
     ]
    },
    {
     "data": {
      "application/vnd.jupyter.widget-view+json": {
       "model_id": "cee482180d024bff934533452d243d94",
       "version_major": 2,
       "version_minor": 0
      },
      "text/plain": [
       "IntProgress(value=0, max=20)"
      ]
     },
     "metadata": {},
     "output_type": "display_data"
    },
    {
     "name": "stdout",
     "output_type": "stream",
     "text": [
      "Epoch 1/20\n",
      "368/368 [==============================] - 5s 6ms/step - loss: 0.2736 - mean_absolute_error: 0.3614 - val_loss: 0.1775 - val_mean_absolute_error: 0.2974\n",
      "Epoch 2/20\n",
      "368/368 [==============================] - 2s 5ms/step - loss: 0.2080 - mean_absolute_error: 0.3091 - val_loss: 0.1746 - val_mean_absolute_error: 0.2804\n",
      "Epoch 3/20\n",
      "368/368 [==============================] - 2s 5ms/step - loss: 0.2064 - mean_absolute_error: 0.3067 - val_loss: 0.1794 - val_mean_absolute_error: 0.2977\n",
      "Epoch 4/20\n",
      "368/368 [==============================] - 2s 5ms/step - loss: 0.2061 - mean_absolute_error: 0.3063 - val_loss: 0.1793 - val_mean_absolute_error: 0.2957\n",
      "***TRAIN***:\n",
      "correlation related to cluster centre: 0.89\n",
      "r2 score related to cluster centre: 0.79\n",
      "***VALIDATION***:\n",
      "correlation related to cluster centre: 0.91\n",
      "r2 score related to cluster centre: 0.82\n"
     ]
    },
    {
     "data": {
      "application/vnd.jupyter.widget-view+json": {
       "model_id": "461466b4ea144a12b942b9754994e2dd",
       "version_major": 2,
       "version_minor": 0
      },
      "text/plain": [
       "IntProgress(value=0, max=20)"
      ]
     },
     "metadata": {},
     "output_type": "display_data"
    },
    {
     "name": "stdout",
     "output_type": "stream",
     "text": [
      "***VALIDATION***:\n",
      "average correlation: 0.91\n",
      "average r2: 0.81\n",
      "---do_investigations. cluster index : 3---\n"
     ]
    },
    {
     "data": {
      "application/vnd.jupyter.widget-view+json": {
       "model_id": "cffad0fb8cc241fa89793834bd821bfc",
       "version_major": 2,
       "version_minor": 0
      },
      "text/plain": [
       "IntProgress(value=0, max=68)"
      ]
     },
     "metadata": {},
     "output_type": "display_data"
    },
    {
     "name": "stdout",
     "output_type": "stream",
     "text": [
      "Epoch 1/20\n",
      "368/368 [==============================] - 4s 6ms/step - loss: 0.2719 - mean_absolute_error: 0.3461 - val_loss: 0.1899 - val_mean_absolute_error: 0.2915\n",
      "Epoch 2/20\n",
      "368/368 [==============================] - 2s 5ms/step - loss: 0.2097 - mean_absolute_error: 0.2951 - val_loss: 0.1753 - val_mean_absolute_error: 0.2793\n",
      "Epoch 3/20\n",
      "368/368 [==============================] - 2s 5ms/step - loss: 0.2079 - mean_absolute_error: 0.2937 - val_loss: 0.1761 - val_mean_absolute_error: 0.2815\n",
      "Epoch 4/20\n",
      "368/368 [==============================] - 2s 5ms/step - loss: 0.2085 - mean_absolute_error: 0.2936 - val_loss: 0.1788 - val_mean_absolute_error: 0.2868\n",
      "***TRAIN***:\n",
      "correlation related to cluster centre: 0.89\n",
      "r2 score related to cluster centre: 0.79\n",
      "***VALIDATION***:\n",
      "correlation related to cluster centre: 0.91\n",
      "r2 score related to cluster centre: 0.82\n"
     ]
    },
    {
     "data": {
      "application/vnd.jupyter.widget-view+json": {
       "model_id": "1ff7165fcee04e8da5098be5fe4d50f1",
       "version_major": 2,
       "version_minor": 0
      },
      "text/plain": [
       "IntProgress(value=0, max=68)"
      ]
     },
     "metadata": {},
     "output_type": "display_data"
    },
    {
     "name": "stdout",
     "output_type": "stream",
     "text": [
      "***VALIDATION***:\n",
      "average correlation: 0.90\n",
      "average r2: 0.81\n",
      "---do_investigations. cluster index : 4---\n"
     ]
    },
    {
     "data": {
      "application/vnd.jupyter.widget-view+json": {
       "model_id": "b9b6095eb1dc491d93286886cb09c869",
       "version_major": 2,
       "version_minor": 0
      },
      "text/plain": [
       "IntProgress(value=0, max=4)"
      ]
     },
     "metadata": {},
     "output_type": "display_data"
    },
    {
     "name": "stdout",
     "output_type": "stream",
     "text": [
      "Epoch 1/20\n",
      "368/368 [==============================] - 4s 6ms/step - loss: 0.2546 - mean_absolute_error: 0.3493 - val_loss: 0.1963 - val_mean_absolute_error: 0.2976\n",
      "Epoch 2/20\n",
      "368/368 [==============================] - 2s 5ms/step - loss: 0.1957 - mean_absolute_error: 0.3037 - val_loss: 0.2000 - val_mean_absolute_error: 0.3005\n",
      "Epoch 3/20\n",
      "368/368 [==============================] - 2s 5ms/step - loss: 0.1954 - mean_absolute_error: 0.3031 - val_loss: 0.1955 - val_mean_absolute_error: 0.2956\n",
      "Epoch 4/20\n",
      "368/368 [==============================] - 2s 5ms/step - loss: 0.1947 - mean_absolute_error: 0.3030 - val_loss: 0.1966 - val_mean_absolute_error: 0.3008\n",
      "Epoch 5/20\n",
      "368/368 [==============================] - 2s 5ms/step - loss: 0.1955 - mean_absolute_error: 0.3029 - val_loss: 0.1969 - val_mean_absolute_error: 0.3021\n",
      "***TRAIN***:\n",
      "correlation related to cluster centre: 0.90\n",
      "r2 score related to cluster centre: 0.81\n",
      "***VALIDATION***:\n",
      "correlation related to cluster centre: 0.91\n",
      "r2 score related to cluster centre: 0.83\n"
     ]
    },
    {
     "data": {
      "application/vnd.jupyter.widget-view+json": {
       "model_id": "199210c5fe1a40c6b0cf5ad3c17a4e67",
       "version_major": 2,
       "version_minor": 0
      },
      "text/plain": [
       "IntProgress(value=0, max=4)"
      ]
     },
     "metadata": {},
     "output_type": "display_data"
    },
    {
     "name": "stdout",
     "output_type": "stream",
     "text": [
      "***VALIDATION***:\n",
      "average correlation: 0.91\n",
      "average r2: 0.83\n",
      "---do_investigations. cluster index : 5---\n"
     ]
    },
    {
     "data": {
      "application/vnd.jupyter.widget-view+json": {
       "model_id": "d8694db061db4050b7e0dbb234e5efcb",
       "version_major": 2,
       "version_minor": 0
      },
      "text/plain": [
       "IntProgress(value=0, max=22)"
      ]
     },
     "metadata": {},
     "output_type": "display_data"
    },
    {
     "name": "stdout",
     "output_type": "stream",
     "text": [
      "Epoch 1/20\n",
      "368/368 [==============================] - 4s 6ms/step - loss: 0.2731 - mean_absolute_error: 0.3619 - val_loss: 0.1796 - val_mean_absolute_error: 0.2965\n",
      "Epoch 2/20\n",
      "368/368 [==============================] - 2s 5ms/step - loss: 0.2051 - mean_absolute_error: 0.3109 - val_loss: 0.1739 - val_mean_absolute_error: 0.2873\n",
      "Epoch 3/20\n",
      "368/368 [==============================] - 2s 5ms/step - loss: 0.2044 - mean_absolute_error: 0.3097 - val_loss: 0.1763 - val_mean_absolute_error: 0.2869\n",
      "Epoch 4/20\n",
      "368/368 [==============================] - 2s 5ms/step - loss: 0.2040 - mean_absolute_error: 0.3100 - val_loss: 0.1791 - val_mean_absolute_error: 0.2821\n",
      "***TRAIN***:\n",
      "correlation related to cluster centre: 0.89\n",
      "r2 score related to cluster centre: 0.79\n",
      "***VALIDATION***:\n",
      "correlation related to cluster centre: 0.91\n",
      "r2 score related to cluster centre: 0.82\n"
     ]
    },
    {
     "data": {
      "application/vnd.jupyter.widget-view+json": {
       "model_id": "20bf0abb1a5b4db085a8b00c21faced6",
       "version_major": 2,
       "version_minor": 0
      },
      "text/plain": [
       "IntProgress(value=0, max=22)"
      ]
     },
     "metadata": {},
     "output_type": "display_data"
    },
    {
     "name": "stdout",
     "output_type": "stream",
     "text": [
      "***VALIDATION***:\n",
      "average correlation: 0.91\n",
      "average r2: 0.82\n",
      "---do_investigations. cluster index : 6---\n"
     ]
    },
    {
     "data": {
      "application/vnd.jupyter.widget-view+json": {
       "model_id": "5bff29b1130047a494c2da43869c8f95",
       "version_major": 2,
       "version_minor": 0
      },
      "text/plain": [
       "IntProgress(value=0, max=20)"
      ]
     },
     "metadata": {},
     "output_type": "display_data"
    },
    {
     "name": "stdout",
     "output_type": "stream",
     "text": [
      "Epoch 1/20\n",
      "368/368 [==============================] - 4s 6ms/step - loss: 0.2673 - mean_absolute_error: 0.3615 - val_loss: 0.1796 - val_mean_absolute_error: 0.3041\n",
      "Epoch 2/20\n",
      "368/368 [==============================] - 2s 5ms/step - loss: 0.2041 - mean_absolute_error: 0.3150 - val_loss: 0.1816 - val_mean_absolute_error: 0.3022\n",
      "Epoch 3/20\n",
      "368/368 [==============================] - 2s 5ms/step - loss: 0.2037 - mean_absolute_error: 0.3135 - val_loss: 0.1815 - val_mean_absolute_error: 0.3052\n",
      "***TRAIN***:\n",
      "correlation related to cluster centre: 0.89\n",
      "r2 score related to cluster centre: 0.80\n",
      "***VALIDATION***:\n",
      "correlation related to cluster centre: 0.91\n",
      "r2 score related to cluster centre: 0.82\n"
     ]
    },
    {
     "data": {
      "application/vnd.jupyter.widget-view+json": {
       "model_id": "f546e3339e81413fadfb9bfca65b6cf4",
       "version_major": 2,
       "version_minor": 0
      },
      "text/plain": [
       "IntProgress(value=0, max=20)"
      ]
     },
     "metadata": {},
     "output_type": "display_data"
    },
    {
     "name": "stdout",
     "output_type": "stream",
     "text": [
      "***VALIDATION***:\n",
      "average correlation: 0.91\n",
      "average r2: 0.82\n",
      "---do_investigations. cluster index : 7---\n"
     ]
    },
    {
     "data": {
      "application/vnd.jupyter.widget-view+json": {
       "model_id": "7bfbbe044a404e91889d324255d156e1",
       "version_major": 2,
       "version_minor": 0
      },
      "text/plain": [
       "IntProgress(value=0, max=8)"
      ]
     },
     "metadata": {},
     "output_type": "display_data"
    },
    {
     "name": "stdout",
     "output_type": "stream",
     "text": [
      "Epoch 1/20\n",
      "368/368 [==============================] - 4s 6ms/step - loss: 0.2779 - mean_absolute_error: 0.3579 - val_loss: 0.1756 - val_mean_absolute_error: 0.2909\n",
      "Epoch 2/20\n",
      "368/368 [==============================] - 2s 5ms/step - loss: 0.2034 - mean_absolute_error: 0.3052 - val_loss: 0.1716 - val_mean_absolute_error: 0.2848\n",
      "Epoch 3/20\n",
      "368/368 [==============================] - 2s 5ms/step - loss: 0.2036 - mean_absolute_error: 0.3053 - val_loss: 0.1720 - val_mean_absolute_error: 0.2820\n",
      "Epoch 4/20\n",
      "368/368 [==============================] - 2s 5ms/step - loss: 0.2018 - mean_absolute_error: 0.3037 - val_loss: 0.1690 - val_mean_absolute_error: 0.2712\n",
      "Epoch 5/20\n",
      "368/368 [==============================] - 2s 5ms/step - loss: 0.2020 - mean_absolute_error: 0.3038 - val_loss: 0.1750 - val_mean_absolute_error: 0.2868\n",
      "Epoch 6/20\n",
      "368/368 [==============================] - 2s 5ms/step - loss: 0.2018 - mean_absolute_error: 0.3041 - val_loss: 0.1715 - val_mean_absolute_error: 0.2820\n",
      "***TRAIN***:\n",
      "correlation related to cluster centre: 0.90\n",
      "r2 score related to cluster centre: 0.80\n",
      "***VALIDATION***:\n",
      "correlation related to cluster centre: 0.91\n",
      "r2 score related to cluster centre: 0.82\n"
     ]
    },
    {
     "data": {
      "application/vnd.jupyter.widget-view+json": {
       "model_id": "ecee16366dff49b390a2cd308dcd169f",
       "version_major": 2,
       "version_minor": 0
      },
      "text/plain": [
       "IntProgress(value=0, max=8)"
      ]
     },
     "metadata": {},
     "output_type": "display_data"
    },
    {
     "name": "stdout",
     "output_type": "stream",
     "text": [
      "***VALIDATION***:\n",
      "average correlation: 0.91\n",
      "average r2: 0.81\n",
      "---do_investigations. cluster index : 8---\n"
     ]
    },
    {
     "data": {
      "application/vnd.jupyter.widget-view+json": {
       "model_id": "34abee2e242b427791f5f23eb77d49e2",
       "version_major": 2,
       "version_minor": 0
      },
      "text/plain": [
       "IntProgress(value=0, max=4291)"
      ]
     },
     "metadata": {},
     "output_type": "display_data"
    },
    {
     "name": "stdout",
     "output_type": "stream",
     "text": [
      "Epoch 1/20\n",
      "368/368 [==============================] - 9s 6ms/step - loss: 0.1953 - mean_absolute_error: 0.2785 - val_loss: 0.1599 - val_mean_absolute_error: 0.2062\n",
      "Epoch 2/20\n",
      "368/368 [==============================] - 2s 5ms/step - loss: 0.1268 - mean_absolute_error: 0.2172 - val_loss: 0.1536 - val_mean_absolute_error: 0.1993\n",
      "Epoch 3/20\n",
      "368/368 [==============================] - 2s 5ms/step - loss: 0.1250 - mean_absolute_error: 0.2145 - val_loss: 0.1542 - val_mean_absolute_error: 0.2008\n",
      "Epoch 4/20\n",
      "368/368 [==============================] - 2s 5ms/step - loss: 0.1242 - mean_absolute_error: 0.2130 - val_loss: 0.1537 - val_mean_absolute_error: 0.1994\n",
      "***TRAIN***:\n",
      "correlation related to cluster centre: 0.94\n",
      "r2 score related to cluster centre: 0.88\n",
      "***VALIDATION***:\n",
      "correlation related to cluster centre: 0.90\n",
      "r2 score related to cluster centre: 0.81\n"
     ]
    },
    {
     "data": {
      "application/vnd.jupyter.widget-view+json": {
       "model_id": "f5c14259313445ec8fe6e06c5c62234d",
       "version_major": 2,
       "version_minor": 0
      },
      "text/plain": [
       "IntProgress(value=0, max=4291)"
      ]
     },
     "metadata": {},
     "output_type": "display_data"
    },
    {
     "name": "stdout",
     "output_type": "stream",
     "text": [
      "***VALIDATION***:\n",
      "average correlation: nan\n",
      "average r2: -4238360791007629963952128.00\n",
      "---do_investigations. cluster index : 9---\n"
     ]
    },
    {
     "data": {
      "application/vnd.jupyter.widget-view+json": {
       "model_id": "e1c804b5f1d34c2ca9e5c41004d92ec5",
       "version_major": 2,
       "version_minor": 0
      },
      "text/plain": [
       "IntProgress(value=0, max=68)"
      ]
     },
     "metadata": {},
     "output_type": "display_data"
    },
    {
     "name": "stdout",
     "output_type": "stream",
     "text": [
      "Epoch 1/20\n",
      "368/368 [==============================] - 6s 6ms/step - loss: 0.2697 - mean_absolute_error: 0.3544 - val_loss: 0.1376 - val_mean_absolute_error: 0.2609\n",
      "Epoch 2/20\n",
      "368/368 [==============================] - 2s 5ms/step - loss: 0.2086 - mean_absolute_error: 0.3096 - val_loss: 0.1379 - val_mean_absolute_error: 0.2547\n",
      "Epoch 3/20\n",
      "368/368 [==============================] - 2s 5ms/step - loss: 0.2086 - mean_absolute_error: 0.3093 - val_loss: 0.1367 - val_mean_absolute_error: 0.2603\n",
      "Epoch 4/20\n",
      "368/368 [==============================] - 2s 5ms/step - loss: 0.2076 - mean_absolute_error: 0.3084 - val_loss: 0.1379 - val_mean_absolute_error: 0.2551\n",
      "Epoch 5/20\n",
      "368/368 [==============================] - 2s 5ms/step - loss: 0.2072 - mean_absolute_error: 0.3079 - val_loss: 0.1371 - val_mean_absolute_error: 0.2514\n",
      "***TRAIN***:\n",
      "correlation related to cluster centre: 0.89\n",
      "r2 score related to cluster centre: 0.79\n",
      "***VALIDATION***:\n",
      "correlation related to cluster centre: 0.91\n",
      "r2 score related to cluster centre: 0.82\n"
     ]
    },
    {
     "data": {
      "application/vnd.jupyter.widget-view+json": {
       "model_id": "e4bcb714ec5745ca9adc22c44d2d7463",
       "version_major": 2,
       "version_minor": 0
      },
      "text/plain": [
       "IntProgress(value=0, max=68)"
      ]
     },
     "metadata": {},
     "output_type": "display_data"
    },
    {
     "name": "stdout",
     "output_type": "stream",
     "text": [
      "***VALIDATION***:\n",
      "average correlation: 0.91\n",
      "average r2: 0.82\n",
      "---do_investigations. cluster index : 10---\n"
     ]
    },
    {
     "data": {
      "application/vnd.jupyter.widget-view+json": {
       "model_id": "ee77fb7a8b1e4b26ae2efd141e0c6ec3",
       "version_major": 2,
       "version_minor": 0
      },
      "text/plain": [
       "IntProgress(value=0, max=20)"
      ]
     },
     "metadata": {},
     "output_type": "display_data"
    },
    {
     "name": "stdout",
     "output_type": "stream",
     "text": [
      "Epoch 1/20\n",
      "368/368 [==============================] - 5s 6ms/step - loss: 0.2541 - mean_absolute_error: 0.3473 - val_loss: 0.1472 - val_mean_absolute_error: 0.2654\n",
      "Epoch 2/20\n",
      "368/368 [==============================] - 2s 5ms/step - loss: 0.1898 - mean_absolute_error: 0.2980 - val_loss: 0.1459 - val_mean_absolute_error: 0.2637\n",
      "Epoch 3/20\n",
      "368/368 [==============================] - 2s 5ms/step - loss: 0.1885 - mean_absolute_error: 0.2963 - val_loss: 0.1444 - val_mean_absolute_error: 0.2597\n",
      "Epoch 4/20\n",
      "368/368 [==============================] - 2s 5ms/step - loss: 0.1883 - mean_absolute_error: 0.2963 - val_loss: 0.1445 - val_mean_absolute_error: 0.2603\n",
      "Epoch 5/20\n",
      "368/368 [==============================] - 2s 5ms/step - loss: 0.1886 - mean_absolute_error: 0.2967 - val_loss: 0.1464 - val_mean_absolute_error: 0.2657\n",
      "***TRAIN***:\n",
      "correlation related to cluster centre: 0.90\n",
      "r2 score related to cluster centre: 0.81\n",
      "***VALIDATION***:\n",
      "correlation related to cluster centre: 0.91\n",
      "r2 score related to cluster centre: 0.83\n"
     ]
    },
    {
     "data": {
      "application/vnd.jupyter.widget-view+json": {
       "model_id": "aadc57f6e665479a99c4df1747c8131a",
       "version_major": 2,
       "version_minor": 0
      },
      "text/plain": [
       "IntProgress(value=0, max=20)"
      ]
     },
     "metadata": {},
     "output_type": "display_data"
    },
    {
     "name": "stdout",
     "output_type": "stream",
     "text": [
      "***VALIDATION***:\n",
      "average correlation: 0.91\n",
      "average r2: 0.83\n",
      "---do_investigations. cluster index : 11---\n"
     ]
    },
    {
     "data": {
      "application/vnd.jupyter.widget-view+json": {
       "model_id": "0d826bdb264f4dc5ad4c09f167e21a3d",
       "version_major": 2,
       "version_minor": 0
      },
      "text/plain": [
       "IntProgress(value=0, max=29)"
      ]
     },
     "metadata": {},
     "output_type": "display_data"
    },
    {
     "name": "stdout",
     "output_type": "stream",
     "text": [
      "Epoch 1/20\n",
      "368/368 [==============================] - 5s 6ms/step - loss: 0.2716 - mean_absolute_error: 0.3650 - val_loss: 0.1803 - val_mean_absolute_error: 0.2996\n",
      "Epoch 2/20\n",
      "368/368 [==============================] - 2s 5ms/step - loss: 0.2083 - mean_absolute_error: 0.3166 - val_loss: 0.1774 - val_mean_absolute_error: 0.2890\n",
      "Epoch 3/20\n",
      "368/368 [==============================] - 2s 5ms/step - loss: 0.2070 - mean_absolute_error: 0.3154 - val_loss: 0.1775 - val_mean_absolute_error: 0.2935\n",
      "Epoch 4/20\n",
      "368/368 [==============================] - 2s 5ms/step - loss: 0.2060 - mean_absolute_error: 0.3143 - val_loss: 0.1783 - val_mean_absolute_error: 0.2971\n",
      "***TRAIN***:\n",
      "correlation related to cluster centre: 0.89\n",
      "r2 score related to cluster centre: 0.80\n",
      "***VALIDATION***:\n",
      "correlation related to cluster centre: 0.91\n",
      "r2 score related to cluster centre: 0.82\n"
     ]
    },
    {
     "data": {
      "application/vnd.jupyter.widget-view+json": {
       "model_id": "5ef7a4fb0b154bb09c2707acc59a7787",
       "version_major": 2,
       "version_minor": 0
      },
      "text/plain": [
       "IntProgress(value=0, max=29)"
      ]
     },
     "metadata": {},
     "output_type": "display_data"
    },
    {
     "name": "stdout",
     "output_type": "stream",
     "text": [
      "***VALIDATION***:\n",
      "average correlation: 0.90\n",
      "average r2: 0.81\n",
      "---do_investigations. cluster index : 12---\n"
     ]
    },
    {
     "data": {
      "application/vnd.jupyter.widget-view+json": {
       "model_id": "1415badd6a8945a4b07484cf61a19525",
       "version_major": 2,
       "version_minor": 0
      },
      "text/plain": [
       "IntProgress(value=0, max=1506)"
      ]
     },
     "metadata": {},
     "output_type": "display_data"
    },
    {
     "name": "stdout",
     "output_type": "stream",
     "text": [
      "Epoch 1/20\n",
      "368/368 [==============================] - 5s 6ms/step - loss: 0.2622 - mean_absolute_error: 0.3225 - val_loss: 0.2561 - val_mean_absolute_error: 0.2769\n",
      "Epoch 2/20\n",
      "368/368 [==============================] - 2s 5ms/step - loss: 0.2062 - mean_absolute_error: 0.2787 - val_loss: 0.2484 - val_mean_absolute_error: 0.2744\n",
      "Epoch 3/20\n",
      "368/368 [==============================] - 2s 5ms/step - loss: 0.2068 - mean_absolute_error: 0.2777 - val_loss: 0.2494 - val_mean_absolute_error: 0.2851\n",
      "Epoch 4/20\n",
      "368/368 [==============================] - 2s 5ms/step - loss: 0.2042 - mean_absolute_error: 0.2782 - val_loss: 0.2537 - val_mean_absolute_error: 0.2814\n",
      "***TRAIN***:\n",
      "correlation related to cluster centre: 0.89\n",
      "r2 score related to cluster centre: 0.80\n",
      "***VALIDATION***:\n",
      "correlation related to cluster centre: 0.90\n",
      "r2 score related to cluster centre: 0.80\n"
     ]
    },
    {
     "data": {
      "application/vnd.jupyter.widget-view+json": {
       "model_id": "ad1a58eeac3a49999efad1c22301b8b1",
       "version_major": 2,
       "version_minor": 0
      },
      "text/plain": [
       "IntProgress(value=0, max=1506)"
      ]
     },
     "metadata": {},
     "output_type": "display_data"
    },
    {
     "name": "stdout",
     "output_type": "stream",
     "text": [
      "***VALIDATION***:\n",
      "average correlation: 0.88\n",
      "average r2: 0.68\n",
      "---do_investigations. cluster index : 13---\n"
     ]
    },
    {
     "data": {
      "application/vnd.jupyter.widget-view+json": {
       "model_id": "f18360c3859a494c861e564af837f269",
       "version_major": 2,
       "version_minor": 0
      },
      "text/plain": [
       "IntProgress(value=0, max=10)"
      ]
     },
     "metadata": {},
     "output_type": "display_data"
    },
    {
     "name": "stdout",
     "output_type": "stream",
     "text": [
      "Epoch 1/20\n",
      "368/368 [==============================] - 5s 6ms/step - loss: 0.2674 - mean_absolute_error: 0.3518 - val_loss: 0.1773 - val_mean_absolute_error: 0.2871\n",
      "Epoch 2/20\n",
      "368/368 [==============================] - 2s 5ms/step - loss: 0.2002 - mean_absolute_error: 0.3009 - val_loss: 0.1769 - val_mean_absolute_error: 0.2816\n",
      "Epoch 3/20\n",
      "368/368 [==============================] - 2s 5ms/step - loss: 0.2001 - mean_absolute_error: 0.3001 - val_loss: 0.1768 - val_mean_absolute_error: 0.2895\n",
      "Epoch 4/20\n",
      "368/368 [==============================] - 2s 5ms/step - loss: 0.2008 - mean_absolute_error: 0.3012 - val_loss: 0.1769 - val_mean_absolute_error: 0.2844\n",
      "Epoch 5/20\n",
      "368/368 [==============================] - 2s 5ms/step - loss: 0.2013 - mean_absolute_error: 0.3011 - val_loss: 0.1773 - val_mean_absolute_error: 0.2878\n",
      "***TRAIN***:\n",
      "correlation related to cluster centre: 0.90\n",
      "r2 score related to cluster centre: 0.80\n",
      "***VALIDATION***:\n",
      "correlation related to cluster centre: 0.91\n",
      "r2 score related to cluster centre: 0.82\n"
     ]
    },
    {
     "data": {
      "application/vnd.jupyter.widget-view+json": {
       "model_id": "ca1d283df388422f8c0b8819b702cfd5",
       "version_major": 2,
       "version_minor": 0
      },
      "text/plain": [
       "IntProgress(value=0, max=10)"
      ]
     },
     "metadata": {},
     "output_type": "display_data"
    },
    {
     "name": "stdout",
     "output_type": "stream",
     "text": [
      "***VALIDATION***:\n",
      "average correlation: 0.91\n",
      "average r2: 0.82\n",
      "---do_investigations. cluster index : 14---\n"
     ]
    },
    {
     "data": {
      "application/vnd.jupyter.widget-view+json": {
       "model_id": "2bc34a58eaec4b4e99aff24f936714b8",
       "version_major": 2,
       "version_minor": 0
      },
      "text/plain": [
       "IntProgress(value=0, max=32)"
      ]
     },
     "metadata": {},
     "output_type": "display_data"
    },
    {
     "name": "stdout",
     "output_type": "stream",
     "text": [
      "Epoch 1/20\n",
      "368/368 [==============================] - 5s 6ms/step - loss: 0.2461 - mean_absolute_error: 0.3516 - val_loss: 0.1536 - val_mean_absolute_error: 0.2721\n",
      "Epoch 2/20\n",
      "368/368 [==============================] - 2s 5ms/step - loss: 0.1718 - mean_absolute_error: 0.2889 - val_loss: 0.1473 - val_mean_absolute_error: 0.2613\n",
      "Epoch 3/20\n",
      "368/368 [==============================] - 2s 5ms/step - loss: 0.1703 - mean_absolute_error: 0.2873 - val_loss: 0.1424 - val_mean_absolute_error: 0.2644\n",
      "Epoch 4/20\n",
      "368/368 [==============================] - 2s 5ms/step - loss: 0.1694 - mean_absolute_error: 0.2861 - val_loss: 0.1424 - val_mean_absolute_error: 0.2629\n",
      "Epoch 5/20\n",
      "368/368 [==============================] - 2s 5ms/step - loss: 0.1689 - mean_absolute_error: 0.2857 - val_loss: 0.1443 - val_mean_absolute_error: 0.2609\n",
      "***TRAIN***:\n",
      "correlation related to cluster centre: 0.91\n",
      "r2 score related to cluster centre: 0.83\n",
      "***VALIDATION***:\n",
      "correlation related to cluster centre: 0.91\n",
      "r2 score related to cluster centre: 0.83\n"
     ]
    },
    {
     "data": {
      "application/vnd.jupyter.widget-view+json": {
       "model_id": "a766c0e5d2644fea9634a2e5e59d025f",
       "version_major": 2,
       "version_minor": 0
      },
      "text/plain": [
       "IntProgress(value=0, max=32)"
      ]
     },
     "metadata": {},
     "output_type": "display_data"
    },
    {
     "name": "stdout",
     "output_type": "stream",
     "text": [
      "***VALIDATION***:\n",
      "average correlation: 0.91\n",
      "average r2: 0.82\n",
      "---do_investigations. cluster index : 15---\n"
     ]
    },
    {
     "data": {
      "application/vnd.jupyter.widget-view+json": {
       "model_id": "02f6e643eaec4a2ebd4c39a8ec7562c8",
       "version_major": 2,
       "version_minor": 0
      },
      "text/plain": [
       "IntProgress(value=0, max=216)"
      ]
     },
     "metadata": {},
     "output_type": "display_data"
    },
    {
     "name": "stdout",
     "output_type": "stream",
     "text": [
      "Epoch 1/20\n",
      "368/368 [==============================] - 5s 6ms/step - loss: 0.2606 - mean_absolute_error: 0.3488 - val_loss: 0.1645 - val_mean_absolute_error: 0.2760\n",
      "Epoch 2/20\n",
      "368/368 [==============================] - 2s 5ms/step - loss: 0.1823 - mean_absolute_error: 0.2948 - val_loss: 0.1636 - val_mean_absolute_error: 0.2776\n",
      "Epoch 3/20\n",
      "368/368 [==============================] - 2s 5ms/step - loss: 0.1817 - mean_absolute_error: 0.2939 - val_loss: 0.1630 - val_mean_absolute_error: 0.2728\n",
      "Epoch 4/20\n",
      "368/368 [==============================] - 2s 5ms/step - loss: 0.1818 - mean_absolute_error: 0.2945 - val_loss: 0.1635 - val_mean_absolute_error: 0.2751\n",
      "Epoch 5/20\n",
      "368/368 [==============================] - 2s 5ms/step - loss: 0.1818 - mean_absolute_error: 0.2937 - val_loss: 0.1636 - val_mean_absolute_error: 0.2720\n",
      "***TRAIN***:\n",
      "correlation related to cluster centre: 0.91\n",
      "r2 score related to cluster centre: 0.82\n",
      "***VALIDATION***:\n",
      "correlation related to cluster centre: 0.91\n",
      "r2 score related to cluster centre: 0.84\n"
     ]
    },
    {
     "data": {
      "application/vnd.jupyter.widget-view+json": {
       "model_id": "d54dc270b9ab491cb989764a59d156e7",
       "version_major": 2,
       "version_minor": 0
      },
      "text/plain": [
       "IntProgress(value=0, max=216)"
      ]
     },
     "metadata": {},
     "output_type": "display_data"
    },
    {
     "name": "stdout",
     "output_type": "stream",
     "text": [
      "***VALIDATION***:\n",
      "average correlation: 0.91\n",
      "average r2: 0.82\n",
      "---do_investigations. cluster index : 16---\n"
     ]
    },
    {
     "data": {
      "application/vnd.jupyter.widget-view+json": {
       "model_id": "a09a1f08658f41a694690793cdd8b846",
       "version_major": 2,
       "version_minor": 0
      },
      "text/plain": [
       "IntProgress(value=0, max=22)"
      ]
     },
     "metadata": {},
     "output_type": "display_data"
    },
    {
     "name": "stdout",
     "output_type": "stream",
     "text": [
      "Epoch 1/20\n",
      "368/368 [==============================] - 5s 6ms/step - loss: 0.2469 - mean_absolute_error: 0.3388 - val_loss: 0.1805 - val_mean_absolute_error: 0.2837\n",
      "Epoch 2/20\n",
      "368/368 [==============================] - 2s 5ms/step - loss: 0.1862 - mean_absolute_error: 0.2946 - val_loss: 0.1784 - val_mean_absolute_error: 0.2824\n",
      "Epoch 3/20\n",
      "368/368 [==============================] - 2s 5ms/step - loss: 0.1867 - mean_absolute_error: 0.2942 - val_loss: 0.1776 - val_mean_absolute_error: 0.2826\n",
      "Epoch 4/20\n",
      "368/368 [==============================] - 2s 5ms/step - loss: 0.1854 - mean_absolute_error: 0.2934 - val_loss: 0.1851 - val_mean_absolute_error: 0.2843\n",
      "Epoch 5/20\n",
      "368/368 [==============================] - 2s 5ms/step - loss: 0.1876 - mean_absolute_error: 0.2949 - val_loss: 0.1780 - val_mean_absolute_error: 0.2826\n",
      "***TRAIN***:\n",
      "correlation related to cluster centre: 0.90\n",
      "r2 score related to cluster centre: 0.82\n",
      "***VALIDATION***:\n",
      "correlation related to cluster centre: 0.91\n",
      "r2 score related to cluster centre: 0.83\n"
     ]
    },
    {
     "data": {
      "application/vnd.jupyter.widget-view+json": {
       "model_id": "084c438dc9a54c889f4b85a8c87637d1",
       "version_major": 2,
       "version_minor": 0
      },
      "text/plain": [
       "IntProgress(value=0, max=22)"
      ]
     },
     "metadata": {},
     "output_type": "display_data"
    },
    {
     "name": "stdout",
     "output_type": "stream",
     "text": [
      "***VALIDATION***:\n",
      "average correlation: 0.91\n",
      "average r2: 0.83\n",
      "---do_investigations. cluster index : 17---\n"
     ]
    },
    {
     "data": {
      "application/vnd.jupyter.widget-view+json": {
       "model_id": "ce959e5ab5b54256a5f76fd9c311907d",
       "version_major": 2,
       "version_minor": 0
      },
      "text/plain": [
       "IntProgress(value=0, max=13)"
      ]
     },
     "metadata": {},
     "output_type": "display_data"
    },
    {
     "name": "stdout",
     "output_type": "stream",
     "text": [
      "Epoch 1/20\n",
      "368/368 [==============================] - 5s 6ms/step - loss: 0.2717 - mean_absolute_error: 0.3602 - val_loss: 0.1920 - val_mean_absolute_error: 0.2988\n",
      "Epoch 2/20\n",
      "368/368 [==============================] - 2s 5ms/step - loss: 0.2066 - mean_absolute_error: 0.3119 - val_loss: 0.1825 - val_mean_absolute_error: 0.2908\n",
      "Epoch 3/20\n",
      "368/368 [==============================] - 2s 5ms/step - loss: 0.2050 - mean_absolute_error: 0.3093 - val_loss: 0.1835 - val_mean_absolute_error: 0.2951\n",
      "Epoch 4/20\n",
      "368/368 [==============================] - 2s 5ms/step - loss: 0.2048 - mean_absolute_error: 0.3090 - val_loss: 0.1822 - val_mean_absolute_error: 0.2881\n",
      "Epoch 5/20\n",
      "368/368 [==============================] - 2s 5ms/step - loss: 0.2042 - mean_absolute_error: 0.3088 - val_loss: 0.1833 - val_mean_absolute_error: 0.2976\n",
      "Epoch 6/20\n",
      "368/368 [==============================] - 2s 5ms/step - loss: 0.2049 - mean_absolute_error: 0.3087 - val_loss: 0.1833 - val_mean_absolute_error: 0.2943\n",
      "***TRAIN***:\n",
      "correlation related to cluster centre: 0.89\n",
      "r2 score related to cluster centre: 0.80\n",
      "***VALIDATION***:\n",
      "correlation related to cluster centre: 0.91\n",
      "r2 score related to cluster centre: 0.82\n"
     ]
    },
    {
     "data": {
      "application/vnd.jupyter.widget-view+json": {
       "model_id": "d704c72e14c64045b0264ab729692992",
       "version_major": 2,
       "version_minor": 0
      },
      "text/plain": [
       "IntProgress(value=0, max=13)"
      ]
     },
     "metadata": {},
     "output_type": "display_data"
    },
    {
     "name": "stdout",
     "output_type": "stream",
     "text": [
      "***VALIDATION***:\n",
      "average correlation: 0.91\n",
      "average r2: 0.82\n",
      "---do_investigations. cluster index : 18---\n"
     ]
    },
    {
     "data": {
      "application/vnd.jupyter.widget-view+json": {
       "model_id": "dbdeb208161449b5b30055bcc780ce2e",
       "version_major": 2,
       "version_minor": 0
      },
      "text/plain": [
       "IntProgress(value=0, max=43)"
      ]
     },
     "metadata": {},
     "output_type": "display_data"
    },
    {
     "name": "stdout",
     "output_type": "stream",
     "text": [
      "Epoch 1/20\n",
      "368/368 [==============================] - 5s 6ms/step - loss: 0.2728 - mean_absolute_error: 0.3558 - val_loss: 0.1568 - val_mean_absolute_error: 0.2822\n",
      "Epoch 2/20\n",
      "368/368 [==============================] - 2s 5ms/step - loss: 0.2157 - mean_absolute_error: 0.3105 - val_loss: 0.1591 - val_mean_absolute_error: 0.2912\n",
      "Epoch 3/20\n",
      "368/368 [==============================] - 2s 5ms/step - loss: 0.2141 - mean_absolute_error: 0.3086 - val_loss: 0.1520 - val_mean_absolute_error: 0.2829\n",
      "Epoch 4/20\n",
      "368/368 [==============================] - 2s 5ms/step - loss: 0.2145 - mean_absolute_error: 0.3088 - val_loss: 0.1499 - val_mean_absolute_error: 0.2787\n",
      "Epoch 5/20\n",
      "368/368 [==============================] - 2s 5ms/step - loss: 0.2140 - mean_absolute_error: 0.3080 - val_loss: 0.1466 - val_mean_absolute_error: 0.2663\n",
      "Epoch 6/20\n",
      "368/368 [==============================] - 2s 5ms/step - loss: 0.2138 - mean_absolute_error: 0.3074 - val_loss: 0.1493 - val_mean_absolute_error: 0.2753\n",
      "Epoch 7/20\n",
      "368/368 [==============================] - 2s 5ms/step - loss: 0.2130 - mean_absolute_error: 0.3071 - val_loss: 0.1494 - val_mean_absolute_error: 0.2753\n",
      "***TRAIN***:\n",
      "correlation related to cluster centre: 0.89\n",
      "r2 score related to cluster centre: 0.79\n",
      "***VALIDATION***:\n",
      "correlation related to cluster centre: 0.90\n",
      "r2 score related to cluster centre: 0.81\n"
     ]
    },
    {
     "data": {
      "application/vnd.jupyter.widget-view+json": {
       "model_id": "602b14cbbb614ab9bc3ea9406279626f",
       "version_major": 2,
       "version_minor": 0
      },
      "text/plain": [
       "IntProgress(value=0, max=43)"
      ]
     },
     "metadata": {},
     "output_type": "display_data"
    },
    {
     "name": "stdout",
     "output_type": "stream",
     "text": [
      "***VALIDATION***:\n",
      "average correlation: 0.90\n",
      "average r2: 0.56\n",
      "---do_investigations. cluster index : 19---\n"
     ]
    },
    {
     "data": {
      "application/vnd.jupyter.widget-view+json": {
       "model_id": "ddaa6778155849acbe9b804dd9318c60",
       "version_major": 2,
       "version_minor": 0
      },
      "text/plain": [
       "IntProgress(value=0, max=710)"
      ]
     },
     "metadata": {},
     "output_type": "display_data"
    },
    {
     "name": "stdout",
     "output_type": "stream",
     "text": [
      "Epoch 1/20\n",
      "368/368 [==============================] - 4s 6ms/step - loss: 0.2745 - mean_absolute_error: 0.3632 - val_loss: 0.2135 - val_mean_absolute_error: 0.3112\n",
      "Epoch 2/20\n",
      "368/368 [==============================] - 2s 5ms/step - loss: 0.2063 - mean_absolute_error: 0.3085 - val_loss: 0.2081 - val_mean_absolute_error: 0.3153\n",
      "Epoch 3/20\n",
      "368/368 [==============================] - 2s 5ms/step - loss: 0.2062 - mean_absolute_error: 0.3085 - val_loss: 0.2081 - val_mean_absolute_error: 0.3098\n",
      "Epoch 4/20\n",
      "368/368 [==============================] - 2s 5ms/step - loss: 0.2061 - mean_absolute_error: 0.3082 - val_loss: 0.2094 - val_mean_absolute_error: 0.3081\n",
      "***TRAIN***:\n",
      "correlation related to cluster centre: 0.89\n",
      "r2 score related to cluster centre: 0.80\n",
      "***VALIDATION***:\n",
      "correlation related to cluster centre: 0.90\n",
      "r2 score related to cluster centre: 0.81\n"
     ]
    },
    {
     "data": {
      "application/vnd.jupyter.widget-view+json": {
       "model_id": "1861e6b1aa0648e9b1d55976a5eda1f7",
       "version_major": 2,
       "version_minor": 0
      },
      "text/plain": [
       "IntProgress(value=0, max=710)"
      ]
     },
     "metadata": {},
     "output_type": "display_data"
    },
    {
     "name": "stdout",
     "output_type": "stream",
     "text": [
      "***VALIDATION***:\n",
      "average correlation: 0.89\n",
      "average r2: 0.76\n",
      "---do_investigations. cluster index : 20---\n"
     ]
    },
    {
     "data": {
      "application/vnd.jupyter.widget-view+json": {
       "model_id": "60bedb15eca641df807a5b7c925e5476",
       "version_major": 2,
       "version_minor": 0
      },
      "text/plain": [
       "IntProgress(value=0, max=14)"
      ]
     },
     "metadata": {},
     "output_type": "display_data"
    },
    {
     "name": "stdout",
     "output_type": "stream",
     "text": [
      "Epoch 1/20\n",
      "368/368 [==============================] - 4s 6ms/step - loss: 0.2694 - mean_absolute_error: 0.3594 - val_loss: 0.1899 - val_mean_absolute_error: 0.3083\n",
      "Epoch 2/20\n",
      "368/368 [==============================] - 2s 5ms/step - loss: 0.2053 - mean_absolute_error: 0.3125 - val_loss: 0.1899 - val_mean_absolute_error: 0.3102\n",
      "Epoch 3/20\n",
      "368/368 [==============================] - 2s 5ms/step - loss: 0.2047 - mean_absolute_error: 0.3117 - val_loss: 0.1902 - val_mean_absolute_error: 0.3130\n",
      "***TRAIN***:\n",
      "correlation related to cluster centre: 0.89\n",
      "r2 score related to cluster centre: 0.79\n",
      "***VALIDATION***:\n",
      "correlation related to cluster centre: 0.91\n",
      "r2 score related to cluster centre: 0.82\n"
     ]
    },
    {
     "data": {
      "application/vnd.jupyter.widget-view+json": {
       "model_id": "ac08e3f38b344b0981465853b95a862c",
       "version_major": 2,
       "version_minor": 0
      },
      "text/plain": [
       "IntProgress(value=0, max=14)"
      ]
     },
     "metadata": {},
     "output_type": "display_data"
    },
    {
     "name": "stdout",
     "output_type": "stream",
     "text": [
      "***VALIDATION***:\n",
      "average correlation: 0.91\n",
      "average r2: 0.82\n",
      "---do_investigations. cluster index : 21---\n"
     ]
    },
    {
     "data": {
      "application/vnd.jupyter.widget-view+json": {
       "model_id": "1945ac2e307f449aabae86e5105bd0a1",
       "version_major": 2,
       "version_minor": 0
      },
      "text/plain": [
       "IntProgress(value=0, max=27)"
      ]
     },
     "metadata": {},
     "output_type": "display_data"
    },
    {
     "name": "stdout",
     "output_type": "stream",
     "text": [
      "Epoch 1/20\n",
      "368/368 [==============================] - 10s 7ms/step - loss: 0.2787 - mean_absolute_error: 0.3678 - val_loss: 0.1409 - val_mean_absolute_error: 0.2673\n",
      "Epoch 2/20\n",
      "368/368 [==============================] - 2s 5ms/step - loss: 0.1984 - mean_absolute_error: 0.3069 - val_loss: 0.1481 - val_mean_absolute_error: 0.2689\n",
      "Epoch 3/20\n",
      "368/368 [==============================] - 2s 5ms/step - loss: 0.1993 - mean_absolute_error: 0.3068 - val_loss: 0.1440 - val_mean_absolute_error: 0.2676\n",
      "***TRAIN***:\n",
      "correlation related to cluster centre: 0.90\n",
      "r2 score related to cluster centre: 0.79\n",
      "***VALIDATION***:\n",
      "correlation related to cluster centre: 0.91\n",
      "r2 score related to cluster centre: 0.82\n"
     ]
    },
    {
     "data": {
      "application/vnd.jupyter.widget-view+json": {
       "model_id": "ae317414ed96407093730edee4c56809",
       "version_major": 2,
       "version_minor": 0
      },
      "text/plain": [
       "IntProgress(value=0, max=27)"
      ]
     },
     "metadata": {},
     "output_type": "display_data"
    },
    {
     "name": "stdout",
     "output_type": "stream",
     "text": [
      "***VALIDATION***:\n",
      "average correlation: 0.91\n",
      "average r2: 0.82\n",
      "---do_investigations. cluster index : 22---\n"
     ]
    },
    {
     "data": {
      "application/vnd.jupyter.widget-view+json": {
       "model_id": "fc8796664c784d90adb9afd3ac9dbe97",
       "version_major": 2,
       "version_minor": 0
      },
      "text/plain": [
       "IntProgress(value=0, max=64)"
      ]
     },
     "metadata": {},
     "output_type": "display_data"
    },
    {
     "name": "stdout",
     "output_type": "stream",
     "text": [
      "Epoch 1/20\n",
      "368/368 [==============================] - 5s 6ms/step - loss: 0.2051 - mean_absolute_error: 0.2840 - val_loss: 0.1368 - val_mean_absolute_error: 0.2054\n",
      "Epoch 2/20\n",
      "368/368 [==============================] - 2s 5ms/step - loss: 0.1403 - mean_absolute_error: 0.2292 - val_loss: 0.1469 - val_mean_absolute_error: 0.2201\n",
      "Epoch 3/20\n",
      "368/368 [==============================] - 2s 5ms/step - loss: 0.1396 - mean_absolute_error: 0.2290 - val_loss: 0.1328 - val_mean_absolute_error: 0.2057\n",
      "Epoch 4/20\n",
      "368/368 [==============================] - 2s 5ms/step - loss: 0.1391 - mean_absolute_error: 0.2276 - val_loss: 0.1323 - val_mean_absolute_error: 0.2033\n",
      "Epoch 5/20\n",
      "368/368 [==============================] - 2s 5ms/step - loss: 0.1396 - mean_absolute_error: 0.2266 - val_loss: 0.1456 - val_mean_absolute_error: 0.2174\n",
      "Epoch 6/20\n",
      "368/368 [==============================] - 2s 5ms/step - loss: 0.1386 - mean_absolute_error: 0.2264 - val_loss: 0.1338 - val_mean_absolute_error: 0.2022\n",
      "***TRAIN***:\n",
      "correlation related to cluster centre: 0.93\n",
      "r2 score related to cluster centre: 0.86\n",
      "***VALIDATION***:\n",
      "correlation related to cluster centre: 0.91\n",
      "r2 score related to cluster centre: 0.82\n"
     ]
    },
    {
     "data": {
      "application/vnd.jupyter.widget-view+json": {
       "model_id": "97f5e590290f4ebeb6e98ea4a0259312",
       "version_major": 2,
       "version_minor": 0
      },
      "text/plain": [
       "IntProgress(value=0, max=64)"
      ]
     },
     "metadata": {},
     "output_type": "display_data"
    },
    {
     "name": "stdout",
     "output_type": "stream",
     "text": [
      "***VALIDATION***:\n",
      "average correlation: 0.90\n",
      "average r2: 0.78\n",
      "---do_investigations. cluster index : 23---\n"
     ]
    },
    {
     "data": {
      "application/vnd.jupyter.widget-view+json": {
       "model_id": "dfc48de6cd40411f89f74baea4c70db4",
       "version_major": 2,
       "version_minor": 0
      },
      "text/plain": [
       "IntProgress(value=0, max=4)"
      ]
     },
     "metadata": {},
     "output_type": "display_data"
    },
    {
     "name": "stdout",
     "output_type": "stream",
     "text": [
      "Epoch 1/20\n",
      "368/368 [==============================] - 5s 6ms/step - loss: 0.2169 - mean_absolute_error: 0.3138 - val_loss: 0.1994 - val_mean_absolute_error: 0.2996\n",
      "Epoch 2/20\n",
      "368/368 [==============================] - 2s 5ms/step - loss: 0.1538 - mean_absolute_error: 0.2616 - val_loss: 0.1980 - val_mean_absolute_error: 0.3017\n",
      "Epoch 3/20\n",
      "368/368 [==============================] - 2s 5ms/step - loss: 0.1534 - mean_absolute_error: 0.2604 - val_loss: 0.1986 - val_mean_absolute_error: 0.2975\n",
      "Epoch 4/20\n",
      "368/368 [==============================] - 2s 5ms/step - loss: 0.1528 - mean_absolute_error: 0.2596 - val_loss: 0.2028 - val_mean_absolute_error: 0.3014\n",
      "***TRAIN***:\n",
      "correlation related to cluster centre: 0.92\n",
      "r2 score related to cluster centre: 0.85\n",
      "***VALIDATION***:\n",
      "correlation related to cluster centre: 0.91\n",
      "r2 score related to cluster centre: 0.82\n"
     ]
    },
    {
     "data": {
      "application/vnd.jupyter.widget-view+json": {
       "model_id": "10ad2971dfad4fa68a3fe509b0feb960",
       "version_major": 2,
       "version_minor": 0
      },
      "text/plain": [
       "IntProgress(value=0, max=4)"
      ]
     },
     "metadata": {},
     "output_type": "display_data"
    },
    {
     "name": "stdout",
     "output_type": "stream",
     "text": [
      "***VALIDATION***:\n",
      "average correlation: 0.91\n",
      "average r2: 0.83\n",
      "---do_investigations. cluster index : 24---\n"
     ]
    },
    {
     "data": {
      "application/vnd.jupyter.widget-view+json": {
       "model_id": "da2afe60f02d47ef95445e8b8f743cac",
       "version_major": 2,
       "version_minor": 0
      },
      "text/plain": [
       "IntProgress(value=0, max=77)"
      ]
     },
     "metadata": {},
     "output_type": "display_data"
    },
    {
     "name": "stdout",
     "output_type": "stream",
     "text": [
      "Epoch 1/20\n",
      "368/368 [==============================] - 5s 6ms/step - loss: 0.2545 - mean_absolute_error: 0.3438 - val_loss: 0.1421 - val_mean_absolute_error: 0.2671\n",
      "Epoch 2/20\n",
      "368/368 [==============================] - 2s 5ms/step - loss: 0.1908 - mean_absolute_error: 0.2982 - val_loss: 0.1396 - val_mean_absolute_error: 0.2596\n",
      "Epoch 3/20\n",
      "368/368 [==============================] - 2s 5ms/step - loss: 0.1899 - mean_absolute_error: 0.2975 - val_loss: 0.1401 - val_mean_absolute_error: 0.2633\n",
      "Epoch 4/20\n",
      "368/368 [==============================] - 2s 5ms/step - loss: 0.1893 - mean_absolute_error: 0.2970 - val_loss: 0.1398 - val_mean_absolute_error: 0.2584\n",
      "***TRAIN***:\n",
      "correlation related to cluster centre: 0.90\n",
      "r2 score related to cluster centre: 0.81\n",
      "***VALIDATION***:\n",
      "correlation related to cluster centre: 0.91\n",
      "r2 score related to cluster centre: 0.83\n"
     ]
    },
    {
     "data": {
      "application/vnd.jupyter.widget-view+json": {
       "model_id": "4b144107eccc437c8a3690ee0329ff7c",
       "version_major": 2,
       "version_minor": 0
      },
      "text/plain": [
       "IntProgress(value=0, max=77)"
      ]
     },
     "metadata": {},
     "output_type": "display_data"
    },
    {
     "name": "stdout",
     "output_type": "stream",
     "text": [
      "***VALIDATION***:\n",
      "average correlation: 0.91\n",
      "average r2: 0.83\n",
      "---do_investigations. cluster index : 25---\n"
     ]
    },
    {
     "data": {
      "application/vnd.jupyter.widget-view+json": {
       "model_id": "a22a83d7f68b4edd98a28ebede9491ac",
       "version_major": 2,
       "version_minor": 0
      },
      "text/plain": [
       "IntProgress(value=0, max=6)"
      ]
     },
     "metadata": {},
     "output_type": "display_data"
    },
    {
     "name": "stdout",
     "output_type": "stream",
     "text": [
      "Epoch 1/20\n",
      "368/368 [==============================] - 5s 6ms/step - loss: 0.2703 - mean_absolute_error: 0.3621 - val_loss: 0.1850 - val_mean_absolute_error: 0.3039\n",
      "Epoch 2/20\n",
      "368/368 [==============================] - 2s 5ms/step - loss: 0.2010 - mean_absolute_error: 0.3082 - val_loss: 0.1922 - val_mean_absolute_error: 0.3096\n",
      "Epoch 3/20\n",
      "368/368 [==============================] - 2s 5ms/step - loss: 0.2010 - mean_absolute_error: 0.3083 - val_loss: 0.1812 - val_mean_absolute_error: 0.2959\n",
      "Epoch 4/20\n",
      "368/368 [==============================] - 2s 5ms/step - loss: 0.2010 - mean_absolute_error: 0.3086 - val_loss: 0.1850 - val_mean_absolute_error: 0.3037\n",
      "Epoch 5/20\n",
      "368/368 [==============================] - 2s 5ms/step - loss: 0.2006 - mean_absolute_error: 0.3075 - val_loss: 0.1808 - val_mean_absolute_error: 0.2975\n",
      "Epoch 6/20\n",
      "368/368 [==============================] - 2s 5ms/step - loss: 0.1992 - mean_absolute_error: 0.3066 - val_loss: 0.1794 - val_mean_absolute_error: 0.2934\n",
      "Epoch 7/20\n",
      "368/368 [==============================] - 2s 5ms/step - loss: 0.1997 - mean_absolute_error: 0.3070 - val_loss: 0.1808 - val_mean_absolute_error: 0.2973\n",
      "Epoch 8/20\n",
      "368/368 [==============================] - 2s 5ms/step - loss: 0.1991 - mean_absolute_error: 0.3060 - val_loss: 0.1790 - val_mean_absolute_error: 0.2931\n",
      "Epoch 9/20\n",
      "368/368 [==============================] - 2s 5ms/step - loss: 0.1989 - mean_absolute_error: 0.3058 - val_loss: 0.1877 - val_mean_absolute_error: 0.3078\n",
      "Epoch 10/20\n",
      "368/368 [==============================] - 2s 5ms/step - loss: 0.1991 - mean_absolute_error: 0.3067 - val_loss: 0.1870 - val_mean_absolute_error: 0.3085\n",
      "***TRAIN***:\n",
      "correlation related to cluster centre: 0.90\n",
      "r2 score related to cluster centre: 0.80\n",
      "***VALIDATION***:\n",
      "correlation related to cluster centre: 0.91\n",
      "r2 score related to cluster centre: 0.81\n"
     ]
    },
    {
     "data": {
      "application/vnd.jupyter.widget-view+json": {
       "model_id": "bdc687e568cb4d459bc0109681d4b19d",
       "version_major": 2,
       "version_minor": 0
      },
      "text/plain": [
       "IntProgress(value=0, max=6)"
      ]
     },
     "metadata": {},
     "output_type": "display_data"
    },
    {
     "name": "stdout",
     "output_type": "stream",
     "text": [
      "***VALIDATION***:\n",
      "average correlation: 0.91\n",
      "average r2: 0.81\n",
      "---do_investigations. cluster index : 26---\n"
     ]
    },
    {
     "data": {
      "application/vnd.jupyter.widget-view+json": {
       "model_id": "f2bee4afbd6740d4ab4c58b181a90864",
       "version_major": 2,
       "version_minor": 0
      },
      "text/plain": [
       "IntProgress(value=0, max=18)"
      ]
     },
     "metadata": {},
     "output_type": "display_data"
    },
    {
     "name": "stdout",
     "output_type": "stream",
     "text": [
      "Epoch 1/20\n",
      "368/368 [==============================] - 4s 6ms/step - loss: 0.2464 - mean_absolute_error: 0.3419 - val_loss: 0.1629 - val_mean_absolute_error: 0.2758\n",
      "Epoch 2/20\n",
      "368/368 [==============================] - 2s 5ms/step - loss: 0.1803 - mean_absolute_error: 0.2887 - val_loss: 0.1551 - val_mean_absolute_error: 0.2637\n",
      "Epoch 3/20\n",
      "368/368 [==============================] - 2s 5ms/step - loss: 0.1799 - mean_absolute_error: 0.2882 - val_loss: 0.1548 - val_mean_absolute_error: 0.2664\n",
      "Epoch 4/20\n",
      "368/368 [==============================] - 2s 5ms/step - loss: 0.1788 - mean_absolute_error: 0.2871 - val_loss: 0.1546 - val_mean_absolute_error: 0.2644\n",
      "Epoch 5/20\n",
      "368/368 [==============================] - 2s 5ms/step - loss: 0.1786 - mean_absolute_error: 0.2867 - val_loss: 0.1563 - val_mean_absolute_error: 0.2730\n",
      "Epoch 6/20\n",
      "368/368 [==============================] - 2s 5ms/step - loss: 0.1787 - mean_absolute_error: 0.2871 - val_loss: 0.1561 - val_mean_absolute_error: 0.2724\n",
      "***TRAIN***:\n",
      "correlation related to cluster centre: 0.91\n",
      "r2 score related to cluster centre: 0.82\n",
      "***VALIDATION***:\n",
      "correlation related to cluster centre: 0.91\n",
      "r2 score related to cluster centre: 0.83\n"
     ]
    },
    {
     "data": {
      "application/vnd.jupyter.widget-view+json": {
       "model_id": "81a9cfabcf7f4dc08c529fbea6a3bc91",
       "version_major": 2,
       "version_minor": 0
      },
      "text/plain": [
       "IntProgress(value=0, max=18)"
      ]
     },
     "metadata": {},
     "output_type": "display_data"
    },
    {
     "name": "stdout",
     "output_type": "stream",
     "text": [
      "***VALIDATION***:\n",
      "average correlation: 0.91\n",
      "average r2: 0.83\n",
      "---do_investigations. cluster index : 27---\n"
     ]
    },
    {
     "data": {
      "application/vnd.jupyter.widget-view+json": {
       "model_id": "62c679836d0247d8af70ee9cd6140a93",
       "version_major": 2,
       "version_minor": 0
      },
      "text/plain": [
       "IntProgress(value=0, max=50)"
      ]
     },
     "metadata": {},
     "output_type": "display_data"
    },
    {
     "name": "stdout",
     "output_type": "stream",
     "text": [
      "Epoch 1/20\n",
      "368/368 [==============================] - 4s 6ms/step - loss: 0.2495 - mean_absolute_error: 0.3495 - val_loss: 0.1479 - val_mean_absolute_error: 0.2791\n",
      "Epoch 2/20\n",
      "368/368 [==============================] - 2s 5ms/step - loss: 0.1826 - mean_absolute_error: 0.2959 - val_loss: 0.1465 - val_mean_absolute_error: 0.2766\n",
      "Epoch 3/20\n",
      "368/368 [==============================] - 2s 5ms/step - loss: 0.1823 - mean_absolute_error: 0.2946 - val_loss: 0.1477 - val_mean_absolute_error: 0.2809\n",
      "Epoch 4/20\n",
      "368/368 [==============================] - 2s 5ms/step - loss: 0.1818 - mean_absolute_error: 0.2940 - val_loss: 0.1458 - val_mean_absolute_error: 0.2750\n",
      "Epoch 5/20\n",
      "368/368 [==============================] - 2s 5ms/step - loss: 0.1818 - mean_absolute_error: 0.2945 - val_loss: 0.1492 - val_mean_absolute_error: 0.2773\n",
      "Epoch 6/20\n",
      "368/368 [==============================] - 2s 5ms/step - loss: 0.1815 - mean_absolute_error: 0.2943 - val_loss: 0.1463 - val_mean_absolute_error: 0.2765\n",
      "***TRAIN***:\n",
      "correlation related to cluster centre: 0.91\n",
      "r2 score related to cluster centre: 0.82\n",
      "***VALIDATION***:\n",
      "correlation related to cluster centre: 0.91\n",
      "r2 score related to cluster centre: 0.83\n"
     ]
    },
    {
     "data": {
      "application/vnd.jupyter.widget-view+json": {
       "model_id": "50b9fbd843ee4b568f43d37df10d5e1e",
       "version_major": 2,
       "version_minor": 0
      },
      "text/plain": [
       "IntProgress(value=0, max=50)"
      ]
     },
     "metadata": {},
     "output_type": "display_data"
    },
    {
     "name": "stdout",
     "output_type": "stream",
     "text": [
      "***VALIDATION***:\n",
      "average correlation: 0.91\n",
      "average r2: 0.83\n",
      "---do_investigations. cluster index : 28---\n"
     ]
    },
    {
     "data": {
      "application/vnd.jupyter.widget-view+json": {
       "model_id": "0ca4b83a0bb24a97b2f64410b064d664",
       "version_major": 2,
       "version_minor": 0
      },
      "text/plain": [
       "IntProgress(value=0, max=34)"
      ]
     },
     "metadata": {},
     "output_type": "display_data"
    },
    {
     "name": "stdout",
     "output_type": "stream",
     "text": [
      "Epoch 1/20\n",
      "368/368 [==============================] - 4s 6ms/step - loss: 0.2087 - mean_absolute_error: 0.2864 - val_loss: 0.1380 - val_mean_absolute_error: 0.1993\n",
      "Epoch 2/20\n",
      "368/368 [==============================] - 2s 5ms/step - loss: 0.1396 - mean_absolute_error: 0.2329 - val_loss: 0.1326 - val_mean_absolute_error: 0.2009\n",
      "Epoch 3/20\n",
      "368/368 [==============================] - 2s 5ms/step - loss: 0.1388 - mean_absolute_error: 0.2321 - val_loss: 0.1357 - val_mean_absolute_error: 0.1970\n",
      "Epoch 4/20\n",
      "368/368 [==============================] - 2s 5ms/step - loss: 0.1376 - mean_absolute_error: 0.2317 - val_loss: 0.1327 - val_mean_absolute_error: 0.1961\n",
      "***TRAIN***:\n",
      "correlation related to cluster centre: 0.93\n",
      "r2 score related to cluster centre: 0.87\n",
      "***VALIDATION***:\n",
      "correlation related to cluster centre: 0.88\n",
      "r2 score related to cluster centre: 0.78\n"
     ]
    },
    {
     "data": {
      "application/vnd.jupyter.widget-view+json": {
       "model_id": "c41c16ebc6a64342963abac9efc3a9e2",
       "version_major": 2,
       "version_minor": 0
      },
      "text/plain": [
       "IntProgress(value=0, max=34)"
      ]
     },
     "metadata": {},
     "output_type": "display_data"
    },
    {
     "name": "stdout",
     "output_type": "stream",
     "text": [
      "***VALIDATION***:\n",
      "average correlation: 0.89\n",
      "average r2: 0.75\n",
      "---do_investigations. cluster index : 29---\n"
     ]
    },
    {
     "data": {
      "application/vnd.jupyter.widget-view+json": {
       "model_id": "30fb53d27ec7486196c11c8259133e62",
       "version_major": 2,
       "version_minor": 0
      },
      "text/plain": [
       "IntProgress(value=0, max=53)"
      ]
     },
     "metadata": {},
     "output_type": "display_data"
    },
    {
     "name": "stdout",
     "output_type": "stream",
     "text": [
      "Epoch 1/20\n",
      "368/368 [==============================] - 4s 6ms/step - loss: 0.2468 - mean_absolute_error: 0.3464 - val_loss: 0.1847 - val_mean_absolute_error: 0.2911\n",
      "Epoch 2/20\n",
      "368/368 [==============================] - 2s 5ms/step - loss: 0.1955 - mean_absolute_error: 0.3033 - val_loss: 0.1827 - val_mean_absolute_error: 0.2890\n",
      "Epoch 3/20\n",
      "368/368 [==============================] - 2s 5ms/step - loss: 0.1947 - mean_absolute_error: 0.3018 - val_loss: 0.1824 - val_mean_absolute_error: 0.2900\n",
      "Epoch 4/20\n",
      "368/368 [==============================] - 2s 5ms/step - loss: 0.1947 - mean_absolute_error: 0.3014 - val_loss: 0.1823 - val_mean_absolute_error: 0.2904\n",
      "Epoch 5/20\n",
      "368/368 [==============================] - 2s 5ms/step - loss: 0.1932 - mean_absolute_error: 0.3011 - val_loss: 0.1826 - val_mean_absolute_error: 0.2909\n",
      "Epoch 6/20\n",
      "368/368 [==============================] - 2s 5ms/step - loss: 0.1928 - mean_absolute_error: 0.3004 - val_loss: 0.1823 - val_mean_absolute_error: 0.2810\n",
      "Epoch 7/20\n",
      "368/368 [==============================] - 2s 5ms/step - loss: 0.1940 - mean_absolute_error: 0.3010 - val_loss: 0.1817 - val_mean_absolute_error: 0.2826\n",
      "Epoch 8/20\n",
      "368/368 [==============================] - 2s 5ms/step - loss: 0.1934 - mean_absolute_error: 0.3007 - val_loss: 0.1829 - val_mean_absolute_error: 0.2860\n",
      "Epoch 9/20\n",
      "368/368 [==============================] - 2s 5ms/step - loss: 0.1935 - mean_absolute_error: 0.3004 - val_loss: 0.1829 - val_mean_absolute_error: 0.2905\n",
      "***TRAIN***:\n",
      "correlation related to cluster centre: 0.90\n",
      "r2 score related to cluster centre: 0.81\n",
      "***VALIDATION***:\n",
      "correlation related to cluster centre: 0.91\n",
      "r2 score related to cluster centre: 0.83\n"
     ]
    },
    {
     "data": {
      "application/vnd.jupyter.widget-view+json": {
       "model_id": "b10cae264a2b41b78f0f2991d833c897",
       "version_major": 2,
       "version_minor": 0
      },
      "text/plain": [
       "IntProgress(value=0, max=53)"
      ]
     },
     "metadata": {},
     "output_type": "display_data"
    },
    {
     "name": "stdout",
     "output_type": "stream",
     "text": [
      "***VALIDATION***:\n",
      "average correlation: 0.91\n",
      "average r2: 0.82\n",
      "weighted_average_correlation: 0.89\n",
      "weighted_average_r2_score: 0.74\n",
      "bad clusters rate: 0.56%\n",
      "------------------------------------------------------\n"
     ]
    }
   ],
   "source": [
    "first_path = r\"C:\\Coding\\final-qualifying-work_2023-2024\\ClusteringCpp\\output\\cmeans 5 0.1 20.txt\"\n",
    "second_path = r\"C:\\Coding\\final-qualifying-work_2023-2024\\ClusteringCpp\\output\\cmeans 15 0.1 20.txt\"\n",
    "third_path = r\"C:\\Coding\\final-qualifying-work_2023-2024\\ClusteringCpp\\output\\cmeans 30 0.1 20.txt\"\n",
    "fourth_path = r\"C:\\Coding\\final-qualifying-work_2023-2024\\ClusteringCpp\\output\\cmeans 60 0.1 5.txt\"\n",
    "\n",
    "output_file = open(\"computational-experiments-output-cmeans.txt\", \"a\")\n",
    "\n",
    "selected_path = third_path\n",
    "\n",
    "print('------------------------------------------------------')\n",
    "output_file.write('------------------------------------------------------\\n')\n",
    "\n",
    "print(f\"lstm {os.path.split(selected_path)[-1]}\")\n",
    "output_file.write(f\"lstm {os.path.split(selected_path)[-1]}\\n\")\n",
    "show_results(lstm_model, get_clusters(selected_path), CONV_WIDTH)\n",
    "\n",
    "print('------------------------------------------------------')\n",
    "output_file.write('------------------------------------------------------\\n')\n",
    "\n",
    "output_file.close()"
   ]
  },
  {
   "cell_type": "code",
   "execution_count": 28,
   "id": "96f8aa91-54ea-407a-8999-de85512015f9",
   "metadata": {},
   "outputs": [
    {
     "name": "stdout",
     "output_type": "stream",
     "text": [
      "------------------------------------------------------\n",
      "lstm cmeans 60 0.1 5.txt\n",
      "---do_investigations. cluster index : 0---\n"
     ]
    },
    {
     "data": {
      "application/vnd.jupyter.widget-view+json": {
       "model_id": "508b599e608b4ddab94edf4543927512",
       "version_major": 2,
       "version_minor": 0
      },
      "text/plain": [
       "IntProgress(value=0, max=2)"
      ]
     },
     "metadata": {},
     "output_type": "display_data"
    },
    {
     "name": "stdout",
     "output_type": "stream",
     "text": [
      "Epoch 1/20\n",
      "368/368 [==============================] - 5s 6ms/step - loss: 0.2724 - mean_absolute_error: 0.3561 - val_loss: 0.2317 - val_mean_absolute_error: 0.3125\n",
      "Epoch 2/20\n",
      "368/368 [==============================] - 2s 5ms/step - loss: 0.1994 - mean_absolute_error: 0.3008 - val_loss: 0.2193 - val_mean_absolute_error: 0.3031\n",
      "Epoch 3/20\n",
      "368/368 [==============================] - 2s 5ms/step - loss: 0.1987 - mean_absolute_error: 0.2996 - val_loss: 0.2225 - val_mean_absolute_error: 0.3064\n",
      "Epoch 4/20\n",
      "368/368 [==============================] - 2s 5ms/step - loss: 0.1992 - mean_absolute_error: 0.2999 - val_loss: 0.2188 - val_mean_absolute_error: 0.3045\n",
      "Epoch 5/20\n",
      "368/368 [==============================] - 2s 5ms/step - loss: 0.1988 - mean_absolute_error: 0.2998 - val_loss: 0.2175 - val_mean_absolute_error: 0.3013\n",
      "Epoch 6/20\n",
      "368/368 [==============================] - 2s 5ms/step - loss: 0.1982 - mean_absolute_error: 0.2989 - val_loss: 0.2248 - val_mean_absolute_error: 0.3130\n",
      "Epoch 7/20\n",
      "368/368 [==============================] - 2s 5ms/step - loss: 0.1969 - mean_absolute_error: 0.2983 - val_loss: 0.2256 - val_mean_absolute_error: 0.3101\n",
      "***TRAIN***:\n",
      "correlation related to cluster centre: 0.90\n",
      "r2 score related to cluster centre: 0.80\n",
      "***VALIDATION***:\n",
      "correlation related to cluster centre: 0.91\n",
      "r2 score related to cluster centre: 0.81\n"
     ]
    },
    {
     "data": {
      "application/vnd.jupyter.widget-view+json": {
       "model_id": "6247baeb587a4ce1b0e899624ff97d73",
       "version_major": 2,
       "version_minor": 0
      },
      "text/plain": [
       "IntProgress(value=0, max=2)"
      ]
     },
     "metadata": {},
     "output_type": "display_data"
    },
    {
     "name": "stdout",
     "output_type": "stream",
     "text": [
      "***VALIDATION***:\n",
      "average correlation: 0.91\n",
      "average r2: 0.81\n",
      "---do_investigations. cluster index : 1---\n"
     ]
    },
    {
     "data": {
      "application/vnd.jupyter.widget-view+json": {
       "model_id": "e1fc79d8cd064d3782ec9dc937a5dcdc",
       "version_major": 2,
       "version_minor": 0
      },
      "text/plain": [
       "IntProgress(value=0, max=89)"
      ]
     },
     "metadata": {},
     "output_type": "display_data"
    },
    {
     "name": "stdout",
     "output_type": "stream",
     "text": [
      "Epoch 1/20\n",
      "368/368 [==============================] - 5s 6ms/step - loss: 0.2918 - mean_absolute_error: 0.3216 - val_loss: 0.2737 - val_mean_absolute_error: 0.2922\n",
      "Epoch 2/20\n",
      "368/368 [==============================] - 2s 5ms/step - loss: 0.2100 - mean_absolute_error: 0.2726 - val_loss: 0.2687 - val_mean_absolute_error: 0.2817\n",
      "Epoch 3/20\n",
      "368/368 [==============================] - 2s 5ms/step - loss: 0.2068 - mean_absolute_error: 0.2714 - val_loss: 0.2683 - val_mean_absolute_error: 0.2934\n",
      "Epoch 4/20\n",
      "368/368 [==============================] - 2s 5ms/step - loss: 0.2074 - mean_absolute_error: 0.2716 - val_loss: 0.2684 - val_mean_absolute_error: 0.2922\n",
      "Epoch 5/20\n",
      "368/368 [==============================] - 2s 5ms/step - loss: 0.2068 - mean_absolute_error: 0.2716 - val_loss: 0.2666 - val_mean_absolute_error: 0.2890\n",
      "Epoch 6/20\n",
      "368/368 [==============================] - 2s 5ms/step - loss: 0.2073 - mean_absolute_error: 0.2706 - val_loss: 0.2669 - val_mean_absolute_error: 0.2911\n",
      "Epoch 7/20\n",
      "368/368 [==============================] - 2s 5ms/step - loss: 0.2070 - mean_absolute_error: 0.2706 - val_loss: 0.2670 - val_mean_absolute_error: 0.2843\n",
      "***TRAIN***:\n",
      "correlation related to cluster centre: 0.89\n",
      "r2 score related to cluster centre: 0.80\n",
      "***VALIDATION***:\n",
      "correlation related to cluster centre: 0.89\n",
      "r2 score related to cluster centre: 0.80\n"
     ]
    },
    {
     "data": {
      "application/vnd.jupyter.widget-view+json": {
       "model_id": "a4c074fef7204e45b37c9e259185f3fe",
       "version_major": 2,
       "version_minor": 0
      },
      "text/plain": [
       "IntProgress(value=0, max=89)"
      ]
     },
     "metadata": {},
     "output_type": "display_data"
    },
    {
     "name": "stdout",
     "output_type": "stream",
     "text": [
      "***VALIDATION***:\n",
      "average correlation: 0.89\n",
      "average r2: 0.77\n",
      "---do_investigations. cluster index : 2---\n"
     ]
    },
    {
     "data": {
      "application/vnd.jupyter.widget-view+json": {
       "model_id": "f4ace2b0a8254a079176f0e5ac8a78d9",
       "version_major": 2,
       "version_minor": 0
      },
      "text/plain": [
       "IntProgress(value=0, max=4)"
      ]
     },
     "metadata": {},
     "output_type": "display_data"
    },
    {
     "name": "stdout",
     "output_type": "stream",
     "text": [
      "Epoch 1/20\n",
      "368/368 [==============================] - 5s 6ms/step - loss: 0.2754 - mean_absolute_error: 0.3690 - val_loss: 0.1735 - val_mean_absolute_error: 0.2988\n",
      "Epoch 2/20\n",
      "368/368 [==============================] - 2s 5ms/step - loss: 0.2075 - mean_absolute_error: 0.3184 - val_loss: 0.1724 - val_mean_absolute_error: 0.2961\n",
      "Epoch 3/20\n",
      "368/368 [==============================] - 2s 5ms/step - loss: 0.2066 - mean_absolute_error: 0.3173 - val_loss: 0.1727 - val_mean_absolute_error: 0.2942\n",
      "Epoch 4/20\n",
      "368/368 [==============================] - 2s 5ms/step - loss: 0.2074 - mean_absolute_error: 0.3178 - val_loss: 0.1731 - val_mean_absolute_error: 0.2977\n",
      "***TRAIN***:\n",
      "correlation related to cluster centre: 0.89\n",
      "r2 score related to cluster centre: 0.79\n",
      "***VALIDATION***:\n",
      "correlation related to cluster centre: 0.91\n",
      "r2 score related to cluster centre: 0.82\n"
     ]
    },
    {
     "data": {
      "application/vnd.jupyter.widget-view+json": {
       "model_id": "d93adf9883584684aa26570872752dba",
       "version_major": 2,
       "version_minor": 0
      },
      "text/plain": [
       "IntProgress(value=0, max=4)"
      ]
     },
     "metadata": {},
     "output_type": "display_data"
    },
    {
     "name": "stdout",
     "output_type": "stream",
     "text": [
      "***VALIDATION***:\n",
      "average correlation: 0.90\n",
      "average r2: 0.81\n",
      "---do_investigations. cluster index : 3---\n"
     ]
    },
    {
     "data": {
      "application/vnd.jupyter.widget-view+json": {
       "model_id": "98fbda2bd2fb4cfb949862ceeed7fc94",
       "version_major": 2,
       "version_minor": 0
      },
      "text/plain": [
       "IntProgress(value=0, max=95)"
      ]
     },
     "metadata": {},
     "output_type": "display_data"
    },
    {
     "name": "stdout",
     "output_type": "stream",
     "text": [
      "Epoch 1/20\n",
      "368/368 [==============================] - 5s 6ms/step - loss: 0.2838 - mean_absolute_error: 0.3873 - val_loss: 0.2449 - val_mean_absolute_error: 0.3489\n",
      "Epoch 2/20\n",
      "368/368 [==============================] - 2s 5ms/step - loss: 0.2170 - mean_absolute_error: 0.3325 - val_loss: 0.2433 - val_mean_absolute_error: 0.3509\n",
      "Epoch 3/20\n",
      "368/368 [==============================] - 2s 5ms/step - loss: 0.2172 - mean_absolute_error: 0.3321 - val_loss: 0.2427 - val_mean_absolute_error: 0.3514\n",
      "Epoch 4/20\n",
      "368/368 [==============================] - 2s 5ms/step - loss: 0.2165 - mean_absolute_error: 0.3313 - val_loss: 0.2423 - val_mean_absolute_error: 0.3487\n",
      "Epoch 5/20\n",
      "368/368 [==============================] - 2s 5ms/step - loss: 0.2160 - mean_absolute_error: 0.3314 - val_loss: 0.2443 - val_mean_absolute_error: 0.3520\n",
      "Epoch 6/20\n",
      "368/368 [==============================] - 2s 5ms/step - loss: 0.2160 - mean_absolute_error: 0.3314 - val_loss: 0.2440 - val_mean_absolute_error: 0.3495\n",
      "***TRAIN***:\n",
      "correlation related to cluster centre: 0.89\n",
      "r2 score related to cluster centre: 0.79\n",
      "***VALIDATION***:\n",
      "correlation related to cluster centre: 0.90\n",
      "r2 score related to cluster centre: 0.80\n"
     ]
    },
    {
     "data": {
      "application/vnd.jupyter.widget-view+json": {
       "model_id": "d247888066fb47938ba95af897140f02",
       "version_major": 2,
       "version_minor": 0
      },
      "text/plain": [
       "IntProgress(value=0, max=95)"
      ]
     },
     "metadata": {},
     "output_type": "display_data"
    },
    {
     "name": "stdout",
     "output_type": "stream",
     "text": [
      "***VALIDATION***:\n",
      "average correlation: 0.88\n",
      "average r2: 0.69\n",
      "---do_investigations. cluster index : 4---\n"
     ]
    },
    {
     "data": {
      "application/vnd.jupyter.widget-view+json": {
       "model_id": "98f521f5348e4684b0d4dc9ac3edd0d5",
       "version_major": 2,
       "version_minor": 0
      },
      "text/plain": [
       "IntProgress(value=0, max=5)"
      ]
     },
     "metadata": {},
     "output_type": "display_data"
    },
    {
     "name": "stdout",
     "output_type": "stream",
     "text": [
      "Epoch 1/20\n",
      "368/368 [==============================] - 5s 6ms/step - loss: 0.2817 - mean_absolute_error: 0.3809 - val_loss: 0.1891 - val_mean_absolute_error: 0.3145\n",
      "Epoch 2/20\n",
      "368/368 [==============================] - 2s 5ms/step - loss: 0.2100 - mean_absolute_error: 0.3251 - val_loss: 0.1852 - val_mean_absolute_error: 0.3034\n",
      "Epoch 3/20\n",
      "368/368 [==============================] - 2s 5ms/step - loss: 0.2103 - mean_absolute_error: 0.3243 - val_loss: 0.1848 - val_mean_absolute_error: 0.3058\n",
      "Epoch 4/20\n",
      "368/368 [==============================] - 2s 5ms/step - loss: 0.2094 - mean_absolute_error: 0.3238 - val_loss: 0.1915 - val_mean_absolute_error: 0.3115\n",
      "Epoch 5/20\n",
      "368/368 [==============================] - 2s 5ms/step - loss: 0.2091 - mean_absolute_error: 0.3229 - val_loss: 0.1886 - val_mean_absolute_error: 0.3144\n",
      "***TRAIN***:\n",
      "correlation related to cluster centre: 0.89\n",
      "r2 score related to cluster centre: 0.79\n",
      "***VALIDATION***:\n",
      "correlation related to cluster centre: 0.91\n",
      "r2 score related to cluster centre: 0.81\n"
     ]
    },
    {
     "data": {
      "application/vnd.jupyter.widget-view+json": {
       "model_id": "4d081ce8b834453d8fdb935abba53e19",
       "version_major": 2,
       "version_minor": 0
      },
      "text/plain": [
       "IntProgress(value=0, max=5)"
      ]
     },
     "metadata": {},
     "output_type": "display_data"
    },
    {
     "name": "stdout",
     "output_type": "stream",
     "text": [
      "***VALIDATION***:\n",
      "average correlation: 0.90\n",
      "average r2: 0.80\n",
      "---do_investigations. cluster index : 5---\n"
     ]
    },
    {
     "data": {
      "application/vnd.jupyter.widget-view+json": {
       "model_id": "66f6f12d74f046439f4045e601d2d31e",
       "version_major": 2,
       "version_minor": 0
      },
      "text/plain": [
       "IntProgress(value=0, max=4404)"
      ]
     },
     "metadata": {},
     "output_type": "display_data"
    },
    {
     "name": "stdout",
     "output_type": "stream",
     "text": [
      "Epoch 1/20\n",
      "368/368 [==============================] - 5s 6ms/step - loss: 0.1921 - mean_absolute_error: 0.2708 - val_loss: 0.1479 - val_mean_absolute_error: 0.1950\n",
      "Epoch 2/20\n",
      "368/368 [==============================] - 2s 5ms/step - loss: 0.1205 - mean_absolute_error: 0.2116 - val_loss: 0.1400 - val_mean_absolute_error: 0.1980\n",
      "Epoch 3/20\n",
      "368/368 [==============================] - 2s 5ms/step - loss: 0.1193 - mean_absolute_error: 0.2111 - val_loss: 0.1380 - val_mean_absolute_error: 0.1908\n",
      "Epoch 4/20\n",
      "368/368 [==============================] - 2s 5ms/step - loss: 0.1176 - mean_absolute_error: 0.2089 - val_loss: 0.1375 - val_mean_absolute_error: 0.1966\n",
      "Epoch 5/20\n",
      "368/368 [==============================] - 2s 5ms/step - loss: 0.1183 - mean_absolute_error: 0.2089 - val_loss: 0.1356 - val_mean_absolute_error: 0.1901\n",
      "Epoch 6/20\n",
      "368/368 [==============================] - 2s 5ms/step - loss: 0.1179 - mean_absolute_error: 0.2087 - val_loss: 0.1364 - val_mean_absolute_error: 0.1960\n",
      "Epoch 7/20\n",
      "368/368 [==============================] - 2s 5ms/step - loss: 0.1174 - mean_absolute_error: 0.2082 - val_loss: 0.1366 - val_mean_absolute_error: 0.1976\n",
      "***TRAIN***:\n",
      "correlation related to cluster centre: 0.94\n",
      "r2 score related to cluster centre: 0.88\n",
      "***VALIDATION***:\n",
      "correlation related to cluster centre: 0.91\n",
      "r2 score related to cluster centre: 0.82\n"
     ]
    },
    {
     "data": {
      "application/vnd.jupyter.widget-view+json": {
       "model_id": "072db5e6f1bf43f496b5d3f1c7dd1708",
       "version_major": 2,
       "version_minor": 0
      },
      "text/plain": [
       "IntProgress(value=0, max=4404)"
      ]
     },
     "metadata": {},
     "output_type": "display_data"
    },
    {
     "name": "stdout",
     "output_type": "stream",
     "text": [
      "***VALIDATION***:\n",
      "average correlation: nan\n",
      "average r2: -255227995089677837483900928.00\n",
      "---do_investigations. cluster index : 6---\n"
     ]
    },
    {
     "data": {
      "application/vnd.jupyter.widget-view+json": {
       "model_id": "df2992e61b6b4234ac5958295d189ecf",
       "version_major": 2,
       "version_minor": 0
      },
      "text/plain": [
       "IntProgress(value=0, max=17)"
      ]
     },
     "metadata": {},
     "output_type": "display_data"
    },
    {
     "name": "stdout",
     "output_type": "stream",
     "text": [
      "Epoch 1/20\n",
      "368/368 [==============================] - 8s 7ms/step - loss: 0.2727 - mean_absolute_error: 0.3689 - val_loss: 0.1886 - val_mean_absolute_error: 0.2969\n",
      "Epoch 2/20\n",
      "368/368 [==============================] - 2s 5ms/step - loss: 0.2085 - mean_absolute_error: 0.3196 - val_loss: 0.1854 - val_mean_absolute_error: 0.3009\n",
      "Epoch 3/20\n",
      "368/368 [==============================] - 2s 5ms/step - loss: 0.2073 - mean_absolute_error: 0.3186 - val_loss: 0.1829 - val_mean_absolute_error: 0.2989\n",
      "Epoch 4/20\n",
      "368/368 [==============================] - 2s 5ms/step - loss: 0.2072 - mean_absolute_error: 0.3181 - val_loss: 0.1842 - val_mean_absolute_error: 0.2996\n",
      "Epoch 5/20\n",
      "368/368 [==============================] - 2s 5ms/step - loss: 0.2068 - mean_absolute_error: 0.3178 - val_loss: 0.1852 - val_mean_absolute_error: 0.3062\n",
      "***TRAIN***:\n",
      "correlation related to cluster centre: 0.89\n",
      "r2 score related to cluster centre: 0.79\n",
      "***VALIDATION***:\n",
      "correlation related to cluster centre: 0.90\n",
      "r2 score related to cluster centre: 0.82\n"
     ]
    },
    {
     "data": {
      "application/vnd.jupyter.widget-view+json": {
       "model_id": "4c0e106c8d014c3ba310c9dd9d784b9e",
       "version_major": 2,
       "version_minor": 0
      },
      "text/plain": [
       "IntProgress(value=0, max=17)"
      ]
     },
     "metadata": {},
     "output_type": "display_data"
    },
    {
     "name": "stdout",
     "output_type": "stream",
     "text": [
      "***VALIDATION***:\n",
      "average correlation: 0.90\n",
      "average r2: 0.80\n",
      "---do_investigations. cluster index : 7---\n"
     ]
    },
    {
     "data": {
      "application/vnd.jupyter.widget-view+json": {
       "model_id": "a7e899eeea9f454bbb2fd1711f6d8417",
       "version_major": 2,
       "version_minor": 0
      },
      "text/plain": [
       "IntProgress(value=0, max=131)"
      ]
     },
     "metadata": {},
     "output_type": "display_data"
    },
    {
     "name": "stdout",
     "output_type": "stream",
     "text": [
      "Epoch 1/20\n",
      "368/368 [==============================] - 6s 7ms/step - loss: 0.2783 - mean_absolute_error: 0.3436 - val_loss: 0.1550 - val_mean_absolute_error: 0.2581\n",
      "Epoch 2/20\n",
      "368/368 [==============================] - 2s 5ms/step - loss: 0.1889 - mean_absolute_error: 0.2863 - val_loss: 0.1529 - val_mean_absolute_error: 0.2538\n",
      "Epoch 3/20\n",
      "368/368 [==============================] - 2s 5ms/step - loss: 0.1881 - mean_absolute_error: 0.2851 - val_loss: 0.1541 - val_mean_absolute_error: 0.2569\n",
      "Epoch 4/20\n",
      "368/368 [==============================] - 2s 5ms/step - loss: 0.1870 - mean_absolute_error: 0.2844 - val_loss: 0.1524 - val_mean_absolute_error: 0.2536\n",
      "Epoch 5/20\n",
      "368/368 [==============================] - 2s 5ms/step - loss: 0.1876 - mean_absolute_error: 0.2844 - val_loss: 0.1588 - val_mean_absolute_error: 0.2628\n",
      "Epoch 6/20\n",
      "368/368 [==============================] - 2s 5ms/step - loss: 0.1858 - mean_absolute_error: 0.2826 - val_loss: 0.1473 - val_mean_absolute_error: 0.2488\n",
      "Epoch 7/20\n",
      "368/368 [==============================] - 2s 5ms/step - loss: 0.1867 - mean_absolute_error: 0.2837 - val_loss: 0.1455 - val_mean_absolute_error: 0.2495\n",
      "Epoch 8/20\n",
      "368/368 [==============================] - 2s 5ms/step - loss: 0.1861 - mean_absolute_error: 0.2826 - val_loss: 0.1446 - val_mean_absolute_error: 0.2460\n",
      "Epoch 9/20\n",
      "368/368 [==============================] - 2s 5ms/step - loss: 0.1853 - mean_absolute_error: 0.2823 - val_loss: 0.1507 - val_mean_absolute_error: 0.2516\n",
      "Epoch 10/20\n",
      "368/368 [==============================] - 2s 5ms/step - loss: 0.1856 - mean_absolute_error: 0.2826 - val_loss: 0.1526 - val_mean_absolute_error: 0.2521\n",
      "***TRAIN***:\n",
      "correlation related to cluster centre: 0.90\n",
      "r2 score related to cluster centre: 0.81\n",
      "***VALIDATION***:\n",
      "correlation related to cluster centre: 0.91\n",
      "r2 score related to cluster centre: 0.82\n"
     ]
    },
    {
     "data": {
      "application/vnd.jupyter.widget-view+json": {
       "model_id": "5360459d2ff54a859f2543519cb3ed8d",
       "version_major": 2,
       "version_minor": 0
      },
      "text/plain": [
       "IntProgress(value=0, max=131)"
      ]
     },
     "metadata": {},
     "output_type": "display_data"
    },
    {
     "name": "stdout",
     "output_type": "stream",
     "text": [
      "***VALIDATION***:\n",
      "average correlation: 0.91\n",
      "average r2: 0.76\n",
      "---do_investigations. cluster index : 8---\n"
     ]
    },
    {
     "data": {
      "application/vnd.jupyter.widget-view+json": {
       "model_id": "a5d83ff217554c379d70efb5a09c0698",
       "version_major": 2,
       "version_minor": 0
      },
      "text/plain": [
       "IntProgress(value=0, max=67)"
      ]
     },
     "metadata": {},
     "output_type": "display_data"
    },
    {
     "name": "stdout",
     "output_type": "stream",
     "text": [
      "Epoch 1/20\n",
      "368/368 [==============================] - 5s 6ms/step - loss: 0.2683 - mean_absolute_error: 0.3419 - val_loss: 0.1994 - val_mean_absolute_error: 0.2866\n",
      "Epoch 2/20\n",
      "368/368 [==============================] - 2s 5ms/step - loss: 0.2092 - mean_absolute_error: 0.2941 - val_loss: 0.1938 - val_mean_absolute_error: 0.2707\n",
      "Epoch 3/20\n",
      "368/368 [==============================] - 2s 5ms/step - loss: 0.2086 - mean_absolute_error: 0.2921 - val_loss: 0.1915 - val_mean_absolute_error: 0.2742\n",
      "Epoch 4/20\n",
      "368/368 [==============================] - 2s 5ms/step - loss: 0.2071 - mean_absolute_error: 0.2915 - val_loss: 0.1872 - val_mean_absolute_error: 0.2787\n",
      "Epoch 5/20\n",
      "368/368 [==============================] - 2s 5ms/step - loss: 0.2074 - mean_absolute_error: 0.2913 - val_loss: 0.1913 - val_mean_absolute_error: 0.2693\n",
      "Epoch 6/20\n",
      "368/368 [==============================] - 2s 5ms/step - loss: 0.2057 - mean_absolute_error: 0.2895 - val_loss: 0.1880 - val_mean_absolute_error: 0.2732\n",
      "***TRAIN***:\n",
      "correlation related to cluster centre: 0.89\n",
      "r2 score related to cluster centre: 0.80\n",
      "***VALIDATION***:\n",
      "correlation related to cluster centre: 0.90\n",
      "r2 score related to cluster centre: 0.82\n"
     ]
    },
    {
     "data": {
      "application/vnd.jupyter.widget-view+json": {
       "model_id": "e365b6c661f64469b44cb0d34156893f",
       "version_major": 2,
       "version_minor": 0
      },
      "text/plain": [
       "IntProgress(value=0, max=67)"
      ]
     },
     "metadata": {},
     "output_type": "display_data"
    },
    {
     "name": "stdout",
     "output_type": "stream",
     "text": [
      "***VALIDATION***:\n",
      "average correlation: 0.90\n",
      "average r2: 0.81\n",
      "---do_investigations. cluster index : 9---\n"
     ]
    },
    {
     "data": {
      "application/vnd.jupyter.widget-view+json": {
       "model_id": "21a10f2ff00548c3935b1ed5981b5106",
       "version_major": 2,
       "version_minor": 0
      },
      "text/plain": [
       "IntProgress(value=0, max=15)"
      ]
     },
     "metadata": {},
     "output_type": "display_data"
    },
    {
     "name": "stdout",
     "output_type": "stream",
     "text": [
      "Epoch 1/20\n",
      "368/368 [==============================] - 5s 6ms/step - loss: 0.2659 - mean_absolute_error: 0.3525 - val_loss: 0.1974 - val_mean_absolute_error: 0.2885\n",
      "Epoch 2/20\n",
      "368/368 [==============================] - 2s 5ms/step - loss: 0.2026 - mean_absolute_error: 0.3080 - val_loss: 0.1970 - val_mean_absolute_error: 0.2881\n",
      "Epoch 3/20\n",
      "368/368 [==============================] - 2s 5ms/step - loss: 0.2011 - mean_absolute_error: 0.3064 - val_loss: 0.1973 - val_mean_absolute_error: 0.2861\n",
      "Epoch 4/20\n",
      "368/368 [==============================] - 2s 5ms/step - loss: 0.2011 - mean_absolute_error: 0.3060 - val_loss: 0.1957 - val_mean_absolute_error: 0.2884\n",
      "Epoch 5/20\n",
      "368/368 [==============================] - 2s 5ms/step - loss: 0.2006 - mean_absolute_error: 0.3062 - val_loss: 0.1950 - val_mean_absolute_error: 0.2915\n",
      "Epoch 6/20\n",
      "368/368 [==============================] - 2s 5ms/step - loss: 0.2010 - mean_absolute_error: 0.3063 - val_loss: 0.1965 - val_mean_absolute_error: 0.2866\n",
      "Epoch 7/20\n",
      "368/368 [==============================] - 2s 5ms/step - loss: 0.2005 - mean_absolute_error: 0.3056 - val_loss: 0.1968 - val_mean_absolute_error: 0.2878\n",
      "***TRAIN***:\n",
      "correlation related to cluster centre: 0.90\n",
      "r2 score related to cluster centre: 0.80\n",
      "***VALIDATION***:\n",
      "correlation related to cluster centre: 0.91\n",
      "r2 score related to cluster centre: 0.82\n"
     ]
    },
    {
     "data": {
      "application/vnd.jupyter.widget-view+json": {
       "model_id": "4b7bb5c11a2b4d59aeb7b2b7a7861e49",
       "version_major": 2,
       "version_minor": 0
      },
      "text/plain": [
       "IntProgress(value=0, max=15)"
      ]
     },
     "metadata": {},
     "output_type": "display_data"
    },
    {
     "name": "stdout",
     "output_type": "stream",
     "text": [
      "***VALIDATION***:\n",
      "average correlation: 0.91\n",
      "average r2: 0.82\n",
      "---do_investigations. cluster index : 10---\n"
     ]
    },
    {
     "data": {
      "application/vnd.jupyter.widget-view+json": {
       "model_id": "3e05ad193eba42d1a564c4f032f24561",
       "version_major": 2,
       "version_minor": 0
      },
      "text/plain": [
       "IntProgress(value=0, max=32)"
      ]
     },
     "metadata": {},
     "output_type": "display_data"
    },
    {
     "name": "stdout",
     "output_type": "stream",
     "text": [
      "Epoch 1/20\n",
      "368/368 [==============================] - 6s 6ms/step - loss: 0.2822 - mean_absolute_error: 0.3758 - val_loss: 0.1959 - val_mean_absolute_error: 0.3043\n",
      "Epoch 2/20\n",
      "368/368 [==============================] - 2s 5ms/step - loss: 0.2096 - mean_absolute_error: 0.3221 - val_loss: 0.1934 - val_mean_absolute_error: 0.3164\n",
      "Epoch 3/20\n",
      "368/368 [==============================] - 2s 5ms/step - loss: 0.2090 - mean_absolute_error: 0.3216 - val_loss: 0.1927 - val_mean_absolute_error: 0.3112\n",
      "Epoch 4/20\n",
      "368/368 [==============================] - 2s 5ms/step - loss: 0.2085 - mean_absolute_error: 0.3212 - val_loss: 0.1956 - val_mean_absolute_error: 0.3007\n",
      "Epoch 5/20\n",
      "368/368 [==============================] - 2s 5ms/step - loss: 0.2083 - mean_absolute_error: 0.3208 - val_loss: 0.1923 - val_mean_absolute_error: 0.3020\n",
      "Epoch 6/20\n",
      "368/368 [==============================] - 2s 5ms/step - loss: 0.2075 - mean_absolute_error: 0.3202 - val_loss: 0.1938 - val_mean_absolute_error: 0.3001\n",
      "Epoch 7/20\n",
      "368/368 [==============================] - 2s 5ms/step - loss: 0.2083 - mean_absolute_error: 0.3212 - val_loss: 0.1963 - val_mean_absolute_error: 0.2988\n",
      "***TRAIN***:\n",
      "correlation related to cluster centre: 0.89\n",
      "r2 score related to cluster centre: 0.79\n",
      "***VALIDATION***:\n",
      "correlation related to cluster centre: 0.90\n",
      "r2 score related to cluster centre: 0.81\n"
     ]
    },
    {
     "data": {
      "application/vnd.jupyter.widget-view+json": {
       "model_id": "e70f7577eace4e108b8d345d5b8cc3e2",
       "version_major": 2,
       "version_minor": 0
      },
      "text/plain": [
       "IntProgress(value=0, max=32)"
      ]
     },
     "metadata": {},
     "output_type": "display_data"
    },
    {
     "name": "stdout",
     "output_type": "stream",
     "text": [
      "***VALIDATION***:\n",
      "average correlation: 0.90\n",
      "average r2: 0.81\n",
      "---do_investigations. cluster index : 11---\n"
     ]
    },
    {
     "data": {
      "application/vnd.jupyter.widget-view+json": {
       "model_id": "a35149a3c77c430bba6d5cba493f975d",
       "version_major": 2,
       "version_minor": 0
      },
      "text/plain": [
       "IntProgress(value=0, max=24)"
      ]
     },
     "metadata": {},
     "output_type": "display_data"
    },
    {
     "name": "stdout",
     "output_type": "stream",
     "text": [
      "Epoch 1/20\n",
      "368/368 [==============================] - 5s 6ms/step - loss: 0.2815 - mean_absolute_error: 0.3143 - val_loss: 0.2925 - val_mean_absolute_error: 0.2784\n",
      "Epoch 2/20\n",
      "368/368 [==============================] - 2s 5ms/step - loss: 0.2114 - mean_absolute_error: 0.2695 - val_loss: 0.2784 - val_mean_absolute_error: 0.2753\n",
      "Epoch 3/20\n",
      "368/368 [==============================] - 2s 5ms/step - loss: 0.2083 - mean_absolute_error: 0.2672 - val_loss: 0.2756 - val_mean_absolute_error: 0.2674\n",
      "Epoch 4/20\n",
      "368/368 [==============================] - 2s 5ms/step - loss: 0.2081 - mean_absolute_error: 0.2670 - val_loss: 0.2719 - val_mean_absolute_error: 0.2767\n",
      "Epoch 5/20\n",
      "368/368 [==============================] - 2s 5ms/step - loss: 0.2080 - mean_absolute_error: 0.2676 - val_loss: 0.2730 - val_mean_absolute_error: 0.2675\n",
      "Epoch 6/20\n",
      "368/368 [==============================] - 2s 5ms/step - loss: 0.2087 - mean_absolute_error: 0.2671 - val_loss: 0.2704 - val_mean_absolute_error: 0.2700\n",
      "Epoch 7/20\n",
      "368/368 [==============================] - 2s 5ms/step - loss: 0.2063 - mean_absolute_error: 0.2659 - val_loss: 0.2699 - val_mean_absolute_error: 0.2720\n",
      "Epoch 8/20\n",
      "368/368 [==============================] - 2s 5ms/step - loss: 0.2066 - mean_absolute_error: 0.2657 - val_loss: 0.2717 - val_mean_absolute_error: 0.2767\n",
      "Epoch 9/20\n",
      "368/368 [==============================] - 2s 5ms/step - loss: 0.2076 - mean_absolute_error: 0.2654 - val_loss: 0.2741 - val_mean_absolute_error: 0.2751\n",
      "***TRAIN***:\n",
      "correlation related to cluster centre: 0.89\n",
      "r2 score related to cluster centre: 0.79\n",
      "***VALIDATION***:\n",
      "correlation related to cluster centre: 0.89\n",
      "r2 score related to cluster centre: 0.80\n"
     ]
    },
    {
     "data": {
      "application/vnd.jupyter.widget-view+json": {
       "model_id": "9fbae766e58841ff9657714f50c4ed1d",
       "version_major": 2,
       "version_minor": 0
      },
      "text/plain": [
       "IntProgress(value=0, max=24)"
      ]
     },
     "metadata": {},
     "output_type": "display_data"
    },
    {
     "name": "stdout",
     "output_type": "stream",
     "text": [
      "***VALIDATION***:\n",
      "average correlation: 0.89\n",
      "average r2: 0.78\n",
      "---do_investigations. cluster index : 12---\n"
     ]
    },
    {
     "data": {
      "application/vnd.jupyter.widget-view+json": {
       "model_id": "fc7b84df2e3147179553454201f7d20b",
       "version_major": 2,
       "version_minor": 0
      },
      "text/plain": [
       "IntProgress(value=0, max=3)"
      ]
     },
     "metadata": {},
     "output_type": "display_data"
    },
    {
     "name": "stdout",
     "output_type": "stream",
     "text": [
      "Epoch 1/20\n",
      "368/368 [==============================] - 5s 6ms/step - loss: 0.2701 - mean_absolute_error: 0.3636 - val_loss: 0.1875 - val_mean_absolute_error: 0.2913\n",
      "Epoch 2/20\n",
      "368/368 [==============================] - 2s 5ms/step - loss: 0.2042 - mean_absolute_error: 0.3124 - val_loss: 0.1935 - val_mean_absolute_error: 0.2915\n",
      "Epoch 3/20\n",
      "368/368 [==============================] - 2s 5ms/step - loss: 0.2031 - mean_absolute_error: 0.3110 - val_loss: 0.1817 - val_mean_absolute_error: 0.2830\n",
      "Epoch 4/20\n",
      "368/368 [==============================] - 2s 5ms/step - loss: 0.2024 - mean_absolute_error: 0.3099 - val_loss: 0.1920 - val_mean_absolute_error: 0.2988\n",
      "Epoch 5/20\n",
      "368/368 [==============================] - 2s 5ms/step - loss: 0.2027 - mean_absolute_error: 0.3107 - val_loss: 0.1930 - val_mean_absolute_error: 0.2946\n",
      "***TRAIN***:\n",
      "correlation related to cluster centre: 0.89\n",
      "r2 score related to cluster centre: 0.79\n",
      "***VALIDATION***:\n",
      "correlation related to cluster centre: 0.91\n",
      "r2 score related to cluster centre: 0.81\n"
     ]
    },
    {
     "data": {
      "application/vnd.jupyter.widget-view+json": {
       "model_id": "5c062a33262b4a8db388daa5ebc2b62b",
       "version_major": 2,
       "version_minor": 0
      },
      "text/plain": [
       "IntProgress(value=0, max=3)"
      ]
     },
     "metadata": {},
     "output_type": "display_data"
    },
    {
     "name": "stdout",
     "output_type": "stream",
     "text": [
      "***VALIDATION***:\n",
      "average correlation: 0.90\n",
      "average r2: 0.80\n",
      "---do_investigations. cluster index : 13---\n"
     ]
    },
    {
     "data": {
      "application/vnd.jupyter.widget-view+json": {
       "model_id": "0ea8bf50bced4cbc83a3540c5dcf4797",
       "version_major": 2,
       "version_minor": 0
      },
      "text/plain": [
       "IntProgress(value=0, max=384)"
      ]
     },
     "metadata": {},
     "output_type": "display_data"
    },
    {
     "name": "stdout",
     "output_type": "stream",
     "text": [
      "Epoch 1/20\n",
      "368/368 [==============================] - 5s 7ms/step - loss: 0.2812 - mean_absolute_error: 0.3368 - val_loss: 0.2356 - val_mean_absolute_error: 0.2807\n",
      "Epoch 2/20\n",
      "368/368 [==============================] - 2s 5ms/step - loss: 0.2065 - mean_absolute_error: 0.2864 - val_loss: 0.2311 - val_mean_absolute_error: 0.2848\n",
      "Epoch 3/20\n",
      "368/368 [==============================] - 2s 5ms/step - loss: 0.2053 - mean_absolute_error: 0.2849 - val_loss: 0.2328 - val_mean_absolute_error: 0.2826\n",
      "Epoch 4/20\n",
      "368/368 [==============================] - 2s 5ms/step - loss: 0.2052 - mean_absolute_error: 0.2856 - val_loss: 0.2316 - val_mean_absolute_error: 0.2840\n",
      "***TRAIN***:\n",
      "correlation related to cluster centre: 0.89\n",
      "r2 score related to cluster centre: 0.80\n",
      "***VALIDATION***:\n",
      "correlation related to cluster centre: 0.90\n",
      "r2 score related to cluster centre: 0.81\n"
     ]
    },
    {
     "data": {
      "application/vnd.jupyter.widget-view+json": {
       "model_id": "f8e0447ebb61454abfff4c2ba14adeed",
       "version_major": 2,
       "version_minor": 0
      },
      "text/plain": [
       "IntProgress(value=0, max=384)"
      ]
     },
     "metadata": {},
     "output_type": "display_data"
    },
    {
     "name": "stdout",
     "output_type": "stream",
     "text": [
      "***VALIDATION***:\n",
      "average correlation: 0.89\n",
      "average r2: 0.76\n",
      "---do_investigations. cluster index : 14---\n"
     ]
    },
    {
     "data": {
      "application/vnd.jupyter.widget-view+json": {
       "model_id": "b9c596aff0d440e8bbacc650a4c9d989",
       "version_major": 2,
       "version_minor": 0
      },
      "text/plain": [
       "IntProgress(value=0, max=166)"
      ]
     },
     "metadata": {},
     "output_type": "display_data"
    },
    {
     "name": "stdout",
     "output_type": "stream",
     "text": [
      "Epoch 1/20\n",
      "368/368 [==============================] - 5s 6ms/step - loss: 0.2677 - mean_absolute_error: 0.3301 - val_loss: 0.2228 - val_mean_absolute_error: 0.2981\n",
      "Epoch 2/20\n",
      "368/368 [==============================] - 2s 5ms/step - loss: 0.2081 - mean_absolute_error: 0.2851 - val_loss: 0.2133 - val_mean_absolute_error: 0.2877\n",
      "Epoch 3/20\n",
      "368/368 [==============================] - 2s 5ms/step - loss: 0.2055 - mean_absolute_error: 0.2830 - val_loss: 0.2136 - val_mean_absolute_error: 0.2790\n",
      "Epoch 4/20\n",
      "368/368 [==============================] - 2s 5ms/step - loss: 0.2052 - mean_absolute_error: 0.2822 - val_loss: 0.2221 - val_mean_absolute_error: 0.2865\n",
      "***TRAIN***:\n",
      "correlation related to cluster centre: 0.89\n",
      "r2 score related to cluster centre: 0.79\n",
      "***VALIDATION***:\n",
      "correlation related to cluster centre: 0.90\n",
      "r2 score related to cluster centre: 0.81\n"
     ]
    },
    {
     "data": {
      "application/vnd.jupyter.widget-view+json": {
       "model_id": "9215774e5ece46be963f2779f44aace4",
       "version_major": 2,
       "version_minor": 0
      },
      "text/plain": [
       "IntProgress(value=0, max=166)"
      ]
     },
     "metadata": {},
     "output_type": "display_data"
    },
    {
     "name": "stdout",
     "output_type": "stream",
     "text": [
      "***VALIDATION***:\n",
      "average correlation: 0.90\n",
      "average r2: 0.80\n",
      "---do_investigations. cluster index : 15---\n"
     ]
    },
    {
     "data": {
      "application/vnd.jupyter.widget-view+json": {
       "model_id": "1e2851ff0c7749caa215512bfc6b441b",
       "version_major": 2,
       "version_minor": 0
      },
      "text/plain": [
       "IntProgress(value=0, max=36)"
      ]
     },
     "metadata": {},
     "output_type": "display_data"
    },
    {
     "name": "stdout",
     "output_type": "stream",
     "text": [
      "Epoch 1/20\n",
      "368/368 [==============================] - 5s 6ms/step - loss: 0.2570 - mean_absolute_error: 0.3556 - val_loss: 0.1856 - val_mean_absolute_error: 0.2925\n",
      "Epoch 2/20\n",
      "368/368 [==============================] - 2s 5ms/step - loss: 0.1996 - mean_absolute_error: 0.3094 - val_loss: 0.1931 - val_mean_absolute_error: 0.3003\n",
      "Epoch 3/20\n",
      "368/368 [==============================] - 2s 5ms/step - loss: 0.1994 - mean_absolute_error: 0.3095 - val_loss: 0.1886 - val_mean_absolute_error: 0.2934\n",
      "***TRAIN***:\n",
      "correlation related to cluster centre: 0.90\n",
      "r2 score related to cluster centre: 0.80\n",
      "***VALIDATION***:\n",
      "correlation related to cluster centre: 0.91\n",
      "r2 score related to cluster centre: 0.82\n"
     ]
    },
    {
     "data": {
      "application/vnd.jupyter.widget-view+json": {
       "model_id": "dd5951ce22794ec8996ba6cb770479b8",
       "version_major": 2,
       "version_minor": 0
      },
      "text/plain": [
       "IntProgress(value=0, max=36)"
      ]
     },
     "metadata": {},
     "output_type": "display_data"
    },
    {
     "name": "stdout",
     "output_type": "stream",
     "text": [
      "***VALIDATION***:\n",
      "average correlation: 0.91\n",
      "average r2: 0.81\n",
      "---do_investigations. cluster index : 16---\n"
     ]
    },
    {
     "data": {
      "application/vnd.jupyter.widget-view+json": {
       "model_id": "8d34af647fea41d2a1236f8ad3aad2c4",
       "version_major": 2,
       "version_minor": 0
      },
      "text/plain": [
       "IntProgress(value=0, max=6)"
      ]
     },
     "metadata": {},
     "output_type": "display_data"
    },
    {
     "name": "stdout",
     "output_type": "stream",
     "text": [
      "Epoch 1/20\n",
      "368/368 [==============================] - 5s 6ms/step - loss: 0.2857 - mean_absolute_error: 0.3793 - val_loss: 0.2176 - val_mean_absolute_error: 0.3372\n",
      "Epoch 2/20\n",
      "368/368 [==============================] - 2s 5ms/step - loss: 0.2128 - mean_absolute_error: 0.3250 - val_loss: 0.2135 - val_mean_absolute_error: 0.3308\n",
      "Epoch 3/20\n",
      "368/368 [==============================] - 2s 5ms/step - loss: 0.2121 - mean_absolute_error: 0.3236 - val_loss: 0.2149 - val_mean_absolute_error: 0.3297\n",
      "Epoch 4/20\n",
      "368/368 [==============================] - 2s 5ms/step - loss: 0.2121 - mean_absolute_error: 0.3237 - val_loss: 0.2113 - val_mean_absolute_error: 0.3212\n",
      "Epoch 5/20\n",
      "368/368 [==============================] - 2s 5ms/step - loss: 0.2110 - mean_absolute_error: 0.3228 - val_loss: 0.2107 - val_mean_absolute_error: 0.3299\n",
      "Epoch 6/20\n",
      "368/368 [==============================] - 2s 5ms/step - loss: 0.2117 - mean_absolute_error: 0.3235 - val_loss: 0.2140 - val_mean_absolute_error: 0.3343\n",
      "Epoch 7/20\n",
      "368/368 [==============================] - 2s 5ms/step - loss: 0.2109 - mean_absolute_error: 0.3225 - val_loss: 0.2125 - val_mean_absolute_error: 0.3339\n",
      "***TRAIN***:\n",
      "correlation related to cluster centre: 0.89\n",
      "r2 score related to cluster centre: 0.79\n",
      "***VALIDATION***:\n",
      "correlation related to cluster centre: 0.90\n",
      "r2 score related to cluster centre: 0.81\n"
     ]
    },
    {
     "data": {
      "application/vnd.jupyter.widget-view+json": {
       "model_id": "90a87f7623c54270afc5eb20edf86609",
       "version_major": 2,
       "version_minor": 0
      },
      "text/plain": [
       "IntProgress(value=0, max=6)"
      ]
     },
     "metadata": {},
     "output_type": "display_data"
    },
    {
     "name": "stdout",
     "output_type": "stream",
     "text": [
      "***VALIDATION***:\n",
      "average correlation: 0.90\n",
      "average r2: 0.81\n",
      "---do_investigations. cluster index : 17---\n"
     ]
    },
    {
     "data": {
      "application/vnd.jupyter.widget-view+json": {
       "model_id": "bc5a207caca8443a8ad8011335b88a7b",
       "version_major": 2,
       "version_minor": 0
      },
      "text/plain": [
       "IntProgress(value=0, max=5)"
      ]
     },
     "metadata": {},
     "output_type": "display_data"
    },
    {
     "name": "stdout",
     "output_type": "stream",
     "text": [
      "Epoch 1/20\n",
      "368/368 [==============================] - 5s 6ms/step - loss: 0.2671 - mean_absolute_error: 0.3600 - val_loss: 0.1975 - val_mean_absolute_error: 0.2937\n",
      "Epoch 2/20\n",
      "368/368 [==============================] - 2s 5ms/step - loss: 0.2049 - mean_absolute_error: 0.3132 - val_loss: 0.1935 - val_mean_absolute_error: 0.2963\n",
      "Epoch 3/20\n",
      "368/368 [==============================] - 2s 5ms/step - loss: 0.2045 - mean_absolute_error: 0.3132 - val_loss: 0.1939 - val_mean_absolute_error: 0.2985\n",
      "Epoch 4/20\n",
      "368/368 [==============================] - 2s 5ms/step - loss: 0.2049 - mean_absolute_error: 0.3130 - val_loss: 0.1932 - val_mean_absolute_error: 0.3006\n",
      "Epoch 5/20\n",
      "368/368 [==============================] - 2s 5ms/step - loss: 0.2041 - mean_absolute_error: 0.3125 - val_loss: 0.1932 - val_mean_absolute_error: 0.2968\n",
      "Epoch 6/20\n",
      "368/368 [==============================] - 2s 5ms/step - loss: 0.2038 - mean_absolute_error: 0.3125 - val_loss: 0.1954 - val_mean_absolute_error: 0.2993\n",
      "***TRAIN***:\n",
      "correlation related to cluster centre: 0.89\n",
      "r2 score related to cluster centre: 0.79\n",
      "***VALIDATION***:\n",
      "correlation related to cluster centre: 0.91\n",
      "r2 score related to cluster centre: 0.82\n"
     ]
    },
    {
     "data": {
      "application/vnd.jupyter.widget-view+json": {
       "model_id": "97f4207884e84c1e89fca601a78cb353",
       "version_major": 2,
       "version_minor": 0
      },
      "text/plain": [
       "IntProgress(value=0, max=5)"
      ]
     },
     "metadata": {},
     "output_type": "display_data"
    },
    {
     "name": "stdout",
     "output_type": "stream",
     "text": [
      "***VALIDATION***:\n",
      "average correlation: 0.90\n",
      "average r2: 0.81\n",
      "---do_investigations. cluster index : 18---\n"
     ]
    },
    {
     "data": {
      "application/vnd.jupyter.widget-view+json": {
       "model_id": "e0e9671acfb54e5ebdf399a4eda460d2",
       "version_major": 2,
       "version_minor": 0
      },
      "text/plain": [
       "IntProgress(value=0, max=13)"
      ]
     },
     "metadata": {},
     "output_type": "display_data"
    },
    {
     "name": "stdout",
     "output_type": "stream",
     "text": [
      "Epoch 1/20\n",
      "368/368 [==============================] - 5s 6ms/step - loss: 0.2721 - mean_absolute_error: 0.3698 - val_loss: 0.2262 - val_mean_absolute_error: 0.3404\n",
      "Epoch 2/20\n",
      "368/368 [==============================] - 2s 5ms/step - loss: 0.2099 - mean_absolute_error: 0.3202 - val_loss: 0.2255 - val_mean_absolute_error: 0.3350\n",
      "Epoch 3/20\n",
      "368/368 [==============================] - 2s 5ms/step - loss: 0.2067 - mean_absolute_error: 0.3169 - val_loss: 0.2213 - val_mean_absolute_error: 0.3257\n",
      "Epoch 4/20\n",
      "368/368 [==============================] - 2s 5ms/step - loss: 0.2073 - mean_absolute_error: 0.3167 - val_loss: 0.2218 - val_mean_absolute_error: 0.3272\n",
      "Epoch 5/20\n",
      "368/368 [==============================] - 2s 5ms/step - loss: 0.2068 - mean_absolute_error: 0.3167 - val_loss: 0.2214 - val_mean_absolute_error: 0.3248\n",
      "***TRAIN***:\n",
      "correlation related to cluster centre: 0.89\n",
      "r2 score related to cluster centre: 0.80\n",
      "***VALIDATION***:\n",
      "correlation related to cluster centre: 0.90\n",
      "r2 score related to cluster centre: 0.82\n"
     ]
    },
    {
     "data": {
      "application/vnd.jupyter.widget-view+json": {
       "model_id": "96a420cd751a48d5a2f850950deedb0f",
       "version_major": 2,
       "version_minor": 0
      },
      "text/plain": [
       "IntProgress(value=0, max=13)"
      ]
     },
     "metadata": {},
     "output_type": "display_data"
    },
    {
     "name": "stdout",
     "output_type": "stream",
     "text": [
      "***VALIDATION***:\n",
      "average correlation: 0.90\n",
      "average r2: 0.80\n",
      "---do_investigations. cluster index : 19---\n"
     ]
    },
    {
     "data": {
      "application/vnd.jupyter.widget-view+json": {
       "model_id": "803f27b61243481b87623d695eb84cfa",
       "version_major": 2,
       "version_minor": 0
      },
      "text/plain": [
       "IntProgress(value=0, max=5)"
      ]
     },
     "metadata": {},
     "output_type": "display_data"
    },
    {
     "name": "stdout",
     "output_type": "stream",
     "text": [
      "Epoch 1/20\n",
      "368/368 [==============================] - 5s 6ms/step - loss: 0.2729 - mean_absolute_error: 0.3688 - val_loss: 0.1785 - val_mean_absolute_error: 0.3077\n",
      "Epoch 2/20\n",
      "368/368 [==============================] - 2s 5ms/step - loss: 0.2095 - mean_absolute_error: 0.3203 - val_loss: 0.1775 - val_mean_absolute_error: 0.3042\n",
      "Epoch 3/20\n",
      "368/368 [==============================] - 2s 5ms/step - loss: 0.2093 - mean_absolute_error: 0.3195 - val_loss: 0.1738 - val_mean_absolute_error: 0.3004\n",
      "Epoch 4/20\n",
      "368/368 [==============================] - 2s 5ms/step - loss: 0.2090 - mean_absolute_error: 0.3192 - val_loss: 0.1724 - val_mean_absolute_error: 0.2995\n",
      "Epoch 5/20\n",
      "368/368 [==============================] - 2s 5ms/step - loss: 0.2086 - mean_absolute_error: 0.3183 - val_loss: 0.1771 - val_mean_absolute_error: 0.3045\n",
      "Epoch 6/20\n",
      "368/368 [==============================] - 2s 5ms/step - loss: 0.2077 - mean_absolute_error: 0.3175 - val_loss: 0.1727 - val_mean_absolute_error: 0.2998\n",
      "***TRAIN***:\n",
      "correlation related to cluster centre: 0.89\n",
      "r2 score related to cluster centre: 0.79\n",
      "***VALIDATION***:\n",
      "correlation related to cluster centre: 0.91\n",
      "r2 score related to cluster centre: 0.82\n"
     ]
    },
    {
     "data": {
      "application/vnd.jupyter.widget-view+json": {
       "model_id": "a444d57ee9324197b656751cb285342e",
       "version_major": 2,
       "version_minor": 0
      },
      "text/plain": [
       "IntProgress(value=0, max=5)"
      ]
     },
     "metadata": {},
     "output_type": "display_data"
    },
    {
     "name": "stdout",
     "output_type": "stream",
     "text": [
      "***VALIDATION***:\n",
      "average correlation: 0.90\n",
      "average r2: 0.81\n",
      "---do_investigations. cluster index : 20---\n"
     ]
    },
    {
     "data": {
      "application/vnd.jupyter.widget-view+json": {
       "model_id": "e9f1e1bcc2104dc0b5c67999ca3f036b",
       "version_major": 2,
       "version_minor": 0
      },
      "text/plain": [
       "IntProgress(value=0, max=12)"
      ]
     },
     "metadata": {},
     "output_type": "display_data"
    },
    {
     "name": "stdout",
     "output_type": "stream",
     "text": [
      "Epoch 1/20\n",
      "368/368 [==============================] - 5s 6ms/step - loss: 0.2556 - mean_absolute_error: 0.3526 - val_loss: 0.1719 - val_mean_absolute_error: 0.2769\n",
      "Epoch 2/20\n",
      "368/368 [==============================] - 2s 5ms/step - loss: 0.1989 - mean_absolute_error: 0.3073 - val_loss: 0.1729 - val_mean_absolute_error: 0.2728\n",
      "Epoch 3/20\n",
      "368/368 [==============================] - 2s 5ms/step - loss: 0.1981 - mean_absolute_error: 0.3059 - val_loss: 0.1718 - val_mean_absolute_error: 0.2737\n",
      "Epoch 4/20\n",
      "368/368 [==============================] - 2s 5ms/step - loss: 0.1983 - mean_absolute_error: 0.3064 - val_loss: 0.1722 - val_mean_absolute_error: 0.2748\n",
      "Epoch 5/20\n",
      "368/368 [==============================] - 2s 5ms/step - loss: 0.1992 - mean_absolute_error: 0.3066 - val_loss: 0.1715 - val_mean_absolute_error: 0.2793\n",
      "Epoch 6/20\n",
      "368/368 [==============================] - 2s 5ms/step - loss: 0.1973 - mean_absolute_error: 0.3056 - val_loss: 0.1700 - val_mean_absolute_error: 0.2747\n",
      "Epoch 7/20\n",
      "368/368 [==============================] - 2s 5ms/step - loss: 0.1981 - mean_absolute_error: 0.3054 - val_loss: 0.1704 - val_mean_absolute_error: 0.2762\n",
      "Epoch 8/20\n",
      "368/368 [==============================] - 2s 5ms/step - loss: 0.1975 - mean_absolute_error: 0.3056 - val_loss: 0.1706 - val_mean_absolute_error: 0.2759\n",
      "***TRAIN***:\n",
      "correlation related to cluster centre: 0.90\n",
      "r2 score related to cluster centre: 0.80\n",
      "***VALIDATION***:\n",
      "correlation related to cluster centre: 0.91\n",
      "r2 score related to cluster centre: 0.83\n"
     ]
    },
    {
     "data": {
      "application/vnd.jupyter.widget-view+json": {
       "model_id": "c8bc83014e754085ae669d4994ab5221",
       "version_major": 2,
       "version_minor": 0
      },
      "text/plain": [
       "IntProgress(value=0, max=12)"
      ]
     },
     "metadata": {},
     "output_type": "display_data"
    },
    {
     "name": "stdout",
     "output_type": "stream",
     "text": [
      "***VALIDATION***:\n",
      "average correlation: 0.91\n",
      "average r2: 0.82\n",
      "---do_investigations. cluster index : 21---\n"
     ]
    },
    {
     "data": {
      "application/vnd.jupyter.widget-view+json": {
       "model_id": "3ef48827af214b2b91938fa02ee0ccd7",
       "version_major": 2,
       "version_minor": 0
      },
      "text/plain": [
       "IntProgress(value=0, max=18)"
      ]
     },
     "metadata": {},
     "output_type": "display_data"
    },
    {
     "name": "stdout",
     "output_type": "stream",
     "text": [
      "Epoch 1/20\n",
      "368/368 [==============================] - 5s 6ms/step - loss: 0.2350 - mean_absolute_error: 0.3092 - val_loss: 0.1086 - val_mean_absolute_error: 0.1916\n",
      "Epoch 2/20\n",
      "368/368 [==============================] - 2s 5ms/step - loss: 0.1523 - mean_absolute_error: 0.2508 - val_loss: 0.1092 - val_mean_absolute_error: 0.1955\n",
      "Epoch 3/20\n",
      "368/368 [==============================] - 2s 5ms/step - loss: 0.1483 - mean_absolute_error: 0.2479 - val_loss: 0.1054 - val_mean_absolute_error: 0.1896\n",
      "Epoch 4/20\n",
      "368/368 [==============================] - 2s 5ms/step - loss: 0.1492 - mean_absolute_error: 0.2482 - val_loss: 0.1214 - val_mean_absolute_error: 0.2161\n",
      "Epoch 5/20\n",
      "368/368 [==============================] - 2s 5ms/step - loss: 0.1474 - mean_absolute_error: 0.2477 - val_loss: 0.1068 - val_mean_absolute_error: 0.1898\n",
      "***TRAIN***:\n",
      "correlation related to cluster centre: 0.93\n",
      "r2 score related to cluster centre: 0.86\n",
      "***VALIDATION***:\n",
      "correlation related to cluster centre: 0.92\n",
      "r2 score related to cluster centre: 0.83\n"
     ]
    },
    {
     "data": {
      "application/vnd.jupyter.widget-view+json": {
       "model_id": "1b65737464c94b5c88779b6dd365d66f",
       "version_major": 2,
       "version_minor": 0
      },
      "text/plain": [
       "IntProgress(value=0, max=18)"
      ]
     },
     "metadata": {},
     "output_type": "display_data"
    },
    {
     "name": "stdout",
     "output_type": "stream",
     "text": [
      "***VALIDATION***:\n",
      "average correlation: 0.89\n",
      "average r2: 0.76\n",
      "---do_investigations. cluster index : 22---\n"
     ]
    },
    {
     "data": {
      "application/vnd.jupyter.widget-view+json": {
       "model_id": "ce265b69caca464b9064c8ea23028b19",
       "version_major": 2,
       "version_minor": 0
      },
      "text/plain": [
       "IntProgress(value=0, max=12)"
      ]
     },
     "metadata": {},
     "output_type": "display_data"
    },
    {
     "name": "stdout",
     "output_type": "stream",
     "text": [
      "Epoch 1/20\n",
      "368/368 [==============================] - 20s 7ms/step - loss: 0.2944 - mean_absolute_error: 0.3338 - val_loss: 0.2161 - val_mean_absolute_error: 0.2553\n",
      "Epoch 2/20\n",
      "368/368 [==============================] - 2s 5ms/step - loss: 0.2079 - mean_absolute_error: 0.2772 - val_loss: 0.2108 - val_mean_absolute_error: 0.2607\n",
      "Epoch 3/20\n",
      "368/368 [==============================] - 2s 5ms/step - loss: 0.2069 - mean_absolute_error: 0.2766 - val_loss: 0.2097 - val_mean_absolute_error: 0.2580\n",
      "Epoch 4/20\n",
      "368/368 [==============================] - 2s 5ms/step - loss: 0.2066 - mean_absolute_error: 0.2757 - val_loss: 0.2099 - val_mean_absolute_error: 0.2565\n",
      "Epoch 5/20\n",
      "368/368 [==============================] - 2s 5ms/step - loss: 0.2034 - mean_absolute_error: 0.2741 - val_loss: 0.2120 - val_mean_absolute_error: 0.2645\n",
      "***TRAIN***:\n",
      "correlation related to cluster centre: 0.89\n",
      "r2 score related to cluster centre: 0.80\n",
      "***VALIDATION***:\n",
      "correlation related to cluster centre: 0.90\n",
      "r2 score related to cluster centre: 0.80\n"
     ]
    },
    {
     "data": {
      "application/vnd.jupyter.widget-view+json": {
       "model_id": "6736c5fee22c45feb9a99c657d4aa7ac",
       "version_major": 2,
       "version_minor": 0
      },
      "text/plain": [
       "IntProgress(value=0, max=12)"
      ]
     },
     "metadata": {},
     "output_type": "display_data"
    },
    {
     "name": "stdout",
     "output_type": "stream",
     "text": [
      "***VALIDATION***:\n",
      "average correlation: 0.87\n",
      "average r2: 0.72\n",
      "---do_investigations. cluster index : 23---\n"
     ]
    },
    {
     "data": {
      "application/vnd.jupyter.widget-view+json": {
       "model_id": "3731079a8cf84dc9b9f7143877d1815d",
       "version_major": 2,
       "version_minor": 0
      },
      "text/plain": [
       "IntProgress(value=0, max=20)"
      ]
     },
     "metadata": {},
     "output_type": "display_data"
    },
    {
     "name": "stdout",
     "output_type": "stream",
     "text": [
      "Epoch 1/20\n",
      "368/368 [==============================] - 5s 6ms/step - loss: 0.2680 - mean_absolute_error: 0.3250 - val_loss: 0.2001 - val_mean_absolute_error: 0.2582\n",
      "Epoch 2/20\n",
      "368/368 [==============================] - 2s 5ms/step - loss: 0.2043 - mean_absolute_error: 0.2815 - val_loss: 0.2102 - val_mean_absolute_error: 0.2762\n",
      "Epoch 3/20\n",
      "368/368 [==============================] - 2s 5ms/step - loss: 0.2032 - mean_absolute_error: 0.2804 - val_loss: 0.2034 - val_mean_absolute_error: 0.2671\n",
      "***TRAIN***:\n",
      "correlation related to cluster centre: 0.90\n",
      "r2 score related to cluster centre: 0.80\n",
      "***VALIDATION***:\n",
      "correlation related to cluster centre: 0.90\n",
      "r2 score related to cluster centre: 0.81\n"
     ]
    },
    {
     "data": {
      "application/vnd.jupyter.widget-view+json": {
       "model_id": "dbd233ea11604365bcd866c9cc8b6112",
       "version_major": 2,
       "version_minor": 0
      },
      "text/plain": [
       "IntProgress(value=0, max=20)"
      ]
     },
     "metadata": {},
     "output_type": "display_data"
    },
    {
     "name": "stdout",
     "output_type": "stream",
     "text": [
      "***VALIDATION***:\n",
      "average correlation: 0.88\n",
      "average r2: 0.76\n",
      "---do_investigations. cluster index : 24---\n"
     ]
    },
    {
     "data": {
      "application/vnd.jupyter.widget-view+json": {
       "model_id": "836dbd4814664b1ba2caf8487c8b40b8",
       "version_major": 2,
       "version_minor": 0
      },
      "text/plain": [
       "IntProgress(value=0, max=105)"
      ]
     },
     "metadata": {},
     "output_type": "display_data"
    },
    {
     "name": "stdout",
     "output_type": "stream",
     "text": [
      "Epoch 1/20\n",
      "368/368 [==============================] - 5s 6ms/step - loss: 0.2023 - mean_absolute_error: 0.3066 - val_loss: 0.1476 - val_mean_absolute_error: 0.2547\n",
      "Epoch 2/20\n",
      "368/368 [==============================] - 2s 5ms/step - loss: 0.1433 - mean_absolute_error: 0.2558 - val_loss: 0.1452 - val_mean_absolute_error: 0.2523\n",
      "Epoch 3/20\n",
      "368/368 [==============================] - 2s 5ms/step - loss: 0.1419 - mean_absolute_error: 0.2548 - val_loss: 0.1455 - val_mean_absolute_error: 0.2573\n",
      "Epoch 4/20\n",
      "368/368 [==============================] - 2s 5ms/step - loss: 0.1415 - mean_absolute_error: 0.2543 - val_loss: 0.1453 - val_mean_absolute_error: 0.2547\n",
      "***TRAIN***:\n",
      "correlation related to cluster centre: 0.93\n",
      "r2 score related to cluster centre: 0.86\n",
      "***VALIDATION***:\n",
      "correlation related to cluster centre: 0.92\n",
      "r2 score related to cluster centre: 0.85\n"
     ]
    },
    {
     "data": {
      "application/vnd.jupyter.widget-view+json": {
       "model_id": "c95ce98b664d46aa8c6f13424bf917cb",
       "version_major": 2,
       "version_minor": 0
      },
      "text/plain": [
       "IntProgress(value=0, max=105)"
      ]
     },
     "metadata": {},
     "output_type": "display_data"
    },
    {
     "name": "stdout",
     "output_type": "stream",
     "text": [
      "***VALIDATION***:\n",
      "average correlation: 0.90\n",
      "average r2: 0.80\n",
      "---do_investigations. cluster index : 25---\n"
     ]
    },
    {
     "data": {
      "application/vnd.jupyter.widget-view+json": {
       "model_id": "69d2e470baf3470482e88b6400aa883b",
       "version_major": 2,
       "version_minor": 0
      },
      "text/plain": [
       "IntProgress(value=0, max=13)"
      ]
     },
     "metadata": {},
     "output_type": "display_data"
    },
    {
     "name": "stdout",
     "output_type": "stream",
     "text": [
      "Epoch 1/20\n",
      "368/368 [==============================] - 5s 6ms/step - loss: 0.2739 - mean_absolute_error: 0.3663 - val_loss: 0.1805 - val_mean_absolute_error: 0.2822\n",
      "Epoch 2/20\n",
      "368/368 [==============================] - 2s 5ms/step - loss: 0.2035 - mean_absolute_error: 0.3094 - val_loss: 0.1757 - val_mean_absolute_error: 0.2858\n",
      "Epoch 3/20\n",
      "368/368 [==============================] - 2s 5ms/step - loss: 0.2035 - mean_absolute_error: 0.3084 - val_loss: 0.1759 - val_mean_absolute_error: 0.2891\n",
      "Epoch 4/20\n",
      "368/368 [==============================] - 2s 5ms/step - loss: 0.2032 - mean_absolute_error: 0.3090 - val_loss: 0.1770 - val_mean_absolute_error: 0.2836\n",
      "***TRAIN***:\n",
      "correlation related to cluster centre: 0.89\n",
      "r2 score related to cluster centre: 0.80\n",
      "***VALIDATION***:\n",
      "correlation related to cluster centre: 0.91\n",
      "r2 score related to cluster centre: 0.82\n"
     ]
    },
    {
     "data": {
      "application/vnd.jupyter.widget-view+json": {
       "model_id": "4a385879eeb5425da9dcbfc29fb364e9",
       "version_major": 2,
       "version_minor": 0
      },
      "text/plain": [
       "IntProgress(value=0, max=13)"
      ]
     },
     "metadata": {},
     "output_type": "display_data"
    },
    {
     "name": "stdout",
     "output_type": "stream",
     "text": [
      "***VALIDATION***:\n",
      "average correlation: 0.91\n",
      "average r2: 0.82\n",
      "---do_investigations. cluster index : 26---\n"
     ]
    },
    {
     "data": {
      "application/vnd.jupyter.widget-view+json": {
       "model_id": "4890ec0f2886475c8bc8640fe6f80507",
       "version_major": 2,
       "version_minor": 0
      },
      "text/plain": [
       "IntProgress(value=0, max=251)"
      ]
     },
     "metadata": {},
     "output_type": "display_data"
    },
    {
     "name": "stdout",
     "output_type": "stream",
     "text": [
      "Epoch 1/20\n",
      "368/368 [==============================] - 5s 6ms/step - loss: 0.2801 - mean_absolute_error: 0.3615 - val_loss: 0.1571 - val_mean_absolute_error: 0.2827\n",
      "Epoch 2/20\n",
      "368/368 [==============================] - 2s 5ms/step - loss: 0.2077 - mean_absolute_error: 0.3084 - val_loss: 0.1624 - val_mean_absolute_error: 0.2880\n",
      "Epoch 3/20\n",
      "368/368 [==============================] - 2s 5ms/step - loss: 0.2074 - mean_absolute_error: 0.3083 - val_loss: 0.1529 - val_mean_absolute_error: 0.2765\n",
      "Epoch 4/20\n",
      "368/368 [==============================] - 2s 5ms/step - loss: 0.2071 - mean_absolute_error: 0.3079 - val_loss: 0.1568 - val_mean_absolute_error: 0.2880\n",
      "Epoch 5/20\n",
      "368/368 [==============================] - 2s 5ms/step - loss: 0.2073 - mean_absolute_error: 0.3073 - val_loss: 0.1578 - val_mean_absolute_error: 0.2800\n",
      "***TRAIN***:\n",
      "correlation related to cluster centre: 0.89\n",
      "r2 score related to cluster centre: 0.79\n",
      "***VALIDATION***:\n",
      "correlation related to cluster centre: 0.91\n",
      "r2 score related to cluster centre: 0.82\n"
     ]
    },
    {
     "data": {
      "application/vnd.jupyter.widget-view+json": {
       "model_id": "188990c7f1924ec5a8eda9513b99bc70",
       "version_major": 2,
       "version_minor": 0
      },
      "text/plain": [
       "IntProgress(value=0, max=251)"
      ]
     },
     "metadata": {},
     "output_type": "display_data"
    },
    {
     "name": "stdout",
     "output_type": "stream",
     "text": [
      "***VALIDATION***:\n",
      "average correlation: 0.91\n",
      "average r2: 0.78\n",
      "---do_investigations. cluster index : 27---\n"
     ]
    },
    {
     "data": {
      "application/vnd.jupyter.widget-view+json": {
       "model_id": "ae1a07e1e9ed449397ece07b62f1edb6",
       "version_major": 2,
       "version_minor": 0
      },
      "text/plain": [
       "IntProgress(value=0, max=1)"
      ]
     },
     "metadata": {},
     "output_type": "display_data"
    },
    {
     "name": "stdout",
     "output_type": "stream",
     "text": [
      "Epoch 1/20\n",
      "368/368 [==============================] - 5s 6ms/step - loss: 0.2473 - mean_absolute_error: 0.3340 - val_loss: 0.2167 - val_mean_absolute_error: 0.2856\n",
      "Epoch 2/20\n",
      "368/368 [==============================] - 2s 5ms/step - loss: 0.1911 - mean_absolute_error: 0.2908 - val_loss: 0.2153 - val_mean_absolute_error: 0.2819\n",
      "Epoch 3/20\n",
      "368/368 [==============================] - 2s 5ms/step - loss: 0.1921 - mean_absolute_error: 0.2920 - val_loss: 0.2151 - val_mean_absolute_error: 0.2810\n",
      "Epoch 4/20\n",
      "368/368 [==============================] - 2s 5ms/step - loss: 0.1911 - mean_absolute_error: 0.2906 - val_loss: 0.2198 - val_mean_absolute_error: 0.2939\n",
      "Epoch 5/20\n",
      "368/368 [==============================] - 2s 5ms/step - loss: 0.1915 - mean_absolute_error: 0.2908 - val_loss: 0.2160 - val_mean_absolute_error: 0.2809\n",
      "***TRAIN***:\n",
      "correlation related to cluster centre: 0.90\n",
      "r2 score related to cluster centre: 0.81\n",
      "***VALIDATION***:\n",
      "correlation related to cluster centre: 0.91\n",
      "r2 score related to cluster centre: 0.82\n"
     ]
    },
    {
     "data": {
      "application/vnd.jupyter.widget-view+json": {
       "model_id": "9ce150a67d3c4d488b19ef37555c6c51",
       "version_major": 2,
       "version_minor": 0
      },
      "text/plain": [
       "IntProgress(value=0, max=1)"
      ]
     },
     "metadata": {},
     "output_type": "display_data"
    },
    {
     "name": "stdout",
     "output_type": "stream",
     "text": [
      "***VALIDATION***:\n",
      "average correlation: 0.91\n",
      "average r2: 0.82\n",
      "---do_investigations. cluster index : 28---\n"
     ]
    },
    {
     "data": {
      "application/vnd.jupyter.widget-view+json": {
       "model_id": "d4d020480103416abd3a0b0bda265ac0",
       "version_major": 2,
       "version_minor": 0
      },
      "text/plain": [
       "IntProgress(value=0, max=13)"
      ]
     },
     "metadata": {},
     "output_type": "display_data"
    },
    {
     "name": "stdout",
     "output_type": "stream",
     "text": [
      "Epoch 1/20\n",
      "368/368 [==============================] - 5s 6ms/step - loss: 0.2648 - mean_absolute_error: 0.3525 - val_loss: 0.2001 - val_mean_absolute_error: 0.2964\n",
      "Epoch 2/20\n",
      "368/368 [==============================] - 2s 5ms/step - loss: 0.2014 - mean_absolute_error: 0.3056 - val_loss: 0.1902 - val_mean_absolute_error: 0.2834\n",
      "Epoch 3/20\n",
      "368/368 [==============================] - 2s 5ms/step - loss: 0.2002 - mean_absolute_error: 0.3046 - val_loss: 0.1805 - val_mean_absolute_error: 0.2824\n",
      "Epoch 4/20\n",
      "368/368 [==============================] - 2s 5ms/step - loss: 0.2004 - mean_absolute_error: 0.3041 - val_loss: 0.1804 - val_mean_absolute_error: 0.2766\n",
      "Epoch 5/20\n",
      "368/368 [==============================] - 2s 5ms/step - loss: 0.2002 - mean_absolute_error: 0.3034 - val_loss: 0.1843 - val_mean_absolute_error: 0.2829\n",
      "Epoch 6/20\n",
      "368/368 [==============================] - 2s 5ms/step - loss: 0.2001 - mean_absolute_error: 0.3041 - val_loss: 0.1829 - val_mean_absolute_error: 0.2825\n",
      "***TRAIN***:\n",
      "correlation related to cluster centre: 0.90\n",
      "r2 score related to cluster centre: 0.80\n",
      "***VALIDATION***:\n",
      "correlation related to cluster centre: 0.91\n",
      "r2 score related to cluster centre: 0.82\n"
     ]
    },
    {
     "data": {
      "application/vnd.jupyter.widget-view+json": {
       "model_id": "263fe94eef654ea9a061c88d8687a882",
       "version_major": 2,
       "version_minor": 0
      },
      "text/plain": [
       "IntProgress(value=0, max=13)"
      ]
     },
     "metadata": {},
     "output_type": "display_data"
    },
    {
     "name": "stdout",
     "output_type": "stream",
     "text": [
      "***VALIDATION***:\n",
      "average correlation: 0.91\n",
      "average r2: 0.82\n",
      "---do_investigations. cluster index : 29---\n"
     ]
    },
    {
     "data": {
      "application/vnd.jupyter.widget-view+json": {
       "model_id": "66e17917689b479bbfba57b382387d49",
       "version_major": 2,
       "version_minor": 0
      },
      "text/plain": [
       "IntProgress(value=0, max=23)"
      ]
     },
     "metadata": {},
     "output_type": "display_data"
    },
    {
     "name": "stdout",
     "output_type": "stream",
     "text": [
      "Epoch 1/20\n",
      "368/368 [==============================] - 5s 6ms/step - loss: 0.2757 - mean_absolute_error: 0.3697 - val_loss: 0.1957 - val_mean_absolute_error: 0.3156\n",
      "Epoch 2/20\n",
      "368/368 [==============================] - 2s 5ms/step - loss: 0.2087 - mean_absolute_error: 0.3176 - val_loss: 0.1997 - val_mean_absolute_error: 0.3285\n",
      "Epoch 3/20\n",
      "368/368 [==============================] - 2s 5ms/step - loss: 0.2086 - mean_absolute_error: 0.3172 - val_loss: 0.1925 - val_mean_absolute_error: 0.3057\n",
      "Epoch 4/20\n",
      "368/368 [==============================] - 2s 5ms/step - loss: 0.2088 - mean_absolute_error: 0.3172 - val_loss: 0.1916 - val_mean_absolute_error: 0.3081\n",
      "Epoch 5/20\n",
      "368/368 [==============================] - 2s 5ms/step - loss: 0.2074 - mean_absolute_error: 0.3156 - val_loss: 0.1940 - val_mean_absolute_error: 0.3170\n",
      "Epoch 6/20\n",
      "368/368 [==============================] - 2s 5ms/step - loss: 0.2072 - mean_absolute_error: 0.3157 - val_loss: 0.1952 - val_mean_absolute_error: 0.3002\n",
      "***TRAIN***:\n",
      "correlation related to cluster centre: 0.89\n",
      "r2 score related to cluster centre: 0.79\n",
      "***VALIDATION***:\n",
      "correlation related to cluster centre: 0.90\n",
      "r2 score related to cluster centre: 0.81\n"
     ]
    },
    {
     "data": {
      "application/vnd.jupyter.widget-view+json": {
       "model_id": "5bf2dab3be074523b76165e3774f13f8",
       "version_major": 2,
       "version_minor": 0
      },
      "text/plain": [
       "IntProgress(value=0, max=23)"
      ]
     },
     "metadata": {},
     "output_type": "display_data"
    },
    {
     "name": "stdout",
     "output_type": "stream",
     "text": [
      "***VALIDATION***:\n",
      "average correlation: 0.90\n",
      "average r2: 0.81\n",
      "---do_investigations. cluster index : 30---\n"
     ]
    },
    {
     "data": {
      "application/vnd.jupyter.widget-view+json": {
       "model_id": "f8cf24cd21ab40c599f472812cc7d393",
       "version_major": 2,
       "version_minor": 0
      },
      "text/plain": [
       "IntProgress(value=0, max=3)"
      ]
     },
     "metadata": {},
     "output_type": "display_data"
    },
    {
     "name": "stdout",
     "output_type": "stream",
     "text": [
      "Epoch 1/20\n",
      "368/368 [==============================] - 5s 6ms/step - loss: 0.2774 - mean_absolute_error: 0.3681 - val_loss: 0.1417 - val_mean_absolute_error: 0.2600\n",
      "Epoch 2/20\n",
      "368/368 [==============================] - 2s 5ms/step - loss: 0.2011 - mean_absolute_error: 0.3110 - val_loss: 0.1405 - val_mean_absolute_error: 0.2616\n",
      "Epoch 3/20\n",
      "368/368 [==============================] - 2s 5ms/step - loss: 0.1994 - mean_absolute_error: 0.3088 - val_loss: 0.1464 - val_mean_absolute_error: 0.2701\n",
      "Epoch 4/20\n",
      "368/368 [==============================] - 2s 5ms/step - loss: 0.1985 - mean_absolute_error: 0.3085 - val_loss: 0.1420 - val_mean_absolute_error: 0.2628\n",
      "***TRAIN***:\n",
      "correlation related to cluster centre: 0.90\n",
      "r2 score related to cluster centre: 0.80\n",
      "***VALIDATION***:\n",
      "correlation related to cluster centre: 0.91\n",
      "r2 score related to cluster centre: 0.82\n"
     ]
    },
    {
     "data": {
      "application/vnd.jupyter.widget-view+json": {
       "model_id": "27f1896f811141f78931b2011bd27231",
       "version_major": 2,
       "version_minor": 0
      },
      "text/plain": [
       "IntProgress(value=0, max=3)"
      ]
     },
     "metadata": {},
     "output_type": "display_data"
    },
    {
     "name": "stdout",
     "output_type": "stream",
     "text": [
      "***VALIDATION***:\n",
      "average correlation: 0.91\n",
      "average r2: 0.83\n",
      "---do_investigations. cluster index : 31---\n"
     ]
    },
    {
     "data": {
      "application/vnd.jupyter.widget-view+json": {
       "model_id": "164ef2fcf99f41d6a8b60b99f32e4295",
       "version_major": 2,
       "version_minor": 0
      },
      "text/plain": [
       "IntProgress(value=0, max=2)"
      ]
     },
     "metadata": {},
     "output_type": "display_data"
    },
    {
     "name": "stdout",
     "output_type": "stream",
     "text": [
      "Epoch 1/20\n",
      "368/368 [==============================] - 5s 7ms/step - loss: 0.2592 - mean_absolute_error: 0.3433 - val_loss: 0.1545 - val_mean_absolute_error: 0.2566\n",
      "Epoch 2/20\n",
      "368/368 [==============================] - 2s 5ms/step - loss: 0.1921 - mean_absolute_error: 0.2927 - val_loss: 0.1554 - val_mean_absolute_error: 0.2605\n",
      "Epoch 3/20\n",
      "368/368 [==============================] - 2s 5ms/step - loss: 0.1918 - mean_absolute_error: 0.2923 - val_loss: 0.1525 - val_mean_absolute_error: 0.2517\n",
      "Epoch 4/20\n",
      "368/368 [==============================] - 2s 5ms/step - loss: 0.1910 - mean_absolute_error: 0.2920 - val_loss: 0.1522 - val_mean_absolute_error: 0.2540\n",
      "Epoch 5/20\n",
      "368/368 [==============================] - 2s 5ms/step - loss: 0.1914 - mean_absolute_error: 0.2919 - val_loss: 0.1531 - val_mean_absolute_error: 0.2523\n",
      "Epoch 6/20\n",
      "368/368 [==============================] - 2s 5ms/step - loss: 0.1911 - mean_absolute_error: 0.2919 - val_loss: 0.1521 - val_mean_absolute_error: 0.2500\n",
      "Epoch 7/20\n",
      "368/368 [==============================] - 2s 5ms/step - loss: 0.1911 - mean_absolute_error: 0.2919 - val_loss: 0.1520 - val_mean_absolute_error: 0.2491\n",
      "Epoch 8/20\n",
      "368/368 [==============================] - 2s 5ms/step - loss: 0.1907 - mean_absolute_error: 0.2915 - val_loss: 0.1518 - val_mean_absolute_error: 0.2513\n",
      "Epoch 9/20\n",
      "368/368 [==============================] - 2s 5ms/step - loss: 0.1911 - mean_absolute_error: 0.2915 - val_loss: 0.1531 - val_mean_absolute_error: 0.2579\n",
      "Epoch 10/20\n",
      "368/368 [==============================] - 2s 5ms/step - loss: 0.1901 - mean_absolute_error: 0.2910 - val_loss: 0.1518 - val_mean_absolute_error: 0.2522\n",
      "Epoch 11/20\n",
      "368/368 [==============================] - 2s 5ms/step - loss: 0.1898 - mean_absolute_error: 0.2904 - val_loss: 0.1528 - val_mean_absolute_error: 0.2552\n",
      "Epoch 12/20\n",
      "368/368 [==============================] - 2s 5ms/step - loss: 0.1901 - mean_absolute_error: 0.2906 - val_loss: 0.1514 - val_mean_absolute_error: 0.2503\n",
      "Epoch 13/20\n",
      "368/368 [==============================] - 2s 5ms/step - loss: 0.1899 - mean_absolute_error: 0.2910 - val_loss: 0.1518 - val_mean_absolute_error: 0.2481\n",
      "Epoch 14/20\n",
      "368/368 [==============================] - 2s 5ms/step - loss: 0.1903 - mean_absolute_error: 0.2908 - val_loss: 0.1526 - val_mean_absolute_error: 0.2557\n",
      "***TRAIN***:\n",
      "correlation related to cluster centre: 0.90\n",
      "r2 score related to cluster centre: 0.81\n",
      "***VALIDATION***:\n",
      "correlation related to cluster centre: 0.91\n",
      "r2 score related to cluster centre: 0.83\n"
     ]
    },
    {
     "data": {
      "application/vnd.jupyter.widget-view+json": {
       "model_id": "790cbe0c75f34432b77d198720fd66df",
       "version_major": 2,
       "version_minor": 0
      },
      "text/plain": [
       "IntProgress(value=0, max=2)"
      ]
     },
     "metadata": {},
     "output_type": "display_data"
    },
    {
     "name": "stdout",
     "output_type": "stream",
     "text": [
      "***VALIDATION***:\n",
      "average correlation: 0.91\n",
      "average r2: 0.83\n",
      "---do_investigations. cluster index : 32---\n"
     ]
    },
    {
     "data": {
      "application/vnd.jupyter.widget-view+json": {
       "model_id": "ee02b66e4b2841599ecec25d02964bda",
       "version_major": 2,
       "version_minor": 0
      },
      "text/plain": [
       "IntProgress(value=0, max=12)"
      ]
     },
     "metadata": {},
     "output_type": "display_data"
    },
    {
     "name": "stdout",
     "output_type": "stream",
     "text": [
      "Epoch 1/20\n",
      "368/368 [==============================] - 5s 6ms/step - loss: 0.2553 - mean_absolute_error: 0.3536 - val_loss: 0.1851 - val_mean_absolute_error: 0.3045\n",
      "Epoch 2/20\n",
      "368/368 [==============================] - 2s 5ms/step - loss: 0.1986 - mean_absolute_error: 0.3082 - val_loss: 0.1796 - val_mean_absolute_error: 0.2868\n",
      "Epoch 3/20\n",
      "368/368 [==============================] - 2s 5ms/step - loss: 0.1980 - mean_absolute_error: 0.3070 - val_loss: 0.1810 - val_mean_absolute_error: 0.2911\n",
      "Epoch 4/20\n",
      "368/368 [==============================] - 2s 5ms/step - loss: 0.1975 - mean_absolute_error: 0.3067 - val_loss: 0.1794 - val_mean_absolute_error: 0.2857\n",
      "Epoch 5/20\n",
      "368/368 [==============================] - 2s 5ms/step - loss: 0.1977 - mean_absolute_error: 0.3065 - val_loss: 0.1794 - val_mean_absolute_error: 0.2884\n",
      "Epoch 6/20\n",
      "368/368 [==============================] - 2s 5ms/step - loss: 0.1976 - mean_absolute_error: 0.3075 - val_loss: 0.1854 - val_mean_absolute_error: 0.2989\n",
      "Epoch 7/20\n",
      "368/368 [==============================] - 2s 5ms/step - loss: 0.1974 - mean_absolute_error: 0.3071 - val_loss: 0.1793 - val_mean_absolute_error: 0.2877\n",
      "Epoch 8/20\n",
      "368/368 [==============================] - 2s 5ms/step - loss: 0.1968 - mean_absolute_error: 0.3059 - val_loss: 0.1802 - val_mean_absolute_error: 0.2851\n",
      "Epoch 9/20\n",
      "368/368 [==============================] - 2s 5ms/step - loss: 0.1970 - mean_absolute_error: 0.3065 - val_loss: 0.1820 - val_mean_absolute_error: 0.2925\n",
      "***TRAIN***:\n",
      "correlation related to cluster centre: 0.90\n",
      "r2 score related to cluster centre: 0.80\n",
      "***VALIDATION***:\n",
      "correlation related to cluster centre: 0.91\n",
      "r2 score related to cluster centre: 0.83\n"
     ]
    },
    {
     "data": {
      "application/vnd.jupyter.widget-view+json": {
       "model_id": "d97643e94a174e13958115bab4e60247",
       "version_major": 2,
       "version_minor": 0
      },
      "text/plain": [
       "IntProgress(value=0, max=12)"
      ]
     },
     "metadata": {},
     "output_type": "display_data"
    },
    {
     "name": "stdout",
     "output_type": "stream",
     "text": [
      "***VALIDATION***:\n",
      "average correlation: 0.91\n",
      "average r2: 0.82\n",
      "---do_investigations. cluster index : 33---\n"
     ]
    },
    {
     "data": {
      "application/vnd.jupyter.widget-view+json": {
       "model_id": "0d950c0e56d54b28abc5b26397587a53",
       "version_major": 2,
       "version_minor": 0
      },
      "text/plain": [
       "IntProgress(value=0, max=47)"
      ]
     },
     "metadata": {},
     "output_type": "display_data"
    },
    {
     "name": "stdout",
     "output_type": "stream",
     "text": [
      "Epoch 1/20\n",
      "368/368 [==============================] - 5s 6ms/step - loss: 0.2737 - mean_absolute_error: 0.3724 - val_loss: 0.2034 - val_mean_absolute_error: 0.3194\n",
      "Epoch 2/20\n",
      "368/368 [==============================] - 2s 5ms/step - loss: 0.2093 - mean_absolute_error: 0.3223 - val_loss: 0.2045 - val_mean_absolute_error: 0.3256\n",
      "Epoch 3/20\n",
      "368/368 [==============================] - 2s 5ms/step - loss: 0.2080 - mean_absolute_error: 0.3210 - val_loss: 0.2015 - val_mean_absolute_error: 0.3146\n",
      "Epoch 4/20\n",
      "368/368 [==============================] - 2s 5ms/step - loss: 0.2070 - mean_absolute_error: 0.3199 - val_loss: 0.2015 - val_mean_absolute_error: 0.3163\n",
      "Epoch 5/20\n",
      "368/368 [==============================] - 2s 5ms/step - loss: 0.2082 - mean_absolute_error: 0.3206 - val_loss: 0.2015 - val_mean_absolute_error: 0.3189\n",
      "Epoch 6/20\n",
      "368/368 [==============================] - 2s 5ms/step - loss: 0.2062 - mean_absolute_error: 0.3190 - val_loss: 0.2014 - val_mean_absolute_error: 0.3196\n",
      "Epoch 7/20\n",
      "368/368 [==============================] - 2s 5ms/step - loss: 0.2067 - mean_absolute_error: 0.3187 - val_loss: 0.2029 - val_mean_absolute_error: 0.3224\n",
      "Epoch 8/20\n",
      "368/368 [==============================] - 2s 5ms/step - loss: 0.2064 - mean_absolute_error: 0.3190 - val_loss: 0.2065 - val_mean_absolute_error: 0.3284\n",
      "***TRAIN***:\n",
      "correlation related to cluster centre: 0.89\n",
      "r2 score related to cluster centre: 0.79\n",
      "***VALIDATION***:\n",
      "correlation related to cluster centre: 0.90\n",
      "r2 score related to cluster centre: 0.81\n"
     ]
    },
    {
     "data": {
      "application/vnd.jupyter.widget-view+json": {
       "model_id": "296fcd52f8ca4e0eaea7e60e75c8aea9",
       "version_major": 2,
       "version_minor": 0
      },
      "text/plain": [
       "IntProgress(value=0, max=47)"
      ]
     },
     "metadata": {},
     "output_type": "display_data"
    },
    {
     "name": "stdout",
     "output_type": "stream",
     "text": [
      "***VALIDATION***:\n",
      "average correlation: 0.90\n",
      "average r2: 0.78\n",
      "---do_investigations. cluster index : 34---\n"
     ]
    },
    {
     "data": {
      "application/vnd.jupyter.widget-view+json": {
       "model_id": "ddf81980071049958b5b52edbc109b42",
       "version_major": 2,
       "version_minor": 0
      },
      "text/plain": [
       "IntProgress(value=0, max=248)"
      ]
     },
     "metadata": {},
     "output_type": "display_data"
    },
    {
     "name": "stdout",
     "output_type": "stream",
     "text": [
      "Epoch 1/20\n",
      "368/368 [==============================] - 5s 6ms/step - loss: 0.2434 - mean_absolute_error: 0.3407 - val_loss: 0.1529 - val_mean_absolute_error: 0.2857\n",
      "Epoch 2/20\n",
      "368/368 [==============================] - 2s 5ms/step - loss: 0.1865 - mean_absolute_error: 0.2984 - val_loss: 0.1565 - val_mean_absolute_error: 0.2916\n",
      "Epoch 3/20\n",
      "368/368 [==============================] - 2s 5ms/step - loss: 0.1865 - mean_absolute_error: 0.2984 - val_loss: 0.1529 - val_mean_absolute_error: 0.2861\n",
      "Epoch 4/20\n",
      "368/368 [==============================] - 2s 5ms/step - loss: 0.1856 - mean_absolute_error: 0.2975 - val_loss: 0.1509 - val_mean_absolute_error: 0.2760\n",
      "Epoch 5/20\n",
      "368/368 [==============================] - 2s 5ms/step - loss: 0.1848 - mean_absolute_error: 0.2959 - val_loss: 0.1543 - val_mean_absolute_error: 0.2837\n",
      "Epoch 6/20\n",
      "368/368 [==============================] - 2s 5ms/step - loss: 0.1856 - mean_absolute_error: 0.2974 - val_loss: 0.1545 - val_mean_absolute_error: 0.2900\n",
      "***TRAIN***:\n",
      "correlation related to cluster centre: 0.90\n",
      "r2 score related to cluster centre: 0.81\n",
      "***VALIDATION***:\n",
      "correlation related to cluster centre: 0.91\n",
      "r2 score related to cluster centre: 0.83\n"
     ]
    },
    {
     "data": {
      "application/vnd.jupyter.widget-view+json": {
       "model_id": "84f9cdd002c74d0193990539aad0159e",
       "version_major": 2,
       "version_minor": 0
      },
      "text/plain": [
       "IntProgress(value=0, max=248)"
      ]
     },
     "metadata": {},
     "output_type": "display_data"
    },
    {
     "name": "stdout",
     "output_type": "stream",
     "text": [
      "***VALIDATION***:\n",
      "average correlation: 0.91\n",
      "average r2: 0.63\n",
      "---do_investigations. cluster index : 35---\n"
     ]
    },
    {
     "data": {
      "application/vnd.jupyter.widget-view+json": {
       "model_id": "67ff0683c2fb420ab6f8aff42b5c3dc8",
       "version_major": 2,
       "version_minor": 0
      },
      "text/plain": [
       "IntProgress(value=0, max=2)"
      ]
     },
     "metadata": {},
     "output_type": "display_data"
    },
    {
     "name": "stdout",
     "output_type": "stream",
     "text": [
      "Epoch 1/20\n",
      "368/368 [==============================] - 5s 6ms/step - loss: 0.2612 - mean_absolute_error: 0.3360 - val_loss: 0.1863 - val_mean_absolute_error: 0.2683\n",
      "Epoch 2/20\n",
      "368/368 [==============================] - 2s 5ms/step - loss: 0.1877 - mean_absolute_error: 0.2868 - val_loss: 0.1850 - val_mean_absolute_error: 0.2671\n",
      "Epoch 3/20\n",
      "368/368 [==============================] - 2s 5ms/step - loss: 0.1875 - mean_absolute_error: 0.2867 - val_loss: 0.2070 - val_mean_absolute_error: 0.2853\n",
      "Epoch 4/20\n",
      "368/368 [==============================] - 2s 5ms/step - loss: 0.1879 - mean_absolute_error: 0.2864 - val_loss: 0.1832 - val_mean_absolute_error: 0.2647\n",
      "Epoch 5/20\n",
      "368/368 [==============================] - 2s 5ms/step - loss: 0.1881 - mean_absolute_error: 0.2870 - val_loss: 0.1927 - val_mean_absolute_error: 0.2806\n",
      "Epoch 6/20\n",
      "368/368 [==============================] - 2s 5ms/step - loss: 0.1872 - mean_absolute_error: 0.2868 - val_loss: 0.1892 - val_mean_absolute_error: 0.2724\n",
      "***TRAIN***:\n",
      "correlation related to cluster centre: 0.90\n",
      "r2 score related to cluster centre: 0.81\n",
      "***VALIDATION***:\n",
      "correlation related to cluster centre: 0.91\n",
      "r2 score related to cluster centre: 0.82\n"
     ]
    },
    {
     "data": {
      "application/vnd.jupyter.widget-view+json": {
       "model_id": "de76240cf2a448a39453f7cac7a278bb",
       "version_major": 2,
       "version_minor": 0
      },
      "text/plain": [
       "IntProgress(value=0, max=2)"
      ]
     },
     "metadata": {},
     "output_type": "display_data"
    },
    {
     "name": "stdout",
     "output_type": "stream",
     "text": [
      "***VALIDATION***:\n",
      "average correlation: 0.91\n",
      "average r2: 0.82\n",
      "---do_investigations. cluster index : 36---\n"
     ]
    },
    {
     "data": {
      "application/vnd.jupyter.widget-view+json": {
       "model_id": "b0983961f88a4e4f9794f48cec9bd004",
       "version_major": 2,
       "version_minor": 0
      },
      "text/plain": [
       "IntProgress(value=0, max=603)"
      ]
     },
     "metadata": {},
     "output_type": "display_data"
    },
    {
     "name": "stdout",
     "output_type": "stream",
     "text": [
      "Epoch 1/20\n",
      "368/368 [==============================] - 5s 6ms/step - loss: 0.2645 - mean_absolute_error: 0.3230 - val_loss: 0.2550 - val_mean_absolute_error: 0.2817\n",
      "Epoch 2/20\n",
      "368/368 [==============================] - 2s 5ms/step - loss: 0.2053 - mean_absolute_error: 0.2792 - val_loss: 0.2691 - val_mean_absolute_error: 0.2893\n",
      "Epoch 3/20\n",
      "368/368 [==============================] - 2s 5ms/step - loss: 0.2046 - mean_absolute_error: 0.2786 - val_loss: 0.2547 - val_mean_absolute_error: 0.2815\n",
      "Epoch 4/20\n",
      "368/368 [==============================] - 2s 5ms/step - loss: 0.2050 - mean_absolute_error: 0.2788 - val_loss: 0.2556 - val_mean_absolute_error: 0.2812\n",
      "Epoch 5/20\n",
      "368/368 [==============================] - 2s 5ms/step - loss: 0.2037 - mean_absolute_error: 0.2777 - val_loss: 0.2528 - val_mean_absolute_error: 0.2804\n",
      "Epoch 6/20\n",
      "368/368 [==============================] - 2s 5ms/step - loss: 0.2040 - mean_absolute_error: 0.2781 - val_loss: 0.2528 - val_mean_absolute_error: 0.2838\n",
      "Epoch 7/20\n",
      "368/368 [==============================] - 2s 5ms/step - loss: 0.2040 - mean_absolute_error: 0.2781 - val_loss: 0.2565 - val_mean_absolute_error: 0.2852\n",
      "***TRAIN***:\n",
      "correlation related to cluster centre: 0.89\n",
      "r2 score related to cluster centre: 0.80\n",
      "***VALIDATION***:\n",
      "correlation related to cluster centre: 0.90\n",
      "r2 score related to cluster centre: 0.80\n"
     ]
    },
    {
     "data": {
      "application/vnd.jupyter.widget-view+json": {
       "model_id": "8236c613a9034cbf9d00ab156e29d79a",
       "version_major": 2,
       "version_minor": 0
      },
      "text/plain": [
       "IntProgress(value=0, max=603)"
      ]
     },
     "metadata": {},
     "output_type": "display_data"
    },
    {
     "name": "stdout",
     "output_type": "stream",
     "text": [
      "***VALIDATION***:\n",
      "average correlation: 0.88\n",
      "average r2: 0.72\n",
      "---do_investigations. cluster index : 37---\n"
     ]
    },
    {
     "data": {
      "application/vnd.jupyter.widget-view+json": {
       "model_id": "c5c683bb0a7344559bc989bb06354b9b",
       "version_major": 2,
       "version_minor": 0
      },
      "text/plain": [
       "IntProgress(value=0, max=64)"
      ]
     },
     "metadata": {},
     "output_type": "display_data"
    },
    {
     "name": "stdout",
     "output_type": "stream",
     "text": [
      "Epoch 1/20\n",
      "368/368 [==============================] - 6s 7ms/step - loss: 0.1007 - mean_absolute_error: 0.1851 - val_loss: 0.0528 - val_mean_absolute_error: 0.1471\n",
      "Epoch 2/20\n",
      "368/368 [==============================] - 2s 5ms/step - loss: 0.0373 - mean_absolute_error: 0.1154 - val_loss: 0.0440 - val_mean_absolute_error: 0.1221\n",
      "Epoch 3/20\n",
      "368/368 [==============================] - 2s 5ms/step - loss: 0.0362 - mean_absolute_error: 0.1134 - val_loss: 0.0458 - val_mean_absolute_error: 0.1312\n",
      "Epoch 4/20\n",
      "368/368 [==============================] - 2s 5ms/step - loss: 0.0359 - mean_absolute_error: 0.1133 - val_loss: 0.0438 - val_mean_absolute_error: 0.1278\n",
      "Epoch 5/20\n",
      "368/368 [==============================] - 2s 5ms/step - loss: 0.0356 - mean_absolute_error: 0.1127 - val_loss: 0.0431 - val_mean_absolute_error: 0.1261\n",
      "Epoch 6/20\n",
      "368/368 [==============================] - 2s 5ms/step - loss: 0.0353 - mean_absolute_error: 0.1110 - val_loss: 0.0428 - val_mean_absolute_error: 0.1222\n",
      "Epoch 7/20\n",
      "368/368 [==============================] - 2s 5ms/step - loss: 0.0351 - mean_absolute_error: 0.1112 - val_loss: 0.0445 - val_mean_absolute_error: 0.1234\n",
      "Epoch 8/20\n",
      "368/368 [==============================] - 2s 5ms/step - loss: 0.0351 - mean_absolute_error: 0.1108 - val_loss: 0.0426 - val_mean_absolute_error: 0.1224\n",
      "Epoch 9/20\n",
      "368/368 [==============================] - 2s 5ms/step - loss: 0.0354 - mean_absolute_error: 0.1124 - val_loss: 0.0435 - val_mean_absolute_error: 0.1295\n",
      "Epoch 10/20\n",
      "368/368 [==============================] - 2s 5ms/step - loss: 0.0352 - mean_absolute_error: 0.1114 - val_loss: 0.0429 - val_mean_absolute_error: 0.1240\n",
      "***TRAIN***:\n",
      "correlation related to cluster centre: 0.98\n",
      "r2 score related to cluster centre: 0.97\n",
      "***VALIDATION***:\n",
      "correlation related to cluster centre: 0.96\n",
      "r2 score related to cluster centre: 0.92\n"
     ]
    },
    {
     "data": {
      "application/vnd.jupyter.widget-view+json": {
       "model_id": "645255799ef24d28bb481c163363f842",
       "version_major": 2,
       "version_minor": 0
      },
      "text/plain": [
       "IntProgress(value=0, max=64)"
      ]
     },
     "metadata": {},
     "output_type": "display_data"
    },
    {
     "name": "stdout",
     "output_type": "stream",
     "text": [
      "***VALIDATION***:\n",
      "average correlation: 0.89\n",
      "average r2: 0.79\n",
      "---do_investigations. cluster index : 38---\n"
     ]
    },
    {
     "data": {
      "application/vnd.jupyter.widget-view+json": {
       "model_id": "9819d0237c804917b1152ff0d07744e1",
       "version_major": 2,
       "version_minor": 0
      },
      "text/plain": [
       "IntProgress(value=0, max=1)"
      ]
     },
     "metadata": {},
     "output_type": "display_data"
    },
    {
     "name": "stdout",
     "output_type": "stream",
     "text": [
      "Epoch 1/20\n",
      "368/368 [==============================] - 6s 6ms/step - loss: 0.2751 - mean_absolute_error: 0.3677 - val_loss: 0.1378 - val_mean_absolute_error: 0.2639\n",
      "Epoch 2/20\n",
      "368/368 [==============================] - 2s 5ms/step - loss: 0.2090 - mean_absolute_error: 0.3176 - val_loss: 0.1379 - val_mean_absolute_error: 0.2607\n",
      "Epoch 3/20\n",
      "368/368 [==============================] - 2s 5ms/step - loss: 0.2073 - mean_absolute_error: 0.3156 - val_loss: 0.1383 - val_mean_absolute_error: 0.2677\n",
      "***TRAIN***:\n",
      "correlation related to cluster centre: 0.89\n",
      "r2 score related to cluster centre: 0.79\n",
      "***VALIDATION***:\n",
      "correlation related to cluster centre: 0.90\n",
      "r2 score related to cluster centre: 0.81\n"
     ]
    },
    {
     "data": {
      "application/vnd.jupyter.widget-view+json": {
       "model_id": "970e1854e61e464a85c08bc8d449a814",
       "version_major": 2,
       "version_minor": 0
      },
      "text/plain": [
       "IntProgress(value=0, max=1)"
      ]
     },
     "metadata": {},
     "output_type": "display_data"
    },
    {
     "name": "stdout",
     "output_type": "stream",
     "text": [
      "***VALIDATION***:\n",
      "average correlation: 0.90\n",
      "average r2: 0.81\n",
      "---do_investigations. cluster index : 39---\n"
     ]
    },
    {
     "data": {
      "application/vnd.jupyter.widget-view+json": {
       "model_id": "c8b3162238c14bdc8eabac82da0108c0",
       "version_major": 2,
       "version_minor": 0
      },
      "text/plain": [
       "IntProgress(value=0, max=9)"
      ]
     },
     "metadata": {},
     "output_type": "display_data"
    },
    {
     "name": "stdout",
     "output_type": "stream",
     "text": [
      "Epoch 1/20\n",
      "368/368 [==============================] - 7s 7ms/step - loss: 0.2699 - mean_absolute_error: 0.3693 - val_loss: 0.1784 - val_mean_absolute_error: 0.3049\n",
      "Epoch 2/20\n",
      "368/368 [==============================] - 2s 5ms/step - loss: 0.2096 - mean_absolute_error: 0.3207 - val_loss: 0.1748 - val_mean_absolute_error: 0.2939\n",
      "Epoch 3/20\n",
      "368/368 [==============================] - 2s 5ms/step - loss: 0.2085 - mean_absolute_error: 0.3191 - val_loss: 0.1792 - val_mean_absolute_error: 0.3011\n",
      "Epoch 4/20\n",
      "368/368 [==============================] - 2s 5ms/step - loss: 0.2089 - mean_absolute_error: 0.3191 - val_loss: 0.1798 - val_mean_absolute_error: 0.3052\n",
      "***TRAIN***:\n",
      "correlation related to cluster centre: 0.89\n",
      "r2 score related to cluster centre: 0.79\n",
      "***VALIDATION***:\n",
      "correlation related to cluster centre: 0.91\n",
      "r2 score related to cluster centre: 0.81\n"
     ]
    },
    {
     "data": {
      "application/vnd.jupyter.widget-view+json": {
       "model_id": "54f7866ceb614b7fa9fe3ad86c405db2",
       "version_major": 2,
       "version_minor": 0
      },
      "text/plain": [
       "IntProgress(value=0, max=9)"
      ]
     },
     "metadata": {},
     "output_type": "display_data"
    },
    {
     "name": "stdout",
     "output_type": "stream",
     "text": [
      "***VALIDATION***:\n",
      "average correlation: 0.90\n",
      "average r2: 0.80\n",
      "---do_investigations. cluster index : 40---\n"
     ]
    },
    {
     "data": {
      "application/vnd.jupyter.widget-view+json": {
       "model_id": "3389752a17c244c38ec84e2d6241cbb4",
       "version_major": 2,
       "version_minor": 0
      },
      "text/plain": [
       "IntProgress(value=0, max=3)"
      ]
     },
     "metadata": {},
     "output_type": "display_data"
    },
    {
     "name": "stdout",
     "output_type": "stream",
     "text": [
      "Epoch 1/20\n",
      "368/368 [==============================] - 5s 7ms/step - loss: 0.2697 - mean_absolute_error: 0.3697 - val_loss: 0.1897 - val_mean_absolute_error: 0.3054\n",
      "Epoch 2/20\n",
      "368/368 [==============================] - 2s 5ms/step - loss: 0.2088 - mean_absolute_error: 0.3206 - val_loss: 0.1886 - val_mean_absolute_error: 0.3039\n",
      "Epoch 3/20\n",
      "368/368 [==============================] - 2s 5ms/step - loss: 0.2096 - mean_absolute_error: 0.3208 - val_loss: 0.1887 - val_mean_absolute_error: 0.3076\n",
      "Epoch 4/20\n",
      "368/368 [==============================] - 2s 5ms/step - loss: 0.2083 - mean_absolute_error: 0.3200 - val_loss: 0.1879 - val_mean_absolute_error: 0.2981\n",
      "Epoch 5/20\n",
      "368/368 [==============================] - 2s 5ms/step - loss: 0.2083 - mean_absolute_error: 0.3198 - val_loss: 0.1929 - val_mean_absolute_error: 0.3077\n",
      "Epoch 6/20\n",
      "368/368 [==============================] - 2s 5ms/step - loss: 0.2087 - mean_absolute_error: 0.3205 - val_loss: 0.1880 - val_mean_absolute_error: 0.3024\n",
      "***TRAIN***:\n",
      "correlation related to cluster centre: 0.89\n",
      "r2 score related to cluster centre: 0.79\n",
      "***VALIDATION***:\n",
      "correlation related to cluster centre: 0.91\n",
      "r2 score related to cluster centre: 0.82\n"
     ]
    },
    {
     "data": {
      "application/vnd.jupyter.widget-view+json": {
       "model_id": "6dac718b089349259bb5577b6de75e28",
       "version_major": 2,
       "version_minor": 0
      },
      "text/plain": [
       "IntProgress(value=0, max=3)"
      ]
     },
     "metadata": {},
     "output_type": "display_data"
    },
    {
     "name": "stdout",
     "output_type": "stream",
     "text": [
      "***VALIDATION***:\n",
      "average correlation: 0.90\n",
      "average r2: 0.81\n",
      "---do_investigations. cluster index : 41---\n"
     ]
    },
    {
     "data": {
      "application/vnd.jupyter.widget-view+json": {
       "model_id": "730cd3e75e3844ec9318e933d7c1a035",
       "version_major": 2,
       "version_minor": 0
      },
      "text/plain": [
       "IntProgress(value=0, max=5)"
      ]
     },
     "metadata": {},
     "output_type": "display_data"
    },
    {
     "name": "stdout",
     "output_type": "stream",
     "text": [
      "Epoch 1/20\n",
      "368/368 [==============================] - 5s 6ms/step - loss: 0.2641 - mean_absolute_error: 0.3499 - val_loss: 0.1807 - val_mean_absolute_error: 0.2802\n",
      "Epoch 2/20\n",
      "368/368 [==============================] - 2s 5ms/step - loss: 0.1976 - mean_absolute_error: 0.3035 - val_loss: 0.1825 - val_mean_absolute_error: 0.2829\n",
      "Epoch 3/20\n",
      "368/368 [==============================] - 2s 5ms/step - loss: 0.1979 - mean_absolute_error: 0.3039 - val_loss: 0.1799 - val_mean_absolute_error: 0.2880\n",
      "Epoch 4/20\n",
      "368/368 [==============================] - 2s 5ms/step - loss: 0.1971 - mean_absolute_error: 0.3034 - val_loss: 0.1787 - val_mean_absolute_error: 0.2767\n",
      "Epoch 5/20\n",
      "368/368 [==============================] - 2s 5ms/step - loss: 0.1963 - mean_absolute_error: 0.3025 - val_loss: 0.1788 - val_mean_absolute_error: 0.2828\n",
      "Epoch 6/20\n",
      "368/368 [==============================] - 2s 5ms/step - loss: 0.1968 - mean_absolute_error: 0.3024 - val_loss: 0.1780 - val_mean_absolute_error: 0.2783\n",
      "Epoch 7/20\n",
      "368/368 [==============================] - 2s 5ms/step - loss: 0.1963 - mean_absolute_error: 0.3019 - val_loss: 0.1795 - val_mean_absolute_error: 0.2820\n",
      "Epoch 8/20\n",
      "368/368 [==============================] - 2s 5ms/step - loss: 0.1969 - mean_absolute_error: 0.3029 - val_loss: 0.1788 - val_mean_absolute_error: 0.2806\n",
      "***TRAIN***:\n",
      "correlation related to cluster centre: 0.90\n",
      "r2 score related to cluster centre: 0.81\n",
      "***VALIDATION***:\n",
      "correlation related to cluster centre: 0.91\n",
      "r2 score related to cluster centre: 0.83\n"
     ]
    },
    {
     "data": {
      "application/vnd.jupyter.widget-view+json": {
       "model_id": "1064c307aa144267980fd38a5e88617a",
       "version_major": 2,
       "version_minor": 0
      },
      "text/plain": [
       "IntProgress(value=0, max=5)"
      ]
     },
     "metadata": {},
     "output_type": "display_data"
    },
    {
     "name": "stdout",
     "output_type": "stream",
     "text": [
      "***VALIDATION***:\n",
      "average correlation: 0.91\n",
      "average r2: 0.82\n",
      "---do_investigations. cluster index : 42---\n"
     ]
    },
    {
     "data": {
      "application/vnd.jupyter.widget-view+json": {
       "model_id": "fe306d3ddcd44783bf26054baeec9360",
       "version_major": 2,
       "version_minor": 0
      },
      "text/plain": [
       "IntProgress(value=0, max=6)"
      ]
     },
     "metadata": {},
     "output_type": "display_data"
    },
    {
     "name": "stdout",
     "output_type": "stream",
     "text": [
      "Epoch 1/20\n",
      "368/368 [==============================] - 23s 7ms/step - loss: 0.2845 - mean_absolute_error: 0.3584 - val_loss: 0.1512 - val_mean_absolute_error: 0.2627\n",
      "Epoch 2/20\n",
      "368/368 [==============================] - 2s 5ms/step - loss: 0.2001 - mean_absolute_error: 0.3028 - val_loss: 0.1571 - val_mean_absolute_error: 0.2785\n",
      "Epoch 3/20\n",
      "368/368 [==============================] - 2s 5ms/step - loss: 0.2000 - mean_absolute_error: 0.3026 - val_loss: 0.1511 - val_mean_absolute_error: 0.2641\n",
      "Epoch 4/20\n",
      "368/368 [==============================] - 2s 5ms/step - loss: 0.1999 - mean_absolute_error: 0.3026 - val_loss: 0.1540 - val_mean_absolute_error: 0.2699\n",
      "Epoch 5/20\n",
      "368/368 [==============================] - 2s 5ms/step - loss: 0.1994 - mean_absolute_error: 0.3021 - val_loss: 0.1560 - val_mean_absolute_error: 0.2762\n",
      "***TRAIN***:\n",
      "correlation related to cluster centre: 0.90\n",
      "r2 score related to cluster centre: 0.80\n",
      "***VALIDATION***:\n",
      "correlation related to cluster centre: 0.91\n",
      "r2 score related to cluster centre: 0.82\n"
     ]
    },
    {
     "data": {
      "application/vnd.jupyter.widget-view+json": {
       "model_id": "6a607d00b0db4c60a2524d14792d6da2",
       "version_major": 2,
       "version_minor": 0
      },
      "text/plain": [
       "IntProgress(value=0, max=6)"
      ]
     },
     "metadata": {},
     "output_type": "display_data"
    },
    {
     "name": "stdout",
     "output_type": "stream",
     "text": [
      "***VALIDATION***:\n",
      "average correlation: 0.91\n",
      "average r2: 0.80\n",
      "---do_investigations. cluster index : 43---\n"
     ]
    },
    {
     "data": {
      "application/vnd.jupyter.widget-view+json": {
       "model_id": "33cb335bd5c54d848dcac137c3c21ca2",
       "version_major": 2,
       "version_minor": 0
      },
      "text/plain": [
       "IntProgress(value=0, max=1)"
      ]
     },
     "metadata": {},
     "output_type": "display_data"
    },
    {
     "name": "stdout",
     "output_type": "stream",
     "text": [
      "Epoch 1/20\n",
      "368/368 [==============================] - 6s 8ms/step - loss: 0.2701 - mean_absolute_error: 0.3649 - val_loss: 0.1442 - val_mean_absolute_error: 0.2721\n",
      "Epoch 2/20\n",
      "368/368 [==============================] - 2s 5ms/step - loss: 0.2103 - mean_absolute_error: 0.3163 - val_loss: 0.1386 - val_mean_absolute_error: 0.2664\n",
      "Epoch 3/20\n",
      "368/368 [==============================] - 2s 5ms/step - loss: 0.2108 - mean_absolute_error: 0.3171 - val_loss: 0.1392 - val_mean_absolute_error: 0.2666\n",
      "Epoch 4/20\n",
      "368/368 [==============================] - 2s 5ms/step - loss: 0.2085 - mean_absolute_error: 0.3147 - val_loss: 0.1426 - val_mean_absolute_error: 0.2698\n",
      "***TRAIN***:\n",
      "correlation related to cluster centre: 0.89\n",
      "r2 score related to cluster centre: 0.79\n",
      "***VALIDATION***:\n",
      "correlation related to cluster centre: 0.91\n",
      "r2 score related to cluster centre: 0.82\n"
     ]
    },
    {
     "data": {
      "application/vnd.jupyter.widget-view+json": {
       "model_id": "a2e9d7e6c34c48ec9dd032bdcc845a50",
       "version_major": 2,
       "version_minor": 0
      },
      "text/plain": [
       "IntProgress(value=0, max=1)"
      ]
     },
     "metadata": {},
     "output_type": "display_data"
    },
    {
     "name": "stdout",
     "output_type": "stream",
     "text": [
      "***VALIDATION***:\n",
      "average correlation: 0.91\n",
      "average r2: 0.82\n",
      "---do_investigations. cluster index : 44---\n"
     ]
    },
    {
     "data": {
      "application/vnd.jupyter.widget-view+json": {
       "model_id": "aec20ed77d254153af412f057328d77c",
       "version_major": 2,
       "version_minor": 0
      },
      "text/plain": [
       "IntProgress(value=0, max=91)"
      ]
     },
     "metadata": {},
     "output_type": "display_data"
    },
    {
     "name": "stdout",
     "output_type": "stream",
     "text": [
      "Epoch 1/20\n",
      "368/368 [==============================] - 6s 7ms/step - loss: 0.2728 - mean_absolute_error: 0.3440 - val_loss: 0.1726 - val_mean_absolute_error: 0.2789\n",
      "Epoch 2/20\n",
      "368/368 [==============================] - 2s 5ms/step - loss: 0.2102 - mean_absolute_error: 0.2957 - val_loss: 0.1718 - val_mean_absolute_error: 0.2764\n",
      "Epoch 3/20\n",
      "368/368 [==============================] - 2s 5ms/step - loss: 0.2089 - mean_absolute_error: 0.2950 - val_loss: 0.1713 - val_mean_absolute_error: 0.2779\n",
      "Epoch 4/20\n",
      "368/368 [==============================] - 2s 5ms/step - loss: 0.2083 - mean_absolute_error: 0.2946 - val_loss: 0.1713 - val_mean_absolute_error: 0.2763\n",
      "Epoch 5/20\n",
      "368/368 [==============================] - 2s 5ms/step - loss: 0.2081 - mean_absolute_error: 0.2938 - val_loss: 0.1718 - val_mean_absolute_error: 0.2840\n",
      "Epoch 6/20\n",
      "368/368 [==============================] - 2s 5ms/step - loss: 0.2087 - mean_absolute_error: 0.2942 - val_loss: 0.1725 - val_mean_absolute_error: 0.2803\n",
      "***TRAIN***:\n",
      "correlation related to cluster centre: 0.89\n",
      "r2 score related to cluster centre: 0.79\n",
      "***VALIDATION***:\n",
      "correlation related to cluster centre: 0.91\n",
      "r2 score related to cluster centre: 0.82\n"
     ]
    },
    {
     "data": {
      "application/vnd.jupyter.widget-view+json": {
       "model_id": "1b5b240c419741bf944e29a63e3dc581",
       "version_major": 2,
       "version_minor": 0
      },
      "text/plain": [
       "IntProgress(value=0, max=91)"
      ]
     },
     "metadata": {},
     "output_type": "display_data"
    },
    {
     "name": "stdout",
     "output_type": "stream",
     "text": [
      "***VALIDATION***:\n",
      "average correlation: 0.90\n",
      "average r2: 0.81\n",
      "---do_investigations. cluster index : 45---\n"
     ]
    },
    {
     "data": {
      "application/vnd.jupyter.widget-view+json": {
       "model_id": "f939549700974dbf984608c20ba920f3",
       "version_major": 2,
       "version_minor": 0
      },
      "text/plain": [
       "IntProgress(value=0, max=11)"
      ]
     },
     "metadata": {},
     "output_type": "display_data"
    },
    {
     "name": "stdout",
     "output_type": "stream",
     "text": [
      "Epoch 1/20\n",
      "368/368 [==============================] - 5s 7ms/step - loss: 0.2553 - mean_absolute_error: 0.3269 - val_loss: 0.5358 - val_mean_absolute_error: 0.3212\n",
      "Epoch 2/20\n",
      "368/368 [==============================] - 2s 5ms/step - loss: 0.1819 - mean_absolute_error: 0.2709 - val_loss: 0.5381 - val_mean_absolute_error: 0.3214\n",
      "Epoch 3/20\n",
      "368/368 [==============================] - 2s 5ms/step - loss: 0.1832 - mean_absolute_error: 0.2726 - val_loss: 0.5335 - val_mean_absolute_error: 0.3197\n",
      "Epoch 4/20\n",
      "368/368 [==============================] - 2s 5ms/step - loss: 0.1823 - mean_absolute_error: 0.2709 - val_loss: 0.5413 - val_mean_absolute_error: 0.3245\n",
      "Epoch 5/20\n",
      "368/368 [==============================] - 2s 5ms/step - loss: 0.1799 - mean_absolute_error: 0.2700 - val_loss: 0.5344 - val_mean_absolute_error: 0.3217\n",
      "***TRAIN***:\n",
      "correlation related to cluster centre: 0.91\n",
      "r2 score related to cluster centre: 0.82\n",
      "***VALIDATION***:\n",
      "correlation related to cluster centre: 0.85\n",
      "r2 score related to cluster centre: 0.71\n"
     ]
    },
    {
     "data": {
      "application/vnd.jupyter.widget-view+json": {
       "model_id": "c946e7419438401c9505543e83cceaa8",
       "version_major": 2,
       "version_minor": 0
      },
      "text/plain": [
       "IntProgress(value=0, max=11)"
      ]
     },
     "metadata": {},
     "output_type": "display_data"
    },
    {
     "name": "stdout",
     "output_type": "stream",
     "text": [
      "***VALIDATION***:\n",
      "average correlation: 0.85\n",
      "average r2: 0.72\n",
      "---do_investigations. cluster index : 46---\n"
     ]
    },
    {
     "data": {
      "application/vnd.jupyter.widget-view+json": {
       "model_id": "aa36d4790b084baf9c6af5691c91ed16",
       "version_major": 2,
       "version_minor": 0
      },
      "text/plain": [
       "IntProgress(value=0, max=80)"
      ]
     },
     "metadata": {},
     "output_type": "display_data"
    },
    {
     "name": "stdout",
     "output_type": "stream",
     "text": [
      "Epoch 1/20\n",
      "368/368 [==============================] - 5s 7ms/step - loss: 0.2578 - mean_absolute_error: 0.3510 - val_loss: 0.1799 - val_mean_absolute_error: 0.2770\n",
      "Epoch 2/20\n",
      "368/368 [==============================] - 2s 5ms/step - loss: 0.2004 - mean_absolute_error: 0.3041 - val_loss: 0.1762 - val_mean_absolute_error: 0.2762\n",
      "Epoch 3/20\n",
      "368/368 [==============================] - 2s 5ms/step - loss: 0.1991 - mean_absolute_error: 0.3037 - val_loss: 0.1777 - val_mean_absolute_error: 0.2755\n",
      "Epoch 4/20\n",
      "368/368 [==============================] - 2s 5ms/step - loss: 0.1995 - mean_absolute_error: 0.3035 - val_loss: 0.1820 - val_mean_absolute_error: 0.2783\n",
      "***TRAIN***:\n",
      "correlation related to cluster centre: 0.90\n",
      "r2 score related to cluster centre: 0.80\n",
      "***VALIDATION***:\n",
      "correlation related to cluster centre: 0.91\n",
      "r2 score related to cluster centre: 0.81\n"
     ]
    },
    {
     "data": {
      "application/vnd.jupyter.widget-view+json": {
       "model_id": "081144a515b44849bf0ef1059fa2bf7d",
       "version_major": 2,
       "version_minor": 0
      },
      "text/plain": [
       "IntProgress(value=0, max=80)"
      ]
     },
     "metadata": {},
     "output_type": "display_data"
    },
    {
     "name": "stdout",
     "output_type": "stream",
     "text": [
      "***VALIDATION***:\n",
      "average correlation: 0.92\n",
      "average r2: 0.84\n",
      "---do_investigations. cluster index : 47---\n"
     ]
    },
    {
     "data": {
      "application/vnd.jupyter.widget-view+json": {
       "model_id": "ff5e60e1623d4b0abbb8438d91d0f51e",
       "version_major": 2,
       "version_minor": 0
      },
      "text/plain": [
       "IntProgress(value=0, max=114)"
      ]
     },
     "metadata": {},
     "output_type": "display_data"
    },
    {
     "name": "stdout",
     "output_type": "stream",
     "text": [
      "Epoch 1/20\n",
      "368/368 [==============================] - 5s 6ms/step - loss: 0.2624 - mean_absolute_error: 0.3541 - val_loss: 0.1970 - val_mean_absolute_error: 0.2997\n",
      "Epoch 2/20\n",
      "368/368 [==============================] - 2s 5ms/step - loss: 0.2035 - mean_absolute_error: 0.3079 - val_loss: 0.2008 - val_mean_absolute_error: 0.2920\n",
      "Epoch 3/20\n",
      "368/368 [==============================] - 2s 5ms/step - loss: 0.2035 - mean_absolute_error: 0.3071 - val_loss: 0.1963 - val_mean_absolute_error: 0.2974\n",
      "Epoch 4/20\n",
      "368/368 [==============================] - 2s 5ms/step - loss: 0.2036 - mean_absolute_error: 0.3071 - val_loss: 0.1965 - val_mean_absolute_error: 0.2972\n",
      "Epoch 5/20\n",
      "368/368 [==============================] - 2s 5ms/step - loss: 0.2022 - mean_absolute_error: 0.3062 - val_loss: 0.1976 - val_mean_absolute_error: 0.2902\n",
      "***TRAIN***:\n",
      "correlation related to cluster centre: 0.89\n",
      "r2 score related to cluster centre: 0.80\n",
      "***VALIDATION***:\n",
      "correlation related to cluster centre: 0.90\n",
      "r2 score related to cluster centre: 0.81\n"
     ]
    },
    {
     "data": {
      "application/vnd.jupyter.widget-view+json": {
       "model_id": "225d0ede7a714d31a474402bde002f48",
       "version_major": 2,
       "version_minor": 0
      },
      "text/plain": [
       "IntProgress(value=0, max=114)"
      ]
     },
     "metadata": {},
     "output_type": "display_data"
    },
    {
     "name": "stdout",
     "output_type": "stream",
     "text": [
      "***VALIDATION***:\n",
      "average correlation: 0.90\n",
      "average r2: 0.79\n",
      "---do_investigations. cluster index : 48---\n"
     ]
    },
    {
     "data": {
      "application/vnd.jupyter.widget-view+json": {
       "model_id": "828f94867b74413e92a6c31121661d46",
       "version_major": 2,
       "version_minor": 0
      },
      "text/plain": [
       "IntProgress(value=0, max=99)"
      ]
     },
     "metadata": {},
     "output_type": "display_data"
    },
    {
     "name": "stdout",
     "output_type": "stream",
     "text": [
      "Epoch 1/20\n",
      "368/368 [==============================] - 5s 6ms/step - loss: 0.2830 - mean_absolute_error: 0.3268 - val_loss: 0.2986 - val_mean_absolute_error: 0.2903\n",
      "Epoch 2/20\n",
      "368/368 [==============================] - 2s 5ms/step - loss: 0.2069 - mean_absolute_error: 0.2734 - val_loss: 0.2866 - val_mean_absolute_error: 0.2915\n",
      "Epoch 3/20\n",
      "368/368 [==============================] - 2s 5ms/step - loss: 0.2045 - mean_absolute_error: 0.2724 - val_loss: 0.2983 - val_mean_absolute_error: 0.2889\n",
      "Epoch 4/20\n",
      "368/368 [==============================] - 2s 5ms/step - loss: 0.2042 - mean_absolute_error: 0.2716 - val_loss: 0.2851 - val_mean_absolute_error: 0.2808\n",
      "Epoch 5/20\n",
      "368/368 [==============================] - 2s 5ms/step - loss: 0.2049 - mean_absolute_error: 0.2714 - val_loss: 0.2847 - val_mean_absolute_error: 0.2870\n",
      "Epoch 6/20\n",
      "368/368 [==============================] - 2s 5ms/step - loss: 0.2045 - mean_absolute_error: 0.2714 - val_loss: 0.2838 - val_mean_absolute_error: 0.2809\n",
      "Epoch 7/20\n",
      "368/368 [==============================] - 2s 5ms/step - loss: 0.2034 - mean_absolute_error: 0.2712 - val_loss: 0.2868 - val_mean_absolute_error: 0.2927\n",
      "Epoch 8/20\n",
      "368/368 [==============================] - 2s 5ms/step - loss: 0.2028 - mean_absolute_error: 0.2706 - val_loss: 0.2842 - val_mean_absolute_error: 0.2898\n",
      "***TRAIN***:\n",
      "correlation related to cluster centre: 0.89\n",
      "r2 score related to cluster centre: 0.80\n",
      "***VALIDATION***:\n",
      "correlation related to cluster centre: 0.89\n",
      "r2 score related to cluster centre: 0.80\n"
     ]
    },
    {
     "data": {
      "application/vnd.jupyter.widget-view+json": {
       "model_id": "bb5745e0a6fb4de29d0a46ecc7fc8a2c",
       "version_major": 2,
       "version_minor": 0
      },
      "text/plain": [
       "IntProgress(value=0, max=99)"
      ]
     },
     "metadata": {},
     "output_type": "display_data"
    },
    {
     "name": "stdout",
     "output_type": "stream",
     "text": [
      "***VALIDATION***:\n",
      "average correlation: 0.88\n",
      "average r2: 0.77\n",
      "---do_investigations. cluster index : 49---\n"
     ]
    },
    {
     "data": {
      "application/vnd.jupyter.widget-view+json": {
       "model_id": "6bae3eae195e433dba774e482beed7c7",
       "version_major": 2,
       "version_minor": 0
      },
      "text/plain": [
       "IntProgress(value=0, max=8)"
      ]
     },
     "metadata": {},
     "output_type": "display_data"
    },
    {
     "name": "stdout",
     "output_type": "stream",
     "text": [
      "Epoch 1/20\n",
      "368/368 [==============================] - 5s 6ms/step - loss: 0.2844 - mean_absolute_error: 0.3769 - val_loss: 0.1831 - val_mean_absolute_error: 0.3052\n",
      "Epoch 2/20\n",
      "368/368 [==============================] - 2s 5ms/step - loss: 0.2139 - mean_absolute_error: 0.3251 - val_loss: 0.1824 - val_mean_absolute_error: 0.3091\n",
      "Epoch 3/20\n",
      "368/368 [==============================] - 2s 5ms/step - loss: 0.2118 - mean_absolute_error: 0.3232 - val_loss: 0.1845 - val_mean_absolute_error: 0.3132\n",
      "Epoch 4/20\n",
      "368/368 [==============================] - 2s 5ms/step - loss: 0.2120 - mean_absolute_error: 0.3235 - val_loss: 0.1851 - val_mean_absolute_error: 0.3184\n",
      "***TRAIN***:\n",
      "correlation related to cluster centre: 0.89\n",
      "r2 score related to cluster centre: 0.79\n",
      "***VALIDATION***:\n",
      "correlation related to cluster centre: 0.90\n",
      "r2 score related to cluster centre: 0.81\n"
     ]
    },
    {
     "data": {
      "application/vnd.jupyter.widget-view+json": {
       "model_id": "a60e3f4ff9554d4ea5809e02dda90cfd",
       "version_major": 2,
       "version_minor": 0
      },
      "text/plain": [
       "IntProgress(value=0, max=8)"
      ]
     },
     "metadata": {},
     "output_type": "display_data"
    },
    {
     "name": "stdout",
     "output_type": "stream",
     "text": [
      "***VALIDATION***:\n",
      "average correlation: 0.90\n",
      "average r2: 0.80\n",
      "---do_investigations. cluster index : 50---\n"
     ]
    },
    {
     "data": {
      "application/vnd.jupyter.widget-view+json": {
       "model_id": "c603ae60d565416897fbc2c6ffb46d10",
       "version_major": 2,
       "version_minor": 0
      },
      "text/plain": [
       "IntProgress(value=0, max=13)"
      ]
     },
     "metadata": {},
     "output_type": "display_data"
    },
    {
     "name": "stdout",
     "output_type": "stream",
     "text": [
      "Epoch 1/20\n",
      "368/368 [==============================] - 5s 6ms/step - loss: 0.2815 - mean_absolute_error: 0.3646 - val_loss: 0.1842 - val_mean_absolute_error: 0.3018\n",
      "Epoch 2/20\n",
      "368/368 [==============================] - 2s 5ms/step - loss: 0.2063 - mean_absolute_error: 0.3104 - val_loss: 0.1844 - val_mean_absolute_error: 0.3002\n",
      "Epoch 3/20\n",
      "368/368 [==============================] - 2s 5ms/step - loss: 0.2055 - mean_absolute_error: 0.3093 - val_loss: 0.1804 - val_mean_absolute_error: 0.2939\n",
      "Epoch 4/20\n",
      "368/368 [==============================] - 2s 5ms/step - loss: 0.2061 - mean_absolute_error: 0.3097 - val_loss: 0.1866 - val_mean_absolute_error: 0.3026\n",
      "Epoch 5/20\n",
      "368/368 [==============================] - 2s 5ms/step - loss: 0.2057 - mean_absolute_error: 0.3087 - val_loss: 0.1805 - val_mean_absolute_error: 0.2979\n",
      "***TRAIN***:\n",
      "correlation related to cluster centre: 0.89\n",
      "r2 score related to cluster centre: 0.80\n",
      "***VALIDATION***:\n",
      "correlation related to cluster centre: 0.91\n",
      "r2 score related to cluster centre: 0.82\n"
     ]
    },
    {
     "data": {
      "application/vnd.jupyter.widget-view+json": {
       "model_id": "a2db5b6d4af045e59a9d7a0f2ce0abac",
       "version_major": 2,
       "version_minor": 0
      },
      "text/plain": [
       "IntProgress(value=0, max=13)"
      ]
     },
     "metadata": {},
     "output_type": "display_data"
    },
    {
     "name": "stdout",
     "output_type": "stream",
     "text": [
      "***VALIDATION***:\n",
      "average correlation: 0.90\n",
      "average r2: 0.81\n",
      "---do_investigations. cluster index : 51---\n"
     ]
    },
    {
     "data": {
      "application/vnd.jupyter.widget-view+json": {
       "model_id": "bb03557aa7a94191b6f6b8c42fb07341",
       "version_major": 2,
       "version_minor": 0
      },
      "text/plain": [
       "IntProgress(value=0, max=177)"
      ]
     },
     "metadata": {},
     "output_type": "display_data"
    },
    {
     "name": "stdout",
     "output_type": "stream",
     "text": [
      "Epoch 1/20\n",
      "368/368 [==============================] - 6s 8ms/step - loss: 0.3086 - mean_absolute_error: 0.3373 - val_loss: 0.2477 - val_mean_absolute_error: 0.2731\n",
      "Epoch 2/20\n",
      "368/368 [==============================] - 2s 5ms/step - loss: 0.2080 - mean_absolute_error: 0.2775 - val_loss: 0.2431 - val_mean_absolute_error: 0.2794\n",
      "Epoch 3/20\n",
      "368/368 [==============================] - 2s 5ms/step - loss: 0.2058 - mean_absolute_error: 0.2768 - val_loss: 0.2440 - val_mean_absolute_error: 0.2771\n",
      "Epoch 4/20\n",
      "368/368 [==============================] - 2s 5ms/step - loss: 0.2042 - mean_absolute_error: 0.2761 - val_loss: 0.2409 - val_mean_absolute_error: 0.2808\n",
      "Epoch 5/20\n",
      "368/368 [==============================] - 2s 5ms/step - loss: 0.2037 - mean_absolute_error: 0.2753 - val_loss: 0.2476 - val_mean_absolute_error: 0.2802\n",
      "Epoch 6/20\n",
      "368/368 [==============================] - 2s 5ms/step - loss: 0.2034 - mean_absolute_error: 0.2755 - val_loss: 0.2396 - val_mean_absolute_error: 0.2719\n",
      "Epoch 7/20\n",
      "368/368 [==============================] - 2s 5ms/step - loss: 0.2027 - mean_absolute_error: 0.2745 - val_loss: 0.2388 - val_mean_absolute_error: 0.2729\n",
      "Epoch 8/20\n",
      "368/368 [==============================] - 2s 5ms/step - loss: 0.2035 - mean_absolute_error: 0.2738 - val_loss: 0.2449 - val_mean_absolute_error: 0.2796\n",
      "Epoch 9/20\n",
      "368/368 [==============================] - 2s 5ms/step - loss: 0.2037 - mean_absolute_error: 0.2752 - val_loss: 0.2410 - val_mean_absolute_error: 0.2726\n",
      "***TRAIN***:\n",
      "correlation related to cluster centre: 0.90\n",
      "r2 score related to cluster centre: 0.80\n",
      "***VALIDATION***:\n",
      "correlation related to cluster centre: 0.90\n",
      "r2 score related to cluster centre: 0.80\n"
     ]
    },
    {
     "data": {
      "application/vnd.jupyter.widget-view+json": {
       "model_id": "3cbeecb668ea41db9d3e4bb9b28ec1d9",
       "version_major": 2,
       "version_minor": 0
      },
      "text/plain": [
       "IntProgress(value=0, max=177)"
      ]
     },
     "metadata": {},
     "output_type": "display_data"
    },
    {
     "name": "stdout",
     "output_type": "stream",
     "text": [
      "***VALIDATION***:\n",
      "average correlation: 0.88\n",
      "average r2: 0.75\n",
      "---do_investigations. cluster index : 52---\n"
     ]
    },
    {
     "data": {
      "application/vnd.jupyter.widget-view+json": {
       "model_id": "d9ed1f933d83403990f94e8c6e7fefbd",
       "version_major": 2,
       "version_minor": 0
      },
      "text/plain": [
       "IntProgress(value=0, max=25)"
      ]
     },
     "metadata": {},
     "output_type": "display_data"
    },
    {
     "name": "stdout",
     "output_type": "stream",
     "text": [
      "Epoch 1/20\n",
      "368/368 [==============================] - 5s 7ms/step - loss: 0.2726 - mean_absolute_error: 0.3632 - val_loss: 0.1888 - val_mean_absolute_error: 0.2942\n",
      "Epoch 2/20\n",
      "368/368 [==============================] - 2s 5ms/step - loss: 0.2053 - mean_absolute_error: 0.3122 - val_loss: 0.1882 - val_mean_absolute_error: 0.2957\n",
      "Epoch 3/20\n",
      "368/368 [==============================] - 2s 5ms/step - loss: 0.2053 - mean_absolute_error: 0.3125 - val_loss: 0.1863 - val_mean_absolute_error: 0.2944\n",
      "Epoch 4/20\n",
      "368/368 [==============================] - 2s 5ms/step - loss: 0.2050 - mean_absolute_error: 0.3120 - val_loss: 0.1852 - val_mean_absolute_error: 0.2992\n",
      "Epoch 5/20\n",
      "368/368 [==============================] - 2s 5ms/step - loss: 0.2048 - mean_absolute_error: 0.3119 - val_loss: 0.1870 - val_mean_absolute_error: 0.3056\n",
      "Epoch 6/20\n",
      "368/368 [==============================] - 2s 5ms/step - loss: 0.2046 - mean_absolute_error: 0.3117 - val_loss: 0.1857 - val_mean_absolute_error: 0.3029\n",
      "***TRAIN***:\n",
      "correlation related to cluster centre: 0.89\n",
      "r2 score related to cluster centre: 0.80\n",
      "***VALIDATION***:\n",
      "correlation related to cluster centre: 0.90\n",
      "r2 score related to cluster centre: 0.82\n"
     ]
    },
    {
     "data": {
      "application/vnd.jupyter.widget-view+json": {
       "model_id": "fe630c083bb243269d21707ec234433b",
       "version_major": 2,
       "version_minor": 0
      },
      "text/plain": [
       "IntProgress(value=0, max=25)"
      ]
     },
     "metadata": {},
     "output_type": "display_data"
    },
    {
     "name": "stdout",
     "output_type": "stream",
     "text": [
      "***VALIDATION***:\n",
      "average correlation: 0.90\n",
      "average r2: 0.81\n",
      "---do_investigations. cluster index : 53---\n"
     ]
    },
    {
     "data": {
      "application/vnd.jupyter.widget-view+json": {
       "model_id": "93a722f8d9b84721889255a7c4a58d79",
       "version_major": 2,
       "version_minor": 0
      },
      "text/plain": [
       "IntProgress(value=0, max=4)"
      ]
     },
     "metadata": {},
     "output_type": "display_data"
    },
    {
     "name": "stdout",
     "output_type": "stream",
     "text": [
      "Epoch 1/20\n",
      "368/368 [==============================] - 5s 6ms/step - loss: 0.2906 - mean_absolute_error: 0.3842 - val_loss: 0.2029 - val_mean_absolute_error: 0.3066\n",
      "Epoch 2/20\n",
      "368/368 [==============================] - 2s 5ms/step - loss: 0.2102 - mean_absolute_error: 0.3205 - val_loss: 0.2008 - val_mean_absolute_error: 0.3155\n",
      "Epoch 3/20\n",
      "368/368 [==============================] - 2s 5ms/step - loss: 0.2072 - mean_absolute_error: 0.3173 - val_loss: 0.2007 - val_mean_absolute_error: 0.3175\n",
      "Epoch 4/20\n",
      "368/368 [==============================] - 2s 5ms/step - loss: 0.2071 - mean_absolute_error: 0.3172 - val_loss: 0.1995 - val_mean_absolute_error: 0.3073\n",
      "Epoch 5/20\n",
      "368/368 [==============================] - 2s 5ms/step - loss: 0.2059 - mean_absolute_error: 0.3161 - val_loss: 0.1974 - val_mean_absolute_error: 0.3063\n",
      "Epoch 6/20\n",
      "368/368 [==============================] - 2s 5ms/step - loss: 0.2061 - mean_absolute_error: 0.3153 - val_loss: 0.1987 - val_mean_absolute_error: 0.3050\n",
      "Epoch 7/20\n",
      "368/368 [==============================] - 2s 5ms/step - loss: 0.2060 - mean_absolute_error: 0.3154 - val_loss: 0.1989 - val_mean_absolute_error: 0.3038\n",
      "***TRAIN***:\n",
      "correlation related to cluster centre: 0.89\n",
      "r2 score related to cluster centre: 0.79\n",
      "***VALIDATION***:\n",
      "correlation related to cluster centre: 0.90\n",
      "r2 score related to cluster centre: 0.81\n"
     ]
    },
    {
     "data": {
      "application/vnd.jupyter.widget-view+json": {
       "model_id": "9276911f7c634fe8a0ab8cbbf2953d4d",
       "version_major": 2,
       "version_minor": 0
      },
      "text/plain": [
       "IntProgress(value=0, max=4)"
      ]
     },
     "metadata": {},
     "output_type": "display_data"
    },
    {
     "name": "stdout",
     "output_type": "stream",
     "text": [
      "***VALIDATION***:\n",
      "average correlation: 0.90\n",
      "average r2: 0.81\n",
      "---do_investigations. cluster index : 54---\n"
     ]
    },
    {
     "data": {
      "application/vnd.jupyter.widget-view+json": {
       "model_id": "57c0293e6a8c452894a3b95854ad58cb",
       "version_major": 2,
       "version_minor": 0
      },
      "text/plain": [
       "IntProgress(value=0, max=5)"
      ]
     },
     "metadata": {},
     "output_type": "display_data"
    },
    {
     "name": "stdout",
     "output_type": "stream",
     "text": [
      "Epoch 1/20\n",
      "368/368 [==============================] - 5s 6ms/step - loss: 0.2704 - mean_absolute_error: 0.3642 - val_loss: 0.1913 - val_mean_absolute_error: 0.3090\n",
      "Epoch 2/20\n",
      "368/368 [==============================] - 2s 5ms/step - loss: 0.2059 - mean_absolute_error: 0.3147 - val_loss: 0.1942 - val_mean_absolute_error: 0.3026\n",
      "Epoch 3/20\n",
      "368/368 [==============================] - 2s 5ms/step - loss: 0.2053 - mean_absolute_error: 0.3134 - val_loss: 0.1954 - val_mean_absolute_error: 0.3197\n",
      "***TRAIN***:\n",
      "correlation related to cluster centre: 0.89\n",
      "r2 score related to cluster centre: 0.79\n",
      "***VALIDATION***:\n",
      "correlation related to cluster centre: 0.91\n",
      "r2 score related to cluster centre: 0.81\n"
     ]
    },
    {
     "data": {
      "application/vnd.jupyter.widget-view+json": {
       "model_id": "71b0c1c890fc408f88f2bfab08355783",
       "version_major": 2,
       "version_minor": 0
      },
      "text/plain": [
       "IntProgress(value=0, max=5)"
      ]
     },
     "metadata": {},
     "output_type": "display_data"
    },
    {
     "name": "stdout",
     "output_type": "stream",
     "text": [
      "***VALIDATION***:\n",
      "average correlation: 0.91\n",
      "average r2: 0.80\n",
      "---do_investigations. cluster index : 55---\n"
     ]
    },
    {
     "data": {
      "application/vnd.jupyter.widget-view+json": {
       "model_id": "5c941fd752e849968405f9c3aa4410b5",
       "version_major": 2,
       "version_minor": 0
      },
      "text/plain": [
       "IntProgress(value=0, max=47)"
      ]
     },
     "metadata": {},
     "output_type": "display_data"
    },
    {
     "name": "stdout",
     "output_type": "stream",
     "text": [
      "Epoch 1/20\n",
      "368/368 [==============================] - 5s 7ms/step - loss: 0.2702 - mean_absolute_error: 0.3677 - val_loss: 0.2061 - val_mean_absolute_error: 0.3230\n",
      "Epoch 2/20\n",
      "368/368 [==============================] - 2s 5ms/step - loss: 0.2085 - mean_absolute_error: 0.3199 - val_loss: 0.2028 - val_mean_absolute_error: 0.3154\n",
      "Epoch 3/20\n",
      "368/368 [==============================] - 2s 5ms/step - loss: 0.2081 - mean_absolute_error: 0.3195 - val_loss: 0.2039 - val_mean_absolute_error: 0.3133\n",
      "Epoch 4/20\n",
      "368/368 [==============================] - 2s 5ms/step - loss: 0.2082 - mean_absolute_error: 0.3191 - val_loss: 0.2036 - val_mean_absolute_error: 0.3135\n",
      "***TRAIN***:\n",
      "correlation related to cluster centre: 0.89\n",
      "r2 score related to cluster centre: 0.79\n",
      "***VALIDATION***:\n",
      "correlation related to cluster centre: 0.90\n",
      "r2 score related to cluster centre: 0.82\n"
     ]
    },
    {
     "data": {
      "application/vnd.jupyter.widget-view+json": {
       "model_id": "5bfb1221e3d345c3a4bdd9cbffec1bcd",
       "version_major": 2,
       "version_minor": 0
      },
      "text/plain": [
       "IntProgress(value=0, max=47)"
      ]
     },
     "metadata": {},
     "output_type": "display_data"
    },
    {
     "name": "stdout",
     "output_type": "stream",
     "text": [
      "***VALIDATION***:\n",
      "average correlation: 0.90\n",
      "average r2: 0.81\n",
      "---do_investigations. cluster index : 56---\n"
     ]
    },
    {
     "data": {
      "application/vnd.jupyter.widget-view+json": {
       "model_id": "b6a09f49ca1046a897744d29767093fe",
       "version_major": 2,
       "version_minor": 0
      },
      "text/plain": [
       "IntProgress(value=0, max=28)"
      ]
     },
     "metadata": {},
     "output_type": "display_data"
    },
    {
     "name": "stdout",
     "output_type": "stream",
     "text": [
      "Epoch 1/20\n",
      "368/368 [==============================] - 5s 6ms/step - loss: 0.2552 - mean_absolute_error: 0.3476 - val_loss: 0.1708 - val_mean_absolute_error: 0.2736\n",
      "Epoch 2/20\n",
      "368/368 [==============================] - 2s 5ms/step - loss: 0.1823 - mean_absolute_error: 0.2911 - val_loss: 0.1682 - val_mean_absolute_error: 0.2775\n",
      "Epoch 3/20\n",
      "368/368 [==============================] - 2s 5ms/step - loss: 0.1831 - mean_absolute_error: 0.2913 - val_loss: 0.1667 - val_mean_absolute_error: 0.2687\n",
      "Epoch 4/20\n",
      "368/368 [==============================] - 2s 5ms/step - loss: 0.1815 - mean_absolute_error: 0.2900 - val_loss: 0.1669 - val_mean_absolute_error: 0.2721\n",
      "Epoch 5/20\n",
      "368/368 [==============================] - 2s 5ms/step - loss: 0.1809 - mean_absolute_error: 0.2901 - val_loss: 0.1681 - val_mean_absolute_error: 0.2669\n",
      "***TRAIN***:\n",
      "correlation related to cluster centre: 0.91\n",
      "r2 score related to cluster centre: 0.82\n",
      "***VALIDATION***:\n",
      "correlation related to cluster centre: 0.91\n",
      "r2 score related to cluster centre: 0.83\n"
     ]
    },
    {
     "data": {
      "application/vnd.jupyter.widget-view+json": {
       "model_id": "2b92565d378b4f219da2aa2c0fd001ce",
       "version_major": 2,
       "version_minor": 0
      },
      "text/plain": [
       "IntProgress(value=0, max=28)"
      ]
     },
     "metadata": {},
     "output_type": "display_data"
    },
    {
     "name": "stdout",
     "output_type": "stream",
     "text": [
      "***VALIDATION***:\n",
      "average correlation: 0.92\n",
      "average r2: 0.84\n",
      "---do_investigations. cluster index : 57---\n"
     ]
    },
    {
     "data": {
      "application/vnd.jupyter.widget-view+json": {
       "model_id": "5c7d68364e114580846e96cd0b3db371",
       "version_major": 2,
       "version_minor": 0
      },
      "text/plain": [
       "IntProgress(value=0, max=1)"
      ]
     },
     "metadata": {},
     "output_type": "display_data"
    },
    {
     "name": "stdout",
     "output_type": "stream",
     "text": [
      "Epoch 1/20\n",
      "368/368 [==============================] - 5s 6ms/step - loss: 0.2790 - mean_absolute_error: 0.3783 - val_loss: 0.1902 - val_mean_absolute_error: 0.3111\n",
      "Epoch 2/20\n",
      "368/368 [==============================] - 2s 5ms/step - loss: 0.2199 - mean_absolute_error: 0.3321 - val_loss: 0.1900 - val_mean_absolute_error: 0.3141\n",
      "Epoch 3/20\n",
      "368/368 [==============================] - 2s 5ms/step - loss: 0.2210 - mean_absolute_error: 0.3325 - val_loss: 0.1900 - val_mean_absolute_error: 0.3060\n",
      "Epoch 4/20\n",
      "368/368 [==============================] - 2s 5ms/step - loss: 0.2193 - mean_absolute_error: 0.3310 - val_loss: 0.1936 - val_mean_absolute_error: 0.3212\n",
      "Epoch 5/20\n",
      "368/368 [==============================] - 2s 5ms/step - loss: 0.2195 - mean_absolute_error: 0.3311 - val_loss: 0.1912 - val_mean_absolute_error: 0.3190\n",
      "***TRAIN***:\n",
      "correlation related to cluster centre: 0.89\n",
      "r2 score related to cluster centre: 0.78\n",
      "***VALIDATION***:\n",
      "correlation related to cluster centre: 0.90\n",
      "r2 score related to cluster centre: 0.80\n"
     ]
    },
    {
     "data": {
      "application/vnd.jupyter.widget-view+json": {
       "model_id": "db1461b8ce9542d58106feff8b0a8e7d",
       "version_major": 2,
       "version_minor": 0
      },
      "text/plain": [
       "IntProgress(value=0, max=1)"
      ]
     },
     "metadata": {},
     "output_type": "display_data"
    },
    {
     "name": "stdout",
     "output_type": "stream",
     "text": [
      "***VALIDATION***:\n",
      "average correlation: 0.90\n",
      "average r2: 0.80\n",
      "weighted_average_correlation: 0.89\n",
      "weighted_average_r2_score: 0.76\n",
      "bad clusters rate: 0.57%\n",
      "------------------------------------------------------\n"
     ]
    }
   ],
   "source": [
    "first_path = r\"C:\\Coding\\final-qualifying-work_2023-2024\\ClusteringCpp\\output\\cmeans 5 0.1 20.txt\"\n",
    "second_path = r\"C:\\Coding\\final-qualifying-work_2023-2024\\ClusteringCpp\\output\\cmeans 15 0.1 20.txt\"\n",
    "third_path = r\"C:\\Coding\\final-qualifying-work_2023-2024\\ClusteringCpp\\output\\cmeans 30 0.1 20.txt\"\n",
    "fourth_path = r\"C:\\Coding\\final-qualifying-work_2023-2024\\ClusteringCpp\\output\\cmeans 60 0.1 5.txt\"\n",
    "\n",
    "output_file = open(\"computational-experiments-output-cmeans.txt\", \"a\")\n",
    "\n",
    "selected_path = fourth_path\n",
    "\n",
    "print('------------------------------------------------------')\n",
    "output_file.write('------------------------------------------------------\\n')\n",
    "\n",
    "print(f\"lstm {os.path.split(selected_path)[-1]}\")\n",
    "output_file.write(f\"lstm {os.path.split(selected_path)[-1]}\\n\")\n",
    "show_results(lstm_model, get_clusters(selected_path), CONV_WIDTH)\n",
    "\n",
    "print('------------------------------------------------------')\n",
    "output_file.write('------------------------------------------------------\\n')\n",
    "\n",
    "output_file.close()"
   ]
  },
  {
   "cell_type": "code",
   "execution_count": 29,
   "id": "5615babc-9d69-49bd-9b2d-1e0a478f1ed7",
   "metadata": {},
   "outputs": [
    {
     "name": "stdout",
     "output_type": "stream",
     "text": [
      "------------------------------------------------------\n",
      "rnn cmeans 5 0.1 20.txt\n",
      "---do_investigations. cluster index : 0---\n"
     ]
    },
    {
     "data": {
      "application/vnd.jupyter.widget-view+json": {
       "model_id": "618336e6393449b4a013b62f26e84ddd",
       "version_major": 2,
       "version_minor": 0
      },
      "text/plain": [
       "IntProgress(value=0, max=313)"
      ]
     },
     "metadata": {},
     "output_type": "display_data"
    },
    {
     "name": "stdout",
     "output_type": "stream",
     "text": [
      "Epoch 1/20\n",
      "368/368 [==============================] - 4s 5ms/step - loss: 0.2324 - mean_absolute_error: 0.3319 - val_loss: 0.1587 - val_mean_absolute_error: 0.2942\n",
      "Epoch 2/20\n",
      "368/368 [==============================] - 1s 4ms/step - loss: 0.2001 - mean_absolute_error: 0.3068 - val_loss: 0.1500 - val_mean_absolute_error: 0.2729\n",
      "Epoch 3/20\n",
      "368/368 [==============================] - 1s 4ms/step - loss: 0.1988 - mean_absolute_error: 0.3052 - val_loss: 0.1538 - val_mean_absolute_error: 0.2843\n",
      "Epoch 4/20\n",
      "368/368 [==============================] - 1s 4ms/step - loss: 0.1986 - mean_absolute_error: 0.3054 - val_loss: 0.1551 - val_mean_absolute_error: 0.2837\n",
      "***TRAIN***:\n",
      "correlation related to cluster centre: 0.90\n",
      "r2 score related to cluster centre: 0.80\n",
      "***VALIDATION***:\n",
      "correlation related to cluster centre: 0.91\n",
      "r2 score related to cluster centre: 0.82\n"
     ]
    },
    {
     "data": {
      "application/vnd.jupyter.widget-view+json": {
       "model_id": "089ad81a2156425cab297ac9d9de9f4d",
       "version_major": 2,
       "version_minor": 0
      },
      "text/plain": [
       "IntProgress(value=0, max=313)"
      ]
     },
     "metadata": {},
     "output_type": "display_data"
    },
    {
     "name": "stdout",
     "output_type": "stream",
     "text": [
      "***VALIDATION***:\n",
      "average correlation: 0.91\n",
      "average r2: 0.71\n",
      "---do_investigations. cluster index : 1---\n"
     ]
    },
    {
     "data": {
      "application/vnd.jupyter.widget-view+json": {
       "model_id": "cdd866d0d95a4476acbaa0c39adc6c57",
       "version_major": 2,
       "version_minor": 0
      },
      "text/plain": [
       "IntProgress(value=0, max=238)"
      ]
     },
     "metadata": {},
     "output_type": "display_data"
    },
    {
     "name": "stdout",
     "output_type": "stream",
     "text": [
      "Epoch 1/20\n",
      "368/368 [==============================] - 4s 5ms/step - loss: 0.1961 - mean_absolute_error: 0.3060 - val_loss: 0.1681 - val_mean_absolute_error: 0.2763\n",
      "Epoch 2/20\n",
      "368/368 [==============================] - 1s 4ms/step - loss: 0.1804 - mean_absolute_error: 0.2909 - val_loss: 0.1676 - val_mean_absolute_error: 0.2777\n",
      "Epoch 3/20\n",
      "368/368 [==============================] - 1s 4ms/step - loss: 0.1784 - mean_absolute_error: 0.2898 - val_loss: 0.1682 - val_mean_absolute_error: 0.2767\n",
      "Epoch 4/20\n",
      "368/368 [==============================] - 1s 4ms/step - loss: 0.1791 - mean_absolute_error: 0.2909 - val_loss: 0.1671 - val_mean_absolute_error: 0.2743\n",
      "Epoch 5/20\n",
      "368/368 [==============================] - 1s 4ms/step - loss: 0.1777 - mean_absolute_error: 0.2887 - val_loss: 0.1677 - val_mean_absolute_error: 0.2772\n",
      "Epoch 6/20\n",
      "368/368 [==============================] - 1s 4ms/step - loss: 0.1784 - mean_absolute_error: 0.2892 - val_loss: 0.1695 - val_mean_absolute_error: 0.2748\n",
      "***TRAIN***:\n",
      "correlation related to cluster centre: 0.91\n",
      "r2 score related to cluster centre: 0.82\n",
      "***VALIDATION***:\n",
      "correlation related to cluster centre: 0.91\n",
      "r2 score related to cluster centre: 0.83\n"
     ]
    },
    {
     "data": {
      "application/vnd.jupyter.widget-view+json": {
       "model_id": "8c41acc1d4714becac70a52c861c0760",
       "version_major": 2,
       "version_minor": 0
      },
      "text/plain": [
       "IntProgress(value=0, max=238)"
      ]
     },
     "metadata": {},
     "output_type": "display_data"
    },
    {
     "name": "stdout",
     "output_type": "stream",
     "text": [
      "***VALIDATION***:\n",
      "average correlation: 0.90\n",
      "average r2: 0.77\n",
      "---do_investigations. cluster index : 2---\n"
     ]
    },
    {
     "data": {
      "application/vnd.jupyter.widget-view+json": {
       "model_id": "51044b7e6ea943f992b1543dea535075",
       "version_major": 2,
       "version_minor": 0
      },
      "text/plain": [
       "IntProgress(value=0, max=237)"
      ]
     },
     "metadata": {},
     "output_type": "display_data"
    },
    {
     "name": "stdout",
     "output_type": "stream",
     "text": [
      "Epoch 1/20\n",
      "368/368 [==============================] - 4s 5ms/step - loss: 0.2547 - mean_absolute_error: 0.3384 - val_loss: 0.1622 - val_mean_absolute_error: 0.2731\n",
      "Epoch 2/20\n",
      "368/368 [==============================] - 1s 4ms/step - loss: 0.2129 - mean_absolute_error: 0.3058 - val_loss: 0.1632 - val_mean_absolute_error: 0.2774\n",
      "Epoch 3/20\n",
      "368/368 [==============================] - 1s 4ms/step - loss: 0.2123 - mean_absolute_error: 0.3046 - val_loss: 0.1613 - val_mean_absolute_error: 0.2740\n",
      "Epoch 4/20\n",
      "368/368 [==============================] - 1s 4ms/step - loss: 0.2115 - mean_absolute_error: 0.3044 - val_loss: 0.1628 - val_mean_absolute_error: 0.2726\n",
      "Epoch 5/20\n",
      "368/368 [==============================] - 1s 4ms/step - loss: 0.2103 - mean_absolute_error: 0.3035 - val_loss: 0.1655 - val_mean_absolute_error: 0.2749\n",
      "***TRAIN***:\n",
      "correlation related to cluster centre: 0.89\n",
      "r2 score related to cluster centre: 0.79\n",
      "***VALIDATION***:\n",
      "correlation related to cluster centre: 0.91\n",
      "r2 score related to cluster centre: 0.82\n"
     ]
    },
    {
     "data": {
      "application/vnd.jupyter.widget-view+json": {
       "model_id": "e8e36df4b2354cd3976a09bca196666b",
       "version_major": 2,
       "version_minor": 0
      },
      "text/plain": [
       "IntProgress(value=0, max=237)"
      ]
     },
     "metadata": {},
     "output_type": "display_data"
    },
    {
     "name": "stdout",
     "output_type": "stream",
     "text": [
      "***VALIDATION***:\n",
      "average correlation: 0.90\n",
      "average r2: 0.80\n",
      "---do_investigations. cluster index : 3---\n"
     ]
    },
    {
     "data": {
      "application/vnd.jupyter.widget-view+json": {
       "model_id": "9c869ecf1aa64b4b95f08c5e491a0621",
       "version_major": 2,
       "version_minor": 0
      },
      "text/plain": [
       "IntProgress(value=0, max=6308)"
      ]
     },
     "metadata": {},
     "output_type": "display_data"
    },
    {
     "name": "stdout",
     "output_type": "stream",
     "text": [
      "Epoch 1/20\n",
      "368/368 [==============================] - 6s 6ms/step - loss: 0.2363 - mean_absolute_error: 0.3080 - val_loss: 0.2460 - val_mean_absolute_error: 0.2803\n",
      "Epoch 2/20\n",
      "368/368 [==============================] - 1s 4ms/step - loss: 0.2044 - mean_absolute_error: 0.2818 - val_loss: 0.2503 - val_mean_absolute_error: 0.2870\n",
      "Epoch 3/20\n",
      "368/368 [==============================] - 1s 4ms/step - loss: 0.2049 - mean_absolute_error: 0.2826 - val_loss: 0.2391 - val_mean_absolute_error: 0.2783\n",
      "Epoch 4/20\n",
      "368/368 [==============================] - 1s 4ms/step - loss: 0.2033 - mean_absolute_error: 0.2820 - val_loss: 0.2542 - val_mean_absolute_error: 0.2905\n",
      "Epoch 5/20\n",
      "368/368 [==============================] - 1s 4ms/step - loss: 0.2043 - mean_absolute_error: 0.2815 - val_loss: 0.2435 - val_mean_absolute_error: 0.2776\n",
      "***TRAIN***:\n",
      "correlation related to cluster centre: 0.89\n",
      "r2 score related to cluster centre: 0.80\n",
      "***VALIDATION***:\n",
      "correlation related to cluster centre: 0.89\n",
      "r2 score related to cluster centre: 0.80\n"
     ]
    },
    {
     "data": {
      "application/vnd.jupyter.widget-view+json": {
       "model_id": "78ac43e96be74e1a88a07e87f75edb4d",
       "version_major": 2,
       "version_minor": 0
      },
      "text/plain": [
       "IntProgress(value=0, max=6308)"
      ]
     },
     "metadata": {},
     "output_type": "display_data"
    },
    {
     "name": "stdout",
     "output_type": "stream",
     "text": [
      "***VALIDATION***:\n",
      "average correlation: nan\n",
      "average r2: -14366767357853069912014061568.00\n",
      "---do_investigations. cluster index : 4---\n"
     ]
    },
    {
     "data": {
      "application/vnd.jupyter.widget-view+json": {
       "model_id": "9b8f6e55edf14407be0a56a3ad5c945d",
       "version_major": 2,
       "version_minor": 0
      },
      "text/plain": [
       "IntProgress(value=0, max=584)"
      ]
     },
     "metadata": {},
     "output_type": "display_data"
    },
    {
     "name": "stdout",
     "output_type": "stream",
     "text": [
      "Epoch 1/20\n",
      "368/368 [==============================] - 6s 6ms/step - loss: 0.2468 - mean_absolute_error: 0.3308 - val_loss: 0.1969 - val_mean_absolute_error: 0.2916\n",
      "Epoch 2/20\n",
      "368/368 [==============================] - 1s 4ms/step - loss: 0.2066 - mean_absolute_error: 0.3008 - val_loss: 0.1920 - val_mean_absolute_error: 0.2858\n",
      "Epoch 3/20\n",
      "368/368 [==============================] - 1s 4ms/step - loss: 0.2057 - mean_absolute_error: 0.3001 - val_loss: 0.2191 - val_mean_absolute_error: 0.3074\n",
      "Epoch 4/20\n",
      "368/368 [==============================] - 1s 4ms/step - loss: 0.2043 - mean_absolute_error: 0.2988 - val_loss: 0.1970 - val_mean_absolute_error: 0.2897\n",
      "***TRAIN***:\n",
      "correlation related to cluster centre: 0.89\n",
      "r2 score related to cluster centre: 0.80\n",
      "***VALIDATION***:\n",
      "correlation related to cluster centre: 0.91\n",
      "r2 score related to cluster centre: 0.81\n"
     ]
    },
    {
     "data": {
      "application/vnd.jupyter.widget-view+json": {
       "model_id": "d660be90a1604f2b837082a9f0409f16",
       "version_major": 2,
       "version_minor": 0
      },
      "text/plain": [
       "IntProgress(value=0, max=584)"
      ]
     },
     "metadata": {},
     "output_type": "display_data"
    },
    {
     "name": "stdout",
     "output_type": "stream",
     "text": [
      "***VALIDATION***:\n",
      "average correlation: 0.90\n",
      "average r2: 0.78\n",
      "weighted_average_correlation: 0.90\n",
      "weighted_average_r2_score: 0.77\n",
      "bad clusters rate: 0.82%\n",
      "------------------------------------------------------\n"
     ]
    }
   ],
   "source": [
    "first_path = r\"C:\\Coding\\final-qualifying-work_2023-2024\\ClusteringCpp\\output\\cmeans 5 0.1 20.txt\"\n",
    "second_path = r\"C:\\Coding\\final-qualifying-work_2023-2024\\ClusteringCpp\\output\\cmeans 15 0.1 20.txt\"\n",
    "third_path = r\"C:\\Coding\\final-qualifying-work_2023-2024\\ClusteringCpp\\output\\cmeans 30 0.1 20.txt\"\n",
    "fourth_path = r\"C:\\Coding\\final-qualifying-work_2023-2024\\ClusteringCpp\\output\\cmeans 60 0.1 5.txt\"\n",
    "\n",
    "output_file = open(\"computational-experiments-output-cmeans.txt\", \"a\")\n",
    "\n",
    "selected_path = first_path\n",
    "\n",
    "print('------------------------------------------------------')\n",
    "output_file.write('------------------------------------------------------\\n')\n",
    "\n",
    "print(f\"rnn {os.path.split(selected_path)[-1]}\")\n",
    "output_file.write(f\"rnn {os.path.split(selected_path)[-1]}\\n\")\n",
    "show_results(rnn_model, get_clusters(selected_path), CONV_WIDTH)\n",
    "\n",
    "print('------------------------------------------------------')\n",
    "output_file.write('------------------------------------------------------\\n')\n",
    "\n",
    "output_file.close()"
   ]
  },
  {
   "cell_type": "code",
   "execution_count": 30,
   "id": "b9e67df3-81c7-4ab6-801d-3bc5381fc8cf",
   "metadata": {},
   "outputs": [
    {
     "name": "stdout",
     "output_type": "stream",
     "text": [
      "------------------------------------------------------\n",
      "rnn cmeans 15 0.1 20.txt\n",
      "---do_investigations. cluster index : 0---\n"
     ]
    },
    {
     "data": {
      "application/vnd.jupyter.widget-view+json": {
       "model_id": "f7af7b976d1449eab9d7111e180d7964",
       "version_major": 2,
       "version_minor": 0
      },
      "text/plain": [
       "IntProgress(value=0, max=85)"
      ]
     },
     "metadata": {},
     "output_type": "display_data"
    },
    {
     "name": "stdout",
     "output_type": "stream",
     "text": [
      "Epoch 1/20\n",
      "368/368 [==============================] - 6s 5ms/step - loss: 0.1025 - mean_absolute_error: 0.2048 - val_loss: 0.1125 - val_mean_absolute_error: 0.1976\n",
      "Epoch 2/20\n",
      "368/368 [==============================] - 2s 4ms/step - loss: 0.0809 - mean_absolute_error: 0.1829 - val_loss: 0.1047 - val_mean_absolute_error: 0.1886\n",
      "Epoch 3/20\n",
      "368/368 [==============================] - 1s 4ms/step - loss: 0.0798 - mean_absolute_error: 0.1806 - val_loss: 0.1059 - val_mean_absolute_error: 0.1900\n",
      "Epoch 4/20\n",
      "368/368 [==============================] - 1s 4ms/step - loss: 0.0794 - mean_absolute_error: 0.1802 - val_loss: 0.1052 - val_mean_absolute_error: 0.1892\n",
      "***TRAIN***:\n",
      "correlation related to cluster centre: 0.96\n",
      "r2 score related to cluster centre: 0.92\n",
      "***VALIDATION***:\n",
      "correlation related to cluster centre: 0.94\n",
      "r2 score related to cluster centre: 0.88\n"
     ]
    },
    {
     "data": {
      "application/vnd.jupyter.widget-view+json": {
       "model_id": "09b5e15d7c9b4eac95aa8b1f8af17f6f",
       "version_major": 2,
       "version_minor": 0
      },
      "text/plain": [
       "IntProgress(value=0, max=85)"
      ]
     },
     "metadata": {},
     "output_type": "display_data"
    },
    {
     "name": "stdout",
     "output_type": "stream",
     "text": [
      "***VALIDATION***:\n",
      "average correlation: 0.88\n",
      "average r2: 0.71\n",
      "---do_investigations. cluster index : 1---\n"
     ]
    },
    {
     "data": {
      "application/vnd.jupyter.widget-view+json": {
       "model_id": "6ff6d147f3074fc6a4bbbbdee99740e0",
       "version_major": 2,
       "version_minor": 0
      },
      "text/plain": [
       "IntProgress(value=0, max=101)"
      ]
     },
     "metadata": {},
     "output_type": "display_data"
    },
    {
     "name": "stdout",
     "output_type": "stream",
     "text": [
      "Epoch 1/20\n",
      "368/368 [==============================] - 5s 5ms/step - loss: 0.2445 - mean_absolute_error: 0.3361 - val_loss: 0.1551 - val_mean_absolute_error: 0.2592\n",
      "Epoch 2/20\n",
      "368/368 [==============================] - 1s 4ms/step - loss: 0.2143 - mean_absolute_error: 0.3110 - val_loss: 0.1462 - val_mean_absolute_error: 0.2633\n",
      "Epoch 3/20\n",
      "368/368 [==============================] - 1s 4ms/step - loss: 0.2137 - mean_absolute_error: 0.3101 - val_loss: 0.1454 - val_mean_absolute_error: 0.2616\n",
      "Epoch 4/20\n",
      "368/368 [==============================] - 1s 4ms/step - loss: 0.2127 - mean_absolute_error: 0.3088 - val_loss: 0.1480 - val_mean_absolute_error: 0.2600\n",
      "Epoch 5/20\n",
      "368/368 [==============================] - 1s 4ms/step - loss: 0.2117 - mean_absolute_error: 0.3081 - val_loss: 0.1473 - val_mean_absolute_error: 0.2668\n",
      "***TRAIN***:\n",
      "correlation related to cluster centre: 0.89\n",
      "r2 score related to cluster centre: 0.79\n",
      "***VALIDATION***:\n",
      "correlation related to cluster centre: 0.90\n",
      "r2 score related to cluster centre: 0.82\n"
     ]
    },
    {
     "data": {
      "application/vnd.jupyter.widget-view+json": {
       "model_id": "df2836c626b24e6b95866cf3360d3977",
       "version_major": 2,
       "version_minor": 0
      },
      "text/plain": [
       "IntProgress(value=0, max=101)"
      ]
     },
     "metadata": {},
     "output_type": "display_data"
    },
    {
     "name": "stdout",
     "output_type": "stream",
     "text": [
      "***VALIDATION***:\n",
      "average correlation: 0.90\n",
      "average r2: 0.69\n",
      "---do_investigations. cluster index : 2---\n"
     ]
    },
    {
     "data": {
      "application/vnd.jupyter.widget-view+json": {
       "model_id": "aafef050dc9b45a09802091b6cf32d74",
       "version_major": 2,
       "version_minor": 0
      },
      "text/plain": [
       "IntProgress(value=0, max=6106)"
      ]
     },
     "metadata": {},
     "output_type": "display_data"
    },
    {
     "name": "stdout",
     "output_type": "stream",
     "text": [
      "Epoch 1/20\n",
      "368/368 [==============================] - 6s 6ms/step - loss: 0.2342 - mean_absolute_error: 0.3021 - val_loss: 0.2590 - val_mean_absolute_error: 0.2797\n",
      "Epoch 2/20\n",
      "368/368 [==============================] - 1s 4ms/step - loss: 0.2020 - mean_absolute_error: 0.2774 - val_loss: 0.2587 - val_mean_absolute_error: 0.2828\n",
      "Epoch 3/20\n",
      "368/368 [==============================] - 1s 4ms/step - loss: 0.2008 - mean_absolute_error: 0.2771 - val_loss: 0.2418 - val_mean_absolute_error: 0.2700\n",
      "Epoch 4/20\n",
      "368/368 [==============================] - 2s 4ms/step - loss: 0.2013 - mean_absolute_error: 0.2777 - val_loss: 0.2411 - val_mean_absolute_error: 0.2690\n",
      "Epoch 5/20\n",
      "368/368 [==============================] - 1s 4ms/step - loss: 0.2006 - mean_absolute_error: 0.2768 - val_loss: 0.2436 - val_mean_absolute_error: 0.2798\n",
      "Epoch 6/20\n",
      "368/368 [==============================] - 1s 4ms/step - loss: 0.1978 - mean_absolute_error: 0.2749 - val_loss: 0.2378 - val_mean_absolute_error: 0.2715\n",
      "Epoch 7/20\n",
      "368/368 [==============================] - 1s 4ms/step - loss: 0.1998 - mean_absolute_error: 0.2754 - val_loss: 0.2392 - val_mean_absolute_error: 0.2701\n",
      "Epoch 8/20\n",
      "368/368 [==============================] - 1s 4ms/step - loss: 0.1988 - mean_absolute_error: 0.2753 - val_loss: 0.2408 - val_mean_absolute_error: 0.2748\n",
      "***TRAIN***:\n",
      "correlation related to cluster centre: 0.90\n",
      "r2 score related to cluster centre: 0.81\n",
      "***VALIDATION***:\n",
      "correlation related to cluster centre: 0.90\n",
      "r2 score related to cluster centre: 0.80\n"
     ]
    },
    {
     "data": {
      "application/vnd.jupyter.widget-view+json": {
       "model_id": "de510ad4cacb4fff963df1a22f84cf03",
       "version_major": 2,
       "version_minor": 0
      },
      "text/plain": [
       "IntProgress(value=0, max=6106)"
      ]
     },
     "metadata": {},
     "output_type": "display_data"
    },
    {
     "name": "stdout",
     "output_type": "stream",
     "text": [
      "***VALIDATION***:\n",
      "average correlation: nan\n",
      "average r2: -26897784032092777618343985152.00\n",
      "---do_investigations. cluster index : 3---\n"
     ]
    },
    {
     "data": {
      "application/vnd.jupyter.widget-view+json": {
       "model_id": "2defd21348e2451f932d127a636349b3",
       "version_major": 2,
       "version_minor": 0
      },
      "text/plain": [
       "IntProgress(value=0, max=42)"
      ]
     },
     "metadata": {},
     "output_type": "display_data"
    },
    {
     "name": "stdout",
     "output_type": "stream",
     "text": [
      "Epoch 1/20\n",
      "368/368 [==============================] - 28s 18ms/step - loss: 0.2307 - mean_absolute_error: 0.3343 - val_loss: 0.1772 - val_mean_absolute_error: 0.2960\n",
      "Epoch 2/20\n",
      "368/368 [==============================] - 1s 4ms/step - loss: 0.1999 - mean_absolute_error: 0.3087 - val_loss: 0.1763 - val_mean_absolute_error: 0.2962\n",
      "Epoch 3/20\n",
      "368/368 [==============================] - 2s 4ms/step - loss: 0.1990 - mean_absolute_error: 0.3080 - val_loss: 0.1789 - val_mean_absolute_error: 0.2896\n",
      "Epoch 4/20\n",
      "368/368 [==============================] - 2s 4ms/step - loss: 0.1971 - mean_absolute_error: 0.3056 - val_loss: 0.1833 - val_mean_absolute_error: 0.3013\n",
      "***TRAIN***:\n",
      "correlation related to cluster centre: 0.90\n",
      "r2 score related to cluster centre: 0.80\n",
      "***VALIDATION***:\n",
      "correlation related to cluster centre: 0.91\n",
      "r2 score related to cluster centre: 0.82\n"
     ]
    },
    {
     "data": {
      "application/vnd.jupyter.widget-view+json": {
       "model_id": "f495f6f5aa0145409c594e1775e1ee4d",
       "version_major": 2,
       "version_minor": 0
      },
      "text/plain": [
       "IntProgress(value=0, max=42)"
      ]
     },
     "metadata": {},
     "output_type": "display_data"
    },
    {
     "name": "stdout",
     "output_type": "stream",
     "text": [
      "***VALIDATION***:\n",
      "average correlation: 0.91\n",
      "average r2: 0.80\n",
      "---do_investigations. cluster index : 4---\n"
     ]
    },
    {
     "data": {
      "application/vnd.jupyter.widget-view+json": {
       "model_id": "fa040bd0c5c54e46a247b7f94a628c1f",
       "version_major": 2,
       "version_minor": 0
      },
      "text/plain": [
       "IntProgress(value=0, max=147)"
      ]
     },
     "metadata": {},
     "output_type": "display_data"
    },
    {
     "name": "stdout",
     "output_type": "stream",
     "text": [
      "Epoch 1/20\n",
      "368/368 [==============================] - 18s 6ms/step - loss: 0.2123 - mean_absolute_error: 0.3182 - val_loss: 0.1749 - val_mean_absolute_error: 0.2934\n",
      "Epoch 2/20\n",
      "368/368 [==============================] - 1s 4ms/step - loss: 0.1942 - mean_absolute_error: 0.3030 - val_loss: 0.1703 - val_mean_absolute_error: 0.2798\n",
      "Epoch 3/20\n",
      "368/368 [==============================] - 1s 4ms/step - loss: 0.1931 - mean_absolute_error: 0.3019 - val_loss: 0.1744 - val_mean_absolute_error: 0.2933\n",
      "Epoch 4/20\n",
      "368/368 [==============================] - 1s 4ms/step - loss: 0.1919 - mean_absolute_error: 0.3006 - val_loss: 0.1694 - val_mean_absolute_error: 0.2799\n",
      "Epoch 5/20\n",
      "368/368 [==============================] - 2s 4ms/step - loss: 0.1921 - mean_absolute_error: 0.3016 - val_loss: 0.1701 - val_mean_absolute_error: 0.2827\n",
      "Epoch 6/20\n",
      "368/368 [==============================] - 1s 4ms/step - loss: 0.1913 - mean_absolute_error: 0.3000 - val_loss: 0.1720 - val_mean_absolute_error: 0.2902\n",
      "***TRAIN***:\n",
      "correlation related to cluster centre: 0.90\n",
      "r2 score related to cluster centre: 0.81\n",
      "***VALIDATION***:\n",
      "correlation related to cluster centre: 0.91\n",
      "r2 score related to cluster centre: 0.83\n"
     ]
    },
    {
     "data": {
      "application/vnd.jupyter.widget-view+json": {
       "model_id": "15068d9414a7425dbf41407c0f8c804c",
       "version_major": 2,
       "version_minor": 0
      },
      "text/plain": [
       "IntProgress(value=0, max=147)"
      ]
     },
     "metadata": {},
     "output_type": "display_data"
    },
    {
     "name": "stdout",
     "output_type": "stream",
     "text": [
      "***VALIDATION***:\n",
      "average correlation: 0.91\n",
      "average r2: 0.78\n",
      "---do_investigations. cluster index : 5---\n"
     ]
    },
    {
     "data": {
      "application/vnd.jupyter.widget-view+json": {
       "model_id": "527ad9f1d6c84ae6a052f437ee49905b",
       "version_major": 2,
       "version_minor": 0
      },
      "text/plain": [
       "IntProgress(value=0, max=32)"
      ]
     },
     "metadata": {},
     "output_type": "display_data"
    },
    {
     "name": "stdout",
     "output_type": "stream",
     "text": [
      "Epoch 1/20\n",
      "368/368 [==============================] - 30s 6ms/step - loss: 0.2247 - mean_absolute_error: 0.3254 - val_loss: 0.1702 - val_mean_absolute_error: 0.2798\n",
      "Epoch 2/20\n",
      "368/368 [==============================] - 1s 4ms/step - loss: 0.1866 - mean_absolute_error: 0.2944 - val_loss: 0.1702 - val_mean_absolute_error: 0.2745\n",
      "Epoch 3/20\n",
      "368/368 [==============================] - 1s 4ms/step - loss: 0.1847 - mean_absolute_error: 0.2932 - val_loss: 0.1694 - val_mean_absolute_error: 0.2742\n",
      "Epoch 4/20\n",
      "368/368 [==============================] - 1s 4ms/step - loss: 0.1864 - mean_absolute_error: 0.2944 - val_loss: 0.1701 - val_mean_absolute_error: 0.2737\n",
      "Epoch 5/20\n",
      "368/368 [==============================] - 1s 4ms/step - loss: 0.1850 - mean_absolute_error: 0.2934 - val_loss: 0.1676 - val_mean_absolute_error: 0.2692\n",
      "Epoch 6/20\n",
      "368/368 [==============================] - 1s 4ms/step - loss: 0.1853 - mean_absolute_error: 0.2933 - val_loss: 0.1674 - val_mean_absolute_error: 0.2687\n",
      "Epoch 7/20\n",
      "368/368 [==============================] - 3s 7ms/step - loss: 0.1843 - mean_absolute_error: 0.2929 - val_loss: 0.1670 - val_mean_absolute_error: 0.2704\n",
      "Epoch 8/20\n",
      "368/368 [==============================] - 1s 4ms/step - loss: 0.1857 - mean_absolute_error: 0.2942 - val_loss: 0.1672 - val_mean_absolute_error: 0.2719\n",
      "Epoch 9/20\n",
      "368/368 [==============================] - 1s 4ms/step - loss: 0.1854 - mean_absolute_error: 0.2928 - val_loss: 0.1699 - val_mean_absolute_error: 0.2705\n",
      "***TRAIN***:\n",
      "correlation related to cluster centre: 0.90\n",
      "r2 score related to cluster centre: 0.82\n",
      "***VALIDATION***:\n",
      "correlation related to cluster centre: 0.91\n",
      "r2 score related to cluster centre: 0.83\n"
     ]
    },
    {
     "data": {
      "application/vnd.jupyter.widget-view+json": {
       "model_id": "02db0c4f725f49ee836cd52401bf59c7",
       "version_major": 2,
       "version_minor": 0
      },
      "text/plain": [
       "IntProgress(value=0, max=32)"
      ]
     },
     "metadata": {},
     "output_type": "display_data"
    },
    {
     "name": "stdout",
     "output_type": "stream",
     "text": [
      "***VALIDATION***:\n",
      "average correlation: 0.91\n",
      "average r2: 0.83\n",
      "---do_investigations. cluster index : 6---\n"
     ]
    },
    {
     "data": {
      "application/vnd.jupyter.widget-view+json": {
       "model_id": "a5c41d60819a4e5d9aa27fc8e277eafa",
       "version_major": 2,
       "version_minor": 0
      },
      "text/plain": [
       "IntProgress(value=0, max=82)"
      ]
     },
     "metadata": {},
     "output_type": "display_data"
    },
    {
     "name": "stdout",
     "output_type": "stream",
     "text": [
      "Epoch 1/20\n",
      "368/368 [==============================] - 17s 15ms/step - loss: 0.2444 - mean_absolute_error: 0.3276 - val_loss: 0.1745 - val_mean_absolute_error: 0.2940\n",
      "Epoch 2/20\n",
      "368/368 [==============================] - 5s 4ms/step - loss: 0.2125 - mean_absolute_error: 0.3015 - val_loss: 0.1956 - val_mean_absolute_error: 0.3043\n",
      "Epoch 3/20\n",
      "368/368 [==============================] - 1s 4ms/step - loss: 0.2103 - mean_absolute_error: 0.2999 - val_loss: 0.1719 - val_mean_absolute_error: 0.2896\n",
      "Epoch 4/20\n",
      "368/368 [==============================] - 1s 4ms/step - loss: 0.2088 - mean_absolute_error: 0.2982 - val_loss: 0.1744 - val_mean_absolute_error: 0.2898\n",
      "Epoch 5/20\n",
      "368/368 [==============================] - 2s 4ms/step - loss: 0.2089 - mean_absolute_error: 0.2987 - val_loss: 0.1709 - val_mean_absolute_error: 0.2887\n",
      "Epoch 6/20\n",
      "368/368 [==============================] - 2s 4ms/step - loss: 0.2086 - mean_absolute_error: 0.2986 - val_loss: 0.1744 - val_mean_absolute_error: 0.2859\n",
      "Epoch 7/20\n",
      "368/368 [==============================] - 3s 7ms/step - loss: 0.2091 - mean_absolute_error: 0.2988 - val_loss: 0.1725 - val_mean_absolute_error: 0.2907\n",
      "***TRAIN***:\n",
      "correlation related to cluster centre: 0.89\n",
      "r2 score related to cluster centre: 0.79\n",
      "***VALIDATION***:\n",
      "correlation related to cluster centre: 0.91\n",
      "r2 score related to cluster centre: 0.82\n"
     ]
    },
    {
     "data": {
      "application/vnd.jupyter.widget-view+json": {
       "model_id": "9081edd3854d41fd8bd961b276d5d052",
       "version_major": 2,
       "version_minor": 0
      },
      "text/plain": [
       "IntProgress(value=0, max=82)"
      ]
     },
     "metadata": {},
     "output_type": "display_data"
    },
    {
     "name": "stdout",
     "output_type": "stream",
     "text": [
      "***VALIDATION***:\n",
      "average correlation: 0.90\n",
      "average r2: 0.81\n",
      "---do_investigations. cluster index : 7---\n"
     ]
    },
    {
     "data": {
      "application/vnd.jupyter.widget-view+json": {
       "model_id": "ce1c0b2b47de4e68acf62cd89f409d52",
       "version_major": 2,
       "version_minor": 0
      },
      "text/plain": [
       "IntProgress(value=0, max=56)"
      ]
     },
     "metadata": {},
     "output_type": "display_data"
    },
    {
     "name": "stdout",
     "output_type": "stream",
     "text": [
      "Epoch 1/20\n",
      "368/368 [==============================] - 6s 6ms/step - loss: 0.2415 - mean_absolute_error: 0.3404 - val_loss: 0.1796 - val_mean_absolute_error: 0.2947\n",
      "Epoch 2/20\n",
      "368/368 [==============================] - 2s 4ms/step - loss: 0.2082 - mean_absolute_error: 0.3151 - val_loss: 0.1797 - val_mean_absolute_error: 0.2956\n",
      "Epoch 3/20\n",
      "368/368 [==============================] - 1s 4ms/step - loss: 0.2065 - mean_absolute_error: 0.3126 - val_loss: 0.1790 - val_mean_absolute_error: 0.2988\n",
      "Epoch 4/20\n",
      "368/368 [==============================] - 1s 4ms/step - loss: 0.2057 - mean_absolute_error: 0.3123 - val_loss: 0.1811 - val_mean_absolute_error: 0.3060\n",
      "Epoch 5/20\n",
      "368/368 [==============================] - 2s 4ms/step - loss: 0.2065 - mean_absolute_error: 0.3129 - val_loss: 0.1830 - val_mean_absolute_error: 0.3075\n",
      "***TRAIN***:\n",
      "correlation related to cluster centre: 0.89\n",
      "r2 score related to cluster centre: 0.79\n",
      "***VALIDATION***:\n",
      "correlation related to cluster centre: 0.91\n",
      "r2 score related to cluster centre: 0.82\n"
     ]
    },
    {
     "data": {
      "application/vnd.jupyter.widget-view+json": {
       "model_id": "95c86cd5efae4747b60ec2a6959d65fe",
       "version_major": 2,
       "version_minor": 0
      },
      "text/plain": [
       "IntProgress(value=0, max=56)"
      ]
     },
     "metadata": {},
     "output_type": "display_data"
    },
    {
     "name": "stdout",
     "output_type": "stream",
     "text": [
      "***VALIDATION***:\n",
      "average correlation: 0.91\n",
      "average r2: 0.82\n",
      "---do_investigations. cluster index : 8---\n"
     ]
    },
    {
     "data": {
      "application/vnd.jupyter.widget-view+json": {
       "model_id": "20af1350e1dd495cbc83ceb677880aed",
       "version_major": 2,
       "version_minor": 0
      },
      "text/plain": [
       "IntProgress(value=0, max=138)"
      ]
     },
     "metadata": {},
     "output_type": "display_data"
    },
    {
     "name": "stdout",
     "output_type": "stream",
     "text": [
      "Epoch 1/20\n",
      "368/368 [==============================] - 287s 11ms/step - loss: 0.2389 - mean_absolute_error: 0.3353 - val_loss: 0.1431 - val_mean_absolute_error: 0.2714\n",
      "Epoch 2/20\n",
      "368/368 [==============================] - 2s 4ms/step - loss: 0.1960 - mean_absolute_error: 0.3024 - val_loss: 0.1404 - val_mean_absolute_error: 0.2666\n",
      "Epoch 3/20\n",
      "368/368 [==============================] - 2s 4ms/step - loss: 0.1939 - mean_absolute_error: 0.3012 - val_loss: 0.1402 - val_mean_absolute_error: 0.2681\n",
      "Epoch 4/20\n",
      "368/368 [==============================] - 2s 4ms/step - loss: 0.1933 - mean_absolute_error: 0.3006 - val_loss: 0.1407 - val_mean_absolute_error: 0.2582\n",
      "Epoch 5/20\n",
      "368/368 [==============================] - 2s 4ms/step - loss: 0.1941 - mean_absolute_error: 0.3003 - val_loss: 0.1454 - val_mean_absolute_error: 0.2806\n",
      "***TRAIN***:\n",
      "correlation related to cluster centre: 0.90\n",
      "r2 score related to cluster centre: 0.80\n",
      "***VALIDATION***:\n",
      "correlation related to cluster centre: 0.91\n",
      "r2 score related to cluster centre: 0.82\n"
     ]
    },
    {
     "data": {
      "application/vnd.jupyter.widget-view+json": {
       "model_id": "4c93347a16d7479ea5aa96a92bf1e0de",
       "version_major": 2,
       "version_minor": 0
      },
      "text/plain": [
       "IntProgress(value=0, max=138)"
      ]
     },
     "metadata": {},
     "output_type": "display_data"
    },
    {
     "name": "stdout",
     "output_type": "stream",
     "text": [
      "***VALIDATION***:\n",
      "average correlation: 0.91\n",
      "average r2: 0.81\n",
      "---do_investigations. cluster index : 9---\n"
     ]
    },
    {
     "data": {
      "application/vnd.jupyter.widget-view+json": {
       "model_id": "4ed63a13191a4feea332509b10f0cba9",
       "version_major": 2,
       "version_minor": 0
      },
      "text/plain": [
       "IntProgress(value=0, max=145)"
      ]
     },
     "metadata": {},
     "output_type": "display_data"
    },
    {
     "name": "stdout",
     "output_type": "stream",
     "text": [
      "Epoch 1/20\n",
      "368/368 [==============================] - 6s 6ms/step - loss: 0.2464 - mean_absolute_error: 0.3205 - val_loss: 0.1878 - val_mean_absolute_error: 0.2842\n",
      "Epoch 2/20\n",
      "368/368 [==============================] - 2s 4ms/step - loss: 0.2117 - mean_absolute_error: 0.2925 - val_loss: 0.1883 - val_mean_absolute_error: 0.2841\n",
      "Epoch 3/20\n",
      "368/368 [==============================] - 2s 5ms/step - loss: 0.2095 - mean_absolute_error: 0.2915 - val_loss: 0.1867 - val_mean_absolute_error: 0.2787\n",
      "Epoch 4/20\n",
      "368/368 [==============================] - 2s 5ms/step - loss: 0.2081 - mean_absolute_error: 0.2896 - val_loss: 0.1846 - val_mean_absolute_error: 0.2710\n",
      "Epoch 5/20\n",
      "368/368 [==============================] - 1s 4ms/step - loss: 0.2079 - mean_absolute_error: 0.2902 - val_loss: 0.1858 - val_mean_absolute_error: 0.2740\n",
      "Epoch 6/20\n",
      "368/368 [==============================] - 1s 4ms/step - loss: 0.2079 - mean_absolute_error: 0.2897 - val_loss: 0.1860 - val_mean_absolute_error: 0.2764\n",
      "***TRAIN***:\n",
      "correlation related to cluster centre: 0.89\n",
      "r2 score related to cluster centre: 0.80\n",
      "***VALIDATION***:\n",
      "correlation related to cluster centre: 0.90\n",
      "r2 score related to cluster centre: 0.82\n"
     ]
    },
    {
     "data": {
      "application/vnd.jupyter.widget-view+json": {
       "model_id": "b2fe26e1548946f1a5e884b722a68365",
       "version_major": 2,
       "version_minor": 0
      },
      "text/plain": [
       "IntProgress(value=0, max=145)"
      ]
     },
     "metadata": {},
     "output_type": "display_data"
    },
    {
     "name": "stdout",
     "output_type": "stream",
     "text": [
      "***VALIDATION***:\n",
      "average correlation: 0.90\n",
      "average r2: 0.81\n",
      "---do_investigations. cluster index : 10---\n"
     ]
    },
    {
     "data": {
      "application/vnd.jupyter.widget-view+json": {
       "model_id": "a4e60825d2a84d8abf0912acf8dd8e9c",
       "version_major": 2,
       "version_minor": 0
      },
      "text/plain": [
       "IntProgress(value=0, max=73)"
      ]
     },
     "metadata": {},
     "output_type": "display_data"
    },
    {
     "name": "stdout",
     "output_type": "stream",
     "text": [
      "Epoch 1/20\n",
      "368/368 [==============================] - 23s 34ms/step - loss: 0.2107 - mean_absolute_error: 0.3203 - val_loss: 0.1461 - val_mean_absolute_error: 0.2774\n",
      "Epoch 2/20\n",
      "368/368 [==============================] - 4s 11ms/step - loss: 0.1906 - mean_absolute_error: 0.3032 - val_loss: 0.1464 - val_mean_absolute_error: 0.2670\n",
      "Epoch 3/20\n",
      "368/368 [==============================] - 4s 10ms/step - loss: 0.1894 - mean_absolute_error: 0.3016 - val_loss: 0.1449 - val_mean_absolute_error: 0.2745\n",
      "Epoch 4/20\n",
      "368/368 [==============================] - 1s 4ms/step - loss: 0.1897 - mean_absolute_error: 0.3017 - val_loss: 0.1509 - val_mean_absolute_error: 0.2824\n",
      "Epoch 5/20\n",
      "368/368 [==============================] - 1s 4ms/step - loss: 0.1889 - mean_absolute_error: 0.3008 - val_loss: 0.1450 - val_mean_absolute_error: 0.2761\n",
      "***TRAIN***:\n",
      "correlation related to cluster centre: 0.90\n",
      "r2 score related to cluster centre: 0.81\n",
      "***VALIDATION***:\n",
      "correlation related to cluster centre: 0.91\n",
      "r2 score related to cluster centre: 0.83\n"
     ]
    },
    {
     "data": {
      "application/vnd.jupyter.widget-view+json": {
       "model_id": "d0ac2143bb4d4f84844ccbd4abc9543a",
       "version_major": 2,
       "version_minor": 0
      },
      "text/plain": [
       "IntProgress(value=0, max=73)"
      ]
     },
     "metadata": {},
     "output_type": "display_data"
    },
    {
     "name": "stdout",
     "output_type": "stream",
     "text": [
      "***VALIDATION***:\n",
      "average correlation: 0.91\n",
      "average r2: 0.80\n",
      "---do_investigations. cluster index : 11---\n"
     ]
    },
    {
     "data": {
      "application/vnd.jupyter.widget-view+json": {
       "model_id": "7037f26fefeb4eeeb186ff00fbe79c3c",
       "version_major": 2,
       "version_minor": 0
      },
      "text/plain": [
       "IntProgress(value=0, max=566)"
      ]
     },
     "metadata": {},
     "output_type": "display_data"
    },
    {
     "name": "stdout",
     "output_type": "stream",
     "text": [
      "Epoch 1/20\n",
      "368/368 [==============================] - 26s 6ms/step - loss: 0.2496 - mean_absolute_error: 0.3351 - val_loss: 0.2082 - val_mean_absolute_error: 0.3084\n",
      "Epoch 2/20\n",
      "368/368 [==============================] - 2s 4ms/step - loss: 0.2092 - mean_absolute_error: 0.3069 - val_loss: 0.2060 - val_mean_absolute_error: 0.2913\n",
      "Epoch 3/20\n",
      "368/368 [==============================] - 4s 10ms/step - loss: 0.2074 - mean_absolute_error: 0.3058 - val_loss: 0.2055 - val_mean_absolute_error: 0.3007\n",
      "Epoch 4/20\n",
      "368/368 [==============================] - 3s 7ms/step - loss: 0.2066 - mean_absolute_error: 0.3054 - val_loss: 0.2118 - val_mean_absolute_error: 0.3059\n",
      "Epoch 5/20\n",
      "368/368 [==============================] - 2s 5ms/step - loss: 0.2063 - mean_absolute_error: 0.3040 - val_loss: 0.2047 - val_mean_absolute_error: 0.3022\n",
      "Epoch 6/20\n",
      "368/368 [==============================] - 2s 4ms/step - loss: 0.2049 - mean_absolute_error: 0.3035 - val_loss: 0.2131 - val_mean_absolute_error: 0.2978\n",
      "Epoch 7/20\n",
      "368/368 [==============================] - 2s 4ms/step - loss: 0.2046 - mean_absolute_error: 0.3031 - val_loss: 0.2061 - val_mean_absolute_error: 0.3012\n",
      "***TRAIN***:\n",
      "correlation related to cluster centre: 0.89\n",
      "r2 score related to cluster centre: 0.80\n",
      "***VALIDATION***:\n",
      "correlation related to cluster centre: 0.90\n",
      "r2 score related to cluster centre: 0.81\n"
     ]
    },
    {
     "data": {
      "application/vnd.jupyter.widget-view+json": {
       "model_id": "31aa46c8c25f46ddaa9d6b5c770157ab",
       "version_major": 2,
       "version_minor": 0
      },
      "text/plain": [
       "IntProgress(value=0, max=566)"
      ]
     },
     "metadata": {},
     "output_type": "display_data"
    },
    {
     "name": "stdout",
     "output_type": "stream",
     "text": [
      "***VALIDATION***:\n",
      "average correlation: 0.90\n",
      "average r2: 0.76\n",
      "---do_investigations. cluster index : 12---\n"
     ]
    },
    {
     "data": {
      "application/vnd.jupyter.widget-view+json": {
       "model_id": "3b472f0c0c684dda9b72b21f48099293",
       "version_major": 2,
       "version_minor": 0
      },
      "text/plain": [
       "IntProgress(value=0, max=36)"
      ]
     },
     "metadata": {},
     "output_type": "display_data"
    },
    {
     "name": "stdout",
     "output_type": "stream",
     "text": [
      "Epoch 1/20\n",
      "368/368 [==============================] - 7s 6ms/step - loss: 0.2323 - mean_absolute_error: 0.3339 - val_loss: 0.1840 - val_mean_absolute_error: 0.2988\n",
      "Epoch 2/20\n",
      "368/368 [==============================] - 6s 17ms/step - loss: 0.2067 - mean_absolute_error: 0.3125 - val_loss: 0.1803 - val_mean_absolute_error: 0.2943\n",
      "Epoch 3/20\n",
      "368/368 [==============================] - 2s 4ms/step - loss: 0.2055 - mean_absolute_error: 0.3115 - val_loss: 0.1831 - val_mean_absolute_error: 0.3029\n",
      "Epoch 4/20\n",
      "368/368 [==============================] - 2s 4ms/step - loss: 0.2048 - mean_absolute_error: 0.3115 - val_loss: 0.1773 - val_mean_absolute_error: 0.2941\n",
      "Epoch 5/20\n",
      "368/368 [==============================] - 1s 4ms/step - loss: 0.2050 - mean_absolute_error: 0.3110 - val_loss: 0.1883 - val_mean_absolute_error: 0.3073\n",
      "Epoch 6/20\n",
      "368/368 [==============================] - 3s 9ms/step - loss: 0.2048 - mean_absolute_error: 0.3114 - val_loss: 0.1771 - val_mean_absolute_error: 0.2840\n",
      "Epoch 7/20\n",
      "368/368 [==============================] - 2s 4ms/step - loss: 0.2045 - mean_absolute_error: 0.3095 - val_loss: 0.1931 - val_mean_absolute_error: 0.3215\n",
      "Epoch 8/20\n",
      "368/368 [==============================] - 2s 4ms/step - loss: 0.2043 - mean_absolute_error: 0.3099 - val_loss: 0.1807 - val_mean_absolute_error: 0.3001\n",
      "***TRAIN***:\n",
      "correlation related to cluster centre: 0.89\n",
      "r2 score related to cluster centre: 0.80\n",
      "***VALIDATION***:\n",
      "correlation related to cluster centre: 0.91\n",
      "r2 score related to cluster centre: 0.82\n"
     ]
    },
    {
     "data": {
      "application/vnd.jupyter.widget-view+json": {
       "model_id": "0ea46aaf780e453082749ffd23984102",
       "version_major": 2,
       "version_minor": 0
      },
      "text/plain": [
       "IntProgress(value=0, max=36)"
      ]
     },
     "metadata": {},
     "output_type": "display_data"
    },
    {
     "name": "stdout",
     "output_type": "stream",
     "text": [
      "***VALIDATION***:\n",
      "average correlation: 0.90\n",
      "average r2: 0.81\n",
      "---do_investigations. cluster index : 13---\n"
     ]
    },
    {
     "data": {
      "application/vnd.jupyter.widget-view+json": {
       "model_id": "370f00a9d34f47539d66edd1ebb5ca15",
       "version_major": 2,
       "version_minor": 0
      },
      "text/plain": [
       "IntProgress(value=0, max=49)"
      ]
     },
     "metadata": {},
     "output_type": "display_data"
    },
    {
     "name": "stdout",
     "output_type": "stream",
     "text": [
      "Epoch 1/20\n",
      "368/368 [==============================] - 17s 12ms/step - loss: 0.1565 - mean_absolute_error: 0.2256 - val_loss: 0.1735 - val_mean_absolute_error: 0.1838\n",
      "Epoch 2/20\n",
      "368/368 [==============================] - 7s 17ms/step - loss: 0.1188 - mean_absolute_error: 0.2013 - val_loss: 0.1672 - val_mean_absolute_error: 0.1809\n",
      "Epoch 3/20\n",
      "368/368 [==============================] - 2s 6ms/step - loss: 0.1170 - mean_absolute_error: 0.2005 - val_loss: 0.1596 - val_mean_absolute_error: 0.1744\n",
      "Epoch 4/20\n",
      "368/368 [==============================] - 2s 5ms/step - loss: 0.1159 - mean_absolute_error: 0.2001 - val_loss: 0.1559 - val_mean_absolute_error: 0.1709\n",
      "Epoch 5/20\n",
      "368/368 [==============================] - 3s 8ms/step - loss: 0.1151 - mean_absolute_error: 0.2025 - val_loss: 0.1605 - val_mean_absolute_error: 0.1797\n",
      "Epoch 6/20\n",
      "368/368 [==============================] - 2s 6ms/step - loss: 0.1130 - mean_absolute_error: 0.1977 - val_loss: 0.1584 - val_mean_absolute_error: 0.1760\n",
      "***TRAIN***:\n",
      "correlation related to cluster centre: 0.94\n",
      "r2 score related to cluster centre: 0.88\n",
      "***VALIDATION***:\n",
      "correlation related to cluster centre: 0.88\n",
      "r2 score related to cluster centre: 0.76\n"
     ]
    },
    {
     "data": {
      "application/vnd.jupyter.widget-view+json": {
       "model_id": "41720bd210b84d179ac6d824633648fb",
       "version_major": 2,
       "version_minor": 0
      },
      "text/plain": [
       "IntProgress(value=0, max=49)"
      ]
     },
     "metadata": {},
     "output_type": "display_data"
    },
    {
     "name": "stdout",
     "output_type": "stream",
     "text": [
      "***VALIDATION***:\n",
      "average correlation: 0.89\n",
      "average r2: 0.72\n",
      "---do_investigations. cluster index : 14---\n"
     ]
    },
    {
     "data": {
      "application/vnd.jupyter.widget-view+json": {
       "model_id": "729586ca3dc346f291c7b23d837e4c58",
       "version_major": 2,
       "version_minor": 0
      },
      "text/plain": [
       "IntProgress(value=0, max=22)"
      ]
     },
     "metadata": {},
     "output_type": "display_data"
    },
    {
     "name": "stdout",
     "output_type": "stream",
     "text": [
      "Epoch 1/20\n",
      "368/368 [==============================] - 51s 35ms/step - loss: 0.2264 - mean_absolute_error: 0.3283 - val_loss: 0.1840 - val_mean_absolute_error: 0.2995\n",
      "Epoch 2/20\n",
      "368/368 [==============================] - 8s 18ms/step - loss: 0.2038 - mean_absolute_error: 0.3111 - val_loss: 0.1915 - val_mean_absolute_error: 0.3130\n",
      "Epoch 3/20\n",
      "368/368 [==============================] - 3s 7ms/step - loss: 0.2026 - mean_absolute_error: 0.3098 - val_loss: 0.1865 - val_mean_absolute_error: 0.3017\n",
      "***TRAIN***:\n",
      "correlation related to cluster centre: 0.89\n",
      "r2 score related to cluster centre: 0.80\n",
      "***VALIDATION***:\n",
      "correlation related to cluster centre: 0.91\n",
      "r2 score related to cluster centre: 0.81\n"
     ]
    },
    {
     "data": {
      "application/vnd.jupyter.widget-view+json": {
       "model_id": "8fef766d7ed44e0db64456c9c6e0885c",
       "version_major": 2,
       "version_minor": 0
      },
      "text/plain": [
       "IntProgress(value=0, max=22)"
      ]
     },
     "metadata": {},
     "output_type": "display_data"
    },
    {
     "name": "stdout",
     "output_type": "stream",
     "text": [
      "***VALIDATION***:\n",
      "average correlation: 0.91\n",
      "average r2: 0.79\n",
      "weighted_average_correlation: 0.90\n",
      "weighted_average_r2_score: 0.77\n",
      "bad clusters rate: 0.80%\n",
      "------------------------------------------------------\n"
     ]
    }
   ],
   "source": [
    "first_path = r\"C:\\Coding\\final-qualifying-work_2023-2024\\ClusteringCpp\\output\\cmeans 5 0.1 20.txt\"\n",
    "second_path = r\"C:\\Coding\\final-qualifying-work_2023-2024\\ClusteringCpp\\output\\cmeans 15 0.1 20.txt\"\n",
    "third_path = r\"C:\\Coding\\final-qualifying-work_2023-2024\\ClusteringCpp\\output\\cmeans 30 0.1 20.txt\"\n",
    "fourth_path = r\"C:\\Coding\\final-qualifying-work_2023-2024\\ClusteringCpp\\output\\cmeans 60 0.1 5.txt\"\n",
    "\n",
    "output_file = open(\"computational-experiments-output-cmeans.txt\", \"a\")\n",
    "\n",
    "selected_path = second_path\n",
    "\n",
    "print('------------------------------------------------------')\n",
    "output_file.write('------------------------------------------------------\\n')\n",
    "\n",
    "print(f\"rnn {os.path.split(selected_path)[-1]}\")\n",
    "output_file.write(f\"rnn {os.path.split(selected_path)[-1]}\\n\")\n",
    "show_results(rnn_model, get_clusters(selected_path), CONV_WIDTH)\n",
    "\n",
    "print('------------------------------------------------------')\n",
    "output_file.write('------------------------------------------------------\\n')\n",
    "\n",
    "output_file.close()"
   ]
  },
  {
   "cell_type": "code",
   "execution_count": 21,
   "id": "0b6f1c39-fe34-463a-8f6a-e6ef6d9174c2",
   "metadata": {},
   "outputs": [
    {
     "name": "stdout",
     "output_type": "stream",
     "text": [
      "------------------------------------------------------\n",
      "rnn cmeans 30 0.1 20.txt\n",
      "---do_investigations. cluster index : 0---\n"
     ]
    },
    {
     "data": {
      "application/vnd.jupyter.widget-view+json": {
       "model_id": "ec42518e77b94690b9cf6582624cb314",
       "version_major": 2,
       "version_minor": 0
      },
      "text/plain": [
       "IntProgress(value=0, max=188)"
      ]
     },
     "metadata": {},
     "output_type": "display_data"
    },
    {
     "name": "stdout",
     "output_type": "stream",
     "text": [
      "Epoch 1/20\n",
      "WARNING:tensorflow:From C:\\python\\python311\\Lib\\site-packages\\keras\\src\\utils\\tf_utils.py:492: The name tf.ragged.RaggedTensorValue is deprecated. Please use tf.compat.v1.ragged.RaggedTensorValue instead.\n",
      "\n",
      "368/368 [==============================] - 4s 4ms/step - loss: 0.2417 - mean_absolute_error: 0.3095 - val_loss: 0.1992 - val_mean_absolute_error: 0.2855\n",
      "Epoch 2/20\n",
      "368/368 [==============================] - 1s 4ms/step - loss: 0.2102 - mean_absolute_error: 0.2914 - val_loss: 0.1994 - val_mean_absolute_error: 0.2966\n",
      "Epoch 3/20\n",
      "368/368 [==============================] - 1s 4ms/step - loss: 0.2071 - mean_absolute_error: 0.2885 - val_loss: 0.1968 - val_mean_absolute_error: 0.2852\n",
      "Epoch 4/20\n",
      "368/368 [==============================] - 2s 5ms/step - loss: 0.2079 - mean_absolute_error: 0.2892 - val_loss: 0.1987 - val_mean_absolute_error: 0.2954\n",
      "Epoch 5/20\n",
      "368/368 [==============================] - 2s 5ms/step - loss: 0.2075 - mean_absolute_error: 0.2884 - val_loss: 0.1975 - val_mean_absolute_error: 0.2884\n",
      "***TRAIN***:\n",
      "correlation related to cluster centre: 0.89\n",
      "r2 score related to cluster centre: 0.80\n",
      "***VALIDATION***:\n",
      "correlation related to cluster centre: 0.90\n",
      "r2 score related to cluster centre: 0.81\n"
     ]
    },
    {
     "data": {
      "application/vnd.jupyter.widget-view+json": {
       "model_id": "627b632709b04de5b6f0b8aacd25225a",
       "version_major": 2,
       "version_minor": 0
      },
      "text/plain": [
       "IntProgress(value=0, max=188)"
      ]
     },
     "metadata": {},
     "output_type": "display_data"
    },
    {
     "name": "stdout",
     "output_type": "stream",
     "text": [
      "***VALIDATION***:\n",
      "average correlation: 0.90\n",
      "average r2: 0.79\n",
      "---do_investigations. cluster index : 1---\n"
     ]
    },
    {
     "data": {
      "application/vnd.jupyter.widget-view+json": {
       "model_id": "ac6099c2865d4f4bb7ca4f46f267ee1a",
       "version_major": 2,
       "version_minor": 0
      },
      "text/plain": [
       "IntProgress(value=0, max=43)"
      ]
     },
     "metadata": {},
     "output_type": "display_data"
    },
    {
     "name": "stdout",
     "output_type": "stream",
     "text": [
      "Epoch 1/20\n",
      "368/368 [==============================] - 4s 5ms/step - loss: 0.2548 - mean_absolute_error: 0.3315 - val_loss: 0.1612 - val_mean_absolute_error: 0.2625\n",
      "Epoch 2/20\n",
      "368/368 [==============================] - 1s 4ms/step - loss: 0.2147 - mean_absolute_error: 0.3013 - val_loss: 0.1595 - val_mean_absolute_error: 0.2609\n",
      "Epoch 3/20\n",
      "368/368 [==============================] - 1s 4ms/step - loss: 0.2147 - mean_absolute_error: 0.3009 - val_loss: 0.1599 - val_mean_absolute_error: 0.2663\n",
      "Epoch 4/20\n",
      "368/368 [==============================] - 1s 4ms/step - loss: 0.2139 - mean_absolute_error: 0.2993 - val_loss: 0.1657 - val_mean_absolute_error: 0.2801\n",
      "***TRAIN***:\n",
      "correlation related to cluster centre: 0.89\n",
      "r2 score related to cluster centre: 0.79\n",
      "***VALIDATION***:\n",
      "correlation related to cluster centre: 0.90\n",
      "r2 score related to cluster centre: 0.81\n"
     ]
    },
    {
     "data": {
      "application/vnd.jupyter.widget-view+json": {
       "model_id": "e76a143d9b4047cc9ad5cb71ddb27dcb",
       "version_major": 2,
       "version_minor": 0
      },
      "text/plain": [
       "IntProgress(value=0, max=43)"
      ]
     },
     "metadata": {},
     "output_type": "display_data"
    },
    {
     "name": "stdout",
     "output_type": "stream",
     "text": [
      "***VALIDATION***:\n",
      "average correlation: 0.90\n",
      "average r2: 0.81\n",
      "---do_investigations. cluster index : 2---\n"
     ]
    },
    {
     "data": {
      "application/vnd.jupyter.widget-view+json": {
       "model_id": "e8550b60c41441a989b69d4207b94efb",
       "version_major": 2,
       "version_minor": 0
      },
      "text/plain": [
       "IntProgress(value=0, max=20)"
      ]
     },
     "metadata": {},
     "output_type": "display_data"
    },
    {
     "name": "stdout",
     "output_type": "stream",
     "text": [
      "Epoch 1/20\n",
      "368/368 [==============================] - 4s 5ms/step - loss: 0.2353 - mean_absolute_error: 0.3279 - val_loss: 0.1850 - val_mean_absolute_error: 0.2978\n",
      "Epoch 2/20\n",
      "368/368 [==============================] - 1s 4ms/step - loss: 0.2071 - mean_absolute_error: 0.3075 - val_loss: 0.1845 - val_mean_absolute_error: 0.3004\n",
      "Epoch 3/20\n",
      "368/368 [==============================] - 1s 4ms/step - loss: 0.2055 - mean_absolute_error: 0.3061 - val_loss: 0.1772 - val_mean_absolute_error: 0.2933\n",
      "Epoch 4/20\n",
      "368/368 [==============================] - 1s 4ms/step - loss: 0.2059 - mean_absolute_error: 0.3060 - val_loss: 0.1743 - val_mean_absolute_error: 0.2853\n",
      "Epoch 5/20\n",
      "368/368 [==============================] - 2s 4ms/step - loss: 0.2052 - mean_absolute_error: 0.3053 - val_loss: 0.1798 - val_mean_absolute_error: 0.2997\n",
      "Epoch 6/20\n",
      "368/368 [==============================] - 1s 4ms/step - loss: 0.2055 - mean_absolute_error: 0.3064 - val_loss: 0.1903 - val_mean_absolute_error: 0.3022\n",
      "***TRAIN***:\n",
      "correlation related to cluster centre: 0.89\n",
      "r2 score related to cluster centre: 0.79\n",
      "***VALIDATION***:\n",
      "correlation related to cluster centre: 0.91\n",
      "r2 score related to cluster centre: 0.81\n"
     ]
    },
    {
     "data": {
      "application/vnd.jupyter.widget-view+json": {
       "model_id": "6de6b82d776b4a92a40e9ffcfa7e5151",
       "version_major": 2,
       "version_minor": 0
      },
      "text/plain": [
       "IntProgress(value=0, max=20)"
      ]
     },
     "metadata": {},
     "output_type": "display_data"
    },
    {
     "name": "stdout",
     "output_type": "stream",
     "text": [
      "***VALIDATION***:\n",
      "average correlation: 0.91\n",
      "average r2: 0.80\n",
      "---do_investigations. cluster index : 3---\n"
     ]
    },
    {
     "data": {
      "application/vnd.jupyter.widget-view+json": {
       "model_id": "fa8e2678195f4d35b38486198fe4bfa6",
       "version_major": 2,
       "version_minor": 0
      },
      "text/plain": [
       "IntProgress(value=0, max=68)"
      ]
     },
     "metadata": {},
     "output_type": "display_data"
    },
    {
     "name": "stdout",
     "output_type": "stream",
     "text": [
      "Epoch 1/20\n",
      "368/368 [==============================] - 3s 5ms/step - loss: 0.2420 - mean_absolute_error: 0.3219 - val_loss: 0.1798 - val_mean_absolute_error: 0.2729\n",
      "Epoch 2/20\n",
      "368/368 [==============================] - 1s 4ms/step - loss: 0.2128 - mean_absolute_error: 0.2983 - val_loss: 0.1764 - val_mean_absolute_error: 0.2779\n",
      "Epoch 3/20\n",
      "368/368 [==============================] - 1s 4ms/step - loss: 0.2114 - mean_absolute_error: 0.2957 - val_loss: 0.1759 - val_mean_absolute_error: 0.2762\n",
      "Epoch 4/20\n",
      "368/368 [==============================] - 1s 4ms/step - loss: 0.2091 - mean_absolute_error: 0.2944 - val_loss: 0.1792 - val_mean_absolute_error: 0.2789\n",
      "Epoch 5/20\n",
      "368/368 [==============================] - 1s 4ms/step - loss: 0.2088 - mean_absolute_error: 0.2943 - val_loss: 0.1767 - val_mean_absolute_error: 0.2785\n",
      "***TRAIN***:\n",
      "correlation related to cluster centre: 0.89\n",
      "r2 score related to cluster centre: 0.79\n",
      "***VALIDATION***:\n",
      "correlation related to cluster centre: 0.90\n",
      "r2 score related to cluster centre: 0.82\n"
     ]
    },
    {
     "data": {
      "application/vnd.jupyter.widget-view+json": {
       "model_id": "bf6c68f79d024dba985841b6e377c05f",
       "version_major": 2,
       "version_minor": 0
      },
      "text/plain": [
       "IntProgress(value=0, max=68)"
      ]
     },
     "metadata": {},
     "output_type": "display_data"
    },
    {
     "name": "stdout",
     "output_type": "stream",
     "text": [
      "***VALIDATION***:\n",
      "average correlation: 0.90\n",
      "average r2: 0.81\n",
      "---do_investigations. cluster index : 4---\n"
     ]
    },
    {
     "data": {
      "application/vnd.jupyter.widget-view+json": {
       "model_id": "8ccfb31071024ee9a3fcdd9b51b1a180",
       "version_major": 2,
       "version_minor": 0
      },
      "text/plain": [
       "IntProgress(value=0, max=4)"
      ]
     },
     "metadata": {},
     "output_type": "display_data"
    },
    {
     "name": "stdout",
     "output_type": "stream",
     "text": [
      "Epoch 1/20\n",
      "368/368 [==============================] - 3s 5ms/step - loss: 0.2233 - mean_absolute_error: 0.3241 - val_loss: 0.2038 - val_mean_absolute_error: 0.3096\n",
      "Epoch 2/20\n",
      "368/368 [==============================] - 2s 4ms/step - loss: 0.1985 - mean_absolute_error: 0.3061 - val_loss: 0.2031 - val_mean_absolute_error: 0.3000\n",
      "Epoch 3/20\n",
      "368/368 [==============================] - 2s 4ms/step - loss: 0.1979 - mean_absolute_error: 0.3059 - val_loss: 0.1975 - val_mean_absolute_error: 0.2890\n",
      "Epoch 4/20\n",
      "368/368 [==============================] - 2s 4ms/step - loss: 0.1962 - mean_absolute_error: 0.3035 - val_loss: 0.1981 - val_mean_absolute_error: 0.2985\n",
      "Epoch 5/20\n",
      "368/368 [==============================] - 2s 4ms/step - loss: 0.1956 - mean_absolute_error: 0.3025 - val_loss: 0.1990 - val_mean_absolute_error: 0.2994\n",
      "***TRAIN***:\n",
      "correlation related to cluster centre: 0.90\n",
      "r2 score related to cluster centre: 0.81\n",
      "***VALIDATION***:\n",
      "correlation related to cluster centre: 0.91\n",
      "r2 score related to cluster centre: 0.82\n"
     ]
    },
    {
     "data": {
      "application/vnd.jupyter.widget-view+json": {
       "model_id": "3cde867372d0491aa55a6d10b7ee91c9",
       "version_major": 2,
       "version_minor": 0
      },
      "text/plain": [
       "IntProgress(value=0, max=4)"
      ]
     },
     "metadata": {},
     "output_type": "display_data"
    },
    {
     "name": "stdout",
     "output_type": "stream",
     "text": [
      "***VALIDATION***:\n",
      "average correlation: 0.91\n",
      "average r2: 0.83\n",
      "---do_investigations. cluster index : 5---\n"
     ]
    },
    {
     "data": {
      "application/vnd.jupyter.widget-view+json": {
       "model_id": "d0a9f46bfa0145fe803e65a43116638d",
       "version_major": 2,
       "version_minor": 0
      },
      "text/plain": [
       "IntProgress(value=0, max=22)"
      ]
     },
     "metadata": {},
     "output_type": "display_data"
    },
    {
     "name": "stdout",
     "output_type": "stream",
     "text": [
      "Epoch 1/20\n",
      "368/368 [==============================] - 3s 5ms/step - loss: 0.2316 - mean_absolute_error: 0.3296 - val_loss: 0.1761 - val_mean_absolute_error: 0.2892\n",
      "Epoch 2/20\n",
      "368/368 [==============================] - 1s 4ms/step - loss: 0.2063 - mean_absolute_error: 0.3116 - val_loss: 0.1765 - val_mean_absolute_error: 0.2896\n",
      "Epoch 3/20\n",
      "368/368 [==============================] - 1s 4ms/step - loss: 0.2059 - mean_absolute_error: 0.3112 - val_loss: 0.1780 - val_mean_absolute_error: 0.2927\n",
      "***TRAIN***:\n",
      "correlation related to cluster centre: 0.89\n",
      "r2 score related to cluster centre: 0.79\n",
      "***VALIDATION***:\n",
      "correlation related to cluster centre: 0.91\n",
      "r2 score related to cluster centre: 0.82\n"
     ]
    },
    {
     "data": {
      "application/vnd.jupyter.widget-view+json": {
       "model_id": "323a9e1421b8474ba131644c797f2118",
       "version_major": 2,
       "version_minor": 0
      },
      "text/plain": [
       "IntProgress(value=0, max=22)"
      ]
     },
     "metadata": {},
     "output_type": "display_data"
    },
    {
     "name": "stdout",
     "output_type": "stream",
     "text": [
      "***VALIDATION***:\n",
      "average correlation: 0.91\n",
      "average r2: 0.82\n",
      "---do_investigations. cluster index : 6---\n"
     ]
    },
    {
     "data": {
      "application/vnd.jupyter.widget-view+json": {
       "model_id": "769dfb5226254900932cda8c4ba7e1fd",
       "version_major": 2,
       "version_minor": 0
      },
      "text/plain": [
       "IntProgress(value=0, max=20)"
      ]
     },
     "metadata": {},
     "output_type": "display_data"
    },
    {
     "name": "stdout",
     "output_type": "stream",
     "text": [
      "Epoch 1/20\n",
      "368/368 [==============================] - 3s 5ms/step - loss: 0.2400 - mean_absolute_error: 0.3441 - val_loss: 0.1937 - val_mean_absolute_error: 0.2956\n",
      "Epoch 2/20\n",
      "368/368 [==============================] - 1s 4ms/step - loss: 0.2054 - mean_absolute_error: 0.3158 - val_loss: 0.1852 - val_mean_absolute_error: 0.3013\n",
      "Epoch 3/20\n",
      "368/368 [==============================] - 1s 4ms/step - loss: 0.2042 - mean_absolute_error: 0.3147 - val_loss: 0.1903 - val_mean_absolute_error: 0.2936\n",
      "Epoch 4/20\n",
      "368/368 [==============================] - 1s 4ms/step - loss: 0.2043 - mean_absolute_error: 0.3148 - val_loss: 0.1876 - val_mean_absolute_error: 0.2956\n",
      "***TRAIN***:\n",
      "correlation related to cluster centre: 0.89\n",
      "r2 score related to cluster centre: 0.79\n",
      "***VALIDATION***:\n",
      "correlation related to cluster centre: 0.91\n",
      "r2 score related to cluster centre: 0.81\n"
     ]
    },
    {
     "data": {
      "application/vnd.jupyter.widget-view+json": {
       "model_id": "6e2af322fceb4b01abe9e2bb0534ff75",
       "version_major": 2,
       "version_minor": 0
      },
      "text/plain": [
       "IntProgress(value=0, max=20)"
      ]
     },
     "metadata": {},
     "output_type": "display_data"
    },
    {
     "name": "stdout",
     "output_type": "stream",
     "text": [
      "***VALIDATION***:\n",
      "average correlation: 0.91\n",
      "average r2: 0.81\n",
      "---do_investigations. cluster index : 7---\n"
     ]
    },
    {
     "data": {
      "application/vnd.jupyter.widget-view+json": {
       "model_id": "ad6dea03eb4e45b7988d7a792cd3b2df",
       "version_major": 2,
       "version_minor": 0
      },
      "text/plain": [
       "IntProgress(value=0, max=8)"
      ]
     },
     "metadata": {},
     "output_type": "display_data"
    },
    {
     "name": "stdout",
     "output_type": "stream",
     "text": [
      "Epoch 1/20\n",
      "368/368 [==============================] - 4s 5ms/step - loss: 0.2345 - mean_absolute_error: 0.3285 - val_loss: 0.1741 - val_mean_absolute_error: 0.2803\n",
      "Epoch 2/20\n",
      "368/368 [==============================] - 1s 4ms/step - loss: 0.2059 - mean_absolute_error: 0.3064 - val_loss: 0.1745 - val_mean_absolute_error: 0.2895\n",
      "Epoch 3/20\n",
      "368/368 [==============================] - 1s 4ms/step - loss: 0.2047 - mean_absolute_error: 0.3057 - val_loss: 0.1751 - val_mean_absolute_error: 0.2863\n",
      "***TRAIN***:\n",
      "correlation related to cluster centre: 0.90\n",
      "r2 score related to cluster centre: 0.80\n",
      "***VALIDATION***:\n",
      "correlation related to cluster centre: 0.91\n",
      "r2 score related to cluster centre: 0.82\n"
     ]
    },
    {
     "data": {
      "application/vnd.jupyter.widget-view+json": {
       "model_id": "0ed1cf16d65d464c80bbb3e87905a82a",
       "version_major": 2,
       "version_minor": 0
      },
      "text/plain": [
       "IntProgress(value=0, max=8)"
      ]
     },
     "metadata": {},
     "output_type": "display_data"
    },
    {
     "name": "stdout",
     "output_type": "stream",
     "text": [
      "***VALIDATION***:\n",
      "average correlation: 0.91\n",
      "average r2: 0.81\n",
      "---do_investigations. cluster index : 8---\n"
     ]
    },
    {
     "data": {
      "application/vnd.jupyter.widget-view+json": {
       "model_id": "d914019329d84969aba7fde299b5e48c",
       "version_major": 2,
       "version_minor": 0
      },
      "text/plain": [
       "IntProgress(value=0, max=4291)"
      ]
     },
     "metadata": {},
     "output_type": "display_data"
    },
    {
     "name": "stdout",
     "output_type": "stream",
     "text": [
      "Epoch 1/20\n",
      "368/368 [==============================] - 3s 5ms/step - loss: 0.1763 - mean_absolute_error: 0.2590 - val_loss: 0.1918 - val_mean_absolute_error: 0.2611\n",
      "Epoch 2/20\n",
      "368/368 [==============================] - 1s 4ms/step - loss: 0.1272 - mean_absolute_error: 0.2166 - val_loss: 0.1659 - val_mean_absolute_error: 0.2206\n",
      "Epoch 3/20\n",
      "368/368 [==============================] - 2s 4ms/step - loss: 0.1250 - mean_absolute_error: 0.2141 - val_loss: 0.1622 - val_mean_absolute_error: 0.2178\n",
      "Epoch 4/20\n",
      "368/368 [==============================] - 1s 4ms/step - loss: 0.1257 - mean_absolute_error: 0.2149 - val_loss: 0.1624 - val_mean_absolute_error: 0.2185\n",
      "Epoch 5/20\n",
      "368/368 [==============================] - 1s 4ms/step - loss: 0.1249 - mean_absolute_error: 0.2144 - val_loss: 0.1539 - val_mean_absolute_error: 0.2009\n",
      "Epoch 6/20\n",
      "368/368 [==============================] - 1s 4ms/step - loss: 0.1240 - mean_absolute_error: 0.2135 - val_loss: 0.1579 - val_mean_absolute_error: 0.2101\n",
      "Epoch 7/20\n",
      "368/368 [==============================] - 1s 4ms/step - loss: 0.1237 - mean_absolute_error: 0.2133 - val_loss: 0.1504 - val_mean_absolute_error: 0.1967\n",
      "Epoch 8/20\n",
      "368/368 [==============================] - 1s 4ms/step - loss: 0.1250 - mean_absolute_error: 0.2148 - val_loss: 0.1663 - val_mean_absolute_error: 0.2244\n",
      "Epoch 9/20\n",
      "368/368 [==============================] - 1s 4ms/step - loss: 0.1235 - mean_absolute_error: 0.2121 - val_loss: 0.1528 - val_mean_absolute_error: 0.2021\n",
      "***TRAIN***:\n",
      "correlation related to cluster centre: 0.94\n",
      "r2 score related to cluster centre: 0.88\n",
      "***VALIDATION***:\n",
      "correlation related to cluster centre: 0.90\n",
      "r2 score related to cluster centre: 0.81\n"
     ]
    },
    {
     "data": {
      "application/vnd.jupyter.widget-view+json": {
       "model_id": "577126be5186439cb1a74ef2c0b3afd4",
       "version_major": 2,
       "version_minor": 0
      },
      "text/plain": [
       "IntProgress(value=0, max=4291)"
      ]
     },
     "metadata": {},
     "output_type": "display_data"
    },
    {
     "name": "stdout",
     "output_type": "stream",
     "text": [
      "***VALIDATION***:\n",
      "average correlation: nan\n",
      "average r2: -3664143779766550069034090496.00\n",
      "---do_investigations. cluster index : 9---\n"
     ]
    },
    {
     "data": {
      "application/vnd.jupyter.widget-view+json": {
       "model_id": "3ac55e939d1449ba8403b86506c3cde9",
       "version_major": 2,
       "version_minor": 0
      },
      "text/plain": [
       "IntProgress(value=0, max=68)"
      ]
     },
     "metadata": {},
     "output_type": "display_data"
    },
    {
     "name": "stdout",
     "output_type": "stream",
     "text": [
      "Epoch 1/20\n",
      "368/368 [==============================] - 3s 4ms/step - loss: 0.2427 - mean_absolute_error: 0.3358 - val_loss: 0.1413 - val_mean_absolute_error: 0.2613\n",
      "Epoch 2/20\n",
      "368/368 [==============================] - 1s 4ms/step - loss: 0.2096 - mean_absolute_error: 0.3111 - val_loss: 0.1389 - val_mean_absolute_error: 0.2642\n",
      "Epoch 3/20\n",
      "368/368 [==============================] - 1s 4ms/step - loss: 0.2098 - mean_absolute_error: 0.3114 - val_loss: 0.1388 - val_mean_absolute_error: 0.2589\n",
      "Epoch 4/20\n",
      "368/368 [==============================] - 1s 4ms/step - loss: 0.2099 - mean_absolute_error: 0.3116 - val_loss: 0.1399 - val_mean_absolute_error: 0.2645\n",
      "Epoch 5/20\n",
      "368/368 [==============================] - 1s 4ms/step - loss: 0.2077 - mean_absolute_error: 0.3091 - val_loss: 0.1392 - val_mean_absolute_error: 0.2571\n",
      "***TRAIN***:\n",
      "correlation related to cluster centre: 0.89\n",
      "r2 score related to cluster centre: 0.79\n",
      "***VALIDATION***:\n",
      "correlation related to cluster centre: 0.91\n",
      "r2 score related to cluster centre: 0.82\n"
     ]
    },
    {
     "data": {
      "application/vnd.jupyter.widget-view+json": {
       "model_id": "c1b2380d6f0c4d92ad1e7833efd829f0",
       "version_major": 2,
       "version_minor": 0
      },
      "text/plain": [
       "IntProgress(value=0, max=68)"
      ]
     },
     "metadata": {},
     "output_type": "display_data"
    },
    {
     "name": "stdout",
     "output_type": "stream",
     "text": [
      "***VALIDATION***:\n",
      "average correlation: 0.91\n",
      "average r2: 0.82\n",
      "---do_investigations. cluster index : 10---\n"
     ]
    },
    {
     "data": {
      "application/vnd.jupyter.widget-view+json": {
       "model_id": "fe742a9e7fc54ecaabe29b56b9e27975",
       "version_major": 2,
       "version_minor": 0
      },
      "text/plain": [
       "IntProgress(value=0, max=20)"
      ]
     },
     "metadata": {},
     "output_type": "display_data"
    },
    {
     "name": "stdout",
     "output_type": "stream",
     "text": [
      "Epoch 1/20\n",
      "368/368 [==============================] - 3s 4ms/step - loss: 0.2280 - mean_absolute_error: 0.3257 - val_loss: 0.1510 - val_mean_absolute_error: 0.2567\n",
      "Epoch 2/20\n",
      "368/368 [==============================] - 1s 4ms/step - loss: 0.1911 - mean_absolute_error: 0.2994 - val_loss: 0.1457 - val_mean_absolute_error: 0.2560\n",
      "Epoch 3/20\n",
      "368/368 [==============================] - 1s 4ms/step - loss: 0.1894 - mean_absolute_error: 0.2983 - val_loss: 0.1468 - val_mean_absolute_error: 0.2541\n",
      "Epoch 4/20\n",
      "368/368 [==============================] - 1s 4ms/step - loss: 0.1903 - mean_absolute_error: 0.2987 - val_loss: 0.1485 - val_mean_absolute_error: 0.2606\n",
      "***TRAIN***:\n",
      "correlation related to cluster centre: 0.90\n",
      "r2 score related to cluster centre: 0.81\n",
      "***VALIDATION***:\n",
      "correlation related to cluster centre: 0.91\n",
      "r2 score related to cluster centre: 0.83\n"
     ]
    },
    {
     "data": {
      "application/vnd.jupyter.widget-view+json": {
       "model_id": "d75c3faf8b824b3399d447170f9e0a30",
       "version_major": 2,
       "version_minor": 0
      },
      "text/plain": [
       "IntProgress(value=0, max=20)"
      ]
     },
     "metadata": {},
     "output_type": "display_data"
    },
    {
     "name": "stdout",
     "output_type": "stream",
     "text": [
      "***VALIDATION***:\n",
      "average correlation: 0.91\n",
      "average r2: 0.83\n",
      "---do_investigations. cluster index : 11---\n"
     ]
    },
    {
     "data": {
      "application/vnd.jupyter.widget-view+json": {
       "model_id": "bb41641bd9cc433c889989fbd115b84b",
       "version_major": 2,
       "version_minor": 0
      },
      "text/plain": [
       "IntProgress(value=0, max=29)"
      ]
     },
     "metadata": {},
     "output_type": "display_data"
    },
    {
     "name": "stdout",
     "output_type": "stream",
     "text": [
      "Epoch 1/20\n",
      "368/368 [==============================] - 3s 4ms/step - loss: 0.2438 - mean_absolute_error: 0.3433 - val_loss: 0.2029 - val_mean_absolute_error: 0.3204\n",
      "Epoch 2/20\n",
      "368/368 [==============================] - 1s 4ms/step - loss: 0.2076 - mean_absolute_error: 0.3158 - val_loss: 0.2051 - val_mean_absolute_error: 0.3213\n",
      "Epoch 3/20\n",
      "368/368 [==============================] - 1s 4ms/step - loss: 0.2075 - mean_absolute_error: 0.3159 - val_loss: 0.2036 - val_mean_absolute_error: 0.3200\n",
      "***TRAIN***:\n",
      "correlation related to cluster centre: 0.89\n",
      "r2 score related to cluster centre: 0.78\n",
      "***VALIDATION***:\n",
      "correlation related to cluster centre: 0.90\n",
      "r2 score related to cluster centre: 0.79\n"
     ]
    },
    {
     "data": {
      "application/vnd.jupyter.widget-view+json": {
       "model_id": "64ef312a52394467af2e696c9e973b49",
       "version_major": 2,
       "version_minor": 0
      },
      "text/plain": [
       "IntProgress(value=0, max=29)"
      ]
     },
     "metadata": {},
     "output_type": "display_data"
    },
    {
     "name": "stdout",
     "output_type": "stream",
     "text": [
      "***VALIDATION***:\n",
      "average correlation: 0.90\n",
      "average r2: 0.78\n",
      "---do_investigations. cluster index : 12---\n"
     ]
    },
    {
     "data": {
      "application/vnd.jupyter.widget-view+json": {
       "model_id": "57d4dc84fca24640966a32410524c04a",
       "version_major": 2,
       "version_minor": 0
      },
      "text/plain": [
       "IntProgress(value=0, max=1506)"
      ]
     },
     "metadata": {},
     "output_type": "display_data"
    },
    {
     "name": "stdout",
     "output_type": "stream",
     "text": [
      "Epoch 1/20\n",
      "368/368 [==============================] - 3s 5ms/step - loss: 0.2438 - mean_absolute_error: 0.3025 - val_loss: 0.2574 - val_mean_absolute_error: 0.2759\n",
      "Epoch 2/20\n",
      "368/368 [==============================] - 1s 4ms/step - loss: 0.2106 - mean_absolute_error: 0.2800 - val_loss: 0.2542 - val_mean_absolute_error: 0.2741\n",
      "Epoch 3/20\n",
      "368/368 [==============================] - 1s 4ms/step - loss: 0.2093 - mean_absolute_error: 0.2809 - val_loss: 0.2558 - val_mean_absolute_error: 0.2807\n",
      "Epoch 4/20\n",
      "368/368 [==============================] - 1s 4ms/step - loss: 0.2090 - mean_absolute_error: 0.2798 - val_loss: 0.2526 - val_mean_absolute_error: 0.2889\n",
      "Epoch 5/20\n",
      "368/368 [==============================] - 1s 4ms/step - loss: 0.2072 - mean_absolute_error: 0.2793 - val_loss: 0.2498 - val_mean_absolute_error: 0.2725\n",
      "Epoch 6/20\n",
      "368/368 [==============================] - 2s 4ms/step - loss: 0.2083 - mean_absolute_error: 0.2795 - val_loss: 0.2603 - val_mean_absolute_error: 0.2892\n",
      "Epoch 7/20\n",
      "368/368 [==============================] - 1s 4ms/step - loss: 0.2056 - mean_absolute_error: 0.2771 - val_loss: 0.2475 - val_mean_absolute_error: 0.2799\n",
      "Epoch 8/20\n",
      "368/368 [==============================] - 1s 4ms/step - loss: 0.2078 - mean_absolute_error: 0.2791 - val_loss: 0.2501 - val_mean_absolute_error: 0.2730\n",
      "Epoch 9/20\n",
      "368/368 [==============================] - 1s 4ms/step - loss: 0.2075 - mean_absolute_error: 0.2792 - val_loss: 0.2578 - val_mean_absolute_error: 0.2771\n",
      "***TRAIN***:\n",
      "correlation related to cluster centre: 0.89\n",
      "r2 score related to cluster centre: 0.79\n",
      "***VALIDATION***:\n",
      "correlation related to cluster centre: 0.90\n",
      "r2 score related to cluster centre: 0.79\n"
     ]
    },
    {
     "data": {
      "application/vnd.jupyter.widget-view+json": {
       "model_id": "b63df9d0ff9b4e8780c8fbfa26750b6b",
       "version_major": 2,
       "version_minor": 0
      },
      "text/plain": [
       "IntProgress(value=0, max=1506)"
      ]
     },
     "metadata": {},
     "output_type": "display_data"
    },
    {
     "name": "stdout",
     "output_type": "stream",
     "text": [
      "***VALIDATION***:\n",
      "average correlation: 0.88\n",
      "average r2: 0.76\n",
      "---do_investigations. cluster index : 13---\n"
     ]
    },
    {
     "data": {
      "application/vnd.jupyter.widget-view+json": {
       "model_id": "fcdfee30c5934398a8cc2fccf495a9d4",
       "version_major": 2,
       "version_minor": 0
      },
      "text/plain": [
       "IntProgress(value=0, max=10)"
      ]
     },
     "metadata": {},
     "output_type": "display_data"
    },
    {
     "name": "stdout",
     "output_type": "stream",
     "text": [
      "Epoch 1/20\n",
      "368/368 [==============================] - 3s 4ms/step - loss: 0.2397 - mean_absolute_error: 0.3320 - val_loss: 0.2264 - val_mean_absolute_error: 0.3209\n",
      "Epoch 2/20\n",
      "368/368 [==============================] - 1s 4ms/step - loss: 0.2044 - mean_absolute_error: 0.3045 - val_loss: 0.1839 - val_mean_absolute_error: 0.3021\n",
      "Epoch 3/20\n",
      "368/368 [==============================] - 1s 4ms/step - loss: 0.2042 - mean_absolute_error: 0.3037 - val_loss: 0.1961 - val_mean_absolute_error: 0.3095\n",
      "Epoch 4/20\n",
      "368/368 [==============================] - 1s 4ms/step - loss: 0.2025 - mean_absolute_error: 0.3032 - val_loss: 0.1904 - val_mean_absolute_error: 0.2920\n",
      "***TRAIN***:\n",
      "correlation related to cluster centre: 0.90\n",
      "r2 score related to cluster centre: 0.79\n",
      "***VALIDATION***:\n",
      "correlation related to cluster centre: 0.91\n",
      "r2 score related to cluster centre: 0.81\n"
     ]
    },
    {
     "data": {
      "application/vnd.jupyter.widget-view+json": {
       "model_id": "0908ad3af2fa44d48cf4bf74239eee7d",
       "version_major": 2,
       "version_minor": 0
      },
      "text/plain": [
       "IntProgress(value=0, max=10)"
      ]
     },
     "metadata": {},
     "output_type": "display_data"
    },
    {
     "name": "stdout",
     "output_type": "stream",
     "text": [
      "***VALIDATION***:\n",
      "average correlation: 0.91\n",
      "average r2: 0.80\n",
      "---do_investigations. cluster index : 14---\n"
     ]
    },
    {
     "data": {
      "application/vnd.jupyter.widget-view+json": {
       "model_id": "488459b37fff4ae4ba886bd06ae26cf2",
       "version_major": 2,
       "version_minor": 0
      },
      "text/plain": [
       "IntProgress(value=0, max=32)"
      ]
     },
     "metadata": {},
     "output_type": "display_data"
    },
    {
     "name": "stdout",
     "output_type": "stream",
     "text": [
      "Epoch 1/20\n",
      "368/368 [==============================] - 3s 4ms/step - loss: 0.1959 - mean_absolute_error: 0.3095 - val_loss: 0.1494 - val_mean_absolute_error: 0.2718\n",
      "Epoch 2/20\n",
      "368/368 [==============================] - 1s 4ms/step - loss: 0.1712 - mean_absolute_error: 0.2874 - val_loss: 0.1467 - val_mean_absolute_error: 0.2676\n",
      "Epoch 3/20\n",
      "368/368 [==============================] - 1s 4ms/step - loss: 0.1705 - mean_absolute_error: 0.2871 - val_loss: 0.1476 - val_mean_absolute_error: 0.2770\n",
      "Epoch 4/20\n",
      "368/368 [==============================] - 1s 4ms/step - loss: 0.1704 - mean_absolute_error: 0.2866 - val_loss: 0.1477 - val_mean_absolute_error: 0.2663\n",
      "***TRAIN***:\n",
      "correlation related to cluster centre: 0.91\n",
      "r2 score related to cluster centre: 0.83\n",
      "***VALIDATION***:\n",
      "correlation related to cluster centre: 0.91\n",
      "r2 score related to cluster centre: 0.82\n"
     ]
    },
    {
     "data": {
      "application/vnd.jupyter.widget-view+json": {
       "model_id": "5e50e1543efd498ca64897bc34a5c500",
       "version_major": 2,
       "version_minor": 0
      },
      "text/plain": [
       "IntProgress(value=0, max=32)"
      ]
     },
     "metadata": {},
     "output_type": "display_data"
    },
    {
     "name": "stdout",
     "output_type": "stream",
     "text": [
      "***VALIDATION***:\n",
      "average correlation: 0.90\n",
      "average r2: 0.81\n",
      "---do_investigations. cluster index : 15---\n"
     ]
    },
    {
     "data": {
      "application/vnd.jupyter.widget-view+json": {
       "model_id": "7339461c2321486da965a6cadca25eb3",
       "version_major": 2,
       "version_minor": 0
      },
      "text/plain": [
       "IntProgress(value=0, max=216)"
      ]
     },
     "metadata": {},
     "output_type": "display_data"
    },
    {
     "name": "stdout",
     "output_type": "stream",
     "text": [
      "Epoch 1/20\n",
      "368/368 [==============================] - 3s 5ms/step - loss: 0.2071 - mean_absolute_error: 0.3205 - val_loss: 0.1724 - val_mean_absolute_error: 0.2970\n",
      "Epoch 2/20\n",
      "368/368 [==============================] - 2s 4ms/step - loss: 0.1861 - mean_absolute_error: 0.2981 - val_loss: 0.1684 - val_mean_absolute_error: 0.2868\n",
      "Epoch 3/20\n",
      "368/368 [==============================] - 1s 4ms/step - loss: 0.1835 - mean_absolute_error: 0.2965 - val_loss: 0.1668 - val_mean_absolute_error: 0.2868\n",
      "Epoch 4/20\n",
      "368/368 [==============================] - 1s 4ms/step - loss: 0.1831 - mean_absolute_error: 0.2946 - val_loss: 0.1669 - val_mean_absolute_error: 0.2864\n",
      "Epoch 5/20\n",
      "368/368 [==============================] - 1s 4ms/step - loss: 0.1817 - mean_absolute_error: 0.2938 - val_loss: 0.1676 - val_mean_absolute_error: 0.2903\n",
      "***TRAIN***:\n",
      "correlation related to cluster centre: 0.91\n",
      "r2 score related to cluster centre: 0.82\n",
      "***VALIDATION***:\n",
      "correlation related to cluster centre: 0.91\n",
      "r2 score related to cluster centre: 0.83\n"
     ]
    },
    {
     "data": {
      "application/vnd.jupyter.widget-view+json": {
       "model_id": "c761c0643b1343efa2ab4f21b387059d",
       "version_major": 2,
       "version_minor": 0
      },
      "text/plain": [
       "IntProgress(value=0, max=216)"
      ]
     },
     "metadata": {},
     "output_type": "display_data"
    },
    {
     "name": "stdout",
     "output_type": "stream",
     "text": [
      "***VALIDATION***:\n",
      "average correlation: 0.91\n",
      "average r2: 0.77\n",
      "---do_investigations. cluster index : 16---\n"
     ]
    },
    {
     "data": {
      "application/vnd.jupyter.widget-view+json": {
       "model_id": "4306130772fe47728bfcd6284c72948b",
       "version_major": 2,
       "version_minor": 0
      },
      "text/plain": [
       "IntProgress(value=0, max=22)"
      ]
     },
     "metadata": {},
     "output_type": "display_data"
    },
    {
     "name": "stdout",
     "output_type": "stream",
     "text": [
      "Epoch 1/20\n",
      "368/368 [==============================] - 3s 5ms/step - loss: 0.2299 - mean_absolute_error: 0.3290 - val_loss: 0.1843 - val_mean_absolute_error: 0.2851\n",
      "Epoch 2/20\n",
      "368/368 [==============================] - 1s 4ms/step - loss: 0.1889 - mean_absolute_error: 0.2954 - val_loss: 0.1831 - val_mean_absolute_error: 0.2880\n",
      "Epoch 3/20\n",
      "368/368 [==============================] - 1s 4ms/step - loss: 0.1865 - mean_absolute_error: 0.2937 - val_loss: 0.1817 - val_mean_absolute_error: 0.2840\n",
      "Epoch 4/20\n",
      "368/368 [==============================] - 1s 4ms/step - loss: 0.1872 - mean_absolute_error: 0.2939 - val_loss: 0.1854 - val_mean_absolute_error: 0.2810\n",
      "Epoch 5/20\n",
      "368/368 [==============================] - 1s 4ms/step - loss: 0.1854 - mean_absolute_error: 0.2935 - val_loss: 0.1814 - val_mean_absolute_error: 0.2811\n",
      "Epoch 6/20\n",
      "368/368 [==============================] - 1s 4ms/step - loss: 0.1860 - mean_absolute_error: 0.2934 - val_loss: 0.1824 - val_mean_absolute_error: 0.2820\n",
      "Epoch 7/20\n",
      "368/368 [==============================] - 1s 4ms/step - loss: 0.1852 - mean_absolute_error: 0.2925 - val_loss: 0.1811 - val_mean_absolute_error: 0.2789\n",
      "Epoch 8/20\n",
      "368/368 [==============================] - 1s 4ms/step - loss: 0.1861 - mean_absolute_error: 0.2928 - val_loss: 0.1854 - val_mean_absolute_error: 0.2895\n",
      "Epoch 9/20\n",
      "368/368 [==============================] - 1s 4ms/step - loss: 0.1837 - mean_absolute_error: 0.2914 - val_loss: 0.1810 - val_mean_absolute_error: 0.2837\n",
      "Epoch 10/20\n",
      "368/368 [==============================] - 1s 4ms/step - loss: 0.1853 - mean_absolute_error: 0.2928 - val_loss: 0.1823 - val_mean_absolute_error: 0.2834\n",
      "Epoch 11/20\n",
      "368/368 [==============================] - 1s 4ms/step - loss: 0.1853 - mean_absolute_error: 0.2925 - val_loss: 0.1793 - val_mean_absolute_error: 0.2800\n",
      "Epoch 12/20\n",
      "368/368 [==============================] - 1s 4ms/step - loss: 0.1845 - mean_absolute_error: 0.2919 - val_loss: 0.1825 - val_mean_absolute_error: 0.2782\n",
      "Epoch 13/20\n",
      "368/368 [==============================] - 1s 4ms/step - loss: 0.1844 - mean_absolute_error: 0.2914 - val_loss: 0.1829 - val_mean_absolute_error: 0.2775\n",
      "***TRAIN***:\n",
      "correlation related to cluster centre: 0.90\n",
      "r2 score related to cluster centre: 0.81\n",
      "***VALIDATION***:\n",
      "correlation related to cluster centre: 0.91\n",
      "r2 score related to cluster centre: 0.83\n"
     ]
    },
    {
     "data": {
      "application/vnd.jupyter.widget-view+json": {
       "model_id": "eb334d4e07424658ad24e3953566025e",
       "version_major": 2,
       "version_minor": 0
      },
      "text/plain": [
       "IntProgress(value=0, max=22)"
      ]
     },
     "metadata": {},
     "output_type": "display_data"
    },
    {
     "name": "stdout",
     "output_type": "stream",
     "text": [
      "***VALIDATION***:\n",
      "average correlation: 0.91\n",
      "average r2: 0.82\n",
      "---do_investigations. cluster index : 17---\n"
     ]
    },
    {
     "data": {
      "application/vnd.jupyter.widget-view+json": {
       "model_id": "e8ad7478c42c42308d5f9bd89b498a52",
       "version_major": 2,
       "version_minor": 0
      },
      "text/plain": [
       "IntProgress(value=0, max=13)"
      ]
     },
     "metadata": {},
     "output_type": "display_data"
    },
    {
     "name": "stdout",
     "output_type": "stream",
     "text": [
      "Epoch 1/20\n",
      "368/368 [==============================] - 3s 4ms/step - loss: 0.2420 - mean_absolute_error: 0.3390 - val_loss: 0.1905 - val_mean_absolute_error: 0.3021\n",
      "Epoch 2/20\n",
      "368/368 [==============================] - 1s 4ms/step - loss: 0.2077 - mean_absolute_error: 0.3113 - val_loss: 0.1867 - val_mean_absolute_error: 0.2947\n",
      "Epoch 3/20\n",
      "368/368 [==============================] - 1s 4ms/step - loss: 0.2069 - mean_absolute_error: 0.3106 - val_loss: 0.1987 - val_mean_absolute_error: 0.3068\n",
      "Epoch 4/20\n",
      "368/368 [==============================] - 1s 4ms/step - loss: 0.2067 - mean_absolute_error: 0.3103 - val_loss: 0.1833 - val_mean_absolute_error: 0.2921\n",
      "Epoch 5/20\n",
      "368/368 [==============================] - 1s 4ms/step - loss: 0.2059 - mean_absolute_error: 0.3093 - val_loss: 0.1832 - val_mean_absolute_error: 0.2909\n",
      "Epoch 6/20\n",
      "368/368 [==============================] - 1s 4ms/step - loss: 0.2065 - mean_absolute_error: 0.3099 - val_loss: 0.1844 - val_mean_absolute_error: 0.3003\n",
      "Epoch 7/20\n",
      "368/368 [==============================] - 1s 4ms/step - loss: 0.2062 - mean_absolute_error: 0.3101 - val_loss: 0.1823 - val_mean_absolute_error: 0.2944\n",
      "Epoch 8/20\n",
      "368/368 [==============================] - 1s 4ms/step - loss: 0.2043 - mean_absolute_error: 0.3080 - val_loss: 0.1891 - val_mean_absolute_error: 0.2926\n",
      "Epoch 9/20\n",
      "368/368 [==============================] - 1s 4ms/step - loss: 0.2059 - mean_absolute_error: 0.3096 - val_loss: 0.1807 - val_mean_absolute_error: 0.2926\n",
      "Epoch 10/20\n",
      "368/368 [==============================] - 1s 4ms/step - loss: 0.2048 - mean_absolute_error: 0.3082 - val_loss: 0.1843 - val_mean_absolute_error: 0.2883\n",
      "Epoch 11/20\n",
      "368/368 [==============================] - 1s 4ms/step - loss: 0.2053 - mean_absolute_error: 0.3086 - val_loss: 0.1812 - val_mean_absolute_error: 0.2913\n",
      "***TRAIN***:\n",
      "correlation related to cluster centre: 0.89\n",
      "r2 score related to cluster centre: 0.80\n",
      "***VALIDATION***:\n",
      "correlation related to cluster centre: 0.91\n",
      "r2 score related to cluster centre: 0.82\n"
     ]
    },
    {
     "data": {
      "application/vnd.jupyter.widget-view+json": {
       "model_id": "3f4f2577ed91406086ecf35d6c08276e",
       "version_major": 2,
       "version_minor": 0
      },
      "text/plain": [
       "IntProgress(value=0, max=13)"
      ]
     },
     "metadata": {},
     "output_type": "display_data"
    },
    {
     "name": "stdout",
     "output_type": "stream",
     "text": [
      "***VALIDATION***:\n",
      "average correlation: 0.91\n",
      "average r2: 0.82\n",
      "---do_investigations. cluster index : 18---\n"
     ]
    },
    {
     "data": {
      "application/vnd.jupyter.widget-view+json": {
       "model_id": "f7ba695ded654119b3675fb3acfa4bde",
       "version_major": 2,
       "version_minor": 0
      },
      "text/plain": [
       "IntProgress(value=0, max=43)"
      ]
     },
     "metadata": {},
     "output_type": "display_data"
    },
    {
     "name": "stdout",
     "output_type": "stream",
     "text": [
      "Epoch 1/20\n",
      "368/368 [==============================] - 3s 4ms/step - loss: 0.2369 - mean_absolute_error: 0.3284 - val_loss: 0.1481 - val_mean_absolute_error: 0.2658\n",
      "Epoch 2/20\n",
      "368/368 [==============================] - 1s 4ms/step - loss: 0.2150 - mean_absolute_error: 0.3091 - val_loss: 0.1481 - val_mean_absolute_error: 0.2684\n",
      "Epoch 3/20\n",
      "368/368 [==============================] - 1s 4ms/step - loss: 0.2170 - mean_absolute_error: 0.3100 - val_loss: 0.1480 - val_mean_absolute_error: 0.2596\n",
      "Epoch 4/20\n",
      "368/368 [==============================] - 1s 4ms/step - loss: 0.2157 - mean_absolute_error: 0.3087 - val_loss: 0.1496 - val_mean_absolute_error: 0.2632\n",
      "Epoch 5/20\n",
      "368/368 [==============================] - 1s 4ms/step - loss: 0.2152 - mean_absolute_error: 0.3085 - val_loss: 0.1480 - val_mean_absolute_error: 0.2606\n",
      "***TRAIN***:\n",
      "correlation related to cluster centre: 0.89\n",
      "r2 score related to cluster centre: 0.79\n",
      "***VALIDATION***:\n",
      "correlation related to cluster centre: 0.90\n",
      "r2 score related to cluster centre: 0.82\n"
     ]
    },
    {
     "data": {
      "application/vnd.jupyter.widget-view+json": {
       "model_id": "b36854a741dd4c7099e71b56ef8b04ed",
       "version_major": 2,
       "version_minor": 0
      },
      "text/plain": [
       "IntProgress(value=0, max=43)"
      ]
     },
     "metadata": {},
     "output_type": "display_data"
    },
    {
     "name": "stdout",
     "output_type": "stream",
     "text": [
      "***VALIDATION***:\n",
      "average correlation: 0.90\n",
      "average r2: 0.75\n",
      "---do_investigations. cluster index : 19---\n"
     ]
    },
    {
     "data": {
      "application/vnd.jupyter.widget-view+json": {
       "model_id": "2a8de028a7034505a8ae76140296924b",
       "version_major": 2,
       "version_minor": 0
      },
      "text/plain": [
       "IntProgress(value=0, max=710)"
      ]
     },
     "metadata": {},
     "output_type": "display_data"
    },
    {
     "name": "stdout",
     "output_type": "stream",
     "text": [
      "Epoch 1/20\n",
      "368/368 [==============================] - 3s 5ms/step - loss: 0.2459 - mean_absolute_error: 0.3381 - val_loss: 0.2153 - val_mean_absolute_error: 0.3124\n",
      "Epoch 2/20\n",
      "368/368 [==============================] - 1s 4ms/step - loss: 0.2096 - mean_absolute_error: 0.3109 - val_loss: 0.2149 - val_mean_absolute_error: 0.3223\n",
      "Epoch 3/20\n",
      "368/368 [==============================] - 1s 4ms/step - loss: 0.2072 - mean_absolute_error: 0.3083 - val_loss: 0.2108 - val_mean_absolute_error: 0.3071\n",
      "Epoch 4/20\n",
      "368/368 [==============================] - 1s 4ms/step - loss: 0.2063 - mean_absolute_error: 0.3073 - val_loss: 0.2104 - val_mean_absolute_error: 0.3136\n",
      "Epoch 5/20\n",
      "368/368 [==============================] - 1s 4ms/step - loss: 0.2050 - mean_absolute_error: 0.3069 - val_loss: 0.2111 - val_mean_absolute_error: 0.3098\n",
      "Epoch 6/20\n",
      "368/368 [==============================] - 1s 4ms/step - loss: 0.2056 - mean_absolute_error: 0.3067 - val_loss: 0.2110 - val_mean_absolute_error: 0.3146\n",
      "***TRAIN***:\n",
      "correlation related to cluster centre: 0.89\n",
      "r2 score related to cluster centre: 0.80\n",
      "***VALIDATION***:\n",
      "correlation related to cluster centre: 0.90\n",
      "r2 score related to cluster centre: 0.81\n"
     ]
    },
    {
     "data": {
      "application/vnd.jupyter.widget-view+json": {
       "model_id": "1871dad5923f4f7a839f76104dd0b0a7",
       "version_major": 2,
       "version_minor": 0
      },
      "text/plain": [
       "IntProgress(value=0, max=710)"
      ]
     },
     "metadata": {},
     "output_type": "display_data"
    },
    {
     "name": "stdout",
     "output_type": "stream",
     "text": [
      "***VALIDATION***:\n",
      "average correlation: 0.89\n",
      "average r2: 0.66\n",
      "---do_investigations. cluster index : 20---\n"
     ]
    },
    {
     "data": {
      "application/vnd.jupyter.widget-view+json": {
       "model_id": "a3e656b8f4f54eef9b75cd8b1cb68468",
       "version_major": 2,
       "version_minor": 0
      },
      "text/plain": [
       "IntProgress(value=0, max=14)"
      ]
     },
     "metadata": {},
     "output_type": "display_data"
    },
    {
     "name": "stdout",
     "output_type": "stream",
     "text": [
      "Epoch 1/20\n",
      "368/368 [==============================] - 3s 5ms/step - loss: 0.2295 - mean_absolute_error: 0.3335 - val_loss: 0.1925 - val_mean_absolute_error: 0.3048\n",
      "Epoch 2/20\n",
      "368/368 [==============================] - 1s 4ms/step - loss: 0.2074 - mean_absolute_error: 0.3150 - val_loss: 0.1894 - val_mean_absolute_error: 0.3000\n",
      "Epoch 3/20\n",
      "368/368 [==============================] - 1s 4ms/step - loss: 0.2069 - mean_absolute_error: 0.3135 - val_loss: 0.1913 - val_mean_absolute_error: 0.3137\n",
      "Epoch 4/20\n",
      "368/368 [==============================] - 1s 4ms/step - loss: 0.2073 - mean_absolute_error: 0.3141 - val_loss: 0.1910 - val_mean_absolute_error: 0.3063\n",
      "***TRAIN***:\n",
      "correlation related to cluster centre: 0.89\n",
      "r2 score related to cluster centre: 0.80\n",
      "***VALIDATION***:\n",
      "correlation related to cluster centre: 0.91\n",
      "r2 score related to cluster centre: 0.82\n"
     ]
    },
    {
     "data": {
      "application/vnd.jupyter.widget-view+json": {
       "model_id": "4819a2344bd54776ab01b7e8e3ce179e",
       "version_major": 2,
       "version_minor": 0
      },
      "text/plain": [
       "IntProgress(value=0, max=14)"
      ]
     },
     "metadata": {},
     "output_type": "display_data"
    },
    {
     "name": "stdout",
     "output_type": "stream",
     "text": [
      "***VALIDATION***:\n",
      "average correlation: 0.91\n",
      "average r2: 0.81\n",
      "---do_investigations. cluster index : 21---\n"
     ]
    },
    {
     "data": {
      "application/vnd.jupyter.widget-view+json": {
       "model_id": "1eb8698ae03744ceabc43ff64d78ffa6",
       "version_major": 2,
       "version_minor": 0
      },
      "text/plain": [
       "IntProgress(value=0, max=27)"
      ]
     },
     "metadata": {},
     "output_type": "display_data"
    },
    {
     "name": "stdout",
     "output_type": "stream",
     "text": [
      "Epoch 1/20\n",
      "368/368 [==============================] - 3s 4ms/step - loss: 0.2254 - mean_absolute_error: 0.3324 - val_loss: 0.1423 - val_mean_absolute_error: 0.2766\n",
      "Epoch 2/20\n",
      "368/368 [==============================] - 1s 4ms/step - loss: 0.2006 - mean_absolute_error: 0.3085 - val_loss: 0.1389 - val_mean_absolute_error: 0.2692\n",
      "Epoch 3/20\n",
      "368/368 [==============================] - 1s 4ms/step - loss: 0.2001 - mean_absolute_error: 0.3083 - val_loss: 0.1439 - val_mean_absolute_error: 0.2823\n",
      "Epoch 4/20\n",
      "368/368 [==============================] - 1s 4ms/step - loss: 0.1981 - mean_absolute_error: 0.3069 - val_loss: 0.1398 - val_mean_absolute_error: 0.2736\n",
      "***TRAIN***:\n",
      "correlation related to cluster centre: 0.90\n",
      "r2 score related to cluster centre: 0.80\n",
      "***VALIDATION***:\n",
      "correlation related to cluster centre: 0.91\n",
      "r2 score related to cluster centre: 0.82\n"
     ]
    },
    {
     "data": {
      "application/vnd.jupyter.widget-view+json": {
       "model_id": "aa68907209734c5b836d15fb1753ec89",
       "version_major": 2,
       "version_minor": 0
      },
      "text/plain": [
       "IntProgress(value=0, max=27)"
      ]
     },
     "metadata": {},
     "output_type": "display_data"
    },
    {
     "name": "stdout",
     "output_type": "stream",
     "text": [
      "***VALIDATION***:\n",
      "average correlation: 0.91\n",
      "average r2: 0.82\n",
      "---do_investigations. cluster index : 22---\n"
     ]
    },
    {
     "data": {
      "application/vnd.jupyter.widget-view+json": {
       "model_id": "084c2b34f1634151a79b2d34906a076d",
       "version_major": 2,
       "version_minor": 0
      },
      "text/plain": [
       "IntProgress(value=0, max=64)"
      ]
     },
     "metadata": {},
     "output_type": "display_data"
    },
    {
     "name": "stdout",
     "output_type": "stream",
     "text": [
      "Epoch 1/20\n",
      "368/368 [==============================] - 3s 5ms/step - loss: 0.1858 - mean_absolute_error: 0.2654 - val_loss: 0.1343 - val_mean_absolute_error: 0.2052\n",
      "Epoch 2/20\n",
      "368/368 [==============================] - 1s 4ms/step - loss: 0.1433 - mean_absolute_error: 0.2310 - val_loss: 0.1325 - val_mean_absolute_error: 0.2011\n",
      "Epoch 3/20\n",
      "368/368 [==============================] - 1s 4ms/step - loss: 0.1413 - mean_absolute_error: 0.2314 - val_loss: 0.1402 - val_mean_absolute_error: 0.2208\n",
      "Epoch 4/20\n",
      "368/368 [==============================] - 1s 4ms/step - loss: 0.1435 - mean_absolute_error: 0.2321 - val_loss: 0.1422 - val_mean_absolute_error: 0.2264\n",
      "***TRAIN***:\n",
      "correlation related to cluster centre: 0.93\n",
      "r2 score related to cluster centre: 0.86\n",
      "***VALIDATION***:\n",
      "correlation related to cluster centre: 0.91\n",
      "r2 score related to cluster centre: 0.81\n"
     ]
    },
    {
     "data": {
      "application/vnd.jupyter.widget-view+json": {
       "model_id": "e92650bf81e845bab9f45327eccb1923",
       "version_major": 2,
       "version_minor": 0
      },
      "text/plain": [
       "IntProgress(value=0, max=64)"
      ]
     },
     "metadata": {},
     "output_type": "display_data"
    },
    {
     "name": "stdout",
     "output_type": "stream",
     "text": [
      "***VALIDATION***:\n",
      "average correlation: 0.90\n",
      "average r2: 0.76\n",
      "---do_investigations. cluster index : 23---\n"
     ]
    },
    {
     "data": {
      "application/vnd.jupyter.widget-view+json": {
       "model_id": "22b054f69f5a438dafff3b23fb2d594a",
       "version_major": 2,
       "version_minor": 0
      },
      "text/plain": [
       "IntProgress(value=0, max=4)"
      ]
     },
     "metadata": {},
     "output_type": "display_data"
    },
    {
     "name": "stdout",
     "output_type": "stream",
     "text": [
      "Epoch 1/20\n",
      "368/368 [==============================] - 3s 4ms/step - loss: 0.1817 - mean_absolute_error: 0.2858 - val_loss: 0.2042 - val_mean_absolute_error: 0.3029\n",
      "Epoch 2/20\n",
      "368/368 [==============================] - 1s 4ms/step - loss: 0.1554 - mean_absolute_error: 0.2627 - val_loss: 0.2049 - val_mean_absolute_error: 0.3015\n",
      "Epoch 3/20\n",
      "368/368 [==============================] - 1s 4ms/step - loss: 0.1540 - mean_absolute_error: 0.2612 - val_loss: 0.2044 - val_mean_absolute_error: 0.3031\n",
      "***TRAIN***:\n",
      "correlation related to cluster centre: 0.92\n",
      "r2 score related to cluster centre: 0.85\n",
      "***VALIDATION***:\n",
      "correlation related to cluster centre: 0.91\n",
      "r2 score related to cluster centre: 0.82\n"
     ]
    },
    {
     "data": {
      "application/vnd.jupyter.widget-view+json": {
       "model_id": "a59642e56dbf4ef9b67973990857cf67",
       "version_major": 2,
       "version_minor": 0
      },
      "text/plain": [
       "IntProgress(value=0, max=4)"
      ]
     },
     "metadata": {},
     "output_type": "display_data"
    },
    {
     "name": "stdout",
     "output_type": "stream",
     "text": [
      "***VALIDATION***:\n",
      "average correlation: 0.91\n",
      "average r2: 0.83\n",
      "---do_investigations. cluster index : 24---\n"
     ]
    },
    {
     "data": {
      "application/vnd.jupyter.widget-view+json": {
       "model_id": "d3fe0a9e6d044f33aa2e6fef7f57b349",
       "version_major": 2,
       "version_minor": 0
      },
      "text/plain": [
       "IntProgress(value=0, max=77)"
      ]
     },
     "metadata": {},
     "output_type": "display_data"
    },
    {
     "name": "stdout",
     "output_type": "stream",
     "text": [
      "Epoch 1/20\n",
      "368/368 [==============================] - 3s 4ms/step - loss: 0.2390 - mean_absolute_error: 0.3338 - val_loss: 0.1442 - val_mean_absolute_error: 0.2707\n",
      "Epoch 2/20\n",
      "368/368 [==============================] - 1s 4ms/step - loss: 0.1924 - mean_absolute_error: 0.2996 - val_loss: 0.1434 - val_mean_absolute_error: 0.2763\n",
      "Epoch 3/20\n",
      "368/368 [==============================] - 1s 4ms/step - loss: 0.1927 - mean_absolute_error: 0.2998 - val_loss: 0.1473 - val_mean_absolute_error: 0.2826\n",
      "Epoch 4/20\n",
      "368/368 [==============================] - 1s 4ms/step - loss: 0.1915 - mean_absolute_error: 0.2984 - val_loss: 0.1400 - val_mean_absolute_error: 0.2624\n",
      "Epoch 5/20\n",
      "368/368 [==============================] - 1s 4ms/step - loss: 0.1912 - mean_absolute_error: 0.2984 - val_loss: 0.1421 - val_mean_absolute_error: 0.2680\n",
      "Epoch 6/20\n",
      "368/368 [==============================] - 1s 4ms/step - loss: 0.1903 - mean_absolute_error: 0.2971 - val_loss: 0.1416 - val_mean_absolute_error: 0.2720\n",
      "***TRAIN***:\n",
      "correlation related to cluster centre: 0.90\n",
      "r2 score related to cluster centre: 0.81\n",
      "***VALIDATION***:\n",
      "correlation related to cluster centre: 0.91\n",
      "r2 score related to cluster centre: 0.83\n"
     ]
    },
    {
     "data": {
      "application/vnd.jupyter.widget-view+json": {
       "model_id": "255528bb987d4bdcaee8e76da6dcef9c",
       "version_major": 2,
       "version_minor": 0
      },
      "text/plain": [
       "IntProgress(value=0, max=77)"
      ]
     },
     "metadata": {},
     "output_type": "display_data"
    },
    {
     "name": "stdout",
     "output_type": "stream",
     "text": [
      "***VALIDATION***:\n",
      "average correlation: 0.91\n",
      "average r2: 0.83\n",
      "---do_investigations. cluster index : 25---\n"
     ]
    },
    {
     "data": {
      "application/vnd.jupyter.widget-view+json": {
       "model_id": "8e6806883545449eb62bccede04531d7",
       "version_major": 2,
       "version_minor": 0
      },
      "text/plain": [
       "IntProgress(value=0, max=6)"
      ]
     },
     "metadata": {},
     "output_type": "display_data"
    },
    {
     "name": "stdout",
     "output_type": "stream",
     "text": [
      "Epoch 1/20\n",
      "368/368 [==============================] - 3s 6ms/step - loss: 0.2243 - mean_absolute_error: 0.3276 - val_loss: 0.1823 - val_mean_absolute_error: 0.2875\n",
      "Epoch 2/20\n",
      "368/368 [==============================] - 1s 4ms/step - loss: 0.2031 - mean_absolute_error: 0.3101 - val_loss: 0.1842 - val_mean_absolute_error: 0.2831\n",
      "Epoch 3/20\n",
      "368/368 [==============================] - 1s 4ms/step - loss: 0.2028 - mean_absolute_error: 0.3102 - val_loss: 0.1801 - val_mean_absolute_error: 0.2897\n",
      "Epoch 4/20\n",
      "368/368 [==============================] - 1s 4ms/step - loss: 0.2019 - mean_absolute_error: 0.3090 - val_loss: 0.1815 - val_mean_absolute_error: 0.2950\n",
      "Epoch 5/20\n",
      "368/368 [==============================] - 1s 4ms/step - loss: 0.2025 - mean_absolute_error: 0.3095 - val_loss: 0.1807 - val_mean_absolute_error: 0.2944\n",
      "***TRAIN***:\n",
      "correlation related to cluster centre: 0.90\n",
      "r2 score related to cluster centre: 0.80\n",
      "***VALIDATION***:\n",
      "correlation related to cluster centre: 0.91\n",
      "r2 score related to cluster centre: 0.82\n"
     ]
    },
    {
     "data": {
      "application/vnd.jupyter.widget-view+json": {
       "model_id": "76fab5167ce54349a7292e2ee387d07b",
       "version_major": 2,
       "version_minor": 0
      },
      "text/plain": [
       "IntProgress(value=0, max=6)"
      ]
     },
     "metadata": {},
     "output_type": "display_data"
    },
    {
     "name": "stdout",
     "output_type": "stream",
     "text": [
      "***VALIDATION***:\n",
      "average correlation: 0.91\n",
      "average r2: 0.82\n",
      "---do_investigations. cluster index : 26---\n"
     ]
    },
    {
     "data": {
      "application/vnd.jupyter.widget-view+json": {
       "model_id": "c106c63c7e084c5b9c6c103175f40396",
       "version_major": 2,
       "version_minor": 0
      },
      "text/plain": [
       "IntProgress(value=0, max=18)"
      ]
     },
     "metadata": {},
     "output_type": "display_data"
    },
    {
     "name": "stdout",
     "output_type": "stream",
     "text": [
      "Epoch 1/20\n",
      "368/368 [==============================] - 3s 4ms/step - loss: 0.2143 - mean_absolute_error: 0.3167 - val_loss: 0.1566 - val_mean_absolute_error: 0.2635\n",
      "Epoch 2/20\n",
      "368/368 [==============================] - 1s 4ms/step - loss: 0.1820 - mean_absolute_error: 0.2900 - val_loss: 0.1557 - val_mean_absolute_error: 0.2641\n",
      "Epoch 3/20\n",
      "368/368 [==============================] - 2s 4ms/step - loss: 0.1822 - mean_absolute_error: 0.2899 - val_loss: 0.1545 - val_mean_absolute_error: 0.2644\n",
      "Epoch 4/20\n",
      "368/368 [==============================] - 2s 4ms/step - loss: 0.1812 - mean_absolute_error: 0.2900 - val_loss: 0.1539 - val_mean_absolute_error: 0.2631\n",
      "Epoch 5/20\n",
      "368/368 [==============================] - 2s 4ms/step - loss: 0.1803 - mean_absolute_error: 0.2885 - val_loss: 0.1548 - val_mean_absolute_error: 0.2589\n",
      "Epoch 6/20\n",
      "368/368 [==============================] - 1s 4ms/step - loss: 0.1797 - mean_absolute_error: 0.2878 - val_loss: 0.1552 - val_mean_absolute_error: 0.2712\n",
      "***TRAIN***:\n",
      "correlation related to cluster centre: 0.91\n",
      "r2 score related to cluster centre: 0.82\n",
      "***VALIDATION***:\n",
      "correlation related to cluster centre: 0.91\n",
      "r2 score related to cluster centre: 0.83\n"
     ]
    },
    {
     "data": {
      "application/vnd.jupyter.widget-view+json": {
       "model_id": "86142262b35644dc9008ee6582ca005c",
       "version_major": 2,
       "version_minor": 0
      },
      "text/plain": [
       "IntProgress(value=0, max=18)"
      ]
     },
     "metadata": {},
     "output_type": "display_data"
    },
    {
     "name": "stdout",
     "output_type": "stream",
     "text": [
      "***VALIDATION***:\n",
      "average correlation: 0.91\n",
      "average r2: 0.83\n",
      "---do_investigations. cluster index : 27---\n"
     ]
    },
    {
     "data": {
      "application/vnd.jupyter.widget-view+json": {
       "model_id": "561ba8549f3a4eb6ac463db81d033be1",
       "version_major": 2,
       "version_minor": 0
      },
      "text/plain": [
       "IntProgress(value=0, max=50)"
      ]
     },
     "metadata": {},
     "output_type": "display_data"
    },
    {
     "name": "stdout",
     "output_type": "stream",
     "text": [
      "Epoch 1/20\n",
      "368/368 [==============================] - 3s 5ms/step - loss: 0.2064 - mean_absolute_error: 0.3156 - val_loss: 0.1483 - val_mean_absolute_error: 0.2684\n",
      "Epoch 2/20\n",
      "368/368 [==============================] - 1s 4ms/step - loss: 0.1848 - mean_absolute_error: 0.2972 - val_loss: 0.1462 - val_mean_absolute_error: 0.2700\n",
      "Epoch 3/20\n",
      "368/368 [==============================] - 2s 4ms/step - loss: 0.1829 - mean_absolute_error: 0.2948 - val_loss: 0.1472 - val_mean_absolute_error: 0.2655\n",
      "Epoch 4/20\n",
      "368/368 [==============================] - 2s 4ms/step - loss: 0.1834 - mean_absolute_error: 0.2962 - val_loss: 0.1473 - val_mean_absolute_error: 0.2714\n",
      "***TRAIN***:\n",
      "correlation related to cluster centre: 0.91\n",
      "r2 score related to cluster centre: 0.82\n",
      "***VALIDATION***:\n",
      "correlation related to cluster centre: 0.91\n",
      "r2 score related to cluster centre: 0.83\n"
     ]
    },
    {
     "data": {
      "application/vnd.jupyter.widget-view+json": {
       "model_id": "a56e4fd55a0e4020a58653efc081b2f1",
       "version_major": 2,
       "version_minor": 0
      },
      "text/plain": [
       "IntProgress(value=0, max=50)"
      ]
     },
     "metadata": {},
     "output_type": "display_data"
    },
    {
     "name": "stdout",
     "output_type": "stream",
     "text": [
      "***VALIDATION***:\n",
      "average correlation: 0.91\n",
      "average r2: 0.83\n",
      "---do_investigations. cluster index : 28---\n"
     ]
    },
    {
     "data": {
      "application/vnd.jupyter.widget-view+json": {
       "model_id": "358feb84010d42f7b18368fb3accff59",
       "version_major": 2,
       "version_minor": 0
      },
      "text/plain": [
       "IntProgress(value=0, max=34)"
      ]
     },
     "metadata": {},
     "output_type": "display_data"
    },
    {
     "name": "stdout",
     "output_type": "stream",
     "text": [
      "Epoch 1/20\n",
      "368/368 [==============================] - 3s 4ms/step - loss: 0.1674 - mean_absolute_error: 0.2598 - val_loss: 0.1415 - val_mean_absolute_error: 0.2023\n",
      "Epoch 2/20\n",
      "368/368 [==============================] - 1s 4ms/step - loss: 0.1396 - mean_absolute_error: 0.2351 - val_loss: 0.1393 - val_mean_absolute_error: 0.2040\n",
      "Epoch 3/20\n",
      "368/368 [==============================] - 1s 4ms/step - loss: 0.1390 - mean_absolute_error: 0.2350 - val_loss: 0.1443 - val_mean_absolute_error: 0.2157\n",
      "Epoch 4/20\n",
      "368/368 [==============================] - 1s 4ms/step - loss: 0.1385 - mean_absolute_error: 0.2338 - val_loss: 0.1413 - val_mean_absolute_error: 0.2012\n",
      "***TRAIN***:\n",
      "correlation related to cluster centre: 0.93\n",
      "r2 score related to cluster centre: 0.86\n",
      "***VALIDATION***:\n",
      "correlation related to cluster centre: 0.88\n",
      "r2 score related to cluster centre: 0.76\n"
     ]
    },
    {
     "data": {
      "application/vnd.jupyter.widget-view+json": {
       "model_id": "9ad0a41fa6204c958dbdabe5f36c8f0b",
       "version_major": 2,
       "version_minor": 0
      },
      "text/plain": [
       "IntProgress(value=0, max=34)"
      ]
     },
     "metadata": {},
     "output_type": "display_data"
    },
    {
     "name": "stdout",
     "output_type": "stream",
     "text": [
      "***VALIDATION***:\n",
      "average correlation: 0.88\n",
      "average r2: 0.76\n",
      "---do_investigations. cluster index : 29---\n"
     ]
    },
    {
     "data": {
      "application/vnd.jupyter.widget-view+json": {
       "model_id": "c32628ad93924fbcbbe7840efc35f347",
       "version_major": 2,
       "version_minor": 0
      },
      "text/plain": [
       "IntProgress(value=0, max=53)"
      ]
     },
     "metadata": {},
     "output_type": "display_data"
    },
    {
     "name": "stdout",
     "output_type": "stream",
     "text": [
      "Epoch 1/20\n",
      "368/368 [==============================] - 3s 5ms/step - loss: 0.2376 - mean_absolute_error: 0.3311 - val_loss: 0.1877 - val_mean_absolute_error: 0.2912\n",
      "Epoch 2/20\n",
      "368/368 [==============================] - 1s 4ms/step - loss: 0.1964 - mean_absolute_error: 0.3031 - val_loss: 0.1846 - val_mean_absolute_error: 0.2829\n",
      "Epoch 3/20\n",
      "368/368 [==============================] - 1s 4ms/step - loss: 0.1957 - mean_absolute_error: 0.3027 - val_loss: 0.1837 - val_mean_absolute_error: 0.2836\n",
      "Epoch 4/20\n",
      "368/368 [==============================] - 1s 4ms/step - loss: 0.1960 - mean_absolute_error: 0.3020 - val_loss: 0.1840 - val_mean_absolute_error: 0.2799\n",
      "Epoch 5/20\n",
      "368/368 [==============================] - 1s 4ms/step - loss: 0.1947 - mean_absolute_error: 0.3019 - val_loss: 0.1819 - val_mean_absolute_error: 0.2838\n",
      "Epoch 6/20\n",
      "368/368 [==============================] - 1s 4ms/step - loss: 0.1941 - mean_absolute_error: 0.3008 - val_loss: 0.1849 - val_mean_absolute_error: 0.2802\n",
      "Epoch 7/20\n",
      "368/368 [==============================] - 1s 4ms/step - loss: 0.1952 - mean_absolute_error: 0.3018 - val_loss: 0.1831 - val_mean_absolute_error: 0.2844\n",
      "***TRAIN***:\n",
      "correlation related to cluster centre: 0.90\n",
      "r2 score related to cluster centre: 0.81\n",
      "***VALIDATION***:\n",
      "correlation related to cluster centre: 0.91\n",
      "r2 score related to cluster centre: 0.83\n"
     ]
    },
    {
     "data": {
      "application/vnd.jupyter.widget-view+json": {
       "model_id": "a0655e51048f472888c389bcb74cc203",
       "version_major": 2,
       "version_minor": 0
      },
      "text/plain": [
       "IntProgress(value=0, max=53)"
      ]
     },
     "metadata": {},
     "output_type": "display_data"
    },
    {
     "name": "stdout",
     "output_type": "stream",
     "text": [
      "***VALIDATION***:\n",
      "average correlation: 0.91\n",
      "average r2: 0.82\n",
      "weighted_average_correlation: 0.89\n",
      "weighted_average_r2_score: 0.75\n",
      "bad clusters rate: 0.56%\n",
      "------------------------------------------------------\n"
     ]
    }
   ],
   "source": [
    "first_path = r\"C:\\Coding\\final-qualifying-work_2023-2024\\ClusteringCpp\\output\\cmeans 5 0.1 20.txt\"\n",
    "second_path = r\"C:\\Coding\\final-qualifying-work_2023-2024\\ClusteringCpp\\output\\cmeans 15 0.1 20.txt\"\n",
    "third_path = r\"C:\\Coding\\final-qualifying-work_2023-2024\\ClusteringCpp\\output\\cmeans 30 0.1 20.txt\"\n",
    "fourth_path = r\"C:\\Coding\\final-qualifying-work_2023-2024\\ClusteringCpp\\output\\cmeans 60 0.1 5.txt\"\n",
    "\n",
    "output_file = open(\"computational-experiments-output-cmeans.txt\", \"a\")\n",
    "\n",
    "selected_path = third_path\n",
    "\n",
    "print('------------------------------------------------------')\n",
    "output_file.write('------------------------------------------------------\\n')\n",
    "\n",
    "print(f\"rnn {os.path.split(selected_path)[-1]}\")\n",
    "output_file.write(f\"rnn {os.path.split(selected_path)[-1]}\\n\")\n",
    "show_results(rnn_model, get_clusters(selected_path), CONV_WIDTH)\n",
    "\n",
    "print('------------------------------------------------------')\n",
    "output_file.write('------------------------------------------------------\\n')\n",
    "\n",
    "output_file.close()"
   ]
  },
  {
   "cell_type": "code",
   "execution_count": 22,
   "id": "8ec35143-5089-4dfd-acfb-41c7f8cd7e97",
   "metadata": {},
   "outputs": [
    {
     "name": "stdout",
     "output_type": "stream",
     "text": [
      "------------------------------------------------------\n",
      "rnn cmeans 60 0.1 5.txt\n",
      "---do_investigations. cluster index : 0---\n"
     ]
    },
    {
     "data": {
      "application/vnd.jupyter.widget-view+json": {
       "model_id": "79040f4ef3134b37bf545aca166ba249",
       "version_major": 2,
       "version_minor": 0
      },
      "text/plain": [
       "IntProgress(value=0, max=2)"
      ]
     },
     "metadata": {},
     "output_type": "display_data"
    },
    {
     "name": "stdout",
     "output_type": "stream",
     "text": [
      "Epoch 1/20\n",
      "368/368 [==============================] - 3s 4ms/step - loss: 0.2243 - mean_absolute_error: 0.3197 - val_loss: 0.2346 - val_mean_absolute_error: 0.3096\n",
      "Epoch 2/20\n",
      "368/368 [==============================] - 1s 4ms/step - loss: 0.2010 - mean_absolute_error: 0.3007 - val_loss: 0.2334 - val_mean_absolute_error: 0.3121\n",
      "Epoch 3/20\n",
      "368/368 [==============================] - 1s 4ms/step - loss: 0.1995 - mean_absolute_error: 0.2990 - val_loss: 0.2316 - val_mean_absolute_error: 0.3147\n",
      "Epoch 4/20\n",
      "368/368 [==============================] - 1s 4ms/step - loss: 0.2022 - mean_absolute_error: 0.3012 - val_loss: 0.2255 - val_mean_absolute_error: 0.3100\n",
      "Epoch 5/20\n",
      "368/368 [==============================] - 1s 4ms/step - loss: 0.1980 - mean_absolute_error: 0.2982 - val_loss: 0.2372 - val_mean_absolute_error: 0.3117\n",
      "Epoch 6/20\n",
      "368/368 [==============================] - 1s 4ms/step - loss: 0.1986 - mean_absolute_error: 0.2981 - val_loss: 0.2187 - val_mean_absolute_error: 0.3043\n",
      "Epoch 7/20\n",
      "368/368 [==============================] - 1s 4ms/step - loss: 0.1979 - mean_absolute_error: 0.2984 - val_loss: 0.2239 - val_mean_absolute_error: 0.3060\n",
      "Epoch 8/20\n",
      "368/368 [==============================] - 1s 4ms/step - loss: 0.1985 - mean_absolute_error: 0.2988 - val_loss: 0.2198 - val_mean_absolute_error: 0.3057\n",
      "***TRAIN***:\n",
      "correlation related to cluster centre: 0.90\n",
      "r2 score related to cluster centre: 0.80\n",
      "***VALIDATION***:\n",
      "correlation related to cluster centre: 0.91\n",
      "r2 score related to cluster centre: 0.82\n"
     ]
    },
    {
     "data": {
      "application/vnd.jupyter.widget-view+json": {
       "model_id": "23eeef790e804cd9818af055b99205e4",
       "version_major": 2,
       "version_minor": 0
      },
      "text/plain": [
       "IntProgress(value=0, max=2)"
      ]
     },
     "metadata": {},
     "output_type": "display_data"
    },
    {
     "name": "stdout",
     "output_type": "stream",
     "text": [
      "***VALIDATION***:\n",
      "average correlation: 0.91\n",
      "average r2: 0.82\n",
      "---do_investigations. cluster index : 1---\n"
     ]
    },
    {
     "data": {
      "application/vnd.jupyter.widget-view+json": {
       "model_id": "c14e4d457cce41e59d777e125aff423f",
       "version_major": 2,
       "version_minor": 0
      },
      "text/plain": [
       "IntProgress(value=0, max=89)"
      ]
     },
     "metadata": {},
     "output_type": "display_data"
    },
    {
     "name": "stdout",
     "output_type": "stream",
     "text": [
      "Epoch 1/20\n",
      "368/368 [==============================] - 3s 4ms/step - loss: 0.2382 - mean_absolute_error: 0.2906 - val_loss: 0.2829 - val_mean_absolute_error: 0.2788\n",
      "Epoch 2/20\n",
      "368/368 [==============================] - 1s 4ms/step - loss: 0.2103 - mean_absolute_error: 0.2733 - val_loss: 0.2758 - val_mean_absolute_error: 0.2715\n",
      "Epoch 3/20\n",
      "368/368 [==============================] - 1s 4ms/step - loss: 0.2076 - mean_absolute_error: 0.2713 - val_loss: 0.2766 - val_mean_absolute_error: 0.3023\n",
      "Epoch 4/20\n",
      "368/368 [==============================] - 1s 4ms/step - loss: 0.2094 - mean_absolute_error: 0.2723 - val_loss: 0.2719 - val_mean_absolute_error: 0.2775\n",
      "Epoch 5/20\n",
      "368/368 [==============================] - 1s 4ms/step - loss: 0.2060 - mean_absolute_error: 0.2711 - val_loss: 0.2701 - val_mean_absolute_error: 0.2741\n",
      "Epoch 6/20\n",
      "368/368 [==============================] - 1s 4ms/step - loss: 0.2063 - mean_absolute_error: 0.2705 - val_loss: 0.2691 - val_mean_absolute_error: 0.2769\n",
      "Epoch 7/20\n",
      "368/368 [==============================] - 1s 4ms/step - loss: 0.2092 - mean_absolute_error: 0.2730 - val_loss: 0.2712 - val_mean_absolute_error: 0.2715\n",
      "Epoch 8/20\n",
      "368/368 [==============================] - 1s 4ms/step - loss: 0.2069 - mean_absolute_error: 0.2713 - val_loss: 0.2835 - val_mean_absolute_error: 0.2762\n",
      "***TRAIN***:\n",
      "correlation related to cluster centre: 0.89\n",
      "r2 score related to cluster centre: 0.79\n",
      "***VALIDATION***:\n",
      "correlation related to cluster centre: 0.89\n",
      "r2 score related to cluster centre: 0.79\n"
     ]
    },
    {
     "data": {
      "application/vnd.jupyter.widget-view+json": {
       "model_id": "cb46254e6f9c4721a58c2daa30028e87",
       "version_major": 2,
       "version_minor": 0
      },
      "text/plain": [
       "IntProgress(value=0, max=89)"
      ]
     },
     "metadata": {},
     "output_type": "display_data"
    },
    {
     "name": "stdout",
     "output_type": "stream",
     "text": [
      "***VALIDATION***:\n",
      "average correlation: 0.88\n",
      "average r2: 0.76\n",
      "---do_investigations. cluster index : 2---\n"
     ]
    },
    {
     "data": {
      "application/vnd.jupyter.widget-view+json": {
       "model_id": "50d42e3a9cff42acb0bc27f38a28fb12",
       "version_major": 2,
       "version_minor": 0
      },
      "text/plain": [
       "IntProgress(value=0, max=4)"
      ]
     },
     "metadata": {},
     "output_type": "display_data"
    },
    {
     "name": "stdout",
     "output_type": "stream",
     "text": [
      "Epoch 1/20\n",
      "368/368 [==============================] - 3s 5ms/step - loss: 0.2403 - mean_absolute_error: 0.3443 - val_loss: 0.1726 - val_mean_absolute_error: 0.2894\n",
      "Epoch 2/20\n",
      "368/368 [==============================] - 1s 4ms/step - loss: 0.2083 - mean_absolute_error: 0.3194 - val_loss: 0.1713 - val_mean_absolute_error: 0.2857\n",
      "Epoch 3/20\n",
      "368/368 [==============================] - 1s 4ms/step - loss: 0.2077 - mean_absolute_error: 0.3189 - val_loss: 0.1740 - val_mean_absolute_error: 0.2836\n",
      "Epoch 4/20\n",
      "368/368 [==============================] - 1s 4ms/step - loss: 0.2067 - mean_absolute_error: 0.3177 - val_loss: 0.1729 - val_mean_absolute_error: 0.2834\n",
      "***TRAIN***:\n",
      "correlation related to cluster centre: 0.89\n",
      "r2 score related to cluster centre: 0.79\n",
      "***VALIDATION***:\n",
      "correlation related to cluster centre: 0.91\n",
      "r2 score related to cluster centre: 0.82\n"
     ]
    },
    {
     "data": {
      "application/vnd.jupyter.widget-view+json": {
       "model_id": "5e2c902330b6414f8a3d15e61bcc84df",
       "version_major": 2,
       "version_minor": 0
      },
      "text/plain": [
       "IntProgress(value=0, max=4)"
      ]
     },
     "metadata": {},
     "output_type": "display_data"
    },
    {
     "name": "stdout",
     "output_type": "stream",
     "text": [
      "***VALIDATION***:\n",
      "average correlation: 0.90\n",
      "average r2: 0.81\n",
      "---do_investigations. cluster index : 3---\n"
     ]
    },
    {
     "data": {
      "application/vnd.jupyter.widget-view+json": {
       "model_id": "72c7a2616d134236864a0ceb8f842a2a",
       "version_major": 2,
       "version_minor": 0
      },
      "text/plain": [
       "IntProgress(value=0, max=95)"
      ]
     },
     "metadata": {},
     "output_type": "display_data"
    },
    {
     "name": "stdout",
     "output_type": "stream",
     "text": [
      "Epoch 1/20\n",
      "368/368 [==============================] - 3s 4ms/step - loss: 0.2392 - mean_absolute_error: 0.3540 - val_loss: 0.2482 - val_mean_absolute_error: 0.3622\n",
      "Epoch 2/20\n",
      "368/368 [==============================] - 1s 4ms/step - loss: 0.2198 - mean_absolute_error: 0.3355 - val_loss: 0.2475 - val_mean_absolute_error: 0.3605\n",
      "Epoch 3/20\n",
      "368/368 [==============================] - 1s 4ms/step - loss: 0.2192 - mean_absolute_error: 0.3349 - val_loss: 0.2463 - val_mean_absolute_error: 0.3603\n",
      "Epoch 4/20\n",
      "368/368 [==============================] - 1s 4ms/step - loss: 0.2188 - mean_absolute_error: 0.3344 - val_loss: 0.2463 - val_mean_absolute_error: 0.3618\n",
      "Epoch 5/20\n",
      "368/368 [==============================] - 1s 4ms/step - loss: 0.2181 - mean_absolute_error: 0.3338 - val_loss: 0.2468 - val_mean_absolute_error: 0.3620\n",
      "***TRAIN***:\n",
      "correlation related to cluster centre: 0.89\n",
      "r2 score related to cluster centre: 0.78\n",
      "***VALIDATION***:\n",
      "correlation related to cluster centre: 0.90\n",
      "r2 score related to cluster centre: 0.80\n"
     ]
    },
    {
     "data": {
      "application/vnd.jupyter.widget-view+json": {
       "model_id": "3f95ee9c17b447bc962c4b7711e742e7",
       "version_major": 2,
       "version_minor": 0
      },
      "text/plain": [
       "IntProgress(value=0, max=95)"
      ]
     },
     "metadata": {},
     "output_type": "display_data"
    },
    {
     "name": "stdout",
     "output_type": "stream",
     "text": [
      "***VALIDATION***:\n",
      "average correlation: 0.88\n",
      "average r2: 0.57\n",
      "---do_investigations. cluster index : 4---\n"
     ]
    },
    {
     "data": {
      "application/vnd.jupyter.widget-view+json": {
       "model_id": "4fef8aa4d06b4ca3922a6e0c27013ada",
       "version_major": 2,
       "version_minor": 0
      },
      "text/plain": [
       "IntProgress(value=0, max=5)"
      ]
     },
     "metadata": {},
     "output_type": "display_data"
    },
    {
     "name": "stdout",
     "output_type": "stream",
     "text": [
      "Epoch 1/20\n",
      "368/368 [==============================] - 3s 4ms/step - loss: 0.2340 - mean_absolute_error: 0.3474 - val_loss: 0.1878 - val_mean_absolute_error: 0.3062\n",
      "Epoch 2/20\n",
      "368/368 [==============================] - 1s 4ms/step - loss: 0.2119 - mean_absolute_error: 0.3260 - val_loss: 0.1855 - val_mean_absolute_error: 0.3157\n",
      "Epoch 3/20\n",
      "368/368 [==============================] - 1s 4ms/step - loss: 0.2113 - mean_absolute_error: 0.3250 - val_loss: 0.1808 - val_mean_absolute_error: 0.3014\n",
      "Epoch 4/20\n",
      "368/368 [==============================] - 1s 3ms/step - loss: 0.2108 - mean_absolute_error: 0.3252 - val_loss: 0.1834 - val_mean_absolute_error: 0.3128\n",
      "Epoch 5/20\n",
      "368/368 [==============================] - 1s 4ms/step - loss: 0.2098 - mean_absolute_error: 0.3237 - val_loss: 0.1838 - val_mean_absolute_error: 0.3106\n",
      "***TRAIN***:\n",
      "correlation related to cluster centre: 0.89\n",
      "r2 score related to cluster centre: 0.79\n",
      "***VALIDATION***:\n",
      "correlation related to cluster centre: 0.91\n",
      "r2 score related to cluster centre: 0.82\n"
     ]
    },
    {
     "data": {
      "application/vnd.jupyter.widget-view+json": {
       "model_id": "21a21480dbc048f4bc41883823135d01",
       "version_major": 2,
       "version_minor": 0
      },
      "text/plain": [
       "IntProgress(value=0, max=5)"
      ]
     },
     "metadata": {},
     "output_type": "display_data"
    },
    {
     "name": "stdout",
     "output_type": "stream",
     "text": [
      "***VALIDATION***:\n",
      "average correlation: 0.90\n",
      "average r2: 0.81\n",
      "---do_investigations. cluster index : 5---\n"
     ]
    },
    {
     "data": {
      "application/vnd.jupyter.widget-view+json": {
       "model_id": "fb280ccd2e094fe1bbf6111a3f6556c0",
       "version_major": 2,
       "version_minor": 0
      },
      "text/plain": [
       "IntProgress(value=0, max=4404)"
      ]
     },
     "metadata": {},
     "output_type": "display_data"
    },
    {
     "name": "stdout",
     "output_type": "stream",
     "text": [
      "Epoch 1/20\n",
      "368/368 [==============================] - 3s 5ms/step - loss: 0.1421 - mean_absolute_error: 0.2316 - val_loss: 0.1615 - val_mean_absolute_error: 0.2333\n",
      "Epoch 2/20\n",
      "368/368 [==============================] - 1s 4ms/step - loss: 0.1209 - mean_absolute_error: 0.2109 - val_loss: 0.1524 - val_mean_absolute_error: 0.2200\n",
      "Epoch 3/20\n",
      "368/368 [==============================] - 1s 4ms/step - loss: 0.1211 - mean_absolute_error: 0.2130 - val_loss: 0.1514 - val_mean_absolute_error: 0.2137\n",
      "Epoch 4/20\n",
      "368/368 [==============================] - 1s 4ms/step - loss: 0.1199 - mean_absolute_error: 0.2104 - val_loss: 0.1495 - val_mean_absolute_error: 0.2121\n",
      "Epoch 5/20\n",
      "368/368 [==============================] - 1s 4ms/step - loss: 0.1192 - mean_absolute_error: 0.2086 - val_loss: 0.1506 - val_mean_absolute_error: 0.2140\n",
      "Epoch 6/20\n",
      "368/368 [==============================] - 1s 4ms/step - loss: 0.1191 - mean_absolute_error: 0.2098 - val_loss: 0.1515 - val_mean_absolute_error: 0.2165\n",
      "***TRAIN***:\n",
      "correlation related to cluster centre: 0.94\n",
      "r2 score related to cluster centre: 0.88\n",
      "***VALIDATION***:\n",
      "correlation related to cluster centre: 0.91\n",
      "r2 score related to cluster centre: 0.80\n"
     ]
    },
    {
     "data": {
      "application/vnd.jupyter.widget-view+json": {
       "model_id": "afa79605ea584ee2b7dc9aae62c05023",
       "version_major": 2,
       "version_minor": 0
      },
      "text/plain": [
       "IntProgress(value=0, max=4404)"
      ]
     },
     "metadata": {},
     "output_type": "display_data"
    },
    {
     "name": "stdout",
     "output_type": "stream",
     "text": [
      "***VALIDATION***:\n",
      "average correlation: nan\n",
      "average r2: -1542959941844736697346031616.00\n",
      "---do_investigations. cluster index : 6---\n"
     ]
    },
    {
     "data": {
      "application/vnd.jupyter.widget-view+json": {
       "model_id": "e3febac8f8434b7a9dba56bb5ac5bf10",
       "version_major": 2,
       "version_minor": 0
      },
      "text/plain": [
       "IntProgress(value=0, max=17)"
      ]
     },
     "metadata": {},
     "output_type": "display_data"
    },
    {
     "name": "stdout",
     "output_type": "stream",
     "text": [
      "Epoch 1/20\n",
      "368/368 [==============================] - 3s 4ms/step - loss: 0.2416 - mean_absolute_error: 0.3455 - val_loss: 0.1904 - val_mean_absolute_error: 0.3072\n",
      "Epoch 2/20\n",
      "368/368 [==============================] - 1s 4ms/step - loss: 0.2109 - mean_absolute_error: 0.3219 - val_loss: 0.1864 - val_mean_absolute_error: 0.2999\n",
      "Epoch 3/20\n",
      "368/368 [==============================] - 1s 4ms/step - loss: 0.2101 - mean_absolute_error: 0.3212 - val_loss: 0.1867 - val_mean_absolute_error: 0.3052\n",
      "Epoch 4/20\n",
      "368/368 [==============================] - 1s 4ms/step - loss: 0.2093 - mean_absolute_error: 0.3206 - val_loss: 0.1859 - val_mean_absolute_error: 0.3086\n",
      "Epoch 5/20\n",
      "368/368 [==============================] - 1s 4ms/step - loss: 0.2092 - mean_absolute_error: 0.3199 - val_loss: 0.1930 - val_mean_absolute_error: 0.3141\n",
      "Epoch 6/20\n",
      "368/368 [==============================] - 1s 4ms/step - loss: 0.2082 - mean_absolute_error: 0.3195 - val_loss: 0.1840 - val_mean_absolute_error: 0.2959\n",
      "Epoch 7/20\n",
      "368/368 [==============================] - 1s 4ms/step - loss: 0.2078 - mean_absolute_error: 0.3185 - val_loss: 0.1839 - val_mean_absolute_error: 0.2998\n",
      "Epoch 8/20\n",
      "368/368 [==============================] - 1s 4ms/step - loss: 0.2083 - mean_absolute_error: 0.3190 - val_loss: 0.1856 - val_mean_absolute_error: 0.3018\n",
      "Epoch 9/20\n",
      "368/368 [==============================] - 1s 4ms/step - loss: 0.2078 - mean_absolute_error: 0.3175 - val_loss: 0.1842 - val_mean_absolute_error: 0.3040\n",
      "***TRAIN***:\n",
      "correlation related to cluster centre: 0.89\n",
      "r2 score related to cluster centre: 0.79\n",
      "***VALIDATION***:\n",
      "correlation related to cluster centre: 0.90\n",
      "r2 score related to cluster centre: 0.82\n"
     ]
    },
    {
     "data": {
      "application/vnd.jupyter.widget-view+json": {
       "model_id": "18497276ef964c038e76e3f57b552617",
       "version_major": 2,
       "version_minor": 0
      },
      "text/plain": [
       "IntProgress(value=0, max=17)"
      ]
     },
     "metadata": {},
     "output_type": "display_data"
    },
    {
     "name": "stdout",
     "output_type": "stream",
     "text": [
      "***VALIDATION***:\n",
      "average correlation: 0.90\n",
      "average r2: 0.80\n",
      "---do_investigations. cluster index : 7---\n"
     ]
    },
    {
     "data": {
      "application/vnd.jupyter.widget-view+json": {
       "model_id": "0424e3cf2d61439fa7176a0a0781ff65",
       "version_major": 2,
       "version_minor": 0
      },
      "text/plain": [
       "IntProgress(value=0, max=131)"
      ]
     },
     "metadata": {},
     "output_type": "display_data"
    },
    {
     "name": "stdout",
     "output_type": "stream",
     "text": [
      "Epoch 1/20\n",
      "368/368 [==============================] - 3s 4ms/step - loss: 0.2209 - mean_absolute_error: 0.3103 - val_loss: 0.1463 - val_mean_absolute_error: 0.2480\n",
      "Epoch 2/20\n",
      "368/368 [==============================] - 1s 4ms/step - loss: 0.1888 - mean_absolute_error: 0.2863 - val_loss: 0.1425 - val_mean_absolute_error: 0.2447\n",
      "Epoch 3/20\n",
      "368/368 [==============================] - 1s 4ms/step - loss: 0.1878 - mean_absolute_error: 0.2848 - val_loss: 0.1615 - val_mean_absolute_error: 0.2627\n",
      "Epoch 4/20\n",
      "368/368 [==============================] - 2s 4ms/step - loss: 0.1868 - mean_absolute_error: 0.2842 - val_loss: 0.1438 - val_mean_absolute_error: 0.2466\n",
      "***TRAIN***:\n",
      "correlation related to cluster centre: 0.90\n",
      "r2 score related to cluster centre: 0.82\n",
      "***VALIDATION***:\n",
      "correlation related to cluster centre: 0.91\n",
      "r2 score related to cluster centre: 0.83\n"
     ]
    },
    {
     "data": {
      "application/vnd.jupyter.widget-view+json": {
       "model_id": "c9ea5cbb2fa24810b8ce79771112af46",
       "version_major": 2,
       "version_minor": 0
      },
      "text/plain": [
       "IntProgress(value=0, max=131)"
      ]
     },
     "metadata": {},
     "output_type": "display_data"
    },
    {
     "name": "stdout",
     "output_type": "stream",
     "text": [
      "***VALIDATION***:\n",
      "average correlation: 0.91\n",
      "average r2: 0.75\n",
      "---do_investigations. cluster index : 8---\n"
     ]
    },
    {
     "data": {
      "application/vnd.jupyter.widget-view+json": {
       "model_id": "48ff2d5849b647d0a299070d6a0442b7",
       "version_major": 2,
       "version_minor": 0
      },
      "text/plain": [
       "IntProgress(value=0, max=67)"
      ]
     },
     "metadata": {},
     "output_type": "display_data"
    },
    {
     "name": "stdout",
     "output_type": "stream",
     "text": [
      "Epoch 1/20\n",
      "368/368 [==============================] - 3s 4ms/step - loss: 0.2309 - mean_absolute_error: 0.3101 - val_loss: 0.2018 - val_mean_absolute_error: 0.2928\n",
      "Epoch 2/20\n",
      "368/368 [==============================] - 1s 4ms/step - loss: 0.2107 - mean_absolute_error: 0.2929 - val_loss: 0.2035 - val_mean_absolute_error: 0.2992\n",
      "Epoch 3/20\n",
      "368/368 [==============================] - 1s 4ms/step - loss: 0.2099 - mean_absolute_error: 0.2928 - val_loss: 0.1933 - val_mean_absolute_error: 0.2917\n",
      "Epoch 4/20\n",
      "368/368 [==============================] - 1s 4ms/step - loss: 0.2075 - mean_absolute_error: 0.2911 - val_loss: 0.1954 - val_mean_absolute_error: 0.2983\n",
      "Epoch 5/20\n",
      "368/368 [==============================] - 1s 4ms/step - loss: 0.2082 - mean_absolute_error: 0.2912 - val_loss: 0.1890 - val_mean_absolute_error: 0.2830\n",
      "Epoch 6/20\n",
      "368/368 [==============================] - 1s 4ms/step - loss: 0.2076 - mean_absolute_error: 0.2904 - val_loss: 0.1911 - val_mean_absolute_error: 0.2882\n",
      "Epoch 7/20\n",
      "368/368 [==============================] - 1s 4ms/step - loss: 0.2059 - mean_absolute_error: 0.2888 - val_loss: 0.1935 - val_mean_absolute_error: 0.3076\n",
      "***TRAIN***:\n",
      "correlation related to cluster centre: 0.89\n",
      "r2 score related to cluster centre: 0.79\n",
      "***VALIDATION***:\n",
      "correlation related to cluster centre: 0.90\n",
      "r2 score related to cluster centre: 0.81\n"
     ]
    },
    {
     "data": {
      "application/vnd.jupyter.widget-view+json": {
       "model_id": "87d7da4186464f6a8ababf787f7b95b5",
       "version_major": 2,
       "version_minor": 0
      },
      "text/plain": [
       "IntProgress(value=0, max=67)"
      ]
     },
     "metadata": {},
     "output_type": "display_data"
    },
    {
     "name": "stdout",
     "output_type": "stream",
     "text": [
      "***VALIDATION***:\n",
      "average correlation: 0.90\n",
      "average r2: 0.78\n",
      "---do_investigations. cluster index : 9---\n"
     ]
    },
    {
     "data": {
      "application/vnd.jupyter.widget-view+json": {
       "model_id": "9ef4e48a8ca34f6981862d52d2492c5c",
       "version_major": 2,
       "version_minor": 0
      },
      "text/plain": [
       "IntProgress(value=0, max=15)"
      ]
     },
     "metadata": {},
     "output_type": "display_data"
    },
    {
     "name": "stdout",
     "output_type": "stream",
     "text": [
      "Epoch 1/20\n",
      "368/368 [==============================] - 3s 5ms/step - loss: 0.2249 - mean_absolute_error: 0.3265 - val_loss: 0.2105 - val_mean_absolute_error: 0.3119\n",
      "Epoch 2/20\n",
      "368/368 [==============================] - 1s 4ms/step - loss: 0.2043 - mean_absolute_error: 0.3077 - val_loss: 0.1953 - val_mean_absolute_error: 0.2946\n",
      "Epoch 3/20\n",
      "368/368 [==============================] - 1s 4ms/step - loss: 0.2029 - mean_absolute_error: 0.3065 - val_loss: 0.1961 - val_mean_absolute_error: 0.2919\n",
      "Epoch 4/20\n",
      "368/368 [==============================] - 1s 4ms/step - loss: 0.2019 - mean_absolute_error: 0.3061 - val_loss: 0.1953 - val_mean_absolute_error: 0.2879\n",
      "Epoch 5/20\n",
      "368/368 [==============================] - 1s 4ms/step - loss: 0.2018 - mean_absolute_error: 0.3067 - val_loss: 0.1953 - val_mean_absolute_error: 0.2905\n",
      "Epoch 6/20\n",
      "368/368 [==============================] - 1s 4ms/step - loss: 0.2021 - mean_absolute_error: 0.3062 - val_loss: 0.1951 - val_mean_absolute_error: 0.2937\n",
      "Epoch 7/20\n",
      "368/368 [==============================] - 1s 4ms/step - loss: 0.2021 - mean_absolute_error: 0.3059 - val_loss: 0.1951 - val_mean_absolute_error: 0.2953\n",
      "Epoch 8/20\n",
      "368/368 [==============================] - 1s 4ms/step - loss: 0.2016 - mean_absolute_error: 0.3058 - val_loss: 0.1944 - val_mean_absolute_error: 0.2959\n",
      "Epoch 9/20\n",
      "368/368 [==============================] - 1s 4ms/step - loss: 0.2026 - mean_absolute_error: 0.3066 - val_loss: 0.1955 - val_mean_absolute_error: 0.3008\n",
      "Epoch 10/20\n",
      "368/368 [==============================] - 1s 4ms/step - loss: 0.2023 - mean_absolute_error: 0.3066 - val_loss: 0.1952 - val_mean_absolute_error: 0.2950\n",
      "***TRAIN***:\n",
      "correlation related to cluster centre: 0.90\n",
      "r2 score related to cluster centre: 0.80\n",
      "***VALIDATION***:\n",
      "correlation related to cluster centre: 0.91\n",
      "r2 score related to cluster centre: 0.82\n"
     ]
    },
    {
     "data": {
      "application/vnd.jupyter.widget-view+json": {
       "model_id": "d2245f5b2d1b4a9298d681d43645848e",
       "version_major": 2,
       "version_minor": 0
      },
      "text/plain": [
       "IntProgress(value=0, max=15)"
      ]
     },
     "metadata": {},
     "output_type": "display_data"
    },
    {
     "name": "stdout",
     "output_type": "stream",
     "text": [
      "***VALIDATION***:\n",
      "average correlation: 0.91\n",
      "average r2: 0.81\n",
      "---do_investigations. cluster index : 10---\n"
     ]
    },
    {
     "data": {
      "application/vnd.jupyter.widget-view+json": {
       "model_id": "98f03a716f5447dcb26ef8a79ad6495d",
       "version_major": 2,
       "version_minor": 0
      },
      "text/plain": [
       "IntProgress(value=0, max=32)"
      ]
     },
     "metadata": {},
     "output_type": "display_data"
    },
    {
     "name": "stdout",
     "output_type": "stream",
     "text": [
      "Epoch 1/20\n",
      "368/368 [==============================] - 3s 4ms/step - loss: 0.2402 - mean_absolute_error: 0.3479 - val_loss: 0.1965 - val_mean_absolute_error: 0.3180\n",
      "Epoch 2/20\n",
      "368/368 [==============================] - 1s 4ms/step - loss: 0.2107 - mean_absolute_error: 0.3233 - val_loss: 0.1960 - val_mean_absolute_error: 0.3189\n",
      "Epoch 3/20\n",
      "368/368 [==============================] - 1s 4ms/step - loss: 0.2122 - mean_absolute_error: 0.3254 - val_loss: 0.1966 - val_mean_absolute_error: 0.3107\n",
      "Epoch 4/20\n",
      "368/368 [==============================] - 1s 4ms/step - loss: 0.2093 - mean_absolute_error: 0.3217 - val_loss: 0.2015 - val_mean_absolute_error: 0.3329\n",
      "***TRAIN***:\n",
      "correlation related to cluster centre: 0.89\n",
      "r2 score related to cluster centre: 0.79\n",
      "***VALIDATION***:\n",
      "correlation related to cluster centre: 0.90\n",
      "r2 score related to cluster centre: 0.81\n"
     ]
    },
    {
     "data": {
      "application/vnd.jupyter.widget-view+json": {
       "model_id": "62ce1e03555443c7bf788250d9cc06a6",
       "version_major": 2,
       "version_minor": 0
      },
      "text/plain": [
       "IntProgress(value=0, max=32)"
      ]
     },
     "metadata": {},
     "output_type": "display_data"
    },
    {
     "name": "stdout",
     "output_type": "stream",
     "text": [
      "***VALIDATION***:\n",
      "average correlation: 0.90\n",
      "average r2: 0.77\n",
      "---do_investigations. cluster index : 11---\n"
     ]
    },
    {
     "data": {
      "application/vnd.jupyter.widget-view+json": {
       "model_id": "6904947833e847d0802b3b0cb8d74a07",
       "version_major": 2,
       "version_minor": 0
      },
      "text/plain": [
       "IntProgress(value=0, max=24)"
      ]
     },
     "metadata": {},
     "output_type": "display_data"
    },
    {
     "name": "stdout",
     "output_type": "stream",
     "text": [
      "Epoch 1/20\n",
      "368/368 [==============================] - 3s 4ms/step - loss: 0.2413 - mean_absolute_error: 0.2884 - val_loss: 0.2886 - val_mean_absolute_error: 0.2745\n",
      "Epoch 2/20\n",
      "368/368 [==============================] - 1s 4ms/step - loss: 0.2129 - mean_absolute_error: 0.2689 - val_loss: 0.2885 - val_mean_absolute_error: 0.2806\n",
      "Epoch 3/20\n",
      "368/368 [==============================] - 1s 4ms/step - loss: 0.2114 - mean_absolute_error: 0.2688 - val_loss: 0.2831 - val_mean_absolute_error: 0.2870\n",
      "Epoch 4/20\n",
      "368/368 [==============================] - 1s 4ms/step - loss: 0.2106 - mean_absolute_error: 0.2672 - val_loss: 0.2792 - val_mean_absolute_error: 0.2702\n",
      "Epoch 5/20\n",
      "368/368 [==============================] - 1s 4ms/step - loss: 0.2083 - mean_absolute_error: 0.2676 - val_loss: 0.2772 - val_mean_absolute_error: 0.2708\n",
      "Epoch 6/20\n",
      "368/368 [==============================] - 1s 4ms/step - loss: 0.2085 - mean_absolute_error: 0.2669 - val_loss: 0.2764 - val_mean_absolute_error: 0.2688\n",
      "Epoch 7/20\n",
      "368/368 [==============================] - 1s 4ms/step - loss: 0.2077 - mean_absolute_error: 0.2654 - val_loss: 0.2748 - val_mean_absolute_error: 0.2733\n",
      "Epoch 8/20\n",
      "368/368 [==============================] - 1s 4ms/step - loss: 0.2054 - mean_absolute_error: 0.2658 - val_loss: 0.2749 - val_mean_absolute_error: 0.2727\n",
      "Epoch 9/20\n",
      "368/368 [==============================] - 1s 4ms/step - loss: 0.2084 - mean_absolute_error: 0.2673 - val_loss: 0.2781 - val_mean_absolute_error: 0.2685\n",
      "***TRAIN***:\n",
      "correlation related to cluster centre: 0.89\n",
      "r2 score related to cluster centre: 0.80\n",
      "***VALIDATION***:\n",
      "correlation related to cluster centre: 0.90\n",
      "r2 score related to cluster centre: 0.79\n"
     ]
    },
    {
     "data": {
      "application/vnd.jupyter.widget-view+json": {
       "model_id": "e49f201e31a74ce99ba4f8d88db3179e",
       "version_major": 2,
       "version_minor": 0
      },
      "text/plain": [
       "IntProgress(value=0, max=24)"
      ]
     },
     "metadata": {},
     "output_type": "display_data"
    },
    {
     "name": "stdout",
     "output_type": "stream",
     "text": [
      "***VALIDATION***:\n",
      "average correlation: 0.89\n",
      "average r2: 0.77\n",
      "---do_investigations. cluster index : 12---\n"
     ]
    },
    {
     "data": {
      "application/vnd.jupyter.widget-view+json": {
       "model_id": "18fe0804b0a149e5b47382dc174ec4ce",
       "version_major": 2,
       "version_minor": 0
      },
      "text/plain": [
       "IntProgress(value=0, max=3)"
      ]
     },
     "metadata": {},
     "output_type": "display_data"
    },
    {
     "name": "stdout",
     "output_type": "stream",
     "text": [
      "Epoch 1/20\n",
      "368/368 [==============================] - 3s 4ms/step - loss: 0.2241 - mean_absolute_error: 0.3296 - val_loss: 0.1865 - val_mean_absolute_error: 0.2885\n",
      "Epoch 2/20\n",
      "368/368 [==============================] - 1s 4ms/step - loss: 0.2055 - mean_absolute_error: 0.3142 - val_loss: 0.1844 - val_mean_absolute_error: 0.2864\n",
      "Epoch 3/20\n",
      "368/368 [==============================] - 1s 4ms/step - loss: 0.2038 - mean_absolute_error: 0.3126 - val_loss: 0.1871 - val_mean_absolute_error: 0.3004\n",
      "Epoch 4/20\n",
      "368/368 [==============================] - 1s 4ms/step - loss: 0.2056 - mean_absolute_error: 0.3142 - val_loss: 0.1796 - val_mean_absolute_error: 0.2822\n",
      "Epoch 5/20\n",
      "368/368 [==============================] - 1s 4ms/step - loss: 0.2033 - mean_absolute_error: 0.3121 - val_loss: 0.1846 - val_mean_absolute_error: 0.2872\n",
      "Epoch 6/20\n",
      "368/368 [==============================] - 1s 4ms/step - loss: 0.2041 - mean_absolute_error: 0.3128 - val_loss: 0.1798 - val_mean_absolute_error: 0.2818\n",
      "***TRAIN***:\n",
      "correlation related to cluster centre: 0.89\n",
      "r2 score related to cluster centre: 0.80\n",
      "***VALIDATION***:\n",
      "correlation related to cluster centre: 0.91\n",
      "r2 score related to cluster centre: 0.83\n"
     ]
    },
    {
     "data": {
      "application/vnd.jupyter.widget-view+json": {
       "model_id": "23bf077c076b44f6ab0cd241326c8c16",
       "version_major": 2,
       "version_minor": 0
      },
      "text/plain": [
       "IntProgress(value=0, max=3)"
      ]
     },
     "metadata": {},
     "output_type": "display_data"
    },
    {
     "name": "stdout",
     "output_type": "stream",
     "text": [
      "***VALIDATION***:\n",
      "average correlation: 0.90\n",
      "average r2: 0.81\n",
      "---do_investigations. cluster index : 13---\n"
     ]
    },
    {
     "data": {
      "application/vnd.jupyter.widget-view+json": {
       "model_id": "73ce4c3f38b24ac088e6fa6513d9546f",
       "version_major": 2,
       "version_minor": 0
      },
      "text/plain": [
       "IntProgress(value=0, max=384)"
      ]
     },
     "metadata": {},
     "output_type": "display_data"
    },
    {
     "name": "stdout",
     "output_type": "stream",
     "text": [
      "Epoch 1/20\n",
      "368/368 [==============================] - 3s 5ms/step - loss: 0.2501 - mean_absolute_error: 0.3151 - val_loss: 0.2443 - val_mean_absolute_error: 0.3066\n",
      "Epoch 2/20\n",
      "368/368 [==============================] - 1s 4ms/step - loss: 0.2100 - mean_absolute_error: 0.2909 - val_loss: 0.2364 - val_mean_absolute_error: 0.3025\n",
      "Epoch 3/20\n",
      "368/368 [==============================] - 1s 4ms/step - loss: 0.2086 - mean_absolute_error: 0.2899 - val_loss: 0.2349 - val_mean_absolute_error: 0.2960\n",
      "Epoch 4/20\n",
      "368/368 [==============================] - 1s 4ms/step - loss: 0.2071 - mean_absolute_error: 0.2875 - val_loss: 0.2347 - val_mean_absolute_error: 0.3001\n",
      "Epoch 5/20\n",
      "368/368 [==============================] - 1s 4ms/step - loss: 0.2064 - mean_absolute_error: 0.2864 - val_loss: 0.2332 - val_mean_absolute_error: 0.2867\n",
      "Epoch 6/20\n",
      "368/368 [==============================] - 1s 4ms/step - loss: 0.2074 - mean_absolute_error: 0.2872 - val_loss: 0.2346 - val_mean_absolute_error: 0.2911\n",
      "Epoch 7/20\n",
      "368/368 [==============================] - 1s 4ms/step - loss: 0.2052 - mean_absolute_error: 0.2857 - val_loss: 0.2348 - val_mean_absolute_error: 0.2962\n",
      "***TRAIN***:\n",
      "correlation related to cluster centre: 0.89\n",
      "r2 score related to cluster centre: 0.79\n",
      "***VALIDATION***:\n",
      "correlation related to cluster centre: 0.90\n",
      "r2 score related to cluster centre: 0.81\n"
     ]
    },
    {
     "data": {
      "application/vnd.jupyter.widget-view+json": {
       "model_id": "7e473155d9d54f5cb6d752397e07c761",
       "version_major": 2,
       "version_minor": 0
      },
      "text/plain": [
       "IntProgress(value=0, max=384)"
      ]
     },
     "metadata": {},
     "output_type": "display_data"
    },
    {
     "name": "stdout",
     "output_type": "stream",
     "text": [
      "***VALIDATION***:\n",
      "average correlation: 0.88\n",
      "average r2: 0.73\n",
      "---do_investigations. cluster index : 14---\n"
     ]
    },
    {
     "data": {
      "application/vnd.jupyter.widget-view+json": {
       "model_id": "8bb417fbd4f2427ead89a2eef0c344d3",
       "version_major": 2,
       "version_minor": 0
      },
      "text/plain": [
       "IntProgress(value=0, max=166)"
      ]
     },
     "metadata": {},
     "output_type": "display_data"
    },
    {
     "name": "stdout",
     "output_type": "stream",
     "text": [
      "Epoch 1/20\n",
      "368/368 [==============================] - 3s 4ms/step - loss: 0.2323 - mean_absolute_error: 0.3019 - val_loss: 0.2250 - val_mean_absolute_error: 0.2817\n",
      "Epoch 2/20\n",
      "368/368 [==============================] - 1s 4ms/step - loss: 0.2087 - mean_absolute_error: 0.2846 - val_loss: 0.2402 - val_mean_absolute_error: 0.3053\n",
      "Epoch 3/20\n",
      "368/368 [==============================] - 1s 4ms/step - loss: 0.2075 - mean_absolute_error: 0.2836 - val_loss: 0.2294 - val_mean_absolute_error: 0.3037\n",
      "***TRAIN***:\n",
      "correlation related to cluster centre: 0.89\n",
      "r2 score related to cluster centre: 0.79\n",
      "***VALIDATION***:\n",
      "correlation related to cluster centre: 0.90\n",
      "r2 score related to cluster centre: 0.80\n"
     ]
    },
    {
     "data": {
      "application/vnd.jupyter.widget-view+json": {
       "model_id": "cb607f49d7d94116b9b7d4d70941413e",
       "version_major": 2,
       "version_minor": 0
      },
      "text/plain": [
       "IntProgress(value=0, max=166)"
      ]
     },
     "metadata": {},
     "output_type": "display_data"
    },
    {
     "name": "stdout",
     "output_type": "stream",
     "text": [
      "***VALIDATION***:\n",
      "average correlation: 0.90\n",
      "average r2: 0.78\n",
      "---do_investigations. cluster index : 15---\n"
     ]
    },
    {
     "data": {
      "application/vnd.jupyter.widget-view+json": {
       "model_id": "5be58b7c0e044a46893e10be0a379266",
       "version_major": 2,
       "version_minor": 0
      },
      "text/plain": [
       "IntProgress(value=0, max=36)"
      ]
     },
     "metadata": {},
     "output_type": "display_data"
    },
    {
     "name": "stdout",
     "output_type": "stream",
     "text": [
      "Epoch 1/20\n",
      "368/368 [==============================] - 3s 4ms/step - loss: 0.2326 - mean_absolute_error: 0.3404 - val_loss: 0.1887 - val_mean_absolute_error: 0.3004\n",
      "Epoch 2/20\n",
      "368/368 [==============================] - 1s 4ms/step - loss: 0.2015 - mean_absolute_error: 0.3126 - val_loss: 0.1901 - val_mean_absolute_error: 0.3000\n",
      "Epoch 3/20\n",
      "368/368 [==============================] - 1s 4ms/step - loss: 0.2023 - mean_absolute_error: 0.3123 - val_loss: 0.1854 - val_mean_absolute_error: 0.2898\n",
      "Epoch 4/20\n",
      "368/368 [==============================] - 1s 4ms/step - loss: 0.2003 - mean_absolute_error: 0.3109 - val_loss: 0.1854 - val_mean_absolute_error: 0.2963\n",
      "Epoch 5/20\n",
      "368/368 [==============================] - 1s 4ms/step - loss: 0.2009 - mean_absolute_error: 0.3112 - val_loss: 0.1855 - val_mean_absolute_error: 0.2916\n",
      "Epoch 6/20\n",
      "368/368 [==============================] - 1s 4ms/step - loss: 0.2009 - mean_absolute_error: 0.3114 - val_loss: 0.1857 - val_mean_absolute_error: 0.2919\n",
      "***TRAIN***:\n",
      "correlation related to cluster centre: 0.90\n",
      "r2 score related to cluster centre: 0.80\n",
      "***VALIDATION***:\n",
      "correlation related to cluster centre: 0.91\n",
      "r2 score related to cluster centre: 0.82\n"
     ]
    },
    {
     "data": {
      "application/vnd.jupyter.widget-view+json": {
       "model_id": "b23d2d4af8a845838471d669350be8d6",
       "version_major": 2,
       "version_minor": 0
      },
      "text/plain": [
       "IntProgress(value=0, max=36)"
      ]
     },
     "metadata": {},
     "output_type": "display_data"
    },
    {
     "name": "stdout",
     "output_type": "stream",
     "text": [
      "***VALIDATION***:\n",
      "average correlation: 0.91\n",
      "average r2: 0.82\n",
      "---do_investigations. cluster index : 16---\n"
     ]
    },
    {
     "data": {
      "application/vnd.jupyter.widget-view+json": {
       "model_id": "ddcc695435284987a7c4d3951b29b766",
       "version_major": 2,
       "version_minor": 0
      },
      "text/plain": [
       "IntProgress(value=0, max=6)"
      ]
     },
     "metadata": {},
     "output_type": "display_data"
    },
    {
     "name": "stdout",
     "output_type": "stream",
     "text": [
      "Epoch 1/20\n",
      "368/368 [==============================] - 3s 4ms/step - loss: 0.2521 - mean_absolute_error: 0.3578 - val_loss: 0.2126 - val_mean_absolute_error: 0.3236\n",
      "Epoch 2/20\n",
      "368/368 [==============================] - 1s 4ms/step - loss: 0.2147 - mean_absolute_error: 0.3262 - val_loss: 0.2180 - val_mean_absolute_error: 0.3455\n",
      "Epoch 3/20\n",
      "368/368 [==============================] - 1s 4ms/step - loss: 0.2136 - mean_absolute_error: 0.3256 - val_loss: 0.2120 - val_mean_absolute_error: 0.3258\n",
      "Epoch 4/20\n",
      "368/368 [==============================] - 1s 4ms/step - loss: 0.2132 - mean_absolute_error: 0.3245 - val_loss: 0.2133 - val_mean_absolute_error: 0.3340\n",
      "Epoch 5/20\n",
      "368/368 [==============================] - 1s 4ms/step - loss: 0.2126 - mean_absolute_error: 0.3246 - val_loss: 0.2116 - val_mean_absolute_error: 0.3295\n",
      "Epoch 6/20\n",
      "368/368 [==============================] - 1s 4ms/step - loss: 0.2135 - mean_absolute_error: 0.3256 - val_loss: 0.2122 - val_mean_absolute_error: 0.3328\n",
      "Epoch 7/20\n",
      "368/368 [==============================] - 1s 4ms/step - loss: 0.2118 - mean_absolute_error: 0.3235 - val_loss: 0.2127 - val_mean_absolute_error: 0.3284\n",
      "***TRAIN***:\n",
      "correlation related to cluster centre: 0.89\n",
      "r2 score related to cluster centre: 0.79\n",
      "***VALIDATION***:\n",
      "correlation related to cluster centre: 0.90\n",
      "r2 score related to cluster centre: 0.81\n"
     ]
    },
    {
     "data": {
      "application/vnd.jupyter.widget-view+json": {
       "model_id": "cea32a0470ce40f580376758fcabfd02",
       "version_major": 2,
       "version_minor": 0
      },
      "text/plain": [
       "IntProgress(value=0, max=6)"
      ]
     },
     "metadata": {},
     "output_type": "display_data"
    },
    {
     "name": "stdout",
     "output_type": "stream",
     "text": [
      "***VALIDATION***:\n",
      "average correlation: 0.90\n",
      "average r2: 0.81\n",
      "---do_investigations. cluster index : 17---\n"
     ]
    },
    {
     "data": {
      "application/vnd.jupyter.widget-view+json": {
       "model_id": "a8b3dc5dfeef43338b1c347a4662f6c7",
       "version_major": 2,
       "version_minor": 0
      },
      "text/plain": [
       "IntProgress(value=0, max=5)"
      ]
     },
     "metadata": {},
     "output_type": "display_data"
    },
    {
     "name": "stdout",
     "output_type": "stream",
     "text": [
      "Epoch 1/20\n",
      "368/368 [==============================] - 3s 4ms/step - loss: 0.2352 - mean_absolute_error: 0.3361 - val_loss: 0.1979 - val_mean_absolute_error: 0.3042\n",
      "Epoch 2/20\n",
      "368/368 [==============================] - 1s 4ms/step - loss: 0.2076 - mean_absolute_error: 0.3156 - val_loss: 0.1968 - val_mean_absolute_error: 0.2951\n",
      "Epoch 3/20\n",
      "368/368 [==============================] - 1s 4ms/step - loss: 0.2058 - mean_absolute_error: 0.3135 - val_loss: 0.2014 - val_mean_absolute_error: 0.3067\n",
      "Epoch 4/20\n",
      "368/368 [==============================] - 1s 4ms/step - loss: 0.2060 - mean_absolute_error: 0.3139 - val_loss: 0.1950 - val_mean_absolute_error: 0.3010\n",
      "Epoch 5/20\n",
      "368/368 [==============================] - 1s 4ms/step - loss: 0.2066 - mean_absolute_error: 0.3149 - val_loss: 0.1996 - val_mean_absolute_error: 0.3032\n",
      "Epoch 6/20\n",
      "368/368 [==============================] - 1s 4ms/step - loss: 0.2054 - mean_absolute_error: 0.3133 - val_loss: 0.1975 - val_mean_absolute_error: 0.2993\n",
      "***TRAIN***:\n",
      "correlation related to cluster centre: 0.89\n",
      "r2 score related to cluster centre: 0.80\n",
      "***VALIDATION***:\n",
      "correlation related to cluster centre: 0.91\n",
      "r2 score related to cluster centre: 0.82\n"
     ]
    },
    {
     "data": {
      "application/vnd.jupyter.widget-view+json": {
       "model_id": "a8fc53fc6bbc4e24bb7c42276a4466b7",
       "version_major": 2,
       "version_minor": 0
      },
      "text/plain": [
       "IntProgress(value=0, max=5)"
      ]
     },
     "metadata": {},
     "output_type": "display_data"
    },
    {
     "name": "stdout",
     "output_type": "stream",
     "text": [
      "***VALIDATION***:\n",
      "average correlation: 0.90\n",
      "average r2: 0.81\n",
      "---do_investigations. cluster index : 18---\n"
     ]
    },
    {
     "data": {
      "application/vnd.jupyter.widget-view+json": {
       "model_id": "97ff746c2ca2420c94f888d84b396adb",
       "version_major": 2,
       "version_minor": 0
      },
      "text/plain": [
       "IntProgress(value=0, max=13)"
      ]
     },
     "metadata": {},
     "output_type": "display_data"
    },
    {
     "name": "stdout",
     "output_type": "stream",
     "text": [
      "Epoch 1/20\n",
      "368/368 [==============================] - 3s 4ms/step - loss: 0.2405 - mean_absolute_error: 0.3440 - val_loss: 0.2275 - val_mean_absolute_error: 0.3288\n",
      "Epoch 2/20\n",
      "368/368 [==============================] - 1s 4ms/step - loss: 0.2104 - mean_absolute_error: 0.3205 - val_loss: 0.2286 - val_mean_absolute_error: 0.3315\n",
      "Epoch 3/20\n",
      "368/368 [==============================] - 1s 4ms/step - loss: 0.2098 - mean_absolute_error: 0.3195 - val_loss: 0.2249 - val_mean_absolute_error: 0.3283\n",
      "Epoch 4/20\n",
      "368/368 [==============================] - 1s 4ms/step - loss: 0.2102 - mean_absolute_error: 0.3201 - val_loss: 0.2295 - val_mean_absolute_error: 0.3357\n",
      "Epoch 5/20\n",
      "368/368 [==============================] - 1s 4ms/step - loss: 0.2091 - mean_absolute_error: 0.3191 - val_loss: 0.2249 - val_mean_absolute_error: 0.3306\n",
      "Epoch 6/20\n",
      "368/368 [==============================] - 1s 4ms/step - loss: 0.2079 - mean_absolute_error: 0.3180 - val_loss: 0.2275 - val_mean_absolute_error: 0.3361\n",
      "Epoch 7/20\n",
      "368/368 [==============================] - 1s 4ms/step - loss: 0.2075 - mean_absolute_error: 0.3177 - val_loss: 0.2423 - val_mean_absolute_error: 0.3519\n",
      "***TRAIN***:\n",
      "correlation related to cluster centre: 0.89\n",
      "r2 score related to cluster centre: 0.79\n",
      "***VALIDATION***:\n",
      "correlation related to cluster centre: 0.90\n",
      "r2 score related to cluster centre: 0.80\n"
     ]
    },
    {
     "data": {
      "application/vnd.jupyter.widget-view+json": {
       "model_id": "f6cb56a1a2d64e5fa065f58ba3d65a89",
       "version_major": 2,
       "version_minor": 0
      },
      "text/plain": [
       "IntProgress(value=0, max=13)"
      ]
     },
     "metadata": {},
     "output_type": "display_data"
    },
    {
     "name": "stdout",
     "output_type": "stream",
     "text": [
      "***VALIDATION***:\n",
      "average correlation: 0.90\n",
      "average r2: 0.77\n",
      "---do_investigations. cluster index : 19---\n"
     ]
    },
    {
     "data": {
      "application/vnd.jupyter.widget-view+json": {
       "model_id": "95c80db1730b42d68706f4705081ea3f",
       "version_major": 2,
       "version_minor": 0
      },
      "text/plain": [
       "IntProgress(value=0, max=5)"
      ]
     },
     "metadata": {},
     "output_type": "display_data"
    },
    {
     "name": "stdout",
     "output_type": "stream",
     "text": [
      "Epoch 1/20\n",
      "368/368 [==============================] - 3s 4ms/step - loss: 0.2415 - mean_absolute_error: 0.3464 - val_loss: 0.1881 - val_mean_absolute_error: 0.3084\n",
      "Epoch 2/20\n",
      "368/368 [==============================] - 1s 4ms/step - loss: 0.2119 - mean_absolute_error: 0.3226 - val_loss: 0.1794 - val_mean_absolute_error: 0.3079\n",
      "Epoch 3/20\n",
      "368/368 [==============================] - 1s 4ms/step - loss: 0.2105 - mean_absolute_error: 0.3212 - val_loss: 0.1766 - val_mean_absolute_error: 0.2983\n",
      "Epoch 4/20\n",
      "368/368 [==============================] - 1s 4ms/step - loss: 0.2108 - mean_absolute_error: 0.3204 - val_loss: 0.1825 - val_mean_absolute_error: 0.2987\n",
      "Epoch 5/20\n",
      "368/368 [==============================] - 1s 4ms/step - loss: 0.2101 - mean_absolute_error: 0.3205 - val_loss: 0.1711 - val_mean_absolute_error: 0.2865\n",
      "Epoch 6/20\n",
      "368/368 [==============================] - 1s 4ms/step - loss: 0.2087 - mean_absolute_error: 0.3188 - val_loss: 0.1716 - val_mean_absolute_error: 0.2866\n",
      "Epoch 7/20\n",
      "368/368 [==============================] - 1s 4ms/step - loss: 0.2094 - mean_absolute_error: 0.3190 - val_loss: 0.1737 - val_mean_absolute_error: 0.2964\n",
      "***TRAIN***:\n",
      "correlation related to cluster centre: 0.89\n",
      "r2 score related to cluster centre: 0.79\n",
      "***VALIDATION***:\n",
      "correlation related to cluster centre: 0.91\n",
      "r2 score related to cluster centre: 0.82\n"
     ]
    },
    {
     "data": {
      "application/vnd.jupyter.widget-view+json": {
       "model_id": "7350a632bf7d430ba902c35799c29a08",
       "version_major": 2,
       "version_minor": 0
      },
      "text/plain": [
       "IntProgress(value=0, max=5)"
      ]
     },
     "metadata": {},
     "output_type": "display_data"
    },
    {
     "name": "stdout",
     "output_type": "stream",
     "text": [
      "***VALIDATION***:\n",
      "average correlation: 0.90\n",
      "average r2: 0.81\n",
      "---do_investigations. cluster index : 20---\n"
     ]
    },
    {
     "data": {
      "application/vnd.jupyter.widget-view+json": {
       "model_id": "39e26e63ec564f9ca2c967fa0f9d8301",
       "version_major": 2,
       "version_minor": 0
      },
      "text/plain": [
       "IntProgress(value=0, max=12)"
      ]
     },
     "metadata": {},
     "output_type": "display_data"
    },
    {
     "name": "stdout",
     "output_type": "stream",
     "text": [
      "Epoch 1/20\n",
      "368/368 [==============================] - 3s 4ms/step - loss: 0.2358 - mean_absolute_error: 0.3335 - val_loss: 0.1829 - val_mean_absolute_error: 0.2948\n",
      "Epoch 2/20\n",
      "368/368 [==============================] - 1s 4ms/step - loss: 0.2012 - mean_absolute_error: 0.3090 - val_loss: 0.1780 - val_mean_absolute_error: 0.2785\n",
      "Epoch 3/20\n",
      "368/368 [==============================] - 1s 4ms/step - loss: 0.1999 - mean_absolute_error: 0.3081 - val_loss: 0.1757 - val_mean_absolute_error: 0.2877\n",
      "Epoch 4/20\n",
      "368/368 [==============================] - 1s 4ms/step - loss: 0.2001 - mean_absolute_error: 0.3079 - val_loss: 0.1775 - val_mean_absolute_error: 0.2844\n",
      "Epoch 5/20\n",
      "368/368 [==============================] - 1s 4ms/step - loss: 0.1997 - mean_absolute_error: 0.3070 - val_loss: 0.1732 - val_mean_absolute_error: 0.2774\n",
      "Epoch 6/20\n",
      "368/368 [==============================] - 1s 4ms/step - loss: 0.1982 - mean_absolute_error: 0.3062 - val_loss: 0.1739 - val_mean_absolute_error: 0.2833\n",
      "Epoch 7/20\n",
      "368/368 [==============================] - 1s 4ms/step - loss: 0.1986 - mean_absolute_error: 0.3051 - val_loss: 0.1727 - val_mean_absolute_error: 0.2820\n",
      "Epoch 8/20\n",
      "368/368 [==============================] - 1s 4ms/step - loss: 0.1977 - mean_absolute_error: 0.3053 - val_loss: 0.1733 - val_mean_absolute_error: 0.2783\n",
      "Epoch 9/20\n",
      "368/368 [==============================] - 1s 4ms/step - loss: 0.1975 - mean_absolute_error: 0.3050 - val_loss: 0.1713 - val_mean_absolute_error: 0.2791\n",
      "Epoch 10/20\n",
      "368/368 [==============================] - 1s 4ms/step - loss: 0.1972 - mean_absolute_error: 0.3043 - val_loss: 0.1734 - val_mean_absolute_error: 0.2814\n",
      "Epoch 11/20\n",
      "368/368 [==============================] - 1s 4ms/step - loss: 0.1971 - mean_absolute_error: 0.3049 - val_loss: 0.1726 - val_mean_absolute_error: 0.2823\n",
      "***TRAIN***:\n",
      "correlation related to cluster centre: 0.90\n",
      "r2 score related to cluster centre: 0.81\n",
      "***VALIDATION***:\n",
      "correlation related to cluster centre: 0.91\n",
      "r2 score related to cluster centre: 0.83\n"
     ]
    },
    {
     "data": {
      "application/vnd.jupyter.widget-view+json": {
       "model_id": "eec3c1bea15d4f7d869033221d9e728c",
       "version_major": 2,
       "version_minor": 0
      },
      "text/plain": [
       "IntProgress(value=0, max=12)"
      ]
     },
     "metadata": {},
     "output_type": "display_data"
    },
    {
     "name": "stdout",
     "output_type": "stream",
     "text": [
      "***VALIDATION***:\n",
      "average correlation: 0.91\n",
      "average r2: 0.82\n",
      "---do_investigations. cluster index : 21---\n"
     ]
    },
    {
     "data": {
      "application/vnd.jupyter.widget-view+json": {
       "model_id": "66217346001c4b06b944e6237a9e842e",
       "version_major": 2,
       "version_minor": 0
      },
      "text/plain": [
       "IntProgress(value=0, max=18)"
      ]
     },
     "metadata": {},
     "output_type": "display_data"
    },
    {
     "name": "stdout",
     "output_type": "stream",
     "text": [
      "Epoch 1/20\n",
      "368/368 [==============================] - 3s 4ms/step - loss: 0.1730 - mean_absolute_error: 0.2663 - val_loss: 0.1191 - val_mean_absolute_error: 0.2090\n",
      "Epoch 2/20\n",
      "368/368 [==============================] - 1s 4ms/step - loss: 0.1523 - mean_absolute_error: 0.2505 - val_loss: 0.1082 - val_mean_absolute_error: 0.1888\n",
      "Epoch 3/20\n",
      "368/368 [==============================] - 1s 4ms/step - loss: 0.1535 - mean_absolute_error: 0.2507 - val_loss: 0.1067 - val_mean_absolute_error: 0.1880\n",
      "Epoch 4/20\n",
      "368/368 [==============================] - 1s 4ms/step - loss: 0.1509 - mean_absolute_error: 0.2499 - val_loss: 0.1061 - val_mean_absolute_error: 0.1884\n",
      "Epoch 5/20\n",
      "368/368 [==============================] - 1s 4ms/step - loss: 0.1514 - mean_absolute_error: 0.2511 - val_loss: 0.1067 - val_mean_absolute_error: 0.1884\n",
      "Epoch 6/20\n",
      "368/368 [==============================] - 1s 4ms/step - loss: 0.1509 - mean_absolute_error: 0.2490 - val_loss: 0.1057 - val_mean_absolute_error: 0.1861\n",
      "Epoch 7/20\n",
      "368/368 [==============================] - 1s 4ms/step - loss: 0.1503 - mean_absolute_error: 0.2494 - val_loss: 0.1064 - val_mean_absolute_error: 0.1857\n",
      "Epoch 8/20\n",
      "368/368 [==============================] - 1s 4ms/step - loss: 0.1508 - mean_absolute_error: 0.2487 - val_loss: 0.1063 - val_mean_absolute_error: 0.1843\n",
      "***TRAIN***:\n",
      "correlation related to cluster centre: 0.92\n",
      "r2 score related to cluster centre: 0.85\n",
      "***VALIDATION***:\n",
      "correlation related to cluster centre: 0.91\n",
      "r2 score related to cluster centre: 0.83\n"
     ]
    },
    {
     "data": {
      "application/vnd.jupyter.widget-view+json": {
       "model_id": "5c185a67d2694157bf9c654be60ba770",
       "version_major": 2,
       "version_minor": 0
      },
      "text/plain": [
       "IntProgress(value=0, max=18)"
      ]
     },
     "metadata": {},
     "output_type": "display_data"
    },
    {
     "name": "stdout",
     "output_type": "stream",
     "text": [
      "***VALIDATION***:\n",
      "average correlation: 0.89\n",
      "average r2: 0.76\n",
      "---do_investigations. cluster index : 22---\n"
     ]
    },
    {
     "data": {
      "application/vnd.jupyter.widget-view+json": {
       "model_id": "a294669ebd514190aeb97ccbccb99567",
       "version_major": 2,
       "version_minor": 0
      },
      "text/plain": [
       "IntProgress(value=0, max=12)"
      ]
     },
     "metadata": {},
     "output_type": "display_data"
    },
    {
     "name": "stdout",
     "output_type": "stream",
     "text": [
      "Epoch 1/20\n",
      "368/368 [==============================] - 3s 4ms/step - loss: 0.2633 - mean_absolute_error: 0.3025 - val_loss: 0.2179 - val_mean_absolute_error: 0.2575\n",
      "Epoch 2/20\n",
      "368/368 [==============================] - 1s 4ms/step - loss: 0.2098 - mean_absolute_error: 0.2765 - val_loss: 0.2187 - val_mean_absolute_error: 0.2576\n",
      "Epoch 3/20\n",
      "368/368 [==============================] - 1s 4ms/step - loss: 0.2065 - mean_absolute_error: 0.2744 - val_loss: 0.2140 - val_mean_absolute_error: 0.2520\n",
      "Epoch 4/20\n",
      "368/368 [==============================] - 1s 4ms/step - loss: 0.2061 - mean_absolute_error: 0.2749 - val_loss: 0.2111 - val_mean_absolute_error: 0.2532\n",
      "Epoch 5/20\n",
      "368/368 [==============================] - 1s 4ms/step - loss: 0.2061 - mean_absolute_error: 0.2749 - val_loss: 0.2100 - val_mean_absolute_error: 0.2578\n",
      "Epoch 6/20\n",
      "368/368 [==============================] - 1s 4ms/step - loss: 0.2037 - mean_absolute_error: 0.2744 - val_loss: 0.2188 - val_mean_absolute_error: 0.2580\n",
      "Epoch 7/20\n",
      "368/368 [==============================] - 1s 4ms/step - loss: 0.2047 - mean_absolute_error: 0.2752 - val_loss: 0.2155 - val_mean_absolute_error: 0.2549\n",
      "***TRAIN***:\n",
      "correlation related to cluster centre: 0.89\n",
      "r2 score related to cluster centre: 0.79\n",
      "***VALIDATION***:\n",
      "correlation related to cluster centre: 0.90\n",
      "r2 score related to cluster centre: 0.80\n"
     ]
    },
    {
     "data": {
      "application/vnd.jupyter.widget-view+json": {
       "model_id": "643ea7bd69cb4b818c131face90b3a24",
       "version_major": 2,
       "version_minor": 0
      },
      "text/plain": [
       "IntProgress(value=0, max=12)"
      ]
     },
     "metadata": {},
     "output_type": "display_data"
    },
    {
     "name": "stdout",
     "output_type": "stream",
     "text": [
      "***VALIDATION***:\n",
      "average correlation: 0.87\n",
      "average r2: 0.75\n",
      "---do_investigations. cluster index : 23---\n"
     ]
    },
    {
     "data": {
      "application/vnd.jupyter.widget-view+json": {
       "model_id": "0cc3a7679db74f2da1a2c5bb45a45593",
       "version_major": 2,
       "version_minor": 0
      },
      "text/plain": [
       "IntProgress(value=0, max=20)"
      ]
     },
     "metadata": {},
     "output_type": "display_data"
    },
    {
     "name": "stdout",
     "output_type": "stream",
     "text": [
      "Epoch 1/20\n",
      "368/368 [==============================] - 3s 4ms/step - loss: 0.2343 - mean_absolute_error: 0.3013 - val_loss: 0.2108 - val_mean_absolute_error: 0.2585\n",
      "Epoch 2/20\n",
      "368/368 [==============================] - 1s 4ms/step - loss: 0.2075 - mean_absolute_error: 0.2841 - val_loss: 0.2178 - val_mean_absolute_error: 0.2606\n",
      "Epoch 3/20\n",
      "368/368 [==============================] - 1s 4ms/step - loss: 0.2052 - mean_absolute_error: 0.2818 - val_loss: 0.2048 - val_mean_absolute_error: 0.2572\n",
      "Epoch 4/20\n",
      "368/368 [==============================] - 1s 4ms/step - loss: 0.2052 - mean_absolute_error: 0.2821 - val_loss: 0.2060 - val_mean_absolute_error: 0.2587\n",
      "Epoch 5/20\n",
      "368/368 [==============================] - 1s 4ms/step - loss: 0.2042 - mean_absolute_error: 0.2818 - val_loss: 0.2018 - val_mean_absolute_error: 0.2635\n",
      "Epoch 6/20\n",
      "368/368 [==============================] - 1s 4ms/step - loss: 0.2046 - mean_absolute_error: 0.2818 - val_loss: 0.2053 - val_mean_absolute_error: 0.2581\n",
      "Epoch 7/20\n",
      "368/368 [==============================] - 1s 4ms/step - loss: 0.2019 - mean_absolute_error: 0.2796 - val_loss: 0.2080 - val_mean_absolute_error: 0.2568\n",
      "***TRAIN***:\n",
      "correlation related to cluster centre: 0.90\n",
      "r2 score related to cluster centre: 0.79\n",
      "***VALIDATION***:\n",
      "correlation related to cluster centre: 0.90\n",
      "r2 score related to cluster centre: 0.80\n"
     ]
    },
    {
     "data": {
      "application/vnd.jupyter.widget-view+json": {
       "model_id": "d62cbb57e152400d8a99ef355fea83b7",
       "version_major": 2,
       "version_minor": 0
      },
      "text/plain": [
       "IntProgress(value=0, max=20)"
      ]
     },
     "metadata": {},
     "output_type": "display_data"
    },
    {
     "name": "stdout",
     "output_type": "stream",
     "text": [
      "***VALIDATION***:\n",
      "average correlation: 0.88\n",
      "average r2: 0.76\n",
      "---do_investigations. cluster index : 24---\n"
     ]
    },
    {
     "data": {
      "application/vnd.jupyter.widget-view+json": {
       "model_id": "07b534c136584de28f51494a3fa6826f",
       "version_major": 2,
       "version_minor": 0
      },
      "text/plain": [
       "IntProgress(value=0, max=105)"
      ]
     },
     "metadata": {},
     "output_type": "display_data"
    },
    {
     "name": "stdout",
     "output_type": "stream",
     "text": [
      "Epoch 1/20\n",
      "368/368 [==============================] - 3s 4ms/step - loss: 0.1801 - mean_absolute_error: 0.2844 - val_loss: 0.1579 - val_mean_absolute_error: 0.2831\n",
      "Epoch 2/20\n",
      "368/368 [==============================] - 1s 4ms/step - loss: 0.1427 - mean_absolute_error: 0.2542 - val_loss: 0.1642 - val_mean_absolute_error: 0.2917\n",
      "Epoch 3/20\n",
      "368/368 [==============================] - 1s 4ms/step - loss: 0.1430 - mean_absolute_error: 0.2552 - val_loss: 0.1506 - val_mean_absolute_error: 0.2706\n",
      "Epoch 4/20\n",
      "368/368 [==============================] - 1s 4ms/step - loss: 0.1428 - mean_absolute_error: 0.2547 - val_loss: 0.1526 - val_mean_absolute_error: 0.2720\n",
      "Epoch 5/20\n",
      "368/368 [==============================] - 1s 4ms/step - loss: 0.1419 - mean_absolute_error: 0.2540 - val_loss: 0.1463 - val_mean_absolute_error: 0.2574\n",
      "Epoch 6/20\n",
      "368/368 [==============================] - 1s 4ms/step - loss: 0.1410 - mean_absolute_error: 0.2535 - val_loss: 0.1536 - val_mean_absolute_error: 0.2773\n",
      "Epoch 7/20\n",
      "368/368 [==============================] - 1s 4ms/step - loss: 0.1417 - mean_absolute_error: 0.2540 - val_loss: 0.1484 - val_mean_absolute_error: 0.2651\n",
      "***TRAIN***:\n",
      "correlation related to cluster centre: 0.93\n",
      "r2 score related to cluster centre: 0.86\n",
      "***VALIDATION***:\n",
      "correlation related to cluster centre: 0.92\n",
      "r2 score related to cluster centre: 0.85\n"
     ]
    },
    {
     "data": {
      "application/vnd.jupyter.widget-view+json": {
       "model_id": "12467322c6eb4c7b918169c03c854713",
       "version_major": 2,
       "version_minor": 0
      },
      "text/plain": [
       "IntProgress(value=0, max=105)"
      ]
     },
     "metadata": {},
     "output_type": "display_data"
    },
    {
     "name": "stdout",
     "output_type": "stream",
     "text": [
      "***VALIDATION***:\n",
      "average correlation: 0.90\n",
      "average r2: 0.76\n",
      "---do_investigations. cluster index : 25---\n"
     ]
    },
    {
     "data": {
      "application/vnd.jupyter.widget-view+json": {
       "model_id": "08f2733bbd9c471db840b4251aeec2cd",
       "version_major": 2,
       "version_minor": 0
      },
      "text/plain": [
       "IntProgress(value=0, max=13)"
      ]
     },
     "metadata": {},
     "output_type": "display_data"
    },
    {
     "name": "stdout",
     "output_type": "stream",
     "text": [
      "Epoch 1/20\n",
      "368/368 [==============================] - 3s 5ms/step - loss: 0.2217 - mean_absolute_error: 0.3268 - val_loss: 0.1782 - val_mean_absolute_error: 0.2985\n",
      "Epoch 2/20\n",
      "368/368 [==============================] - 1s 4ms/step - loss: 0.2067 - mean_absolute_error: 0.3110 - val_loss: 0.1822 - val_mean_absolute_error: 0.3017\n",
      "Epoch 3/20\n",
      "368/368 [==============================] - 1s 4ms/step - loss: 0.2071 - mean_absolute_error: 0.3106 - val_loss: 0.1775 - val_mean_absolute_error: 0.2913\n",
      "Epoch 4/20\n",
      "368/368 [==============================] - 1s 4ms/step - loss: 0.2050 - mean_absolute_error: 0.3089 - val_loss: 0.1765 - val_mean_absolute_error: 0.2948\n",
      "Epoch 5/20\n",
      "368/368 [==============================] - 1s 4ms/step - loss: 0.2042 - mean_absolute_error: 0.3083 - val_loss: 0.1791 - val_mean_absolute_error: 0.3038\n",
      "Epoch 6/20\n",
      "368/368 [==============================] - 1s 4ms/step - loss: 0.2050 - mean_absolute_error: 0.3088 - val_loss: 0.1758 - val_mean_absolute_error: 0.2931\n",
      "Epoch 7/20\n",
      "368/368 [==============================] - 1s 4ms/step - loss: 0.2045 - mean_absolute_error: 0.3081 - val_loss: 0.1772 - val_mean_absolute_error: 0.2929\n",
      "Epoch 8/20\n",
      "368/368 [==============================] - 1s 4ms/step - loss: 0.2042 - mean_absolute_error: 0.3079 - val_loss: 0.1817 - val_mean_absolute_error: 0.3112\n",
      "***TRAIN***:\n",
      "correlation related to cluster centre: 0.89\n",
      "r2 score related to cluster centre: 0.79\n",
      "***VALIDATION***:\n",
      "correlation related to cluster centre: 0.91\n",
      "r2 score related to cluster centre: 0.82\n"
     ]
    },
    {
     "data": {
      "application/vnd.jupyter.widget-view+json": {
       "model_id": "c9f6a1f1beb040eb864504de68ace133",
       "version_major": 2,
       "version_minor": 0
      },
      "text/plain": [
       "IntProgress(value=0, max=13)"
      ]
     },
     "metadata": {},
     "output_type": "display_data"
    },
    {
     "name": "stdout",
     "output_type": "stream",
     "text": [
      "***VALIDATION***:\n",
      "average correlation: 0.90\n",
      "average r2: 0.81\n",
      "---do_investigations. cluster index : 26---\n"
     ]
    },
    {
     "data": {
      "application/vnd.jupyter.widget-view+json": {
       "model_id": "6b646b5fdac14302ba8df6a03e074a4c",
       "version_major": 2,
       "version_minor": 0
      },
      "text/plain": [
       "IntProgress(value=0, max=251)"
      ]
     },
     "metadata": {},
     "output_type": "display_data"
    },
    {
     "name": "stdout",
     "output_type": "stream",
     "text": [
      "Epoch 1/20\n",
      "368/368 [==============================] - 3s 4ms/step - loss: 0.2393 - mean_absolute_error: 0.3330 - val_loss: 0.1549 - val_mean_absolute_error: 0.2831\n",
      "Epoch 2/20\n",
      "368/368 [==============================] - 1s 4ms/step - loss: 0.2093 - mean_absolute_error: 0.3100 - val_loss: 0.1533 - val_mean_absolute_error: 0.2725\n",
      "Epoch 3/20\n",
      "368/368 [==============================] - 1s 4ms/step - loss: 0.2090 - mean_absolute_error: 0.3093 - val_loss: 0.1555 - val_mean_absolute_error: 0.2711\n",
      "Epoch 4/20\n",
      "368/368 [==============================] - 1s 4ms/step - loss: 0.2077 - mean_absolute_error: 0.3072 - val_loss: 0.1522 - val_mean_absolute_error: 0.2689\n",
      "Epoch 5/20\n",
      "368/368 [==============================] - 1s 4ms/step - loss: 0.2080 - mean_absolute_error: 0.3077 - val_loss: 0.1532 - val_mean_absolute_error: 0.2652\n",
      "Epoch 6/20\n",
      "368/368 [==============================] - 1s 4ms/step - loss: 0.2078 - mean_absolute_error: 0.3076 - val_loss: 0.1527 - val_mean_absolute_error: 0.2761\n",
      "***TRAIN***:\n",
      "correlation related to cluster centre: 0.89\n",
      "r2 score related to cluster centre: 0.80\n",
      "***VALIDATION***:\n",
      "correlation related to cluster centre: 0.91\n",
      "r2 score related to cluster centre: 0.82\n"
     ]
    },
    {
     "data": {
      "application/vnd.jupyter.widget-view+json": {
       "model_id": "14e916bcafb1400f8a4e579f278c18a4",
       "version_major": 2,
       "version_minor": 0
      },
      "text/plain": [
       "IntProgress(value=0, max=251)"
      ]
     },
     "metadata": {},
     "output_type": "display_data"
    },
    {
     "name": "stdout",
     "output_type": "stream",
     "text": [
      "***VALIDATION***:\n",
      "average correlation: 0.91\n",
      "average r2: 0.74\n",
      "---do_investigations. cluster index : 27---\n"
     ]
    },
    {
     "data": {
      "application/vnd.jupyter.widget-view+json": {
       "model_id": "cc1d4f9d9d3f4b76bdad6b9c1f7c8f87",
       "version_major": 2,
       "version_minor": 0
      },
      "text/plain": [
       "IntProgress(value=0, max=1)"
      ]
     },
     "metadata": {},
     "output_type": "display_data"
    },
    {
     "name": "stdout",
     "output_type": "stream",
     "text": [
      "Epoch 1/20\n",
      "368/368 [==============================] - 3s 4ms/step - loss: 0.2197 - mean_absolute_error: 0.3116 - val_loss: 0.2242 - val_mean_absolute_error: 0.2979\n",
      "Epoch 2/20\n",
      "368/368 [==============================] - 1s 4ms/step - loss: 0.1938 - mean_absolute_error: 0.2932 - val_loss: 0.2251 - val_mean_absolute_error: 0.2991\n",
      "Epoch 3/20\n",
      "368/368 [==============================] - 1s 4ms/step - loss: 0.1934 - mean_absolute_error: 0.2932 - val_loss: 0.2296 - val_mean_absolute_error: 0.2963\n",
      "***TRAIN***:\n",
      "correlation related to cluster centre: 0.90\n",
      "r2 score related to cluster centre: 0.81\n",
      "***VALIDATION***:\n",
      "correlation related to cluster centre: 0.91\n",
      "r2 score related to cluster centre: 0.81\n"
     ]
    },
    {
     "data": {
      "application/vnd.jupyter.widget-view+json": {
       "model_id": "b13a173e490a4aa6aa8b81df046f1305",
       "version_major": 2,
       "version_minor": 0
      },
      "text/plain": [
       "IntProgress(value=0, max=1)"
      ]
     },
     "metadata": {},
     "output_type": "display_data"
    },
    {
     "name": "stdout",
     "output_type": "stream",
     "text": [
      "***VALIDATION***:\n",
      "average correlation: 0.91\n",
      "average r2: 0.81\n",
      "---do_investigations. cluster index : 28---\n"
     ]
    },
    {
     "data": {
      "application/vnd.jupyter.widget-view+json": {
       "model_id": "395a2298764446fd89883129f12242b5",
       "version_major": 2,
       "version_minor": 0
      },
      "text/plain": [
       "IntProgress(value=0, max=13)"
      ]
     },
     "metadata": {},
     "output_type": "display_data"
    },
    {
     "name": "stdout",
     "output_type": "stream",
     "text": [
      "Epoch 1/20\n",
      "368/368 [==============================] - 3s 4ms/step - loss: 0.2341 - mean_absolute_error: 0.3307 - val_loss: 0.1827 - val_mean_absolute_error: 0.2897\n",
      "Epoch 2/20\n",
      "368/368 [==============================] - 1s 4ms/step - loss: 0.2047 - mean_absolute_error: 0.3085 - val_loss: 0.1838 - val_mean_absolute_error: 0.2960\n",
      "Epoch 3/20\n",
      "368/368 [==============================] - 1s 4ms/step - loss: 0.2038 - mean_absolute_error: 0.3081 - val_loss: 0.1841 - val_mean_absolute_error: 0.2947\n",
      "***TRAIN***:\n",
      "correlation related to cluster centre: 0.89\n",
      "r2 score related to cluster centre: 0.80\n",
      "***VALIDATION***:\n",
      "correlation related to cluster centre: 0.91\n",
      "r2 score related to cluster centre: 0.81\n"
     ]
    },
    {
     "data": {
      "application/vnd.jupyter.widget-view+json": {
       "model_id": "8d7af24c7473421e92ca0f89e1864b6e",
       "version_major": 2,
       "version_minor": 0
      },
      "text/plain": [
       "IntProgress(value=0, max=13)"
      ]
     },
     "metadata": {},
     "output_type": "display_data"
    },
    {
     "name": "stdout",
     "output_type": "stream",
     "text": [
      "***VALIDATION***:\n",
      "average correlation: 0.91\n",
      "average r2: 0.80\n",
      "---do_investigations. cluster index : 29---\n"
     ]
    },
    {
     "data": {
      "application/vnd.jupyter.widget-view+json": {
       "model_id": "7096315da6d044c097abd34ca2614e63",
       "version_major": 2,
       "version_minor": 0
      },
      "text/plain": [
       "IntProgress(value=0, max=23)"
      ]
     },
     "metadata": {},
     "output_type": "display_data"
    },
    {
     "name": "stdout",
     "output_type": "stream",
     "text": [
      "Epoch 1/20\n",
      "368/368 [==============================] - 3s 4ms/step - loss: 0.2351 - mean_absolute_error: 0.3399 - val_loss: 0.2006 - val_mean_absolute_error: 0.3094\n",
      "Epoch 2/20\n",
      "368/368 [==============================] - 1s 4ms/step - loss: 0.2105 - mean_absolute_error: 0.3198 - val_loss: 0.1982 - val_mean_absolute_error: 0.3080\n",
      "Epoch 3/20\n",
      "368/368 [==============================] - 1s 4ms/step - loss: 0.2100 - mean_absolute_error: 0.3194 - val_loss: 0.1958 - val_mean_absolute_error: 0.3075\n",
      "Epoch 4/20\n",
      "368/368 [==============================] - 1s 4ms/step - loss: 0.2087 - mean_absolute_error: 0.3176 - val_loss: 0.1992 - val_mean_absolute_error: 0.3044\n",
      "Epoch 5/20\n",
      "368/368 [==============================] - 1s 4ms/step - loss: 0.2086 - mean_absolute_error: 0.3179 - val_loss: 0.2021 - val_mean_absolute_error: 0.3073\n",
      "***TRAIN***:\n",
      "correlation related to cluster centre: 0.89\n",
      "r2 score related to cluster centre: 0.79\n",
      "***VALIDATION***:\n",
      "correlation related to cluster centre: 0.90\n",
      "r2 score related to cluster centre: 0.81\n"
     ]
    },
    {
     "data": {
      "application/vnd.jupyter.widget-view+json": {
       "model_id": "4a3ab4d8cd874301a14a7018f8e9fde8",
       "version_major": 2,
       "version_minor": 0
      },
      "text/plain": [
       "IntProgress(value=0, max=23)"
      ]
     },
     "metadata": {},
     "output_type": "display_data"
    },
    {
     "name": "stdout",
     "output_type": "stream",
     "text": [
      "***VALIDATION***:\n",
      "average correlation: 0.90\n",
      "average r2: 0.80\n",
      "---do_investigations. cluster index : 30---\n"
     ]
    },
    {
     "data": {
      "application/vnd.jupyter.widget-view+json": {
       "model_id": "7037faa0e9b74d5e90d72c9202783672",
       "version_major": 2,
       "version_minor": 0
      },
      "text/plain": [
       "IntProgress(value=0, max=3)"
      ]
     },
     "metadata": {},
     "output_type": "display_data"
    },
    {
     "name": "stdout",
     "output_type": "stream",
     "text": [
      "Epoch 1/20\n",
      "368/368 [==============================] - 3s 4ms/step - loss: 0.2415 - mean_absolute_error: 0.3403 - val_loss: 0.1566 - val_mean_absolute_error: 0.2725\n",
      "Epoch 2/20\n",
      "368/368 [==============================] - 1s 4ms/step - loss: 0.2008 - mean_absolute_error: 0.3094 - val_loss: 0.1409 - val_mean_absolute_error: 0.2603\n",
      "Epoch 3/20\n",
      "368/368 [==============================] - 1s 4ms/step - loss: 0.1999 - mean_absolute_error: 0.3086 - val_loss: 0.1500 - val_mean_absolute_error: 0.2719\n",
      "Epoch 4/20\n",
      "368/368 [==============================] - 1s 4ms/step - loss: 0.1994 - mean_absolute_error: 0.3081 - val_loss: 0.1437 - val_mean_absolute_error: 0.2638\n",
      "***TRAIN***:\n",
      "correlation related to cluster centre: 0.90\n",
      "r2 score related to cluster centre: 0.80\n",
      "***VALIDATION***:\n",
      "correlation related to cluster centre: 0.91\n",
      "r2 score related to cluster centre: 0.82\n"
     ]
    },
    {
     "data": {
      "application/vnd.jupyter.widget-view+json": {
       "model_id": "d5f0fc34bd45423bbfb94129b011266f",
       "version_major": 2,
       "version_minor": 0
      },
      "text/plain": [
       "IntProgress(value=0, max=3)"
      ]
     },
     "metadata": {},
     "output_type": "display_data"
    },
    {
     "name": "stdout",
     "output_type": "stream",
     "text": [
      "***VALIDATION***:\n",
      "average correlation: 0.91\n",
      "average r2: 0.82\n",
      "---do_investigations. cluster index : 31---\n"
     ]
    },
    {
     "data": {
      "application/vnd.jupyter.widget-view+json": {
       "model_id": "9344ce2b196c422ea21135eff2759197",
       "version_major": 2,
       "version_minor": 0
      },
      "text/plain": [
       "IntProgress(value=0, max=2)"
      ]
     },
     "metadata": {},
     "output_type": "display_data"
    },
    {
     "name": "stdout",
     "output_type": "stream",
     "text": [
      "Epoch 1/20\n",
      "368/368 [==============================] - 3s 4ms/step - loss: 0.2276 - mean_absolute_error: 0.3189 - val_loss: 0.1566 - val_mean_absolute_error: 0.2588\n",
      "Epoch 2/20\n",
      "368/368 [==============================] - 1s 4ms/step - loss: 0.1953 - mean_absolute_error: 0.2961 - val_loss: 0.1546 - val_mean_absolute_error: 0.2578\n",
      "Epoch 3/20\n",
      "368/368 [==============================] - 1s 4ms/step - loss: 0.1945 - mean_absolute_error: 0.2960 - val_loss: 0.1548 - val_mean_absolute_error: 0.2465\n",
      "Epoch 4/20\n",
      "368/368 [==============================] - 1s 4ms/step - loss: 0.1926 - mean_absolute_error: 0.2933 - val_loss: 0.1552 - val_mean_absolute_error: 0.2521\n",
      "***TRAIN***:\n",
      "correlation related to cluster centre: 0.90\n",
      "r2 score related to cluster centre: 0.81\n",
      "***VALIDATION***:\n",
      "correlation related to cluster centre: 0.91\n",
      "r2 score related to cluster centre: 0.83\n"
     ]
    },
    {
     "data": {
      "application/vnd.jupyter.widget-view+json": {
       "model_id": "a0ec02e68d7841038c28e9cb8a62b9d1",
       "version_major": 2,
       "version_minor": 0
      },
      "text/plain": [
       "IntProgress(value=0, max=2)"
      ]
     },
     "metadata": {},
     "output_type": "display_data"
    },
    {
     "name": "stdout",
     "output_type": "stream",
     "text": [
      "***VALIDATION***:\n",
      "average correlation: 0.91\n",
      "average r2: 0.83\n",
      "---do_investigations. cluster index : 32---\n"
     ]
    },
    {
     "data": {
      "application/vnd.jupyter.widget-view+json": {
       "model_id": "55c41dc1359645ee97fff8fd117731c1",
       "version_major": 2,
       "version_minor": 0
      },
      "text/plain": [
       "IntProgress(value=0, max=12)"
      ]
     },
     "metadata": {},
     "output_type": "display_data"
    },
    {
     "name": "stdout",
     "output_type": "stream",
     "text": [
      "Epoch 1/20\n",
      "368/368 [==============================] - 3s 4ms/step - loss: 0.2266 - mean_absolute_error: 0.3308 - val_loss: 0.1860 - val_mean_absolute_error: 0.2838\n",
      "Epoch 2/20\n",
      "368/368 [==============================] - 1s 4ms/step - loss: 0.2025 - mean_absolute_error: 0.3114 - val_loss: 0.1828 - val_mean_absolute_error: 0.2918\n",
      "Epoch 3/20\n",
      "368/368 [==============================] - 1s 4ms/step - loss: 0.2008 - mean_absolute_error: 0.3101 - val_loss: 0.1807 - val_mean_absolute_error: 0.2844\n",
      "Epoch 4/20\n",
      "368/368 [==============================] - 1s 4ms/step - loss: 0.2002 - mean_absolute_error: 0.3092 - val_loss: 0.1804 - val_mean_absolute_error: 0.2841\n",
      "Epoch 5/20\n",
      "368/368 [==============================] - 1s 4ms/step - loss: 0.1994 - mean_absolute_error: 0.3085 - val_loss: 0.1807 - val_mean_absolute_error: 0.2862\n",
      "Epoch 6/20\n",
      "368/368 [==============================] - 1s 4ms/step - loss: 0.1992 - mean_absolute_error: 0.3080 - val_loss: 0.1805 - val_mean_absolute_error: 0.2825\n",
      "***TRAIN***:\n",
      "correlation related to cluster centre: 0.90\n",
      "r2 score related to cluster centre: 0.80\n",
      "***VALIDATION***:\n",
      "correlation related to cluster centre: 0.91\n",
      "r2 score related to cluster centre: 0.83\n"
     ]
    },
    {
     "data": {
      "application/vnd.jupyter.widget-view+json": {
       "model_id": "0dd7c8520eab4cdcbcb207ea3106c89c",
       "version_major": 2,
       "version_minor": 0
      },
      "text/plain": [
       "IntProgress(value=0, max=12)"
      ]
     },
     "metadata": {},
     "output_type": "display_data"
    },
    {
     "name": "stdout",
     "output_type": "stream",
     "text": [
      "***VALIDATION***:\n",
      "average correlation: 0.91\n",
      "average r2: 0.82\n",
      "---do_investigations. cluster index : 33---\n"
     ]
    },
    {
     "data": {
      "application/vnd.jupyter.widget-view+json": {
       "model_id": "4676c07fd208416bbae85194ba6d3e41",
       "version_major": 2,
       "version_minor": 0
      },
      "text/plain": [
       "IntProgress(value=0, max=47)"
      ]
     },
     "metadata": {},
     "output_type": "display_data"
    },
    {
     "name": "stdout",
     "output_type": "stream",
     "text": [
      "Epoch 1/20\n",
      "368/368 [==============================] - 3s 4ms/step - loss: 0.2540 - mean_absolute_error: 0.3579 - val_loss: 0.2139 - val_mean_absolute_error: 0.3155\n",
      "Epoch 2/20\n",
      "368/368 [==============================] - 1s 4ms/step - loss: 0.2108 - mean_absolute_error: 0.3229 - val_loss: 0.2064 - val_mean_absolute_error: 0.3120\n",
      "Epoch 3/20\n",
      "368/368 [==============================] - 1s 4ms/step - loss: 0.2092 - mean_absolute_error: 0.3212 - val_loss: 0.2064 - val_mean_absolute_error: 0.3146\n",
      "Epoch 4/20\n",
      "368/368 [==============================] - 1s 4ms/step - loss: 0.2086 - mean_absolute_error: 0.3205 - val_loss: 0.2040 - val_mean_absolute_error: 0.3101\n",
      "Epoch 5/20\n",
      "368/368 [==============================] - 1s 4ms/step - loss: 0.2089 - mean_absolute_error: 0.3210 - val_loss: 0.2030 - val_mean_absolute_error: 0.3076\n",
      "Epoch 6/20\n",
      "368/368 [==============================] - 1s 4ms/step - loss: 0.2092 - mean_absolute_error: 0.3209 - val_loss: 0.2015 - val_mean_absolute_error: 0.3134\n",
      "Epoch 7/20\n",
      "368/368 [==============================] - 1s 4ms/step - loss: 0.2078 - mean_absolute_error: 0.3198 - val_loss: 0.2030 - val_mean_absolute_error: 0.3107\n",
      "Epoch 8/20\n",
      "368/368 [==============================] - 1s 4ms/step - loss: 0.2083 - mean_absolute_error: 0.3199 - val_loss: 0.2029 - val_mean_absolute_error: 0.3054\n",
      "***TRAIN***:\n",
      "correlation related to cluster centre: 0.89\n",
      "r2 score related to cluster centre: 0.79\n",
      "***VALIDATION***:\n",
      "correlation related to cluster centre: 0.90\n",
      "r2 score related to cluster centre: 0.81\n"
     ]
    },
    {
     "data": {
      "application/vnd.jupyter.widget-view+json": {
       "model_id": "f59971339664490cb1705574c9cbf086",
       "version_major": 2,
       "version_minor": 0
      },
      "text/plain": [
       "IntProgress(value=0, max=47)"
      ]
     },
     "metadata": {},
     "output_type": "display_data"
    },
    {
     "name": "stdout",
     "output_type": "stream",
     "text": [
      "***VALIDATION***:\n",
      "average correlation: 0.90\n",
      "average r2: 0.80\n",
      "---do_investigations. cluster index : 34---\n"
     ]
    },
    {
     "data": {
      "application/vnd.jupyter.widget-view+json": {
       "model_id": "1b566d6db57e4df197ff7e6f93bae1af",
       "version_major": 2,
       "version_minor": 0
      },
      "text/plain": [
       "IntProgress(value=0, max=248)"
      ]
     },
     "metadata": {},
     "output_type": "display_data"
    },
    {
     "name": "stdout",
     "output_type": "stream",
     "text": [
      "Epoch 1/20\n",
      "368/368 [==============================] - 3s 4ms/step - loss: 0.2188 - mean_absolute_error: 0.3241 - val_loss: 0.1574 - val_mean_absolute_error: 0.2948\n",
      "Epoch 2/20\n",
      "368/368 [==============================] - 1s 4ms/step - loss: 0.1876 - mean_absolute_error: 0.2988 - val_loss: 0.1518 - val_mean_absolute_error: 0.2800\n",
      "Epoch 3/20\n",
      "368/368 [==============================] - 1s 4ms/step - loss: 0.1881 - mean_absolute_error: 0.2997 - val_loss: 0.1500 - val_mean_absolute_error: 0.2750\n",
      "Epoch 4/20\n",
      "368/368 [==============================] - 1s 4ms/step - loss: 0.1878 - mean_absolute_error: 0.2988 - val_loss: 0.1574 - val_mean_absolute_error: 0.2922\n",
      "Epoch 5/20\n",
      "368/368 [==============================] - 1s 4ms/step - loss: 0.1871 - mean_absolute_error: 0.2987 - val_loss: 0.1512 - val_mean_absolute_error: 0.2815\n",
      "***TRAIN***:\n",
      "correlation related to cluster centre: 0.90\n",
      "r2 score related to cluster centre: 0.82\n",
      "***VALIDATION***:\n",
      "correlation related to cluster centre: 0.91\n",
      "r2 score related to cluster centre: 0.83\n"
     ]
    },
    {
     "data": {
      "application/vnd.jupyter.widget-view+json": {
       "model_id": "647216b1084a471eaf8c1d186895f33c",
       "version_major": 2,
       "version_minor": 0
      },
      "text/plain": [
       "IntProgress(value=0, max=248)"
      ]
     },
     "metadata": {},
     "output_type": "display_data"
    },
    {
     "name": "stdout",
     "output_type": "stream",
     "text": [
      "***VALIDATION***:\n",
      "average correlation: 0.91\n",
      "average r2: 0.67\n",
      "---do_investigations. cluster index : 35---\n"
     ]
    },
    {
     "data": {
      "application/vnd.jupyter.widget-view+json": {
       "model_id": "84896551213a4ff4976bf7936c2978de",
       "version_major": 2,
       "version_minor": 0
      },
      "text/plain": [
       "IntProgress(value=0, max=2)"
      ]
     },
     "metadata": {},
     "output_type": "display_data"
    },
    {
     "name": "stdout",
     "output_type": "stream",
     "text": [
      "Epoch 1/20\n",
      "368/368 [==============================] - 3s 4ms/step - loss: 0.2115 - mean_absolute_error: 0.3064 - val_loss: 0.1880 - val_mean_absolute_error: 0.2607\n",
      "Epoch 2/20\n",
      "368/368 [==============================] - 1s 4ms/step - loss: 0.1896 - mean_absolute_error: 0.2874 - val_loss: 0.1947 - val_mean_absolute_error: 0.2740\n",
      "Epoch 3/20\n",
      "368/368 [==============================] - 1s 4ms/step - loss: 0.1903 - mean_absolute_error: 0.2879 - val_loss: 0.1868 - val_mean_absolute_error: 0.2671\n",
      "Epoch 4/20\n",
      "368/368 [==============================] - 1s 4ms/step - loss: 0.1883 - mean_absolute_error: 0.2863 - val_loss: 0.1992 - val_mean_absolute_error: 0.2808\n",
      "Epoch 5/20\n",
      "368/368 [==============================] - 1s 4ms/step - loss: 0.1885 - mean_absolute_error: 0.2859 - val_loss: 0.1889 - val_mean_absolute_error: 0.2706\n",
      "***TRAIN***:\n",
      "correlation related to cluster centre: 0.90\n",
      "r2 score related to cluster centre: 0.81\n",
      "***VALIDATION***:\n",
      "correlation related to cluster centre: 0.91\n",
      "r2 score related to cluster centre: 0.82\n"
     ]
    },
    {
     "data": {
      "application/vnd.jupyter.widget-view+json": {
       "model_id": "5a816425086549419bd8d450c980c2a3",
       "version_major": 2,
       "version_minor": 0
      },
      "text/plain": [
       "IntProgress(value=0, max=2)"
      ]
     },
     "metadata": {},
     "output_type": "display_data"
    },
    {
     "name": "stdout",
     "output_type": "stream",
     "text": [
      "***VALIDATION***:\n",
      "average correlation: 0.91\n",
      "average r2: 0.82\n",
      "---do_investigations. cluster index : 36---\n"
     ]
    },
    {
     "data": {
      "application/vnd.jupyter.widget-view+json": {
       "model_id": "7bd9cfd70e3b419ba8b803ae8f43e5a0",
       "version_major": 2,
       "version_minor": 0
      },
      "text/plain": [
       "IntProgress(value=0, max=603)"
      ]
     },
     "metadata": {},
     "output_type": "display_data"
    },
    {
     "name": "stdout",
     "output_type": "stream",
     "text": [
      "Epoch 1/20\n",
      "368/368 [==============================] - 3s 4ms/step - loss: 0.2327 - mean_absolute_error: 0.2998 - val_loss: 0.2684 - val_mean_absolute_error: 0.2911\n",
      "Epoch 2/20\n",
      "368/368 [==============================] - 1s 4ms/step - loss: 0.2093 - mean_absolute_error: 0.2815 - val_loss: 0.3129 - val_mean_absolute_error: 0.3246\n",
      "Epoch 3/20\n",
      "368/368 [==============================] - 1s 4ms/step - loss: 0.2061 - mean_absolute_error: 0.2794 - val_loss: 0.3090 - val_mean_absolute_error: 0.3283\n",
      "***TRAIN***:\n",
      "correlation related to cluster centre: 0.89\n",
      "r2 score related to cluster centre: 0.77\n",
      "***VALIDATION***:\n",
      "correlation related to cluster centre: 0.89\n",
      "r2 score related to cluster centre: 0.76\n"
     ]
    },
    {
     "data": {
      "application/vnd.jupyter.widget-view+json": {
       "model_id": "d4f0e53bbed84566b295c683faeff198",
       "version_major": 2,
       "version_minor": 0
      },
      "text/plain": [
       "IntProgress(value=0, max=603)"
      ]
     },
     "metadata": {},
     "output_type": "display_data"
    },
    {
     "name": "stdout",
     "output_type": "stream",
     "text": [
      "***VALIDATION***:\n",
      "average correlation: 0.88\n",
      "average r2: 0.55\n",
      "---do_investigations. cluster index : 37---\n"
     ]
    },
    {
     "data": {
      "application/vnd.jupyter.widget-view+json": {
       "model_id": "fc5d0d12a0714db7b8a2d32efef61b0c",
       "version_major": 2,
       "version_minor": 0
      },
      "text/plain": [
       "IntProgress(value=0, max=64)"
      ]
     },
     "metadata": {},
     "output_type": "display_data"
    },
    {
     "name": "stdout",
     "output_type": "stream",
     "text": [
      "Epoch 1/20\n",
      "368/368 [==============================] - 3s 4ms/step - loss: 0.0630 - mean_absolute_error: 0.1461 - val_loss: 0.0436 - val_mean_absolute_error: 0.1282\n",
      "Epoch 2/20\n",
      "368/368 [==============================] - 1s 4ms/step - loss: 0.0358 - mean_absolute_error: 0.1123 - val_loss: 0.0452 - val_mean_absolute_error: 0.1294\n",
      "Epoch 3/20\n",
      "368/368 [==============================] - 1s 4ms/step - loss: 0.0362 - mean_absolute_error: 0.1145 - val_loss: 0.0429 - val_mean_absolute_error: 0.1208\n",
      "Epoch 4/20\n",
      "368/368 [==============================] - 1s 4ms/step - loss: 0.0355 - mean_absolute_error: 0.1118 - val_loss: 0.0424 - val_mean_absolute_error: 0.1199\n",
      "Epoch 5/20\n",
      "368/368 [==============================] - 1s 4ms/step - loss: 0.0359 - mean_absolute_error: 0.1138 - val_loss: 0.0462 - val_mean_absolute_error: 0.1334\n",
      "Epoch 6/20\n",
      "368/368 [==============================] - 1s 4ms/step - loss: 0.0361 - mean_absolute_error: 0.1141 - val_loss: 0.0426 - val_mean_absolute_error: 0.1271\n",
      "***TRAIN***:\n",
      "correlation related to cluster centre: 0.98\n",
      "r2 score related to cluster centre: 0.97\n",
      "***VALIDATION***:\n",
      "correlation related to cluster centre: 0.96\n",
      "r2 score related to cluster centre: 0.92\n"
     ]
    },
    {
     "data": {
      "application/vnd.jupyter.widget-view+json": {
       "model_id": "6d4fb918b07f432ca9355f5a1b94073c",
       "version_major": 2,
       "version_minor": 0
      },
      "text/plain": [
       "IntProgress(value=0, max=64)"
      ]
     },
     "metadata": {},
     "output_type": "display_data"
    },
    {
     "name": "stdout",
     "output_type": "stream",
     "text": [
      "***VALIDATION***:\n",
      "average correlation: 0.90\n",
      "average r2: 0.79\n",
      "---do_investigations. cluster index : 38---\n"
     ]
    },
    {
     "data": {
      "application/vnd.jupyter.widget-view+json": {
       "model_id": "830a9d08a5c14d33b5da89bf8413dc23",
       "version_major": 2,
       "version_minor": 0
      },
      "text/plain": [
       "IntProgress(value=0, max=1)"
      ]
     },
     "metadata": {},
     "output_type": "display_data"
    },
    {
     "name": "stdout",
     "output_type": "stream",
     "text": [
      "Epoch 1/20\n",
      "368/368 [==============================] - 3s 4ms/step - loss: 0.2289 - mean_absolute_error: 0.3356 - val_loss: 0.1430 - val_mean_absolute_error: 0.2723\n",
      "Epoch 2/20\n",
      "368/368 [==============================] - 1s 4ms/step - loss: 0.2101 - mean_absolute_error: 0.3195 - val_loss: 0.1445 - val_mean_absolute_error: 0.2792\n",
      "Epoch 3/20\n",
      "368/368 [==============================] - 1s 4ms/step - loss: 0.2101 - mean_absolute_error: 0.3184 - val_loss: 0.1458 - val_mean_absolute_error: 0.2703\n",
      "***TRAIN***:\n",
      "correlation related to cluster centre: 0.89\n",
      "r2 score related to cluster centre: 0.79\n",
      "***VALIDATION***:\n",
      "correlation related to cluster centre: 0.90\n",
      "r2 score related to cluster centre: 0.80\n"
     ]
    },
    {
     "data": {
      "application/vnd.jupyter.widget-view+json": {
       "model_id": "2eeff17728b84244ba33a365a479fd8f",
       "version_major": 2,
       "version_minor": 0
      },
      "text/plain": [
       "IntProgress(value=0, max=1)"
      ]
     },
     "metadata": {},
     "output_type": "display_data"
    },
    {
     "name": "stdout",
     "output_type": "stream",
     "text": [
      "***VALIDATION***:\n",
      "average correlation: 0.90\n",
      "average r2: 0.80\n",
      "---do_investigations. cluster index : 39---\n"
     ]
    },
    {
     "data": {
      "application/vnd.jupyter.widget-view+json": {
       "model_id": "ffaa3b44a1ab42c0ad97aa47aeefcc14",
       "version_major": 2,
       "version_minor": 0
      },
      "text/plain": [
       "IntProgress(value=0, max=9)"
      ]
     },
     "metadata": {},
     "output_type": "display_data"
    },
    {
     "name": "stdout",
     "output_type": "stream",
     "text": [
      "Epoch 1/20\n",
      "368/368 [==============================] - 3s 4ms/step - loss: 0.2413 - mean_absolute_error: 0.3478 - val_loss: 0.1801 - val_mean_absolute_error: 0.3018\n",
      "Epoch 2/20\n",
      "368/368 [==============================] - 1s 4ms/step - loss: 0.2114 - mean_absolute_error: 0.3222 - val_loss: 0.1800 - val_mean_absolute_error: 0.2910\n",
      "Epoch 3/20\n",
      "368/368 [==============================] - 1s 4ms/step - loss: 0.2097 - mean_absolute_error: 0.3210 - val_loss: 0.1847 - val_mean_absolute_error: 0.3071\n",
      "Epoch 4/20\n",
      "368/368 [==============================] - 1s 4ms/step - loss: 0.2104 - mean_absolute_error: 0.3214 - val_loss: 0.1790 - val_mean_absolute_error: 0.3005\n",
      "Epoch 5/20\n",
      "368/368 [==============================] - 1s 4ms/step - loss: 0.2091 - mean_absolute_error: 0.3206 - val_loss: 0.1753 - val_mean_absolute_error: 0.2951\n",
      "Epoch 6/20\n",
      "368/368 [==============================] - 1s 4ms/step - loss: 0.2092 - mean_absolute_error: 0.3204 - val_loss: 0.1811 - val_mean_absolute_error: 0.2970\n",
      "Epoch 7/20\n",
      "368/368 [==============================] - 1s 4ms/step - loss: 0.2099 - mean_absolute_error: 0.3212 - val_loss: 0.1751 - val_mean_absolute_error: 0.2955\n",
      "Epoch 8/20\n",
      "368/368 [==============================] - 1s 4ms/step - loss: 0.2085 - mean_absolute_error: 0.3194 - val_loss: 0.1749 - val_mean_absolute_error: 0.2909\n",
      "Epoch 9/20\n",
      "368/368 [==============================] - 1s 4ms/step - loss: 0.2085 - mean_absolute_error: 0.3192 - val_loss: 0.1745 - val_mean_absolute_error: 0.2939\n",
      "Epoch 10/20\n",
      "368/368 [==============================] - 1s 4ms/step - loss: 0.2087 - mean_absolute_error: 0.3195 - val_loss: 0.1748 - val_mean_absolute_error: 0.2951\n",
      "Epoch 11/20\n",
      "368/368 [==============================] - 1s 4ms/step - loss: 0.2085 - mean_absolute_error: 0.3192 - val_loss: 0.1760 - val_mean_absolute_error: 0.2991\n",
      "***TRAIN***:\n",
      "correlation related to cluster centre: 0.89\n",
      "r2 score related to cluster centre: 0.79\n",
      "***VALIDATION***:\n",
      "correlation related to cluster centre: 0.91\n",
      "r2 score related to cluster centre: 0.82\n"
     ]
    },
    {
     "data": {
      "application/vnd.jupyter.widget-view+json": {
       "model_id": "5fee987da0d34272be55a50fe3ab3073",
       "version_major": 2,
       "version_minor": 0
      },
      "text/plain": [
       "IntProgress(value=0, max=9)"
      ]
     },
     "metadata": {},
     "output_type": "display_data"
    },
    {
     "name": "stdout",
     "output_type": "stream",
     "text": [
      "***VALIDATION***:\n",
      "average correlation: 0.90\n",
      "average r2: 0.81\n",
      "---do_investigations. cluster index : 40---\n"
     ]
    },
    {
     "data": {
      "application/vnd.jupyter.widget-view+json": {
       "model_id": "af4c08dc64ba48b0ab98a5cd5caa5ab3",
       "version_major": 2,
       "version_minor": 0
      },
      "text/plain": [
       "IntProgress(value=0, max=3)"
      ]
     },
     "metadata": {},
     "output_type": "display_data"
    },
    {
     "name": "stdout",
     "output_type": "stream",
     "text": [
      "Epoch 1/20\n",
      "368/368 [==============================] - 3s 4ms/step - loss: 0.2394 - mean_absolute_error: 0.3471 - val_loss: 0.1912 - val_mean_absolute_error: 0.3074\n",
      "Epoch 2/20\n",
      "368/368 [==============================] - 1s 4ms/step - loss: 0.2103 - mean_absolute_error: 0.3221 - val_loss: 0.1910 - val_mean_absolute_error: 0.3052\n",
      "Epoch 3/20\n",
      "368/368 [==============================] - 1s 4ms/step - loss: 0.2114 - mean_absolute_error: 0.3229 - val_loss: 0.1906 - val_mean_absolute_error: 0.3129\n",
      "Epoch 4/20\n",
      "368/368 [==============================] - 1s 4ms/step - loss: 0.2110 - mean_absolute_error: 0.3222 - val_loss: 0.1927 - val_mean_absolute_error: 0.3092\n",
      "Epoch 5/20\n",
      "368/368 [==============================] - 1s 4ms/step - loss: 0.2099 - mean_absolute_error: 0.3216 - val_loss: 0.1899 - val_mean_absolute_error: 0.3072\n",
      "Epoch 6/20\n",
      "368/368 [==============================] - 1s 4ms/step - loss: 0.2084 - mean_absolute_error: 0.3197 - val_loss: 0.1965 - val_mean_absolute_error: 0.3188\n",
      "Epoch 7/20\n",
      "368/368 [==============================] - 1s 4ms/step - loss: 0.2085 - mean_absolute_error: 0.3201 - val_loss: 0.1949 - val_mean_absolute_error: 0.3240\n",
      "***TRAIN***:\n",
      "correlation related to cluster centre: 0.89\n",
      "r2 score related to cluster centre: 0.79\n",
      "***VALIDATION***:\n",
      "correlation related to cluster centre: 0.90\n",
      "r2 score related to cluster centre: 0.81\n"
     ]
    },
    {
     "data": {
      "application/vnd.jupyter.widget-view+json": {
       "model_id": "1e9ee34da99d46498586ed5feb5b9368",
       "version_major": 2,
       "version_minor": 0
      },
      "text/plain": [
       "IntProgress(value=0, max=3)"
      ]
     },
     "metadata": {},
     "output_type": "display_data"
    },
    {
     "name": "stdout",
     "output_type": "stream",
     "text": [
      "***VALIDATION***:\n",
      "average correlation: 0.90\n",
      "average r2: 0.80\n",
      "---do_investigations. cluster index : 41---\n"
     ]
    },
    {
     "data": {
      "application/vnd.jupyter.widget-view+json": {
       "model_id": "523d26d9a6d042e58746bd8699261e88",
       "version_major": 2,
       "version_minor": 0
      },
      "text/plain": [
       "IntProgress(value=0, max=5)"
      ]
     },
     "metadata": {},
     "output_type": "display_data"
    },
    {
     "name": "stdout",
     "output_type": "stream",
     "text": [
      "Epoch 1/20\n",
      "368/368 [==============================] - 3s 4ms/step - loss: 0.2341 - mean_absolute_error: 0.3285 - val_loss: 0.1869 - val_mean_absolute_error: 0.2798\n",
      "Epoch 2/20\n",
      "368/368 [==============================] - 1s 4ms/step - loss: 0.2013 - mean_absolute_error: 0.3064 - val_loss: 0.1982 - val_mean_absolute_error: 0.3025\n",
      "Epoch 3/20\n",
      "368/368 [==============================] - 1s 4ms/step - loss: 0.2003 - mean_absolute_error: 0.3057 - val_loss: 0.1811 - val_mean_absolute_error: 0.2820\n",
      "Epoch 4/20\n",
      "368/368 [==============================] - 1s 4ms/step - loss: 0.1971 - mean_absolute_error: 0.3030 - val_loss: 0.1809 - val_mean_absolute_error: 0.2877\n",
      "Epoch 5/20\n",
      "368/368 [==============================] - 1s 4ms/step - loss: 0.1978 - mean_absolute_error: 0.3043 - val_loss: 0.1830 - val_mean_absolute_error: 0.2822\n",
      "Epoch 6/20\n",
      "368/368 [==============================] - 1s 4ms/step - loss: 0.1980 - mean_absolute_error: 0.3041 - val_loss: 0.1871 - val_mean_absolute_error: 0.2906\n",
      "***TRAIN***:\n",
      "correlation related to cluster centre: 0.90\n",
      "r2 score related to cluster centre: 0.80\n",
      "***VALIDATION***:\n",
      "correlation related to cluster centre: 0.91\n",
      "r2 score related to cluster centre: 0.82\n"
     ]
    },
    {
     "data": {
      "application/vnd.jupyter.widget-view+json": {
       "model_id": "4e24d0df5fbc4ba184d7272f810272c0",
       "version_major": 2,
       "version_minor": 0
      },
      "text/plain": [
       "IntProgress(value=0, max=5)"
      ]
     },
     "metadata": {},
     "output_type": "display_data"
    },
    {
     "name": "stdout",
     "output_type": "stream",
     "text": [
      "***VALIDATION***:\n",
      "average correlation: 0.91\n",
      "average r2: 0.81\n",
      "---do_investigations. cluster index : 42---\n"
     ]
    },
    {
     "data": {
      "application/vnd.jupyter.widget-view+json": {
       "model_id": "d30a6b590c1149b4a7233315f444b127",
       "version_major": 2,
       "version_minor": 0
      },
      "text/plain": [
       "IntProgress(value=0, max=6)"
      ]
     },
     "metadata": {},
     "output_type": "display_data"
    },
    {
     "name": "stdout",
     "output_type": "stream",
     "text": [
      "Epoch 1/20\n",
      "368/368 [==============================] - 3s 4ms/step - loss: 0.2275 - mean_absolute_error: 0.3237 - val_loss: 0.1592 - val_mean_absolute_error: 0.2565\n",
      "Epoch 2/20\n",
      "368/368 [==============================] - 1s 4ms/step - loss: 0.2028 - mean_absolute_error: 0.3054 - val_loss: 0.1514 - val_mean_absolute_error: 0.2520\n",
      "Epoch 3/20\n",
      "368/368 [==============================] - 1s 4ms/step - loss: 0.2025 - mean_absolute_error: 0.3043 - val_loss: 0.1555 - val_mean_absolute_error: 0.2603\n",
      "Epoch 4/20\n",
      "368/368 [==============================] - 1s 4ms/step - loss: 0.2014 - mean_absolute_error: 0.3034 - val_loss: 0.1528 - val_mean_absolute_error: 0.2548\n",
      "***TRAIN***:\n",
      "correlation related to cluster centre: 0.89\n",
      "r2 score related to cluster centre: 0.80\n",
      "***VALIDATION***:\n",
      "correlation related to cluster centre: 0.91\n",
      "r2 score related to cluster centre: 0.82\n"
     ]
    },
    {
     "data": {
      "application/vnd.jupyter.widget-view+json": {
       "model_id": "a4183a72957049ab896605e3fd2537e2",
       "version_major": 2,
       "version_minor": 0
      },
      "text/plain": [
       "IntProgress(value=0, max=6)"
      ]
     },
     "metadata": {},
     "output_type": "display_data"
    },
    {
     "name": "stdout",
     "output_type": "stream",
     "text": [
      "***VALIDATION***:\n",
      "average correlation: 0.91\n",
      "average r2: 0.82\n",
      "---do_investigations. cluster index : 43---\n"
     ]
    },
    {
     "data": {
      "application/vnd.jupyter.widget-view+json": {
       "model_id": "ced49aaaedac4ba8bc5a11b2a47ec302",
       "version_major": 2,
       "version_minor": 0
      },
      "text/plain": [
       "IntProgress(value=0, max=1)"
      ]
     },
     "metadata": {},
     "output_type": "display_data"
    },
    {
     "name": "stdout",
     "output_type": "stream",
     "text": [
      "Epoch 1/20\n",
      "368/368 [==============================] - 3s 4ms/step - loss: 0.2450 - mean_absolute_error: 0.3463 - val_loss: 0.1397 - val_mean_absolute_error: 0.2553\n",
      "Epoch 2/20\n",
      "368/368 [==============================] - 1s 4ms/step - loss: 0.2110 - mean_absolute_error: 0.3173 - val_loss: 0.1392 - val_mean_absolute_error: 0.2539\n",
      "Epoch 3/20\n",
      "368/368 [==============================] - 1s 4ms/step - loss: 0.2110 - mean_absolute_error: 0.3180 - val_loss: 0.1377 - val_mean_absolute_error: 0.2560\n",
      "Epoch 4/20\n",
      "368/368 [==============================] - 1s 4ms/step - loss: 0.2104 - mean_absolute_error: 0.3169 - val_loss: 0.1385 - val_mean_absolute_error: 0.2521\n",
      "Epoch 5/20\n",
      "368/368 [==============================] - 1s 4ms/step - loss: 0.2107 - mean_absolute_error: 0.3167 - val_loss: 0.1389 - val_mean_absolute_error: 0.2518\n",
      "***TRAIN***:\n",
      "correlation related to cluster centre: 0.89\n",
      "r2 score related to cluster centre: 0.79\n",
      "***VALIDATION***:\n",
      "correlation related to cluster centre: 0.91\n",
      "r2 score related to cluster centre: 0.83\n"
     ]
    },
    {
     "data": {
      "application/vnd.jupyter.widget-view+json": {
       "model_id": "65e897f9cb9c4a3d9f8afa88ce1e3cfc",
       "version_major": 2,
       "version_minor": 0
      },
      "text/plain": [
       "IntProgress(value=0, max=1)"
      ]
     },
     "metadata": {},
     "output_type": "display_data"
    },
    {
     "name": "stdout",
     "output_type": "stream",
     "text": [
      "***VALIDATION***:\n",
      "average correlation: 0.91\n",
      "average r2: 0.83\n",
      "---do_investigations. cluster index : 44---\n"
     ]
    },
    {
     "data": {
      "application/vnd.jupyter.widget-view+json": {
       "model_id": "78526946a1f24979aa5da15b7702e4c9",
       "version_major": 2,
       "version_minor": 0
      },
      "text/plain": [
       "IntProgress(value=0, max=91)"
      ]
     },
     "metadata": {},
     "output_type": "display_data"
    },
    {
     "name": "stdout",
     "output_type": "stream",
     "text": [
      "Epoch 1/20\n",
      "368/368 [==============================] - 3s 4ms/step - loss: 0.2570 - mean_absolute_error: 0.3237 - val_loss: 0.1922 - val_mean_absolute_error: 0.2803\n",
      "Epoch 2/20\n",
      "368/368 [==============================] - 1s 4ms/step - loss: 0.2128 - mean_absolute_error: 0.2971 - val_loss: 0.1808 - val_mean_absolute_error: 0.2684\n",
      "Epoch 3/20\n",
      "368/368 [==============================] - 1s 4ms/step - loss: 0.2117 - mean_absolute_error: 0.2966 - val_loss: 0.1735 - val_mean_absolute_error: 0.2652\n",
      "Epoch 4/20\n",
      "368/368 [==============================] - 1s 4ms/step - loss: 0.2092 - mean_absolute_error: 0.2942 - val_loss: 0.1757 - val_mean_absolute_error: 0.2626\n",
      "Epoch 5/20\n",
      "368/368 [==============================] - 1s 4ms/step - loss: 0.2098 - mean_absolute_error: 0.2940 - val_loss: 0.1789 - val_mean_absolute_error: 0.2726\n",
      "***TRAIN***:\n",
      "correlation related to cluster centre: 0.89\n",
      "r2 score related to cluster centre: 0.79\n",
      "***VALIDATION***:\n",
      "correlation related to cluster centre: 0.90\n",
      "r2 score related to cluster centre: 0.81\n"
     ]
    },
    {
     "data": {
      "application/vnd.jupyter.widget-view+json": {
       "model_id": "6676c2d12d60411e87574d3b431aa697",
       "version_major": 2,
       "version_minor": 0
      },
      "text/plain": [
       "IntProgress(value=0, max=91)"
      ]
     },
     "metadata": {},
     "output_type": "display_data"
    },
    {
     "name": "stdout",
     "output_type": "stream",
     "text": [
      "***VALIDATION***:\n",
      "average correlation: 0.90\n",
      "average r2: 0.81\n",
      "---do_investigations. cluster index : 45---\n"
     ]
    },
    {
     "data": {
      "application/vnd.jupyter.widget-view+json": {
       "model_id": "4538a67eab6b437ca9578f2ca2e57514",
       "version_major": 2,
       "version_minor": 0
      },
      "text/plain": [
       "IntProgress(value=0, max=11)"
      ]
     },
     "metadata": {},
     "output_type": "display_data"
    },
    {
     "name": "stdout",
     "output_type": "stream",
     "text": [
      "Epoch 1/20\n",
      "368/368 [==============================] - 4s 5ms/step - loss: 0.2090 - mean_absolute_error: 0.2922 - val_loss: 0.5656 - val_mean_absolute_error: 0.3198\n",
      "Epoch 2/20\n",
      "368/368 [==============================] - 1s 4ms/step - loss: 0.1822 - mean_absolute_error: 0.2729 - val_loss: 0.5472 - val_mean_absolute_error: 0.3211\n",
      "Epoch 3/20\n",
      "368/368 [==============================] - 1s 4ms/step - loss: 0.1822 - mean_absolute_error: 0.2729 - val_loss: 0.5401 - val_mean_absolute_error: 0.3172\n",
      "Epoch 4/20\n",
      "368/368 [==============================] - 1s 4ms/step - loss: 0.1804 - mean_absolute_error: 0.2703 - val_loss: 0.5462 - val_mean_absolute_error: 0.3193\n",
      "Epoch 5/20\n",
      "368/368 [==============================] - 1s 4ms/step - loss: 0.1809 - mean_absolute_error: 0.2711 - val_loss: 0.5383 - val_mean_absolute_error: 0.3225\n",
      "Epoch 6/20\n",
      "368/368 [==============================] - 1s 4ms/step - loss: 0.1793 - mean_absolute_error: 0.2696 - val_loss: 0.5443 - val_mean_absolute_error: 0.3177\n",
      "Epoch 7/20\n",
      "368/368 [==============================] - 1s 4ms/step - loss: 0.1805 - mean_absolute_error: 0.2719 - val_loss: 0.5443 - val_mean_absolute_error: 0.3205\n",
      "***TRAIN***:\n",
      "correlation related to cluster centre: 0.91\n",
      "r2 score related to cluster centre: 0.82\n",
      "***VALIDATION***:\n",
      "correlation related to cluster centre: 0.85\n",
      "r2 score related to cluster centre: 0.70\n"
     ]
    },
    {
     "data": {
      "application/vnd.jupyter.widget-view+json": {
       "model_id": "8242138b31bf47ff9b85f7698ffd4e1b",
       "version_major": 2,
       "version_minor": 0
      },
      "text/plain": [
       "IntProgress(value=0, max=11)"
      ]
     },
     "metadata": {},
     "output_type": "display_data"
    },
    {
     "name": "stdout",
     "output_type": "stream",
     "text": [
      "***VALIDATION***:\n",
      "average correlation: 0.85\n",
      "average r2: 0.71\n",
      "---do_investigations. cluster index : 46---\n"
     ]
    },
    {
     "data": {
      "application/vnd.jupyter.widget-view+json": {
       "model_id": "65b4408bea5c4c5cb965f362c0a5dcdc",
       "version_major": 2,
       "version_minor": 0
      },
      "text/plain": [
       "IntProgress(value=0, max=80)"
      ]
     },
     "metadata": {},
     "output_type": "display_data"
    },
    {
     "name": "stdout",
     "output_type": "stream",
     "text": [
      "Epoch 1/20\n",
      "368/368 [==============================] - 3s 4ms/step - loss: 0.2244 - mean_absolute_error: 0.3244 - val_loss: 0.1813 - val_mean_absolute_error: 0.2834\n",
      "Epoch 2/20\n",
      "368/368 [==============================] - 1s 4ms/step - loss: 0.2025 - mean_absolute_error: 0.3057 - val_loss: 0.1922 - val_mean_absolute_error: 0.2918\n",
      "Epoch 3/20\n",
      "368/368 [==============================] - 1s 4ms/step - loss: 0.2014 - mean_absolute_error: 0.3052 - val_loss: 0.2015 - val_mean_absolute_error: 0.3007\n",
      "***TRAIN***:\n",
      "correlation related to cluster centre: 0.90\n",
      "r2 score related to cluster centre: 0.79\n",
      "***VALIDATION***:\n",
      "correlation related to cluster centre: 0.91\n",
      "r2 score related to cluster centre: 0.79\n"
     ]
    },
    {
     "data": {
      "application/vnd.jupyter.widget-view+json": {
       "model_id": "296557c816de40d491d42e4a96e90fdb",
       "version_major": 2,
       "version_minor": 0
      },
      "text/plain": [
       "IntProgress(value=0, max=80)"
      ]
     },
     "metadata": {},
     "output_type": "display_data"
    },
    {
     "name": "stdout",
     "output_type": "stream",
     "text": [
      "***VALIDATION***:\n",
      "average correlation: 0.92\n",
      "average r2: 0.76\n",
      "---do_investigations. cluster index : 47---\n"
     ]
    },
    {
     "data": {
      "application/vnd.jupyter.widget-view+json": {
       "model_id": "72617266ee444cbebb2182ede2562def",
       "version_major": 2,
       "version_minor": 0
      },
      "text/plain": [
       "IntProgress(value=0, max=114)"
      ]
     },
     "metadata": {},
     "output_type": "display_data"
    },
    {
     "name": "stdout",
     "output_type": "stream",
     "text": [
      "Epoch 1/20\n",
      "368/368 [==============================] - 3s 4ms/step - loss: 0.2394 - mean_absolute_error: 0.3351 - val_loss: 0.1982 - val_mean_absolute_error: 0.2958\n",
      "Epoch 2/20\n",
      "368/368 [==============================] - 1s 4ms/step - loss: 0.2046 - mean_absolute_error: 0.3086 - val_loss: 0.1985 - val_mean_absolute_error: 0.2912\n",
      "Epoch 3/20\n",
      "368/368 [==============================] - 1s 4ms/step - loss: 0.2057 - mean_absolute_error: 0.3087 - val_loss: 0.1994 - val_mean_absolute_error: 0.2905\n",
      "***TRAIN***:\n",
      "correlation related to cluster centre: 0.89\n",
      "r2 score related to cluster centre: 0.80\n",
      "***VALIDATION***:\n",
      "correlation related to cluster centre: 0.90\n",
      "r2 score related to cluster centre: 0.81\n"
     ]
    },
    {
     "data": {
      "application/vnd.jupyter.widget-view+json": {
       "model_id": "60a54c67685a4bdaa184b681a9a5e485",
       "version_major": 2,
       "version_minor": 0
      },
      "text/plain": [
       "IntProgress(value=0, max=114)"
      ]
     },
     "metadata": {},
     "output_type": "display_data"
    },
    {
     "name": "stdout",
     "output_type": "stream",
     "text": [
      "***VALIDATION***:\n",
      "average correlation: 0.89\n",
      "average r2: 0.78\n",
      "---do_investigations. cluster index : 48---\n"
     ]
    },
    {
     "data": {
      "application/vnd.jupyter.widget-view+json": {
       "model_id": "5507fe4fce3a4743ba05f13c896aa580",
       "version_major": 2,
       "version_minor": 0
      },
      "text/plain": [
       "IntProgress(value=0, max=99)"
      ]
     },
     "metadata": {},
     "output_type": "display_data"
    },
    {
     "name": "stdout",
     "output_type": "stream",
     "text": [
      "Epoch 1/20\n",
      "368/368 [==============================] - 3s 4ms/step - loss: 0.2314 - mean_absolute_error: 0.2888 - val_loss: 0.3145 - val_mean_absolute_error: 0.2837\n",
      "Epoch 2/20\n",
      "368/368 [==============================] - 1s 4ms/step - loss: 0.2081 - mean_absolute_error: 0.2732 - val_loss: 0.3133 - val_mean_absolute_error: 0.2873\n",
      "Epoch 3/20\n",
      "368/368 [==============================] - 1s 4ms/step - loss: 0.2074 - mean_absolute_error: 0.2731 - val_loss: 0.3086 - val_mean_absolute_error: 0.2857\n",
      "Epoch 4/20\n",
      "368/368 [==============================] - 1s 4ms/step - loss: 0.2075 - mean_absolute_error: 0.2740 - val_loss: 0.3075 - val_mean_absolute_error: 0.2858\n",
      "Epoch 5/20\n",
      "368/368 [==============================] - 1s 4ms/step - loss: 0.2060 - mean_absolute_error: 0.2733 - val_loss: 0.2953 - val_mean_absolute_error: 0.2822\n",
      "Epoch 6/20\n",
      "368/368 [==============================] - 1s 4ms/step - loss: 0.2058 - mean_absolute_error: 0.2726 - val_loss: 0.2905 - val_mean_absolute_error: 0.2819\n",
      "Epoch 7/20\n",
      "368/368 [==============================] - 1s 4ms/step - loss: 0.2051 - mean_absolute_error: 0.2714 - val_loss: 0.3112 - val_mean_absolute_error: 0.2911\n",
      "Epoch 8/20\n",
      "368/368 [==============================] - 1s 4ms/step - loss: 0.2057 - mean_absolute_error: 0.2713 - val_loss: 0.3026 - val_mean_absolute_error: 0.2874\n",
      "***TRAIN***:\n",
      "correlation related to cluster centre: 0.89\n",
      "r2 score related to cluster centre: 0.80\n",
      "***VALIDATION***:\n",
      "correlation related to cluster centre: 0.89\n",
      "r2 score related to cluster centre: 0.78\n"
     ]
    },
    {
     "data": {
      "application/vnd.jupyter.widget-view+json": {
       "model_id": "a03c544cac1640769dfd67978055843f",
       "version_major": 2,
       "version_minor": 0
      },
      "text/plain": [
       "IntProgress(value=0, max=99)"
      ]
     },
     "metadata": {},
     "output_type": "display_data"
    },
    {
     "name": "stdout",
     "output_type": "stream",
     "text": [
      "***VALIDATION***:\n",
      "average correlation: 0.88\n",
      "average r2: 0.71\n",
      "---do_investigations. cluster index : 49---\n"
     ]
    },
    {
     "data": {
      "application/vnd.jupyter.widget-view+json": {
       "model_id": "91298222831a4e45bb57d1f9b8f689c9",
       "version_major": 2,
       "version_minor": 0
      },
      "text/plain": [
       "IntProgress(value=0, max=8)"
      ]
     },
     "metadata": {},
     "output_type": "display_data"
    },
    {
     "name": "stdout",
     "output_type": "stream",
     "text": [
      "Epoch 1/20\n",
      "368/368 [==============================] - 3s 4ms/step - loss: 0.2475 - mean_absolute_error: 0.3552 - val_loss: 0.1843 - val_mean_absolute_error: 0.3044\n",
      "Epoch 2/20\n",
      "368/368 [==============================] - 1s 4ms/step - loss: 0.2154 - mean_absolute_error: 0.3269 - val_loss: 0.1815 - val_mean_absolute_error: 0.3012\n",
      "Epoch 3/20\n",
      "368/368 [==============================] - 1s 4ms/step - loss: 0.2133 - mean_absolute_error: 0.3256 - val_loss: 0.1822 - val_mean_absolute_error: 0.3006\n",
      "Epoch 4/20\n",
      "368/368 [==============================] - 1s 4ms/step - loss: 0.2151 - mean_absolute_error: 0.3267 - val_loss: 0.1860 - val_mean_absolute_error: 0.3073\n",
      "***TRAIN***:\n",
      "correlation related to cluster centre: 0.89\n",
      "r2 score related to cluster centre: 0.79\n",
      "***VALIDATION***:\n",
      "correlation related to cluster centre: 0.90\n",
      "r2 score related to cluster centre: 0.81\n"
     ]
    },
    {
     "data": {
      "application/vnd.jupyter.widget-view+json": {
       "model_id": "eb3d9bd9b31b45deaa500daa2764437c",
       "version_major": 2,
       "version_minor": 0
      },
      "text/plain": [
       "IntProgress(value=0, max=8)"
      ]
     },
     "metadata": {},
     "output_type": "display_data"
    },
    {
     "name": "stdout",
     "output_type": "stream",
     "text": [
      "***VALIDATION***:\n",
      "average correlation: 0.90\n",
      "average r2: 0.80\n",
      "---do_investigations. cluster index : 50---\n"
     ]
    },
    {
     "data": {
      "application/vnd.jupyter.widget-view+json": {
       "model_id": "54aa6b6eda554e938a383a84d482a8eb",
       "version_major": 2,
       "version_minor": 0
      },
      "text/plain": [
       "IntProgress(value=0, max=13)"
      ]
     },
     "metadata": {},
     "output_type": "display_data"
    },
    {
     "name": "stdout",
     "output_type": "stream",
     "text": [
      "Epoch 1/20\n",
      "368/368 [==============================] - 3s 4ms/step - loss: 0.2386 - mean_absolute_error: 0.3364 - val_loss: 0.1854 - val_mean_absolute_error: 0.2968\n",
      "Epoch 2/20\n",
      "368/368 [==============================] - 1s 4ms/step - loss: 0.2072 - mean_absolute_error: 0.3110 - val_loss: 0.1805 - val_mean_absolute_error: 0.2907\n",
      "Epoch 3/20\n",
      "368/368 [==============================] - 1s 4ms/step - loss: 0.2064 - mean_absolute_error: 0.3094 - val_loss: 0.1842 - val_mean_absolute_error: 0.2943\n",
      "Epoch 4/20\n",
      "368/368 [==============================] - 1s 4ms/step - loss: 0.2063 - mean_absolute_error: 0.3096 - val_loss: 0.1806 - val_mean_absolute_error: 0.2984\n",
      "***TRAIN***:\n",
      "correlation related to cluster centre: 0.89\n",
      "r2 score related to cluster centre: 0.80\n",
      "***VALIDATION***:\n",
      "correlation related to cluster centre: 0.91\n",
      "r2 score related to cluster centre: 0.82\n"
     ]
    },
    {
     "data": {
      "application/vnd.jupyter.widget-view+json": {
       "model_id": "80cc7d9995ad4a79b0bffe8fd143de23",
       "version_major": 2,
       "version_minor": 0
      },
      "text/plain": [
       "IntProgress(value=0, max=13)"
      ]
     },
     "metadata": {},
     "output_type": "display_data"
    },
    {
     "name": "stdout",
     "output_type": "stream",
     "text": [
      "***VALIDATION***:\n",
      "average correlation: 0.90\n",
      "average r2: 0.81\n",
      "---do_investigations. cluster index : 51---\n"
     ]
    },
    {
     "data": {
      "application/vnd.jupyter.widget-view+json": {
       "model_id": "66634a3b7fbc4f6aa9b3027d6feedbf6",
       "version_major": 2,
       "version_minor": 0
      },
      "text/plain": [
       "IntProgress(value=0, max=177)"
      ]
     },
     "metadata": {},
     "output_type": "display_data"
    },
    {
     "name": "stdout",
     "output_type": "stream",
     "text": [
      "Epoch 1/20\n",
      "368/368 [==============================] - 4s 5ms/step - loss: 0.2406 - mean_absolute_error: 0.2967 - val_loss: 0.2531 - val_mean_absolute_error: 0.2723\n",
      "Epoch 2/20\n",
      "368/368 [==============================] - 1s 4ms/step - loss: 0.2091 - mean_absolute_error: 0.2790 - val_loss: 0.2484 - val_mean_absolute_error: 0.2824\n",
      "Epoch 3/20\n",
      "368/368 [==============================] - 1s 4ms/step - loss: 0.2053 - mean_absolute_error: 0.2754 - val_loss: 0.2574 - val_mean_absolute_error: 0.2830\n",
      "Epoch 4/20\n",
      "368/368 [==============================] - 1s 4ms/step - loss: 0.2062 - mean_absolute_error: 0.2769 - val_loss: 0.2506 - val_mean_absolute_error: 0.2718\n",
      "***TRAIN***:\n",
      "correlation related to cluster centre: 0.89\n",
      "r2 score related to cluster centre: 0.79\n",
      "***VALIDATION***:\n",
      "correlation related to cluster centre: 0.89\n",
      "r2 score related to cluster centre: 0.79\n"
     ]
    },
    {
     "data": {
      "application/vnd.jupyter.widget-view+json": {
       "model_id": "bfbfcedfe31e4b2ba27f404c295fabdf",
       "version_major": 2,
       "version_minor": 0
      },
      "text/plain": [
       "IntProgress(value=0, max=177)"
      ]
     },
     "metadata": {},
     "output_type": "display_data"
    },
    {
     "name": "stdout",
     "output_type": "stream",
     "text": [
      "***VALIDATION***:\n",
      "average correlation: 0.88\n",
      "average r2: 0.76\n",
      "---do_investigations. cluster index : 52---\n"
     ]
    },
    {
     "data": {
      "application/vnd.jupyter.widget-view+json": {
       "model_id": "157b828f4a1a4a438b4a246005001d58",
       "version_major": 2,
       "version_minor": 0
      },
      "text/plain": [
       "IntProgress(value=0, max=25)"
      ]
     },
     "metadata": {},
     "output_type": "display_data"
    },
    {
     "name": "stdout",
     "output_type": "stream",
     "text": [
      "Epoch 1/20\n",
      "368/368 [==============================] - 3s 5ms/step - loss: 0.2448 - mean_absolute_error: 0.3447 - val_loss: 0.1893 - val_mean_absolute_error: 0.3040\n",
      "Epoch 2/20\n",
      "368/368 [==============================] - 1s 4ms/step - loss: 0.2098 - mean_absolute_error: 0.3159 - val_loss: 0.1894 - val_mean_absolute_error: 0.3022\n",
      "Epoch 3/20\n",
      "368/368 [==============================] - 1s 4ms/step - loss: 0.2090 - mean_absolute_error: 0.3161 - val_loss: 0.1867 - val_mean_absolute_error: 0.2952\n",
      "Epoch 4/20\n",
      "368/368 [==============================] - 1s 4ms/step - loss: 0.2084 - mean_absolute_error: 0.3146 - val_loss: 0.1909 - val_mean_absolute_error: 0.2982\n",
      "Epoch 5/20\n",
      "368/368 [==============================] - 1s 4ms/step - loss: 0.2078 - mean_absolute_error: 0.3142 - val_loss: 0.1909 - val_mean_absolute_error: 0.2919\n",
      "***TRAIN***:\n",
      "correlation related to cluster centre: 0.89\n",
      "r2 score related to cluster centre: 0.79\n",
      "***VALIDATION***:\n",
      "correlation related to cluster centre: 0.90\n",
      "r2 score related to cluster centre: 0.81\n"
     ]
    },
    {
     "data": {
      "application/vnd.jupyter.widget-view+json": {
       "model_id": "c6b5954f4d034f82b751f13b2b2f50e9",
       "version_major": 2,
       "version_minor": 0
      },
      "text/plain": [
       "IntProgress(value=0, max=25)"
      ]
     },
     "metadata": {},
     "output_type": "display_data"
    },
    {
     "name": "stdout",
     "output_type": "stream",
     "text": [
      "***VALIDATION***:\n",
      "average correlation: 0.90\n",
      "average r2: 0.80\n",
      "---do_investigations. cluster index : 53---\n"
     ]
    },
    {
     "data": {
      "application/vnd.jupyter.widget-view+json": {
       "model_id": "36b7ccbbea014c19850525bf55ff975a",
       "version_major": 2,
       "version_minor": 0
      },
      "text/plain": [
       "IntProgress(value=0, max=4)"
      ]
     },
     "metadata": {},
     "output_type": "display_data"
    },
    {
     "name": "stdout",
     "output_type": "stream",
     "text": [
      "Epoch 1/20\n",
      "368/368 [==============================] - 3s 4ms/step - loss: 0.2336 - mean_absolute_error: 0.3408 - val_loss: 0.2098 - val_mean_absolute_error: 0.3233\n",
      "Epoch 2/20\n",
      "368/368 [==============================] - 1s 4ms/step - loss: 0.2089 - mean_absolute_error: 0.3178 - val_loss: 0.2024 - val_mean_absolute_error: 0.3213\n",
      "Epoch 3/20\n",
      "368/368 [==============================] - 1s 4ms/step - loss: 0.2086 - mean_absolute_error: 0.3175 - val_loss: 0.2107 - val_mean_absolute_error: 0.3316\n",
      "Epoch 4/20\n",
      "368/368 [==============================] - 1s 4ms/step - loss: 0.2072 - mean_absolute_error: 0.3162 - val_loss: 0.2115 - val_mean_absolute_error: 0.3242\n",
      "***TRAIN***:\n",
      "correlation related to cluster centre: 0.89\n",
      "r2 score related to cluster centre: 0.79\n",
      "***VALIDATION***:\n",
      "correlation related to cluster centre: 0.90\n",
      "r2 score related to cluster centre: 0.80\n"
     ]
    },
    {
     "data": {
      "application/vnd.jupyter.widget-view+json": {
       "model_id": "4ea9536d97ce4589a306bcaf8ce0f7a4",
       "version_major": 2,
       "version_minor": 0
      },
      "text/plain": [
       "IntProgress(value=0, max=4)"
      ]
     },
     "metadata": {},
     "output_type": "display_data"
    },
    {
     "name": "stdout",
     "output_type": "stream",
     "text": [
      "***VALIDATION***:\n",
      "average correlation: 0.90\n",
      "average r2: 0.80\n",
      "---do_investigations. cluster index : 54---\n"
     ]
    },
    {
     "data": {
      "application/vnd.jupyter.widget-view+json": {
       "model_id": "7fc0c3eb32ec4fe485d2bfeeb85247b5",
       "version_major": 2,
       "version_minor": 0
      },
      "text/plain": [
       "IntProgress(value=0, max=5)"
      ]
     },
     "metadata": {},
     "output_type": "display_data"
    },
    {
     "name": "stdout",
     "output_type": "stream",
     "text": [
      "Epoch 1/20\n",
      "368/368 [==============================] - 3s 4ms/step - loss: 0.2384 - mean_absolute_error: 0.3424 - val_loss: 0.2000 - val_mean_absolute_error: 0.3288\n",
      "Epoch 2/20\n",
      "368/368 [==============================] - 1s 4ms/step - loss: 0.2084 - mean_absolute_error: 0.3176 - val_loss: 0.1932 - val_mean_absolute_error: 0.3138\n",
      "Epoch 3/20\n",
      "368/368 [==============================] - 1s 4ms/step - loss: 0.2054 - mean_absolute_error: 0.3145 - val_loss: 0.1892 - val_mean_absolute_error: 0.3134\n",
      "Epoch 4/20\n",
      "368/368 [==============================] - 1s 4ms/step - loss: 0.2054 - mean_absolute_error: 0.3149 - val_loss: 0.1961 - val_mean_absolute_error: 0.3251\n",
      "Epoch 5/20\n",
      "368/368 [==============================] - 1s 4ms/step - loss: 0.2059 - mean_absolute_error: 0.3150 - val_loss: 0.1939 - val_mean_absolute_error: 0.3201\n",
      "***TRAIN***:\n",
      "correlation related to cluster centre: 0.89\n",
      "r2 score related to cluster centre: 0.79\n",
      "***VALIDATION***:\n",
      "correlation related to cluster centre: 0.91\n",
      "r2 score related to cluster centre: 0.81\n"
     ]
    },
    {
     "data": {
      "application/vnd.jupyter.widget-view+json": {
       "model_id": "3c5fb0fe77f344a38f3ade807fb6928b",
       "version_major": 2,
       "version_minor": 0
      },
      "text/plain": [
       "IntProgress(value=0, max=5)"
      ]
     },
     "metadata": {},
     "output_type": "display_data"
    },
    {
     "name": "stdout",
     "output_type": "stream",
     "text": [
      "***VALIDATION***:\n",
      "average correlation: 0.90\n",
      "average r2: 0.80\n",
      "---do_investigations. cluster index : 55---\n"
     ]
    },
    {
     "data": {
      "application/vnd.jupyter.widget-view+json": {
       "model_id": "be7142184b3d4efd91a15c7087a14cc7",
       "version_major": 2,
       "version_minor": 0
      },
      "text/plain": [
       "IntProgress(value=0, max=47)"
      ]
     },
     "metadata": {},
     "output_type": "display_data"
    },
    {
     "name": "stdout",
     "output_type": "stream",
     "text": [
      "Epoch 1/20\n",
      "368/368 [==============================] - 3s 4ms/step - loss: 0.2365 - mean_absolute_error: 0.3446 - val_loss: 0.2082 - val_mean_absolute_error: 0.3107\n",
      "Epoch 2/20\n",
      "368/368 [==============================] - 1s 4ms/step - loss: 0.2093 - mean_absolute_error: 0.3208 - val_loss: 0.2068 - val_mean_absolute_error: 0.3165\n",
      "Epoch 3/20\n",
      "368/368 [==============================] - 1s 4ms/step - loss: 0.2093 - mean_absolute_error: 0.3217 - val_loss: 0.2059 - val_mean_absolute_error: 0.3126\n",
      "Epoch 4/20\n",
      "368/368 [==============================] - 1s 4ms/step - loss: 0.2087 - mean_absolute_error: 0.3204 - val_loss: 0.2068 - val_mean_absolute_error: 0.3174\n",
      "Epoch 5/20\n",
      "368/368 [==============================] - 1s 4ms/step - loss: 0.2086 - mean_absolute_error: 0.3196 - val_loss: 0.2070 - val_mean_absolute_error: 0.3128\n",
      "***TRAIN***:\n",
      "correlation related to cluster centre: 0.89\n",
      "r2 score related to cluster centre: 0.79\n",
      "***VALIDATION***:\n",
      "correlation related to cluster centre: 0.90\n",
      "r2 score related to cluster centre: 0.81\n"
     ]
    },
    {
     "data": {
      "application/vnd.jupyter.widget-view+json": {
       "model_id": "33017771bdde454a842ed66a25f8cafb",
       "version_major": 2,
       "version_minor": 0
      },
      "text/plain": [
       "IntProgress(value=0, max=47)"
      ]
     },
     "metadata": {},
     "output_type": "display_data"
    },
    {
     "name": "stdout",
     "output_type": "stream",
     "text": [
      "***VALIDATION***:\n",
      "average correlation: 0.90\n",
      "average r2: 0.80\n",
      "---do_investigations. cluster index : 56---\n"
     ]
    },
    {
     "data": {
      "application/vnd.jupyter.widget-view+json": {
       "model_id": "f5de557a79af4847a0dcc9e8e0708ace",
       "version_major": 2,
       "version_minor": 0
      },
      "text/plain": [
       "IntProgress(value=0, max=28)"
      ]
     },
     "metadata": {},
     "output_type": "display_data"
    },
    {
     "name": "stdout",
     "output_type": "stream",
     "text": [
      "Epoch 1/20\n",
      "368/368 [==============================] - 3s 4ms/step - loss: 0.2144 - mean_absolute_error: 0.3146 - val_loss: 0.1734 - val_mean_absolute_error: 0.2836\n",
      "Epoch 2/20\n",
      "368/368 [==============================] - 1s 4ms/step - loss: 0.1842 - mean_absolute_error: 0.2911 - val_loss: 0.1747 - val_mean_absolute_error: 0.2931\n",
      "Epoch 3/20\n",
      "368/368 [==============================] - 1s 4ms/step - loss: 0.1854 - mean_absolute_error: 0.2925 - val_loss: 0.1684 - val_mean_absolute_error: 0.2764\n",
      "Epoch 4/20\n",
      "368/368 [==============================] - 1s 4ms/step - loss: 0.1840 - mean_absolute_error: 0.2915 - val_loss: 0.1758 - val_mean_absolute_error: 0.2894\n",
      "Epoch 5/20\n",
      "368/368 [==============================] - 1s 4ms/step - loss: 0.1845 - mean_absolute_error: 0.2918 - val_loss: 0.1737 - val_mean_absolute_error: 0.2932\n",
      "***TRAIN***:\n",
      "correlation related to cluster centre: 0.91\n",
      "r2 score related to cluster centre: 0.82\n",
      "***VALIDATION***:\n",
      "correlation related to cluster centre: 0.91\n",
      "r2 score related to cluster centre: 0.82\n"
     ]
    },
    {
     "data": {
      "application/vnd.jupyter.widget-view+json": {
       "model_id": "3bd2d765f91448188542d0cbfedc2356",
       "version_major": 2,
       "version_minor": 0
      },
      "text/plain": [
       "IntProgress(value=0, max=28)"
      ]
     },
     "metadata": {},
     "output_type": "display_data"
    },
    {
     "name": "stdout",
     "output_type": "stream",
     "text": [
      "***VALIDATION***:\n",
      "average correlation: 0.92\n",
      "average r2: 0.81\n",
      "---do_investigations. cluster index : 57---\n"
     ]
    },
    {
     "data": {
      "application/vnd.jupyter.widget-view+json": {
       "model_id": "249482d4715d49e197f219eb1fc4bc11",
       "version_major": 2,
       "version_minor": 0
      },
      "text/plain": [
       "IntProgress(value=0, max=1)"
      ]
     },
     "metadata": {},
     "output_type": "display_data"
    },
    {
     "name": "stdout",
     "output_type": "stream",
     "text": [
      "Epoch 1/20\n",
      "368/368 [==============================] - 3s 4ms/step - loss: 0.2547 - mean_absolute_error: 0.3595 - val_loss: 0.1921 - val_mean_absolute_error: 0.3082\n",
      "Epoch 2/20\n",
      "368/368 [==============================] - 1s 4ms/step - loss: 0.2227 - mean_absolute_error: 0.3350 - val_loss: 0.1925 - val_mean_absolute_error: 0.3010\n",
      "Epoch 3/20\n",
      "368/368 [==============================] - 1s 4ms/step - loss: 0.2220 - mean_absolute_error: 0.3348 - val_loss: 0.1895 - val_mean_absolute_error: 0.3072\n",
      "Epoch 4/20\n",
      "368/368 [==============================] - 1s 4ms/step - loss: 0.2221 - mean_absolute_error: 0.3343 - val_loss: 0.1911 - val_mean_absolute_error: 0.3052\n",
      "Epoch 5/20\n",
      "368/368 [==============================] - 1s 4ms/step - loss: 0.2215 - mean_absolute_error: 0.3338 - val_loss: 0.1988 - val_mean_absolute_error: 0.3019\n",
      "***TRAIN***:\n",
      "correlation related to cluster centre: 0.88\n",
      "r2 score related to cluster centre: 0.77\n",
      "***VALIDATION***:\n",
      "correlation related to cluster centre: 0.90\n",
      "r2 score related to cluster centre: 0.79\n"
     ]
    },
    {
     "data": {
      "application/vnd.jupyter.widget-view+json": {
       "model_id": "8adc6caa16b54c53933ca1e23174387a",
       "version_major": 2,
       "version_minor": 0
      },
      "text/plain": [
       "IntProgress(value=0, max=1)"
      ]
     },
     "metadata": {},
     "output_type": "display_data"
    },
    {
     "name": "stdout",
     "output_type": "stream",
     "text": [
      "***VALIDATION***:\n",
      "average correlation: 0.90\n",
      "average r2: 0.79\n",
      "weighted_average_correlation: 0.89\n",
      "weighted_average_r2_score: 0.71\n",
      "bad clusters rate: 0.57%\n",
      "------------------------------------------------------\n"
     ]
    }
   ],
   "source": [
    "first_path = r\"C:\\Coding\\final-qualifying-work_2023-2024\\ClusteringCpp\\output\\cmeans 5 0.1 20.txt\"\n",
    "second_path = r\"C:\\Coding\\final-qualifying-work_2023-2024\\ClusteringCpp\\output\\cmeans 15 0.1 20.txt\"\n",
    "third_path = r\"C:\\Coding\\final-qualifying-work_2023-2024\\ClusteringCpp\\output\\cmeans 30 0.1 20.txt\"\n",
    "fourth_path = r\"C:\\Coding\\final-qualifying-work_2023-2024\\ClusteringCpp\\output\\cmeans 60 0.1 5.txt\"\n",
    "\n",
    "output_file = open(\"computational-experiments-output-cmeans.txt\", \"a\")\n",
    "\n",
    "selected_path = fourth_path\n",
    "\n",
    "print('------------------------------------------------------')\n",
    "output_file.write('------------------------------------------------------\\n')\n",
    "\n",
    "print(f\"rnn {os.path.split(selected_path)[-1]}\")\n",
    "output_file.write(f\"rnn {os.path.split(selected_path)[-1]}\\n\")\n",
    "show_results(rnn_model, get_clusters(selected_path), CONV_WIDTH)\n",
    "\n",
    "print('------------------------------------------------------')\n",
    "output_file.write('------------------------------------------------------\\n')\n",
    "\n",
    "output_file.close()"
   ]
  }
 ],
 "metadata": {
  "kernelspec": {
   "display_name": "Python 3 (ipykernel)",
   "language": "python",
   "name": "python3"
  },
  "language_info": {
   "codemirror_mode": {
    "name": "ipython",
    "version": 3
   },
   "file_extension": ".py",
   "mimetype": "text/x-python",
   "name": "python",
   "nbconvert_exporter": "python",
   "pygments_lexer": "ipython3",
   "version": "3.11.7"
  }
 },
 "nbformat": 4,
 "nbformat_minor": 5
}
