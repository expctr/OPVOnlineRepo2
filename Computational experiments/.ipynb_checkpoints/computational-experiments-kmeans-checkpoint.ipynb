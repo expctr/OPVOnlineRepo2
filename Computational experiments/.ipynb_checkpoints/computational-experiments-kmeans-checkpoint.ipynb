{
 "cells": [
  {
   "cell_type": "code",
   "execution_count": 1,
   "id": "5c496ac8-c639-4c8c-b976-f1f8ce168874",
   "metadata": {},
   "outputs": [
    {
     "name": "stderr",
     "output_type": "stream",
     "text": [
      "C:\\Users\\iasha\\AppData\\Local\\Temp\\ipykernel_9760\\424092037.py:11: DeprecationWarning: \n",
      "Pyarrow will become a required dependency of pandas in the next major release of pandas (pandas 3.0),\n",
      "(to allow more performant data types, such as the Arrow string type, and better interoperability with other libraries)\n",
      "but was not found to be installed on your system.\n",
      "If this would cause problems for you,\n",
      "please provide us feedback at https://github.com/pandas-dev/pandas/issues/54466\n",
      "        \n",
      "  import pandas as pd\n"
     ]
    },
    {
     "name": "stdout",
     "output_type": "stream",
     "text": [
      "WARNING:tensorflow:From C:\\python\\python311\\Lib\\site-packages\\keras\\src\\losses.py:2976: The name tf.losses.sparse_softmax_cross_entropy is deprecated. Please use tf.compat.v1.losses.sparse_softmax_cross_entropy instead.\n",
      "\n"
     ]
    }
   ],
   "source": [
    "import os\n",
    "import datetime\n",
    "import time\n",
    "\n",
    "import IPython\n",
    "import IPython.display\n",
    "from ipywidgets import IntProgress\n",
    "import matplotlib as mpl\n",
    "import matplotlib.pyplot as plt\n",
    "import numpy as np\n",
    "import pandas as pd\n",
    "import seaborn as sns\n",
    "import tensorflow as tf\n",
    "from tensorflow import keras\n",
    "\n",
    "from sklearn.metrics import r2_score\n",
    "import math\n",
    "\n",
    "mpl.rcParams['figure.figsize'] = (8, 6)\n",
    "mpl.rcParams['axes.grid'] = False"
   ]
  },
  {
   "cell_type": "code",
   "execution_count": 2,
   "id": "bc1317b0-357d-40b7-a89d-e429d7ac48b8",
   "metadata": {},
   "outputs": [],
   "source": [
    "import warnings\n",
    "warnings.filterwarnings('ignore')"
   ]
  },
  {
   "cell_type": "code",
   "execution_count": 3,
   "id": "742088f3-4104-4d45-badc-c8a3c3a343ce",
   "metadata": {},
   "outputs": [],
   "source": [
    "def convert_line_to_list(line: str):\n",
    "    split_line = line.split(' ')\n",
    "    result_list = []\n",
    "\n",
    "    for current in split_line:\n",
    "        if current == '\\n':\n",
    "            continue\n",
    "            \n",
    "        result_list.append(int(current))\n",
    "\n",
    "    return result_list"
   ]
  },
  {
   "cell_type": "code",
   "execution_count": 4,
   "id": "83a2dd6c-76e1-4a80-99c2-84151541c387",
   "metadata": {},
   "outputs": [],
   "source": [
    "def get_mlt(clustering_unit_index):\n",
    "    return clustering_unit_index // 80 * 0.25\n",
    "\n",
    "def get_magneticLat(clustering_unit_index):\n",
    "    return clustering_unit_index % 80 * 0.5 + 50"
   ]
  },
  {
   "cell_type": "code",
   "execution_count": 5,
   "id": "089333f6-d844-463c-a7d2-9e77bde24183",
   "metadata": {},
   "outputs": [],
   "source": [
    "def cluster_unit_index_to_file_path(clustering_unit_index):\n",
    "    mlt = get_mlt(clustering_unit_index)\n",
    "    magnetic_lat = get_magneticLat(clustering_unit_index)\n",
    "    \n",
    "    return f\"C:\\\\Coding\\\\final-qualifying-work_2023-2024\\\\OvationPrimeDataCollector\\\\north-nowcast-diffuse\\\\{mlt:.2f}_{magnetic_lat:.1f}.csv\""
   ]
  },
  {
   "cell_type": "code",
   "execution_count": 6,
   "id": "6ad54871-4fe2-4df3-9f9e-62438de26146",
   "metadata": {},
   "outputs": [],
   "source": [
    "def get_cluster_centre(cluster):\n",
    "    cluster_centre = pd.read_csv(cluster_unit_index_to_file_path(cluster[0]), sep=';', low_memory=False)\n",
    "\n",
    "    f = IntProgress(min=0, max=len(cluster))\n",
    "    display(f)\n",
    "    i = 0\n",
    "    for clustering_unit_index in cluster:\n",
    "        # if i % 100 == 0:\n",
    "        #     f.value += 100\n",
    "        f.value += 1\n",
    "        if i == 0:\n",
    "            i += 1\n",
    "            continue\n",
    "        current_df = pd.read_csv(cluster_unit_index_to_file_path(clustering_unit_index), sep=';', low_memory=False)\n",
    "        cluster_centre['y'] += current_df['y']\n",
    "        i += 1\n",
    "\n",
    "    cluster_centre['y'] = cluster_centre['y'].divide(len(cluster))\n",
    "    return cluster_centre"
   ]
  },
  {
   "cell_type": "code",
   "execution_count": 7,
   "id": "b50eb510-5229-43a4-849c-3198776f5d03",
   "metadata": {},
   "outputs": [],
   "source": [
    "class WindowGenerator():\n",
    "  def __init__(self, input_width, label_width, shift,\n",
    "               train_df, val_df, test_df,\n",
    "               label_columns=None):\n",
    "    # Store the raw data.\n",
    "    self.train_df = train_df\n",
    "    self.val_df = val_df\n",
    "    self.test_df = test_df\n",
    "\n",
    "    # Work out the label column indices.\n",
    "    self.label_columns = label_columns\n",
    "    if label_columns is not None:\n",
    "      self.label_columns_indices = {name: i for i, name in\n",
    "                                    enumerate(label_columns)}\n",
    "    self.column_indices = {name: i for i, name in\n",
    "                           enumerate(train_df.columns)}\n",
    "\n",
    "    # Work out the window parameters.\n",
    "    self.input_width = input_width\n",
    "    self.label_width = label_width\n",
    "    self.shift = shift\n",
    "\n",
    "    self.total_window_size = input_width + shift\n",
    "\n",
    "    self.input_slice = slice(0, input_width)\n",
    "    self.input_indices = np.arange(self.total_window_size)[self.input_slice]\n",
    "\n",
    "    self.label_start = self.total_window_size - self.label_width\n",
    "    self.labels_slice = slice(self.label_start, None)\n",
    "    self.label_indices = np.arange(self.total_window_size)[self.labels_slice]\n",
    "\n",
    "  def __repr__(self):\n",
    "    return '\\n'.join([\n",
    "        f'Total window size: {self.total_window_size}',\n",
    "        f'Input indices: {self.input_indices}',\n",
    "        f'Label indices: {self.label_indices}',\n",
    "        f'Label column name(s): {self.label_columns}'])"
   ]
  },
  {
   "cell_type": "code",
   "execution_count": 8,
   "id": "958236c6-c012-45dd-b624-c41bb3beba93",
   "metadata": {},
   "outputs": [],
   "source": [
    "def split_window(self, features):\n",
    "  inputs = features[:, self.input_slice, :]\n",
    "  labels = features[:, self.labels_slice, :]\n",
    "  if self.label_columns is not None:\n",
    "    labels = tf.stack(\n",
    "        [labels[:, :, self.column_indices[name]] for name in self.label_columns],\n",
    "        axis=-1)\n",
    "\n",
    "  # Slicing doesn't preserve static shape information, so set the shapes\n",
    "  # manually. This way the `tf.data.Datasets` are easier to inspect.\n",
    "  inputs.set_shape([None, self.input_width, None])\n",
    "  labels.set_shape([None, self.label_width, None])\n",
    "\n",
    "  return inputs, labels\n",
    "\n",
    "WindowGenerator.split_window = split_window"
   ]
  },
  {
   "cell_type": "code",
   "execution_count": 9,
   "id": "ab174b92-5d20-47bd-8807-5c570866f4aa",
   "metadata": {},
   "outputs": [],
   "source": [
    "def make_dataset(self, data):\n",
    "  data = np.array(data, dtype=np.float32)\n",
    "  ds = tf.keras.utils.timeseries_dataset_from_array(\n",
    "      data=data,\n",
    "      targets=None,\n",
    "      sequence_length=self.total_window_size,\n",
    "      sequence_stride=1,\n",
    "      shuffle=True,\n",
    "      batch_size=32,)\n",
    "\n",
    "  ds = ds.map(self.split_window)\n",
    "\n",
    "  return ds\n",
    "\n",
    "WindowGenerator.make_dataset = make_dataset"
   ]
  },
  {
   "cell_type": "code",
   "execution_count": 10,
   "id": "fc69391d-8896-4743-abf2-342b4d7cc1cb",
   "metadata": {},
   "outputs": [],
   "source": [
    "@property\n",
    "def train(self):\n",
    "  return self.make_dataset(self.train_df)\n",
    "\n",
    "@property\n",
    "def val(self):\n",
    "  return self.make_dataset(self.val_df)\n",
    "\n",
    "@property\n",
    "def test(self):\n",
    "  return self.make_dataset(self.test_df)\n",
    "\n",
    "@property\n",
    "def example(self):\n",
    "  \"\"\"Get and cache an example batch of `inputs, labels` for plotting.\"\"\"\n",
    "  result = getattr(self, '_example', None)\n",
    "  if result is None:\n",
    "    # No example batch was found, so get one from the `.train` dataset\n",
    "    result = next(iter(self.train))\n",
    "    # And cache it for next time\n",
    "    self._example = result\n",
    "  return result\n",
    "\n",
    "WindowGenerator.train = train\n",
    "WindowGenerator.val = val\n",
    "WindowGenerator.test = test\n",
    "WindowGenerator.example = example"
   ]
  },
  {
   "cell_type": "code",
   "execution_count": 11,
   "id": "cec89917-81cd-432f-91d5-da59e269b839",
   "metadata": {},
   "outputs": [],
   "source": [
    "MAX_EPOCHS = 20\n",
    "\n",
    "def compile_and_fit(model, window, patience=2):\n",
    "  early_stopping = tf.keras.callbacks.EarlyStopping(monitor='val_loss',\n",
    "                                                    patience=patience,\n",
    "                                                    mode='min')\n",
    "    \n",
    "  model.compile(loss=tf.losses.MeanSquaredError(),\n",
    "                optimizer=tf.optimizers.Adam(),\n",
    "                metrics=[tf.metrics.MeanAbsoluteError()])\n",
    "\n",
    "  history = model.fit(window.train, epochs=MAX_EPOCHS,\n",
    "                      validation_data=window.val,\n",
    "                      callbacks=[early_stopping])\n",
    "  return history"
   ]
  },
  {
   "cell_type": "code",
   "execution_count": 12,
   "id": "49a0d13a-d100-4a85-ad2f-72775c79b05c",
   "metadata": {},
   "outputs": [],
   "source": [
    "def investigate(cluster_index, model, conv_width, clusters, save_data):\n",
    "    cluster_centre = get_cluster_centre(clusters[cluster_index])\n",
    "    cluster_centre = cluster_centre.drop(['date'], axis=1)\n",
    "    cluster_centre = cluster_centre.drop(['segment'], axis=1)\n",
    "    \n",
    "    n = len(cluster_centre)\n",
    "    train_df = cluster_centre[0:int(n*0.7)]\n",
    "    val_df = cluster_centre[int(n*0.7):int(n*0.9)]\n",
    "    test_df = cluster_centre[int(n*0.9):]\n",
    "\n",
    "    train_mean = train_df.mean()\n",
    "    train_std = train_df.std()\n",
    "\n",
    "    train_df = (train_df - train_mean) / train_std\n",
    "    val_df = (val_df - train_mean) / train_std\n",
    "    test_df = (test_df - train_mean) / train_std\n",
    "    \n",
    "    conv_window = WindowGenerator(\n",
    "    input_width=conv_width,\n",
    "    label_width=1,\n",
    "    shift=1,\n",
    "    train_df=train_df,\n",
    "    val_df=val_df,\n",
    "    test_df=test_df,\n",
    "    label_columns=['y']\n",
    "    )\n",
    "\n",
    "    model = keras.models.Sequential.from_config(model.get_config())\n",
    "    \n",
    "    history = compile_and_fit(model, conv_window)\n",
    "\n",
    "    inputs, labels = conv_window.example\n",
    "\n",
    "    val_df_numpy = val_df.to_numpy()\n",
    "    train_df_numpy = train_df.to_numpy()\n",
    "    new_true_values_val = []\n",
    "    new_true_values_train = []\n",
    "    new_input_val = []\n",
    "    new_input_train = []\n",
    "\n",
    "    new_true_values_val = val_df_numpy[3:].flatten()\n",
    "    new_input_val = np.column_stack([val_df_numpy[0:-3], val_df_numpy[1:-2], val_df_numpy[2:-1]])\n",
    "\n",
    "    new_true_values_train = train_df_numpy[3:].flatten()\n",
    "    new_input_train = np.column_stack([train_df_numpy[0:-3], train_df_numpy[1:-2], train_df_numpy[2:-1]])\n",
    "        \n",
    "    val_predictions = model(np.array(new_input_val)).numpy()\n",
    "    train_predictions = model(np.array(new_input_train)).numpy()\n",
    "    \n",
    "    new_val_predictions = val_predictions.flatten()\n",
    "    new_train_predictions = train_predictions.flatten()\n",
    "    \n",
    "    new_true_values_val = (new_true_values_val * train_std['y']) + train_mean['y']\n",
    "    new_val_predictions = (new_val_predictions * train_std['y']) + train_mean['y']\n",
    "\n",
    "    new_true_values_train = (new_true_values_train * train_std['y']) + train_mean['y']\n",
    "    new_train_predictions = (new_train_predictions * train_std['y']) + train_mean['y']\n",
    "\n",
    "    print(\"***TRAIN***:\")\n",
    "    output_file.write(\"***TRAIN***:\\n\")\n",
    "    print(f\"correlation related to cluster centre: {np.corrcoef(new_true_values_train, new_train_predictions)[0][1]:.2f}\")\n",
    "    output_file.write(f\"correlation related to cluster centre: {np.corrcoef(new_true_values_train, new_train_predictions)[0][1]:.2f}\\n\")\n",
    "    print(f\"r2 score related to cluster centre: {r2_score(new_true_values_train, new_train_predictions):.2f}\")\n",
    "    output_file.write(f\"r2 score related to cluster centre: {r2_score(new_true_values_train, new_train_predictions):.2f}\\n\")\n",
    "    print(\"***VALIDATION***:\")\n",
    "    output_file.write(\"***VALIDATION***:\\n\")\n",
    "    print(f\"correlation related to cluster centre: {np.corrcoef(new_true_values_val, new_val_predictions)[0][1]:.2f}\")\n",
    "    output_file.write(f\"correlation related to cluster centre: {np.corrcoef(new_true_values_val, new_val_predictions)[0][1]:.2f}\\n\")\n",
    "    print(f\"r2 score related to cluster centre: {r2_score(new_true_values_val, new_val_predictions):.2f}\")\n",
    "    output_file.write(f\"r2 score related to cluster centre: {r2_score(new_true_values_val, new_val_predictions):.2f}\\n\")\n",
    "\n",
    "    sum_correlation_val = 0\n",
    "    sum_r2_val = 0\n",
    "\n",
    "    f = IntProgress(min=0, max=len(clusters[cluster_index]))\n",
    "    display(f)\n",
    "\n",
    "    i = 0\n",
    "    for clustering_unit_index in clusters[cluster_index]:\n",
    "        if (i % 100 == 0):\n",
    "            f.value += 100\n",
    "        \n",
    "        current_df = pd.read_csv(cluster_unit_index_to_file_path(clustering_unit_index), sep=';', low_memory=False)\n",
    "        current_df = current_df.drop(['date'], axis=1)\n",
    "        current_df = current_df.drop(['segment'], axis=1)\n",
    "\n",
    "        n = len(current_df)\n",
    "        current_train_df = current_df[0:int(n*0.7)]\n",
    "        current_val_df = current_df[int(n*0.7):int(n*0.9)]\n",
    "        current_test_df = current_df[int(n*0.9):]\n",
    "\n",
    "        current_train_df = (current_train_df - train_mean) / train_std\n",
    "        current_val_df = (current_val_df - train_mean) / train_std\n",
    "        current_test_df = (current_test_df - train_mean) / train_std\n",
    "\n",
    "        current_val_df_numpy = current_val_df.to_numpy()\n",
    "        current_new_true_values_val = current_val_df_numpy[3:].flatten()\n",
    "        current_new_input_val = np.column_stack([current_val_df_numpy[0:-3], current_val_df_numpy[1:-2], current_val_df_numpy[2:-1]])\n",
    "\n",
    "        current_val_predictions = model(np.array(current_new_input_val)).numpy()\n",
    "        current_new_val_predictions = current_val_predictions.flatten()\n",
    "\n",
    "        current_new_true_values_val = (current_new_true_values_val * train_std['y']) + train_mean['y']\n",
    "        current_new_val_predictions = (current_new_val_predictions * train_std['y']) + train_mean['y']\n",
    "            \n",
    "        sum_correlation_val += np.corrcoef(current_new_true_values_val, current_new_val_predictions)[0][1]\n",
    "        sum_r2_val += r2_score(current_new_true_values_val, current_new_val_predictions)\n",
    "\n",
    "        i += 1\n",
    "\n",
    "    if (save_data):\n",
    "        f = open(f\"train mean and std for cluster {cluster_index}.txt\", \"w\")\n",
    "        f.write(str(train_mean.mean()) + ' ' + str(train_std.mean()))\n",
    "        f.close()\n",
    "        model.save(f\"model for cluster {cluster_index}\")\n",
    "\n",
    "    cluster_len = len(clusters[cluster_index])\n",
    "    \n",
    "    return sum_correlation_val / cluster_len, sum_r2_val / cluster_len,"
   ]
  },
  {
   "cell_type": "code",
   "execution_count": 13,
   "id": "5ad4b77a-3091-45a8-a871-5977a48e687f",
   "metadata": {},
   "outputs": [],
   "source": [
    "def do_investigations(model, clusters, conv_width):\n",
    "    cluster_sizes = []\n",
    "    correlations = []\n",
    "    r2_scores = []\n",
    "\n",
    "    for i in range(len(clusters)):\n",
    "        print(f\"---do_investigations. cluster index : {i}---\")\n",
    "        output_file.write(f\"---do_investigations. cluster index : {i}---\\n\")\n",
    "        average_correlation, average_r2 = investigate(i, model, conv_width, clusters, False)\n",
    "        \n",
    "        print(\"***VALIDATION***:\")\n",
    "        output_file.write(\"***VALIDATION***:\\n\")\n",
    "        print(f\"average correlation: {average_correlation:.2f}\")\n",
    "        output_file.write(f\"average correlation: {average_correlation:.2f}\\n\")\n",
    "        print(f\"average r2: {average_r2:.2f}\")\n",
    "        output_file.write(f\"average r2: {average_r2:.2f}\\n\")\n",
    "\n",
    "        cluster_sizes.append(len(clusters[i]))\n",
    "        correlations.append(average_correlation)\n",
    "        r2_scores.append(average_r2)\n",
    "\n",
    "    return cluster_sizes, correlations, r2_scores"
   ]
  },
  {
   "cell_type": "code",
   "execution_count": 14,
   "id": "bd5bb17d-f0f0-41f8-a216-1f604354c7ed",
   "metadata": {},
   "outputs": [],
   "source": [
    "def print_metrics(cluster_sizes, correlations, r2_scores, clusters):\n",
    "    total_size = 0\n",
    "    correlation_sum = 0\n",
    "    r2_score_sum = 0\n",
    "    \n",
    "    bad_clusters_indices = []\n",
    "\n",
    "    for i in range(len(cluster_sizes)):\n",
    "        if (math.isnan(correlations[i]) or (r2_scores[i] < 0)):\n",
    "            bad_clusters_indices.append(i)\n",
    "            continue\n",
    "        \n",
    "        correlation_sum += cluster_sizes[i] * correlations[i]\n",
    "        r2_score_sum += cluster_sizes[i] * r2_scores[i]\n",
    "        total_size += cluster_sizes[i]\n",
    "\n",
    "    weighted_average_correlation = correlation_sum / total_size\n",
    "    weighted_average_r2_score = r2_score_sum / total_size\n",
    "\n",
    "    print(f\"weighted_average_correlation: {weighted_average_correlation:.2f}\")\n",
    "    output_file.write(f\"weighted_average_correlation: {weighted_average_correlation:.2f}\\n\")\n",
    "    print(f\"weighted_average_r2_score: {weighted_average_r2_score:.2f}\")\n",
    "    output_file.write(f\"weighted_average_r2_score: {weighted_average_r2_score:.2f}\\n\")\n",
    "\n",
    "    bad_clusters_size_sum = 0\n",
    "    total_clusters_size_sum = 0\n",
    "\n",
    "    for cluster_size in cluster_sizes:\n",
    "        total_clusters_size_sum += cluster_size\n",
    "    \n",
    "    for bad_cluster_index in bad_clusters_indices:\n",
    "        bad_clusters_size_sum += len(clusters[bad_cluster_index])\n",
    "\n",
    "    bad_clusters_rate = bad_clusters_size_sum / total_clusters_size_sum\n",
    "\n",
    "    print(f\"bad clusters rate: {bad_clusters_rate:.2f}%\")\n",
    "    output_file.write(f\"bad clusters rate: {bad_clusters_rate:.2f}%\\n\")"
   ]
  },
  {
   "cell_type": "code",
   "execution_count": 15,
   "id": "5617952d-1bcf-466e-9388-799b85c6bc7e",
   "metadata": {},
   "outputs": [],
   "source": [
    "def show_results(model, clusters, conv_width):\n",
    "    cluster_sizes, correlations, r2_scores = do_investigations(model, clusters, conv_width)\n",
    "    print_metrics(cluster_sizes, correlations, r2_scores, clusters)"
   ]
  },
  {
   "cell_type": "code",
   "execution_count": 16,
   "id": "776882d6-8435-46f0-9c36-eb1c89b0634a",
   "metadata": {},
   "outputs": [],
   "source": [
    "CONV_WIDTH = 3"
   ]
  },
  {
   "cell_type": "code",
   "execution_count": 17,
   "id": "10b769f4-4e06-4d51-bb0b-561f86733e5a",
   "metadata": {
    "scrolled": true
   },
   "outputs": [
    {
     "name": "stdout",
     "output_type": "stream",
     "text": [
      "WARNING:tensorflow:From C:\\python\\python311\\Lib\\site-packages\\keras\\src\\backend.py:873: The name tf.get_default_graph is deprecated. Please use tf.compat.v1.get_default_graph instead.\n",
      "\n"
     ]
    }
   ],
   "source": [
    "multi_step_dense_model = tf.keras.Sequential([\n",
    "    # Shape: (time, features) => (time*features)\n",
    "    tf.keras.layers.Flatten(),\n",
    "    tf.keras.layers.Dense(units=32, activation='relu'),\n",
    "    tf.keras.layers.Dense(units=32, activation='relu'),\n",
    "    tf.keras.layers.Dense(units=1),\n",
    "    # Add back the time dimension.\n",
    "    # Shape: (outputs) => (1, outputs)\n",
    "    tf.keras.layers.Reshape([1, -1]),\n",
    "])"
   ]
  },
  {
   "cell_type": "code",
   "execution_count": 18,
   "id": "6b7e99b0-3f31-4d4a-8398-dd8fce7fc683",
   "metadata": {
    "scrolled": true
   },
   "outputs": [],
   "source": [
    "lstm_model = tf.keras.models.Sequential([\n",
    "    # Shape [batch, time, features] => [batch, time, lstm_units]\n",
    "    tf.keras.layers.Conv1D(filters=32,\n",
    "                           kernel_size=(CONV_WIDTH,),\n",
    "                           activation='relu'),\n",
    "    tf.keras.layers.LSTM(128, return_sequences=True),\n",
    "    # Shape => [batch, time, features]\n",
    "    tf.keras.layers.Dense(units=1)\n",
    "])"
   ]
  },
  {
   "cell_type": "code",
   "execution_count": 19,
   "id": "e33b7ad0-dae9-4997-83ac-db93f7889d3a",
   "metadata": {},
   "outputs": [],
   "source": [
    "rnn_model = tf.keras.models.Sequential([\n",
    "    # Shape [batch, time, features] => [batch, time, lstm_units]\n",
    "    tf.keras.layers.Conv1D(filters=32,\n",
    "                           kernel_size=(CONV_WIDTH,),\n",
    "                           activation='relu'),\n",
    "    tf.keras.layers.SimpleRNN(128, return_sequences=True),\n",
    "    # Shape => [batch, time, features]\n",
    "    tf.keras.layers.Dense(units=1)\n",
    "])"
   ]
  },
  {
   "cell_type": "code",
   "execution_count": 20,
   "id": "5f284891-fcf1-4d84-879b-274cfbbd243e",
   "metadata": {},
   "outputs": [],
   "source": [
    "def get_clusters(path):\n",
    "    file = open(path, 'r')\n",
    "    lines = file.readlines()\n",
    "    file.close()\n",
    "\n",
    "    clusters = []\n",
    "\n",
    "    for line in lines:\n",
    "        if line.strip() == '':\n",
    "            continue\n",
    "        clusters.append(convert_line_to_list(line))\n",
    "\n",
    "    return clusters"
   ]
  },
  {
   "cell_type": "code",
   "execution_count": 21,
   "id": "c9e743a9-1d9a-49b2-bb70-88a86e4f1f72",
   "metadata": {},
   "outputs": [
    {
     "name": "stdout",
     "output_type": "stream",
     "text": [
      "------------------------------------------------------\n",
      "msd kmeans 5 0.1 20.txt\n",
      "---do_investigations. cluster index : 0---\n"
     ]
    },
    {
     "data": {
      "application/vnd.jupyter.widget-view+json": {
       "model_id": "bd33befb1f1e4eafb8110354beb9315f",
       "version_major": 2,
       "version_minor": 0
      },
      "text/plain": [
       "IntProgress(value=0, max=414)"
      ]
     },
     "metadata": {},
     "output_type": "display_data"
    },
    {
     "name": "stdout",
     "output_type": "stream",
     "text": [
      "Epoch 1/20\n",
      "WARNING:tensorflow:From C:\\python\\python311\\Lib\\site-packages\\keras\\src\\utils\\tf_utils.py:492: The name tf.ragged.RaggedTensorValue is deprecated. Please use tf.compat.v1.ragged.RaggedTensorValue instead.\n",
      "\n",
      "368/368 [==============================] - 2s 3ms/step - loss: 0.2377 - mean_absolute_error: 0.3323 - val_loss: 0.1684 - val_mean_absolute_error: 0.2766\n",
      "Epoch 2/20\n",
      "368/368 [==============================] - 1s 2ms/step - loss: 0.2048 - mean_absolute_error: 0.3006 - val_loss: 0.1691 - val_mean_absolute_error: 0.2780\n",
      "Epoch 3/20\n",
      "368/368 [==============================] - 1s 2ms/step - loss: 0.2027 - mean_absolute_error: 0.2996 - val_loss: 0.1693 - val_mean_absolute_error: 0.2773\n",
      "***TRAIN***:\n",
      "correlation related to cluster centre: 0.89\n",
      "r2 score related to cluster centre: 0.80\n",
      "***VALIDATION***:\n",
      "correlation related to cluster centre: 0.91\n",
      "r2 score related to cluster centre: 0.82\n"
     ]
    },
    {
     "data": {
      "application/vnd.jupyter.widget-view+json": {
       "model_id": "507c63ae993b4da6bb9e2cbc32aae8a7",
       "version_major": 2,
       "version_minor": 0
      },
      "text/plain": [
       "IntProgress(value=0, max=414)"
      ]
     },
     "metadata": {},
     "output_type": "display_data"
    },
    {
     "name": "stdout",
     "output_type": "stream",
     "text": [
      "***VALIDATION***:\n",
      "average correlation: 0.91\n",
      "average r2: 0.78\n",
      "---do_investigations. cluster index : 1---\n"
     ]
    },
    {
     "data": {
      "application/vnd.jupyter.widget-view+json": {
       "model_id": "7c87b923ea5e463eb9832570fa1f1d1a",
       "version_major": 2,
       "version_minor": 0
      },
      "text/plain": [
       "IntProgress(value=0, max=633)"
      ]
     },
     "metadata": {},
     "output_type": "display_data"
    },
    {
     "name": "stdout",
     "output_type": "stream",
     "text": [
      "Epoch 1/20\n",
      "368/368 [==============================] - 2s 3ms/step - loss: 0.2865 - mean_absolute_error: 0.3400 - val_loss: 0.1960 - val_mean_absolute_error: 0.2886\n",
      "Epoch 2/20\n",
      "368/368 [==============================] - 1s 2ms/step - loss: 0.2035 - mean_absolute_error: 0.2948 - val_loss: 0.1950 - val_mean_absolute_error: 0.2851\n",
      "Epoch 3/20\n",
      "368/368 [==============================] - 1s 3ms/step - loss: 0.2034 - mean_absolute_error: 0.2951 - val_loss: 0.1881 - val_mean_absolute_error: 0.2810\n",
      "Epoch 4/20\n",
      "368/368 [==============================] - 1s 2ms/step - loss: 0.2014 - mean_absolute_error: 0.2932 - val_loss: 0.1870 - val_mean_absolute_error: 0.2790\n",
      "Epoch 5/20\n",
      "368/368 [==============================] - 1s 2ms/step - loss: 0.2027 - mean_absolute_error: 0.2939 - val_loss: 0.1917 - val_mean_absolute_error: 0.2856\n",
      "Epoch 6/20\n",
      "368/368 [==============================] - 1s 2ms/step - loss: 0.2015 - mean_absolute_error: 0.2931 - val_loss: 0.1901 - val_mean_absolute_error: 0.2840\n",
      "***TRAIN***:\n",
      "correlation related to cluster centre: 0.90\n",
      "r2 score related to cluster centre: 0.80\n",
      "***VALIDATION***:\n",
      "correlation related to cluster centre: 0.91\n",
      "r2 score related to cluster centre: 0.82\n"
     ]
    },
    {
     "data": {
      "application/vnd.jupyter.widget-view+json": {
       "model_id": "a37959144dd74bd6a8c62635180d83cd",
       "version_major": 2,
       "version_minor": 0
      },
      "text/plain": [
       "IntProgress(value=0, max=633)"
      ]
     },
     "metadata": {},
     "output_type": "display_data"
    },
    {
     "name": "stdout",
     "output_type": "stream",
     "text": [
      "***VALIDATION***:\n",
      "average correlation: 0.91\n",
      "average r2: 0.75\n",
      "---do_investigations. cluster index : 2---\n"
     ]
    },
    {
     "data": {
      "application/vnd.jupyter.widget-view+json": {
       "model_id": "660276fe6d19479eaa70f49c200f752f",
       "version_major": 2,
       "version_minor": 0
      },
      "text/plain": [
       "IntProgress(value=0, max=279)"
      ]
     },
     "metadata": {},
     "output_type": "display_data"
    },
    {
     "name": "stdout",
     "output_type": "stream",
     "text": [
      "Epoch 1/20\n",
      "368/368 [==============================] - 2s 3ms/step - loss: 0.2925 - mean_absolute_error: 0.3825 - val_loss: 0.1501 - val_mean_absolute_error: 0.2727\n",
      "Epoch 2/20\n",
      "368/368 [==============================] - 1s 2ms/step - loss: 0.2037 - mean_absolute_error: 0.3064 - val_loss: 0.1484 - val_mean_absolute_error: 0.2717\n",
      "Epoch 3/20\n",
      "368/368 [==============================] - 1s 2ms/step - loss: 0.2027 - mean_absolute_error: 0.3048 - val_loss: 0.1480 - val_mean_absolute_error: 0.2763\n",
      "Epoch 4/20\n",
      "368/368 [==============================] - 1s 2ms/step - loss: 0.2023 - mean_absolute_error: 0.3045 - val_loss: 0.1502 - val_mean_absolute_error: 0.2725\n",
      "Epoch 5/20\n",
      "368/368 [==============================] - 1s 2ms/step - loss: 0.2022 - mean_absolute_error: 0.3047 - val_loss: 0.1487 - val_mean_absolute_error: 0.2699\n",
      "***TRAIN***:\n",
      "correlation related to cluster centre: 0.89\n",
      "r2 score related to cluster centre: 0.80\n",
      "***VALIDATION***:\n",
      "correlation related to cluster centre: 0.91\n",
      "r2 score related to cluster centre: 0.82\n"
     ]
    },
    {
     "data": {
      "application/vnd.jupyter.widget-view+json": {
       "model_id": "193bf6febdd148bf9e8649bb464e0fd0",
       "version_major": 2,
       "version_minor": 0
      },
      "text/plain": [
       "IntProgress(value=0, max=279)"
      ]
     },
     "metadata": {},
     "output_type": "display_data"
    },
    {
     "name": "stdout",
     "output_type": "stream",
     "text": [
      "***VALIDATION***:\n",
      "average correlation: 0.91\n",
      "average r2: 0.79\n",
      "---do_investigations. cluster index : 3---\n"
     ]
    },
    {
     "data": {
      "application/vnd.jupyter.widget-view+json": {
       "model_id": "91142810ae6244d0bfca883f6500e012",
       "version_major": 2,
       "version_minor": 0
      },
      "text/plain": [
       "IntProgress(value=0, max=1234)"
      ]
     },
     "metadata": {},
     "output_type": "display_data"
    },
    {
     "name": "stdout",
     "output_type": "stream",
     "text": [
      "Epoch 1/20\n",
      "368/368 [==============================] - 2s 3ms/step - loss: 0.2515 - mean_absolute_error: 0.3300 - val_loss: 0.2332 - val_mean_absolute_error: 0.3035\n",
      "Epoch 2/20\n",
      "368/368 [==============================] - 1s 2ms/step - loss: 0.2058 - mean_absolute_error: 0.2908 - val_loss: 0.2345 - val_mean_absolute_error: 0.2981\n",
      "Epoch 3/20\n",
      "368/368 [==============================] - 1s 2ms/step - loss: 0.2035 - mean_absolute_error: 0.2883 - val_loss: 0.2277 - val_mean_absolute_error: 0.2955\n",
      "Epoch 4/20\n",
      "368/368 [==============================] - 1s 2ms/step - loss: 0.2039 - mean_absolute_error: 0.2875 - val_loss: 0.2261 - val_mean_absolute_error: 0.3020\n",
      "Epoch 5/20\n",
      "368/368 [==============================] - 1s 2ms/step - loss: 0.2030 - mean_absolute_error: 0.2874 - val_loss: 0.2324 - val_mean_absolute_error: 0.3114\n",
      "Epoch 6/20\n",
      "368/368 [==============================] - 1s 2ms/step - loss: 0.2032 - mean_absolute_error: 0.2870 - val_loss: 0.2272 - val_mean_absolute_error: 0.3007\n",
      "***TRAIN***:\n",
      "correlation related to cluster centre: 0.89\n",
      "r2 score related to cluster centre: 0.80\n",
      "***VALIDATION***:\n",
      "correlation related to cluster centre: 0.90\n",
      "r2 score related to cluster centre: 0.81\n"
     ]
    },
    {
     "data": {
      "application/vnd.jupyter.widget-view+json": {
       "model_id": "aa2b2d0208f14ae68d491259ffd1c18d",
       "version_major": 2,
       "version_minor": 0
      },
      "text/plain": [
       "IntProgress(value=0, max=1234)"
      ]
     },
     "metadata": {},
     "output_type": "display_data"
    },
    {
     "name": "stdout",
     "output_type": "stream",
     "text": [
      "***VALIDATION***:\n",
      "average correlation: 0.89\n",
      "average r2: 0.48\n",
      "---do_investigations. cluster index : 4---\n"
     ]
    },
    {
     "data": {
      "application/vnd.jupyter.widget-view+json": {
       "model_id": "c0ab852298af40d4b7836b800f191449",
       "version_major": 2,
       "version_minor": 0
      },
      "text/plain": [
       "IntProgress(value=0, max=5120)"
      ]
     },
     "metadata": {},
     "output_type": "display_data"
    },
    {
     "name": "stdout",
     "output_type": "stream",
     "text": [
      "Epoch 1/20\n",
      "368/368 [==============================] - 2s 3ms/step - loss: 0.2227 - mean_absolute_error: 0.2913 - val_loss: 0.2288 - val_mean_absolute_error: 0.2565\n",
      "Epoch 2/20\n",
      "368/368 [==============================] - 1s 3ms/step - loss: 0.1795 - mean_absolute_error: 0.2550 - val_loss: 0.2179 - val_mean_absolute_error: 0.2481\n",
      "Epoch 3/20\n",
      "368/368 [==============================] - 1s 3ms/step - loss: 0.1786 - mean_absolute_error: 0.2543 - val_loss: 0.2435 - val_mean_absolute_error: 0.2679\n",
      "Epoch 4/20\n",
      "368/368 [==============================] - 1s 2ms/step - loss: 0.1791 - mean_absolute_error: 0.2539 - val_loss: 0.2279 - val_mean_absolute_error: 0.2594\n",
      "***TRAIN***:\n",
      "correlation related to cluster centre: 0.91\n",
      "r2 score related to cluster centre: 0.82\n",
      "***VALIDATION***:\n",
      "correlation related to cluster centre: 0.90\n",
      "r2 score related to cluster centre: 0.79\n"
     ]
    },
    {
     "data": {
      "application/vnd.jupyter.widget-view+json": {
       "model_id": "bd4cd9b1b8e44f55b80414d594db74a1",
       "version_major": 2,
       "version_minor": 0
      },
      "text/plain": [
       "IntProgress(value=0, max=5120)"
      ]
     },
     "metadata": {},
     "output_type": "display_data"
    },
    {
     "name": "stdout",
     "output_type": "stream",
     "text": [
      "***VALIDATION***:\n",
      "average correlation: nan\n",
      "average r2: -2290480274594773166664450048.00\n",
      "weighted_average_correlation: 0.90\n",
      "weighted_average_r2_score: 0.63\n",
      "bad clusters rate: 0.67%\n",
      "------------------------------------------------------\n"
     ]
    }
   ],
   "source": [
    "first_path = r\"C:\\Coding\\final-qualifying-work_2023-2024\\ClusteringCpp\\output\\kmeans 5 0.1 20.txt\"\n",
    "second_path = r\"C:\\Coding\\final-qualifying-work_2023-2024\\ClusteringCpp\\output\\kmeans 15 0.1 20.txt\"\n",
    "third_path = r\"C:\\Coding\\final-qualifying-work_2023-2024\\ClusteringCpp\\output\\kmeans 30 0.1 20.txt\"\n",
    "fourth_path = r\"C:\\Coding\\final-qualifying-work_2023-2024\\ClusteringCpp\\output\\kmeans 60 0.1 20.txt\"\n",
    "\n",
    "output_file = open(\"computational-experiments-output-kmeans.txt\", \"a\")\n",
    "\n",
    "selected_path = first_path\n",
    "\n",
    "print('------------------------------------------------------')\n",
    "output_file.write('------------------------------------------------------\\n')\n",
    "\n",
    "print(f\"msd {os.path.split(selected_path)[-1]}\")\n",
    "output_file.write(f\"msd {os.path.split(selected_path)[-1]}\\n\")\n",
    "show_results(multi_step_dense_model, get_clusters(selected_path), CONV_WIDTH)\n",
    "\n",
    "print('------------------------------------------------------')\n",
    "output_file.write('------------------------------------------------------\\n')\n",
    "\n",
    "output_file.close()"
   ]
  },
  {
   "cell_type": "code",
   "execution_count": 22,
   "id": "2077e2f9-fb55-471a-82c5-fd9a4e7bfa8f",
   "metadata": {},
   "outputs": [
    {
     "name": "stdout",
     "output_type": "stream",
     "text": [
      "------------------------------------------------------\n",
      "msd kmeans 15 0.1 20.txt\n",
      "---do_investigations. cluster index : 0---\n"
     ]
    },
    {
     "data": {
      "application/vnd.jupyter.widget-view+json": {
       "model_id": "f74a47e75e034f4dbcae9a8e28314422",
       "version_major": 2,
       "version_minor": 0
      },
      "text/plain": [
       "IntProgress(value=0, max=497)"
      ]
     },
     "metadata": {},
     "output_type": "display_data"
    },
    {
     "name": "stdout",
     "output_type": "stream",
     "text": [
      "Epoch 1/20\n",
      "368/368 [==============================] - 2s 3ms/step - loss: 0.2858 - mean_absolute_error: 0.3842 - val_loss: 0.2041 - val_mean_absolute_error: 0.3201\n",
      "Epoch 2/20\n",
      "368/368 [==============================] - 1s 3ms/step - loss: 0.2065 - mean_absolute_error: 0.3206 - val_loss: 0.2002 - val_mean_absolute_error: 0.3150\n",
      "Epoch 3/20\n",
      "368/368 [==============================] - 1s 3ms/step - loss: 0.2058 - mean_absolute_error: 0.3195 - val_loss: 0.1997 - val_mean_absolute_error: 0.3124\n",
      "Epoch 4/20\n",
      "368/368 [==============================] - 1s 3ms/step - loss: 0.2058 - mean_absolute_error: 0.3194 - val_loss: 0.2002 - val_mean_absolute_error: 0.3188\n",
      "Epoch 5/20\n",
      "368/368 [==============================] - 1s 2ms/step - loss: 0.2062 - mean_absolute_error: 0.3192 - val_loss: 0.2001 - val_mean_absolute_error: 0.3128\n",
      "***TRAIN***:\n",
      "correlation related to cluster centre: 0.89\n",
      "r2 score related to cluster centre: 0.80\n",
      "***VALIDATION***:\n",
      "correlation related to cluster centre: 0.90\n",
      "r2 score related to cluster centre: 0.81\n"
     ]
    },
    {
     "data": {
      "application/vnd.jupyter.widget-view+json": {
       "model_id": "a61b75a09eb54c09a5bba5f25db2228a",
       "version_major": 2,
       "version_minor": 0
      },
      "text/plain": [
       "IntProgress(value=0, max=497)"
      ]
     },
     "metadata": {},
     "output_type": "display_data"
    },
    {
     "name": "stdout",
     "output_type": "stream",
     "text": [
      "***VALIDATION***:\n",
      "average correlation: 0.90\n",
      "average r2: 0.75\n",
      "---do_investigations. cluster index : 1---\n"
     ]
    },
    {
     "data": {
      "application/vnd.jupyter.widget-view+json": {
       "model_id": "ee628d5030f54c0980e6191f476c1d44",
       "version_major": 2,
       "version_minor": 0
      },
      "text/plain": [
       "IntProgress(value=0, max=364)"
      ]
     },
     "metadata": {},
     "output_type": "display_data"
    },
    {
     "name": "stdout",
     "output_type": "stream",
     "text": [
      "Epoch 1/20\n",
      "368/368 [==============================] - 2s 3ms/step - loss: 0.0512 - mean_absolute_error: 0.1093 - val_loss: 0.0129 - val_mean_absolute_error: 0.0677\n",
      "Epoch 2/20\n",
      "368/368 [==============================] - 1s 3ms/step - loss: 0.0053 - mean_absolute_error: 0.0480 - val_loss: 0.0123 - val_mean_absolute_error: 0.0657\n",
      "Epoch 3/20\n",
      "368/368 [==============================] - 1s 3ms/step - loss: 0.0051 - mean_absolute_error: 0.0469 - val_loss: 0.0120 - val_mean_absolute_error: 0.0647\n",
      "Epoch 4/20\n",
      "368/368 [==============================] - 1s 2ms/step - loss: 0.0052 - mean_absolute_error: 0.0474 - val_loss: 0.0127 - val_mean_absolute_error: 0.0694\n",
      "Epoch 5/20\n",
      "368/368 [==============================] - 1s 3ms/step - loss: 0.0052 - mean_absolute_error: 0.0474 - val_loss: 0.0118 - val_mean_absolute_error: 0.0650\n",
      "Epoch 6/20\n",
      "368/368 [==============================] - 1s 3ms/step - loss: 0.0051 - mean_absolute_error: 0.0475 - val_loss: 0.0116 - val_mean_absolute_error: 0.0652\n",
      "Epoch 7/20\n",
      "368/368 [==============================] - 1s 3ms/step - loss: 0.0051 - mean_absolute_error: 0.0476 - val_loss: 0.0118 - val_mean_absolute_error: 0.0669\n",
      "Epoch 8/20\n",
      "368/368 [==============================] - 1s 3ms/step - loss: 0.0051 - mean_absolute_error: 0.0472 - val_loss: 0.0114 - val_mean_absolute_error: 0.0648\n",
      "Epoch 9/20\n",
      "368/368 [==============================] - 1s 2ms/step - loss: 0.0051 - mean_absolute_error: 0.0471 - val_loss: 0.0115 - val_mean_absolute_error: 0.0657\n",
      "Epoch 10/20\n",
      "368/368 [==============================] - 1s 2ms/step - loss: 0.0051 - mean_absolute_error: 0.0476 - val_loss: 0.0116 - val_mean_absolute_error: 0.0659\n",
      "***TRAIN***:\n",
      "correlation related to cluster centre: 1.00\n",
      "r2 score related to cluster centre: 0.99\n",
      "***VALIDATION***:\n",
      "correlation related to cluster centre: 0.98\n",
      "r2 score related to cluster centre: 0.97\n"
     ]
    },
    {
     "data": {
      "application/vnd.jupyter.widget-view+json": {
       "model_id": "26b964b6c5474d35aaee5cfc09f9dfb9",
       "version_major": 2,
       "version_minor": 0
      },
      "text/plain": [
       "IntProgress(value=0, max=364)"
      ]
     },
     "metadata": {},
     "output_type": "display_data"
    },
    {
     "name": "stdout",
     "output_type": "stream",
     "text": [
      "***VALIDATION***:\n",
      "average correlation: nan\n",
      "average r2: 0.16\n",
      "---do_investigations. cluster index : 2---\n"
     ]
    },
    {
     "data": {
      "application/vnd.jupyter.widget-view+json": {
       "model_id": "01079ff5a623443fb03531680281594c",
       "version_major": 2,
       "version_minor": 0
      },
      "text/plain": [
       "IntProgress(value=0, max=477)"
      ]
     },
     "metadata": {},
     "output_type": "display_data"
    },
    {
     "name": "stdout",
     "output_type": "stream",
     "text": [
      "Epoch 1/20\n",
      "368/368 [==============================] - 2s 3ms/step - loss: 0.0983 - mean_absolute_error: 0.1608 - val_loss: 0.0262 - val_mean_absolute_error: 0.0899\n",
      "Epoch 2/20\n",
      "368/368 [==============================] - 1s 2ms/step - loss: 0.0237 - mean_absolute_error: 0.0859 - val_loss: 0.0271 - val_mean_absolute_error: 0.0963\n",
      "Epoch 3/20\n",
      "368/368 [==============================] - 1s 2ms/step - loss: 0.0235 - mean_absolute_error: 0.0856 - val_loss: 0.0249 - val_mean_absolute_error: 0.0839\n",
      "Epoch 4/20\n",
      "368/368 [==============================] - 1s 2ms/step - loss: 0.0231 - mean_absolute_error: 0.0836 - val_loss: 0.0274 - val_mean_absolute_error: 0.0979\n",
      "Epoch 5/20\n",
      "368/368 [==============================] - 1s 3ms/step - loss: 0.0234 - mean_absolute_error: 0.0852 - val_loss: 0.0303 - val_mean_absolute_error: 0.1097\n",
      "***TRAIN***:\n",
      "correlation related to cluster centre: 0.99\n",
      "r2 score related to cluster centre: 0.97\n",
      "***VALIDATION***:\n",
      "correlation related to cluster centre: 0.97\n",
      "r2 score related to cluster centre: 0.94\n"
     ]
    },
    {
     "data": {
      "application/vnd.jupyter.widget-view+json": {
       "model_id": "41c0a329aca947cdb33a82158af30d2f",
       "version_major": 2,
       "version_minor": 0
      },
      "text/plain": [
       "IntProgress(value=0, max=477)"
      ]
     },
     "metadata": {},
     "output_type": "display_data"
    },
    {
     "name": "stdout",
     "output_type": "stream",
     "text": [
      "***VALIDATION***:\n",
      "average correlation: nan\n",
      "average r2: -29257563328635659540758528.00\n",
      "---do_investigations. cluster index : 3---\n"
     ]
    },
    {
     "data": {
      "application/vnd.jupyter.widget-view+json": {
       "model_id": "c7d8b40ac98944bfbc295b9fc69adf2b",
       "version_major": 2,
       "version_minor": 0
      },
      "text/plain": [
       "IntProgress(value=0, max=174)"
      ]
     },
     "metadata": {},
     "output_type": "display_data"
    },
    {
     "name": "stdout",
     "output_type": "stream",
     "text": [
      "Epoch 1/20\n",
      "368/368 [==============================] - 2s 3ms/step - loss: 0.2422 - mean_absolute_error: 0.3429 - val_loss: 0.1423 - val_mean_absolute_error: 0.2619\n",
      "Epoch 2/20\n",
      "368/368 [==============================] - 1s 3ms/step - loss: 0.2004 - mean_absolute_error: 0.3048 - val_loss: 0.1422 - val_mean_absolute_error: 0.2625\n",
      "Epoch 3/20\n",
      "368/368 [==============================] - 1s 3ms/step - loss: 0.1998 - mean_absolute_error: 0.3041 - val_loss: 0.1443 - val_mean_absolute_error: 0.2747\n",
      "Epoch 4/20\n",
      "368/368 [==============================] - 1s 2ms/step - loss: 0.2003 - mean_absolute_error: 0.3048 - val_loss: 0.1437 - val_mean_absolute_error: 0.2727\n",
      "***TRAIN***:\n",
      "correlation related to cluster centre: 0.90\n",
      "r2 score related to cluster centre: 0.80\n",
      "***VALIDATION***:\n",
      "correlation related to cluster centre: 0.91\n",
      "r2 score related to cluster centre: 0.83\n"
     ]
    },
    {
     "data": {
      "application/vnd.jupyter.widget-view+json": {
       "model_id": "cc0695d4622f48f39baf7733bd05e66d",
       "version_major": 2,
       "version_minor": 0
      },
      "text/plain": [
       "IntProgress(value=0, max=174)"
      ]
     },
     "metadata": {},
     "output_type": "display_data"
    },
    {
     "name": "stdout",
     "output_type": "stream",
     "text": [
      "***VALIDATION***:\n",
      "average correlation: 0.91\n",
      "average r2: 0.82\n",
      "---do_investigations. cluster index : 4---\n"
     ]
    },
    {
     "data": {
      "application/vnd.jupyter.widget-view+json": {
       "model_id": "484ddae62ab84128a0f2c27587b1b940",
       "version_major": 2,
       "version_minor": 0
      },
      "text/plain": [
       "IntProgress(value=0, max=585)"
      ]
     },
     "metadata": {},
     "output_type": "display_data"
    },
    {
     "name": "stdout",
     "output_type": "stream",
     "text": [
      "Epoch 1/20\n",
      "368/368 [==============================] - 2s 3ms/step - loss: 0.3304 - mean_absolute_error: 0.3287 - val_loss: 0.2436 - val_mean_absolute_error: 0.2737\n",
      "Epoch 2/20\n",
      "368/368 [==============================] - 1s 2ms/step - loss: 0.2058 - mean_absolute_error: 0.2750 - val_loss: 0.2414 - val_mean_absolute_error: 0.2803\n",
      "Epoch 3/20\n",
      "368/368 [==============================] - 1s 3ms/step - loss: 0.2044 - mean_absolute_error: 0.2745 - val_loss: 0.2452 - val_mean_absolute_error: 0.2804\n",
      "Epoch 4/20\n",
      "368/368 [==============================] - 1s 2ms/step - loss: 0.2050 - mean_absolute_error: 0.2753 - val_loss: 0.2432 - val_mean_absolute_error: 0.2765\n",
      "***TRAIN***:\n",
      "correlation related to cluster centre: 0.90\n",
      "r2 score related to cluster centre: 0.80\n",
      "***VALIDATION***:\n",
      "correlation related to cluster centre: 0.90\n",
      "r2 score related to cluster centre: 0.81\n"
     ]
    },
    {
     "data": {
      "application/vnd.jupyter.widget-view+json": {
       "model_id": "50c9392ff83846a48e89557f95ef9744",
       "version_major": 2,
       "version_minor": 0
      },
      "text/plain": [
       "IntProgress(value=0, max=585)"
      ]
     },
     "metadata": {},
     "output_type": "display_data"
    },
    {
     "name": "stdout",
     "output_type": "stream",
     "text": [
      "***VALIDATION***:\n",
      "average correlation: 0.89\n",
      "average r2: 0.78\n",
      "---do_investigations. cluster index : 5---\n"
     ]
    },
    {
     "data": {
      "application/vnd.jupyter.widget-view+json": {
       "model_id": "881ded4977294613aa1dc0e57901c15b",
       "version_major": 2,
       "version_minor": 0
      },
      "text/plain": [
       "IntProgress(value=0, max=344)"
      ]
     },
     "metadata": {},
     "output_type": "display_data"
    },
    {
     "name": "stdout",
     "output_type": "stream",
     "text": [
      "Epoch 1/20\n",
      "368/368 [==============================] - 2s 3ms/step - loss: 0.2458 - mean_absolute_error: 0.3461 - val_loss: 0.1733 - val_mean_absolute_error: 0.2905\n",
      "Epoch 2/20\n",
      "368/368 [==============================] - 1s 2ms/step - loss: 0.1898 - mean_absolute_error: 0.3000 - val_loss: 0.1808 - val_mean_absolute_error: 0.2967\n",
      "Epoch 3/20\n",
      "368/368 [==============================] - 1s 2ms/step - loss: 0.1889 - mean_absolute_error: 0.2995 - val_loss: 0.1742 - val_mean_absolute_error: 0.2918\n",
      "***TRAIN***:\n",
      "correlation related to cluster centre: 0.90\n",
      "r2 score related to cluster centre: 0.81\n",
      "***VALIDATION***:\n",
      "correlation related to cluster centre: 0.91\n",
      "r2 score related to cluster centre: 0.83\n"
     ]
    },
    {
     "data": {
      "application/vnd.jupyter.widget-view+json": {
       "model_id": "bf878f1876e94f4aa11355015f238137",
       "version_major": 2,
       "version_minor": 0
      },
      "text/plain": [
       "IntProgress(value=0, max=344)"
      ]
     },
     "metadata": {},
     "output_type": "display_data"
    },
    {
     "name": "stdout",
     "output_type": "stream",
     "text": [
      "***VALIDATION***:\n",
      "average correlation: 0.91\n",
      "average r2: 0.77\n",
      "---do_investigations. cluster index : 6---\n"
     ]
    },
    {
     "data": {
      "application/vnd.jupyter.widget-view+json": {
       "model_id": "c11a477abe35407a91bd896c5caf1694",
       "version_major": 2,
       "version_minor": 0
      },
      "text/plain": [
       "IntProgress(value=0, max=223)"
      ]
     },
     "metadata": {},
     "output_type": "display_data"
    },
    {
     "name": "stdout",
     "output_type": "stream",
     "text": [
      "Epoch 1/20\n",
      "368/368 [==============================] - 2s 3ms/step - loss: 0.2808 - mean_absolute_error: 0.3580 - val_loss: 0.1608 - val_mean_absolute_error: 0.2777\n",
      "Epoch 2/20\n",
      "368/368 [==============================] - 1s 2ms/step - loss: 0.1939 - mean_absolute_error: 0.3037 - val_loss: 0.1609 - val_mean_absolute_error: 0.2751\n",
      "Epoch 3/20\n",
      "368/368 [==============================] - 1s 2ms/step - loss: 0.1938 - mean_absolute_error: 0.3037 - val_loss: 0.1621 - val_mean_absolute_error: 0.2751\n",
      "***TRAIN***:\n",
      "correlation related to cluster centre: 0.90\n",
      "r2 score related to cluster centre: 0.81\n",
      "***VALIDATION***:\n",
      "correlation related to cluster centre: 0.91\n",
      "r2 score related to cluster centre: 0.83\n"
     ]
    },
    {
     "data": {
      "application/vnd.jupyter.widget-view+json": {
       "model_id": "0b51b232c5b6461fa157acd42614a501",
       "version_major": 2,
       "version_minor": 0
      },
      "text/plain": [
       "IntProgress(value=0, max=223)"
      ]
     },
     "metadata": {},
     "output_type": "display_data"
    },
    {
     "name": "stdout",
     "output_type": "stream",
     "text": [
      "***VALIDATION***:\n",
      "average correlation: 0.91\n",
      "average r2: 0.82\n",
      "---do_investigations. cluster index : 7---\n"
     ]
    },
    {
     "data": {
      "application/vnd.jupyter.widget-view+json": {
       "model_id": "e243ebc6edb8447faf4e83ace58080e6",
       "version_major": 2,
       "version_minor": 0
      },
      "text/plain": [
       "IntProgress(value=0, max=183)"
      ]
     },
     "metadata": {},
     "output_type": "display_data"
    },
    {
     "name": "stdout",
     "output_type": "stream",
     "text": [
      "Epoch 1/20\n",
      "368/368 [==============================] - 2s 3ms/step - loss: 0.2833 - mean_absolute_error: 0.3342 - val_loss: 0.1797 - val_mean_absolute_error: 0.2728\n",
      "Epoch 2/20\n",
      "368/368 [==============================] - 1s 2ms/step - loss: 0.2054 - mean_absolute_error: 0.2917 - val_loss: 0.1794 - val_mean_absolute_error: 0.2679\n",
      "Epoch 3/20\n",
      "368/368 [==============================] - 1s 2ms/step - loss: 0.2050 - mean_absolute_error: 0.2911 - val_loss: 0.1802 - val_mean_absolute_error: 0.2657\n",
      "Epoch 4/20\n",
      "368/368 [==============================] - 1s 2ms/step - loss: 0.2045 - mean_absolute_error: 0.2905 - val_loss: 0.1792 - val_mean_absolute_error: 0.2721\n",
      "Epoch 5/20\n",
      "368/368 [==============================] - 1s 2ms/step - loss: 0.2041 - mean_absolute_error: 0.2902 - val_loss: 0.1782 - val_mean_absolute_error: 0.2702\n",
      "Epoch 6/20\n",
      "368/368 [==============================] - 1s 2ms/step - loss: 0.2040 - mean_absolute_error: 0.2906 - val_loss: 0.1830 - val_mean_absolute_error: 0.2670\n",
      "Epoch 7/20\n",
      "368/368 [==============================] - 1s 2ms/step - loss: 0.2039 - mean_absolute_error: 0.2900 - val_loss: 0.1827 - val_mean_absolute_error: 0.2718\n",
      "***TRAIN***:\n",
      "correlation related to cluster centre: 0.89\n",
      "r2 score related to cluster centre: 0.79\n",
      "***VALIDATION***:\n",
      "correlation related to cluster centre: 0.91\n",
      "r2 score related to cluster centre: 0.82\n"
     ]
    },
    {
     "data": {
      "application/vnd.jupyter.widget-view+json": {
       "model_id": "b12f59b0aa64435e895a5d036fd9cb48",
       "version_major": 2,
       "version_minor": 0
      },
      "text/plain": [
       "IntProgress(value=0, max=183)"
      ]
     },
     "metadata": {},
     "output_type": "display_data"
    },
    {
     "name": "stdout",
     "output_type": "stream",
     "text": [
      "***VALIDATION***:\n",
      "average correlation: 0.90\n",
      "average r2: 0.81\n",
      "---do_investigations. cluster index : 8---\n"
     ]
    },
    {
     "data": {
      "application/vnd.jupyter.widget-view+json": {
       "model_id": "7eaf71667d3a46c98754770d2805dae8",
       "version_major": 2,
       "version_minor": 0
      },
      "text/plain": [
       "IntProgress(value=0, max=2214)"
      ]
     },
     "metadata": {},
     "output_type": "display_data"
    },
    {
     "name": "stdout",
     "output_type": "stream",
     "text": [
      "Epoch 1/20\n",
      "368/368 [==============================] - 2s 3ms/step - loss: 0.0491 - mean_absolute_error: 0.1297 - val_loss: 0.0268 - val_mean_absolute_error: 0.0710\n",
      "Epoch 2/20\n",
      "368/368 [==============================] - 1s 2ms/step - loss: 0.0261 - mean_absolute_error: 0.0963 - val_loss: 0.0262 - val_mean_absolute_error: 0.0698\n",
      "Epoch 3/20\n",
      "368/368 [==============================] - 1s 2ms/step - loss: 0.0258 - mean_absolute_error: 0.0952 - val_loss: 0.0261 - val_mean_absolute_error: 0.0715\n",
      "Epoch 4/20\n",
      "368/368 [==============================] - 1s 2ms/step - loss: 0.0258 - mean_absolute_error: 0.0949 - val_loss: 0.0263 - val_mean_absolute_error: 0.0729\n",
      "Epoch 5/20\n",
      "368/368 [==============================] - 1s 2ms/step - loss: 0.0258 - mean_absolute_error: 0.0958 - val_loss: 0.0274 - val_mean_absolute_error: 0.0834\n",
      "***TRAIN***:\n",
      "correlation related to cluster centre: 0.99\n",
      "r2 score related to cluster centre: 0.97\n",
      "***VALIDATION***:\n",
      "correlation related to cluster centre: 0.97\n",
      "r2 score related to cluster centre: 0.93\n"
     ]
    },
    {
     "data": {
      "application/vnd.jupyter.widget-view+json": {
       "model_id": "046a2cb581ff400ca43df56d9a460fa3",
       "version_major": 2,
       "version_minor": 0
      },
      "text/plain": [
       "IntProgress(value=0, max=2214)"
      ]
     },
     "metadata": {},
     "output_type": "display_data"
    },
    {
     "name": "stdout",
     "output_type": "stream",
     "text": [
      "***VALIDATION***:\n",
      "average correlation: nan\n",
      "average r2: -23561404468393785279119360.00\n",
      "---do_investigations. cluster index : 9---\n"
     ]
    },
    {
     "data": {
      "application/vnd.jupyter.widget-view+json": {
       "model_id": "2b1fc56d04c542e9a5cafed07c390e7a",
       "version_major": 2,
       "version_minor": 0
      },
      "text/plain": [
       "IntProgress(value=0, max=1360)"
      ]
     },
     "metadata": {},
     "output_type": "display_data"
    },
    {
     "name": "stdout",
     "output_type": "stream",
     "text": [
      "Epoch 1/20\n",
      "368/368 [==============================] - 2s 3ms/step - loss: 0.2053 - mean_absolute_error: 0.2832 - val_loss: 0.2093 - val_mean_absolute_error: 0.2392\n",
      "Epoch 2/20\n",
      "368/368 [==============================] - 1s 3ms/step - loss: 0.1674 - mean_absolute_error: 0.2481 - val_loss: 0.2168 - val_mean_absolute_error: 0.2504\n",
      "Epoch 3/20\n",
      "368/368 [==============================] - 1s 2ms/step - loss: 0.1669 - mean_absolute_error: 0.2472 - val_loss: 0.2045 - val_mean_absolute_error: 0.2379\n",
      "Epoch 4/20\n",
      "368/368 [==============================] - 1s 2ms/step - loss: 0.1655 - mean_absolute_error: 0.2460 - val_loss: 0.2075 - val_mean_absolute_error: 0.2376\n",
      "Epoch 5/20\n",
      "368/368 [==============================] - 1s 2ms/step - loss: 0.1653 - mean_absolute_error: 0.2449 - val_loss: 0.2049 - val_mean_absolute_error: 0.2367\n",
      "***TRAIN***:\n",
      "correlation related to cluster centre: 0.92\n",
      "r2 score related to cluster centre: 0.84\n",
      "***VALIDATION***:\n",
      "correlation related to cluster centre: 0.90\n",
      "r2 score related to cluster centre: 0.81\n"
     ]
    },
    {
     "data": {
      "application/vnd.jupyter.widget-view+json": {
       "model_id": "0782195aaa0048d3a95441fc7f6140c3",
       "version_major": 2,
       "version_minor": 0
      },
      "text/plain": [
       "IntProgress(value=0, max=1360)"
      ]
     },
     "metadata": {},
     "output_type": "display_data"
    },
    {
     "name": "stdout",
     "output_type": "stream",
     "text": [
      "***VALIDATION***:\n",
      "average correlation: nan\n",
      "average r2: -60486227679632206973632512.00\n",
      "---do_investigations. cluster index : 10---\n"
     ]
    },
    {
     "data": {
      "application/vnd.jupyter.widget-view+json": {
       "model_id": "32f853595edb4e08a6a233a9324f4214",
       "version_major": 2,
       "version_minor": 0
      },
      "text/plain": [
       "IntProgress(value=0, max=1)"
      ]
     },
     "metadata": {},
     "output_type": "display_data"
    },
    {
     "name": "stdout",
     "output_type": "stream",
     "text": [
      "Epoch 1/20\n",
      "368/368 [==============================] - 2s 3ms/step - loss: 0.1503 - mean_absolute_error: 0.1569 - val_loss: 0.1245 - val_mean_absolute_error: 0.1521\n",
      "Epoch 2/20\n",
      "368/368 [==============================] - 1s 2ms/step - loss: 0.1098 - mean_absolute_error: 0.1226 - val_loss: 0.1213 - val_mean_absolute_error: 0.1191\n",
      "Epoch 3/20\n",
      "368/368 [==============================] - 1s 2ms/step - loss: 0.1100 - mean_absolute_error: 0.1211 - val_loss: 0.1216 - val_mean_absolute_error: 0.1192\n",
      "Epoch 4/20\n",
      "368/368 [==============================] - 1s 2ms/step - loss: 0.1106 - mean_absolute_error: 0.1224 - val_loss: 0.1218 - val_mean_absolute_error: 0.1198\n",
      "***TRAIN***:\n",
      "correlation related to cluster centre: 0.94\n",
      "r2 score related to cluster centre: 0.89\n",
      "***VALIDATION***:\n",
      "correlation related to cluster centre: 0.94\n",
      "r2 score related to cluster centre: 0.89\n"
     ]
    },
    {
     "data": {
      "application/vnd.jupyter.widget-view+json": {
       "model_id": "54f5d20aca0e4018abda927e11d8fe6c",
       "version_major": 2,
       "version_minor": 0
      },
      "text/plain": [
       "IntProgress(value=0, max=1)"
      ]
     },
     "metadata": {},
     "output_type": "display_data"
    },
    {
     "name": "stdout",
     "output_type": "stream",
     "text": [
      "***VALIDATION***:\n",
      "average correlation: 0.94\n",
      "average r2: 0.89\n",
      "---do_investigations. cluster index : 11---\n"
     ]
    },
    {
     "data": {
      "application/vnd.jupyter.widget-view+json": {
       "model_id": "02feb98b3b8f4bbf9d24c5aaa80fb114",
       "version_major": 2,
       "version_minor": 0
      },
      "text/plain": [
       "IntProgress(value=0, max=279)"
      ]
     },
     "metadata": {},
     "output_type": "display_data"
    },
    {
     "name": "stdout",
     "output_type": "stream",
     "text": [
      "Epoch 1/20\n",
      "368/368 [==============================] - 3s 3ms/step - loss: 0.2949 - mean_absolute_error: 0.3313 - val_loss: 0.2286 - val_mean_absolute_error: 0.2799\n",
      "Epoch 2/20\n",
      "368/368 [==============================] - 1s 2ms/step - loss: 0.2067 - mean_absolute_error: 0.2832 - val_loss: 0.2283 - val_mean_absolute_error: 0.3016\n",
      "Epoch 3/20\n",
      "368/368 [==============================] - 1s 3ms/step - loss: 0.2057 - mean_absolute_error: 0.2825 - val_loss: 0.2247 - val_mean_absolute_error: 0.2833\n",
      "Epoch 4/20\n",
      "368/368 [==============================] - 1s 2ms/step - loss: 0.2045 - mean_absolute_error: 0.2810 - val_loss: 0.2290 - val_mean_absolute_error: 0.2900\n",
      "Epoch 5/20\n",
      "368/368 [==============================] - 1s 3ms/step - loss: 0.2055 - mean_absolute_error: 0.2821 - val_loss: 0.2252 - val_mean_absolute_error: 0.2910\n",
      "***TRAIN***:\n",
      "correlation related to cluster centre: 0.89\n",
      "r2 score related to cluster centre: 0.80\n",
      "***VALIDATION***:\n",
      "correlation related to cluster centre: 0.90\n",
      "r2 score related to cluster centre: 0.81\n"
     ]
    },
    {
     "data": {
      "application/vnd.jupyter.widget-view+json": {
       "model_id": "c73a38b3cd1647e6b72f27050751eccf",
       "version_major": 2,
       "version_minor": 0
      },
      "text/plain": [
       "IntProgress(value=0, max=279)"
      ]
     },
     "metadata": {},
     "output_type": "display_data"
    },
    {
     "name": "stdout",
     "output_type": "stream",
     "text": [
      "***VALIDATION***:\n",
      "average correlation: 0.90\n",
      "average r2: 0.80\n",
      "---do_investigations. cluster index : 12---\n"
     ]
    },
    {
     "data": {
      "application/vnd.jupyter.widget-view+json": {
       "model_id": "9202014964dc45219f13349888abc115",
       "version_major": 2,
       "version_minor": 0
      },
      "text/plain": [
       "IntProgress(value=0, max=153)"
      ]
     },
     "metadata": {},
     "output_type": "display_data"
    },
    {
     "name": "stdout",
     "output_type": "stream",
     "text": [
      "Epoch 1/20\n",
      "368/368 [==============================] - 2s 3ms/step - loss: 0.2347 - mean_absolute_error: 0.3331 - val_loss: 0.1615 - val_mean_absolute_error: 0.2796\n",
      "Epoch 2/20\n",
      "368/368 [==============================] - 1s 3ms/step - loss: 0.2105 - mean_absolute_error: 0.3062 - val_loss: 0.1604 - val_mean_absolute_error: 0.2751\n",
      "Epoch 3/20\n",
      "368/368 [==============================] - 1s 3ms/step - loss: 0.2102 - mean_absolute_error: 0.3053 - val_loss: 0.1617 - val_mean_absolute_error: 0.2744\n",
      "Epoch 4/20\n",
      "368/368 [==============================] - 1s 3ms/step - loss: 0.2100 - mean_absolute_error: 0.3048 - val_loss: 0.1624 - val_mean_absolute_error: 0.2788\n",
      "***TRAIN***:\n",
      "correlation related to cluster centre: 0.89\n",
      "r2 score related to cluster centre: 0.79\n",
      "***VALIDATION***:\n",
      "correlation related to cluster centre: 0.91\n",
      "r2 score related to cluster centre: 0.82\n"
     ]
    },
    {
     "data": {
      "application/vnd.jupyter.widget-view+json": {
       "model_id": "0e16185b18764b869f49c5ff979d153e",
       "version_major": 2,
       "version_minor": 0
      },
      "text/plain": [
       "IntProgress(value=0, max=153)"
      ]
     },
     "metadata": {},
     "output_type": "display_data"
    },
    {
     "name": "stdout",
     "output_type": "stream",
     "text": [
      "***VALIDATION***:\n",
      "average correlation: 0.90\n",
      "average r2: 0.77\n",
      "---do_investigations. cluster index : 13---\n"
     ]
    },
    {
     "data": {
      "application/vnd.jupyter.widget-view+json": {
       "model_id": "793f9a7bc4184fc9a44d58ba7dad9e4a",
       "version_major": 2,
       "version_minor": 0
      },
      "text/plain": [
       "IntProgress(value=0, max=826)"
      ]
     },
     "metadata": {},
     "output_type": "display_data"
    },
    {
     "name": "stdout",
     "output_type": "stream",
     "text": [
      "Epoch 1/20\n",
      "368/368 [==============================] - 2s 3ms/step - loss: 0.2237 - mean_absolute_error: 0.3336 - val_loss: 0.2159 - val_mean_absolute_error: 0.3132\n",
      "Epoch 2/20\n",
      "368/368 [==============================] - 1s 3ms/step - loss: 0.1815 - mean_absolute_error: 0.2937 - val_loss: 0.1899 - val_mean_absolute_error: 0.2892\n",
      "Epoch 3/20\n",
      "368/368 [==============================] - 1s 2ms/step - loss: 0.1792 - mean_absolute_error: 0.2915 - val_loss: 0.2035 - val_mean_absolute_error: 0.3071\n",
      "Epoch 4/20\n",
      "368/368 [==============================] - 1s 3ms/step - loss: 0.1800 - mean_absolute_error: 0.2918 - val_loss: 0.2036 - val_mean_absolute_error: 0.3053\n",
      "***TRAIN***:\n",
      "correlation related to cluster centre: 0.91\n",
      "r2 score related to cluster centre: 0.81\n",
      "***VALIDATION***:\n",
      "correlation related to cluster centre: 0.91\n",
      "r2 score related to cluster centre: 0.80\n"
     ]
    },
    {
     "data": {
      "application/vnd.jupyter.widget-view+json": {
       "model_id": "0966288539bf4fcb94e3567fd9b70740",
       "version_major": 2,
       "version_minor": 0
      },
      "text/plain": [
       "IntProgress(value=0, max=826)"
      ]
     },
     "metadata": {},
     "output_type": "display_data"
    },
    {
     "name": "stdout",
     "output_type": "stream",
     "text": [
      "***VALIDATION***:\n",
      "average correlation: 0.90\n",
      "average r2: 0.67\n",
      "weighted_average_correlation: 0.90\n",
      "weighted_average_r2_score: 0.75\n",
      "bad clusters rate: 0.57%\n",
      "------------------------------------------------------\n"
     ]
    }
   ],
   "source": [
    "first_path = r\"C:\\Coding\\final-qualifying-work_2023-2024\\ClusteringCpp\\output\\kmeans 5 0.1 20.txt\"\n",
    "second_path = r\"C:\\Coding\\final-qualifying-work_2023-2024\\ClusteringCpp\\output\\kmeans 15 0.1 20.txt\"\n",
    "third_path = r\"C:\\Coding\\final-qualifying-work_2023-2024\\ClusteringCpp\\output\\kmeans 30 0.1 20.txt\"\n",
    "fourth_path = r\"C:\\Coding\\final-qualifying-work_2023-2024\\ClusteringCpp\\output\\kmeans 60 0.1 20.txt\"\n",
    "\n",
    "output_file = open(\"computational-experiments-output-kmeans.txt\", \"a\")\n",
    "\n",
    "selected_path = second_path\n",
    "\n",
    "print('------------------------------------------------------')\n",
    "output_file.write('------------------------------------------------------\\n')\n",
    "\n",
    "print(f\"msd {os.path.split(selected_path)[-1]}\")\n",
    "output_file.write(f\"msd {os.path.split(selected_path)[-1]}\\n\")\n",
    "show_results(multi_step_dense_model, get_clusters(selected_path), CONV_WIDTH)\n",
    "\n",
    "print('------------------------------------------------------')\n",
    "output_file.write('------------------------------------------------------\\n')\n",
    "\n",
    "output_file.close()"
   ]
  },
  {
   "cell_type": "code",
   "execution_count": 21,
   "id": "4bb7bb81-acdf-45df-bca3-d7865b5b7de1",
   "metadata": {},
   "outputs": [
    {
     "name": "stdout",
     "output_type": "stream",
     "text": [
      "------------------------------------------------------\n",
      "msd kmeans 30 0.1 20.txt\n",
      "---do_investigations. cluster index : 0---\n"
     ]
    },
    {
     "data": {
      "application/vnd.jupyter.widget-view+json": {
       "model_id": "7ec40f110df347149ea8d61d3881e283",
       "version_major": 2,
       "version_minor": 0
      },
      "text/plain": [
       "IntProgress(value=0, max=278)"
      ]
     },
     "metadata": {},
     "output_type": "display_data"
    },
    {
     "name": "stdout",
     "output_type": "stream",
     "text": [
      "Epoch 1/20\n",
      "WARNING:tensorflow:From C:\\python\\python311\\Lib\\site-packages\\keras\\src\\utils\\tf_utils.py:492: The name tf.ragged.RaggedTensorValue is deprecated. Please use tf.compat.v1.ragged.RaggedTensorValue instead.\n",
      "\n",
      "368/368 [==============================] - 3s 3ms/step - loss: 0.2652 - mean_absolute_error: 0.3576 - val_loss: 0.1693 - val_mean_absolute_error: 0.2888\n",
      "Epoch 2/20\n",
      "368/368 [==============================] - 1s 3ms/step - loss: 0.1854 - mean_absolute_error: 0.2991 - val_loss: 0.1702 - val_mean_absolute_error: 0.2876\n",
      "Epoch 3/20\n",
      "368/368 [==============================] - 1s 3ms/step - loss: 0.1852 - mean_absolute_error: 0.2984 - val_loss: 0.1680 - val_mean_absolute_error: 0.2824\n",
      "Epoch 4/20\n",
      "368/368 [==============================] - 1s 3ms/step - loss: 0.1855 - mean_absolute_error: 0.2990 - val_loss: 0.1681 - val_mean_absolute_error: 0.2892\n",
      "Epoch 5/20\n",
      "368/368 [==============================] - 1s 3ms/step - loss: 0.1856 - mean_absolute_error: 0.2982 - val_loss: 0.1709 - val_mean_absolute_error: 0.2956\n",
      "***TRAIN***:\n",
      "correlation related to cluster centre: 0.90\n",
      "r2 score related to cluster centre: 0.82\n",
      "***VALIDATION***:\n",
      "correlation related to cluster centre: 0.91\n",
      "r2 score related to cluster centre: 0.83\n"
     ]
    },
    {
     "data": {
      "application/vnd.jupyter.widget-view+json": {
       "model_id": "af01192357074c518a43f3a8b28aa804",
       "version_major": 2,
       "version_minor": 0
      },
      "text/plain": [
       "IntProgress(value=0, max=278)"
      ]
     },
     "metadata": {},
     "output_type": "display_data"
    },
    {
     "name": "stdout",
     "output_type": "stream",
     "text": [
      "***VALIDATION***:\n",
      "average correlation: 0.91\n",
      "average r2: 0.76\n",
      "---do_investigations. cluster index : 1---\n"
     ]
    },
    {
     "data": {
      "application/vnd.jupyter.widget-view+json": {
       "model_id": "0e3afdfa1bbf43afbf82ec1e566db517",
       "version_major": 2,
       "version_minor": 0
      },
      "text/plain": [
       "IntProgress(value=0, max=213)"
      ]
     },
     "metadata": {},
     "output_type": "display_data"
    },
    {
     "name": "stdout",
     "output_type": "stream",
     "text": [
      "Epoch 1/20\n",
      "368/368 [==============================] - 2s 3ms/step - loss: 0.2322 - mean_absolute_error: 0.3357 - val_loss: 0.1722 - val_mean_absolute_error: 0.2903\n",
      "Epoch 2/20\n",
      "368/368 [==============================] - 1s 3ms/step - loss: 0.1900 - mean_absolute_error: 0.2996 - val_loss: 0.1704 - val_mean_absolute_error: 0.2899\n",
      "Epoch 3/20\n",
      "368/368 [==============================] - 1s 3ms/step - loss: 0.1893 - mean_absolute_error: 0.2985 - val_loss: 0.1687 - val_mean_absolute_error: 0.2841\n",
      "Epoch 4/20\n",
      "368/368 [==============================] - 1s 3ms/step - loss: 0.1891 - mean_absolute_error: 0.2983 - val_loss: 0.1685 - val_mean_absolute_error: 0.2814\n",
      "Epoch 5/20\n",
      "368/368 [==============================] - 1s 3ms/step - loss: 0.1883 - mean_absolute_error: 0.2976 - val_loss: 0.1676 - val_mean_absolute_error: 0.2825\n",
      "Epoch 6/20\n",
      "368/368 [==============================] - 1s 3ms/step - loss: 0.1878 - mean_absolute_error: 0.2971 - val_loss: 0.1687 - val_mean_absolute_error: 0.2843\n",
      "Epoch 7/20\n",
      "368/368 [==============================] - 1s 3ms/step - loss: 0.1874 - mean_absolute_error: 0.2972 - val_loss: 0.1668 - val_mean_absolute_error: 0.2799\n",
      "Epoch 8/20\n",
      "368/368 [==============================] - 1s 3ms/step - loss: 0.1890 - mean_absolute_error: 0.2984 - val_loss: 0.1681 - val_mean_absolute_error: 0.2865\n",
      "Epoch 9/20\n",
      "368/368 [==============================] - 1s 3ms/step - loss: 0.1885 - mean_absolute_error: 0.2975 - val_loss: 0.1689 - val_mean_absolute_error: 0.2891\n",
      "***TRAIN***:\n",
      "correlation related to cluster centre: 0.90\n",
      "r2 score related to cluster centre: 0.81\n",
      "***VALIDATION***:\n",
      "correlation related to cluster centre: 0.91\n",
      "r2 score related to cluster centre: 0.83\n"
     ]
    },
    {
     "data": {
      "application/vnd.jupyter.widget-view+json": {
       "model_id": "4dae75ee9c4f4c0fbdb84d9459e9145f",
       "version_major": 2,
       "version_minor": 0
      },
      "text/plain": [
       "IntProgress(value=0, max=213)"
      ]
     },
     "metadata": {},
     "output_type": "display_data"
    },
    {
     "name": "stdout",
     "output_type": "stream",
     "text": [
      "***VALIDATION***:\n",
      "average correlation: 0.91\n",
      "average r2: 0.77\n",
      "---do_investigations. cluster index : 2---\n"
     ]
    },
    {
     "data": {
      "application/vnd.jupyter.widget-view+json": {
       "model_id": "68fcdf53ed784ee28b632a0b13a6aab7",
       "version_major": 2,
       "version_minor": 0
      },
      "text/plain": [
       "IntProgress(value=0, max=204)"
      ]
     },
     "metadata": {},
     "output_type": "display_data"
    },
    {
     "name": "stdout",
     "output_type": "stream",
     "text": [
      "Epoch 1/20\n",
      "368/368 [==============================] - 2s 3ms/step - loss: 0.2751 - mean_absolute_error: 0.3147 - val_loss: 0.2437 - val_mean_absolute_error: 0.2961\n",
      "Epoch 2/20\n",
      "368/368 [==============================] - 1s 3ms/step - loss: 0.2074 - mean_absolute_error: 0.2800 - val_loss: 0.2533 - val_mean_absolute_error: 0.3017\n",
      "Epoch 3/20\n",
      "368/368 [==============================] - 1s 3ms/step - loss: 0.2058 - mean_absolute_error: 0.2786 - val_loss: 0.2387 - val_mean_absolute_error: 0.2962\n",
      "Epoch 4/20\n",
      "368/368 [==============================] - 1s 3ms/step - loss: 0.2060 - mean_absolute_error: 0.2785 - val_loss: 0.2374 - val_mean_absolute_error: 0.2861\n",
      "Epoch 5/20\n",
      "368/368 [==============================] - 1s 3ms/step - loss: 0.2051 - mean_absolute_error: 0.2772 - val_loss: 0.2367 - val_mean_absolute_error: 0.2856\n",
      "Epoch 6/20\n",
      "368/368 [==============================] - 1s 3ms/step - loss: 0.2053 - mean_absolute_error: 0.2782 - val_loss: 0.2357 - val_mean_absolute_error: 0.2855\n",
      "Epoch 7/20\n",
      "368/368 [==============================] - 1s 3ms/step - loss: 0.2051 - mean_absolute_error: 0.2773 - val_loss: 0.2397 - val_mean_absolute_error: 0.2890\n",
      "Epoch 8/20\n",
      "368/368 [==============================] - 1s 3ms/step - loss: 0.2039 - mean_absolute_error: 0.2762 - val_loss: 0.2405 - val_mean_absolute_error: 0.2991\n",
      "***TRAIN***:\n",
      "correlation related to cluster centre: 0.89\n",
      "r2 score related to cluster centre: 0.80\n",
      "***VALIDATION***:\n",
      "correlation related to cluster centre: 0.90\n",
      "r2 score related to cluster centre: 0.81\n"
     ]
    },
    {
     "data": {
      "application/vnd.jupyter.widget-view+json": {
       "model_id": "38b2b3c1d5354a53b6c94f7e131c5d08",
       "version_major": 2,
       "version_minor": 0
      },
      "text/plain": [
       "IntProgress(value=0, max=204)"
      ]
     },
     "metadata": {},
     "output_type": "display_data"
    },
    {
     "name": "stdout",
     "output_type": "stream",
     "text": [
      "***VALIDATION***:\n",
      "average correlation: 0.90\n",
      "average r2: 0.80\n",
      "---do_investigations. cluster index : 3---\n"
     ]
    },
    {
     "data": {
      "application/vnd.jupyter.widget-view+json": {
       "model_id": "79a4555064a24f36a34e6f6e9ee0b5a5",
       "version_major": 2,
       "version_minor": 0
      },
      "text/plain": [
       "IntProgress(value=0, max=716)"
      ]
     },
     "metadata": {},
     "output_type": "display_data"
    },
    {
     "name": "stdout",
     "output_type": "stream",
     "text": [
      "Epoch 1/20\n",
      "368/368 [==============================] - 2s 4ms/step - loss: 0.0874 - mean_absolute_error: 0.1543 - val_loss: 0.0367 - val_mean_absolute_error: 0.0947\n",
      "Epoch 2/20\n",
      "368/368 [==============================] - 1s 3ms/step - loss: 0.0243 - mean_absolute_error: 0.0877 - val_loss: 0.0353 - val_mean_absolute_error: 0.0942\n",
      "Epoch 3/20\n",
      "368/368 [==============================] - 1s 3ms/step - loss: 0.0237 - mean_absolute_error: 0.0870 - val_loss: 0.0342 - val_mean_absolute_error: 0.0911\n",
      "Epoch 4/20\n",
      "368/368 [==============================] - 1s 3ms/step - loss: 0.0234 - mean_absolute_error: 0.0867 - val_loss: 0.0359 - val_mean_absolute_error: 0.0989\n",
      "Epoch 5/20\n",
      "368/368 [==============================] - 1s 3ms/step - loss: 0.0230 - mean_absolute_error: 0.0852 - val_loss: 0.0338 - val_mean_absolute_error: 0.0906\n",
      "Epoch 6/20\n",
      "368/368 [==============================] - 1s 3ms/step - loss: 0.0231 - mean_absolute_error: 0.0863 - val_loss: 0.0336 - val_mean_absolute_error: 0.0898\n",
      "Epoch 7/20\n",
      "368/368 [==============================] - 1s 3ms/step - loss: 0.0232 - mean_absolute_error: 0.0863 - val_loss: 0.0344 - val_mean_absolute_error: 0.0930\n",
      "Epoch 8/20\n",
      "368/368 [==============================] - 1s 3ms/step - loss: 0.0229 - mean_absolute_error: 0.0855 - val_loss: 0.0341 - val_mean_absolute_error: 0.0931\n",
      "***TRAIN***:\n",
      "correlation related to cluster centre: 0.99\n",
      "r2 score related to cluster centre: 0.98\n",
      "***VALIDATION***:\n",
      "correlation related to cluster centre: 0.97\n",
      "r2 score related to cluster centre: 0.94\n"
     ]
    },
    {
     "data": {
      "application/vnd.jupyter.widget-view+json": {
       "model_id": "1dac714b331747f08c1ee9c2f61449ef",
       "version_major": 2,
       "version_minor": 0
      },
      "text/plain": [
       "IntProgress(value=0, max=716)"
      ]
     },
     "metadata": {},
     "output_type": "display_data"
    },
    {
     "name": "stdout",
     "output_type": "stream",
     "text": [
      "***VALIDATION***:\n",
      "average correlation: 0.90\n",
      "average r2: 0.79\n",
      "---do_investigations. cluster index : 4---\n"
     ]
    },
    {
     "data": {
      "application/vnd.jupyter.widget-view+json": {
       "model_id": "9cd08d3bf88c4a0d884695e55ce7d5de",
       "version_major": 2,
       "version_minor": 0
      },
      "text/plain": [
       "IntProgress(value=0, max=178)"
      ]
     },
     "metadata": {},
     "output_type": "display_data"
    },
    {
     "name": "stdout",
     "output_type": "stream",
     "text": [
      "Epoch 1/20\n",
      "368/368 [==============================] - 2s 3ms/step - loss: 0.2328 - mean_absolute_error: 0.3177 - val_loss: 0.1921 - val_mean_absolute_error: 0.2797\n",
      "Epoch 2/20\n",
      "368/368 [==============================] - 1s 3ms/step - loss: 0.2070 - mean_absolute_error: 0.2906 - val_loss: 0.1914 - val_mean_absolute_error: 0.2754\n",
      "Epoch 3/20\n",
      "368/368 [==============================] - 1s 3ms/step - loss: 0.2042 - mean_absolute_error: 0.2887 - val_loss: 0.1912 - val_mean_absolute_error: 0.2862\n",
      "Epoch 4/20\n",
      "368/368 [==============================] - 1s 3ms/step - loss: 0.2045 - mean_absolute_error: 0.2894 - val_loss: 0.1903 - val_mean_absolute_error: 0.2766\n",
      "Epoch 5/20\n",
      "368/368 [==============================] - 1s 3ms/step - loss: 0.2046 - mean_absolute_error: 0.2888 - val_loss: 0.1906 - val_mean_absolute_error: 0.2771\n",
      "Epoch 6/20\n",
      "368/368 [==============================] - 1s 3ms/step - loss: 0.2029 - mean_absolute_error: 0.2876 - val_loss: 0.1974 - val_mean_absolute_error: 0.2822\n",
      "***TRAIN***:\n",
      "correlation related to cluster centre: 0.89\n",
      "r2 score related to cluster centre: 0.80\n",
      "***VALIDATION***:\n",
      "correlation related to cluster centre: 0.91\n",
      "r2 score related to cluster centre: 0.81\n"
     ]
    },
    {
     "data": {
      "application/vnd.jupyter.widget-view+json": {
       "model_id": "51cea878050b4826ba9b38d756db1000",
       "version_major": 2,
       "version_minor": 0
      },
      "text/plain": [
       "IntProgress(value=0, max=178)"
      ]
     },
     "metadata": {},
     "output_type": "display_data"
    },
    {
     "name": "stdout",
     "output_type": "stream",
     "text": [
      "***VALIDATION***:\n",
      "average correlation: 0.90\n",
      "average r2: 0.81\n",
      "---do_investigations. cluster index : 5---\n"
     ]
    },
    {
     "data": {
      "application/vnd.jupyter.widget-view+json": {
       "model_id": "adac611e44774019a1d65f4b5122ee6c",
       "version_major": 2,
       "version_minor": 0
      },
      "text/plain": [
       "IntProgress(value=0, max=231)"
      ]
     },
     "metadata": {},
     "output_type": "display_data"
    },
    {
     "name": "stdout",
     "output_type": "stream",
     "text": [
      "Epoch 1/20\n",
      "368/368 [==============================] - 2s 3ms/step - loss: 0.2503 - mean_absolute_error: 0.3395 - val_loss: 0.1855 - val_mean_absolute_error: 0.2924\n",
      "Epoch 2/20\n",
      "368/368 [==============================] - 1s 3ms/step - loss: 0.2027 - mean_absolute_error: 0.3067 - val_loss: 0.1811 - val_mean_absolute_error: 0.2856\n",
      "Epoch 3/20\n",
      "368/368 [==============================] - 1s 3ms/step - loss: 0.2005 - mean_absolute_error: 0.3048 - val_loss: 0.1819 - val_mean_absolute_error: 0.2881\n",
      "Epoch 4/20\n",
      "368/368 [==============================] - 1s 3ms/step - loss: 0.2015 - mean_absolute_error: 0.3053 - val_loss: 0.1821 - val_mean_absolute_error: 0.2935\n",
      "***TRAIN***:\n",
      "correlation related to cluster centre: 0.90\n",
      "r2 score related to cluster centre: 0.80\n",
      "***VALIDATION***:\n",
      "correlation related to cluster centre: 0.90\n",
      "r2 score related to cluster centre: 0.82\n"
     ]
    },
    {
     "data": {
      "application/vnd.jupyter.widget-view+json": {
       "model_id": "e398f074b7894db082715f1ea85e345d",
       "version_major": 2,
       "version_minor": 0
      },
      "text/plain": [
       "IntProgress(value=0, max=231)"
      ]
     },
     "metadata": {},
     "output_type": "display_data"
    },
    {
     "name": "stdout",
     "output_type": "stream",
     "text": [
      "***VALIDATION***:\n",
      "average correlation: 0.90\n",
      "average r2: 0.79\n",
      "---do_investigations. cluster index : 6---\n"
     ]
    },
    {
     "data": {
      "application/vnd.jupyter.widget-view+json": {
       "model_id": "c973a3a20f3145de8fa067c313b1f197",
       "version_major": 2,
       "version_minor": 0
      },
      "text/plain": [
       "IntProgress(value=0, max=112)"
      ]
     },
     "metadata": {},
     "output_type": "display_data"
    },
    {
     "name": "stdout",
     "output_type": "stream",
     "text": [
      "Epoch 1/20\n",
      "368/368 [==============================] - 2s 3ms/step - loss: 0.2722 - mean_absolute_error: 0.3459 - val_loss: 0.1395 - val_mean_absolute_error: 0.2705\n",
      "Epoch 2/20\n",
      "368/368 [==============================] - 1s 3ms/step - loss: 0.1935 - mean_absolute_error: 0.3003 - val_loss: 0.1390 - val_mean_absolute_error: 0.2659\n",
      "Epoch 3/20\n",
      "368/368 [==============================] - 1s 3ms/step - loss: 0.1934 - mean_absolute_error: 0.2992 - val_loss: 0.1371 - val_mean_absolute_error: 0.2605\n",
      "Epoch 4/20\n",
      "368/368 [==============================] - 1s 3ms/step - loss: 0.1922 - mean_absolute_error: 0.2983 - val_loss: 0.1433 - val_mean_absolute_error: 0.2683\n",
      "Epoch 5/20\n",
      "368/368 [==============================] - 1s 3ms/step - loss: 0.1927 - mean_absolute_error: 0.2984 - val_loss: 0.1399 - val_mean_absolute_error: 0.2623\n",
      "***TRAIN***:\n",
      "correlation related to cluster centre: 0.90\n",
      "r2 score related to cluster centre: 0.81\n",
      "***VALIDATION***:\n",
      "correlation related to cluster centre: 0.91\n",
      "r2 score related to cluster centre: 0.83\n"
     ]
    },
    {
     "data": {
      "application/vnd.jupyter.widget-view+json": {
       "model_id": "3a466223bf1045c5a3d82215d728ec22",
       "version_major": 2,
       "version_minor": 0
      },
      "text/plain": [
       "IntProgress(value=0, max=112)"
      ]
     },
     "metadata": {},
     "output_type": "display_data"
    },
    {
     "name": "stdout",
     "output_type": "stream",
     "text": [
      "***VALIDATION***:\n",
      "average correlation: 0.91\n",
      "average r2: 0.83\n",
      "---do_investigations. cluster index : 7---\n"
     ]
    },
    {
     "data": {
      "application/vnd.jupyter.widget-view+json": {
       "model_id": "1017ec818a8c47a3acccbe54000af7c1",
       "version_major": 2,
       "version_minor": 0
      },
      "text/plain": [
       "IntProgress(value=0, max=170)"
      ]
     },
     "metadata": {},
     "output_type": "display_data"
    },
    {
     "name": "stdout",
     "output_type": "stream",
     "text": [
      "Epoch 1/20\n",
      "368/368 [==============================] - 2s 3ms/step - loss: 0.2665 - mean_absolute_error: 0.3664 - val_loss: 0.1750 - val_mean_absolute_error: 0.2909\n",
      "Epoch 2/20\n",
      "368/368 [==============================] - 1s 3ms/step - loss: 0.2009 - mean_absolute_error: 0.3119 - val_loss: 0.1657 - val_mean_absolute_error: 0.2806\n",
      "Epoch 3/20\n",
      "368/368 [==============================] - 1s 3ms/step - loss: 0.1977 - mean_absolute_error: 0.3083 - val_loss: 0.1648 - val_mean_absolute_error: 0.2798\n",
      "Epoch 4/20\n",
      "368/368 [==============================] - 1s 3ms/step - loss: 0.1978 - mean_absolute_error: 0.3090 - val_loss: 0.1680 - val_mean_absolute_error: 0.2795\n",
      "Epoch 5/20\n",
      "368/368 [==============================] - 1s 3ms/step - loss: 0.1968 - mean_absolute_error: 0.3076 - val_loss: 0.1639 - val_mean_absolute_error: 0.2809\n",
      "Epoch 6/20\n",
      "368/368 [==============================] - 1s 3ms/step - loss: 0.1966 - mean_absolute_error: 0.3072 - val_loss: 0.1659 - val_mean_absolute_error: 0.2796\n",
      "Epoch 7/20\n",
      "368/368 [==============================] - 1s 3ms/step - loss: 0.1965 - mean_absolute_error: 0.3069 - val_loss: 0.1659 - val_mean_absolute_error: 0.2788\n",
      "***TRAIN***:\n",
      "correlation related to cluster centre: 0.90\n",
      "r2 score related to cluster centre: 0.80\n",
      "***VALIDATION***:\n",
      "correlation related to cluster centre: 0.91\n",
      "r2 score related to cluster centre: 0.83\n"
     ]
    },
    {
     "data": {
      "application/vnd.jupyter.widget-view+json": {
       "model_id": "2918a823deda4445be0cb1521a880a50",
       "version_major": 2,
       "version_minor": 0
      },
      "text/plain": [
       "IntProgress(value=0, max=170)"
      ]
     },
     "metadata": {},
     "output_type": "display_data"
    },
    {
     "name": "stdout",
     "output_type": "stream",
     "text": [
      "***VALIDATION***:\n",
      "average correlation: 0.91\n",
      "average r2: 0.82\n",
      "---do_investigations. cluster index : 8---\n"
     ]
    },
    {
     "data": {
      "application/vnd.jupyter.widget-view+json": {
       "model_id": "d9c9a7f8bf124aeb8778b60b6b028b37",
       "version_major": 2,
       "version_minor": 0
      },
      "text/plain": [
       "IntProgress(value=0, max=362)"
      ]
     },
     "metadata": {},
     "output_type": "display_data"
    },
    {
     "name": "stdout",
     "output_type": "stream",
     "text": [
      "Epoch 1/20\n",
      "368/368 [==============================] - 2s 4ms/step - loss: 0.2758 - mean_absolute_error: 0.3121 - val_loss: 0.2608 - val_mean_absolute_error: 0.2720\n",
      "Epoch 2/20\n",
      "368/368 [==============================] - 1s 3ms/step - loss: 0.2052 - mean_absolute_error: 0.2725 - val_loss: 0.2700 - val_mean_absolute_error: 0.2823\n",
      "Epoch 3/20\n",
      "368/368 [==============================] - 1s 3ms/step - loss: 0.2061 - mean_absolute_error: 0.2723 - val_loss: 0.2592 - val_mean_absolute_error: 0.2828\n",
      "Epoch 4/20\n",
      "368/368 [==============================] - 1s 3ms/step - loss: 0.2071 - mean_absolute_error: 0.2726 - val_loss: 0.2535 - val_mean_absolute_error: 0.2772\n",
      "Epoch 5/20\n",
      "368/368 [==============================] - 1s 3ms/step - loss: 0.2052 - mean_absolute_error: 0.2719 - val_loss: 0.2512 - val_mean_absolute_error: 0.2694\n",
      "Epoch 6/20\n",
      "368/368 [==============================] - 1s 3ms/step - loss: 0.2030 - mean_absolute_error: 0.2705 - val_loss: 0.2509 - val_mean_absolute_error: 0.2711\n",
      "Epoch 7/20\n",
      "368/368 [==============================] - 1s 3ms/step - loss: 0.2033 - mean_absolute_error: 0.2705 - val_loss: 0.2513 - val_mean_absolute_error: 0.2717\n",
      "Epoch 8/20\n",
      "368/368 [==============================] - 1s 3ms/step - loss: 0.2032 - mean_absolute_error: 0.2702 - val_loss: 0.2563 - val_mean_absolute_error: 0.2761\n",
      "***TRAIN***:\n",
      "correlation related to cluster centre: 0.90\n",
      "r2 score related to cluster centre: 0.80\n",
      "***VALIDATION***:\n",
      "correlation related to cluster centre: 0.90\n",
      "r2 score related to cluster centre: 0.80\n"
     ]
    },
    {
     "data": {
      "application/vnd.jupyter.widget-view+json": {
       "model_id": "15309f2521224535836fbcc95cdcf275",
       "version_major": 2,
       "version_minor": 0
      },
      "text/plain": [
       "IntProgress(value=0, max=362)"
      ]
     },
     "metadata": {},
     "output_type": "display_data"
    },
    {
     "name": "stdout",
     "output_type": "stream",
     "text": [
      "***VALIDATION***:\n",
      "average correlation: 0.90\n",
      "average r2: 0.78\n",
      "---do_investigations. cluster index : 9---\n"
     ]
    },
    {
     "data": {
      "application/vnd.jupyter.widget-view+json": {
       "model_id": "c5c0f030de634baaa31ee9622dc0e47e",
       "version_major": 2,
       "version_minor": 0
      },
      "text/plain": [
       "IntProgress(value=0, max=111)"
      ]
     },
     "metadata": {},
     "output_type": "display_data"
    },
    {
     "name": "stdout",
     "output_type": "stream",
     "text": [
      "Epoch 1/20\n",
      "368/368 [==============================] - 2s 4ms/step - loss: 0.2471 - mean_absolute_error: 0.3396 - val_loss: 0.1512 - val_mean_absolute_error: 0.2789\n",
      "Epoch 2/20\n",
      "368/368 [==============================] - 1s 3ms/step - loss: 0.2102 - mean_absolute_error: 0.3091 - val_loss: 0.1513 - val_mean_absolute_error: 0.2791\n",
      "Epoch 3/20\n",
      "368/368 [==============================] - 1s 3ms/step - loss: 0.2092 - mean_absolute_error: 0.3078 - val_loss: 0.1485 - val_mean_absolute_error: 0.2652\n",
      "Epoch 4/20\n",
      "368/368 [==============================] - 1s 3ms/step - loss: 0.2097 - mean_absolute_error: 0.3082 - val_loss: 0.1484 - val_mean_absolute_error: 0.2701\n",
      "Epoch 5/20\n",
      "368/368 [==============================] - 1s 3ms/step - loss: 0.2091 - mean_absolute_error: 0.3076 - val_loss: 0.1512 - val_mean_absolute_error: 0.2802\n",
      "Epoch 6/20\n",
      "368/368 [==============================] - 1s 3ms/step - loss: 0.2095 - mean_absolute_error: 0.3083 - val_loss: 0.1489 - val_mean_absolute_error: 0.2632\n",
      "***TRAIN***:\n",
      "correlation related to cluster centre: 0.89\n",
      "r2 score related to cluster centre: 0.79\n",
      "***VALIDATION***:\n",
      "correlation related to cluster centre: 0.91\n",
      "r2 score related to cluster centre: 0.82\n"
     ]
    },
    {
     "data": {
      "application/vnd.jupyter.widget-view+json": {
       "model_id": "01c887d3fb5e4abbb927c87f8fd9add8",
       "version_major": 2,
       "version_minor": 0
      },
      "text/plain": [
       "IntProgress(value=0, max=111)"
      ]
     },
     "metadata": {},
     "output_type": "display_data"
    },
    {
     "name": "stdout",
     "output_type": "stream",
     "text": [
      "***VALIDATION***:\n",
      "average correlation: 0.91\n",
      "average r2: 0.78\n",
      "---do_investigations. cluster index : 10---\n"
     ]
    },
    {
     "data": {
      "application/vnd.jupyter.widget-view+json": {
       "model_id": "61c82105eb0e417da3dfc453486f9724",
       "version_major": 2,
       "version_minor": 0
      },
      "text/plain": [
       "IntProgress(value=0, max=286)"
      ]
     },
     "metadata": {},
     "output_type": "display_data"
    },
    {
     "name": "stdout",
     "output_type": "stream",
     "text": [
      "Epoch 1/20\n",
      "368/368 [==============================] - 2s 4ms/step - loss: 0.2762 - mean_absolute_error: 0.3392 - val_loss: 0.1691 - val_mean_absolute_error: 0.2417\n",
      "Epoch 2/20\n",
      "368/368 [==============================] - 1s 3ms/step - loss: 0.1923 - mean_absolute_error: 0.2745 - val_loss: 0.1532 - val_mean_absolute_error: 0.2350\n",
      "Epoch 3/20\n",
      "368/368 [==============================] - 1s 3ms/step - loss: 0.1897 - mean_absolute_error: 0.2721 - val_loss: 0.1533 - val_mean_absolute_error: 0.2383\n",
      "Epoch 4/20\n",
      "368/368 [==============================] - 1s 3ms/step - loss: 0.1916 - mean_absolute_error: 0.2737 - val_loss: 0.1535 - val_mean_absolute_error: 0.2339\n",
      "***TRAIN***:\n",
      "correlation related to cluster centre: 0.90\n",
      "r2 score related to cluster centre: 0.81\n",
      "***VALIDATION***:\n",
      "correlation related to cluster centre: 0.91\n",
      "r2 score related to cluster centre: 0.83\n"
     ]
    },
    {
     "data": {
      "application/vnd.jupyter.widget-view+json": {
       "model_id": "85cfa660c6634cd29d66bc6012d30588",
       "version_major": 2,
       "version_minor": 0
      },
      "text/plain": [
       "IntProgress(value=0, max=286)"
      ]
     },
     "metadata": {},
     "output_type": "display_data"
    },
    {
     "name": "stdout",
     "output_type": "stream",
     "text": [
      "***VALIDATION***:\n",
      "average correlation: 0.90\n",
      "average r2: 0.73\n",
      "---do_investigations. cluster index : 11---\n"
     ]
    },
    {
     "data": {
      "application/vnd.jupyter.widget-view+json": {
       "model_id": "86fc6316345b41c280983ee924732e67",
       "version_major": 2,
       "version_minor": 0
      },
      "text/plain": [
       "IntProgress(value=0, max=226)"
      ]
     },
     "metadata": {},
     "output_type": "display_data"
    },
    {
     "name": "stdout",
     "output_type": "stream",
     "text": [
      "Epoch 1/20\n",
      "368/368 [==============================] - 2s 3ms/step - loss: 0.2669 - mean_absolute_error: 0.3609 - val_loss: 0.1971 - val_mean_absolute_error: 0.3208\n",
      "Epoch 2/20\n",
      "368/368 [==============================] - 1s 2ms/step - loss: 0.2078 - mean_absolute_error: 0.3195 - val_loss: 0.1953 - val_mean_absolute_error: 0.3133\n",
      "Epoch 3/20\n",
      "368/368 [==============================] - 1s 2ms/step - loss: 0.2074 - mean_absolute_error: 0.3186 - val_loss: 0.1956 - val_mean_absolute_error: 0.3175\n",
      "Epoch 4/20\n",
      "368/368 [==============================] - 1s 2ms/step - loss: 0.2069 - mean_absolute_error: 0.3183 - val_loss: 0.1948 - val_mean_absolute_error: 0.3078\n",
      "Epoch 5/20\n",
      "368/368 [==============================] - 1s 2ms/step - loss: 0.2066 - mean_absolute_error: 0.3180 - val_loss: 0.1964 - val_mean_absolute_error: 0.3159\n",
      "Epoch 6/20\n",
      "368/368 [==============================] - 1s 2ms/step - loss: 0.2061 - mean_absolute_error: 0.3176 - val_loss: 0.1970 - val_mean_absolute_error: 0.3159\n",
      "***TRAIN***:\n",
      "correlation related to cluster centre: 0.89\n",
      "r2 score related to cluster centre: 0.79\n",
      "***VALIDATION***:\n",
      "correlation related to cluster centre: 0.90\n",
      "r2 score related to cluster centre: 0.81\n"
     ]
    },
    {
     "data": {
      "application/vnd.jupyter.widget-view+json": {
       "model_id": "3c1fd9bf76cb47b4b7b14ade44867c17",
       "version_major": 2,
       "version_minor": 0
      },
      "text/plain": [
       "IntProgress(value=0, max=226)"
      ]
     },
     "metadata": {},
     "output_type": "display_data"
    },
    {
     "name": "stdout",
     "output_type": "stream",
     "text": [
      "***VALIDATION***:\n",
      "average correlation: 0.90\n",
      "average r2: 0.80\n",
      "---do_investigations. cluster index : 12---\n"
     ]
    },
    {
     "data": {
      "application/vnd.jupyter.widget-view+json": {
       "model_id": "a4e5667bf58441cf8464a10d4543cc14",
       "version_major": 2,
       "version_minor": 0
      },
      "text/plain": [
       "IntProgress(value=0, max=4441)"
      ]
     },
     "metadata": {},
     "output_type": "display_data"
    },
    {
     "name": "stdout",
     "output_type": "stream",
     "text": [
      "Epoch 1/20\n",
      "368/368 [==============================] - 2s 3ms/step - loss: 0.2069 - mean_absolute_error: 0.2804 - val_loss: 0.1328 - val_mean_absolute_error: 0.1900\n",
      "Epoch 2/20\n",
      "368/368 [==============================] - 1s 2ms/step - loss: 0.1199 - mean_absolute_error: 0.2114 - val_loss: 0.1329 - val_mean_absolute_error: 0.1895\n",
      "Epoch 3/20\n",
      "368/368 [==============================] - 1s 2ms/step - loss: 0.1198 - mean_absolute_error: 0.2104 - val_loss: 0.1317 - val_mean_absolute_error: 0.1879\n",
      "Epoch 4/20\n",
      "368/368 [==============================] - 1s 2ms/step - loss: 0.1187 - mean_absolute_error: 0.2095 - val_loss: 0.1309 - val_mean_absolute_error: 0.1879\n",
      "Epoch 5/20\n",
      "368/368 [==============================] - 1s 2ms/step - loss: 0.1191 - mean_absolute_error: 0.2100 - val_loss: 0.1323 - val_mean_absolute_error: 0.1883\n",
      "Epoch 6/20\n",
      "368/368 [==============================] - 1s 2ms/step - loss: 0.1185 - mean_absolute_error: 0.2091 - val_loss: 0.1326 - val_mean_absolute_error: 0.1904\n",
      "***TRAIN***:\n",
      "correlation related to cluster centre: 0.94\n",
      "r2 score related to cluster centre: 0.88\n",
      "***VALIDATION***:\n",
      "correlation related to cluster centre: 0.91\n",
      "r2 score related to cluster centre: 0.83\n"
     ]
    },
    {
     "data": {
      "application/vnd.jupyter.widget-view+json": {
       "model_id": "05f27eea34234f25832a026864b1496a",
       "version_major": 2,
       "version_minor": 0
      },
      "text/plain": [
       "IntProgress(value=0, max=4441)"
      ]
     },
     "metadata": {},
     "output_type": "display_data"
    },
    {
     "name": "stdout",
     "output_type": "stream",
     "text": [
      "***VALIDATION***:\n",
      "average correlation: nan\n",
      "average r2: -3777981130107863269705252864.00\n",
      "---do_investigations. cluster index : 13---\n"
     ]
    },
    {
     "data": {
      "application/vnd.jupyter.widget-view+json": {
       "model_id": "0455b1772e684a07a0879da25d59fa31",
       "version_major": 2,
       "version_minor": 0
      },
      "text/plain": [
       "IntProgress(value=0, max=152)"
      ]
     },
     "metadata": {},
     "output_type": "display_data"
    },
    {
     "name": "stdout",
     "output_type": "stream",
     "text": [
      "Epoch 1/20\n",
      "368/368 [==============================] - 2s 4ms/step - loss: 0.2902 - mean_absolute_error: 0.3496 - val_loss: 0.1719 - val_mean_absolute_error: 0.2809\n",
      "Epoch 2/20\n",
      "368/368 [==============================] - 1s 3ms/step - loss: 0.2083 - mean_absolute_error: 0.2990 - val_loss: 0.1709 - val_mean_absolute_error: 0.2758\n",
      "Epoch 3/20\n",
      "368/368 [==============================] - 1s 3ms/step - loss: 0.2089 - mean_absolute_error: 0.2996 - val_loss: 0.1714 - val_mean_absolute_error: 0.2871\n",
      "Epoch 4/20\n",
      "368/368 [==============================] - 1s 3ms/step - loss: 0.2085 - mean_absolute_error: 0.2990 - val_loss: 0.1707 - val_mean_absolute_error: 0.2797\n",
      "Epoch 5/20\n",
      "368/368 [==============================] - 1s 3ms/step - loss: 0.2075 - mean_absolute_error: 0.2977 - val_loss: 0.1701 - val_mean_absolute_error: 0.2739\n",
      "Epoch 6/20\n",
      "368/368 [==============================] - 1s 3ms/step - loss: 0.2073 - mean_absolute_error: 0.2980 - val_loss: 0.1706 - val_mean_absolute_error: 0.2743\n",
      "Epoch 7/20\n",
      "368/368 [==============================] - 1s 3ms/step - loss: 0.2075 - mean_absolute_error: 0.2979 - val_loss: 0.1700 - val_mean_absolute_error: 0.2787\n",
      "Epoch 8/20\n",
      "368/368 [==============================] - 1s 3ms/step - loss: 0.2077 - mean_absolute_error: 0.2982 - val_loss: 0.1697 - val_mean_absolute_error: 0.2807\n",
      "Epoch 9/20\n",
      "368/368 [==============================] - 1s 3ms/step - loss: 0.2069 - mean_absolute_error: 0.2971 - val_loss: 0.1724 - val_mean_absolute_error: 0.2813\n",
      "Epoch 10/20\n",
      "368/368 [==============================] - 1s 3ms/step - loss: 0.2072 - mean_absolute_error: 0.2973 - val_loss: 0.1694 - val_mean_absolute_error: 0.2793\n",
      "Epoch 11/20\n",
      "368/368 [==============================] - 1s 3ms/step - loss: 0.2066 - mean_absolute_error: 0.2967 - val_loss: 0.1695 - val_mean_absolute_error: 0.2796\n",
      "Epoch 12/20\n",
      "368/368 [==============================] - 1s 3ms/step - loss: 0.2061 - mean_absolute_error: 0.2965 - val_loss: 0.1698 - val_mean_absolute_error: 0.2736\n",
      "***TRAIN***:\n",
      "correlation related to cluster centre: 0.89\n",
      "r2 score related to cluster centre: 0.80\n",
      "***VALIDATION***:\n",
      "correlation related to cluster centre: 0.91\n",
      "r2 score related to cluster centre: 0.82\n"
     ]
    },
    {
     "data": {
      "application/vnd.jupyter.widget-view+json": {
       "model_id": "e069bd68ead44a0d9f3cfd7ba2c4d8e8",
       "version_major": 2,
       "version_minor": 0
      },
      "text/plain": [
       "IntProgress(value=0, max=152)"
      ]
     },
     "metadata": {},
     "output_type": "display_data"
    },
    {
     "name": "stdout",
     "output_type": "stream",
     "text": [
      "***VALIDATION***:\n",
      "average correlation: 0.90\n",
      "average r2: 0.82\n",
      "weighted_average_correlation: 0.90\n",
      "weighted_average_r2_score: 0.79\n",
      "bad clusters rate: 0.58%\n",
      "------------------------------------------------------\n"
     ]
    }
   ],
   "source": [
    "first_path = r\"C:\\Coding\\final-qualifying-work_2023-2024\\ClusteringCpp\\output\\kmeans 5 0.1 20.txt\"\n",
    "second_path = r\"C:\\Coding\\final-qualifying-work_2023-2024\\ClusteringCpp\\output\\kmeans 15 0.1 20.txt\"\n",
    "third_path = r\"C:\\Coding\\final-qualifying-work_2023-2024\\ClusteringCpp\\output\\kmeans 30 0.1 20.txt\"\n",
    "fourth_path = r\"C:\\Coding\\final-qualifying-work_2023-2024\\ClusteringCpp\\output\\kmeans 60 0.1 20.txt\"\n",
    "\n",
    "output_file = open(\"computational-experiments-output-kmeans.txt\", \"a\")\n",
    "\n",
    "selected_path = third_path\n",
    "\n",
    "print('------------------------------------------------------')\n",
    "output_file.write('------------------------------------------------------\\n')\n",
    "\n",
    "print(f\"msd {os.path.split(selected_path)[-1]}\")\n",
    "output_file.write(f\"msd {os.path.split(selected_path)[-1]}\\n\")\n",
    "show_results(multi_step_dense_model, get_clusters(selected_path), CONV_WIDTH)\n",
    "\n",
    "print('------------------------------------------------------')\n",
    "output_file.write('------------------------------------------------------\\n')\n",
    "\n",
    "output_file.close()"
   ]
  },
  {
   "cell_type": "code",
   "execution_count": 22,
   "id": "5586bad6-458a-47fe-a043-7b883df7a0cf",
   "metadata": {},
   "outputs": [
    {
     "name": "stdout",
     "output_type": "stream",
     "text": [
      "------------------------------------------------------\n",
      "msd kmeans 60 0.1 20.txt\n",
      "---do_investigations. cluster index : 0---\n"
     ]
    },
    {
     "data": {
      "application/vnd.jupyter.widget-view+json": {
       "model_id": "2fd5db974a8c444ba301e5751a44fcc9",
       "version_major": 2,
       "version_minor": 0
      },
      "text/plain": [
       "IntProgress(value=0, max=110)"
      ]
     },
     "metadata": {},
     "output_type": "display_data"
    },
    {
     "name": "stdout",
     "output_type": "stream",
     "text": [
      "Epoch 1/20\n",
      "368/368 [==============================] - 2s 3ms/step - loss: 0.2388 - mean_absolute_error: 0.3404 - val_loss: 0.1606 - val_mean_absolute_error: 0.2803\n",
      "Epoch 2/20\n",
      "368/368 [==============================] - 1s 2ms/step - loss: 0.2106 - mean_absolute_error: 0.3082 - val_loss: 0.1611 - val_mean_absolute_error: 0.2740\n",
      "Epoch 3/20\n",
      "368/368 [==============================] - 1s 2ms/step - loss: 0.2095 - mean_absolute_error: 0.3070 - val_loss: 0.1568 - val_mean_absolute_error: 0.2692\n",
      "Epoch 4/20\n",
      "368/368 [==============================] - 1s 2ms/step - loss: 0.2094 - mean_absolute_error: 0.3063 - val_loss: 0.1579 - val_mean_absolute_error: 0.2728\n",
      "Epoch 5/20\n",
      "368/368 [==============================] - 1s 2ms/step - loss: 0.2094 - mean_absolute_error: 0.3063 - val_loss: 0.1570 - val_mean_absolute_error: 0.2703\n",
      "***TRAIN***:\n",
      "correlation related to cluster centre: 0.89\n",
      "r2 score related to cluster centre: 0.79\n",
      "***VALIDATION***:\n",
      "correlation related to cluster centre: 0.91\n",
      "r2 score related to cluster centre: 0.82\n"
     ]
    },
    {
     "data": {
      "application/vnd.jupyter.widget-view+json": {
       "model_id": "9debc5e5b473478d9521c486ba461016",
       "version_major": 2,
       "version_minor": 0
      },
      "text/plain": [
       "IntProgress(value=0, max=110)"
      ]
     },
     "metadata": {},
     "output_type": "display_data"
    },
    {
     "name": "stdout",
     "output_type": "stream",
     "text": [
      "***VALIDATION***:\n",
      "average correlation: 0.90\n",
      "average r2: 0.79\n",
      "---do_investigations. cluster index : 1---\n"
     ]
    },
    {
     "data": {
      "application/vnd.jupyter.widget-view+json": {
       "model_id": "75be5bf0f3274789acd815d67b45534a",
       "version_major": 2,
       "version_minor": 0
      },
      "text/plain": [
       "IntProgress(value=0, max=184)"
      ]
     },
     "metadata": {},
     "output_type": "display_data"
    },
    {
     "name": "stdout",
     "output_type": "stream",
     "text": [
      "Epoch 1/20\n",
      "368/368 [==============================] - 2s 3ms/step - loss: 0.2261 - mean_absolute_error: 0.2965 - val_loss: 0.1773 - val_mean_absolute_error: 0.2315\n",
      "Epoch 2/20\n",
      "368/368 [==============================] - 1s 2ms/step - loss: 0.1950 - mean_absolute_error: 0.2648 - val_loss: 0.1508 - val_mean_absolute_error: 0.2152\n",
      "Epoch 3/20\n",
      "368/368 [==============================] - 1s 2ms/step - loss: 0.1934 - mean_absolute_error: 0.2645 - val_loss: 0.1522 - val_mean_absolute_error: 0.2120\n",
      "Epoch 4/20\n",
      "368/368 [==============================] - 1s 2ms/step - loss: 0.1928 - mean_absolute_error: 0.2637 - val_loss: 0.1497 - val_mean_absolute_error: 0.2122\n",
      "Epoch 5/20\n",
      "368/368 [==============================] - 1s 2ms/step - loss: 0.1918 - mean_absolute_error: 0.2629 - val_loss: 0.1500 - val_mean_absolute_error: 0.2181\n",
      "Epoch 6/20\n",
      "368/368 [==============================] - 1s 3ms/step - loss: 0.1917 - mean_absolute_error: 0.2630 - val_loss: 0.1543 - val_mean_absolute_error: 0.2183\n",
      "***TRAIN***:\n",
      "correlation related to cluster centre: 0.90\n",
      "r2 score related to cluster centre: 0.81\n",
      "***VALIDATION***:\n",
      "correlation related to cluster centre: 0.91\n",
      "r2 score related to cluster centre: 0.83\n"
     ]
    },
    {
     "data": {
      "application/vnd.jupyter.widget-view+json": {
       "model_id": "da0b73875c8b42c8a6191ec4535aec64",
       "version_major": 2,
       "version_minor": 0
      },
      "text/plain": [
       "IntProgress(value=0, max=184)"
      ]
     },
     "metadata": {},
     "output_type": "display_data"
    },
    {
     "name": "stdout",
     "output_type": "stream",
     "text": [
      "***VALIDATION***:\n",
      "average correlation: 0.90\n",
      "average r2: 0.73\n",
      "---do_investigations. cluster index : 2---\n"
     ]
    },
    {
     "data": {
      "application/vnd.jupyter.widget-view+json": {
       "model_id": "028e42d22bde4459a33d07a3b8729ca0",
       "version_major": 2,
       "version_minor": 0
      },
      "text/plain": [
       "IntProgress(value=0, max=207)"
      ]
     },
     "metadata": {},
     "output_type": "display_data"
    },
    {
     "name": "stdout",
     "output_type": "stream",
     "text": [
      "Epoch 1/20\n",
      "368/368 [==============================] - 2s 3ms/step - loss: 0.2440 - mean_absolute_error: 0.3423 - val_loss: 0.1822 - val_mean_absolute_error: 0.2895\n",
      "Epoch 2/20\n",
      "368/368 [==============================] - 1s 2ms/step - loss: 0.2027 - mean_absolute_error: 0.3071 - val_loss: 0.1814 - val_mean_absolute_error: 0.2903\n",
      "Epoch 3/20\n",
      "368/368 [==============================] - 1s 2ms/step - loss: 0.2015 - mean_absolute_error: 0.3065 - val_loss: 0.1824 - val_mean_absolute_error: 0.2924\n",
      "Epoch 4/20\n",
      "368/368 [==============================] - 1s 2ms/step - loss: 0.2007 - mean_absolute_error: 0.3049 - val_loss: 0.1824 - val_mean_absolute_error: 0.2901\n",
      "***TRAIN***:\n",
      "correlation related to cluster centre: 0.90\n",
      "r2 score related to cluster centre: 0.80\n",
      "***VALIDATION***:\n",
      "correlation related to cluster centre: 0.90\n",
      "r2 score related to cluster centre: 0.82\n"
     ]
    },
    {
     "data": {
      "application/vnd.jupyter.widget-view+json": {
       "model_id": "588725fdddf54897a6303510704991e5",
       "version_major": 2,
       "version_minor": 0
      },
      "text/plain": [
       "IntProgress(value=0, max=207)"
      ]
     },
     "metadata": {},
     "output_type": "display_data"
    },
    {
     "name": "stdout",
     "output_type": "stream",
     "text": [
      "***VALIDATION***:\n",
      "average correlation: 0.90\n",
      "average r2: 0.80\n",
      "---do_investigations. cluster index : 3---\n"
     ]
    },
    {
     "data": {
      "application/vnd.jupyter.widget-view+json": {
       "model_id": "63e0625f8d0840ddb09e86b6ce6b49d0",
       "version_major": 2,
       "version_minor": 0
      },
      "text/plain": [
       "IntProgress(value=0, max=118)"
      ]
     },
     "metadata": {},
     "output_type": "display_data"
    },
    {
     "name": "stdout",
     "output_type": "stream",
     "text": [
      "Epoch 1/20\n",
      "368/368 [==============================] - 2s 3ms/step - loss: 0.2786 - mean_absolute_error: 0.3180 - val_loss: 0.2168 - val_mean_absolute_error: 0.2868\n",
      "Epoch 2/20\n",
      "368/368 [==============================] - 1s 2ms/step - loss: 0.2056 - mean_absolute_error: 0.2837 - val_loss: 0.2152 - val_mean_absolute_error: 0.2911\n",
      "Epoch 3/20\n",
      "368/368 [==============================] - 1s 3ms/step - loss: 0.2046 - mean_absolute_error: 0.2826 - val_loss: 0.2152 - val_mean_absolute_error: 0.2893\n",
      "Epoch 4/20\n",
      "368/368 [==============================] - 1s 3ms/step - loss: 0.2058 - mean_absolute_error: 0.2833 - val_loss: 0.2131 - val_mean_absolute_error: 0.2792\n",
      "Epoch 5/20\n",
      "368/368 [==============================] - 1s 3ms/step - loss: 0.2043 - mean_absolute_error: 0.2812 - val_loss: 0.2155 - val_mean_absolute_error: 0.2848\n",
      "Epoch 6/20\n",
      "368/368 [==============================] - 1s 3ms/step - loss: 0.2050 - mean_absolute_error: 0.2823 - val_loss: 0.2146 - val_mean_absolute_error: 0.2891\n",
      "***TRAIN***:\n",
      "correlation related to cluster centre: 0.89\n",
      "r2 score related to cluster centre: 0.80\n",
      "***VALIDATION***:\n",
      "correlation related to cluster centre: 0.90\n",
      "r2 score related to cluster centre: 0.82\n"
     ]
    },
    {
     "data": {
      "application/vnd.jupyter.widget-view+json": {
       "model_id": "7837eea151d24f3e956f3706c1fde436",
       "version_major": 2,
       "version_minor": 0
      },
      "text/plain": [
       "IntProgress(value=0, max=118)"
      ]
     },
     "metadata": {},
     "output_type": "display_data"
    },
    {
     "name": "stdout",
     "output_type": "stream",
     "text": [
      "***VALIDATION***:\n",
      "average correlation: 0.90\n",
      "average r2: 0.80\n",
      "---do_investigations. cluster index : 4---\n"
     ]
    },
    {
     "data": {
      "application/vnd.jupyter.widget-view+json": {
       "model_id": "af6d6c01360141e5a8b3d4e7c633b9f9",
       "version_major": 2,
       "version_minor": 0
      },
      "text/plain": [
       "IntProgress(value=0, max=119)"
      ]
     },
     "metadata": {},
     "output_type": "display_data"
    },
    {
     "name": "stdout",
     "output_type": "stream",
     "text": [
      "Epoch 1/20\n",
      "368/368 [==============================] - 2s 3ms/step - loss: 0.2428 - mean_absolute_error: 0.3308 - val_loss: 0.1906 - val_mean_absolute_error: 0.2848\n",
      "Epoch 2/20\n",
      "368/368 [==============================] - 1s 2ms/step - loss: 0.2058 - mean_absolute_error: 0.2897 - val_loss: 0.1898 - val_mean_absolute_error: 0.2796\n",
      "Epoch 3/20\n",
      "368/368 [==============================] - 1s 3ms/step - loss: 0.2060 - mean_absolute_error: 0.2886 - val_loss: 0.1891 - val_mean_absolute_error: 0.2770\n",
      "Epoch 4/20\n",
      "368/368 [==============================] - 1s 2ms/step - loss: 0.2048 - mean_absolute_error: 0.2880 - val_loss: 0.1891 - val_mean_absolute_error: 0.2766\n",
      "Epoch 5/20\n",
      "368/368 [==============================] - 1s 2ms/step - loss: 0.2046 - mean_absolute_error: 0.2873 - val_loss: 0.1891 - val_mean_absolute_error: 0.2801\n",
      "Epoch 6/20\n",
      "368/368 [==============================] - 1s 3ms/step - loss: 0.2054 - mean_absolute_error: 0.2870 - val_loss: 0.1885 - val_mean_absolute_error: 0.2772\n",
      "Epoch 7/20\n",
      "368/368 [==============================] - 1s 2ms/step - loss: 0.2047 - mean_absolute_error: 0.2875 - val_loss: 0.1878 - val_mean_absolute_error: 0.2762\n",
      "Epoch 8/20\n",
      "368/368 [==============================] - 1s 3ms/step - loss: 0.2040 - mean_absolute_error: 0.2861 - val_loss: 0.1890 - val_mean_absolute_error: 0.2766\n",
      "Epoch 9/20\n",
      "368/368 [==============================] - 1s 3ms/step - loss: 0.2044 - mean_absolute_error: 0.2867 - val_loss: 0.1879 - val_mean_absolute_error: 0.2725\n",
      "***TRAIN***:\n",
      "correlation related to cluster centre: 0.89\n",
      "r2 score related to cluster centre: 0.80\n",
      "***VALIDATION***:\n",
      "correlation related to cluster centre: 0.91\n",
      "r2 score related to cluster centre: 0.82\n"
     ]
    },
    {
     "data": {
      "application/vnd.jupyter.widget-view+json": {
       "model_id": "b843f7bbe7e7409c9218b83f2b5bb338",
       "version_major": 2,
       "version_minor": 0
      },
      "text/plain": [
       "IntProgress(value=0, max=119)"
      ]
     },
     "metadata": {},
     "output_type": "display_data"
    },
    {
     "name": "stdout",
     "output_type": "stream",
     "text": [
      "***VALIDATION***:\n",
      "average correlation: 0.90\n",
      "average r2: 0.81\n",
      "---do_investigations. cluster index : 5---\n"
     ]
    },
    {
     "data": {
      "application/vnd.jupyter.widget-view+json": {
       "model_id": "e83056594cc34495becfc7fab6d8ceeb",
       "version_major": 2,
       "version_minor": 0
      },
      "text/plain": [
       "IntProgress(value=0, max=377)"
      ]
     },
     "metadata": {},
     "output_type": "display_data"
    },
    {
     "name": "stdout",
     "output_type": "stream",
     "text": [
      "Epoch 1/20\n",
      "368/368 [==============================] - 2s 3ms/step - loss: 0.2945 - mean_absolute_error: 0.3227 - val_loss: 0.2636 - val_mean_absolute_error: 0.2703\n",
      "Epoch 2/20\n",
      "368/368 [==============================] - 1s 3ms/step - loss: 0.2064 - mean_absolute_error: 0.2717 - val_loss: 0.2587 - val_mean_absolute_error: 0.2759\n",
      "Epoch 3/20\n",
      "368/368 [==============================] - 1s 3ms/step - loss: 0.2044 - mean_absolute_error: 0.2709 - val_loss: 0.2498 - val_mean_absolute_error: 0.2634\n",
      "Epoch 4/20\n",
      "368/368 [==============================] - 1s 3ms/step - loss: 0.2036 - mean_absolute_error: 0.2687 - val_loss: 0.2479 - val_mean_absolute_error: 0.2683\n",
      "Epoch 5/20\n",
      "368/368 [==============================] - 1s 3ms/step - loss: 0.2015 - mean_absolute_error: 0.2682 - val_loss: 0.2519 - val_mean_absolute_error: 0.2649\n",
      "Epoch 6/20\n",
      "368/368 [==============================] - 1s 2ms/step - loss: 0.2030 - mean_absolute_error: 0.2686 - val_loss: 0.2482 - val_mean_absolute_error: 0.2690\n",
      "***TRAIN***:\n",
      "correlation related to cluster centre: 0.90\n",
      "r2 score related to cluster centre: 0.80\n",
      "***VALIDATION***:\n",
      "correlation related to cluster centre: 0.90\n",
      "r2 score related to cluster centre: 0.81\n"
     ]
    },
    {
     "data": {
      "application/vnd.jupyter.widget-view+json": {
       "model_id": "5a4c72083b664bf18f6033327fcdb6d5",
       "version_major": 2,
       "version_minor": 0
      },
      "text/plain": [
       "IntProgress(value=0, max=377)"
      ]
     },
     "metadata": {},
     "output_type": "display_data"
    },
    {
     "name": "stdout",
     "output_type": "stream",
     "text": [
      "***VALIDATION***:\n",
      "average correlation: 0.89\n",
      "average r2: 0.77\n",
      "---do_investigations. cluster index : 6---\n"
     ]
    },
    {
     "data": {
      "application/vnd.jupyter.widget-view+json": {
       "model_id": "b0c6de311d8d41578de5e41974f15bd1",
       "version_major": 2,
       "version_minor": 0
      },
      "text/plain": [
       "IntProgress(value=0, max=160)"
      ]
     },
     "metadata": {},
     "output_type": "display_data"
    },
    {
     "name": "stdout",
     "output_type": "stream",
     "text": [
      "Epoch 1/20\n",
      "368/368 [==============================] - 2s 3ms/step - loss: 0.2456 - mean_absolute_error: 0.3523 - val_loss: 0.1853 - val_mean_absolute_error: 0.3011\n",
      "Epoch 2/20\n",
      "368/368 [==============================] - 1s 2ms/step - loss: 0.2053 - mean_absolute_error: 0.3167 - val_loss: 0.1846 - val_mean_absolute_error: 0.3019\n",
      "Epoch 3/20\n",
      "368/368 [==============================] - 1s 2ms/step - loss: 0.2054 - mean_absolute_error: 0.3165 - val_loss: 0.1839 - val_mean_absolute_error: 0.2964\n",
      "Epoch 4/20\n",
      "368/368 [==============================] - 1s 2ms/step - loss: 0.2056 - mean_absolute_error: 0.3167 - val_loss: 0.1835 - val_mean_absolute_error: 0.2981\n",
      "Epoch 5/20\n",
      "368/368 [==============================] - 1s 2ms/step - loss: 0.2045 - mean_absolute_error: 0.3158 - val_loss: 0.1837 - val_mean_absolute_error: 0.3009\n",
      "Epoch 6/20\n",
      "368/368 [==============================] - 1s 2ms/step - loss: 0.2048 - mean_absolute_error: 0.3155 - val_loss: 0.1834 - val_mean_absolute_error: 0.2956\n",
      "Epoch 7/20\n",
      "368/368 [==============================] - 1s 3ms/step - loss: 0.2035 - mean_absolute_error: 0.3151 - val_loss: 0.1829 - val_mean_absolute_error: 0.2981\n",
      "Epoch 8/20\n",
      "368/368 [==============================] - 1s 2ms/step - loss: 0.2037 - mean_absolute_error: 0.3152 - val_loss: 0.1832 - val_mean_absolute_error: 0.2976\n",
      "Epoch 9/20\n",
      "368/368 [==============================] - 1s 3ms/step - loss: 0.2041 - mean_absolute_error: 0.3149 - val_loss: 0.1838 - val_mean_absolute_error: 0.2924\n",
      "***TRAIN***:\n",
      "correlation related to cluster centre: 0.89\n",
      "r2 score related to cluster centre: 0.80\n",
      "***VALIDATION***:\n",
      "correlation related to cluster centre: 0.91\n",
      "r2 score related to cluster centre: 0.82\n"
     ]
    },
    {
     "data": {
      "application/vnd.jupyter.widget-view+json": {
       "model_id": "7f8f459655dc4a70833008fb3a313dd4",
       "version_major": 2,
       "version_minor": 0
      },
      "text/plain": [
       "IntProgress(value=0, max=160)"
      ]
     },
     "metadata": {},
     "output_type": "display_data"
    },
    {
     "name": "stdout",
     "output_type": "stream",
     "text": [
      "***VALIDATION***:\n",
      "average correlation: 0.91\n",
      "average r2: 0.82\n",
      "---do_investigations. cluster index : 7---\n"
     ]
    },
    {
     "data": {
      "application/vnd.jupyter.widget-view+json": {
       "model_id": "a3cf5aa5dfb742119c9e3eeaf8f7739d",
       "version_major": 2,
       "version_minor": 0
      },
      "text/plain": [
       "IntProgress(value=0, max=303)"
      ]
     },
     "metadata": {},
     "output_type": "display_data"
    },
    {
     "name": "stdout",
     "output_type": "stream",
     "text": [
      "Epoch 1/20\n",
      "368/368 [==============================] - 2s 3ms/step - loss: 0.0893 - mean_absolute_error: 0.1594 - val_loss: 0.0311 - val_mean_absolute_error: 0.0899\n",
      "Epoch 2/20\n",
      "368/368 [==============================] - 1s 2ms/step - loss: 0.0370 - mean_absolute_error: 0.1037 - val_loss: 0.0275 - val_mean_absolute_error: 0.0828\n",
      "Epoch 3/20\n",
      "368/368 [==============================] - 1s 2ms/step - loss: 0.0362 - mean_absolute_error: 0.1031 - val_loss: 0.0266 - val_mean_absolute_error: 0.0834\n",
      "Epoch 4/20\n",
      "368/368 [==============================] - 1s 2ms/step - loss: 0.0362 - mean_absolute_error: 0.1027 - val_loss: 0.0265 - val_mean_absolute_error: 0.0855\n",
      "Epoch 5/20\n",
      "368/368 [==============================] - 1s 2ms/step - loss: 0.0360 - mean_absolute_error: 0.1030 - val_loss: 0.0263 - val_mean_absolute_error: 0.0808\n",
      "Epoch 6/20\n",
      "368/368 [==============================] - 1s 3ms/step - loss: 0.0356 - mean_absolute_error: 0.1009 - val_loss: 0.0262 - val_mean_absolute_error: 0.0811\n",
      "Epoch 7/20\n",
      "368/368 [==============================] - 1s 3ms/step - loss: 0.0358 - mean_absolute_error: 0.1023 - val_loss: 0.0263 - val_mean_absolute_error: 0.0812\n",
      "Epoch 8/20\n",
      "368/368 [==============================] - 1s 3ms/step - loss: 0.0357 - mean_absolute_error: 0.1033 - val_loss: 0.0261 - val_mean_absolute_error: 0.0815\n",
      "Epoch 9/20\n",
      "368/368 [==============================] - 1s 3ms/step - loss: 0.0357 - mean_absolute_error: 0.1022 - val_loss: 0.0262 - val_mean_absolute_error: 0.0814\n",
      "Epoch 10/20\n",
      "368/368 [==============================] - 1s 3ms/step - loss: 0.0357 - mean_absolute_error: 0.1023 - val_loss: 0.0264 - val_mean_absolute_error: 0.0835\n",
      "***TRAIN***:\n",
      "correlation related to cluster centre: 0.98\n",
      "r2 score related to cluster centre: 0.97\n",
      "***VALIDATION***:\n",
      "correlation related to cluster centre: 0.98\n",
      "r2 score related to cluster centre: 0.95\n"
     ]
    },
    {
     "data": {
      "application/vnd.jupyter.widget-view+json": {
       "model_id": "eeb02d4c66454d50b803e2cf196c9a0f",
       "version_major": 2,
       "version_minor": 0
      },
      "text/plain": [
       "IntProgress(value=0, max=303)"
      ]
     },
     "metadata": {},
     "output_type": "display_data"
    },
    {
     "name": "stdout",
     "output_type": "stream",
     "text": [
      "***VALIDATION***:\n",
      "average correlation: 0.90\n",
      "average r2: 0.77\n",
      "---do_investigations. cluster index : 8---\n"
     ]
    },
    {
     "data": {
      "application/vnd.jupyter.widget-view+json": {
       "model_id": "30eee4b6576c4546b68b87a634e65a82",
       "version_major": 2,
       "version_minor": 0
      },
      "text/plain": [
       "IntProgress(value=0, max=133)"
      ]
     },
     "metadata": {},
     "output_type": "display_data"
    },
    {
     "name": "stdout",
     "output_type": "stream",
     "text": [
      "Epoch 1/20\n",
      "368/368 [==============================] - 2s 3ms/step - loss: 0.2523 - mean_absolute_error: 0.3355 - val_loss: 0.1717 - val_mean_absolute_error: 0.2777\n",
      "Epoch 2/20\n",
      "368/368 [==============================] - 1s 2ms/step - loss: 0.2066 - mean_absolute_error: 0.2966 - val_loss: 0.1711 - val_mean_absolute_error: 0.2819\n",
      "Epoch 3/20\n",
      "368/368 [==============================] - 1s 2ms/step - loss: 0.2062 - mean_absolute_error: 0.2954 - val_loss: 0.1723 - val_mean_absolute_error: 0.2763\n",
      "Epoch 4/20\n",
      "368/368 [==============================] - 1s 2ms/step - loss: 0.2060 - mean_absolute_error: 0.2956 - val_loss: 0.1712 - val_mean_absolute_error: 0.2755\n",
      "***TRAIN***:\n",
      "correlation related to cluster centre: 0.89\n",
      "r2 score related to cluster centre: 0.80\n",
      "***VALIDATION***:\n",
      "correlation related to cluster centre: 0.91\n",
      "r2 score related to cluster centre: 0.82\n"
     ]
    },
    {
     "data": {
      "application/vnd.jupyter.widget-view+json": {
       "model_id": "cf36ccbf249b4c00991cbead9c210682",
       "version_major": 2,
       "version_minor": 0
      },
      "text/plain": [
       "IntProgress(value=0, max=133)"
      ]
     },
     "metadata": {},
     "output_type": "display_data"
    },
    {
     "name": "stdout",
     "output_type": "stream",
     "text": [
      "***VALIDATION***:\n",
      "average correlation: 0.90\n",
      "average r2: 0.82\n",
      "---do_investigations. cluster index : 9---\n"
     ]
    },
    {
     "data": {
      "application/vnd.jupyter.widget-view+json": {
       "model_id": "35478f9459ae406b8e1f827f1cf5fdb1",
       "version_major": 2,
       "version_minor": 0
      },
      "text/plain": [
       "IntProgress(value=0, max=188)"
      ]
     },
     "metadata": {},
     "output_type": "display_data"
    },
    {
     "name": "stdout",
     "output_type": "stream",
     "text": [
      "Epoch 1/20\n",
      "368/368 [==============================] - 2s 3ms/step - loss: 0.2489 - mean_absolute_error: 0.3504 - val_loss: 0.1965 - val_mean_absolute_error: 0.3036\n",
      "Epoch 2/20\n",
      "368/368 [==============================] - 1s 2ms/step - loss: 0.2078 - mean_absolute_error: 0.3189 - val_loss: 0.1972 - val_mean_absolute_error: 0.3044\n",
      "Epoch 3/20\n",
      "368/368 [==============================] - 1s 2ms/step - loss: 0.2077 - mean_absolute_error: 0.3185 - val_loss: 0.1963 - val_mean_absolute_error: 0.3062\n",
      "Epoch 4/20\n",
      "368/368 [==============================] - 1s 2ms/step - loss: 0.2076 - mean_absolute_error: 0.3188 - val_loss: 0.1989 - val_mean_absolute_error: 0.3018\n",
      "Epoch 5/20\n",
      "368/368 [==============================] - 1s 2ms/step - loss: 0.2065 - mean_absolute_error: 0.3173 - val_loss: 0.1987 - val_mean_absolute_error: 0.2993\n",
      "***TRAIN***:\n",
      "correlation related to cluster centre: 0.89\n",
      "r2 score related to cluster centre: 0.79\n",
      "***VALIDATION***:\n",
      "correlation related to cluster centre: 0.90\n",
      "r2 score related to cluster centre: 0.81\n"
     ]
    },
    {
     "data": {
      "application/vnd.jupyter.widget-view+json": {
       "model_id": "04972f739b854f7992684731611c6295",
       "version_major": 2,
       "version_minor": 0
      },
      "text/plain": [
       "IntProgress(value=0, max=188)"
      ]
     },
     "metadata": {},
     "output_type": "display_data"
    },
    {
     "name": "stdout",
     "output_type": "stream",
     "text": [
      "***VALIDATION***:\n",
      "average correlation: 0.90\n",
      "average r2: 0.80\n",
      "---do_investigations. cluster index : 10---\n"
     ]
    },
    {
     "data": {
      "application/vnd.jupyter.widget-view+json": {
       "model_id": "9554a3762ab64ff8b8e288a644055d3f",
       "version_major": 2,
       "version_minor": 0
      },
      "text/plain": [
       "IntProgress(value=0, max=124)"
      ]
     },
     "metadata": {},
     "output_type": "display_data"
    },
    {
     "name": "stdout",
     "output_type": "stream",
     "text": [
      "Epoch 1/20\n",
      "368/368 [==============================] - 2s 3ms/step - loss: 0.2181 - mean_absolute_error: 0.3267 - val_loss: 0.1546 - val_mean_absolute_error: 0.2745\n",
      "Epoch 2/20\n",
      "368/368 [==============================] - 1s 2ms/step - loss: 0.1908 - mean_absolute_error: 0.3011 - val_loss: 0.1574 - val_mean_absolute_error: 0.2894\n",
      "Epoch 3/20\n",
      "368/368 [==============================] - 1s 2ms/step - loss: 0.1900 - mean_absolute_error: 0.3008 - val_loss: 0.1545 - val_mean_absolute_error: 0.2823\n",
      "Epoch 4/20\n",
      "368/368 [==============================] - 1s 2ms/step - loss: 0.1900 - mean_absolute_error: 0.3008 - val_loss: 0.1542 - val_mean_absolute_error: 0.2760\n",
      "Epoch 5/20\n",
      "368/368 [==============================] - 1s 2ms/step - loss: 0.1906 - mean_absolute_error: 0.3015 - val_loss: 0.1536 - val_mean_absolute_error: 0.2742\n",
      "Epoch 6/20\n",
      "368/368 [==============================] - 1s 2ms/step - loss: 0.1899 - mean_absolute_error: 0.3010 - val_loss: 0.1537 - val_mean_absolute_error: 0.2791\n",
      "Epoch 7/20\n",
      "368/368 [==============================] - 1s 2ms/step - loss: 0.1893 - mean_absolute_error: 0.2998 - val_loss: 0.1561 - val_mean_absolute_error: 0.2799\n",
      "***TRAIN***:\n",
      "correlation related to cluster centre: 0.90\n",
      "r2 score related to cluster centre: 0.81\n",
      "***VALIDATION***:\n",
      "correlation related to cluster centre: 0.91\n",
      "r2 score related to cluster centre: 0.83\n"
     ]
    },
    {
     "data": {
      "application/vnd.jupyter.widget-view+json": {
       "model_id": "9d8cde433bea4e5abe1dc4b4666b5fbf",
       "version_major": 2,
       "version_minor": 0
      },
      "text/plain": [
       "IntProgress(value=0, max=124)"
      ]
     },
     "metadata": {},
     "output_type": "display_data"
    },
    {
     "name": "stdout",
     "output_type": "stream",
     "text": [
      "***VALIDATION***:\n",
      "average correlation: 0.91\n",
      "average r2: 0.83\n",
      "---do_investigations. cluster index : 11---\n"
     ]
    },
    {
     "data": {
      "application/vnd.jupyter.widget-view+json": {
       "model_id": "7fa3967ab8d24afca1f6ac7fda258b10",
       "version_major": 2,
       "version_minor": 0
      },
      "text/plain": [
       "IntProgress(value=0, max=157)"
      ]
     },
     "metadata": {},
     "output_type": "display_data"
    },
    {
     "name": "stdout",
     "output_type": "stream",
     "text": [
      "Epoch 1/20\n",
      "368/368 [==============================] - 2s 3ms/step - loss: 0.2227 - mean_absolute_error: 0.3267 - val_loss: 0.1680 - val_mean_absolute_error: 0.2987\n",
      "Epoch 2/20\n",
      "368/368 [==============================] - 1s 3ms/step - loss: 0.1950 - mean_absolute_error: 0.3055 - val_loss: 0.1651 - val_mean_absolute_error: 0.2921\n",
      "Epoch 3/20\n",
      "368/368 [==============================] - 1s 3ms/step - loss: 0.1944 - mean_absolute_error: 0.3047 - val_loss: 0.1675 - val_mean_absolute_error: 0.2956\n",
      "Epoch 4/20\n",
      "368/368 [==============================] - 1s 3ms/step - loss: 0.1935 - mean_absolute_error: 0.3041 - val_loss: 0.1628 - val_mean_absolute_error: 0.2826\n",
      "Epoch 5/20\n",
      "368/368 [==============================] - 1s 3ms/step - loss: 0.1944 - mean_absolute_error: 0.3049 - val_loss: 0.1631 - val_mean_absolute_error: 0.2880\n",
      "Epoch 6/20\n",
      "368/368 [==============================] - 1s 2ms/step - loss: 0.1942 - mean_absolute_error: 0.3042 - val_loss: 0.1625 - val_mean_absolute_error: 0.2825\n",
      "Epoch 7/20\n",
      "368/368 [==============================] - 1s 2ms/step - loss: 0.1932 - mean_absolute_error: 0.3032 - val_loss: 0.1644 - val_mean_absolute_error: 0.2923\n",
      "Epoch 8/20\n",
      "368/368 [==============================] - 1s 2ms/step - loss: 0.1935 - mean_absolute_error: 0.3032 - val_loss: 0.1658 - val_mean_absolute_error: 0.2949\n",
      "***TRAIN***:\n",
      "correlation related to cluster centre: 0.90\n",
      "r2 score related to cluster centre: 0.81\n",
      "***VALIDATION***:\n",
      "correlation related to cluster centre: 0.91\n",
      "r2 score related to cluster centre: 0.83\n"
     ]
    },
    {
     "data": {
      "application/vnd.jupyter.widget-view+json": {
       "model_id": "52a2655925bc46998aa774e9184539be",
       "version_major": 2,
       "version_minor": 0
      },
      "text/plain": [
       "IntProgress(value=0, max=157)"
      ]
     },
     "metadata": {},
     "output_type": "display_data"
    },
    {
     "name": "stdout",
     "output_type": "stream",
     "text": [
      "***VALIDATION***:\n",
      "average correlation: 0.91\n",
      "average r2: 0.74\n",
      "---do_investigations. cluster index : 12---\n"
     ]
    },
    {
     "data": {
      "application/vnd.jupyter.widget-view+json": {
       "model_id": "f4be9886a32345ce847f466336999887",
       "version_major": 2,
       "version_minor": 0
      },
      "text/plain": [
       "IntProgress(value=0, max=2408)"
      ]
     },
     "metadata": {},
     "output_type": "display_data"
    },
    {
     "name": "stdout",
     "output_type": "stream",
     "text": [
      "Epoch 1/20\n",
      "368/368 [==============================] - 2s 3ms/step - loss: 0.1140 - mean_absolute_error: 0.2087 - val_loss: 0.0816 - val_mean_absolute_error: 0.1660\n",
      "Epoch 2/20\n",
      "368/368 [==============================] - 1s 2ms/step - loss: 0.0674 - mean_absolute_error: 0.1601 - val_loss: 0.0707 - val_mean_absolute_error: 0.1399\n",
      "Epoch 3/20\n",
      "368/368 [==============================] - 1s 2ms/step - loss: 0.0672 - mean_absolute_error: 0.1599 - val_loss: 0.0689 - val_mean_absolute_error: 0.1340\n",
      "Epoch 4/20\n",
      "368/368 [==============================] - 1s 2ms/step - loss: 0.0666 - mean_absolute_error: 0.1591 - val_loss: 0.0678 - val_mean_absolute_error: 0.1325\n",
      "Epoch 5/20\n",
      "368/368 [==============================] - 1s 2ms/step - loss: 0.0659 - mean_absolute_error: 0.1574 - val_loss: 0.0672 - val_mean_absolute_error: 0.1346\n",
      "Epoch 6/20\n",
      "368/368 [==============================] - 1s 2ms/step - loss: 0.0653 - mean_absolute_error: 0.1569 - val_loss: 0.0663 - val_mean_absolute_error: 0.1299\n",
      "Epoch 7/20\n",
      "368/368 [==============================] - 1s 2ms/step - loss: 0.0656 - mean_absolute_error: 0.1574 - val_loss: 0.0663 - val_mean_absolute_error: 0.1310\n",
      "Epoch 8/20\n",
      "368/368 [==============================] - 1s 2ms/step - loss: 0.0653 - mean_absolute_error: 0.1572 - val_loss: 0.0686 - val_mean_absolute_error: 0.1399\n",
      "Epoch 9/20\n",
      "368/368 [==============================] - 1s 2ms/step - loss: 0.0653 - mean_absolute_error: 0.1567 - val_loss: 0.0660 - val_mean_absolute_error: 0.1314\n",
      "Epoch 10/20\n",
      "368/368 [==============================] - 1s 2ms/step - loss: 0.0655 - mean_absolute_error: 0.1565 - val_loss: 0.0666 - val_mean_absolute_error: 0.1347\n",
      "Epoch 11/20\n",
      "368/368 [==============================] - 1s 2ms/step - loss: 0.0651 - mean_absolute_error: 0.1569 - val_loss: 0.0661 - val_mean_absolute_error: 0.1313\n",
      "***TRAIN***:\n",
      "correlation related to cluster centre: 0.97\n",
      "r2 score related to cluster centre: 0.94\n",
      "***VALIDATION***:\n",
      "correlation related to cluster centre: 0.94\n",
      "r2 score related to cluster centre: 0.88\n"
     ]
    },
    {
     "data": {
      "application/vnd.jupyter.widget-view+json": {
       "model_id": "16298211144a4616a2e065aae4d5bb88",
       "version_major": 2,
       "version_minor": 0
      },
      "text/plain": [
       "IntProgress(value=0, max=2408)"
      ]
     },
     "metadata": {},
     "output_type": "display_data"
    },
    {
     "name": "stdout",
     "output_type": "stream",
     "text": [
      "***VALIDATION***:\n",
      "average correlation: nan\n",
      "average r2: -4754651987609069113311232.00\n",
      "---do_investigations. cluster index : 13---\n"
     ]
    },
    {
     "data": {
      "application/vnd.jupyter.widget-view+json": {
       "model_id": "f10faad595df479588b2cf70659c3a45",
       "version_major": 2,
       "version_minor": 0
      },
      "text/plain": [
       "IntProgress(value=0, max=136)"
      ]
     },
     "metadata": {},
     "output_type": "display_data"
    },
    {
     "name": "stdout",
     "output_type": "stream",
     "text": [
      "Epoch 1/20\n",
      "368/368 [==============================] - 2s 4ms/step - loss: 0.2921 - mean_absolute_error: 0.3362 - val_loss: 0.2498 - val_mean_absolute_error: 0.2834\n",
      "Epoch 2/20\n",
      "368/368 [==============================] - 1s 3ms/step - loss: 0.2072 - mean_absolute_error: 0.2769 - val_loss: 0.2512 - val_mean_absolute_error: 0.2852\n",
      "Epoch 3/20\n",
      "368/368 [==============================] - 1s 3ms/step - loss: 0.2064 - mean_absolute_error: 0.2762 - val_loss: 0.2523 - val_mean_absolute_error: 0.2825\n",
      "***TRAIN***:\n",
      "correlation related to cluster centre: 0.89\n",
      "r2 score related to cluster centre: 0.79\n",
      "***VALIDATION***:\n",
      "correlation related to cluster centre: 0.90\n",
      "r2 score related to cluster centre: 0.81\n"
     ]
    },
    {
     "data": {
      "application/vnd.jupyter.widget-view+json": {
       "model_id": "f18cde978ef3479297df5ae776a12c90",
       "version_major": 2,
       "version_minor": 0
      },
      "text/plain": [
       "IntProgress(value=0, max=136)"
      ]
     },
     "metadata": {},
     "output_type": "display_data"
    },
    {
     "name": "stdout",
     "output_type": "stream",
     "text": [
      "***VALIDATION***:\n",
      "average correlation: 0.90\n",
      "average r2: 0.80\n",
      "---do_investigations. cluster index : 14---\n"
     ]
    },
    {
     "data": {
      "application/vnd.jupyter.widget-view+json": {
       "model_id": "cf6722837175446ba26137cd62c320f5",
       "version_major": 2,
       "version_minor": 0
      },
      "text/plain": [
       "IntProgress(value=0, max=99)"
      ]
     },
     "metadata": {},
     "output_type": "display_data"
    },
    {
     "name": "stdout",
     "output_type": "stream",
     "text": [
      "Epoch 1/20\n",
      "368/368 [==============================] - 3s 4ms/step - loss: 0.2712 - mean_absolute_error: 0.3521 - val_loss: 0.1395 - val_mean_absolute_error: 0.2594\n",
      "Epoch 2/20\n",
      "368/368 [==============================] - 1s 3ms/step - loss: 0.2027 - mean_absolute_error: 0.3060 - val_loss: 0.1390 - val_mean_absolute_error: 0.2644\n",
      "Epoch 3/20\n",
      "368/368 [==============================] - 1s 3ms/step - loss: 0.2017 - mean_absolute_error: 0.3053 - val_loss: 0.1385 - val_mean_absolute_error: 0.2669\n",
      "Epoch 4/20\n",
      "368/368 [==============================] - 1s 3ms/step - loss: 0.2016 - mean_absolute_error: 0.3053 - val_loss: 0.1475 - val_mean_absolute_error: 0.2779\n",
      "Epoch 5/20\n",
      "368/368 [==============================] - 1s 3ms/step - loss: 0.2023 - mean_absolute_error: 0.3056 - val_loss: 0.1413 - val_mean_absolute_error: 0.2644\n",
      "***TRAIN***:\n",
      "correlation related to cluster centre: 0.89\n",
      "r2 score related to cluster centre: 0.79\n",
      "***VALIDATION***:\n",
      "correlation related to cluster centre: 0.91\n",
      "r2 score related to cluster centre: 0.82\n"
     ]
    },
    {
     "data": {
      "application/vnd.jupyter.widget-view+json": {
       "model_id": "405f99546adb45d8abb2533108546e32",
       "version_major": 2,
       "version_minor": 0
      },
      "text/plain": [
       "IntProgress(value=0, max=99)"
      ]
     },
     "metadata": {},
     "output_type": "display_data"
    },
    {
     "name": "stdout",
     "output_type": "stream",
     "text": [
      "***VALIDATION***:\n",
      "average correlation: 0.91\n",
      "average r2: 0.82\n",
      "---do_investigations. cluster index : 15---\n"
     ]
    },
    {
     "data": {
      "application/vnd.jupyter.widget-view+json": {
       "model_id": "6ee830a4abed4654aebae96ec2a76687",
       "version_major": 2,
       "version_minor": 0
      },
      "text/plain": [
       "IntProgress(value=0, max=241)"
      ]
     },
     "metadata": {},
     "output_type": "display_data"
    },
    {
     "name": "stdout",
     "output_type": "stream",
     "text": [
      "Epoch 1/20\n",
      "368/368 [==============================] - 3s 4ms/step - loss: 0.2283 - mean_absolute_error: 0.3180 - val_loss: 0.1781 - val_mean_absolute_error: 0.2617\n",
      "Epoch 2/20\n",
      "368/368 [==============================] - 1s 3ms/step - loss: 0.1986 - mean_absolute_error: 0.2913 - val_loss: 0.1680 - val_mean_absolute_error: 0.2530\n",
      "Epoch 3/20\n",
      "368/368 [==============================] - 1s 3ms/step - loss: 0.1969 - mean_absolute_error: 0.2900 - val_loss: 0.1652 - val_mean_absolute_error: 0.2477\n",
      "Epoch 4/20\n",
      "368/368 [==============================] - 1s 3ms/step - loss: 0.1986 - mean_absolute_error: 0.2903 - val_loss: 0.1664 - val_mean_absolute_error: 0.2539\n",
      "Epoch 5/20\n",
      "368/368 [==============================] - 1s 3ms/step - loss: 0.1964 - mean_absolute_error: 0.2894 - val_loss: 0.1702 - val_mean_absolute_error: 0.2558\n",
      "***TRAIN***:\n",
      "correlation related to cluster centre: 0.90\n",
      "r2 score related to cluster centre: 0.80\n",
      "***VALIDATION***:\n",
      "correlation related to cluster centre: 0.90\n",
      "r2 score related to cluster centre: 0.81\n"
     ]
    },
    {
     "data": {
      "application/vnd.jupyter.widget-view+json": {
       "model_id": "e446fb0671374636bcf6c4444223430a",
       "version_major": 2,
       "version_minor": 0
      },
      "text/plain": [
       "IntProgress(value=0, max=241)"
      ]
     },
     "metadata": {},
     "output_type": "display_data"
    },
    {
     "name": "stdout",
     "output_type": "stream",
     "text": [
      "***VALIDATION***:\n",
      "average correlation: 0.89\n",
      "average r2: 0.78\n",
      "---do_investigations. cluster index : 16---\n"
     ]
    },
    {
     "data": {
      "application/vnd.jupyter.widget-view+json": {
       "model_id": "9ac526037ccb42b58e381afdc29a3725",
       "version_major": 2,
       "version_minor": 0
      },
      "text/plain": [
       "IntProgress(value=0, max=140)"
      ]
     },
     "metadata": {},
     "output_type": "display_data"
    },
    {
     "name": "stdout",
     "output_type": "stream",
     "text": [
      "Epoch 1/20\n",
      "368/368 [==============================] - 2s 4ms/step - loss: 0.2567 - mean_absolute_error: 0.3526 - val_loss: 0.1630 - val_mean_absolute_error: 0.2705\n",
      "Epoch 2/20\n",
      "368/368 [==============================] - 1s 3ms/step - loss: 0.1909 - mean_absolute_error: 0.2961 - val_loss: 0.1614 - val_mean_absolute_error: 0.2699\n",
      "Epoch 3/20\n",
      "368/368 [==============================] - 1s 3ms/step - loss: 0.1890 - mean_absolute_error: 0.2944 - val_loss: 0.1614 - val_mean_absolute_error: 0.2674\n",
      "Epoch 4/20\n",
      "368/368 [==============================] - 1s 3ms/step - loss: 0.1887 - mean_absolute_error: 0.2938 - val_loss: 0.1612 - val_mean_absolute_error: 0.2701\n",
      "Epoch 5/20\n",
      "368/368 [==============================] - 1s 3ms/step - loss: 0.1884 - mean_absolute_error: 0.2932 - val_loss: 0.1601 - val_mean_absolute_error: 0.2675\n",
      "Epoch 6/20\n",
      "368/368 [==============================] - 1s 3ms/step - loss: 0.1880 - mean_absolute_error: 0.2933 - val_loss: 0.1645 - val_mean_absolute_error: 0.2712\n",
      "Epoch 7/20\n",
      "368/368 [==============================] - 1s 3ms/step - loss: 0.1878 - mean_absolute_error: 0.2932 - val_loss: 0.1615 - val_mean_absolute_error: 0.2669\n",
      "***TRAIN***:\n",
      "correlation related to cluster centre: 0.90\n",
      "r2 score related to cluster centre: 0.81\n",
      "***VALIDATION***:\n",
      "correlation related to cluster centre: 0.91\n",
      "r2 score related to cluster centre: 0.83\n"
     ]
    },
    {
     "data": {
      "application/vnd.jupyter.widget-view+json": {
       "model_id": "b833597325df49dcb146cf78f58593bf",
       "version_major": 2,
       "version_minor": 0
      },
      "text/plain": [
       "IntProgress(value=0, max=140)"
      ]
     },
     "metadata": {},
     "output_type": "display_data"
    },
    {
     "name": "stdout",
     "output_type": "stream",
     "text": [
      "***VALIDATION***:\n",
      "average correlation: 0.92\n",
      "average r2: 0.83\n",
      "---do_investigations. cluster index : 17---\n"
     ]
    },
    {
     "data": {
      "application/vnd.jupyter.widget-view+json": {
       "model_id": "9aa114e25c72481d9259a0897a7401d6",
       "version_major": 2,
       "version_minor": 0
      },
      "text/plain": [
       "IntProgress(value=0, max=436)"
      ]
     },
     "metadata": {},
     "output_type": "display_data"
    },
    {
     "name": "stdout",
     "output_type": "stream",
     "text": [
      "Epoch 1/20\n",
      "368/368 [==============================] - 2s 3ms/step - loss: 0.0875 - mean_absolute_error: 0.1442 - val_loss: 0.0305 - val_mean_absolute_error: 0.0690\n",
      "Epoch 2/20\n",
      "368/368 [==============================] - 1s 3ms/step - loss: 0.0191 - mean_absolute_error: 0.0758 - val_loss: 0.0288 - val_mean_absolute_error: 0.0683\n",
      "Epoch 3/20\n",
      "368/368 [==============================] - 1s 3ms/step - loss: 0.0180 - mean_absolute_error: 0.0733 - val_loss: 0.0281 - val_mean_absolute_error: 0.0682\n",
      "Epoch 4/20\n",
      "368/368 [==============================] - 1s 3ms/step - loss: 0.0178 - mean_absolute_error: 0.0740 - val_loss: 0.0275 - val_mean_absolute_error: 0.0666\n",
      "Epoch 5/20\n",
      "368/368 [==============================] - 1s 3ms/step - loss: 0.0175 - mean_absolute_error: 0.0730 - val_loss: 0.0272 - val_mean_absolute_error: 0.0671\n",
      "Epoch 6/20\n",
      "368/368 [==============================] - 1s 3ms/step - loss: 0.0177 - mean_absolute_error: 0.0735 - val_loss: 0.0275 - val_mean_absolute_error: 0.0671\n",
      "Epoch 7/20\n",
      "368/368 [==============================] - 1s 3ms/step - loss: 0.0174 - mean_absolute_error: 0.0718 - val_loss: 0.0271 - val_mean_absolute_error: 0.0675\n",
      "Epoch 8/20\n",
      "368/368 [==============================] - 1s 3ms/step - loss: 0.0175 - mean_absolute_error: 0.0734 - val_loss: 0.0276 - val_mean_absolute_error: 0.0689\n",
      "Epoch 9/20\n",
      "368/368 [==============================] - 1s 3ms/step - loss: 0.0174 - mean_absolute_error: 0.0730 - val_loss: 0.0269 - val_mean_absolute_error: 0.0683\n",
      "Epoch 10/20\n",
      "368/368 [==============================] - 1s 3ms/step - loss: 0.0173 - mean_absolute_error: 0.0718 - val_loss: 0.0268 - val_mean_absolute_error: 0.0674\n",
      "Epoch 11/20\n",
      "368/368 [==============================] - 1s 3ms/step - loss: 0.0173 - mean_absolute_error: 0.0728 - val_loss: 0.0273 - val_mean_absolute_error: 0.0689\n",
      "Epoch 12/20\n",
      "368/368 [==============================] - 1s 3ms/step - loss: 0.0173 - mean_absolute_error: 0.0726 - val_loss: 0.0268 - val_mean_absolute_error: 0.0675\n",
      "***TRAIN***:\n",
      "correlation related to cluster centre: 0.99\n",
      "r2 score related to cluster centre: 0.98\n",
      "***VALIDATION***:\n",
      "correlation related to cluster centre: 0.97\n",
      "r2 score related to cluster centre: 0.93\n"
     ]
    },
    {
     "data": {
      "application/vnd.jupyter.widget-view+json": {
       "model_id": "7bcdacf50f0a4143944220462d51a0ef",
       "version_major": 2,
       "version_minor": 0
      },
      "text/plain": [
       "IntProgress(value=0, max=436)"
      ]
     },
     "metadata": {},
     "output_type": "display_data"
    },
    {
     "name": "stdout",
     "output_type": "stream",
     "text": [
      "***VALIDATION***:\n",
      "average correlation: 0.90\n",
      "average r2: 0.80\n",
      "---do_investigations. cluster index : 18---\n"
     ]
    },
    {
     "data": {
      "application/vnd.jupyter.widget-view+json": {
       "model_id": "cc61d876c8624f94981ce6a2528ed38e",
       "version_major": 2,
       "version_minor": 0
      },
      "text/plain": [
       "IntProgress(value=0, max=264)"
      ]
     },
     "metadata": {},
     "output_type": "display_data"
    },
    {
     "name": "stdout",
     "output_type": "stream",
     "text": [
      "Epoch 1/20\n",
      "368/368 [==============================] - 2s 4ms/step - loss: 0.2318 - mean_absolute_error: 0.3048 - val_loss: 0.1420 - val_mean_absolute_error: 0.2368\n",
      "Epoch 2/20\n",
      "368/368 [==============================] - 1s 3ms/step - loss: 0.1681 - mean_absolute_error: 0.2639 - val_loss: 0.1394 - val_mean_absolute_error: 0.2381\n",
      "Epoch 3/20\n",
      "368/368 [==============================] - 1s 3ms/step - loss: 0.1665 - mean_absolute_error: 0.2626 - val_loss: 0.1408 - val_mean_absolute_error: 0.2407\n",
      "Epoch 4/20\n",
      "368/368 [==============================] - 1s 3ms/step - loss: 0.1661 - mean_absolute_error: 0.2620 - val_loss: 0.1389 - val_mean_absolute_error: 0.2349\n",
      "Epoch 5/20\n",
      "368/368 [==============================] - 1s 3ms/step - loss: 0.1658 - mean_absolute_error: 0.2616 - val_loss: 0.1390 - val_mean_absolute_error: 0.2321\n",
      "Epoch 6/20\n",
      "368/368 [==============================] - 1s 3ms/step - loss: 0.1657 - mean_absolute_error: 0.2620 - val_loss: 0.1390 - val_mean_absolute_error: 0.2377\n",
      "***TRAIN***:\n",
      "correlation related to cluster centre: 0.92\n",
      "r2 score related to cluster centre: 0.84\n",
      "***VALIDATION***:\n",
      "correlation related to cluster centre: 0.92\n",
      "r2 score related to cluster centre: 0.85\n"
     ]
    },
    {
     "data": {
      "application/vnd.jupyter.widget-view+json": {
       "model_id": "7ca6a6fd7afe47899fa6be7249c56c55",
       "version_major": 2,
       "version_minor": 0
      },
      "text/plain": [
       "IntProgress(value=0, max=264)"
      ]
     },
     "metadata": {},
     "output_type": "display_data"
    },
    {
     "name": "stdout",
     "output_type": "stream",
     "text": [
      "***VALIDATION***:\n",
      "average correlation: 0.90\n",
      "average r2: 0.74\n",
      "---do_investigations. cluster index : 19---\n"
     ]
    },
    {
     "data": {
      "application/vnd.jupyter.widget-view+json": {
       "model_id": "06d6dcdc3bcf426e8f79539bfc3c4fe8",
       "version_major": 2,
       "version_minor": 0
      },
      "text/plain": [
       "IntProgress(value=0, max=197)"
      ]
     },
     "metadata": {},
     "output_type": "display_data"
    },
    {
     "name": "stdout",
     "output_type": "stream",
     "text": [
      "Epoch 1/20\n",
      "368/368 [==============================] - 2s 4ms/step - loss: 0.2909 - mean_absolute_error: 0.3587 - val_loss: 0.1719 - val_mean_absolute_error: 0.2811\n",
      "Epoch 2/20\n",
      "368/368 [==============================] - 1s 3ms/step - loss: 0.1872 - mean_absolute_error: 0.2960 - val_loss: 0.1691 - val_mean_absolute_error: 0.2748\n",
      "Epoch 3/20\n",
      "368/368 [==============================] - 1s 3ms/step - loss: 0.1857 - mean_absolute_error: 0.2949 - val_loss: 0.1689 - val_mean_absolute_error: 0.2763\n",
      "Epoch 4/20\n",
      "368/368 [==============================] - 1s 3ms/step - loss: 0.1855 - mean_absolute_error: 0.2947 - val_loss: 0.1686 - val_mean_absolute_error: 0.2774\n",
      "Epoch 5/20\n",
      "368/368 [==============================] - 1s 3ms/step - loss: 0.1856 - mean_absolute_error: 0.2952 - val_loss: 0.1682 - val_mean_absolute_error: 0.2756\n",
      "Epoch 6/20\n",
      "368/368 [==============================] - 1s 3ms/step - loss: 0.1847 - mean_absolute_error: 0.2939 - val_loss: 0.1683 - val_mean_absolute_error: 0.2785\n",
      "Epoch 7/20\n",
      "368/368 [==============================] - 1s 3ms/step - loss: 0.1853 - mean_absolute_error: 0.2948 - val_loss: 0.1681 - val_mean_absolute_error: 0.2738\n",
      "Epoch 8/20\n",
      "368/368 [==============================] - 1s 3ms/step - loss: 0.1843 - mean_absolute_error: 0.2934 - val_loss: 0.1675 - val_mean_absolute_error: 0.2750\n",
      "Epoch 9/20\n",
      "368/368 [==============================] - 1s 3ms/step - loss: 0.1848 - mean_absolute_error: 0.2941 - val_loss: 0.1682 - val_mean_absolute_error: 0.2792\n",
      "Epoch 10/20\n",
      "368/368 [==============================] - 1s 3ms/step - loss: 0.1849 - mean_absolute_error: 0.2940 - val_loss: 0.1675 - val_mean_absolute_error: 0.2749\n",
      "Epoch 11/20\n",
      "368/368 [==============================] - 1s 3ms/step - loss: 0.1845 - mean_absolute_error: 0.2936 - val_loss: 0.1676 - val_mean_absolute_error: 0.2761\n",
      "Epoch 12/20\n",
      "368/368 [==============================] - 1s 3ms/step - loss: 0.1852 - mean_absolute_error: 0.2943 - val_loss: 0.1679 - val_mean_absolute_error: 0.2735\n",
      "***TRAIN***:\n",
      "correlation related to cluster centre: 0.90\n",
      "r2 score related to cluster centre: 0.82\n",
      "***VALIDATION***:\n",
      "correlation related to cluster centre: 0.91\n",
      "r2 score related to cluster centre: 0.84\n"
     ]
    },
    {
     "data": {
      "application/vnd.jupyter.widget-view+json": {
       "model_id": "d2df453176314769bca5ec3c38cea73d",
       "version_major": 2,
       "version_minor": 0
      },
      "text/plain": [
       "IntProgress(value=0, max=197)"
      ]
     },
     "metadata": {},
     "output_type": "display_data"
    },
    {
     "name": "stdout",
     "output_type": "stream",
     "text": [
      "***VALIDATION***:\n",
      "average correlation: 0.91\n",
      "average r2: 0.82\n",
      "---do_investigations. cluster index : 20---\n"
     ]
    },
    {
     "data": {
      "application/vnd.jupyter.widget-view+json": {
       "model_id": "37fa303f84fb4e50b92ddaaaa5987d2f",
       "version_major": 2,
       "version_minor": 0
      },
      "text/plain": [
       "IntProgress(value=0, max=1412)"
      ]
     },
     "metadata": {},
     "output_type": "display_data"
    },
    {
     "name": "stdout",
     "output_type": "stream",
     "text": [
      "Epoch 1/20\n",
      "368/368 [==============================] - 2s 4ms/step - loss: 0.1089 - mean_absolute_error: 0.1990 - val_loss: 0.0842 - val_mean_absolute_error: 0.1623\n",
      "Epoch 2/20\n",
      "368/368 [==============================] - 1s 3ms/step - loss: 0.0615 - mean_absolute_error: 0.1503 - val_loss: 0.0820 - val_mean_absolute_error: 0.1579\n",
      "Epoch 3/20\n",
      "368/368 [==============================] - 1s 3ms/step - loss: 0.0607 - mean_absolute_error: 0.1491 - val_loss: 0.0762 - val_mean_absolute_error: 0.1446\n",
      "Epoch 4/20\n",
      "368/368 [==============================] - 1s 3ms/step - loss: 0.0601 - mean_absolute_error: 0.1481 - val_loss: 0.0844 - val_mean_absolute_error: 0.1666\n",
      "Epoch 5/20\n",
      "368/368 [==============================] - 1s 3ms/step - loss: 0.0605 - mean_absolute_error: 0.1501 - val_loss: 0.0748 - val_mean_absolute_error: 0.1419\n",
      "Epoch 6/20\n",
      "368/368 [==============================] - 1s 3ms/step - loss: 0.0602 - mean_absolute_error: 0.1485 - val_loss: 0.0753 - val_mean_absolute_error: 0.1439\n",
      "Epoch 7/20\n",
      "368/368 [==============================] - 1s 3ms/step - loss: 0.0600 - mean_absolute_error: 0.1489 - val_loss: 0.0837 - val_mean_absolute_error: 0.1645\n",
      "***TRAIN***:\n",
      "correlation related to cluster centre: 0.97\n",
      "r2 score related to cluster centre: 0.94\n",
      "***VALIDATION***:\n",
      "correlation related to cluster centre: 0.93\n",
      "r2 score related to cluster centre: 0.85\n"
     ]
    },
    {
     "data": {
      "application/vnd.jupyter.widget-view+json": {
       "model_id": "e18d8aaf331d46c29bc758b79dc72019",
       "version_major": 2,
       "version_minor": 0
      },
      "text/plain": [
       "IntProgress(value=0, max=1412)"
      ]
     },
     "metadata": {},
     "output_type": "display_data"
    },
    {
     "name": "stdout",
     "output_type": "stream",
     "text": [
      "***VALIDATION***:\n",
      "average correlation: nan\n",
      "average r2: -251760530410044262977634304.00\n",
      "---do_investigations. cluster index : 21---\n"
     ]
    },
    {
     "data": {
      "application/vnd.jupyter.widget-view+json": {
       "model_id": "0157e7fb534e465d88b74ce1c814e430",
       "version_major": 2,
       "version_minor": 0
      },
      "text/plain": [
       "IntProgress(value=0, max=167)"
      ]
     },
     "metadata": {},
     "output_type": "display_data"
    },
    {
     "name": "stdout",
     "output_type": "stream",
     "text": [
      "Epoch 1/20\n",
      "368/368 [==============================] - 2s 4ms/step - loss: 0.3242 - mean_absolute_error: 0.3258 - val_loss: 0.2701 - val_mean_absolute_error: 0.2828\n",
      "Epoch 2/20\n",
      "368/368 [==============================] - 1s 3ms/step - loss: 0.2080 - mean_absolute_error: 0.2710 - val_loss: 0.2663 - val_mean_absolute_error: 0.2893\n",
      "Epoch 3/20\n",
      "368/368 [==============================] - 1s 3ms/step - loss: 0.2074 - mean_absolute_error: 0.2703 - val_loss: 0.2699 - val_mean_absolute_error: 0.2877\n",
      "Epoch 4/20\n",
      "368/368 [==============================] - 1s 3ms/step - loss: 0.2059 - mean_absolute_error: 0.2689 - val_loss: 0.2653 - val_mean_absolute_error: 0.2844\n",
      "Epoch 5/20\n",
      "368/368 [==============================] - 1s 3ms/step - loss: 0.2071 - mean_absolute_error: 0.2705 - val_loss: 0.2655 - val_mean_absolute_error: 0.2812\n",
      "Epoch 6/20\n",
      "368/368 [==============================] - 1s 3ms/step - loss: 0.2078 - mean_absolute_error: 0.2702 - val_loss: 0.2644 - val_mean_absolute_error: 0.2825\n",
      "Epoch 7/20\n",
      "368/368 [==============================] - 1s 3ms/step - loss: 0.2058 - mean_absolute_error: 0.2693 - val_loss: 0.2642 - val_mean_absolute_error: 0.2803\n",
      "Epoch 8/20\n",
      "368/368 [==============================] - 1s 3ms/step - loss: 0.2064 - mean_absolute_error: 0.2694 - val_loss: 0.2643 - val_mean_absolute_error: 0.2791\n",
      "Epoch 9/20\n",
      "368/368 [==============================] - 1s 3ms/step - loss: 0.2051 - mean_absolute_error: 0.2693 - val_loss: 0.2669 - val_mean_absolute_error: 0.2780\n",
      "***TRAIN***:\n",
      "correlation related to cluster centre: 0.89\n",
      "r2 score related to cluster centre: 0.80\n",
      "***VALIDATION***:\n",
      "correlation related to cluster centre: 0.90\n",
      "r2 score related to cluster centre: 0.81\n"
     ]
    },
    {
     "data": {
      "application/vnd.jupyter.widget-view+json": {
       "model_id": "49070e52db834a74b0de3d5272ec4526",
       "version_major": 2,
       "version_minor": 0
      },
      "text/plain": [
       "IntProgress(value=0, max=167)"
      ]
     },
     "metadata": {},
     "output_type": "display_data"
    },
    {
     "name": "stdout",
     "output_type": "stream",
     "text": [
      "***VALIDATION***:\n",
      "average correlation: 0.90\n",
      "average r2: 0.81\n",
      "weighted_average_correlation: 0.90\n",
      "weighted_average_r2_score: 0.79\n",
      "bad clusters rate: 0.50%\n",
      "------------------------------------------------------\n"
     ]
    }
   ],
   "source": [
    "first_path = r\"C:\\Coding\\final-qualifying-work_2023-2024\\ClusteringCpp\\output\\kmeans 5 0.1 20.txt\"\n",
    "second_path = r\"C:\\Coding\\final-qualifying-work_2023-2024\\ClusteringCpp\\output\\kmeans 15 0.1 20.txt\"\n",
    "third_path = r\"C:\\Coding\\final-qualifying-work_2023-2024\\ClusteringCpp\\output\\kmeans 30 0.1 20.txt\"\n",
    "fourth_path = r\"C:\\Coding\\final-qualifying-work_2023-2024\\ClusteringCpp\\output\\kmeans 60 0.1 20.txt\"\n",
    "\n",
    "output_file = open(\"computational-experiments-output-kmeans.txt\", \"a\")\n",
    "\n",
    "selected_path = fourth_path\n",
    "\n",
    "print('------------------------------------------------------')\n",
    "output_file.write('------------------------------------------------------\\n')\n",
    "\n",
    "print(f\"msd {os.path.split(selected_path)[-1]}\")\n",
    "output_file.write(f\"msd {os.path.split(selected_path)[-1]}\\n\")\n",
    "show_results(multi_step_dense_model, get_clusters(selected_path), CONV_WIDTH)\n",
    "\n",
    "print('------------------------------------------------------')\n",
    "output_file.write('------------------------------------------------------\\n')\n",
    "\n",
    "output_file.close()"
   ]
  },
  {
   "cell_type": "code",
   "execution_count": 23,
   "id": "ec347bb6-e27f-4cae-ab47-fea8b30f71c2",
   "metadata": {},
   "outputs": [
    {
     "name": "stdout",
     "output_type": "stream",
     "text": [
      "------------------------------------------------------\n",
      "lstm kmeans 5 0.1 20.txt\n",
      "---do_investigations. cluster index : 0---\n"
     ]
    },
    {
     "data": {
      "application/vnd.jupyter.widget-view+json": {
       "model_id": "189e9c3eb26a42d0ab7453f36c01ab32",
       "version_major": 2,
       "version_minor": 0
      },
      "text/plain": [
       "IntProgress(value=0, max=414)"
      ]
     },
     "metadata": {},
     "output_type": "display_data"
    },
    {
     "name": "stdout",
     "output_type": "stream",
     "text": [
      "Epoch 1/20\n",
      "368/368 [==============================] - 5s 6ms/step - loss: 0.2630 - mean_absolute_error: 0.3477 - val_loss: 0.1719 - val_mean_absolute_error: 0.2738\n",
      "Epoch 2/20\n",
      "368/368 [==============================] - 2s 5ms/step - loss: 0.2047 - mean_absolute_error: 0.3038 - val_loss: 0.1700 - val_mean_absolute_error: 0.2746\n",
      "Epoch 3/20\n",
      "368/368 [==============================] - 2s 5ms/step - loss: 0.2031 - mean_absolute_error: 0.3016 - val_loss: 0.1698 - val_mean_absolute_error: 0.2794\n",
      "Epoch 4/20\n",
      "368/368 [==============================] - 2s 5ms/step - loss: 0.2034 - mean_absolute_error: 0.3023 - val_loss: 0.1706 - val_mean_absolute_error: 0.2729\n",
      "Epoch 5/20\n",
      "368/368 [==============================] - 2s 5ms/step - loss: 0.2034 - mean_absolute_error: 0.3012 - val_loss: 0.1691 - val_mean_absolute_error: 0.2734\n",
      "Epoch 6/20\n",
      "368/368 [==============================] - 2s 5ms/step - loss: 0.2026 - mean_absolute_error: 0.3005 - val_loss: 0.1692 - val_mean_absolute_error: 0.2734\n",
      "Epoch 7/20\n",
      "368/368 [==============================] - 2s 5ms/step - loss: 0.2033 - mean_absolute_error: 0.3012 - val_loss: 0.1709 - val_mean_absolute_error: 0.2719\n",
      "***TRAIN***:\n",
      "correlation related to cluster centre: 0.89\n",
      "r2 score related to cluster centre: 0.80\n",
      "***VALIDATION***:\n",
      "correlation related to cluster centre: 0.91\n",
      "r2 score related to cluster centre: 0.82\n"
     ]
    },
    {
     "data": {
      "application/vnd.jupyter.widget-view+json": {
       "model_id": "ef103f92375045cb9c09577884958104",
       "version_major": 2,
       "version_minor": 0
      },
      "text/plain": [
       "IntProgress(value=0, max=414)"
      ]
     },
     "metadata": {},
     "output_type": "display_data"
    },
    {
     "name": "stdout",
     "output_type": "stream",
     "text": [
      "***VALIDATION***:\n",
      "average correlation: 0.91\n",
      "average r2: 0.80\n",
      "---do_investigations. cluster index : 1---\n"
     ]
    },
    {
     "data": {
      "application/vnd.jupyter.widget-view+json": {
       "model_id": "e3efd01a6de54b2a95a29dc1d6ecdcf8",
       "version_major": 2,
       "version_minor": 0
      },
      "text/plain": [
       "IntProgress(value=0, max=633)"
      ]
     },
     "metadata": {},
     "output_type": "display_data"
    },
    {
     "name": "stdout",
     "output_type": "stream",
     "text": [
      "Epoch 1/20\n",
      "368/368 [==============================] - 4s 6ms/step - loss: 0.2616 - mean_absolute_error: 0.3423 - val_loss: 0.1863 - val_mean_absolute_error: 0.2863\n",
      "Epoch 2/20\n",
      "368/368 [==============================] - 2s 5ms/step - loss: 0.2035 - mean_absolute_error: 0.2960 - val_loss: 0.1862 - val_mean_absolute_error: 0.2803\n",
      "Epoch 3/20\n",
      "368/368 [==============================] - 2s 5ms/step - loss: 0.2032 - mean_absolute_error: 0.2947 - val_loss: 0.1858 - val_mean_absolute_error: 0.2889\n",
      "Epoch 4/20\n",
      "368/368 [==============================] - 2s 5ms/step - loss: 0.2025 - mean_absolute_error: 0.2950 - val_loss: 0.1869 - val_mean_absolute_error: 0.2817\n",
      "Epoch 5/20\n",
      "368/368 [==============================] - 2s 5ms/step - loss: 0.2029 - mean_absolute_error: 0.2943 - val_loss: 0.1862 - val_mean_absolute_error: 0.2917\n",
      "***TRAIN***:\n",
      "correlation related to cluster centre: 0.89\n",
      "r2 score related to cluster centre: 0.80\n",
      "***VALIDATION***:\n",
      "correlation related to cluster centre: 0.91\n",
      "r2 score related to cluster centre: 0.82\n"
     ]
    },
    {
     "data": {
      "application/vnd.jupyter.widget-view+json": {
       "model_id": "989a5a329afa4e588a20a5fa3c102988",
       "version_major": 2,
       "version_minor": 0
      },
      "text/plain": [
       "IntProgress(value=0, max=633)"
      ]
     },
     "metadata": {},
     "output_type": "display_data"
    },
    {
     "name": "stdout",
     "output_type": "stream",
     "text": [
      "***VALIDATION***:\n",
      "average correlation: 0.90\n",
      "average r2: 0.74\n",
      "---do_investigations. cluster index : 2---\n"
     ]
    },
    {
     "data": {
      "application/vnd.jupyter.widget-view+json": {
       "model_id": "1423315f994a49fba49bd48474f383a2",
       "version_major": 2,
       "version_minor": 0
      },
      "text/plain": [
       "IntProgress(value=0, max=279)"
      ]
     },
     "metadata": {},
     "output_type": "display_data"
    },
    {
     "name": "stdout",
     "output_type": "stream",
     "text": [
      "Epoch 1/20\n",
      "368/368 [==============================] - 4s 6ms/step - loss: 0.2735 - mean_absolute_error: 0.3616 - val_loss: 0.1484 - val_mean_absolute_error: 0.2782\n",
      "Epoch 2/20\n",
      "368/368 [==============================] - 2s 5ms/step - loss: 0.2052 - mean_absolute_error: 0.3081 - val_loss: 0.1489 - val_mean_absolute_error: 0.2770\n",
      "Epoch 3/20\n",
      "368/368 [==============================] - 2s 5ms/step - loss: 0.2030 - mean_absolute_error: 0.3059 - val_loss: 0.1468 - val_mean_absolute_error: 0.2746\n",
      "Epoch 4/20\n",
      "368/368 [==============================] - 2s 5ms/step - loss: 0.2032 - mean_absolute_error: 0.3058 - val_loss: 0.1492 - val_mean_absolute_error: 0.2839\n",
      "Epoch 5/20\n",
      "368/368 [==============================] - 2s 5ms/step - loss: 0.2028 - mean_absolute_error: 0.3052 - val_loss: 0.1453 - val_mean_absolute_error: 0.2687\n",
      "Epoch 6/20\n",
      "368/368 [==============================] - 2s 5ms/step - loss: 0.2026 - mean_absolute_error: 0.3055 - val_loss: 0.1452 - val_mean_absolute_error: 0.2696\n",
      "Epoch 7/20\n",
      "368/368 [==============================] - 2s 5ms/step - loss: 0.2026 - mean_absolute_error: 0.3050 - val_loss: 0.1456 - val_mean_absolute_error: 0.2675\n",
      "Epoch 8/20\n",
      "368/368 [==============================] - 2s 5ms/step - loss: 0.2025 - mean_absolute_error: 0.3049 - val_loss: 0.1459 - val_mean_absolute_error: 0.2726\n",
      "***TRAIN***:\n",
      "correlation related to cluster centre: 0.89\n",
      "r2 score related to cluster centre: 0.80\n",
      "***VALIDATION***:\n",
      "correlation related to cluster centre: 0.91\n",
      "r2 score related to cluster centre: 0.82\n"
     ]
    },
    {
     "data": {
      "application/vnd.jupyter.widget-view+json": {
       "model_id": "387613819b2949b689b856f8cd2731c9",
       "version_major": 2,
       "version_minor": 0
      },
      "text/plain": [
       "IntProgress(value=0, max=279)"
      ]
     },
     "metadata": {},
     "output_type": "display_data"
    },
    {
     "name": "stdout",
     "output_type": "stream",
     "text": [
      "***VALIDATION***:\n",
      "average correlation: 0.91\n",
      "average r2: 0.78\n",
      "---do_investigations. cluster index : 3---\n"
     ]
    },
    {
     "data": {
      "application/vnd.jupyter.widget-view+json": {
       "model_id": "dac8272b560a4b5ea46063dcf47aaaf8",
       "version_major": 2,
       "version_minor": 0
      },
      "text/plain": [
       "IntProgress(value=0, max=1234)"
      ]
     },
     "metadata": {},
     "output_type": "display_data"
    },
    {
     "name": "stdout",
     "output_type": "stream",
     "text": [
      "Epoch 1/20\n",
      "368/368 [==============================] - 5s 6ms/step - loss: 0.2716 - mean_absolute_error: 0.3378 - val_loss: 0.2277 - val_mean_absolute_error: 0.2886\n",
      "Epoch 2/20\n",
      "368/368 [==============================] - 2s 5ms/step - loss: 0.2053 - mean_absolute_error: 0.2894 - val_loss: 0.2266 - val_mean_absolute_error: 0.2860\n",
      "Epoch 3/20\n",
      "368/368 [==============================] - 2s 5ms/step - loss: 0.2040 - mean_absolute_error: 0.2885 - val_loss: 0.2258 - val_mean_absolute_error: 0.2870\n",
      "Epoch 4/20\n",
      "368/368 [==============================] - 2s 5ms/step - loss: 0.2038 - mean_absolute_error: 0.2879 - val_loss: 0.2258 - val_mean_absolute_error: 0.2906\n",
      "Epoch 5/20\n",
      "368/368 [==============================] - 2s 5ms/step - loss: 0.2047 - mean_absolute_error: 0.2894 - val_loss: 0.2247 - val_mean_absolute_error: 0.2921\n",
      "Epoch 6/20\n",
      "368/368 [==============================] - 2s 5ms/step - loss: 0.2042 - mean_absolute_error: 0.2890 - val_loss: 0.2260 - val_mean_absolute_error: 0.2882\n",
      "Epoch 7/20\n",
      "368/368 [==============================] - 2s 5ms/step - loss: 0.2045 - mean_absolute_error: 0.2882 - val_loss: 0.2251 - val_mean_absolute_error: 0.2923\n",
      "***TRAIN***:\n",
      "correlation related to cluster centre: 0.89\n",
      "r2 score related to cluster centre: 0.80\n",
      "***VALIDATION***:\n",
      "correlation related to cluster centre: 0.90\n",
      "r2 score related to cluster centre: 0.81\n"
     ]
    },
    {
     "data": {
      "application/vnd.jupyter.widget-view+json": {
       "model_id": "b21170e0e14b43a2a310836975d03a02",
       "version_major": 2,
       "version_minor": 0
      },
      "text/plain": [
       "IntProgress(value=0, max=1234)"
      ]
     },
     "metadata": {},
     "output_type": "display_data"
    },
    {
     "name": "stdout",
     "output_type": "stream",
     "text": [
      "***VALIDATION***:\n",
      "average correlation: 0.89\n",
      "average r2: 0.67\n",
      "---do_investigations. cluster index : 4---\n"
     ]
    },
    {
     "data": {
      "application/vnd.jupyter.widget-view+json": {
       "model_id": "a9772c59fb7244ac9924ab5517dc11e1",
       "version_major": 2,
       "version_minor": 0
      },
      "text/plain": [
       "IntProgress(value=0, max=5120)"
      ]
     },
     "metadata": {},
     "output_type": "display_data"
    },
    {
     "name": "stdout",
     "output_type": "stream",
     "text": [
      "Epoch 1/20\n",
      "368/368 [==============================] - 4s 6ms/step - loss: 0.2334 - mean_absolute_error: 0.3005 - val_loss: 0.2192 - val_mean_absolute_error: 0.2447\n",
      "Epoch 2/20\n",
      "368/368 [==============================] - 2s 5ms/step - loss: 0.1794 - mean_absolute_error: 0.2563 - val_loss: 0.2343 - val_mean_absolute_error: 0.2597\n",
      "Epoch 3/20\n",
      "368/368 [==============================] - 2s 5ms/step - loss: 0.1791 - mean_absolute_error: 0.2555 - val_loss: 0.2210 - val_mean_absolute_error: 0.2484\n",
      "***TRAIN***:\n",
      "correlation related to cluster centre: 0.91\n",
      "r2 score related to cluster centre: 0.83\n",
      "***VALIDATION***:\n",
      "correlation related to cluster centre: 0.90\n",
      "r2 score related to cluster centre: 0.80\n"
     ]
    },
    {
     "data": {
      "application/vnd.jupyter.widget-view+json": {
       "model_id": "c1ac080d6d8b45e78d8e06503fbbe243",
       "version_major": 2,
       "version_minor": 0
      },
      "text/plain": [
       "IntProgress(value=0, max=5120)"
      ]
     },
     "metadata": {},
     "output_type": "display_data"
    },
    {
     "name": "stdout",
     "output_type": "stream",
     "text": [
      "***VALIDATION***:\n",
      "average correlation: nan\n",
      "average r2: -1089616182569342159370059776.00\n",
      "weighted_average_correlation: 0.90\n",
      "weighted_average_r2_score: 0.72\n",
      "bad clusters rate: 0.67%\n",
      "------------------------------------------------------\n"
     ]
    }
   ],
   "source": [
    "first_path = r\"C:\\Coding\\final-qualifying-work_2023-2024\\ClusteringCpp\\output\\kmeans 5 0.1 20.txt\"\n",
    "second_path = r\"C:\\Coding\\final-qualifying-work_2023-2024\\ClusteringCpp\\output\\kmeans 15 0.1 20.txt\"\n",
    "third_path = r\"C:\\Coding\\final-qualifying-work_2023-2024\\ClusteringCpp\\output\\kmeans 30 0.1 20.txt\"\n",
    "fourth_path = r\"C:\\Coding\\final-qualifying-work_2023-2024\\ClusteringCpp\\output\\kmeans 60 0.1 20.txt\"\n",
    "\n",
    "output_file = open(\"computational-experiments-output-kmeans.txt\", \"a\")\n",
    "\n",
    "selected_path = first_path\n",
    "\n",
    "print('------------------------------------------------------')\n",
    "output_file.write('------------------------------------------------------\\n')\n",
    "\n",
    "print(f\"lstm {os.path.split(selected_path)[-1]}\")\n",
    "output_file.write(f\"lstm {os.path.split(selected_path)[-1]}\\n\")\n",
    "show_results(lstm_model, get_clusters(selected_path), CONV_WIDTH)\n",
    "\n",
    "print('------------------------------------------------------')\n",
    "output_file.write('------------------------------------------------------\\n')\n",
    "\n",
    "output_file.close()"
   ]
  },
  {
   "cell_type": "code",
   "execution_count": 24,
   "id": "ee3e9cc1-11a0-4d5e-9ca8-6fe7d52d553f",
   "metadata": {},
   "outputs": [
    {
     "name": "stdout",
     "output_type": "stream",
     "text": [
      "------------------------------------------------------\n",
      "lstm kmeans 15 0.1 20.txt\n",
      "---do_investigations. cluster index : 0---\n"
     ]
    },
    {
     "data": {
      "application/vnd.jupyter.widget-view+json": {
       "model_id": "6b5e5f19aab24ba5904cf0a1d3b5750b",
       "version_major": 2,
       "version_minor": 0
      },
      "text/plain": [
       "IntProgress(value=0, max=497)"
      ]
     },
     "metadata": {},
     "output_type": "display_data"
    },
    {
     "name": "stdout",
     "output_type": "stream",
     "text": [
      "Epoch 1/20\n",
      "368/368 [==============================] - 4s 6ms/step - loss: 0.2745 - mean_absolute_error: 0.3742 - val_loss: 0.1994 - val_mean_absolute_error: 0.3072\n",
      "Epoch 2/20\n",
      "368/368 [==============================] - 2s 5ms/step - loss: 0.2069 - mean_absolute_error: 0.3206 - val_loss: 0.1992 - val_mean_absolute_error: 0.3112\n",
      "Epoch 3/20\n",
      "368/368 [==============================] - 2s 5ms/step - loss: 0.2057 - mean_absolute_error: 0.3201 - val_loss: 0.1996 - val_mean_absolute_error: 0.3196\n",
      "Epoch 4/20\n",
      "368/368 [==============================] - 2s 5ms/step - loss: 0.2063 - mean_absolute_error: 0.3207 - val_loss: 0.1980 - val_mean_absolute_error: 0.3083\n",
      "Epoch 5/20\n",
      "368/368 [==============================] - 2s 5ms/step - loss: 0.2060 - mean_absolute_error: 0.3202 - val_loss: 0.1992 - val_mean_absolute_error: 0.3136\n",
      "Epoch 6/20\n",
      "368/368 [==============================] - 2s 5ms/step - loss: 0.2054 - mean_absolute_error: 0.3191 - val_loss: 0.1983 - val_mean_absolute_error: 0.3139\n",
      "***TRAIN***:\n",
      "correlation related to cluster centre: 0.89\n",
      "r2 score related to cluster centre: 0.80\n",
      "***VALIDATION***:\n",
      "correlation related to cluster centre: 0.90\n",
      "r2 score related to cluster centre: 0.82\n"
     ]
    },
    {
     "data": {
      "application/vnd.jupyter.widget-view+json": {
       "model_id": "47aea2a59f334e758b218fd715e3eab0",
       "version_major": 2,
       "version_minor": 0
      },
      "text/plain": [
       "IntProgress(value=0, max=497)"
      ]
     },
     "metadata": {},
     "output_type": "display_data"
    },
    {
     "name": "stdout",
     "output_type": "stream",
     "text": [
      "***VALIDATION***:\n",
      "average correlation: 0.90\n",
      "average r2: 0.75\n",
      "---do_investigations. cluster index : 1---\n"
     ]
    },
    {
     "data": {
      "application/vnd.jupyter.widget-view+json": {
       "model_id": "9facbb0e638246d1a1c9f8b5174e58a8",
       "version_major": 2,
       "version_minor": 0
      },
      "text/plain": [
       "IntProgress(value=0, max=364)"
      ]
     },
     "metadata": {},
     "output_type": "display_data"
    },
    {
     "name": "stdout",
     "output_type": "stream",
     "text": [
      "Epoch 1/20\n",
      "368/368 [==============================] - 4s 6ms/step - loss: 0.0574 - mean_absolute_error: 0.1154 - val_loss: 0.0157 - val_mean_absolute_error: 0.0750\n",
      "Epoch 2/20\n",
      "368/368 [==============================] - 2s 5ms/step - loss: 0.0059 - mean_absolute_error: 0.0514 - val_loss: 0.0130 - val_mean_absolute_error: 0.0686\n",
      "Epoch 3/20\n",
      "368/368 [==============================] - 2s 5ms/step - loss: 0.0054 - mean_absolute_error: 0.0492 - val_loss: 0.0118 - val_mean_absolute_error: 0.0654\n",
      "Epoch 4/20\n",
      "368/368 [==============================] - 2s 5ms/step - loss: 0.0052 - mean_absolute_error: 0.0480 - val_loss: 0.0115 - val_mean_absolute_error: 0.0663\n",
      "Epoch 5/20\n",
      "368/368 [==============================] - 2s 5ms/step - loss: 0.0051 - mean_absolute_error: 0.0472 - val_loss: 0.0113 - val_mean_absolute_error: 0.0649\n",
      "Epoch 6/20\n",
      "368/368 [==============================] - 2s 5ms/step - loss: 0.0051 - mean_absolute_error: 0.0473 - val_loss: 0.0116 - val_mean_absolute_error: 0.0663\n",
      "Epoch 7/20\n",
      "368/368 [==============================] - 2s 5ms/step - loss: 0.0051 - mean_absolute_error: 0.0475 - val_loss: 0.0112 - val_mean_absolute_error: 0.0646\n",
      "Epoch 8/20\n",
      "368/368 [==============================] - 2s 5ms/step - loss: 0.0051 - mean_absolute_error: 0.0473 - val_loss: 0.0111 - val_mean_absolute_error: 0.0637\n",
      "Epoch 9/20\n",
      "368/368 [==============================] - 2s 5ms/step - loss: 0.0051 - mean_absolute_error: 0.0472 - val_loss: 0.0114 - val_mean_absolute_error: 0.0656\n",
      "Epoch 10/20\n",
      "368/368 [==============================] - 2s 5ms/step - loss: 0.0052 - mean_absolute_error: 0.0476 - val_loss: 0.0111 - val_mean_absolute_error: 0.0641\n",
      "Epoch 11/20\n",
      "368/368 [==============================] - 2s 5ms/step - loss: 0.0051 - mean_absolute_error: 0.0483 - val_loss: 0.0111 - val_mean_absolute_error: 0.0641\n",
      "Epoch 12/20\n",
      "368/368 [==============================] - 2s 5ms/step - loss: 0.0051 - mean_absolute_error: 0.0475 - val_loss: 0.0110 - val_mean_absolute_error: 0.0637\n",
      "Epoch 13/20\n",
      "368/368 [==============================] - 2s 5ms/step - loss: 0.0051 - mean_absolute_error: 0.0479 - val_loss: 0.0110 - val_mean_absolute_error: 0.0639\n",
      "Epoch 14/20\n",
      "368/368 [==============================] - 2s 5ms/step - loss: 0.0051 - mean_absolute_error: 0.0475 - val_loss: 0.0110 - val_mean_absolute_error: 0.0643\n",
      "Epoch 15/20\n",
      "368/368 [==============================] - 2s 5ms/step - loss: 0.0052 - mean_absolute_error: 0.0481 - val_loss: 0.0110 - val_mean_absolute_error: 0.0638\n",
      "Epoch 16/20\n",
      "368/368 [==============================] - 2s 5ms/step - loss: 0.0051 - mean_absolute_error: 0.0474 - val_loss: 0.0110 - val_mean_absolute_error: 0.0638\n",
      "Epoch 17/20\n",
      "368/368 [==============================] - 2s 5ms/step - loss: 0.0051 - mean_absolute_error: 0.0480 - val_loss: 0.0110 - val_mean_absolute_error: 0.0640\n",
      "Epoch 18/20\n",
      "368/368 [==============================] - 2s 5ms/step - loss: 0.0051 - mean_absolute_error: 0.0478 - val_loss: 0.0114 - val_mean_absolute_error: 0.0666\n",
      "***TRAIN***:\n",
      "correlation related to cluster centre: 1.00\n",
      "r2 score related to cluster centre: 0.99\n",
      "***VALIDATION***:\n",
      "correlation related to cluster centre: 0.98\n",
      "r2 score related to cluster centre: 0.97\n"
     ]
    },
    {
     "data": {
      "application/vnd.jupyter.widget-view+json": {
       "model_id": "ee28d8b140d044b2a309db521ad74bc3",
       "version_major": 2,
       "version_minor": 0
      },
      "text/plain": [
       "IntProgress(value=0, max=364)"
      ]
     },
     "metadata": {},
     "output_type": "display_data"
    },
    {
     "name": "stdout",
     "output_type": "stream",
     "text": [
      "***VALIDATION***:\n",
      "average correlation: nan\n",
      "average r2: -0.05\n",
      "---do_investigations. cluster index : 2---\n"
     ]
    },
    {
     "data": {
      "application/vnd.jupyter.widget-view+json": {
       "model_id": "815c7b6db7bb49b7a1630cd53de6acbb",
       "version_major": 2,
       "version_minor": 0
      },
      "text/plain": [
       "IntProgress(value=0, max=477)"
      ]
     },
     "metadata": {},
     "output_type": "display_data"
    },
    {
     "name": "stdout",
     "output_type": "stream",
     "text": [
      "Epoch 1/20\n",
      "368/368 [==============================] - 4s 6ms/step - loss: 0.0854 - mean_absolute_error: 0.1604 - val_loss: 0.0304 - val_mean_absolute_error: 0.0929\n",
      "Epoch 2/20\n",
      "368/368 [==============================] - 2s 5ms/step - loss: 0.0249 - mean_absolute_error: 0.0887 - val_loss: 0.0270 - val_mean_absolute_error: 0.0863\n",
      "Epoch 3/20\n",
      "368/368 [==============================] - 2s 5ms/step - loss: 0.0238 - mean_absolute_error: 0.0859 - val_loss: 0.0296 - val_mean_absolute_error: 0.1026\n",
      "Epoch 4/20\n",
      "368/368 [==============================] - 2s 5ms/step - loss: 0.0235 - mean_absolute_error: 0.0850 - val_loss: 0.0251 - val_mean_absolute_error: 0.0813\n",
      "Epoch 5/20\n",
      "368/368 [==============================] - 2s 5ms/step - loss: 0.0234 - mean_absolute_error: 0.0855 - val_loss: 0.0247 - val_mean_absolute_error: 0.0777\n",
      "Epoch 6/20\n",
      "368/368 [==============================] - 2s 5ms/step - loss: 0.0232 - mean_absolute_error: 0.0850 - val_loss: 0.0249 - val_mean_absolute_error: 0.0786\n",
      "Epoch 7/20\n",
      "368/368 [==============================] - 2s 5ms/step - loss: 0.0232 - mean_absolute_error: 0.0853 - val_loss: 0.0255 - val_mean_absolute_error: 0.0841\n",
      "***TRAIN***:\n",
      "correlation related to cluster centre: 0.99\n",
      "r2 score related to cluster centre: 0.98\n",
      "***VALIDATION***:\n",
      "correlation related to cluster centre: 0.97\n",
      "r2 score related to cluster centre: 0.95\n"
     ]
    },
    {
     "data": {
      "application/vnd.jupyter.widget-view+json": {
       "model_id": "5484eb03644d41e6b58996f73af02bd7",
       "version_major": 2,
       "version_minor": 0
      },
      "text/plain": [
       "IntProgress(value=0, max=477)"
      ]
     },
     "metadata": {},
     "output_type": "display_data"
    },
    {
     "name": "stdout",
     "output_type": "stream",
     "text": [
      "***VALIDATION***:\n",
      "average correlation: nan\n",
      "average r2: -66227818547162620958343168.00\n",
      "---do_investigations. cluster index : 3---\n"
     ]
    },
    {
     "data": {
      "application/vnd.jupyter.widget-view+json": {
       "model_id": "fac5fda71ad6418b81fef8bbdedbcc8a",
       "version_major": 2,
       "version_minor": 0
      },
      "text/plain": [
       "IntProgress(value=0, max=174)"
      ]
     },
     "metadata": {},
     "output_type": "display_data"
    },
    {
     "name": "stdout",
     "output_type": "stream",
     "text": [
      "Epoch 1/20\n",
      "368/368 [==============================] - 5s 8ms/step - loss: 0.2601 - mean_absolute_error: 0.3522 - val_loss: 0.1475 - val_mean_absolute_error: 0.2795\n",
      "Epoch 2/20\n",
      "368/368 [==============================] - 2s 5ms/step - loss: 0.2006 - mean_absolute_error: 0.3056 - val_loss: 0.1434 - val_mean_absolute_error: 0.2721\n",
      "Epoch 3/20\n",
      "368/368 [==============================] - 2s 5ms/step - loss: 0.1992 - mean_absolute_error: 0.3039 - val_loss: 0.1433 - val_mean_absolute_error: 0.2663\n",
      "Epoch 4/20\n",
      "368/368 [==============================] - 2s 5ms/step - loss: 0.2003 - mean_absolute_error: 0.3044 - val_loss: 0.1439 - val_mean_absolute_error: 0.2732\n",
      "Epoch 5/20\n",
      "368/368 [==============================] - 2s 5ms/step - loss: 0.1995 - mean_absolute_error: 0.3042 - val_loss: 0.1456 - val_mean_absolute_error: 0.2734\n",
      "***TRAIN***:\n",
      "correlation related to cluster centre: 0.90\n",
      "r2 score related to cluster centre: 0.80\n",
      "***VALIDATION***:\n",
      "correlation related to cluster centre: 0.91\n",
      "r2 score related to cluster centre: 0.82\n"
     ]
    },
    {
     "data": {
      "application/vnd.jupyter.widget-view+json": {
       "model_id": "a9a690610e7c4fbfa10cfacdfd13d345",
       "version_major": 2,
       "version_minor": 0
      },
      "text/plain": [
       "IntProgress(value=0, max=174)"
      ]
     },
     "metadata": {},
     "output_type": "display_data"
    },
    {
     "name": "stdout",
     "output_type": "stream",
     "text": [
      "***VALIDATION***:\n",
      "average correlation: 0.91\n",
      "average r2: 0.82\n",
      "---do_investigations. cluster index : 4---\n"
     ]
    },
    {
     "data": {
      "application/vnd.jupyter.widget-view+json": {
       "model_id": "f924b8c3891d417eb74f7beea4b97aee",
       "version_major": 2,
       "version_minor": 0
      },
      "text/plain": [
       "IntProgress(value=0, max=585)"
      ]
     },
     "metadata": {},
     "output_type": "display_data"
    },
    {
     "name": "stdout",
     "output_type": "stream",
     "text": [
      "Epoch 1/20\n",
      "368/368 [==============================] - 4s 6ms/step - loss: 0.2805 - mean_absolute_error: 0.3318 - val_loss: 0.2716 - val_mean_absolute_error: 0.2918\n",
      "Epoch 2/20\n",
      "368/368 [==============================] - 2s 5ms/step - loss: 0.2097 - mean_absolute_error: 0.2790 - val_loss: 0.2591 - val_mean_absolute_error: 0.2902\n",
      "Epoch 3/20\n",
      "368/368 [==============================] - 2s 5ms/step - loss: 0.2073 - mean_absolute_error: 0.2773 - val_loss: 0.2499 - val_mean_absolute_error: 0.2776\n",
      "Epoch 4/20\n",
      "368/368 [==============================] - 2s 5ms/step - loss: 0.2071 - mean_absolute_error: 0.2768 - val_loss: 0.2494 - val_mean_absolute_error: 0.2744\n",
      "Epoch 5/20\n",
      "368/368 [==============================] - 2s 5ms/step - loss: 0.2045 - mean_absolute_error: 0.2749 - val_loss: 0.2532 - val_mean_absolute_error: 0.2785\n",
      "Epoch 6/20\n",
      "368/368 [==============================] - 2s 5ms/step - loss: 0.2054 - mean_absolute_error: 0.2749 - val_loss: 0.2551 - val_mean_absolute_error: 0.2813\n",
      "***TRAIN***:\n",
      "correlation related to cluster centre: 0.89\n",
      "r2 score related to cluster centre: 0.80\n",
      "***VALIDATION***:\n",
      "correlation related to cluster centre: 0.90\n",
      "r2 score related to cluster centre: 0.80\n"
     ]
    },
    {
     "data": {
      "application/vnd.jupyter.widget-view+json": {
       "model_id": "cd2c1188f5a94bf1bc44247bbc93252e",
       "version_major": 2,
       "version_minor": 0
      },
      "text/plain": [
       "IntProgress(value=0, max=585)"
      ]
     },
     "metadata": {},
     "output_type": "display_data"
    },
    {
     "name": "stdout",
     "output_type": "stream",
     "text": [
      "***VALIDATION***:\n",
      "average correlation: 0.89\n",
      "average r2: 0.76\n",
      "---do_investigations. cluster index : 5---\n"
     ]
    },
    {
     "data": {
      "application/vnd.jupyter.widget-view+json": {
       "model_id": "abf0f9fb22884ea5a301e70bf5e4d82c",
       "version_major": 2,
       "version_minor": 0
      },
      "text/plain": [
       "IntProgress(value=0, max=344)"
      ]
     },
     "metadata": {},
     "output_type": "display_data"
    },
    {
     "name": "stdout",
     "output_type": "stream",
     "text": [
      "Epoch 1/20\n",
      "368/368 [==============================] - 5s 6ms/step - loss: 0.2569 - mean_absolute_error: 0.3534 - val_loss: 0.1734 - val_mean_absolute_error: 0.2842\n",
      "Epoch 2/20\n",
      "368/368 [==============================] - 2s 5ms/step - loss: 0.1905 - mean_absolute_error: 0.3015 - val_loss: 0.1715 - val_mean_absolute_error: 0.2872\n",
      "Epoch 3/20\n",
      "368/368 [==============================] - 2s 5ms/step - loss: 0.1891 - mean_absolute_error: 0.3001 - val_loss: 0.1723 - val_mean_absolute_error: 0.2803\n",
      "Epoch 4/20\n",
      "368/368 [==============================] - 2s 5ms/step - loss: 0.1901 - mean_absolute_error: 0.3010 - val_loss: 0.1711 - val_mean_absolute_error: 0.2856\n",
      "Epoch 5/20\n",
      "368/368 [==============================] - 2s 5ms/step - loss: 0.1896 - mean_absolute_error: 0.3004 - val_loss: 0.1710 - val_mean_absolute_error: 0.2815\n",
      "Epoch 6/20\n",
      "368/368 [==============================] - 2s 5ms/step - loss: 0.1885 - mean_absolute_error: 0.2988 - val_loss: 0.1705 - val_mean_absolute_error: 0.2811\n",
      "Epoch 7/20\n",
      "368/368 [==============================] - 2s 5ms/step - loss: 0.1888 - mean_absolute_error: 0.2992 - val_loss: 0.1700 - val_mean_absolute_error: 0.2774\n",
      "Epoch 8/20\n",
      "368/368 [==============================] - 2s 5ms/step - loss: 0.1880 - mean_absolute_error: 0.2984 - val_loss: 0.1708 - val_mean_absolute_error: 0.2839\n",
      "Epoch 9/20\n",
      "368/368 [==============================] - 2s 5ms/step - loss: 0.1888 - mean_absolute_error: 0.2991 - val_loss: 0.1698 - val_mean_absolute_error: 0.2789\n",
      "Epoch 10/20\n",
      "368/368 [==============================] - 2s 5ms/step - loss: 0.1880 - mean_absolute_error: 0.2987 - val_loss: 0.1699 - val_mean_absolute_error: 0.2828\n",
      "Epoch 11/20\n",
      "368/368 [==============================] - 2s 5ms/step - loss: 0.1889 - mean_absolute_error: 0.2997 - val_loss: 0.1700 - val_mean_absolute_error: 0.2805\n",
      "***TRAIN***:\n",
      "correlation related to cluster centre: 0.90\n",
      "r2 score related to cluster centre: 0.81\n",
      "***VALIDATION***:\n",
      "correlation related to cluster centre: 0.91\n",
      "r2 score related to cluster centre: 0.83\n"
     ]
    },
    {
     "data": {
      "application/vnd.jupyter.widget-view+json": {
       "model_id": "dfb6448145d94238854d78b5694f7a7d",
       "version_major": 2,
       "version_minor": 0
      },
      "text/plain": [
       "IntProgress(value=0, max=344)"
      ]
     },
     "metadata": {},
     "output_type": "display_data"
    },
    {
     "name": "stdout",
     "output_type": "stream",
     "text": [
      "***VALIDATION***:\n",
      "average correlation: 0.91\n",
      "average r2: 0.79\n",
      "---do_investigations. cluster index : 6---\n"
     ]
    },
    {
     "data": {
      "application/vnd.jupyter.widget-view+json": {
       "model_id": "42ccc2a79e98426a8f82691679e6af68",
       "version_major": 2,
       "version_minor": 0
      },
      "text/plain": [
       "IntProgress(value=0, max=223)"
      ]
     },
     "metadata": {},
     "output_type": "display_data"
    },
    {
     "name": "stdout",
     "output_type": "stream",
     "text": [
      "Epoch 1/20\n",
      "368/368 [==============================] - 4s 6ms/step - loss: 0.2577 - mean_absolute_error: 0.3545 - val_loss: 0.1642 - val_mean_absolute_error: 0.2797\n",
      "Epoch 2/20\n",
      "368/368 [==============================] - 2s 5ms/step - loss: 0.1950 - mean_absolute_error: 0.3059 - val_loss: 0.1602 - val_mean_absolute_error: 0.2812\n",
      "Epoch 3/20\n",
      "368/368 [==============================] - 2s 5ms/step - loss: 0.1945 - mean_absolute_error: 0.3053 - val_loss: 0.1632 - val_mean_absolute_error: 0.2799\n",
      "Epoch 4/20\n",
      "368/368 [==============================] - 2s 5ms/step - loss: 0.1947 - mean_absolute_error: 0.3052 - val_loss: 0.1608 - val_mean_absolute_error: 0.2814\n",
      "***TRAIN***:\n",
      "correlation related to cluster centre: 0.90\n",
      "r2 score related to cluster centre: 0.81\n",
      "***VALIDATION***:\n",
      "correlation related to cluster centre: 0.91\n",
      "r2 score related to cluster centre: 0.83\n"
     ]
    },
    {
     "data": {
      "application/vnd.jupyter.widget-view+json": {
       "model_id": "65d53ede8cc14663af0f4a0ec57f2b13",
       "version_major": 2,
       "version_minor": 0
      },
      "text/plain": [
       "IntProgress(value=0, max=223)"
      ]
     },
     "metadata": {},
     "output_type": "display_data"
    },
    {
     "name": "stdout",
     "output_type": "stream",
     "text": [
      "***VALIDATION***:\n",
      "average correlation: 0.91\n",
      "average r2: 0.79\n",
      "---do_investigations. cluster index : 7---\n"
     ]
    },
    {
     "data": {
      "application/vnd.jupyter.widget-view+json": {
       "model_id": "495cbd2c3d2f4987b161af7c6dc5a75c",
       "version_major": 2,
       "version_minor": 0
      },
      "text/plain": [
       "IntProgress(value=0, max=183)"
      ]
     },
     "metadata": {},
     "output_type": "display_data"
    },
    {
     "name": "stdout",
     "output_type": "stream",
     "text": [
      "Epoch 1/20\n",
      "368/368 [==============================] - 4s 6ms/step - loss: 0.2832 - mean_absolute_error: 0.3476 - val_loss: 0.1800 - val_mean_absolute_error: 0.2719\n",
      "Epoch 2/20\n",
      "368/368 [==============================] - 2s 5ms/step - loss: 0.2081 - mean_absolute_error: 0.2944 - val_loss: 0.1800 - val_mean_absolute_error: 0.2731\n",
      "Epoch 3/20\n",
      "368/368 [==============================] - 2s 5ms/step - loss: 0.2073 - mean_absolute_error: 0.2941 - val_loss: 0.1810 - val_mean_absolute_error: 0.2773\n",
      "***TRAIN***:\n",
      "correlation related to cluster centre: 0.89\n",
      "r2 score related to cluster centre: 0.80\n",
      "***VALIDATION***:\n",
      "correlation related to cluster centre: 0.91\n",
      "r2 score related to cluster centre: 0.82\n"
     ]
    },
    {
     "data": {
      "application/vnd.jupyter.widget-view+json": {
       "model_id": "6ab1841d458840f8879276a9b017c8e6",
       "version_major": 2,
       "version_minor": 0
      },
      "text/plain": [
       "IntProgress(value=0, max=183)"
      ]
     },
     "metadata": {},
     "output_type": "display_data"
    },
    {
     "name": "stdout",
     "output_type": "stream",
     "text": [
      "***VALIDATION***:\n",
      "average correlation: 0.90\n",
      "average r2: 0.81\n",
      "---do_investigations. cluster index : 8---\n"
     ]
    },
    {
     "data": {
      "application/vnd.jupyter.widget-view+json": {
       "model_id": "f845af82841f45e6b027af33ed099fd2",
       "version_major": 2,
       "version_minor": 0
      },
      "text/plain": [
       "IntProgress(value=0, max=2214)"
      ]
     },
     "metadata": {},
     "output_type": "display_data"
    },
    {
     "name": "stdout",
     "output_type": "stream",
     "text": [
      "Epoch 1/20\n",
      "368/368 [==============================] - 4s 6ms/step - loss: 0.1050 - mean_absolute_error: 0.1839 - val_loss: 0.0327 - val_mean_absolute_error: 0.1002\n",
      "Epoch 2/20\n",
      "368/368 [==============================] - 2s 5ms/step - loss: 0.0267 - mean_absolute_error: 0.0962 - val_loss: 0.0296 - val_mean_absolute_error: 0.0912\n",
      "Epoch 3/20\n",
      "368/368 [==============================] - 2s 5ms/step - loss: 0.0263 - mean_absolute_error: 0.0965 - val_loss: 0.0268 - val_mean_absolute_error: 0.0755\n",
      "Epoch 4/20\n",
      "368/368 [==============================] - 2s 5ms/step - loss: 0.0263 - mean_absolute_error: 0.0970 - val_loss: 0.0265 - val_mean_absolute_error: 0.0751\n",
      "Epoch 5/20\n",
      "368/368 [==============================] - 2s 5ms/step - loss: 0.0260 - mean_absolute_error: 0.0955 - val_loss: 0.0264 - val_mean_absolute_error: 0.0740\n",
      "Epoch 6/20\n",
      "368/368 [==============================] - 2s 5ms/step - loss: 0.0264 - mean_absolute_error: 0.0969 - val_loss: 0.0279 - val_mean_absolute_error: 0.0874\n",
      "Epoch 7/20\n",
      "368/368 [==============================] - 2s 5ms/step - loss: 0.0262 - mean_absolute_error: 0.0961 - val_loss: 0.0259 - val_mean_absolute_error: 0.0712\n",
      "Epoch 8/20\n",
      "368/368 [==============================] - 2s 5ms/step - loss: 0.0258 - mean_absolute_error: 0.0945 - val_loss: 0.0261 - val_mean_absolute_error: 0.0747\n",
      "Epoch 9/20\n",
      "368/368 [==============================] - 2s 5ms/step - loss: 0.0260 - mean_absolute_error: 0.0961 - val_loss: 0.0259 - val_mean_absolute_error: 0.0736\n",
      "***TRAIN***:\n",
      "correlation related to cluster centre: 0.99\n",
      "r2 score related to cluster centre: 0.97\n",
      "***VALIDATION***:\n",
      "correlation related to cluster centre: 0.97\n",
      "r2 score related to cluster centre: 0.94\n"
     ]
    },
    {
     "data": {
      "application/vnd.jupyter.widget-view+json": {
       "model_id": "05a042e5154a4f949332bceef77a76b6",
       "version_major": 2,
       "version_minor": 0
      },
      "text/plain": [
       "IntProgress(value=0, max=2214)"
      ]
     },
     "metadata": {},
     "output_type": "display_data"
    },
    {
     "name": "stdout",
     "output_type": "stream",
     "text": [
      "***VALIDATION***:\n",
      "average correlation: nan\n",
      "average r2: -29362053266519326352998400.00\n",
      "---do_investigations. cluster index : 9---\n"
     ]
    },
    {
     "data": {
      "application/vnd.jupyter.widget-view+json": {
       "model_id": "8122aba6649b4ddd94ba3bd40ba9edef",
       "version_major": 2,
       "version_minor": 0
      },
      "text/plain": [
       "IntProgress(value=0, max=1360)"
      ]
     },
     "metadata": {},
     "output_type": "display_data"
    },
    {
     "name": "stdout",
     "output_type": "stream",
     "text": [
      "Epoch 1/20\n",
      "368/368 [==============================] - 5s 6ms/step - loss: 0.2434 - mean_absolute_error: 0.2999 - val_loss: 0.2293 - val_mean_absolute_error: 0.2483\n",
      "Epoch 2/20\n",
      "368/368 [==============================] - 2s 5ms/step - loss: 0.1684 - mean_absolute_error: 0.2465 - val_loss: 0.2209 - val_mean_absolute_error: 0.2419\n",
      "Epoch 3/20\n",
      "368/368 [==============================] - 2s 5ms/step - loss: 0.1682 - mean_absolute_error: 0.2462 - val_loss: 0.2200 - val_mean_absolute_error: 0.2458\n",
      "Epoch 4/20\n",
      "368/368 [==============================] - 2s 5ms/step - loss: 0.1691 - mean_absolute_error: 0.2468 - val_loss: 0.2157 - val_mean_absolute_error: 0.2413\n",
      "Epoch 5/20\n",
      "368/368 [==============================] - 2s 5ms/step - loss: 0.1686 - mean_absolute_error: 0.2458 - val_loss: 0.2249 - val_mean_absolute_error: 0.2452\n",
      "Epoch 6/20\n",
      "368/368 [==============================] - 2s 5ms/step - loss: 0.1680 - mean_absolute_error: 0.2460 - val_loss: 0.2359 - val_mean_absolute_error: 0.2578\n",
      "***TRAIN***:\n",
      "correlation related to cluster centre: 0.91\n",
      "r2 score related to cluster centre: 0.83\n",
      "***VALIDATION***:\n",
      "correlation related to cluster centre: 0.90\n",
      "r2 score related to cluster centre: 0.78\n"
     ]
    },
    {
     "data": {
      "application/vnd.jupyter.widget-view+json": {
       "model_id": "6b4e02c60ecd4be7aa534ea8b349faff",
       "version_major": 2,
       "version_minor": 0
      },
      "text/plain": [
       "IntProgress(value=0, max=1360)"
      ]
     },
     "metadata": {},
     "output_type": "display_data"
    },
    {
     "name": "stdout",
     "output_type": "stream",
     "text": [
      "***VALIDATION***:\n",
      "average correlation: nan\n",
      "average r2: -221022423914975992634933248.00\n",
      "---do_investigations. cluster index : 10---\n"
     ]
    },
    {
     "data": {
      "application/vnd.jupyter.widget-view+json": {
       "model_id": "b1afd63077b1433b85e9bf295344bdb3",
       "version_major": 2,
       "version_minor": 0
      },
      "text/plain": [
       "IntProgress(value=0, max=1)"
      ]
     },
     "metadata": {},
     "output_type": "display_data"
    },
    {
     "name": "stdout",
     "output_type": "stream",
     "text": [
      "Epoch 1/20\n",
      "368/368 [==============================] - 5s 6ms/step - loss: 0.1632 - mean_absolute_error: 0.1703 - val_loss: 0.1222 - val_mean_absolute_error: 0.1130\n",
      "Epoch 2/20\n",
      "368/368 [==============================] - 2s 5ms/step - loss: 0.1115 - mean_absolute_error: 0.1234 - val_loss: 0.1204 - val_mean_absolute_error: 0.1080\n",
      "Epoch 3/20\n",
      "368/368 [==============================] - 2s 5ms/step - loss: 0.1107 - mean_absolute_error: 0.1253 - val_loss: 0.1189 - val_mean_absolute_error: 0.1313\n",
      "Epoch 4/20\n",
      "368/368 [==============================] - 2s 5ms/step - loss: 0.1111 - mean_absolute_error: 0.1267 - val_loss: 0.1223 - val_mean_absolute_error: 0.1122\n",
      "Epoch 5/20\n",
      "368/368 [==============================] - 2s 5ms/step - loss: 0.1099 - mean_absolute_error: 0.1232 - val_loss: 0.1196 - val_mean_absolute_error: 0.1156\n",
      "***TRAIN***:\n",
      "correlation related to cluster centre: 0.94\n",
      "r2 score related to cluster centre: 0.89\n",
      "***VALIDATION***:\n",
      "correlation related to cluster centre: 0.94\n",
      "r2 score related to cluster centre: 0.89\n"
     ]
    },
    {
     "data": {
      "application/vnd.jupyter.widget-view+json": {
       "model_id": "8aba9ffd6d4f4cf1a5bc50bfa529398d",
       "version_major": 2,
       "version_minor": 0
      },
      "text/plain": [
       "IntProgress(value=0, max=1)"
      ]
     },
     "metadata": {},
     "output_type": "display_data"
    },
    {
     "name": "stdout",
     "output_type": "stream",
     "text": [
      "***VALIDATION***:\n",
      "average correlation: 0.94\n",
      "average r2: 0.89\n",
      "---do_investigations. cluster index : 11---\n"
     ]
    },
    {
     "data": {
      "application/vnd.jupyter.widget-view+json": {
       "model_id": "bd35e09b83114d198f62144aeb2e1b75",
       "version_major": 2,
       "version_minor": 0
      },
      "text/plain": [
       "IntProgress(value=0, max=279)"
      ]
     },
     "metadata": {},
     "output_type": "display_data"
    },
    {
     "name": "stdout",
     "output_type": "stream",
     "text": [
      "Epoch 1/20\n",
      "368/368 [==============================] - 4s 6ms/step - loss: 0.2667 - mean_absolute_error: 0.3306 - val_loss: 0.2278 - val_mean_absolute_error: 0.2859\n",
      "Epoch 2/20\n",
      "368/368 [==============================] - 2s 5ms/step - loss: 0.2076 - mean_absolute_error: 0.2846 - val_loss: 0.2395 - val_mean_absolute_error: 0.2890\n",
      "Epoch 3/20\n",
      "368/368 [==============================] - 2s 5ms/step - loss: 0.2077 - mean_absolute_error: 0.2842 - val_loss: 0.2255 - val_mean_absolute_error: 0.2792\n",
      "Epoch 4/20\n",
      "368/368 [==============================] - 2s 5ms/step - loss: 0.2063 - mean_absolute_error: 0.2828 - val_loss: 0.2285 - val_mean_absolute_error: 0.2800\n",
      "Epoch 5/20\n",
      "368/368 [==============================] - 2s 5ms/step - loss: 0.2059 - mean_absolute_error: 0.2828 - val_loss: 0.2252 - val_mean_absolute_error: 0.2817\n",
      "Epoch 6/20\n",
      "368/368 [==============================] - 2s 5ms/step - loss: 0.2065 - mean_absolute_error: 0.2826 - val_loss: 0.2262 - val_mean_absolute_error: 0.2811\n",
      "Epoch 7/20\n",
      "368/368 [==============================] - 2s 5ms/step - loss: 0.2058 - mean_absolute_error: 0.2821 - val_loss: 0.2261 - val_mean_absolute_error: 0.2829\n",
      "***TRAIN***:\n",
      "correlation related to cluster centre: 0.89\n",
      "r2 score related to cluster centre: 0.79\n",
      "***VALIDATION***:\n",
      "correlation related to cluster centre: 0.90\n",
      "r2 score related to cluster centre: 0.81\n"
     ]
    },
    {
     "data": {
      "application/vnd.jupyter.widget-view+json": {
       "model_id": "fcfadf26c0c6431eb1f17da90f52af31",
       "version_major": 2,
       "version_minor": 0
      },
      "text/plain": [
       "IntProgress(value=0, max=279)"
      ]
     },
     "metadata": {},
     "output_type": "display_data"
    },
    {
     "name": "stdout",
     "output_type": "stream",
     "text": [
      "***VALIDATION***:\n",
      "average correlation: 0.90\n",
      "average r2: 0.80\n",
      "---do_investigations. cluster index : 12---\n"
     ]
    },
    {
     "data": {
      "application/vnd.jupyter.widget-view+json": {
       "model_id": "98fd4ed193d64359b938ffb54bc1ab25",
       "version_major": 2,
       "version_minor": 0
      },
      "text/plain": [
       "IntProgress(value=0, max=153)"
      ]
     },
     "metadata": {},
     "output_type": "display_data"
    },
    {
     "name": "stdout",
     "output_type": "stream",
     "text": [
      "Epoch 1/20\n",
      "368/368 [==============================] - 5s 6ms/step - loss: 0.2643 - mean_absolute_error: 0.3498 - val_loss: 0.1705 - val_mean_absolute_error: 0.2818\n",
      "Epoch 2/20\n",
      "368/368 [==============================] - 2s 5ms/step - loss: 0.2104 - mean_absolute_error: 0.3064 - val_loss: 0.1615 - val_mean_absolute_error: 0.2748\n",
      "Epoch 3/20\n",
      "368/368 [==============================] - 2s 5ms/step - loss: 0.2104 - mean_absolute_error: 0.3059 - val_loss: 0.1618 - val_mean_absolute_error: 0.2793\n",
      "Epoch 4/20\n",
      "368/368 [==============================] - 2s 5ms/step - loss: 0.2108 - mean_absolute_error: 0.3056 - val_loss: 0.1613 - val_mean_absolute_error: 0.2748\n",
      "Epoch 5/20\n",
      "368/368 [==============================] - 2s 5ms/step - loss: 0.2103 - mean_absolute_error: 0.3058 - val_loss: 0.1640 - val_mean_absolute_error: 0.2777\n",
      "Epoch 6/20\n",
      "368/368 [==============================] - 2s 5ms/step - loss: 0.2105 - mean_absolute_error: 0.3051 - val_loss: 0.1634 - val_mean_absolute_error: 0.2800\n",
      "***TRAIN***:\n",
      "correlation related to cluster centre: 0.89\n",
      "r2 score related to cluster centre: 0.79\n",
      "***VALIDATION***:\n",
      "correlation related to cluster centre: 0.91\n",
      "r2 score related to cluster centre: 0.82\n"
     ]
    },
    {
     "data": {
      "application/vnd.jupyter.widget-view+json": {
       "model_id": "d2631756b57f43fdabd41722b9f686e1",
       "version_major": 2,
       "version_minor": 0
      },
      "text/plain": [
       "IntProgress(value=0, max=153)"
      ]
     },
     "metadata": {},
     "output_type": "display_data"
    },
    {
     "name": "stdout",
     "output_type": "stream",
     "text": [
      "***VALIDATION***:\n",
      "average correlation: 0.90\n",
      "average r2: 0.77\n",
      "---do_investigations. cluster index : 13---\n"
     ]
    },
    {
     "data": {
      "application/vnd.jupyter.widget-view+json": {
       "model_id": "15c9da96f693424c9c89756bb70a57bc",
       "version_major": 2,
       "version_minor": 0
      },
      "text/plain": [
       "IntProgress(value=0, max=826)"
      ]
     },
     "metadata": {},
     "output_type": "display_data"
    },
    {
     "name": "stdout",
     "output_type": "stream",
     "text": [
      "Epoch 1/20\n",
      "368/368 [==============================] - 4s 6ms/step - loss: 0.2422 - mean_absolute_error: 0.3433 - val_loss: 0.1797 - val_mean_absolute_error: 0.2819\n",
      "Epoch 2/20\n",
      "368/368 [==============================] - 2s 5ms/step - loss: 0.1818 - mean_absolute_error: 0.2936 - val_loss: 0.1824 - val_mean_absolute_error: 0.2834\n",
      "Epoch 3/20\n",
      "368/368 [==============================] - 2s 5ms/step - loss: 0.1814 - mean_absolute_error: 0.2936 - val_loss: 0.1837 - val_mean_absolute_error: 0.2891\n",
      "***TRAIN***:\n",
      "correlation related to cluster centre: 0.91\n",
      "r2 score related to cluster centre: 0.82\n",
      "***VALIDATION***:\n",
      "correlation related to cluster centre: 0.91\n",
      "r2 score related to cluster centre: 0.82\n"
     ]
    },
    {
     "data": {
      "application/vnd.jupyter.widget-view+json": {
       "model_id": "a697b0076b014ac7b2b4ac08a294084f",
       "version_major": 2,
       "version_minor": 0
      },
      "text/plain": [
       "IntProgress(value=0, max=826)"
      ]
     },
     "metadata": {},
     "output_type": "display_data"
    },
    {
     "name": "stdout",
     "output_type": "stream",
     "text": [
      "***VALIDATION***:\n",
      "average correlation: 0.88\n",
      "average r2: 0.70\n",
      "weighted_average_correlation: 0.89\n",
      "weighted_average_r2_score: 0.76\n",
      "bad clusters rate: 0.57%\n",
      "------------------------------------------------------\n"
     ]
    }
   ],
   "source": [
    "first_path = r\"C:\\Coding\\final-qualifying-work_2023-2024\\ClusteringCpp\\output\\kmeans 5 0.1 20.txt\"\n",
    "second_path = r\"C:\\Coding\\final-qualifying-work_2023-2024\\ClusteringCpp\\output\\kmeans 15 0.1 20.txt\"\n",
    "third_path = r\"C:\\Coding\\final-qualifying-work_2023-2024\\ClusteringCpp\\output\\kmeans 30 0.1 20.txt\"\n",
    "fourth_path = r\"C:\\Coding\\final-qualifying-work_2023-2024\\ClusteringCpp\\output\\kmeans 60 0.1 20.txt\"\n",
    "\n",
    "output_file = open(\"computational-experiments-output-kmeans.txt\", \"a\")\n",
    "\n",
    "selected_path = second_path\n",
    "\n",
    "print('------------------------------------------------------')\n",
    "output_file.write('------------------------------------------------------\\n')\n",
    "\n",
    "print(f\"lstm {os.path.split(selected_path)[-1]}\")\n",
    "output_file.write(f\"lstm {os.path.split(selected_path)[-1]}\\n\")\n",
    "show_results(lstm_model, get_clusters(selected_path), CONV_WIDTH)\n",
    "\n",
    "print('------------------------------------------------------')\n",
    "output_file.write('------------------------------------------------------\\n')\n",
    "\n",
    "output_file.close()"
   ]
  },
  {
   "cell_type": "code",
   "execution_count": 25,
   "id": "e9b73cdd-af0e-440f-b0b4-ff4f427d78bb",
   "metadata": {},
   "outputs": [
    {
     "name": "stdout",
     "output_type": "stream",
     "text": [
      "------------------------------------------------------\n",
      "lstm kmeans 30 0.1 20.txt\n",
      "---do_investigations. cluster index : 0---\n"
     ]
    },
    {
     "data": {
      "application/vnd.jupyter.widget-view+json": {
       "model_id": "a4285e16a39148aa92144aa41e7067de",
       "version_major": 2,
       "version_minor": 0
      },
      "text/plain": [
       "IntProgress(value=0, max=278)"
      ]
     },
     "metadata": {},
     "output_type": "display_data"
    },
    {
     "name": "stdout",
     "output_type": "stream",
     "text": [
      "Epoch 1/20\n",
      "368/368 [==============================] - 4s 6ms/step - loss: 0.2621 - mean_absolute_error: 0.3587 - val_loss: 0.1689 - val_mean_absolute_error: 0.2798\n",
      "Epoch 2/20\n",
      "368/368 [==============================] - 2s 5ms/step - loss: 0.1861 - mean_absolute_error: 0.3004 - val_loss: 0.1674 - val_mean_absolute_error: 0.2846\n",
      "Epoch 3/20\n",
      "368/368 [==============================] - 2s 5ms/step - loss: 0.1859 - mean_absolute_error: 0.2994 - val_loss: 0.1678 - val_mean_absolute_error: 0.2809\n",
      "Epoch 4/20\n",
      "368/368 [==============================] - 2s 5ms/step - loss: 0.1848 - mean_absolute_error: 0.2988 - val_loss: 0.1718 - val_mean_absolute_error: 0.2772\n",
      "***TRAIN***:\n",
      "correlation related to cluster centre: 0.90\n",
      "r2 score related to cluster centre: 0.81\n",
      "***VALIDATION***:\n",
      "correlation related to cluster centre: 0.91\n",
      "r2 score related to cluster centre: 0.83\n"
     ]
    },
    {
     "data": {
      "application/vnd.jupyter.widget-view+json": {
       "model_id": "4ada952c92974a88bd071ea47c7a52d2",
       "version_major": 2,
       "version_minor": 0
      },
      "text/plain": [
       "IntProgress(value=0, max=278)"
      ]
     },
     "metadata": {},
     "output_type": "display_data"
    },
    {
     "name": "stdout",
     "output_type": "stream",
     "text": [
      "***VALIDATION***:\n",
      "average correlation: 0.91\n",
      "average r2: 0.79\n",
      "---do_investigations. cluster index : 1---\n"
     ]
    },
    {
     "data": {
      "application/vnd.jupyter.widget-view+json": {
       "model_id": "48299a5040f24580a3edb8b390176ed4",
       "version_major": 2,
       "version_minor": 0
      },
      "text/plain": [
       "IntProgress(value=0, max=213)"
      ]
     },
     "metadata": {},
     "output_type": "display_data"
    },
    {
     "name": "stdout",
     "output_type": "stream",
     "text": [
      "Epoch 1/20\n",
      "368/368 [==============================] - 4s 6ms/step - loss: 0.2486 - mean_absolute_error: 0.3454 - val_loss: 0.1687 - val_mean_absolute_error: 0.2823\n",
      "Epoch 2/20\n",
      "368/368 [==============================] - 2s 5ms/step - loss: 0.1881 - mean_absolute_error: 0.2989 - val_loss: 0.1689 - val_mean_absolute_error: 0.2866\n",
      "Epoch 3/20\n",
      "368/368 [==============================] - 2s 5ms/step - loss: 0.1888 - mean_absolute_error: 0.2989 - val_loss: 0.1680 - val_mean_absolute_error: 0.2784\n",
      "Epoch 4/20\n",
      "368/368 [==============================] - 2s 5ms/step - loss: 0.1889 - mean_absolute_error: 0.2986 - val_loss: 0.1676 - val_mean_absolute_error: 0.2824\n",
      "Epoch 5/20\n",
      "368/368 [==============================] - 2s 5ms/step - loss: 0.1877 - mean_absolute_error: 0.2972 - val_loss: 0.1676 - val_mean_absolute_error: 0.2755\n",
      "Epoch 6/20\n",
      "368/368 [==============================] - 2s 5ms/step - loss: 0.1878 - mean_absolute_error: 0.2976 - val_loss: 0.1694 - val_mean_absolute_error: 0.2776\n",
      "Epoch 7/20\n",
      "368/368 [==============================] - 2s 5ms/step - loss: 0.1875 - mean_absolute_error: 0.2975 - val_loss: 0.1702 - val_mean_absolute_error: 0.2899\n",
      "***TRAIN***:\n",
      "correlation related to cluster centre: 0.90\n",
      "r2 score related to cluster centre: 0.81\n",
      "***VALIDATION***:\n",
      "correlation related to cluster centre: 0.91\n",
      "r2 score related to cluster centre: 0.83\n"
     ]
    },
    {
     "data": {
      "application/vnd.jupyter.widget-view+json": {
       "model_id": "1dd07615bfd34e539efb2ad69a90b3a8",
       "version_major": 2,
       "version_minor": 0
      },
      "text/plain": [
       "IntProgress(value=0, max=213)"
      ]
     },
     "metadata": {},
     "output_type": "display_data"
    },
    {
     "name": "stdout",
     "output_type": "stream",
     "text": [
      "***VALIDATION***:\n",
      "average correlation: 0.91\n",
      "average r2: 0.75\n",
      "---do_investigations. cluster index : 2---\n"
     ]
    },
    {
     "data": {
      "application/vnd.jupyter.widget-view+json": {
       "model_id": "8c28430e1d594d789e2126287d55a405",
       "version_major": 2,
       "version_minor": 0
      },
      "text/plain": [
       "IntProgress(value=0, max=204)"
      ]
     },
     "metadata": {},
     "output_type": "display_data"
    },
    {
     "name": "stdout",
     "output_type": "stream",
     "text": [
      "Epoch 1/20\n",
      "368/368 [==============================] - 4s 6ms/step - loss: 0.2883 - mean_absolute_error: 0.3355 - val_loss: 0.2436 - val_mean_absolute_error: 0.2852\n",
      "Epoch 2/20\n",
      "368/368 [==============================] - 2s 5ms/step - loss: 0.2079 - mean_absolute_error: 0.2812 - val_loss: 0.2465 - val_mean_absolute_error: 0.3028\n",
      "Epoch 3/20\n",
      "368/368 [==============================] - 2s 5ms/step - loss: 0.2084 - mean_absolute_error: 0.2809 - val_loss: 0.2419 - val_mean_absolute_error: 0.2881\n",
      "Epoch 4/20\n",
      "368/368 [==============================] - 2s 5ms/step - loss: 0.2065 - mean_absolute_error: 0.2798 - val_loss: 0.2413 - val_mean_absolute_error: 0.2979\n",
      "Epoch 5/20\n",
      "368/368 [==============================] - 2s 5ms/step - loss: 0.2068 - mean_absolute_error: 0.2801 - val_loss: 0.2422 - val_mean_absolute_error: 0.2890\n",
      "Epoch 6/20\n",
      "368/368 [==============================] - 2s 5ms/step - loss: 0.2064 - mean_absolute_error: 0.2793 - val_loss: 0.2397 - val_mean_absolute_error: 0.2909\n",
      "Epoch 7/20\n",
      "368/368 [==============================] - 2s 5ms/step - loss: 0.2059 - mean_absolute_error: 0.2797 - val_loss: 0.2488 - val_mean_absolute_error: 0.2968\n",
      "Epoch 8/20\n",
      "368/368 [==============================] - 2s 5ms/step - loss: 0.2057 - mean_absolute_error: 0.2794 - val_loss: 0.2409 - val_mean_absolute_error: 0.2867\n",
      "***TRAIN***:\n",
      "correlation related to cluster centre: 0.89\n",
      "r2 score related to cluster centre: 0.80\n",
      "***VALIDATION***:\n",
      "correlation related to cluster centre: 0.90\n",
      "r2 score related to cluster centre: 0.81\n"
     ]
    },
    {
     "data": {
      "application/vnd.jupyter.widget-view+json": {
       "model_id": "c6217643e017469e8c16d6926635686e",
       "version_major": 2,
       "version_minor": 0
      },
      "text/plain": [
       "IntProgress(value=0, max=204)"
      ]
     },
     "metadata": {},
     "output_type": "display_data"
    },
    {
     "name": "stdout",
     "output_type": "stream",
     "text": [
      "***VALIDATION***:\n",
      "average correlation: 0.90\n",
      "average r2: 0.80\n",
      "---do_investigations. cluster index : 3---\n"
     ]
    },
    {
     "data": {
      "application/vnd.jupyter.widget-view+json": {
       "model_id": "6132f489f4bf4430b4b07c38947616b0",
       "version_major": 2,
       "version_minor": 0
      },
      "text/plain": [
       "IntProgress(value=0, max=716)"
      ]
     },
     "metadata": {},
     "output_type": "display_data"
    },
    {
     "name": "stdout",
     "output_type": "stream",
     "text": [
      "Epoch 1/20\n",
      "368/368 [==============================] - 5s 8ms/step - loss: 0.0800 - mean_absolute_error: 0.1560 - val_loss: 0.0426 - val_mean_absolute_error: 0.1117\n",
      "Epoch 2/20\n",
      "368/368 [==============================] - 2s 5ms/step - loss: 0.0249 - mean_absolute_error: 0.0896 - val_loss: 0.0485 - val_mean_absolute_error: 0.1397\n",
      "Epoch 3/20\n",
      "368/368 [==============================] - 2s 5ms/step - loss: 0.0238 - mean_absolute_error: 0.0883 - val_loss: 0.0354 - val_mean_absolute_error: 0.0996\n",
      "Epoch 4/20\n",
      "368/368 [==============================] - 2s 5ms/step - loss: 0.0237 - mean_absolute_error: 0.0880 - val_loss: 0.0350 - val_mean_absolute_error: 0.0997\n",
      "Epoch 5/20\n",
      "368/368 [==============================] - 2s 5ms/step - loss: 0.0233 - mean_absolute_error: 0.0866 - val_loss: 0.0353 - val_mean_absolute_error: 0.1000\n",
      "Epoch 6/20\n",
      "368/368 [==============================] - 2s 5ms/step - loss: 0.0232 - mean_absolute_error: 0.0860 - val_loss: 0.0332 - val_mean_absolute_error: 0.0923\n",
      "Epoch 7/20\n",
      "368/368 [==============================] - 2s 5ms/step - loss: 0.0232 - mean_absolute_error: 0.0866 - val_loss: 0.0360 - val_mean_absolute_error: 0.1040\n",
      "Epoch 8/20\n",
      "368/368 [==============================] - 2s 5ms/step - loss: 0.0229 - mean_absolute_error: 0.0862 - val_loss: 0.0368 - val_mean_absolute_error: 0.1076\n",
      "***TRAIN***:\n",
      "correlation related to cluster centre: 0.99\n",
      "r2 score related to cluster centre: 0.98\n",
      "***VALIDATION***:\n",
      "correlation related to cluster centre: 0.97\n",
      "r2 score related to cluster centre: 0.94\n"
     ]
    },
    {
     "data": {
      "application/vnd.jupyter.widget-view+json": {
       "model_id": "739684848ac9469aba717185d385960f",
       "version_major": 2,
       "version_minor": 0
      },
      "text/plain": [
       "IntProgress(value=0, max=716)"
      ]
     },
     "metadata": {},
     "output_type": "display_data"
    },
    {
     "name": "stdout",
     "output_type": "stream",
     "text": [
      "***VALIDATION***:\n",
      "average correlation: 0.86\n",
      "average r2: 0.67\n",
      "---do_investigations. cluster index : 4---\n"
     ]
    },
    {
     "data": {
      "application/vnd.jupyter.widget-view+json": {
       "model_id": "c489e533e0d548f488711ddae8d5f1ac",
       "version_major": 2,
       "version_minor": 0
      },
      "text/plain": [
       "IntProgress(value=0, max=178)"
      ]
     },
     "metadata": {},
     "output_type": "display_data"
    },
    {
     "name": "stdout",
     "output_type": "stream",
     "text": [
      "Epoch 1/20\n",
      "368/368 [==============================] - 4s 6ms/step - loss: 0.2829 - mean_absolute_error: 0.3426 - val_loss: 0.1982 - val_mean_absolute_error: 0.2860\n",
      "Epoch 2/20\n",
      "368/368 [==============================] - 2s 5ms/step - loss: 0.2063 - mean_absolute_error: 0.2926 - val_loss: 0.1954 - val_mean_absolute_error: 0.2778\n",
      "Epoch 3/20\n",
      "368/368 [==============================] - 2s 5ms/step - loss: 0.2068 - mean_absolute_error: 0.2913 - val_loss: 0.1946 - val_mean_absolute_error: 0.2759\n",
      "Epoch 4/20\n",
      "368/368 [==============================] - 2s 5ms/step - loss: 0.2068 - mean_absolute_error: 0.2914 - val_loss: 0.1947 - val_mean_absolute_error: 0.2727\n",
      "Epoch 5/20\n",
      "368/368 [==============================] - 2s 5ms/step - loss: 0.2052 - mean_absolute_error: 0.2899 - val_loss: 0.1949 - val_mean_absolute_error: 0.2757\n",
      "***TRAIN***:\n",
      "correlation related to cluster centre: 0.89\n",
      "r2 score related to cluster centre: 0.80\n",
      "***VALIDATION***:\n",
      "correlation related to cluster centre: 0.90\n",
      "r2 score related to cluster centre: 0.82\n"
     ]
    },
    {
     "data": {
      "application/vnd.jupyter.widget-view+json": {
       "model_id": "1cb4f57f31ba4d8287cc14af1eb24e5e",
       "version_major": 2,
       "version_minor": 0
      },
      "text/plain": [
       "IntProgress(value=0, max=178)"
      ]
     },
     "metadata": {},
     "output_type": "display_data"
    },
    {
     "name": "stdout",
     "output_type": "stream",
     "text": [
      "***VALIDATION***:\n",
      "average correlation: 0.90\n",
      "average r2: 0.81\n",
      "---do_investigations. cluster index : 5---\n"
     ]
    },
    {
     "data": {
      "application/vnd.jupyter.widget-view+json": {
       "model_id": "3e1e6a6b225a4bdea357d05049b61f8a",
       "version_major": 2,
       "version_minor": 0
      },
      "text/plain": [
       "IntProgress(value=0, max=231)"
      ]
     },
     "metadata": {},
     "output_type": "display_data"
    },
    {
     "name": "stdout",
     "output_type": "stream",
     "text": [
      "Epoch 1/20\n",
      "368/368 [==============================] - 4s 6ms/step - loss: 0.2707 - mean_absolute_error: 0.3563 - val_loss: 0.1824 - val_mean_absolute_error: 0.2864\n",
      "Epoch 2/20\n",
      "368/368 [==============================] - 2s 5ms/step - loss: 0.2035 - mean_absolute_error: 0.3072 - val_loss: 0.1888 - val_mean_absolute_error: 0.2987\n",
      "Epoch 3/20\n",
      "368/368 [==============================] - 2s 5ms/step - loss: 0.2022 - mean_absolute_error: 0.3065 - val_loss: 0.1824 - val_mean_absolute_error: 0.2836\n",
      "***TRAIN***:\n",
      "correlation related to cluster centre: 0.90\n",
      "r2 score related to cluster centre: 0.80\n",
      "***VALIDATION***:\n",
      "correlation related to cluster centre: 0.90\n",
      "r2 score related to cluster centre: 0.82\n"
     ]
    },
    {
     "data": {
      "application/vnd.jupyter.widget-view+json": {
       "model_id": "a2cfbf0933c54c22afac570a0081d099",
       "version_major": 2,
       "version_minor": 0
      },
      "text/plain": [
       "IntProgress(value=0, max=231)"
      ]
     },
     "metadata": {},
     "output_type": "display_data"
    },
    {
     "name": "stdout",
     "output_type": "stream",
     "text": [
      "***VALIDATION***:\n",
      "average correlation: 0.90\n",
      "average r2: 0.80\n",
      "---do_investigations. cluster index : 6---\n"
     ]
    },
    {
     "data": {
      "application/vnd.jupyter.widget-view+json": {
       "model_id": "5eaad03aa37b45adb3bd7d274d0684e3",
       "version_major": 2,
       "version_minor": 0
      },
      "text/plain": [
       "IntProgress(value=0, max=112)"
      ]
     },
     "metadata": {},
     "output_type": "display_data"
    },
    {
     "name": "stdout",
     "output_type": "stream",
     "text": [
      "Epoch 1/20\n",
      "368/368 [==============================] - 4s 6ms/step - loss: 0.2614 - mean_absolute_error: 0.3549 - val_loss: 0.1372 - val_mean_absolute_error: 0.2632\n",
      "Epoch 2/20\n",
      "368/368 [==============================] - 2s 5ms/step - loss: 0.1956 - mean_absolute_error: 0.3023 - val_loss: 0.1365 - val_mean_absolute_error: 0.2560\n",
      "Epoch 3/20\n",
      "368/368 [==============================] - 2s 5ms/step - loss: 0.1952 - mean_absolute_error: 0.3012 - val_loss: 0.1405 - val_mean_absolute_error: 0.2756\n",
      "Epoch 4/20\n",
      "368/368 [==============================] - 2s 5ms/step - loss: 0.1949 - mean_absolute_error: 0.3010 - val_loss: 0.1387 - val_mean_absolute_error: 0.2668\n",
      "***TRAIN***:\n",
      "correlation related to cluster centre: 0.90\n",
      "r2 score related to cluster centre: 0.81\n",
      "***VALIDATION***:\n",
      "correlation related to cluster centre: 0.91\n",
      "r2 score related to cluster centre: 0.83\n"
     ]
    },
    {
     "data": {
      "application/vnd.jupyter.widget-view+json": {
       "model_id": "f911b5b1ef144a4b8ebf2f86247014c5",
       "version_major": 2,
       "version_minor": 0
      },
      "text/plain": [
       "IntProgress(value=0, max=112)"
      ]
     },
     "metadata": {},
     "output_type": "display_data"
    },
    {
     "name": "stdout",
     "output_type": "stream",
     "text": [
      "***VALIDATION***:\n",
      "average correlation: 0.91\n",
      "average r2: 0.83\n",
      "---do_investigations. cluster index : 7---\n"
     ]
    },
    {
     "data": {
      "application/vnd.jupyter.widget-view+json": {
       "model_id": "5c13e2770cb44af1885f9f17db404002",
       "version_major": 2,
       "version_minor": 0
      },
      "text/plain": [
       "IntProgress(value=0, max=170)"
      ]
     },
     "metadata": {},
     "output_type": "display_data"
    },
    {
     "name": "stdout",
     "output_type": "stream",
     "text": [
      "Epoch 1/20\n",
      "368/368 [==============================] - 4s 6ms/step - loss: 0.2594 - mean_absolute_error: 0.3539 - val_loss: 0.1680 - val_mean_absolute_error: 0.2951\n",
      "Epoch 2/20\n",
      "368/368 [==============================] - 2s 5ms/step - loss: 0.1987 - mean_absolute_error: 0.3100 - val_loss: 0.1693 - val_mean_absolute_error: 0.2891\n",
      "Epoch 3/20\n",
      "368/368 [==============================] - 2s 5ms/step - loss: 0.1964 - mean_absolute_error: 0.3078 - val_loss: 0.1655 - val_mean_absolute_error: 0.2873\n",
      "Epoch 4/20\n",
      "368/368 [==============================] - 2s 5ms/step - loss: 0.1965 - mean_absolute_error: 0.3076 - val_loss: 0.1664 - val_mean_absolute_error: 0.2873\n",
      "Epoch 5/20\n",
      "368/368 [==============================] - 2s 5ms/step - loss: 0.1960 - mean_absolute_error: 0.3069 - val_loss: 0.1644 - val_mean_absolute_error: 0.2883\n",
      "Epoch 6/20\n",
      "368/368 [==============================] - 2s 5ms/step - loss: 0.1961 - mean_absolute_error: 0.3070 - val_loss: 0.1668 - val_mean_absolute_error: 0.2856\n",
      "Epoch 7/20\n",
      "368/368 [==============================] - 2s 5ms/step - loss: 0.1960 - mean_absolute_error: 0.3073 - val_loss: 0.1635 - val_mean_absolute_error: 0.2833\n",
      "Epoch 8/20\n",
      "368/368 [==============================] - 2s 5ms/step - loss: 0.1967 - mean_absolute_error: 0.3070 - val_loss: 0.1651 - val_mean_absolute_error: 0.2865\n",
      "Epoch 9/20\n",
      "368/368 [==============================] - 2s 5ms/step - loss: 0.1966 - mean_absolute_error: 0.3074 - val_loss: 0.1657 - val_mean_absolute_error: 0.2849\n",
      "***TRAIN***:\n",
      "correlation related to cluster centre: 0.90\n",
      "r2 score related to cluster centre: 0.80\n",
      "***VALIDATION***:\n",
      "correlation related to cluster centre: 0.91\n",
      "r2 score related to cluster centre: 0.83\n"
     ]
    },
    {
     "data": {
      "application/vnd.jupyter.widget-view+json": {
       "model_id": "6295fd350eab4df0a59869aaa9108ead",
       "version_major": 2,
       "version_minor": 0
      },
      "text/plain": [
       "IntProgress(value=0, max=170)"
      ]
     },
     "metadata": {},
     "output_type": "display_data"
    },
    {
     "name": "stdout",
     "output_type": "stream",
     "text": [
      "***VALIDATION***:\n",
      "average correlation: 0.91\n",
      "average r2: 0.82\n",
      "---do_investigations. cluster index : 8---\n"
     ]
    },
    {
     "data": {
      "application/vnd.jupyter.widget-view+json": {
       "model_id": "fbb2f2b0021040d4b9cef402d98c6282",
       "version_major": 2,
       "version_minor": 0
      },
      "text/plain": [
       "IntProgress(value=0, max=362)"
      ]
     },
     "metadata": {},
     "output_type": "display_data"
    },
    {
     "name": "stdout",
     "output_type": "stream",
     "text": [
      "Epoch 1/20\n",
      "368/368 [==============================] - 4s 6ms/step - loss: 0.2872 - mean_absolute_error: 0.3229 - val_loss: 0.2823 - val_mean_absolute_error: 0.2893\n",
      "Epoch 2/20\n",
      "368/368 [==============================] - 2s 5ms/step - loss: 0.2083 - mean_absolute_error: 0.2747 - val_loss: 0.2740 - val_mean_absolute_error: 0.2886\n",
      "Epoch 3/20\n",
      "368/368 [==============================] - 2s 5ms/step - loss: 0.2063 - mean_absolute_error: 0.2736 - val_loss: 0.2669 - val_mean_absolute_error: 0.2816\n",
      "Epoch 4/20\n",
      "368/368 [==============================] - 2s 5ms/step - loss: 0.2064 - mean_absolute_error: 0.2735 - val_loss: 0.2834 - val_mean_absolute_error: 0.2918\n",
      "Epoch 5/20\n",
      "368/368 [==============================] - 2s 5ms/step - loss: 0.2056 - mean_absolute_error: 0.2728 - val_loss: 0.2675 - val_mean_absolute_error: 0.2813\n",
      "***TRAIN***:\n",
      "correlation related to cluster centre: 0.89\n",
      "r2 score related to cluster centre: 0.79\n",
      "***VALIDATION***:\n",
      "correlation related to cluster centre: 0.90\n",
      "r2 score related to cluster centre: 0.80\n"
     ]
    },
    {
     "data": {
      "application/vnd.jupyter.widget-view+json": {
       "model_id": "13b85ac95de448f6b2299a5e410f4d22",
       "version_major": 2,
       "version_minor": 0
      },
      "text/plain": [
       "IntProgress(value=0, max=362)"
      ]
     },
     "metadata": {},
     "output_type": "display_data"
    },
    {
     "name": "stdout",
     "output_type": "stream",
     "text": [
      "***VALIDATION***:\n",
      "average correlation: 0.89\n",
      "average r2: 0.77\n",
      "---do_investigations. cluster index : 9---\n"
     ]
    },
    {
     "data": {
      "application/vnd.jupyter.widget-view+json": {
       "model_id": "eb5330e09f7645228d2d0920044d3ffe",
       "version_major": 2,
       "version_minor": 0
      },
      "text/plain": [
       "IntProgress(value=0, max=111)"
      ]
     },
     "metadata": {},
     "output_type": "display_data"
    },
    {
     "name": "stdout",
     "output_type": "stream",
     "text": [
      "Epoch 1/20\n",
      "368/368 [==============================] - 4s 6ms/step - loss: 0.2803 - mean_absolute_error: 0.3630 - val_loss: 0.1490 - val_mean_absolute_error: 0.2670\n",
      "Epoch 2/20\n",
      "368/368 [==============================] - 2s 5ms/step - loss: 0.2113 - mean_absolute_error: 0.3102 - val_loss: 0.1479 - val_mean_absolute_error: 0.2621\n",
      "Epoch 3/20\n",
      "368/368 [==============================] - 2s 5ms/step - loss: 0.2105 - mean_absolute_error: 0.3090 - val_loss: 0.1485 - val_mean_absolute_error: 0.2652\n",
      "Epoch 4/20\n",
      "368/368 [==============================] - 2s 5ms/step - loss: 0.2104 - mean_absolute_error: 0.3085 - val_loss: 0.1479 - val_mean_absolute_error: 0.2695\n",
      "Epoch 5/20\n",
      "368/368 [==============================] - 2s 5ms/step - loss: 0.2098 - mean_absolute_error: 0.3091 - val_loss: 0.1475 - val_mean_absolute_error: 0.2685\n",
      "Epoch 6/20\n",
      "368/368 [==============================] - 2s 5ms/step - loss: 0.2109 - mean_absolute_error: 0.3093 - val_loss: 0.1482 - val_mean_absolute_error: 0.2717\n",
      "Epoch 7/20\n",
      "368/368 [==============================] - 2s 5ms/step - loss: 0.2097 - mean_absolute_error: 0.3080 - val_loss: 0.1476 - val_mean_absolute_error: 0.2646\n",
      "***TRAIN***:\n",
      "correlation related to cluster centre: 0.89\n",
      "r2 score related to cluster centre: 0.79\n",
      "***VALIDATION***:\n",
      "correlation related to cluster centre: 0.91\n",
      "r2 score related to cluster centre: 0.82\n"
     ]
    },
    {
     "data": {
      "application/vnd.jupyter.widget-view+json": {
       "model_id": "072a82dcf83544b8adb97d4e1660acd7",
       "version_major": 2,
       "version_minor": 0
      },
      "text/plain": [
       "IntProgress(value=0, max=111)"
      ]
     },
     "metadata": {},
     "output_type": "display_data"
    },
    {
     "name": "stdout",
     "output_type": "stream",
     "text": [
      "***VALIDATION***:\n",
      "average correlation: 0.91\n",
      "average r2: 0.78\n",
      "---do_investigations. cluster index : 10---\n"
     ]
    },
    {
     "data": {
      "application/vnd.jupyter.widget-view+json": {
       "model_id": "d6259b75dc7442fa8cc45be87e3000e3",
       "version_major": 2,
       "version_minor": 0
      },
      "text/plain": [
       "IntProgress(value=0, max=286)"
      ]
     },
     "metadata": {},
     "output_type": "display_data"
    },
    {
     "name": "stdout",
     "output_type": "stream",
     "text": [
      "Epoch 1/20\n",
      "368/368 [==============================] - 4s 6ms/step - loss: 0.2734 - mean_absolute_error: 0.3276 - val_loss: 0.1643 - val_mean_absolute_error: 0.2526\n",
      "Epoch 2/20\n",
      "368/368 [==============================] - 2s 5ms/step - loss: 0.1921 - mean_absolute_error: 0.2738 - val_loss: 0.1548 - val_mean_absolute_error: 0.2499\n",
      "Epoch 3/20\n",
      "368/368 [==============================] - 2s 5ms/step - loss: 0.1910 - mean_absolute_error: 0.2738 - val_loss: 0.1537 - val_mean_absolute_error: 0.2428\n",
      "Epoch 4/20\n",
      "368/368 [==============================] - 2s 5ms/step - loss: 0.1910 - mean_absolute_error: 0.2733 - val_loss: 0.1544 - val_mean_absolute_error: 0.2471\n",
      "Epoch 5/20\n",
      "368/368 [==============================] - 2s 5ms/step - loss: 0.1895 - mean_absolute_error: 0.2722 - val_loss: 0.1555 - val_mean_absolute_error: 0.2378\n",
      "***TRAIN***:\n",
      "correlation related to cluster centre: 0.90\n",
      "r2 score related to cluster centre: 0.81\n",
      "***VALIDATION***:\n",
      "correlation related to cluster centre: 0.91\n",
      "r2 score related to cluster centre: 0.83\n"
     ]
    },
    {
     "data": {
      "application/vnd.jupyter.widget-view+json": {
       "model_id": "6399f4ccb90c4c10b6e93d90cfd6387f",
       "version_major": 2,
       "version_minor": 0
      },
      "text/plain": [
       "IntProgress(value=0, max=286)"
      ]
     },
     "metadata": {},
     "output_type": "display_data"
    },
    {
     "name": "stdout",
     "output_type": "stream",
     "text": [
      "***VALIDATION***:\n",
      "average correlation: 0.89\n",
      "average r2: 0.77\n",
      "---do_investigations. cluster index : 11---\n"
     ]
    },
    {
     "data": {
      "application/vnd.jupyter.widget-view+json": {
       "model_id": "89c6db1463b0476d91cc87c3b93c3097",
       "version_major": 2,
       "version_minor": 0
      },
      "text/plain": [
       "IntProgress(value=0, max=226)"
      ]
     },
     "metadata": {},
     "output_type": "display_data"
    },
    {
     "name": "stdout",
     "output_type": "stream",
     "text": [
      "Epoch 1/20\n",
      "368/368 [==============================] - 4s 6ms/step - loss: 0.2684 - mean_absolute_error: 0.3673 - val_loss: 0.2002 - val_mean_absolute_error: 0.3260\n",
      "Epoch 2/20\n",
      "368/368 [==============================] - 2s 5ms/step - loss: 0.2093 - mean_absolute_error: 0.3217 - val_loss: 0.1986 - val_mean_absolute_error: 0.3220\n",
      "Epoch 3/20\n",
      "368/368 [==============================] - 2s 5ms/step - loss: 0.2083 - mean_absolute_error: 0.3201 - val_loss: 0.1989 - val_mean_absolute_error: 0.3228\n",
      "Epoch 4/20\n",
      "368/368 [==============================] - 2s 5ms/step - loss: 0.2081 - mean_absolute_error: 0.3195 - val_loss: 0.1950 - val_mean_absolute_error: 0.3101\n",
      "Epoch 5/20\n",
      "368/368 [==============================] - 2s 5ms/step - loss: 0.2072 - mean_absolute_error: 0.3188 - val_loss: 0.1968 - val_mean_absolute_error: 0.3174\n",
      "Epoch 6/20\n",
      "368/368 [==============================] - 2s 5ms/step - loss: 0.2068 - mean_absolute_error: 0.3186 - val_loss: 0.1943 - val_mean_absolute_error: 0.3094\n",
      "Epoch 7/20\n",
      "368/368 [==============================] - 2s 5ms/step - loss: 0.2060 - mean_absolute_error: 0.3175 - val_loss: 0.1961 - val_mean_absolute_error: 0.3183\n",
      "Epoch 8/20\n",
      "368/368 [==============================] - 2s 5ms/step - loss: 0.2071 - mean_absolute_error: 0.3178 - val_loss: 0.1941 - val_mean_absolute_error: 0.3059\n",
      "Epoch 9/20\n",
      "368/368 [==============================] - 2s 5ms/step - loss: 0.2063 - mean_absolute_error: 0.3173 - val_loss: 0.1981 - val_mean_absolute_error: 0.3190\n",
      "Epoch 10/20\n",
      "368/368 [==============================] - 2s 5ms/step - loss: 0.2071 - mean_absolute_error: 0.3177 - val_loss: 0.1950 - val_mean_absolute_error: 0.3128\n",
      "***TRAIN***:\n",
      "correlation related to cluster centre: 0.89\n",
      "r2 score related to cluster centre: 0.79\n",
      "***VALIDATION***:\n",
      "correlation related to cluster centre: 0.90\n",
      "r2 score related to cluster centre: 0.82\n"
     ]
    },
    {
     "data": {
      "application/vnd.jupyter.widget-view+json": {
       "model_id": "c0f4faa5907040378b1034e24e4856ad",
       "version_major": 2,
       "version_minor": 0
      },
      "text/plain": [
       "IntProgress(value=0, max=226)"
      ]
     },
     "metadata": {},
     "output_type": "display_data"
    },
    {
     "name": "stdout",
     "output_type": "stream",
     "text": [
      "***VALIDATION***:\n",
      "average correlation: 0.90\n",
      "average r2: 0.79\n",
      "---do_investigations. cluster index : 12---\n"
     ]
    },
    {
     "data": {
      "application/vnd.jupyter.widget-view+json": {
       "model_id": "0537d7f4f9e541dca40c76f7966948f5",
       "version_major": 2,
       "version_minor": 0
      },
      "text/plain": [
       "IntProgress(value=0, max=4441)"
      ]
     },
     "metadata": {},
     "output_type": "display_data"
    },
    {
     "name": "stdout",
     "output_type": "stream",
     "text": [
      "Epoch 1/20\n",
      "368/368 [==============================] - 5s 6ms/step - loss: 0.1815 - mean_absolute_error: 0.2667 - val_loss: 0.1469 - val_mean_absolute_error: 0.2128\n",
      "Epoch 2/20\n",
      "368/368 [==============================] - 2s 5ms/step - loss: 0.1201 - mean_absolute_error: 0.2121 - val_loss: 0.1513 - val_mean_absolute_error: 0.2185\n",
      "Epoch 3/20\n",
      "368/368 [==============================] - 2s 5ms/step - loss: 0.1202 - mean_absolute_error: 0.2127 - val_loss: 0.1840 - val_mean_absolute_error: 0.2599\n",
      "***TRAIN***:\n",
      "correlation related to cluster centre: 0.94\n",
      "r2 score related to cluster centre: 0.86\n",
      "***VALIDATION***:\n",
      "correlation related to cluster centre: 0.91\n",
      "r2 score related to cluster centre: 0.76\n"
     ]
    },
    {
     "data": {
      "application/vnd.jupyter.widget-view+json": {
       "model_id": "539e11b8a28a464b80eae80a465a9761",
       "version_major": 2,
       "version_minor": 0
      },
      "text/plain": [
       "IntProgress(value=0, max=4441)"
      ]
     },
     "metadata": {},
     "output_type": "display_data"
    },
    {
     "name": "stdout",
     "output_type": "stream",
     "text": [
      "***VALIDATION***:\n",
      "average correlation: nan\n",
      "average r2: -226045972809020896977092608.00\n",
      "---do_investigations. cluster index : 13---\n"
     ]
    },
    {
     "data": {
      "application/vnd.jupyter.widget-view+json": {
       "model_id": "1302a0c1588e4305971c09292d7dcdc7",
       "version_major": 2,
       "version_minor": 0
      },
      "text/plain": [
       "IntProgress(value=0, max=152)"
      ]
     },
     "metadata": {},
     "output_type": "display_data"
    },
    {
     "name": "stdout",
     "output_type": "stream",
     "text": [
      "Epoch 1/20\n",
      "368/368 [==============================] - 4s 6ms/step - loss: 0.2831 - mean_absolute_error: 0.3503 - val_loss: 0.1728 - val_mean_absolute_error: 0.2846\n",
      "Epoch 2/20\n",
      "368/368 [==============================] - 2s 5ms/step - loss: 0.2097 - mean_absolute_error: 0.3000 - val_loss: 0.1832 - val_mean_absolute_error: 0.2973\n",
      "Epoch 3/20\n",
      "368/368 [==============================] - 2s 5ms/step - loss: 0.2083 - mean_absolute_error: 0.2994 - val_loss: 0.1837 - val_mean_absolute_error: 0.2916\n",
      "***TRAIN***:\n",
      "correlation related to cluster centre: 0.89\n",
      "r2 score related to cluster centre: 0.79\n",
      "***VALIDATION***:\n",
      "correlation related to cluster centre: 0.91\n",
      "r2 score related to cluster centre: 0.81\n"
     ]
    },
    {
     "data": {
      "application/vnd.jupyter.widget-view+json": {
       "model_id": "39dc1902fe7c4dc58a3dedb941ad862c",
       "version_major": 2,
       "version_minor": 0
      },
      "text/plain": [
       "IntProgress(value=0, max=152)"
      ]
     },
     "metadata": {},
     "output_type": "display_data"
    },
    {
     "name": "stdout",
     "output_type": "stream",
     "text": [
      "***VALIDATION***:\n",
      "average correlation: 0.90\n",
      "average r2: 0.80\n",
      "weighted_average_correlation: 0.89\n",
      "weighted_average_r2_score: 0.76\n",
      "bad clusters rate: 0.58%\n",
      "------------------------------------------------------\n"
     ]
    }
   ],
   "source": [
    "first_path = r\"C:\\Coding\\final-qualifying-work_2023-2024\\ClusteringCpp\\output\\kmeans 5 0.1 20.txt\"\n",
    "second_path = r\"C:\\Coding\\final-qualifying-work_2023-2024\\ClusteringCpp\\output\\kmeans 15 0.1 20.txt\"\n",
    "third_path = r\"C:\\Coding\\final-qualifying-work_2023-2024\\ClusteringCpp\\output\\kmeans 30 0.1 20.txt\"\n",
    "fourth_path = r\"C:\\Coding\\final-qualifying-work_2023-2024\\ClusteringCpp\\output\\kmeans 60 0.1 20.txt\"\n",
    "\n",
    "output_file = open(\"computational-experiments-output-kmeans.txt\", \"a\")\n",
    "\n",
    "selected_path = third_path\n",
    "\n",
    "print('------------------------------------------------------')\n",
    "output_file.write('------------------------------------------------------\\n')\n",
    "\n",
    "print(f\"lstm {os.path.split(selected_path)[-1]}\")\n",
    "output_file.write(f\"lstm {os.path.split(selected_path)[-1]}\\n\")\n",
    "show_results(lstm_model, get_clusters(selected_path), CONV_WIDTH)\n",
    "\n",
    "print('------------------------------------------------------')\n",
    "output_file.write('------------------------------------------------------\\n')\n",
    "\n",
    "output_file.close()"
   ]
  },
  {
   "cell_type": "code",
   "execution_count": 26,
   "id": "5914d2ad-9eff-4675-9ee6-2c63f09bbac8",
   "metadata": {},
   "outputs": [
    {
     "name": "stdout",
     "output_type": "stream",
     "text": [
      "------------------------------------------------------\n",
      "lstm kmeans 60 0.1 20.txt\n",
      "---do_investigations. cluster index : 0---\n"
     ]
    },
    {
     "data": {
      "application/vnd.jupyter.widget-view+json": {
       "model_id": "0d6512bbe3634c1cae2a048c04a20df6",
       "version_major": 2,
       "version_minor": 0
      },
      "text/plain": [
       "IntProgress(value=0, max=110)"
      ]
     },
     "metadata": {},
     "output_type": "display_data"
    },
    {
     "name": "stdout",
     "output_type": "stream",
     "text": [
      "Epoch 1/20\n",
      "368/368 [==============================] - 5s 6ms/step - loss: 0.2841 - mean_absolute_error: 0.3677 - val_loss: 0.1649 - val_mean_absolute_error: 0.2977\n",
      "Epoch 2/20\n",
      "368/368 [==============================] - 2s 5ms/step - loss: 0.2139 - mean_absolute_error: 0.3117 - val_loss: 0.1632 - val_mean_absolute_error: 0.2944\n",
      "Epoch 3/20\n",
      "368/368 [==============================] - 2s 5ms/step - loss: 0.2125 - mean_absolute_error: 0.3108 - val_loss: 0.1590 - val_mean_absolute_error: 0.2835\n",
      "Epoch 4/20\n",
      "368/368 [==============================] - 2s 5ms/step - loss: 0.2120 - mean_absolute_error: 0.3102 - val_loss: 0.1585 - val_mean_absolute_error: 0.2824\n",
      "Epoch 5/20\n",
      "368/368 [==============================] - 2s 5ms/step - loss: 0.2114 - mean_absolute_error: 0.3091 - val_loss: 0.1597 - val_mean_absolute_error: 0.2836\n",
      "Epoch 6/20\n",
      "368/368 [==============================] - 2s 5ms/step - loss: 0.2105 - mean_absolute_error: 0.3078 - val_loss: 0.1589 - val_mean_absolute_error: 0.2846\n",
      "***TRAIN***:\n",
      "correlation related to cluster centre: 0.89\n",
      "r2 score related to cluster centre: 0.79\n",
      "***VALIDATION***:\n",
      "correlation related to cluster centre: 0.91\n",
      "r2 score related to cluster centre: 0.82\n"
     ]
    },
    {
     "data": {
      "application/vnd.jupyter.widget-view+json": {
       "model_id": "e02c36889ded4f3b9036ff0cc4dd9b2e",
       "version_major": 2,
       "version_minor": 0
      },
      "text/plain": [
       "IntProgress(value=0, max=110)"
      ]
     },
     "metadata": {},
     "output_type": "display_data"
    },
    {
     "name": "stdout",
     "output_type": "stream",
     "text": [
      "***VALIDATION***:\n",
      "average correlation: 0.90\n",
      "average r2: 0.70\n",
      "---do_investigations. cluster index : 1---\n"
     ]
    },
    {
     "data": {
      "application/vnd.jupyter.widget-view+json": {
       "model_id": "fb0e142f02bf4f379a6b33c201dd7387",
       "version_major": 2,
       "version_minor": 0
      },
      "text/plain": [
       "IntProgress(value=0, max=184)"
      ]
     },
     "metadata": {},
     "output_type": "display_data"
    },
    {
     "name": "stdout",
     "output_type": "stream",
     "text": [
      "Epoch 1/20\n",
      "368/368 [==============================] - 4s 6ms/step - loss: 0.2668 - mean_absolute_error: 0.3121 - val_loss: 0.1600 - val_mean_absolute_error: 0.2206\n",
      "Epoch 2/20\n",
      "368/368 [==============================] - 2s 5ms/step - loss: 0.1948 - mean_absolute_error: 0.2665 - val_loss: 0.1521 - val_mean_absolute_error: 0.2124\n",
      "Epoch 3/20\n",
      "368/368 [==============================] - 2s 5ms/step - loss: 0.1950 - mean_absolute_error: 0.2662 - val_loss: 0.1656 - val_mean_absolute_error: 0.2193\n",
      "Epoch 4/20\n",
      "368/368 [==============================] - 2s 5ms/step - loss: 0.1937 - mean_absolute_error: 0.2650 - val_loss: 0.1514 - val_mean_absolute_error: 0.2110\n",
      "Epoch 5/20\n",
      "368/368 [==============================] - 2s 5ms/step - loss: 0.1930 - mean_absolute_error: 0.2644 - val_loss: 0.1523 - val_mean_absolute_error: 0.2155\n",
      "Epoch 6/20\n",
      "368/368 [==============================] - 2s 5ms/step - loss: 0.1933 - mean_absolute_error: 0.2646 - val_loss: 0.1523 - val_mean_absolute_error: 0.2158\n",
      "***TRAIN***:\n",
      "correlation related to cluster centre: 0.90\n",
      "r2 score related to cluster centre: 0.81\n",
      "***VALIDATION***:\n",
      "correlation related to cluster centre: 0.91\n",
      "r2 score related to cluster centre: 0.83\n"
     ]
    },
    {
     "data": {
      "application/vnd.jupyter.widget-view+json": {
       "model_id": "c73c8331fe554a71897de9cb93c52c54",
       "version_major": 2,
       "version_minor": 0
      },
      "text/plain": [
       "IntProgress(value=0, max=184)"
      ]
     },
     "metadata": {},
     "output_type": "display_data"
    },
    {
     "name": "stdout",
     "output_type": "stream",
     "text": [
      "***VALIDATION***:\n",
      "average correlation: 0.89\n",
      "average r2: 0.75\n",
      "---do_investigations. cluster index : 2---\n"
     ]
    },
    {
     "data": {
      "application/vnd.jupyter.widget-view+json": {
       "model_id": "0693460f0dd64fa4951f453425710519",
       "version_major": 2,
       "version_minor": 0
      },
      "text/plain": [
       "IntProgress(value=0, max=207)"
      ]
     },
     "metadata": {},
     "output_type": "display_data"
    },
    {
     "name": "stdout",
     "output_type": "stream",
     "text": [
      "Epoch 1/20\n",
      "368/368 [==============================] - 4s 6ms/step - loss: 0.2580 - mean_absolute_error: 0.3513 - val_loss: 0.1863 - val_mean_absolute_error: 0.2800\n",
      "Epoch 2/20\n",
      "368/368 [==============================] - 2s 5ms/step - loss: 0.2034 - mean_absolute_error: 0.3089 - val_loss: 0.1847 - val_mean_absolute_error: 0.2784\n",
      "Epoch 3/20\n",
      "368/368 [==============================] - 2s 5ms/step - loss: 0.2030 - mean_absolute_error: 0.3077 - val_loss: 0.1847 - val_mean_absolute_error: 0.2819\n",
      "Epoch 4/20\n",
      "368/368 [==============================] - 2s 5ms/step - loss: 0.2017 - mean_absolute_error: 0.3073 - val_loss: 0.1840 - val_mean_absolute_error: 0.2780\n",
      "Epoch 5/20\n",
      "368/368 [==============================] - 2s 5ms/step - loss: 0.2014 - mean_absolute_error: 0.3072 - val_loss: 0.1833 - val_mean_absolute_error: 0.2778\n",
      "Epoch 6/20\n",
      "368/368 [==============================] - 2s 5ms/step - loss: 0.2029 - mean_absolute_error: 0.3073 - val_loss: 0.1837 - val_mean_absolute_error: 0.2781\n",
      "Epoch 7/20\n",
      "368/368 [==============================] - 2s 5ms/step - loss: 0.2021 - mean_absolute_error: 0.3075 - val_loss: 0.1823 - val_mean_absolute_error: 0.2793\n",
      "Epoch 8/20\n",
      "368/368 [==============================] - 2s 5ms/step - loss: 0.2011 - mean_absolute_error: 0.3065 - val_loss: 0.1865 - val_mean_absolute_error: 0.2794\n",
      "Epoch 9/20\n",
      "368/368 [==============================] - 2s 5ms/step - loss: 0.2015 - mean_absolute_error: 0.3064 - val_loss: 0.1918 - val_mean_absolute_error: 0.2837\n",
      "***TRAIN***:\n",
      "correlation related to cluster centre: 0.89\n",
      "r2 score related to cluster centre: 0.79\n",
      "***VALIDATION***:\n",
      "correlation related to cluster centre: 0.90\n",
      "r2 score related to cluster centre: 0.81\n"
     ]
    },
    {
     "data": {
      "application/vnd.jupyter.widget-view+json": {
       "model_id": "9d62acb0c31940cf818d48b91b4170ad",
       "version_major": 2,
       "version_minor": 0
      },
      "text/plain": [
       "IntProgress(value=0, max=207)"
      ]
     },
     "metadata": {},
     "output_type": "display_data"
    },
    {
     "name": "stdout",
     "output_type": "stream",
     "text": [
      "***VALIDATION***:\n",
      "average correlation: 0.90\n",
      "average r2: 0.80\n",
      "---do_investigations. cluster index : 3---\n"
     ]
    },
    {
     "data": {
      "application/vnd.jupyter.widget-view+json": {
       "model_id": "2c8721b608d34e2b9ee8760688952d2c",
       "version_major": 2,
       "version_minor": 0
      },
      "text/plain": [
       "IntProgress(value=0, max=118)"
      ]
     },
     "metadata": {},
     "output_type": "display_data"
    },
    {
     "name": "stdout",
     "output_type": "stream",
     "text": [
      "Epoch 1/20\n",
      "368/368 [==============================] - 4s 6ms/step - loss: 0.2782 - mean_absolute_error: 0.3343 - val_loss: 0.2249 - val_mean_absolute_error: 0.2949\n",
      "Epoch 2/20\n",
      "368/368 [==============================] - 2s 5ms/step - loss: 0.2084 - mean_absolute_error: 0.2858 - val_loss: 0.2166 - val_mean_absolute_error: 0.2795\n",
      "Epoch 3/20\n",
      "368/368 [==============================] - 2s 5ms/step - loss: 0.2058 - mean_absolute_error: 0.2843 - val_loss: 0.2216 - val_mean_absolute_error: 0.2915\n",
      "Epoch 4/20\n",
      "368/368 [==============================] - 2s 5ms/step - loss: 0.2073 - mean_absolute_error: 0.2840 - val_loss: 0.2188 - val_mean_absolute_error: 0.2984\n",
      "***TRAIN***:\n",
      "correlation related to cluster centre: 0.89\n",
      "r2 score related to cluster centre: 0.79\n",
      "***VALIDATION***:\n",
      "correlation related to cluster centre: 0.90\n",
      "r2 score related to cluster centre: 0.81\n"
     ]
    },
    {
     "data": {
      "application/vnd.jupyter.widget-view+json": {
       "model_id": "8cdb93e7e27848e4b20a102fcd259e63",
       "version_major": 2,
       "version_minor": 0
      },
      "text/plain": [
       "IntProgress(value=0, max=118)"
      ]
     },
     "metadata": {},
     "output_type": "display_data"
    },
    {
     "name": "stdout",
     "output_type": "stream",
     "text": [
      "***VALIDATION***:\n",
      "average correlation: 0.90\n",
      "average r2: 0.79\n",
      "---do_investigations. cluster index : 4---\n"
     ]
    },
    {
     "data": {
      "application/vnd.jupyter.widget-view+json": {
       "model_id": "8f15fadc7b1d46088c28b1b85cc1a747",
       "version_major": 2,
       "version_minor": 0
      },
      "text/plain": [
       "IntProgress(value=0, max=119)"
      ]
     },
     "metadata": {},
     "output_type": "display_data"
    },
    {
     "name": "stdout",
     "output_type": "stream",
     "text": [
      "Epoch 1/20\n",
      "368/368 [==============================] - 5s 6ms/step - loss: 0.2782 - mean_absolute_error: 0.3403 - val_loss: 0.1911 - val_mean_absolute_error: 0.2781\n",
      "Epoch 2/20\n",
      "368/368 [==============================] - 2s 5ms/step - loss: 0.2072 - mean_absolute_error: 0.2909 - val_loss: 0.1890 - val_mean_absolute_error: 0.2755\n",
      "Epoch 3/20\n",
      "368/368 [==============================] - 2s 5ms/step - loss: 0.2064 - mean_absolute_error: 0.2901 - val_loss: 0.1888 - val_mean_absolute_error: 0.2725\n",
      "Epoch 4/20\n",
      "368/368 [==============================] - 2s 5ms/step - loss: 0.2057 - mean_absolute_error: 0.2886 - val_loss: 0.1884 - val_mean_absolute_error: 0.2764\n",
      "Epoch 5/20\n",
      "368/368 [==============================] - 2s 5ms/step - loss: 0.2054 - mean_absolute_error: 0.2884 - val_loss: 0.1885 - val_mean_absolute_error: 0.2793\n",
      "Epoch 6/20\n",
      "368/368 [==============================] - 2s 5ms/step - loss: 0.2062 - mean_absolute_error: 0.2886 - val_loss: 0.1879 - val_mean_absolute_error: 0.2815\n",
      "Epoch 7/20\n",
      "368/368 [==============================] - 2s 5ms/step - loss: 0.2052 - mean_absolute_error: 0.2883 - val_loss: 0.1885 - val_mean_absolute_error: 0.2693\n",
      "Epoch 8/20\n",
      "368/368 [==============================] - 2s 5ms/step - loss: 0.2048 - mean_absolute_error: 0.2878 - val_loss: 0.1888 - val_mean_absolute_error: 0.2826\n",
      "***TRAIN***:\n",
      "correlation related to cluster centre: 0.89\n",
      "r2 score related to cluster centre: 0.80\n",
      "***VALIDATION***:\n",
      "correlation related to cluster centre: 0.91\n",
      "r2 score related to cluster centre: 0.82\n"
     ]
    },
    {
     "data": {
      "application/vnd.jupyter.widget-view+json": {
       "model_id": "c995dd5018724ea4b3a9404b4edae6b3",
       "version_major": 2,
       "version_minor": 0
      },
      "text/plain": [
       "IntProgress(value=0, max=119)"
      ]
     },
     "metadata": {},
     "output_type": "display_data"
    },
    {
     "name": "stdout",
     "output_type": "stream",
     "text": [
      "***VALIDATION***:\n",
      "average correlation: 0.90\n",
      "average r2: 0.81\n",
      "---do_investigations. cluster index : 5---\n"
     ]
    },
    {
     "data": {
      "application/vnd.jupyter.widget-view+json": {
       "model_id": "8d03c757018e442f93affbaba0db48f2",
       "version_major": 2,
       "version_minor": 0
      },
      "text/plain": [
       "IntProgress(value=0, max=377)"
      ]
     },
     "metadata": {},
     "output_type": "display_data"
    },
    {
     "name": "stdout",
     "output_type": "stream",
     "text": [
      "Epoch 1/20\n",
      "368/368 [==============================] - 5s 6ms/step - loss: 0.2893 - mean_absolute_error: 0.3230 - val_loss: 0.2599 - val_mean_absolute_error: 0.2759\n",
      "Epoch 2/20\n",
      "368/368 [==============================] - 2s 5ms/step - loss: 0.2058 - mean_absolute_error: 0.2729 - val_loss: 0.2663 - val_mean_absolute_error: 0.2890\n",
      "Epoch 3/20\n",
      "368/368 [==============================] - 2s 5ms/step - loss: 0.2058 - mean_absolute_error: 0.2737 - val_loss: 0.2602 - val_mean_absolute_error: 0.2881\n",
      "***TRAIN***:\n",
      "correlation related to cluster centre: 0.89\n",
      "r2 score related to cluster centre: 0.80\n",
      "***VALIDATION***:\n",
      "correlation related to cluster centre: 0.90\n",
      "r2 score related to cluster centre: 0.80\n"
     ]
    },
    {
     "data": {
      "application/vnd.jupyter.widget-view+json": {
       "model_id": "59747ae1290c40428a287966c5e0f6b2",
       "version_major": 2,
       "version_minor": 0
      },
      "text/plain": [
       "IntProgress(value=0, max=377)"
      ]
     },
     "metadata": {},
     "output_type": "display_data"
    },
    {
     "name": "stdout",
     "output_type": "stream",
     "text": [
      "***VALIDATION***:\n",
      "average correlation: 0.88\n",
      "average r2: 0.75\n",
      "---do_investigations. cluster index : 6---\n"
     ]
    },
    {
     "data": {
      "application/vnd.jupyter.widget-view+json": {
       "model_id": "1bfaa9ce74354e6c8cc59bc19cc82c04",
       "version_major": 2,
       "version_minor": 0
      },
      "text/plain": [
       "IntProgress(value=0, max=160)"
      ]
     },
     "metadata": {},
     "output_type": "display_data"
    },
    {
     "name": "stdout",
     "output_type": "stream",
     "text": [
      "Epoch 1/20\n",
      "368/368 [==============================] - 4s 6ms/step - loss: 0.2779 - mean_absolute_error: 0.3723 - val_loss: 0.1880 - val_mean_absolute_error: 0.2975\n",
      "Epoch 2/20\n",
      "368/368 [==============================] - 2s 5ms/step - loss: 0.2064 - mean_absolute_error: 0.3178 - val_loss: 0.1871 - val_mean_absolute_error: 0.2942\n",
      "Epoch 3/20\n",
      "368/368 [==============================] - 2s 5ms/step - loss: 0.2057 - mean_absolute_error: 0.3170 - val_loss: 0.1849 - val_mean_absolute_error: 0.2955\n",
      "Epoch 4/20\n",
      "368/368 [==============================] - 2s 5ms/step - loss: 0.2053 - mean_absolute_error: 0.3164 - val_loss: 0.1850 - val_mean_absolute_error: 0.2950\n",
      "Epoch 5/20\n",
      "368/368 [==============================] - 2s 5ms/step - loss: 0.2056 - mean_absolute_error: 0.3169 - val_loss: 0.1851 - val_mean_absolute_error: 0.2938\n",
      "***TRAIN***:\n",
      "correlation related to cluster centre: 0.89\n",
      "r2 score related to cluster centre: 0.80\n",
      "***VALIDATION***:\n",
      "correlation related to cluster centre: 0.91\n",
      "r2 score related to cluster centre: 0.82\n"
     ]
    },
    {
     "data": {
      "application/vnd.jupyter.widget-view+json": {
       "model_id": "22151aba20cb4b649de0d2eb6c75eff4",
       "version_major": 2,
       "version_minor": 0
      },
      "text/plain": [
       "IntProgress(value=0, max=160)"
      ]
     },
     "metadata": {},
     "output_type": "display_data"
    },
    {
     "name": "stdout",
     "output_type": "stream",
     "text": [
      "***VALIDATION***:\n",
      "average correlation: 0.90\n",
      "average r2: 0.81\n",
      "---do_investigations. cluster index : 7---\n"
     ]
    },
    {
     "data": {
      "application/vnd.jupyter.widget-view+json": {
       "model_id": "3ad33e95f50d494bac7a6c21d7cf2027",
       "version_major": 2,
       "version_minor": 0
      },
      "text/plain": [
       "IntProgress(value=0, max=303)"
      ]
     },
     "metadata": {},
     "output_type": "display_data"
    },
    {
     "name": "stdout",
     "output_type": "stream",
     "text": [
      "Epoch 1/20\n",
      "368/368 [==============================] - 4s 6ms/step - loss: 0.1001 - mean_absolute_error: 0.1754 - val_loss: 0.0365 - val_mean_absolute_error: 0.0987\n",
      "Epoch 2/20\n",
      "368/368 [==============================] - 2s 5ms/step - loss: 0.0387 - mean_absolute_error: 0.1080 - val_loss: 0.0300 - val_mean_absolute_error: 0.0876\n",
      "Epoch 3/20\n",
      "368/368 [==============================] - 2s 5ms/step - loss: 0.0369 - mean_absolute_error: 0.1048 - val_loss: 0.0276 - val_mean_absolute_error: 0.0870\n",
      "Epoch 4/20\n",
      "368/368 [==============================] - 2s 5ms/step - loss: 0.0365 - mean_absolute_error: 0.1037 - val_loss: 0.0270 - val_mean_absolute_error: 0.0835\n",
      "Epoch 5/20\n",
      "368/368 [==============================] - 2s 5ms/step - loss: 0.0365 - mean_absolute_error: 0.1035 - val_loss: 0.0279 - val_mean_absolute_error: 0.0891\n",
      "Epoch 6/20\n",
      "368/368 [==============================] - 2s 5ms/step - loss: 0.0362 - mean_absolute_error: 0.1026 - val_loss: 0.0292 - val_mean_absolute_error: 0.0882\n",
      "***TRAIN***:\n",
      "correlation related to cluster centre: 0.98\n",
      "r2 score related to cluster centre: 0.96\n",
      "***VALIDATION***:\n",
      "correlation related to cluster centre: 0.97\n",
      "r2 score related to cluster centre: 0.95\n"
     ]
    },
    {
     "data": {
      "application/vnd.jupyter.widget-view+json": {
       "model_id": "d4e2342bdfa84f4eb63353225b9e7406",
       "version_major": 2,
       "version_minor": 0
      },
      "text/plain": [
       "IntProgress(value=0, max=303)"
      ]
     },
     "metadata": {},
     "output_type": "display_data"
    },
    {
     "name": "stdout",
     "output_type": "stream",
     "text": [
      "***VALIDATION***:\n",
      "average correlation: 0.88\n",
      "average r2: 0.73\n",
      "---do_investigations. cluster index : 8---\n"
     ]
    },
    {
     "data": {
      "application/vnd.jupyter.widget-view+json": {
       "model_id": "5a915daef7d24333930b405c320ac222",
       "version_major": 2,
       "version_minor": 0
      },
      "text/plain": [
       "IntProgress(value=0, max=133)"
      ]
     },
     "metadata": {},
     "output_type": "display_data"
    },
    {
     "name": "stdout",
     "output_type": "stream",
     "text": [
      "Epoch 1/20\n",
      "368/368 [==============================] - 5s 6ms/step - loss: 0.2625 - mean_absolute_error: 0.3412 - val_loss: 0.1726 - val_mean_absolute_error: 0.2873\n",
      "Epoch 2/20\n",
      "368/368 [==============================] - 2s 5ms/step - loss: 0.2073 - mean_absolute_error: 0.2980 - val_loss: 0.1719 - val_mean_absolute_error: 0.2848\n",
      "Epoch 3/20\n",
      "368/368 [==============================] - 2s 5ms/step - loss: 0.2062 - mean_absolute_error: 0.2977 - val_loss: 0.1740 - val_mean_absolute_error: 0.2913\n",
      "Epoch 4/20\n",
      "368/368 [==============================] - 2s 5ms/step - loss: 0.2079 - mean_absolute_error: 0.2990 - val_loss: 0.1716 - val_mean_absolute_error: 0.2852\n",
      "Epoch 5/20\n",
      "368/368 [==============================] - 2s 5ms/step - loss: 0.2056 - mean_absolute_error: 0.2965 - val_loss: 0.1723 - val_mean_absolute_error: 0.2888\n",
      "Epoch 6/20\n",
      "368/368 [==============================] - 2s 5ms/step - loss: 0.2065 - mean_absolute_error: 0.2973 - val_loss: 0.1718 - val_mean_absolute_error: 0.2878\n",
      "***TRAIN***:\n",
      "correlation related to cluster centre: 0.89\n",
      "r2 score related to cluster centre: 0.80\n",
      "***VALIDATION***:\n",
      "correlation related to cluster centre: 0.91\n",
      "r2 score related to cluster centre: 0.82\n"
     ]
    },
    {
     "data": {
      "application/vnd.jupyter.widget-view+json": {
       "model_id": "3b83b77d382c433888c9546eb16ca4bc",
       "version_major": 2,
       "version_minor": 0
      },
      "text/plain": [
       "IntProgress(value=0, max=133)"
      ]
     },
     "metadata": {},
     "output_type": "display_data"
    },
    {
     "name": "stdout",
     "output_type": "stream",
     "text": [
      "***VALIDATION***:\n",
      "average correlation: 0.90\n",
      "average r2: 0.81\n",
      "---do_investigations. cluster index : 9---\n"
     ]
    },
    {
     "data": {
      "application/vnd.jupyter.widget-view+json": {
       "model_id": "c418865786bd414fbd7095817ff3c07c",
       "version_major": 2,
       "version_minor": 0
      },
      "text/plain": [
       "IntProgress(value=0, max=188)"
      ]
     },
     "metadata": {},
     "output_type": "display_data"
    },
    {
     "name": "stdout",
     "output_type": "stream",
     "text": [
      "Epoch 1/20\n",
      "368/368 [==============================] - 4s 6ms/step - loss: 0.2743 - mean_absolute_error: 0.3704 - val_loss: 0.1964 - val_mean_absolute_error: 0.3152\n",
      "Epoch 2/20\n",
      "368/368 [==============================] - 2s 5ms/step - loss: 0.2092 - mean_absolute_error: 0.3207 - val_loss: 0.1983 - val_mean_absolute_error: 0.3222\n",
      "Epoch 3/20\n",
      "368/368 [==============================] - 2s 5ms/step - loss: 0.2080 - mean_absolute_error: 0.3196 - val_loss: 0.2025 - val_mean_absolute_error: 0.3314\n",
      "***TRAIN***:\n",
      "correlation related to cluster centre: 0.89\n",
      "r2 score related to cluster centre: 0.79\n",
      "***VALIDATION***:\n",
      "correlation related to cluster centre: 0.90\n",
      "r2 score related to cluster centre: 0.81\n"
     ]
    },
    {
     "data": {
      "application/vnd.jupyter.widget-view+json": {
       "model_id": "027ae26edab84261afa24c29bed082a0",
       "version_major": 2,
       "version_minor": 0
      },
      "text/plain": [
       "IntProgress(value=0, max=188)"
      ]
     },
     "metadata": {},
     "output_type": "display_data"
    },
    {
     "name": "stdout",
     "output_type": "stream",
     "text": [
      "***VALIDATION***:\n",
      "average correlation: 0.90\n",
      "average r2: 0.78\n",
      "---do_investigations. cluster index : 10---\n"
     ]
    },
    {
     "data": {
      "application/vnd.jupyter.widget-view+json": {
       "model_id": "d44d9fed1f3f4107a2dde3e27b882cb7",
       "version_major": 2,
       "version_minor": 0
      },
      "text/plain": [
       "IntProgress(value=0, max=124)"
      ]
     },
     "metadata": {},
     "output_type": "display_data"
    },
    {
     "name": "stdout",
     "output_type": "stream",
     "text": [
      "Epoch 1/20\n",
      "368/368 [==============================] - 4s 6ms/step - loss: 0.2628 - mean_absolute_error: 0.3571 - val_loss: 0.1560 - val_mean_absolute_error: 0.2785\n",
      "Epoch 2/20\n",
      "368/368 [==============================] - 2s 5ms/step - loss: 0.1916 - mean_absolute_error: 0.3029 - val_loss: 0.1552 - val_mean_absolute_error: 0.2787\n",
      "Epoch 3/20\n",
      "368/368 [==============================] - 2s 5ms/step - loss: 0.1914 - mean_absolute_error: 0.3028 - val_loss: 0.1556 - val_mean_absolute_error: 0.2807\n",
      "Epoch 4/20\n",
      "368/368 [==============================] - 2s 5ms/step - loss: 0.1901 - mean_absolute_error: 0.3013 - val_loss: 0.1546 - val_mean_absolute_error: 0.2808\n",
      "Epoch 5/20\n",
      "368/368 [==============================] - 2s 5ms/step - loss: 0.1912 - mean_absolute_error: 0.3023 - val_loss: 0.1595 - val_mean_absolute_error: 0.2949\n",
      "Epoch 6/20\n",
      "368/368 [==============================] - 2s 5ms/step - loss: 0.1907 - mean_absolute_error: 0.3022 - val_loss: 0.1544 - val_mean_absolute_error: 0.2820\n",
      "Epoch 7/20\n",
      "368/368 [==============================] - 2s 5ms/step - loss: 0.1910 - mean_absolute_error: 0.3018 - val_loss: 0.1573 - val_mean_absolute_error: 0.2855\n",
      "Epoch 8/20\n",
      "368/368 [==============================] - 2s 5ms/step - loss: 0.1899 - mean_absolute_error: 0.3014 - val_loss: 0.1571 - val_mean_absolute_error: 0.2894\n",
      "***TRAIN***:\n",
      "correlation related to cluster centre: 0.90\n",
      "r2 score related to cluster centre: 0.81\n",
      "***VALIDATION***:\n",
      "correlation related to cluster centre: 0.91\n",
      "r2 score related to cluster centre: 0.83\n"
     ]
    },
    {
     "data": {
      "application/vnd.jupyter.widget-view+json": {
       "model_id": "b42f83ca81224bf690c7231427c89f89",
       "version_major": 2,
       "version_minor": 0
      },
      "text/plain": [
       "IntProgress(value=0, max=124)"
      ]
     },
     "metadata": {},
     "output_type": "display_data"
    },
    {
     "name": "stdout",
     "output_type": "stream",
     "text": [
      "***VALIDATION***:\n",
      "average correlation: 0.91\n",
      "average r2: 0.82\n",
      "---do_investigations. cluster index : 11---\n"
     ]
    },
    {
     "data": {
      "application/vnd.jupyter.widget-view+json": {
       "model_id": "83166effb37f4e83b2bd737475418701",
       "version_major": 2,
       "version_minor": 0
      },
      "text/plain": [
       "IntProgress(value=0, max=157)"
      ]
     },
     "metadata": {},
     "output_type": "display_data"
    },
    {
     "name": "stdout",
     "output_type": "stream",
     "text": [
      "Epoch 1/20\n",
      "368/368 [==============================] - 4s 6ms/step - loss: 0.2525 - mean_absolute_error: 0.3530 - val_loss: 0.1653 - val_mean_absolute_error: 0.2900\n",
      "Epoch 2/20\n",
      "368/368 [==============================] - 2s 5ms/step - loss: 0.1955 - mean_absolute_error: 0.3050 - val_loss: 0.1630 - val_mean_absolute_error: 0.2845\n",
      "Epoch 3/20\n",
      "368/368 [==============================] - 2s 5ms/step - loss: 0.1954 - mean_absolute_error: 0.3042 - val_loss: 0.1639 - val_mean_absolute_error: 0.2779\n",
      "Epoch 4/20\n",
      "368/368 [==============================] - 2s 5ms/step - loss: 0.1956 - mean_absolute_error: 0.3052 - val_loss: 0.1635 - val_mean_absolute_error: 0.2850\n",
      "***TRAIN***:\n",
      "correlation related to cluster centre: 0.90\n",
      "r2 score related to cluster centre: 0.81\n",
      "***VALIDATION***:\n",
      "correlation related to cluster centre: 0.91\n",
      "r2 score related to cluster centre: 0.83\n"
     ]
    },
    {
     "data": {
      "application/vnd.jupyter.widget-view+json": {
       "model_id": "d695b151a30b488fbd6163e471d45f83",
       "version_major": 2,
       "version_minor": 0
      },
      "text/plain": [
       "IntProgress(value=0, max=157)"
      ]
     },
     "metadata": {},
     "output_type": "display_data"
    },
    {
     "name": "stdout",
     "output_type": "stream",
     "text": [
      "***VALIDATION***:\n",
      "average correlation: 0.91\n",
      "average r2: 0.78\n",
      "---do_investigations. cluster index : 12---\n"
     ]
    },
    {
     "data": {
      "application/vnd.jupyter.widget-view+json": {
       "model_id": "2d4299d9ae854af38865a6a1a2e26e25",
       "version_major": 2,
       "version_minor": 0
      },
      "text/plain": [
       "IntProgress(value=0, max=2408)"
      ]
     },
     "metadata": {},
     "output_type": "display_data"
    },
    {
     "name": "stdout",
     "output_type": "stream",
     "text": [
      "Epoch 1/20\n",
      "368/368 [==============================] - 4s 6ms/step - loss: 0.1268 - mean_absolute_error: 0.2199 - val_loss: 0.0728 - val_mean_absolute_error: 0.1549\n",
      "Epoch 2/20\n",
      "368/368 [==============================] - 2s 5ms/step - loss: 0.0668 - mean_absolute_error: 0.1584 - val_loss: 0.0686 - val_mean_absolute_error: 0.1402\n",
      "Epoch 3/20\n",
      "368/368 [==============================] - 2s 5ms/step - loss: 0.0671 - mean_absolute_error: 0.1590 - val_loss: 0.0669 - val_mean_absolute_error: 0.1318\n",
      "Epoch 4/20\n",
      "368/368 [==============================] - 2s 5ms/step - loss: 0.0662 - mean_absolute_error: 0.1566 - val_loss: 0.0662 - val_mean_absolute_error: 0.1278\n",
      "Epoch 5/20\n",
      "368/368 [==============================] - 2s 5ms/step - loss: 0.0664 - mean_absolute_error: 0.1568 - val_loss: 0.0661 - val_mean_absolute_error: 0.1283\n",
      "Epoch 6/20\n",
      "368/368 [==============================] - 2s 5ms/step - loss: 0.0658 - mean_absolute_error: 0.1572 - val_loss: 0.0689 - val_mean_absolute_error: 0.1433\n",
      "Epoch 7/20\n",
      "368/368 [==============================] - 2s 5ms/step - loss: 0.0663 - mean_absolute_error: 0.1584 - val_loss: 0.0687 - val_mean_absolute_error: 0.1423\n",
      "***TRAIN***:\n",
      "correlation related to cluster centre: 0.97\n",
      "r2 score related to cluster centre: 0.93\n",
      "***VALIDATION***:\n",
      "correlation related to cluster centre: 0.94\n",
      "r2 score related to cluster centre: 0.87\n"
     ]
    },
    {
     "data": {
      "application/vnd.jupyter.widget-view+json": {
       "model_id": "2923ffbf2d5641dfb0693da1a5530144",
       "version_major": 2,
       "version_minor": 0
      },
      "text/plain": [
       "IntProgress(value=0, max=2408)"
      ]
     },
     "metadata": {},
     "output_type": "display_data"
    },
    {
     "name": "stdout",
     "output_type": "stream",
     "text": [
      "***VALIDATION***:\n",
      "average correlation: nan\n",
      "average r2: -571469422635176735801344.00\n",
      "---do_investigations. cluster index : 13---\n"
     ]
    },
    {
     "data": {
      "application/vnd.jupyter.widget-view+json": {
       "model_id": "14d19f46444641aaa32ae2eab2d8caee",
       "version_major": 2,
       "version_minor": 0
      },
      "text/plain": [
       "IntProgress(value=0, max=136)"
      ]
     },
     "metadata": {},
     "output_type": "display_data"
    },
    {
     "name": "stdout",
     "output_type": "stream",
     "text": [
      "Epoch 1/20\n",
      "368/368 [==============================] - 4s 6ms/step - loss: 0.2766 - mean_absolute_error: 0.3306 - val_loss: 0.2786 - val_mean_absolute_error: 0.3142\n",
      "Epoch 2/20\n",
      "368/368 [==============================] - 2s 5ms/step - loss: 0.2084 - mean_absolute_error: 0.2795 - val_loss: 0.2619 - val_mean_absolute_error: 0.3058\n",
      "Epoch 3/20\n",
      "368/368 [==============================] - 2s 5ms/step - loss: 0.2083 - mean_absolute_error: 0.2791 - val_loss: 0.2760 - val_mean_absolute_error: 0.3170\n",
      "Epoch 4/20\n",
      "368/368 [==============================] - 2s 5ms/step - loss: 0.2099 - mean_absolute_error: 0.2786 - val_loss: 0.2626 - val_mean_absolute_error: 0.2994\n",
      "***TRAIN***:\n",
      "correlation related to cluster centre: 0.89\n",
      "r2 score related to cluster centre: 0.79\n",
      "***VALIDATION***:\n",
      "correlation related to cluster centre: 0.90\n",
      "r2 score related to cluster centre: 0.80\n"
     ]
    },
    {
     "data": {
      "application/vnd.jupyter.widget-view+json": {
       "model_id": "9a166c2c831e40d7a9a2ea99372c293a",
       "version_major": 2,
       "version_minor": 0
      },
      "text/plain": [
       "IntProgress(value=0, max=136)"
      ]
     },
     "metadata": {},
     "output_type": "display_data"
    },
    {
     "name": "stdout",
     "output_type": "stream",
     "text": [
      "***VALIDATION***:\n",
      "average correlation: 0.90\n",
      "average r2: 0.79\n",
      "---do_investigations. cluster index : 14---\n"
     ]
    },
    {
     "data": {
      "application/vnd.jupyter.widget-view+json": {
       "model_id": "9ae32baf46aa457a8f1150e9c9dc5fd5",
       "version_major": 2,
       "version_minor": 0
      },
      "text/plain": [
       "IntProgress(value=0, max=99)"
      ]
     },
     "metadata": {},
     "output_type": "display_data"
    },
    {
     "name": "stdout",
     "output_type": "stream",
     "text": [
      "Epoch 1/20\n",
      "368/368 [==============================] - 4s 6ms/step - loss: 0.2675 - mean_absolute_error: 0.3542 - val_loss: 0.1385 - val_mean_absolute_error: 0.2630\n",
      "Epoch 2/20\n",
      "368/368 [==============================] - 2s 5ms/step - loss: 0.2040 - mean_absolute_error: 0.3068 - val_loss: 0.1399 - val_mean_absolute_error: 0.2697\n",
      "Epoch 3/20\n",
      "368/368 [==============================] - 2s 5ms/step - loss: 0.2041 - mean_absolute_error: 0.3068 - val_loss: 0.1417 - val_mean_absolute_error: 0.2719\n",
      "***TRAIN***:\n",
      "correlation related to cluster centre: 0.89\n",
      "r2 score related to cluster centre: 0.80\n",
      "***VALIDATION***:\n",
      "correlation related to cluster centre: 0.91\n",
      "r2 score related to cluster centre: 0.82\n"
     ]
    },
    {
     "data": {
      "application/vnd.jupyter.widget-view+json": {
       "model_id": "85d4205bc36442f5ad17d01a979e7799",
       "version_major": 2,
       "version_minor": 0
      },
      "text/plain": [
       "IntProgress(value=0, max=99)"
      ]
     },
     "metadata": {},
     "output_type": "display_data"
    },
    {
     "name": "stdout",
     "output_type": "stream",
     "text": [
      "***VALIDATION***:\n",
      "average correlation: 0.91\n",
      "average r2: 0.82\n",
      "---do_investigations. cluster index : 15---\n"
     ]
    },
    {
     "data": {
      "application/vnd.jupyter.widget-view+json": {
       "model_id": "7823211220c94e97b4bf2f415b74aa1c",
       "version_major": 2,
       "version_minor": 0
      },
      "text/plain": [
       "IntProgress(value=0, max=241)"
      ]
     },
     "metadata": {},
     "output_type": "display_data"
    },
    {
     "name": "stdout",
     "output_type": "stream",
     "text": [
      "Epoch 1/20\n",
      "368/368 [==============================] - 4s 6ms/step - loss: 0.2652 - mean_absolute_error: 0.3399 - val_loss: 0.1668 - val_mean_absolute_error: 0.2496\n",
      "Epoch 2/20\n",
      "368/368 [==============================] - 2s 5ms/step - loss: 0.2007 - mean_absolute_error: 0.2926 - val_loss: 0.1643 - val_mean_absolute_error: 0.2500\n",
      "Epoch 3/20\n",
      "368/368 [==============================] - 2s 5ms/step - loss: 0.1991 - mean_absolute_error: 0.2915 - val_loss: 0.1638 - val_mean_absolute_error: 0.2507\n",
      "Epoch 4/20\n",
      "368/368 [==============================] - 2s 5ms/step - loss: 0.1981 - mean_absolute_error: 0.2898 - val_loss: 0.1704 - val_mean_absolute_error: 0.2498\n",
      "Epoch 5/20\n",
      "368/368 [==============================] - 2s 5ms/step - loss: 0.1977 - mean_absolute_error: 0.2899 - val_loss: 0.1653 - val_mean_absolute_error: 0.2544\n",
      "***TRAIN***:\n",
      "correlation related to cluster centre: 0.90\n",
      "r2 score related to cluster centre: 0.80\n",
      "***VALIDATION***:\n",
      "correlation related to cluster centre: 0.90\n",
      "r2 score related to cluster centre: 0.81\n"
     ]
    },
    {
     "data": {
      "application/vnd.jupyter.widget-view+json": {
       "model_id": "1ee2c480d7eb436e89197fe0b6a10e7a",
       "version_major": 2,
       "version_minor": 0
      },
      "text/plain": [
       "IntProgress(value=0, max=241)"
      ]
     },
     "metadata": {},
     "output_type": "display_data"
    },
    {
     "name": "stdout",
     "output_type": "stream",
     "text": [
      "***VALIDATION***:\n",
      "average correlation: 0.89\n",
      "average r2: 0.78\n",
      "---do_investigations. cluster index : 16---\n"
     ]
    },
    {
     "data": {
      "application/vnd.jupyter.widget-view+json": {
       "model_id": "67d1305dfd42471c8694babeedfa9359",
       "version_major": 2,
       "version_minor": 0
      },
      "text/plain": [
       "IntProgress(value=0, max=140)"
      ]
     },
     "metadata": {},
     "output_type": "display_data"
    },
    {
     "name": "stdout",
     "output_type": "stream",
     "text": [
      "Epoch 1/20\n",
      "368/368 [==============================] - 5s 6ms/step - loss: 0.2679 - mean_absolute_error: 0.3550 - val_loss: 0.1662 - val_mean_absolute_error: 0.2807\n",
      "Epoch 2/20\n",
      "368/368 [==============================] - 2s 5ms/step - loss: 0.1908 - mean_absolute_error: 0.2972 - val_loss: 0.1621 - val_mean_absolute_error: 0.2728\n",
      "Epoch 3/20\n",
      "368/368 [==============================] - 2s 5ms/step - loss: 0.1900 - mean_absolute_error: 0.2965 - val_loss: 0.1614 - val_mean_absolute_error: 0.2755\n",
      "Epoch 4/20\n",
      "368/368 [==============================] - 2s 5ms/step - loss: 0.1889 - mean_absolute_error: 0.2948 - val_loss: 0.1636 - val_mean_absolute_error: 0.2763\n",
      "Epoch 5/20\n",
      "368/368 [==============================] - 2s 5ms/step - loss: 0.1889 - mean_absolute_error: 0.2945 - val_loss: 0.1636 - val_mean_absolute_error: 0.2762\n",
      "***TRAIN***:\n",
      "correlation related to cluster centre: 0.90\n",
      "r2 score related to cluster centre: 0.81\n",
      "***VALIDATION***:\n",
      "correlation related to cluster centre: 0.91\n",
      "r2 score related to cluster centre: 0.82\n"
     ]
    },
    {
     "data": {
      "application/vnd.jupyter.widget-view+json": {
       "model_id": "b65bd638c52e4579b349cff859aec631",
       "version_major": 2,
       "version_minor": 0
      },
      "text/plain": [
       "IntProgress(value=0, max=140)"
      ]
     },
     "metadata": {},
     "output_type": "display_data"
    },
    {
     "name": "stdout",
     "output_type": "stream",
     "text": [
      "***VALIDATION***:\n",
      "average correlation: 0.92\n",
      "average r2: 0.76\n",
      "---do_investigations. cluster index : 17---\n"
     ]
    },
    {
     "data": {
      "application/vnd.jupyter.widget-view+json": {
       "model_id": "22e5a59df76b4bed820a5762141b29bd",
       "version_major": 2,
       "version_minor": 0
      },
      "text/plain": [
       "IntProgress(value=0, max=436)"
      ]
     },
     "metadata": {},
     "output_type": "display_data"
    },
    {
     "name": "stdout",
     "output_type": "stream",
     "text": [
      "Epoch 1/20\n",
      "368/368 [==============================] - 4s 6ms/step - loss: 0.0684 - mean_absolute_error: 0.1418 - val_loss: 0.0371 - val_mean_absolute_error: 0.0886\n",
      "Epoch 2/20\n",
      "368/368 [==============================] - 2s 5ms/step - loss: 0.0208 - mean_absolute_error: 0.0823 - val_loss: 0.0285 - val_mean_absolute_error: 0.0670\n",
      "Epoch 3/20\n",
      "368/368 [==============================] - 2s 5ms/step - loss: 0.0184 - mean_absolute_error: 0.0762 - val_loss: 0.0278 - val_mean_absolute_error: 0.0685\n",
      "Epoch 4/20\n",
      "368/368 [==============================] - 2s 5ms/step - loss: 0.0178 - mean_absolute_error: 0.0730 - val_loss: 0.0272 - val_mean_absolute_error: 0.0678\n",
      "Epoch 5/20\n",
      "368/368 [==============================] - 2s 5ms/step - loss: 0.0178 - mean_absolute_error: 0.0742 - val_loss: 0.0291 - val_mean_absolute_error: 0.0823\n",
      "Epoch 6/20\n",
      "368/368 [==============================] - 2s 5ms/step - loss: 0.0176 - mean_absolute_error: 0.0737 - val_loss: 0.0270 - val_mean_absolute_error: 0.0660\n",
      "Epoch 7/20\n",
      "368/368 [==============================] - 2s 5ms/step - loss: 0.0176 - mean_absolute_error: 0.0741 - val_loss: 0.0268 - val_mean_absolute_error: 0.0650\n",
      "Epoch 8/20\n",
      "368/368 [==============================] - 2s 5ms/step - loss: 0.0177 - mean_absolute_error: 0.0747 - val_loss: 0.0266 - val_mean_absolute_error: 0.0656\n",
      "Epoch 9/20\n",
      "368/368 [==============================] - 2s 5ms/step - loss: 0.0175 - mean_absolute_error: 0.0733 - val_loss: 0.0287 - val_mean_absolute_error: 0.0818\n",
      "Epoch 10/20\n",
      "368/368 [==============================] - 2s 5ms/step - loss: 0.0176 - mean_absolute_error: 0.0739 - val_loss: 0.0267 - val_mean_absolute_error: 0.0654\n",
      "***TRAIN***:\n",
      "correlation related to cluster centre: 0.99\n",
      "r2 score related to cluster centre: 0.98\n",
      "***VALIDATION***:\n",
      "correlation related to cluster centre: 0.97\n",
      "r2 score related to cluster centre: 0.93\n"
     ]
    },
    {
     "data": {
      "application/vnd.jupyter.widget-view+json": {
       "model_id": "e51703a4b39748db9c4a773b5e7b8818",
       "version_major": 2,
       "version_minor": 0
      },
      "text/plain": [
       "IntProgress(value=0, max=436)"
      ]
     },
     "metadata": {},
     "output_type": "display_data"
    },
    {
     "name": "stdout",
     "output_type": "stream",
     "text": [
      "***VALIDATION***:\n",
      "average correlation: 0.88\n",
      "average r2: 0.75\n",
      "---do_investigations. cluster index : 18---\n"
     ]
    },
    {
     "data": {
      "application/vnd.jupyter.widget-view+json": {
       "model_id": "34233d6801a34414ac738b723d279709",
       "version_major": 2,
       "version_minor": 0
      },
      "text/plain": [
       "IntProgress(value=0, max=264)"
      ]
     },
     "metadata": {},
     "output_type": "display_data"
    },
    {
     "name": "stdout",
     "output_type": "stream",
     "text": [
      "Epoch 1/20\n",
      "368/368 [==============================] - 4s 6ms/step - loss: 0.2395 - mean_absolute_error: 0.3181 - val_loss: 0.1386 - val_mean_absolute_error: 0.2367\n",
      "Epoch 2/20\n",
      "368/368 [==============================] - 2s 5ms/step - loss: 0.1670 - mean_absolute_error: 0.2625 - val_loss: 0.1377 - val_mean_absolute_error: 0.2339\n",
      "Epoch 3/20\n",
      "368/368 [==============================] - 2s 5ms/step - loss: 0.1657 - mean_absolute_error: 0.2610 - val_loss: 0.1378 - val_mean_absolute_error: 0.2320\n",
      "Epoch 4/20\n",
      "368/368 [==============================] - 2s 5ms/step - loss: 0.1656 - mean_absolute_error: 0.2616 - val_loss: 0.1371 - val_mean_absolute_error: 0.2332\n",
      "Epoch 5/20\n",
      "368/368 [==============================] - 2s 5ms/step - loss: 0.1664 - mean_absolute_error: 0.2617 - val_loss: 0.1380 - val_mean_absolute_error: 0.2382\n",
      "Epoch 6/20\n",
      "368/368 [==============================] - 2s 5ms/step - loss: 0.1654 - mean_absolute_error: 0.2614 - val_loss: 0.1371 - val_mean_absolute_error: 0.2342\n",
      "Epoch 7/20\n",
      "368/368 [==============================] - 2s 5ms/step - loss: 0.1650 - mean_absolute_error: 0.2611 - val_loss: 0.1388 - val_mean_absolute_error: 0.2296\n",
      "Epoch 8/20\n",
      "368/368 [==============================] - 2s 5ms/step - loss: 0.1650 - mean_absolute_error: 0.2607 - val_loss: 0.1374 - val_mean_absolute_error: 0.2295\n",
      "***TRAIN***:\n",
      "correlation related to cluster centre: 0.92\n",
      "r2 score related to cluster centre: 0.84\n",
      "***VALIDATION***:\n",
      "correlation related to cluster centre: 0.92\n",
      "r2 score related to cluster centre: 0.85\n"
     ]
    },
    {
     "data": {
      "application/vnd.jupyter.widget-view+json": {
       "model_id": "862ba0ad337d4174afa6cc7b9a58bf08",
       "version_major": 2,
       "version_minor": 0
      },
      "text/plain": [
       "IntProgress(value=0, max=264)"
      ]
     },
     "metadata": {},
     "output_type": "display_data"
    },
    {
     "name": "stdout",
     "output_type": "stream",
     "text": [
      "***VALIDATION***:\n",
      "average correlation: 0.90\n",
      "average r2: 0.78\n",
      "---do_investigations. cluster index : 19---\n"
     ]
    },
    {
     "data": {
      "application/vnd.jupyter.widget-view+json": {
       "model_id": "6cfefbf83a174ebd9caff91d3c9449cf",
       "version_major": 2,
       "version_minor": 0
      },
      "text/plain": [
       "IntProgress(value=0, max=197)"
      ]
     },
     "metadata": {},
     "output_type": "display_data"
    },
    {
     "name": "stdout",
     "output_type": "stream",
     "text": [
      "Epoch 1/20\n",
      "368/368 [==============================] - 5s 6ms/step - loss: 0.2496 - mean_absolute_error: 0.3470 - val_loss: 0.1700 - val_mean_absolute_error: 0.2819\n",
      "Epoch 2/20\n",
      "368/368 [==============================] - 2s 5ms/step - loss: 0.1879 - mean_absolute_error: 0.2971 - val_loss: 0.1707 - val_mean_absolute_error: 0.2835\n",
      "Epoch 3/20\n",
      "368/368 [==============================] - 2s 5ms/step - loss: 0.1873 - mean_absolute_error: 0.2970 - val_loss: 0.1713 - val_mean_absolute_error: 0.2809\n",
      "***TRAIN***:\n",
      "correlation related to cluster centre: 0.90\n",
      "r2 score related to cluster centre: 0.81\n",
      "***VALIDATION***:\n",
      "correlation related to cluster centre: 0.91\n",
      "r2 score related to cluster centre: 0.83\n"
     ]
    },
    {
     "data": {
      "application/vnd.jupyter.widget-view+json": {
       "model_id": "0f501dd5416344a9ac08bf7eb3cee810",
       "version_major": 2,
       "version_minor": 0
      },
      "text/plain": [
       "IntProgress(value=0, max=197)"
      ]
     },
     "metadata": {},
     "output_type": "display_data"
    },
    {
     "name": "stdout",
     "output_type": "stream",
     "text": [
      "***VALIDATION***:\n",
      "average correlation: 0.91\n",
      "average r2: 0.80\n",
      "---do_investigations. cluster index : 20---\n"
     ]
    },
    {
     "data": {
      "application/vnd.jupyter.widget-view+json": {
       "model_id": "9119d2b04a1e4c2688eb5cc0909a3e57",
       "version_major": 2,
       "version_minor": 0
      },
      "text/plain": [
       "IntProgress(value=0, max=1412)"
      ]
     },
     "metadata": {},
     "output_type": "display_data"
    },
    {
     "name": "stdout",
     "output_type": "stream",
     "text": [
      "Epoch 1/20\n",
      "368/368 [==============================] - 6s 6ms/step - loss: 0.1294 - mean_absolute_error: 0.2196 - val_loss: 0.0878 - val_mean_absolute_error: 0.1731\n",
      "Epoch 2/20\n",
      "368/368 [==============================] - 2s 5ms/step - loss: 0.0615 - mean_absolute_error: 0.1517 - val_loss: 0.0809 - val_mean_absolute_error: 0.1560\n",
      "Epoch 3/20\n",
      "368/368 [==============================] - 2s 5ms/step - loss: 0.0608 - mean_absolute_error: 0.1507 - val_loss: 0.0861 - val_mean_absolute_error: 0.1719\n",
      "Epoch 4/20\n",
      "368/368 [==============================] - 2s 5ms/step - loss: 0.0612 - mean_absolute_error: 0.1506 - val_loss: 0.0889 - val_mean_absolute_error: 0.1794\n",
      "***TRAIN***:\n",
      "correlation related to cluster centre: 0.97\n",
      "r2 score related to cluster centre: 0.94\n",
      "***VALIDATION***:\n",
      "correlation related to cluster centre: 0.93\n",
      "r2 score related to cluster centre: 0.84\n"
     ]
    },
    {
     "data": {
      "application/vnd.jupyter.widget-view+json": {
       "model_id": "ff2bace66f66471bb25f6774065e95d0",
       "version_major": 2,
       "version_minor": 0
      },
      "text/plain": [
       "IntProgress(value=0, max=1412)"
      ]
     },
     "metadata": {},
     "output_type": "display_data"
    },
    {
     "name": "stdout",
     "output_type": "stream",
     "text": [
      "***VALIDATION***:\n",
      "average correlation: nan\n",
      "average r2: -491376565520350873445728256.00\n",
      "---do_investigations. cluster index : 21---\n"
     ]
    },
    {
     "data": {
      "application/vnd.jupyter.widget-view+json": {
       "model_id": "cbfc3ca622334f089678543dc28cc9b4",
       "version_major": 2,
       "version_minor": 0
      },
      "text/plain": [
       "IntProgress(value=0, max=167)"
      ]
     },
     "metadata": {},
     "output_type": "display_data"
    },
    {
     "name": "stdout",
     "output_type": "stream",
     "text": [
      "Epoch 1/20\n",
      "368/368 [==============================] - 4s 6ms/step - loss: 0.2781 - mean_absolute_error: 0.3196 - val_loss: 0.2875 - val_mean_absolute_error: 0.2897\n",
      "Epoch 2/20\n",
      "368/368 [==============================] - 2s 5ms/step - loss: 0.2111 - mean_absolute_error: 0.2755 - val_loss: 0.2827 - val_mean_absolute_error: 0.2859\n",
      "Epoch 3/20\n",
      "368/368 [==============================] - 2s 5ms/step - loss: 0.2085 - mean_absolute_error: 0.2739 - val_loss: 0.2791 - val_mean_absolute_error: 0.2871\n",
      "Epoch 4/20\n",
      "368/368 [==============================] - 2s 5ms/step - loss: 0.2097 - mean_absolute_error: 0.2729 - val_loss: 0.2776 - val_mean_absolute_error: 0.2840\n",
      "Epoch 5/20\n",
      "368/368 [==============================] - 2s 5ms/step - loss: 0.2085 - mean_absolute_error: 0.2730 - val_loss: 0.2780 - val_mean_absolute_error: 0.2878\n",
      "Epoch 6/20\n",
      "368/368 [==============================] - 2s 5ms/step - loss: 0.2081 - mean_absolute_error: 0.2724 - val_loss: 0.2762 - val_mean_absolute_error: 0.2894\n",
      "Epoch 7/20\n",
      "368/368 [==============================] - 2s 5ms/step - loss: 0.2095 - mean_absolute_error: 0.2730 - val_loss: 0.2756 - val_mean_absolute_error: 0.2792\n",
      "Epoch 8/20\n",
      "368/368 [==============================] - 2s 5ms/step - loss: 0.2071 - mean_absolute_error: 0.2715 - val_loss: 0.2788 - val_mean_absolute_error: 0.2758\n",
      "Epoch 9/20\n",
      "368/368 [==============================] - 2s 5ms/step - loss: 0.2065 - mean_absolute_error: 0.2713 - val_loss: 0.2766 - val_mean_absolute_error: 0.2885\n",
      "***TRAIN***:\n",
      "correlation related to cluster centre: 0.89\n",
      "r2 score related to cluster centre: 0.80\n",
      "***VALIDATION***:\n",
      "correlation related to cluster centre: 0.90\n",
      "r2 score related to cluster centre: 0.80\n"
     ]
    },
    {
     "data": {
      "application/vnd.jupyter.widget-view+json": {
       "model_id": "06e7edce3c6f4f9595fb52f5c274cf9f",
       "version_major": 2,
       "version_minor": 0
      },
      "text/plain": [
       "IntProgress(value=0, max=167)"
      ]
     },
     "metadata": {},
     "output_type": "display_data"
    },
    {
     "name": "stdout",
     "output_type": "stream",
     "text": [
      "***VALIDATION***:\n",
      "average correlation: 0.89\n",
      "average r2: 0.79\n",
      "weighted_average_correlation: 0.90\n",
      "weighted_average_r2_score: 0.77\n",
      "bad clusters rate: 0.50%\n",
      "------------------------------------------------------\n"
     ]
    }
   ],
   "source": [
    "first_path = r\"C:\\Coding\\final-qualifying-work_2023-2024\\ClusteringCpp\\output\\kmeans 5 0.1 20.txt\"\n",
    "second_path = r\"C:\\Coding\\final-qualifying-work_2023-2024\\ClusteringCpp\\output\\kmeans 15 0.1 20.txt\"\n",
    "third_path = r\"C:\\Coding\\final-qualifying-work_2023-2024\\ClusteringCpp\\output\\kmeans 30 0.1 20.txt\"\n",
    "fourth_path = r\"C:\\Coding\\final-qualifying-work_2023-2024\\ClusteringCpp\\output\\kmeans 60 0.1 20.txt\"\n",
    "\n",
    "output_file = open(\"computational-experiments-output-kmeans.txt\", \"a\")\n",
    "\n",
    "selected_path = fourth_path\n",
    "\n",
    "print('------------------------------------------------------')\n",
    "output_file.write('------------------------------------------------------\\n')\n",
    "\n",
    "print(f\"lstm {os.path.split(selected_path)[-1]}\")\n",
    "output_file.write(f\"lstm {os.path.split(selected_path)[-1]}\\n\")\n",
    "show_results(lstm_model, get_clusters(selected_path), CONV_WIDTH)\n",
    "\n",
    "print('------------------------------------------------------')\n",
    "output_file.write('------------------------------------------------------\\n')\n",
    "\n",
    "output_file.close()"
   ]
  },
  {
   "cell_type": "code",
   "execution_count": 27,
   "id": "2dce9a94-32b8-4f15-9dc6-0c578537faa8",
   "metadata": {},
   "outputs": [
    {
     "name": "stdout",
     "output_type": "stream",
     "text": [
      "------------------------------------------------------\n",
      "rnn kmeans 5 0.1 20.txt\n",
      "---do_investigations. cluster index : 0---\n"
     ]
    },
    {
     "data": {
      "application/vnd.jupyter.widget-view+json": {
       "model_id": "43f55519c1b7443d91e24865ba7b39d4",
       "version_major": 2,
       "version_minor": 0
      },
      "text/plain": [
       "IntProgress(value=0, max=414)"
      ]
     },
     "metadata": {},
     "output_type": "display_data"
    },
    {
     "name": "stdout",
     "output_type": "stream",
     "text": [
      "Epoch 1/20\n",
      "368/368 [==============================] - 3s 4ms/step - loss: 0.2369 - mean_absolute_error: 0.3278 - val_loss: 0.1740 - val_mean_absolute_error: 0.2961\n",
      "Epoch 2/20\n",
      "368/368 [==============================] - 1s 4ms/step - loss: 0.2078 - mean_absolute_error: 0.3063 - val_loss: 0.1711 - val_mean_absolute_error: 0.2867\n",
      "Epoch 3/20\n",
      "368/368 [==============================] - 2s 4ms/step - loss: 0.2063 - mean_absolute_error: 0.3045 - val_loss: 0.1776 - val_mean_absolute_error: 0.2876\n",
      "Epoch 4/20\n",
      "368/368 [==============================] - 1s 4ms/step - loss: 0.2058 - mean_absolute_error: 0.3042 - val_loss: 0.1721 - val_mean_absolute_error: 0.2843\n",
      "***TRAIN***:\n",
      "correlation related to cluster centre: 0.89\n",
      "r2 score related to cluster centre: 0.80\n",
      "***VALIDATION***:\n",
      "correlation related to cluster centre: 0.91\n",
      "r2 score related to cluster centre: 0.82\n"
     ]
    },
    {
     "data": {
      "application/vnd.jupyter.widget-view+json": {
       "model_id": "2b5e7be1da03461dbc88cb0a604cca82",
       "version_major": 2,
       "version_minor": 0
      },
      "text/plain": [
       "IntProgress(value=0, max=414)"
      ]
     },
     "metadata": {},
     "output_type": "display_data"
    },
    {
     "name": "stdout",
     "output_type": "stream",
     "text": [
      "***VALIDATION***:\n",
      "average correlation: 0.91\n",
      "average r2: 0.76\n",
      "---do_investigations. cluster index : 1---\n"
     ]
    },
    {
     "data": {
      "application/vnd.jupyter.widget-view+json": {
       "model_id": "a039c934bf3446d888fe98f6b33782a7",
       "version_major": 2,
       "version_minor": 0
      },
      "text/plain": [
       "IntProgress(value=0, max=633)"
      ]
     },
     "metadata": {},
     "output_type": "display_data"
    },
    {
     "name": "stdout",
     "output_type": "stream",
     "text": [
      "Epoch 1/20\n",
      "368/368 [==============================] - 3s 5ms/step - loss: 0.2361 - mean_absolute_error: 0.3196 - val_loss: 0.1947 - val_mean_absolute_error: 0.2975\n",
      "Epoch 2/20\n",
      "368/368 [==============================] - 1s 4ms/step - loss: 0.2077 - mean_absolute_error: 0.2992 - val_loss: 0.1920 - val_mean_absolute_error: 0.2921\n",
      "Epoch 3/20\n",
      "368/368 [==============================] - 1s 4ms/step - loss: 0.2050 - mean_absolute_error: 0.2964 - val_loss: 0.1872 - val_mean_absolute_error: 0.2857\n",
      "Epoch 4/20\n",
      "368/368 [==============================] - 1s 4ms/step - loss: 0.2049 - mean_absolute_error: 0.2964 - val_loss: 0.1901 - val_mean_absolute_error: 0.2993\n",
      "Epoch 5/20\n",
      "368/368 [==============================] - 1s 4ms/step - loss: 0.2032 - mean_absolute_error: 0.2951 - val_loss: 0.1919 - val_mean_absolute_error: 0.2922\n",
      "***TRAIN***:\n",
      "correlation related to cluster centre: 0.89\n",
      "r2 score related to cluster centre: 0.80\n",
      "***VALIDATION***:\n",
      "correlation related to cluster centre: 0.91\n",
      "r2 score related to cluster centre: 0.82\n"
     ]
    },
    {
     "data": {
      "application/vnd.jupyter.widget-view+json": {
       "model_id": "ad619290bdef4ecdaf2eff8f6a8c818d",
       "version_major": 2,
       "version_minor": 0
      },
      "text/plain": [
       "IntProgress(value=0, max=633)"
      ]
     },
     "metadata": {},
     "output_type": "display_data"
    },
    {
     "name": "stdout",
     "output_type": "stream",
     "text": [
      "***VALIDATION***:\n",
      "average correlation: 0.90\n",
      "average r2: 0.73\n",
      "---do_investigations. cluster index : 2---\n"
     ]
    },
    {
     "data": {
      "application/vnd.jupyter.widget-view+json": {
       "model_id": "000444fdf34b4b7b81b28a3831c29590",
       "version_major": 2,
       "version_minor": 0
      },
      "text/plain": [
       "IntProgress(value=0, max=279)"
      ]
     },
     "metadata": {},
     "output_type": "display_data"
    },
    {
     "name": "stdout",
     "output_type": "stream",
     "text": [
      "Epoch 1/20\n",
      "368/368 [==============================] - 3s 5ms/step - loss: 0.2458 - mean_absolute_error: 0.3414 - val_loss: 0.1474 - val_mean_absolute_error: 0.2696\n",
      "Epoch 2/20\n",
      "368/368 [==============================] - 1s 4ms/step - loss: 0.2060 - mean_absolute_error: 0.3094 - val_loss: 0.1477 - val_mean_absolute_error: 0.2759\n",
      "Epoch 3/20\n",
      "368/368 [==============================] - 1s 4ms/step - loss: 0.2046 - mean_absolute_error: 0.3076 - val_loss: 0.1469 - val_mean_absolute_error: 0.2697\n",
      "Epoch 4/20\n",
      "368/368 [==============================] - 1s 4ms/step - loss: 0.2046 - mean_absolute_error: 0.3075 - val_loss: 0.1468 - val_mean_absolute_error: 0.2652\n",
      "Epoch 5/20\n",
      "368/368 [==============================] - 1s 4ms/step - loss: 0.2043 - mean_absolute_error: 0.3075 - val_loss: 0.1482 - val_mean_absolute_error: 0.2794\n",
      "Epoch 6/20\n",
      "368/368 [==============================] - 1s 4ms/step - loss: 0.2045 - mean_absolute_error: 0.3080 - val_loss: 0.1473 - val_mean_absolute_error: 0.2698\n",
      "***TRAIN***:\n",
      "correlation related to cluster centre: 0.89\n",
      "r2 score related to cluster centre: 0.80\n",
      "***VALIDATION***:\n",
      "correlation related to cluster centre: 0.91\n",
      "r2 score related to cluster centre: 0.82\n"
     ]
    },
    {
     "data": {
      "application/vnd.jupyter.widget-view+json": {
       "model_id": "e9fcbbd506944a93ae4e8e8605c9770a",
       "version_major": 2,
       "version_minor": 0
      },
      "text/plain": [
       "IntProgress(value=0, max=279)"
      ]
     },
     "metadata": {},
     "output_type": "display_data"
    },
    {
     "name": "stdout",
     "output_type": "stream",
     "text": [
      "***VALIDATION***:\n",
      "average correlation: 0.91\n",
      "average r2: 0.76\n",
      "---do_investigations. cluster index : 3---\n"
     ]
    },
    {
     "data": {
      "application/vnd.jupyter.widget-view+json": {
       "model_id": "465e2e90752b43e7a7987e0799387307",
       "version_major": 2,
       "version_minor": 0
      },
      "text/plain": [
       "IntProgress(value=0, max=1234)"
      ]
     },
     "metadata": {},
     "output_type": "display_data"
    },
    {
     "name": "stdout",
     "output_type": "stream",
     "text": [
      "Epoch 1/20\n",
      "368/368 [==============================] - 3s 4ms/step - loss: 0.2399 - mean_absolute_error: 0.3134 - val_loss: 0.2375 - val_mean_absolute_error: 0.3153\n",
      "Epoch 2/20\n",
      "368/368 [==============================] - 1s 4ms/step - loss: 0.2076 - mean_absolute_error: 0.2906 - val_loss: 0.2319 - val_mean_absolute_error: 0.2986\n",
      "Epoch 3/20\n",
      "368/368 [==============================] - 1s 4ms/step - loss: 0.2076 - mean_absolute_error: 0.2904 - val_loss: 0.2295 - val_mean_absolute_error: 0.2968\n",
      "Epoch 4/20\n",
      "368/368 [==============================] - 1s 4ms/step - loss: 0.2057 - mean_absolute_error: 0.2882 - val_loss: 0.2354 - val_mean_absolute_error: 0.2997\n",
      "Epoch 5/20\n",
      "368/368 [==============================] - 1s 4ms/step - loss: 0.2063 - mean_absolute_error: 0.2895 - val_loss: 0.2307 - val_mean_absolute_error: 0.3041\n",
      "***TRAIN***:\n",
      "correlation related to cluster centre: 0.89\n",
      "r2 score related to cluster centre: 0.80\n",
      "***VALIDATION***:\n",
      "correlation related to cluster centre: 0.90\n",
      "r2 score related to cluster centre: 0.81\n"
     ]
    },
    {
     "data": {
      "application/vnd.jupyter.widget-view+json": {
       "model_id": "ce2cb077ca364684995aae953e5dc2a7",
       "version_major": 2,
       "version_minor": 0
      },
      "text/plain": [
       "IntProgress(value=0, max=1234)"
      ]
     },
     "metadata": {},
     "output_type": "display_data"
    },
    {
     "name": "stdout",
     "output_type": "stream",
     "text": [
      "***VALIDATION***:\n",
      "average correlation: 0.88\n",
      "average r2: 0.41\n",
      "---do_investigations. cluster index : 4---\n"
     ]
    },
    {
     "data": {
      "application/vnd.jupyter.widget-view+json": {
       "model_id": "eab2be7bfe0e45228b9be77689b3a070",
       "version_major": 2,
       "version_minor": 0
      },
      "text/plain": [
       "IntProgress(value=0, max=5120)"
      ]
     },
     "metadata": {},
     "output_type": "display_data"
    },
    {
     "name": "stdout",
     "output_type": "stream",
     "text": [
      "Epoch 1/20\n",
      "368/368 [==============================] - 3s 5ms/step - loss: 0.2153 - mean_absolute_error: 0.2810 - val_loss: 0.2450 - val_mean_absolute_error: 0.2660\n",
      "Epoch 2/20\n",
      "368/368 [==============================] - 1s 4ms/step - loss: 0.1816 - mean_absolute_error: 0.2576 - val_loss: 0.2299 - val_mean_absolute_error: 0.2556\n",
      "Epoch 3/20\n",
      "368/368 [==============================] - 1s 4ms/step - loss: 0.1821 - mean_absolute_error: 0.2558 - val_loss: 0.2507 - val_mean_absolute_error: 0.2746\n",
      "Epoch 4/20\n",
      "368/368 [==============================] - 1s 4ms/step - loss: 0.1806 - mean_absolute_error: 0.2560 - val_loss: 0.2407 - val_mean_absolute_error: 0.2692\n",
      "***TRAIN***:\n",
      "correlation related to cluster centre: 0.91\n",
      "r2 score related to cluster centre: 0.82\n",
      "***VALIDATION***:\n",
      "correlation related to cluster centre: 0.89\n",
      "r2 score related to cluster centre: 0.78\n"
     ]
    },
    {
     "data": {
      "application/vnd.jupyter.widget-view+json": {
       "model_id": "ab8837b924764f20b7457b00e8373bd0",
       "version_major": 2,
       "version_minor": 0
      },
      "text/plain": [
       "IntProgress(value=0, max=5120)"
      ]
     },
     "metadata": {},
     "output_type": "display_data"
    },
    {
     "name": "stdout",
     "output_type": "stream",
     "text": [
      "***VALIDATION***:\n",
      "average correlation: nan\n",
      "average r2: -9578121990275752082167300096.00\n",
      "weighted_average_correlation: 0.90\n",
      "weighted_average_r2_score: 0.58\n",
      "bad clusters rate: 0.67%\n",
      "------------------------------------------------------\n"
     ]
    }
   ],
   "source": [
    "first_path = r\"C:\\Coding\\final-qualifying-work_2023-2024\\ClusteringCpp\\output\\kmeans 5 0.1 20.txt\"\n",
    "second_path = r\"C:\\Coding\\final-qualifying-work_2023-2024\\ClusteringCpp\\output\\kmeans 15 0.1 20.txt\"\n",
    "third_path = r\"C:\\Coding\\final-qualifying-work_2023-2024\\ClusteringCpp\\output\\kmeans 30 0.1 20.txt\"\n",
    "fourth_path = r\"C:\\Coding\\final-qualifying-work_2023-2024\\ClusteringCpp\\output\\kmeans 60 0.1 20.txt\"\n",
    "\n",
    "output_file = open(\"computational-experiments-output-kmeans.txt\", \"a\")\n",
    "\n",
    "selected_path = first_path\n",
    "\n",
    "print('------------------------------------------------------')\n",
    "output_file.write('------------------------------------------------------\\n')\n",
    "\n",
    "print(f\"rnn {os.path.split(selected_path)[-1]}\")\n",
    "output_file.write(f\"rnn {os.path.split(selected_path)[-1]}\\n\")\n",
    "show_results(rnn_model, get_clusters(selected_path), CONV_WIDTH)\n",
    "\n",
    "print('------------------------------------------------------')\n",
    "output_file.write('------------------------------------------------------\\n')\n",
    "\n",
    "output_file.close()"
   ]
  },
  {
   "cell_type": "code",
   "execution_count": 28,
   "id": "dfb39eda-8924-48ba-bec3-b1171c5e3c58",
   "metadata": {},
   "outputs": [
    {
     "name": "stdout",
     "output_type": "stream",
     "text": [
      "------------------------------------------------------\n",
      "rnn kmeans 15 0.1 20.txt\n",
      "---do_investigations. cluster index : 0---\n"
     ]
    },
    {
     "data": {
      "application/vnd.jupyter.widget-view+json": {
       "model_id": "f9dfab7adf8b4955998ca4d0d1c1bf21",
       "version_major": 2,
       "version_minor": 0
      },
      "text/plain": [
       "IntProgress(value=0, max=497)"
      ]
     },
     "metadata": {},
     "output_type": "display_data"
    },
    {
     "name": "stdout",
     "output_type": "stream",
     "text": [
      "Epoch 1/20\n",
      "368/368 [==============================] - 3s 5ms/step - loss: 0.2457 - mean_absolute_error: 0.3519 - val_loss: 0.2086 - val_mean_absolute_error: 0.3356\n",
      "Epoch 2/20\n",
      "368/368 [==============================] - 1s 4ms/step - loss: 0.2085 - mean_absolute_error: 0.3229 - val_loss: 0.2031 - val_mean_absolute_error: 0.3270\n",
      "Epoch 3/20\n",
      "368/368 [==============================] - 1s 4ms/step - loss: 0.2080 - mean_absolute_error: 0.3225 - val_loss: 0.2016 - val_mean_absolute_error: 0.3133\n",
      "Epoch 4/20\n",
      "368/368 [==============================] - 1s 4ms/step - loss: 0.2079 - mean_absolute_error: 0.3219 - val_loss: 0.2029 - val_mean_absolute_error: 0.3229\n",
      "Epoch 5/20\n",
      "368/368 [==============================] - 1s 4ms/step - loss: 0.2066 - mean_absolute_error: 0.3208 - val_loss: 0.2018 - val_mean_absolute_error: 0.3246\n",
      "***TRAIN***:\n",
      "correlation related to cluster centre: 0.89\n",
      "r2 score related to cluster centre: 0.80\n",
      "***VALIDATION***:\n",
      "correlation related to cluster centre: 0.90\n",
      "r2 score related to cluster centre: 0.81\n"
     ]
    },
    {
     "data": {
      "application/vnd.jupyter.widget-view+json": {
       "model_id": "747f7b4929d648958fd2003927d6ef9c",
       "version_major": 2,
       "version_minor": 0
      },
      "text/plain": [
       "IntProgress(value=0, max=497)"
      ]
     },
     "metadata": {},
     "output_type": "display_data"
    },
    {
     "name": "stdout",
     "output_type": "stream",
     "text": [
      "***VALIDATION***:\n",
      "average correlation: 0.89\n",
      "average r2: 0.57\n",
      "---do_investigations. cluster index : 1---\n"
     ]
    },
    {
     "data": {
      "application/vnd.jupyter.widget-view+json": {
       "model_id": "a59c58af015f4e5580d1691afb431865",
       "version_major": 2,
       "version_minor": 0
      },
      "text/plain": [
       "IntProgress(value=0, max=364)"
      ]
     },
     "metadata": {},
     "output_type": "display_data"
    },
    {
     "name": "stdout",
     "output_type": "stream",
     "text": [
      "Epoch 1/20\n",
      "368/368 [==============================] - 3s 5ms/step - loss: 0.0487 - mean_absolute_error: 0.1021 - val_loss: 0.0156 - val_mean_absolute_error: 0.0741\n",
      "Epoch 2/20\n",
      "368/368 [==============================] - 1s 4ms/step - loss: 0.0059 - mean_absolute_error: 0.0511 - val_loss: 0.0132 - val_mean_absolute_error: 0.0685\n",
      "Epoch 3/20\n",
      "368/368 [==============================] - 1s 4ms/step - loss: 0.0054 - mean_absolute_error: 0.0487 - val_loss: 0.0121 - val_mean_absolute_error: 0.0647\n",
      "Epoch 4/20\n",
      "368/368 [==============================] - 1s 4ms/step - loss: 0.0053 - mean_absolute_error: 0.0486 - val_loss: 0.0119 - val_mean_absolute_error: 0.0645\n",
      "Epoch 5/20\n",
      "368/368 [==============================] - 1s 4ms/step - loss: 0.0053 - mean_absolute_error: 0.0490 - val_loss: 0.0121 - val_mean_absolute_error: 0.0661\n",
      "Epoch 6/20\n",
      "368/368 [==============================] - 1s 4ms/step - loss: 0.0053 - mean_absolute_error: 0.0488 - val_loss: 0.0119 - val_mean_absolute_error: 0.0650\n",
      "***TRAIN***:\n",
      "correlation related to cluster centre: 1.00\n",
      "r2 score related to cluster centre: 0.99\n",
      "***VALIDATION***:\n",
      "correlation related to cluster centre: 0.98\n",
      "r2 score related to cluster centre: 0.97\n"
     ]
    },
    {
     "data": {
      "application/vnd.jupyter.widget-view+json": {
       "model_id": "288301e4c93e4725bf907e6915b09c35",
       "version_major": 2,
       "version_minor": 0
      },
      "text/plain": [
       "IntProgress(value=0, max=364)"
      ]
     },
     "metadata": {},
     "output_type": "display_data"
    },
    {
     "name": "stdout",
     "output_type": "stream",
     "text": [
      "***VALIDATION***:\n",
      "average correlation: nan\n",
      "average r2: -0.02\n",
      "---do_investigations. cluster index : 2---\n"
     ]
    },
    {
     "data": {
      "application/vnd.jupyter.widget-view+json": {
       "model_id": "92fe046dd13340f5a8e346fe7d6347b0",
       "version_major": 2,
       "version_minor": 0
      },
      "text/plain": [
       "IntProgress(value=0, max=477)"
      ]
     },
     "metadata": {},
     "output_type": "display_data"
    },
    {
     "name": "stdout",
     "output_type": "stream",
     "text": [
      "Epoch 1/20\n",
      "368/368 [==============================] - 3s 5ms/step - loss: 0.0474 - mean_absolute_error: 0.1187 - val_loss: 0.0266 - val_mean_absolute_error: 0.0820\n",
      "Epoch 2/20\n",
      "368/368 [==============================] - 1s 4ms/step - loss: 0.0245 - mean_absolute_error: 0.0877 - val_loss: 0.0284 - val_mean_absolute_error: 0.1010\n",
      "Epoch 3/20\n",
      "368/368 [==============================] - 1s 4ms/step - loss: 0.0243 - mean_absolute_error: 0.0881 - val_loss: 0.0256 - val_mean_absolute_error: 0.0848\n",
      "Epoch 4/20\n",
      "368/368 [==============================] - 1s 4ms/step - loss: 0.0243 - mean_absolute_error: 0.0893 - val_loss: 0.0251 - val_mean_absolute_error: 0.0841\n",
      "Epoch 5/20\n",
      "368/368 [==============================] - 1s 4ms/step - loss: 0.0239 - mean_absolute_error: 0.0876 - val_loss: 0.0250 - val_mean_absolute_error: 0.0850\n",
      "Epoch 6/20\n",
      "368/368 [==============================] - 1s 4ms/step - loss: 0.0239 - mean_absolute_error: 0.0883 - val_loss: 0.0247 - val_mean_absolute_error: 0.0808\n",
      "Epoch 7/20\n",
      "368/368 [==============================] - 1s 4ms/step - loss: 0.0240 - mean_absolute_error: 0.0887 - val_loss: 0.0247 - val_mean_absolute_error: 0.0798\n",
      "Epoch 8/20\n",
      "368/368 [==============================] - 1s 4ms/step - loss: 0.0239 - mean_absolute_error: 0.0872 - val_loss: 0.0243 - val_mean_absolute_error: 0.0783\n",
      "Epoch 9/20\n",
      "368/368 [==============================] - 1s 4ms/step - loss: 0.0240 - mean_absolute_error: 0.0883 - val_loss: 0.0244 - val_mean_absolute_error: 0.0780\n",
      "Epoch 10/20\n",
      "368/368 [==============================] - 1s 4ms/step - loss: 0.0237 - mean_absolute_error: 0.0872 - val_loss: 0.0251 - val_mean_absolute_error: 0.0850\n",
      "***TRAIN***:\n",
      "correlation related to cluster centre: 0.99\n",
      "r2 score related to cluster centre: 0.98\n",
      "***VALIDATION***:\n",
      "correlation related to cluster centre: 0.97\n",
      "r2 score related to cluster centre: 0.95\n"
     ]
    },
    {
     "data": {
      "application/vnd.jupyter.widget-view+json": {
       "model_id": "0156d105491e4bf997d4a8720965d918",
       "version_major": 2,
       "version_minor": 0
      },
      "text/plain": [
       "IntProgress(value=0, max=477)"
      ]
     },
     "metadata": {},
     "output_type": "display_data"
    },
    {
     "name": "stdout",
     "output_type": "stream",
     "text": [
      "***VALIDATION***:\n",
      "average correlation: nan\n",
      "average r2: -6652666458191285851258880.00\n",
      "---do_investigations. cluster index : 3---\n"
     ]
    },
    {
     "data": {
      "application/vnd.jupyter.widget-view+json": {
       "model_id": "c41a3fac8202432aabc8701deb00e5cc",
       "version_major": 2,
       "version_minor": 0
      },
      "text/plain": [
       "IntProgress(value=0, max=174)"
      ]
     },
     "metadata": {},
     "output_type": "display_data"
    },
    {
     "name": "stdout",
     "output_type": "stream",
     "text": [
      "Epoch 1/20\n",
      "368/368 [==============================] - 3s 5ms/step - loss: 0.2263 - mean_absolute_error: 0.3283 - val_loss: 0.1523 - val_mean_absolute_error: 0.2886\n",
      "Epoch 2/20\n",
      "368/368 [==============================] - 1s 4ms/step - loss: 0.2033 - mean_absolute_error: 0.3089 - val_loss: 0.1440 - val_mean_absolute_error: 0.2682\n",
      "Epoch 3/20\n",
      "368/368 [==============================] - 1s 4ms/step - loss: 0.2005 - mean_absolute_error: 0.3059 - val_loss: 0.1482 - val_mean_absolute_error: 0.2794\n",
      "Epoch 4/20\n",
      "368/368 [==============================] - 1s 4ms/step - loss: 0.2017 - mean_absolute_error: 0.3070 - val_loss: 0.1467 - val_mean_absolute_error: 0.2756\n",
      "***TRAIN***:\n",
      "correlation related to cluster centre: 0.90\n",
      "r2 score related to cluster centre: 0.80\n",
      "***VALIDATION***:\n",
      "correlation related to cluster centre: 0.91\n",
      "r2 score related to cluster centre: 0.82\n"
     ]
    },
    {
     "data": {
      "application/vnd.jupyter.widget-view+json": {
       "model_id": "f5197472557f4d5f9ca8a990556d422d",
       "version_major": 2,
       "version_minor": 0
      },
      "text/plain": [
       "IntProgress(value=0, max=174)"
      ]
     },
     "metadata": {},
     "output_type": "display_data"
    },
    {
     "name": "stdout",
     "output_type": "stream",
     "text": [
      "***VALIDATION***:\n",
      "average correlation: 0.91\n",
      "average r2: 0.82\n",
      "---do_investigations. cluster index : 4---\n"
     ]
    },
    {
     "data": {
      "application/vnd.jupyter.widget-view+json": {
       "model_id": "be7b135d49d44b7ba1833965fea38e3b",
       "version_major": 2,
       "version_minor": 0
      },
      "text/plain": [
       "IntProgress(value=0, max=585)"
      ]
     },
     "metadata": {},
     "output_type": "display_data"
    },
    {
     "name": "stdout",
     "output_type": "stream",
     "text": [
      "Epoch 1/20\n",
      "368/368 [==============================] - 3s 5ms/step - loss: 0.2491 - mean_absolute_error: 0.3006 - val_loss: 0.2702 - val_mean_absolute_error: 0.2771\n",
      "Epoch 2/20\n",
      "368/368 [==============================] - 1s 4ms/step - loss: 0.2103 - mean_absolute_error: 0.2775 - val_loss: 0.2585 - val_mean_absolute_error: 0.2916\n",
      "Epoch 3/20\n",
      "368/368 [==============================] - 1s 4ms/step - loss: 0.2088 - mean_absolute_error: 0.2776 - val_loss: 0.2625 - val_mean_absolute_error: 0.2787\n",
      "Epoch 4/20\n",
      "368/368 [==============================] - 1s 4ms/step - loss: 0.2062 - mean_absolute_error: 0.2759 - val_loss: 0.2531 - val_mean_absolute_error: 0.2763\n",
      "Epoch 5/20\n",
      "368/368 [==============================] - 1s 4ms/step - loss: 0.2065 - mean_absolute_error: 0.2763 - val_loss: 0.2610 - val_mean_absolute_error: 0.2775\n",
      "Epoch 6/20\n",
      "368/368 [==============================] - 1s 4ms/step - loss: 0.2064 - mean_absolute_error: 0.2759 - val_loss: 0.2557 - val_mean_absolute_error: 0.2758\n",
      "***TRAIN***:\n",
      "correlation related to cluster centre: 0.89\n",
      "r2 score related to cluster centre: 0.80\n",
      "***VALIDATION***:\n",
      "correlation related to cluster centre: 0.90\n",
      "r2 score related to cluster centre: 0.80\n"
     ]
    },
    {
     "data": {
      "application/vnd.jupyter.widget-view+json": {
       "model_id": "84b63a4bb701445da6175e3cd65f5f7a",
       "version_major": 2,
       "version_minor": 0
      },
      "text/plain": [
       "IntProgress(value=0, max=585)"
      ]
     },
     "metadata": {},
     "output_type": "display_data"
    },
    {
     "name": "stdout",
     "output_type": "stream",
     "text": [
      "***VALIDATION***:\n",
      "average correlation: 0.88\n",
      "average r2: 0.77\n",
      "---do_investigations. cluster index : 5---\n"
     ]
    },
    {
     "data": {
      "application/vnd.jupyter.widget-view+json": {
       "model_id": "6cfddd5c435147918caaafda934a96ab",
       "version_major": 2,
       "version_minor": 0
      },
      "text/plain": [
       "IntProgress(value=0, max=344)"
      ]
     },
     "metadata": {},
     "output_type": "display_data"
    },
    {
     "name": "stdout",
     "output_type": "stream",
     "text": [
      "Epoch 1/20\n",
      "368/368 [==============================] - 3s 5ms/step - loss: 0.2136 - mean_absolute_error: 0.3220 - val_loss: 0.1734 - val_mean_absolute_error: 0.2853\n",
      "Epoch 2/20\n",
      "368/368 [==============================] - 1s 4ms/step - loss: 0.1920 - mean_absolute_error: 0.3026 - val_loss: 0.1726 - val_mean_absolute_error: 0.2784\n",
      "Epoch 3/20\n",
      "368/368 [==============================] - 1s 4ms/step - loss: 0.1917 - mean_absolute_error: 0.3015 - val_loss: 0.1723 - val_mean_absolute_error: 0.2801\n",
      "Epoch 4/20\n",
      "368/368 [==============================] - 1s 4ms/step - loss: 0.1908 - mean_absolute_error: 0.3019 - val_loss: 0.1706 - val_mean_absolute_error: 0.2817\n",
      "Epoch 5/20\n",
      "368/368 [==============================] - 1s 4ms/step - loss: 0.1894 - mean_absolute_error: 0.3000 - val_loss: 0.1709 - val_mean_absolute_error: 0.2801\n",
      "Epoch 6/20\n",
      "368/368 [==============================] - 1s 4ms/step - loss: 0.1904 - mean_absolute_error: 0.3009 - val_loss: 0.1737 - val_mean_absolute_error: 0.2825\n",
      "***TRAIN***:\n",
      "correlation related to cluster centre: 0.90\n",
      "r2 score related to cluster centre: 0.81\n",
      "***VALIDATION***:\n",
      "correlation related to cluster centre: 0.91\n",
      "r2 score related to cluster centre: 0.83\n"
     ]
    },
    {
     "data": {
      "application/vnd.jupyter.widget-view+json": {
       "model_id": "6c5c9b3dae3e4080b5c6de9847fb45b8",
       "version_major": 2,
       "version_minor": 0
      },
      "text/plain": [
       "IntProgress(value=0, max=344)"
      ]
     },
     "metadata": {},
     "output_type": "display_data"
    },
    {
     "name": "stdout",
     "output_type": "stream",
     "text": [
      "***VALIDATION***:\n",
      "average correlation: 0.91\n",
      "average r2: 0.77\n",
      "---do_investigations. cluster index : 6---\n"
     ]
    },
    {
     "data": {
      "application/vnd.jupyter.widget-view+json": {
       "model_id": "af928d6ee01f43bcbeaf07e3105b6885",
       "version_major": 2,
       "version_minor": 0
      },
      "text/plain": [
       "IntProgress(value=0, max=223)"
      ]
     },
     "metadata": {},
     "output_type": "display_data"
    },
    {
     "name": "stdout",
     "output_type": "stream",
     "text": [
      "Epoch 1/20\n",
      "368/368 [==============================] - 3s 5ms/step - loss: 0.2279 - mean_absolute_error: 0.3303 - val_loss: 0.1651 - val_mean_absolute_error: 0.2897\n",
      "Epoch 2/20\n",
      "368/368 [==============================] - 1s 4ms/step - loss: 0.1964 - mean_absolute_error: 0.3064 - val_loss: 0.1660 - val_mean_absolute_error: 0.2972\n",
      "Epoch 3/20\n",
      "368/368 [==============================] - 1s 4ms/step - loss: 0.1966 - mean_absolute_error: 0.3077 - val_loss: 0.1629 - val_mean_absolute_error: 0.2864\n",
      "Epoch 4/20\n",
      "368/368 [==============================] - 1s 4ms/step - loss: 0.1965 - mean_absolute_error: 0.3072 - val_loss: 0.1626 - val_mean_absolute_error: 0.2799\n",
      "Epoch 5/20\n",
      "368/368 [==============================] - 1s 4ms/step - loss: 0.1963 - mean_absolute_error: 0.3070 - val_loss: 0.1672 - val_mean_absolute_error: 0.2986\n",
      "Epoch 6/20\n",
      "368/368 [==============================] - 1s 4ms/step - loss: 0.1961 - mean_absolute_error: 0.3064 - val_loss: 0.1691 - val_mean_absolute_error: 0.2994\n",
      "***TRAIN***:\n",
      "correlation related to cluster centre: 0.90\n",
      "r2 score related to cluster centre: 0.80\n",
      "***VALIDATION***:\n",
      "correlation related to cluster centre: 0.91\n",
      "r2 score related to cluster centre: 0.82\n"
     ]
    },
    {
     "data": {
      "application/vnd.jupyter.widget-view+json": {
       "model_id": "e5ee1e98454b4d1d8613463dbabccead",
       "version_major": 2,
       "version_minor": 0
      },
      "text/plain": [
       "IntProgress(value=0, max=223)"
      ]
     },
     "metadata": {},
     "output_type": "display_data"
    },
    {
     "name": "stdout",
     "output_type": "stream",
     "text": [
      "***VALIDATION***:\n",
      "average correlation: 0.91\n",
      "average r2: 0.72\n",
      "---do_investigations. cluster index : 7---\n"
     ]
    },
    {
     "data": {
      "application/vnd.jupyter.widget-view+json": {
       "model_id": "8236918aa5374cffa4e5d9016d107a0b",
       "version_major": 2,
       "version_minor": 0
      },
      "text/plain": [
       "IntProgress(value=0, max=183)"
      ]
     },
     "metadata": {},
     "output_type": "display_data"
    },
    {
     "name": "stdout",
     "output_type": "stream",
     "text": [
      "Epoch 1/20\n",
      "368/368 [==============================] - 3s 5ms/step - loss: 0.2452 - mean_absolute_error: 0.3200 - val_loss: 0.1837 - val_mean_absolute_error: 0.2782\n",
      "Epoch 2/20\n",
      "368/368 [==============================] - 1s 4ms/step - loss: 0.2107 - mean_absolute_error: 0.2957 - val_loss: 0.1872 - val_mean_absolute_error: 0.2883\n",
      "Epoch 3/20\n",
      "368/368 [==============================] - 1s 4ms/step - loss: 0.2076 - mean_absolute_error: 0.2943 - val_loss: 0.1939 - val_mean_absolute_error: 0.2894\n",
      "***TRAIN***:\n",
      "correlation related to cluster centre: 0.89\n",
      "r2 score related to cluster centre: 0.79\n",
      "***VALIDATION***:\n",
      "correlation related to cluster centre: 0.91\n",
      "r2 score related to cluster centre: 0.80\n"
     ]
    },
    {
     "data": {
      "application/vnd.jupyter.widget-view+json": {
       "model_id": "a16499c5695b4089b4352ba41782ef90",
       "version_major": 2,
       "version_minor": 0
      },
      "text/plain": [
       "IntProgress(value=0, max=183)"
      ]
     },
     "metadata": {},
     "output_type": "display_data"
    },
    {
     "name": "stdout",
     "output_type": "stream",
     "text": [
      "***VALIDATION***:\n",
      "average correlation: 0.90\n",
      "average r2: 0.79\n",
      "---do_investigations. cluster index : 8---\n"
     ]
    },
    {
     "data": {
      "application/vnd.jupyter.widget-view+json": {
       "model_id": "52c0f20066b446c09d26f45a5781c6f3",
       "version_major": 2,
       "version_minor": 0
      },
      "text/plain": [
       "IntProgress(value=0, max=2214)"
      ]
     },
     "metadata": {},
     "output_type": "display_data"
    },
    {
     "name": "stdout",
     "output_type": "stream",
     "text": [
      "Epoch 1/20\n",
      "368/368 [==============================] - 3s 5ms/step - loss: 0.0566 - mean_absolute_error: 0.1344 - val_loss: 0.0319 - val_mean_absolute_error: 0.1007\n",
      "Epoch 2/20\n",
      "368/368 [==============================] - 1s 4ms/step - loss: 0.0268 - mean_absolute_error: 0.0981 - val_loss: 0.0277 - val_mean_absolute_error: 0.0764\n",
      "Epoch 3/20\n",
      "368/368 [==============================] - 1s 4ms/step - loss: 0.0267 - mean_absolute_error: 0.0982 - val_loss: 0.0274 - val_mean_absolute_error: 0.0750\n",
      "Epoch 4/20\n",
      "368/368 [==============================] - 1s 4ms/step - loss: 0.0264 - mean_absolute_error: 0.0973 - val_loss: 0.0273 - val_mean_absolute_error: 0.0809\n",
      "Epoch 5/20\n",
      "368/368 [==============================] - 1s 4ms/step - loss: 0.0266 - mean_absolute_error: 0.0980 - val_loss: 0.0262 - val_mean_absolute_error: 0.0702\n",
      "Epoch 6/20\n",
      "368/368 [==============================] - 1s 4ms/step - loss: 0.0262 - mean_absolute_error: 0.0976 - val_loss: 0.0270 - val_mean_absolute_error: 0.0786\n",
      "Epoch 7/20\n",
      "368/368 [==============================] - 1s 4ms/step - loss: 0.0263 - mean_absolute_error: 0.0973 - val_loss: 0.0260 - val_mean_absolute_error: 0.0706\n",
      "Epoch 8/20\n",
      "368/368 [==============================] - 1s 4ms/step - loss: 0.0262 - mean_absolute_error: 0.0973 - val_loss: 0.0261 - val_mean_absolute_error: 0.0745\n",
      "Epoch 9/20\n",
      "368/368 [==============================] - 1s 4ms/step - loss: 0.0262 - mean_absolute_error: 0.0975 - val_loss: 0.0259 - val_mean_absolute_error: 0.0733\n",
      "Epoch 10/20\n",
      "368/368 [==============================] - 1s 4ms/step - loss: 0.0258 - mean_absolute_error: 0.0949 - val_loss: 0.0263 - val_mean_absolute_error: 0.0739\n",
      "Epoch 11/20\n",
      "368/368 [==============================] - 1s 4ms/step - loss: 0.0263 - mean_absolute_error: 0.0979 - val_loss: 0.0258 - val_mean_absolute_error: 0.0712\n",
      "Epoch 12/20\n",
      "368/368 [==============================] - 1s 4ms/step - loss: 0.0258 - mean_absolute_error: 0.0960 - val_loss: 0.0259 - val_mean_absolute_error: 0.0714\n",
      "Epoch 13/20\n",
      "368/368 [==============================] - 1s 4ms/step - loss: 0.0258 - mean_absolute_error: 0.0956 - val_loss: 0.0259 - val_mean_absolute_error: 0.0725\n",
      "***TRAIN***:\n",
      "correlation related to cluster centre: 0.99\n",
      "r2 score related to cluster centre: 0.98\n",
      "***VALIDATION***:\n",
      "correlation related to cluster centre: 0.97\n",
      "r2 score related to cluster centre: 0.94\n"
     ]
    },
    {
     "data": {
      "application/vnd.jupyter.widget-view+json": {
       "model_id": "135aa14768554e2db7f7a0bab2c3e2b2",
       "version_major": 2,
       "version_minor": 0
      },
      "text/plain": [
       "IntProgress(value=0, max=2214)"
      ]
     },
     "metadata": {},
     "output_type": "display_data"
    },
    {
     "name": "stdout",
     "output_type": "stream",
     "text": [
      "***VALIDATION***:\n",
      "average correlation: nan\n",
      "average r2: -67040433909364612105502720.00\n",
      "---do_investigations. cluster index : 9---\n"
     ]
    },
    {
     "data": {
      "application/vnd.jupyter.widget-view+json": {
       "model_id": "1293e4ac03b64615b183bb814355fc81",
       "version_major": 2,
       "version_minor": 0
      },
      "text/plain": [
       "IntProgress(value=0, max=1360)"
      ]
     },
     "metadata": {},
     "output_type": "display_data"
    },
    {
     "name": "stdout",
     "output_type": "stream",
     "text": [
      "Epoch 1/20\n",
      "368/368 [==============================] - 3s 5ms/step - loss: 0.2266 - mean_absolute_error: 0.2853 - val_loss: 0.2329 - val_mean_absolute_error: 0.2445\n",
      "Epoch 2/20\n",
      "368/368 [==============================] - 1s 4ms/step - loss: 0.1735 - mean_absolute_error: 0.2513 - val_loss: 0.2213 - val_mean_absolute_error: 0.2410\n",
      "Epoch 3/20\n",
      "368/368 [==============================] - 1s 4ms/step - loss: 0.1705 - mean_absolute_error: 0.2490 - val_loss: 0.2193 - val_mean_absolute_error: 0.2400\n",
      "Epoch 4/20\n",
      "368/368 [==============================] - 1s 4ms/step - loss: 0.1698 - mean_absolute_error: 0.2489 - val_loss: 0.2174 - val_mean_absolute_error: 0.2424\n",
      "Epoch 5/20\n",
      "368/368 [==============================] - 1s 4ms/step - loss: 0.1688 - mean_absolute_error: 0.2477 - val_loss: 0.2198 - val_mean_absolute_error: 0.2403\n",
      "Epoch 6/20\n",
      "368/368 [==============================] - 1s 4ms/step - loss: 0.1697 - mean_absolute_error: 0.2503 - val_loss: 0.2166 - val_mean_absolute_error: 0.2368\n",
      "Epoch 7/20\n",
      "368/368 [==============================] - 1s 4ms/step - loss: 0.1680 - mean_absolute_error: 0.2489 - val_loss: 0.2162 - val_mean_absolute_error: 0.2464\n",
      "Epoch 8/20\n",
      "368/368 [==============================] - 1s 4ms/step - loss: 0.1685 - mean_absolute_error: 0.2499 - val_loss: 0.2160 - val_mean_absolute_error: 0.2377\n",
      "Epoch 9/20\n",
      "368/368 [==============================] - 1s 4ms/step - loss: 0.1675 - mean_absolute_error: 0.2476 - val_loss: 0.2163 - val_mean_absolute_error: 0.2389\n",
      "Epoch 10/20\n",
      "368/368 [==============================] - 1s 4ms/step - loss: 0.1668 - mean_absolute_error: 0.2466 - val_loss: 0.2168 - val_mean_absolute_error: 0.2397\n",
      "***TRAIN***:\n",
      "correlation related to cluster centre: 0.91\n",
      "r2 score related to cluster centre: 0.84\n",
      "***VALIDATION***:\n",
      "correlation related to cluster centre: 0.90\n",
      "r2 score related to cluster centre: 0.80\n"
     ]
    },
    {
     "data": {
      "application/vnd.jupyter.widget-view+json": {
       "model_id": "be418437acf1421793c6d01012a0b2f2",
       "version_major": 2,
       "version_minor": 0
      },
      "text/plain": [
       "IntProgress(value=0, max=1360)"
      ]
     },
     "metadata": {},
     "output_type": "display_data"
    },
    {
     "name": "stdout",
     "output_type": "stream",
     "text": [
      "***VALIDATION***:\n",
      "average correlation: nan\n",
      "average r2: -148585916526685337977618432.00\n",
      "---do_investigations. cluster index : 10---\n"
     ]
    },
    {
     "data": {
      "application/vnd.jupyter.widget-view+json": {
       "model_id": "3c668de80d19409d83bc9850d008a349",
       "version_major": 2,
       "version_minor": 0
      },
      "text/plain": [
       "IntProgress(value=0, max=1)"
      ]
     },
     "metadata": {},
     "output_type": "display_data"
    },
    {
     "name": "stdout",
     "output_type": "stream",
     "text": [
      "Epoch 1/20\n",
      "368/368 [==============================] - 3s 5ms/step - loss: 0.1444 - mean_absolute_error: 0.1585 - val_loss: 0.1326 - val_mean_absolute_error: 0.1435\n",
      "Epoch 2/20\n",
      "368/368 [==============================] - 1s 4ms/step - loss: 0.1112 - mean_absolute_error: 0.1273 - val_loss: 0.1286 - val_mean_absolute_error: 0.1456\n",
      "Epoch 3/20\n",
      "368/368 [==============================] - 1s 4ms/step - loss: 0.1113 - mean_absolute_error: 0.1287 - val_loss: 0.1245 - val_mean_absolute_error: 0.1182\n",
      "Epoch 4/20\n",
      "368/368 [==============================] - 1s 4ms/step - loss: 0.1106 - mean_absolute_error: 0.1252 - val_loss: 0.1257 - val_mean_absolute_error: 0.1278\n",
      "Epoch 5/20\n",
      "368/368 [==============================] - 1s 4ms/step - loss: 0.1109 - mean_absolute_error: 0.1260 - val_loss: 0.1283 - val_mean_absolute_error: 0.1279\n",
      "***TRAIN***:\n",
      "correlation related to cluster centre: 0.94\n",
      "r2 score related to cluster centre: 0.89\n",
      "***VALIDATION***:\n",
      "correlation related to cluster centre: 0.94\n",
      "r2 score related to cluster centre: 0.88\n"
     ]
    },
    {
     "data": {
      "application/vnd.jupyter.widget-view+json": {
       "model_id": "a6dba48d4bf64d43b0a8fdac9998e084",
       "version_major": 2,
       "version_minor": 0
      },
      "text/plain": [
       "IntProgress(value=0, max=1)"
      ]
     },
     "metadata": {},
     "output_type": "display_data"
    },
    {
     "name": "stdout",
     "output_type": "stream",
     "text": [
      "***VALIDATION***:\n",
      "average correlation: 0.94\n",
      "average r2: 0.88\n",
      "---do_investigations. cluster index : 11---\n"
     ]
    },
    {
     "data": {
      "application/vnd.jupyter.widget-view+json": {
       "model_id": "d0345b9a9b32458aa5cb501927008b85",
       "version_major": 2,
       "version_minor": 0
      },
      "text/plain": [
       "IntProgress(value=0, max=279)"
      ]
     },
     "metadata": {},
     "output_type": "display_data"
    },
    {
     "name": "stdout",
     "output_type": "stream",
     "text": [
      "Epoch 1/20\n",
      "368/368 [==============================] - 3s 5ms/step - loss: 0.2418 - mean_absolute_error: 0.3110 - val_loss: 0.2451 - val_mean_absolute_error: 0.2823\n",
      "Epoch 2/20\n",
      "368/368 [==============================] - 1s 4ms/step - loss: 0.2096 - mean_absolute_error: 0.2870 - val_loss: 0.2385 - val_mean_absolute_error: 0.2804\n",
      "Epoch 3/20\n",
      "368/368 [==============================] - 1s 4ms/step - loss: 0.2088 - mean_absolute_error: 0.2863 - val_loss: 0.2292 - val_mean_absolute_error: 0.2868\n",
      "Epoch 4/20\n",
      "368/368 [==============================] - 1s 4ms/step - loss: 0.2083 - mean_absolute_error: 0.2859 - val_loss: 0.2422 - val_mean_absolute_error: 0.2805\n",
      "Epoch 5/20\n",
      "368/368 [==============================] - 1s 4ms/step - loss: 0.2062 - mean_absolute_error: 0.2841 - val_loss: 0.2519 - val_mean_absolute_error: 0.2849\n",
      "***TRAIN***:\n",
      "correlation related to cluster centre: 0.89\n",
      "r2 score related to cluster centre: 0.77\n",
      "***VALIDATION***:\n",
      "correlation related to cluster centre: 0.90\n",
      "r2 score related to cluster centre: 0.79\n"
     ]
    },
    {
     "data": {
      "application/vnd.jupyter.widget-view+json": {
       "model_id": "32cf36285c4f468e85fe91809087a8e7",
       "version_major": 2,
       "version_minor": 0
      },
      "text/plain": [
       "IntProgress(value=0, max=279)"
      ]
     },
     "metadata": {},
     "output_type": "display_data"
    },
    {
     "name": "stdout",
     "output_type": "stream",
     "text": [
      "***VALIDATION***:\n",
      "average correlation: 0.90\n",
      "average r2: 0.79\n",
      "---do_investigations. cluster index : 12---\n"
     ]
    },
    {
     "data": {
      "application/vnd.jupyter.widget-view+json": {
       "model_id": "8e2473232a654f41977206940aea34d3",
       "version_major": 2,
       "version_minor": 0
      },
      "text/plain": [
       "IntProgress(value=0, max=153)"
      ]
     },
     "metadata": {},
     "output_type": "display_data"
    },
    {
     "name": "stdout",
     "output_type": "stream",
     "text": [
      "Epoch 1/20\n",
      "368/368 [==============================] - 3s 5ms/step - loss: 0.2429 - mean_absolute_error: 0.3305 - val_loss: 0.1634 - val_mean_absolute_error: 0.2749\n",
      "Epoch 2/20\n",
      "368/368 [==============================] - 1s 4ms/step - loss: 0.2132 - mean_absolute_error: 0.3098 - val_loss: 0.1645 - val_mean_absolute_error: 0.2925\n",
      "Epoch 3/20\n",
      "368/368 [==============================] - 1s 4ms/step - loss: 0.2132 - mean_absolute_error: 0.3081 - val_loss: 0.1624 - val_mean_absolute_error: 0.2754\n",
      "Epoch 4/20\n",
      "368/368 [==============================] - 1s 4ms/step - loss: 0.2111 - mean_absolute_error: 0.3067 - val_loss: 0.1621 - val_mean_absolute_error: 0.2770\n",
      "Epoch 5/20\n",
      "368/368 [==============================] - 1s 4ms/step - loss: 0.2113 - mean_absolute_error: 0.3066 - val_loss: 0.1656 - val_mean_absolute_error: 0.2867\n",
      "Epoch 6/20\n",
      "368/368 [==============================] - 1s 4ms/step - loss: 0.2102 - mean_absolute_error: 0.3061 - val_loss: 0.1632 - val_mean_absolute_error: 0.2671\n",
      "***TRAIN***:\n",
      "correlation related to cluster centre: 0.89\n",
      "r2 score related to cluster centre: 0.79\n",
      "***VALIDATION***:\n",
      "correlation related to cluster centre: 0.91\n",
      "r2 score related to cluster centre: 0.82\n"
     ]
    },
    {
     "data": {
      "application/vnd.jupyter.widget-view+json": {
       "model_id": "8ddab46eec2d44b8ba6c38750006accc",
       "version_major": 2,
       "version_minor": 0
      },
      "text/plain": [
       "IntProgress(value=0, max=153)"
      ]
     },
     "metadata": {},
     "output_type": "display_data"
    },
    {
     "name": "stdout",
     "output_type": "stream",
     "text": [
      "***VALIDATION***:\n",
      "average correlation: 0.90\n",
      "average r2: 0.81\n",
      "---do_investigations. cluster index : 13---\n"
     ]
    },
    {
     "data": {
      "application/vnd.jupyter.widget-view+json": {
       "model_id": "5ee67c9aad4b4c639583d3fb70f27fac",
       "version_major": 2,
       "version_minor": 0
      },
      "text/plain": [
       "IntProgress(value=0, max=826)"
      ]
     },
     "metadata": {},
     "output_type": "display_data"
    },
    {
     "name": "stdout",
     "output_type": "stream",
     "text": [
      "Epoch 1/20\n",
      "368/368 [==============================] - 4s 5ms/step - loss: 0.2153 - mean_absolute_error: 0.3168 - val_loss: 0.1800 - val_mean_absolute_error: 0.2798\n",
      "Epoch 2/20\n",
      "368/368 [==============================] - 1s 4ms/step - loss: 0.1838 - mean_absolute_error: 0.2940 - val_loss: 0.1782 - val_mean_absolute_error: 0.2751\n",
      "Epoch 3/20\n",
      "368/368 [==============================] - 1s 4ms/step - loss: 0.1830 - mean_absolute_error: 0.2932 - val_loss: 0.1770 - val_mean_absolute_error: 0.2807\n",
      "Epoch 4/20\n",
      "368/368 [==============================] - 1s 4ms/step - loss: 0.1819 - mean_absolute_error: 0.2931 - val_loss: 0.1766 - val_mean_absolute_error: 0.2753\n",
      "Epoch 5/20\n",
      "368/368 [==============================] - 1s 4ms/step - loss: 0.1813 - mean_absolute_error: 0.2928 - val_loss: 0.1772 - val_mean_absolute_error: 0.2818\n",
      "Epoch 6/20\n",
      "368/368 [==============================] - 1s 4ms/step - loss: 0.1808 - mean_absolute_error: 0.2920 - val_loss: 0.1768 - val_mean_absolute_error: 0.2762\n",
      "***TRAIN***:\n",
      "correlation related to cluster centre: 0.91\n",
      "r2 score related to cluster centre: 0.82\n",
      "***VALIDATION***:\n",
      "correlation related to cluster centre: 0.91\n",
      "r2 score related to cluster centre: 0.83\n"
     ]
    },
    {
     "data": {
      "application/vnd.jupyter.widget-view+json": {
       "model_id": "c2d543a2b3844492bfe6ff726f2049bf",
       "version_major": 2,
       "version_minor": 0
      },
      "text/plain": [
       "IntProgress(value=0, max=826)"
      ]
     },
     "metadata": {},
     "output_type": "display_data"
    },
    {
     "name": "stdout",
     "output_type": "stream",
     "text": [
      "***VALIDATION***:\n",
      "average correlation: 0.88\n",
      "average r2: 0.50\n",
      "weighted_average_correlation: 0.89\n",
      "weighted_average_r2_score: 0.68\n",
      "bad clusters rate: 0.57%\n",
      "------------------------------------------------------\n"
     ]
    }
   ],
   "source": [
    "first_path = r\"C:\\Coding\\final-qualifying-work_2023-2024\\ClusteringCpp\\output\\kmeans 5 0.1 20.txt\"\n",
    "second_path = r\"C:\\Coding\\final-qualifying-work_2023-2024\\ClusteringCpp\\output\\kmeans 15 0.1 20.txt\"\n",
    "third_path = r\"C:\\Coding\\final-qualifying-work_2023-2024\\ClusteringCpp\\output\\kmeans 30 0.1 20.txt\"\n",
    "fourth_path = r\"C:\\Coding\\final-qualifying-work_2023-2024\\ClusteringCpp\\output\\kmeans 60 0.1 20.txt\"\n",
    "\n",
    "output_file = open(\"computational-experiments-output-kmeans.txt\", \"a\")\n",
    "\n",
    "selected_path = second_path\n",
    "\n",
    "print('------------------------------------------------------')\n",
    "output_file.write('------------------------------------------------------\\n')\n",
    "\n",
    "print(f\"rnn {os.path.split(selected_path)[-1]}\")\n",
    "output_file.write(f\"rnn {os.path.split(selected_path)[-1]}\\n\")\n",
    "show_results(rnn_model, get_clusters(selected_path), CONV_WIDTH)\n",
    "\n",
    "print('------------------------------------------------------')\n",
    "output_file.write('------------------------------------------------------\\n')\n",
    "\n",
    "output_file.close()"
   ]
  },
  {
   "cell_type": "code",
   "execution_count": 29,
   "id": "2bb12482-a236-43a6-a9be-b2e1773158f8",
   "metadata": {},
   "outputs": [
    {
     "name": "stdout",
     "output_type": "stream",
     "text": [
      "------------------------------------------------------\n",
      "rnn kmeans 30 0.1 20.txt\n",
      "---do_investigations. cluster index : 0---\n"
     ]
    },
    {
     "data": {
      "application/vnd.jupyter.widget-view+json": {
       "model_id": "df48a2f856684df580d579da674919d5",
       "version_major": 2,
       "version_minor": 0
      },
      "text/plain": [
       "IntProgress(value=0, max=278)"
      ]
     },
     "metadata": {},
     "output_type": "display_data"
    },
    {
     "name": "stdout",
     "output_type": "stream",
     "text": [
      "Epoch 1/20\n",
      "368/368 [==============================] - 5s 5ms/step - loss: 0.2104 - mean_absolute_error: 0.3221 - val_loss: 0.1800 - val_mean_absolute_error: 0.2875\n",
      "Epoch 2/20\n",
      "368/368 [==============================] - 1s 4ms/step - loss: 0.1872 - mean_absolute_error: 0.3004 - val_loss: 0.1721 - val_mean_absolute_error: 0.2883\n",
      "Epoch 3/20\n",
      "368/368 [==============================] - 1s 4ms/step - loss: 0.1862 - mean_absolute_error: 0.2996 - val_loss: 0.1699 - val_mean_absolute_error: 0.2756\n",
      "Epoch 4/20\n",
      "368/368 [==============================] - 1s 4ms/step - loss: 0.1858 - mean_absolute_error: 0.2986 - val_loss: 0.1692 - val_mean_absolute_error: 0.2858\n",
      "Epoch 5/20\n",
      "368/368 [==============================] - 1s 4ms/step - loss: 0.1855 - mean_absolute_error: 0.2991 - val_loss: 0.1703 - val_mean_absolute_error: 0.2890\n",
      "Epoch 6/20\n",
      "368/368 [==============================] - 1s 4ms/step - loss: 0.1846 - mean_absolute_error: 0.2980 - val_loss: 0.1674 - val_mean_absolute_error: 0.2808\n",
      "Epoch 7/20\n",
      "368/368 [==============================] - 1s 4ms/step - loss: 0.1856 - mean_absolute_error: 0.2990 - val_loss: 0.1669 - val_mean_absolute_error: 0.2776\n",
      "Epoch 8/20\n",
      "368/368 [==============================] - 1s 4ms/step - loss: 0.1838 - mean_absolute_error: 0.2973 - val_loss: 0.1674 - val_mean_absolute_error: 0.2743\n",
      "Epoch 9/20\n",
      "368/368 [==============================] - 1s 4ms/step - loss: 0.1838 - mean_absolute_error: 0.2969 - val_loss: 0.1673 - val_mean_absolute_error: 0.2855\n",
      "***TRAIN***:\n",
      "correlation related to cluster centre: 0.90\n",
      "r2 score related to cluster centre: 0.82\n",
      "***VALIDATION***:\n",
      "correlation related to cluster centre: 0.91\n",
      "r2 score related to cluster centre: 0.84\n"
     ]
    },
    {
     "data": {
      "application/vnd.jupyter.widget-view+json": {
       "model_id": "ea398d97361f4a64be0e79dab785d97a",
       "version_major": 2,
       "version_minor": 0
      },
      "text/plain": [
       "IntProgress(value=0, max=278)"
      ]
     },
     "metadata": {},
     "output_type": "display_data"
    },
    {
     "name": "stdout",
     "output_type": "stream",
     "text": [
      "***VALIDATION***:\n",
      "average correlation: 0.91\n",
      "average r2: 0.77\n",
      "---do_investigations. cluster index : 1---\n"
     ]
    },
    {
     "data": {
      "application/vnd.jupyter.widget-view+json": {
       "model_id": "474efaabc7474daeb1d11c00d40f94af",
       "version_major": 2,
       "version_minor": 0
      },
      "text/plain": [
       "IntProgress(value=0, max=213)"
      ]
     },
     "metadata": {},
     "output_type": "display_data"
    },
    {
     "name": "stdout",
     "output_type": "stream",
     "text": [
      "Epoch 1/20\n",
      "368/368 [==============================] - 24s 5ms/step - loss: 0.2255 - mean_absolute_error: 0.3250 - val_loss: 0.1872 - val_mean_absolute_error: 0.3154\n",
      "Epoch 2/20\n",
      "368/368 [==============================] - 1s 4ms/step - loss: 0.1899 - mean_absolute_error: 0.3003 - val_loss: 0.1913 - val_mean_absolute_error: 0.3123\n",
      "Epoch 3/20\n",
      "368/368 [==============================] - 1s 4ms/step - loss: 0.1913 - mean_absolute_error: 0.3020 - val_loss: 0.1831 - val_mean_absolute_error: 0.3098\n",
      "Epoch 4/20\n",
      "368/368 [==============================] - 1s 4ms/step - loss: 0.1896 - mean_absolute_error: 0.2992 - val_loss: 0.1945 - val_mean_absolute_error: 0.3280\n",
      "Epoch 5/20\n",
      "368/368 [==============================] - 1s 4ms/step - loss: 0.1886 - mean_absolute_error: 0.2991 - val_loss: 0.1800 - val_mean_absolute_error: 0.3008\n",
      "Epoch 6/20\n",
      "368/368 [==============================] - 1s 4ms/step - loss: 0.1879 - mean_absolute_error: 0.2976 - val_loss: 0.1749 - val_mean_absolute_error: 0.2903\n",
      "Epoch 7/20\n",
      "368/368 [==============================] - 1s 4ms/step - loss: 0.1881 - mean_absolute_error: 0.2983 - val_loss: 0.1818 - val_mean_absolute_error: 0.3084\n",
      "Epoch 8/20\n",
      "368/368 [==============================] - 1s 4ms/step - loss: 0.1892 - mean_absolute_error: 0.2986 - val_loss: 0.1737 - val_mean_absolute_error: 0.2962\n",
      "Epoch 9/20\n",
      "368/368 [==============================] - 1s 4ms/step - loss: 0.1884 - mean_absolute_error: 0.2982 - val_loss: 0.1789 - val_mean_absolute_error: 0.3025\n",
      "Epoch 10/20\n",
      "368/368 [==============================] - 1s 4ms/step - loss: 0.1878 - mean_absolute_error: 0.2969 - val_loss: 0.1792 - val_mean_absolute_error: 0.3018\n",
      "***TRAIN***:\n",
      "correlation related to cluster centre: 0.90\n",
      "r2 score related to cluster centre: 0.80\n",
      "***VALIDATION***:\n",
      "correlation related to cluster centre: 0.91\n",
      "r2 score related to cluster centre: 0.82\n"
     ]
    },
    {
     "data": {
      "application/vnd.jupyter.widget-view+json": {
       "model_id": "b79ee73bef1c435abb4a858cbeca1873",
       "version_major": 2,
       "version_minor": 0
      },
      "text/plain": [
       "IntProgress(value=0, max=213)"
      ]
     },
     "metadata": {},
     "output_type": "display_data"
    },
    {
     "name": "stdout",
     "output_type": "stream",
     "text": [
      "***VALIDATION***:\n",
      "average correlation: 0.90\n",
      "average r2: 0.74\n",
      "---do_investigations. cluster index : 2---\n"
     ]
    },
    {
     "data": {
      "application/vnd.jupyter.widget-view+json": {
       "model_id": "51007bbba42249838b2da4f97242fc82",
       "version_major": 2,
       "version_minor": 0
      },
      "text/plain": [
       "IntProgress(value=0, max=204)"
      ]
     },
     "metadata": {},
     "output_type": "display_data"
    },
    {
     "name": "stdout",
     "output_type": "stream",
     "text": [
      "Epoch 1/20\n",
      "368/368 [==============================] - 4s 5ms/step - loss: 0.2755 - mean_absolute_error: 0.3132 - val_loss: 0.2573 - val_mean_absolute_error: 0.2887\n",
      "Epoch 2/20\n",
      "368/368 [==============================] - 1s 4ms/step - loss: 0.2102 - mean_absolute_error: 0.2803 - val_loss: 0.2527 - val_mean_absolute_error: 0.2745\n",
      "Epoch 3/20\n",
      "368/368 [==============================] - 1s 4ms/step - loss: 0.2086 - mean_absolute_error: 0.2797 - val_loss: 0.2457 - val_mean_absolute_error: 0.2775\n",
      "Epoch 4/20\n",
      "368/368 [==============================] - 2s 4ms/step - loss: 0.2072 - mean_absolute_error: 0.2804 - val_loss: 0.2464 - val_mean_absolute_error: 0.2763\n",
      "Epoch 5/20\n",
      "368/368 [==============================] - 1s 4ms/step - loss: 0.2076 - mean_absolute_error: 0.2791 - val_loss: 0.2452 - val_mean_absolute_error: 0.2831\n",
      "Epoch 6/20\n",
      "368/368 [==============================] - 2s 4ms/step - loss: 0.2062 - mean_absolute_error: 0.2782 - val_loss: 0.2453 - val_mean_absolute_error: 0.2821\n",
      "Epoch 7/20\n",
      "368/368 [==============================] - 1s 4ms/step - loss: 0.2059 - mean_absolute_error: 0.2782 - val_loss: 0.2472 - val_mean_absolute_error: 0.2756\n",
      "***TRAIN***:\n",
      "correlation related to cluster centre: 0.89\n",
      "r2 score related to cluster centre: 0.80\n",
      "***VALIDATION***:\n",
      "correlation related to cluster centre: 0.90\n",
      "r2 score related to cluster centre: 0.80\n"
     ]
    },
    {
     "data": {
      "application/vnd.jupyter.widget-view+json": {
       "model_id": "54bc82f1cb8a45a2bfbfdfbad54eae92",
       "version_major": 2,
       "version_minor": 0
      },
      "text/plain": [
       "IntProgress(value=0, max=204)"
      ]
     },
     "metadata": {},
     "output_type": "display_data"
    },
    {
     "name": "stdout",
     "output_type": "stream",
     "text": [
      "***VALIDATION***:\n",
      "average correlation: 0.89\n",
      "average r2: 0.80\n",
      "---do_investigations. cluster index : 3---\n"
     ]
    },
    {
     "data": {
      "application/vnd.jupyter.widget-view+json": {
       "model_id": "0edf3e9df20d474da15c3d5684d5400e",
       "version_major": 2,
       "version_minor": 0
      },
      "text/plain": [
       "IntProgress(value=0, max=716)"
      ]
     },
     "metadata": {},
     "output_type": "display_data"
    },
    {
     "name": "stdout",
     "output_type": "stream",
     "text": [
      "Epoch 1/20\n",
      "368/368 [==============================] - 4s 5ms/step - loss: 0.0461 - mean_absolute_error: 0.1205 - val_loss: 0.0632 - val_mean_absolute_error: 0.1796\n",
      "Epoch 2/20\n",
      "368/368 [==============================] - 1s 4ms/step - loss: 0.0246 - mean_absolute_error: 0.0887 - val_loss: 0.0562 - val_mean_absolute_error: 0.1649\n",
      "Epoch 3/20\n",
      "368/368 [==============================] - 1s 4ms/step - loss: 0.0239 - mean_absolute_error: 0.0872 - val_loss: 0.0535 - val_mean_absolute_error: 0.1594\n",
      "Epoch 4/20\n",
      "368/368 [==============================] - 1s 4ms/step - loss: 0.0239 - mean_absolute_error: 0.0883 - val_loss: 0.0458 - val_mean_absolute_error: 0.1379\n",
      "Epoch 5/20\n",
      "368/368 [==============================] - 1s 4ms/step - loss: 0.0233 - mean_absolute_error: 0.0869 - val_loss: 0.0444 - val_mean_absolute_error: 0.1337\n",
      "Epoch 6/20\n",
      "368/368 [==============================] - 1s 4ms/step - loss: 0.0233 - mean_absolute_error: 0.0872 - val_loss: 0.0369 - val_mean_absolute_error: 0.1079\n",
      "Epoch 7/20\n",
      "368/368 [==============================] - 1s 4ms/step - loss: 0.0236 - mean_absolute_error: 0.0884 - val_loss: 0.0490 - val_mean_absolute_error: 0.1485\n",
      "Epoch 8/20\n",
      "368/368 [==============================] - 1s 4ms/step - loss: 0.0234 - mean_absolute_error: 0.0865 - val_loss: 0.0422 - val_mean_absolute_error: 0.1281\n",
      "***TRAIN***:\n",
      "correlation related to cluster centre: 0.99\n",
      "r2 score related to cluster centre: 0.97\n",
      "***VALIDATION***:\n",
      "correlation related to cluster centre: 0.97\n",
      "r2 score related to cluster centre: 0.93\n"
     ]
    },
    {
     "data": {
      "application/vnd.jupyter.widget-view+json": {
       "model_id": "06d25e4fedce4085a51118b01528c22f",
       "version_major": 2,
       "version_minor": 0
      },
      "text/plain": [
       "IntProgress(value=0, max=716)"
      ]
     },
     "metadata": {},
     "output_type": "display_data"
    },
    {
     "name": "stdout",
     "output_type": "stream",
     "text": [
      "***VALIDATION***:\n",
      "average correlation: 0.87\n",
      "average r2: 0.59\n",
      "---do_investigations. cluster index : 4---\n"
     ]
    },
    {
     "data": {
      "application/vnd.jupyter.widget-view+json": {
       "model_id": "3ec22f7c4d4d4c2ca2bb2c04e2507ad1",
       "version_major": 2,
       "version_minor": 0
      },
      "text/plain": [
       "IntProgress(value=0, max=178)"
      ]
     },
     "metadata": {},
     "output_type": "display_data"
    },
    {
     "name": "stdout",
     "output_type": "stream",
     "text": [
      "Epoch 1/20\n",
      "368/368 [==============================] - 4s 5ms/step - loss: 0.2436 - mean_absolute_error: 0.3148 - val_loss: 0.2073 - val_mean_absolute_error: 0.2916\n",
      "Epoch 2/20\n",
      "368/368 [==============================] - 1s 4ms/step - loss: 0.2100 - mean_absolute_error: 0.2935 - val_loss: 0.1983 - val_mean_absolute_error: 0.2740\n",
      "Epoch 3/20\n",
      "368/368 [==============================] - 1s 4ms/step - loss: 0.2085 - mean_absolute_error: 0.2928 - val_loss: 0.1947 - val_mean_absolute_error: 0.2758\n",
      "Epoch 4/20\n",
      "368/368 [==============================] - 1s 4ms/step - loss: 0.2065 - mean_absolute_error: 0.2909 - val_loss: 0.1920 - val_mean_absolute_error: 0.2790\n",
      "Epoch 5/20\n",
      "368/368 [==============================] - 1s 4ms/step - loss: 0.2052 - mean_absolute_error: 0.2902 - val_loss: 0.1949 - val_mean_absolute_error: 0.2805\n",
      "Epoch 6/20\n",
      "368/368 [==============================] - 1s 4ms/step - loss: 0.2061 - mean_absolute_error: 0.2905 - val_loss: 0.2004 - val_mean_absolute_error: 0.2997\n",
      "***TRAIN***:\n",
      "correlation related to cluster centre: 0.89\n",
      "r2 score related to cluster centre: 0.78\n",
      "***VALIDATION***:\n",
      "correlation related to cluster centre: 0.90\n",
      "r2 score related to cluster centre: 0.81\n"
     ]
    },
    {
     "data": {
      "application/vnd.jupyter.widget-view+json": {
       "model_id": "33f034f9f80b416bba215e3c9c30ef4f",
       "version_major": 2,
       "version_minor": 0
      },
      "text/plain": [
       "IntProgress(value=0, max=178)"
      ]
     },
     "metadata": {},
     "output_type": "display_data"
    },
    {
     "name": "stdout",
     "output_type": "stream",
     "text": [
      "***VALIDATION***:\n",
      "average correlation: 0.90\n",
      "average r2: 0.80\n",
      "---do_investigations. cluster index : 5---\n"
     ]
    },
    {
     "data": {
      "application/vnd.jupyter.widget-view+json": {
       "model_id": "0d8a97b182ff47eea6e0d37c129b73f3",
       "version_major": 2,
       "version_minor": 0
      },
      "text/plain": [
       "IntProgress(value=0, max=231)"
      ]
     },
     "metadata": {},
     "output_type": "display_data"
    },
    {
     "name": "stdout",
     "output_type": "stream",
     "text": [
      "Epoch 1/20\n",
      "368/368 [==============================] - 3s 5ms/step - loss: 0.2565 - mean_absolute_error: 0.3447 - val_loss: 0.1861 - val_mean_absolute_error: 0.2861\n",
      "Epoch 2/20\n",
      "368/368 [==============================] - 1s 4ms/step - loss: 0.2085 - mean_absolute_error: 0.3102 - val_loss: 0.1828 - val_mean_absolute_error: 0.2821\n",
      "Epoch 3/20\n",
      "368/368 [==============================] - 2s 4ms/step - loss: 0.2063 - mean_absolute_error: 0.3090 - val_loss: 0.1836 - val_mean_absolute_error: 0.2809\n",
      "Epoch 4/20\n",
      "368/368 [==============================] - 1s 4ms/step - loss: 0.2035 - mean_absolute_error: 0.3068 - val_loss: 0.1838 - val_mean_absolute_error: 0.2890\n",
      "***TRAIN***:\n",
      "correlation related to cluster centre: 0.89\n",
      "r2 score related to cluster centre: 0.80\n",
      "***VALIDATION***:\n",
      "correlation related to cluster centre: 0.90\n",
      "r2 score related to cluster centre: 0.81\n"
     ]
    },
    {
     "data": {
      "application/vnd.jupyter.widget-view+json": {
       "model_id": "02a5e9dd66164a988915ba798f799bb2",
       "version_major": 2,
       "version_minor": 0
      },
      "text/plain": [
       "IntProgress(value=0, max=231)"
      ]
     },
     "metadata": {},
     "output_type": "display_data"
    },
    {
     "name": "stdout",
     "output_type": "stream",
     "text": [
      "***VALIDATION***:\n",
      "average correlation: 0.90\n",
      "average r2: 0.79\n",
      "---do_investigations. cluster index : 6---\n"
     ]
    },
    {
     "data": {
      "application/vnd.jupyter.widget-view+json": {
       "model_id": "82b2c9dd956e499f99548d392dd434a2",
       "version_major": 2,
       "version_minor": 0
      },
      "text/plain": [
       "IntProgress(value=0, max=112)"
      ]
     },
     "metadata": {},
     "output_type": "display_data"
    },
    {
     "name": "stdout",
     "output_type": "stream",
     "text": [
      "Epoch 1/20\n",
      "368/368 [==============================] - 3s 5ms/step - loss: 0.2236 - mean_absolute_error: 0.3261 - val_loss: 0.1417 - val_mean_absolute_error: 0.2711\n",
      "Epoch 2/20\n",
      "368/368 [==============================] - 1s 4ms/step - loss: 0.1974 - mean_absolute_error: 0.3038 - val_loss: 0.1377 - val_mean_absolute_error: 0.2574\n",
      "Epoch 3/20\n",
      "368/368 [==============================] - 1s 4ms/step - loss: 0.1959 - mean_absolute_error: 0.3018 - val_loss: 0.1384 - val_mean_absolute_error: 0.2630\n",
      "Epoch 4/20\n",
      "368/368 [==============================] - 1s 4ms/step - loss: 0.1954 - mean_absolute_error: 0.3014 - val_loss: 0.1398 - val_mean_absolute_error: 0.2687\n",
      "***TRAIN***:\n",
      "correlation related to cluster centre: 0.90\n",
      "r2 score related to cluster centre: 0.81\n",
      "***VALIDATION***:\n",
      "correlation related to cluster centre: 0.91\n",
      "r2 score related to cluster centre: 0.83\n"
     ]
    },
    {
     "data": {
      "application/vnd.jupyter.widget-view+json": {
       "model_id": "eb45f9c1a6fc462fb30f85c283633eec",
       "version_major": 2,
       "version_minor": 0
      },
      "text/plain": [
       "IntProgress(value=0, max=112)"
      ]
     },
     "metadata": {},
     "output_type": "display_data"
    },
    {
     "name": "stdout",
     "output_type": "stream",
     "text": [
      "***VALIDATION***:\n",
      "average correlation: 0.91\n",
      "average r2: 0.82\n",
      "---do_investigations. cluster index : 7---\n"
     ]
    },
    {
     "data": {
      "application/vnd.jupyter.widget-view+json": {
       "model_id": "748a8ade1b2b4ef69faa47c840856614",
       "version_major": 2,
       "version_minor": 0
      },
      "text/plain": [
       "IntProgress(value=0, max=170)"
      ]
     },
     "metadata": {},
     "output_type": "display_data"
    },
    {
     "name": "stdout",
     "output_type": "stream",
     "text": [
      "Epoch 1/20\n",
      "368/368 [==============================] - 3s 5ms/step - loss: 0.2268 - mean_absolute_error: 0.3324 - val_loss: 0.1941 - val_mean_absolute_error: 0.3149\n",
      "Epoch 2/20\n",
      "368/368 [==============================] - 1s 4ms/step - loss: 0.2005 - mean_absolute_error: 0.3104 - val_loss: 0.1714 - val_mean_absolute_error: 0.3036\n",
      "Epoch 3/20\n",
      "368/368 [==============================] - 1s 4ms/step - loss: 0.1997 - mean_absolute_error: 0.3104 - val_loss: 0.1779 - val_mean_absolute_error: 0.3057\n",
      "Epoch 4/20\n",
      "368/368 [==============================] - 1s 4ms/step - loss: 0.1982 - mean_absolute_error: 0.3087 - val_loss: 0.1818 - val_mean_absolute_error: 0.3070\n",
      "***TRAIN***:\n",
      "correlation related to cluster centre: 0.90\n",
      "r2 score related to cluster centre: 0.79\n",
      "***VALIDATION***:\n",
      "correlation related to cluster centre: 0.91\n",
      "r2 score related to cluster centre: 0.81\n"
     ]
    },
    {
     "data": {
      "application/vnd.jupyter.widget-view+json": {
       "model_id": "fa6e9fd9deec4e96907edc15b0eb3d66",
       "version_major": 2,
       "version_minor": 0
      },
      "text/plain": [
       "IntProgress(value=0, max=170)"
      ]
     },
     "metadata": {},
     "output_type": "display_data"
    },
    {
     "name": "stdout",
     "output_type": "stream",
     "text": [
      "***VALIDATION***:\n",
      "average correlation: 0.91\n",
      "average r2: 0.78\n",
      "---do_investigations. cluster index : 8---\n"
     ]
    },
    {
     "data": {
      "application/vnd.jupyter.widget-view+json": {
       "model_id": "62becca03f6842e68c83633e3ed84984",
       "version_major": 2,
       "version_minor": 0
      },
      "text/plain": [
       "IntProgress(value=0, max=362)"
      ]
     },
     "metadata": {},
     "output_type": "display_data"
    },
    {
     "name": "stdout",
     "output_type": "stream",
     "text": [
      "Epoch 1/20\n",
      "368/368 [==============================] - 4s 5ms/step - loss: 0.2515 - mean_absolute_error: 0.3036 - val_loss: 0.2788 - val_mean_absolute_error: 0.2809\n",
      "Epoch 2/20\n",
      "368/368 [==============================] - 1s 4ms/step - loss: 0.2094 - mean_absolute_error: 0.2751 - val_loss: 0.2799 - val_mean_absolute_error: 0.2793\n",
      "Epoch 3/20\n",
      "368/368 [==============================] - 1s 4ms/step - loss: 0.2070 - mean_absolute_error: 0.2733 - val_loss: 0.2801 - val_mean_absolute_error: 0.2869\n",
      "***TRAIN***:\n",
      "correlation related to cluster centre: 0.89\n",
      "r2 score related to cluster centre: 0.79\n",
      "***VALIDATION***:\n",
      "correlation related to cluster centre: 0.89\n",
      "r2 score related to cluster centre: 0.79\n"
     ]
    },
    {
     "data": {
      "application/vnd.jupyter.widget-view+json": {
       "model_id": "b8cae5761ba6421a84ba5a418025410f",
       "version_major": 2,
       "version_minor": 0
      },
      "text/plain": [
       "IntProgress(value=0, max=362)"
      ]
     },
     "metadata": {},
     "output_type": "display_data"
    },
    {
     "name": "stdout",
     "output_type": "stream",
     "text": [
      "***VALIDATION***:\n",
      "average correlation: 0.88\n",
      "average r2: 0.76\n",
      "---do_investigations. cluster index : 9---\n"
     ]
    },
    {
     "data": {
      "application/vnd.jupyter.widget-view+json": {
       "model_id": "02d2599012d44a0e935f1e28a35cf152",
       "version_major": 2,
       "version_minor": 0
      },
      "text/plain": [
       "IntProgress(value=0, max=111)"
      ]
     },
     "metadata": {},
     "output_type": "display_data"
    },
    {
     "name": "stdout",
     "output_type": "stream",
     "text": [
      "Epoch 1/20\n",
      "368/368 [==============================] - 4s 5ms/step - loss: 0.2369 - mean_absolute_error: 0.3325 - val_loss: 0.1522 - val_mean_absolute_error: 0.2800\n",
      "Epoch 2/20\n",
      "368/368 [==============================] - 1s 4ms/step - loss: 0.2122 - mean_absolute_error: 0.3112 - val_loss: 0.1516 - val_mean_absolute_error: 0.2792\n",
      "Epoch 3/20\n",
      "368/368 [==============================] - 1s 4ms/step - loss: 0.2108 - mean_absolute_error: 0.3096 - val_loss: 0.1498 - val_mean_absolute_error: 0.2766\n",
      "Epoch 4/20\n",
      "368/368 [==============================] - 1s 4ms/step - loss: 0.2108 - mean_absolute_error: 0.3097 - val_loss: 0.1499 - val_mean_absolute_error: 0.2676\n",
      "Epoch 5/20\n",
      "368/368 [==============================] - 1s 4ms/step - loss: 0.2113 - mean_absolute_error: 0.3098 - val_loss: 0.1513 - val_mean_absolute_error: 0.2669\n",
      "***TRAIN***:\n",
      "correlation related to cluster centre: 0.89\n",
      "r2 score related to cluster centre: 0.79\n",
      "***VALIDATION***:\n",
      "correlation related to cluster centre: 0.91\n",
      "r2 score related to cluster centre: 0.82\n"
     ]
    },
    {
     "data": {
      "application/vnd.jupyter.widget-view+json": {
       "model_id": "4eafd50ee61144c3bda45a33d3795bcb",
       "version_major": 2,
       "version_minor": 0
      },
      "text/plain": [
       "IntProgress(value=0, max=111)"
      ]
     },
     "metadata": {},
     "output_type": "display_data"
    },
    {
     "name": "stdout",
     "output_type": "stream",
     "text": [
      "***VALIDATION***:\n",
      "average correlation: 0.91\n",
      "average r2: 0.77\n",
      "---do_investigations. cluster index : 10---\n"
     ]
    },
    {
     "data": {
      "application/vnd.jupyter.widget-view+json": {
       "model_id": "feedcede111749f78d52868e9dd81375",
       "version_major": 2,
       "version_minor": 0
      },
      "text/plain": [
       "IntProgress(value=0, max=286)"
      ]
     },
     "metadata": {},
     "output_type": "display_data"
    },
    {
     "name": "stdout",
     "output_type": "stream",
     "text": [
      "Epoch 1/20\n",
      "368/368 [==============================] - 4s 5ms/step - loss: 0.2174 - mean_absolute_error: 0.2955 - val_loss: 0.1558 - val_mean_absolute_error: 0.2390\n",
      "Epoch 2/20\n",
      "368/368 [==============================] - 2s 4ms/step - loss: 0.1945 - mean_absolute_error: 0.2770 - val_loss: 0.1592 - val_mean_absolute_error: 0.2479\n",
      "Epoch 3/20\n",
      "368/368 [==============================] - 1s 4ms/step - loss: 0.1922 - mean_absolute_error: 0.2748 - val_loss: 0.1554 - val_mean_absolute_error: 0.2322\n",
      "Epoch 4/20\n",
      "368/368 [==============================] - 1s 4ms/step - loss: 0.1914 - mean_absolute_error: 0.2749 - val_loss: 0.1533 - val_mean_absolute_error: 0.2400\n",
      "Epoch 5/20\n",
      "368/368 [==============================] - 1s 4ms/step - loss: 0.1916 - mean_absolute_error: 0.2748 - val_loss: 0.1558 - val_mean_absolute_error: 0.2497\n",
      "Epoch 6/20\n",
      "368/368 [==============================] - 1s 4ms/step - loss: 0.1907 - mean_absolute_error: 0.2748 - val_loss: 0.1581 - val_mean_absolute_error: 0.2358\n",
      "***TRAIN***:\n",
      "correlation related to cluster centre: 0.90\n",
      "r2 score related to cluster centre: 0.81\n",
      "***VALIDATION***:\n",
      "correlation related to cluster centre: 0.91\n",
      "r2 score related to cluster centre: 0.83\n"
     ]
    },
    {
     "data": {
      "application/vnd.jupyter.widget-view+json": {
       "model_id": "0aafd72602eb4890975825351e7868b4",
       "version_major": 2,
       "version_minor": 0
      },
      "text/plain": [
       "IntProgress(value=0, max=286)"
      ]
     },
     "metadata": {},
     "output_type": "display_data"
    },
    {
     "name": "stdout",
     "output_type": "stream",
     "text": [
      "***VALIDATION***:\n",
      "average correlation: 0.90\n",
      "average r2: 0.65\n",
      "---do_investigations. cluster index : 11---\n"
     ]
    },
    {
     "data": {
      "application/vnd.jupyter.widget-view+json": {
       "model_id": "b85246b541ce4dd5a1a5999d89ed47a3",
       "version_major": 2,
       "version_minor": 0
      },
      "text/plain": [
       "IntProgress(value=0, max=226)"
      ]
     },
     "metadata": {},
     "output_type": "display_data"
    },
    {
     "name": "stdout",
     "output_type": "stream",
     "text": [
      "Epoch 1/20\n",
      "368/368 [==============================] - 3s 5ms/step - loss: 0.2384 - mean_absolute_error: 0.3451 - val_loss: 0.1967 - val_mean_absolute_error: 0.3079\n",
      "Epoch 2/20\n",
      "368/368 [==============================] - 1s 4ms/step - loss: 0.2091 - mean_absolute_error: 0.3197 - val_loss: 0.1971 - val_mean_absolute_error: 0.3145\n",
      "Epoch 3/20\n",
      "368/368 [==============================] - 1s 4ms/step - loss: 0.2101 - mean_absolute_error: 0.3212 - val_loss: 0.1942 - val_mean_absolute_error: 0.3102\n",
      "Epoch 4/20\n",
      "368/368 [==============================] - 1s 4ms/step - loss: 0.2081 - mean_absolute_error: 0.3190 - val_loss: 0.1966 - val_mean_absolute_error: 0.3160\n",
      "Epoch 5/20\n",
      "368/368 [==============================] - 1s 4ms/step - loss: 0.2086 - mean_absolute_error: 0.3195 - val_loss: 0.2005 - val_mean_absolute_error: 0.3147\n",
      "***TRAIN***:\n",
      "correlation related to cluster centre: 0.89\n",
      "r2 score related to cluster centre: 0.79\n",
      "***VALIDATION***:\n",
      "correlation related to cluster centre: 0.90\n",
      "r2 score related to cluster centre: 0.81\n"
     ]
    },
    {
     "data": {
      "application/vnd.jupyter.widget-view+json": {
       "model_id": "456d7bdaed0c4923ad607697c4e6a2a8",
       "version_major": 2,
       "version_minor": 0
      },
      "text/plain": [
       "IntProgress(value=0, max=226)"
      ]
     },
     "metadata": {},
     "output_type": "display_data"
    },
    {
     "name": "stdout",
     "output_type": "stream",
     "text": [
      "***VALIDATION***:\n",
      "average correlation: 0.90\n",
      "average r2: 0.79\n",
      "---do_investigations. cluster index : 12---\n"
     ]
    },
    {
     "data": {
      "application/vnd.jupyter.widget-view+json": {
       "model_id": "efa7307646ec493c8ffb90d0d888f49b",
       "version_major": 2,
       "version_minor": 0
      },
      "text/plain": [
       "IntProgress(value=0, max=4441)"
      ]
     },
     "metadata": {},
     "output_type": "display_data"
    },
    {
     "name": "stdout",
     "output_type": "stream",
     "text": [
      "Epoch 1/20\n",
      "368/368 [==============================] - 5s 6ms/step - loss: 0.1552 - mean_absolute_error: 0.2429 - val_loss: 0.1412 - val_mean_absolute_error: 0.1909\n",
      "Epoch 2/20\n",
      "368/368 [==============================] - 1s 4ms/step - loss: 0.1224 - mean_absolute_error: 0.2153 - val_loss: 0.1390 - val_mean_absolute_error: 0.1898\n",
      "Epoch 3/20\n",
      "368/368 [==============================] - 1s 4ms/step - loss: 0.1222 - mean_absolute_error: 0.2149 - val_loss: 0.1399 - val_mean_absolute_error: 0.1939\n",
      "Epoch 4/20\n",
      "368/368 [==============================] - 1s 4ms/step - loss: 0.1207 - mean_absolute_error: 0.2131 - val_loss: 0.1374 - val_mean_absolute_error: 0.1898\n",
      "Epoch 5/20\n",
      "368/368 [==============================] - 1s 4ms/step - loss: 0.1204 - mean_absolute_error: 0.2121 - val_loss: 0.1383 - val_mean_absolute_error: 0.1907\n",
      "Epoch 6/20\n",
      "368/368 [==============================] - 1s 4ms/step - loss: 0.1202 - mean_absolute_error: 0.2121 - val_loss: 0.1397 - val_mean_absolute_error: 0.1954\n",
      "***TRAIN***:\n",
      "correlation related to cluster centre: 0.94\n",
      "r2 score related to cluster centre: 0.88\n",
      "***VALIDATION***:\n",
      "correlation related to cluster centre: 0.91\n",
      "r2 score related to cluster centre: 0.82\n"
     ]
    },
    {
     "data": {
      "application/vnd.jupyter.widget-view+json": {
       "model_id": "69c00074f9704c69a49c644415046933",
       "version_major": 2,
       "version_minor": 0
      },
      "text/plain": [
       "IntProgress(value=0, max=4441)"
      ]
     },
     "metadata": {},
     "output_type": "display_data"
    },
    {
     "name": "stdout",
     "output_type": "stream",
     "text": [
      "***VALIDATION***:\n",
      "average correlation: nan\n",
      "average r2: -2441027266848384415086673920.00\n",
      "---do_investigations. cluster index : 13---\n"
     ]
    },
    {
     "data": {
      "application/vnd.jupyter.widget-view+json": {
       "model_id": "0e380695402f43f4b6e8737f2fd6b607",
       "version_major": 2,
       "version_minor": 0
      },
      "text/plain": [
       "IntProgress(value=0, max=152)"
      ]
     },
     "metadata": {},
     "output_type": "display_data"
    },
    {
     "name": "stdout",
     "output_type": "stream",
     "text": [
      "Epoch 1/20\n",
      "368/368 [==============================] - 8s 6ms/step - loss: 0.2499 - mean_absolute_error: 0.3289 - val_loss: 0.1720 - val_mean_absolute_error: 0.2705\n",
      "Epoch 2/20\n",
      "368/368 [==============================] - 2s 4ms/step - loss: 0.2105 - mean_absolute_error: 0.2997 - val_loss: 0.1716 - val_mean_absolute_error: 0.2832\n",
      "Epoch 3/20\n",
      "368/368 [==============================] - 1s 4ms/step - loss: 0.2097 - mean_absolute_error: 0.2997 - val_loss: 0.1718 - val_mean_absolute_error: 0.2728\n",
      "Epoch 4/20\n",
      "368/368 [==============================] - 1s 4ms/step - loss: 0.2100 - mean_absolute_error: 0.2990 - val_loss: 0.1710 - val_mean_absolute_error: 0.2725\n",
      "Epoch 5/20\n",
      "368/368 [==============================] - 1s 4ms/step - loss: 0.2103 - mean_absolute_error: 0.3001 - val_loss: 0.1865 - val_mean_absolute_error: 0.2833\n",
      "Epoch 6/20\n",
      "368/368 [==============================] - 1s 4ms/step - loss: 0.2103 - mean_absolute_error: 0.2994 - val_loss: 0.1760 - val_mean_absolute_error: 0.2740\n",
      "***TRAIN***:\n",
      "correlation related to cluster centre: 0.89\n",
      "r2 score related to cluster centre: 0.79\n",
      "***VALIDATION***:\n",
      "correlation related to cluster centre: 0.91\n",
      "r2 score related to cluster centre: 0.81\n"
     ]
    },
    {
     "data": {
      "application/vnd.jupyter.widget-view+json": {
       "model_id": "9138b2d6f0904c1387108c7e892448b5",
       "version_major": 2,
       "version_minor": 0
      },
      "text/plain": [
       "IntProgress(value=0, max=152)"
      ]
     },
     "metadata": {},
     "output_type": "display_data"
    },
    {
     "name": "stdout",
     "output_type": "stream",
     "text": [
      "***VALIDATION***:\n",
      "average correlation: 0.90\n",
      "average r2: 0.81\n",
      "weighted_average_correlation: 0.89\n",
      "weighted_average_r2_score: 0.73\n",
      "bad clusters rate: 0.58%\n",
      "------------------------------------------------------\n"
     ]
    }
   ],
   "source": [
    "first_path = r\"C:\\Coding\\final-qualifying-work_2023-2024\\ClusteringCpp\\output\\kmeans 5 0.1 20.txt\"\n",
    "second_path = r\"C:\\Coding\\final-qualifying-work_2023-2024\\ClusteringCpp\\output\\kmeans 15 0.1 20.txt\"\n",
    "third_path = r\"C:\\Coding\\final-qualifying-work_2023-2024\\ClusteringCpp\\output\\kmeans 30 0.1 20.txt\"\n",
    "fourth_path = r\"C:\\Coding\\final-qualifying-work_2023-2024\\ClusteringCpp\\output\\kmeans 60 0.1 20.txt\"\n",
    "\n",
    "output_file = open(\"computational-experiments-output-kmeans.txt\", \"a\")\n",
    "\n",
    "selected_path = third_path\n",
    "\n",
    "print('------------------------------------------------------')\n",
    "output_file.write('------------------------------------------------------\\n')\n",
    "\n",
    "print(f\"rnn {os.path.split(selected_path)[-1]}\")\n",
    "output_file.write(f\"rnn {os.path.split(selected_path)[-1]}\\n\")\n",
    "show_results(rnn_model, get_clusters(selected_path), CONV_WIDTH)\n",
    "\n",
    "print('------------------------------------------------------')\n",
    "output_file.write('------------------------------------------------------\\n')\n",
    "\n",
    "output_file.close()"
   ]
  },
  {
   "cell_type": "code",
   "execution_count": 30,
   "id": "77354661-3d2c-40c1-8168-5548fd6fd4a0",
   "metadata": {},
   "outputs": [
    {
     "name": "stdout",
     "output_type": "stream",
     "text": [
      "------------------------------------------------------\n",
      "rnn kmeans 60 0.1 20.txt\n",
      "---do_investigations. cluster index : 0---\n"
     ]
    },
    {
     "data": {
      "application/vnd.jupyter.widget-view+json": {
       "model_id": "2c7199f69f1a4501a9351a2afc599dda",
       "version_major": 2,
       "version_minor": 0
      },
      "text/plain": [
       "IntProgress(value=0, max=110)"
      ]
     },
     "metadata": {},
     "output_type": "display_data"
    },
    {
     "name": "stdout",
     "output_type": "stream",
     "text": [
      "Epoch 1/20\n",
      "368/368 [==============================] - 4s 5ms/step - loss: 0.2509 - mean_absolute_error: 0.3382 - val_loss: 0.1647 - val_mean_absolute_error: 0.2675\n",
      "Epoch 2/20\n",
      "368/368 [==============================] - 1s 4ms/step - loss: 0.2119 - mean_absolute_error: 0.3111 - val_loss: 0.1571 - val_mean_absolute_error: 0.2699\n",
      "Epoch 3/20\n",
      "368/368 [==============================] - 1s 4ms/step - loss: 0.2123 - mean_absolute_error: 0.3102 - val_loss: 0.1601 - val_mean_absolute_error: 0.2661\n",
      "Epoch 4/20\n",
      "368/368 [==============================] - 1s 4ms/step - loss: 0.2116 - mean_absolute_error: 0.3103 - val_loss: 0.1588 - val_mean_absolute_error: 0.2651\n",
      "***TRAIN***:\n",
      "correlation related to cluster centre: 0.89\n",
      "r2 score related to cluster centre: 0.79\n",
      "***VALIDATION***:\n",
      "correlation related to cluster centre: 0.91\n",
      "r2 score related to cluster centre: 0.82\n"
     ]
    },
    {
     "data": {
      "application/vnd.jupyter.widget-view+json": {
       "model_id": "7efeeac2d5294786b645dd08d141b4d0",
       "version_major": 2,
       "version_minor": 0
      },
      "text/plain": [
       "IntProgress(value=0, max=110)"
      ]
     },
     "metadata": {},
     "output_type": "display_data"
    },
    {
     "name": "stdout",
     "output_type": "stream",
     "text": [
      "***VALIDATION***:\n",
      "average correlation: 0.90\n",
      "average r2: 0.79\n",
      "---do_investigations. cluster index : 1---\n"
     ]
    },
    {
     "data": {
      "application/vnd.jupyter.widget-view+json": {
       "model_id": "cfd068a99a2c422ba82749708861b7f8",
       "version_major": 2,
       "version_minor": 0
      },
      "text/plain": [
       "IntProgress(value=0, max=184)"
      ]
     },
     "metadata": {},
     "output_type": "display_data"
    },
    {
     "name": "stdout",
     "output_type": "stream",
     "text": [
      "Epoch 1/20\n",
      "368/368 [==============================] - 4s 5ms/step - loss: 0.2318 - mean_absolute_error: 0.2888 - val_loss: 0.1577 - val_mean_absolute_error: 0.2235\n",
      "Epoch 2/20\n",
      "368/368 [==============================] - 1s 4ms/step - loss: 0.1962 - mean_absolute_error: 0.2673 - val_loss: 0.1536 - val_mean_absolute_error: 0.2108\n",
      "Epoch 3/20\n",
      "368/368 [==============================] - 1s 4ms/step - loss: 0.1953 - mean_absolute_error: 0.2661 - val_loss: 0.1534 - val_mean_absolute_error: 0.2197\n",
      "Epoch 4/20\n",
      "368/368 [==============================] - 1s 4ms/step - loss: 0.1940 - mean_absolute_error: 0.2664 - val_loss: 0.1588 - val_mean_absolute_error: 0.2167\n",
      "Epoch 5/20\n",
      "368/368 [==============================] - 1s 4ms/step - loss: 0.1951 - mean_absolute_error: 0.2674 - val_loss: 0.1540 - val_mean_absolute_error: 0.2128\n",
      "***TRAIN***:\n",
      "correlation related to cluster centre: 0.90\n",
      "r2 score related to cluster centre: 0.81\n",
      "***VALIDATION***:\n",
      "correlation related to cluster centre: 0.91\n",
      "r2 score related to cluster centre: 0.83\n"
     ]
    },
    {
     "data": {
      "application/vnd.jupyter.widget-view+json": {
       "model_id": "b2eb8fa709474d9fb77fec0d234a5dd9",
       "version_major": 2,
       "version_minor": 0
      },
      "text/plain": [
       "IntProgress(value=0, max=184)"
      ]
     },
     "metadata": {},
     "output_type": "display_data"
    },
    {
     "name": "stdout",
     "output_type": "stream",
     "text": [
      "***VALIDATION***:\n",
      "average correlation: 0.89\n",
      "average r2: 0.77\n",
      "---do_investigations. cluster index : 2---\n"
     ]
    },
    {
     "data": {
      "application/vnd.jupyter.widget-view+json": {
       "model_id": "899754b781c2444c9c239127a9576a10",
       "version_major": 2,
       "version_minor": 0
      },
      "text/plain": [
       "IntProgress(value=0, max=207)"
      ]
     },
     "metadata": {},
     "output_type": "display_data"
    },
    {
     "name": "stdout",
     "output_type": "stream",
     "text": [
      "Epoch 1/20\n",
      "368/368 [==============================] - 7s 14ms/step - loss: 0.2351 - mean_absolute_error: 0.3319 - val_loss: 0.1835 - val_mean_absolute_error: 0.2860\n",
      "Epoch 2/20\n",
      "368/368 [==============================] - 1s 4ms/step - loss: 0.2042 - mean_absolute_error: 0.3084 - val_loss: 0.1831 - val_mean_absolute_error: 0.2800\n",
      "Epoch 3/20\n",
      "368/368 [==============================] - 1s 4ms/step - loss: 0.2042 - mean_absolute_error: 0.3083 - val_loss: 0.1815 - val_mean_absolute_error: 0.2825\n",
      "Epoch 4/20\n",
      "368/368 [==============================] - 1s 4ms/step - loss: 0.2018 - mean_absolute_error: 0.3067 - val_loss: 0.1816 - val_mean_absolute_error: 0.2883\n",
      "Epoch 5/20\n",
      "368/368 [==============================] - 1s 4ms/step - loss: 0.2034 - mean_absolute_error: 0.3087 - val_loss: 0.1840 - val_mean_absolute_error: 0.2830\n",
      "***TRAIN***:\n",
      "correlation related to cluster centre: 0.90\n",
      "r2 score related to cluster centre: 0.80\n",
      "***VALIDATION***:\n",
      "correlation related to cluster centre: 0.90\n",
      "r2 score related to cluster centre: 0.82\n"
     ]
    },
    {
     "data": {
      "application/vnd.jupyter.widget-view+json": {
       "model_id": "32f2b91da9bf4748b53327bc445511b3",
       "version_major": 2,
       "version_minor": 0
      },
      "text/plain": [
       "IntProgress(value=0, max=207)"
      ]
     },
     "metadata": {},
     "output_type": "display_data"
    },
    {
     "name": "stdout",
     "output_type": "stream",
     "text": [
      "***VALIDATION***:\n",
      "average correlation: 0.90\n",
      "average r2: 0.80\n",
      "---do_investigations. cluster index : 3---\n"
     ]
    },
    {
     "data": {
      "application/vnd.jupyter.widget-view+json": {
       "model_id": "accad06147c241fcb0f6bb2ee7482fc1",
       "version_major": 2,
       "version_minor": 0
      },
      "text/plain": [
       "IntProgress(value=0, max=118)"
      ]
     },
     "metadata": {},
     "output_type": "display_data"
    },
    {
     "name": "stdout",
     "output_type": "stream",
     "text": [
      "Epoch 1/20\n",
      "368/368 [==============================] - 5s 5ms/step - loss: 0.2472 - mean_absolute_error: 0.3142 - val_loss: 0.2319 - val_mean_absolute_error: 0.2950\n",
      "Epoch 2/20\n",
      "368/368 [==============================] - 1s 4ms/step - loss: 0.2089 - mean_absolute_error: 0.2850 - val_loss: 0.2244 - val_mean_absolute_error: 0.2850\n",
      "Epoch 3/20\n",
      "368/368 [==============================] - 1s 4ms/step - loss: 0.2077 - mean_absolute_error: 0.2847 - val_loss: 0.2225 - val_mean_absolute_error: 0.2899\n",
      "Epoch 4/20\n",
      "368/368 [==============================] - 1s 4ms/step - loss: 0.2091 - mean_absolute_error: 0.2861 - val_loss: 0.2184 - val_mean_absolute_error: 0.2791\n",
      "Epoch 5/20\n",
      "368/368 [==============================] - 1s 4ms/step - loss: 0.2063 - mean_absolute_error: 0.2834 - val_loss: 0.2201 - val_mean_absolute_error: 0.2865\n",
      "Epoch 6/20\n",
      "368/368 [==============================] - 1s 4ms/step - loss: 0.2076 - mean_absolute_error: 0.2857 - val_loss: 0.2178 - val_mean_absolute_error: 0.2813\n",
      "Epoch 7/20\n",
      "368/368 [==============================] - 1s 4ms/step - loss: 0.2056 - mean_absolute_error: 0.2825 - val_loss: 0.2197 - val_mean_absolute_error: 0.2838\n",
      "Epoch 8/20\n",
      "368/368 [==============================] - 1s 4ms/step - loss: 0.2055 - mean_absolute_error: 0.2825 - val_loss: 0.2227 - val_mean_absolute_error: 0.2803\n",
      "***TRAIN***:\n",
      "correlation related to cluster centre: 0.89\n",
      "r2 score related to cluster centre: 0.80\n",
      "***VALIDATION***:\n",
      "correlation related to cluster centre: 0.90\n",
      "r2 score related to cluster centre: 0.81\n"
     ]
    },
    {
     "data": {
      "application/vnd.jupyter.widget-view+json": {
       "model_id": "6aa5e2aee152400cac098b8f230b4f89",
       "version_major": 2,
       "version_minor": 0
      },
      "text/plain": [
       "IntProgress(value=0, max=118)"
      ]
     },
     "metadata": {},
     "output_type": "display_data"
    },
    {
     "name": "stdout",
     "output_type": "stream",
     "text": [
      "***VALIDATION***:\n",
      "average correlation: 0.90\n",
      "average r2: 0.80\n",
      "---do_investigations. cluster index : 4---\n"
     ]
    },
    {
     "data": {
      "application/vnd.jupyter.widget-view+json": {
       "model_id": "9d4424d4ff854f4f81c772d57ba5fce7",
       "version_major": 2,
       "version_minor": 0
      },
      "text/plain": [
       "IntProgress(value=0, max=119)"
      ]
     },
     "metadata": {},
     "output_type": "display_data"
    },
    {
     "name": "stdout",
     "output_type": "stream",
     "text": [
      "Epoch 1/20\n",
      "368/368 [==============================] - 4s 5ms/step - loss: 0.2413 - mean_absolute_error: 0.3155 - val_loss: 0.1943 - val_mean_absolute_error: 0.3017\n",
      "Epoch 2/20\n",
      "368/368 [==============================] - 2s 4ms/step - loss: 0.2098 - mean_absolute_error: 0.2923 - val_loss: 0.1910 - val_mean_absolute_error: 0.2807\n",
      "Epoch 3/20\n",
      "368/368 [==============================] - 1s 4ms/step - loss: 0.2097 - mean_absolute_error: 0.2923 - val_loss: 0.1939 - val_mean_absolute_error: 0.2867\n",
      "Epoch 4/20\n",
      "368/368 [==============================] - 1s 4ms/step - loss: 0.2073 - mean_absolute_error: 0.2897 - val_loss: 0.1901 - val_mean_absolute_error: 0.2831\n",
      "Epoch 5/20\n",
      "368/368 [==============================] - 1s 4ms/step - loss: 0.2086 - mean_absolute_error: 0.2903 - val_loss: 0.1943 - val_mean_absolute_error: 0.2777\n",
      "Epoch 6/20\n",
      "368/368 [==============================] - 1s 4ms/step - loss: 0.2069 - mean_absolute_error: 0.2884 - val_loss: 0.1985 - val_mean_absolute_error: 0.2921\n",
      "***TRAIN***:\n",
      "correlation related to cluster centre: 0.89\n",
      "r2 score related to cluster centre: 0.79\n",
      "***VALIDATION***:\n",
      "correlation related to cluster centre: 0.90\n",
      "r2 score related to cluster centre: 0.81\n"
     ]
    },
    {
     "data": {
      "application/vnd.jupyter.widget-view+json": {
       "model_id": "c9646273ea764a6a8ec958957a7a9ea8",
       "version_major": 2,
       "version_minor": 0
      },
      "text/plain": [
       "IntProgress(value=0, max=119)"
      ]
     },
     "metadata": {},
     "output_type": "display_data"
    },
    {
     "name": "stdout",
     "output_type": "stream",
     "text": [
      "***VALIDATION***:\n",
      "average correlation: 0.90\n",
      "average r2: 0.80\n",
      "---do_investigations. cluster index : 5---\n"
     ]
    },
    {
     "data": {
      "application/vnd.jupyter.widget-view+json": {
       "model_id": "4d094b9fab004409bbf781082685840c",
       "version_major": 2,
       "version_minor": 0
      },
      "text/plain": [
       "IntProgress(value=0, max=377)"
      ]
     },
     "metadata": {},
     "output_type": "display_data"
    },
    {
     "name": "stdout",
     "output_type": "stream",
     "text": [
      "Epoch 1/20\n",
      "368/368 [==============================] - 4s 5ms/step - loss: 0.2546 - mean_absolute_error: 0.3033 - val_loss: 0.2747 - val_mean_absolute_error: 0.2871\n",
      "Epoch 2/20\n",
      "368/368 [==============================] - 1s 4ms/step - loss: 0.2115 - mean_absolute_error: 0.2763 - val_loss: 0.2657 - val_mean_absolute_error: 0.2875\n",
      "Epoch 3/20\n",
      "368/368 [==============================] - 1s 4ms/step - loss: 0.2110 - mean_absolute_error: 0.2751 - val_loss: 0.2659 - val_mean_absolute_error: 0.2824\n",
      "Epoch 4/20\n",
      "368/368 [==============================] - 2s 4ms/step - loss: 0.2085 - mean_absolute_error: 0.2740 - val_loss: 0.2661 - val_mean_absolute_error: 0.2711\n",
      "***TRAIN***:\n",
      "correlation related to cluster centre: 0.89\n",
      "r2 score related to cluster centre: 0.79\n",
      "***VALIDATION***:\n",
      "correlation related to cluster centre: 0.89\n",
      "r2 score related to cluster centre: 0.79\n"
     ]
    },
    {
     "data": {
      "application/vnd.jupyter.widget-view+json": {
       "model_id": "b7d0fcd596aa42b7af42dccc61c9e6f2",
       "version_major": 2,
       "version_minor": 0
      },
      "text/plain": [
       "IntProgress(value=0, max=377)"
      ]
     },
     "metadata": {},
     "output_type": "display_data"
    },
    {
     "name": "stdout",
     "output_type": "stream",
     "text": [
      "***VALIDATION***:\n",
      "average correlation: 0.87\n",
      "average r2: 0.75\n",
      "---do_investigations. cluster index : 6---\n"
     ]
    },
    {
     "data": {
      "application/vnd.jupyter.widget-view+json": {
       "model_id": "34f71fa1bdc44460891f11a93f9ddd4d",
       "version_major": 2,
       "version_minor": 0
      },
      "text/plain": [
       "IntProgress(value=0, max=160)"
      ]
     },
     "metadata": {},
     "output_type": "display_data"
    },
    {
     "name": "stdout",
     "output_type": "stream",
     "text": [
      "Epoch 1/20\n",
      "368/368 [==============================] - 5s 5ms/step - loss: 0.2399 - mean_absolute_error: 0.3461 - val_loss: 0.1922 - val_mean_absolute_error: 0.3056\n",
      "Epoch 2/20\n",
      "368/368 [==============================] - 2s 4ms/step - loss: 0.2077 - mean_absolute_error: 0.3192 - val_loss: 0.1865 - val_mean_absolute_error: 0.3016\n",
      "Epoch 3/20\n",
      "368/368 [==============================] - 2s 4ms/step - loss: 0.2075 - mean_absolute_error: 0.3189 - val_loss: 0.1896 - val_mean_absolute_error: 0.3031\n",
      "Epoch 4/20\n",
      "368/368 [==============================] - 2s 7ms/step - loss: 0.2073 - mean_absolute_error: 0.3182 - val_loss: 0.1883 - val_mean_absolute_error: 0.3029\n",
      "***TRAIN***:\n",
      "correlation related to cluster centre: 0.89\n",
      "r2 score related to cluster centre: 0.79\n",
      "***VALIDATION***:\n",
      "correlation related to cluster centre: 0.91\n",
      "r2 score related to cluster centre: 0.82\n"
     ]
    },
    {
     "data": {
      "application/vnd.jupyter.widget-view+json": {
       "model_id": "ddb03b14bb3041a697ea7415e7d1b1e0",
       "version_major": 2,
       "version_minor": 0
      },
      "text/plain": [
       "IntProgress(value=0, max=160)"
      ]
     },
     "metadata": {},
     "output_type": "display_data"
    },
    {
     "name": "stdout",
     "output_type": "stream",
     "text": [
      "***VALIDATION***:\n",
      "average correlation: 0.90\n",
      "average r2: 0.81\n",
      "---do_investigations. cluster index : 7---\n"
     ]
    },
    {
     "data": {
      "application/vnd.jupyter.widget-view+json": {
       "model_id": "3d9793583c424b298dc92519982d966d",
       "version_major": 2,
       "version_minor": 0
      },
      "text/plain": [
       "IntProgress(value=0, max=303)"
      ]
     },
     "metadata": {},
     "output_type": "display_data"
    },
    {
     "name": "stdout",
     "output_type": "stream",
     "text": [
      "Epoch 1/20\n",
      "368/368 [==============================] - 5s 5ms/step - loss: 0.0552 - mean_absolute_error: 0.1288 - val_loss: 0.0281 - val_mean_absolute_error: 0.0852\n",
      "Epoch 2/20\n",
      "368/368 [==============================] - 1s 4ms/step - loss: 0.0371 - mean_absolute_error: 0.1049 - val_loss: 0.0272 - val_mean_absolute_error: 0.0861\n",
      "Epoch 3/20\n",
      "368/368 [==============================] - 1s 4ms/step - loss: 0.0377 - mean_absolute_error: 0.1055 - val_loss: 0.0289 - val_mean_absolute_error: 0.1054\n",
      "Epoch 4/20\n",
      "368/368 [==============================] - 1s 4ms/step - loss: 0.0372 - mean_absolute_error: 0.1047 - val_loss: 0.0269 - val_mean_absolute_error: 0.0892\n",
      "Epoch 5/20\n",
      "368/368 [==============================] - 1s 4ms/step - loss: 0.0371 - mean_absolute_error: 0.1050 - val_loss: 0.0266 - val_mean_absolute_error: 0.0824\n",
      "Epoch 6/20\n",
      "368/368 [==============================] - 1s 4ms/step - loss: 0.0365 - mean_absolute_error: 0.1032 - val_loss: 0.0272 - val_mean_absolute_error: 0.0863\n",
      "Epoch 7/20\n",
      "368/368 [==============================] - 1s 4ms/step - loss: 0.0363 - mean_absolute_error: 0.1040 - val_loss: 0.0273 - val_mean_absolute_error: 0.0867\n",
      "***TRAIN***:\n",
      "correlation related to cluster centre: 0.98\n",
      "r2 score related to cluster centre: 0.96\n",
      "***VALIDATION***:\n",
      "correlation related to cluster centre: 0.98\n",
      "r2 score related to cluster centre: 0.95\n"
     ]
    },
    {
     "data": {
      "application/vnd.jupyter.widget-view+json": {
       "model_id": "d8b93ec2d1c046eda860dd97aec7b53d",
       "version_major": 2,
       "version_minor": 0
      },
      "text/plain": [
       "IntProgress(value=0, max=303)"
      ]
     },
     "metadata": {},
     "output_type": "display_data"
    },
    {
     "name": "stdout",
     "output_type": "stream",
     "text": [
      "***VALIDATION***:\n",
      "average correlation: 0.88\n",
      "average r2: 0.66\n",
      "---do_investigations. cluster index : 8---\n"
     ]
    },
    {
     "data": {
      "application/vnd.jupyter.widget-view+json": {
       "model_id": "a017356d29f44af888d793c0745ca5de",
       "version_major": 2,
       "version_minor": 0
      },
      "text/plain": [
       "IntProgress(value=0, max=133)"
      ]
     },
     "metadata": {},
     "output_type": "display_data"
    },
    {
     "name": "stdout",
     "output_type": "stream",
     "text": [
      "Epoch 1/20\n",
      "368/368 [==============================] - 4s 5ms/step - loss: 0.2464 - mean_absolute_error: 0.3274 - val_loss: 0.1768 - val_mean_absolute_error: 0.2896\n",
      "Epoch 2/20\n",
      "368/368 [==============================] - 1s 4ms/step - loss: 0.2109 - mean_absolute_error: 0.3017 - val_loss: 0.1794 - val_mean_absolute_error: 0.2965\n",
      "Epoch 3/20\n",
      "368/368 [==============================] - 1s 4ms/step - loss: 0.2098 - mean_absolute_error: 0.3017 - val_loss: 0.1807 - val_mean_absolute_error: 0.2959\n",
      "***TRAIN***:\n",
      "correlation related to cluster centre: 0.89\n",
      "r2 score related to cluster centre: 0.79\n",
      "***VALIDATION***:\n",
      "correlation related to cluster centre: 0.90\n",
      "r2 score related to cluster centre: 0.81\n"
     ]
    },
    {
     "data": {
      "application/vnd.jupyter.widget-view+json": {
       "model_id": "65edf4b933824c13a44d30eb3e6a230d",
       "version_major": 2,
       "version_minor": 0
      },
      "text/plain": [
       "IntProgress(value=0, max=133)"
      ]
     },
     "metadata": {},
     "output_type": "display_data"
    },
    {
     "name": "stdout",
     "output_type": "stream",
     "text": [
      "***VALIDATION***:\n",
      "average correlation: 0.90\n",
      "average r2: 0.80\n",
      "---do_investigations. cluster index : 9---\n"
     ]
    },
    {
     "data": {
      "application/vnd.jupyter.widget-view+json": {
       "model_id": "8d4a40ca2d4f4ae59130f600d4fc3d00",
       "version_major": 2,
       "version_minor": 0
      },
      "text/plain": [
       "IntProgress(value=0, max=188)"
      ]
     },
     "metadata": {},
     "output_type": "display_data"
    },
    {
     "name": "stdout",
     "output_type": "stream",
     "text": [
      "Epoch 1/20\n",
      "368/368 [==============================] - 4s 5ms/step - loss: 0.2413 - mean_absolute_error: 0.3457 - val_loss: 0.2059 - val_mean_absolute_error: 0.3209\n",
      "Epoch 2/20\n",
      "368/368 [==============================] - 1s 4ms/step - loss: 0.2094 - mean_absolute_error: 0.3204 - val_loss: 0.2092 - val_mean_absolute_error: 0.3262\n",
      "Epoch 3/20\n",
      "368/368 [==============================] - 1s 4ms/step - loss: 0.2083 - mean_absolute_error: 0.3200 - val_loss: 0.1995 - val_mean_absolute_error: 0.3183\n",
      "Epoch 4/20\n",
      "368/368 [==============================] - 1s 4ms/step - loss: 0.2079 - mean_absolute_error: 0.3193 - val_loss: 0.1994 - val_mean_absolute_error: 0.3135\n",
      "Epoch 5/20\n",
      "368/368 [==============================] - 1s 4ms/step - loss: 0.2067 - mean_absolute_error: 0.3176 - val_loss: 0.2025 - val_mean_absolute_error: 0.3195\n",
      "Epoch 6/20\n",
      "368/368 [==============================] - 1s 4ms/step - loss: 0.2071 - mean_absolute_error: 0.3184 - val_loss: 0.1972 - val_mean_absolute_error: 0.3142\n",
      "Epoch 7/20\n",
      "368/368 [==============================] - 1s 4ms/step - loss: 0.2065 - mean_absolute_error: 0.3176 - val_loss: 0.1970 - val_mean_absolute_error: 0.3169\n",
      "Epoch 8/20\n",
      "368/368 [==============================] - 1s 4ms/step - loss: 0.2065 - mean_absolute_error: 0.3180 - val_loss: 0.1980 - val_mean_absolute_error: 0.3154\n",
      "Epoch 9/20\n",
      "368/368 [==============================] - 1s 4ms/step - loss: 0.2075 - mean_absolute_error: 0.3180 - val_loss: 0.1989 - val_mean_absolute_error: 0.3215\n",
      "***TRAIN***:\n",
      "correlation related to cluster centre: 0.89\n",
      "r2 score related to cluster centre: 0.79\n",
      "***VALIDATION***:\n",
      "correlation related to cluster centre: 0.90\n",
      "r2 score related to cluster centre: 0.81\n"
     ]
    },
    {
     "data": {
      "application/vnd.jupyter.widget-view+json": {
       "model_id": "1b80e7547c474156a578606dab01e8da",
       "version_major": 2,
       "version_minor": 0
      },
      "text/plain": [
       "IntProgress(value=0, max=188)"
      ]
     },
     "metadata": {},
     "output_type": "display_data"
    },
    {
     "name": "stdout",
     "output_type": "stream",
     "text": [
      "***VALIDATION***:\n",
      "average correlation: 0.90\n",
      "average r2: 0.78\n",
      "---do_investigations. cluster index : 10---\n"
     ]
    },
    {
     "data": {
      "application/vnd.jupyter.widget-view+json": {
       "model_id": "c76ae2f6c2504dd8b225d1f566140d8e",
       "version_major": 2,
       "version_minor": 0
      },
      "text/plain": [
       "IntProgress(value=0, max=124)"
      ]
     },
     "metadata": {},
     "output_type": "display_data"
    },
    {
     "name": "stdout",
     "output_type": "stream",
     "text": [
      "Epoch 1/20\n",
      "368/368 [==============================] - 4s 5ms/step - loss: 0.2424 - mean_absolute_error: 0.3404 - val_loss: 0.1564 - val_mean_absolute_error: 0.2823\n",
      "Epoch 2/20\n",
      "368/368 [==============================] - 1s 4ms/step - loss: 0.1936 - mean_absolute_error: 0.3047 - val_loss: 0.1565 - val_mean_absolute_error: 0.2722\n",
      "Epoch 3/20\n",
      "368/368 [==============================] - 1s 4ms/step - loss: 0.1940 - mean_absolute_error: 0.3061 - val_loss: 0.1546 - val_mean_absolute_error: 0.2783\n",
      "Epoch 4/20\n",
      "368/368 [==============================] - 1s 4ms/step - loss: 0.1935 - mean_absolute_error: 0.3049 - val_loss: 0.1549 - val_mean_absolute_error: 0.2769\n",
      "Epoch 5/20\n",
      "368/368 [==============================] - 1s 4ms/step - loss: 0.1920 - mean_absolute_error: 0.3040 - val_loss: 0.1553 - val_mean_absolute_error: 0.2769\n",
      "***TRAIN***:\n",
      "correlation related to cluster centre: 0.90\n",
      "r2 score related to cluster centre: 0.81\n",
      "***VALIDATION***:\n",
      "correlation related to cluster centre: 0.91\n",
      "r2 score related to cluster centre: 0.83\n"
     ]
    },
    {
     "data": {
      "application/vnd.jupyter.widget-view+json": {
       "model_id": "45b3514f9e4b4ff9ae05950e389902d5",
       "version_major": 2,
       "version_minor": 0
      },
      "text/plain": [
       "IntProgress(value=0, max=124)"
      ]
     },
     "metadata": {},
     "output_type": "display_data"
    },
    {
     "name": "stdout",
     "output_type": "stream",
     "text": [
      "***VALIDATION***:\n",
      "average correlation: 0.91\n",
      "average r2: 0.83\n",
      "---do_investigations. cluster index : 11---\n"
     ]
    },
    {
     "data": {
      "application/vnd.jupyter.widget-view+json": {
       "model_id": "8cf8c3b7cd2349ff90d35c3032bb34b3",
       "version_major": 2,
       "version_minor": 0
      },
      "text/plain": [
       "IntProgress(value=0, max=157)"
      ]
     },
     "metadata": {},
     "output_type": "display_data"
    },
    {
     "name": "stdout",
     "output_type": "stream",
     "text": [
      "Epoch 1/20\n",
      "368/368 [==============================] - 5s 5ms/step - loss: 0.2239 - mean_absolute_error: 0.3279 - val_loss: 0.1642 - val_mean_absolute_error: 0.2751\n",
      "Epoch 2/20\n",
      "368/368 [==============================] - 1s 4ms/step - loss: 0.1960 - mean_absolute_error: 0.3056 - val_loss: 0.1634 - val_mean_absolute_error: 0.2763\n",
      "Epoch 3/20\n",
      "368/368 [==============================] - 1s 4ms/step - loss: 0.1964 - mean_absolute_error: 0.3054 - val_loss: 0.1725 - val_mean_absolute_error: 0.2887\n",
      "Epoch 4/20\n",
      "368/368 [==============================] - 1s 4ms/step - loss: 0.1961 - mean_absolute_error: 0.3056 - val_loss: 0.1625 - val_mean_absolute_error: 0.2751\n",
      "Epoch 5/20\n",
      "368/368 [==============================] - 1s 4ms/step - loss: 0.1969 - mean_absolute_error: 0.3054 - val_loss: 0.1639 - val_mean_absolute_error: 0.2858\n",
      "Epoch 6/20\n",
      "368/368 [==============================] - 1s 4ms/step - loss: 0.1958 - mean_absolute_error: 0.3053 - val_loss: 0.1678 - val_mean_absolute_error: 0.2831\n",
      "***TRAIN***:\n",
      "correlation related to cluster centre: 0.90\n",
      "r2 score related to cluster centre: 0.80\n",
      "***VALIDATION***:\n",
      "correlation related to cluster centre: 0.91\n",
      "r2 score related to cluster centre: 0.82\n"
     ]
    },
    {
     "data": {
      "application/vnd.jupyter.widget-view+json": {
       "model_id": "9c8bd1ddda504e44be58a1b8fabc7b7f",
       "version_major": 2,
       "version_minor": 0
      },
      "text/plain": [
       "IntProgress(value=0, max=157)"
      ]
     },
     "metadata": {},
     "output_type": "display_data"
    },
    {
     "name": "stdout",
     "output_type": "stream",
     "text": [
      "***VALIDATION***:\n",
      "average correlation: 0.90\n",
      "average r2: 0.78\n",
      "---do_investigations. cluster index : 12---\n"
     ]
    },
    {
     "data": {
      "application/vnd.jupyter.widget-view+json": {
       "model_id": "783b874b31d04863a264eb690f7122a3",
       "version_major": 2,
       "version_minor": 0
      },
      "text/plain": [
       "IntProgress(value=0, max=2408)"
      ]
     },
     "metadata": {},
     "output_type": "display_data"
    },
    {
     "name": "stdout",
     "output_type": "stream",
     "text": [
      "Epoch 1/20\n",
      "368/368 [==============================] - 7s 6ms/step - loss: 0.0991 - mean_absolute_error: 0.1960 - val_loss: 0.0697 - val_mean_absolute_error: 0.1331\n",
      "Epoch 2/20\n",
      "368/368 [==============================] - 1s 4ms/step - loss: 0.0671 - mean_absolute_error: 0.1589 - val_loss: 0.0677 - val_mean_absolute_error: 0.1303\n",
      "Epoch 3/20\n",
      "368/368 [==============================] - 1s 4ms/step - loss: 0.0673 - mean_absolute_error: 0.1615 - val_loss: 0.0678 - val_mean_absolute_error: 0.1320\n",
      "Epoch 4/20\n",
      "368/368 [==============================] - 1s 4ms/step - loss: 0.0670 - mean_absolute_error: 0.1599 - val_loss: 0.0671 - val_mean_absolute_error: 0.1330\n",
      "Epoch 5/20\n",
      "368/368 [==============================] - 1s 4ms/step - loss: 0.0661 - mean_absolute_error: 0.1587 - val_loss: 0.0778 - val_mean_absolute_error: 0.1670\n",
      "Epoch 6/20\n",
      "368/368 [==============================] - 1s 4ms/step - loss: 0.0664 - mean_absolute_error: 0.1587 - val_loss: 0.0671 - val_mean_absolute_error: 0.1320\n",
      "Epoch 7/20\n",
      "368/368 [==============================] - 1s 4ms/step - loss: 0.0670 - mean_absolute_error: 0.1629 - val_loss: 0.0716 - val_mean_absolute_error: 0.1495\n",
      "Epoch 8/20\n",
      "368/368 [==============================] - 1s 4ms/step - loss: 0.0665 - mean_absolute_error: 0.1591 - val_loss: 0.0672 - val_mean_absolute_error: 0.1317\n",
      "***TRAIN***:\n",
      "correlation related to cluster centre: 0.97\n",
      "r2 score related to cluster centre: 0.94\n",
      "***VALIDATION***:\n",
      "correlation related to cluster centre: 0.94\n",
      "r2 score related to cluster centre: 0.88\n"
     ]
    },
    {
     "data": {
      "application/vnd.jupyter.widget-view+json": {
       "model_id": "d23f97ebdf154ec3aaf5756cbfd0f61f",
       "version_major": 2,
       "version_minor": 0
      },
      "text/plain": [
       "IntProgress(value=0, max=2408)"
      ]
     },
     "metadata": {},
     "output_type": "display_data"
    },
    {
     "name": "stdout",
     "output_type": "stream",
     "text": [
      "***VALIDATION***:\n",
      "average correlation: nan\n",
      "average r2: -10102939024182663144538112.00\n",
      "---do_investigations. cluster index : 13---\n"
     ]
    },
    {
     "data": {
      "application/vnd.jupyter.widget-view+json": {
       "model_id": "6ef5e43f3aa04edc8b82376fc21091a7",
       "version_major": 2,
       "version_minor": 0
      },
      "text/plain": [
       "IntProgress(value=0, max=136)"
      ]
     },
     "metadata": {},
     "output_type": "display_data"
    },
    {
     "name": "stdout",
     "output_type": "stream",
     "text": [
      "Epoch 1/20\n",
      "368/368 [==============================] - 5s 6ms/step - loss: 0.2411 - mean_absolute_error: 0.3033 - val_loss: 0.2856 - val_mean_absolute_error: 0.3245\n",
      "Epoch 2/20\n",
      "368/368 [==============================] - 1s 4ms/step - loss: 0.2120 - mean_absolute_error: 0.2815 - val_loss: 0.2617 - val_mean_absolute_error: 0.2947\n",
      "Epoch 3/20\n",
      "368/368 [==============================] - 1s 4ms/step - loss: 0.2103 - mean_absolute_error: 0.2802 - val_loss: 0.2633 - val_mean_absolute_error: 0.2960\n",
      "Epoch 4/20\n",
      "368/368 [==============================] - 1s 4ms/step - loss: 0.2092 - mean_absolute_error: 0.2796 - val_loss: 0.2652 - val_mean_absolute_error: 0.2843\n",
      "***TRAIN***:\n",
      "correlation related to cluster centre: 0.89\n",
      "r2 score related to cluster centre: 0.79\n",
      "***VALIDATION***:\n",
      "correlation related to cluster centre: 0.90\n",
      "r2 score related to cluster centre: 0.80\n"
     ]
    },
    {
     "data": {
      "application/vnd.jupyter.widget-view+json": {
       "model_id": "5530f22a909a4e3bbb1161fec2c59554",
       "version_major": 2,
       "version_minor": 0
      },
      "text/plain": [
       "IntProgress(value=0, max=136)"
      ]
     },
     "metadata": {},
     "output_type": "display_data"
    },
    {
     "name": "stdout",
     "output_type": "stream",
     "text": [
      "***VALIDATION***:\n",
      "average correlation: 0.89\n",
      "average r2: 0.79\n",
      "---do_investigations. cluster index : 14---\n"
     ]
    },
    {
     "data": {
      "application/vnd.jupyter.widget-view+json": {
       "model_id": "89edc030836b4ec4ad66ca1b4af953c5",
       "version_major": 2,
       "version_minor": 0
      },
      "text/plain": [
       "IntProgress(value=0, max=99)"
      ]
     },
     "metadata": {},
     "output_type": "display_data"
    },
    {
     "name": "stdout",
     "output_type": "stream",
     "text": [
      "Epoch 1/20\n",
      "368/368 [==============================] - 6s 8ms/step - loss: 0.2248 - mean_absolute_error: 0.3243 - val_loss: 0.1372 - val_mean_absolute_error: 0.2571\n",
      "Epoch 2/20\n",
      "368/368 [==============================] - 1s 4ms/step - loss: 0.2043 - mean_absolute_error: 0.3070 - val_loss: 0.1389 - val_mean_absolute_error: 0.2675\n",
      "Epoch 3/20\n",
      "368/368 [==============================] - 2s 4ms/step - loss: 0.2038 - mean_absolute_error: 0.3069 - val_loss: 0.1368 - val_mean_absolute_error: 0.2614\n",
      "Epoch 4/20\n",
      "368/368 [==============================] - 2s 4ms/step - loss: 0.2039 - mean_absolute_error: 0.3064 - val_loss: 0.1433 - val_mean_absolute_error: 0.2748\n",
      "Epoch 5/20\n",
      "368/368 [==============================] - 1s 4ms/step - loss: 0.2029 - mean_absolute_error: 0.3052 - val_loss: 0.1371 - val_mean_absolute_error: 0.2613\n",
      "***TRAIN***:\n",
      "correlation related to cluster centre: 0.89\n",
      "r2 score related to cluster centre: 0.80\n",
      "***VALIDATION***:\n",
      "correlation related to cluster centre: 0.91\n",
      "r2 score related to cluster centre: 0.83\n"
     ]
    },
    {
     "data": {
      "application/vnd.jupyter.widget-view+json": {
       "model_id": "357e715413734803aeacdced83cbced8",
       "version_major": 2,
       "version_minor": 0
      },
      "text/plain": [
       "IntProgress(value=0, max=99)"
      ]
     },
     "metadata": {},
     "output_type": "display_data"
    },
    {
     "name": "stdout",
     "output_type": "stream",
     "text": [
      "***VALIDATION***:\n",
      "average correlation: 0.91\n",
      "average r2: 0.83\n",
      "---do_investigations. cluster index : 15---\n"
     ]
    },
    {
     "data": {
      "application/vnd.jupyter.widget-view+json": {
       "model_id": "a5fdfe8655c94f4cb03f52cdc97308e2",
       "version_major": 2,
       "version_minor": 0
      },
      "text/plain": [
       "IntProgress(value=0, max=241)"
      ]
     },
     "metadata": {},
     "output_type": "display_data"
    },
    {
     "name": "stdout",
     "output_type": "stream",
     "text": [
      "Epoch 1/20\n",
      "368/368 [==============================] - 37s 5ms/step - loss: 0.2214 - mean_absolute_error: 0.3073 - val_loss: 0.1703 - val_mean_absolute_error: 0.2738\n",
      "Epoch 2/20\n",
      "368/368 [==============================] - 2s 7ms/step - loss: 0.2015 - mean_absolute_error: 0.2916 - val_loss: 0.1693 - val_mean_absolute_error: 0.2627\n",
      "Epoch 3/20\n",
      "368/368 [==============================] - 2s 4ms/step - loss: 0.2009 - mean_absolute_error: 0.2917 - val_loss: 0.1706 - val_mean_absolute_error: 0.2683\n",
      "Epoch 4/20\n",
      "368/368 [==============================] - 2s 4ms/step - loss: 0.2013 - mean_absolute_error: 0.2927 - val_loss: 0.1653 - val_mean_absolute_error: 0.2561\n",
      "Epoch 5/20\n",
      "368/368 [==============================] - 2s 4ms/step - loss: 0.1991 - mean_absolute_error: 0.2903 - val_loss: 0.1660 - val_mean_absolute_error: 0.2655\n",
      "Epoch 6/20\n",
      "368/368 [==============================] - 2s 4ms/step - loss: 0.2013 - mean_absolute_error: 0.2921 - val_loss: 0.1658 - val_mean_absolute_error: 0.2515\n",
      "***TRAIN***:\n",
      "correlation related to cluster centre: 0.90\n",
      "r2 score related to cluster centre: 0.80\n",
      "***VALIDATION***:\n",
      "correlation related to cluster centre: 0.90\n",
      "r2 score related to cluster centre: 0.81\n"
     ]
    },
    {
     "data": {
      "application/vnd.jupyter.widget-view+json": {
       "model_id": "e9fa4bf8bb324087953a5055562fb93b",
       "version_major": 2,
       "version_minor": 0
      },
      "text/plain": [
       "IntProgress(value=0, max=241)"
      ]
     },
     "metadata": {},
     "output_type": "display_data"
    },
    {
     "name": "stdout",
     "output_type": "stream",
     "text": [
      "***VALIDATION***:\n",
      "average correlation: 0.89\n",
      "average r2: 0.79\n",
      "---do_investigations. cluster index : 16---\n"
     ]
    },
    {
     "data": {
      "application/vnd.jupyter.widget-view+json": {
       "model_id": "b0a7c69cf7c0482e80dfb39654abd4aa",
       "version_major": 2,
       "version_minor": 0
      },
      "text/plain": [
       "IntProgress(value=0, max=140)"
      ]
     },
     "metadata": {},
     "output_type": "display_data"
    },
    {
     "name": "stdout",
     "output_type": "stream",
     "text": [
      "Epoch 1/20\n",
      "368/368 [==============================] - 6s 6ms/step - loss: 0.2171 - mean_absolute_error: 0.3185 - val_loss: 0.1769 - val_mean_absolute_error: 0.2828\n",
      "Epoch 2/20\n",
      "368/368 [==============================] - 1s 4ms/step - loss: 0.1910 - mean_absolute_error: 0.2967 - val_loss: 0.1643 - val_mean_absolute_error: 0.2728\n",
      "Epoch 3/20\n",
      "368/368 [==============================] - 1s 4ms/step - loss: 0.1908 - mean_absolute_error: 0.2962 - val_loss: 0.1648 - val_mean_absolute_error: 0.2714\n",
      "Epoch 4/20\n",
      "368/368 [==============================] - 1s 4ms/step - loss: 0.1905 - mean_absolute_error: 0.2956 - val_loss: 0.1665 - val_mean_absolute_error: 0.2746\n",
      "***TRAIN***:\n",
      "correlation related to cluster centre: 0.90\n",
      "r2 score related to cluster centre: 0.81\n",
      "***VALIDATION***:\n",
      "correlation related to cluster centre: 0.91\n",
      "r2 score related to cluster centre: 0.82\n"
     ]
    },
    {
     "data": {
      "application/vnd.jupyter.widget-view+json": {
       "model_id": "640864fbdd7f43868faf680ad085919a",
       "version_major": 2,
       "version_minor": 0
      },
      "text/plain": [
       "IntProgress(value=0, max=140)"
      ]
     },
     "metadata": {},
     "output_type": "display_data"
    },
    {
     "name": "stdout",
     "output_type": "stream",
     "text": [
      "***VALIDATION***:\n",
      "average correlation: 0.92\n",
      "average r2: 0.75\n",
      "---do_investigations. cluster index : 17---\n"
     ]
    },
    {
     "data": {
      "application/vnd.jupyter.widget-view+json": {
       "model_id": "328a5ea0ac4148a9a862ed017495a4a3",
       "version_major": 2,
       "version_minor": 0
      },
      "text/plain": [
       "IntProgress(value=0, max=436)"
      ]
     },
     "metadata": {},
     "output_type": "display_data"
    },
    {
     "name": "stdout",
     "output_type": "stream",
     "text": [
      "Epoch 1/20\n",
      "368/368 [==============================] - 5s 5ms/step - loss: 0.0463 - mean_absolute_error: 0.1163 - val_loss: 0.0292 - val_mean_absolute_error: 0.0765\n",
      "Epoch 2/20\n",
      "368/368 [==============================] - 1s 4ms/step - loss: 0.0180 - mean_absolute_error: 0.0760 - val_loss: 0.0274 - val_mean_absolute_error: 0.0707\n",
      "Epoch 3/20\n",
      "368/368 [==============================] - 1s 4ms/step - loss: 0.0178 - mean_absolute_error: 0.0755 - val_loss: 0.0269 - val_mean_absolute_error: 0.0665\n",
      "Epoch 4/20\n",
      "368/368 [==============================] - 1s 4ms/step - loss: 0.0176 - mean_absolute_error: 0.0744 - val_loss: 0.0326 - val_mean_absolute_error: 0.0998\n",
      "Epoch 5/20\n",
      "368/368 [==============================] - 1s 4ms/step - loss: 0.0180 - mean_absolute_error: 0.0766 - val_loss: 0.0283 - val_mean_absolute_error: 0.0772\n",
      "***TRAIN***:\n",
      "correlation related to cluster centre: 0.99\n",
      "r2 score related to cluster centre: 0.98\n",
      "***VALIDATION***:\n",
      "correlation related to cluster centre: 0.97\n",
      "r2 score related to cluster centre: 0.93\n"
     ]
    },
    {
     "data": {
      "application/vnd.jupyter.widget-view+json": {
       "model_id": "b58d54a9f41941d1afc19354b823e016",
       "version_major": 2,
       "version_minor": 0
      },
      "text/plain": [
       "IntProgress(value=0, max=436)"
      ]
     },
     "metadata": {},
     "output_type": "display_data"
    },
    {
     "name": "stdout",
     "output_type": "stream",
     "text": [
      "***VALIDATION***:\n",
      "average correlation: 0.88\n",
      "average r2: 0.75\n",
      "---do_investigations. cluster index : 18---\n"
     ]
    },
    {
     "data": {
      "application/vnd.jupyter.widget-view+json": {
       "model_id": "1d55504f246447da951ebd641c7f660b",
       "version_major": 2,
       "version_minor": 0
      },
      "text/plain": [
       "IntProgress(value=0, max=264)"
      ]
     },
     "metadata": {},
     "output_type": "display_data"
    },
    {
     "name": "stdout",
     "output_type": "stream",
     "text": [
      "Epoch 1/20\n",
      "368/368 [==============================] - 11s 12ms/step - loss: 0.1912 - mean_absolute_error: 0.2811 - val_loss: 0.1400 - val_mean_absolute_error: 0.2381\n",
      "Epoch 2/20\n",
      "368/368 [==============================] - 2s 4ms/step - loss: 0.1689 - mean_absolute_error: 0.2637 - val_loss: 0.1425 - val_mean_absolute_error: 0.2499\n",
      "Epoch 3/20\n",
      "368/368 [==============================] - 2s 4ms/step - loss: 0.1679 - mean_absolute_error: 0.2632 - val_loss: 0.1390 - val_mean_absolute_error: 0.2382\n",
      "Epoch 4/20\n",
      "368/368 [==============================] - 3s 4ms/step - loss: 0.1672 - mean_absolute_error: 0.2628 - val_loss: 0.1448 - val_mean_absolute_error: 0.2366\n",
      "Epoch 5/20\n",
      "368/368 [==============================] - 1s 4ms/step - loss: 0.1675 - mean_absolute_error: 0.2636 - val_loss: 0.1395 - val_mean_absolute_error: 0.2389\n",
      "***TRAIN***:\n",
      "correlation related to cluster centre: 0.91\n",
      "r2 score related to cluster centre: 0.84\n",
      "***VALIDATION***:\n",
      "correlation related to cluster centre: 0.92\n",
      "r2 score related to cluster centre: 0.85\n"
     ]
    },
    {
     "data": {
      "application/vnd.jupyter.widget-view+json": {
       "model_id": "e577141ee2094293809abed91c815470",
       "version_major": 2,
       "version_minor": 0
      },
      "text/plain": [
       "IntProgress(value=0, max=264)"
      ]
     },
     "metadata": {},
     "output_type": "display_data"
    },
    {
     "name": "stdout",
     "output_type": "stream",
     "text": [
      "***VALIDATION***:\n",
      "average correlation: 0.90\n",
      "average r2: 0.72\n",
      "---do_investigations. cluster index : 19---\n"
     ]
    },
    {
     "data": {
      "application/vnd.jupyter.widget-view+json": {
       "model_id": "d4eaec71c0d54c819ae010f9fc0f3a28",
       "version_major": 2,
       "version_minor": 0
      },
      "text/plain": [
       "IntProgress(value=0, max=197)"
      ]
     },
     "metadata": {},
     "output_type": "display_data"
    },
    {
     "name": "stdout",
     "output_type": "stream",
     "text": [
      "Epoch 1/20\n",
      "368/368 [==============================] - 10s 5ms/step - loss: 0.2131 - mean_absolute_error: 0.3185 - val_loss: 0.1767 - val_mean_absolute_error: 0.2956\n",
      "Epoch 2/20\n",
      "368/368 [==============================] - 1s 4ms/step - loss: 0.1882 - mean_absolute_error: 0.2977 - val_loss: 0.1703 - val_mean_absolute_error: 0.2771\n",
      "Epoch 3/20\n",
      "368/368 [==============================] - 1s 4ms/step - loss: 0.1882 - mean_absolute_error: 0.2974 - val_loss: 0.1702 - val_mean_absolute_error: 0.2784\n",
      "Epoch 4/20\n",
      "368/368 [==============================] - 1s 4ms/step - loss: 0.1896 - mean_absolute_error: 0.2990 - val_loss: 0.1699 - val_mean_absolute_error: 0.2733\n",
      "Epoch 5/20\n",
      "368/368 [==============================] - 1s 4ms/step - loss: 0.1876 - mean_absolute_error: 0.2964 - val_loss: 0.1694 - val_mean_absolute_error: 0.2796\n",
      "Epoch 6/20\n",
      "368/368 [==============================] - 1s 4ms/step - loss: 0.1864 - mean_absolute_error: 0.2956 - val_loss: 0.1699 - val_mean_absolute_error: 0.2822\n",
      "Epoch 7/20\n",
      "368/368 [==============================] - 1s 4ms/step - loss: 0.1883 - mean_absolute_error: 0.2975 - val_loss: 0.1694 - val_mean_absolute_error: 0.2761\n",
      "***TRAIN***:\n",
      "correlation related to cluster centre: 0.90\n",
      "r2 score related to cluster centre: 0.82\n",
      "***VALIDATION***:\n",
      "correlation related to cluster centre: 0.91\n",
      "r2 score related to cluster centre: 0.83\n"
     ]
    },
    {
     "data": {
      "application/vnd.jupyter.widget-view+json": {
       "model_id": "1ce6e6dddee547ecab5c3a8d84d7d8a1",
       "version_major": 2,
       "version_minor": 0
      },
      "text/plain": [
       "IntProgress(value=0, max=197)"
      ]
     },
     "metadata": {},
     "output_type": "display_data"
    },
    {
     "name": "stdout",
     "output_type": "stream",
     "text": [
      "***VALIDATION***:\n",
      "average correlation: 0.91\n",
      "average r2: 0.79\n",
      "---do_investigations. cluster index : 20---\n"
     ]
    },
    {
     "data": {
      "application/vnd.jupyter.widget-view+json": {
       "model_id": "06b104571e4949669a57f3f3873200a8",
       "version_major": 2,
       "version_minor": 0
      },
      "text/plain": [
       "IntProgress(value=0, max=1412)"
      ]
     },
     "metadata": {},
     "output_type": "display_data"
    },
    {
     "name": "stdout",
     "output_type": "stream",
     "text": [
      "Epoch 1/20\n",
      "368/368 [==============================] - 7s 6ms/step - loss: 0.0847 - mean_absolute_error: 0.1806 - val_loss: 0.0790 - val_mean_absolute_error: 0.1428\n",
      "Epoch 2/20\n",
      "368/368 [==============================] - 2s 5ms/step - loss: 0.0616 - mean_absolute_error: 0.1521 - val_loss: 0.0783 - val_mean_absolute_error: 0.1421\n",
      "Epoch 3/20\n",
      "368/368 [==============================] - 4s 10ms/step - loss: 0.0610 - mean_absolute_error: 0.1513 - val_loss: 0.0811 - val_mean_absolute_error: 0.1521\n",
      "Epoch 4/20\n",
      "368/368 [==============================] - 2s 4ms/step - loss: 0.0610 - mean_absolute_error: 0.1513 - val_loss: 0.0773 - val_mean_absolute_error: 0.1414\n",
      "Epoch 5/20\n",
      "368/368 [==============================] - 1s 4ms/step - loss: 0.0608 - mean_absolute_error: 0.1514 - val_loss: 0.0766 - val_mean_absolute_error: 0.1399\n",
      "Epoch 6/20\n",
      "368/368 [==============================] - 1s 4ms/step - loss: 0.0614 - mean_absolute_error: 0.1515 - val_loss: 0.0765 - val_mean_absolute_error: 0.1447\n",
      "Epoch 7/20\n",
      "368/368 [==============================] - 2s 4ms/step - loss: 0.0608 - mean_absolute_error: 0.1512 - val_loss: 0.0800 - val_mean_absolute_error: 0.1510\n",
      "Epoch 8/20\n",
      "368/368 [==============================] - 2s 5ms/step - loss: 0.0604 - mean_absolute_error: 0.1490 - val_loss: 0.0773 - val_mean_absolute_error: 0.1444\n",
      "***TRAIN***:\n",
      "correlation related to cluster centre: 0.97\n",
      "r2 score related to cluster centre: 0.94\n",
      "***VALIDATION***:\n",
      "correlation related to cluster centre: 0.93\n",
      "r2 score related to cluster centre: 0.86\n"
     ]
    },
    {
     "data": {
      "application/vnd.jupyter.widget-view+json": {
       "model_id": "2f8714ca49ba44789009ee489be30143",
       "version_major": 2,
       "version_minor": 0
      },
      "text/plain": [
       "IntProgress(value=0, max=1412)"
      ]
     },
     "metadata": {},
     "output_type": "display_data"
    },
    {
     "name": "stdout",
     "output_type": "stream",
     "text": [
      "***VALIDATION***:\n",
      "average correlation: nan\n",
      "average r2: -17308326842236450168111104.00\n",
      "---do_investigations. cluster index : 21---\n"
     ]
    },
    {
     "data": {
      "application/vnd.jupyter.widget-view+json": {
       "model_id": "f1f739ddddc447f2a2c436344d3ea8b9",
       "version_major": 2,
       "version_minor": 0
      },
      "text/plain": [
       "IntProgress(value=0, max=167)"
      ]
     },
     "metadata": {},
     "output_type": "display_data"
    },
    {
     "name": "stdout",
     "output_type": "stream",
     "text": [
      "Epoch 1/20\n",
      "368/368 [==============================] - 8s 7ms/step - loss: 0.2446 - mean_absolute_error: 0.2954 - val_loss: 0.2954 - val_mean_absolute_error: 0.3002\n",
      "Epoch 2/20\n",
      "368/368 [==============================] - 2s 4ms/step - loss: 0.2120 - mean_absolute_error: 0.2734 - val_loss: 0.2894 - val_mean_absolute_error: 0.2824\n",
      "Epoch 3/20\n",
      "368/368 [==============================] - 2s 5ms/step - loss: 0.2120 - mean_absolute_error: 0.2731 - val_loss: 0.3048 - val_mean_absolute_error: 0.2908\n",
      "Epoch 4/20\n",
      "368/368 [==============================] - 2s 4ms/step - loss: 0.2098 - mean_absolute_error: 0.2715 - val_loss: 0.2853 - val_mean_absolute_error: 0.2760\n",
      "Epoch 5/20\n",
      "368/368 [==============================] - 2s 5ms/step - loss: 0.2096 - mean_absolute_error: 0.2713 - val_loss: 0.2864 - val_mean_absolute_error: 0.3052\n",
      "Epoch 6/20\n",
      "368/368 [==============================] - 2s 4ms/step - loss: 0.2113 - mean_absolute_error: 0.2723 - val_loss: 0.2829 - val_mean_absolute_error: 0.2882\n",
      "Epoch 7/20\n",
      "368/368 [==============================] - 2s 4ms/step - loss: 0.2078 - mean_absolute_error: 0.2701 - val_loss: 0.2839 - val_mean_absolute_error: 0.2916\n",
      "Epoch 8/20\n",
      "368/368 [==============================] - 1s 4ms/step - loss: 0.2077 - mean_absolute_error: 0.2702 - val_loss: 0.2873 - val_mean_absolute_error: 0.2930\n",
      "***TRAIN***:\n",
      "correlation related to cluster centre: 0.89\n",
      "r2 score related to cluster centre: 0.80\n",
      "***VALIDATION***:\n",
      "correlation related to cluster centre: 0.90\n",
      "r2 score related to cluster centre: 0.79\n"
     ]
    },
    {
     "data": {
      "application/vnd.jupyter.widget-view+json": {
       "model_id": "0c8b102cdb464df9b644700a80d53b4e",
       "version_major": 2,
       "version_minor": 0
      },
      "text/plain": [
       "IntProgress(value=0, max=167)"
      ]
     },
     "metadata": {},
     "output_type": "display_data"
    },
    {
     "name": "stdout",
     "output_type": "stream",
     "text": [
      "***VALIDATION***:\n",
      "average correlation: 0.89\n",
      "average r2: 0.78\n",
      "weighted_average_correlation: 0.89\n",
      "weighted_average_r2_score: 0.77\n",
      "bad clusters rate: 0.50%\n",
      "------------------------------------------------------\n"
     ]
    }
   ],
   "source": [
    "first_path = r\"C:\\Coding\\final-qualifying-work_2023-2024\\ClusteringCpp\\output\\kmeans 5 0.1 20.txt\"\n",
    "second_path = r\"C:\\Coding\\final-qualifying-work_2023-2024\\ClusteringCpp\\output\\kmeans 15 0.1 20.txt\"\n",
    "third_path = r\"C:\\Coding\\final-qualifying-work_2023-2024\\ClusteringCpp\\output\\kmeans 30 0.1 20.txt\"\n",
    "fourth_path = r\"C:\\Coding\\final-qualifying-work_2023-2024\\ClusteringCpp\\output\\kmeans 60 0.1 20.txt\"\n",
    "\n",
    "output_file = open(\"computational-experiments-output-kmeans.txt\", \"a\")\n",
    "\n",
    "selected_path = fourth_path\n",
    "\n",
    "print('------------------------------------------------------')\n",
    "output_file.write('------------------------------------------------------\\n')\n",
    "\n",
    "print(f\"rnn {os.path.split(selected_path)[-1]}\")\n",
    "output_file.write(f\"rnn {os.path.split(selected_path)[-1]}\\n\")\n",
    "show_results(rnn_model, get_clusters(selected_path), CONV_WIDTH)\n",
    "\n",
    "print('------------------------------------------------------')\n",
    "output_file.write('------------------------------------------------------\\n')\n",
    "\n",
    "output_file.close()"
   ]
  }
 ],
 "metadata": {
  "kernelspec": {
   "display_name": "Python 3 (ipykernel)",
   "language": "python",
   "name": "python3"
  },
  "language_info": {
   "codemirror_mode": {
    "name": "ipython",
    "version": 3
   },
   "file_extension": ".py",
   "mimetype": "text/x-python",
   "name": "python",
   "nbconvert_exporter": "python",
   "pygments_lexer": "ipython3",
   "version": "3.11.7"
  }
 },
 "nbformat": 4,
 "nbformat_minor": 5
}
