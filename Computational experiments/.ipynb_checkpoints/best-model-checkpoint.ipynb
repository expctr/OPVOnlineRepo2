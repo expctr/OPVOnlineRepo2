{
 "cells": [
  {
   "cell_type": "code",
   "execution_count": 1,
   "id": "5c496ac8-c639-4c8c-b976-f1f8ce168874",
   "metadata": {},
   "outputs": [
    {
     "name": "stderr",
     "output_type": "stream",
     "text": [
      "C:\\Users\\iasha\\AppData\\Local\\Temp\\ipykernel_9760\\424092037.py:11: DeprecationWarning: \n",
      "Pyarrow will become a required dependency of pandas in the next major release of pandas (pandas 3.0),\n",
      "(to allow more performant data types, such as the Arrow string type, and better interoperability with other libraries)\n",
      "but was not found to be installed on your system.\n",
      "If this would cause problems for you,\n",
      "please provide us feedback at https://github.com/pandas-dev/pandas/issues/54466\n",
      "        \n",
      "  import pandas as pd\n"
     ]
    },
    {
     "name": "stdout",
     "output_type": "stream",
     "text": [
      "WARNING:tensorflow:From C:\\python\\python311\\Lib\\site-packages\\keras\\src\\losses.py:2976: The name tf.losses.sparse_softmax_cross_entropy is deprecated. Please use tf.compat.v1.losses.sparse_softmax_cross_entropy instead.\n",
      "\n"
     ]
    }
   ],
   "source": [
    "import os\n",
    "import datetime\n",
    "import time\n",
    "\n",
    "import IPython\n",
    "import IPython.display\n",
    "from ipywidgets import IntProgress\n",
    "import matplotlib as mpl\n",
    "import matplotlib.pyplot as plt\n",
    "import numpy as np\n",
    "import pandas as pd\n",
    "import seaborn as sns\n",
    "import tensorflow as tf\n",
    "from tensorflow import keras\n",
    "\n",
    "from sklearn.metrics import r2_score\n",
    "import math\n",
    "\n",
    "mpl.rcParams['figure.figsize'] = (8, 6)\n",
    "mpl.rcParams['axes.grid'] = False"
   ]
  },
  {
   "cell_type": "code",
   "execution_count": 2,
   "id": "bc1317b0-357d-40b7-a89d-e429d7ac48b8",
   "metadata": {},
   "outputs": [],
   "source": [
    "import warnings\n",
    "warnings.filterwarnings('ignore')"
   ]
  },
  {
   "cell_type": "code",
   "execution_count": 3,
   "id": "742088f3-4104-4d45-badc-c8a3c3a343ce",
   "metadata": {},
   "outputs": [],
   "source": [
    "def convert_line_to_list(line: str):\n",
    "    split_line = line.split(' ')\n",
    "    result_list = []\n",
    "\n",
    "    for current in split_line:\n",
    "        if current == '\\n':\n",
    "            continue\n",
    "            \n",
    "        result_list.append(int(current))\n",
    "\n",
    "    return result_list"
   ]
  },
  {
   "cell_type": "code",
   "execution_count": 4,
   "id": "83a2dd6c-76e1-4a80-99c2-84151541c387",
   "metadata": {},
   "outputs": [],
   "source": [
    "def get_mlt(clustering_unit_index):\n",
    "    return clustering_unit_index // 80 * 0.25\n",
    "\n",
    "def get_magneticLat(clustering_unit_index):\n",
    "    return clustering_unit_index % 80 * 0.5 + 50"
   ]
  },
  {
   "cell_type": "code",
   "execution_count": 5,
   "id": "089333f6-d844-463c-a7d2-9e77bde24183",
   "metadata": {},
   "outputs": [],
   "source": [
    "def cluster_unit_index_to_file_path(clustering_unit_index):\n",
    "    mlt = get_mlt(clustering_unit_index)\n",
    "    magnetic_lat = get_magneticLat(clustering_unit_index)\n",
    "    \n",
    "    return f\"C:\\\\Coding\\\\final-qualifying-work_2023-2024\\\\OvationPrimeDataCollector\\\\north-nowcast-diffuse\\\\{mlt:.2f}_{magnetic_lat:.1f}.csv\""
   ]
  },
  {
   "cell_type": "code",
   "execution_count": 6,
   "id": "6ad54871-4fe2-4df3-9f9e-62438de26146",
   "metadata": {},
   "outputs": [],
   "source": [
    "def get_cluster_centre(cluster):\n",
    "    cluster_centre = pd.read_csv(cluster_unit_index_to_file_path(cluster[0]), sep=';', low_memory=False)\n",
    "\n",
    "    f = IntProgress(min=0, max=len(cluster))\n",
    "    display(f)\n",
    "    i = 0\n",
    "    for clustering_unit_index in cluster:\n",
    "        # if i % 100 == 0:\n",
    "        #     f.value += 100\n",
    "        f.value += 1\n",
    "        if i == 0:\n",
    "            i += 1\n",
    "            continue\n",
    "        current_df = pd.read_csv(cluster_unit_index_to_file_path(clustering_unit_index), sep=';', low_memory=False)\n",
    "        cluster_centre['y'] += current_df['y']\n",
    "        i += 1\n",
    "\n",
    "    cluster_centre['y'] = cluster_centre['y'].divide(len(cluster))\n",
    "    return cluster_centre"
   ]
  },
  {
   "cell_type": "code",
   "execution_count": 7,
   "id": "b50eb510-5229-43a4-849c-3198776f5d03",
   "metadata": {},
   "outputs": [],
   "source": [
    "class WindowGenerator():\n",
    "  def __init__(self, input_width, label_width, shift,\n",
    "               train_df, val_df, test_df,\n",
    "               label_columns=None):\n",
    "    # Store the raw data.\n",
    "    self.train_df = train_df\n",
    "    self.val_df = val_df\n",
    "    self.test_df = test_df\n",
    "\n",
    "    # Work out the label column indices.\n",
    "    self.label_columns = label_columns\n",
    "    if label_columns is not None:\n",
    "      self.label_columns_indices = {name: i for i, name in\n",
    "                                    enumerate(label_columns)}\n",
    "    self.column_indices = {name: i for i, name in\n",
    "                           enumerate(train_df.columns)}\n",
    "\n",
    "    # Work out the window parameters.\n",
    "    self.input_width = input_width\n",
    "    self.label_width = label_width\n",
    "    self.shift = shift\n",
    "\n",
    "    self.total_window_size = input_width + shift\n",
    "\n",
    "    self.input_slice = slice(0, input_width)\n",
    "    self.input_indices = np.arange(self.total_window_size)[self.input_slice]\n",
    "\n",
    "    self.label_start = self.total_window_size - self.label_width\n",
    "    self.labels_slice = slice(self.label_start, None)\n",
    "    self.label_indices = np.arange(self.total_window_size)[self.labels_slice]\n",
    "\n",
    "  def __repr__(self):\n",
    "    return '\\n'.join([\n",
    "        f'Total window size: {self.total_window_size}',\n",
    "        f'Input indices: {self.input_indices}',\n",
    "        f'Label indices: {self.label_indices}',\n",
    "        f'Label column name(s): {self.label_columns}'])"
   ]
  },
  {
   "cell_type": "code",
   "execution_count": 8,
   "id": "958236c6-c012-45dd-b624-c41bb3beba93",
   "metadata": {},
   "outputs": [],
   "source": [
    "def split_window(self, features):\n",
    "  inputs = features[:, self.input_slice, :]\n",
    "  labels = features[:, self.labels_slice, :]\n",
    "  if self.label_columns is not None:\n",
    "    labels = tf.stack(\n",
    "        [labels[:, :, self.column_indices[name]] for name in self.label_columns],\n",
    "        axis=-1)\n",
    "\n",
    "  # Slicing doesn't preserve static shape information, so set the shapes\n",
    "  # manually. This way the `tf.data.Datasets` are easier to inspect.\n",
    "  inputs.set_shape([None, self.input_width, None])\n",
    "  labels.set_shape([None, self.label_width, None])\n",
    "\n",
    "  return inputs, labels\n",
    "\n",
    "WindowGenerator.split_window = split_window"
   ]
  },
  {
   "cell_type": "code",
   "execution_count": 9,
   "id": "ab174b92-5d20-47bd-8807-5c570866f4aa",
   "metadata": {},
   "outputs": [],
   "source": [
    "def make_dataset(self, data):\n",
    "  data = np.array(data, dtype=np.float32)\n",
    "  ds = tf.keras.utils.timeseries_dataset_from_array(\n",
    "      data=data,\n",
    "      targets=None,\n",
    "      sequence_length=self.total_window_size,\n",
    "      sequence_stride=1,\n",
    "      shuffle=True,\n",
    "      batch_size=32,)\n",
    "\n",
    "  ds = ds.map(self.split_window)\n",
    "\n",
    "  return ds\n",
    "\n",
    "WindowGenerator.make_dataset = make_dataset"
   ]
  },
  {
   "cell_type": "code",
   "execution_count": 10,
   "id": "fc69391d-8896-4743-abf2-342b4d7cc1cb",
   "metadata": {},
   "outputs": [],
   "source": [
    "@property\n",
    "def train(self):\n",
    "  return self.make_dataset(self.train_df)\n",
    "\n",
    "@property\n",
    "def val(self):\n",
    "  return self.make_dataset(self.val_df)\n",
    "\n",
    "@property\n",
    "def test(self):\n",
    "  return self.make_dataset(self.test_df)\n",
    "\n",
    "@property\n",
    "def example(self):\n",
    "  \"\"\"Get and cache an example batch of `inputs, labels` for plotting.\"\"\"\n",
    "  result = getattr(self, '_example', None)\n",
    "  if result is None:\n",
    "    # No example batch was found, so get one from the `.train` dataset\n",
    "    result = next(iter(self.train))\n",
    "    # And cache it for next time\n",
    "    self._example = result\n",
    "  return result\n",
    "\n",
    "WindowGenerator.train = train\n",
    "WindowGenerator.val = val\n",
    "WindowGenerator.test = test\n",
    "WindowGenerator.example = example"
   ]
  },
  {
   "cell_type": "code",
   "execution_count": 11,
   "id": "cec89917-81cd-432f-91d5-da59e269b839",
   "metadata": {},
   "outputs": [],
   "source": [
    "MAX_EPOCHS = 20\n",
    "\n",
    "def compile_and_fit(model, window, patience=2):\n",
    "  early_stopping = tf.keras.callbacks.EarlyStopping(monitor='val_loss',\n",
    "                                                    patience=patience,\n",
    "                                                    mode='min')\n",
    "    \n",
    "  model.compile(loss=tf.losses.MeanSquaredError(),\n",
    "                optimizer=tf.optimizers.Adam(),\n",
    "                metrics=[tf.metrics.MeanAbsoluteError()])\n",
    "\n",
    "  history = model.fit(window.train, epochs=MAX_EPOCHS,\n",
    "                      validation_data=window.val,\n",
    "                      callbacks=[early_stopping])\n",
    "  return history"
   ]
  },
  {
   "cell_type": "code",
   "execution_count": 12,
   "id": "49a0d13a-d100-4a85-ad2f-72775c79b05c",
   "metadata": {},
   "outputs": [],
   "source": [
    "def investigate(cluster_index, model, conv_width, clusters, save_data):\n",
    "    cluster_centre = get_cluster_centre(clusters[cluster_index])\n",
    "    cluster_centre = cluster_centre.drop(['date'], axis=1)\n",
    "    cluster_centre = cluster_centre.drop(['segment'], axis=1)\n",
    "    \n",
    "    n = len(cluster_centre)\n",
    "    train_df = cluster_centre[0:int(n*0.7)]\n",
    "    val_df = cluster_centre[int(n*0.7):int(n*0.9)]\n",
    "    test_df = cluster_centre[int(n*0.9):]\n",
    "\n",
    "    train_mean = train_df.mean()\n",
    "    train_std = train_df.std()\n",
    "\n",
    "    train_df = (train_df - train_mean) / train_std\n",
    "    val_df = (val_df - train_mean) / train_std\n",
    "    test_df = (test_df - train_mean) / train_std\n",
    "    \n",
    "    conv_window = WindowGenerator(\n",
    "    input_width=conv_width,\n",
    "    label_width=1,\n",
    "    shift=1,\n",
    "    train_df=train_df,\n",
    "    val_df=val_df,\n",
    "    test_df=test_df,\n",
    "    label_columns=['y']\n",
    "    )\n",
    "\n",
    "    model = keras.models.Sequential.from_config(model.get_config())\n",
    "    \n",
    "    history = compile_and_fit(model, conv_window)\n",
    "\n",
    "    inputs, labels = conv_window.example\n",
    "\n",
    "    val_df_numpy = val_df.to_numpy()\n",
    "    train_df_numpy = train_df.to_numpy()\n",
    "    test_df_numpy = test_df.to_numpy()\n",
    "    new_true_values_val = []\n",
    "    new_true_values_train = []\n",
    "    new_true_values_test = []\n",
    "    new_input_val = []\n",
    "    new_input_train = []\n",
    "    new_input_test = []\n",
    "\n",
    "    new_true_values_val = val_df_numpy[3:].flatten()\n",
    "    new_input_val = np.column_stack([val_df_numpy[0:-3], val_df_numpy[1:-2], val_df_numpy[2:-1]])\n",
    "\n",
    "    new_true_values_train = train_df_numpy[3:].flatten()\n",
    "    new_input_train = np.column_stack([train_df_numpy[0:-3], train_df_numpy[1:-2], train_df_numpy[2:-1]])\n",
    "\n",
    "    new_true_values_test = test_df_numpy[3:].flatten()\n",
    "    new_input_test = np.column_stack([test_df_numy[0:-3], test_df_numy[1:--2], test_df_numy[2:-1]])\n",
    "        \n",
    "    val_predictions = model(np.array(new_input_val)).numpy()\n",
    "    train_predictions = model(np.array(new_input_train)).numpy()\n",
    "    test_predictions = model(np.array(new_input_test)).numpy()\n",
    "    \n",
    "    new_val_predictions = val_predictions.flatten()\n",
    "    new_train_predictions = train_predictions.flatten()\n",
    "    new_test_predictions = test_predictions.flatten()\n",
    "    \n",
    "    new_true_values_val = (new_true_values_val * train_std['y']) + train_mean['y']\n",
    "    new_val_predictions = (new_val_predictions * train_std['y']) + train_mean['y']\n",
    "\n",
    "    new_true_values_train = (new_true_values_train * train_std['y']) + train_mean['y']\n",
    "    new_train_predictions = (new_train_predictions * train_std['y']) + train_mean['y']\n",
    "\n",
    "    new_true_values_test = (new_true_values_test * train_std['y']) + train_mean['y']\n",
    "    new_test_predictions = (new_test_predictions * train_std['y']) + train_mean['y']\n",
    "\n",
    "    print(\"***TRAIN***:\")\n",
    "    output_file.write(\"***TRAIN***:\\n\")\n",
    "    print(f\"correlation related to cluster centre: {np.corrcoef(new_true_values_train, new_train_predictions)[0][1]:.2f}\")\n",
    "    output_file.write(f\"correlation related to cluster centre: {np.corrcoef(new_true_values_train, new_train_predictions)[0][1]:.2f}\\n\")\n",
    "    print(f\"r2 score related to cluster centre: {r2_score(new_true_values_train, new_train_predictions):.2f}\")\n",
    "    output_file.write(f\"r2 score related to cluster centre: {r2_score(new_true_values_train, new_train_predictions):.2f}\\n\")\n",
    "    print(\"***VALIDATION***:\")\n",
    "    output_file.write(\"***VALIDATION***:\\n\")\n",
    "    print(f\"correlation related to cluster centre: {np.corrcoef(new_true_values_val, new_val_predictions)[0][1]:.2f}\")\n",
    "    output_file.write(f\"correlation related to cluster centre: {np.corrcoef(new_true_values_val, new_val_predictions)[0][1]:.2f}\\n\")\n",
    "    print(f\"r2 score related to cluster centre: {r2_score(new_true_values_val, new_val_predictions):.2f}\")\n",
    "    output_file.write(f\"r2 score related to cluster centre: {r2_score(new_true_values_val, new_val_predictions):.2f}\\n\")\n",
    "    print(\"***TEST***:\")\n",
    "    output_file.write(\"***TEST***:\\n\")\n",
    "    print(f\"correlation related to cluster centre: {np.corrcoef(new_true_values_test, new_test_predictions)[0][1]:.2f}\")\n",
    "    output_file.write(f\"correlation related to cluster centre: {np.corrcoef(new_true_values_test, new_test_predictions)[0][1]:.2f}\\n\")\n",
    "    print(f\"r2 score related to cluster centre: {r2_score(new_true_values_test, new_test_predictions):.2f}\")\n",
    "    output_file.write(f\"r2 score related to cluster centre: {r2_score(new_true_values_test, new_test_predictions):.2f}\\n\")\n",
    "\n",
    "    sum_correlation_val = 0\n",
    "    sum_r2_val = 0\n",
    "\n",
    "    sum_correlation_test = 0\n",
    "    sum_r2_test = 0\n",
    "\n",
    "    f = IntProgress(min=0, max=len(clusters[cluster_index]))\n",
    "    display(f)\n",
    "\n",
    "    i = 0\n",
    "    for clustering_unit_index in clusters[cluster_index]:\n",
    "        if (i % 100 == 0):\n",
    "            f.value += 100\n",
    "        \n",
    "        current_df = pd.read_csv(cluster_unit_index_to_file_path(clustering_unit_index), sep=';', low_memory=False)\n",
    "        current_df = current_df.drop(['date'], axis=1)\n",
    "        current_df = current_df.drop(['segment'], axis=1)\n",
    "\n",
    "        n = len(current_df)\n",
    "        current_train_df = current_df[0:int(n*0.7)]\n",
    "        current_val_df = current_df[int(n*0.7):int(n*0.9)]\n",
    "        current_test_df = current_df[int(n*0.9):]\n",
    "\n",
    "        current_train_df = (current_train_df - train_mean) / train_std\n",
    "        current_val_df = (current_val_df - train_mean) / train_std\n",
    "        current_test_df = (current_test_df - train_mean) / train_std\n",
    "\n",
    "        current_val_df_numpy = current_val_df.to_numpy()\n",
    "        current_new_true_values_val = current_val_df_numpy[3:].flatten()\n",
    "        current_new_input_val = np.column_stack([current_val_df_numpy[0:-3], current_val_df_numpy[1:-2], current_val_df_numpy[2:-1]])\n",
    "\n",
    "        current_test_df_numpy = current_test_df.to_numpy()\n",
    "        current_new_true_values_test = current_test_df_numpy[3:].flatten()\n",
    "        current_new_input_test = np.column_stack([current_test_df_numpy[0:-3], current_test_df_numpy[1:-2], current_test_df_numpy[2:-1]])\n",
    "\n",
    "        current_val_predictions = model(np.array(current_new_input_val)).numpy()\n",
    "        current_new_val_predictions = current_val_predictions.flatten()\n",
    "\n",
    "        current_test_predictions = model(np.array(current_new_input_test)).numpy()\n",
    "        current_new_test_predictions = current_test_predictions.flatten()\n",
    "\n",
    "        current_new_true_values_val = (current_new_true_values_val * train_std['y']) + train_mean['y']\n",
    "        current_new_val_predictions = (current_new_val_predictions * train_std['y']) + train_mean['y']\n",
    "\n",
    "        current_new_true_values_test = (current_new_true_values_test * train_std['y']) + train_mean['y']\n",
    "        current_new_test_predictions = (current_new_test_predictions * train_std['y']) + train_mean['y']\n",
    "            \n",
    "        sum_correlation_val += np.corrcoef(current_new_true_values_val, current_new_val_predictions)[0][1]\n",
    "        sum_r2_val += r2_score(current_new_true_values_val, current_new_val_predictions)\n",
    "\n",
    "        sum_correlation_test += np.corrcoef(current_new_true_values_test, current_new_test_predictions)[0][1]\n",
    "        sum_r2_test += r2_score(current_new_true_values_test, current_new_test_predictions)\n",
    "\n",
    "        i += 1\n",
    "\n",
    "    if (save_data):\n",
    "        f = open(f\"out\\\\train-mean-and-std\\\\train mean and std for cluster {cluster_index}.txt\", \"w\")\n",
    "        f.write(str(train_mean.mean()) + ' ' + str(train_std.mean()))\n",
    "        f.close()\n",
    "        model.save(f\"out\\\\saved-models\\\\model for cluster {cluster_index}\")\n",
    "\n",
    "    cluster_len = len(clusters[cluster_index])\n",
    "    \n",
    "    return sum_correlation_val / cluster_len, sum_r2_val / cluster_len,, sum_correlatin_test / cluster_len, sum_r2_test / cluster_len"
   ]
  },
  {
   "cell_type": "code",
   "execution_count": 13,
   "id": "5ad4b77a-3091-45a8-a871-5977a48e687f",
   "metadata": {},
   "outputs": [],
   "source": [
    "def do_investigations(model, clusters, conv_width):\n",
    "    cluster_sizes = []\n",
    "    average_correlations_val = []\n",
    "    average_r2_scores_val = []\n",
    "    average_correlations_test = []\n",
    "    average_r2_scores_test = []\n",
    "\n",
    "    for i in range(len(clusters)):\n",
    "        print(f\"---do_investigations. cluster index : {i}---\")\n",
    "        output_file.write(f\"---do_investigations. cluster index : {i}---\\n\")\n",
    "        average_correlation_val, average_r2_val, average_correlation_test, average_r2_test = investigate(i, model, conv_width, clusters, False)\n",
    "        \n",
    "        print(\"***VALIDATION***:\")\n",
    "        output_file.write(\"***VALIDATION***:\\n\")\n",
    "        print(f\"average correlation val: {average_correlation_val:.2f}\")\n",
    "        output_file.write(f\"average correlation val: {average_correlation_val:.2f}\\n\")\n",
    "        print(f\"average r2 val: {average_r2_val:.2f}\")\n",
    "        output_file.write(f\"average r2 val: {average_r2_val:.2f}\\n\")\n",
    "        print(\"***TEST***:\")\n",
    "        output_file.write(\"***TEST***:\\n\")\n",
    "        print(f\"average correlation test: {average_correlation_test:.2f}\")\n",
    "        output_file.write(f\"average correlation test: {average_correlation_test:.2f}\\n\")\n",
    "        print(f\"average r2 test: {average_r2_test:.2f}\")\n",
    "        output_file.write(f\"average r2 test: {average_r2_test:.2f}\\n\")\n",
    "\n",
    "        cluster_sizes.append(len(clusters[i]))\n",
    "        average_correlations_val.append(average_correlation_val)\n",
    "        average_r2_scores_val.append(average_r2_val)\n",
    "        average_correlations_test.append(average_correlation_test)\n",
    "        average_r2_scores_test.append(average_r2_test)\n",
    "\n",
    "    return cluster_sizes, average_correlations_val, average_r2_scores_val, average_correlations_test, average_r2_scores_test"
   ]
  },
  {
   "cell_type": "code",
   "execution_count": 14,
   "id": "bd5bb17d-f0f0-41f8-a216-1f604354c7ed",
   "metadata": {},
   "outputs": [],
   "source": [
    "def print_metrics(cluster_sizes, average_correlations_val, average_r2_scores_val, average_correlations_test, average_r2_scores_test, clusters):\n",
    "    total_size = 0\n",
    "    correlation_sum_val = 0\n",
    "    r2_score_sum_val = 0\n",
    "    correlation_sum_test = 0\n",
    "    r2_score_sum_test = 0\n",
    "    \n",
    "    bad_clusters_indices = []\n",
    "\n",
    "    for i in range(len(cluster_sizes)):\n",
    "        if (math.isnan(correlations_val[i]) or (r2_scores_val[i] < 0)):\n",
    "            bad_clusters_indices.append(i)\n",
    "            continue\n",
    "        \n",
    "        correlation_sum_val += cluster_sizes[i] * average_correlations_val[i]\n",
    "        r2_score_sum_val += cluster_sizes[i] * average_r2_scores_val[i]\n",
    "        correlation_sum_test += cluster_sizes[i] * average_correlations_test[i]\n",
    "        r2_score_sum_test += cluster_sizes[i] * average_r2_scores_test[i]\n",
    "        total_size += cluster_sizes[i]\n",
    "\n",
    "    weighted_average_correlation_val = correlation_sum_val / total_size\n",
    "    weighted_average_r2_score_val = r2_score_sum_val / total_size\n",
    "    weighted_average_correlation_test = correlation_sum_test / total_size\n",
    "    weighted_average_r2_test = r2_score_sum_test / total_size\n",
    "\n",
    "    print(f\"weighted_average_correlation_val: {weighted_average_correlation_val:.2f}\")\n",
    "    output_file.write(f\"weighted_average_correlation_val: {weighted_average_correlation_val:.2f}\\n\")\n",
    "    print(f\"weighted_average_r2_score_val: {weighted_average_r2_score_val:.2f}\")\n",
    "    output_file.write(f\"weighted_average_r2_score_val: {weighted_average_r2_score_val:.2f}\\n\")\n",
    "    print(f\"weighted_average_correlation_test: {weighted_average_correlation_test:.2f}\")\n",
    "    output_file.write(f\"weighted_average_correlation_test: {weighted_average_correlation_test:.2f}\\n\")\n",
    "    print(f\"weighted_average_r2_score_test: {weighted_average_r2_score_test:2.f}\")\n",
    "    output_file.write(f\"weighted_average_r2_score_test: {weighted_average_r2_score_test:2.f}\\n\")\n",
    "\n",
    "    bad_clusters_size_sum = 0\n",
    "    total_clusters_size_sum = 0\n",
    "\n",
    "    for cluster_size in cluster_sizes:\n",
    "        total_clusters_size_sum += cluster_size\n",
    "    \n",
    "    for bad_cluster_index in bad_clusters_indices:\n",
    "        bad_clusters_size_sum += len(clusters[bad_cluster_index])\n",
    "\n",
    "    bad_clusters_rate = bad_clusters_size_sum / total_clusters_size_sum\n",
    "\n",
    "    print(f\"bad clusters rate: {bad_clusters_rate:.2f}\")\n",
    "    output_file.write(f\"bad clusters rate: {bad_clusters_rate:.2f}\\n\")\n",
    "    print(f\"bad cluster indices: {bad_cluster_indices}\")\n",
    "    output_file.write(f\"bad cluster indices: {bad_cluster_indices}\\n\")"
   ]
  },
  {
   "cell_type": "code",
   "execution_count": 15,
   "id": "5617952d-1bcf-466e-9388-799b85c6bc7e",
   "metadata": {},
   "outputs": [],
   "source": [
    "def show_results(model, clusters, conv_width):\n",
    "    cluster_sizes, average_correlations_val, average_r2_scores_val, average_correlations_test, average_r2_scores_test = do_investigations(model, clusters, conv_width)\n",
    "    print_metrics(cluster_sizes, average_correlations_val, average_r2_scores_val, average_correlations_test, average_r2_scores_test, clusters)"
   ]
  },
  {
   "cell_type": "code",
   "execution_count": 16,
   "id": "776882d6-8435-46f0-9c36-eb1c89b0634a",
   "metadata": {},
   "outputs": [],
   "source": [
    "CONV_WIDTH = 3"
   ]
  },
  {
   "cell_type": "code",
   "execution_count": 17,
   "id": "10b769f4-4e06-4d51-bb0b-561f86733e5a",
   "metadata": {
    "scrolled": true
   },
   "outputs": [
    {
     "name": "stdout",
     "output_type": "stream",
     "text": [
      "WARNING:tensorflow:From C:\\python\\python311\\Lib\\site-packages\\keras\\src\\backend.py:873: The name tf.get_default_graph is deprecated. Please use tf.compat.v1.get_default_graph instead.\n",
      "\n"
     ]
    }
   ],
   "source": [
    "multi_step_dense_model = tf.keras.Sequential([\n",
    "    # Shape: (time, features) => (time*features)\n",
    "    tf.keras.layers.Flatten(),\n",
    "    tf.keras.layers.Dense(units=32, activation='relu'),\n",
    "    tf.keras.layers.Dense(units=32, activation='relu'),\n",
    "    tf.keras.layers.Dense(units=1),\n",
    "    # Add back the time dimension.\n",
    "    # Shape: (outputs) => (1, outputs)\n",
    "    tf.keras.layers.Reshape([1, -1]),\n",
    "])"
   ]
  },
  {
   "cell_type": "code",
   "execution_count": 20,
   "id": "5f284891-fcf1-4d84-879b-274cfbbd243e",
   "metadata": {},
   "outputs": [],
   "source": [
    "def get_clusters(path):\n",
    "    file = open(path, 'r')\n",
    "    lines = file.readlines()\n",
    "    file.close()\n",
    "\n",
    "    clusters = []\n",
    "\n",
    "    for line in lines:\n",
    "        if line.strip() == '':\n",
    "            continue\n",
    "        clusters.append(convert_line_to_list(line))\n",
    "\n",
    "    return clusters"
   ]
  },
  {
   "cell_type": "code",
   "execution_count": 22,
   "id": "5586bad6-458a-47fe-a043-7b883df7a0cf",
   "metadata": {},
   "outputs": [
    {
     "name": "stdout",
     "output_type": "stream",
     "text": [
      "------------------------------------------------------\n",
      "msd kmeans 60 0.1 20.txt\n",
      "---do_investigations. cluster index : 0---\n"
     ]
    },
    {
     "data": {
      "application/vnd.jupyter.widget-view+json": {
       "model_id": "2fd5db974a8c444ba301e5751a44fcc9",
       "version_major": 2,
       "version_minor": 0
      },
      "text/plain": [
       "IntProgress(value=0, max=110)"
      ]
     },
     "metadata": {},
     "output_type": "display_data"
    },
    {
     "name": "stdout",
     "output_type": "stream",
     "text": [
      "Epoch 1/20\n",
      "368/368 [==============================] - 2s 3ms/step - loss: 0.2388 - mean_absolute_error: 0.3404 - val_loss: 0.1606 - val_mean_absolute_error: 0.2803\n",
      "Epoch 2/20\n",
      "368/368 [==============================] - 1s 2ms/step - loss: 0.2106 - mean_absolute_error: 0.3082 - val_loss: 0.1611 - val_mean_absolute_error: 0.2740\n",
      "Epoch 3/20\n",
      "368/368 [==============================] - 1s 2ms/step - loss: 0.2095 - mean_absolute_error: 0.3070 - val_loss: 0.1568 - val_mean_absolute_error: 0.2692\n",
      "Epoch 4/20\n",
      "368/368 [==============================] - 1s 2ms/step - loss: 0.2094 - mean_absolute_error: 0.3063 - val_loss: 0.1579 - val_mean_absolute_error: 0.2728\n",
      "Epoch 5/20\n",
      "368/368 [==============================] - 1s 2ms/step - loss: 0.2094 - mean_absolute_error: 0.3063 - val_loss: 0.1570 - val_mean_absolute_error: 0.2703\n",
      "***TRAIN***:\n",
      "correlation related to cluster centre: 0.89\n",
      "r2 score related to cluster centre: 0.79\n",
      "***VALIDATION***:\n",
      "correlation related to cluster centre: 0.91\n",
      "r2 score related to cluster centre: 0.82\n"
     ]
    },
    {
     "data": {
      "application/vnd.jupyter.widget-view+json": {
       "model_id": "9debc5e5b473478d9521c486ba461016",
       "version_major": 2,
       "version_minor": 0
      },
      "text/plain": [
       "IntProgress(value=0, max=110)"
      ]
     },
     "metadata": {},
     "output_type": "display_data"
    },
    {
     "name": "stdout",
     "output_type": "stream",
     "text": [
      "***VALIDATION***:\n",
      "average correlation: 0.90\n",
      "average r2: 0.79\n",
      "---do_investigations. cluster index : 1---\n"
     ]
    },
    {
     "data": {
      "application/vnd.jupyter.widget-view+json": {
       "model_id": "75be5bf0f3274789acd815d67b45534a",
       "version_major": 2,
       "version_minor": 0
      },
      "text/plain": [
       "IntProgress(value=0, max=184)"
      ]
     },
     "metadata": {},
     "output_type": "display_data"
    },
    {
     "name": "stdout",
     "output_type": "stream",
     "text": [
      "Epoch 1/20\n",
      "368/368 [==============================] - 2s 3ms/step - loss: 0.2261 - mean_absolute_error: 0.2965 - val_loss: 0.1773 - val_mean_absolute_error: 0.2315\n",
      "Epoch 2/20\n",
      "368/368 [==============================] - 1s 2ms/step - loss: 0.1950 - mean_absolute_error: 0.2648 - val_loss: 0.1508 - val_mean_absolute_error: 0.2152\n",
      "Epoch 3/20\n",
      "368/368 [==============================] - 1s 2ms/step - loss: 0.1934 - mean_absolute_error: 0.2645 - val_loss: 0.1522 - val_mean_absolute_error: 0.2120\n",
      "Epoch 4/20\n",
      "368/368 [==============================] - 1s 2ms/step - loss: 0.1928 - mean_absolute_error: 0.2637 - val_loss: 0.1497 - val_mean_absolute_error: 0.2122\n",
      "Epoch 5/20\n",
      "368/368 [==============================] - 1s 2ms/step - loss: 0.1918 - mean_absolute_error: 0.2629 - val_loss: 0.1500 - val_mean_absolute_error: 0.2181\n",
      "Epoch 6/20\n",
      "368/368 [==============================] - 1s 3ms/step - loss: 0.1917 - mean_absolute_error: 0.2630 - val_loss: 0.1543 - val_mean_absolute_error: 0.2183\n",
      "***TRAIN***:\n",
      "correlation related to cluster centre: 0.90\n",
      "r2 score related to cluster centre: 0.81\n",
      "***VALIDATION***:\n",
      "correlation related to cluster centre: 0.91\n",
      "r2 score related to cluster centre: 0.83\n"
     ]
    },
    {
     "data": {
      "application/vnd.jupyter.widget-view+json": {
       "model_id": "da0b73875c8b42c8a6191ec4535aec64",
       "version_major": 2,
       "version_minor": 0
      },
      "text/plain": [
       "IntProgress(value=0, max=184)"
      ]
     },
     "metadata": {},
     "output_type": "display_data"
    },
    {
     "name": "stdout",
     "output_type": "stream",
     "text": [
      "***VALIDATION***:\n",
      "average correlation: 0.90\n",
      "average r2: 0.73\n",
      "---do_investigations. cluster index : 2---\n"
     ]
    },
    {
     "data": {
      "application/vnd.jupyter.widget-view+json": {
       "model_id": "028e42d22bde4459a33d07a3b8729ca0",
       "version_major": 2,
       "version_minor": 0
      },
      "text/plain": [
       "IntProgress(value=0, max=207)"
      ]
     },
     "metadata": {},
     "output_type": "display_data"
    },
    {
     "name": "stdout",
     "output_type": "stream",
     "text": [
      "Epoch 1/20\n",
      "368/368 [==============================] - 2s 3ms/step - loss: 0.2440 - mean_absolute_error: 0.3423 - val_loss: 0.1822 - val_mean_absolute_error: 0.2895\n",
      "Epoch 2/20\n",
      "368/368 [==============================] - 1s 2ms/step - loss: 0.2027 - mean_absolute_error: 0.3071 - val_loss: 0.1814 - val_mean_absolute_error: 0.2903\n",
      "Epoch 3/20\n",
      "368/368 [==============================] - 1s 2ms/step - loss: 0.2015 - mean_absolute_error: 0.3065 - val_loss: 0.1824 - val_mean_absolute_error: 0.2924\n",
      "Epoch 4/20\n",
      "368/368 [==============================] - 1s 2ms/step - loss: 0.2007 - mean_absolute_error: 0.3049 - val_loss: 0.1824 - val_mean_absolute_error: 0.2901\n",
      "***TRAIN***:\n",
      "correlation related to cluster centre: 0.90\n",
      "r2 score related to cluster centre: 0.80\n",
      "***VALIDATION***:\n",
      "correlation related to cluster centre: 0.90\n",
      "r2 score related to cluster centre: 0.82\n"
     ]
    },
    {
     "data": {
      "application/vnd.jupyter.widget-view+json": {
       "model_id": "588725fdddf54897a6303510704991e5",
       "version_major": 2,
       "version_minor": 0
      },
      "text/plain": [
       "IntProgress(value=0, max=207)"
      ]
     },
     "metadata": {},
     "output_type": "display_data"
    },
    {
     "name": "stdout",
     "output_type": "stream",
     "text": [
      "***VALIDATION***:\n",
      "average correlation: 0.90\n",
      "average r2: 0.80\n",
      "---do_investigations. cluster index : 3---\n"
     ]
    },
    {
     "data": {
      "application/vnd.jupyter.widget-view+json": {
       "model_id": "63e0625f8d0840ddb09e86b6ce6b49d0",
       "version_major": 2,
       "version_minor": 0
      },
      "text/plain": [
       "IntProgress(value=0, max=118)"
      ]
     },
     "metadata": {},
     "output_type": "display_data"
    },
    {
     "name": "stdout",
     "output_type": "stream",
     "text": [
      "Epoch 1/20\n",
      "368/368 [==============================] - 2s 3ms/step - loss: 0.2786 - mean_absolute_error: 0.3180 - val_loss: 0.2168 - val_mean_absolute_error: 0.2868\n",
      "Epoch 2/20\n",
      "368/368 [==============================] - 1s 2ms/step - loss: 0.2056 - mean_absolute_error: 0.2837 - val_loss: 0.2152 - val_mean_absolute_error: 0.2911\n",
      "Epoch 3/20\n",
      "368/368 [==============================] - 1s 3ms/step - loss: 0.2046 - mean_absolute_error: 0.2826 - val_loss: 0.2152 - val_mean_absolute_error: 0.2893\n",
      "Epoch 4/20\n",
      "368/368 [==============================] - 1s 3ms/step - loss: 0.2058 - mean_absolute_error: 0.2833 - val_loss: 0.2131 - val_mean_absolute_error: 0.2792\n",
      "Epoch 5/20\n",
      "368/368 [==============================] - 1s 3ms/step - loss: 0.2043 - mean_absolute_error: 0.2812 - val_loss: 0.2155 - val_mean_absolute_error: 0.2848\n",
      "Epoch 6/20\n",
      "368/368 [==============================] - 1s 3ms/step - loss: 0.2050 - mean_absolute_error: 0.2823 - val_loss: 0.2146 - val_mean_absolute_error: 0.2891\n",
      "***TRAIN***:\n",
      "correlation related to cluster centre: 0.89\n",
      "r2 score related to cluster centre: 0.80\n",
      "***VALIDATION***:\n",
      "correlation related to cluster centre: 0.90\n",
      "r2 score related to cluster centre: 0.82\n"
     ]
    },
    {
     "data": {
      "application/vnd.jupyter.widget-view+json": {
       "model_id": "7837eea151d24f3e956f3706c1fde436",
       "version_major": 2,
       "version_minor": 0
      },
      "text/plain": [
       "IntProgress(value=0, max=118)"
      ]
     },
     "metadata": {},
     "output_type": "display_data"
    },
    {
     "name": "stdout",
     "output_type": "stream",
     "text": [
      "***VALIDATION***:\n",
      "average correlation: 0.90\n",
      "average r2: 0.80\n",
      "---do_investigations. cluster index : 4---\n"
     ]
    },
    {
     "data": {
      "application/vnd.jupyter.widget-view+json": {
       "model_id": "af6d6c01360141e5a8b3d4e7c633b9f9",
       "version_major": 2,
       "version_minor": 0
      },
      "text/plain": [
       "IntProgress(value=0, max=119)"
      ]
     },
     "metadata": {},
     "output_type": "display_data"
    },
    {
     "name": "stdout",
     "output_type": "stream",
     "text": [
      "Epoch 1/20\n",
      "368/368 [==============================] - 2s 3ms/step - loss: 0.2428 - mean_absolute_error: 0.3308 - val_loss: 0.1906 - val_mean_absolute_error: 0.2848\n",
      "Epoch 2/20\n",
      "368/368 [==============================] - 1s 2ms/step - loss: 0.2058 - mean_absolute_error: 0.2897 - val_loss: 0.1898 - val_mean_absolute_error: 0.2796\n",
      "Epoch 3/20\n",
      "368/368 [==============================] - 1s 3ms/step - loss: 0.2060 - mean_absolute_error: 0.2886 - val_loss: 0.1891 - val_mean_absolute_error: 0.2770\n",
      "Epoch 4/20\n",
      "368/368 [==============================] - 1s 2ms/step - loss: 0.2048 - mean_absolute_error: 0.2880 - val_loss: 0.1891 - val_mean_absolute_error: 0.2766\n",
      "Epoch 5/20\n",
      "368/368 [==============================] - 1s 2ms/step - loss: 0.2046 - mean_absolute_error: 0.2873 - val_loss: 0.1891 - val_mean_absolute_error: 0.2801\n",
      "Epoch 6/20\n",
      "368/368 [==============================] - 1s 3ms/step - loss: 0.2054 - mean_absolute_error: 0.2870 - val_loss: 0.1885 - val_mean_absolute_error: 0.2772\n",
      "Epoch 7/20\n",
      "368/368 [==============================] - 1s 2ms/step - loss: 0.2047 - mean_absolute_error: 0.2875 - val_loss: 0.1878 - val_mean_absolute_error: 0.2762\n",
      "Epoch 8/20\n",
      "368/368 [==============================] - 1s 3ms/step - loss: 0.2040 - mean_absolute_error: 0.2861 - val_loss: 0.1890 - val_mean_absolute_error: 0.2766\n",
      "Epoch 9/20\n",
      "368/368 [==============================] - 1s 3ms/step - loss: 0.2044 - mean_absolute_error: 0.2867 - val_loss: 0.1879 - val_mean_absolute_error: 0.2725\n",
      "***TRAIN***:\n",
      "correlation related to cluster centre: 0.89\n",
      "r2 score related to cluster centre: 0.80\n",
      "***VALIDATION***:\n",
      "correlation related to cluster centre: 0.91\n",
      "r2 score related to cluster centre: 0.82\n"
     ]
    },
    {
     "data": {
      "application/vnd.jupyter.widget-view+json": {
       "model_id": "b843f7bbe7e7409c9218b83f2b5bb338",
       "version_major": 2,
       "version_minor": 0
      },
      "text/plain": [
       "IntProgress(value=0, max=119)"
      ]
     },
     "metadata": {},
     "output_type": "display_data"
    },
    {
     "name": "stdout",
     "output_type": "stream",
     "text": [
      "***VALIDATION***:\n",
      "average correlation: 0.90\n",
      "average r2: 0.81\n",
      "---do_investigations. cluster index : 5---\n"
     ]
    },
    {
     "data": {
      "application/vnd.jupyter.widget-view+json": {
       "model_id": "e83056594cc34495becfc7fab6d8ceeb",
       "version_major": 2,
       "version_minor": 0
      },
      "text/plain": [
       "IntProgress(value=0, max=377)"
      ]
     },
     "metadata": {},
     "output_type": "display_data"
    },
    {
     "name": "stdout",
     "output_type": "stream",
     "text": [
      "Epoch 1/20\n",
      "368/368 [==============================] - 2s 3ms/step - loss: 0.2945 - mean_absolute_error: 0.3227 - val_loss: 0.2636 - val_mean_absolute_error: 0.2703\n",
      "Epoch 2/20\n",
      "368/368 [==============================] - 1s 3ms/step - loss: 0.2064 - mean_absolute_error: 0.2717 - val_loss: 0.2587 - val_mean_absolute_error: 0.2759\n",
      "Epoch 3/20\n",
      "368/368 [==============================] - 1s 3ms/step - loss: 0.2044 - mean_absolute_error: 0.2709 - val_loss: 0.2498 - val_mean_absolute_error: 0.2634\n",
      "Epoch 4/20\n",
      "368/368 [==============================] - 1s 3ms/step - loss: 0.2036 - mean_absolute_error: 0.2687 - val_loss: 0.2479 - val_mean_absolute_error: 0.2683\n",
      "Epoch 5/20\n",
      "368/368 [==============================] - 1s 3ms/step - loss: 0.2015 - mean_absolute_error: 0.2682 - val_loss: 0.2519 - val_mean_absolute_error: 0.2649\n",
      "Epoch 6/20\n",
      "368/368 [==============================] - 1s 2ms/step - loss: 0.2030 - mean_absolute_error: 0.2686 - val_loss: 0.2482 - val_mean_absolute_error: 0.2690\n",
      "***TRAIN***:\n",
      "correlation related to cluster centre: 0.90\n",
      "r2 score related to cluster centre: 0.80\n",
      "***VALIDATION***:\n",
      "correlation related to cluster centre: 0.90\n",
      "r2 score related to cluster centre: 0.81\n"
     ]
    },
    {
     "data": {
      "application/vnd.jupyter.widget-view+json": {
       "model_id": "5a4c72083b664bf18f6033327fcdb6d5",
       "version_major": 2,
       "version_minor": 0
      },
      "text/plain": [
       "IntProgress(value=0, max=377)"
      ]
     },
     "metadata": {},
     "output_type": "display_data"
    },
    {
     "name": "stdout",
     "output_type": "stream",
     "text": [
      "***VALIDATION***:\n",
      "average correlation: 0.89\n",
      "average r2: 0.77\n",
      "---do_investigations. cluster index : 6---\n"
     ]
    },
    {
     "data": {
      "application/vnd.jupyter.widget-view+json": {
       "model_id": "b0c6de311d8d41578de5e41974f15bd1",
       "version_major": 2,
       "version_minor": 0
      },
      "text/plain": [
       "IntProgress(value=0, max=160)"
      ]
     },
     "metadata": {},
     "output_type": "display_data"
    },
    {
     "name": "stdout",
     "output_type": "stream",
     "text": [
      "Epoch 1/20\n",
      "368/368 [==============================] - 2s 3ms/step - loss: 0.2456 - mean_absolute_error: 0.3523 - val_loss: 0.1853 - val_mean_absolute_error: 0.3011\n",
      "Epoch 2/20\n",
      "368/368 [==============================] - 1s 2ms/step - loss: 0.2053 - mean_absolute_error: 0.3167 - val_loss: 0.1846 - val_mean_absolute_error: 0.3019\n",
      "Epoch 3/20\n",
      "368/368 [==============================] - 1s 2ms/step - loss: 0.2054 - mean_absolute_error: 0.3165 - val_loss: 0.1839 - val_mean_absolute_error: 0.2964\n",
      "Epoch 4/20\n",
      "368/368 [==============================] - 1s 2ms/step - loss: 0.2056 - mean_absolute_error: 0.3167 - val_loss: 0.1835 - val_mean_absolute_error: 0.2981\n",
      "Epoch 5/20\n",
      "368/368 [==============================] - 1s 2ms/step - loss: 0.2045 - mean_absolute_error: 0.3158 - val_loss: 0.1837 - val_mean_absolute_error: 0.3009\n",
      "Epoch 6/20\n",
      "368/368 [==============================] - 1s 2ms/step - loss: 0.2048 - mean_absolute_error: 0.3155 - val_loss: 0.1834 - val_mean_absolute_error: 0.2956\n",
      "Epoch 7/20\n",
      "368/368 [==============================] - 1s 3ms/step - loss: 0.2035 - mean_absolute_error: 0.3151 - val_loss: 0.1829 - val_mean_absolute_error: 0.2981\n",
      "Epoch 8/20\n",
      "368/368 [==============================] - 1s 2ms/step - loss: 0.2037 - mean_absolute_error: 0.3152 - val_loss: 0.1832 - val_mean_absolute_error: 0.2976\n",
      "Epoch 9/20\n",
      "368/368 [==============================] - 1s 3ms/step - loss: 0.2041 - mean_absolute_error: 0.3149 - val_loss: 0.1838 - val_mean_absolute_error: 0.2924\n",
      "***TRAIN***:\n",
      "correlation related to cluster centre: 0.89\n",
      "r2 score related to cluster centre: 0.80\n",
      "***VALIDATION***:\n",
      "correlation related to cluster centre: 0.91\n",
      "r2 score related to cluster centre: 0.82\n"
     ]
    },
    {
     "data": {
      "application/vnd.jupyter.widget-view+json": {
       "model_id": "7f8f459655dc4a70833008fb3a313dd4",
       "version_major": 2,
       "version_minor": 0
      },
      "text/plain": [
       "IntProgress(value=0, max=160)"
      ]
     },
     "metadata": {},
     "output_type": "display_data"
    },
    {
     "name": "stdout",
     "output_type": "stream",
     "text": [
      "***VALIDATION***:\n",
      "average correlation: 0.91\n",
      "average r2: 0.82\n",
      "---do_investigations. cluster index : 7---\n"
     ]
    },
    {
     "data": {
      "application/vnd.jupyter.widget-view+json": {
       "model_id": "a3cf5aa5dfb742119c9e3eeaf8f7739d",
       "version_major": 2,
       "version_minor": 0
      },
      "text/plain": [
       "IntProgress(value=0, max=303)"
      ]
     },
     "metadata": {},
     "output_type": "display_data"
    },
    {
     "name": "stdout",
     "output_type": "stream",
     "text": [
      "Epoch 1/20\n",
      "368/368 [==============================] - 2s 3ms/step - loss: 0.0893 - mean_absolute_error: 0.1594 - val_loss: 0.0311 - val_mean_absolute_error: 0.0899\n",
      "Epoch 2/20\n",
      "368/368 [==============================] - 1s 2ms/step - loss: 0.0370 - mean_absolute_error: 0.1037 - val_loss: 0.0275 - val_mean_absolute_error: 0.0828\n",
      "Epoch 3/20\n",
      "368/368 [==============================] - 1s 2ms/step - loss: 0.0362 - mean_absolute_error: 0.1031 - val_loss: 0.0266 - val_mean_absolute_error: 0.0834\n",
      "Epoch 4/20\n",
      "368/368 [==============================] - 1s 2ms/step - loss: 0.0362 - mean_absolute_error: 0.1027 - val_loss: 0.0265 - val_mean_absolute_error: 0.0855\n",
      "Epoch 5/20\n",
      "368/368 [==============================] - 1s 2ms/step - loss: 0.0360 - mean_absolute_error: 0.1030 - val_loss: 0.0263 - val_mean_absolute_error: 0.0808\n",
      "Epoch 6/20\n",
      "368/368 [==============================] - 1s 3ms/step - loss: 0.0356 - mean_absolute_error: 0.1009 - val_loss: 0.0262 - val_mean_absolute_error: 0.0811\n",
      "Epoch 7/20\n",
      "368/368 [==============================] - 1s 3ms/step - loss: 0.0358 - mean_absolute_error: 0.1023 - val_loss: 0.0263 - val_mean_absolute_error: 0.0812\n",
      "Epoch 8/20\n",
      "368/368 [==============================] - 1s 3ms/step - loss: 0.0357 - mean_absolute_error: 0.1033 - val_loss: 0.0261 - val_mean_absolute_error: 0.0815\n",
      "Epoch 9/20\n",
      "368/368 [==============================] - 1s 3ms/step - loss: 0.0357 - mean_absolute_error: 0.1022 - val_loss: 0.0262 - val_mean_absolute_error: 0.0814\n",
      "Epoch 10/20\n",
      "368/368 [==============================] - 1s 3ms/step - loss: 0.0357 - mean_absolute_error: 0.1023 - val_loss: 0.0264 - val_mean_absolute_error: 0.0835\n",
      "***TRAIN***:\n",
      "correlation related to cluster centre: 0.98\n",
      "r2 score related to cluster centre: 0.97\n",
      "***VALIDATION***:\n",
      "correlation related to cluster centre: 0.98\n",
      "r2 score related to cluster centre: 0.95\n"
     ]
    },
    {
     "data": {
      "application/vnd.jupyter.widget-view+json": {
       "model_id": "eeb02d4c66454d50b803e2cf196c9a0f",
       "version_major": 2,
       "version_minor": 0
      },
      "text/plain": [
       "IntProgress(value=0, max=303)"
      ]
     },
     "metadata": {},
     "output_type": "display_data"
    },
    {
     "name": "stdout",
     "output_type": "stream",
     "text": [
      "***VALIDATION***:\n",
      "average correlation: 0.90\n",
      "average r2: 0.77\n",
      "---do_investigations. cluster index : 8---\n"
     ]
    },
    {
     "data": {
      "application/vnd.jupyter.widget-view+json": {
       "model_id": "30eee4b6576c4546b68b87a634e65a82",
       "version_major": 2,
       "version_minor": 0
      },
      "text/plain": [
       "IntProgress(value=0, max=133)"
      ]
     },
     "metadata": {},
     "output_type": "display_data"
    },
    {
     "name": "stdout",
     "output_type": "stream",
     "text": [
      "Epoch 1/20\n",
      "368/368 [==============================] - 2s 3ms/step - loss: 0.2523 - mean_absolute_error: 0.3355 - val_loss: 0.1717 - val_mean_absolute_error: 0.2777\n",
      "Epoch 2/20\n",
      "368/368 [==============================] - 1s 2ms/step - loss: 0.2066 - mean_absolute_error: 0.2966 - val_loss: 0.1711 - val_mean_absolute_error: 0.2819\n",
      "Epoch 3/20\n",
      "368/368 [==============================] - 1s 2ms/step - loss: 0.2062 - mean_absolute_error: 0.2954 - val_loss: 0.1723 - val_mean_absolute_error: 0.2763\n",
      "Epoch 4/20\n",
      "368/368 [==============================] - 1s 2ms/step - loss: 0.2060 - mean_absolute_error: 0.2956 - val_loss: 0.1712 - val_mean_absolute_error: 0.2755\n",
      "***TRAIN***:\n",
      "correlation related to cluster centre: 0.89\n",
      "r2 score related to cluster centre: 0.80\n",
      "***VALIDATION***:\n",
      "correlation related to cluster centre: 0.91\n",
      "r2 score related to cluster centre: 0.82\n"
     ]
    },
    {
     "data": {
      "application/vnd.jupyter.widget-view+json": {
       "model_id": "cf36ccbf249b4c00991cbead9c210682",
       "version_major": 2,
       "version_minor": 0
      },
      "text/plain": [
       "IntProgress(value=0, max=133)"
      ]
     },
     "metadata": {},
     "output_type": "display_data"
    },
    {
     "name": "stdout",
     "output_type": "stream",
     "text": [
      "***VALIDATION***:\n",
      "average correlation: 0.90\n",
      "average r2: 0.82\n",
      "---do_investigations. cluster index : 9---\n"
     ]
    },
    {
     "data": {
      "application/vnd.jupyter.widget-view+json": {
       "model_id": "35478f9459ae406b8e1f827f1cf5fdb1",
       "version_major": 2,
       "version_minor": 0
      },
      "text/plain": [
       "IntProgress(value=0, max=188)"
      ]
     },
     "metadata": {},
     "output_type": "display_data"
    },
    {
     "name": "stdout",
     "output_type": "stream",
     "text": [
      "Epoch 1/20\n",
      "368/368 [==============================] - 2s 3ms/step - loss: 0.2489 - mean_absolute_error: 0.3504 - val_loss: 0.1965 - val_mean_absolute_error: 0.3036\n",
      "Epoch 2/20\n",
      "368/368 [==============================] - 1s 2ms/step - loss: 0.2078 - mean_absolute_error: 0.3189 - val_loss: 0.1972 - val_mean_absolute_error: 0.3044\n",
      "Epoch 3/20\n",
      "368/368 [==============================] - 1s 2ms/step - loss: 0.2077 - mean_absolute_error: 0.3185 - val_loss: 0.1963 - val_mean_absolute_error: 0.3062\n",
      "Epoch 4/20\n",
      "368/368 [==============================] - 1s 2ms/step - loss: 0.2076 - mean_absolute_error: 0.3188 - val_loss: 0.1989 - val_mean_absolute_error: 0.3018\n",
      "Epoch 5/20\n",
      "368/368 [==============================] - 1s 2ms/step - loss: 0.2065 - mean_absolute_error: 0.3173 - val_loss: 0.1987 - val_mean_absolute_error: 0.2993\n",
      "***TRAIN***:\n",
      "correlation related to cluster centre: 0.89\n",
      "r2 score related to cluster centre: 0.79\n",
      "***VALIDATION***:\n",
      "correlation related to cluster centre: 0.90\n",
      "r2 score related to cluster centre: 0.81\n"
     ]
    },
    {
     "data": {
      "application/vnd.jupyter.widget-view+json": {
       "model_id": "04972f739b854f7992684731611c6295",
       "version_major": 2,
       "version_minor": 0
      },
      "text/plain": [
       "IntProgress(value=0, max=188)"
      ]
     },
     "metadata": {},
     "output_type": "display_data"
    },
    {
     "name": "stdout",
     "output_type": "stream",
     "text": [
      "***VALIDATION***:\n",
      "average correlation: 0.90\n",
      "average r2: 0.80\n",
      "---do_investigations. cluster index : 10---\n"
     ]
    },
    {
     "data": {
      "application/vnd.jupyter.widget-view+json": {
       "model_id": "9554a3762ab64ff8b8e288a644055d3f",
       "version_major": 2,
       "version_minor": 0
      },
      "text/plain": [
       "IntProgress(value=0, max=124)"
      ]
     },
     "metadata": {},
     "output_type": "display_data"
    },
    {
     "name": "stdout",
     "output_type": "stream",
     "text": [
      "Epoch 1/20\n",
      "368/368 [==============================] - 2s 3ms/step - loss: 0.2181 - mean_absolute_error: 0.3267 - val_loss: 0.1546 - val_mean_absolute_error: 0.2745\n",
      "Epoch 2/20\n",
      "368/368 [==============================] - 1s 2ms/step - loss: 0.1908 - mean_absolute_error: 0.3011 - val_loss: 0.1574 - val_mean_absolute_error: 0.2894\n",
      "Epoch 3/20\n",
      "368/368 [==============================] - 1s 2ms/step - loss: 0.1900 - mean_absolute_error: 0.3008 - val_loss: 0.1545 - val_mean_absolute_error: 0.2823\n",
      "Epoch 4/20\n",
      "368/368 [==============================] - 1s 2ms/step - loss: 0.1900 - mean_absolute_error: 0.3008 - val_loss: 0.1542 - val_mean_absolute_error: 0.2760\n",
      "Epoch 5/20\n",
      "368/368 [==============================] - 1s 2ms/step - loss: 0.1906 - mean_absolute_error: 0.3015 - val_loss: 0.1536 - val_mean_absolute_error: 0.2742\n",
      "Epoch 6/20\n",
      "368/368 [==============================] - 1s 2ms/step - loss: 0.1899 - mean_absolute_error: 0.3010 - val_loss: 0.1537 - val_mean_absolute_error: 0.2791\n",
      "Epoch 7/20\n",
      "368/368 [==============================] - 1s 2ms/step - loss: 0.1893 - mean_absolute_error: 0.2998 - val_loss: 0.1561 - val_mean_absolute_error: 0.2799\n",
      "***TRAIN***:\n",
      "correlation related to cluster centre: 0.90\n",
      "r2 score related to cluster centre: 0.81\n",
      "***VALIDATION***:\n",
      "correlation related to cluster centre: 0.91\n",
      "r2 score related to cluster centre: 0.83\n"
     ]
    },
    {
     "data": {
      "application/vnd.jupyter.widget-view+json": {
       "model_id": "9d8cde433bea4e5abe1dc4b4666b5fbf",
       "version_major": 2,
       "version_minor": 0
      },
      "text/plain": [
       "IntProgress(value=0, max=124)"
      ]
     },
     "metadata": {},
     "output_type": "display_data"
    },
    {
     "name": "stdout",
     "output_type": "stream",
     "text": [
      "***VALIDATION***:\n",
      "average correlation: 0.91\n",
      "average r2: 0.83\n",
      "---do_investigations. cluster index : 11---\n"
     ]
    },
    {
     "data": {
      "application/vnd.jupyter.widget-view+json": {
       "model_id": "7fa3967ab8d24afca1f6ac7fda258b10",
       "version_major": 2,
       "version_minor": 0
      },
      "text/plain": [
       "IntProgress(value=0, max=157)"
      ]
     },
     "metadata": {},
     "output_type": "display_data"
    },
    {
     "name": "stdout",
     "output_type": "stream",
     "text": [
      "Epoch 1/20\n",
      "368/368 [==============================] - 2s 3ms/step - loss: 0.2227 - mean_absolute_error: 0.3267 - val_loss: 0.1680 - val_mean_absolute_error: 0.2987\n",
      "Epoch 2/20\n",
      "368/368 [==============================] - 1s 3ms/step - loss: 0.1950 - mean_absolute_error: 0.3055 - val_loss: 0.1651 - val_mean_absolute_error: 0.2921\n",
      "Epoch 3/20\n",
      "368/368 [==============================] - 1s 3ms/step - loss: 0.1944 - mean_absolute_error: 0.3047 - val_loss: 0.1675 - val_mean_absolute_error: 0.2956\n",
      "Epoch 4/20\n",
      "368/368 [==============================] - 1s 3ms/step - loss: 0.1935 - mean_absolute_error: 0.3041 - val_loss: 0.1628 - val_mean_absolute_error: 0.2826\n",
      "Epoch 5/20\n",
      "368/368 [==============================] - 1s 3ms/step - loss: 0.1944 - mean_absolute_error: 0.3049 - val_loss: 0.1631 - val_mean_absolute_error: 0.2880\n",
      "Epoch 6/20\n",
      "368/368 [==============================] - 1s 2ms/step - loss: 0.1942 - mean_absolute_error: 0.3042 - val_loss: 0.1625 - val_mean_absolute_error: 0.2825\n",
      "Epoch 7/20\n",
      "368/368 [==============================] - 1s 2ms/step - loss: 0.1932 - mean_absolute_error: 0.3032 - val_loss: 0.1644 - val_mean_absolute_error: 0.2923\n",
      "Epoch 8/20\n",
      "368/368 [==============================] - 1s 2ms/step - loss: 0.1935 - mean_absolute_error: 0.3032 - val_loss: 0.1658 - val_mean_absolute_error: 0.2949\n",
      "***TRAIN***:\n",
      "correlation related to cluster centre: 0.90\n",
      "r2 score related to cluster centre: 0.81\n",
      "***VALIDATION***:\n",
      "correlation related to cluster centre: 0.91\n",
      "r2 score related to cluster centre: 0.83\n"
     ]
    },
    {
     "data": {
      "application/vnd.jupyter.widget-view+json": {
       "model_id": "52a2655925bc46998aa774e9184539be",
       "version_major": 2,
       "version_minor": 0
      },
      "text/plain": [
       "IntProgress(value=0, max=157)"
      ]
     },
     "metadata": {},
     "output_type": "display_data"
    },
    {
     "name": "stdout",
     "output_type": "stream",
     "text": [
      "***VALIDATION***:\n",
      "average correlation: 0.91\n",
      "average r2: 0.74\n",
      "---do_investigations. cluster index : 12---\n"
     ]
    },
    {
     "data": {
      "application/vnd.jupyter.widget-view+json": {
       "model_id": "f4be9886a32345ce847f466336999887",
       "version_major": 2,
       "version_minor": 0
      },
      "text/plain": [
       "IntProgress(value=0, max=2408)"
      ]
     },
     "metadata": {},
     "output_type": "display_data"
    },
    {
     "name": "stdout",
     "output_type": "stream",
     "text": [
      "Epoch 1/20\n",
      "368/368 [==============================] - 2s 3ms/step - loss: 0.1140 - mean_absolute_error: 0.2087 - val_loss: 0.0816 - val_mean_absolute_error: 0.1660\n",
      "Epoch 2/20\n",
      "368/368 [==============================] - 1s 2ms/step - loss: 0.0674 - mean_absolute_error: 0.1601 - val_loss: 0.0707 - val_mean_absolute_error: 0.1399\n",
      "Epoch 3/20\n",
      "368/368 [==============================] - 1s 2ms/step - loss: 0.0672 - mean_absolute_error: 0.1599 - val_loss: 0.0689 - val_mean_absolute_error: 0.1340\n",
      "Epoch 4/20\n",
      "368/368 [==============================] - 1s 2ms/step - loss: 0.0666 - mean_absolute_error: 0.1591 - val_loss: 0.0678 - val_mean_absolute_error: 0.1325\n",
      "Epoch 5/20\n",
      "368/368 [==============================] - 1s 2ms/step - loss: 0.0659 - mean_absolute_error: 0.1574 - val_loss: 0.0672 - val_mean_absolute_error: 0.1346\n",
      "Epoch 6/20\n",
      "368/368 [==============================] - 1s 2ms/step - loss: 0.0653 - mean_absolute_error: 0.1569 - val_loss: 0.0663 - val_mean_absolute_error: 0.1299\n",
      "Epoch 7/20\n",
      "368/368 [==============================] - 1s 2ms/step - loss: 0.0656 - mean_absolute_error: 0.1574 - val_loss: 0.0663 - val_mean_absolute_error: 0.1310\n",
      "Epoch 8/20\n",
      "368/368 [==============================] - 1s 2ms/step - loss: 0.0653 - mean_absolute_error: 0.1572 - val_loss: 0.0686 - val_mean_absolute_error: 0.1399\n",
      "Epoch 9/20\n",
      "368/368 [==============================] - 1s 2ms/step - loss: 0.0653 - mean_absolute_error: 0.1567 - val_loss: 0.0660 - val_mean_absolute_error: 0.1314\n",
      "Epoch 10/20\n",
      "368/368 [==============================] - 1s 2ms/step - loss: 0.0655 - mean_absolute_error: 0.1565 - val_loss: 0.0666 - val_mean_absolute_error: 0.1347\n",
      "Epoch 11/20\n",
      "368/368 [==============================] - 1s 2ms/step - loss: 0.0651 - mean_absolute_error: 0.1569 - val_loss: 0.0661 - val_mean_absolute_error: 0.1313\n",
      "***TRAIN***:\n",
      "correlation related to cluster centre: 0.97\n",
      "r2 score related to cluster centre: 0.94\n",
      "***VALIDATION***:\n",
      "correlation related to cluster centre: 0.94\n",
      "r2 score related to cluster centre: 0.88\n"
     ]
    },
    {
     "data": {
      "application/vnd.jupyter.widget-view+json": {
       "model_id": "16298211144a4616a2e065aae4d5bb88",
       "version_major": 2,
       "version_minor": 0
      },
      "text/plain": [
       "IntProgress(value=0, max=2408)"
      ]
     },
     "metadata": {},
     "output_type": "display_data"
    },
    {
     "name": "stdout",
     "output_type": "stream",
     "text": [
      "***VALIDATION***:\n",
      "average correlation: nan\n",
      "average r2: -4754651987609069113311232.00\n",
      "---do_investigations. cluster index : 13---\n"
     ]
    },
    {
     "data": {
      "application/vnd.jupyter.widget-view+json": {
       "model_id": "f10faad595df479588b2cf70659c3a45",
       "version_major": 2,
       "version_minor": 0
      },
      "text/plain": [
       "IntProgress(value=0, max=136)"
      ]
     },
     "metadata": {},
     "output_type": "display_data"
    },
    {
     "name": "stdout",
     "output_type": "stream",
     "text": [
      "Epoch 1/20\n",
      "368/368 [==============================] - 2s 4ms/step - loss: 0.2921 - mean_absolute_error: 0.3362 - val_loss: 0.2498 - val_mean_absolute_error: 0.2834\n",
      "Epoch 2/20\n",
      "368/368 [==============================] - 1s 3ms/step - loss: 0.2072 - mean_absolute_error: 0.2769 - val_loss: 0.2512 - val_mean_absolute_error: 0.2852\n",
      "Epoch 3/20\n",
      "368/368 [==============================] - 1s 3ms/step - loss: 0.2064 - mean_absolute_error: 0.2762 - val_loss: 0.2523 - val_mean_absolute_error: 0.2825\n",
      "***TRAIN***:\n",
      "correlation related to cluster centre: 0.89\n",
      "r2 score related to cluster centre: 0.79\n",
      "***VALIDATION***:\n",
      "correlation related to cluster centre: 0.90\n",
      "r2 score related to cluster centre: 0.81\n"
     ]
    },
    {
     "data": {
      "application/vnd.jupyter.widget-view+json": {
       "model_id": "f18cde978ef3479297df5ae776a12c90",
       "version_major": 2,
       "version_minor": 0
      },
      "text/plain": [
       "IntProgress(value=0, max=136)"
      ]
     },
     "metadata": {},
     "output_type": "display_data"
    },
    {
     "name": "stdout",
     "output_type": "stream",
     "text": [
      "***VALIDATION***:\n",
      "average correlation: 0.90\n",
      "average r2: 0.80\n",
      "---do_investigations. cluster index : 14---\n"
     ]
    },
    {
     "data": {
      "application/vnd.jupyter.widget-view+json": {
       "model_id": "cf6722837175446ba26137cd62c320f5",
       "version_major": 2,
       "version_minor": 0
      },
      "text/plain": [
       "IntProgress(value=0, max=99)"
      ]
     },
     "metadata": {},
     "output_type": "display_data"
    },
    {
     "name": "stdout",
     "output_type": "stream",
     "text": [
      "Epoch 1/20\n",
      "368/368 [==============================] - 3s 4ms/step - loss: 0.2712 - mean_absolute_error: 0.3521 - val_loss: 0.1395 - val_mean_absolute_error: 0.2594\n",
      "Epoch 2/20\n",
      "368/368 [==============================] - 1s 3ms/step - loss: 0.2027 - mean_absolute_error: 0.3060 - val_loss: 0.1390 - val_mean_absolute_error: 0.2644\n",
      "Epoch 3/20\n",
      "368/368 [==============================] - 1s 3ms/step - loss: 0.2017 - mean_absolute_error: 0.3053 - val_loss: 0.1385 - val_mean_absolute_error: 0.2669\n",
      "Epoch 4/20\n",
      "368/368 [==============================] - 1s 3ms/step - loss: 0.2016 - mean_absolute_error: 0.3053 - val_loss: 0.1475 - val_mean_absolute_error: 0.2779\n",
      "Epoch 5/20\n",
      "368/368 [==============================] - 1s 3ms/step - loss: 0.2023 - mean_absolute_error: 0.3056 - val_loss: 0.1413 - val_mean_absolute_error: 0.2644\n",
      "***TRAIN***:\n",
      "correlation related to cluster centre: 0.89\n",
      "r2 score related to cluster centre: 0.79\n",
      "***VALIDATION***:\n",
      "correlation related to cluster centre: 0.91\n",
      "r2 score related to cluster centre: 0.82\n"
     ]
    },
    {
     "data": {
      "application/vnd.jupyter.widget-view+json": {
       "model_id": "405f99546adb45d8abb2533108546e32",
       "version_major": 2,
       "version_minor": 0
      },
      "text/plain": [
       "IntProgress(value=0, max=99)"
      ]
     },
     "metadata": {},
     "output_type": "display_data"
    },
    {
     "name": "stdout",
     "output_type": "stream",
     "text": [
      "***VALIDATION***:\n",
      "average correlation: 0.91\n",
      "average r2: 0.82\n",
      "---do_investigations. cluster index : 15---\n"
     ]
    },
    {
     "data": {
      "application/vnd.jupyter.widget-view+json": {
       "model_id": "6ee830a4abed4654aebae96ec2a76687",
       "version_major": 2,
       "version_minor": 0
      },
      "text/plain": [
       "IntProgress(value=0, max=241)"
      ]
     },
     "metadata": {},
     "output_type": "display_data"
    },
    {
     "name": "stdout",
     "output_type": "stream",
     "text": [
      "Epoch 1/20\n",
      "368/368 [==============================] - 3s 4ms/step - loss: 0.2283 - mean_absolute_error: 0.3180 - val_loss: 0.1781 - val_mean_absolute_error: 0.2617\n",
      "Epoch 2/20\n",
      "368/368 [==============================] - 1s 3ms/step - loss: 0.1986 - mean_absolute_error: 0.2913 - val_loss: 0.1680 - val_mean_absolute_error: 0.2530\n",
      "Epoch 3/20\n",
      "368/368 [==============================] - 1s 3ms/step - loss: 0.1969 - mean_absolute_error: 0.2900 - val_loss: 0.1652 - val_mean_absolute_error: 0.2477\n",
      "Epoch 4/20\n",
      "368/368 [==============================] - 1s 3ms/step - loss: 0.1986 - mean_absolute_error: 0.2903 - val_loss: 0.1664 - val_mean_absolute_error: 0.2539\n",
      "Epoch 5/20\n",
      "368/368 [==============================] - 1s 3ms/step - loss: 0.1964 - mean_absolute_error: 0.2894 - val_loss: 0.1702 - val_mean_absolute_error: 0.2558\n",
      "***TRAIN***:\n",
      "correlation related to cluster centre: 0.90\n",
      "r2 score related to cluster centre: 0.80\n",
      "***VALIDATION***:\n",
      "correlation related to cluster centre: 0.90\n",
      "r2 score related to cluster centre: 0.81\n"
     ]
    },
    {
     "data": {
      "application/vnd.jupyter.widget-view+json": {
       "model_id": "e446fb0671374636bcf6c4444223430a",
       "version_major": 2,
       "version_minor": 0
      },
      "text/plain": [
       "IntProgress(value=0, max=241)"
      ]
     },
     "metadata": {},
     "output_type": "display_data"
    },
    {
     "name": "stdout",
     "output_type": "stream",
     "text": [
      "***VALIDATION***:\n",
      "average correlation: 0.89\n",
      "average r2: 0.78\n",
      "---do_investigations. cluster index : 16---\n"
     ]
    },
    {
     "data": {
      "application/vnd.jupyter.widget-view+json": {
       "model_id": "9ac526037ccb42b58e381afdc29a3725",
       "version_major": 2,
       "version_minor": 0
      },
      "text/plain": [
       "IntProgress(value=0, max=140)"
      ]
     },
     "metadata": {},
     "output_type": "display_data"
    },
    {
     "name": "stdout",
     "output_type": "stream",
     "text": [
      "Epoch 1/20\n",
      "368/368 [==============================] - 2s 4ms/step - loss: 0.2567 - mean_absolute_error: 0.3526 - val_loss: 0.1630 - val_mean_absolute_error: 0.2705\n",
      "Epoch 2/20\n",
      "368/368 [==============================] - 1s 3ms/step - loss: 0.1909 - mean_absolute_error: 0.2961 - val_loss: 0.1614 - val_mean_absolute_error: 0.2699\n",
      "Epoch 3/20\n",
      "368/368 [==============================] - 1s 3ms/step - loss: 0.1890 - mean_absolute_error: 0.2944 - val_loss: 0.1614 - val_mean_absolute_error: 0.2674\n",
      "Epoch 4/20\n",
      "368/368 [==============================] - 1s 3ms/step - loss: 0.1887 - mean_absolute_error: 0.2938 - val_loss: 0.1612 - val_mean_absolute_error: 0.2701\n",
      "Epoch 5/20\n",
      "368/368 [==============================] - 1s 3ms/step - loss: 0.1884 - mean_absolute_error: 0.2932 - val_loss: 0.1601 - val_mean_absolute_error: 0.2675\n",
      "Epoch 6/20\n",
      "368/368 [==============================] - 1s 3ms/step - loss: 0.1880 - mean_absolute_error: 0.2933 - val_loss: 0.1645 - val_mean_absolute_error: 0.2712\n",
      "Epoch 7/20\n",
      "368/368 [==============================] - 1s 3ms/step - loss: 0.1878 - mean_absolute_error: 0.2932 - val_loss: 0.1615 - val_mean_absolute_error: 0.2669\n",
      "***TRAIN***:\n",
      "correlation related to cluster centre: 0.90\n",
      "r2 score related to cluster centre: 0.81\n",
      "***VALIDATION***:\n",
      "correlation related to cluster centre: 0.91\n",
      "r2 score related to cluster centre: 0.83\n"
     ]
    },
    {
     "data": {
      "application/vnd.jupyter.widget-view+json": {
       "model_id": "b833597325df49dcb146cf78f58593bf",
       "version_major": 2,
       "version_minor": 0
      },
      "text/plain": [
       "IntProgress(value=0, max=140)"
      ]
     },
     "metadata": {},
     "output_type": "display_data"
    },
    {
     "name": "stdout",
     "output_type": "stream",
     "text": [
      "***VALIDATION***:\n",
      "average correlation: 0.92\n",
      "average r2: 0.83\n",
      "---do_investigations. cluster index : 17---\n"
     ]
    },
    {
     "data": {
      "application/vnd.jupyter.widget-view+json": {
       "model_id": "9aa114e25c72481d9259a0897a7401d6",
       "version_major": 2,
       "version_minor": 0
      },
      "text/plain": [
       "IntProgress(value=0, max=436)"
      ]
     },
     "metadata": {},
     "output_type": "display_data"
    },
    {
     "name": "stdout",
     "output_type": "stream",
     "text": [
      "Epoch 1/20\n",
      "368/368 [==============================] - 2s 3ms/step - loss: 0.0875 - mean_absolute_error: 0.1442 - val_loss: 0.0305 - val_mean_absolute_error: 0.0690\n",
      "Epoch 2/20\n",
      "368/368 [==============================] - 1s 3ms/step - loss: 0.0191 - mean_absolute_error: 0.0758 - val_loss: 0.0288 - val_mean_absolute_error: 0.0683\n",
      "Epoch 3/20\n",
      "368/368 [==============================] - 1s 3ms/step - loss: 0.0180 - mean_absolute_error: 0.0733 - val_loss: 0.0281 - val_mean_absolute_error: 0.0682\n",
      "Epoch 4/20\n",
      "368/368 [==============================] - 1s 3ms/step - loss: 0.0178 - mean_absolute_error: 0.0740 - val_loss: 0.0275 - val_mean_absolute_error: 0.0666\n",
      "Epoch 5/20\n",
      "368/368 [==============================] - 1s 3ms/step - loss: 0.0175 - mean_absolute_error: 0.0730 - val_loss: 0.0272 - val_mean_absolute_error: 0.0671\n",
      "Epoch 6/20\n",
      "368/368 [==============================] - 1s 3ms/step - loss: 0.0177 - mean_absolute_error: 0.0735 - val_loss: 0.0275 - val_mean_absolute_error: 0.0671\n",
      "Epoch 7/20\n",
      "368/368 [==============================] - 1s 3ms/step - loss: 0.0174 - mean_absolute_error: 0.0718 - val_loss: 0.0271 - val_mean_absolute_error: 0.0675\n",
      "Epoch 8/20\n",
      "368/368 [==============================] - 1s 3ms/step - loss: 0.0175 - mean_absolute_error: 0.0734 - val_loss: 0.0276 - val_mean_absolute_error: 0.0689\n",
      "Epoch 9/20\n",
      "368/368 [==============================] - 1s 3ms/step - loss: 0.0174 - mean_absolute_error: 0.0730 - val_loss: 0.0269 - val_mean_absolute_error: 0.0683\n",
      "Epoch 10/20\n",
      "368/368 [==============================] - 1s 3ms/step - loss: 0.0173 - mean_absolute_error: 0.0718 - val_loss: 0.0268 - val_mean_absolute_error: 0.0674\n",
      "Epoch 11/20\n",
      "368/368 [==============================] - 1s 3ms/step - loss: 0.0173 - mean_absolute_error: 0.0728 - val_loss: 0.0273 - val_mean_absolute_error: 0.0689\n",
      "Epoch 12/20\n",
      "368/368 [==============================] - 1s 3ms/step - loss: 0.0173 - mean_absolute_error: 0.0726 - val_loss: 0.0268 - val_mean_absolute_error: 0.0675\n",
      "***TRAIN***:\n",
      "correlation related to cluster centre: 0.99\n",
      "r2 score related to cluster centre: 0.98\n",
      "***VALIDATION***:\n",
      "correlation related to cluster centre: 0.97\n",
      "r2 score related to cluster centre: 0.93\n"
     ]
    },
    {
     "data": {
      "application/vnd.jupyter.widget-view+json": {
       "model_id": "7bcdacf50f0a4143944220462d51a0ef",
       "version_major": 2,
       "version_minor": 0
      },
      "text/plain": [
       "IntProgress(value=0, max=436)"
      ]
     },
     "metadata": {},
     "output_type": "display_data"
    },
    {
     "name": "stdout",
     "output_type": "stream",
     "text": [
      "***VALIDATION***:\n",
      "average correlation: 0.90\n",
      "average r2: 0.80\n",
      "---do_investigations. cluster index : 18---\n"
     ]
    },
    {
     "data": {
      "application/vnd.jupyter.widget-view+json": {
       "model_id": "cc61d876c8624f94981ce6a2528ed38e",
       "version_major": 2,
       "version_minor": 0
      },
      "text/plain": [
       "IntProgress(value=0, max=264)"
      ]
     },
     "metadata": {},
     "output_type": "display_data"
    },
    {
     "name": "stdout",
     "output_type": "stream",
     "text": [
      "Epoch 1/20\n",
      "368/368 [==============================] - 2s 4ms/step - loss: 0.2318 - mean_absolute_error: 0.3048 - val_loss: 0.1420 - val_mean_absolute_error: 0.2368\n",
      "Epoch 2/20\n",
      "368/368 [==============================] - 1s 3ms/step - loss: 0.1681 - mean_absolute_error: 0.2639 - val_loss: 0.1394 - val_mean_absolute_error: 0.2381\n",
      "Epoch 3/20\n",
      "368/368 [==============================] - 1s 3ms/step - loss: 0.1665 - mean_absolute_error: 0.2626 - val_loss: 0.1408 - val_mean_absolute_error: 0.2407\n",
      "Epoch 4/20\n",
      "368/368 [==============================] - 1s 3ms/step - loss: 0.1661 - mean_absolute_error: 0.2620 - val_loss: 0.1389 - val_mean_absolute_error: 0.2349\n",
      "Epoch 5/20\n",
      "368/368 [==============================] - 1s 3ms/step - loss: 0.1658 - mean_absolute_error: 0.2616 - val_loss: 0.1390 - val_mean_absolute_error: 0.2321\n",
      "Epoch 6/20\n",
      "368/368 [==============================] - 1s 3ms/step - loss: 0.1657 - mean_absolute_error: 0.2620 - val_loss: 0.1390 - val_mean_absolute_error: 0.2377\n",
      "***TRAIN***:\n",
      "correlation related to cluster centre: 0.92\n",
      "r2 score related to cluster centre: 0.84\n",
      "***VALIDATION***:\n",
      "correlation related to cluster centre: 0.92\n",
      "r2 score related to cluster centre: 0.85\n"
     ]
    },
    {
     "data": {
      "application/vnd.jupyter.widget-view+json": {
       "model_id": "7ca6a6fd7afe47899fa6be7249c56c55",
       "version_major": 2,
       "version_minor": 0
      },
      "text/plain": [
       "IntProgress(value=0, max=264)"
      ]
     },
     "metadata": {},
     "output_type": "display_data"
    },
    {
     "name": "stdout",
     "output_type": "stream",
     "text": [
      "***VALIDATION***:\n",
      "average correlation: 0.90\n",
      "average r2: 0.74\n",
      "---do_investigations. cluster index : 19---\n"
     ]
    },
    {
     "data": {
      "application/vnd.jupyter.widget-view+json": {
       "model_id": "06d6dcdc3bcf426e8f79539bfc3c4fe8",
       "version_major": 2,
       "version_minor": 0
      },
      "text/plain": [
       "IntProgress(value=0, max=197)"
      ]
     },
     "metadata": {},
     "output_type": "display_data"
    },
    {
     "name": "stdout",
     "output_type": "stream",
     "text": [
      "Epoch 1/20\n",
      "368/368 [==============================] - 2s 4ms/step - loss: 0.2909 - mean_absolute_error: 0.3587 - val_loss: 0.1719 - val_mean_absolute_error: 0.2811\n",
      "Epoch 2/20\n",
      "368/368 [==============================] - 1s 3ms/step - loss: 0.1872 - mean_absolute_error: 0.2960 - val_loss: 0.1691 - val_mean_absolute_error: 0.2748\n",
      "Epoch 3/20\n",
      "368/368 [==============================] - 1s 3ms/step - loss: 0.1857 - mean_absolute_error: 0.2949 - val_loss: 0.1689 - val_mean_absolute_error: 0.2763\n",
      "Epoch 4/20\n",
      "368/368 [==============================] - 1s 3ms/step - loss: 0.1855 - mean_absolute_error: 0.2947 - val_loss: 0.1686 - val_mean_absolute_error: 0.2774\n",
      "Epoch 5/20\n",
      "368/368 [==============================] - 1s 3ms/step - loss: 0.1856 - mean_absolute_error: 0.2952 - val_loss: 0.1682 - val_mean_absolute_error: 0.2756\n",
      "Epoch 6/20\n",
      "368/368 [==============================] - 1s 3ms/step - loss: 0.1847 - mean_absolute_error: 0.2939 - val_loss: 0.1683 - val_mean_absolute_error: 0.2785\n",
      "Epoch 7/20\n",
      "368/368 [==============================] - 1s 3ms/step - loss: 0.1853 - mean_absolute_error: 0.2948 - val_loss: 0.1681 - val_mean_absolute_error: 0.2738\n",
      "Epoch 8/20\n",
      "368/368 [==============================] - 1s 3ms/step - loss: 0.1843 - mean_absolute_error: 0.2934 - val_loss: 0.1675 - val_mean_absolute_error: 0.2750\n",
      "Epoch 9/20\n",
      "368/368 [==============================] - 1s 3ms/step - loss: 0.1848 - mean_absolute_error: 0.2941 - val_loss: 0.1682 - val_mean_absolute_error: 0.2792\n",
      "Epoch 10/20\n",
      "368/368 [==============================] - 1s 3ms/step - loss: 0.1849 - mean_absolute_error: 0.2940 - val_loss: 0.1675 - val_mean_absolute_error: 0.2749\n",
      "Epoch 11/20\n",
      "368/368 [==============================] - 1s 3ms/step - loss: 0.1845 - mean_absolute_error: 0.2936 - val_loss: 0.1676 - val_mean_absolute_error: 0.2761\n",
      "Epoch 12/20\n",
      "368/368 [==============================] - 1s 3ms/step - loss: 0.1852 - mean_absolute_error: 0.2943 - val_loss: 0.1679 - val_mean_absolute_error: 0.2735\n",
      "***TRAIN***:\n",
      "correlation related to cluster centre: 0.90\n",
      "r2 score related to cluster centre: 0.82\n",
      "***VALIDATION***:\n",
      "correlation related to cluster centre: 0.91\n",
      "r2 score related to cluster centre: 0.84\n"
     ]
    },
    {
     "data": {
      "application/vnd.jupyter.widget-view+json": {
       "model_id": "d2df453176314769bca5ec3c38cea73d",
       "version_major": 2,
       "version_minor": 0
      },
      "text/plain": [
       "IntProgress(value=0, max=197)"
      ]
     },
     "metadata": {},
     "output_type": "display_data"
    },
    {
     "name": "stdout",
     "output_type": "stream",
     "text": [
      "***VALIDATION***:\n",
      "average correlation: 0.91\n",
      "average r2: 0.82\n",
      "---do_investigations. cluster index : 20---\n"
     ]
    },
    {
     "data": {
      "application/vnd.jupyter.widget-view+json": {
       "model_id": "37fa303f84fb4e50b92ddaaaa5987d2f",
       "version_major": 2,
       "version_minor": 0
      },
      "text/plain": [
       "IntProgress(value=0, max=1412)"
      ]
     },
     "metadata": {},
     "output_type": "display_data"
    },
    {
     "name": "stdout",
     "output_type": "stream",
     "text": [
      "Epoch 1/20\n",
      "368/368 [==============================] - 2s 4ms/step - loss: 0.1089 - mean_absolute_error: 0.1990 - val_loss: 0.0842 - val_mean_absolute_error: 0.1623\n",
      "Epoch 2/20\n",
      "368/368 [==============================] - 1s 3ms/step - loss: 0.0615 - mean_absolute_error: 0.1503 - val_loss: 0.0820 - val_mean_absolute_error: 0.1579\n",
      "Epoch 3/20\n",
      "368/368 [==============================] - 1s 3ms/step - loss: 0.0607 - mean_absolute_error: 0.1491 - val_loss: 0.0762 - val_mean_absolute_error: 0.1446\n",
      "Epoch 4/20\n",
      "368/368 [==============================] - 1s 3ms/step - loss: 0.0601 - mean_absolute_error: 0.1481 - val_loss: 0.0844 - val_mean_absolute_error: 0.1666\n",
      "Epoch 5/20\n",
      "368/368 [==============================] - 1s 3ms/step - loss: 0.0605 - mean_absolute_error: 0.1501 - val_loss: 0.0748 - val_mean_absolute_error: 0.1419\n",
      "Epoch 6/20\n",
      "368/368 [==============================] - 1s 3ms/step - loss: 0.0602 - mean_absolute_error: 0.1485 - val_loss: 0.0753 - val_mean_absolute_error: 0.1439\n",
      "Epoch 7/20\n",
      "368/368 [==============================] - 1s 3ms/step - loss: 0.0600 - mean_absolute_error: 0.1489 - val_loss: 0.0837 - val_mean_absolute_error: 0.1645\n",
      "***TRAIN***:\n",
      "correlation related to cluster centre: 0.97\n",
      "r2 score related to cluster centre: 0.94\n",
      "***VALIDATION***:\n",
      "correlation related to cluster centre: 0.93\n",
      "r2 score related to cluster centre: 0.85\n"
     ]
    },
    {
     "data": {
      "application/vnd.jupyter.widget-view+json": {
       "model_id": "e18d8aaf331d46c29bc758b79dc72019",
       "version_major": 2,
       "version_minor": 0
      },
      "text/plain": [
       "IntProgress(value=0, max=1412)"
      ]
     },
     "metadata": {},
     "output_type": "display_data"
    },
    {
     "name": "stdout",
     "output_type": "stream",
     "text": [
      "***VALIDATION***:\n",
      "average correlation: nan\n",
      "average r2: -251760530410044262977634304.00\n",
      "---do_investigations. cluster index : 21---\n"
     ]
    },
    {
     "data": {
      "application/vnd.jupyter.widget-view+json": {
       "model_id": "0157e7fb534e465d88b74ce1c814e430",
       "version_major": 2,
       "version_minor": 0
      },
      "text/plain": [
       "IntProgress(value=0, max=167)"
      ]
     },
     "metadata": {},
     "output_type": "display_data"
    },
    {
     "name": "stdout",
     "output_type": "stream",
     "text": [
      "Epoch 1/20\n",
      "368/368 [==============================] - 2s 4ms/step - loss: 0.3242 - mean_absolute_error: 0.3258 - val_loss: 0.2701 - val_mean_absolute_error: 0.2828\n",
      "Epoch 2/20\n",
      "368/368 [==============================] - 1s 3ms/step - loss: 0.2080 - mean_absolute_error: 0.2710 - val_loss: 0.2663 - val_mean_absolute_error: 0.2893\n",
      "Epoch 3/20\n",
      "368/368 [==============================] - 1s 3ms/step - loss: 0.2074 - mean_absolute_error: 0.2703 - val_loss: 0.2699 - val_mean_absolute_error: 0.2877\n",
      "Epoch 4/20\n",
      "368/368 [==============================] - 1s 3ms/step - loss: 0.2059 - mean_absolute_error: 0.2689 - val_loss: 0.2653 - val_mean_absolute_error: 0.2844\n",
      "Epoch 5/20\n",
      "368/368 [==============================] - 1s 3ms/step - loss: 0.2071 - mean_absolute_error: 0.2705 - val_loss: 0.2655 - val_mean_absolute_error: 0.2812\n",
      "Epoch 6/20\n",
      "368/368 [==============================] - 1s 3ms/step - loss: 0.2078 - mean_absolute_error: 0.2702 - val_loss: 0.2644 - val_mean_absolute_error: 0.2825\n",
      "Epoch 7/20\n",
      "368/368 [==============================] - 1s 3ms/step - loss: 0.2058 - mean_absolute_error: 0.2693 - val_loss: 0.2642 - val_mean_absolute_error: 0.2803\n",
      "Epoch 8/20\n",
      "368/368 [==============================] - 1s 3ms/step - loss: 0.2064 - mean_absolute_error: 0.2694 - val_loss: 0.2643 - val_mean_absolute_error: 0.2791\n",
      "Epoch 9/20\n",
      "368/368 [==============================] - 1s 3ms/step - loss: 0.2051 - mean_absolute_error: 0.2693 - val_loss: 0.2669 - val_mean_absolute_error: 0.2780\n",
      "***TRAIN***:\n",
      "correlation related to cluster centre: 0.89\n",
      "r2 score related to cluster centre: 0.80\n",
      "***VALIDATION***:\n",
      "correlation related to cluster centre: 0.90\n",
      "r2 score related to cluster centre: 0.81\n"
     ]
    },
    {
     "data": {
      "application/vnd.jupyter.widget-view+json": {
       "model_id": "49070e52db834a74b0de3d5272ec4526",
       "version_major": 2,
       "version_minor": 0
      },
      "text/plain": [
       "IntProgress(value=0, max=167)"
      ]
     },
     "metadata": {},
     "output_type": "display_data"
    },
    {
     "name": "stdout",
     "output_type": "stream",
     "text": [
      "***VALIDATION***:\n",
      "average correlation: 0.90\n",
      "average r2: 0.81\n",
      "weighted_average_correlation: 0.90\n",
      "weighted_average_r2_score: 0.79\n",
      "bad clusters rate: 0.50%\n",
      "------------------------------------------------------\n"
     ]
    }
   ],
   "source": [
    "first_path = r\"C:\\Coding\\final-qualifying-work_2023-2024\\ClusteringCpp\\output\\kmeans 5 0.1 20.txt\"\n",
    "second_path = r\"C:\\Coding\\final-qualifying-work_2023-2024\\ClusteringCpp\\output\\kmeans 15 0.1 20.txt\"\n",
    "third_path = r\"C:\\Coding\\final-qualifying-work_2023-2024\\ClusteringCpp\\output\\kmeans 30 0.1 20.txt\"\n",
    "fourth_path = r\"C:\\Coding\\final-qualifying-work_2023-2024\\ClusteringCpp\\output\\kmeans 60 0.1 20.txt\"\n",
    "\n",
    "output_file = open(\"computational-experiments-output-kmeans.txt\", \"a\")\n",
    "\n",
    "selected_path = fourth_path\n",
    "\n",
    "print('------------------------------------------------------')\n",
    "output_file.write('------------------------------------------------------\\n')\n",
    "\n",
    "print(f\"msd {os.path.split(selected_path)[-1]}\")\n",
    "output_file.write(f\"msd {os.path.split(selected_path)[-1]}\\n\")\n",
    "show_results(multi_step_dense_model, get_clusters(selected_path), CONV_WIDTH)\n",
    "\n",
    "print('------------------------------------------------------')\n",
    "output_file.write('------------------------------------------------------\\n')\n",
    "\n",
    "output_file.close()"
   ]
  }
 ],
 "metadata": {
  "kernelspec": {
   "display_name": "Python 3 (ipykernel)",
   "language": "python",
   "name": "python3"
  },
  "language_info": {
   "codemirror_mode": {
    "name": "ipython",
    "version": 3
   },
   "file_extension": ".py",
   "mimetype": "text/x-python",
   "name": "python",
   "nbconvert_exporter": "python",
   "pygments_lexer": "ipython3",
   "version": "3.11.7"
  }
 },
 "nbformat": 4,
 "nbformat_minor": 5
}
