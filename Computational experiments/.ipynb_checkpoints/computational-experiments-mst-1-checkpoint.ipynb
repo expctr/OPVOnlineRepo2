{
 "cells": [
  {
   "cell_type": "code",
   "execution_count": 1,
   "id": "5c496ac8-c639-4c8c-b976-f1f8ce168874",
   "metadata": {
    "scrolled": true
   },
   "outputs": [
    {
     "name": "stderr",
     "output_type": "stream",
     "text": [
      "C:\\Users\\iasha\\AppData\\Local\\Temp\\ipykernel_21480\\424092037.py:11: DeprecationWarning: \n",
      "Pyarrow will become a required dependency of pandas in the next major release of pandas (pandas 3.0),\n",
      "(to allow more performant data types, such as the Arrow string type, and better interoperability with other libraries)\n",
      "but was not found to be installed on your system.\n",
      "If this would cause problems for you,\n",
      "please provide us feedback at https://github.com/pandas-dev/pandas/issues/54466\n",
      "        \n",
      "  import pandas as pd\n"
     ]
    },
    {
     "name": "stdout",
     "output_type": "stream",
     "text": [
      "WARNING:tensorflow:From C:\\python\\python311\\Lib\\site-packages\\keras\\src\\losses.py:2976: The name tf.losses.sparse_softmax_cross_entropy is deprecated. Please use tf.compat.v1.losses.sparse_softmax_cross_entropy instead.\n",
      "\n"
     ]
    }
   ],
   "source": [
    "import os\n",
    "import datetime\n",
    "import time\n",
    "\n",
    "import IPython\n",
    "import IPython.display\n",
    "from ipywidgets import IntProgress\n",
    "import matplotlib as mpl\n",
    "import matplotlib.pyplot as plt\n",
    "import numpy as np\n",
    "import pandas as pd\n",
    "import seaborn as sns\n",
    "import tensorflow as tf\n",
    "from tensorflow import keras\n",
    "\n",
    "from sklearn.metrics import r2_score\n",
    "import math\n",
    "\n",
    "mpl.rcParams['figure.figsize'] = (8, 6)\n",
    "mpl.rcParams['axes.grid'] = False"
   ]
  },
  {
   "cell_type": "code",
   "execution_count": 2,
   "id": "bc1317b0-357d-40b7-a89d-e429d7ac48b8",
   "metadata": {},
   "outputs": [],
   "source": [
    "import warnings\n",
    "warnings.filterwarnings('ignore')"
   ]
  },
  {
   "cell_type": "code",
   "execution_count": 3,
   "id": "742088f3-4104-4d45-badc-c8a3c3a343ce",
   "metadata": {},
   "outputs": [],
   "source": [
    "def convert_line_to_list(line: str):\n",
    "    split_line = line.split(' ')\n",
    "    result_list = []\n",
    "\n",
    "    for current in split_line:\n",
    "        if current == '\\n':\n",
    "            continue\n",
    "            \n",
    "        result_list.append(int(current))\n",
    "\n",
    "    return result_list"
   ]
  },
  {
   "cell_type": "code",
   "execution_count": 4,
   "id": "83a2dd6c-76e1-4a80-99c2-84151541c387",
   "metadata": {},
   "outputs": [],
   "source": [
    "def get_mlt(clustering_unit_index):\n",
    "    return clustering_unit_index // 80 * 0.25\n",
    "\n",
    "def get_magneticLat(clustering_unit_index):\n",
    "    return clustering_unit_index % 80 * 0.5 + 50"
   ]
  },
  {
   "cell_type": "code",
   "execution_count": 5,
   "id": "089333f6-d844-463c-a7d2-9e77bde24183",
   "metadata": {},
   "outputs": [],
   "source": [
    "def cluster_unit_index_to_file_path(clustering_unit_index):\n",
    "    mlt = get_mlt(clustering_unit_index)\n",
    "    magnetic_lat = get_magneticLat(clustering_unit_index)\n",
    "    \n",
    "    return f\"C:\\\\Coding\\\\final-qualifying-work_2023-2024\\\\OvationPrimeDataCollector\\\\north-nowcast-diffuse\\\\{mlt:.2f}_{magnetic_lat:.1f}.csv\""
   ]
  },
  {
   "cell_type": "code",
   "execution_count": 6,
   "id": "6ad54871-4fe2-4df3-9f9e-62438de26146",
   "metadata": {},
   "outputs": [],
   "source": [
    "def get_cluster_centre(cluster):\n",
    "    cluster_centre = pd.read_csv(cluster_unit_index_to_file_path(cluster[0]), sep=';', low_memory=False)\n",
    "\n",
    "    f = IntProgress(min=0, max=len(cluster))\n",
    "    display(f)\n",
    "    i = 0\n",
    "    for clustering_unit_index in cluster:\n",
    "        # if i % 100 == 0:\n",
    "        #     f.value += 100\n",
    "        f.value += 1\n",
    "        if i == 0:\n",
    "            i += 1\n",
    "            continue\n",
    "        current_df = pd.read_csv(cluster_unit_index_to_file_path(clustering_unit_index), sep=';', low_memory=False)\n",
    "        cluster_centre['y'] += current_df['y']\n",
    "        i += 1\n",
    "\n",
    "    cluster_centre['y'] = cluster_centre['y'].divide(len(cluster))\n",
    "    return cluster_centre"
   ]
  },
  {
   "cell_type": "code",
   "execution_count": 7,
   "id": "b50eb510-5229-43a4-849c-3198776f5d03",
   "metadata": {},
   "outputs": [],
   "source": [
    "class WindowGenerator():\n",
    "  def __init__(self, input_width, label_width, shift,\n",
    "               train_df, val_df, test_df,\n",
    "               label_columns=None):\n",
    "    # Store the raw data.\n",
    "    self.train_df = train_df\n",
    "    self.val_df = val_df\n",
    "    self.test_df = test_df\n",
    "\n",
    "    # Work out the label column indices.\n",
    "    self.label_columns = label_columns\n",
    "    if label_columns is not None:\n",
    "      self.label_columns_indices = {name: i for i, name in\n",
    "                                    enumerate(label_columns)}\n",
    "    self.column_indices = {name: i for i, name in\n",
    "                           enumerate(train_df.columns)}\n",
    "\n",
    "    # Work out the window parameters.\n",
    "    self.input_width = input_width\n",
    "    self.label_width = label_width\n",
    "    self.shift = shift\n",
    "\n",
    "    self.total_window_size = input_width + shift\n",
    "\n",
    "    self.input_slice = slice(0, input_width)\n",
    "    self.input_indices = np.arange(self.total_window_size)[self.input_slice]\n",
    "\n",
    "    self.label_start = self.total_window_size - self.label_width\n",
    "    self.labels_slice = slice(self.label_start, None)\n",
    "    self.label_indices = np.arange(self.total_window_size)[self.labels_slice]\n",
    "\n",
    "  def __repr__(self):\n",
    "    return '\\n'.join([\n",
    "        f'Total window size: {self.total_window_size}',\n",
    "        f'Input indices: {self.input_indices}',\n",
    "        f'Label indices: {self.label_indices}',\n",
    "        f'Label column name(s): {self.label_columns}'])"
   ]
  },
  {
   "cell_type": "code",
   "execution_count": 8,
   "id": "958236c6-c012-45dd-b624-c41bb3beba93",
   "metadata": {},
   "outputs": [],
   "source": [
    "def split_window(self, features):\n",
    "  inputs = features[:, self.input_slice, :]\n",
    "  labels = features[:, self.labels_slice, :]\n",
    "  if self.label_columns is not None:\n",
    "    labels = tf.stack(\n",
    "        [labels[:, :, self.column_indices[name]] for name in self.label_columns],\n",
    "        axis=-1)\n",
    "\n",
    "  # Slicing doesn't preserve static shape information, so set the shapes\n",
    "  # manually. This way the `tf.data.Datasets` are easier to inspect.\n",
    "  inputs.set_shape([None, self.input_width, None])\n",
    "  labels.set_shape([None, self.label_width, None])\n",
    "\n",
    "  return inputs, labels\n",
    "\n",
    "WindowGenerator.split_window = split_window"
   ]
  },
  {
   "cell_type": "code",
   "execution_count": 9,
   "id": "ab174b92-5d20-47bd-8807-5c570866f4aa",
   "metadata": {},
   "outputs": [],
   "source": [
    "def make_dataset(self, data):\n",
    "  data = np.array(data, dtype=np.float32)\n",
    "  ds = tf.keras.utils.timeseries_dataset_from_array(\n",
    "      data=data,\n",
    "      targets=None,\n",
    "      sequence_length=self.total_window_size,\n",
    "      sequence_stride=1,\n",
    "      shuffle=True,\n",
    "      batch_size=32,)\n",
    "\n",
    "  ds = ds.map(self.split_window)\n",
    "\n",
    "  return ds\n",
    "\n",
    "WindowGenerator.make_dataset = make_dataset"
   ]
  },
  {
   "cell_type": "code",
   "execution_count": 10,
   "id": "fc69391d-8896-4743-abf2-342b4d7cc1cb",
   "metadata": {},
   "outputs": [],
   "source": [
    "@property\n",
    "def train(self):\n",
    "  return self.make_dataset(self.train_df)\n",
    "\n",
    "@property\n",
    "def val(self):\n",
    "  return self.make_dataset(self.val_df)\n",
    "\n",
    "@property\n",
    "def test(self):\n",
    "  return self.make_dataset(self.test_df)\n",
    "\n",
    "@property\n",
    "def example(self):\n",
    "  \"\"\"Get and cache an example batch of `inputs, labels` for plotting.\"\"\"\n",
    "  result = getattr(self, '_example', None)\n",
    "  if result is None:\n",
    "    # No example batch was found, so get one from the `.train` dataset\n",
    "    result = next(iter(self.train))\n",
    "    # And cache it for next time\n",
    "    self._example = result\n",
    "  return result\n",
    "\n",
    "WindowGenerator.train = train\n",
    "WindowGenerator.val = val\n",
    "WindowGenerator.test = test\n",
    "WindowGenerator.example = example"
   ]
  },
  {
   "cell_type": "code",
   "execution_count": 11,
   "id": "cec89917-81cd-432f-91d5-da59e269b839",
   "metadata": {},
   "outputs": [],
   "source": [
    "MAX_EPOCHS = 20\n",
    "\n",
    "def compile_and_fit(model, window, patience=2):\n",
    "  early_stopping = tf.keras.callbacks.EarlyStopping(monitor='val_loss',\n",
    "                                                    patience=patience,\n",
    "                                                    mode='min')\n",
    "    \n",
    "  model.compile(loss=tf.losses.MeanSquaredError(),\n",
    "                optimizer=tf.optimizers.Adam(),\n",
    "                metrics=[tf.metrics.MeanAbsoluteError()])\n",
    "\n",
    "  history = model.fit(window.train, epochs=MAX_EPOCHS,\n",
    "                      validation_data=window.val,\n",
    "                      callbacks=[early_stopping])\n",
    "  return history"
   ]
  },
  {
   "cell_type": "code",
   "execution_count": 12,
   "id": "49a0d13a-d100-4a85-ad2f-72775c79b05c",
   "metadata": {},
   "outputs": [],
   "source": [
    "def investigate(cluster_index, model, conv_width, clusters, save_data):\n",
    "    cluster_centre = get_cluster_centre(clusters[cluster_index])\n",
    "    cluster_centre = cluster_centre.drop(['date'], axis=1)\n",
    "    cluster_centre = cluster_centre.drop(['segment'], axis=1)\n",
    "    \n",
    "    n = len(cluster_centre)\n",
    "    train_df = cluster_centre[0:int(n*0.7)]\n",
    "    val_df = cluster_centre[int(n*0.7):int(n*0.9)]\n",
    "    test_df = cluster_centre[int(n*0.9):]\n",
    "\n",
    "    train_mean = train_df.mean()\n",
    "    train_std = train_df.std()\n",
    "\n",
    "    train_df = (train_df - train_mean) / train_std\n",
    "    val_df = (val_df - train_mean) / train_std\n",
    "    test_df = (test_df - train_mean) / train_std\n",
    "    \n",
    "    conv_window = WindowGenerator(\n",
    "    input_width=conv_width,\n",
    "    label_width=1,\n",
    "    shift=1,\n",
    "    train_df=train_df,\n",
    "    val_df=val_df,\n",
    "    test_df=test_df,\n",
    "    label_columns=['y']\n",
    "    )\n",
    "\n",
    "    model = keras.models.Sequential.from_config(model.get_config())\n",
    "    \n",
    "    history = compile_and_fit(model, conv_window)\n",
    "\n",
    "    inputs, labels = conv_window.example\n",
    "\n",
    "    val_df_numpy = val_df.to_numpy()\n",
    "    train_df_numpy = train_df.to_numpy()\n",
    "    new_true_values_val = []\n",
    "    new_true_values_train = []\n",
    "    new_input_val = []\n",
    "    new_input_train = []\n",
    "\n",
    "    new_true_values_val = val_df_numpy[3:].flatten()\n",
    "    new_input_val = np.column_stack([val_df_numpy[0:-3], val_df_numpy[1:-2], val_df_numpy[2:-1]])\n",
    "\n",
    "    new_true_values_train = train_df_numpy[3:].flatten()\n",
    "    new_input_train = np.column_stack([train_df_numpy[0:-3], train_df_numpy[1:-2], train_df_numpy[2:-1]])\n",
    "        \n",
    "    val_predictions = model(np.array(new_input_val)).numpy()\n",
    "    train_predictions = model(np.array(new_input_train)).numpy()\n",
    "    \n",
    "    new_val_predictions = val_predictions.flatten()\n",
    "    new_train_predictions = train_predictions.flatten()\n",
    "    \n",
    "    new_true_values_val = (new_true_values_val * train_std['y']) + train_mean['y']\n",
    "    new_val_predictions = (new_val_predictions * train_std['y']) + train_mean['y']\n",
    "\n",
    "    new_true_values_train = (new_true_values_train * train_std['y']) + train_mean['y']\n",
    "    new_train_predictions = (new_train_predictions * train_std['y']) + train_mean['y']\n",
    "\n",
    "    print(\"***TRAIN***:\")\n",
    "    output_file.write(\"***TRAIN***:\\n\")\n",
    "    print(f\"correlation related to cluster centre: {np.corrcoef(new_true_values_train, new_train_predictions)[0][1]:.2f}\")\n",
    "    output_file.write(f\"correlation related to cluster centre: {np.corrcoef(new_true_values_train, new_train_predictions)[0][1]:.2f}\\n\")\n",
    "    print(f\"r2 score related to cluster centre: {r2_score(new_true_values_train, new_train_predictions):.2f}\")\n",
    "    output_file.write(f\"r2 score related to cluster centre: {r2_score(new_true_values_train, new_train_predictions):.2f}\\n\")\n",
    "    print(\"***VALIDATION***:\")\n",
    "    output_file.write(\"***VALIDATION***:\\n\")\n",
    "    print(f\"correlation related to cluster centre: {np.corrcoef(new_true_values_val, new_val_predictions)[0][1]:.2f}\")\n",
    "    output_file.write(f\"correlation related to cluster centre: {np.corrcoef(new_true_values_val, new_val_predictions)[0][1]:.2f}\\n\")\n",
    "    print(f\"r2 score related to cluster centre: {r2_score(new_true_values_val, new_val_predictions):.2f}\")\n",
    "    output_file.write(f\"r2 score related to cluster centre: {r2_score(new_true_values_val, new_val_predictions):.2f}\\n\")\n",
    "\n",
    "    sum_correlation_val = 0\n",
    "    sum_r2_val = 0\n",
    "\n",
    "    f = IntProgress(min=0, max=len(clusters[cluster_index]))\n",
    "    display(f)\n",
    "\n",
    "    i = 0\n",
    "    for clustering_unit_index in clusters[cluster_index]:\n",
    "        if (i % 100 == 0):\n",
    "            f.value += 100\n",
    "        \n",
    "        current_df = pd.read_csv(cluster_unit_index_to_file_path(clustering_unit_index), sep=';', low_memory=False)\n",
    "        current_df = current_df.drop(['date'], axis=1)\n",
    "        current_df = current_df.drop(['segment'], axis=1)\n",
    "\n",
    "        n = len(current_df)\n",
    "        current_train_df = current_df[0:int(n*0.7)]\n",
    "        current_val_df = current_df[int(n*0.7):int(n*0.9)]\n",
    "        current_test_df = current_df[int(n*0.9):]\n",
    "\n",
    "        current_train_df = (current_train_df - train_mean) / train_std\n",
    "        current_val_df = (current_val_df - train_mean) / train_std\n",
    "        current_test_df = (current_test_df - train_mean) / train_std\n",
    "\n",
    "        current_val_df_numpy = current_val_df.to_numpy()\n",
    "        current_new_true_values_val = current_val_df_numpy[3:].flatten()\n",
    "        current_new_input_val = np.column_stack([current_val_df_numpy[0:-3], current_val_df_numpy[1:-2], current_val_df_numpy[2:-1]])\n",
    "\n",
    "        current_val_predictions = model(np.array(current_new_input_val)).numpy()\n",
    "        current_new_val_predictions = current_val_predictions.flatten()\n",
    "\n",
    "        current_new_true_values_val = (current_new_true_values_val * train_std['y']) + train_mean['y']\n",
    "        current_new_val_predictions = (current_new_val_predictions * train_std['y']) + train_mean['y']\n",
    "            \n",
    "        sum_correlation_val += np.corrcoef(current_new_true_values_val, current_new_val_predictions)[0][1]\n",
    "        sum_r2_val += r2_score(current_new_true_values_val, current_new_val_predictions)\n",
    "\n",
    "        i += 1\n",
    "\n",
    "    if (save_data):\n",
    "        f = open(f\"train mean and std for cluster {cluster_index}.txt\", \"w\")\n",
    "        f.write(str(train_mean.mean()) + ' ' + str(train_std.mean()))\n",
    "        f.close()\n",
    "        model.save(f\"model for cluster {cluster_index}\")\n",
    "\n",
    "    cluster_len = len(clusters[cluster_index])\n",
    "    \n",
    "    return sum_correlation_val / cluster_len, sum_r2_val / cluster_len,"
   ]
  },
  {
   "cell_type": "code",
   "execution_count": 13,
   "id": "5ad4b77a-3091-45a8-a871-5977a48e687f",
   "metadata": {},
   "outputs": [],
   "source": [
    "def do_investigations(model, clusters, conv_width):\n",
    "    cluster_sizes = []\n",
    "    correlations = []\n",
    "    r2_scores = []\n",
    "\n",
    "    for i in range(len(clusters)):\n",
    "        print(f\"---do_investigations. cluster index : {i}---\")\n",
    "        output_file.write(f\"---do_investigations. cluster index : {i}---\\n\")\n",
    "        average_correlation, average_r2 = investigate(i, model, conv_width, clusters, False)\n",
    "        \n",
    "        print(\"***VALIDATION***:\")\n",
    "        output_file.write(\"***VALIDATION***:\\n\")\n",
    "        print(f\"average correlation: {average_correlation:.2f}\")\n",
    "        output_file.write(f\"average correlation: {average_correlation:.2f}\\n\")\n",
    "        print(f\"average r2: {average_r2:.2f}\")\n",
    "        output_file.write(f\"average r2: {average_r2:.2f}\\n\")\n",
    "\n",
    "        cluster_sizes.append(len(clusters[i]))\n",
    "        correlations.append(average_correlation)\n",
    "        r2_scores.append(average_r2)\n",
    "\n",
    "    return cluster_sizes, correlations, r2_scores"
   ]
  },
  {
   "cell_type": "code",
   "execution_count": 14,
   "id": "bd5bb17d-f0f0-41f8-a216-1f604354c7ed",
   "metadata": {},
   "outputs": [],
   "source": [
    "def print_metrics(cluster_sizes, correlations, r2_scores, clusters):\n",
    "    total_size = 0\n",
    "    correlation_sum = 0\n",
    "    r2_score_sum = 0\n",
    "    \n",
    "    bad_clusters_indices = []\n",
    "\n",
    "    for i in range(len(cluster_sizes)):\n",
    "        if (math.isnan(correlations[i]) or (r2_scores[i] < 0)):\n",
    "            bad_clusters_indices.append(i)\n",
    "            continue\n",
    "        \n",
    "        correlation_sum += cluster_sizes[i] * correlations[i]\n",
    "        r2_score_sum += cluster_sizes[i] * r2_scores[i]\n",
    "        total_size += cluster_sizes[i]\n",
    "\n",
    "    weighted_average_correlation = correlation_sum / total_size\n",
    "    weighted_average_r2_score = r2_score_sum / total_size\n",
    "\n",
    "    print(f\"weighted_average_correlation: {weighted_average_correlation:.2f}\")\n",
    "    output_file.write(f\"weighted_average_correlation: {weighted_average_correlation:.2f}\\n\")\n",
    "    print(f\"weighted_average_r2_score: {weighted_average_r2_score:.2f}\")\n",
    "    output_file.write(f\"weighted_average_r2_score: {weighted_average_r2_score:.2f}\\n\")\n",
    "\n",
    "    bad_clusters_size_sum = 0\n",
    "    total_clusters_size_sum = 0\n",
    "\n",
    "    for cluster_size in cluster_sizes:\n",
    "        total_clusters_size_sum += cluster_size\n",
    "    \n",
    "    for bad_cluster_index in bad_clusters_indices:\n",
    "        bad_clusters_size_sum += len(clusters[bad_cluster_index])\n",
    "\n",
    "    bad_clusters_rate = bad_clusters_size_sum / total_clusters_size_sum\n",
    "\n",
    "    print(f\"bad clusters rate: {bad_clusters_rate:.2f}%\")\n",
    "    output_file.write(f\"bad clusters rate: {bad_clusters_rate:.2f}%\\n\")"
   ]
  },
  {
   "cell_type": "code",
   "execution_count": 15,
   "id": "5617952d-1bcf-466e-9388-799b85c6bc7e",
   "metadata": {},
   "outputs": [],
   "source": [
    "def show_results(model, clusters, conv_width):\n",
    "    cluster_sizes, correlations, r2_scores = do_investigations(model, clusters, conv_width)\n",
    "    print_metrics(cluster_sizes, correlations, r2_scores, clusters)"
   ]
  },
  {
   "cell_type": "code",
   "execution_count": 16,
   "id": "776882d6-8435-46f0-9c36-eb1c89b0634a",
   "metadata": {},
   "outputs": [],
   "source": [
    "CONV_WIDTH = 3"
   ]
  },
  {
   "cell_type": "code",
   "execution_count": 17,
   "id": "10b769f4-4e06-4d51-bb0b-561f86733e5a",
   "metadata": {
    "scrolled": true
   },
   "outputs": [
    {
     "name": "stdout",
     "output_type": "stream",
     "text": [
      "WARNING:tensorflow:From C:\\python\\python311\\Lib\\site-packages\\keras\\src\\backend.py:873: The name tf.get_default_graph is deprecated. Please use tf.compat.v1.get_default_graph instead.\n",
      "\n"
     ]
    }
   ],
   "source": [
    "multi_step_dense_model = tf.keras.Sequential([\n",
    "    # Shape: (time, features) => (time*features)\n",
    "    tf.keras.layers.Flatten(),\n",
    "    tf.keras.layers.Dense(units=32, activation='relu'),\n",
    "    tf.keras.layers.Dense(units=32, activation='relu'),\n",
    "    tf.keras.layers.Dense(units=1),\n",
    "    # Add back the time dimension.\n",
    "    # Shape: (outputs) => (1, outputs)\n",
    "    tf.keras.layers.Reshape([1, -1]),\n",
    "])"
   ]
  },
  {
   "cell_type": "code",
   "execution_count": 18,
   "id": "6b7e99b0-3f31-4d4a-8398-dd8fce7fc683",
   "metadata": {
    "scrolled": true
   },
   "outputs": [],
   "source": [
    "lstm_model = tf.keras.models.Sequential([\n",
    "    # Shape [batch, time, features] => [batch, time, lstm_units]\n",
    "    tf.keras.layers.Conv1D(filters=32,\n",
    "                           kernel_size=(CONV_WIDTH,),\n",
    "                           activation='relu'),\n",
    "    tf.keras.layers.LSTM(128, return_sequences=True),\n",
    "    # Shape => [batch, time, features]\n",
    "    tf.keras.layers.Dense(units=1)\n",
    "])"
   ]
  },
  {
   "cell_type": "code",
   "execution_count": 19,
   "id": "e33b7ad0-dae9-4997-83ac-db93f7889d3a",
   "metadata": {},
   "outputs": [],
   "source": [
    "rnn_model = tf.keras.models.Sequential([\n",
    "    # Shape [batch, time, features] => [batch, time, lstm_units]\n",
    "    tf.keras.layers.Conv1D(filters=32,\n",
    "                           kernel_size=(CONV_WIDTH,),\n",
    "                           activation='relu'),\n",
    "    tf.keras.layers.SimpleRNN(128, return_sequences=True),\n",
    "    # Shape => [batch, time, features]\n",
    "    tf.keras.layers.Dense(units=1)\n",
    "])"
   ]
  },
  {
   "cell_type": "code",
   "execution_count": 20,
   "id": "5f284891-fcf1-4d84-879b-274cfbbd243e",
   "metadata": {},
   "outputs": [],
   "source": [
    "def get_clusters(path):\n",
    "    file = open(path, 'r')\n",
    "    lines = file.readlines()\n",
    "    file.close()\n",
    "\n",
    "    clusters = []\n",
    "\n",
    "    for line in lines:\n",
    "        if line.strip() == '':\n",
    "            continue\n",
    "        clusters.append(convert_line_to_list(line))\n",
    "\n",
    "    return clusters"
   ]
  },
  {
   "cell_type": "code",
   "execution_count": 21,
   "id": "508ae3e2-8639-4bfa-a687-7b0545369d11",
   "metadata": {},
   "outputs": [
    {
     "name": "stdout",
     "output_type": "stream",
     "text": [
      "------------------------------------------------------\n",
      "msd mst 5.txt\n",
      "---do_investigations. cluster index : 0---\n"
     ]
    },
    {
     "data": {
      "application/vnd.jupyter.widget-view+json": {
       "model_id": "13e86c3b81e74a61b41e5619d2511a2d",
       "version_major": 2,
       "version_minor": 0
      },
      "text/plain": [
       "IntProgress(value=0, max=5323)"
      ]
     },
     "metadata": {},
     "output_type": "display_data"
    },
    {
     "name": "stdout",
     "output_type": "stream",
     "text": [
      "Epoch 1/20\n",
      "WARNING:tensorflow:From C:\\python\\python311\\Lib\\site-packages\\keras\\src\\utils\\tf_utils.py:492: The name tf.ragged.RaggedTensorValue is deprecated. Please use tf.compat.v1.ragged.RaggedTensorValue instead.\n",
      "\n",
      "368/368 [==============================] - 2s 3ms/step - loss: 0.2340 - mean_absolute_error: 0.3180 - val_loss: 0.2062 - val_mean_absolute_error: 0.2897\n",
      "Epoch 2/20\n",
      "368/368 [==============================] - 1s 3ms/step - loss: 0.2054 - mean_absolute_error: 0.2878 - val_loss: 0.2042 - val_mean_absolute_error: 0.2900\n",
      "Epoch 3/20\n",
      "368/368 [==============================] - 1s 2ms/step - loss: 0.2054 - mean_absolute_error: 0.2876 - val_loss: 0.2098 - val_mean_absolute_error: 0.2933\n",
      "Epoch 4/20\n",
      "368/368 [==============================] - 1s 2ms/step - loss: 0.2048 - mean_absolute_error: 0.2877 - val_loss: 0.2039 - val_mean_absolute_error: 0.2812\n",
      "Epoch 5/20\n",
      "368/368 [==============================] - 1s 3ms/step - loss: 0.2043 - mean_absolute_error: 0.2869 - val_loss: 0.2038 - val_mean_absolute_error: 0.2849\n",
      "Epoch 6/20\n",
      "368/368 [==============================] - 1s 3ms/step - loss: 0.2055 - mean_absolute_error: 0.2875 - val_loss: 0.1990 - val_mean_absolute_error: 0.2822\n",
      "Epoch 7/20\n",
      "368/368 [==============================] - 1s 3ms/step - loss: 0.2039 - mean_absolute_error: 0.2862 - val_loss: 0.1980 - val_mean_absolute_error: 0.2803\n",
      "Epoch 8/20\n",
      "368/368 [==============================] - 1s 3ms/step - loss: 0.2045 - mean_absolute_error: 0.2869 - val_loss: 0.2086 - val_mean_absolute_error: 0.2859\n",
      "Epoch 9/20\n",
      "368/368 [==============================] - 1s 2ms/step - loss: 0.2028 - mean_absolute_error: 0.2859 - val_loss: 0.2013 - val_mean_absolute_error: 0.2835\n",
      "***TRAIN***:\n",
      "correlation related to cluster centre: 0.89\n",
      "r2 score related to cluster centre: 0.80\n",
      "***VALIDATION***:\n",
      "correlation related to cluster centre: 0.90\n",
      "r2 score related to cluster centre: 0.81\n"
     ]
    },
    {
     "data": {
      "application/vnd.jupyter.widget-view+json": {
       "model_id": "92a3dd7fec5948738b4c49c127200048",
       "version_major": 2,
       "version_minor": 0
      },
      "text/plain": [
       "IntProgress(value=0, max=5323)"
      ]
     },
     "metadata": {},
     "output_type": "display_data"
    },
    {
     "name": "stdout",
     "output_type": "stream",
     "text": [
      "***VALIDATION***:\n",
      "average correlation: nan\n",
      "average r2: -56875430256770639404719931392.00\n",
      "---do_investigations. cluster index : 1---\n"
     ]
    },
    {
     "data": {
      "application/vnd.jupyter.widget-view+json": {
       "model_id": "01cbf5ab90f443e79026d8e805f926d8",
       "version_major": 2,
       "version_minor": 0
      },
      "text/plain": [
       "IntProgress(value=0, max=2349)"
      ]
     },
     "metadata": {},
     "output_type": "display_data"
    },
    {
     "name": "stdout",
     "output_type": "stream",
     "text": [
      "Epoch 1/20\n",
      "368/368 [==============================] - 2s 3ms/step - loss: 0.2573 - mean_absolute_error: 0.3544 - val_loss: 0.1657 - val_mean_absolute_error: 0.2805\n",
      "Epoch 2/20\n",
      "368/368 [==============================] - 1s 3ms/step - loss: 0.2045 - mean_absolute_error: 0.3087 - val_loss: 0.1569 - val_mean_absolute_error: 0.2693\n",
      "Epoch 3/20\n",
      "368/368 [==============================] - 1s 3ms/step - loss: 0.2016 - mean_absolute_error: 0.3060 - val_loss: 0.1571 - val_mean_absolute_error: 0.2699\n",
      "Epoch 4/20\n",
      "368/368 [==============================] - 1s 2ms/step - loss: 0.2028 - mean_absolute_error: 0.3071 - val_loss: 0.1569 - val_mean_absolute_error: 0.2721\n",
      "Epoch 5/20\n",
      "368/368 [==============================] - 1s 3ms/step - loss: 0.2018 - mean_absolute_error: 0.3064 - val_loss: 0.1577 - val_mean_absolute_error: 0.2709\n",
      "Epoch 6/20\n",
      "368/368 [==============================] - 1s 2ms/step - loss: 0.2015 - mean_absolute_error: 0.3058 - val_loss: 0.1573 - val_mean_absolute_error: 0.2695\n",
      "***TRAIN***:\n",
      "correlation related to cluster centre: 0.89\n",
      "r2 score related to cluster centre: 0.80\n",
      "***VALIDATION***:\n",
      "correlation related to cluster centre: 0.91\n",
      "r2 score related to cluster centre: 0.82\n"
     ]
    },
    {
     "data": {
      "application/vnd.jupyter.widget-view+json": {
       "model_id": "ce4fe53ae4e64d27adea6442c287f5cf",
       "version_major": 2,
       "version_minor": 0
      },
      "text/plain": [
       "IntProgress(value=0, max=2349)"
      ]
     },
     "metadata": {},
     "output_type": "display_data"
    },
    {
     "name": "stdout",
     "output_type": "stream",
     "text": [
      "***VALIDATION***:\n",
      "average correlation: 0.90\n",
      "average r2: -4.44\n",
      "---do_investigations. cluster index : 2---\n"
     ]
    },
    {
     "data": {
      "application/vnd.jupyter.widget-view+json": {
       "model_id": "7d8449b8c38e44bda6bc72bfeda58c50",
       "version_major": 2,
       "version_minor": 0
      },
      "text/plain": [
       "IntProgress(value=0, max=4)"
      ]
     },
     "metadata": {},
     "output_type": "display_data"
    },
    {
     "name": "stdout",
     "output_type": "stream",
     "text": [
      "Epoch 1/20\n",
      "368/368 [==============================] - 2s 3ms/step - loss: 0.2703 - mean_absolute_error: 0.3637 - val_loss: 0.2420 - val_mean_absolute_error: 0.3479\n",
      "Epoch 2/20\n",
      "368/368 [==============================] - 1s 3ms/step - loss: 0.2023 - mean_absolute_error: 0.3058 - val_loss: 0.2368 - val_mean_absolute_error: 0.3370\n",
      "Epoch 3/20\n",
      "368/368 [==============================] - 1s 3ms/step - loss: 0.2018 - mean_absolute_error: 0.3054 - val_loss: 0.2362 - val_mean_absolute_error: 0.3379\n",
      "Epoch 4/20\n",
      "368/368 [==============================] - 1s 3ms/step - loss: 0.2009 - mean_absolute_error: 0.3047 - val_loss: 0.2390 - val_mean_absolute_error: 0.3382\n",
      "Epoch 5/20\n",
      "368/368 [==============================] - 1s 3ms/step - loss: 0.2001 - mean_absolute_error: 0.3037 - val_loss: 0.2411 - val_mean_absolute_error: 0.3422\n",
      "***TRAIN***:\n",
      "correlation related to cluster centre: 0.90\n",
      "r2 score related to cluster centre: 0.80\n",
      "***VALIDATION***:\n",
      "correlation related to cluster centre: 0.90\n",
      "r2 score related to cluster centre: 0.81\n"
     ]
    },
    {
     "data": {
      "application/vnd.jupyter.widget-view+json": {
       "model_id": "fa9621c500d24928ba776b3a9428ae63",
       "version_major": 2,
       "version_minor": 0
      },
      "text/plain": [
       "IntProgress(value=0, max=4)"
      ]
     },
     "metadata": {},
     "output_type": "display_data"
    },
    {
     "name": "stdout",
     "output_type": "stream",
     "text": [
      "***VALIDATION***:\n",
      "average correlation: 0.90\n",
      "average r2: 0.81\n",
      "---do_investigations. cluster index : 3---\n"
     ]
    },
    {
     "data": {
      "application/vnd.jupyter.widget-view+json": {
       "model_id": "1562f5b588ed4b53a19d18a706c2712a",
       "version_major": 2,
       "version_minor": 0
      },
      "text/plain": [
       "IntProgress(value=0, max=3)"
      ]
     },
     "metadata": {},
     "output_type": "display_data"
    },
    {
     "name": "stdout",
     "output_type": "stream",
     "text": [
      "Epoch 1/20\n",
      "368/368 [==============================] - 2s 3ms/step - loss: 0.3051 - mean_absolute_error: 0.2735 - val_loss: 0.0070 - val_mean_absolute_error: 0.0682\n",
      "Epoch 2/20\n",
      "368/368 [==============================] - 1s 3ms/step - loss: 0.2540 - mean_absolute_error: 0.2323 - val_loss: 0.0040 - val_mean_absolute_error: 0.0399\n",
      "Epoch 3/20\n",
      "368/368 [==============================] - 1s 2ms/step - loss: 0.2519 - mean_absolute_error: 0.2309 - val_loss: 0.0067 - val_mean_absolute_error: 0.0662\n",
      "Epoch 4/20\n",
      "368/368 [==============================] - 1s 2ms/step - loss: 0.2504 - mean_absolute_error: 0.2305 - val_loss: 0.0037 - val_mean_absolute_error: 0.0342\n",
      "Epoch 5/20\n",
      "368/368 [==============================] - 1s 3ms/step - loss: 0.2489 - mean_absolute_error: 0.2289 - val_loss: 0.0044 - val_mean_absolute_error: 0.0458\n",
      "Epoch 6/20\n",
      "368/368 [==============================] - 1s 3ms/step - loss: 0.2487 - mean_absolute_error: 0.2286 - val_loss: 0.0100 - val_mean_absolute_error: 0.0871\n",
      "***TRAIN***:\n",
      "correlation related to cluster centre: 0.87\n",
      "r2 score related to cluster centre: 0.75\n",
      "***VALIDATION***:\n",
      "correlation related to cluster centre: 0.90\n",
      "r2 score related to cluster centre: 0.49\n"
     ]
    },
    {
     "data": {
      "application/vnd.jupyter.widget-view+json": {
       "model_id": "44d6fa463049452085504bda2c02c944",
       "version_major": 2,
       "version_minor": 0
      },
      "text/plain": [
       "IntProgress(value=0, max=3)"
      ]
     },
     "metadata": {},
     "output_type": "display_data"
    },
    {
     "name": "stdout",
     "output_type": "stream",
     "text": [
      "***VALIDATION***:\n",
      "average correlation: 0.91\n",
      "average r2: 0.15\n",
      "---do_investigations. cluster index : 4---\n"
     ]
    },
    {
     "data": {
      "application/vnd.jupyter.widget-view+json": {
       "model_id": "91f2beb3e8184896bd0ab6038089ef2f",
       "version_major": 2,
       "version_minor": 0
      },
      "text/plain": [
       "IntProgress(value=0, max=1)"
      ]
     },
     "metadata": {},
     "output_type": "display_data"
    },
    {
     "name": "stdout",
     "output_type": "stream",
     "text": [
      "Epoch 1/20\n",
      "368/368 [==============================] - 2s 3ms/step - loss: 0.2232 - mean_absolute_error: 0.3250 - val_loss: 0.1842 - val_mean_absolute_error: 0.3022\n",
      "Epoch 2/20\n",
      "368/368 [==============================] - 1s 3ms/step - loss: 0.1660 - mean_absolute_error: 0.2790 - val_loss: 0.1783 - val_mean_absolute_error: 0.2931\n",
      "Epoch 3/20\n",
      "368/368 [==============================] - 1s 3ms/step - loss: 0.1655 - mean_absolute_error: 0.2787 - val_loss: 0.1803 - val_mean_absolute_error: 0.2975\n",
      "Epoch 4/20\n",
      "368/368 [==============================] - 1s 3ms/step - loss: 0.1647 - mean_absolute_error: 0.2783 - val_loss: 0.1792 - val_mean_absolute_error: 0.2948\n",
      "***TRAIN***:\n",
      "correlation related to cluster centre: 0.91\n",
      "r2 score related to cluster centre: 0.83\n",
      "***VALIDATION***:\n",
      "correlation related to cluster centre: 0.91\n",
      "r2 score related to cluster centre: 0.82\n"
     ]
    },
    {
     "data": {
      "application/vnd.jupyter.widget-view+json": {
       "model_id": "d75cb6faeee54b61abf7af77c37fcf24",
       "version_major": 2,
       "version_minor": 0
      },
      "text/plain": [
       "IntProgress(value=0, max=1)"
      ]
     },
     "metadata": {},
     "output_type": "display_data"
    },
    {
     "name": "stdout",
     "output_type": "stream",
     "text": [
      "***VALIDATION***:\n",
      "average correlation: 0.91\n",
      "average r2: 0.82\n",
      "weighted_average_correlation: 0.90\n",
      "weighted_average_r2_score: 0.56\n",
      "bad clusters rate: 1.00%\n",
      "------------------------------------------------------\n"
     ]
    }
   ],
   "source": [
    "first_path = r\"C:\\Coding\\final-qualifying-work_2023-2024\\ClusteringCpp\\output\\mst 5.txt\"\n",
    "second_path = r\"C:\\Coding\\final-qualifying-work_2023-2024\\ClusteringCpp\\output\\mst 15.txt\"\n",
    "third_path = r\"C:\\Coding\\final-qualifying-work_2023-2024\\ClusteringCpp\\output\\mst 30.txt\"\n",
    "fourth_path = r\"C:\\Coding\\final-qualifying-work_2023-2024\\ClusteringCpp\\output\\mst 60.txt\"\n",
    "\n",
    "output_file = open(\"computational-experiments-output-mst-1.txt\", \"a\")\n",
    "\n",
    "selected_path = first_path\n",
    "\n",
    "print('------------------------------------------------------')\n",
    "output_file.write('------------------------------------------------------\\n')\n",
    "\n",
    "print(f\"msd {os.path.split(selected_path)[-1]}\")\n",
    "output_file.write(f\"msd {os.path.split(selected_path)[-1]}\\n\")\n",
    "show_results(multi_step_dense_model, get_clusters(selected_path), CONV_WIDTH)\n",
    "\n",
    "print('------------------------------------------------------')\n",
    "output_file.write('------------------------------------------------------\\n')\n",
    "\n",
    "output_file.close()"
   ]
  },
  {
   "cell_type": "code",
   "execution_count": 22,
   "id": "a26130f9-4a11-442c-a5df-152973e7ce3f",
   "metadata": {},
   "outputs": [
    {
     "name": "stdout",
     "output_type": "stream",
     "text": [
      "------------------------------------------------------\n",
      "msd mst 15.txt\n",
      "---do_investigations. cluster index : 0---\n"
     ]
    },
    {
     "data": {
      "application/vnd.jupyter.widget-view+json": {
       "model_id": "f8c87aae790f4fcd999978a5e0f6f20e",
       "version_major": 2,
       "version_minor": 0
      },
      "text/plain": [
       "IntProgress(value=0, max=5318)"
      ]
     },
     "metadata": {},
     "output_type": "display_data"
    },
    {
     "name": "stdout",
     "output_type": "stream",
     "text": [
      "Epoch 1/20\n",
      "368/368 [==============================] - 2s 3ms/step - loss: 0.2867 - mean_absolute_error: 0.3463 - val_loss: 0.2034 - val_mean_absolute_error: 0.2808\n",
      "Epoch 2/20\n",
      "368/368 [==============================] - 1s 2ms/step - loss: 0.2070 - mean_absolute_error: 0.2895 - val_loss: 0.2023 - val_mean_absolute_error: 0.2820\n",
      "Epoch 3/20\n",
      "368/368 [==============================] - 1s 3ms/step - loss: 0.2059 - mean_absolute_error: 0.2879 - val_loss: 0.1987 - val_mean_absolute_error: 0.2792\n",
      "Epoch 4/20\n",
      "368/368 [==============================] - 1s 3ms/step - loss: 0.2072 - mean_absolute_error: 0.2884 - val_loss: 0.1999 - val_mean_absolute_error: 0.2783\n",
      "Epoch 5/20\n",
      "368/368 [==============================] - 1s 3ms/step - loss: 0.2056 - mean_absolute_error: 0.2874 - val_loss: 0.2011 - val_mean_absolute_error: 0.2821\n",
      "***TRAIN***:\n",
      "correlation related to cluster centre: 0.89\n",
      "r2 score related to cluster centre: 0.80\n",
      "***VALIDATION***:\n",
      "correlation related to cluster centre: 0.90\n",
      "r2 score related to cluster centre: 0.81\n"
     ]
    },
    {
     "data": {
      "application/vnd.jupyter.widget-view+json": {
       "model_id": "67cdc86a5bf146cf9a8950c3998f17c1",
       "version_major": 2,
       "version_minor": 0
      },
      "text/plain": [
       "IntProgress(value=0, max=5318)"
      ]
     },
     "metadata": {},
     "output_type": "display_data"
    },
    {
     "name": "stdout",
     "output_type": "stream",
     "text": [
      "***VALIDATION***:\n",
      "average correlation: nan\n",
      "average r2: -42202213214310425876959854592.00\n",
      "---do_investigations. cluster index : 1---\n"
     ]
    },
    {
     "data": {
      "application/vnd.jupyter.widget-view+json": {
       "model_id": "5c98a33340434cdd9ccef4b6b409e721",
       "version_major": 2,
       "version_minor": 0
      },
      "text/plain": [
       "IntProgress(value=0, max=66)"
      ]
     },
     "metadata": {},
     "output_type": "display_data"
    },
    {
     "name": "stdout",
     "output_type": "stream",
     "text": [
      "Epoch 1/20\n",
      "368/368 [==============================] - 2s 3ms/step - loss: 0.2478 - mean_absolute_error: 0.3355 - val_loss: 0.1667 - val_mean_absolute_error: 0.2708\n",
      "Epoch 2/20\n",
      "368/368 [==============================] - 1s 3ms/step - loss: 0.2109 - mean_absolute_error: 0.3048 - val_loss: 0.1634 - val_mean_absolute_error: 0.2760\n",
      "Epoch 3/20\n",
      "368/368 [==============================] - 1s 3ms/step - loss: 0.2095 - mean_absolute_error: 0.3036 - val_loss: 0.1635 - val_mean_absolute_error: 0.2732\n",
      "Epoch 4/20\n",
      "368/368 [==============================] - 1s 3ms/step - loss: 0.2100 - mean_absolute_error: 0.3034 - val_loss: 0.1635 - val_mean_absolute_error: 0.2692\n",
      "***TRAIN***:\n",
      "correlation related to cluster centre: 0.89\n",
      "r2 score related to cluster centre: 0.79\n",
      "***VALIDATION***:\n",
      "correlation related to cluster centre: 0.91\n",
      "r2 score related to cluster centre: 0.82\n"
     ]
    },
    {
     "data": {
      "application/vnd.jupyter.widget-view+json": {
       "model_id": "1e48a5231e364671b4d0b5766cc6bbc6",
       "version_major": 2,
       "version_minor": 0
      },
      "text/plain": [
       "IntProgress(value=0, max=66)"
      ]
     },
     "metadata": {},
     "output_type": "display_data"
    },
    {
     "name": "stdout",
     "output_type": "stream",
     "text": [
      "***VALIDATION***:\n",
      "average correlation: 0.90\n",
      "average r2: 0.82\n",
      "---do_investigations. cluster index : 2---\n"
     ]
    },
    {
     "data": {
      "application/vnd.jupyter.widget-view+json": {
       "model_id": "a4372dee103d4b0198bd8a182fc49a5d",
       "version_major": 2,
       "version_minor": 0
      },
      "text/plain": [
       "IntProgress(value=0, max=107)"
      ]
     },
     "metadata": {},
     "output_type": "display_data"
    },
    {
     "name": "stdout",
     "output_type": "stream",
     "text": [
      "Epoch 1/20\n",
      "368/368 [==============================] - 2s 3ms/step - loss: 0.2632 - mean_absolute_error: 0.3491 - val_loss: 0.1482 - val_mean_absolute_error: 0.2753\n",
      "Epoch 2/20\n",
      "368/368 [==============================] - 1s 3ms/step - loss: 0.2093 - mean_absolute_error: 0.3091 - val_loss: 0.1470 - val_mean_absolute_error: 0.2715\n",
      "Epoch 3/20\n",
      "368/368 [==============================] - 1s 3ms/step - loss: 0.2083 - mean_absolute_error: 0.3088 - val_loss: 0.1477 - val_mean_absolute_error: 0.2725\n",
      "Epoch 4/20\n",
      "368/368 [==============================] - 1s 2ms/step - loss: 0.2081 - mean_absolute_error: 0.3081 - val_loss: 0.1513 - val_mean_absolute_error: 0.2866\n",
      "***TRAIN***:\n",
      "correlation related to cluster centre: 0.89\n",
      "r2 score related to cluster centre: 0.79\n",
      "***VALIDATION***:\n",
      "correlation related to cluster centre: 0.91\n",
      "r2 score related to cluster centre: 0.82\n"
     ]
    },
    {
     "data": {
      "application/vnd.jupyter.widget-view+json": {
       "model_id": "4630dfb3f4204a04a521d287d2250089",
       "version_major": 2,
       "version_minor": 0
      },
      "text/plain": [
       "IntProgress(value=0, max=107)"
      ]
     },
     "metadata": {},
     "output_type": "display_data"
    },
    {
     "name": "stdout",
     "output_type": "stream",
     "text": [
      "***VALIDATION***:\n",
      "average correlation: 0.91\n",
      "average r2: 0.81\n",
      "---do_investigations. cluster index : 3---\n"
     ]
    },
    {
     "data": {
      "application/vnd.jupyter.widget-view+json": {
       "model_id": "69a4464964bd405d9ff82f586578e4e2",
       "version_major": 2,
       "version_minor": 0
      },
      "text/plain": [
       "IntProgress(value=0, max=13)"
      ]
     },
     "metadata": {},
     "output_type": "display_data"
    },
    {
     "name": "stdout",
     "output_type": "stream",
     "text": [
      "Epoch 1/20\n",
      "368/368 [==============================] - 2s 3ms/step - loss: 0.2940 - mean_absolute_error: 0.3645 - val_loss: 0.1797 - val_mean_absolute_error: 0.2947\n",
      "Epoch 2/20\n",
      "368/368 [==============================] - 1s 3ms/step - loss: 0.2062 - mean_absolute_error: 0.3124 - val_loss: 0.1767 - val_mean_absolute_error: 0.2925\n",
      "Epoch 3/20\n",
      "368/368 [==============================] - 1s 3ms/step - loss: 0.2038 - mean_absolute_error: 0.3108 - val_loss: 0.1767 - val_mean_absolute_error: 0.2894\n",
      "Epoch 4/20\n",
      "368/368 [==============================] - 1s 3ms/step - loss: 0.2030 - mean_absolute_error: 0.3096 - val_loss: 0.1784 - val_mean_absolute_error: 0.2938\n",
      "Epoch 5/20\n",
      "368/368 [==============================] - 1s 3ms/step - loss: 0.2035 - mean_absolute_error: 0.3103 - val_loss: 0.1776 - val_mean_absolute_error: 0.3013\n",
      "***TRAIN***:\n",
      "correlation related to cluster centre: 0.89\n",
      "r2 score related to cluster centre: 0.80\n",
      "***VALIDATION***:\n",
      "correlation related to cluster centre: 0.91\n",
      "r2 score related to cluster centre: 0.82\n"
     ]
    },
    {
     "data": {
      "application/vnd.jupyter.widget-view+json": {
       "model_id": "84d4d69740104e6bbfd6ec3773e6833a",
       "version_major": 2,
       "version_minor": 0
      },
      "text/plain": [
       "IntProgress(value=0, max=13)"
      ]
     },
     "metadata": {},
     "output_type": "display_data"
    },
    {
     "name": "stdout",
     "output_type": "stream",
     "text": [
      "***VALIDATION***:\n",
      "average correlation: 0.91\n",
      "average r2: 0.82\n",
      "---do_investigations. cluster index : 4---\n"
     ]
    },
    {
     "data": {
      "application/vnd.jupyter.widget-view+json": {
       "model_id": "6f272633b0894e28aba357da4165b51d",
       "version_major": 2,
       "version_minor": 0
      },
      "text/plain": [
       "IntProgress(value=0, max=2143)"
      ]
     },
     "metadata": {},
     "output_type": "display_data"
    },
    {
     "name": "stdout",
     "output_type": "stream",
     "text": [
      "Epoch 1/20\n",
      "368/368 [==============================] - 2s 3ms/step - loss: 0.2290 - mean_absolute_error: 0.3379 - val_loss: 0.1649 - val_mean_absolute_error: 0.2866\n",
      "Epoch 2/20\n",
      "368/368 [==============================] - 1s 3ms/step - loss: 0.1989 - mean_absolute_error: 0.3095 - val_loss: 0.1626 - val_mean_absolute_error: 0.2834\n",
      "Epoch 3/20\n",
      "368/368 [==============================] - 1s 3ms/step - loss: 0.1964 - mean_absolute_error: 0.3067 - val_loss: 0.1618 - val_mean_absolute_error: 0.2804\n",
      "Epoch 4/20\n",
      "368/368 [==============================] - 1s 3ms/step - loss: 0.1969 - mean_absolute_error: 0.3073 - val_loss: 0.1654 - val_mean_absolute_error: 0.2946\n",
      "Epoch 5/20\n",
      "368/368 [==============================] - 1s 2ms/step - loss: 0.1963 - mean_absolute_error: 0.3069 - val_loss: 0.1647 - val_mean_absolute_error: 0.2926\n",
      "***TRAIN***:\n",
      "correlation related to cluster centre: 0.90\n",
      "r2 score related to cluster centre: 0.80\n",
      "***VALIDATION***:\n",
      "correlation related to cluster centre: 0.91\n",
      "r2 score related to cluster centre: 0.82\n"
     ]
    },
    {
     "data": {
      "application/vnd.jupyter.widget-view+json": {
       "model_id": "7e97051f2c4446709e9db63afddf61a9",
       "version_major": 2,
       "version_minor": 0
      },
      "text/plain": [
       "IntProgress(value=0, max=2143)"
      ]
     },
     "metadata": {},
     "output_type": "display_data"
    },
    {
     "name": "stdout",
     "output_type": "stream",
     "text": [
      "***VALIDATION***:\n",
      "average correlation: 0.90\n",
      "average r2: -4.28\n",
      "---do_investigations. cluster index : 5---\n"
     ]
    },
    {
     "data": {
      "application/vnd.jupyter.widget-view+json": {
       "model_id": "ee8b0d60b3c64835a62b23b04e6c7690",
       "version_major": 2,
       "version_minor": 0
      },
      "text/plain": [
       "IntProgress(value=0, max=5)"
      ]
     },
     "metadata": {},
     "output_type": "display_data"
    },
    {
     "name": "stdout",
     "output_type": "stream",
     "text": [
      "Epoch 1/20\n",
      "368/368 [==============================] - 2s 3ms/step - loss: 0.2702 - mean_absolute_error: 0.3397 - val_loss: 0.2355 - val_mean_absolute_error: 0.3205\n",
      "Epoch 2/20\n",
      "368/368 [==============================] - 1s 3ms/step - loss: 0.2085 - mean_absolute_error: 0.2987 - val_loss: 0.2354 - val_mean_absolute_error: 0.3251\n",
      "Epoch 3/20\n",
      "368/368 [==============================] - 1s 2ms/step - loss: 0.2073 - mean_absolute_error: 0.2979 - val_loss: 0.2365 - val_mean_absolute_error: 0.3151\n",
      "Epoch 4/20\n",
      "368/368 [==============================] - 1s 3ms/step - loss: 0.2071 - mean_absolute_error: 0.2975 - val_loss: 0.2345 - val_mean_absolute_error: 0.3205\n",
      "Epoch 5/20\n",
      "368/368 [==============================] - 1s 3ms/step - loss: 0.2066 - mean_absolute_error: 0.2964 - val_loss: 0.2439 - val_mean_absolute_error: 0.3214\n",
      "Epoch 6/20\n",
      "368/368 [==============================] - 1s 3ms/step - loss: 0.2060 - mean_absolute_error: 0.2960 - val_loss: 0.2364 - val_mean_absolute_error: 0.3192\n",
      "***TRAIN***:\n",
      "correlation related to cluster centre: 0.89\n",
      "r2 score related to cluster centre: 0.80\n",
      "***VALIDATION***:\n",
      "correlation related to cluster centre: 0.90\n",
      "r2 score related to cluster centre: 0.81\n"
     ]
    },
    {
     "data": {
      "application/vnd.jupyter.widget-view+json": {
       "model_id": "dc8d029101af4b8d99fa8a20ef473bf1",
       "version_major": 2,
       "version_minor": 0
      },
      "text/plain": [
       "IntProgress(value=0, max=5)"
      ]
     },
     "metadata": {},
     "output_type": "display_data"
    },
    {
     "name": "stdout",
     "output_type": "stream",
     "text": [
      "***VALIDATION***:\n",
      "average correlation: 0.90\n",
      "average r2: 0.81\n",
      "---do_investigations. cluster index : 6---\n"
     ]
    },
    {
     "data": {
      "application/vnd.jupyter.widget-view+json": {
       "model_id": "ff6b0f21bdb5427aa100428cc66e4a1f",
       "version_major": 2,
       "version_minor": 0
      },
      "text/plain": [
       "IntProgress(value=0, max=9)"
      ]
     },
     "metadata": {},
     "output_type": "display_data"
    },
    {
     "name": "stdout",
     "output_type": "stream",
     "text": [
      "Epoch 1/20\n",
      "368/368 [==============================] - 2s 3ms/step - loss: 0.2434 - mean_absolute_error: 0.3417 - val_loss: 0.1640 - val_mean_absolute_error: 0.2781\n",
      "Epoch 2/20\n",
      "368/368 [==============================] - 1s 3ms/step - loss: 0.1875 - mean_absolute_error: 0.2974 - val_loss: 0.1606 - val_mean_absolute_error: 0.2770\n",
      "Epoch 3/20\n",
      "368/368 [==============================] - 1s 3ms/step - loss: 0.1872 - mean_absolute_error: 0.2978 - val_loss: 0.1648 - val_mean_absolute_error: 0.2777\n",
      "Epoch 4/20\n",
      "368/368 [==============================] - 1s 3ms/step - loss: 0.1869 - mean_absolute_error: 0.2967 - val_loss: 0.1611 - val_mean_absolute_error: 0.2777\n",
      "***TRAIN***:\n",
      "correlation related to cluster centre: 0.90\n",
      "r2 score related to cluster centre: 0.81\n",
      "***VALIDATION***:\n",
      "correlation related to cluster centre: 0.91\n",
      "r2 score related to cluster centre: 0.83\n"
     ]
    },
    {
     "data": {
      "application/vnd.jupyter.widget-view+json": {
       "model_id": "ef82ceb3ed32466994a70a8191cf55e2",
       "version_major": 2,
       "version_minor": 0
      },
      "text/plain": [
       "IntProgress(value=0, max=9)"
      ]
     },
     "metadata": {},
     "output_type": "display_data"
    },
    {
     "name": "stdout",
     "output_type": "stream",
     "text": [
      "***VALIDATION***:\n",
      "average correlation: 0.91\n",
      "average r2: 0.83\n",
      "---do_investigations. cluster index : 7---\n"
     ]
    },
    {
     "data": {
      "application/vnd.jupyter.widget-view+json": {
       "model_id": "4c5481ddf4184f52ad60f649e4df8def",
       "version_major": 2,
       "version_minor": 0
      },
      "text/plain": [
       "IntProgress(value=0, max=7)"
      ]
     },
     "metadata": {},
     "output_type": "display_data"
    },
    {
     "name": "stdout",
     "output_type": "stream",
     "text": [
      "Epoch 1/20\n",
      "368/368 [==============================] - 2s 3ms/step - loss: 0.2363 - mean_absolute_error: 0.3301 - val_loss: 0.2084 - val_mean_absolute_error: 0.3148\n",
      "Epoch 2/20\n",
      "368/368 [==============================] - 1s 3ms/step - loss: 0.1619 - mean_absolute_error: 0.2737 - val_loss: 0.1992 - val_mean_absolute_error: 0.3058\n",
      "Epoch 3/20\n",
      "368/368 [==============================] - 1s 2ms/step - loss: 0.1602 - mean_absolute_error: 0.2717 - val_loss: 0.1979 - val_mean_absolute_error: 0.3083\n",
      "Epoch 4/20\n",
      "368/368 [==============================] - 1s 3ms/step - loss: 0.1608 - mean_absolute_error: 0.2724 - val_loss: 0.2001 - val_mean_absolute_error: 0.3061\n",
      "Epoch 5/20\n",
      "368/368 [==============================] - 1s 3ms/step - loss: 0.1603 - mean_absolute_error: 0.2721 - val_loss: 0.1997 - val_mean_absolute_error: 0.3068\n",
      "***TRAIN***:\n",
      "correlation related to cluster centre: 0.92\n",
      "r2 score related to cluster centre: 0.84\n",
      "***VALIDATION***:\n",
      "correlation related to cluster centre: 0.91\n",
      "r2 score related to cluster centre: 0.83\n"
     ]
    },
    {
     "data": {
      "application/vnd.jupyter.widget-view+json": {
       "model_id": "e04b4eb078814a3fa2832a55a935eaf5",
       "version_major": 2,
       "version_minor": 0
      },
      "text/plain": [
       "IntProgress(value=0, max=7)"
      ]
     },
     "metadata": {},
     "output_type": "display_data"
    },
    {
     "name": "stdout",
     "output_type": "stream",
     "text": [
      "***VALIDATION***:\n",
      "average correlation: 0.91\n",
      "average r2: 0.83\n",
      "---do_investigations. cluster index : 8---\n"
     ]
    },
    {
     "data": {
      "application/vnd.jupyter.widget-view+json": {
       "model_id": "2c3d714cd9194cdabd49ba3f3bf49304",
       "version_major": 2,
       "version_minor": 0
      },
      "text/plain": [
       "IntProgress(value=0, max=1)"
      ]
     },
     "metadata": {},
     "output_type": "display_data"
    },
    {
     "name": "stdout",
     "output_type": "stream",
     "text": [
      "Epoch 1/20\n",
      "368/368 [==============================] - 2s 3ms/step - loss: 0.2678 - mean_absolute_error: 0.3511 - val_loss: 0.2330 - val_mean_absolute_error: 0.3359\n",
      "Epoch 2/20\n",
      "368/368 [==============================] - 1s 3ms/step - loss: 0.2422 - mean_absolute_error: 0.3281 - val_loss: 0.2354 - val_mean_absolute_error: 0.3364\n",
      "Epoch 3/20\n",
      "368/368 [==============================] - 1s 3ms/step - loss: 0.2399 - mean_absolute_error: 0.3259 - val_loss: 0.2331 - val_mean_absolute_error: 0.3363\n",
      "***TRAIN***:\n",
      "correlation related to cluster centre: 0.87\n",
      "r2 score related to cluster centre: 0.76\n",
      "***VALIDATION***:\n",
      "correlation related to cluster centre: 0.89\n",
      "r2 score related to cluster centre: 0.78\n"
     ]
    },
    {
     "data": {
      "application/vnd.jupyter.widget-view+json": {
       "model_id": "b13a2c84856841539111a42e6f8a6632",
       "version_major": 2,
       "version_minor": 0
      },
      "text/plain": [
       "IntProgress(value=0, max=1)"
      ]
     },
     "metadata": {},
     "output_type": "display_data"
    },
    {
     "name": "stdout",
     "output_type": "stream",
     "text": [
      "***VALIDATION***:\n",
      "average correlation: 0.89\n",
      "average r2: 0.78\n",
      "---do_investigations. cluster index : 9---\n"
     ]
    },
    {
     "data": {
      "application/vnd.jupyter.widget-view+json": {
       "model_id": "5e01658982d94f4b96e9f34b93bd1453",
       "version_major": 2,
       "version_minor": 0
      },
      "text/plain": [
       "IntProgress(value=0, max=3)"
      ]
     },
     "metadata": {},
     "output_type": "display_data"
    },
    {
     "name": "stdout",
     "output_type": "stream",
     "text": [
      "Epoch 1/20\n",
      "368/368 [==============================] - 2s 3ms/step - loss: 0.2497 - mean_absolute_error: 0.3444 - val_loss: 0.2532 - val_mean_absolute_error: 0.3537\n",
      "Epoch 2/20\n",
      "368/368 [==============================] - 1s 3ms/step - loss: 0.1974 - mean_absolute_error: 0.3023 - val_loss: 0.2514 - val_mean_absolute_error: 0.3510\n",
      "Epoch 3/20\n",
      "368/368 [==============================] - 1s 3ms/step - loss: 0.1981 - mean_absolute_error: 0.3033 - val_loss: 0.2490 - val_mean_absolute_error: 0.3461\n",
      "Epoch 4/20\n",
      "368/368 [==============================] - 1s 3ms/step - loss: 0.1961 - mean_absolute_error: 0.3015 - val_loss: 0.2462 - val_mean_absolute_error: 0.3438\n",
      "Epoch 5/20\n",
      "368/368 [==============================] - 1s 2ms/step - loss: 0.1968 - mean_absolute_error: 0.3019 - val_loss: 0.2508 - val_mean_absolute_error: 0.3499\n",
      "Epoch 6/20\n",
      "368/368 [==============================] - 1s 3ms/step - loss: 0.1966 - mean_absolute_error: 0.3016 - val_loss: 0.2519 - val_mean_absolute_error: 0.3493\n",
      "***TRAIN***:\n",
      "correlation related to cluster centre: 0.90\n",
      "r2 score related to cluster centre: 0.80\n",
      "***VALIDATION***:\n",
      "correlation related to cluster centre: 0.91\n",
      "r2 score related to cluster centre: 0.81\n"
     ]
    },
    {
     "data": {
      "application/vnd.jupyter.widget-view+json": {
       "model_id": "86f250cf4b014cdf850710694eb1163a",
       "version_major": 2,
       "version_minor": 0
      },
      "text/plain": [
       "IntProgress(value=0, max=3)"
      ]
     },
     "metadata": {},
     "output_type": "display_data"
    },
    {
     "name": "stdout",
     "output_type": "stream",
     "text": [
      "***VALIDATION***:\n",
      "average correlation: 0.90\n",
      "average r2: 0.81\n",
      "---do_investigations. cluster index : 10---\n"
     ]
    },
    {
     "data": {
      "application/vnd.jupyter.widget-view+json": {
       "model_id": "f0cda9d5fc7d4876b93ffbeb6d2db50f",
       "version_major": 2,
       "version_minor": 0
      },
      "text/plain": [
       "IntProgress(value=0, max=2)"
      ]
     },
     "metadata": {},
     "output_type": "display_data"
    },
    {
     "name": "stdout",
     "output_type": "stream",
     "text": [
      "Epoch 1/20\n",
      "368/368 [==============================] - 2s 3ms/step - loss: 0.2783 - mean_absolute_error: 0.3365 - val_loss: 0.0697 - val_mean_absolute_error: 0.1775\n",
      "Epoch 2/20\n",
      "368/368 [==============================] - 1s 3ms/step - loss: 0.2054 - mean_absolute_error: 0.2874 - val_loss: 0.0707 - val_mean_absolute_error: 0.1784\n",
      "Epoch 3/20\n",
      "368/368 [==============================] - 1s 2ms/step - loss: 0.2046 - mean_absolute_error: 0.2870 - val_loss: 0.0693 - val_mean_absolute_error: 0.1752\n",
      "Epoch 4/20\n",
      "368/368 [==============================] - 1s 2ms/step - loss: 0.2035 - mean_absolute_error: 0.2853 - val_loss: 0.0691 - val_mean_absolute_error: 0.1781\n",
      "Epoch 5/20\n",
      "368/368 [==============================] - 1s 3ms/step - loss: 0.2043 - mean_absolute_error: 0.2864 - val_loss: 0.0690 - val_mean_absolute_error: 0.1778\n",
      "Epoch 6/20\n",
      "368/368 [==============================] - 1s 3ms/step - loss: 0.2036 - mean_absolute_error: 0.2861 - val_loss: 0.0694 - val_mean_absolute_error: 0.1742\n",
      "Epoch 7/20\n",
      "368/368 [==============================] - 1s 3ms/step - loss: 0.2038 - mean_absolute_error: 0.2854 - val_loss: 0.0690 - val_mean_absolute_error: 0.1778\n",
      "***TRAIN***:\n",
      "correlation related to cluster centre: 0.89\n",
      "r2 score related to cluster centre: 0.80\n",
      "***VALIDATION***:\n",
      "correlation related to cluster centre: 0.91\n",
      "r2 score related to cluster centre: 0.83\n"
     ]
    },
    {
     "data": {
      "application/vnd.jupyter.widget-view+json": {
       "model_id": "d184dd500aa14dbc9924df0b63403207",
       "version_major": 2,
       "version_minor": 0
      },
      "text/plain": [
       "IntProgress(value=0, max=2)"
      ]
     },
     "metadata": {},
     "output_type": "display_data"
    },
    {
     "name": "stdout",
     "output_type": "stream",
     "text": [
      "***VALIDATION***:\n",
      "average correlation: 0.92\n",
      "average r2: 0.84\n",
      "---do_investigations. cluster index : 11---\n"
     ]
    },
    {
     "data": {
      "application/vnd.jupyter.widget-view+json": {
       "model_id": "78d55f699fee4c3e9a1bd1b333fd621e",
       "version_major": 2,
       "version_minor": 0
      },
      "text/plain": [
       "IntProgress(value=0, max=1)"
      ]
     },
     "metadata": {},
     "output_type": "display_data"
    },
    {
     "name": "stdout",
     "output_type": "stream",
     "text": [
      "Epoch 1/20\n",
      "368/368 [==============================] - 3s 3ms/step - loss: 0.2602 - mean_absolute_error: 0.2964 - val_loss: 0.3201 - val_mean_absolute_error: 0.3217\n",
      "Epoch 2/20\n",
      "368/368 [==============================] - 1s 3ms/step - loss: 0.2176 - mean_absolute_error: 0.2558 - val_loss: 0.3199 - val_mean_absolute_error: 0.3150\n",
      "Epoch 3/20\n",
      "368/368 [==============================] - 1s 3ms/step - loss: 0.2135 - mean_absolute_error: 0.2528 - val_loss: 0.3436 - val_mean_absolute_error: 0.3252\n",
      "Epoch 4/20\n",
      "368/368 [==============================] - 1s 3ms/step - loss: 0.2154 - mean_absolute_error: 0.2529 - val_loss: 0.3233 - val_mean_absolute_error: 0.3166\n",
      "***TRAIN***:\n",
      "correlation related to cluster centre: 0.89\n",
      "r2 score related to cluster centre: 0.78\n",
      "***VALIDATION***:\n",
      "correlation related to cluster centre: 0.89\n",
      "r2 score related to cluster centre: 0.78\n"
     ]
    },
    {
     "data": {
      "application/vnd.jupyter.widget-view+json": {
       "model_id": "a001695e857747a7ab2ce4fddba0d87b",
       "version_major": 2,
       "version_minor": 0
      },
      "text/plain": [
       "IntProgress(value=0, max=1)"
      ]
     },
     "metadata": {},
     "output_type": "display_data"
    },
    {
     "name": "stdout",
     "output_type": "stream",
     "text": [
      "***VALIDATION***:\n",
      "average correlation: 0.89\n",
      "average r2: 0.78\n",
      "---do_investigations. cluster index : 12---\n"
     ]
    },
    {
     "data": {
      "application/vnd.jupyter.widget-view+json": {
       "model_id": "9cc4ab09e4de4aefa72e593c6e526cbb",
       "version_major": 2,
       "version_minor": 0
      },
      "text/plain": [
       "IntProgress(value=0, max=3)"
      ]
     },
     "metadata": {},
     "output_type": "display_data"
    },
    {
     "name": "stdout",
     "output_type": "stream",
     "text": [
      "Epoch 1/20\n",
      "368/368 [==============================] - 2s 3ms/step - loss: 0.3196 - mean_absolute_error: 0.2689 - val_loss: 0.0050 - val_mean_absolute_error: 0.0498\n",
      "Epoch 2/20\n",
      "368/368 [==============================] - 1s 3ms/step - loss: 0.2516 - mean_absolute_error: 0.2307 - val_loss: 0.0071 - val_mean_absolute_error: 0.0686\n",
      "Epoch 3/20\n",
      "368/368 [==============================] - 1s 3ms/step - loss: 0.2511 - mean_absolute_error: 0.2301 - val_loss: 0.0069 - val_mean_absolute_error: 0.0676\n",
      "***TRAIN***:\n",
      "correlation related to cluster centre: 0.87\n",
      "r2 score related to cluster centre: 0.75\n",
      "***VALIDATION***:\n",
      "correlation related to cluster centre: 0.90\n",
      "r2 score related to cluster centre: 0.65\n"
     ]
    },
    {
     "data": {
      "application/vnd.jupyter.widget-view+json": {
       "model_id": "66580d87b1d9416493da52460d2b05e9",
       "version_major": 2,
       "version_minor": 0
      },
      "text/plain": [
       "IntProgress(value=0, max=3)"
      ]
     },
     "metadata": {},
     "output_type": "display_data"
    },
    {
     "name": "stdout",
     "output_type": "stream",
     "text": [
      "***VALIDATION***:\n",
      "average correlation: 0.90\n",
      "average r2: 0.41\n",
      "---do_investigations. cluster index : 13---\n"
     ]
    },
    {
     "data": {
      "application/vnd.jupyter.widget-view+json": {
       "model_id": "1e92225442614ce384bfeb1f5199b747",
       "version_major": 2,
       "version_minor": 0
      },
      "text/plain": [
       "IntProgress(value=0, max=1)"
      ]
     },
     "metadata": {},
     "output_type": "display_data"
    },
    {
     "name": "stdout",
     "output_type": "stream",
     "text": [
      "Epoch 1/20\n",
      "368/368 [==============================] - 2s 3ms/step - loss: 0.2233 - mean_absolute_error: 0.3018 - val_loss: 0.0982 - val_mean_absolute_error: 0.1977\n",
      "Epoch 2/20\n",
      "368/368 [==============================] - 1s 3ms/step - loss: 0.1479 - mean_absolute_error: 0.2494 - val_loss: 0.0957 - val_mean_absolute_error: 0.1987\n",
      "Epoch 3/20\n",
      "368/368 [==============================] - 1s 3ms/step - loss: 0.1464 - mean_absolute_error: 0.2491 - val_loss: 0.0962 - val_mean_absolute_error: 0.1972\n",
      "Epoch 4/20\n",
      "368/368 [==============================] - 1s 3ms/step - loss: 0.1458 - mean_absolute_error: 0.2479 - val_loss: 0.0973 - val_mean_absolute_error: 0.1961\n",
      "***TRAIN***:\n",
      "correlation related to cluster centre: 0.93\n",
      "r2 score related to cluster centre: 0.86\n",
      "***VALIDATION***:\n",
      "correlation related to cluster centre: 0.93\n",
      "r2 score related to cluster centre: 0.85\n"
     ]
    },
    {
     "data": {
      "application/vnd.jupyter.widget-view+json": {
       "model_id": "4f13c8438cde4ef7933a0d66e6b91647",
       "version_major": 2,
       "version_minor": 0
      },
      "text/plain": [
       "IntProgress(value=0, max=1)"
      ]
     },
     "metadata": {},
     "output_type": "display_data"
    },
    {
     "name": "stdout",
     "output_type": "stream",
     "text": [
      "***VALIDATION***:\n",
      "average correlation: 0.93\n",
      "average r2: 0.85\n",
      "---do_investigations. cluster index : 14---\n"
     ]
    },
    {
     "data": {
      "application/vnd.jupyter.widget-view+json": {
       "model_id": "45c997c2d96648f9a2091ea9a5901838",
       "version_major": 2,
       "version_minor": 0
      },
      "text/plain": [
       "IntProgress(value=0, max=1)"
      ]
     },
     "metadata": {},
     "output_type": "display_data"
    },
    {
     "name": "stdout",
     "output_type": "stream",
     "text": [
      "Epoch 1/20\n",
      "368/368 [==============================] - 2s 3ms/step - loss: 0.2134 - mean_absolute_error: 0.3190 - val_loss: 0.1815 - val_mean_absolute_error: 0.2975\n",
      "Epoch 2/20\n",
      "368/368 [==============================] - 1s 3ms/step - loss: 0.1663 - mean_absolute_error: 0.2792 - val_loss: 0.1824 - val_mean_absolute_error: 0.3056\n",
      "Epoch 3/20\n",
      "368/368 [==============================] - 1s 3ms/step - loss: 0.1652 - mean_absolute_error: 0.2784 - val_loss: 0.1806 - val_mean_absolute_error: 0.3037\n",
      "Epoch 4/20\n",
      "368/368 [==============================] - 1s 3ms/step - loss: 0.1651 - mean_absolute_error: 0.2788 - val_loss: 0.1794 - val_mean_absolute_error: 0.3041\n",
      "Epoch 5/20\n",
      "368/368 [==============================] - 1s 2ms/step - loss: 0.1649 - mean_absolute_error: 0.2779 - val_loss: 0.1796 - val_mean_absolute_error: 0.3031\n",
      "Epoch 6/20\n",
      "368/368 [==============================] - 1s 3ms/step - loss: 0.1645 - mean_absolute_error: 0.2776 - val_loss: 0.1802 - val_mean_absolute_error: 0.2928\n",
      "***TRAIN***:\n",
      "correlation related to cluster centre: 0.92\n",
      "r2 score related to cluster centre: 0.84\n",
      "***VALIDATION***:\n",
      "correlation related to cluster centre: 0.91\n",
      "r2 score related to cluster centre: 0.82\n"
     ]
    },
    {
     "data": {
      "application/vnd.jupyter.widget-view+json": {
       "model_id": "fc83232d93e54d7f8e51d249bd29c1b2",
       "version_major": 2,
       "version_minor": 0
      },
      "text/plain": [
       "IntProgress(value=0, max=1)"
      ]
     },
     "metadata": {},
     "output_type": "display_data"
    },
    {
     "name": "stdout",
     "output_type": "stream",
     "text": [
      "***VALIDATION***:\n",
      "average correlation: 0.91\n",
      "average r2: 0.82\n",
      "weighted_average_correlation: 0.91\n",
      "weighted_average_r2_score: 0.81\n",
      "bad clusters rate: 0.97%\n",
      "------------------------------------------------------\n"
     ]
    }
   ],
   "source": [
    "first_path = r\"C:\\Coding\\final-qualifying-work_2023-2024\\ClusteringCpp\\output\\mst 5.txt\"\n",
    "second_path = r\"C:\\Coding\\final-qualifying-work_2023-2024\\ClusteringCpp\\output\\mst 15.txt\"\n",
    "third_path = r\"C:\\Coding\\final-qualifying-work_2023-2024\\ClusteringCpp\\output\\mst 30.txt\"\n",
    "fourth_path = r\"C:\\Coding\\final-qualifying-work_2023-2024\\ClusteringCpp\\output\\mst 60.txt\"\n",
    "\n",
    "output_file = open(\"computational-experiments-output-mst-1.txt\", \"a\")\n",
    "\n",
    "selected_path = second_path\n",
    "\n",
    "print('------------------------------------------------------')\n",
    "output_file.write('------------------------------------------------------\\n')\n",
    "\n",
    "print(f\"msd {os.path.split(selected_path)[-1]}\")\n",
    "output_file.write(f\"msd {os.path.split(selected_path)[-1]}\\n\")\n",
    "show_results(multi_step_dense_model, get_clusters(selected_path), CONV_WIDTH)\n",
    "\n",
    "print('------------------------------------------------------')\n",
    "output_file.write('------------------------------------------------------\\n')\n",
    "\n",
    "output_file.close()"
   ]
  },
  {
   "cell_type": "code",
   "execution_count": 23,
   "id": "4919f9bb-e69e-489a-8483-a42d4043ac1d",
   "metadata": {},
   "outputs": [
    {
     "name": "stdout",
     "output_type": "stream",
     "text": [
      "------------------------------------------------------\n",
      "msd mst 30.txt\n",
      "---do_investigations. cluster index : 0---\n"
     ]
    },
    {
     "data": {
      "application/vnd.jupyter.widget-view+json": {
       "model_id": "ce22c07c7ce646d5a3045d9d3e9c093c",
       "version_major": 2,
       "version_minor": 0
      },
      "text/plain": [
       "IntProgress(value=0, max=5195)"
      ]
     },
     "metadata": {},
     "output_type": "display_data"
    },
    {
     "name": "stdout",
     "output_type": "stream",
     "text": [
      "Epoch 1/20\n",
      "368/368 [==============================] - 4s 6ms/step - loss: 0.2931 - mean_absolute_error: 0.3440 - val_loss: 0.2205 - val_mean_absolute_error: 0.2879\n",
      "Epoch 2/20\n",
      "368/368 [==============================] - 2s 5ms/step - loss: 0.2065 - mean_absolute_error: 0.2853 - val_loss: 0.2285 - val_mean_absolute_error: 0.2874\n",
      "Epoch 3/20\n",
      "368/368 [==============================] - 2s 4ms/step - loss: 0.2059 - mean_absolute_error: 0.2844 - val_loss: 0.2271 - val_mean_absolute_error: 0.2908\n",
      "***TRAIN***:\n",
      "correlation related to cluster centre: 0.89\n",
      "r2 score related to cluster centre: 0.79\n",
      "***VALIDATION***:\n",
      "correlation related to cluster centre: 0.90\n",
      "r2 score related to cluster centre: 0.80\n"
     ]
    },
    {
     "data": {
      "application/vnd.jupyter.widget-view+json": {
       "model_id": "5b70f669b2de4038bf1fc1f612e245f5",
       "version_major": 2,
       "version_minor": 0
      },
      "text/plain": [
       "IntProgress(value=0, max=5195)"
      ]
     },
     "metadata": {},
     "output_type": "display_data"
    },
    {
     "name": "stdout",
     "output_type": "stream",
     "text": [
      "***VALIDATION***:\n",
      "average correlation: nan\n",
      "average r2: -17359607113316544175233040384.00\n",
      "---do_investigations. cluster index : 1---\n"
     ]
    },
    {
     "data": {
      "application/vnd.jupyter.widget-view+json": {
       "model_id": "4dc9edf36f7f4aee8fa591f58e2068fe",
       "version_major": 2,
       "version_minor": 0
      },
      "text/plain": [
       "IntProgress(value=0, max=60)"
      ]
     },
     "metadata": {},
     "output_type": "display_data"
    },
    {
     "name": "stdout",
     "output_type": "stream",
     "text": [
      "Epoch 1/20\n",
      "368/368 [==============================] - 3s 4ms/step - loss: 0.2462 - mean_absolute_error: 0.3497 - val_loss: 0.1846 - val_mean_absolute_error: 0.2998\n",
      "Epoch 2/20\n",
      "368/368 [==============================] - 1s 3ms/step - loss: 0.2058 - mean_absolute_error: 0.3078 - val_loss: 0.1833 - val_mean_absolute_error: 0.2969\n",
      "Epoch 3/20\n",
      "368/368 [==============================] - 1s 3ms/step - loss: 0.2057 - mean_absolute_error: 0.3070 - val_loss: 0.1842 - val_mean_absolute_error: 0.2986\n",
      "Epoch 4/20\n",
      "368/368 [==============================] - 1s 3ms/step - loss: 0.2059 - mean_absolute_error: 0.3067 - val_loss: 0.1850 - val_mean_absolute_error: 0.2986\n",
      "***TRAIN***:\n",
      "correlation related to cluster centre: 0.89\n",
      "r2 score related to cluster centre: 0.79\n",
      "***VALIDATION***:\n",
      "correlation related to cluster centre: 0.91\n",
      "r2 score related to cluster centre: 0.82\n"
     ]
    },
    {
     "data": {
      "application/vnd.jupyter.widget-view+json": {
       "model_id": "3db880fab533494895f397d7451e4fa7",
       "version_major": 2,
       "version_minor": 0
      },
      "text/plain": [
       "IntProgress(value=0, max=60)"
      ]
     },
     "metadata": {},
     "output_type": "display_data"
    },
    {
     "name": "stdout",
     "output_type": "stream",
     "text": [
      "***VALIDATION***:\n",
      "average correlation: 0.90\n",
      "average r2: 0.81\n",
      "---do_investigations. cluster index : 2---\n"
     ]
    },
    {
     "data": {
      "application/vnd.jupyter.widget-view+json": {
       "model_id": "490b9fdffafb4702b495f74a13da6495",
       "version_major": 2,
       "version_minor": 0
      },
      "text/plain": [
       "IntProgress(value=0, max=64)"
      ]
     },
     "metadata": {},
     "output_type": "display_data"
    },
    {
     "name": "stdout",
     "output_type": "stream",
     "text": [
      "Epoch 1/20\n",
      "368/368 [==============================] - 2s 4ms/step - loss: 0.2559 - mean_absolute_error: 0.3384 - val_loss: 0.1782 - val_mean_absolute_error: 0.3005\n",
      "Epoch 2/20\n",
      "368/368 [==============================] - 1s 3ms/step - loss: 0.2105 - mean_absolute_error: 0.3048 - val_loss: 0.1753 - val_mean_absolute_error: 0.2867\n",
      "Epoch 3/20\n",
      "368/368 [==============================] - 1s 3ms/step - loss: 0.2104 - mean_absolute_error: 0.3048 - val_loss: 0.1657 - val_mean_absolute_error: 0.2824\n",
      "Epoch 4/20\n",
      "368/368 [==============================] - 1s 3ms/step - loss: 0.2102 - mean_absolute_error: 0.3042 - val_loss: 0.1717 - val_mean_absolute_error: 0.2829\n",
      "Epoch 5/20\n",
      "368/368 [==============================] - 1s 3ms/step - loss: 0.2086 - mean_absolute_error: 0.3024 - val_loss: 0.1664 - val_mean_absolute_error: 0.2782\n",
      "***TRAIN***:\n",
      "correlation related to cluster centre: 0.89\n",
      "r2 score related to cluster centre: 0.79\n",
      "***VALIDATION***:\n",
      "correlation related to cluster centre: 0.90\n",
      "r2 score related to cluster centre: 0.81\n"
     ]
    },
    {
     "data": {
      "application/vnd.jupyter.widget-view+json": {
       "model_id": "3bc978080e5a4b95ac67cfd03e5bd669",
       "version_major": 2,
       "version_minor": 0
      },
      "text/plain": [
       "IntProgress(value=0, max=64)"
      ]
     },
     "metadata": {},
     "output_type": "display_data"
    },
    {
     "name": "stdout",
     "output_type": "stream",
     "text": [
      "***VALIDATION***:\n",
      "average correlation: 0.90\n",
      "average r2: 0.81\n",
      "---do_investigations. cluster index : 3---\n"
     ]
    },
    {
     "data": {
      "application/vnd.jupyter.widget-view+json": {
       "model_id": "4ec54a4c729842e9bd27e25af2858435",
       "version_major": 2,
       "version_minor": 0
      },
      "text/plain": [
       "IntProgress(value=0, max=60)"
      ]
     },
     "metadata": {},
     "output_type": "display_data"
    },
    {
     "name": "stdout",
     "output_type": "stream",
     "text": [
      "Epoch 1/20\n",
      "368/368 [==============================] - 2s 4ms/step - loss: 0.2464 - mean_absolute_error: 0.3423 - val_loss: 0.1620 - val_mean_absolute_error: 0.2853\n",
      "Epoch 2/20\n",
      "368/368 [==============================] - 1s 3ms/step - loss: 0.2129 - mean_absolute_error: 0.3113 - val_loss: 0.1550 - val_mean_absolute_error: 0.2751\n",
      "Epoch 3/20\n",
      "368/368 [==============================] - 1s 3ms/step - loss: 0.2133 - mean_absolute_error: 0.3116 - val_loss: 0.1536 - val_mean_absolute_error: 0.2773\n",
      "Epoch 4/20\n",
      "368/368 [==============================] - 1s 3ms/step - loss: 0.2140 - mean_absolute_error: 0.3117 - val_loss: 0.1573 - val_mean_absolute_error: 0.2753\n",
      "Epoch 5/20\n",
      "368/368 [==============================] - 1s 3ms/step - loss: 0.2108 - mean_absolute_error: 0.3094 - val_loss: 0.1548 - val_mean_absolute_error: 0.2779\n",
      "***TRAIN***:\n",
      "correlation related to cluster centre: 0.89\n",
      "r2 score related to cluster centre: 0.79\n",
      "***VALIDATION***:\n",
      "correlation related to cluster centre: 0.91\n",
      "r2 score related to cluster centre: 0.82\n"
     ]
    },
    {
     "data": {
      "application/vnd.jupyter.widget-view+json": {
       "model_id": "0a4eebc0391e4cb48c2dd53009fa228f",
       "version_major": 2,
       "version_minor": 0
      },
      "text/plain": [
       "IntProgress(value=0, max=60)"
      ]
     },
     "metadata": {},
     "output_type": "display_data"
    },
    {
     "name": "stdout",
     "output_type": "stream",
     "text": [
      "***VALIDATION***:\n",
      "average correlation: 0.90\n",
      "average r2: 0.81\n",
      "---do_investigations. cluster index : 4---\n"
     ]
    },
    {
     "data": {
      "application/vnd.jupyter.widget-view+json": {
       "model_id": "af7eee21cbaa4974a15d57aad65502cc",
       "version_major": 2,
       "version_minor": 0
      },
      "text/plain": [
       "IntProgress(value=0, max=13)"
      ]
     },
     "metadata": {},
     "output_type": "display_data"
    },
    {
     "name": "stdout",
     "output_type": "stream",
     "text": [
      "Epoch 1/20\n",
      "368/368 [==============================] - 2s 4ms/step - loss: 0.3281 - mean_absolute_error: 0.3799 - val_loss: 0.1820 - val_mean_absolute_error: 0.3035\n",
      "Epoch 2/20\n",
      "368/368 [==============================] - 1s 3ms/step - loss: 0.2050 - mean_absolute_error: 0.3110 - val_loss: 0.1774 - val_mean_absolute_error: 0.2999\n",
      "Epoch 3/20\n",
      "368/368 [==============================] - 1s 3ms/step - loss: 0.2043 - mean_absolute_error: 0.3109 - val_loss: 0.1793 - val_mean_absolute_error: 0.3060\n",
      "Epoch 4/20\n",
      "368/368 [==============================] - 1s 3ms/step - loss: 0.2044 - mean_absolute_error: 0.3100 - val_loss: 0.1780 - val_mean_absolute_error: 0.3014\n",
      "***TRAIN***:\n",
      "correlation related to cluster centre: 0.89\n",
      "r2 score related to cluster centre: 0.80\n",
      "***VALIDATION***:\n",
      "correlation related to cluster centre: 0.91\n",
      "r2 score related to cluster centre: 0.82\n"
     ]
    },
    {
     "data": {
      "application/vnd.jupyter.widget-view+json": {
       "model_id": "5f69ddd35b0a4aef9c6fbda4965c1b95",
       "version_major": 2,
       "version_minor": 0
      },
      "text/plain": [
       "IntProgress(value=0, max=13)"
      ]
     },
     "metadata": {},
     "output_type": "display_data"
    },
    {
     "name": "stdout",
     "output_type": "stream",
     "text": [
      "***VALIDATION***:\n",
      "average correlation: 0.91\n",
      "average r2: 0.82\n",
      "---do_investigations. cluster index : 5---\n"
     ]
    },
    {
     "data": {
      "application/vnd.jupyter.widget-view+json": {
       "model_id": "4963542c67684bac885ffa23b7064176",
       "version_major": 2,
       "version_minor": 0
      },
      "text/plain": [
       "IntProgress(value=0, max=102)"
      ]
     },
     "metadata": {},
     "output_type": "display_data"
    },
    {
     "name": "stdout",
     "output_type": "stream",
     "text": [
      "Epoch 1/20\n",
      "368/368 [==============================] - 3s 4ms/step - loss: 0.2434 - mean_absolute_error: 0.3376 - val_loss: 0.1380 - val_mean_absolute_error: 0.2550\n",
      "Epoch 2/20\n",
      "368/368 [==============================] - 1s 3ms/step - loss: 0.1933 - mean_absolute_error: 0.2991 - val_loss: 0.1365 - val_mean_absolute_error: 0.2664\n",
      "Epoch 3/20\n",
      "368/368 [==============================] - 1s 3ms/step - loss: 0.1926 - mean_absolute_error: 0.2987 - val_loss: 0.1362 - val_mean_absolute_error: 0.2646\n",
      "Epoch 4/20\n",
      "368/368 [==============================] - 1s 3ms/step - loss: 0.1921 - mean_absolute_error: 0.2980 - val_loss: 0.1350 - val_mean_absolute_error: 0.2609\n",
      "Epoch 5/20\n",
      "368/368 [==============================] - 1s 3ms/step - loss: 0.1927 - mean_absolute_error: 0.2984 - val_loss: 0.1362 - val_mean_absolute_error: 0.2658\n",
      "Epoch 6/20\n",
      "368/368 [==============================] - 1s 3ms/step - loss: 0.1922 - mean_absolute_error: 0.2983 - val_loss: 0.1356 - val_mean_absolute_error: 0.2636\n",
      "***TRAIN***:\n",
      "correlation related to cluster centre: 0.90\n",
      "r2 score related to cluster centre: 0.81\n",
      "***VALIDATION***:\n",
      "correlation related to cluster centre: 0.91\n",
      "r2 score related to cluster centre: 0.83\n"
     ]
    },
    {
     "data": {
      "application/vnd.jupyter.widget-view+json": {
       "model_id": "c74c3f80d7db4e2eab9cef9815e0f78d",
       "version_major": 2,
       "version_minor": 0
      },
      "text/plain": [
       "IntProgress(value=0, max=102)"
      ]
     },
     "metadata": {},
     "output_type": "display_data"
    },
    {
     "name": "stdout",
     "output_type": "stream",
     "text": [
      "***VALIDATION***:\n",
      "average correlation: 0.91\n",
      "average r2: 0.83\n",
      "---do_investigations. cluster index : 6---\n"
     ]
    },
    {
     "data": {
      "application/vnd.jupyter.widget-view+json": {
       "model_id": "77e5c3b38e9142ba9a45425fd5f0ea5c",
       "version_major": 2,
       "version_minor": 0
      },
      "text/plain": [
       "IntProgress(value=0, max=4)"
      ]
     },
     "metadata": {},
     "output_type": "display_data"
    },
    {
     "name": "stdout",
     "output_type": "stream",
     "text": [
      "Epoch 1/20\n",
      "368/368 [==============================] - 2s 4ms/step - loss: 0.2267 - mean_absolute_error: 0.3226 - val_loss: 0.2090 - val_mean_absolute_error: 0.3209\n",
      "Epoch 2/20\n",
      "368/368 [==============================] - 1s 3ms/step - loss: 0.1628 - mean_absolute_error: 0.2739 - val_loss: 0.2106 - val_mean_absolute_error: 0.3139\n",
      "Epoch 3/20\n",
      "368/368 [==============================] - 1s 3ms/step - loss: 0.1617 - mean_absolute_error: 0.2726 - val_loss: 0.2113 - val_mean_absolute_error: 0.3159\n",
      "***TRAIN***:\n",
      "correlation related to cluster centre: 0.92\n",
      "r2 score related to cluster centre: 0.84\n",
      "***VALIDATION***:\n",
      "correlation related to cluster centre: 0.91\n",
      "r2 score related to cluster centre: 0.83\n"
     ]
    },
    {
     "data": {
      "application/vnd.jupyter.widget-view+json": {
       "model_id": "9a7dc6928dd9463ca4afe7220404e5c7",
       "version_major": 2,
       "version_minor": 0
      },
      "text/plain": [
       "IntProgress(value=0, max=4)"
      ]
     },
     "metadata": {},
     "output_type": "display_data"
    },
    {
     "name": "stdout",
     "output_type": "stream",
     "text": [
      "***VALIDATION***:\n",
      "average correlation: 0.91\n",
      "average r2: 0.83\n",
      "---do_investigations. cluster index : 7---\n"
     ]
    },
    {
     "data": {
      "application/vnd.jupyter.widget-view+json": {
       "model_id": "fa10b28c41e64132a11cc29896fab423",
       "version_major": 2,
       "version_minor": 0
      },
      "text/plain": [
       "IntProgress(value=0, max=40)"
      ]
     },
     "metadata": {},
     "output_type": "display_data"
    },
    {
     "name": "stdout",
     "output_type": "stream",
     "text": [
      "Epoch 1/20\n",
      "368/368 [==============================] - 2s 3ms/step - loss: 0.2473 - mean_absolute_error: 0.3472 - val_loss: 0.1503 - val_mean_absolute_error: 0.2692\n",
      "Epoch 2/20\n",
      "368/368 [==============================] - 1s 3ms/step - loss: 0.1907 - mean_absolute_error: 0.3020 - val_loss: 0.1497 - val_mean_absolute_error: 0.2661\n",
      "Epoch 3/20\n",
      "368/368 [==============================] - 1s 3ms/step - loss: 0.1904 - mean_absolute_error: 0.3017 - val_loss: 0.1488 - val_mean_absolute_error: 0.2689\n",
      "Epoch 4/20\n",
      "368/368 [==============================] - 1s 3ms/step - loss: 0.1905 - mean_absolute_error: 0.3023 - val_loss: 0.1504 - val_mean_absolute_error: 0.2655\n",
      "Epoch 5/20\n",
      "368/368 [==============================] - 1s 3ms/step - loss: 0.1886 - mean_absolute_error: 0.3002 - val_loss: 0.1492 - val_mean_absolute_error: 0.2665\n",
      "***TRAIN***:\n",
      "correlation related to cluster centre: 0.90\n",
      "r2 score related to cluster centre: 0.81\n",
      "***VALIDATION***:\n",
      "correlation related to cluster centre: 0.91\n",
      "r2 score related to cluster centre: 0.83\n"
     ]
    },
    {
     "data": {
      "application/vnd.jupyter.widget-view+json": {
       "model_id": "c947b9dca50640e8870d85575cb2d54e",
       "version_major": 2,
       "version_minor": 0
      },
      "text/plain": [
       "IntProgress(value=0, max=40)"
      ]
     },
     "metadata": {},
     "output_type": "display_data"
    },
    {
     "name": "stdout",
     "output_type": "stream",
     "text": [
      "***VALIDATION***:\n",
      "average correlation: 0.91\n",
      "average r2: 0.83\n",
      "---do_investigations. cluster index : 8---\n"
     ]
    },
    {
     "data": {
      "application/vnd.jupyter.widget-view+json": {
       "model_id": "4661275c222b4faa86d9d1f730403d3c",
       "version_major": 2,
       "version_minor": 0
      },
      "text/plain": [
       "IntProgress(value=0, max=1996)"
      ]
     },
     "metadata": {},
     "output_type": "display_data"
    },
    {
     "name": "stdout",
     "output_type": "stream",
     "text": [
      "Epoch 1/20\n",
      "368/368 [==============================] - 2s 4ms/step - loss: 0.2524 - mean_absolute_error: 0.3562 - val_loss: 0.1846 - val_mean_absolute_error: 0.2950\n",
      "Epoch 2/20\n",
      "368/368 [==============================] - 1s 3ms/step - loss: 0.2011 - mean_absolute_error: 0.3120 - val_loss: 0.1823 - val_mean_absolute_error: 0.2854\n",
      "Epoch 3/20\n",
      "368/368 [==============================] - 1s 3ms/step - loss: 0.1999 - mean_absolute_error: 0.3104 - val_loss: 0.1824 - val_mean_absolute_error: 0.2869\n",
      "Epoch 4/20\n",
      "368/368 [==============================] - 1s 3ms/step - loss: 0.2003 - mean_absolute_error: 0.3107 - val_loss: 0.1814 - val_mean_absolute_error: 0.2857\n",
      "Epoch 5/20\n",
      "368/368 [==============================] - 1s 3ms/step - loss: 0.1988 - mean_absolute_error: 0.3094 - val_loss: 0.1819 - val_mean_absolute_error: 0.2844\n",
      "Epoch 6/20\n",
      "368/368 [==============================] - 1s 3ms/step - loss: 0.1995 - mean_absolute_error: 0.3101 - val_loss: 0.1866 - val_mean_absolute_error: 0.2973\n",
      "***TRAIN***:\n",
      "correlation related to cluster centre: 0.90\n",
      "r2 score related to cluster centre: 0.80\n",
      "***VALIDATION***:\n",
      "correlation related to cluster centre: 0.91\n",
      "r2 score related to cluster centre: 0.82\n"
     ]
    },
    {
     "data": {
      "application/vnd.jupyter.widget-view+json": {
       "model_id": "0976927087b14f56848fbe39bd51ddb0",
       "version_major": 2,
       "version_minor": 0
      },
      "text/plain": [
       "IntProgress(value=0, max=1996)"
      ]
     },
     "metadata": {},
     "output_type": "display_data"
    },
    {
     "name": "stdout",
     "output_type": "stream",
     "text": [
      "***VALIDATION***:\n",
      "average correlation: 0.90\n",
      "average r2: -1.92\n",
      "---do_investigations. cluster index : 9---\n"
     ]
    },
    {
     "data": {
      "application/vnd.jupyter.widget-view+json": {
       "model_id": "c99aad76e2f948dcb6eace6bd0ec0868",
       "version_major": 2,
       "version_minor": 0
      },
      "text/plain": [
       "IntProgress(value=0, max=62)"
      ]
     },
     "metadata": {},
     "output_type": "display_data"
    },
    {
     "name": "stdout",
     "output_type": "stream",
     "text": [
      "Epoch 1/20\n",
      "368/368 [==============================] - 3s 4ms/step - loss: 0.2743 - mean_absolute_error: 0.3300 - val_loss: 0.1772 - val_mean_absolute_error: 0.2897\n",
      "Epoch 2/20\n",
      "368/368 [==============================] - 1s 3ms/step - loss: 0.2092 - mean_absolute_error: 0.2941 - val_loss: 0.1662 - val_mean_absolute_error: 0.2758\n",
      "Epoch 3/20\n",
      "368/368 [==============================] - 1s 3ms/step - loss: 0.2090 - mean_absolute_error: 0.2920 - val_loss: 0.1692 - val_mean_absolute_error: 0.2739\n",
      "Epoch 4/20\n",
      "368/368 [==============================] - 1s 3ms/step - loss: 0.2074 - mean_absolute_error: 0.2909 - val_loss: 0.1689 - val_mean_absolute_error: 0.2858\n",
      "***TRAIN***:\n",
      "correlation related to cluster centre: 0.89\n",
      "r2 score related to cluster centre: 0.79\n",
      "***VALIDATION***:\n",
      "correlation related to cluster centre: 0.91\n",
      "r2 score related to cluster centre: 0.81\n"
     ]
    },
    {
     "data": {
      "application/vnd.jupyter.widget-view+json": {
       "model_id": "5e8c474b698c45c0bbae062b1d0bb915",
       "version_major": 2,
       "version_minor": 0
      },
      "text/plain": [
       "IntProgress(value=0, max=62)"
      ]
     },
     "metadata": {},
     "output_type": "display_data"
    },
    {
     "name": "stdout",
     "output_type": "stream",
     "text": [
      "***VALIDATION***:\n",
      "average correlation: 0.90\n",
      "average r2: 0.81\n",
      "---do_investigations. cluster index : 10---\n"
     ]
    },
    {
     "data": {
      "application/vnd.jupyter.widget-view+json": {
       "model_id": "46735eb86d3044babb2add11061d89af",
       "version_major": 2,
       "version_minor": 0
      },
      "text/plain": [
       "IntProgress(value=0, max=5)"
      ]
     },
     "metadata": {},
     "output_type": "display_data"
    },
    {
     "name": "stdout",
     "output_type": "stream",
     "text": [
      "Epoch 1/20\n",
      "368/368 [==============================] - 9s 4ms/step - loss: 0.2700 - mean_absolute_error: 0.3467 - val_loss: 0.2350 - val_mean_absolute_error: 0.3192\n",
      "Epoch 2/20\n",
      "368/368 [==============================] - 1s 4ms/step - loss: 0.2086 - mean_absolute_error: 0.2990 - val_loss: 0.2343 - val_mean_absolute_error: 0.3203\n",
      "Epoch 3/20\n",
      "368/368 [==============================] - 1s 3ms/step - loss: 0.2086 - mean_absolute_error: 0.2992 - val_loss: 0.2339 - val_mean_absolute_error: 0.3178\n",
      "Epoch 4/20\n",
      "368/368 [==============================] - 1s 3ms/step - loss: 0.2072 - mean_absolute_error: 0.2975 - val_loss: 0.2336 - val_mean_absolute_error: 0.3209\n",
      "Epoch 5/20\n",
      "368/368 [==============================] - 1s 3ms/step - loss: 0.2078 - mean_absolute_error: 0.2986 - val_loss: 0.2345 - val_mean_absolute_error: 0.3184\n",
      "Epoch 6/20\n",
      "368/368 [==============================] - 1s 3ms/step - loss: 0.2066 - mean_absolute_error: 0.2968 - val_loss: 0.2342 - val_mean_absolute_error: 0.3187\n",
      "***TRAIN***:\n",
      "correlation related to cluster centre: 0.89\n",
      "r2 score related to cluster centre: 0.79\n",
      "***VALIDATION***:\n",
      "correlation related to cluster centre: 0.90\n",
      "r2 score related to cluster centre: 0.82\n"
     ]
    },
    {
     "data": {
      "application/vnd.jupyter.widget-view+json": {
       "model_id": "939945020e32491ba02b4b5bad582572",
       "version_major": 2,
       "version_minor": 0
      },
      "text/plain": [
       "IntProgress(value=0, max=5)"
      ]
     },
     "metadata": {},
     "output_type": "display_data"
    },
    {
     "name": "stdout",
     "output_type": "stream",
     "text": [
      "***VALIDATION***:\n",
      "average correlation: 0.90\n",
      "average r2: 0.81\n",
      "---do_investigations. cluster index : 11---\n"
     ]
    },
    {
     "data": {
      "application/vnd.jupyter.widget-view+json": {
       "model_id": "e0f233cb52074c9e89ea71631afbc0fb",
       "version_major": 2,
       "version_minor": 0
      },
      "text/plain": [
       "IntProgress(value=0, max=9)"
      ]
     },
     "metadata": {},
     "output_type": "display_data"
    },
    {
     "name": "stdout",
     "output_type": "stream",
     "text": [
      "Epoch 1/20\n",
      "368/368 [==============================] - 2s 3ms/step - loss: 0.2279 - mean_absolute_error: 0.3346 - val_loss: 0.1647 - val_mean_absolute_error: 0.2885\n",
      "Epoch 2/20\n",
      "368/368 [==============================] - 1s 3ms/step - loss: 0.1875 - mean_absolute_error: 0.2984 - val_loss: 0.1667 - val_mean_absolute_error: 0.2850\n",
      "Epoch 3/20\n",
      "368/368 [==============================] - 1s 3ms/step - loss: 0.1866 - mean_absolute_error: 0.2969 - val_loss: 0.1620 - val_mean_absolute_error: 0.2865\n",
      "Epoch 4/20\n",
      "368/368 [==============================] - 1s 3ms/step - loss: 0.1858 - mean_absolute_error: 0.2961 - val_loss: 0.1624 - val_mean_absolute_error: 0.2850\n",
      "Epoch 5/20\n",
      "368/368 [==============================] - 1s 3ms/step - loss: 0.1867 - mean_absolute_error: 0.2967 - val_loss: 0.1605 - val_mean_absolute_error: 0.2801\n",
      "Epoch 6/20\n",
      "368/368 [==============================] - 1s 3ms/step - loss: 0.1857 - mean_absolute_error: 0.2962 - val_loss: 0.1608 - val_mean_absolute_error: 0.2810\n",
      "Epoch 7/20\n",
      "368/368 [==============================] - 1s 3ms/step - loss: 0.1854 - mean_absolute_error: 0.2957 - val_loss: 0.1605 - val_mean_absolute_error: 0.2782\n",
      "***TRAIN***:\n",
      "correlation related to cluster centre: 0.90\n",
      "r2 score related to cluster centre: 0.82\n",
      "***VALIDATION***:\n",
      "correlation related to cluster centre: 0.91\n",
      "r2 score related to cluster centre: 0.83\n"
     ]
    },
    {
     "data": {
      "application/vnd.jupyter.widget-view+json": {
       "model_id": "5de5f407d1da43b197a948f404e4a0e2",
       "version_major": 2,
       "version_minor": 0
      },
      "text/plain": [
       "IntProgress(value=0, max=9)"
      ]
     },
     "metadata": {},
     "output_type": "display_data"
    },
    {
     "name": "stdout",
     "output_type": "stream",
     "text": [
      "***VALIDATION***:\n",
      "average correlation: 0.91\n",
      "average r2: 0.83\n",
      "---do_investigations. cluster index : 12---\n"
     ]
    },
    {
     "data": {
      "application/vnd.jupyter.widget-view+json": {
       "model_id": "68e778ae632245ebad0d80e23bcacef5",
       "version_major": 2,
       "version_minor": 0
      },
      "text/plain": [
       "IntProgress(value=0, max=7)"
      ]
     },
     "metadata": {},
     "output_type": "display_data"
    },
    {
     "name": "stdout",
     "output_type": "stream",
     "text": [
      "Epoch 1/20\n",
      "368/368 [==============================] - 2s 3ms/step - loss: 0.2041 - mean_absolute_error: 0.3118 - val_loss: 0.2033 - val_mean_absolute_error: 0.3179\n",
      "Epoch 2/20\n",
      "368/368 [==============================] - 1s 3ms/step - loss: 0.1613 - mean_absolute_error: 0.2723 - val_loss: 0.2048 - val_mean_absolute_error: 0.3195\n",
      "Epoch 3/20\n",
      "368/368 [==============================] - 1s 3ms/step - loss: 0.1597 - mean_absolute_error: 0.2706 - val_loss: 0.2011 - val_mean_absolute_error: 0.3125\n",
      "Epoch 4/20\n",
      "368/368 [==============================] - 1s 3ms/step - loss: 0.1600 - mean_absolute_error: 0.2709 - val_loss: 0.1996 - val_mean_absolute_error: 0.3137\n",
      "Epoch 5/20\n",
      "368/368 [==============================] - 1s 3ms/step - loss: 0.1597 - mean_absolute_error: 0.2708 - val_loss: 0.2015 - val_mean_absolute_error: 0.3121\n",
      "Epoch 6/20\n",
      "368/368 [==============================] - 1s 3ms/step - loss: 0.1592 - mean_absolute_error: 0.2705 - val_loss: 0.2006 - val_mean_absolute_error: 0.3132\n",
      "***TRAIN***:\n",
      "correlation related to cluster centre: 0.92\n",
      "r2 score related to cluster centre: 0.84\n",
      "***VALIDATION***:\n",
      "correlation related to cluster centre: 0.91\n",
      "r2 score related to cluster centre: 0.83\n"
     ]
    },
    {
     "data": {
      "application/vnd.jupyter.widget-view+json": {
       "model_id": "b5bc09fd38d2455db4d4f81f7d4550c0",
       "version_major": 2,
       "version_minor": 0
      },
      "text/plain": [
       "IntProgress(value=0, max=7)"
      ]
     },
     "metadata": {},
     "output_type": "display_data"
    },
    {
     "name": "stdout",
     "output_type": "stream",
     "text": [
      "***VALIDATION***:\n",
      "average correlation: 0.91\n",
      "average r2: 0.83\n",
      "---do_investigations. cluster index : 13---\n"
     ]
    },
    {
     "data": {
      "application/vnd.jupyter.widget-view+json": {
       "model_id": "5c11b9958a7943a1acb3bbcccf95fd37",
       "version_major": 2,
       "version_minor": 0
      },
      "text/plain": [
       "IntProgress(value=0, max=1)"
      ]
     },
     "metadata": {},
     "output_type": "display_data"
    },
    {
     "name": "stdout",
     "output_type": "stream",
     "text": [
      "Epoch 1/20\n",
      "368/368 [==============================] - 2s 3ms/step - loss: 0.2760 - mean_absolute_error: 0.3624 - val_loss: 0.2295 - val_mean_absolute_error: 0.3367\n",
      "Epoch 2/20\n",
      "368/368 [==============================] - 1s 3ms/step - loss: 0.2423 - mean_absolute_error: 0.3280 - val_loss: 0.2271 - val_mean_absolute_error: 0.3336\n",
      "Epoch 3/20\n",
      "368/368 [==============================] - 1s 3ms/step - loss: 0.2416 - mean_absolute_error: 0.3272 - val_loss: 0.2339 - val_mean_absolute_error: 0.3402\n",
      "Epoch 4/20\n",
      "368/368 [==============================] - 1s 3ms/step - loss: 0.2402 - mean_absolute_error: 0.3259 - val_loss: 0.2235 - val_mean_absolute_error: 0.3271\n",
      "Epoch 5/20\n",
      "368/368 [==============================] - 1s 3ms/step - loss: 0.2404 - mean_absolute_error: 0.3263 - val_loss: 0.2262 - val_mean_absolute_error: 0.3288\n",
      "Epoch 6/20\n",
      "368/368 [==============================] - 1s 3ms/step - loss: 0.2388 - mean_absolute_error: 0.3246 - val_loss: 0.2225 - val_mean_absolute_error: 0.3221\n",
      "Epoch 7/20\n",
      "368/368 [==============================] - 1s 3ms/step - loss: 0.2410 - mean_absolute_error: 0.3266 - val_loss: 0.2230 - val_mean_absolute_error: 0.3204\n",
      "Epoch 8/20\n",
      "368/368 [==============================] - 1s 3ms/step - loss: 0.2378 - mean_absolute_error: 0.3241 - val_loss: 0.2229 - val_mean_absolute_error: 0.3204\n",
      "***TRAIN***:\n",
      "correlation related to cluster centre: 0.88\n",
      "r2 score related to cluster centre: 0.77\n",
      "***VALIDATION***:\n",
      "correlation related to cluster centre: 0.89\n",
      "r2 score related to cluster centre: 0.79\n"
     ]
    },
    {
     "data": {
      "application/vnd.jupyter.widget-view+json": {
       "model_id": "f597fc2b8bf240bc8d5bbdc156c6b2d6",
       "version_major": 2,
       "version_minor": 0
      },
      "text/plain": [
       "IntProgress(value=0, max=1)"
      ]
     },
     "metadata": {},
     "output_type": "display_data"
    },
    {
     "name": "stdout",
     "output_type": "stream",
     "text": [
      "***VALIDATION***:\n",
      "average correlation: 0.89\n",
      "average r2: 0.79\n",
      "---do_investigations. cluster index : 14---\n"
     ]
    },
    {
     "data": {
      "application/vnd.jupyter.widget-view+json": {
       "model_id": "35310c1c84d74784aa365c00d2c5fa2d",
       "version_major": 2,
       "version_minor": 0
      },
      "text/plain": [
       "IntProgress(value=0, max=3)"
      ]
     },
     "metadata": {},
     "output_type": "display_data"
    },
    {
     "name": "stdout",
     "output_type": "stream",
     "text": [
      "Epoch 1/20\n",
      "368/368 [==============================] - 2s 3ms/step - loss: 0.2627 - mean_absolute_error: 0.3600 - val_loss: 0.2437 - val_mean_absolute_error: 0.3429\n",
      "Epoch 2/20\n",
      "368/368 [==============================] - 1s 3ms/step - loss: 0.1973 - mean_absolute_error: 0.3022 - val_loss: 0.2412 - val_mean_absolute_error: 0.3400\n",
      "Epoch 3/20\n",
      "368/368 [==============================] - 1s 3ms/step - loss: 0.1976 - mean_absolute_error: 0.3025 - val_loss: 0.2453 - val_mean_absolute_error: 0.3444\n",
      "Epoch 4/20\n",
      "368/368 [==============================] - 1s 3ms/step - loss: 0.1961 - mean_absolute_error: 0.3012 - val_loss: 0.2418 - val_mean_absolute_error: 0.3358\n",
      "***TRAIN***:\n",
      "correlation related to cluster centre: 0.90\n",
      "r2 score related to cluster centre: 0.81\n",
      "***VALIDATION***:\n",
      "correlation related to cluster centre: 0.91\n",
      "r2 score related to cluster centre: 0.82\n"
     ]
    },
    {
     "data": {
      "application/vnd.jupyter.widget-view+json": {
       "model_id": "836c09cc0c7848a89bbd40854e5a8886",
       "version_major": 2,
       "version_minor": 0
      },
      "text/plain": [
       "IntProgress(value=0, max=3)"
      ]
     },
     "metadata": {},
     "output_type": "display_data"
    },
    {
     "name": "stdout",
     "output_type": "stream",
     "text": [
      "***VALIDATION***:\n",
      "average correlation: 0.90\n",
      "average r2: 0.82\n",
      "---do_investigations. cluster index : 15---\n"
     ]
    },
    {
     "data": {
      "application/vnd.jupyter.widget-view+json": {
       "model_id": "01e79eb7c95a4d079ddb75e55cf89c62",
       "version_major": 2,
       "version_minor": 0
      },
      "text/plain": [
       "IntProgress(value=0, max=1)"
      ]
     },
     "metadata": {},
     "output_type": "display_data"
    },
    {
     "name": "stdout",
     "output_type": "stream",
     "text": [
      "Epoch 1/20\n",
      "368/368 [==============================] - 2s 3ms/step - loss: 0.2488 - mean_absolute_error: 0.3288 - val_loss: 0.1068 - val_mean_absolute_error: 0.2190\n",
      "Epoch 2/20\n",
      "368/368 [==============================] - 1s 3ms/step - loss: 0.2124 - mean_absolute_error: 0.3013 - val_loss: 0.1070 - val_mean_absolute_error: 0.2216\n",
      "Epoch 3/20\n",
      "368/368 [==============================] - 1s 3ms/step - loss: 0.2119 - mean_absolute_error: 0.3002 - val_loss: 0.1074 - val_mean_absolute_error: 0.2169\n",
      "***TRAIN***:\n",
      "correlation related to cluster centre: 0.89\n",
      "r2 score related to cluster centre: 0.79\n",
      "***VALIDATION***:\n",
      "correlation related to cluster centre: 0.92\n",
      "r2 score related to cluster centre: 0.84\n"
     ]
    },
    {
     "data": {
      "application/vnd.jupyter.widget-view+json": {
       "model_id": "177fe46250d0462996ee35216027d4cd",
       "version_major": 2,
       "version_minor": 0
      },
      "text/plain": [
       "IntProgress(value=0, max=1)"
      ]
     },
     "metadata": {},
     "output_type": "display_data"
    },
    {
     "name": "stdout",
     "output_type": "stream",
     "text": [
      "***VALIDATION***:\n",
      "average correlation: 0.92\n",
      "average r2: 0.84\n",
      "---do_investigations. cluster index : 16---\n"
     ]
    },
    {
     "data": {
      "application/vnd.jupyter.widget-view+json": {
       "model_id": "91277acbf06440858de2aef713736287",
       "version_major": 2,
       "version_minor": 0
      },
      "text/plain": [
       "IntProgress(value=0, max=2)"
      ]
     },
     "metadata": {},
     "output_type": "display_data"
    },
    {
     "name": "stdout",
     "output_type": "stream",
     "text": [
      "Epoch 1/20\n",
      "368/368 [==============================] - 2s 3ms/step - loss: 0.2619 - mean_absolute_error: 0.3338 - val_loss: 0.0714 - val_mean_absolute_error: 0.1839\n",
      "Epoch 2/20\n",
      "368/368 [==============================] - 1s 3ms/step - loss: 0.2068 - mean_absolute_error: 0.2895 - val_loss: 0.0705 - val_mean_absolute_error: 0.1838\n",
      "Epoch 3/20\n",
      "368/368 [==============================] - 1s 3ms/step - loss: 0.2051 - mean_absolute_error: 0.2883 - val_loss: 0.0698 - val_mean_absolute_error: 0.1781\n",
      "Epoch 4/20\n",
      "368/368 [==============================] - 1s 3ms/step - loss: 0.2048 - mean_absolute_error: 0.2868 - val_loss: 0.0714 - val_mean_absolute_error: 0.1871\n",
      "Epoch 5/20\n",
      "368/368 [==============================] - 1s 3ms/step - loss: 0.2040 - mean_absolute_error: 0.2874 - val_loss: 0.0699 - val_mean_absolute_error: 0.1800\n",
      "***TRAIN***:\n",
      "correlation related to cluster centre: 0.89\n",
      "r2 score related to cluster centre: 0.80\n",
      "***VALIDATION***:\n",
      "correlation related to cluster centre: 0.91\n",
      "r2 score related to cluster centre: 0.83\n"
     ]
    },
    {
     "data": {
      "application/vnd.jupyter.widget-view+json": {
       "model_id": "9194aca9aca34d4d9fccf2d17b0cc799",
       "version_major": 2,
       "version_minor": 0
      },
      "text/plain": [
       "IntProgress(value=0, max=2)"
      ]
     },
     "metadata": {},
     "output_type": "display_data"
    },
    {
     "name": "stdout",
     "output_type": "stream",
     "text": [
      "***VALIDATION***:\n",
      "average correlation: 0.92\n",
      "average r2: 0.84\n",
      "---do_investigations. cluster index : 17---\n"
     ]
    },
    {
     "data": {
      "application/vnd.jupyter.widget-view+json": {
       "model_id": "22141dee252c4a04a858c5689b48fcff",
       "version_major": 2,
       "version_minor": 0
      },
      "text/plain": [
       "IntProgress(value=0, max=3)"
      ]
     },
     "metadata": {},
     "output_type": "display_data"
    },
    {
     "name": "stdout",
     "output_type": "stream",
     "text": [
      "Epoch 1/20\n",
      "368/368 [==============================] - 2s 3ms/step - loss: 0.2500 - mean_absolute_error: 0.3455 - val_loss: 0.1162 - val_mean_absolute_error: 0.2409\n",
      "Epoch 2/20\n",
      "368/368 [==============================] - 1s 3ms/step - loss: 0.2158 - mean_absolute_error: 0.3089 - val_loss: 0.1166 - val_mean_absolute_error: 0.2455\n",
      "Epoch 3/20\n",
      "368/368 [==============================] - 1s 3ms/step - loss: 0.2144 - mean_absolute_error: 0.3072 - val_loss: 0.1184 - val_mean_absolute_error: 0.2399\n",
      "***TRAIN***:\n",
      "correlation related to cluster centre: 0.89\n",
      "r2 score related to cluster centre: 0.78\n",
      "***VALIDATION***:\n",
      "correlation related to cluster centre: 0.91\n",
      "r2 score related to cluster centre: 0.82\n"
     ]
    },
    {
     "data": {
      "application/vnd.jupyter.widget-view+json": {
       "model_id": "270b23c8082f4a27a7ba9b48bd473f10",
       "version_major": 2,
       "version_minor": 0
      },
      "text/plain": [
       "IntProgress(value=0, max=3)"
      ]
     },
     "metadata": {},
     "output_type": "display_data"
    },
    {
     "name": "stdout",
     "output_type": "stream",
     "text": [
      "***VALIDATION***:\n",
      "average correlation: 0.91\n",
      "average r2: 0.81\n",
      "---do_investigations. cluster index : 18---\n"
     ]
    },
    {
     "data": {
      "application/vnd.jupyter.widget-view+json": {
       "model_id": "9ba46eb4ef6d4adf8a738280cd6a4f34",
       "version_major": 2,
       "version_minor": 0
      },
      "text/plain": [
       "IntProgress(value=0, max=34)"
      ]
     },
     "metadata": {},
     "output_type": "display_data"
    },
    {
     "name": "stdout",
     "output_type": "stream",
     "text": [
      "Epoch 1/20\n",
      "368/368 [==============================] - 2s 3ms/step - loss: 0.3193 - mean_absolute_error: 0.3717 - val_loss: 0.1444 - val_mean_absolute_error: 0.2713\n",
      "Epoch 2/20\n",
      "368/368 [==============================] - 1s 3ms/step - loss: 0.2074 - mean_absolute_error: 0.3098 - val_loss: 0.1438 - val_mean_absolute_error: 0.2697\n",
      "Epoch 3/20\n",
      "368/368 [==============================] - 1s 3ms/step - loss: 0.2069 - mean_absolute_error: 0.3090 - val_loss: 0.1434 - val_mean_absolute_error: 0.2703\n",
      "Epoch 4/20\n",
      "368/368 [==============================] - 1s 3ms/step - loss: 0.2060 - mean_absolute_error: 0.3082 - val_loss: 0.1435 - val_mean_absolute_error: 0.2706\n",
      "Epoch 5/20\n",
      "368/368 [==============================] - 1s 3ms/step - loss: 0.2054 - mean_absolute_error: 0.3071 - val_loss: 0.1454 - val_mean_absolute_error: 0.2777\n",
      "***TRAIN***:\n",
      "correlation related to cluster centre: 0.89\n",
      "r2 score related to cluster centre: 0.79\n",
      "***VALIDATION***:\n",
      "correlation related to cluster centre: 0.91\n",
      "r2 score related to cluster centre: 0.82\n"
     ]
    },
    {
     "data": {
      "application/vnd.jupyter.widget-view+json": {
       "model_id": "dba946bd3fb74e89a3b39615cc1a456e",
       "version_major": 2,
       "version_minor": 0
      },
      "text/plain": [
       "IntProgress(value=0, max=34)"
      ]
     },
     "metadata": {},
     "output_type": "display_data"
    },
    {
     "name": "stdout",
     "output_type": "stream",
     "text": [
      "***VALIDATION***:\n",
      "average correlation: 0.91\n",
      "average r2: 0.82\n",
      "---do_investigations. cluster index : 19---\n"
     ]
    },
    {
     "data": {
      "application/vnd.jupyter.widget-view+json": {
       "model_id": "6b4186a6e7084845a218ec21185c4908",
       "version_major": 2,
       "version_minor": 0
      },
      "text/plain": [
       "IntProgress(value=0, max=2)"
      ]
     },
     "metadata": {},
     "output_type": "display_data"
    },
    {
     "name": "stdout",
     "output_type": "stream",
     "text": [
      "Epoch 1/20\n",
      "368/368 [==============================] - 2s 3ms/step - loss: 0.3143 - mean_absolute_error: 0.3552 - val_loss: 0.2635 - val_mean_absolute_error: 0.3132\n",
      "Epoch 2/20\n",
      "368/368 [==============================] - 1s 3ms/step - loss: 0.2176 - mean_absolute_error: 0.2913 - val_loss: 0.2596 - val_mean_absolute_error: 0.3225\n",
      "Epoch 3/20\n",
      "368/368 [==============================] - 1s 3ms/step - loss: 0.2175 - mean_absolute_error: 0.2911 - val_loss: 0.2633 - val_mean_absolute_error: 0.3133\n",
      "Epoch 4/20\n",
      "368/368 [==============================] - 1s 3ms/step - loss: 0.2158 - mean_absolute_error: 0.2895 - val_loss: 0.2579 - val_mean_absolute_error: 0.3162\n",
      "Epoch 5/20\n",
      "368/368 [==============================] - 1s 3ms/step - loss: 0.2152 - mean_absolute_error: 0.2889 - val_loss: 0.2593 - val_mean_absolute_error: 0.3112\n",
      "Epoch 6/20\n",
      "368/368 [==============================] - 1s 3ms/step - loss: 0.2160 - mean_absolute_error: 0.2896 - val_loss: 0.2577 - val_mean_absolute_error: 0.3140\n",
      "Epoch 7/20\n",
      "368/368 [==============================] - 1s 3ms/step - loss: 0.2145 - mean_absolute_error: 0.2889 - val_loss: 0.2590 - val_mean_absolute_error: 0.3149\n",
      "Epoch 8/20\n",
      "368/368 [==============================] - 1s 3ms/step - loss: 0.2154 - mean_absolute_error: 0.2888 - val_loss: 0.2584 - val_mean_absolute_error: 0.3173\n",
      "***TRAIN***:\n",
      "correlation related to cluster centre: 0.89\n",
      "r2 score related to cluster centre: 0.79\n",
      "***VALIDATION***:\n",
      "correlation related to cluster centre: 0.90\n",
      "r2 score related to cluster centre: 0.80\n"
     ]
    },
    {
     "data": {
      "application/vnd.jupyter.widget-view+json": {
       "model_id": "442424ab894c4260bb237491b3efd438",
       "version_major": 2,
       "version_minor": 0
      },
      "text/plain": [
       "IntProgress(value=0, max=2)"
      ]
     },
     "metadata": {},
     "output_type": "display_data"
    },
    {
     "name": "stdout",
     "output_type": "stream",
     "text": [
      "***VALIDATION***:\n",
      "average correlation: 0.89\n",
      "average r2: 0.80\n",
      "---do_investigations. cluster index : 20---\n"
     ]
    },
    {
     "data": {
      "application/vnd.jupyter.widget-view+json": {
       "model_id": "cbd9ff4c9f3d42679d9c92fa72de6d27",
       "version_major": 2,
       "version_minor": 0
      },
      "text/plain": [
       "IntProgress(value=0, max=5)"
      ]
     },
     "metadata": {},
     "output_type": "display_data"
    },
    {
     "name": "stdout",
     "output_type": "stream",
     "text": [
      "Epoch 1/20\n",
      "368/368 [==============================] - 2s 3ms/step - loss: 0.2718 - mean_absolute_error: 0.3485 - val_loss: 0.1426 - val_mean_absolute_error: 0.2622\n",
      "Epoch 2/20\n",
      "368/368 [==============================] - 1s 3ms/step - loss: 0.2027 - mean_absolute_error: 0.3053 - val_loss: 0.1421 - val_mean_absolute_error: 0.2623\n",
      "Epoch 3/20\n",
      "368/368 [==============================] - 1s 3ms/step - loss: 0.2014 - mean_absolute_error: 0.3043 - val_loss: 0.1426 - val_mean_absolute_error: 0.2618\n",
      "Epoch 4/20\n",
      "368/368 [==============================] - 1s 3ms/step - loss: 0.2015 - mean_absolute_error: 0.3043 - val_loss: 0.1429 - val_mean_absolute_error: 0.2676\n",
      "***TRAIN***:\n",
      "correlation related to cluster centre: 0.90\n",
      "r2 score related to cluster centre: 0.80\n",
      "***VALIDATION***:\n",
      "correlation related to cluster centre: 0.91\n",
      "r2 score related to cluster centre: 0.83\n"
     ]
    },
    {
     "data": {
      "application/vnd.jupyter.widget-view+json": {
       "model_id": "3e5cf068a53b4fcca72b87718cfaa95f",
       "version_major": 2,
       "version_minor": 0
      },
      "text/plain": [
       "IntProgress(value=0, max=5)"
      ]
     },
     "metadata": {},
     "output_type": "display_data"
    },
    {
     "name": "stdout",
     "output_type": "stream",
     "text": [
      "***VALIDATION***:\n",
      "average correlation: 0.91\n",
      "average r2: 0.82\n",
      "---do_investigations. cluster index : 21---\n"
     ]
    },
    {
     "data": {
      "application/vnd.jupyter.widget-view+json": {
       "model_id": "18a4bda81e1342f6aa9b1d8c61960b39",
       "version_major": 2,
       "version_minor": 0
      },
      "text/plain": [
       "IntProgress(value=0, max=1)"
      ]
     },
     "metadata": {},
     "output_type": "display_data"
    },
    {
     "name": "stdout",
     "output_type": "stream",
     "text": [
      "Epoch 1/20\n",
      "368/368 [==============================] - 2s 4ms/step - loss: 0.2777 - mean_absolute_error: 0.3304 - val_loss: 0.2321 - val_mean_absolute_error: 0.3091\n",
      "Epoch 2/20\n",
      "368/368 [==============================] - 1s 3ms/step - loss: 0.2009 - mean_absolute_error: 0.2880 - val_loss: 0.2398 - val_mean_absolute_error: 0.3110\n",
      "Epoch 3/20\n",
      "368/368 [==============================] - 1s 3ms/step - loss: 0.2003 - mean_absolute_error: 0.2877 - val_loss: 0.2328 - val_mean_absolute_error: 0.3117\n",
      "***TRAIN***:\n",
      "correlation related to cluster centre: 0.90\n",
      "r2 score related to cluster centre: 0.80\n",
      "***VALIDATION***:\n",
      "correlation related to cluster centre: 0.91\n",
      "r2 score related to cluster centre: 0.82\n"
     ]
    },
    {
     "data": {
      "application/vnd.jupyter.widget-view+json": {
       "model_id": "211a5bb04eba47ce87842a26c5f4ce8d",
       "version_major": 2,
       "version_minor": 0
      },
      "text/plain": [
       "IntProgress(value=0, max=1)"
      ]
     },
     "metadata": {},
     "output_type": "display_data"
    },
    {
     "name": "stdout",
     "output_type": "stream",
     "text": [
      "***VALIDATION***:\n",
      "average correlation: 0.91\n",
      "average r2: 0.82\n",
      "---do_investigations. cluster index : 22---\n"
     ]
    },
    {
     "data": {
      "application/vnd.jupyter.widget-view+json": {
       "model_id": "3b2df796444f424d93f568763dee9bf6",
       "version_major": 2,
       "version_minor": 0
      },
      "text/plain": [
       "IntProgress(value=0, max=1)"
      ]
     },
     "metadata": {},
     "output_type": "display_data"
    },
    {
     "name": "stdout",
     "output_type": "stream",
     "text": [
      "Epoch 1/20\n",
      "368/368 [==============================] - 2s 3ms/step - loss: 0.2940 - mean_absolute_error: 0.2924 - val_loss: 0.3448 - val_mean_absolute_error: 0.3301\n",
      "Epoch 2/20\n",
      "368/368 [==============================] - 1s 3ms/step - loss: 0.2164 - mean_absolute_error: 0.2536 - val_loss: 0.3302 - val_mean_absolute_error: 0.3422\n",
      "Epoch 3/20\n",
      "368/368 [==============================] - 1s 3ms/step - loss: 0.2141 - mean_absolute_error: 0.2522 - val_loss: 0.3260 - val_mean_absolute_error: 0.3147\n",
      "Epoch 4/20\n",
      "368/368 [==============================] - 1s 3ms/step - loss: 0.2148 - mean_absolute_error: 0.2535 - val_loss: 0.3177 - val_mean_absolute_error: 0.3152\n",
      "Epoch 5/20\n",
      "368/368 [==============================] - 1s 3ms/step - loss: 0.2141 - mean_absolute_error: 0.2521 - val_loss: 0.3329 - val_mean_absolute_error: 0.3261\n",
      "Epoch 6/20\n",
      "368/368 [==============================] - 1s 3ms/step - loss: 0.2148 - mean_absolute_error: 0.2517 - val_loss: 0.3235 - val_mean_absolute_error: 0.3276\n",
      "***TRAIN***:\n",
      "correlation related to cluster centre: 0.89\n",
      "r2 score related to cluster centre: 0.79\n",
      "***VALIDATION***:\n",
      "correlation related to cluster centre: 0.89\n",
      "r2 score related to cluster centre: 0.78\n"
     ]
    },
    {
     "data": {
      "application/vnd.jupyter.widget-view+json": {
       "model_id": "25ab3d75a03c4186be9932c1ccc777e5",
       "version_major": 2,
       "version_minor": 0
      },
      "text/plain": [
       "IntProgress(value=0, max=1)"
      ]
     },
     "metadata": {},
     "output_type": "display_data"
    },
    {
     "name": "stdout",
     "output_type": "stream",
     "text": [
      "***VALIDATION***:\n",
      "average correlation: 0.89\n",
      "average r2: 0.78\n",
      "---do_investigations. cluster index : 23---\n"
     ]
    },
    {
     "data": {
      "application/vnd.jupyter.widget-view+json": {
       "model_id": "761b54c977d94b6d914454a4bb7fabd2",
       "version_major": 2,
       "version_minor": 0
      },
      "text/plain": [
       "IntProgress(value=0, max=1)"
      ]
     },
     "metadata": {},
     "output_type": "display_data"
    },
    {
     "name": "stdout",
     "output_type": "stream",
     "text": [
      "Epoch 1/20\n",
      "368/368 [==============================] - 2s 3ms/step - loss: 0.2924 - mean_absolute_error: 0.3473 - val_loss: 0.1519 - val_mean_absolute_error: 0.2531\n",
      "Epoch 2/20\n",
      "368/368 [==============================] - 1s 3ms/step - loss: 0.2320 - mean_absolute_error: 0.3071 - val_loss: 0.1523 - val_mean_absolute_error: 0.2524\n",
      "Epoch 3/20\n",
      "368/368 [==============================] - 1s 3ms/step - loss: 0.2304 - mean_absolute_error: 0.3057 - val_loss: 0.1504 - val_mean_absolute_error: 0.2503\n",
      "Epoch 4/20\n",
      "368/368 [==============================] - 1s 3ms/step - loss: 0.2296 - mean_absolute_error: 0.3048 - val_loss: 0.1538 - val_mean_absolute_error: 0.2587\n",
      "Epoch 5/20\n",
      "368/368 [==============================] - 1s 3ms/step - loss: 0.2303 - mean_absolute_error: 0.3050 - val_loss: 0.1535 - val_mean_absolute_error: 0.2585\n",
      "***TRAIN***:\n",
      "correlation related to cluster centre: 0.88\n",
      "r2 score related to cluster centre: 0.77\n",
      "***VALIDATION***:\n",
      "correlation related to cluster centre: 0.90\n",
      "r2 score related to cluster centre: 0.80\n"
     ]
    },
    {
     "data": {
      "application/vnd.jupyter.widget-view+json": {
       "model_id": "08afa93d063e40faa48979dbea793101",
       "version_major": 2,
       "version_minor": 0
      },
      "text/plain": [
       "IntProgress(value=0, max=1)"
      ]
     },
     "metadata": {},
     "output_type": "display_data"
    },
    {
     "name": "stdout",
     "output_type": "stream",
     "text": [
      "***VALIDATION***:\n",
      "average correlation: 0.90\n",
      "average r2: 0.80\n",
      "---do_investigations. cluster index : 24---\n"
     ]
    },
    {
     "data": {
      "application/vnd.jupyter.widget-view+json": {
       "model_id": "028ce0c4fd7246a3b12dfe06725541fb",
       "version_major": 2,
       "version_minor": 0
      },
      "text/plain": [
       "IntProgress(value=0, max=1)"
      ]
     },
     "metadata": {},
     "output_type": "display_data"
    },
    {
     "name": "stdout",
     "output_type": "stream",
     "text": [
      "Epoch 1/20\n",
      "368/368 [==============================] - 2s 3ms/step - loss: 0.2983 - mean_absolute_error: 0.2636 - val_loss: 0.0023 - val_mean_absolute_error: 0.0313\n",
      "Epoch 2/20\n",
      "368/368 [==============================] - 1s 3ms/step - loss: 0.2504 - mean_absolute_error: 0.2242 - val_loss: 0.0024 - val_mean_absolute_error: 0.0328\n",
      "Epoch 3/20\n",
      "368/368 [==============================] - 1s 3ms/step - loss: 0.2520 - mean_absolute_error: 0.2250 - val_loss: 0.0063 - val_mean_absolute_error: 0.0716\n",
      "***TRAIN***:\n",
      "correlation related to cluster centre: 0.87\n",
      "r2 score related to cluster centre: 0.75\n",
      "***VALIDATION***:\n",
      "correlation related to cluster centre: 0.91\n",
      "r2 score related to cluster centre: 0.34\n"
     ]
    },
    {
     "data": {
      "application/vnd.jupyter.widget-view+json": {
       "model_id": "00ad989f30d44c678a9df9153a25f955",
       "version_major": 2,
       "version_minor": 0
      },
      "text/plain": [
       "IntProgress(value=0, max=1)"
      ]
     },
     "metadata": {},
     "output_type": "display_data"
    },
    {
     "name": "stdout",
     "output_type": "stream",
     "text": [
      "***VALIDATION***:\n",
      "average correlation: 0.91\n",
      "average r2: 0.34\n",
      "---do_investigations. cluster index : 25---\n"
     ]
    },
    {
     "data": {
      "application/vnd.jupyter.widget-view+json": {
       "model_id": "4b97cd176720437d9c64818a12ea0f26",
       "version_major": 2,
       "version_minor": 0
      },
      "text/plain": [
       "IntProgress(value=0, max=2)"
      ]
     },
     "metadata": {},
     "output_type": "display_data"
    },
    {
     "name": "stdout",
     "output_type": "stream",
     "text": [
      "Epoch 1/20\n",
      "368/368 [==============================] - 2s 4ms/step - loss: 0.3303 - mean_absolute_error: 0.2829 - val_loss: 0.0093 - val_mean_absolute_error: 0.0709\n",
      "Epoch 2/20\n",
      "368/368 [==============================] - 1s 3ms/step - loss: 0.2616 - mean_absolute_error: 0.2371 - val_loss: 0.0072 - val_mean_absolute_error: 0.0511\n",
      "Epoch 3/20\n",
      "368/368 [==============================] - 1s 3ms/step - loss: 0.2575 - mean_absolute_error: 0.2332 - val_loss: 0.0070 - val_mean_absolute_error: 0.0518\n",
      "Epoch 4/20\n",
      "368/368 [==============================] - 1s 3ms/step - loss: 0.2575 - mean_absolute_error: 0.2336 - val_loss: 0.0066 - val_mean_absolute_error: 0.0415\n",
      "Epoch 5/20\n",
      "368/368 [==============================] - 1s 3ms/step - loss: 0.2571 - mean_absolute_error: 0.2331 - val_loss: 0.0066 - val_mean_absolute_error: 0.0448\n",
      "Epoch 6/20\n",
      "368/368 [==============================] - 1s 3ms/step - loss: 0.2554 - mean_absolute_error: 0.2323 - val_loss: 0.0069 - val_mean_absolute_error: 0.0510\n",
      "Epoch 7/20\n",
      "368/368 [==============================] - 1s 3ms/step - loss: 0.2574 - mean_absolute_error: 0.2328 - val_loss: 0.0072 - val_mean_absolute_error: 0.0552\n",
      "***TRAIN***:\n",
      "correlation related to cluster centre: 0.86\n",
      "r2 score related to cluster centre: 0.75\n",
      "***VALIDATION***:\n",
      "correlation related to cluster centre: 0.91\n",
      "r2 score related to cluster centre: 0.78\n"
     ]
    },
    {
     "data": {
      "application/vnd.jupyter.widget-view+json": {
       "model_id": "46295db94c7b4623be91eb6304e27671",
       "version_major": 2,
       "version_minor": 0
      },
      "text/plain": [
       "IntProgress(value=0, max=2)"
      ]
     },
     "metadata": {},
     "output_type": "display_data"
    },
    {
     "name": "stdout",
     "output_type": "stream",
     "text": [
      "***VALIDATION***:\n",
      "average correlation: 0.92\n",
      "average r2: 0.73\n",
      "---do_investigations. cluster index : 26---\n"
     ]
    },
    {
     "data": {
      "application/vnd.jupyter.widget-view+json": {
       "model_id": "63bf02bc23f34d24ba7bb76c57654b01",
       "version_major": 2,
       "version_minor": 0
      },
      "text/plain": [
       "IntProgress(value=0, max=1)"
      ]
     },
     "metadata": {},
     "output_type": "display_data"
    },
    {
     "name": "stdout",
     "output_type": "stream",
     "text": [
      "Epoch 1/20\n",
      "368/368 [==============================] - 2s 3ms/step - loss: 0.1912 - mean_absolute_error: 0.2905 - val_loss: 0.0970 - val_mean_absolute_error: 0.1965\n",
      "Epoch 2/20\n",
      "368/368 [==============================] - 1s 3ms/step - loss: 0.1465 - mean_absolute_error: 0.2492 - val_loss: 0.0953 - val_mean_absolute_error: 0.1956\n",
      "Epoch 3/20\n",
      "368/368 [==============================] - 1s 3ms/step - loss: 0.1455 - mean_absolute_error: 0.2479 - val_loss: 0.0957 - val_mean_absolute_error: 0.1915\n",
      "Epoch 4/20\n",
      "368/368 [==============================] - 1s 3ms/step - loss: 0.1457 - mean_absolute_error: 0.2474 - val_loss: 0.0962 - val_mean_absolute_error: 0.1922\n",
      "***TRAIN***:\n",
      "correlation related to cluster centre: 0.93\n",
      "r2 score related to cluster centre: 0.86\n",
      "***VALIDATION***:\n",
      "correlation related to cluster centre: 0.93\n",
      "r2 score related to cluster centre: 0.86\n"
     ]
    },
    {
     "data": {
      "application/vnd.jupyter.widget-view+json": {
       "model_id": "3bb477591f0646c4a306725e0c30a284",
       "version_major": 2,
       "version_minor": 0
      },
      "text/plain": [
       "IntProgress(value=0, max=1)"
      ]
     },
     "metadata": {},
     "output_type": "display_data"
    },
    {
     "name": "stdout",
     "output_type": "stream",
     "text": [
      "***VALIDATION***:\n",
      "average correlation: 0.93\n",
      "average r2: 0.86\n",
      "---do_investigations. cluster index : 27---\n"
     ]
    },
    {
     "data": {
      "application/vnd.jupyter.widget-view+json": {
       "model_id": "5af327fe95664981bb75bd25a91fb35c",
       "version_major": 2,
       "version_minor": 0
      },
      "text/plain": [
       "IntProgress(value=0, max=1)"
      ]
     },
     "metadata": {},
     "output_type": "display_data"
    },
    {
     "name": "stdout",
     "output_type": "stream",
     "text": [
      "Epoch 1/20\n",
      "368/368 [==============================] - 4s 3ms/step - loss: 0.2607 - mean_absolute_error: 0.3336 - val_loss: 0.1224 - val_mean_absolute_error: 0.2315\n",
      "Epoch 2/20\n",
      "368/368 [==============================] - 1s 3ms/step - loss: 0.1378 - mean_absolute_error: 0.2460 - val_loss: 0.1240 - val_mean_absolute_error: 0.2328\n",
      "Epoch 3/20\n",
      "368/368 [==============================] - 1s 3ms/step - loss: 0.1366 - mean_absolute_error: 0.2443 - val_loss: 0.1215 - val_mean_absolute_error: 0.2367\n",
      "Epoch 4/20\n",
      "368/368 [==============================] - 1s 4ms/step - loss: 0.1364 - mean_absolute_error: 0.2444 - val_loss: 0.1202 - val_mean_absolute_error: 0.2304\n",
      "Epoch 5/20\n",
      "368/368 [==============================] - 1s 3ms/step - loss: 0.1365 - mean_absolute_error: 0.2440 - val_loss: 0.1204 - val_mean_absolute_error: 0.2337\n",
      "Epoch 6/20\n",
      "368/368 [==============================] - 1s 3ms/step - loss: 0.1357 - mean_absolute_error: 0.2440 - val_loss: 0.1205 - val_mean_absolute_error: 0.2327\n",
      "***TRAIN***:\n",
      "correlation related to cluster centre: 0.93\n",
      "r2 score related to cluster centre: 0.87\n",
      "***VALIDATION***:\n",
      "correlation related to cluster centre: 0.93\n",
      "r2 score related to cluster centre: 0.87\n"
     ]
    },
    {
     "data": {
      "application/vnd.jupyter.widget-view+json": {
       "model_id": "7ac8b588e1a5428180192b2d1ccf9b43",
       "version_major": 2,
       "version_minor": 0
      },
      "text/plain": [
       "IntProgress(value=0, max=1)"
      ]
     },
     "metadata": {},
     "output_type": "display_data"
    },
    {
     "name": "stdout",
     "output_type": "stream",
     "text": [
      "***VALIDATION***:\n",
      "average correlation: 0.93\n",
      "average r2: 0.87\n",
      "---do_investigations. cluster index : 28---\n"
     ]
    },
    {
     "data": {
      "application/vnd.jupyter.widget-view+json": {
       "model_id": "0b5d0e13653749959230b7e4c0fb3377",
       "version_major": 2,
       "version_minor": 0
      },
      "text/plain": [
       "IntProgress(value=0, max=3)"
      ]
     },
     "metadata": {},
     "output_type": "display_data"
    },
    {
     "name": "stdout",
     "output_type": "stream",
     "text": [
      "Epoch 1/20\n",
      "368/368 [==============================] - 2s 3ms/step - loss: 0.2673 - mean_absolute_error: 0.3347 - val_loss: 0.1189 - val_mean_absolute_error: 0.2307\n",
      "Epoch 2/20\n",
      "368/368 [==============================] - 1s 3ms/step - loss: 0.1917 - mean_absolute_error: 0.2859 - val_loss: 0.1181 - val_mean_absolute_error: 0.2292\n",
      "Epoch 3/20\n",
      "368/368 [==============================] - 1s 3ms/step - loss: 0.1902 - mean_absolute_error: 0.2848 - val_loss: 0.1178 - val_mean_absolute_error: 0.2275\n",
      "Epoch 4/20\n",
      "368/368 [==============================] - 1s 3ms/step - loss: 0.1902 - mean_absolute_error: 0.2838 - val_loss: 0.1173 - val_mean_absolute_error: 0.2282\n",
      "Epoch 5/20\n",
      "368/368 [==============================] - 1s 3ms/step - loss: 0.1890 - mean_absolute_error: 0.2838 - val_loss: 0.1175 - val_mean_absolute_error: 0.2261\n",
      "Epoch 6/20\n",
      "368/368 [==============================] - 1s 3ms/step - loss: 0.1898 - mean_absolute_error: 0.2842 - val_loss: 0.1186 - val_mean_absolute_error: 0.2308\n",
      "***TRAIN***:\n",
      "correlation related to cluster centre: 0.90\n",
      "r2 score related to cluster centre: 0.81\n",
      "***VALIDATION***:\n",
      "correlation related to cluster centre: 0.90\n",
      "r2 score related to cluster centre: 0.81\n"
     ]
    },
    {
     "data": {
      "application/vnd.jupyter.widget-view+json": {
       "model_id": "c8795a8073ac40878f089aa549a9c317",
       "version_major": 2,
       "version_minor": 0
      },
      "text/plain": [
       "IntProgress(value=0, max=3)"
      ]
     },
     "metadata": {},
     "output_type": "display_data"
    },
    {
     "name": "stdout",
     "output_type": "stream",
     "text": [
      "***VALIDATION***:\n",
      "average correlation: 0.90\n",
      "average r2: 0.81\n",
      "---do_investigations. cluster index : 29---\n"
     ]
    },
    {
     "data": {
      "application/vnd.jupyter.widget-view+json": {
       "model_id": "d9940bfed35441cdabcd4eeb5971efb3",
       "version_major": 2,
       "version_minor": 0
      },
      "text/plain": [
       "IntProgress(value=0, max=1)"
      ]
     },
     "metadata": {},
     "output_type": "display_data"
    },
    {
     "name": "stdout",
     "output_type": "stream",
     "text": [
      "Epoch 1/20\n",
      "368/368 [==============================] - 2s 3ms/step - loss: 0.2468 - mean_absolute_error: 0.3449 - val_loss: 0.1839 - val_mean_absolute_error: 0.3002\n",
      "Epoch 2/20\n",
      "368/368 [==============================] - 1s 3ms/step - loss: 0.1688 - mean_absolute_error: 0.2820 - val_loss: 0.1812 - val_mean_absolute_error: 0.3063\n",
      "Epoch 3/20\n",
      "368/368 [==============================] - 1s 3ms/step - loss: 0.1662 - mean_absolute_error: 0.2795 - val_loss: 0.1806 - val_mean_absolute_error: 0.3063\n",
      "Epoch 4/20\n",
      "368/368 [==============================] - 1s 3ms/step - loss: 0.1659 - mean_absolute_error: 0.2800 - val_loss: 0.1808 - val_mean_absolute_error: 0.2978\n",
      "Epoch 5/20\n",
      "368/368 [==============================] - 1s 3ms/step - loss: 0.1653 - mean_absolute_error: 0.2791 - val_loss: 0.1781 - val_mean_absolute_error: 0.2992\n",
      "Epoch 6/20\n",
      "368/368 [==============================] - 1s 3ms/step - loss: 0.1663 - mean_absolute_error: 0.2796 - val_loss: 0.1791 - val_mean_absolute_error: 0.3028\n",
      "Epoch 7/20\n",
      "368/368 [==============================] - 1s 3ms/step - loss: 0.1648 - mean_absolute_error: 0.2784 - val_loss: 0.1779 - val_mean_absolute_error: 0.2986\n",
      "Epoch 8/20\n",
      "368/368 [==============================] - 1s 3ms/step - loss: 0.1649 - mean_absolute_error: 0.2782 - val_loss: 0.1787 - val_mean_absolute_error: 0.3025\n",
      "Epoch 9/20\n",
      "368/368 [==============================] - 1s 3ms/step - loss: 0.1657 - mean_absolute_error: 0.2792 - val_loss: 0.1778 - val_mean_absolute_error: 0.2968\n",
      "Epoch 10/20\n",
      "368/368 [==============================] - 1s 3ms/step - loss: 0.1655 - mean_absolute_error: 0.2786 - val_loss: 0.1801 - val_mean_absolute_error: 0.3069\n",
      "Epoch 11/20\n",
      "368/368 [==============================] - 1s 3ms/step - loss: 0.1648 - mean_absolute_error: 0.2786 - val_loss: 0.1785 - val_mean_absolute_error: 0.3014\n",
      "***TRAIN***:\n",
      "correlation related to cluster centre: 0.92\n",
      "r2 score related to cluster centre: 0.84\n",
      "***VALIDATION***:\n",
      "correlation related to cluster centre: 0.91\n",
      "r2 score related to cluster centre: 0.82\n"
     ]
    },
    {
     "data": {
      "application/vnd.jupyter.widget-view+json": {
       "model_id": "a4f4a650130546579f108d071b568642",
       "version_major": 2,
       "version_minor": 0
      },
      "text/plain": [
       "IntProgress(value=0, max=1)"
      ]
     },
     "metadata": {},
     "output_type": "display_data"
    },
    {
     "name": "stdout",
     "output_type": "stream",
     "text": [
      "***VALIDATION***:\n",
      "average correlation: 0.91\n",
      "average r2: 0.82\n",
      "weighted_average_correlation: 0.91\n",
      "weighted_average_r2_score: 0.82\n",
      "bad clusters rate: 0.94%\n",
      "------------------------------------------------------\n"
     ]
    }
   ],
   "source": [
    "first_path = r\"C:\\Coding\\final-qualifying-work_2023-2024\\ClusteringCpp\\output\\mst 5.txt\"\n",
    "second_path = r\"C:\\Coding\\final-qualifying-work_2023-2024\\ClusteringCpp\\output\\mst 15.txt\"\n",
    "third_path = r\"C:\\Coding\\final-qualifying-work_2023-2024\\ClusteringCpp\\output\\mst 30.txt\"\n",
    "fourth_path = r\"C:\\Coding\\final-qualifying-work_2023-2024\\ClusteringCpp\\output\\mst 60.txt\"\n",
    "\n",
    "output_file = open(\"computational-experiments-output-mst-1.txt\", \"a\")\n",
    "\n",
    "selected_path = third_path\n",
    "\n",
    "print('------------------------------------------------------')\n",
    "output_file.write('------------------------------------------------------\\n')\n",
    "\n",
    "print(f\"msd {os.path.split(selected_path)[-1]}\")\n",
    "output_file.write(f\"msd {os.path.split(selected_path)[-1]}\\n\")\n",
    "show_results(multi_step_dense_model, get_clusters(selected_path), CONV_WIDTH)\n",
    "\n",
    "print('------------------------------------------------------')\n",
    "output_file.write('------------------------------------------------------\\n')\n",
    "\n",
    "output_file.close()"
   ]
  },
  {
   "cell_type": "code",
   "execution_count": 24,
   "id": "598ed8cf-d0a2-45c1-9144-1653b7667c0d",
   "metadata": {},
   "outputs": [
    {
     "name": "stdout",
     "output_type": "stream",
     "text": [
      "------------------------------------------------------\n",
      "msd mst 60.txt\n",
      "---do_investigations. cluster index : 0---\n"
     ]
    },
    {
     "data": {
      "application/vnd.jupyter.widget-view+json": {
       "model_id": "842592d0a8d54b988f67e2ecccffcbfa",
       "version_major": 2,
       "version_minor": 0
      },
      "text/plain": [
       "IntProgress(value=0, max=5152)"
      ]
     },
     "metadata": {},
     "output_type": "display_data"
    },
    {
     "name": "stdout",
     "output_type": "stream",
     "text": [
      "Epoch 1/20\n",
      "368/368 [==============================] - 3s 4ms/step - loss: 0.2215 - mean_absolute_error: 0.3013 - val_loss: 0.2225 - val_mean_absolute_error: 0.2770\n",
      "Epoch 2/20\n",
      "368/368 [==============================] - 1s 4ms/step - loss: 0.2073 - mean_absolute_error: 0.2837 - val_loss: 0.2251 - val_mean_absolute_error: 0.2829\n",
      "Epoch 3/20\n",
      "368/368 [==============================] - 1s 3ms/step - loss: 0.2038 - mean_absolute_error: 0.2819 - val_loss: 0.2212 - val_mean_absolute_error: 0.2758\n",
      "Epoch 4/20\n",
      "368/368 [==============================] - 1s 3ms/step - loss: 0.2048 - mean_absolute_error: 0.2826 - val_loss: 0.2202 - val_mean_absolute_error: 0.2738\n",
      "Epoch 5/20\n",
      "368/368 [==============================] - 1s 3ms/step - loss: 0.2049 - mean_absolute_error: 0.2830 - val_loss: 0.2245 - val_mean_absolute_error: 0.2792\n",
      "Epoch 6/20\n",
      "368/368 [==============================] - 1s 3ms/step - loss: 0.2044 - mean_absolute_error: 0.2821 - val_loss: 0.2188 - val_mean_absolute_error: 0.2780\n",
      "Epoch 7/20\n",
      "368/368 [==============================] - 1s 3ms/step - loss: 0.2028 - mean_absolute_error: 0.2809 - val_loss: 0.2223 - val_mean_absolute_error: 0.2810\n",
      "Epoch 8/20\n",
      "368/368 [==============================] - 1s 3ms/step - loss: 0.2034 - mean_absolute_error: 0.2814 - val_loss: 0.2289 - val_mean_absolute_error: 0.2859\n",
      "***TRAIN***:\n",
      "correlation related to cluster centre: 0.89\n",
      "r2 score related to cluster centre: 0.80\n",
      "***VALIDATION***:\n",
      "correlation related to cluster centre: 0.90\n",
      "r2 score related to cluster centre: 0.80\n"
     ]
    },
    {
     "data": {
      "application/vnd.jupyter.widget-view+json": {
       "model_id": "e1d52b95b48a4d2384d8b258fb695ab1",
       "version_major": 2,
       "version_minor": 0
      },
      "text/plain": [
       "IntProgress(value=0, max=5152)"
      ]
     },
     "metadata": {},
     "output_type": "display_data"
    },
    {
     "name": "stdout",
     "output_type": "stream",
     "text": [
      "***VALIDATION***:\n",
      "average correlation: nan\n",
      "average r2: -13259739713823712259080192000.00\n",
      "---do_investigations. cluster index : 1---\n"
     ]
    },
    {
     "data": {
      "application/vnd.jupyter.widget-view+json": {
       "model_id": "6c2b15b1eb0b4ed0b0fc823380e48c1a",
       "version_major": 2,
       "version_minor": 0
      },
      "text/plain": [
       "IntProgress(value=0, max=42)"
      ]
     },
     "metadata": {},
     "output_type": "display_data"
    },
    {
     "name": "stdout",
     "output_type": "stream",
     "text": [
      "Epoch 1/20\n",
      "368/368 [==============================] - 3s 4ms/step - loss: 0.2576 - mean_absolute_error: 0.3212 - val_loss: 0.1722 - val_mean_absolute_error: 0.2595\n",
      "Epoch 2/20\n",
      "368/368 [==============================] - 1s 3ms/step - loss: 0.2059 - mean_absolute_error: 0.2858 - val_loss: 0.1702 - val_mean_absolute_error: 0.2665\n",
      "Epoch 3/20\n",
      "368/368 [==============================] - 1s 3ms/step - loss: 0.2062 - mean_absolute_error: 0.2861 - val_loss: 0.1703 - val_mean_absolute_error: 0.2654\n",
      "Epoch 4/20\n",
      "368/368 [==============================] - 1s 3ms/step - loss: 0.2050 - mean_absolute_error: 0.2852 - val_loss: 0.1716 - val_mean_absolute_error: 0.2691\n",
      "***TRAIN***:\n",
      "correlation related to cluster centre: 0.89\n",
      "r2 score related to cluster centre: 0.80\n",
      "***VALIDATION***:\n",
      "correlation related to cluster centre: 0.91\n",
      "r2 score related to cluster centre: 0.82\n"
     ]
    },
    {
     "data": {
      "application/vnd.jupyter.widget-view+json": {
       "model_id": "75b975a8d076448bbf3d51b72d4e25ab",
       "version_major": 2,
       "version_minor": 0
      },
      "text/plain": [
       "IntProgress(value=0, max=42)"
      ]
     },
     "metadata": {},
     "output_type": "display_data"
    },
    {
     "name": "stdout",
     "output_type": "stream",
     "text": [
      "***VALIDATION***:\n",
      "average correlation: 0.91\n",
      "average r2: 0.80\n",
      "---do_investigations. cluster index : 2---\n"
     ]
    },
    {
     "data": {
      "application/vnd.jupyter.widget-view+json": {
       "model_id": "87ca4c7d76f44b4fb2b99ef6b9b555d5",
       "version_major": 2,
       "version_minor": 0
      },
      "text/plain": [
       "IntProgress(value=0, max=58)"
      ]
     },
     "metadata": {},
     "output_type": "display_data"
    },
    {
     "name": "stdout",
     "output_type": "stream",
     "text": [
      "Epoch 1/20\n",
      "368/368 [==============================] - 2s 4ms/step - loss: 0.2598 - mean_absolute_error: 0.3465 - val_loss: 0.1867 - val_mean_absolute_error: 0.2936\n",
      "Epoch 2/20\n",
      "368/368 [==============================] - 1s 3ms/step - loss: 0.2063 - mean_absolute_error: 0.3086 - val_loss: 0.1849 - val_mean_absolute_error: 0.2974\n",
      "Epoch 3/20\n",
      "368/368 [==============================] - 1s 3ms/step - loss: 0.2060 - mean_absolute_error: 0.3069 - val_loss: 0.1839 - val_mean_absolute_error: 0.2887\n",
      "Epoch 4/20\n",
      "368/368 [==============================] - 1s 3ms/step - loss: 0.2047 - mean_absolute_error: 0.3061 - val_loss: 0.1858 - val_mean_absolute_error: 0.2981\n",
      "Epoch 5/20\n",
      "368/368 [==============================] - 1s 3ms/step - loss: 0.2045 - mean_absolute_error: 0.3063 - val_loss: 0.1850 - val_mean_absolute_error: 0.2947\n",
      "***TRAIN***:\n",
      "correlation related to cluster centre: 0.89\n",
      "r2 score related to cluster centre: 0.79\n",
      "***VALIDATION***:\n",
      "correlation related to cluster centre: 0.91\n",
      "r2 score related to cluster centre: 0.82\n"
     ]
    },
    {
     "data": {
      "application/vnd.jupyter.widget-view+json": {
       "model_id": "d674b42cb3ba4a4a973f685a2fd7fc17",
       "version_major": 2,
       "version_minor": 0
      },
      "text/plain": [
       "IntProgress(value=0, max=58)"
      ]
     },
     "metadata": {},
     "output_type": "display_data"
    },
    {
     "name": "stdout",
     "output_type": "stream",
     "text": [
      "***VALIDATION***:\n",
      "average correlation: 0.90\n",
      "average r2: 0.81\n",
      "---do_investigations. cluster index : 3---\n"
     ]
    },
    {
     "data": {
      "application/vnd.jupyter.widget-view+json": {
       "model_id": "2016b07c84ad473cb5dbb9fcbc355d72",
       "version_major": 2,
       "version_minor": 0
      },
      "text/plain": [
       "IntProgress(value=0, max=57)"
      ]
     },
     "metadata": {},
     "output_type": "display_data"
    },
    {
     "name": "stdout",
     "output_type": "stream",
     "text": [
      "Epoch 1/20\n",
      "368/368 [==============================] - 2s 4ms/step - loss: 0.3092 - mean_absolute_error: 0.3629 - val_loss: 0.1617 - val_mean_absolute_error: 0.2764\n",
      "Epoch 2/20\n",
      "368/368 [==============================] - 1s 3ms/step - loss: 0.2091 - mean_absolute_error: 0.3038 - val_loss: 0.1640 - val_mean_absolute_error: 0.2820\n",
      "Epoch 3/20\n",
      "368/368 [==============================] - 1s 3ms/step - loss: 0.2086 - mean_absolute_error: 0.3039 - val_loss: 0.1610 - val_mean_absolute_error: 0.2773\n",
      "Epoch 4/20\n",
      "368/368 [==============================] - 1s 3ms/step - loss: 0.2071 - mean_absolute_error: 0.3022 - val_loss: 0.1606 - val_mean_absolute_error: 0.2717\n",
      "Epoch 5/20\n",
      "368/368 [==============================] - 1s 3ms/step - loss: 0.2079 - mean_absolute_error: 0.3023 - val_loss: 0.1602 - val_mean_absolute_error: 0.2737\n",
      "Epoch 6/20\n",
      "368/368 [==============================] - 1s 3ms/step - loss: 0.2084 - mean_absolute_error: 0.3026 - val_loss: 0.1602 - val_mean_absolute_error: 0.2776\n",
      "Epoch 7/20\n",
      "368/368 [==============================] - 1s 3ms/step - loss: 0.2081 - mean_absolute_error: 0.3022 - val_loss: 0.1653 - val_mean_absolute_error: 0.2763\n",
      "***TRAIN***:\n",
      "correlation related to cluster centre: 0.89\n",
      "r2 score related to cluster centre: 0.79\n",
      "***VALIDATION***:\n",
      "correlation related to cluster centre: 0.91\n",
      "r2 score related to cluster centre: 0.82\n"
     ]
    },
    {
     "data": {
      "application/vnd.jupyter.widget-view+json": {
       "model_id": "f07de3b6e7064f6aad72653f636444d1",
       "version_major": 2,
       "version_minor": 0
      },
      "text/plain": [
       "IntProgress(value=0, max=57)"
      ]
     },
     "metadata": {},
     "output_type": "display_data"
    },
    {
     "name": "stdout",
     "output_type": "stream",
     "text": [
      "***VALIDATION***:\n",
      "average correlation: 0.91\n",
      "average r2: 0.81\n",
      "---do_investigations. cluster index : 4---\n"
     ]
    },
    {
     "data": {
      "application/vnd.jupyter.widget-view+json": {
       "model_id": "425741805e464b12ad76adde4594ec00",
       "version_major": 2,
       "version_minor": 0
      },
      "text/plain": [
       "IntProgress(value=0, max=37)"
      ]
     },
     "metadata": {},
     "output_type": "display_data"
    },
    {
     "name": "stdout",
     "output_type": "stream",
     "text": [
      "Epoch 1/20\n",
      "368/368 [==============================] - 2s 4ms/step - loss: 0.2746 - mean_absolute_error: 0.3441 - val_loss: 0.1562 - val_mean_absolute_error: 0.2727\n",
      "Epoch 2/20\n",
      "368/368 [==============================] - 1s 3ms/step - loss: 0.2109 - mean_absolute_error: 0.3083 - val_loss: 0.1570 - val_mean_absolute_error: 0.2648\n",
      "Epoch 3/20\n",
      "368/368 [==============================] - 1s 3ms/step - loss: 0.2096 - mean_absolute_error: 0.3074 - val_loss: 0.1560 - val_mean_absolute_error: 0.2689\n",
      "Epoch 4/20\n",
      "368/368 [==============================] - 1s 3ms/step - loss: 0.2107 - mean_absolute_error: 0.3081 - val_loss: 0.1557 - val_mean_absolute_error: 0.2675\n",
      "Epoch 5/20\n",
      "368/368 [==============================] - 1s 3ms/step - loss: 0.2090 - mean_absolute_error: 0.3070 - val_loss: 0.1566 - val_mean_absolute_error: 0.2654\n",
      "Epoch 6/20\n",
      "368/368 [==============================] - 1s 3ms/step - loss: 0.2098 - mean_absolute_error: 0.3071 - val_loss: 0.1555 - val_mean_absolute_error: 0.2724\n",
      "Epoch 7/20\n",
      "368/368 [==============================] - 1s 3ms/step - loss: 0.2101 - mean_absolute_error: 0.3068 - val_loss: 0.1555 - val_mean_absolute_error: 0.2725\n",
      "Epoch 8/20\n",
      "368/368 [==============================] - 1s 3ms/step - loss: 0.2094 - mean_absolute_error: 0.3072 - val_loss: 0.1570 - val_mean_absolute_error: 0.2648\n",
      "***TRAIN***:\n",
      "correlation related to cluster centre: 0.89\n",
      "r2 score related to cluster centre: 0.79\n",
      "***VALIDATION***:\n",
      "correlation related to cluster centre: 0.91\n",
      "r2 score related to cluster centre: 0.82\n"
     ]
    },
    {
     "data": {
      "application/vnd.jupyter.widget-view+json": {
       "model_id": "904ed337fd144e0096c27e3adfbbd6e0",
       "version_major": 2,
       "version_minor": 0
      },
      "text/plain": [
       "IntProgress(value=0, max=37)"
      ]
     },
     "metadata": {},
     "output_type": "display_data"
    },
    {
     "name": "stdout",
     "output_type": "stream",
     "text": [
      "***VALIDATION***:\n",
      "average correlation: 0.91\n",
      "average r2: 0.82\n",
      "---do_investigations. cluster index : 5---\n"
     ]
    },
    {
     "data": {
      "application/vnd.jupyter.widget-view+json": {
       "model_id": "07e7904cdeac48ba890d99c000ae4648",
       "version_major": 2,
       "version_minor": 0
      },
      "text/plain": [
       "IntProgress(value=0, max=13)"
      ]
     },
     "metadata": {},
     "output_type": "display_data"
    },
    {
     "name": "stdout",
     "output_type": "stream",
     "text": [
      "Epoch 1/20\n",
      "368/368 [==============================] - 2s 4ms/step - loss: 0.2743 - mean_absolute_error: 0.3597 - val_loss: 0.1793 - val_mean_absolute_error: 0.3012\n",
      "Epoch 2/20\n",
      "368/368 [==============================] - 1s 3ms/step - loss: 0.2055 - mean_absolute_error: 0.3123 - val_loss: 0.1775 - val_mean_absolute_error: 0.2974\n",
      "Epoch 3/20\n",
      "368/368 [==============================] - 1s 4ms/step - loss: 0.2043 - mean_absolute_error: 0.3109 - val_loss: 0.1791 - val_mean_absolute_error: 0.2933\n",
      "Epoch 4/20\n",
      "368/368 [==============================] - 1s 4ms/step - loss: 0.2038 - mean_absolute_error: 0.3101 - val_loss: 0.1788 - val_mean_absolute_error: 0.2976\n",
      "***TRAIN***:\n",
      "correlation related to cluster centre: 0.89\n",
      "r2 score related to cluster centre: 0.80\n",
      "***VALIDATION***:\n",
      "correlation related to cluster centre: 0.91\n",
      "r2 score related to cluster centre: 0.82\n"
     ]
    },
    {
     "data": {
      "application/vnd.jupyter.widget-view+json": {
       "model_id": "9758078d3b584897a9091afa9b753a07",
       "version_major": 2,
       "version_minor": 0
      },
      "text/plain": [
       "IntProgress(value=0, max=13)"
      ]
     },
     "metadata": {},
     "output_type": "display_data"
    },
    {
     "name": "stdout",
     "output_type": "stream",
     "text": [
      "***VALIDATION***:\n",
      "average correlation: 0.91\n",
      "average r2: 0.82\n",
      "---do_investigations. cluster index : 6---\n"
     ]
    },
    {
     "data": {
      "application/vnd.jupyter.widget-view+json": {
       "model_id": "e364af1562af4cb0a7b1797a7b1b1d8f",
       "version_major": 2,
       "version_minor": 0
      },
      "text/plain": [
       "IntProgress(value=0, max=3)"
      ]
     },
     "metadata": {},
     "output_type": "display_data"
    },
    {
     "name": "stdout",
     "output_type": "stream",
     "text": [
      "Epoch 1/20\n",
      "368/368 [==============================] - 2s 4ms/step - loss: 0.2604 - mean_absolute_error: 0.3564 - val_loss: 0.1445 - val_mean_absolute_error: 0.2675\n",
      "Epoch 2/20\n",
      "368/368 [==============================] - 1s 3ms/step - loss: 0.2007 - mean_absolute_error: 0.3077 - val_loss: 0.1444 - val_mean_absolute_error: 0.2648\n",
      "Epoch 3/20\n",
      "368/368 [==============================] - 1s 3ms/step - loss: 0.2002 - mean_absolute_error: 0.3073 - val_loss: 0.1446 - val_mean_absolute_error: 0.2693\n",
      "Epoch 4/20\n",
      "368/368 [==============================] - 1s 3ms/step - loss: 0.1996 - mean_absolute_error: 0.3068 - val_loss: 0.1460 - val_mean_absolute_error: 0.2710\n",
      "***TRAIN***:\n",
      "correlation related to cluster centre: 0.90\n",
      "r2 score related to cluster centre: 0.80\n",
      "***VALIDATION***:\n",
      "correlation related to cluster centre: 0.91\n",
      "r2 score related to cluster centre: 0.82\n"
     ]
    },
    {
     "data": {
      "application/vnd.jupyter.widget-view+json": {
       "model_id": "f43ea94549644bd6bee8707ba9e35d40",
       "version_major": 2,
       "version_minor": 0
      },
      "text/plain": [
       "IntProgress(value=0, max=3)"
      ]
     },
     "metadata": {},
     "output_type": "display_data"
    },
    {
     "name": "stdout",
     "output_type": "stream",
     "text": [
      "***VALIDATION***:\n",
      "average correlation: 0.91\n",
      "average r2: 0.82\n",
      "---do_investigations. cluster index : 7---\n"
     ]
    },
    {
     "data": {
      "application/vnd.jupyter.widget-view+json": {
       "model_id": "3e15e99e939047458ae11b4fb37abc3f",
       "version_major": 2,
       "version_minor": 0
      },
      "text/plain": [
       "IntProgress(value=0, max=4)"
      ]
     },
     "metadata": {},
     "output_type": "display_data"
    },
    {
     "name": "stdout",
     "output_type": "stream",
     "text": [
      "Epoch 1/20\n",
      "368/368 [==============================] - 2s 4ms/step - loss: 0.2423 - mean_absolute_error: 0.3375 - val_loss: 0.1305 - val_mean_absolute_error: 0.2495\n",
      "Epoch 2/20\n",
      "368/368 [==============================] - 1s 3ms/step - loss: 0.1936 - mean_absolute_error: 0.2976 - val_loss: 0.1330 - val_mean_absolute_error: 0.2546\n",
      "Epoch 3/20\n",
      "368/368 [==============================] - 1s 3ms/step - loss: 0.1913 - mean_absolute_error: 0.2958 - val_loss: 0.1263 - val_mean_absolute_error: 0.2490\n",
      "Epoch 4/20\n",
      "368/368 [==============================] - 1s 3ms/step - loss: 0.1920 - mean_absolute_error: 0.2957 - val_loss: 0.1298 - val_mean_absolute_error: 0.2649\n",
      "Epoch 5/20\n",
      "368/368 [==============================] - 1s 3ms/step - loss: 0.1914 - mean_absolute_error: 0.2959 - val_loss: 0.1287 - val_mean_absolute_error: 0.2603\n",
      "***TRAIN***:\n",
      "correlation related to cluster centre: 0.90\n",
      "r2 score related to cluster centre: 0.81\n",
      "***VALIDATION***:\n",
      "correlation related to cluster centre: 0.92\n",
      "r2 score related to cluster centre: 0.83\n"
     ]
    },
    {
     "data": {
      "application/vnd.jupyter.widget-view+json": {
       "model_id": "0a6d7c31f0da42268e95c8e92dc8814b",
       "version_major": 2,
       "version_minor": 0
      },
      "text/plain": [
       "IntProgress(value=0, max=4)"
      ]
     },
     "metadata": {},
     "output_type": "display_data"
    },
    {
     "name": "stdout",
     "output_type": "stream",
     "text": [
      "***VALIDATION***:\n",
      "average correlation: 0.92\n",
      "average r2: 0.83\n",
      "---do_investigations. cluster index : 8---\n"
     ]
    },
    {
     "data": {
      "application/vnd.jupyter.widget-view+json": {
       "model_id": "bdf3ee34258c4b3d8bbcd0b5348c705a",
       "version_major": 2,
       "version_minor": 0
      },
      "text/plain": [
       "IntProgress(value=0, max=28)"
      ]
     },
     "metadata": {},
     "output_type": "display_data"
    },
    {
     "name": "stdout",
     "output_type": "stream",
     "text": [
      "Epoch 1/20\n",
      "368/368 [==============================] - 2s 4ms/step - loss: 0.2283 - mean_absolute_error: 0.3268 - val_loss: 0.1394 - val_mean_absolute_error: 0.2602\n",
      "Epoch 2/20\n",
      "368/368 [==============================] - 1s 3ms/step - loss: 0.1895 - mean_absolute_error: 0.2961 - val_loss: 0.1377 - val_mean_absolute_error: 0.2574\n",
      "Epoch 3/20\n",
      "368/368 [==============================] - 1s 3ms/step - loss: 0.1897 - mean_absolute_error: 0.2963 - val_loss: 0.1375 - val_mean_absolute_error: 0.2587\n",
      "Epoch 4/20\n",
      "368/368 [==============================] - 1s 3ms/step - loss: 0.1887 - mean_absolute_error: 0.2959 - val_loss: 0.1370 - val_mean_absolute_error: 0.2570\n",
      "Epoch 5/20\n",
      "368/368 [==============================] - 1s 3ms/step - loss: 0.1882 - mean_absolute_error: 0.2951 - val_loss: 0.1367 - val_mean_absolute_error: 0.2566\n",
      "Epoch 6/20\n",
      "368/368 [==============================] - 1s 3ms/step - loss: 0.1889 - mean_absolute_error: 0.2955 - val_loss: 0.1372 - val_mean_absolute_error: 0.2609\n",
      "Epoch 7/20\n",
      "368/368 [==============================] - 1s 3ms/step - loss: 0.1877 - mean_absolute_error: 0.2945 - val_loss: 0.1371 - val_mean_absolute_error: 0.2597\n",
      "***TRAIN***:\n",
      "correlation related to cluster centre: 0.90\n",
      "r2 score related to cluster centre: 0.81\n",
      "***VALIDATION***:\n",
      "correlation related to cluster centre: 0.91\n",
      "r2 score related to cluster centre: 0.83\n"
     ]
    },
    {
     "data": {
      "application/vnd.jupyter.widget-view+json": {
       "model_id": "05fed312c4a64f919478fce00ea6e399",
       "version_major": 2,
       "version_minor": 0
      },
      "text/plain": [
       "IntProgress(value=0, max=28)"
      ]
     },
     "metadata": {},
     "output_type": "display_data"
    },
    {
     "name": "stdout",
     "output_type": "stream",
     "text": [
      "***VALIDATION***:\n",
      "average correlation: 0.91\n",
      "average r2: 0.83\n",
      "---do_investigations. cluster index : 9---\n"
     ]
    },
    {
     "data": {
      "application/vnd.jupyter.widget-view+json": {
       "model_id": "85330a73aecc4d3e82b8f81805e2b2d2",
       "version_major": 2,
       "version_minor": 0
      },
      "text/plain": [
       "IntProgress(value=0, max=36)"
      ]
     },
     "metadata": {},
     "output_type": "display_data"
    },
    {
     "name": "stdout",
     "output_type": "stream",
     "text": [
      "Epoch 1/20\n",
      "368/368 [==============================] - 2s 4ms/step - loss: 0.2069 - mean_absolute_error: 0.3167 - val_loss: 0.1410 - val_mean_absolute_error: 0.2621\n",
      "Epoch 2/20\n",
      "368/368 [==============================] - 1s 3ms/step - loss: 0.1900 - mean_absolute_error: 0.2982 - val_loss: 0.1405 - val_mean_absolute_error: 0.2591\n",
      "Epoch 3/20\n",
      "368/368 [==============================] - 1s 4ms/step - loss: 0.1904 - mean_absolute_error: 0.2991 - val_loss: 0.1426 - val_mean_absolute_error: 0.2604\n",
      "Epoch 4/20\n",
      "368/368 [==============================] - 1s 3ms/step - loss: 0.1890 - mean_absolute_error: 0.2974 - val_loss: 0.1394 - val_mean_absolute_error: 0.2567\n",
      "Epoch 5/20\n",
      "368/368 [==============================] - 1s 4ms/step - loss: 0.1886 - mean_absolute_error: 0.2971 - val_loss: 0.1443 - val_mean_absolute_error: 0.2671\n",
      "Epoch 6/20\n",
      "368/368 [==============================] - 1s 4ms/step - loss: 0.1887 - mean_absolute_error: 0.2971 - val_loss: 0.1388 - val_mean_absolute_error: 0.2595\n",
      "Epoch 7/20\n",
      "368/368 [==============================] - 1s 4ms/step - loss: 0.1880 - mean_absolute_error: 0.2965 - val_loss: 0.1380 - val_mean_absolute_error: 0.2609\n",
      "Epoch 8/20\n",
      "368/368 [==============================] - 1s 4ms/step - loss: 0.1885 - mean_absolute_error: 0.2968 - val_loss: 0.1394 - val_mean_absolute_error: 0.2584\n",
      "Epoch 9/20\n",
      "368/368 [==============================] - 1s 4ms/step - loss: 0.1875 - mean_absolute_error: 0.2960 - val_loss: 0.1396 - val_mean_absolute_error: 0.2585\n",
      "***TRAIN***:\n",
      "correlation related to cluster centre: 0.90\n",
      "r2 score related to cluster centre: 0.81\n",
      "***VALIDATION***:\n",
      "correlation related to cluster centre: 0.91\n",
      "r2 score related to cluster centre: 0.83\n"
     ]
    },
    {
     "data": {
      "application/vnd.jupyter.widget-view+json": {
       "model_id": "2e2d428f64e140f0acb58265a2fc9edf",
       "version_major": 2,
       "version_minor": 0
      },
      "text/plain": [
       "IntProgress(value=0, max=36)"
      ]
     },
     "metadata": {},
     "output_type": "display_data"
    },
    {
     "name": "stdout",
     "output_type": "stream",
     "text": [
      "***VALIDATION***:\n",
      "average correlation: 0.91\n",
      "average r2: 0.83\n",
      "---do_investigations. cluster index : 10---\n"
     ]
    },
    {
     "data": {
      "application/vnd.jupyter.widget-view+json": {
       "model_id": "709537de6ffd43139aacabc10ddb9086",
       "version_major": 2,
       "version_minor": 0
      },
      "text/plain": [
       "IntProgress(value=0, max=4)"
      ]
     },
     "metadata": {},
     "output_type": "display_data"
    },
    {
     "name": "stdout",
     "output_type": "stream",
     "text": [
      "Epoch 1/20\n",
      "368/368 [==============================] - 3s 4ms/step - loss: 0.2201 - mean_absolute_error: 0.3176 - val_loss: 0.2124 - val_mean_absolute_error: 0.3123\n",
      "Epoch 2/20\n",
      "368/368 [==============================] - 1s 4ms/step - loss: 0.1617 - mean_absolute_error: 0.2726 - val_loss: 0.2097 - val_mean_absolute_error: 0.3117\n",
      "Epoch 3/20\n",
      "368/368 [==============================] - 1s 4ms/step - loss: 0.1605 - mean_absolute_error: 0.2714 - val_loss: 0.2099 - val_mean_absolute_error: 0.3112\n",
      "Epoch 4/20\n",
      "368/368 [==============================] - 1s 4ms/step - loss: 0.1604 - mean_absolute_error: 0.2720 - val_loss: 0.2114 - val_mean_absolute_error: 0.3114\n",
      "***TRAIN***:\n",
      "correlation related to cluster centre: 0.92\n",
      "r2 score related to cluster centre: 0.84\n",
      "***VALIDATION***:\n",
      "correlation related to cluster centre: 0.91\n",
      "r2 score related to cluster centre: 0.83\n"
     ]
    },
    {
     "data": {
      "application/vnd.jupyter.widget-view+json": {
       "model_id": "78c47cc26dc84937a94b12522d3e2e2a",
       "version_major": 2,
       "version_minor": 0
      },
      "text/plain": [
       "IntProgress(value=0, max=4)"
      ]
     },
     "metadata": {},
     "output_type": "display_data"
    },
    {
     "name": "stdout",
     "output_type": "stream",
     "text": [
      "***VALIDATION***:\n",
      "average correlation: 0.91\n",
      "average r2: 0.83\n",
      "---do_investigations. cluster index : 11---\n"
     ]
    },
    {
     "data": {
      "application/vnd.jupyter.widget-view+json": {
       "model_id": "8fc632c2313e46e5b5b293ec030c94b1",
       "version_major": 2,
       "version_minor": 0
      },
      "text/plain": [
       "IntProgress(value=0, max=40)"
      ]
     },
     "metadata": {},
     "output_type": "display_data"
    },
    {
     "name": "stdout",
     "output_type": "stream",
     "text": [
      "Epoch 1/20\n",
      "368/368 [==============================] - 3s 4ms/step - loss: 0.2282 - mean_absolute_error: 0.3374 - val_loss: 0.1644 - val_mean_absolute_error: 0.3032\n",
      "Epoch 2/20\n",
      "368/368 [==============================] - 1s 4ms/step - loss: 0.1907 - mean_absolute_error: 0.3037 - val_loss: 0.1528 - val_mean_absolute_error: 0.2801\n",
      "Epoch 3/20\n",
      "368/368 [==============================] - 1s 4ms/step - loss: 0.1897 - mean_absolute_error: 0.3021 - val_loss: 0.1528 - val_mean_absolute_error: 0.2830\n",
      "Epoch 4/20\n",
      "368/368 [==============================] - 1s 4ms/step - loss: 0.1892 - mean_absolute_error: 0.3018 - val_loss: 0.1509 - val_mean_absolute_error: 0.2790\n",
      "Epoch 5/20\n",
      "368/368 [==============================] - 1s 3ms/step - loss: 0.1889 - mean_absolute_error: 0.3014 - val_loss: 0.1523 - val_mean_absolute_error: 0.2805\n",
      "Epoch 6/20\n",
      "368/368 [==============================] - 1s 3ms/step - loss: 0.1892 - mean_absolute_error: 0.3016 - val_loss: 0.1514 - val_mean_absolute_error: 0.2797\n",
      "***TRAIN***:\n",
      "correlation related to cluster centre: 0.90\n",
      "r2 score related to cluster centre: 0.81\n",
      "***VALIDATION***:\n",
      "correlation related to cluster centre: 0.91\n",
      "r2 score related to cluster centre: 0.83\n"
     ]
    },
    {
     "data": {
      "application/vnd.jupyter.widget-view+json": {
       "model_id": "4194aad7d6b0440b8efffc3c1eaa2d17",
       "version_major": 2,
       "version_minor": 0
      },
      "text/plain": [
       "IntProgress(value=0, max=40)"
      ]
     },
     "metadata": {},
     "output_type": "display_data"
    },
    {
     "name": "stdout",
     "output_type": "stream",
     "text": [
      "***VALIDATION***:\n",
      "average correlation: 0.91\n",
      "average r2: 0.82\n",
      "---do_investigations. cluster index : 12---\n"
     ]
    },
    {
     "data": {
      "application/vnd.jupyter.widget-view+json": {
       "model_id": "7cbbbecfcff7438a857ffe94e6f0a449",
       "version_major": 2,
       "version_minor": 0
      },
      "text/plain": [
       "IntProgress(value=0, max=87)"
      ]
     },
     "metadata": {},
     "output_type": "display_data"
    },
    {
     "name": "stdout",
     "output_type": "stream",
     "text": [
      "Epoch 1/20\n",
      "368/368 [==============================] - 3s 4ms/step - loss: 0.2414 - mean_absolute_error: 0.3514 - val_loss: 0.1565 - val_mean_absolute_error: 0.2779\n",
      "Epoch 2/20\n",
      "368/368 [==============================] - 1s 3ms/step - loss: 0.1920 - mean_absolute_error: 0.3036 - val_loss: 0.1574 - val_mean_absolute_error: 0.2769\n",
      "Epoch 3/20\n",
      "368/368 [==============================] - 1s 3ms/step - loss: 0.1914 - mean_absolute_error: 0.3025 - val_loss: 0.1588 - val_mean_absolute_error: 0.2764\n",
      "***TRAIN***:\n",
      "correlation related to cluster centre: 0.90\n",
      "r2 score related to cluster centre: 0.80\n",
      "***VALIDATION***:\n",
      "correlation related to cluster centre: 0.91\n",
      "r2 score related to cluster centre: 0.82\n"
     ]
    },
    {
     "data": {
      "application/vnd.jupyter.widget-view+json": {
       "model_id": "0f1237b47e1549aba557e99cd5af0b47",
       "version_major": 2,
       "version_minor": 0
      },
      "text/plain": [
       "IntProgress(value=0, max=87)"
      ]
     },
     "metadata": {},
     "output_type": "display_data"
    },
    {
     "name": "stdout",
     "output_type": "stream",
     "text": [
      "***VALIDATION***:\n",
      "average correlation: 0.91\n",
      "average r2: 0.80\n",
      "---do_investigations. cluster index : 13---\n"
     ]
    },
    {
     "data": {
      "application/vnd.jupyter.widget-view+json": {
       "model_id": "b3bca84940954b6993ddfea9e648898e",
       "version_major": 2,
       "version_minor": 0
      },
      "text/plain": [
       "IntProgress(value=0, max=1898)"
      ]
     },
     "metadata": {},
     "output_type": "display_data"
    },
    {
     "name": "stdout",
     "output_type": "stream",
     "text": [
      "Epoch 1/20\n",
      "368/368 [==============================] - 2s 4ms/step - loss: 0.2309 - mean_absolute_error: 0.3417 - val_loss: 0.1927 - val_mean_absolute_error: 0.3026\n",
      "Epoch 2/20\n",
      "368/368 [==============================] - 1s 3ms/step - loss: 0.2029 - mean_absolute_error: 0.3135 - val_loss: 0.1944 - val_mean_absolute_error: 0.3003\n",
      "Epoch 3/20\n",
      "368/368 [==============================] - 1s 3ms/step - loss: 0.2013 - mean_absolute_error: 0.3120 - val_loss: 0.1942 - val_mean_absolute_error: 0.3001\n",
      "***TRAIN***:\n",
      "correlation related to cluster centre: 0.90\n",
      "r2 score related to cluster centre: 0.80\n",
      "***VALIDATION***:\n",
      "correlation related to cluster centre: 0.90\n",
      "r2 score related to cluster centre: 0.82\n"
     ]
    },
    {
     "data": {
      "application/vnd.jupyter.widget-view+json": {
       "model_id": "494e5902dac842738a0d3743323a720f",
       "version_major": 2,
       "version_minor": 0
      },
      "text/plain": [
       "IntProgress(value=0, max=1898)"
      ]
     },
     "metadata": {},
     "output_type": "display_data"
    },
    {
     "name": "stdout",
     "output_type": "stream",
     "text": [
      "***VALIDATION***:\n",
      "average correlation: 0.90\n",
      "average r2: -0.22\n",
      "---do_investigations. cluster index : 14---\n"
     ]
    },
    {
     "data": {
      "application/vnd.jupyter.widget-view+json": {
       "model_id": "1467c981a3994bc294dd9c1dd01dbf60",
       "version_major": 2,
       "version_minor": 0
      },
      "text/plain": [
       "IntProgress(value=0, max=28)"
      ]
     },
     "metadata": {},
     "output_type": "display_data"
    },
    {
     "name": "stdout",
     "output_type": "stream",
     "text": [
      "Epoch 1/20\n",
      "368/368 [==============================] - 3s 4ms/step - loss: 0.2636 - mean_absolute_error: 0.3283 - val_loss: 0.1759 - val_mean_absolute_error: 0.2779\n",
      "Epoch 2/20\n",
      "368/368 [==============================] - 1s 4ms/step - loss: 0.2137 - mean_absolute_error: 0.2918 - val_loss: 0.1692 - val_mean_absolute_error: 0.2652\n",
      "Epoch 3/20\n",
      "368/368 [==============================] - 1s 3ms/step - loss: 0.2104 - mean_absolute_error: 0.2906 - val_loss: 0.1683 - val_mean_absolute_error: 0.2717\n",
      "Epoch 4/20\n",
      "368/368 [==============================] - 1s 3ms/step - loss: 0.2089 - mean_absolute_error: 0.2883 - val_loss: 0.1681 - val_mean_absolute_error: 0.2700\n",
      "Epoch 5/20\n",
      "368/368 [==============================] - 1s 3ms/step - loss: 0.2095 - mean_absolute_error: 0.2883 - val_loss: 0.1674 - val_mean_absolute_error: 0.2594\n",
      "Epoch 6/20\n",
      "368/368 [==============================] - 1s 4ms/step - loss: 0.2084 - mean_absolute_error: 0.2884 - val_loss: 0.1660 - val_mean_absolute_error: 0.2679\n",
      "Epoch 7/20\n",
      "368/368 [==============================] - 1s 3ms/step - loss: 0.2083 - mean_absolute_error: 0.2877 - val_loss: 0.1659 - val_mean_absolute_error: 0.2660\n",
      "Epoch 8/20\n",
      "368/368 [==============================] - 1s 3ms/step - loss: 0.2081 - mean_absolute_error: 0.2876 - val_loss: 0.1660 - val_mean_absolute_error: 0.2676\n",
      "Epoch 9/20\n",
      "368/368 [==============================] - 1s 4ms/step - loss: 0.2082 - mean_absolute_error: 0.2881 - val_loss: 0.1679 - val_mean_absolute_error: 0.2686\n",
      "***TRAIN***:\n",
      "correlation related to cluster centre: 0.89\n",
      "r2 score related to cluster centre: 0.79\n",
      "***VALIDATION***:\n",
      "correlation related to cluster centre: 0.90\n",
      "r2 score related to cluster centre: 0.82\n"
     ]
    },
    {
     "data": {
      "application/vnd.jupyter.widget-view+json": {
       "model_id": "952a87f878374e87889bc9e4746a2a82",
       "version_major": 2,
       "version_minor": 0
      },
      "text/plain": [
       "IntProgress(value=0, max=28)"
      ]
     },
     "metadata": {},
     "output_type": "display_data"
    },
    {
     "name": "stdout",
     "output_type": "stream",
     "text": [
      "***VALIDATION***:\n",
      "average correlation: 0.90\n",
      "average r2: 0.81\n",
      "---do_investigations. cluster index : 15---\n"
     ]
    },
    {
     "data": {
      "application/vnd.jupyter.widget-view+json": {
       "model_id": "cbee72c37b0c4a14a46e6e779f437328",
       "version_major": 2,
       "version_minor": 0
      },
      "text/plain": [
       "IntProgress(value=0, max=5)"
      ]
     },
     "metadata": {},
     "output_type": "display_data"
    },
    {
     "name": "stdout",
     "output_type": "stream",
     "text": [
      "Epoch 1/20\n",
      "368/368 [==============================] - 9s 4ms/step - loss: 0.2431 - mean_absolute_error: 0.3235 - val_loss: 0.2352 - val_mean_absolute_error: 0.3129\n",
      "Epoch 2/20\n",
      "368/368 [==============================] - 1s 3ms/step - loss: 0.2086 - mean_absolute_error: 0.2990 - val_loss: 0.2354 - val_mean_absolute_error: 0.3104\n",
      "Epoch 3/20\n",
      "368/368 [==============================] - 1s 3ms/step - loss: 0.2080 - mean_absolute_error: 0.2978 - val_loss: 0.2338 - val_mean_absolute_error: 0.3146\n",
      "Epoch 4/20\n",
      "368/368 [==============================] - 1s 4ms/step - loss: 0.2079 - mean_absolute_error: 0.2973 - val_loss: 0.2345 - val_mean_absolute_error: 0.3121\n",
      "Epoch 5/20\n",
      "368/368 [==============================] - 1s 3ms/step - loss: 0.2075 - mean_absolute_error: 0.2976 - val_loss: 0.2341 - val_mean_absolute_error: 0.3177\n",
      "***TRAIN***:\n",
      "correlation related to cluster centre: 0.89\n",
      "r2 score related to cluster centre: 0.80\n",
      "***VALIDATION***:\n",
      "correlation related to cluster centre: 0.90\n",
      "r2 score related to cluster centre: 0.82\n"
     ]
    },
    {
     "data": {
      "application/vnd.jupyter.widget-view+json": {
       "model_id": "e4f6951388f9464f9c672a42673cddf3",
       "version_major": 2,
       "version_minor": 0
      },
      "text/plain": [
       "IntProgress(value=0, max=5)"
      ]
     },
     "metadata": {},
     "output_type": "display_data"
    },
    {
     "name": "stdout",
     "output_type": "stream",
     "text": [
      "***VALIDATION***:\n",
      "average correlation: 0.90\n",
      "average r2: 0.81\n",
      "---do_investigations. cluster index : 16---\n"
     ]
    },
    {
     "data": {
      "application/vnd.jupyter.widget-view+json": {
       "model_id": "788e52dbc56347e18dee4e840c2cc8e7",
       "version_major": 2,
       "version_minor": 0
      },
      "text/plain": [
       "IntProgress(value=0, max=5)"
      ]
     },
     "metadata": {},
     "output_type": "display_data"
    },
    {
     "name": "stdout",
     "output_type": "stream",
     "text": [
      "Epoch 1/20\n",
      "368/368 [==============================] - 2s 4ms/step - loss: 0.2325 - mean_absolute_error: 0.3375 - val_loss: 0.1495 - val_mean_absolute_error: 0.2680\n",
      "Epoch 2/20\n",
      "368/368 [==============================] - 1s 3ms/step - loss: 0.1892 - mean_absolute_error: 0.2960 - val_loss: 0.1470 - val_mean_absolute_error: 0.2680\n",
      "Epoch 3/20\n",
      "368/368 [==============================] - 1s 3ms/step - loss: 0.1879 - mean_absolute_error: 0.2948 - val_loss: 0.1480 - val_mean_absolute_error: 0.2623\n",
      "Epoch 4/20\n",
      "368/368 [==============================] - 1s 4ms/step - loss: 0.1877 - mean_absolute_error: 0.2946 - val_loss: 0.1465 - val_mean_absolute_error: 0.2646\n",
      "Epoch 5/20\n",
      "368/368 [==============================] - 1s 3ms/step - loss: 0.1883 - mean_absolute_error: 0.2957 - val_loss: 0.1462 - val_mean_absolute_error: 0.2624\n",
      "Epoch 6/20\n",
      "368/368 [==============================] - 1s 4ms/step - loss: 0.1869 - mean_absolute_error: 0.2940 - val_loss: 0.1463 - val_mean_absolute_error: 0.2651\n",
      "Epoch 7/20\n",
      "368/368 [==============================] - 2s 4ms/step - loss: 0.1865 - mean_absolute_error: 0.2936 - val_loss: 0.1462 - val_mean_absolute_error: 0.2633\n",
      "Epoch 8/20\n",
      "368/368 [==============================] - 1s 4ms/step - loss: 0.1863 - mean_absolute_error: 0.2933 - val_loss: 0.1460 - val_mean_absolute_error: 0.2617\n",
      "Epoch 9/20\n",
      "368/368 [==============================] - 1s 4ms/step - loss: 0.1871 - mean_absolute_error: 0.2934 - val_loss: 0.1468 - val_mean_absolute_error: 0.2641\n",
      "Epoch 10/20\n",
      "368/368 [==============================] - 1s 3ms/step - loss: 0.1861 - mean_absolute_error: 0.2928 - val_loss: 0.1463 - val_mean_absolute_error: 0.2665\n",
      "***TRAIN***:\n",
      "correlation related to cluster centre: 0.90\n",
      "r2 score related to cluster centre: 0.82\n",
      "***VALIDATION***:\n",
      "correlation related to cluster centre: 0.91\n",
      "r2 score related to cluster centre: 0.83\n"
     ]
    },
    {
     "data": {
      "application/vnd.jupyter.widget-view+json": {
       "model_id": "1a88ad531ef04a57b5f57484cb0652f5",
       "version_major": 2,
       "version_minor": 0
      },
      "text/plain": [
       "IntProgress(value=0, max=5)"
      ]
     },
     "metadata": {},
     "output_type": "display_data"
    },
    {
     "name": "stdout",
     "output_type": "stream",
     "text": [
      "***VALIDATION***:\n",
      "average correlation: 0.91\n",
      "average r2: 0.83\n",
      "---do_investigations. cluster index : 17---\n"
     ]
    },
    {
     "data": {
      "application/vnd.jupyter.widget-view+json": {
       "model_id": "f7bd4dbb2cea46d48db43c88d9cc192e",
       "version_major": 2,
       "version_minor": 0
      },
      "text/plain": [
       "IntProgress(value=0, max=3)"
      ]
     },
     "metadata": {},
     "output_type": "display_data"
    },
    {
     "name": "stdout",
     "output_type": "stream",
     "text": [
      "Epoch 1/20\n",
      "368/368 [==============================] - 2s 4ms/step - loss: 0.2388 - mean_absolute_error: 0.3406 - val_loss: 0.1816 - val_mean_absolute_error: 0.2964\n",
      "Epoch 2/20\n",
      "368/368 [==============================] - 1s 4ms/step - loss: 0.1832 - mean_absolute_error: 0.2962 - val_loss: 0.1760 - val_mean_absolute_error: 0.2912\n",
      "Epoch 3/20\n",
      "368/368 [==============================] - 1s 3ms/step - loss: 0.1821 - mean_absolute_error: 0.2947 - val_loss: 0.1863 - val_mean_absolute_error: 0.2982\n",
      "Epoch 4/20\n",
      "368/368 [==============================] - 1s 3ms/step - loss: 0.1810 - mean_absolute_error: 0.2940 - val_loss: 0.1772 - val_mean_absolute_error: 0.2932\n",
      "***TRAIN***:\n",
      "correlation related to cluster centre: 0.91\n",
      "r2 score related to cluster centre: 0.82\n",
      "***VALIDATION***:\n",
      "correlation related to cluster centre: 0.91\n",
      "r2 score related to cluster centre: 0.83\n"
     ]
    },
    {
     "data": {
      "application/vnd.jupyter.widget-view+json": {
       "model_id": "866fecd8d3ff44f89a5310a74c81549a",
       "version_major": 2,
       "version_minor": 0
      },
      "text/plain": [
       "IntProgress(value=0, max=3)"
      ]
     },
     "metadata": {},
     "output_type": "display_data"
    },
    {
     "name": "stdout",
     "output_type": "stream",
     "text": [
      "***VALIDATION***:\n",
      "average correlation: 0.91\n",
      "average r2: 0.83\n",
      "---do_investigations. cluster index : 18---\n"
     ]
    },
    {
     "data": {
      "application/vnd.jupyter.widget-view+json": {
       "model_id": "0af2498de0e14e159526788981948f19",
       "version_major": 2,
       "version_minor": 0
      },
      "text/plain": [
       "IntProgress(value=0, max=4)"
      ]
     },
     "metadata": {},
     "output_type": "display_data"
    },
    {
     "name": "stdout",
     "output_type": "stream",
     "text": [
      "Epoch 1/20\n",
      "368/368 [==============================] - 2s 4ms/step - loss: 0.2006 - mean_absolute_error: 0.3060 - val_loss: 0.1607 - val_mean_absolute_error: 0.2852\n",
      "Epoch 2/20\n",
      "368/368 [==============================] - 1s 4ms/step - loss: 0.1549 - mean_absolute_error: 0.2703 - val_loss: 0.1642 - val_mean_absolute_error: 0.2814\n",
      "Epoch 3/20\n",
      "368/368 [==============================] - 1s 4ms/step - loss: 0.1542 - mean_absolute_error: 0.2695 - val_loss: 0.1595 - val_mean_absolute_error: 0.2829\n",
      "Epoch 4/20\n",
      "368/368 [==============================] - 1s 4ms/step - loss: 0.1536 - mean_absolute_error: 0.2688 - val_loss: 0.1593 - val_mean_absolute_error: 0.2803\n",
      "Epoch 5/20\n",
      "368/368 [==============================] - 2s 5ms/step - loss: 0.1535 - mean_absolute_error: 0.2688 - val_loss: 0.1591 - val_mean_absolute_error: 0.2841\n",
      "Epoch 6/20\n",
      "368/368 [==============================] - 2s 4ms/step - loss: 0.1531 - mean_absolute_error: 0.2682 - val_loss: 0.1588 - val_mean_absolute_error: 0.2800\n",
      "Epoch 7/20\n",
      "368/368 [==============================] - 2s 4ms/step - loss: 0.1535 - mean_absolute_error: 0.2686 - val_loss: 0.1593 - val_mean_absolute_error: 0.2796\n",
      "Epoch 8/20\n",
      "368/368 [==============================] - 1s 4ms/step - loss: 0.1532 - mean_absolute_error: 0.2682 - val_loss: 0.1600 - val_mean_absolute_error: 0.2841\n",
      "***TRAIN***:\n",
      "correlation related to cluster centre: 0.92\n",
      "r2 score related to cluster centre: 0.84\n",
      "***VALIDATION***:\n",
      "correlation related to cluster centre: 0.91\n",
      "r2 score related to cluster centre: 0.83\n"
     ]
    },
    {
     "data": {
      "application/vnd.jupyter.widget-view+json": {
       "model_id": "1fe3cadd53894675b835396684865219",
       "version_major": 2,
       "version_minor": 0
      },
      "text/plain": [
       "IntProgress(value=0, max=4)"
      ]
     },
     "metadata": {},
     "output_type": "display_data"
    },
    {
     "name": "stdout",
     "output_type": "stream",
     "text": [
      "***VALIDATION***:\n",
      "average correlation: 0.91\n",
      "average r2: 0.83\n",
      "---do_investigations. cluster index : 19---\n"
     ]
    },
    {
     "data": {
      "application/vnd.jupyter.widget-view+json": {
       "model_id": "45c0bfa91acd452ab6093a42ca17d94f",
       "version_major": 2,
       "version_minor": 0
      },
      "text/plain": [
       "IntProgress(value=0, max=3)"
      ]
     },
     "metadata": {},
     "output_type": "display_data"
    },
    {
     "name": "stdout",
     "output_type": "stream",
     "text": [
      "Epoch 1/20\n",
      "368/368 [==============================] - 2s 4ms/step - loss: 0.2724 - mean_absolute_error: 0.3351 - val_loss: 0.2565 - val_mean_absolute_error: 0.3604\n",
      "Epoch 2/20\n",
      "368/368 [==============================] - 1s 4ms/step - loss: 0.1706 - mean_absolute_error: 0.2674 - val_loss: 0.2540 - val_mean_absolute_error: 0.3502\n",
      "Epoch 3/20\n",
      "368/368 [==============================] - 1s 3ms/step - loss: 0.1699 - mean_absolute_error: 0.2667 - val_loss: 0.2516 - val_mean_absolute_error: 0.3505\n",
      "Epoch 4/20\n",
      "368/368 [==============================] - 1s 4ms/step - loss: 0.1687 - mean_absolute_error: 0.2652 - val_loss: 0.2501 - val_mean_absolute_error: 0.3490\n",
      "Epoch 5/20\n",
      "368/368 [==============================] - 1s 3ms/step - loss: 0.1680 - mean_absolute_error: 0.2648 - val_loss: 0.2523 - val_mean_absolute_error: 0.3470\n",
      "Epoch 6/20\n",
      "368/368 [==============================] - 1s 4ms/step - loss: 0.1685 - mean_absolute_error: 0.2653 - val_loss: 0.2499 - val_mean_absolute_error: 0.3493\n",
      "Epoch 7/20\n",
      "368/368 [==============================] - 1s 4ms/step - loss: 0.1682 - mean_absolute_error: 0.2661 - val_loss: 0.2524 - val_mean_absolute_error: 0.3491\n",
      "Epoch 8/20\n",
      "368/368 [==============================] - 1s 4ms/step - loss: 0.1682 - mean_absolute_error: 0.2652 - val_loss: 0.2496 - val_mean_absolute_error: 0.3517\n",
      "Epoch 9/20\n",
      "368/368 [==============================] - 1s 3ms/step - loss: 0.1681 - mean_absolute_error: 0.2649 - val_loss: 0.2517 - val_mean_absolute_error: 0.3520\n",
      "Epoch 10/20\n",
      "368/368 [==============================] - 1s 4ms/step - loss: 0.1678 - mean_absolute_error: 0.2650 - val_loss: 0.2533 - val_mean_absolute_error: 0.3595\n",
      "***TRAIN***:\n",
      "correlation related to cluster centre: 0.91\n",
      "r2 score related to cluster centre: 0.83\n",
      "***VALIDATION***:\n",
      "correlation related to cluster centre: 0.91\n",
      "r2 score related to cluster centre: 0.83\n"
     ]
    },
    {
     "data": {
      "application/vnd.jupyter.widget-view+json": {
       "model_id": "519a05b1e9744f8c994c8921dd109f2c",
       "version_major": 2,
       "version_minor": 0
      },
      "text/plain": [
       "IntProgress(value=0, max=3)"
      ]
     },
     "metadata": {},
     "output_type": "display_data"
    },
    {
     "name": "stdout",
     "output_type": "stream",
     "text": [
      "***VALIDATION***:\n",
      "average correlation: 0.91\n",
      "average r2: 0.83\n",
      "---do_investigations. cluster index : 20---\n"
     ]
    },
    {
     "data": {
      "application/vnd.jupyter.widget-view+json": {
       "model_id": "1ec12d621ee74b5db83b70d661e5a563",
       "version_major": 2,
       "version_minor": 0
      },
      "text/plain": [
       "IntProgress(value=0, max=34)"
      ]
     },
     "metadata": {},
     "output_type": "display_data"
    },
    {
     "name": "stdout",
     "output_type": "stream",
     "text": [
      "Epoch 1/20\n",
      "368/368 [==============================] - 2s 4ms/step - loss: 0.2653 - mean_absolute_error: 0.3354 - val_loss: 0.1651 - val_mean_absolute_error: 0.2768\n",
      "Epoch 2/20\n",
      "368/368 [==============================] - 1s 4ms/step - loss: 0.2104 - mean_absolute_error: 0.2958 - val_loss: 0.1685 - val_mean_absolute_error: 0.2719\n",
      "Epoch 3/20\n",
      "368/368 [==============================] - 1s 4ms/step - loss: 0.2100 - mean_absolute_error: 0.2950 - val_loss: 0.1644 - val_mean_absolute_error: 0.2670\n",
      "Epoch 4/20\n",
      "368/368 [==============================] - 1s 4ms/step - loss: 0.2084 - mean_absolute_error: 0.2943 - val_loss: 0.1638 - val_mean_absolute_error: 0.2701\n",
      "Epoch 5/20\n",
      "368/368 [==============================] - 1s 3ms/step - loss: 0.2088 - mean_absolute_error: 0.2933 - val_loss: 0.1638 - val_mean_absolute_error: 0.2700\n",
      "Epoch 6/20\n",
      "368/368 [==============================] - 1s 4ms/step - loss: 0.2081 - mean_absolute_error: 0.2933 - val_loss: 0.1642 - val_mean_absolute_error: 0.2708\n",
      "Epoch 7/20\n",
      "368/368 [==============================] - 1s 4ms/step - loss: 0.2077 - mean_absolute_error: 0.2935 - val_loss: 0.1656 - val_mean_absolute_error: 0.2719\n",
      "***TRAIN***:\n",
      "correlation related to cluster centre: 0.89\n",
      "r2 score related to cluster centre: 0.79\n",
      "***VALIDATION***:\n",
      "correlation related to cluster centre: 0.91\n",
      "r2 score related to cluster centre: 0.82\n"
     ]
    },
    {
     "data": {
      "application/vnd.jupyter.widget-view+json": {
       "model_id": "e9f33d2f9cfb4ff68fdf2bc0c05e56cb",
       "version_major": 2,
       "version_minor": 0
      },
      "text/plain": [
       "IntProgress(value=0, max=34)"
      ]
     },
     "metadata": {},
     "output_type": "display_data"
    },
    {
     "name": "stdout",
     "output_type": "stream",
     "text": [
      "***VALIDATION***:\n",
      "average correlation: 0.90\n",
      "average r2: 0.82\n",
      "---do_investigations. cluster index : 21---\n"
     ]
    },
    {
     "data": {
      "application/vnd.jupyter.widget-view+json": {
       "model_id": "92ac421c0f1b4b028d8b0f54c8f5ecab",
       "version_major": 2,
       "version_minor": 0
      },
      "text/plain": [
       "IntProgress(value=0, max=1)"
      ]
     },
     "metadata": {},
     "output_type": "display_data"
    },
    {
     "name": "stdout",
     "output_type": "stream",
     "text": [
      "Epoch 1/20\n",
      "368/368 [==============================] - 3s 4ms/step - loss: 0.3051 - mean_absolute_error: 0.3783 - val_loss: 0.2348 - val_mean_absolute_error: 0.3479\n",
      "Epoch 2/20\n",
      "368/368 [==============================] - 1s 4ms/step - loss: 0.2426 - mean_absolute_error: 0.3264 - val_loss: 0.2266 - val_mean_absolute_error: 0.3375\n",
      "Epoch 3/20\n",
      "368/368 [==============================] - 1s 4ms/step - loss: 0.2404 - mean_absolute_error: 0.3251 - val_loss: 0.2263 - val_mean_absolute_error: 0.3349\n",
      "Epoch 4/20\n",
      "368/368 [==============================] - 1s 4ms/step - loss: 0.2404 - mean_absolute_error: 0.3244 - val_loss: 0.2219 - val_mean_absolute_error: 0.3264\n",
      "Epoch 5/20\n",
      "368/368 [==============================] - 1s 4ms/step - loss: 0.2388 - mean_absolute_error: 0.3238 - val_loss: 0.2291 - val_mean_absolute_error: 0.3428\n",
      "Epoch 6/20\n",
      "368/368 [==============================] - 1s 4ms/step - loss: 0.2395 - mean_absolute_error: 0.3245 - val_loss: 0.2251 - val_mean_absolute_error: 0.3381\n",
      "***TRAIN***:\n",
      "correlation related to cluster centre: 0.87\n",
      "r2 score related to cluster centre: 0.76\n",
      "***VALIDATION***:\n",
      "correlation related to cluster centre: 0.89\n",
      "r2 score related to cluster centre: 0.79\n"
     ]
    },
    {
     "data": {
      "application/vnd.jupyter.widget-view+json": {
       "model_id": "a8f17a7a0a3043618c51d40ab89a9106",
       "version_major": 2,
       "version_minor": 0
      },
      "text/plain": [
       "IntProgress(value=0, max=1)"
      ]
     },
     "metadata": {},
     "output_type": "display_data"
    },
    {
     "name": "stdout",
     "output_type": "stream",
     "text": [
      "***VALIDATION***:\n",
      "average correlation: 0.89\n",
      "average r2: 0.79\n",
      "---do_investigations. cluster index : 22---\n"
     ]
    },
    {
     "data": {
      "application/vnd.jupyter.widget-view+json": {
       "model_id": "543e3a04c5da40f0ab1f1baf7f84a953",
       "version_major": 2,
       "version_minor": 0
      },
      "text/plain": [
       "IntProgress(value=0, max=1)"
      ]
     },
     "metadata": {},
     "output_type": "display_data"
    },
    {
     "name": "stdout",
     "output_type": "stream",
     "text": [
      "Epoch 1/20\n",
      "368/368 [==============================] - 2s 4ms/step - loss: 0.2391 - mean_absolute_error: 0.3355 - val_loss: 0.2799 - val_mean_absolute_error: 0.3708\n",
      "Epoch 2/20\n",
      "368/368 [==============================] - 1s 3ms/step - loss: 0.2170 - mean_absolute_error: 0.3151 - val_loss: 0.2799 - val_mean_absolute_error: 0.3739\n",
      "Epoch 3/20\n",
      "368/368 [==============================] - 1s 4ms/step - loss: 0.2153 - mean_absolute_error: 0.3133 - val_loss: 0.2753 - val_mean_absolute_error: 0.3684\n",
      "Epoch 4/20\n",
      "368/368 [==============================] - 1s 4ms/step - loss: 0.2152 - mean_absolute_error: 0.3127 - val_loss: 0.2771 - val_mean_absolute_error: 0.3718\n",
      "Epoch 5/20\n",
      "368/368 [==============================] - 1s 4ms/step - loss: 0.2151 - mean_absolute_error: 0.3130 - val_loss: 0.2760 - val_mean_absolute_error: 0.3661\n",
      "***TRAIN***:\n",
      "correlation related to cluster centre: 0.89\n",
      "r2 score related to cluster centre: 0.79\n",
      "***VALIDATION***:\n",
      "correlation related to cluster centre: 0.90\n",
      "r2 score related to cluster centre: 0.80\n"
     ]
    },
    {
     "data": {
      "application/vnd.jupyter.widget-view+json": {
       "model_id": "8fc08b3ffc8b4184851b5b10bd368822",
       "version_major": 2,
       "version_minor": 0
      },
      "text/plain": [
       "IntProgress(value=0, max=1)"
      ]
     },
     "metadata": {},
     "output_type": "display_data"
    },
    {
     "name": "stdout",
     "output_type": "stream",
     "text": [
      "***VALIDATION***:\n",
      "average correlation: 0.90\n",
      "average r2: 0.80\n",
      "---do_investigations. cluster index : 23---\n"
     ]
    },
    {
     "data": {
      "application/vnd.jupyter.widget-view+json": {
       "model_id": "74b71d1be9564f3cb9d8a8bd185abe5d",
       "version_major": 2,
       "version_minor": 0
      },
      "text/plain": [
       "IntProgress(value=0, max=2)"
      ]
     },
     "metadata": {},
     "output_type": "display_data"
    },
    {
     "name": "stdout",
     "output_type": "stream",
     "text": [
      "Epoch 1/20\n",
      "368/368 [==============================] - 2s 4ms/step - loss: 0.2342 - mean_absolute_error: 0.3440 - val_loss: 0.2391 - val_mean_absolute_error: 0.3443\n",
      "Epoch 2/20\n",
      "368/368 [==============================] - 1s 4ms/step - loss: 0.1943 - mean_absolute_error: 0.3023 - val_loss: 0.2376 - val_mean_absolute_error: 0.3439\n",
      "Epoch 3/20\n",
      "368/368 [==============================] - 1s 4ms/step - loss: 0.1933 - mean_absolute_error: 0.3010 - val_loss: 0.2323 - val_mean_absolute_error: 0.3345\n",
      "Epoch 4/20\n",
      "368/368 [==============================] - 1s 4ms/step - loss: 0.1935 - mean_absolute_error: 0.3008 - val_loss: 0.2499 - val_mean_absolute_error: 0.3529\n",
      "Epoch 5/20\n",
      "368/368 [==============================] - 1s 4ms/step - loss: 0.1928 - mean_absolute_error: 0.3008 - val_loss: 0.2349 - val_mean_absolute_error: 0.3398\n",
      "***TRAIN***:\n",
      "correlation related to cluster centre: 0.90\n",
      "r2 score related to cluster centre: 0.81\n",
      "***VALIDATION***:\n",
      "correlation related to cluster centre: 0.91\n",
      "r2 score related to cluster centre: 0.82\n"
     ]
    },
    {
     "data": {
      "application/vnd.jupyter.widget-view+json": {
       "model_id": "353e8fa7605443bd9e7b54e996737b33",
       "version_major": 2,
       "version_minor": 0
      },
      "text/plain": [
       "IntProgress(value=0, max=2)"
      ]
     },
     "metadata": {},
     "output_type": "display_data"
    },
    {
     "name": "stdout",
     "output_type": "stream",
     "text": [
      "***VALIDATION***:\n",
      "average correlation: 0.91\n",
      "average r2: 0.82\n",
      "---do_investigations. cluster index : 24---\n"
     ]
    },
    {
     "data": {
      "application/vnd.jupyter.widget-view+json": {
       "model_id": "d58d21e854c14b7eacf65119cea3d9f7",
       "version_major": 2,
       "version_minor": 0
      },
      "text/plain": [
       "IntProgress(value=0, max=7)"
      ]
     },
     "metadata": {},
     "output_type": "display_data"
    },
    {
     "name": "stdout",
     "output_type": "stream",
     "text": [
      "Epoch 1/20\n",
      "368/368 [==============================] - 2s 4ms/step - loss: 0.2644 - mean_absolute_error: 0.3537 - val_loss: 0.1481 - val_mean_absolute_error: 0.2765\n",
      "Epoch 2/20\n",
      "368/368 [==============================] - 1s 4ms/step - loss: 0.2144 - mean_absolute_error: 0.3122 - val_loss: 0.1470 - val_mean_absolute_error: 0.2701\n",
      "Epoch 3/20\n",
      "368/368 [==============================] - 1s 4ms/step - loss: 0.2123 - mean_absolute_error: 0.3109 - val_loss: 0.1528 - val_mean_absolute_error: 0.2822\n",
      "Epoch 4/20\n",
      "368/368 [==============================] - 1s 4ms/step - loss: 0.2125 - mean_absolute_error: 0.3112 - val_loss: 0.1517 - val_mean_absolute_error: 0.2845\n",
      "***TRAIN***:\n",
      "correlation related to cluster centre: 0.89\n",
      "r2 score related to cluster centre: 0.79\n",
      "***VALIDATION***:\n",
      "correlation related to cluster centre: 0.91\n",
      "r2 score related to cluster centre: 0.81\n"
     ]
    },
    {
     "data": {
      "application/vnd.jupyter.widget-view+json": {
       "model_id": "8b580a53da524b8cad21459f7ae430e9",
       "version_major": 2,
       "version_minor": 0
      },
      "text/plain": [
       "IntProgress(value=0, max=7)"
      ]
     },
     "metadata": {},
     "output_type": "display_data"
    },
    {
     "name": "stdout",
     "output_type": "stream",
     "text": [
      "***VALIDATION***:\n",
      "average correlation: 0.91\n",
      "average r2: 0.81\n",
      "---do_investigations. cluster index : 25---\n"
     ]
    },
    {
     "data": {
      "application/vnd.jupyter.widget-view+json": {
       "model_id": "38a6d9987b624d47913a8b1086fd7fef",
       "version_major": 2,
       "version_minor": 0
      },
      "text/plain": [
       "IntProgress(value=0, max=1)"
      ]
     },
     "metadata": {},
     "output_type": "display_data"
    },
    {
     "name": "stdout",
     "output_type": "stream",
     "text": [
      "Epoch 1/20\n",
      "368/368 [==============================] - 2s 4ms/step - loss: 0.2706 - mean_absolute_error: 0.3539 - val_loss: 0.1104 - val_mean_absolute_error: 0.2373\n",
      "Epoch 2/20\n",
      "368/368 [==============================] - 1s 4ms/step - loss: 0.2126 - mean_absolute_error: 0.3007 - val_loss: 0.1104 - val_mean_absolute_error: 0.2379\n",
      "Epoch 3/20\n",
      "368/368 [==============================] - 1s 4ms/step - loss: 0.2119 - mean_absolute_error: 0.3000 - val_loss: 0.1070 - val_mean_absolute_error: 0.2285\n",
      "Epoch 4/20\n",
      "368/368 [==============================] - 1s 4ms/step - loss: 0.2114 - mean_absolute_error: 0.2994 - val_loss: 0.1089 - val_mean_absolute_error: 0.2347\n",
      "Epoch 5/20\n",
      "368/368 [==============================] - 1s 4ms/step - loss: 0.2109 - mean_absolute_error: 0.2986 - val_loss: 0.1100 - val_mean_absolute_error: 0.2351\n",
      "***TRAIN***:\n",
      "correlation related to cluster centre: 0.89\n",
      "r2 score related to cluster centre: 0.79\n",
      "***VALIDATION***:\n",
      "correlation related to cluster centre: 0.92\n",
      "r2 score related to cluster centre: 0.83\n"
     ]
    },
    {
     "data": {
      "application/vnd.jupyter.widget-view+json": {
       "model_id": "6b077740fed44df7b9fc363ef0e32057",
       "version_major": 2,
       "version_minor": 0
      },
      "text/plain": [
       "IntProgress(value=0, max=1)"
      ]
     },
     "metadata": {},
     "output_type": "display_data"
    },
    {
     "name": "stdout",
     "output_type": "stream",
     "text": [
      "***VALIDATION***:\n",
      "average correlation: 0.92\n",
      "average r2: 0.83\n",
      "---do_investigations. cluster index : 26---\n"
     ]
    },
    {
     "data": {
      "application/vnd.jupyter.widget-view+json": {
       "model_id": "9e16a7e75b0441e283c8e476e59a483f",
       "version_major": 2,
       "version_minor": 0
      },
      "text/plain": [
       "IntProgress(value=0, max=2)"
      ]
     },
     "metadata": {},
     "output_type": "display_data"
    },
    {
     "name": "stdout",
     "output_type": "stream",
     "text": [
      "Epoch 1/20\n",
      "368/368 [==============================] - 2s 4ms/step - loss: 0.2369 - mean_absolute_error: 0.3120 - val_loss: 0.0714 - val_mean_absolute_error: 0.1840\n",
      "Epoch 2/20\n",
      "368/368 [==============================] - 1s 4ms/step - loss: 0.2049 - mean_absolute_error: 0.2879 - val_loss: 0.0792 - val_mean_absolute_error: 0.1941\n",
      "Epoch 3/20\n",
      "368/368 [==============================] - 1s 4ms/step - loss: 0.2052 - mean_absolute_error: 0.2875 - val_loss: 0.0727 - val_mean_absolute_error: 0.1845\n",
      "***TRAIN***:\n",
      "correlation related to cluster centre: 0.89\n",
      "r2 score related to cluster centre: 0.79\n",
      "***VALIDATION***:\n",
      "correlation related to cluster centre: 0.91\n",
      "r2 score related to cluster centre: 0.82\n"
     ]
    },
    {
     "data": {
      "application/vnd.jupyter.widget-view+json": {
       "model_id": "dc192f5047eb42879a876a3187fd70db",
       "version_major": 2,
       "version_minor": 0
      },
      "text/plain": [
       "IntProgress(value=0, max=2)"
      ]
     },
     "metadata": {},
     "output_type": "display_data"
    },
    {
     "name": "stdout",
     "output_type": "stream",
     "text": [
      "***VALIDATION***:\n",
      "average correlation: 0.92\n",
      "average r2: 0.83\n",
      "---do_investigations. cluster index : 27---\n"
     ]
    },
    {
     "data": {
      "application/vnd.jupyter.widget-view+json": {
       "model_id": "b319b1c35a7048a6a4044229782d76de",
       "version_major": 2,
       "version_minor": 0
      },
      "text/plain": [
       "IntProgress(value=0, max=6)"
      ]
     },
     "metadata": {},
     "output_type": "display_data"
    },
    {
     "name": "stdout",
     "output_type": "stream",
     "text": [
      "Epoch 1/20\n",
      "368/368 [==============================] - 2s 4ms/step - loss: 0.2170 - mean_absolute_error: 0.3121 - val_loss: 0.0844 - val_mean_absolute_error: 0.2042\n",
      "Epoch 2/20\n",
      "368/368 [==============================] - 1s 4ms/step - loss: 0.1735 - mean_absolute_error: 0.2711 - val_loss: 0.0863 - val_mean_absolute_error: 0.2010\n",
      "Epoch 3/20\n",
      "368/368 [==============================] - 1s 4ms/step - loss: 0.1732 - mean_absolute_error: 0.2715 - val_loss: 0.0843 - val_mean_absolute_error: 0.2038\n",
      "Epoch 4/20\n",
      "368/368 [==============================] - 1s 4ms/step - loss: 0.1720 - mean_absolute_error: 0.2701 - val_loss: 0.0833 - val_mean_absolute_error: 0.2012\n",
      "Epoch 5/20\n",
      "368/368 [==============================] - 1s 4ms/step - loss: 0.1717 - mean_absolute_error: 0.2694 - val_loss: 0.0835 - val_mean_absolute_error: 0.2037\n",
      "Epoch 6/20\n",
      "368/368 [==============================] - 1s 4ms/step - loss: 0.1716 - mean_absolute_error: 0.2701 - val_loss: 0.0835 - val_mean_absolute_error: 0.2044\n",
      "***TRAIN***:\n",
      "correlation related to cluster centre: 0.91\n",
      "r2 score related to cluster centre: 0.83\n",
      "***VALIDATION***:\n",
      "correlation related to cluster centre: 0.91\n",
      "r2 score related to cluster centre: 0.83\n"
     ]
    },
    {
     "data": {
      "application/vnd.jupyter.widget-view+json": {
       "model_id": "5d35a13dd7f046f48c3057ea74fc5807",
       "version_major": 2,
       "version_minor": 0
      },
      "text/plain": [
       "IntProgress(value=0, max=6)"
      ]
     },
     "metadata": {},
     "output_type": "display_data"
    },
    {
     "name": "stdout",
     "output_type": "stream",
     "text": [
      "***VALIDATION***:\n",
      "average correlation: 0.91\n",
      "average r2: 0.83\n",
      "---do_investigations. cluster index : 28---\n"
     ]
    },
    {
     "data": {
      "application/vnd.jupyter.widget-view+json": {
       "model_id": "90e3f76d71154ca5b4e1b72a9f49e304",
       "version_major": 2,
       "version_minor": 0
      },
      "text/plain": [
       "IntProgress(value=0, max=1)"
      ]
     },
     "metadata": {},
     "output_type": "display_data"
    },
    {
     "name": "stdout",
     "output_type": "stream",
     "text": [
      "Epoch 1/20\n",
      "368/368 [==============================] - 2s 4ms/step - loss: 0.2908 - mean_absolute_error: 0.3587 - val_loss: 0.2311 - val_mean_absolute_error: 0.3244\n",
      "Epoch 2/20\n",
      "368/368 [==============================] - 1s 4ms/step - loss: 0.2257 - mean_absolute_error: 0.3064 - val_loss: 0.2315 - val_mean_absolute_error: 0.3253\n",
      "Epoch 3/20\n",
      "368/368 [==============================] - 1s 4ms/step - loss: 0.2246 - mean_absolute_error: 0.3053 - val_loss: 0.2311 - val_mean_absolute_error: 0.3188\n",
      "Epoch 4/20\n",
      "368/368 [==============================] - 1s 4ms/step - loss: 0.2243 - mean_absolute_error: 0.3052 - val_loss: 0.2307 - val_mean_absolute_error: 0.3226\n",
      "Epoch 5/20\n",
      "368/368 [==============================] - 1s 3ms/step - loss: 0.2242 - mean_absolute_error: 0.3052 - val_loss: 0.2301 - val_mean_absolute_error: 0.3168\n",
      "Epoch 6/20\n",
      "368/368 [==============================] - 1s 4ms/step - loss: 0.2239 - mean_absolute_error: 0.3050 - val_loss: 0.2315 - val_mean_absolute_error: 0.3255\n",
      "Epoch 7/20\n",
      "368/368 [==============================] - 1s 4ms/step - loss: 0.2233 - mean_absolute_error: 0.3040 - val_loss: 0.2304 - val_mean_absolute_error: 0.3213\n",
      "***TRAIN***:\n",
      "correlation related to cluster centre: 0.88\n",
      "r2 score related to cluster centre: 0.78\n",
      "***VALIDATION***:\n",
      "correlation related to cluster centre: 0.89\n",
      "r2 score related to cluster centre: 0.79\n"
     ]
    },
    {
     "data": {
      "application/vnd.jupyter.widget-view+json": {
       "model_id": "149f0dd872674772a572dfd84cf70a53",
       "version_major": 2,
       "version_minor": 0
      },
      "text/plain": [
       "IntProgress(value=0, max=1)"
      ]
     },
     "metadata": {},
     "output_type": "display_data"
    },
    {
     "name": "stdout",
     "output_type": "stream",
     "text": [
      "***VALIDATION***:\n",
      "average correlation: 0.89\n",
      "average r2: 0.79\n",
      "---do_investigations. cluster index : 29---\n"
     ]
    },
    {
     "data": {
      "application/vnd.jupyter.widget-view+json": {
       "model_id": "a3a45aab426041388fe7336e65e0a0b1",
       "version_major": 2,
       "version_minor": 0
      },
      "text/plain": [
       "IntProgress(value=0, max=4)"
      ]
     },
     "metadata": {},
     "output_type": "display_data"
    },
    {
     "name": "stdout",
     "output_type": "stream",
     "text": [
      "Epoch 1/20\n",
      "368/368 [==============================] - 2s 4ms/step - loss: 0.2701 - mean_absolute_error: 0.3518 - val_loss: 0.1474 - val_mean_absolute_error: 0.2549\n",
      "Epoch 2/20\n",
      "368/368 [==============================] - 1s 4ms/step - loss: 0.2151 - mean_absolute_error: 0.3100 - val_loss: 0.1471 - val_mean_absolute_error: 0.2546\n",
      "Epoch 3/20\n",
      "368/368 [==============================] - 1s 4ms/step - loss: 0.2133 - mean_absolute_error: 0.3077 - val_loss: 0.1462 - val_mean_absolute_error: 0.2550\n",
      "Epoch 4/20\n",
      "368/368 [==============================] - 1s 4ms/step - loss: 0.2130 - mean_absolute_error: 0.3073 - val_loss: 0.1487 - val_mean_absolute_error: 0.2555\n",
      "Epoch 5/20\n",
      "368/368 [==============================] - 1s 4ms/step - loss: 0.2126 - mean_absolute_error: 0.3071 - val_loss: 0.1464 - val_mean_absolute_error: 0.2526\n",
      "***TRAIN***:\n",
      "correlation related to cluster centre: 0.89\n",
      "r2 score related to cluster centre: 0.79\n",
      "***VALIDATION***:\n",
      "correlation related to cluster centre: 0.90\n",
      "r2 score related to cluster centre: 0.82\n"
     ]
    },
    {
     "data": {
      "application/vnd.jupyter.widget-view+json": {
       "model_id": "74af4a4cf3144f11b2951f66abdbabb0",
       "version_major": 2,
       "version_minor": 0
      },
      "text/plain": [
       "IntProgress(value=0, max=4)"
      ]
     },
     "metadata": {},
     "output_type": "display_data"
    },
    {
     "name": "stdout",
     "output_type": "stream",
     "text": [
      "***VALIDATION***:\n",
      "average correlation: 0.90\n",
      "average r2: 0.81\n",
      "---do_investigations. cluster index : 30---\n"
     ]
    },
    {
     "data": {
      "application/vnd.jupyter.widget-view+json": {
       "model_id": "6d9f5d6889d94609956958438177d56e",
       "version_major": 2,
       "version_minor": 0
      },
      "text/plain": [
       "IntProgress(value=0, max=2)"
      ]
     },
     "metadata": {},
     "output_type": "display_data"
    },
    {
     "name": "stdout",
     "output_type": "stream",
     "text": [
      "Epoch 1/20\n",
      "368/368 [==============================] - 2s 4ms/step - loss: 0.2833 - mean_absolute_error: 0.3521 - val_loss: 0.1114 - val_mean_absolute_error: 0.2362\n",
      "Epoch 2/20\n",
      "368/368 [==============================] - 1s 4ms/step - loss: 0.2140 - mean_absolute_error: 0.3041 - val_loss: 0.1099 - val_mean_absolute_error: 0.2260\n",
      "Epoch 3/20\n",
      "368/368 [==============================] - 1s 4ms/step - loss: 0.2123 - mean_absolute_error: 0.3035 - val_loss: 0.1087 - val_mean_absolute_error: 0.2251\n",
      "Epoch 4/20\n",
      "368/368 [==============================] - 1s 4ms/step - loss: 0.2111 - mean_absolute_error: 0.3017 - val_loss: 0.1085 - val_mean_absolute_error: 0.2270\n",
      "Epoch 5/20\n",
      "368/368 [==============================] - 1s 4ms/step - loss: 0.2113 - mean_absolute_error: 0.3020 - val_loss: 0.1088 - val_mean_absolute_error: 0.2280\n",
      "Epoch 6/20\n",
      "368/368 [==============================] - 1s 4ms/step - loss: 0.2114 - mean_absolute_error: 0.3023 - val_loss: 0.1093 - val_mean_absolute_error: 0.2311\n",
      "***TRAIN***:\n",
      "correlation related to cluster centre: 0.89\n",
      "r2 score related to cluster centre: 0.79\n",
      "***VALIDATION***:\n",
      "correlation related to cluster centre: 0.92\n",
      "r2 score related to cluster centre: 0.84\n"
     ]
    },
    {
     "data": {
      "application/vnd.jupyter.widget-view+json": {
       "model_id": "7617f9772d394c01b8c6e72aed532ada",
       "version_major": 2,
       "version_minor": 0
      },
      "text/plain": [
       "IntProgress(value=0, max=2)"
      ]
     },
     "metadata": {},
     "output_type": "display_data"
    },
    {
     "name": "stdout",
     "output_type": "stream",
     "text": [
      "***VALIDATION***:\n",
      "average correlation: 0.92\n",
      "average r2: 0.84\n",
      "---do_investigations. cluster index : 31---\n"
     ]
    },
    {
     "data": {
      "application/vnd.jupyter.widget-view+json": {
       "model_id": "23872e597e8f4125a5fa00f8d29df38c",
       "version_major": 2,
       "version_minor": 0
      },
      "text/plain": [
       "IntProgress(value=0, max=10)"
      ]
     },
     "metadata": {},
     "output_type": "display_data"
    },
    {
     "name": "stdout",
     "output_type": "stream",
     "text": [
      "Epoch 1/20\n",
      "368/368 [==============================] - 2s 4ms/step - loss: 0.2566 - mean_absolute_error: 0.3506 - val_loss: 0.1177 - val_mean_absolute_error: 0.2367\n",
      "Epoch 2/20\n",
      "368/368 [==============================] - 1s 4ms/step - loss: 0.1978 - mean_absolute_error: 0.2971 - val_loss: 0.1174 - val_mean_absolute_error: 0.2329\n",
      "Epoch 3/20\n",
      "368/368 [==============================] - 1s 3ms/step - loss: 0.1974 - mean_absolute_error: 0.2969 - val_loss: 0.1186 - val_mean_absolute_error: 0.2386\n",
      "Epoch 4/20\n",
      "368/368 [==============================] - 1s 4ms/step - loss: 0.1971 - mean_absolute_error: 0.2961 - val_loss: 0.1176 - val_mean_absolute_error: 0.2350\n",
      "***TRAIN***:\n",
      "correlation related to cluster centre: 0.90\n",
      "r2 score related to cluster centre: 0.80\n",
      "***VALIDATION***:\n",
      "correlation related to cluster centre: 0.91\n",
      "r2 score related to cluster centre: 0.84\n"
     ]
    },
    {
     "data": {
      "application/vnd.jupyter.widget-view+json": {
       "model_id": "557359f2e6584b0aa47a04ad3f5f08d0",
       "version_major": 2,
       "version_minor": 0
      },
      "text/plain": [
       "IntProgress(value=0, max=10)"
      ]
     },
     "metadata": {},
     "output_type": "display_data"
    },
    {
     "name": "stdout",
     "output_type": "stream",
     "text": [
      "***VALIDATION***:\n",
      "average correlation: 0.91\n",
      "average r2: 0.83\n",
      "---do_investigations. cluster index : 32---\n"
     ]
    },
    {
     "data": {
      "application/vnd.jupyter.widget-view+json": {
       "model_id": "c7c93017bd854683904032efb03af62f",
       "version_major": 2,
       "version_minor": 0
      },
      "text/plain": [
       "IntProgress(value=0, max=2)"
      ]
     },
     "metadata": {},
     "output_type": "display_data"
    },
    {
     "name": "stdout",
     "output_type": "stream",
     "text": [
      "Epoch 1/20\n",
      "368/368 [==============================] - 2s 4ms/step - loss: 0.2832 - mean_absolute_error: 0.3592 - val_loss: 0.1493 - val_mean_absolute_error: 0.2569\n",
      "Epoch 2/20\n",
      "368/368 [==============================] - 1s 4ms/step - loss: 0.2444 - mean_absolute_error: 0.3227 - val_loss: 0.1483 - val_mean_absolute_error: 0.2595\n",
      "Epoch 3/20\n",
      "368/368 [==============================] - 1s 3ms/step - loss: 0.2438 - mean_absolute_error: 0.3223 - val_loss: 0.1475 - val_mean_absolute_error: 0.2614\n",
      "Epoch 4/20\n",
      "368/368 [==============================] - 1s 4ms/step - loss: 0.2431 - mean_absolute_error: 0.3208 - val_loss: 0.1502 - val_mean_absolute_error: 0.2498\n",
      "Epoch 5/20\n",
      "368/368 [==============================] - 1s 4ms/step - loss: 0.2433 - mean_absolute_error: 0.3201 - val_loss: 0.1479 - val_mean_absolute_error: 0.2617\n",
      "***TRAIN***:\n",
      "correlation related to cluster centre: 0.87\n",
      "r2 score related to cluster centre: 0.76\n",
      "***VALIDATION***:\n",
      "correlation related to cluster centre: 0.88\n",
      "r2 score related to cluster centre: 0.78\n"
     ]
    },
    {
     "data": {
      "application/vnd.jupyter.widget-view+json": {
       "model_id": "fe3f3eff116d4770bc3e7c8298efca02",
       "version_major": 2,
       "version_minor": 0
      },
      "text/plain": [
       "IntProgress(value=0, max=2)"
      ]
     },
     "metadata": {},
     "output_type": "display_data"
    },
    {
     "name": "stdout",
     "output_type": "stream",
     "text": [
      "***VALIDATION***:\n",
      "average correlation: 0.87\n",
      "average r2: 0.76\n",
      "---do_investigations. cluster index : 33---\n"
     ]
    },
    {
     "data": {
      "application/vnd.jupyter.widget-view+json": {
       "model_id": "6285b7c3268c4b5b830fda1c90c97031",
       "version_major": 2,
       "version_minor": 0
      },
      "text/plain": [
       "IntProgress(value=0, max=1)"
      ]
     },
     "metadata": {},
     "output_type": "display_data"
    },
    {
     "name": "stdout",
     "output_type": "stream",
     "text": [
      "Epoch 1/20\n",
      "368/368 [==============================] - 2s 4ms/step - loss: 0.2585 - mean_absolute_error: 0.3457 - val_loss: 0.1363 - val_mean_absolute_error: 0.2503\n",
      "Epoch 2/20\n",
      "368/368 [==============================] - 1s 3ms/step - loss: 0.2261 - mean_absolute_error: 0.3125 - val_loss: 0.1366 - val_mean_absolute_error: 0.2396\n",
      "Epoch 3/20\n",
      "368/368 [==============================] - 1s 3ms/step - loss: 0.2267 - mean_absolute_error: 0.3132 - val_loss: 0.1370 - val_mean_absolute_error: 0.2571\n",
      "***TRAIN***:\n",
      "correlation related to cluster centre: 0.88\n",
      "r2 score related to cluster centre: 0.78\n",
      "***VALIDATION***:\n",
      "correlation related to cluster centre: 0.89\n",
      "r2 score related to cluster centre: 0.79\n"
     ]
    },
    {
     "data": {
      "application/vnd.jupyter.widget-view+json": {
       "model_id": "8261ecc2273e4dc5a5c8b1ca13605274",
       "version_major": 2,
       "version_minor": 0
      },
      "text/plain": [
       "IntProgress(value=0, max=1)"
      ]
     },
     "metadata": {},
     "output_type": "display_data"
    },
    {
     "name": "stdout",
     "output_type": "stream",
     "text": [
      "***VALIDATION***:\n",
      "average correlation: 0.89\n",
      "average r2: 0.79\n",
      "---do_investigations. cluster index : 34---\n"
     ]
    },
    {
     "data": {
      "application/vnd.jupyter.widget-view+json": {
       "model_id": "7644c8f337d345c1828cd5eac4b76b33",
       "version_major": 2,
       "version_minor": 0
      },
      "text/plain": [
       "IntProgress(value=0, max=13)"
      ]
     },
     "metadata": {},
     "output_type": "display_data"
    },
    {
     "name": "stdout",
     "output_type": "stream",
     "text": [
      "Epoch 1/20\n",
      "368/368 [==============================] - 2s 4ms/step - loss: 0.2505 - mean_absolute_error: 0.3416 - val_loss: 0.1474 - val_mean_absolute_error: 0.2737\n",
      "Epoch 2/20\n",
      "368/368 [==============================] - 2s 4ms/step - loss: 0.2078 - mean_absolute_error: 0.3090 - val_loss: 0.1533 - val_mean_absolute_error: 0.2810\n",
      "Epoch 3/20\n",
      "368/368 [==============================] - 1s 4ms/step - loss: 0.2076 - mean_absolute_error: 0.3096 - val_loss: 0.1513 - val_mean_absolute_error: 0.2788\n",
      "***TRAIN***:\n",
      "correlation related to cluster centre: 0.89\n",
      "r2 score related to cluster centre: 0.79\n",
      "***VALIDATION***:\n",
      "correlation related to cluster centre: 0.91\n",
      "r2 score related to cluster centre: 0.82\n"
     ]
    },
    {
     "data": {
      "application/vnd.jupyter.widget-view+json": {
       "model_id": "df7b92e0a1a14e54a108a14f185d8990",
       "version_major": 2,
       "version_minor": 0
      },
      "text/plain": [
       "IntProgress(value=0, max=13)"
      ]
     },
     "metadata": {},
     "output_type": "display_data"
    },
    {
     "name": "stdout",
     "output_type": "stream",
     "text": [
      "***VALIDATION***:\n",
      "average correlation: 0.91\n",
      "average r2: 0.82\n",
      "---do_investigations. cluster index : 35---\n"
     ]
    },
    {
     "data": {
      "application/vnd.jupyter.widget-view+json": {
       "model_id": "2657acc7b81d4156802cd5d731e71b50",
       "version_major": 2,
       "version_minor": 0
      },
      "text/plain": [
       "IntProgress(value=0, max=15)"
      ]
     },
     "metadata": {},
     "output_type": "display_data"
    },
    {
     "name": "stdout",
     "output_type": "stream",
     "text": [
      "Epoch 1/20\n",
      "368/368 [==============================] - 2s 4ms/step - loss: 0.2562 - mean_absolute_error: 0.3437 - val_loss: 0.1360 - val_mean_absolute_error: 0.2629\n",
      "Epoch 2/20\n",
      "368/368 [==============================] - 1s 4ms/step - loss: 0.2053 - mean_absolute_error: 0.3069 - val_loss: 0.1373 - val_mean_absolute_error: 0.2685\n",
      "Epoch 3/20\n",
      "368/368 [==============================] - 1s 3ms/step - loss: 0.2046 - mean_absolute_error: 0.3060 - val_loss: 0.1364 - val_mean_absolute_error: 0.2660\n",
      "***TRAIN***:\n",
      "correlation related to cluster centre: 0.89\n",
      "r2 score related to cluster centre: 0.80\n",
      "***VALIDATION***:\n",
      "correlation related to cluster centre: 0.91\n",
      "r2 score related to cluster centre: 0.82\n"
     ]
    },
    {
     "data": {
      "application/vnd.jupyter.widget-view+json": {
       "model_id": "94e14abc04a54edc82ec26c07d04e6ce",
       "version_major": 2,
       "version_minor": 0
      },
      "text/plain": [
       "IntProgress(value=0, max=15)"
      ]
     },
     "metadata": {},
     "output_type": "display_data"
    },
    {
     "name": "stdout",
     "output_type": "stream",
     "text": [
      "***VALIDATION***:\n",
      "average correlation: 0.91\n",
      "average r2: 0.82\n",
      "---do_investigations. cluster index : 36---\n"
     ]
    },
    {
     "data": {
      "application/vnd.jupyter.widget-view+json": {
       "model_id": "7f507c0ed4044cdabaad0909719c8ee2",
       "version_major": 2,
       "version_minor": 0
      },
      "text/plain": [
       "IntProgress(value=0, max=1)"
      ]
     },
     "metadata": {},
     "output_type": "display_data"
    },
    {
     "name": "stdout",
     "output_type": "stream",
     "text": [
      "Epoch 1/20\n",
      "368/368 [==============================] - 6s 14ms/step - loss: 0.2800 - mean_absolute_error: 0.2716 - val_loss: 0.3023 - val_mean_absolute_error: 0.2894\n",
      "Epoch 2/20\n",
      "368/368 [==============================] - 1s 4ms/step - loss: 0.1958 - mean_absolute_error: 0.2168 - val_loss: 0.3022 - val_mean_absolute_error: 0.2859\n",
      "Epoch 3/20\n",
      "368/368 [==============================] - 1s 4ms/step - loss: 0.1945 - mean_absolute_error: 0.2147 - val_loss: 0.2980 - val_mean_absolute_error: 0.2938\n",
      "Epoch 4/20\n",
      "368/368 [==============================] - 1s 4ms/step - loss: 0.1944 - mean_absolute_error: 0.2154 - val_loss: 0.3064 - val_mean_absolute_error: 0.2898\n",
      "Epoch 5/20\n",
      "368/368 [==============================] - 1s 4ms/step - loss: 0.1948 - mean_absolute_error: 0.2153 - val_loss: 0.3027 - val_mean_absolute_error: 0.2870\n",
      "***TRAIN***:\n",
      "correlation related to cluster centre: 0.90\n",
      "r2 score related to cluster centre: 0.81\n",
      "***VALIDATION***:\n",
      "correlation related to cluster centre: 0.90\n",
      "r2 score related to cluster centre: 0.80\n"
     ]
    },
    {
     "data": {
      "application/vnd.jupyter.widget-view+json": {
       "model_id": "0433aee229e74c47afb6937ac03e985f",
       "version_major": 2,
       "version_minor": 0
      },
      "text/plain": [
       "IntProgress(value=0, max=1)"
      ]
     },
     "metadata": {},
     "output_type": "display_data"
    },
    {
     "name": "stdout",
     "output_type": "stream",
     "text": [
      "***VALIDATION***:\n",
      "average correlation: 0.90\n",
      "average r2: 0.80\n",
      "---do_investigations. cluster index : 37---\n"
     ]
    },
    {
     "data": {
      "application/vnd.jupyter.widget-view+json": {
       "model_id": "f33227217d604e38acbb973decb8c4ab",
       "version_major": 2,
       "version_minor": 0
      },
      "text/plain": [
       "IntProgress(value=0, max=1)"
      ]
     },
     "metadata": {},
     "output_type": "display_data"
    },
    {
     "name": "stdout",
     "output_type": "stream",
     "text": [
      "Epoch 1/20\n",
      "368/368 [==============================] - 2s 4ms/step - loss: 0.2444 - mean_absolute_error: 0.3126 - val_loss: 0.2181 - val_mean_absolute_error: 0.2883\n",
      "Epoch 2/20\n",
      "368/368 [==============================] - 1s 4ms/step - loss: 0.2039 - mean_absolute_error: 0.2864 - val_loss: 0.2224 - val_mean_absolute_error: 0.2910\n",
      "Epoch 3/20\n",
      "368/368 [==============================] - 1s 4ms/step - loss: 0.2029 - mean_absolute_error: 0.2856 - val_loss: 0.2175 - val_mean_absolute_error: 0.2907\n",
      "Epoch 4/20\n",
      "368/368 [==============================] - 1s 4ms/step - loss: 0.2019 - mean_absolute_error: 0.2843 - val_loss: 0.2192 - val_mean_absolute_error: 0.2819\n",
      "Epoch 5/20\n",
      "368/368 [==============================] - 1s 4ms/step - loss: 0.2026 - mean_absolute_error: 0.2852 - val_loss: 0.2178 - val_mean_absolute_error: 0.2843\n",
      "***TRAIN***:\n",
      "correlation related to cluster centre: 0.90\n",
      "r2 score related to cluster centre: 0.80\n",
      "***VALIDATION***:\n",
      "correlation related to cluster centre: 0.90\n",
      "r2 score related to cluster centre: 0.81\n"
     ]
    },
    {
     "data": {
      "application/vnd.jupyter.widget-view+json": {
       "model_id": "40cfe0a0397443969cce4b559d3e6cf7",
       "version_major": 2,
       "version_minor": 0
      },
      "text/plain": [
       "IntProgress(value=0, max=1)"
      ]
     },
     "metadata": {},
     "output_type": "display_data"
    },
    {
     "name": "stdout",
     "output_type": "stream",
     "text": [
      "***VALIDATION***:\n",
      "average correlation: 0.90\n",
      "average r2: 0.81\n",
      "---do_investigations. cluster index : 38---\n"
     ]
    },
    {
     "data": {
      "application/vnd.jupyter.widget-view+json": {
       "model_id": "734253f471504becac13ece75497830e",
       "version_major": 2,
       "version_minor": 0
      },
      "text/plain": [
       "IntProgress(value=0, max=6)"
      ]
     },
     "metadata": {},
     "output_type": "display_data"
    },
    {
     "name": "stdout",
     "output_type": "stream",
     "text": [
      "Epoch 1/20\n",
      "368/368 [==============================] - 2s 4ms/step - loss: 0.2544 - mean_absolute_error: 0.3509 - val_loss: 0.1587 - val_mean_absolute_error: 0.2752\n",
      "Epoch 2/20\n",
      "368/368 [==============================] - 1s 4ms/step - loss: 0.2044 - mean_absolute_error: 0.3081 - val_loss: 0.1576 - val_mean_absolute_error: 0.2742\n",
      "Epoch 3/20\n",
      "368/368 [==============================] - 1s 4ms/step - loss: 0.2040 - mean_absolute_error: 0.3071 - val_loss: 0.1571 - val_mean_absolute_error: 0.2790\n",
      "Epoch 4/20\n",
      "368/368 [==============================] - 1s 3ms/step - loss: 0.2039 - mean_absolute_error: 0.3070 - val_loss: 0.1569 - val_mean_absolute_error: 0.2774\n",
      "Epoch 5/20\n",
      "368/368 [==============================] - 1s 4ms/step - loss: 0.2043 - mean_absolute_error: 0.3072 - val_loss: 0.1568 - val_mean_absolute_error: 0.2783\n",
      "Epoch 6/20\n",
      "368/368 [==============================] - 1s 4ms/step - loss: 0.2045 - mean_absolute_error: 0.3078 - val_loss: 0.1564 - val_mean_absolute_error: 0.2750\n",
      "Epoch 7/20\n",
      "368/368 [==============================] - 1s 4ms/step - loss: 0.2033 - mean_absolute_error: 0.3064 - val_loss: 0.1574 - val_mean_absolute_error: 0.2762\n",
      "Epoch 8/20\n",
      "368/368 [==============================] - 1s 4ms/step - loss: 0.2027 - mean_absolute_error: 0.3055 - val_loss: 0.1564 - val_mean_absolute_error: 0.2746\n",
      "***TRAIN***:\n",
      "correlation related to cluster centre: 0.89\n",
      "r2 score related to cluster centre: 0.80\n",
      "***VALIDATION***:\n",
      "correlation related to cluster centre: 0.91\n",
      "r2 score related to cluster centre: 0.83\n"
     ]
    },
    {
     "data": {
      "application/vnd.jupyter.widget-view+json": {
       "model_id": "e22162274b3f49b6b99e9d017c57cb0d",
       "version_major": 2,
       "version_minor": 0
      },
      "text/plain": [
       "IntProgress(value=0, max=6)"
      ]
     },
     "metadata": {},
     "output_type": "display_data"
    },
    {
     "name": "stdout",
     "output_type": "stream",
     "text": [
      "***VALIDATION***:\n",
      "average correlation: 0.91\n",
      "average r2: 0.83\n",
      "---do_investigations. cluster index : 39---\n"
     ]
    },
    {
     "data": {
      "application/vnd.jupyter.widget-view+json": {
       "model_id": "23e76935fd624fac904bbfb4ec4c614d",
       "version_major": 2,
       "version_minor": 0
      },
      "text/plain": [
       "IntProgress(value=0, max=5)"
      ]
     },
     "metadata": {},
     "output_type": "display_data"
    },
    {
     "name": "stdout",
     "output_type": "stream",
     "text": [
      "Epoch 1/20\n",
      "368/368 [==============================] - 3s 6ms/step - loss: 0.2274 - mean_absolute_error: 0.3314 - val_loss: 0.1447 - val_mean_absolute_error: 0.2670\n",
      "Epoch 2/20\n",
      "368/368 [==============================] - 2s 4ms/step - loss: 0.2036 - mean_absolute_error: 0.3063 - val_loss: 0.1434 - val_mean_absolute_error: 0.2674\n",
      "Epoch 3/20\n",
      "368/368 [==============================] - 1s 4ms/step - loss: 0.2027 - mean_absolute_error: 0.3058 - val_loss: 0.1426 - val_mean_absolute_error: 0.2613\n",
      "Epoch 4/20\n",
      "368/368 [==============================] - 1s 4ms/step - loss: 0.2019 - mean_absolute_error: 0.3046 - val_loss: 0.1496 - val_mean_absolute_error: 0.2808\n",
      "Epoch 5/20\n",
      "368/368 [==============================] - 1s 4ms/step - loss: 0.2023 - mean_absolute_error: 0.3047 - val_loss: 0.1471 - val_mean_absolute_error: 0.2803\n",
      "***TRAIN***:\n",
      "correlation related to cluster centre: 0.89\n",
      "r2 score related to cluster centre: 0.80\n",
      "***VALIDATION***:\n",
      "correlation related to cluster centre: 0.91\n",
      "r2 score related to cluster centre: 0.82\n"
     ]
    },
    {
     "data": {
      "application/vnd.jupyter.widget-view+json": {
       "model_id": "1d90b1e6cf334af3b93c92f2e064a988",
       "version_major": 2,
       "version_minor": 0
      },
      "text/plain": [
       "IntProgress(value=0, max=5)"
      ]
     },
     "metadata": {},
     "output_type": "display_data"
    },
    {
     "name": "stdout",
     "output_type": "stream",
     "text": [
      "***VALIDATION***:\n",
      "average correlation: 0.91\n",
      "average r2: 0.82\n",
      "---do_investigations. cluster index : 40---\n"
     ]
    },
    {
     "data": {
      "application/vnd.jupyter.widget-view+json": {
       "model_id": "af88e0b68a294464b708c2a8d3c3656e",
       "version_major": 2,
       "version_minor": 0
      },
      "text/plain": [
       "IntProgress(value=0, max=1)"
      ]
     },
     "metadata": {},
     "output_type": "display_data"
    },
    {
     "name": "stdout",
     "output_type": "stream",
     "text": [
      "Epoch 1/20\n",
      "368/368 [==============================] - 2s 4ms/step - loss: 0.2609 - mean_absolute_error: 0.3275 - val_loss: 0.2327 - val_mean_absolute_error: 0.3167\n",
      "Epoch 2/20\n",
      "368/368 [==============================] - 1s 4ms/step - loss: 0.2014 - mean_absolute_error: 0.2879 - val_loss: 0.2292 - val_mean_absolute_error: 0.3163\n",
      "Epoch 3/20\n",
      "368/368 [==============================] - 1s 4ms/step - loss: 0.2002 - mean_absolute_error: 0.2872 - val_loss: 0.2380 - val_mean_absolute_error: 0.3251\n",
      "Epoch 4/20\n",
      "368/368 [==============================] - 2s 4ms/step - loss: 0.2004 - mean_absolute_error: 0.2871 - val_loss: 0.2284 - val_mean_absolute_error: 0.3063\n",
      "Epoch 5/20\n",
      "368/368 [==============================] - 2s 4ms/step - loss: 0.1998 - mean_absolute_error: 0.2865 - val_loss: 0.2277 - val_mean_absolute_error: 0.3089\n",
      "Epoch 6/20\n",
      "368/368 [==============================] - 2s 4ms/step - loss: 0.1988 - mean_absolute_error: 0.2856 - val_loss: 0.2280 - val_mean_absolute_error: 0.3148\n",
      "Epoch 7/20\n",
      "368/368 [==============================] - 1s 4ms/step - loss: 0.1985 - mean_absolute_error: 0.2855 - val_loss: 0.2283 - val_mean_absolute_error: 0.3128\n",
      "***TRAIN***:\n",
      "correlation related to cluster centre: 0.90\n",
      "r2 score related to cluster centre: 0.80\n",
      "***VALIDATION***:\n",
      "correlation related to cluster centre: 0.91\n",
      "r2 score related to cluster centre: 0.82\n"
     ]
    },
    {
     "data": {
      "application/vnd.jupyter.widget-view+json": {
       "model_id": "5e8a59a499154933b69a1b18f7d886a1",
       "version_major": 2,
       "version_minor": 0
      },
      "text/plain": [
       "IntProgress(value=0, max=1)"
      ]
     },
     "metadata": {},
     "output_type": "display_data"
    },
    {
     "name": "stdout",
     "output_type": "stream",
     "text": [
      "***VALIDATION***:\n",
      "average correlation: 0.91\n",
      "average r2: 0.82\n",
      "---do_investigations. cluster index : 41---\n"
     ]
    },
    {
     "data": {
      "application/vnd.jupyter.widget-view+json": {
       "model_id": "26c671c52e974264b77f0824c100b844",
       "version_major": 2,
       "version_minor": 0
      },
      "text/plain": [
       "IntProgress(value=0, max=1)"
      ]
     },
     "metadata": {},
     "output_type": "display_data"
    },
    {
     "name": "stdout",
     "output_type": "stream",
     "text": [
      "Epoch 1/20\n",
      "368/368 [==============================] - 3s 5ms/step - loss: 0.2548 - mean_absolute_error: 0.2801 - val_loss: 0.3192 - val_mean_absolute_error: 0.3239\n",
      "Epoch 2/20\n",
      "368/368 [==============================] - 2s 4ms/step - loss: 0.2159 - mean_absolute_error: 0.2539 - val_loss: 0.3208 - val_mean_absolute_error: 0.3147\n",
      "Epoch 3/20\n",
      "368/368 [==============================] - 1s 4ms/step - loss: 0.2139 - mean_absolute_error: 0.2520 - val_loss: 0.3177 - val_mean_absolute_error: 0.3226\n",
      "Epoch 4/20\n",
      "368/368 [==============================] - 1s 4ms/step - loss: 0.2141 - mean_absolute_error: 0.2529 - val_loss: 0.3212 - val_mean_absolute_error: 0.3186\n",
      "Epoch 5/20\n",
      "368/368 [==============================] - 1s 3ms/step - loss: 0.2131 - mean_absolute_error: 0.2530 - val_loss: 0.3184 - val_mean_absolute_error: 0.3204\n",
      "***TRAIN***:\n",
      "correlation related to cluster centre: 0.89\n",
      "r2 score related to cluster centre: 0.79\n",
      "***VALIDATION***:\n",
      "correlation related to cluster centre: 0.89\n",
      "r2 score related to cluster centre: 0.79\n"
     ]
    },
    {
     "data": {
      "application/vnd.jupyter.widget-view+json": {
       "model_id": "434b5c0e26524671a21acc013406a9a8",
       "version_major": 2,
       "version_minor": 0
      },
      "text/plain": [
       "IntProgress(value=0, max=1)"
      ]
     },
     "metadata": {},
     "output_type": "display_data"
    },
    {
     "name": "stdout",
     "output_type": "stream",
     "text": [
      "***VALIDATION***:\n",
      "average correlation: 0.89\n",
      "average r2: 0.79\n",
      "---do_investigations. cluster index : 42---\n"
     ]
    },
    {
     "data": {
      "application/vnd.jupyter.widget-view+json": {
       "model_id": "a1bb206c457747d7a8c2ba64b4c9a1cf",
       "version_major": 2,
       "version_minor": 0
      },
      "text/plain": [
       "IntProgress(value=0, max=1)"
      ]
     },
     "metadata": {},
     "output_type": "display_data"
    },
    {
     "name": "stdout",
     "output_type": "stream",
     "text": [
      "Epoch 1/20\n",
      "368/368 [==============================] - 3s 5ms/step - loss: 0.2801 - mean_absolute_error: 0.3342 - val_loss: 0.3166 - val_mean_absolute_error: 0.3477\n",
      "Epoch 2/20\n",
      "368/368 [==============================] - 2s 5ms/step - loss: 0.2320 - mean_absolute_error: 0.2953 - val_loss: 0.3107 - val_mean_absolute_error: 0.3446\n",
      "Epoch 3/20\n",
      "368/368 [==============================] - 3s 8ms/step - loss: 0.2317 - mean_absolute_error: 0.2935 - val_loss: 0.3111 - val_mean_absolute_error: 0.3482\n",
      "Epoch 4/20\n",
      "368/368 [==============================] - 2s 5ms/step - loss: 0.2310 - mean_absolute_error: 0.2931 - val_loss: 0.3105 - val_mean_absolute_error: 0.3432\n",
      "Epoch 5/20\n",
      "368/368 [==============================] - 2s 5ms/step - loss: 0.2302 - mean_absolute_error: 0.2926 - val_loss: 0.3125 - val_mean_absolute_error: 0.3379\n",
      "Epoch 6/20\n",
      "368/368 [==============================] - 1s 4ms/step - loss: 0.2301 - mean_absolute_error: 0.2930 - val_loss: 0.3110 - val_mean_absolute_error: 0.3338\n",
      "***TRAIN***:\n",
      "correlation related to cluster centre: 0.88\n",
      "r2 score related to cluster centre: 0.77\n",
      "***VALIDATION***:\n",
      "correlation related to cluster centre: 0.88\n",
      "r2 score related to cluster centre: 0.78\n"
     ]
    },
    {
     "data": {
      "application/vnd.jupyter.widget-view+json": {
       "model_id": "53ad5b687dfc49c990c4f34ecac30d46",
       "version_major": 2,
       "version_minor": 0
      },
      "text/plain": [
       "IntProgress(value=0, max=1)"
      ]
     },
     "metadata": {},
     "output_type": "display_data"
    },
    {
     "name": "stdout",
     "output_type": "stream",
     "text": [
      "***VALIDATION***:\n",
      "average correlation: 0.88\n",
      "average r2: 0.78\n",
      "---do_investigations. cluster index : 43---\n"
     ]
    },
    {
     "data": {
      "application/vnd.jupyter.widget-view+json": {
       "model_id": "afda536f005a4ecdb9a41dceda694706",
       "version_major": 2,
       "version_minor": 0
      },
      "text/plain": [
       "IntProgress(value=0, max=1)"
      ]
     },
     "metadata": {},
     "output_type": "display_data"
    },
    {
     "name": "stdout",
     "output_type": "stream",
     "text": [
      "Epoch 1/20\n",
      "368/368 [==============================] - 2s 4ms/step - loss: 0.2777 - mean_absolute_error: 0.3581 - val_loss: 0.2105 - val_mean_absolute_error: 0.3096\n",
      "Epoch 2/20\n",
      "368/368 [==============================] - 1s 4ms/step - loss: 0.2359 - mean_absolute_error: 0.3170 - val_loss: 0.2101 - val_mean_absolute_error: 0.3027\n",
      "Epoch 3/20\n",
      "368/368 [==============================] - 1s 4ms/step - loss: 0.2351 - mean_absolute_error: 0.3161 - val_loss: 0.2121 - val_mean_absolute_error: 0.3121\n",
      "Epoch 4/20\n",
      "368/368 [==============================] - 1s 3ms/step - loss: 0.2344 - mean_absolute_error: 0.3159 - val_loss: 0.2144 - val_mean_absolute_error: 0.3133\n",
      "***TRAIN***:\n",
      "correlation related to cluster centre: 0.88\n",
      "r2 score related to cluster centre: 0.76\n",
      "***VALIDATION***:\n",
      "correlation related to cluster centre: 0.89\n",
      "r2 score related to cluster centre: 0.79\n"
     ]
    },
    {
     "data": {
      "application/vnd.jupyter.widget-view+json": {
       "model_id": "b457355b21bb43b3bde3f8213a39428c",
       "version_major": 2,
       "version_minor": 0
      },
      "text/plain": [
       "IntProgress(value=0, max=1)"
      ]
     },
     "metadata": {},
     "output_type": "display_data"
    },
    {
     "name": "stdout",
     "output_type": "stream",
     "text": [
      "***VALIDATION***:\n",
      "average correlation: 0.89\n",
      "average r2: 0.79\n",
      "---do_investigations. cluster index : 44---\n"
     ]
    },
    {
     "data": {
      "application/vnd.jupyter.widget-view+json": {
       "model_id": "bc0986a9cf86477c9881c699dcea04f4",
       "version_major": 2,
       "version_minor": 0
      },
      "text/plain": [
       "IntProgress(value=0, max=1)"
      ]
     },
     "metadata": {},
     "output_type": "display_data"
    },
    {
     "name": "stdout",
     "output_type": "stream",
     "text": [
      "Epoch 1/20\n",
      "368/368 [==============================] - 2s 4ms/step - loss: 0.2552 - mean_absolute_error: 0.3356 - val_loss: 0.1516 - val_mean_absolute_error: 0.2412\n",
      "Epoch 2/20\n",
      "368/368 [==============================] - 1s 4ms/step - loss: 0.2311 - mean_absolute_error: 0.3074 - val_loss: 0.1509 - val_mean_absolute_error: 0.2400\n",
      "Epoch 3/20\n",
      "368/368 [==============================] - 1s 4ms/step - loss: 0.2309 - mean_absolute_error: 0.3066 - val_loss: 0.1516 - val_mean_absolute_error: 0.2424\n",
      "Epoch 4/20\n",
      "368/368 [==============================] - 2s 4ms/step - loss: 0.2307 - mean_absolute_error: 0.3064 - val_loss: 0.1532 - val_mean_absolute_error: 0.2413\n",
      "***TRAIN***:\n",
      "correlation related to cluster centre: 0.88\n",
      "r2 score related to cluster centre: 0.77\n",
      "***VALIDATION***:\n",
      "correlation related to cluster centre: 0.90\n",
      "r2 score related to cluster centre: 0.80\n"
     ]
    },
    {
     "data": {
      "application/vnd.jupyter.widget-view+json": {
       "model_id": "477a2d3e30064ff79a5ec60634014182",
       "version_major": 2,
       "version_minor": 0
      },
      "text/plain": [
       "IntProgress(value=0, max=1)"
      ]
     },
     "metadata": {},
     "output_type": "display_data"
    },
    {
     "name": "stdout",
     "output_type": "stream",
     "text": [
      "***VALIDATION***:\n",
      "average correlation: 0.90\n",
      "average r2: 0.80\n",
      "---do_investigations. cluster index : 45---\n"
     ]
    },
    {
     "data": {
      "application/vnd.jupyter.widget-view+json": {
       "model_id": "1a0db8f5be6c497583c5663ec9be3f91",
       "version_major": 2,
       "version_minor": 0
      },
      "text/plain": [
       "IntProgress(value=0, max=1)"
      ]
     },
     "metadata": {},
     "output_type": "display_data"
    },
    {
     "name": "stdout",
     "output_type": "stream",
     "text": [
      "Epoch 1/20\n",
      "368/368 [==============================] - 2s 4ms/step - loss: 0.3467 - mean_absolute_error: 0.2716 - val_loss: 0.0063 - val_mean_absolute_error: 0.0696\n",
      "Epoch 2/20\n",
      "368/368 [==============================] - 1s 4ms/step - loss: 0.2513 - mean_absolute_error: 0.2265 - val_loss: 0.0082 - val_mean_absolute_error: 0.0829\n",
      "Epoch 3/20\n",
      "368/368 [==============================] - 1s 4ms/step - loss: 0.2502 - mean_absolute_error: 0.2248 - val_loss: 0.0060 - val_mean_absolute_error: 0.0675\n",
      "Epoch 4/20\n",
      "368/368 [==============================] - 1s 4ms/step - loss: 0.2482 - mean_absolute_error: 0.2236 - val_loss: 0.0054 - val_mean_absolute_error: 0.0623\n",
      "Epoch 5/20\n",
      "368/368 [==============================] - 1s 4ms/step - loss: 0.2477 - mean_absolute_error: 0.2238 - val_loss: 0.0027 - val_mean_absolute_error: 0.0311\n",
      "Epoch 6/20\n",
      "368/368 [==============================] - 1s 4ms/step - loss: 0.2470 - mean_absolute_error: 0.2240 - val_loss: 0.0092 - val_mean_absolute_error: 0.0883\n",
      "Epoch 7/20\n",
      "368/368 [==============================] - 1s 4ms/step - loss: 0.2489 - mean_absolute_error: 0.2240 - val_loss: 0.0060 - val_mean_absolute_error: 0.0679\n",
      "***TRAIN***:\n",
      "correlation related to cluster centre: 0.87\n",
      "r2 score related to cluster centre: 0.75\n",
      "***VALIDATION***:\n",
      "correlation related to cluster centre: 0.91\n",
      "r2 score related to cluster centre: 0.37\n"
     ]
    },
    {
     "data": {
      "application/vnd.jupyter.widget-view+json": {
       "model_id": "331222bf2ba14ffe9763c21dabb7e439",
       "version_major": 2,
       "version_minor": 0
      },
      "text/plain": [
       "IntProgress(value=0, max=1)"
      ]
     },
     "metadata": {},
     "output_type": "display_data"
    },
    {
     "name": "stdout",
     "output_type": "stream",
     "text": [
      "***VALIDATION***:\n",
      "average correlation: 0.91\n",
      "average r2: 0.37\n",
      "---do_investigations. cluster index : 46---\n"
     ]
    },
    {
     "data": {
      "application/vnd.jupyter.widget-view+json": {
       "model_id": "387726bb4e6d46daa8ad8abfaf38cdc2",
       "version_major": 2,
       "version_minor": 0
      },
      "text/plain": [
       "IntProgress(value=0, max=1)"
      ]
     },
     "metadata": {},
     "output_type": "display_data"
    },
    {
     "name": "stdout",
     "output_type": "stream",
     "text": [
      "Epoch 1/20\n",
      "368/368 [==============================] - 2s 4ms/step - loss: 0.2933 - mean_absolute_error: 0.2565 - val_loss: 0.0030 - val_mean_absolute_error: 0.0423\n",
      "Epoch 2/20\n",
      "368/368 [==============================] - 1s 4ms/step - loss: 0.2515 - mean_absolute_error: 0.2232 - val_loss: 0.0040 - val_mean_absolute_error: 0.0537\n",
      "Epoch 3/20\n",
      "368/368 [==============================] - 1s 4ms/step - loss: 0.2495 - mean_absolute_error: 0.2203 - val_loss: 0.0051 - val_mean_absolute_error: 0.0633\n",
      "***TRAIN***:\n",
      "correlation related to cluster centre: 0.87\n",
      "r2 score related to cluster centre: 0.75\n",
      "***VALIDATION***:\n",
      "correlation related to cluster centre: 0.92\n",
      "r2 score related to cluster centre: 0.44\n"
     ]
    },
    {
     "data": {
      "application/vnd.jupyter.widget-view+json": {
       "model_id": "c833a54bef704ed59d524db3347aa54e",
       "version_major": 2,
       "version_minor": 0
      },
      "text/plain": [
       "IntProgress(value=0, max=1)"
      ]
     },
     "metadata": {},
     "output_type": "display_data"
    },
    {
     "name": "stdout",
     "output_type": "stream",
     "text": [
      "***VALIDATION***:\n",
      "average correlation: 0.92\n",
      "average r2: 0.44\n",
      "---do_investigations. cluster index : 47---\n"
     ]
    },
    {
     "data": {
      "application/vnd.jupyter.widget-view+json": {
       "model_id": "ec2b646b771d4b7d96f6fdbd4001d3e4",
       "version_major": 2,
       "version_minor": 0
      },
      "text/plain": [
       "IntProgress(value=0, max=1)"
      ]
     },
     "metadata": {},
     "output_type": "display_data"
    },
    {
     "name": "stdout",
     "output_type": "stream",
     "text": [
      "Epoch 1/20\n",
      "368/368 [==============================] - 2s 4ms/step - loss: 0.3688 - mean_absolute_error: 0.3121 - val_loss: 0.0172 - val_mean_absolute_error: 0.0780\n",
      "Epoch 2/20\n",
      "368/368 [==============================] - 1s 4ms/step - loss: 0.2673 - mean_absolute_error: 0.2525 - val_loss: 0.0169 - val_mean_absolute_error: 0.0777\n",
      "Epoch 3/20\n",
      "368/368 [==============================] - 1s 4ms/step - loss: 0.2662 - mean_absolute_error: 0.2503 - val_loss: 0.0156 - val_mean_absolute_error: 0.0672\n",
      "Epoch 4/20\n",
      "368/368 [==============================] - 2s 4ms/step - loss: 0.2644 - mean_absolute_error: 0.2497 - val_loss: 0.0159 - val_mean_absolute_error: 0.0748\n",
      "Epoch 5/20\n",
      "368/368 [==============================] - 1s 4ms/step - loss: 0.2631 - mean_absolute_error: 0.2487 - val_loss: 0.0153 - val_mean_absolute_error: 0.0674\n",
      "Epoch 6/20\n",
      "368/368 [==============================] - 1s 4ms/step - loss: 0.2646 - mean_absolute_error: 0.2479 - val_loss: 0.0187 - val_mean_absolute_error: 0.0978\n",
      "Epoch 7/20\n",
      "368/368 [==============================] - 1s 3ms/step - loss: 0.2629 - mean_absolute_error: 0.2474 - val_loss: 0.0159 - val_mean_absolute_error: 0.0776\n",
      "***TRAIN***:\n",
      "correlation related to cluster centre: 0.86\n",
      "r2 score related to cluster centre: 0.74\n",
      "***VALIDATION***:\n",
      "correlation related to cluster centre: 0.92\n",
      "r2 score related to cluster centre: 0.84\n"
     ]
    },
    {
     "data": {
      "application/vnd.jupyter.widget-view+json": {
       "model_id": "e0917448121e434a9fca5a28c8ee0115",
       "version_major": 2,
       "version_minor": 0
      },
      "text/plain": [
       "IntProgress(value=0, max=1)"
      ]
     },
     "metadata": {},
     "output_type": "display_data"
    },
    {
     "name": "stdout",
     "output_type": "stream",
     "text": [
      "***VALIDATION***:\n",
      "average correlation: 0.92\n",
      "average r2: 0.84\n",
      "---do_investigations. cluster index : 48---\n"
     ]
    },
    {
     "data": {
      "application/vnd.jupyter.widget-view+json": {
       "model_id": "bc75b0a100f34398944ff9c50b56ec6b",
       "version_major": 2,
       "version_minor": 0
      },
      "text/plain": [
       "IntProgress(value=0, max=7)"
      ]
     },
     "metadata": {},
     "output_type": "display_data"
    },
    {
     "name": "stdout",
     "output_type": "stream",
     "text": [
      "Epoch 1/20\n",
      "368/368 [==============================] - 2s 4ms/step - loss: 0.3009 - mean_absolute_error: 0.3639 - val_loss: 0.1543 - val_mean_absolute_error: 0.2675\n",
      "Epoch 2/20\n",
      "368/368 [==============================] - 1s 4ms/step - loss: 0.2145 - mean_absolute_error: 0.3056 - val_loss: 0.1547 - val_mean_absolute_error: 0.2716\n",
      "Epoch 3/20\n",
      "368/368 [==============================] - 1s 4ms/step - loss: 0.2140 - mean_absolute_error: 0.3050 - val_loss: 0.1534 - val_mean_absolute_error: 0.2699\n",
      "Epoch 4/20\n",
      "368/368 [==============================] - 1s 4ms/step - loss: 0.2130 - mean_absolute_error: 0.3037 - val_loss: 0.1550 - val_mean_absolute_error: 0.2696\n",
      "Epoch 5/20\n",
      "368/368 [==============================] - 1s 3ms/step - loss: 0.2146 - mean_absolute_error: 0.3056 - val_loss: 0.1572 - val_mean_absolute_error: 0.2643\n",
      "***TRAIN***:\n",
      "correlation related to cluster centre: 0.89\n",
      "r2 score related to cluster centre: 0.78\n",
      "***VALIDATION***:\n",
      "correlation related to cluster centre: 0.90\n",
      "r2 score related to cluster centre: 0.81\n"
     ]
    },
    {
     "data": {
      "application/vnd.jupyter.widget-view+json": {
       "model_id": "17f63f48c81041a3afab4fea7f5329c2",
       "version_major": 2,
       "version_minor": 0
      },
      "text/plain": [
       "IntProgress(value=0, max=7)"
      ]
     },
     "metadata": {},
     "output_type": "display_data"
    },
    {
     "name": "stdout",
     "output_type": "stream",
     "text": [
      "***VALIDATION***:\n",
      "average correlation: 0.90\n",
      "average r2: 0.81\n",
      "---do_investigations. cluster index : 49---\n"
     ]
    },
    {
     "data": {
      "application/vnd.jupyter.widget-view+json": {
       "model_id": "b1078ef164a0407fa7b7d38897395888",
       "version_major": 2,
       "version_minor": 0
      },
      "text/plain": [
       "IntProgress(value=0, max=1)"
      ]
     },
     "metadata": {},
     "output_type": "display_data"
    },
    {
     "name": "stdout",
     "output_type": "stream",
     "text": [
      "Epoch 1/20\n",
      "368/368 [==============================] - 2s 4ms/step - loss: 0.1724 - mean_absolute_error: 0.2325 - val_loss: 0.0661 - val_mean_absolute_error: 0.1668\n",
      "Epoch 2/20\n",
      "368/368 [==============================] - 1s 3ms/step - loss: 0.1302 - mean_absolute_error: 0.2012 - val_loss: 0.0625 - val_mean_absolute_error: 0.1487\n",
      "Epoch 3/20\n",
      "368/368 [==============================] - 1s 3ms/step - loss: 0.1288 - mean_absolute_error: 0.1990 - val_loss: 0.0629 - val_mean_absolute_error: 0.1554\n",
      "Epoch 4/20\n",
      "368/368 [==============================] - 1s 4ms/step - loss: 0.1299 - mean_absolute_error: 0.2004 - val_loss: 0.0633 - val_mean_absolute_error: 0.1465\n",
      "***TRAIN***:\n",
      "correlation related to cluster centre: 0.94\n",
      "r2 score related to cluster centre: 0.87\n",
      "***VALIDATION***:\n",
      "correlation related to cluster centre: 0.94\n",
      "r2 score related to cluster centre: 0.89\n"
     ]
    },
    {
     "data": {
      "application/vnd.jupyter.widget-view+json": {
       "model_id": "38055fa20a6449aa86660d99ba6d3c9b",
       "version_major": 2,
       "version_minor": 0
      },
      "text/plain": [
       "IntProgress(value=0, max=1)"
      ]
     },
     "metadata": {},
     "output_type": "display_data"
    },
    {
     "name": "stdout",
     "output_type": "stream",
     "text": [
      "***VALIDATION***:\n",
      "average correlation: 0.94\n",
      "average r2: 0.89\n",
      "---do_investigations. cluster index : 50---\n"
     ]
    },
    {
     "data": {
      "application/vnd.jupyter.widget-view+json": {
       "model_id": "6c284a30403941f4959ea0ba2be4ed8e",
       "version_major": 2,
       "version_minor": 0
      },
      "text/plain": [
       "IntProgress(value=0, max=1)"
      ]
     },
     "metadata": {},
     "output_type": "display_data"
    },
    {
     "name": "stdout",
     "output_type": "stream",
     "text": [
      "Epoch 1/20\n",
      "368/368 [==============================] - 2s 4ms/step - loss: 0.1888 - mean_absolute_error: 0.2846 - val_loss: 0.0972 - val_mean_absolute_error: 0.1966\n",
      "Epoch 2/20\n",
      "368/368 [==============================] - 1s 3ms/step - loss: 0.1468 - mean_absolute_error: 0.2477 - val_loss: 0.0968 - val_mean_absolute_error: 0.1992\n",
      "Epoch 3/20\n",
      "368/368 [==============================] - 1s 4ms/step - loss: 0.1462 - mean_absolute_error: 0.2471 - val_loss: 0.0965 - val_mean_absolute_error: 0.1981\n",
      "Epoch 4/20\n",
      "368/368 [==============================] - 1s 3ms/step - loss: 0.1460 - mean_absolute_error: 0.2473 - val_loss: 0.0971 - val_mean_absolute_error: 0.1961\n",
      "Epoch 5/20\n",
      "368/368 [==============================] - 1s 4ms/step - loss: 0.1459 - mean_absolute_error: 0.2466 - val_loss: 0.0965 - val_mean_absolute_error: 0.1980\n",
      "***TRAIN***:\n",
      "correlation related to cluster centre: 0.93\n",
      "r2 score related to cluster centre: 0.86\n",
      "***VALIDATION***:\n",
      "correlation related to cluster centre: 0.92\n",
      "r2 score related to cluster centre: 0.86\n"
     ]
    },
    {
     "data": {
      "application/vnd.jupyter.widget-view+json": {
       "model_id": "256fe94ead20451687b83e5baed7ce76",
       "version_major": 2,
       "version_minor": 0
      },
      "text/plain": [
       "IntProgress(value=0, max=1)"
      ]
     },
     "metadata": {},
     "output_type": "display_data"
    },
    {
     "name": "stdout",
     "output_type": "stream",
     "text": [
      "***VALIDATION***:\n",
      "average correlation: 0.92\n",
      "average r2: 0.86\n",
      "---do_investigations. cluster index : 51---\n"
     ]
    },
    {
     "data": {
      "application/vnd.jupyter.widget-view+json": {
       "model_id": "40b85748ee164c80a62cdee6c71ba299",
       "version_major": 2,
       "version_minor": 0
      },
      "text/plain": [
       "IntProgress(value=0, max=1)"
      ]
     },
     "metadata": {},
     "output_type": "display_data"
    },
    {
     "name": "stdout",
     "output_type": "stream",
     "text": [
      "Epoch 1/20\n",
      "368/368 [==============================] - 2s 4ms/step - loss: 0.1721 - mean_absolute_error: 0.2776 - val_loss: 0.1243 - val_mean_absolute_error: 0.2298\n",
      "Epoch 2/20\n",
      "368/368 [==============================] - 1s 3ms/step - loss: 0.1375 - mean_absolute_error: 0.2447 - val_loss: 0.1227 - val_mean_absolute_error: 0.2338\n",
      "Epoch 3/20\n",
      "368/368 [==============================] - 1s 3ms/step - loss: 0.1369 - mean_absolute_error: 0.2445 - val_loss: 0.1213 - val_mean_absolute_error: 0.2310\n",
      "Epoch 4/20\n",
      "368/368 [==============================] - 1s 3ms/step - loss: 0.1367 - mean_absolute_error: 0.2443 - val_loss: 0.1248 - val_mean_absolute_error: 0.2306\n",
      "Epoch 5/20\n",
      "368/368 [==============================] - 1s 4ms/step - loss: 0.1374 - mean_absolute_error: 0.2451 - val_loss: 0.1243 - val_mean_absolute_error: 0.2369\n",
      "***TRAIN***:\n",
      "correlation related to cluster centre: 0.93\n",
      "r2 score related to cluster centre: 0.86\n",
      "***VALIDATION***:\n",
      "correlation related to cluster centre: 0.93\n",
      "r2 score related to cluster centre: 0.86\n"
     ]
    },
    {
     "data": {
      "application/vnd.jupyter.widget-view+json": {
       "model_id": "7e511cb063a94186b13990983ff66800",
       "version_major": 2,
       "version_minor": 0
      },
      "text/plain": [
       "IntProgress(value=0, max=1)"
      ]
     },
     "metadata": {},
     "output_type": "display_data"
    },
    {
     "name": "stdout",
     "output_type": "stream",
     "text": [
      "***VALIDATION***:\n",
      "average correlation: 0.93\n",
      "average r2: 0.86\n",
      "---do_investigations. cluster index : 52---\n"
     ]
    },
    {
     "data": {
      "application/vnd.jupyter.widget-view+json": {
       "model_id": "6d8b41fbf95441a7a52d5daa99e0cd6c",
       "version_major": 2,
       "version_minor": 0
      },
      "text/plain": [
       "IntProgress(value=0, max=8)"
      ]
     },
     "metadata": {},
     "output_type": "display_data"
    },
    {
     "name": "stdout",
     "output_type": "stream",
     "text": [
      "Epoch 1/20\n",
      "368/368 [==============================] - 2s 4ms/step - loss: 0.2494 - mean_absolute_error: 0.3507 - val_loss: 0.1631 - val_mean_absolute_error: 0.2845\n",
      "Epoch 2/20\n",
      "368/368 [==============================] - 1s 3ms/step - loss: 0.2112 - mean_absolute_error: 0.3109 - val_loss: 0.1629 - val_mean_absolute_error: 0.2750\n",
      "Epoch 3/20\n",
      "368/368 [==============================] - 1s 4ms/step - loss: 0.2115 - mean_absolute_error: 0.3109 - val_loss: 0.1600 - val_mean_absolute_error: 0.2768\n",
      "Epoch 4/20\n",
      "368/368 [==============================] - 1s 4ms/step - loss: 0.2111 - mean_absolute_error: 0.3105 - val_loss: 0.1619 - val_mean_absolute_error: 0.2713\n",
      "Epoch 5/20\n",
      "368/368 [==============================] - 1s 3ms/step - loss: 0.2102 - mean_absolute_error: 0.3099 - val_loss: 0.1606 - val_mean_absolute_error: 0.2731\n",
      "***TRAIN***:\n",
      "correlation related to cluster centre: 0.89\n",
      "r2 score related to cluster centre: 0.79\n",
      "***VALIDATION***:\n",
      "correlation related to cluster centre: 0.90\n",
      "r2 score related to cluster centre: 0.81\n"
     ]
    },
    {
     "data": {
      "application/vnd.jupyter.widget-view+json": {
       "model_id": "3c769d6f25b14378bb8b5e7d7879d92d",
       "version_major": 2,
       "version_minor": 0
      },
      "text/plain": [
       "IntProgress(value=0, max=8)"
      ]
     },
     "metadata": {},
     "output_type": "display_data"
    },
    {
     "name": "stdout",
     "output_type": "stream",
     "text": [
      "***VALIDATION***:\n",
      "average correlation: 0.90\n",
      "average r2: 0.81\n",
      "---do_investigations. cluster index : 53---\n"
     ]
    },
    {
     "data": {
      "application/vnd.jupyter.widget-view+json": {
       "model_id": "73968ba73490430b9c66ff5ba666b69c",
       "version_major": 2,
       "version_minor": 0
      },
      "text/plain": [
       "IntProgress(value=0, max=1)"
      ]
     },
     "metadata": {},
     "output_type": "display_data"
    },
    {
     "name": "stdout",
     "output_type": "stream",
     "text": [
      "Epoch 1/20\n",
      "368/368 [==============================] - 2s 4ms/step - loss: 0.3007 - mean_absolute_error: 0.3645 - val_loss: 0.1359 - val_mean_absolute_error: 0.2480\n",
      "Epoch 2/20\n",
      "368/368 [==============================] - 1s 3ms/step - loss: 0.1979 - mean_absolute_error: 0.2941 - val_loss: 0.1426 - val_mean_absolute_error: 0.2571\n",
      "Epoch 3/20\n",
      "368/368 [==============================] - 1s 3ms/step - loss: 0.1971 - mean_absolute_error: 0.2930 - val_loss: 0.1359 - val_mean_absolute_error: 0.2508\n",
      "***TRAIN***:\n",
      "correlation related to cluster centre: 0.90\n",
      "r2 score related to cluster centre: 0.80\n",
      "***VALIDATION***:\n",
      "correlation related to cluster centre: 0.89\n",
      "r2 score related to cluster centre: 0.80\n"
     ]
    },
    {
     "data": {
      "application/vnd.jupyter.widget-view+json": {
       "model_id": "49e58606ebe84900a8d370c0d2cef070",
       "version_major": 2,
       "version_minor": 0
      },
      "text/plain": [
       "IntProgress(value=0, max=1)"
      ]
     },
     "metadata": {},
     "output_type": "display_data"
    },
    {
     "name": "stdout",
     "output_type": "stream",
     "text": [
      "***VALIDATION***:\n",
      "average correlation: 0.89\n",
      "average r2: 0.80\n",
      "---do_investigations. cluster index : 54---\n"
     ]
    },
    {
     "data": {
      "application/vnd.jupyter.widget-view+json": {
       "model_id": "9a66e17b9b7241678452bb63abd6663f",
       "version_major": 2,
       "version_minor": 0
      },
      "text/plain": [
       "IntProgress(value=0, max=2)"
      ]
     },
     "metadata": {},
     "output_type": "display_data"
    },
    {
     "name": "stdout",
     "output_type": "stream",
     "text": [
      "Epoch 1/20\n",
      "368/368 [==============================] - 2s 4ms/step - loss: 0.2839 - mean_absolute_error: 0.3465 - val_loss: 0.1144 - val_mean_absolute_error: 0.2185\n",
      "Epoch 2/20\n",
      "368/368 [==============================] - 1s 3ms/step - loss: 0.1902 - mean_absolute_error: 0.2852 - val_loss: 0.1130 - val_mean_absolute_error: 0.2198\n",
      "Epoch 3/20\n",
      "368/368 [==============================] - 1s 3ms/step - loss: 0.1889 - mean_absolute_error: 0.2837 - val_loss: 0.1122 - val_mean_absolute_error: 0.2163\n",
      "Epoch 4/20\n",
      "368/368 [==============================] - 1s 3ms/step - loss: 0.1884 - mean_absolute_error: 0.2839 - val_loss: 0.1104 - val_mean_absolute_error: 0.2178\n",
      "Epoch 5/20\n",
      "368/368 [==============================] - 1s 3ms/step - loss: 0.1878 - mean_absolute_error: 0.2839 - val_loss: 0.1123 - val_mean_absolute_error: 0.2154\n",
      "Epoch 6/20\n",
      "368/368 [==============================] - 1s 3ms/step - loss: 0.1878 - mean_absolute_error: 0.2825 - val_loss: 0.1123 - val_mean_absolute_error: 0.2159\n",
      "***TRAIN***:\n",
      "correlation related to cluster centre: 0.90\n",
      "r2 score related to cluster centre: 0.81\n",
      "***VALIDATION***:\n",
      "correlation related to cluster centre: 0.91\n",
      "r2 score related to cluster centre: 0.82\n"
     ]
    },
    {
     "data": {
      "application/vnd.jupyter.widget-view+json": {
       "model_id": "2c326015fe0f46d7875c8d943795a595",
       "version_major": 2,
       "version_minor": 0
      },
      "text/plain": [
       "IntProgress(value=0, max=2)"
      ]
     },
     "metadata": {},
     "output_type": "display_data"
    },
    {
     "name": "stdout",
     "output_type": "stream",
     "text": [
      "***VALIDATION***:\n",
      "average correlation: 0.91\n",
      "average r2: 0.82\n",
      "---do_investigations. cluster index : 55---\n"
     ]
    },
    {
     "data": {
      "application/vnd.jupyter.widget-view+json": {
       "model_id": "bc3f6bfad74443d3abb1506d6c7b975c",
       "version_major": 2,
       "version_minor": 0
      },
      "text/plain": [
       "IntProgress(value=0, max=10)"
      ]
     },
     "metadata": {},
     "output_type": "display_data"
    },
    {
     "name": "stdout",
     "output_type": "stream",
     "text": [
      "Epoch 1/20\n",
      "368/368 [==============================] - 2s 4ms/step - loss: 0.2700 - mean_absolute_error: 0.3632 - val_loss: 0.1765 - val_mean_absolute_error: 0.2865\n",
      "Epoch 2/20\n",
      "368/368 [==============================] - 1s 3ms/step - loss: 0.2054 - mean_absolute_error: 0.3133 - val_loss: 0.1778 - val_mean_absolute_error: 0.2870\n",
      "Epoch 3/20\n",
      "368/368 [==============================] - 1s 3ms/step - loss: 0.2043 - mean_absolute_error: 0.3118 - val_loss: 0.1737 - val_mean_absolute_error: 0.2854\n",
      "Epoch 4/20\n",
      "368/368 [==============================] - 1s 3ms/step - loss: 0.2040 - mean_absolute_error: 0.3117 - val_loss: 0.1738 - val_mean_absolute_error: 0.2847\n",
      "Epoch 5/20\n",
      "368/368 [==============================] - 1s 3ms/step - loss: 0.2030 - mean_absolute_error: 0.3110 - val_loss: 0.1751 - val_mean_absolute_error: 0.2889\n",
      "***TRAIN***:\n",
      "correlation related to cluster centre: 0.89\n",
      "r2 score related to cluster centre: 0.80\n",
      "***VALIDATION***:\n",
      "correlation related to cluster centre: 0.91\n",
      "r2 score related to cluster centre: 0.82\n"
     ]
    },
    {
     "data": {
      "application/vnd.jupyter.widget-view+json": {
       "model_id": "f90ca571d0744cd38d366b6bf9e1e6b4",
       "version_major": 2,
       "version_minor": 0
      },
      "text/plain": [
       "IntProgress(value=0, max=10)"
      ]
     },
     "metadata": {},
     "output_type": "display_data"
    },
    {
     "name": "stdout",
     "output_type": "stream",
     "text": [
      "***VALIDATION***:\n",
      "average correlation: 0.91\n",
      "average r2: 0.82\n",
      "---do_investigations. cluster index : 56---\n"
     ]
    },
    {
     "data": {
      "application/vnd.jupyter.widget-view+json": {
       "model_id": "9209145d860841879f61d3ead057f21e",
       "version_major": 2,
       "version_minor": 0
      },
      "text/plain": [
       "IntProgress(value=0, max=2)"
      ]
     },
     "metadata": {},
     "output_type": "display_data"
    },
    {
     "name": "stdout",
     "output_type": "stream",
     "text": [
      "Epoch 1/20\n",
      "368/368 [==============================] - 2s 4ms/step - loss: 0.2525 - mean_absolute_error: 0.3502 - val_loss: 0.1932 - val_mean_absolute_error: 0.2966\n",
      "Epoch 2/20\n",
      "368/368 [==============================] - 1s 4ms/step - loss: 0.2103 - mean_absolute_error: 0.3112 - val_loss: 0.1910 - val_mean_absolute_error: 0.2956\n",
      "Epoch 3/20\n",
      "368/368 [==============================] - 1s 4ms/step - loss: 0.2070 - mean_absolute_error: 0.3081 - val_loss: 0.1898 - val_mean_absolute_error: 0.2881\n",
      "Epoch 4/20\n",
      "368/368 [==============================] - 1s 3ms/step - loss: 0.2081 - mean_absolute_error: 0.3090 - val_loss: 0.1900 - val_mean_absolute_error: 0.2919\n",
      "Epoch 5/20\n",
      "368/368 [==============================] - 1s 4ms/step - loss: 0.2061 - mean_absolute_error: 0.3074 - val_loss: 0.1904 - val_mean_absolute_error: 0.2933\n",
      "***TRAIN***:\n",
      "correlation related to cluster centre: 0.89\n",
      "r2 score related to cluster centre: 0.80\n",
      "***VALIDATION***:\n",
      "correlation related to cluster centre: 0.91\n",
      "r2 score related to cluster centre: 0.82\n"
     ]
    },
    {
     "data": {
      "application/vnd.jupyter.widget-view+json": {
       "model_id": "d716d9983daf49aa8c57b02b79499438",
       "version_major": 2,
       "version_minor": 0
      },
      "text/plain": [
       "IntProgress(value=0, max=2)"
      ]
     },
     "metadata": {},
     "output_type": "display_data"
    },
    {
     "name": "stdout",
     "output_type": "stream",
     "text": [
      "***VALIDATION***:\n",
      "average correlation: 0.90\n",
      "average r2: 0.81\n",
      "---do_investigations. cluster index : 57---\n"
     ]
    },
    {
     "data": {
      "application/vnd.jupyter.widget-view+json": {
       "model_id": "8fabba252a73467d837102574adfb73a",
       "version_major": 2,
       "version_minor": 0
      },
      "text/plain": [
       "IntProgress(value=0, max=1)"
      ]
     },
     "metadata": {},
     "output_type": "display_data"
    },
    {
     "name": "stdout",
     "output_type": "stream",
     "text": [
      "Epoch 1/20\n",
      "368/368 [==============================] - 2s 4ms/step - loss: 0.2321 - mean_absolute_error: 0.3215 - val_loss: 0.1803 - val_mean_absolute_error: 0.2990\n",
      "Epoch 2/20\n",
      "368/368 [==============================] - 1s 4ms/step - loss: 0.1663 - mean_absolute_error: 0.2796 - val_loss: 0.1816 - val_mean_absolute_error: 0.3070\n",
      "Epoch 3/20\n",
      "368/368 [==============================] - 1s 3ms/step - loss: 0.1651 - mean_absolute_error: 0.2778 - val_loss: 0.1796 - val_mean_absolute_error: 0.2975\n",
      "Epoch 4/20\n",
      "368/368 [==============================] - 1s 4ms/step - loss: 0.1649 - mean_absolute_error: 0.2781 - val_loss: 0.1800 - val_mean_absolute_error: 0.2954\n",
      "Epoch 5/20\n",
      "368/368 [==============================] - 1s 4ms/step - loss: 0.1649 - mean_absolute_error: 0.2782 - val_loss: 0.1812 - val_mean_absolute_error: 0.2937\n",
      "***TRAIN***:\n",
      "correlation related to cluster centre: 0.91\n",
      "r2 score related to cluster centre: 0.84\n",
      "***VALIDATION***:\n",
      "correlation related to cluster centre: 0.91\n",
      "r2 score related to cluster centre: 0.82\n"
     ]
    },
    {
     "data": {
      "application/vnd.jupyter.widget-view+json": {
       "model_id": "4ae71f3e592144c9a1d5167baf02fc64",
       "version_major": 2,
       "version_minor": 0
      },
      "text/plain": [
       "IntProgress(value=0, max=1)"
      ]
     },
     "metadata": {},
     "output_type": "display_data"
    },
    {
     "name": "stdout",
     "output_type": "stream",
     "text": [
      "***VALIDATION***:\n",
      "average correlation: 0.91\n",
      "average r2: 0.82\n",
      "---do_investigations. cluster index : 58---\n"
     ]
    },
    {
     "data": {
      "application/vnd.jupyter.widget-view+json": {
       "model_id": "3f29023c7821421b800176b44566fe55",
       "version_major": 2,
       "version_minor": 0
      },
      "text/plain": [
       "IntProgress(value=0, max=1)"
      ]
     },
     "metadata": {},
     "output_type": "display_data"
    },
    {
     "name": "stdout",
     "output_type": "stream",
     "text": [
      "Epoch 1/20\n",
      "368/368 [==============================] - 2s 4ms/step - loss: 0.2379 - mean_absolute_error: 0.3458 - val_loss: 0.1834 - val_mean_absolute_error: 0.3077\n",
      "Epoch 2/20\n",
      "368/368 [==============================] - 1s 4ms/step - loss: 0.1919 - mean_absolute_error: 0.3044 - val_loss: 0.1830 - val_mean_absolute_error: 0.3093\n",
      "Epoch 3/20\n",
      "368/368 [==============================] - 1s 3ms/step - loss: 0.1920 - mean_absolute_error: 0.3042 - val_loss: 0.1803 - val_mean_absolute_error: 0.3028\n",
      "Epoch 4/20\n",
      "368/368 [==============================] - 1s 4ms/step - loss: 0.1910 - mean_absolute_error: 0.3035 - val_loss: 0.1833 - val_mean_absolute_error: 0.3121\n",
      "Epoch 5/20\n",
      "368/368 [==============================] - 1s 4ms/step - loss: 0.1908 - mean_absolute_error: 0.3026 - val_loss: 0.1815 - val_mean_absolute_error: 0.3080\n",
      "***TRAIN***:\n",
      "correlation related to cluster centre: 0.90\n",
      "r2 score related to cluster centre: 0.81\n",
      "***VALIDATION***:\n",
      "correlation related to cluster centre: 0.91\n",
      "r2 score related to cluster centre: 0.83\n"
     ]
    },
    {
     "data": {
      "application/vnd.jupyter.widget-view+json": {
       "model_id": "de64fa16bc894576a656196c93161ffe",
       "version_major": 2,
       "version_minor": 0
      },
      "text/plain": [
       "IntProgress(value=0, max=1)"
      ]
     },
     "metadata": {},
     "output_type": "display_data"
    },
    {
     "name": "stdout",
     "output_type": "stream",
     "text": [
      "***VALIDATION***:\n",
      "average correlation: 0.91\n",
      "average r2: 0.83\n",
      "---do_investigations. cluster index : 59---\n"
     ]
    },
    {
     "data": {
      "application/vnd.jupyter.widget-view+json": {
       "model_id": "9aa86f544928467c8fa716ab561f7806",
       "version_major": 2,
       "version_minor": 0
      },
      "text/plain": [
       "IntProgress(value=0, max=15)"
      ]
     },
     "metadata": {},
     "output_type": "display_data"
    },
    {
     "name": "stdout",
     "output_type": "stream",
     "text": [
      "Epoch 1/20\n",
      "368/368 [==============================] - 2s 4ms/step - loss: 0.3164 - mean_absolute_error: 0.3925 - val_loss: 0.1658 - val_mean_absolute_error: 0.2866\n",
      "Epoch 2/20\n",
      "368/368 [==============================] - 1s 4ms/step - loss: 0.2047 - mean_absolute_error: 0.3139 - val_loss: 0.1653 - val_mean_absolute_error: 0.2846\n",
      "Epoch 3/20\n",
      "368/368 [==============================] - 1s 4ms/step - loss: 0.2041 - mean_absolute_error: 0.3132 - val_loss: 0.1650 - val_mean_absolute_error: 0.2832\n",
      "Epoch 4/20\n",
      "368/368 [==============================] - 1s 3ms/step - loss: 0.2035 - mean_absolute_error: 0.3125 - val_loss: 0.1647 - val_mean_absolute_error: 0.2860\n",
      "Epoch 5/20\n",
      "368/368 [==============================] - 1s 4ms/step - loss: 0.2038 - mean_absolute_error: 0.3129 - val_loss: 0.1642 - val_mean_absolute_error: 0.2839\n",
      "Epoch 6/20\n",
      "368/368 [==============================] - 1s 4ms/step - loss: 0.2019 - mean_absolute_error: 0.3114 - val_loss: 0.1647 - val_mean_absolute_error: 0.2864\n",
      "Epoch 7/20\n",
      "368/368 [==============================] - 1s 4ms/step - loss: 0.2025 - mean_absolute_error: 0.3118 - val_loss: 0.1647 - val_mean_absolute_error: 0.2853\n",
      "***TRAIN***:\n",
      "correlation related to cluster centre: 0.89\n",
      "r2 score related to cluster centre: 0.80\n",
      "***VALIDATION***:\n",
      "correlation related to cluster centre: 0.91\n",
      "r2 score related to cluster centre: 0.83\n"
     ]
    },
    {
     "data": {
      "application/vnd.jupyter.widget-view+json": {
       "model_id": "7ccaa00104954d60a8a789991d28559f",
       "version_major": 2,
       "version_minor": 0
      },
      "text/plain": [
       "IntProgress(value=0, max=15)"
      ]
     },
     "metadata": {},
     "output_type": "display_data"
    },
    {
     "name": "stdout",
     "output_type": "stream",
     "text": [
      "***VALIDATION***:\n",
      "average correlation: 0.91\n",
      "average r2: 0.83\n",
      "weighted_average_correlation: 0.91\n",
      "weighted_average_r2_score: 0.81\n",
      "bad clusters rate: 0.92%\n",
      "------------------------------------------------------\n"
     ]
    }
   ],
   "source": [
    "first_path = r\"C:\\Coding\\final-qualifying-work_2023-2024\\ClusteringCpp\\output\\mst 5.txt\"\n",
    "second_path = r\"C:\\Coding\\final-qualifying-work_2023-2024\\ClusteringCpp\\output\\mst 15.txt\"\n",
    "third_path = r\"C:\\Coding\\final-qualifying-work_2023-2024\\ClusteringCpp\\output\\mst 30.txt\"\n",
    "fourth_path = r\"C:\\Coding\\final-qualifying-work_2023-2024\\ClusteringCpp\\output\\mst 60.txt\"\n",
    "\n",
    "output_file = open(\"computational-experiments-output-mst-1.txt\", \"a\")\n",
    "\n",
    "selected_path = fourth_path\n",
    "\n",
    "print('------------------------------------------------------')\n",
    "output_file.write('------------------------------------------------------\\n')\n",
    "\n",
    "print(f\"msd {os.path.split(selected_path)[-1]}\")\n",
    "output_file.write(f\"msd {os.path.split(selected_path)[-1]}\\n\")\n",
    "show_results(multi_step_dense_model, get_clusters(selected_path), CONV_WIDTH)\n",
    "\n",
    "print('------------------------------------------------------')\n",
    "output_file.write('------------------------------------------------------\\n')\n",
    "\n",
    "output_file.close()"
   ]
  },
  {
   "cell_type": "code",
   "execution_count": 25,
   "id": "b79fea0a-93c5-4fa3-85d9-b37f7417d9ea",
   "metadata": {},
   "outputs": [
    {
     "name": "stdout",
     "output_type": "stream",
     "text": [
      "------------------------------------------------------\n",
      "lstm mst 5.txt\n",
      "---do_investigations. cluster index : 0---\n"
     ]
    },
    {
     "data": {
      "application/vnd.jupyter.widget-view+json": {
       "model_id": "feb131263ee8442eb2a2aaffd7dc2af4",
       "version_major": 2,
       "version_minor": 0
      },
      "text/plain": [
       "IntProgress(value=0, max=5323)"
      ]
     },
     "metadata": {},
     "output_type": "display_data"
    },
    {
     "name": "stdout",
     "output_type": "stream",
     "text": [
      "Epoch 1/20\n",
      "368/368 [==============================] - 26s 8ms/step - loss: 0.2860 - mean_absolute_error: 0.3433 - val_loss: 0.2037 - val_mean_absolute_error: 0.2767\n",
      "Epoch 2/20\n",
      "368/368 [==============================] - 2s 6ms/step - loss: 0.2069 - mean_absolute_error: 0.2903 - val_loss: 0.2144 - val_mean_absolute_error: 0.2898\n",
      "Epoch 3/20\n",
      "368/368 [==============================] - 2s 6ms/step - loss: 0.2077 - mean_absolute_error: 0.2911 - val_loss: 0.2107 - val_mean_absolute_error: 0.2788\n",
      "***TRAIN***:\n",
      "correlation related to cluster centre: 0.89\n",
      "r2 score related to cluster centre: 0.79\n",
      "***VALIDATION***:\n",
      "correlation related to cluster centre: 0.90\n",
      "r2 score related to cluster centre: 0.81\n"
     ]
    },
    {
     "data": {
      "application/vnd.jupyter.widget-view+json": {
       "model_id": "8e662e2371f2489dbd9f9d9eb2079a74",
       "version_major": 2,
       "version_minor": 0
      },
      "text/plain": [
       "IntProgress(value=0, max=5323)"
      ]
     },
     "metadata": {},
     "output_type": "display_data"
    },
    {
     "name": "stdout",
     "output_type": "stream",
     "text": [
      "***VALIDATION***:\n",
      "average correlation: nan\n",
      "average r2: -11432818031857793203605340160.00\n",
      "---do_investigations. cluster index : 1---\n"
     ]
    },
    {
     "data": {
      "application/vnd.jupyter.widget-view+json": {
       "model_id": "6e04a41ad98a4d319000ecb27c00af10",
       "version_major": 2,
       "version_minor": 0
      },
      "text/plain": [
       "IntProgress(value=0, max=2349)"
      ]
     },
     "metadata": {},
     "output_type": "display_data"
    },
    {
     "name": "stdout",
     "output_type": "stream",
     "text": [
      "Epoch 1/20\n",
      "368/368 [==============================] - 9s 9ms/step - loss: 0.2614 - mean_absolute_error: 0.3547 - val_loss: 0.1580 - val_mean_absolute_error: 0.2789\n",
      "Epoch 2/20\n",
      "368/368 [==============================] - 2s 6ms/step - loss: 0.2033 - mean_absolute_error: 0.3075 - val_loss: 0.1562 - val_mean_absolute_error: 0.2741\n",
      "Epoch 3/20\n",
      "368/368 [==============================] - 2s 6ms/step - loss: 0.2034 - mean_absolute_error: 0.3071 - val_loss: 0.1556 - val_mean_absolute_error: 0.2784\n",
      "Epoch 4/20\n",
      "368/368 [==============================] - 4s 10ms/step - loss: 0.2022 - mean_absolute_error: 0.3068 - val_loss: 0.1557 - val_mean_absolute_error: 0.2741\n",
      "Epoch 5/20\n",
      "368/368 [==============================] - 11s 29ms/step - loss: 0.2023 - mean_absolute_error: 0.3065 - val_loss: 0.1564 - val_mean_absolute_error: 0.2773\n",
      "***TRAIN***:\n",
      "correlation related to cluster centre: 0.89\n",
      "r2 score related to cluster centre: 0.80\n",
      "***VALIDATION***:\n",
      "correlation related to cluster centre: 0.91\n",
      "r2 score related to cluster centre: 0.82\n"
     ]
    },
    {
     "data": {
      "application/vnd.jupyter.widget-view+json": {
       "model_id": "7a3f51c7f6a24a46a16c03d95b7fc840",
       "version_major": 2,
       "version_minor": 0
      },
      "text/plain": [
       "IntProgress(value=0, max=2349)"
      ]
     },
     "metadata": {},
     "output_type": "display_data"
    },
    {
     "name": "stdout",
     "output_type": "stream",
     "text": [
      "***VALIDATION***:\n",
      "average correlation: 0.90\n",
      "average r2: -2.30\n",
      "---do_investigations. cluster index : 2---\n"
     ]
    },
    {
     "data": {
      "application/vnd.jupyter.widget-view+json": {
       "model_id": "b2ea88faa08a4ce0a83ae3eb73b94a03",
       "version_major": 2,
       "version_minor": 0
      },
      "text/plain": [
       "IntProgress(value=0, max=4)"
      ]
     },
     "metadata": {},
     "output_type": "display_data"
    },
    {
     "name": "stdout",
     "output_type": "stream",
     "text": [
      "Epoch 1/20\n",
      "368/368 [==============================] - 10s 10ms/step - loss: 0.2668 - mean_absolute_error: 0.3587 - val_loss: 0.2563 - val_mean_absolute_error: 0.3383\n",
      "Epoch 2/20\n",
      "368/368 [==============================] - 3s 7ms/step - loss: 0.2038 - mean_absolute_error: 0.3080 - val_loss: 0.2397 - val_mean_absolute_error: 0.3331\n",
      "Epoch 3/20\n",
      "368/368 [==============================] - 2s 6ms/step - loss: 0.2031 - mean_absolute_error: 0.3072 - val_loss: 0.2426 - val_mean_absolute_error: 0.3251\n",
      "Epoch 4/20\n",
      "368/368 [==============================] - 2s 6ms/step - loss: 0.2027 - mean_absolute_error: 0.3070 - val_loss: 0.2371 - val_mean_absolute_error: 0.3275\n",
      "Epoch 5/20\n",
      "368/368 [==============================] - 2s 6ms/step - loss: 0.2013 - mean_absolute_error: 0.3050 - val_loss: 0.2413 - val_mean_absolute_error: 0.3293\n",
      "Epoch 6/20\n",
      "368/368 [==============================] - 2s 6ms/step - loss: 0.2009 - mean_absolute_error: 0.3045 - val_loss: 0.2373 - val_mean_absolute_error: 0.3267\n",
      "***TRAIN***:\n",
      "correlation related to cluster centre: 0.90\n",
      "r2 score related to cluster centre: 0.80\n",
      "***VALIDATION***:\n",
      "correlation related to cluster centre: 0.90\n",
      "r2 score related to cluster centre: 0.81\n"
     ]
    },
    {
     "data": {
      "application/vnd.jupyter.widget-view+json": {
       "model_id": "f6c535e1fe7f471786b0bbabc7812cdc",
       "version_major": 2,
       "version_minor": 0
      },
      "text/plain": [
       "IntProgress(value=0, max=4)"
      ]
     },
     "metadata": {},
     "output_type": "display_data"
    },
    {
     "name": "stdout",
     "output_type": "stream",
     "text": [
      "***VALIDATION***:\n",
      "average correlation: 0.90\n",
      "average r2: 0.81\n",
      "---do_investigations. cluster index : 3---\n"
     ]
    },
    {
     "data": {
      "application/vnd.jupyter.widget-view+json": {
       "model_id": "ac68100693bb45efa3bbd5fc31c303a8",
       "version_major": 2,
       "version_minor": 0
      },
      "text/plain": [
       "IntProgress(value=0, max=3)"
      ]
     },
     "metadata": {},
     "output_type": "display_data"
    },
    {
     "name": "stdout",
     "output_type": "stream",
     "text": [
      "Epoch 1/20\n",
      "368/368 [==============================] - 8s 9ms/step - loss: 0.3050 - mean_absolute_error: 0.2721 - val_loss: 0.0061 - val_mean_absolute_error: 0.0618\n",
      "Epoch 2/20\n",
      "368/368 [==============================] - 2s 6ms/step - loss: 0.2550 - mean_absolute_error: 0.2326 - val_loss: 0.0069 - val_mean_absolute_error: 0.0688\n",
      "Epoch 3/20\n",
      "368/368 [==============================] - 2s 6ms/step - loss: 0.2517 - mean_absolute_error: 0.2307 - val_loss: 0.0076 - val_mean_absolute_error: 0.0736\n",
      "***TRAIN***:\n",
      "correlation related to cluster centre: 0.87\n",
      "r2 score related to cluster centre: 0.75\n",
      "***VALIDATION***:\n",
      "correlation related to cluster centre: 0.91\n",
      "r2 score related to cluster centre: 0.61\n"
     ]
    },
    {
     "data": {
      "application/vnd.jupyter.widget-view+json": {
       "model_id": "03ece0bf11aa44ef8b0592c485600d0c",
       "version_major": 2,
       "version_minor": 0
      },
      "text/plain": [
       "IntProgress(value=0, max=3)"
      ]
     },
     "metadata": {},
     "output_type": "display_data"
    },
    {
     "name": "stdout",
     "output_type": "stream",
     "text": [
      "***VALIDATION***:\n",
      "average correlation: 0.91\n",
      "average r2: 0.42\n",
      "---do_investigations. cluster index : 4---\n"
     ]
    },
    {
     "data": {
      "application/vnd.jupyter.widget-view+json": {
       "model_id": "697470b4bd8e4039b4fff985db9d7ce6",
       "version_major": 2,
       "version_minor": 0
      },
      "text/plain": [
       "IntProgress(value=0, max=1)"
      ]
     },
     "metadata": {},
     "output_type": "display_data"
    },
    {
     "name": "stdout",
     "output_type": "stream",
     "text": [
      "Epoch 1/20\n",
      "368/368 [==============================] - 8s 9ms/step - loss: 0.2350 - mean_absolute_error: 0.3367 - val_loss: 0.1813 - val_mean_absolute_error: 0.2937\n",
      "Epoch 2/20\n",
      "368/368 [==============================] - 2s 7ms/step - loss: 0.1664 - mean_absolute_error: 0.2804 - val_loss: 0.1783 - val_mean_absolute_error: 0.2933\n",
      "Epoch 3/20\n",
      "368/368 [==============================] - 2s 6ms/step - loss: 0.1665 - mean_absolute_error: 0.2810 - val_loss: 0.1782 - val_mean_absolute_error: 0.2945\n",
      "Epoch 4/20\n",
      "368/368 [==============================] - 2s 6ms/step - loss: 0.1655 - mean_absolute_error: 0.2799 - val_loss: 0.1810 - val_mean_absolute_error: 0.2896\n",
      "Epoch 5/20\n",
      "368/368 [==============================] - 2s 6ms/step - loss: 0.1654 - mean_absolute_error: 0.2790 - val_loss: 0.1776 - val_mean_absolute_error: 0.2897\n",
      "Epoch 6/20\n",
      "368/368 [==============================] - 2s 7ms/step - loss: 0.1656 - mean_absolute_error: 0.2794 - val_loss: 0.1826 - val_mean_absolute_error: 0.2881\n",
      "Epoch 7/20\n",
      "368/368 [==============================] - 2s 6ms/step - loss: 0.1650 - mean_absolute_error: 0.2788 - val_loss: 0.1779 - val_mean_absolute_error: 0.2894\n",
      "***TRAIN***:\n",
      "correlation related to cluster centre: 0.91\n",
      "r2 score related to cluster centre: 0.84\n",
      "***VALIDATION***:\n",
      "correlation related to cluster centre: 0.91\n",
      "r2 score related to cluster centre: 0.82\n"
     ]
    },
    {
     "data": {
      "application/vnd.jupyter.widget-view+json": {
       "model_id": "d36d3450b5534cd7ba0c3cc1ea36d5f6",
       "version_major": 2,
       "version_minor": 0
      },
      "text/plain": [
       "IntProgress(value=0, max=1)"
      ]
     },
     "metadata": {},
     "output_type": "display_data"
    },
    {
     "name": "stdout",
     "output_type": "stream",
     "text": [
      "***VALIDATION***:\n",
      "average correlation: 0.91\n",
      "average r2: 0.82\n",
      "weighted_average_correlation: 0.91\n",
      "weighted_average_r2_score: 0.67\n",
      "bad clusters rate: 1.00%\n",
      "------------------------------------------------------\n"
     ]
    }
   ],
   "source": [
    "first_path = r\"C:\\Coding\\final-qualifying-work_2023-2024\\ClusteringCpp\\output\\mst 5.txt\"\n",
    "second_path = r\"C:\\Coding\\final-qualifying-work_2023-2024\\ClusteringCpp\\output\\mst 15.txt\"\n",
    "third_path = r\"C:\\Coding\\final-qualifying-work_2023-2024\\ClusteringCpp\\output\\mst 30.txt\"\n",
    "fourth_path = r\"C:\\Coding\\final-qualifying-work_2023-2024\\ClusteringCpp\\output\\mst 60.txt\"\n",
    "\n",
    "output_file = open(\"computational-experiments-output-mst-1.txt\", \"a\")\n",
    "\n",
    "selected_path = first_path\n",
    "\n",
    "print('------------------------------------------------------')\n",
    "output_file.write('------------------------------------------------------\\n')\n",
    "\n",
    "print(f\"lstm {os.path.split(selected_path)[-1]}\")\n",
    "output_file.write(f\"lstm {os.path.split(selected_path)[-1]}\\n\")\n",
    "show_results(lstm_model, get_clusters(selected_path), CONV_WIDTH)\n",
    "\n",
    "print('------------------------------------------------------')\n",
    "output_file.write('------------------------------------------------------\\n')\n",
    "\n",
    "output_file.close()"
   ]
  },
  {
   "cell_type": "code",
   "execution_count": 21,
   "id": "8e7aa546-1671-4bc2-bda6-d900711244ba",
   "metadata": {},
   "outputs": [
    {
     "name": "stdout",
     "output_type": "stream",
     "text": [
      "------------------------------------------------------\n",
      "lstm mst 15.txt\n",
      "---do_investigations. cluster index : 0---\n"
     ]
    },
    {
     "data": {
      "application/vnd.jupyter.widget-view+json": {
       "model_id": "7569e6903e964a508df5a32d26da73fb",
       "version_major": 2,
       "version_minor": 0
      },
      "text/plain": [
       "IntProgress(value=0, max=5318)"
      ]
     },
     "metadata": {},
     "output_type": "display_data"
    },
    {
     "name": "stdout",
     "output_type": "stream",
     "text": [
      "Epoch 1/20\n",
      "WARNING:tensorflow:From C:\\python\\python311\\Lib\\site-packages\\keras\\src\\utils\\tf_utils.py:492: The name tf.ragged.RaggedTensorValue is deprecated. Please use tf.compat.v1.ragged.RaggedTensorValue instead.\n",
      "\n",
      "368/368 [==============================] - 5s 6ms/step - loss: 0.2648 - mean_absolute_error: 0.3326 - val_loss: 0.2003 - val_mean_absolute_error: 0.2820\n",
      "Epoch 2/20\n",
      "368/368 [==============================] - 2s 5ms/step - loss: 0.2074 - mean_absolute_error: 0.2905 - val_loss: 0.2001 - val_mean_absolute_error: 0.2819\n",
      "Epoch 3/20\n",
      "368/368 [==============================] - 2s 5ms/step - loss: 0.2066 - mean_absolute_error: 0.2901 - val_loss: 0.1992 - val_mean_absolute_error: 0.2815\n",
      "Epoch 4/20\n",
      "368/368 [==============================] - 2s 5ms/step - loss: 0.2073 - mean_absolute_error: 0.2901 - val_loss: 0.1990 - val_mean_absolute_error: 0.2815\n",
      "Epoch 5/20\n",
      "368/368 [==============================] - 2s 5ms/step - loss: 0.2068 - mean_absolute_error: 0.2890 - val_loss: 0.1992 - val_mean_absolute_error: 0.2802\n",
      "Epoch 6/20\n",
      "368/368 [==============================] - 2s 5ms/step - loss: 0.2057 - mean_absolute_error: 0.2888 - val_loss: 0.1995 - val_mean_absolute_error: 0.2803\n",
      "***TRAIN***:\n",
      "correlation related to cluster centre: 0.89\n",
      "r2 score related to cluster centre: 0.80\n",
      "***VALIDATION***:\n",
      "correlation related to cluster centre: 0.90\n",
      "r2 score related to cluster centre: 0.82\n"
     ]
    },
    {
     "data": {
      "application/vnd.jupyter.widget-view+json": {
       "model_id": "f42be1d5a9a8424981e8b2dda6b932cb",
       "version_major": 2,
       "version_minor": 0
      },
      "text/plain": [
       "IntProgress(value=0, max=5318)"
      ]
     },
     "metadata": {},
     "output_type": "display_data"
    },
    {
     "name": "stdout",
     "output_type": "stream",
     "text": [
      "***VALIDATION***:\n",
      "average correlation: nan\n",
      "average r2: -25614448855607444799032918016.00\n",
      "---do_investigations. cluster index : 1---\n"
     ]
    },
    {
     "data": {
      "application/vnd.jupyter.widget-view+json": {
       "model_id": "0d8e6aba9aa34b51b0ed7f4a0bae654f",
       "version_major": 2,
       "version_minor": 0
      },
      "text/plain": [
       "IntProgress(value=0, max=66)"
      ]
     },
     "metadata": {},
     "output_type": "display_data"
    },
    {
     "name": "stdout",
     "output_type": "stream",
     "text": [
      "Epoch 1/20\n",
      "368/368 [==============================] - 5s 6ms/step - loss: 0.2850 - mean_absolute_error: 0.3591 - val_loss: 0.1652 - val_mean_absolute_error: 0.2813\n",
      "Epoch 2/20\n",
      "368/368 [==============================] - 2s 5ms/step - loss: 0.2106 - mean_absolute_error: 0.3054 - val_loss: 0.1633 - val_mean_absolute_error: 0.2851\n",
      "Epoch 3/20\n",
      "368/368 [==============================] - 2s 5ms/step - loss: 0.2102 - mean_absolute_error: 0.3043 - val_loss: 0.1636 - val_mean_absolute_error: 0.2888\n",
      "Epoch 4/20\n",
      "368/368 [==============================] - 2s 5ms/step - loss: 0.2097 - mean_absolute_error: 0.3046 - val_loss: 0.1625 - val_mean_absolute_error: 0.2821\n",
      "Epoch 5/20\n",
      "368/368 [==============================] - 2s 5ms/step - loss: 0.2106 - mean_absolute_error: 0.3040 - val_loss: 0.1733 - val_mean_absolute_error: 0.3051\n",
      "Epoch 6/20\n",
      "368/368 [==============================] - 2s 5ms/step - loss: 0.2087 - mean_absolute_error: 0.3031 - val_loss: 0.1614 - val_mean_absolute_error: 0.2793\n",
      "Epoch 7/20\n",
      "368/368 [==============================] - 2s 5ms/step - loss: 0.2083 - mean_absolute_error: 0.3027 - val_loss: 0.1640 - val_mean_absolute_error: 0.2895\n",
      "Epoch 8/20\n",
      "368/368 [==============================] - 2s 5ms/step - loss: 0.2092 - mean_absolute_error: 0.3026 - val_loss: 0.1656 - val_mean_absolute_error: 0.2897\n",
      "***TRAIN***:\n",
      "correlation related to cluster centre: 0.89\n",
      "r2 score related to cluster centre: 0.79\n",
      "***VALIDATION***:\n",
      "correlation related to cluster centre: 0.91\n",
      "r2 score related to cluster centre: 0.82\n"
     ]
    },
    {
     "data": {
      "application/vnd.jupyter.widget-view+json": {
       "model_id": "598b0bc243854c1390bbb6e952d9e8be",
       "version_major": 2,
       "version_minor": 0
      },
      "text/plain": [
       "IntProgress(value=0, max=66)"
      ]
     },
     "metadata": {},
     "output_type": "display_data"
    },
    {
     "name": "stdout",
     "output_type": "stream",
     "text": [
      "***VALIDATION***:\n",
      "average correlation: 0.91\n",
      "average r2: 0.81\n",
      "---do_investigations. cluster index : 2---\n"
     ]
    },
    {
     "data": {
      "application/vnd.jupyter.widget-view+json": {
       "model_id": "448c8c715fda4b06b0c8b459b896bd04",
       "version_major": 2,
       "version_minor": 0
      },
      "text/plain": [
       "IntProgress(value=0, max=107)"
      ]
     },
     "metadata": {},
     "output_type": "display_data"
    },
    {
     "name": "stdout",
     "output_type": "stream",
     "text": [
      "Epoch 1/20\n",
      "368/368 [==============================] - 5s 6ms/step - loss: 0.2822 - mean_absolute_error: 0.3621 - val_loss: 0.1472 - val_mean_absolute_error: 0.2631\n",
      "Epoch 2/20\n",
      "368/368 [==============================] - 2s 5ms/step - loss: 0.2117 - mean_absolute_error: 0.3115 - val_loss: 0.1463 - val_mean_absolute_error: 0.2665\n",
      "Epoch 3/20\n",
      "368/368 [==============================] - 2s 5ms/step - loss: 0.2097 - mean_absolute_error: 0.3099 - val_loss: 0.1468 - val_mean_absolute_error: 0.2638\n",
      "Epoch 4/20\n",
      "368/368 [==============================] - 2s 5ms/step - loss: 0.2090 - mean_absolute_error: 0.3093 - val_loss: 0.1460 - val_mean_absolute_error: 0.2602\n",
      "Epoch 5/20\n",
      "368/368 [==============================] - 2s 5ms/step - loss: 0.2085 - mean_absolute_error: 0.3090 - val_loss: 0.1456 - val_mean_absolute_error: 0.2659\n",
      "Epoch 6/20\n",
      "368/368 [==============================] - 2s 5ms/step - loss: 0.2081 - mean_absolute_error: 0.3080 - val_loss: 0.1461 - val_mean_absolute_error: 0.2714\n",
      "Epoch 7/20\n",
      "368/368 [==============================] - 2s 5ms/step - loss: 0.2081 - mean_absolute_error: 0.3075 - val_loss: 0.1454 - val_mean_absolute_error: 0.2633\n",
      "Epoch 8/20\n",
      "368/368 [==============================] - 2s 5ms/step - loss: 0.2083 - mean_absolute_error: 0.3083 - val_loss: 0.1474 - val_mean_absolute_error: 0.2748\n",
      "Epoch 9/20\n",
      "368/368 [==============================] - 2s 5ms/step - loss: 0.2084 - mean_absolute_error: 0.3084 - val_loss: 0.1455 - val_mean_absolute_error: 0.2639\n",
      "***TRAIN***:\n",
      "correlation related to cluster centre: 0.89\n",
      "r2 score related to cluster centre: 0.79\n",
      "***VALIDATION***:\n",
      "correlation related to cluster centre: 0.91\n",
      "r2 score related to cluster centre: 0.82\n"
     ]
    },
    {
     "data": {
      "application/vnd.jupyter.widget-view+json": {
       "model_id": "9fac4496a60d4f4aa843dc43119a05e7",
       "version_major": 2,
       "version_minor": 0
      },
      "text/plain": [
       "IntProgress(value=0, max=107)"
      ]
     },
     "metadata": {},
     "output_type": "display_data"
    },
    {
     "name": "stdout",
     "output_type": "stream",
     "text": [
      "***VALIDATION***:\n",
      "average correlation: 0.91\n",
      "average r2: 0.82\n",
      "---do_investigations. cluster index : 3---\n"
     ]
    },
    {
     "data": {
      "application/vnd.jupyter.widget-view+json": {
       "model_id": "3adecaba0dab4ce0878262b5f2d61807",
       "version_major": 2,
       "version_minor": 0
      },
      "text/plain": [
       "IntProgress(value=0, max=13)"
      ]
     },
     "metadata": {},
     "output_type": "display_data"
    },
    {
     "name": "stdout",
     "output_type": "stream",
     "text": [
      "Epoch 1/20\n",
      "368/368 [==============================] - 5s 6ms/step - loss: 0.2710 - mean_absolute_error: 0.3632 - val_loss: 0.1785 - val_mean_absolute_error: 0.2984\n",
      "Epoch 2/20\n",
      "368/368 [==============================] - 2s 5ms/step - loss: 0.2056 - mean_absolute_error: 0.3123 - val_loss: 0.1790 - val_mean_absolute_error: 0.2859\n",
      "Epoch 3/20\n",
      "368/368 [==============================] - 2s 5ms/step - loss: 0.2056 - mean_absolute_error: 0.3118 - val_loss: 0.1789 - val_mean_absolute_error: 0.3017\n",
      "***TRAIN***:\n",
      "correlation related to cluster centre: 0.89\n",
      "r2 score related to cluster centre: 0.79\n",
      "***VALIDATION***:\n",
      "correlation related to cluster centre: 0.91\n",
      "r2 score related to cluster centre: 0.82\n"
     ]
    },
    {
     "data": {
      "application/vnd.jupyter.widget-view+json": {
       "model_id": "4fe6cfa9f2fa4b0786cbdb346bb5caba",
       "version_major": 2,
       "version_minor": 0
      },
      "text/plain": [
       "IntProgress(value=0, max=13)"
      ]
     },
     "metadata": {},
     "output_type": "display_data"
    },
    {
     "name": "stdout",
     "output_type": "stream",
     "text": [
      "***VALIDATION***:\n",
      "average correlation: 0.91\n",
      "average r2: 0.82\n",
      "---do_investigations. cluster index : 4---\n"
     ]
    },
    {
     "data": {
      "application/vnd.jupyter.widget-view+json": {
       "model_id": "bc8c038c076242ce9342d3707fccc073",
       "version_major": 2,
       "version_minor": 0
      },
      "text/plain": [
       "IntProgress(value=0, max=2143)"
      ]
     },
     "metadata": {},
     "output_type": "display_data"
    },
    {
     "name": "stdout",
     "output_type": "stream",
     "text": [
      "Epoch 1/20\n",
      "368/368 [==============================] - 5s 7ms/step - loss: 0.2729 - mean_absolute_error: 0.3653 - val_loss: 0.1633 - val_mean_absolute_error: 0.2819\n",
      "Epoch 2/20\n",
      "368/368 [==============================] - 2s 5ms/step - loss: 0.1986 - mean_absolute_error: 0.3090 - val_loss: 0.1634 - val_mean_absolute_error: 0.2775\n",
      "Epoch 3/20\n",
      "368/368 [==============================] - 2s 5ms/step - loss: 0.1969 - mean_absolute_error: 0.3072 - val_loss: 0.1631 - val_mean_absolute_error: 0.2737\n",
      "Epoch 4/20\n",
      "368/368 [==============================] - 2s 5ms/step - loss: 0.1963 - mean_absolute_error: 0.3066 - val_loss: 0.1615 - val_mean_absolute_error: 0.2776\n",
      "Epoch 5/20\n",
      "368/368 [==============================] - 2s 5ms/step - loss: 0.1967 - mean_absolute_error: 0.3066 - val_loss: 0.1612 - val_mean_absolute_error: 0.2805\n",
      "Epoch 6/20\n",
      "368/368 [==============================] - 2s 5ms/step - loss: 0.1972 - mean_absolute_error: 0.3080 - val_loss: 0.1613 - val_mean_absolute_error: 0.2819\n",
      "Epoch 7/20\n",
      "368/368 [==============================] - 2s 5ms/step - loss: 0.1959 - mean_absolute_error: 0.3056 - val_loss: 0.1623 - val_mean_absolute_error: 0.2759\n",
      "***TRAIN***:\n",
      "correlation related to cluster centre: 0.90\n",
      "r2 score related to cluster centre: 0.80\n",
      "***VALIDATION***:\n",
      "correlation related to cluster centre: 0.91\n",
      "r2 score related to cluster centre: 0.82\n"
     ]
    },
    {
     "data": {
      "application/vnd.jupyter.widget-view+json": {
       "model_id": "e54c269d026d44d7955e2bbadf18bbb7",
       "version_major": 2,
       "version_minor": 0
      },
      "text/plain": [
       "IntProgress(value=0, max=2143)"
      ]
     },
     "metadata": {},
     "output_type": "display_data"
    },
    {
     "name": "stdout",
     "output_type": "stream",
     "text": [
      "***VALIDATION***:\n",
      "average correlation: 0.89\n",
      "average r2: -0.54\n",
      "---do_investigations. cluster index : 5---\n"
     ]
    },
    {
     "data": {
      "application/vnd.jupyter.widget-view+json": {
       "model_id": "32707130d8864105bba5b296c5c13aa1",
       "version_major": 2,
       "version_minor": 0
      },
      "text/plain": [
       "IntProgress(value=0, max=5)"
      ]
     },
     "metadata": {},
     "output_type": "display_data"
    },
    {
     "name": "stdout",
     "output_type": "stream",
     "text": [
      "Epoch 1/20\n",
      "368/368 [==============================] - 5s 6ms/step - loss: 0.2870 - mean_absolute_error: 0.3665 - val_loss: 0.2380 - val_mean_absolute_error: 0.3223\n",
      "Epoch 2/20\n",
      "368/368 [==============================] - 2s 5ms/step - loss: 0.2123 - mean_absolute_error: 0.3034 - val_loss: 0.2349 - val_mean_absolute_error: 0.3180\n",
      "Epoch 3/20\n",
      "368/368 [==============================] - 2s 5ms/step - loss: 0.2094 - mean_absolute_error: 0.3005 - val_loss: 0.2354 - val_mean_absolute_error: 0.3152\n",
      "Epoch 4/20\n",
      "368/368 [==============================] - 2s 5ms/step - loss: 0.2092 - mean_absolute_error: 0.2999 - val_loss: 0.2374 - val_mean_absolute_error: 0.3173\n",
      "***TRAIN***:\n",
      "correlation related to cluster centre: 0.89\n",
      "r2 score related to cluster centre: 0.79\n",
      "***VALIDATION***:\n",
      "correlation related to cluster centre: 0.90\n",
      "r2 score related to cluster centre: 0.81\n"
     ]
    },
    {
     "data": {
      "application/vnd.jupyter.widget-view+json": {
       "model_id": "70b883a231004669a029804fca30ff1b",
       "version_major": 2,
       "version_minor": 0
      },
      "text/plain": [
       "IntProgress(value=0, max=5)"
      ]
     },
     "metadata": {},
     "output_type": "display_data"
    },
    {
     "name": "stdout",
     "output_type": "stream",
     "text": [
      "***VALIDATION***:\n",
      "average correlation: 0.90\n",
      "average r2: 0.81\n",
      "---do_investigations. cluster index : 6---\n"
     ]
    },
    {
     "data": {
      "application/vnd.jupyter.widget-view+json": {
       "model_id": "4b48636af6c8461ca849df765384c425",
       "version_major": 2,
       "version_minor": 0
      },
      "text/plain": [
       "IntProgress(value=0, max=9)"
      ]
     },
     "metadata": {},
     "output_type": "display_data"
    },
    {
     "name": "stdout",
     "output_type": "stream",
     "text": [
      "Epoch 1/20\n",
      "368/368 [==============================] - 5s 6ms/step - loss: 0.2605 - mean_absolute_error: 0.3579 - val_loss: 0.1679 - val_mean_absolute_error: 0.3036\n",
      "Epoch 2/20\n",
      "368/368 [==============================] - 2s 5ms/step - loss: 0.1869 - mean_absolute_error: 0.2974 - val_loss: 0.1639 - val_mean_absolute_error: 0.2929\n",
      "Epoch 3/20\n",
      "368/368 [==============================] - 2s 5ms/step - loss: 0.1868 - mean_absolute_error: 0.2972 - val_loss: 0.1679 - val_mean_absolute_error: 0.3041\n",
      "Epoch 4/20\n",
      "368/368 [==============================] - 2s 5ms/step - loss: 0.1863 - mean_absolute_error: 0.2962 - val_loss: 0.1646 - val_mean_absolute_error: 0.2933\n",
      "***TRAIN***:\n",
      "correlation related to cluster centre: 0.90\n",
      "r2 score related to cluster centre: 0.81\n",
      "***VALIDATION***:\n",
      "correlation related to cluster centre: 0.91\n",
      "r2 score related to cluster centre: 0.82\n"
     ]
    },
    {
     "data": {
      "application/vnd.jupyter.widget-view+json": {
       "model_id": "de9e2fe4084245c0aa1a7996dd1e2689",
       "version_major": 2,
       "version_minor": 0
      },
      "text/plain": [
       "IntProgress(value=0, max=9)"
      ]
     },
     "metadata": {},
     "output_type": "display_data"
    },
    {
     "name": "stdout",
     "output_type": "stream",
     "text": [
      "***VALIDATION***:\n",
      "average correlation: 0.91\n",
      "average r2: 0.82\n",
      "---do_investigations. cluster index : 7---\n"
     ]
    },
    {
     "data": {
      "application/vnd.jupyter.widget-view+json": {
       "model_id": "ddea11a5826e48d6ac9942629fd1ab18",
       "version_major": 2,
       "version_minor": 0
      },
      "text/plain": [
       "IntProgress(value=0, max=7)"
      ]
     },
     "metadata": {},
     "output_type": "display_data"
    },
    {
     "name": "stdout",
     "output_type": "stream",
     "text": [
      "Epoch 1/20\n",
      "368/368 [==============================] - 5s 6ms/step - loss: 0.2268 - mean_absolute_error: 0.3242 - val_loss: 0.2054 - val_mean_absolute_error: 0.3325\n",
      "Epoch 2/20\n",
      "368/368 [==============================] - 2s 5ms/step - loss: 0.1616 - mean_absolute_error: 0.2733 - val_loss: 0.1995 - val_mean_absolute_error: 0.3188\n",
      "Epoch 3/20\n",
      "368/368 [==============================] - 2s 5ms/step - loss: 0.1619 - mean_absolute_error: 0.2738 - val_loss: 0.1986 - val_mean_absolute_error: 0.3150\n",
      "Epoch 4/20\n",
      "368/368 [==============================] - 2s 5ms/step - loss: 0.1606 - mean_absolute_error: 0.2723 - val_loss: 0.2048 - val_mean_absolute_error: 0.3318\n",
      "Epoch 5/20\n",
      "368/368 [==============================] - 2s 5ms/step - loss: 0.1603 - mean_absolute_error: 0.2722 - val_loss: 0.2010 - val_mean_absolute_error: 0.3263\n",
      "***TRAIN***:\n",
      "correlation related to cluster centre: 0.92\n",
      "r2 score related to cluster centre: 0.84\n",
      "***VALIDATION***:\n",
      "correlation related to cluster centre: 0.91\n",
      "r2 score related to cluster centre: 0.83\n"
     ]
    },
    {
     "data": {
      "application/vnd.jupyter.widget-view+json": {
       "model_id": "485856fbd414497299b2163ad8c77c23",
       "version_major": 2,
       "version_minor": 0
      },
      "text/plain": [
       "IntProgress(value=0, max=7)"
      ]
     },
     "metadata": {},
     "output_type": "display_data"
    },
    {
     "name": "stdout",
     "output_type": "stream",
     "text": [
      "***VALIDATION***:\n",
      "average correlation: 0.91\n",
      "average r2: 0.83\n",
      "---do_investigations. cluster index : 8---\n"
     ]
    },
    {
     "data": {
      "application/vnd.jupyter.widget-view+json": {
       "model_id": "5fe62fb003fb420c91eb21cf49717f4c",
       "version_major": 2,
       "version_minor": 0
      },
      "text/plain": [
       "IntProgress(value=0, max=1)"
      ]
     },
     "metadata": {},
     "output_type": "display_data"
    },
    {
     "name": "stdout",
     "output_type": "stream",
     "text": [
      "Epoch 1/20\n",
      "368/368 [==============================] - 5s 6ms/step - loss: 0.2992 - mean_absolute_error: 0.3735 - val_loss: 0.2215 - val_mean_absolute_error: 0.3270\n",
      "Epoch 2/20\n",
      "368/368 [==============================] - 2s 5ms/step - loss: 0.2414 - mean_absolute_error: 0.3265 - val_loss: 0.2245 - val_mean_absolute_error: 0.3344\n",
      "Epoch 3/20\n",
      "368/368 [==============================] - 2s 5ms/step - loss: 0.2415 - mean_absolute_error: 0.3272 - val_loss: 0.2256 - val_mean_absolute_error: 0.3396\n",
      "***TRAIN***:\n",
      "correlation related to cluster centre: 0.87\n",
      "r2 score related to cluster centre: 0.76\n",
      "***VALIDATION***:\n",
      "correlation related to cluster centre: 0.89\n",
      "r2 score related to cluster centre: 0.79\n"
     ]
    },
    {
     "data": {
      "application/vnd.jupyter.widget-view+json": {
       "model_id": "2ba41967a12a4edcb03d9500f0d321e0",
       "version_major": 2,
       "version_minor": 0
      },
      "text/plain": [
       "IntProgress(value=0, max=1)"
      ]
     },
     "metadata": {},
     "output_type": "display_data"
    },
    {
     "name": "stdout",
     "output_type": "stream",
     "text": [
      "***VALIDATION***:\n",
      "average correlation: 0.89\n",
      "average r2: 0.79\n",
      "---do_investigations. cluster index : 9---\n"
     ]
    },
    {
     "data": {
      "application/vnd.jupyter.widget-view+json": {
       "model_id": "f70d2220f4c74484956be97b709c964c",
       "version_major": 2,
       "version_minor": 0
      },
      "text/plain": [
       "IntProgress(value=0, max=3)"
      ]
     },
     "metadata": {},
     "output_type": "display_data"
    },
    {
     "name": "stdout",
     "output_type": "stream",
     "text": [
      "Epoch 1/20\n",
      "368/368 [==============================] - 5s 6ms/step - loss: 0.2554 - mean_absolute_error: 0.3467 - val_loss: 0.2448 - val_mean_absolute_error: 0.3356\n",
      "Epoch 2/20\n",
      "368/368 [==============================] - 2s 5ms/step - loss: 0.1990 - mean_absolute_error: 0.3042 - val_loss: 0.2428 - val_mean_absolute_error: 0.3433\n",
      "Epoch 3/20\n",
      "368/368 [==============================] - 2s 5ms/step - loss: 0.1980 - mean_absolute_error: 0.3028 - val_loss: 0.2420 - val_mean_absolute_error: 0.3343\n",
      "Epoch 4/20\n",
      "368/368 [==============================] - 2s 5ms/step - loss: 0.1972 - mean_absolute_error: 0.3024 - val_loss: 0.2426 - val_mean_absolute_error: 0.3462\n",
      "Epoch 5/20\n",
      "368/368 [==============================] - 2s 5ms/step - loss: 0.1967 - mean_absolute_error: 0.3020 - val_loss: 0.2416 - val_mean_absolute_error: 0.3367\n",
      "Epoch 6/20\n",
      "368/368 [==============================] - 2s 5ms/step - loss: 0.1972 - mean_absolute_error: 0.3015 - val_loss: 0.2414 - val_mean_absolute_error: 0.3431\n",
      "Epoch 7/20\n",
      "368/368 [==============================] - 2s 5ms/step - loss: 0.1972 - mean_absolute_error: 0.3022 - val_loss: 0.2481 - val_mean_absolute_error: 0.3354\n",
      "Epoch 8/20\n",
      "368/368 [==============================] - 2s 5ms/step - loss: 0.1969 - mean_absolute_error: 0.3019 - val_loss: 0.2411 - val_mean_absolute_error: 0.3355\n",
      "Epoch 9/20\n",
      "368/368 [==============================] - 2s 5ms/step - loss: 0.1970 - mean_absolute_error: 0.3022 - val_loss: 0.2406 - val_mean_absolute_error: 0.3423\n",
      "Epoch 10/20\n",
      "368/368 [==============================] - 2s 5ms/step - loss: 0.1965 - mean_absolute_error: 0.3012 - val_loss: 0.2404 - val_mean_absolute_error: 0.3370\n",
      "Epoch 11/20\n",
      "368/368 [==============================] - 2s 5ms/step - loss: 0.1961 - mean_absolute_error: 0.3015 - val_loss: 0.2414 - val_mean_absolute_error: 0.3370\n",
      "Epoch 12/20\n",
      "368/368 [==============================] - 2s 5ms/step - loss: 0.1960 - mean_absolute_error: 0.3003 - val_loss: 0.2418 - val_mean_absolute_error: 0.3371\n",
      "***TRAIN***:\n",
      "correlation related to cluster centre: 0.90\n",
      "r2 score related to cluster centre: 0.80\n",
      "***VALIDATION***:\n",
      "correlation related to cluster centre: 0.91\n",
      "r2 score related to cluster centre: 0.82\n"
     ]
    },
    {
     "data": {
      "application/vnd.jupyter.widget-view+json": {
       "model_id": "fa33d50343a6455b93b72cbfd6f95168",
       "version_major": 2,
       "version_minor": 0
      },
      "text/plain": [
       "IntProgress(value=0, max=3)"
      ]
     },
     "metadata": {},
     "output_type": "display_data"
    },
    {
     "name": "stdout",
     "output_type": "stream",
     "text": [
      "***VALIDATION***:\n",
      "average correlation: 0.90\n",
      "average r2: 0.82\n",
      "---do_investigations. cluster index : 10---\n"
     ]
    },
    {
     "data": {
      "application/vnd.jupyter.widget-view+json": {
       "model_id": "1078885757054989853b4b98ddddf717",
       "version_major": 2,
       "version_minor": 0
      },
      "text/plain": [
       "IntProgress(value=0, max=2)"
      ]
     },
     "metadata": {},
     "output_type": "display_data"
    },
    {
     "name": "stdout",
     "output_type": "stream",
     "text": [
      "Epoch 1/20\n",
      "368/368 [==============================] - 5s 6ms/step - loss: 0.2709 - mean_absolute_error: 0.3338 - val_loss: 0.0702 - val_mean_absolute_error: 0.1781\n",
      "Epoch 2/20\n",
      "368/368 [==============================] - 2s 5ms/step - loss: 0.2056 - mean_absolute_error: 0.2882 - val_loss: 0.0698 - val_mean_absolute_error: 0.1814\n",
      "Epoch 3/20\n",
      "368/368 [==============================] - 2s 5ms/step - loss: 0.2065 - mean_absolute_error: 0.2884 - val_loss: 0.0699 - val_mean_absolute_error: 0.1758\n",
      "Epoch 4/20\n",
      "368/368 [==============================] - 2s 5ms/step - loss: 0.2046 - mean_absolute_error: 0.2868 - val_loss: 0.0692 - val_mean_absolute_error: 0.1769\n",
      "Epoch 5/20\n",
      "368/368 [==============================] - 2s 5ms/step - loss: 0.2044 - mean_absolute_error: 0.2868 - val_loss: 0.0688 - val_mean_absolute_error: 0.1783\n",
      "Epoch 6/20\n",
      "368/368 [==============================] - 2s 5ms/step - loss: 0.2051 - mean_absolute_error: 0.2872 - val_loss: 0.0697 - val_mean_absolute_error: 0.1753\n",
      "Epoch 7/20\n",
      "368/368 [==============================] - 2s 5ms/step - loss: 0.2046 - mean_absolute_error: 0.2869 - val_loss: 0.0699 - val_mean_absolute_error: 0.1806\n",
      "***TRAIN***:\n",
      "correlation related to cluster centre: 0.89\n",
      "r2 score related to cluster centre: 0.80\n",
      "***VALIDATION***:\n",
      "correlation related to cluster centre: 0.91\n",
      "r2 score related to cluster centre: 0.83\n"
     ]
    },
    {
     "data": {
      "application/vnd.jupyter.widget-view+json": {
       "model_id": "8388a94359cb42c9b976a6de583d901d",
       "version_major": 2,
       "version_minor": 0
      },
      "text/plain": [
       "IntProgress(value=0, max=2)"
      ]
     },
     "metadata": {},
     "output_type": "display_data"
    },
    {
     "name": "stdout",
     "output_type": "stream",
     "text": [
      "***VALIDATION***:\n",
      "average correlation: 0.92\n",
      "average r2: 0.84\n",
      "---do_investigations. cluster index : 11---\n"
     ]
    },
    {
     "data": {
      "application/vnd.jupyter.widget-view+json": {
       "model_id": "d4783f385eb44722b8a30c875a6a66dc",
       "version_major": 2,
       "version_minor": 0
      },
      "text/plain": [
       "IntProgress(value=0, max=1)"
      ]
     },
     "metadata": {},
     "output_type": "display_data"
    },
    {
     "name": "stdout",
     "output_type": "stream",
     "text": [
      "Epoch 1/20\n",
      "368/368 [==============================] - 5s 6ms/step - loss: 0.2740 - mean_absolute_error: 0.2942 - val_loss: 0.3301 - val_mean_absolute_error: 0.3267\n",
      "Epoch 2/20\n",
      "368/368 [==============================] - 2s 5ms/step - loss: 0.2166 - mean_absolute_error: 0.2545 - val_loss: 0.3421 - val_mean_absolute_error: 0.3284\n",
      "Epoch 3/20\n",
      "368/368 [==============================] - 2s 5ms/step - loss: 0.2158 - mean_absolute_error: 0.2540 - val_loss: 0.3157 - val_mean_absolute_error: 0.3215\n",
      "Epoch 4/20\n",
      "368/368 [==============================] - 2s 5ms/step - loss: 0.2145 - mean_absolute_error: 0.2531 - val_loss: 0.3191 - val_mean_absolute_error: 0.3205\n",
      "Epoch 5/20\n",
      "368/368 [==============================] - 2s 5ms/step - loss: 0.2156 - mean_absolute_error: 0.2531 - val_loss: 0.3165 - val_mean_absolute_error: 0.3215\n",
      "***TRAIN***:\n",
      "correlation related to cluster centre: 0.89\n",
      "r2 score related to cluster centre: 0.79\n",
      "***VALIDATION***:\n",
      "correlation related to cluster centre: 0.89\n",
      "r2 score related to cluster centre: 0.79\n"
     ]
    },
    {
     "data": {
      "application/vnd.jupyter.widget-view+json": {
       "model_id": "6fff1f2f212a4df89a74e67f78d98fe2",
       "version_major": 2,
       "version_minor": 0
      },
      "text/plain": [
       "IntProgress(value=0, max=1)"
      ]
     },
     "metadata": {},
     "output_type": "display_data"
    },
    {
     "name": "stdout",
     "output_type": "stream",
     "text": [
      "***VALIDATION***:\n",
      "average correlation: 0.89\n",
      "average r2: 0.79\n",
      "---do_investigations. cluster index : 12---\n"
     ]
    },
    {
     "data": {
      "application/vnd.jupyter.widget-view+json": {
       "model_id": "072de88de27e4d3e97a3fd918fdc4ce7",
       "version_major": 2,
       "version_minor": 0
      },
      "text/plain": [
       "IntProgress(value=0, max=3)"
      ]
     },
     "metadata": {},
     "output_type": "display_data"
    },
    {
     "name": "stdout",
     "output_type": "stream",
     "text": [
      "Epoch 1/20\n",
      "368/368 [==============================] - 5s 6ms/step - loss: 0.3245 - mean_absolute_error: 0.2812 - val_loss: 0.0052 - val_mean_absolute_error: 0.0523\n",
      "Epoch 2/20\n",
      "368/368 [==============================] - 2s 5ms/step - loss: 0.2537 - mean_absolute_error: 0.2308 - val_loss: 0.0051 - val_mean_absolute_error: 0.0524\n",
      "Epoch 3/20\n",
      "368/368 [==============================] - 2s 5ms/step - loss: 0.2512 - mean_absolute_error: 0.2294 - val_loss: 0.0046 - val_mean_absolute_error: 0.0463\n",
      "Epoch 4/20\n",
      "368/368 [==============================] - 2s 5ms/step - loss: 0.2505 - mean_absolute_error: 0.2293 - val_loss: 0.0041 - val_mean_absolute_error: 0.0414\n",
      "Epoch 5/20\n",
      "368/368 [==============================] - 2s 5ms/step - loss: 0.2499 - mean_absolute_error: 0.2292 - val_loss: 0.0048 - val_mean_absolute_error: 0.0490\n",
      "Epoch 6/20\n",
      "368/368 [==============================] - 2s 5ms/step - loss: 0.2492 - mean_absolute_error: 0.2281 - val_loss: 0.0039 - val_mean_absolute_error: 0.0375\n",
      "Epoch 7/20\n",
      "368/368 [==============================] - 2s 5ms/step - loss: 0.2493 - mean_absolute_error: 0.2284 - val_loss: 0.0064 - val_mean_absolute_error: 0.0628\n",
      "Epoch 8/20\n",
      "368/368 [==============================] - 2s 5ms/step - loss: 0.2492 - mean_absolute_error: 0.2280 - val_loss: 0.0042 - val_mean_absolute_error: 0.0443\n",
      "***TRAIN***:\n",
      "correlation related to cluster centre: 0.87\n",
      "r2 score related to cluster centre: 0.75\n",
      "***VALIDATION***:\n",
      "correlation related to cluster centre: 0.91\n",
      "r2 score related to cluster centre: 0.79\n"
     ]
    },
    {
     "data": {
      "application/vnd.jupyter.widget-view+json": {
       "model_id": "57280de2de2d482d949e2025d851049b",
       "version_major": 2,
       "version_minor": 0
      },
      "text/plain": [
       "IntProgress(value=0, max=3)"
      ]
     },
     "metadata": {},
     "output_type": "display_data"
    },
    {
     "name": "stdout",
     "output_type": "stream",
     "text": [
      "***VALIDATION***:\n",
      "average correlation: 0.91\n",
      "average r2: 0.72\n",
      "---do_investigations. cluster index : 13---\n"
     ]
    },
    {
     "data": {
      "application/vnd.jupyter.widget-view+json": {
       "model_id": "eb6fc48810a446fd876d61f21810a156",
       "version_major": 2,
       "version_minor": 0
      },
      "text/plain": [
       "IntProgress(value=0, max=1)"
      ]
     },
     "metadata": {},
     "output_type": "display_data"
    },
    {
     "name": "stdout",
     "output_type": "stream",
     "text": [
      "Epoch 1/20\n",
      "368/368 [==============================] - 5s 6ms/step - loss: 0.2144 - mean_absolute_error: 0.3005 - val_loss: 0.1000 - val_mean_absolute_error: 0.2030\n",
      "Epoch 2/20\n",
      "368/368 [==============================] - 2s 5ms/step - loss: 0.1495 - mean_absolute_error: 0.2506 - val_loss: 0.0969 - val_mean_absolute_error: 0.2014\n",
      "Epoch 3/20\n",
      "368/368 [==============================] - 2s 5ms/step - loss: 0.1494 - mean_absolute_error: 0.2505 - val_loss: 0.0964 - val_mean_absolute_error: 0.1997\n",
      "Epoch 4/20\n",
      "368/368 [==============================] - 2s 5ms/step - loss: 0.1476 - mean_absolute_error: 0.2491 - val_loss: 0.0962 - val_mean_absolute_error: 0.1972\n",
      "Epoch 5/20\n",
      "368/368 [==============================] - 2s 5ms/step - loss: 0.1479 - mean_absolute_error: 0.2492 - val_loss: 0.0981 - val_mean_absolute_error: 0.2066\n",
      "Epoch 6/20\n",
      "368/368 [==============================] - 2s 5ms/step - loss: 0.1475 - mean_absolute_error: 0.2493 - val_loss: 0.0965 - val_mean_absolute_error: 0.2001\n",
      "***TRAIN***:\n",
      "correlation related to cluster centre: 0.92\n",
      "r2 score related to cluster centre: 0.85\n",
      "***VALIDATION***:\n",
      "correlation related to cluster centre: 0.93\n",
      "r2 score related to cluster centre: 0.86\n"
     ]
    },
    {
     "data": {
      "application/vnd.jupyter.widget-view+json": {
       "model_id": "ba5a7b35e5a741d7bcaff44e39bf4af1",
       "version_major": 2,
       "version_minor": 0
      },
      "text/plain": [
       "IntProgress(value=0, max=1)"
      ]
     },
     "metadata": {},
     "output_type": "display_data"
    },
    {
     "name": "stdout",
     "output_type": "stream",
     "text": [
      "***VALIDATION***:\n",
      "average correlation: 0.93\n",
      "average r2: 0.86\n",
      "---do_investigations. cluster index : 14---\n"
     ]
    },
    {
     "data": {
      "application/vnd.jupyter.widget-view+json": {
       "model_id": "2892b2a43af44e999a6905d27cad0a84",
       "version_major": 2,
       "version_minor": 0
      },
      "text/plain": [
       "IntProgress(value=0, max=1)"
      ]
     },
     "metadata": {},
     "output_type": "display_data"
    },
    {
     "name": "stdout",
     "output_type": "stream",
     "text": [
      "Epoch 1/20\n",
      "368/368 [==============================] - 4s 6ms/step - loss: 0.2447 - mean_absolute_error: 0.3424 - val_loss: 0.1806 - val_mean_absolute_error: 0.2990\n",
      "Epoch 2/20\n",
      "368/368 [==============================] - 2s 5ms/step - loss: 0.1672 - mean_absolute_error: 0.2813 - val_loss: 0.1799 - val_mean_absolute_error: 0.2964\n",
      "Epoch 3/20\n",
      "368/368 [==============================] - 2s 5ms/step - loss: 0.1667 - mean_absolute_error: 0.2799 - val_loss: 0.1850 - val_mean_absolute_error: 0.3117\n",
      "Epoch 4/20\n",
      "368/368 [==============================] - 2s 5ms/step - loss: 0.1671 - mean_absolute_error: 0.2806 - val_loss: 0.1788 - val_mean_absolute_error: 0.2978\n",
      "Epoch 5/20\n",
      "368/368 [==============================] - 2s 5ms/step - loss: 0.1661 - mean_absolute_error: 0.2796 - val_loss: 0.1784 - val_mean_absolute_error: 0.2941\n",
      "Epoch 6/20\n",
      "368/368 [==============================] - 2s 5ms/step - loss: 0.1661 - mean_absolute_error: 0.2798 - val_loss: 0.1783 - val_mean_absolute_error: 0.2985\n",
      "Epoch 7/20\n",
      "368/368 [==============================] - 2s 5ms/step - loss: 0.1652 - mean_absolute_error: 0.2783 - val_loss: 0.1780 - val_mean_absolute_error: 0.2961\n",
      "Epoch 8/20\n",
      "368/368 [==============================] - 2s 5ms/step - loss: 0.1654 - mean_absolute_error: 0.2789 - val_loss: 0.1782 - val_mean_absolute_error: 0.2944\n",
      "Epoch 9/20\n",
      "368/368 [==============================] - 2s 5ms/step - loss: 0.1652 - mean_absolute_error: 0.2787 - val_loss: 0.1786 - val_mean_absolute_error: 0.2992\n",
      "***TRAIN***:\n",
      "correlation related to cluster centre: 0.91\n",
      "r2 score related to cluster centre: 0.84\n",
      "***VALIDATION***:\n",
      "correlation related to cluster centre: 0.91\n",
      "r2 score related to cluster centre: 0.82\n"
     ]
    },
    {
     "data": {
      "application/vnd.jupyter.widget-view+json": {
       "model_id": "1c390d4a953248f593ba9c8bdc631339",
       "version_major": 2,
       "version_minor": 0
      },
      "text/plain": [
       "IntProgress(value=0, max=1)"
      ]
     },
     "metadata": {},
     "output_type": "display_data"
    },
    {
     "name": "stdout",
     "output_type": "stream",
     "text": [
      "***VALIDATION***:\n",
      "average correlation: 0.91\n",
      "average r2: 0.82\n",
      "weighted_average_correlation: 0.91\n",
      "weighted_average_r2_score: 0.82\n",
      "bad clusters rate: 0.97%\n",
      "------------------------------------------------------\n"
     ]
    }
   ],
   "source": [
    "first_path = r\"C:\\Coding\\final-qualifying-work_2023-2024\\ClusteringCpp\\output\\mst 5.txt\"\n",
    "second_path = r\"C:\\Coding\\final-qualifying-work_2023-2024\\ClusteringCpp\\output\\mst 15.txt\"\n",
    "third_path = r\"C:\\Coding\\final-qualifying-work_2023-2024\\ClusteringCpp\\output\\mst 30.txt\"\n",
    "fourth_path = r\"C:\\Coding\\final-qualifying-work_2023-2024\\ClusteringCpp\\output\\mst 60.txt\"\n",
    "\n",
    "output_file = open(\"computational-experiments-output-mst-1.txt\", \"a\")\n",
    "\n",
    "selected_path = second_path\n",
    "\n",
    "print('------------------------------------------------------')\n",
    "output_file.write('------------------------------------------------------\\n')\n",
    "\n",
    "print(f\"lstm {os.path.split(selected_path)[-1]}\")\n",
    "output_file.write(f\"lstm {os.path.split(selected_path)[-1]}\\n\")\n",
    "show_results(lstm_model, get_clusters(selected_path), CONV_WIDTH)\n",
    "\n",
    "print('------------------------------------------------------')\n",
    "output_file.write('------------------------------------------------------\\n')\n",
    "\n",
    "output_file.close()"
   ]
  },
  {
   "cell_type": "code",
   "execution_count": 21,
   "id": "ccfb217c-2238-4061-b354-50993754e06a",
   "metadata": {},
   "outputs": [
    {
     "name": "stdout",
     "output_type": "stream",
     "text": [
      "------------------------------------------------------\n",
      "lstm mst 30.txt\n",
      "---do_investigations. cluster index : 0---\n"
     ]
    },
    {
     "data": {
      "application/vnd.jupyter.widget-view+json": {
       "model_id": "4eb7b7c027804f2ebbae4c725c8a3fba",
       "version_major": 2,
       "version_minor": 0
      },
      "text/plain": [
       "IntProgress(value=0, max=5195)"
      ]
     },
     "metadata": {},
     "output_type": "display_data"
    },
    {
     "name": "stdout",
     "output_type": "stream",
     "text": [
      "Epoch 1/20\n",
      "WARNING:tensorflow:From C:\\python\\python311\\Lib\\site-packages\\keras\\src\\utils\\tf_utils.py:492: The name tf.ragged.RaggedTensorValue is deprecated. Please use tf.compat.v1.ragged.RaggedTensorValue instead.\n",
      "\n",
      "368/368 [==============================] - 11s 11ms/step - loss: 0.2824 - mean_absolute_error: 0.3398 - val_loss: 0.2203 - val_mean_absolute_error: 0.2704\n",
      "Epoch 2/20\n",
      "368/368 [==============================] - 3s 8ms/step - loss: 0.2074 - mean_absolute_error: 0.2862 - val_loss: 0.2163 - val_mean_absolute_error: 0.2735\n",
      "Epoch 3/20\n",
      "368/368 [==============================] - 3s 8ms/step - loss: 0.2061 - mean_absolute_error: 0.2858 - val_loss: 0.2169 - val_mean_absolute_error: 0.2751\n",
      "Epoch 4/20\n",
      "368/368 [==============================] - 3s 8ms/step - loss: 0.2051 - mean_absolute_error: 0.2836 - val_loss: 0.2162 - val_mean_absolute_error: 0.2733\n",
      "Epoch 5/20\n",
      "368/368 [==============================] - 3s 8ms/step - loss: 0.2058 - mean_absolute_error: 0.2849 - val_loss: 0.2164 - val_mean_absolute_error: 0.2755\n",
      "Epoch 6/20\n",
      "368/368 [==============================] - 3s 8ms/step - loss: 0.2055 - mean_absolute_error: 0.2850 - val_loss: 0.2159 - val_mean_absolute_error: 0.2715\n",
      "Epoch 7/20\n",
      "368/368 [==============================] - 3s 8ms/step - loss: 0.2041 - mean_absolute_error: 0.2831 - val_loss: 0.2165 - val_mean_absolute_error: 0.2717\n",
      "Epoch 8/20\n",
      "368/368 [==============================] - 3s 8ms/step - loss: 0.2039 - mean_absolute_error: 0.2833 - val_loss: 0.2163 - val_mean_absolute_error: 0.2718\n",
      "***TRAIN***:\n",
      "correlation related to cluster centre: 0.89\n",
      "r2 score related to cluster centre: 0.80\n",
      "***VALIDATION***:\n",
      "correlation related to cluster centre: 0.90\n",
      "r2 score related to cluster centre: 0.81\n"
     ]
    },
    {
     "data": {
      "application/vnd.jupyter.widget-view+json": {
       "model_id": "5682d73b1903472d8c1e8c63b5d73615",
       "version_major": 2,
       "version_minor": 0
      },
      "text/plain": [
       "IntProgress(value=0, max=5195)"
      ]
     },
     "metadata": {},
     "output_type": "display_data"
    },
    {
     "name": "stdout",
     "output_type": "stream",
     "text": [
      "***VALIDATION***:\n",
      "average correlation: nan\n",
      "average r2: -3206572123089767577604325376.00\n",
      "---do_investigations. cluster index : 1---\n"
     ]
    },
    {
     "data": {
      "application/vnd.jupyter.widget-view+json": {
       "model_id": "7bcb1e6b14f44d109cea469245dd1271",
       "version_major": 2,
       "version_minor": 0
      },
      "text/plain": [
       "IntProgress(value=0, max=60)"
      ]
     },
     "metadata": {},
     "output_type": "display_data"
    },
    {
     "name": "stdout",
     "output_type": "stream",
     "text": [
      "Epoch 1/20\n",
      "368/368 [==============================] - 14s 11ms/step - loss: 0.2677 - mean_absolute_error: 0.3564 - val_loss: 0.1867 - val_mean_absolute_error: 0.3038\n",
      "Epoch 2/20\n",
      "368/368 [==============================] - 3s 8ms/step - loss: 0.2054 - mean_absolute_error: 0.3080 - val_loss: 0.1916 - val_mean_absolute_error: 0.3041\n",
      "Epoch 3/20\n",
      "368/368 [==============================] - 3s 8ms/step - loss: 0.2058 - mean_absolute_error: 0.3076 - val_loss: 0.1826 - val_mean_absolute_error: 0.2901\n",
      "Epoch 4/20\n",
      "368/368 [==============================] - 3s 8ms/step - loss: 0.2063 - mean_absolute_error: 0.3081 - val_loss: 0.1875 - val_mean_absolute_error: 0.3037\n",
      "Epoch 5/20\n",
      "368/368 [==============================] - 3s 8ms/step - loss: 0.2048 - mean_absolute_error: 0.3067 - val_loss: 0.1855 - val_mean_absolute_error: 0.2981\n",
      "***TRAIN***:\n",
      "correlation related to cluster centre: 0.89\n",
      "r2 score related to cluster centre: 0.80\n",
      "***VALIDATION***:\n",
      "correlation related to cluster centre: 0.91\n",
      "r2 score related to cluster centre: 0.82\n"
     ]
    },
    {
     "data": {
      "application/vnd.jupyter.widget-view+json": {
       "model_id": "3b578aeed2d0499380f96aca45fc4ae8",
       "version_major": 2,
       "version_minor": 0
      },
      "text/plain": [
       "IntProgress(value=0, max=60)"
      ]
     },
     "metadata": {},
     "output_type": "display_data"
    },
    {
     "name": "stdout",
     "output_type": "stream",
     "text": [
      "***VALIDATION***:\n",
      "average correlation: 0.90\n",
      "average r2: 0.81\n",
      "---do_investigations. cluster index : 2---\n"
     ]
    },
    {
     "data": {
      "application/vnd.jupyter.widget-view+json": {
       "model_id": "9e1af73c5a4f4349b616dc8c05e5c151",
       "version_major": 2,
       "version_minor": 0
      },
      "text/plain": [
       "IntProgress(value=0, max=64)"
      ]
     },
     "metadata": {},
     "output_type": "display_data"
    },
    {
     "name": "stdout",
     "output_type": "stream",
     "text": [
      "Epoch 1/20\n",
      "368/368 [==============================] - 10s 11ms/step - loss: 0.2804 - mean_absolute_error: 0.3571 - val_loss: 0.1614 - val_mean_absolute_error: 0.2849\n",
      "Epoch 2/20\n",
      "368/368 [==============================] - 3s 8ms/step - loss: 0.2110 - mean_absolute_error: 0.3045 - val_loss: 0.1595 - val_mean_absolute_error: 0.2758\n",
      "Epoch 3/20\n",
      "368/368 [==============================] - 3s 8ms/step - loss: 0.2095 - mean_absolute_error: 0.3032 - val_loss: 0.1614 - val_mean_absolute_error: 0.2812\n",
      "Epoch 4/20\n",
      "368/368 [==============================] - 3s 9ms/step - loss: 0.2097 - mean_absolute_error: 0.3027 - val_loss: 0.1600 - val_mean_absolute_error: 0.2804\n",
      "***TRAIN***:\n",
      "correlation related to cluster centre: 0.89\n",
      "r2 score related to cluster centre: 0.79\n",
      "***VALIDATION***:\n",
      "correlation related to cluster centre: 0.91\n",
      "r2 score related to cluster centre: 0.82\n"
     ]
    },
    {
     "data": {
      "application/vnd.jupyter.widget-view+json": {
       "model_id": "6cc6b36757df4bf287c8bdbb5abdaacd",
       "version_major": 2,
       "version_minor": 0
      },
      "text/plain": [
       "IntProgress(value=0, max=64)"
      ]
     },
     "metadata": {},
     "output_type": "display_data"
    },
    {
     "name": "stdout",
     "output_type": "stream",
     "text": [
      "***VALIDATION***:\n",
      "average correlation: 0.91\n",
      "average r2: 0.82\n",
      "---do_investigations. cluster index : 3---\n"
     ]
    },
    {
     "data": {
      "application/vnd.jupyter.widget-view+json": {
       "model_id": "4b24300bd5b94cbf90f54946861c70d5",
       "version_major": 2,
       "version_minor": 0
      },
      "text/plain": [
       "IntProgress(value=0, max=60)"
      ]
     },
     "metadata": {},
     "output_type": "display_data"
    },
    {
     "name": "stdout",
     "output_type": "stream",
     "text": [
      "Epoch 1/20\n",
      "368/368 [==============================] - 9s 10ms/step - loss: 0.2681 - mean_absolute_error: 0.3535 - val_loss: 0.1546 - val_mean_absolute_error: 0.2812\n",
      "Epoch 2/20\n",
      "368/368 [==============================] - 3s 7ms/step - loss: 0.2119 - mean_absolute_error: 0.3118 - val_loss: 0.1563 - val_mean_absolute_error: 0.2756\n",
      "Epoch 3/20\n",
      "368/368 [==============================] - 3s 7ms/step - loss: 0.2119 - mean_absolute_error: 0.3108 - val_loss: 0.1528 - val_mean_absolute_error: 0.2727\n",
      "Epoch 4/20\n",
      "368/368 [==============================] - 3s 8ms/step - loss: 0.2109 - mean_absolute_error: 0.3095 - val_loss: 0.1554 - val_mean_absolute_error: 0.2693\n",
      "Epoch 5/20\n",
      "368/368 [==============================] - 3s 7ms/step - loss: 0.2111 - mean_absolute_error: 0.3100 - val_loss: 0.1560 - val_mean_absolute_error: 0.2790\n",
      "***TRAIN***:\n",
      "correlation related to cluster centre: 0.89\n",
      "r2 score related to cluster centre: 0.79\n",
      "***VALIDATION***:\n",
      "correlation related to cluster centre: 0.91\n",
      "r2 score related to cluster centre: 0.82\n"
     ]
    },
    {
     "data": {
      "application/vnd.jupyter.widget-view+json": {
       "model_id": "d19ed06efa20428ca989d707c6fa4130",
       "version_major": 2,
       "version_minor": 0
      },
      "text/plain": [
       "IntProgress(value=0, max=60)"
      ]
     },
     "metadata": {},
     "output_type": "display_data"
    },
    {
     "name": "stdout",
     "output_type": "stream",
     "text": [
      "***VALIDATION***:\n",
      "average correlation: 0.90\n",
      "average r2: 0.81\n",
      "---do_investigations. cluster index : 4---\n"
     ]
    },
    {
     "data": {
      "application/vnd.jupyter.widget-view+json": {
       "model_id": "635b52b0ef7548b79cd64357578f15c4",
       "version_major": 2,
       "version_minor": 0
      },
      "text/plain": [
       "IntProgress(value=0, max=13)"
      ]
     },
     "metadata": {},
     "output_type": "display_data"
    },
    {
     "name": "stdout",
     "output_type": "stream",
     "text": [
      "Epoch 1/20\n",
      "368/368 [==============================] - 9s 10ms/step - loss: 0.2617 - mean_absolute_error: 0.3542 - val_loss: 0.1836 - val_mean_absolute_error: 0.3004\n",
      "Epoch 2/20\n",
      "368/368 [==============================] - 3s 7ms/step - loss: 0.2066 - mean_absolute_error: 0.3125 - val_loss: 0.1801 - val_mean_absolute_error: 0.2975\n",
      "Epoch 3/20\n",
      "368/368 [==============================] - 3s 7ms/step - loss: 0.2039 - mean_absolute_error: 0.3116 - val_loss: 0.1798 - val_mean_absolute_error: 0.2951\n",
      "Epoch 4/20\n",
      "368/368 [==============================] - 3s 7ms/step - loss: 0.2053 - mean_absolute_error: 0.3114 - val_loss: 0.1853 - val_mean_absolute_error: 0.3001\n",
      "Epoch 5/20\n",
      "368/368 [==============================] - 3s 7ms/step - loss: 0.2041 - mean_absolute_error: 0.3103 - val_loss: 0.1794 - val_mean_absolute_error: 0.2973\n",
      "Epoch 6/20\n",
      "368/368 [==============================] - 3s 7ms/step - loss: 0.2037 - mean_absolute_error: 0.3103 - val_loss: 0.1807 - val_mean_absolute_error: 0.2940\n",
      "Epoch 7/20\n",
      "368/368 [==============================] - 3s 7ms/step - loss: 0.2039 - mean_absolute_error: 0.3107 - val_loss: 0.1781 - val_mean_absolute_error: 0.2973\n",
      "Epoch 8/20\n",
      "368/368 [==============================] - 3s 7ms/step - loss: 0.2039 - mean_absolute_error: 0.3102 - val_loss: 0.1790 - val_mean_absolute_error: 0.2951\n",
      "Epoch 9/20\n",
      "368/368 [==============================] - 3s 7ms/step - loss: 0.2036 - mean_absolute_error: 0.3100 - val_loss: 0.1771 - val_mean_absolute_error: 0.2902\n",
      "Epoch 10/20\n",
      "368/368 [==============================] - 3s 7ms/step - loss: 0.2032 - mean_absolute_error: 0.3094 - val_loss: 0.1790 - val_mean_absolute_error: 0.3002\n",
      "Epoch 11/20\n",
      "368/368 [==============================] - 3s 7ms/step - loss: 0.2045 - mean_absolute_error: 0.3108 - val_loss: 0.1826 - val_mean_absolute_error: 0.2993\n",
      "***TRAIN***:\n",
      "correlation related to cluster centre: 0.89\n",
      "r2 score related to cluster centre: 0.80\n",
      "***VALIDATION***:\n",
      "correlation related to cluster centre: 0.91\n",
      "r2 score related to cluster centre: 0.82\n"
     ]
    },
    {
     "data": {
      "application/vnd.jupyter.widget-view+json": {
       "model_id": "aedf7eb1919b4d3caf354f2f5db44760",
       "version_major": 2,
       "version_minor": 0
      },
      "text/plain": [
       "IntProgress(value=0, max=13)"
      ]
     },
     "metadata": {},
     "output_type": "display_data"
    },
    {
     "name": "stdout",
     "output_type": "stream",
     "text": [
      "***VALIDATION***:\n",
      "average correlation: 0.91\n",
      "average r2: 0.82\n",
      "---do_investigations. cluster index : 5---\n"
     ]
    },
    {
     "data": {
      "application/vnd.jupyter.widget-view+json": {
       "model_id": "1873817000a742d6a8003e102792888b",
       "version_major": 2,
       "version_minor": 0
      },
      "text/plain": [
       "IntProgress(value=0, max=102)"
      ]
     },
     "metadata": {},
     "output_type": "display_data"
    },
    {
     "name": "stdout",
     "output_type": "stream",
     "text": [
      "Epoch 1/20\n",
      "368/368 [==============================] - 8s 10ms/step - loss: 0.2617 - mean_absolute_error: 0.3480 - val_loss: 0.1381 - val_mean_absolute_error: 0.2561\n",
      "Epoch 2/20\n",
      "368/368 [==============================] - 3s 7ms/step - loss: 0.1941 - mean_absolute_error: 0.3003 - val_loss: 0.1345 - val_mean_absolute_error: 0.2550\n",
      "Epoch 3/20\n",
      "368/368 [==============================] - 3s 8ms/step - loss: 0.1935 - mean_absolute_error: 0.2992 - val_loss: 0.1352 - val_mean_absolute_error: 0.2560\n",
      "Epoch 4/20\n",
      "368/368 [==============================] - 3s 8ms/step - loss: 0.1932 - mean_absolute_error: 0.2992 - val_loss: 0.1395 - val_mean_absolute_error: 0.2659\n",
      "***TRAIN***:\n",
      "correlation related to cluster centre: 0.90\n",
      "r2 score related to cluster centre: 0.80\n",
      "***VALIDATION***:\n",
      "correlation related to cluster centre: 0.91\n",
      "r2 score related to cluster centre: 0.83\n"
     ]
    },
    {
     "data": {
      "application/vnd.jupyter.widget-view+json": {
       "model_id": "3ce48dd54fdc4c44bcc179ac0e64f055",
       "version_major": 2,
       "version_minor": 0
      },
      "text/plain": [
       "IntProgress(value=0, max=102)"
      ]
     },
     "metadata": {},
     "output_type": "display_data"
    },
    {
     "name": "stdout",
     "output_type": "stream",
     "text": [
      "***VALIDATION***:\n",
      "average correlation: 0.91\n",
      "average r2: 0.83\n",
      "---do_investigations. cluster index : 6---\n"
     ]
    },
    {
     "data": {
      "application/vnd.jupyter.widget-view+json": {
       "model_id": "ad9f615e0cf24ea0b4564206c4293c0f",
       "version_major": 2,
       "version_minor": 0
      },
      "text/plain": [
       "IntProgress(value=0, max=4)"
      ]
     },
     "metadata": {},
     "output_type": "display_data"
    },
    {
     "name": "stdout",
     "output_type": "stream",
     "text": [
      "Epoch 1/20\n",
      "368/368 [==============================] - 9s 10ms/step - loss: 0.2334 - mean_absolute_error: 0.3295 - val_loss: 0.2124 - val_mean_absolute_error: 0.3211\n",
      "Epoch 2/20\n",
      "368/368 [==============================] - 3s 8ms/step - loss: 0.1635 - mean_absolute_error: 0.2749 - val_loss: 0.2105 - val_mean_absolute_error: 0.3188\n",
      "Epoch 3/20\n",
      "368/368 [==============================] - 3s 8ms/step - loss: 0.1621 - mean_absolute_error: 0.2732 - val_loss: 0.2100 - val_mean_absolute_error: 0.3201\n",
      "Epoch 4/20\n",
      "368/368 [==============================] - 3s 7ms/step - loss: 0.1615 - mean_absolute_error: 0.2722 - val_loss: 0.2101 - val_mean_absolute_error: 0.3186\n",
      "Epoch 5/20\n",
      "368/368 [==============================] - 3s 7ms/step - loss: 0.1615 - mean_absolute_error: 0.2733 - val_loss: 0.2114 - val_mean_absolute_error: 0.3155\n",
      "***TRAIN***:\n",
      "correlation related to cluster centre: 0.92\n",
      "r2 score related to cluster centre: 0.84\n",
      "***VALIDATION***:\n",
      "correlation related to cluster centre: 0.91\n",
      "r2 score related to cluster centre: 0.83\n"
     ]
    },
    {
     "data": {
      "application/vnd.jupyter.widget-view+json": {
       "model_id": "382cf64106cf4b5da7a4f9bfc730db58",
       "version_major": 2,
       "version_minor": 0
      },
      "text/plain": [
       "IntProgress(value=0, max=4)"
      ]
     },
     "metadata": {},
     "output_type": "display_data"
    },
    {
     "name": "stdout",
     "output_type": "stream",
     "text": [
      "***VALIDATION***:\n",
      "average correlation: 0.91\n",
      "average r2: 0.83\n",
      "---do_investigations. cluster index : 7---\n"
     ]
    },
    {
     "data": {
      "application/vnd.jupyter.widget-view+json": {
       "model_id": "6633d306985243d9ab9a976bd6e7a90a",
       "version_major": 2,
       "version_minor": 0
      },
      "text/plain": [
       "IntProgress(value=0, max=40)"
      ]
     },
     "metadata": {},
     "output_type": "display_data"
    },
    {
     "name": "stdout",
     "output_type": "stream",
     "text": [
      "Epoch 1/20\n",
      "368/368 [==============================] - 9s 11ms/step - loss: 0.2473 - mean_absolute_error: 0.3497 - val_loss: 0.1503 - val_mean_absolute_error: 0.2735\n",
      "Epoch 2/20\n",
      "368/368 [==============================] - 3s 8ms/step - loss: 0.1897 - mean_absolute_error: 0.3018 - val_loss: 0.1494 - val_mean_absolute_error: 0.2701\n",
      "Epoch 3/20\n",
      "368/368 [==============================] - 3s 8ms/step - loss: 0.1890 - mean_absolute_error: 0.3013 - val_loss: 0.1488 - val_mean_absolute_error: 0.2695\n",
      "Epoch 4/20\n",
      "368/368 [==============================] - 3s 9ms/step - loss: 0.1884 - mean_absolute_error: 0.3008 - val_loss: 0.1497 - val_mean_absolute_error: 0.2710\n",
      "Epoch 5/20\n",
      "368/368 [==============================] - 3s 7ms/step - loss: 0.1881 - mean_absolute_error: 0.3001 - val_loss: 0.1487 - val_mean_absolute_error: 0.2734\n",
      "Epoch 6/20\n",
      "368/368 [==============================] - 3s 8ms/step - loss: 0.1886 - mean_absolute_error: 0.3009 - val_loss: 0.1496 - val_mean_absolute_error: 0.2758\n",
      "Epoch 7/20\n",
      "368/368 [==============================] - 3s 8ms/step - loss: 0.1886 - mean_absolute_error: 0.3003 - val_loss: 0.1510 - val_mean_absolute_error: 0.2702\n",
      "***TRAIN***:\n",
      "correlation related to cluster centre: 0.90\n",
      "r2 score related to cluster centre: 0.81\n",
      "***VALIDATION***:\n",
      "correlation related to cluster centre: 0.91\n",
      "r2 score related to cluster centre: 0.83\n"
     ]
    },
    {
     "data": {
      "application/vnd.jupyter.widget-view+json": {
       "model_id": "fdd7766e9eda4cfc81727520190361d3",
       "version_major": 2,
       "version_minor": 0
      },
      "text/plain": [
       "IntProgress(value=0, max=40)"
      ]
     },
     "metadata": {},
     "output_type": "display_data"
    },
    {
     "name": "stdout",
     "output_type": "stream",
     "text": [
      "***VALIDATION***:\n",
      "average correlation: 0.91\n",
      "average r2: 0.82\n",
      "---do_investigations. cluster index : 8---\n"
     ]
    },
    {
     "data": {
      "application/vnd.jupyter.widget-view+json": {
       "model_id": "078ece5825714a428cc11cfd8333354a",
       "version_major": 2,
       "version_minor": 0
      },
      "text/plain": [
       "IntProgress(value=0, max=1996)"
      ]
     },
     "metadata": {},
     "output_type": "display_data"
    },
    {
     "name": "stdout",
     "output_type": "stream",
     "text": [
      "Epoch 1/20\n",
      "368/368 [==============================] - 9s 11ms/step - loss: 0.2568 - mean_absolute_error: 0.3600 - val_loss: 0.1832 - val_mean_absolute_error: 0.2982\n",
      "Epoch 2/20\n",
      "368/368 [==============================] - 3s 8ms/step - loss: 0.2016 - mean_absolute_error: 0.3122 - val_loss: 0.1822 - val_mean_absolute_error: 0.2960\n",
      "Epoch 3/20\n",
      "368/368 [==============================] - 3s 8ms/step - loss: 0.2003 - mean_absolute_error: 0.3114 - val_loss: 0.1822 - val_mean_absolute_error: 0.2977\n",
      "Epoch 4/20\n",
      "368/368 [==============================] - 3s 8ms/step - loss: 0.2008 - mean_absolute_error: 0.3112 - val_loss: 0.1827 - val_mean_absolute_error: 0.3009\n",
      "***TRAIN***:\n",
      "correlation related to cluster centre: 0.90\n",
      "r2 score related to cluster centre: 0.80\n",
      "***VALIDATION***:\n",
      "correlation related to cluster centre: 0.91\n",
      "r2 score related to cluster centre: 0.82\n"
     ]
    },
    {
     "data": {
      "application/vnd.jupyter.widget-view+json": {
       "model_id": "b8d195f696e84f94a61ffae26fccf271",
       "version_major": 2,
       "version_minor": 0
      },
      "text/plain": [
       "IntProgress(value=0, max=1996)"
      ]
     },
     "metadata": {},
     "output_type": "display_data"
    },
    {
     "name": "stdout",
     "output_type": "stream",
     "text": [
      "***VALIDATION***:\n",
      "average correlation: 0.89\n",
      "average r2: -1.45\n",
      "---do_investigations. cluster index : 9---\n"
     ]
    },
    {
     "data": {
      "application/vnd.jupyter.widget-view+json": {
       "model_id": "a2c435da91a5451c94a083c0614a590a",
       "version_major": 2,
       "version_minor": 0
      },
      "text/plain": [
       "IntProgress(value=0, max=62)"
      ]
     },
     "metadata": {},
     "output_type": "display_data"
    },
    {
     "name": "stdout",
     "output_type": "stream",
     "text": [
      "Epoch 1/20\n",
      "368/368 [==============================] - 11s 11ms/step - loss: 0.2860 - mean_absolute_error: 0.3440 - val_loss: 0.1681 - val_mean_absolute_error: 0.2760\n",
      "Epoch 2/20\n",
      "368/368 [==============================] - 3s 8ms/step - loss: 0.2099 - mean_absolute_error: 0.2937 - val_loss: 0.1657 - val_mean_absolute_error: 0.2737\n",
      "Epoch 3/20\n",
      "368/368 [==============================] - 3s 8ms/step - loss: 0.2093 - mean_absolute_error: 0.2932 - val_loss: 0.1722 - val_mean_absolute_error: 0.2618\n",
      "Epoch 4/20\n",
      "368/368 [==============================] - 3s 8ms/step - loss: 0.2099 - mean_absolute_error: 0.2931 - val_loss: 0.1649 - val_mean_absolute_error: 0.2658\n",
      "Epoch 5/20\n",
      "368/368 [==============================] - 3s 8ms/step - loss: 0.2078 - mean_absolute_error: 0.2914 - val_loss: 0.1656 - val_mean_absolute_error: 0.2601\n",
      "Epoch 6/20\n",
      "368/368 [==============================] - 3s 8ms/step - loss: 0.2082 - mean_absolute_error: 0.2920 - val_loss: 0.1645 - val_mean_absolute_error: 0.2625\n",
      "Epoch 7/20\n",
      "368/368 [==============================] - 3s 8ms/step - loss: 0.2082 - mean_absolute_error: 0.2911 - val_loss: 0.1646 - val_mean_absolute_error: 0.2716\n",
      "Epoch 8/20\n",
      "368/368 [==============================] - 3s 8ms/step - loss: 0.2087 - mean_absolute_error: 0.2920 - val_loss: 0.1645 - val_mean_absolute_error: 0.2634\n",
      "Epoch 9/20\n",
      "368/368 [==============================] - 3s 8ms/step - loss: 0.2074 - mean_absolute_error: 0.2907 - val_loss: 0.1647 - val_mean_absolute_error: 0.2659\n",
      "Epoch 10/20\n",
      "368/368 [==============================] - 3s 8ms/step - loss: 0.2075 - mean_absolute_error: 0.2910 - val_loss: 0.1649 - val_mean_absolute_error: 0.2624\n",
      "***TRAIN***:\n",
      "correlation related to cluster centre: 0.89\n",
      "r2 score related to cluster centre: 0.79\n",
      "***VALIDATION***:\n",
      "correlation related to cluster centre: 0.91\n",
      "r2 score related to cluster centre: 0.82\n"
     ]
    },
    {
     "data": {
      "application/vnd.jupyter.widget-view+json": {
       "model_id": "aa5048f7ccd84fa3b1d22935bb6a9e42",
       "version_major": 2,
       "version_minor": 0
      },
      "text/plain": [
       "IntProgress(value=0, max=62)"
      ]
     },
     "metadata": {},
     "output_type": "display_data"
    },
    {
     "name": "stdout",
     "output_type": "stream",
     "text": [
      "***VALIDATION***:\n",
      "average correlation: 0.90\n",
      "average r2: 0.82\n",
      "---do_investigations. cluster index : 10---\n"
     ]
    },
    {
     "data": {
      "application/vnd.jupyter.widget-view+json": {
       "model_id": "eb860e7d826a4bb1a371bb6dbd582f79",
       "version_major": 2,
       "version_minor": 0
      },
      "text/plain": [
       "IntProgress(value=0, max=5)"
      ]
     },
     "metadata": {},
     "output_type": "display_data"
    },
    {
     "name": "stdout",
     "output_type": "stream",
     "text": [
      "Epoch 1/20\n",
      "368/368 [==============================] - 9s 11ms/step - loss: 0.2805 - mean_absolute_error: 0.3565 - val_loss: 0.2342 - val_mean_absolute_error: 0.3134\n",
      "Epoch 2/20\n",
      "368/368 [==============================] - 3s 8ms/step - loss: 0.2092 - mean_absolute_error: 0.2997 - val_loss: 0.2326 - val_mean_absolute_error: 0.3215\n",
      "Epoch 3/20\n",
      "368/368 [==============================] - 3s 8ms/step - loss: 0.2098 - mean_absolute_error: 0.2998 - val_loss: 0.2328 - val_mean_absolute_error: 0.3109\n",
      "Epoch 4/20\n",
      "368/368 [==============================] - 3s 8ms/step - loss: 0.2087 - mean_absolute_error: 0.2989 - val_loss: 0.2328 - val_mean_absolute_error: 0.3170\n",
      "***TRAIN***:\n",
      "correlation related to cluster centre: 0.89\n",
      "r2 score related to cluster centre: 0.79\n",
      "***VALIDATION***:\n",
      "correlation related to cluster centre: 0.90\n",
      "r2 score related to cluster centre: 0.82\n"
     ]
    },
    {
     "data": {
      "application/vnd.jupyter.widget-view+json": {
       "model_id": "5aa78f3030bc46c0a8e1def3fd1b5c22",
       "version_major": 2,
       "version_minor": 0
      },
      "text/plain": [
       "IntProgress(value=0, max=5)"
      ]
     },
     "metadata": {},
     "output_type": "display_data"
    },
    {
     "name": "stdout",
     "output_type": "stream",
     "text": [
      "***VALIDATION***:\n",
      "average correlation: 0.90\n",
      "average r2: 0.81\n",
      "---do_investigations. cluster index : 11---\n"
     ]
    },
    {
     "data": {
      "application/vnd.jupyter.widget-view+json": {
       "model_id": "a772efd8b3784cb5abfa6f2e7626c3b6",
       "version_major": 2,
       "version_minor": 0
      },
      "text/plain": [
       "IntProgress(value=0, max=9)"
      ]
     },
     "metadata": {},
     "output_type": "display_data"
    },
    {
     "name": "stdout",
     "output_type": "stream",
     "text": [
      "Epoch 1/20\n",
      "368/368 [==============================] - 9s 11ms/step - loss: 0.2588 - mean_absolute_error: 0.3510 - val_loss: 0.1663 - val_mean_absolute_error: 0.2989\n",
      "Epoch 2/20\n",
      "368/368 [==============================] - 3s 9ms/step - loss: 0.1873 - mean_absolute_error: 0.2981 - val_loss: 0.1613 - val_mean_absolute_error: 0.2867\n",
      "Epoch 3/20\n",
      "368/368 [==============================] - 3s 8ms/step - loss: 0.1870 - mean_absolute_error: 0.2973 - val_loss: 0.1636 - val_mean_absolute_error: 0.2954\n",
      "Epoch 4/20\n",
      "368/368 [==============================] - 3s 8ms/step - loss: 0.1865 - mean_absolute_error: 0.2962 - val_loss: 0.1611 - val_mean_absolute_error: 0.2862\n",
      "Epoch 5/20\n",
      "368/368 [==============================] - 3s 8ms/step - loss: 0.1866 - mean_absolute_error: 0.2969 - val_loss: 0.1619 - val_mean_absolute_error: 0.2862\n",
      "Epoch 6/20\n",
      "368/368 [==============================] - 3s 8ms/step - loss: 0.1858 - mean_absolute_error: 0.2956 - val_loss: 0.1637 - val_mean_absolute_error: 0.2968\n",
      "***TRAIN***:\n",
      "correlation related to cluster centre: 0.90\n",
      "r2 score related to cluster centre: 0.81\n",
      "***VALIDATION***:\n",
      "correlation related to cluster centre: 0.91\n",
      "r2 score related to cluster centre: 0.83\n"
     ]
    },
    {
     "data": {
      "application/vnd.jupyter.widget-view+json": {
       "model_id": "4b944121add340548f360cb09cb76df7",
       "version_major": 2,
       "version_minor": 0
      },
      "text/plain": [
       "IntProgress(value=0, max=9)"
      ]
     },
     "metadata": {},
     "output_type": "display_data"
    },
    {
     "name": "stdout",
     "output_type": "stream",
     "text": [
      "***VALIDATION***:\n",
      "average correlation: 0.91\n",
      "average r2: 0.82\n",
      "---do_investigations. cluster index : 12---\n"
     ]
    },
    {
     "data": {
      "application/vnd.jupyter.widget-view+json": {
       "model_id": "a9fbc6f5b2744a11831448edd37dc5a2",
       "version_major": 2,
       "version_minor": 0
      },
      "text/plain": [
       "IntProgress(value=0, max=7)"
      ]
     },
     "metadata": {},
     "output_type": "display_data"
    },
    {
     "name": "stdout",
     "output_type": "stream",
     "text": [
      "Epoch 1/20\n",
      "368/368 [==============================] - 9s 10ms/step - loss: 0.2267 - mean_absolute_error: 0.3251 - val_loss: 0.2012 - val_mean_absolute_error: 0.3098\n",
      "Epoch 2/20\n",
      "368/368 [==============================] - 3s 8ms/step - loss: 0.1630 - mean_absolute_error: 0.2753 - val_loss: 0.2005 - val_mean_absolute_error: 0.3087\n",
      "Epoch 3/20\n",
      "368/368 [==============================] - 3s 8ms/step - loss: 0.1614 - mean_absolute_error: 0.2737 - val_loss: 0.1974 - val_mean_absolute_error: 0.3080\n",
      "Epoch 4/20\n",
      "368/368 [==============================] - 3s 7ms/step - loss: 0.1610 - mean_absolute_error: 0.2728 - val_loss: 0.2076 - val_mean_absolute_error: 0.3117\n",
      "Epoch 5/20\n",
      "368/368 [==============================] - 3s 7ms/step - loss: 0.1601 - mean_absolute_error: 0.2717 - val_loss: 0.1980 - val_mean_absolute_error: 0.3068\n",
      "***TRAIN***:\n",
      "correlation related to cluster centre: 0.92\n",
      "r2 score related to cluster centre: 0.84\n",
      "***VALIDATION***:\n",
      "correlation related to cluster centre: 0.91\n",
      "r2 score related to cluster centre: 0.84\n"
     ]
    },
    {
     "data": {
      "application/vnd.jupyter.widget-view+json": {
       "model_id": "a21c8f4ce5d84746bb1d74fae59df37d",
       "version_major": 2,
       "version_minor": 0
      },
      "text/plain": [
       "IntProgress(value=0, max=7)"
      ]
     },
     "metadata": {},
     "output_type": "display_data"
    },
    {
     "name": "stdout",
     "output_type": "stream",
     "text": [
      "***VALIDATION***:\n",
      "average correlation: 0.91\n",
      "average r2: 0.83\n",
      "---do_investigations. cluster index : 13---\n"
     ]
    },
    {
     "data": {
      "application/vnd.jupyter.widget-view+json": {
       "model_id": "1ad28c2211b3458895e8b2107fcc0a24",
       "version_major": 2,
       "version_minor": 0
      },
      "text/plain": [
       "IntProgress(value=0, max=1)"
      ]
     },
     "metadata": {},
     "output_type": "display_data"
    },
    {
     "name": "stdout",
     "output_type": "stream",
     "text": [
      "Epoch 1/20\n",
      "368/368 [==============================] - 8s 10ms/step - loss: 0.3114 - mean_absolute_error: 0.3794 - val_loss: 0.2238 - val_mean_absolute_error: 0.3232\n",
      "Epoch 2/20\n",
      "368/368 [==============================] - 3s 7ms/step - loss: 0.2432 - mean_absolute_error: 0.3276 - val_loss: 0.2226 - val_mean_absolute_error: 0.3189\n",
      "Epoch 3/20\n",
      "368/368 [==============================] - 3s 8ms/step - loss: 0.2414 - mean_absolute_error: 0.3269 - val_loss: 0.2205 - val_mean_absolute_error: 0.3326\n",
      "Epoch 4/20\n",
      "368/368 [==============================] - 3s 8ms/step - loss: 0.2401 - mean_absolute_error: 0.3260 - val_loss: 0.2181 - val_mean_absolute_error: 0.3211\n",
      "Epoch 5/20\n",
      "368/368 [==============================] - 3s 8ms/step - loss: 0.2410 - mean_absolute_error: 0.3265 - val_loss: 0.2197 - val_mean_absolute_error: 0.3317\n",
      "Epoch 6/20\n",
      "368/368 [==============================] - 3s 8ms/step - loss: 0.2394 - mean_absolute_error: 0.3251 - val_loss: 0.2197 - val_mean_absolute_error: 0.3172\n",
      "***TRAIN***:\n",
      "correlation related to cluster centre: 0.87\n",
      "r2 score related to cluster centre: 0.76\n",
      "***VALIDATION***:\n",
      "correlation related to cluster centre: 0.89\n",
      "r2 score related to cluster centre: 0.79\n"
     ]
    },
    {
     "data": {
      "application/vnd.jupyter.widget-view+json": {
       "model_id": "ec87c7b5faf84e0b93a4ee3e7f071ccb",
       "version_major": 2,
       "version_minor": 0
      },
      "text/plain": [
       "IntProgress(value=0, max=1)"
      ]
     },
     "metadata": {},
     "output_type": "display_data"
    },
    {
     "name": "stdout",
     "output_type": "stream",
     "text": [
      "***VALIDATION***:\n",
      "average correlation: 0.89\n",
      "average r2: 0.79\n",
      "---do_investigations. cluster index : 14---\n"
     ]
    },
    {
     "data": {
      "application/vnd.jupyter.widget-view+json": {
       "model_id": "1c7b737a92dd44639d3d14eb4c255268",
       "version_major": 2,
       "version_minor": 0
      },
      "text/plain": [
       "IntProgress(value=0, max=3)"
      ]
     },
     "metadata": {},
     "output_type": "display_data"
    },
    {
     "name": "stdout",
     "output_type": "stream",
     "text": [
      "Epoch 1/20\n",
      "368/368 [==============================] - 9s 11ms/step - loss: 0.2625 - mean_absolute_error: 0.3529 - val_loss: 0.2459 - val_mean_absolute_error: 0.3473\n",
      "Epoch 2/20\n",
      "368/368 [==============================] - 3s 8ms/step - loss: 0.1978 - mean_absolute_error: 0.3036 - val_loss: 0.2458 - val_mean_absolute_error: 0.3402\n",
      "Epoch 3/20\n",
      "368/368 [==============================] - 3s 8ms/step - loss: 0.1970 - mean_absolute_error: 0.3022 - val_loss: 0.2408 - val_mean_absolute_error: 0.3395\n",
      "Epoch 4/20\n",
      "368/368 [==============================] - 3s 8ms/step - loss: 0.1979 - mean_absolute_error: 0.3026 - val_loss: 0.2478 - val_mean_absolute_error: 0.3503\n",
      "Epoch 5/20\n",
      "368/368 [==============================] - 3s 8ms/step - loss: 0.1970 - mean_absolute_error: 0.3016 - val_loss: 0.2437 - val_mean_absolute_error: 0.3388\n",
      "***TRAIN***:\n",
      "correlation related to cluster centre: 0.90\n",
      "r2 score related to cluster centre: 0.81\n",
      "***VALIDATION***:\n",
      "correlation related to cluster centre: 0.91\n",
      "r2 score related to cluster centre: 0.82\n"
     ]
    },
    {
     "data": {
      "application/vnd.jupyter.widget-view+json": {
       "model_id": "62724c7dfedd4f618fc3fb22a654716d",
       "version_major": 2,
       "version_minor": 0
      },
      "text/plain": [
       "IntProgress(value=0, max=3)"
      ]
     },
     "metadata": {},
     "output_type": "display_data"
    },
    {
     "name": "stdout",
     "output_type": "stream",
     "text": [
      "***VALIDATION***:\n",
      "average correlation: 0.90\n",
      "average r2: 0.82\n",
      "---do_investigations. cluster index : 15---\n"
     ]
    },
    {
     "data": {
      "application/vnd.jupyter.widget-view+json": {
       "model_id": "b6b83b66d8bf474aa4e856e20dbc8da0",
       "version_major": 2,
       "version_minor": 0
      },
      "text/plain": [
       "IntProgress(value=0, max=1)"
      ]
     },
     "metadata": {},
     "output_type": "display_data"
    },
    {
     "name": "stdout",
     "output_type": "stream",
     "text": [
      "Epoch 1/20\n",
      "368/368 [==============================] - 9s 10ms/step - loss: 0.2843 - mean_absolute_error: 0.3502 - val_loss: 0.1092 - val_mean_absolute_error: 0.2329\n",
      "Epoch 2/20\n",
      "368/368 [==============================] - 3s 8ms/step - loss: 0.2124 - mean_absolute_error: 0.3015 - val_loss: 0.1088 - val_mean_absolute_error: 0.2250\n",
      "Epoch 3/20\n",
      "368/368 [==============================] - 3s 8ms/step - loss: 0.2123 - mean_absolute_error: 0.3013 - val_loss: 0.1080 - val_mean_absolute_error: 0.2249\n",
      "Epoch 4/20\n",
      "368/368 [==============================] - 3s 8ms/step - loss: 0.2122 - mean_absolute_error: 0.3017 - val_loss: 0.1087 - val_mean_absolute_error: 0.2246\n",
      "Epoch 5/20\n",
      "368/368 [==============================] - 3s 8ms/step - loss: 0.2128 - mean_absolute_error: 0.3018 - val_loss: 0.1086 - val_mean_absolute_error: 0.2251\n",
      "***TRAIN***:\n",
      "correlation related to cluster centre: 0.89\n",
      "r2 score related to cluster centre: 0.79\n",
      "***VALIDATION***:\n",
      "correlation related to cluster centre: 0.92\n",
      "r2 score related to cluster centre: 0.84\n"
     ]
    },
    {
     "data": {
      "application/vnd.jupyter.widget-view+json": {
       "model_id": "d502cc6ddeee4776890844a3b72c4a12",
       "version_major": 2,
       "version_minor": 0
      },
      "text/plain": [
       "IntProgress(value=0, max=1)"
      ]
     },
     "metadata": {},
     "output_type": "display_data"
    },
    {
     "name": "stdout",
     "output_type": "stream",
     "text": [
      "***VALIDATION***:\n",
      "average correlation: 0.92\n",
      "average r2: 0.84\n",
      "---do_investigations. cluster index : 16---\n"
     ]
    },
    {
     "data": {
      "application/vnd.jupyter.widget-view+json": {
       "model_id": "2d0c3e8887bd4724baba815fb99803b3",
       "version_major": 2,
       "version_minor": 0
      },
      "text/plain": [
       "IntProgress(value=0, max=2)"
      ]
     },
     "metadata": {},
     "output_type": "display_data"
    },
    {
     "name": "stdout",
     "output_type": "stream",
     "text": [
      "Epoch 1/20\n",
      "368/368 [==============================] - 9s 10ms/step - loss: 0.2830 - mean_absolute_error: 0.3433 - val_loss: 0.0696 - val_mean_absolute_error: 0.1788\n",
      "Epoch 2/20\n",
      "368/368 [==============================] - 3s 8ms/step - loss: 0.2067 - mean_absolute_error: 0.2898 - val_loss: 0.0695 - val_mean_absolute_error: 0.1804\n",
      "Epoch 3/20\n",
      "368/368 [==============================] - 3s 8ms/step - loss: 0.2053 - mean_absolute_error: 0.2888 - val_loss: 0.0713 - val_mean_absolute_error: 0.1865\n",
      "Epoch 4/20\n",
      "368/368 [==============================] - 3s 8ms/step - loss: 0.2047 - mean_absolute_error: 0.2879 - val_loss: 0.0704 - val_mean_absolute_error: 0.1835\n",
      "***TRAIN***:\n",
      "correlation related to cluster centre: 0.89\n",
      "r2 score related to cluster centre: 0.79\n",
      "***VALIDATION***:\n",
      "correlation related to cluster centre: 0.91\n",
      "r2 score related to cluster centre: 0.83\n"
     ]
    },
    {
     "data": {
      "application/vnd.jupyter.widget-view+json": {
       "model_id": "42091287cdc441b8bd9949f19bca0e63",
       "version_major": 2,
       "version_minor": 0
      },
      "text/plain": [
       "IntProgress(value=0, max=2)"
      ]
     },
     "metadata": {},
     "output_type": "display_data"
    },
    {
     "name": "stdout",
     "output_type": "stream",
     "text": [
      "***VALIDATION***:\n",
      "average correlation: 0.92\n",
      "average r2: 0.84\n",
      "---do_investigations. cluster index : 17---\n"
     ]
    },
    {
     "data": {
      "application/vnd.jupyter.widget-view+json": {
       "model_id": "db54e54de1fb4665a00d40d8d70c1bbc",
       "version_major": 2,
       "version_minor": 0
      },
      "text/plain": [
       "IntProgress(value=0, max=3)"
      ]
     },
     "metadata": {},
     "output_type": "display_data"
    },
    {
     "name": "stdout",
     "output_type": "stream",
     "text": [
      "Epoch 1/20\n",
      "368/368 [==============================] - 10s 11ms/step - loss: 0.2750 - mean_absolute_error: 0.3532 - val_loss: 0.1191 - val_mean_absolute_error: 0.2496\n",
      "Epoch 2/20\n",
      "368/368 [==============================] - 3s 9ms/step - loss: 0.2153 - mean_absolute_error: 0.3086 - val_loss: 0.1191 - val_mean_absolute_error: 0.2470\n",
      "Epoch 3/20\n",
      "368/368 [==============================] - 3s 9ms/step - loss: 0.2160 - mean_absolute_error: 0.3084 - val_loss: 0.1281 - val_mean_absolute_error: 0.2615\n",
      "***TRAIN***:\n",
      "correlation related to cluster centre: 0.89\n",
      "r2 score related to cluster centre: 0.77\n",
      "***VALIDATION***:\n",
      "correlation related to cluster centre: 0.91\n",
      "r2 score related to cluster centre: 0.80\n"
     ]
    },
    {
     "data": {
      "application/vnd.jupyter.widget-view+json": {
       "model_id": "caab40744bb44cf49c0f57636cee47b2",
       "version_major": 2,
       "version_minor": 0
      },
      "text/plain": [
       "IntProgress(value=0, max=3)"
      ]
     },
     "metadata": {},
     "output_type": "display_data"
    },
    {
     "name": "stdout",
     "output_type": "stream",
     "text": [
      "***VALIDATION***:\n",
      "average correlation: 0.91\n",
      "average r2: 0.80\n",
      "---do_investigations. cluster index : 18---\n"
     ]
    },
    {
     "data": {
      "application/vnd.jupyter.widget-view+json": {
       "model_id": "90ce6c1dc0c04d568aa5f4bd1f21aef7",
       "version_major": 2,
       "version_minor": 0
      },
      "text/plain": [
       "IntProgress(value=0, max=34)"
      ]
     },
     "metadata": {},
     "output_type": "display_data"
    },
    {
     "name": "stdout",
     "output_type": "stream",
     "text": [
      "Epoch 1/20\n",
      "368/368 [==============================] - 9s 11ms/step - loss: 0.2691 - mean_absolute_error: 0.3562 - val_loss: 0.1568 - val_mean_absolute_error: 0.2736\n",
      "Epoch 2/20\n",
      "368/368 [==============================] - 3s 9ms/step - loss: 0.2070 - mean_absolute_error: 0.3094 - val_loss: 0.1537 - val_mean_absolute_error: 0.2718\n",
      "Epoch 3/20\n",
      "368/368 [==============================] - 3s 8ms/step - loss: 0.2075 - mean_absolute_error: 0.3092 - val_loss: 0.1452 - val_mean_absolute_error: 0.2633\n",
      "Epoch 4/20\n",
      "368/368 [==============================] - 3s 8ms/step - loss: 0.2069 - mean_absolute_error: 0.3087 - val_loss: 0.1456 - val_mean_absolute_error: 0.2673\n",
      "Epoch 5/20\n",
      "368/368 [==============================] - 3s 8ms/step - loss: 0.2064 - mean_absolute_error: 0.3078 - val_loss: 0.1508 - val_mean_absolute_error: 0.2727\n",
      "***TRAIN***:\n",
      "correlation related to cluster centre: 0.89\n",
      "r2 score related to cluster centre: 0.79\n",
      "***VALIDATION***:\n",
      "correlation related to cluster centre: 0.91\n",
      "r2 score related to cluster centre: 0.82\n"
     ]
    },
    {
     "data": {
      "application/vnd.jupyter.widget-view+json": {
       "model_id": "b0d3cc983fcd49078de87aaf201bc7c2",
       "version_major": 2,
       "version_minor": 0
      },
      "text/plain": [
       "IntProgress(value=0, max=34)"
      ]
     },
     "metadata": {},
     "output_type": "display_data"
    },
    {
     "name": "stdout",
     "output_type": "stream",
     "text": [
      "***VALIDATION***:\n",
      "average correlation: 0.91\n",
      "average r2: 0.81\n",
      "---do_investigations. cluster index : 19---\n"
     ]
    },
    {
     "data": {
      "application/vnd.jupyter.widget-view+json": {
       "model_id": "29f9920e62e046b2a59b7daea5e4dc63",
       "version_major": 2,
       "version_minor": 0
      },
      "text/plain": [
       "IntProgress(value=0, max=2)"
      ]
     },
     "metadata": {},
     "output_type": "display_data"
    },
    {
     "name": "stdout",
     "output_type": "stream",
     "text": [
      "Epoch 1/20\n",
      "368/368 [==============================] - 9s 10ms/step - loss: 0.2835 - mean_absolute_error: 0.3399 - val_loss: 0.2677 - val_mean_absolute_error: 0.3170\n",
      "Epoch 2/20\n",
      "368/368 [==============================] - 3s 8ms/step - loss: 0.2177 - mean_absolute_error: 0.2920 - val_loss: 0.2652 - val_mean_absolute_error: 0.3139\n",
      "Epoch 3/20\n",
      "368/368 [==============================] - 3s 8ms/step - loss: 0.2161 - mean_absolute_error: 0.2900 - val_loss: 0.2689 - val_mean_absolute_error: 0.3226\n",
      "Epoch 4/20\n",
      "368/368 [==============================] - 3s 8ms/step - loss: 0.2164 - mean_absolute_error: 0.2905 - val_loss: 0.2642 - val_mean_absolute_error: 0.3150\n",
      "Epoch 5/20\n",
      "368/368 [==============================] - 3s 8ms/step - loss: 0.2161 - mean_absolute_error: 0.2902 - val_loss: 0.2633 - val_mean_absolute_error: 0.3152\n",
      "Epoch 6/20\n",
      "368/368 [==============================] - 3s 8ms/step - loss: 0.2170 - mean_absolute_error: 0.2914 - val_loss: 0.2620 - val_mean_absolute_error: 0.3144\n",
      "Epoch 7/20\n",
      "368/368 [==============================] - 3s 8ms/step - loss: 0.2153 - mean_absolute_error: 0.2897 - val_loss: 0.2650 - val_mean_absolute_error: 0.3282\n",
      "Epoch 8/20\n",
      "368/368 [==============================] - 3s 8ms/step - loss: 0.2157 - mean_absolute_error: 0.2900 - val_loss: 0.2602 - val_mean_absolute_error: 0.3207\n",
      "Epoch 9/20\n",
      "368/368 [==============================] - 3s 8ms/step - loss: 0.2167 - mean_absolute_error: 0.2904 - val_loss: 0.2613 - val_mean_absolute_error: 0.3108\n",
      "Epoch 10/20\n",
      "368/368 [==============================] - 3s 8ms/step - loss: 0.2151 - mean_absolute_error: 0.2902 - val_loss: 0.2601 - val_mean_absolute_error: 0.3121\n",
      "Epoch 11/20\n",
      "368/368 [==============================] - 3s 8ms/step - loss: 0.2142 - mean_absolute_error: 0.2893 - val_loss: 0.2616 - val_mean_absolute_error: 0.3232\n",
      "Epoch 12/20\n",
      "368/368 [==============================] - 3s 8ms/step - loss: 0.2140 - mean_absolute_error: 0.2890 - val_loss: 0.2614 - val_mean_absolute_error: 0.3139\n",
      "***TRAIN***:\n",
      "correlation related to cluster centre: 0.89\n",
      "r2 score related to cluster centre: 0.79\n",
      "***VALIDATION***:\n",
      "correlation related to cluster centre: 0.89\n",
      "r2 score related to cluster centre: 0.80\n"
     ]
    },
    {
     "data": {
      "application/vnd.jupyter.widget-view+json": {
       "model_id": "1f544d5ba62344aca399c8a9413e5201",
       "version_major": 2,
       "version_minor": 0
      },
      "text/plain": [
       "IntProgress(value=0, max=2)"
      ]
     },
     "metadata": {},
     "output_type": "display_data"
    },
    {
     "name": "stdout",
     "output_type": "stream",
     "text": [
      "***VALIDATION***:\n",
      "average correlation: 0.89\n",
      "average r2: 0.80\n",
      "---do_investigations. cluster index : 20---\n"
     ]
    },
    {
     "data": {
      "application/vnd.jupyter.widget-view+json": {
       "model_id": "aca517a413db4dcab7ef4103f44b59c0",
       "version_major": 2,
       "version_minor": 0
      },
      "text/plain": [
       "IntProgress(value=0, max=5)"
      ]
     },
     "metadata": {},
     "output_type": "display_data"
    },
    {
     "name": "stdout",
     "output_type": "stream",
     "text": [
      "Epoch 1/20\n",
      "368/368 [==============================] - 9s 10ms/step - loss: 0.2740 - mean_absolute_error: 0.3608 - val_loss: 0.1445 - val_mean_absolute_error: 0.2640\n",
      "Epoch 2/20\n",
      "368/368 [==============================] - 3s 8ms/step - loss: 0.2042 - mean_absolute_error: 0.3065 - val_loss: 0.1429 - val_mean_absolute_error: 0.2654\n",
      "Epoch 3/20\n",
      "368/368 [==============================] - 3s 8ms/step - loss: 0.2036 - mean_absolute_error: 0.3065 - val_loss: 0.1424 - val_mean_absolute_error: 0.2607\n",
      "Epoch 4/20\n",
      "368/368 [==============================] - 3s 8ms/step - loss: 0.2028 - mean_absolute_error: 0.3050 - val_loss: 0.1421 - val_mean_absolute_error: 0.2605\n",
      "Epoch 5/20\n",
      "368/368 [==============================] - 3s 8ms/step - loss: 0.2028 - mean_absolute_error: 0.3054 - val_loss: 0.1421 - val_mean_absolute_error: 0.2626\n",
      "Epoch 6/20\n",
      "368/368 [==============================] - 3s 8ms/step - loss: 0.2025 - mean_absolute_error: 0.3048 - val_loss: 0.1428 - val_mean_absolute_error: 0.2607\n",
      "***TRAIN***:\n",
      "correlation related to cluster centre: 0.89\n",
      "r2 score related to cluster centre: 0.80\n",
      "***VALIDATION***:\n",
      "correlation related to cluster centre: 0.91\n",
      "r2 score related to cluster centre: 0.83\n"
     ]
    },
    {
     "data": {
      "application/vnd.jupyter.widget-view+json": {
       "model_id": "58c6bd43d1ee4e75a3e9472b1c69ae90",
       "version_major": 2,
       "version_minor": 0
      },
      "text/plain": [
       "IntProgress(value=0, max=5)"
      ]
     },
     "metadata": {},
     "output_type": "display_data"
    },
    {
     "name": "stdout",
     "output_type": "stream",
     "text": [
      "***VALIDATION***:\n",
      "average correlation: 0.91\n",
      "average r2: 0.82\n",
      "---do_investigations. cluster index : 21---\n"
     ]
    },
    {
     "data": {
      "application/vnd.jupyter.widget-view+json": {
       "model_id": "8e2fd29dcc4740d2aa039d593f8abd19",
       "version_major": 2,
       "version_minor": 0
      },
      "text/plain": [
       "IntProgress(value=0, max=1)"
      ]
     },
     "metadata": {},
     "output_type": "display_data"
    },
    {
     "name": "stdout",
     "output_type": "stream",
     "text": [
      "Epoch 1/20\n",
      "368/368 [==============================] - 9s 11ms/step - loss: 0.2598 - mean_absolute_error: 0.3350 - val_loss: 0.2391 - val_mean_absolute_error: 0.3253\n",
      "Epoch 2/20\n",
      "368/368 [==============================] - 3s 8ms/step - loss: 0.2006 - mean_absolute_error: 0.2888 - val_loss: 0.2342 - val_mean_absolute_error: 0.3223\n",
      "Epoch 3/20\n",
      "368/368 [==============================] - 3s 8ms/step - loss: 0.2001 - mean_absolute_error: 0.2876 - val_loss: 0.2310 - val_mean_absolute_error: 0.3110\n",
      "Epoch 4/20\n",
      "368/368 [==============================] - 3s 8ms/step - loss: 0.1999 - mean_absolute_error: 0.2873 - val_loss: 0.2326 - val_mean_absolute_error: 0.3206\n",
      "Epoch 5/20\n",
      "368/368 [==============================] - 3s 8ms/step - loss: 0.2001 - mean_absolute_error: 0.2881 - val_loss: 0.2314 - val_mean_absolute_error: 0.3073\n",
      "***TRAIN***:\n",
      "correlation related to cluster centre: 0.90\n",
      "r2 score related to cluster centre: 0.80\n",
      "***VALIDATION***:\n",
      "correlation related to cluster centre: 0.91\n",
      "r2 score related to cluster centre: 0.82\n"
     ]
    },
    {
     "data": {
      "application/vnd.jupyter.widget-view+json": {
       "model_id": "e5e2c35cafd94d3baedc0c00f5bb530c",
       "version_major": 2,
       "version_minor": 0
      },
      "text/plain": [
       "IntProgress(value=0, max=1)"
      ]
     },
     "metadata": {},
     "output_type": "display_data"
    },
    {
     "name": "stdout",
     "output_type": "stream",
     "text": [
      "***VALIDATION***:\n",
      "average correlation: 0.91\n",
      "average r2: 0.82\n",
      "---do_investigations. cluster index : 22---\n"
     ]
    },
    {
     "data": {
      "application/vnd.jupyter.widget-view+json": {
       "model_id": "25c43bb50d0d4bcea9ab525d5a43f20c",
       "version_major": 2,
       "version_minor": 0
      },
      "text/plain": [
       "IntProgress(value=0, max=1)"
      ]
     },
     "metadata": {},
     "output_type": "display_data"
    },
    {
     "name": "stdout",
     "output_type": "stream",
     "text": [
      "Epoch 1/20\n",
      "368/368 [==============================] - 9s 11ms/step - loss: 0.2761 - mean_absolute_error: 0.2966 - val_loss: 0.3191 - val_mean_absolute_error: 0.3282\n",
      "Epoch 2/20\n",
      "368/368 [==============================] - 3s 8ms/step - loss: 0.2169 - mean_absolute_error: 0.2555 - val_loss: 0.3172 - val_mean_absolute_error: 0.3322\n",
      "Epoch 3/20\n",
      "368/368 [==============================] - 3s 8ms/step - loss: 0.2161 - mean_absolute_error: 0.2552 - val_loss: 0.3159 - val_mean_absolute_error: 0.3328\n",
      "Epoch 4/20\n",
      "368/368 [==============================] - 3s 8ms/step - loss: 0.2160 - mean_absolute_error: 0.2544 - val_loss: 0.3196 - val_mean_absolute_error: 0.3278\n",
      "Epoch 5/20\n",
      "368/368 [==============================] - 3s 8ms/step - loss: 0.2155 - mean_absolute_error: 0.2541 - val_loss: 0.3182 - val_mean_absolute_error: 0.3201\n",
      "***TRAIN***:\n",
      "correlation related to cluster centre: 0.89\n",
      "r2 score related to cluster centre: 0.79\n",
      "***VALIDATION***:\n",
      "correlation related to cluster centre: 0.89\n",
      "r2 score related to cluster centre: 0.79\n"
     ]
    },
    {
     "data": {
      "application/vnd.jupyter.widget-view+json": {
       "model_id": "d60032b41011402d96beff0b0fbf0ace",
       "version_major": 2,
       "version_minor": 0
      },
      "text/plain": [
       "IntProgress(value=0, max=1)"
      ]
     },
     "metadata": {},
     "output_type": "display_data"
    },
    {
     "name": "stdout",
     "output_type": "stream",
     "text": [
      "***VALIDATION***:\n",
      "average correlation: 0.89\n",
      "average r2: 0.79\n",
      "---do_investigations. cluster index : 23---\n"
     ]
    },
    {
     "data": {
      "application/vnd.jupyter.widget-view+json": {
       "model_id": "bc73fe65b566473ba78ef7ddbe510aee",
       "version_major": 2,
       "version_minor": 0
      },
      "text/plain": [
       "IntProgress(value=0, max=1)"
      ]
     },
     "metadata": {},
     "output_type": "display_data"
    },
    {
     "name": "stdout",
     "output_type": "stream",
     "text": [
      "Epoch 1/20\n",
      "368/368 [==============================] - 9s 11ms/step - loss: 0.2982 - mean_absolute_error: 0.3607 - val_loss: 0.1507 - val_mean_absolute_error: 0.2355\n",
      "Epoch 2/20\n",
      "368/368 [==============================] - 3s 8ms/step - loss: 0.2322 - mean_absolute_error: 0.3079 - val_loss: 0.1492 - val_mean_absolute_error: 0.2402\n",
      "Epoch 3/20\n",
      "368/368 [==============================] - 3s 8ms/step - loss: 0.2307 - mean_absolute_error: 0.3071 - val_loss: 0.1499 - val_mean_absolute_error: 0.2414\n",
      "Epoch 4/20\n",
      "368/368 [==============================] - 3s 8ms/step - loss: 0.2304 - mean_absolute_error: 0.3061 - val_loss: 0.1484 - val_mean_absolute_error: 0.2367\n",
      "Epoch 5/20\n",
      "368/368 [==============================] - 3s 8ms/step - loss: 0.2300 - mean_absolute_error: 0.3060 - val_loss: 0.1534 - val_mean_absolute_error: 0.2416\n",
      "Epoch 6/20\n",
      "368/368 [==============================] - 3s 8ms/step - loss: 0.2303 - mean_absolute_error: 0.3058 - val_loss: 0.1514 - val_mean_absolute_error: 0.2368\n",
      "***TRAIN***:\n",
      "correlation related to cluster centre: 0.88\n",
      "r2 score related to cluster centre: 0.77\n",
      "***VALIDATION***:\n",
      "correlation related to cluster centre: 0.90\n",
      "r2 score related to cluster centre: 0.80\n"
     ]
    },
    {
     "data": {
      "application/vnd.jupyter.widget-view+json": {
       "model_id": "e90a158f07754fcca1982c851a05f23a",
       "version_major": 2,
       "version_minor": 0
      },
      "text/plain": [
       "IntProgress(value=0, max=1)"
      ]
     },
     "metadata": {},
     "output_type": "display_data"
    },
    {
     "name": "stdout",
     "output_type": "stream",
     "text": [
      "***VALIDATION***:\n",
      "average correlation: 0.90\n",
      "average r2: 0.80\n",
      "---do_investigations. cluster index : 24---\n"
     ]
    },
    {
     "data": {
      "application/vnd.jupyter.widget-view+json": {
       "model_id": "fad13d82890c42849b97261d91019fcc",
       "version_major": 2,
       "version_minor": 0
      },
      "text/plain": [
       "IntProgress(value=0, max=1)"
      ]
     },
     "metadata": {},
     "output_type": "display_data"
    },
    {
     "name": "stdout",
     "output_type": "stream",
     "text": [
      "Epoch 1/20\n",
      "368/368 [==============================] - 9s 11ms/step - loss: 0.3147 - mean_absolute_error: 0.2704 - val_loss: 0.0056 - val_mean_absolute_error: 0.0644\n",
      "Epoch 2/20\n",
      "368/368 [==============================] - 3s 8ms/step - loss: 0.2519 - mean_absolute_error: 0.2281 - val_loss: 0.0056 - val_mean_absolute_error: 0.0641\n",
      "Epoch 3/20\n",
      "368/368 [==============================] - 3s 8ms/step - loss: 0.2529 - mean_absolute_error: 0.2285 - val_loss: 0.0036 - val_mean_absolute_error: 0.0457\n",
      "Epoch 4/20\n",
      "368/368 [==============================] - 3s 8ms/step - loss: 0.2509 - mean_absolute_error: 0.2267 - val_loss: 0.0031 - val_mean_absolute_error: 0.0391\n",
      "Epoch 5/20\n",
      "368/368 [==============================] - 3s 8ms/step - loss: 0.2491 - mean_absolute_error: 0.2255 - val_loss: 0.0038 - val_mean_absolute_error: 0.0461\n",
      "Epoch 6/20\n",
      "368/368 [==============================] - 3s 8ms/step - loss: 0.2483 - mean_absolute_error: 0.2264 - val_loss: 0.0022 - val_mean_absolute_error: 0.0193\n",
      "Epoch 7/20\n",
      "368/368 [==============================] - 3s 8ms/step - loss: 0.2482 - mean_absolute_error: 0.2266 - val_loss: 0.0032 - val_mean_absolute_error: 0.0412\n",
      "Epoch 8/20\n",
      "368/368 [==============================] - 3s 8ms/step - loss: 0.2479 - mean_absolute_error: 0.2256 - val_loss: 0.0028 - val_mean_absolute_error: 0.0341\n",
      "***TRAIN***:\n",
      "correlation related to cluster centre: 0.87\n",
      "r2 score related to cluster centre: 0.75\n",
      "***VALIDATION***:\n",
      "correlation related to cluster centre: 0.91\n",
      "r2 score related to cluster centre: 0.71\n"
     ]
    },
    {
     "data": {
      "application/vnd.jupyter.widget-view+json": {
       "model_id": "001e0d4dc0714bc99d5cc504fafb06c2",
       "version_major": 2,
       "version_minor": 0
      },
      "text/plain": [
       "IntProgress(value=0, max=1)"
      ]
     },
     "metadata": {},
     "output_type": "display_data"
    },
    {
     "name": "stdout",
     "output_type": "stream",
     "text": [
      "***VALIDATION***:\n",
      "average correlation: 0.91\n",
      "average r2: 0.71\n",
      "---do_investigations. cluster index : 25---\n"
     ]
    },
    {
     "data": {
      "application/vnd.jupyter.widget-view+json": {
       "model_id": "75a25e880b974cd4916df1dcbc83618b",
       "version_major": 2,
       "version_minor": 0
      },
      "text/plain": [
       "IntProgress(value=0, max=2)"
      ]
     },
     "metadata": {},
     "output_type": "display_data"
    },
    {
     "name": "stdout",
     "output_type": "stream",
     "text": [
      "Epoch 1/20\n",
      "368/368 [==============================] - 9s 10ms/step - loss: 0.3369 - mean_absolute_error: 0.2912 - val_loss: 0.0060 - val_mean_absolute_error: 0.0420\n",
      "Epoch 2/20\n",
      "368/368 [==============================] - 3s 8ms/step - loss: 0.2599 - mean_absolute_error: 0.2369 - val_loss: 0.0058 - val_mean_absolute_error: 0.0421\n",
      "Epoch 3/20\n",
      "368/368 [==============================] - 3s 8ms/step - loss: 0.2599 - mean_absolute_error: 0.2357 - val_loss: 0.0066 - val_mean_absolute_error: 0.0549\n",
      "Epoch 4/20\n",
      "368/368 [==============================] - 3s 8ms/step - loss: 0.2586 - mean_absolute_error: 0.2346 - val_loss: 0.0060 - val_mean_absolute_error: 0.0434\n",
      "***TRAIN***:\n",
      "correlation related to cluster centre: 0.86\n",
      "r2 score related to cluster centre: 0.75\n",
      "***VALIDATION***:\n",
      "correlation related to cluster centre: 0.91\n",
      "r2 score related to cluster centre: 0.82\n"
     ]
    },
    {
     "data": {
      "application/vnd.jupyter.widget-view+json": {
       "model_id": "d6c51f8e439e4de1964077eaef9f38b5",
       "version_major": 2,
       "version_minor": 0
      },
      "text/plain": [
       "IntProgress(value=0, max=2)"
      ]
     },
     "metadata": {},
     "output_type": "display_data"
    },
    {
     "name": "stdout",
     "output_type": "stream",
     "text": [
      "***VALIDATION***:\n",
      "average correlation: 0.92\n",
      "average r2: 0.82\n",
      "---do_investigations. cluster index : 26---\n"
     ]
    },
    {
     "data": {
      "application/vnd.jupyter.widget-view+json": {
       "model_id": "be7372e4c92c470b8a956c5c59c0e1ea",
       "version_major": 2,
       "version_minor": 0
      },
      "text/plain": [
       "IntProgress(value=0, max=1)"
      ]
     },
     "metadata": {},
     "output_type": "display_data"
    },
    {
     "name": "stdout",
     "output_type": "stream",
     "text": [
      "Epoch 1/20\n",
      "368/368 [==============================] - 9s 10ms/step - loss: 0.2199 - mean_absolute_error: 0.3082 - val_loss: 0.0988 - val_mean_absolute_error: 0.1962\n",
      "Epoch 2/20\n",
      "368/368 [==============================] - 3s 8ms/step - loss: 0.1481 - mean_absolute_error: 0.2514 - val_loss: 0.0977 - val_mean_absolute_error: 0.1945\n",
      "Epoch 3/20\n",
      "368/368 [==============================] - 3s 8ms/step - loss: 0.1472 - mean_absolute_error: 0.2494 - val_loss: 0.0979 - val_mean_absolute_error: 0.2021\n",
      "Epoch 4/20\n",
      "368/368 [==============================] - 3s 8ms/step - loss: 0.1473 - mean_absolute_error: 0.2494 - val_loss: 0.0977 - val_mean_absolute_error: 0.1944\n",
      "Epoch 5/20\n",
      "368/368 [==============================] - 3s 8ms/step - loss: 0.1471 - mean_absolute_error: 0.2491 - val_loss: 0.0965 - val_mean_absolute_error: 0.1975\n",
      "Epoch 6/20\n",
      "368/368 [==============================] - 3s 8ms/step - loss: 0.1469 - mean_absolute_error: 0.2489 - val_loss: 0.0975 - val_mean_absolute_error: 0.2026\n",
      "Epoch 7/20\n",
      "368/368 [==============================] - 3s 8ms/step - loss: 0.1468 - mean_absolute_error: 0.2494 - val_loss: 0.0971 - val_mean_absolute_error: 0.1943\n",
      "***TRAIN***:\n",
      "correlation related to cluster centre: 0.93\n",
      "r2 score related to cluster centre: 0.85\n",
      "***VALIDATION***:\n",
      "correlation related to cluster centre: 0.92\n",
      "r2 score related to cluster centre: 0.85\n"
     ]
    },
    {
     "data": {
      "application/vnd.jupyter.widget-view+json": {
       "model_id": "8a2ec96d371d4881862553eb7804ae3c",
       "version_major": 2,
       "version_minor": 0
      },
      "text/plain": [
       "IntProgress(value=0, max=1)"
      ]
     },
     "metadata": {},
     "output_type": "display_data"
    },
    {
     "name": "stdout",
     "output_type": "stream",
     "text": [
      "***VALIDATION***:\n",
      "average correlation: 0.92\n",
      "average r2: 0.85\n",
      "---do_investigations. cluster index : 27---\n"
     ]
    },
    {
     "data": {
      "application/vnd.jupyter.widget-view+json": {
       "model_id": "9619399163dd4993b54773362791328f",
       "version_major": 2,
       "version_minor": 0
      },
      "text/plain": [
       "IntProgress(value=0, max=1)"
      ]
     },
     "metadata": {},
     "output_type": "display_data"
    },
    {
     "name": "stdout",
     "output_type": "stream",
     "text": [
      "Epoch 1/20\n",
      "368/368 [==============================] - 8s 10ms/step - loss: 0.2045 - mean_absolute_error: 0.3047 - val_loss: 0.1235 - val_mean_absolute_error: 0.2317\n",
      "Epoch 2/20\n",
      "368/368 [==============================] - 3s 8ms/step - loss: 0.1387 - mean_absolute_error: 0.2468 - val_loss: 0.1220 - val_mean_absolute_error: 0.2301\n",
      "Epoch 3/20\n",
      "368/368 [==============================] - 3s 8ms/step - loss: 0.1379 - mean_absolute_error: 0.2457 - val_loss: 0.1239 - val_mean_absolute_error: 0.2371\n",
      "Epoch 4/20\n",
      "368/368 [==============================] - 3s 8ms/step - loss: 0.1373 - mean_absolute_error: 0.2450 - val_loss: 0.1206 - val_mean_absolute_error: 0.2262\n",
      "Epoch 5/20\n",
      "368/368 [==============================] - 3s 8ms/step - loss: 0.1373 - mean_absolute_error: 0.2458 - val_loss: 0.1217 - val_mean_absolute_error: 0.2275\n",
      "Epoch 6/20\n",
      "368/368 [==============================] - 3s 8ms/step - loss: 0.1365 - mean_absolute_error: 0.2443 - val_loss: 0.1210 - val_mean_absolute_error: 0.2259\n",
      "***TRAIN***:\n",
      "correlation related to cluster centre: 0.93\n",
      "r2 score related to cluster centre: 0.86\n",
      "***VALIDATION***:\n",
      "correlation related to cluster centre: 0.93\n",
      "r2 score related to cluster centre: 0.87\n"
     ]
    },
    {
     "data": {
      "application/vnd.jupyter.widget-view+json": {
       "model_id": "88f23aeb522a41a0a782c5ee61f69665",
       "version_major": 2,
       "version_minor": 0
      },
      "text/plain": [
       "IntProgress(value=0, max=1)"
      ]
     },
     "metadata": {},
     "output_type": "display_data"
    },
    {
     "name": "stdout",
     "output_type": "stream",
     "text": [
      "***VALIDATION***:\n",
      "average correlation: 0.93\n",
      "average r2: 0.87\n",
      "---do_investigations. cluster index : 28---\n"
     ]
    },
    {
     "data": {
      "application/vnd.jupyter.widget-view+json": {
       "model_id": "f542068b0f60416e9bf2461bb765688d",
       "version_major": 2,
       "version_minor": 0
      },
      "text/plain": [
       "IntProgress(value=0, max=3)"
      ]
     },
     "metadata": {},
     "output_type": "display_data"
    },
    {
     "name": "stdout",
     "output_type": "stream",
     "text": [
      "Epoch 1/20\n",
      "368/368 [==============================] - 11s 11ms/step - loss: 0.2616 - mean_absolute_error: 0.3390 - val_loss: 0.1199 - val_mean_absolute_error: 0.2295\n",
      "Epoch 2/20\n",
      "368/368 [==============================] - 3s 8ms/step - loss: 0.1924 - mean_absolute_error: 0.2877 - val_loss: 0.1210 - val_mean_absolute_error: 0.2233\n",
      "Epoch 3/20\n",
      "368/368 [==============================] - 3s 9ms/step - loss: 0.1929 - mean_absolute_error: 0.2881 - val_loss: 0.1209 - val_mean_absolute_error: 0.2233\n",
      "***TRAIN***:\n",
      "correlation related to cluster centre: 0.90\n",
      "r2 score related to cluster centre: 0.81\n",
      "***VALIDATION***:\n",
      "correlation related to cluster centre: 0.90\n",
      "r2 score related to cluster centre: 0.81\n"
     ]
    },
    {
     "data": {
      "application/vnd.jupyter.widget-view+json": {
       "model_id": "f4adb8e2711949618d39b6d780f134b7",
       "version_major": 2,
       "version_minor": 0
      },
      "text/plain": [
       "IntProgress(value=0, max=3)"
      ]
     },
     "metadata": {},
     "output_type": "display_data"
    },
    {
     "name": "stdout",
     "output_type": "stream",
     "text": [
      "***VALIDATION***:\n",
      "average correlation: 0.90\n",
      "average r2: 0.81\n",
      "---do_investigations. cluster index : 29---\n"
     ]
    },
    {
     "data": {
      "application/vnd.jupyter.widget-view+json": {
       "model_id": "3b7606c1d2cf49599c3c53c8f0d87086",
       "version_major": 2,
       "version_minor": 0
      },
      "text/plain": [
       "IntProgress(value=0, max=1)"
      ]
     },
     "metadata": {},
     "output_type": "display_data"
    },
    {
     "name": "stdout",
     "output_type": "stream",
     "text": [
      "Epoch 1/20\n",
      "368/368 [==============================] - 10s 11ms/step - loss: 0.2280 - mean_absolute_error: 0.3329 - val_loss: 0.1915 - val_mean_absolute_error: 0.2961\n",
      "Epoch 2/20\n",
      "368/368 [==============================] - 3s 8ms/step - loss: 0.1676 - mean_absolute_error: 0.2813 - val_loss: 0.1823 - val_mean_absolute_error: 0.2960\n",
      "Epoch 3/20\n",
      "368/368 [==============================] - 3s 8ms/step - loss: 0.1665 - mean_absolute_error: 0.2801 - val_loss: 0.1838 - val_mean_absolute_error: 0.2992\n",
      "Epoch 4/20\n",
      "368/368 [==============================] - 3s 8ms/step - loss: 0.1665 - mean_absolute_error: 0.2797 - val_loss: 0.1855 - val_mean_absolute_error: 0.2981\n",
      "***TRAIN***:\n",
      "correlation related to cluster centre: 0.91\n",
      "r2 score related to cluster centre: 0.83\n",
      "***VALIDATION***:\n",
      "correlation related to cluster centre: 0.91\n",
      "r2 score related to cluster centre: 0.82\n"
     ]
    },
    {
     "data": {
      "application/vnd.jupyter.widget-view+json": {
       "model_id": "a93a84df1d354b6c93610acfda804b23",
       "version_major": 2,
       "version_minor": 0
      },
      "text/plain": [
       "IntProgress(value=0, max=1)"
      ]
     },
     "metadata": {},
     "output_type": "display_data"
    },
    {
     "name": "stdout",
     "output_type": "stream",
     "text": [
      "***VALIDATION***:\n",
      "average correlation: 0.91\n",
      "average r2: 0.82\n",
      "weighted_average_correlation: 0.91\n",
      "weighted_average_r2_score: 0.82\n",
      "bad clusters rate: 0.94%\n",
      "------------------------------------------------------\n"
     ]
    }
   ],
   "source": [
    "first_path = r\"C:\\Coding\\final-qualifying-work_2023-2024\\ClusteringCpp\\output\\mst 5.txt\"\n",
    "second_path = r\"C:\\Coding\\final-qualifying-work_2023-2024\\ClusteringCpp\\output\\mst 15.txt\"\n",
    "third_path = r\"C:\\Coding\\final-qualifying-work_2023-2024\\ClusteringCpp\\output\\mst 30.txt\"\n",
    "fourth_path = r\"C:\\Coding\\final-qualifying-work_2023-2024\\ClusteringCpp\\output\\mst 60.txt\"\n",
    "\n",
    "output_file = open(\"computational-experiments-output-mst-1.txt\", \"a\")\n",
    "\n",
    "selected_path = third_path\n",
    "\n",
    "print('------------------------------------------------------')\n",
    "output_file.write('------------------------------------------------------\\n')\n",
    "\n",
    "print(f\"lstm {os.path.split(selected_path)[-1]}\")\n",
    "output_file.write(f\"lstm {os.path.split(selected_path)[-1]}\\n\")\n",
    "show_results(lstm_model, get_clusters(selected_path), CONV_WIDTH)\n",
    "\n",
    "print('------------------------------------------------------')\n",
    "output_file.write('------------------------------------------------------\\n')\n",
    "\n",
    "output_file.close()"
   ]
  },
  {
   "cell_type": "code",
   "execution_count": 21,
   "id": "32a2d593-6d13-47c4-8258-4b2ce1d05d7e",
   "metadata": {},
   "outputs": [
    {
     "name": "stdout",
     "output_type": "stream",
     "text": [
      "------------------------------------------------------\n",
      "lstm mst 60.txt\n",
      "---do_investigations. cluster index : 0---\n"
     ]
    },
    {
     "data": {
      "application/vnd.jupyter.widget-view+json": {
       "model_id": "4bb54901ccee4da98d4539be8ee52a97",
       "version_major": 2,
       "version_minor": 0
      },
      "text/plain": [
       "IntProgress(value=0, max=5152)"
      ]
     },
     "metadata": {},
     "output_type": "display_data"
    },
    {
     "name": "stdout",
     "output_type": "stream",
     "text": [
      "Epoch 1/20\n",
      "WARNING:tensorflow:From C:\\python\\python311\\Lib\\site-packages\\keras\\src\\utils\\tf_utils.py:492: The name tf.ragged.RaggedTensorValue is deprecated. Please use tf.compat.v1.ragged.RaggedTensorValue instead.\n",
      "\n",
      "368/368 [==============================] - 10s 11ms/step - loss: 0.2854 - mean_absolute_error: 0.3410 - val_loss: 0.2238 - val_mean_absolute_error: 0.2905\n",
      "Epoch 2/20\n",
      "368/368 [==============================] - 3s 7ms/step - loss: 0.2060 - mean_absolute_error: 0.2855 - val_loss: 0.2337 - val_mean_absolute_error: 0.2868\n",
      "Epoch 3/20\n",
      "368/368 [==============================] - 3s 7ms/step - loss: 0.2070 - mean_absolute_error: 0.2854 - val_loss: 0.2235 - val_mean_absolute_error: 0.2890\n",
      "Epoch 4/20\n",
      "368/368 [==============================] - 3s 7ms/step - loss: 0.2051 - mean_absolute_error: 0.2836 - val_loss: 0.2221 - val_mean_absolute_error: 0.2878\n",
      "Epoch 5/20\n",
      "368/368 [==============================] - 3s 8ms/step - loss: 0.2061 - mean_absolute_error: 0.2840 - val_loss: 0.2348 - val_mean_absolute_error: 0.2931\n",
      "Epoch 6/20\n",
      "368/368 [==============================] - 3s 8ms/step - loss: 0.2047 - mean_absolute_error: 0.2835 - val_loss: 0.2239 - val_mean_absolute_error: 0.2868\n",
      "***TRAIN***:\n",
      "correlation related to cluster centre: 0.89\n",
      "r2 score related to cluster centre: 0.80\n",
      "***VALIDATION***:\n",
      "correlation related to cluster centre: 0.90\n",
      "r2 score related to cluster centre: 0.81\n"
     ]
    },
    {
     "data": {
      "application/vnd.jupyter.widget-view+json": {
       "model_id": "4744c829228b44b28ac217a5454d6cc4",
       "version_major": 2,
       "version_minor": 0
      },
      "text/plain": [
       "IntProgress(value=0, max=5152)"
      ]
     },
     "metadata": {},
     "output_type": "display_data"
    },
    {
     "name": "stdout",
     "output_type": "stream",
     "text": [
      "***VALIDATION***:\n",
      "average correlation: nan\n",
      "average r2: -18330744818355329491774996480.00\n",
      "---do_investigations. cluster index : 1---\n"
     ]
    },
    {
     "data": {
      "application/vnd.jupyter.widget-view+json": {
       "model_id": "96fcb6c016d84d5a8f6740d4b47fdd87",
       "version_major": 2,
       "version_minor": 0
      },
      "text/plain": [
       "IntProgress(value=0, max=42)"
      ]
     },
     "metadata": {},
     "output_type": "display_data"
    },
    {
     "name": "stdout",
     "output_type": "stream",
     "text": [
      "Epoch 1/20\n",
      "368/368 [==============================] - 12s 10ms/step - loss: 0.2796 - mean_absolute_error: 0.3356 - val_loss: 0.1709 - val_mean_absolute_error: 0.2684\n",
      "Epoch 2/20\n",
      "368/368 [==============================] - 3s 7ms/step - loss: 0.2073 - mean_absolute_error: 0.2867 - val_loss: 0.1716 - val_mean_absolute_error: 0.2759\n",
      "Epoch 3/20\n",
      "368/368 [==============================] - 3s 7ms/step - loss: 0.2063 - mean_absolute_error: 0.2857 - val_loss: 0.1725 - val_mean_absolute_error: 0.2734\n",
      "***TRAIN***:\n",
      "correlation related to cluster centre: 0.89\n",
      "r2 score related to cluster centre: 0.80\n",
      "***VALIDATION***:\n",
      "correlation related to cluster centre: 0.91\n",
      "r2 score related to cluster centre: 0.82\n"
     ]
    },
    {
     "data": {
      "application/vnd.jupyter.widget-view+json": {
       "model_id": "7716e3a8e94e4a80a12bcfeeaf847f68",
       "version_major": 2,
       "version_minor": 0
      },
      "text/plain": [
       "IntProgress(value=0, max=42)"
      ]
     },
     "metadata": {},
     "output_type": "display_data"
    },
    {
     "name": "stdout",
     "output_type": "stream",
     "text": [
      "***VALIDATION***:\n",
      "average correlation: 0.90\n",
      "average r2: 0.80\n",
      "---do_investigations. cluster index : 2---\n"
     ]
    },
    {
     "data": {
      "application/vnd.jupyter.widget-view+json": {
       "model_id": "2b33ed6da7d14044871cac47f7f9fb13",
       "version_major": 2,
       "version_minor": 0
      },
      "text/plain": [
       "IntProgress(value=0, max=58)"
      ]
     },
     "metadata": {},
     "output_type": "display_data"
    },
    {
     "name": "stdout",
     "output_type": "stream",
     "text": [
      "Epoch 1/20\n",
      "368/368 [==============================] - 8s 10ms/step - loss: 0.2734 - mean_absolute_error: 0.3565 - val_loss: 0.1826 - val_mean_absolute_error: 0.2910\n",
      "Epoch 2/20\n",
      "368/368 [==============================] - 3s 7ms/step - loss: 0.2052 - mean_absolute_error: 0.3072 - val_loss: 0.1808 - val_mean_absolute_error: 0.2944\n",
      "Epoch 3/20\n",
      "368/368 [==============================] - 3s 7ms/step - loss: 0.2048 - mean_absolute_error: 0.3063 - val_loss: 0.1802 - val_mean_absolute_error: 0.2894\n",
      "Epoch 4/20\n",
      "368/368 [==============================] - 3s 7ms/step - loss: 0.2048 - mean_absolute_error: 0.3057 - val_loss: 0.1861 - val_mean_absolute_error: 0.2942\n",
      "Epoch 5/20\n",
      "368/368 [==============================] - 3s 7ms/step - loss: 0.2045 - mean_absolute_error: 0.3056 - val_loss: 0.1816 - val_mean_absolute_error: 0.2965\n",
      "***TRAIN***:\n",
      "correlation related to cluster centre: 0.89\n",
      "r2 score related to cluster centre: 0.80\n",
      "***VALIDATION***:\n",
      "correlation related to cluster centre: 0.91\n",
      "r2 score related to cluster centre: 0.82\n"
     ]
    },
    {
     "data": {
      "application/vnd.jupyter.widget-view+json": {
       "model_id": "be5c647674c1459eb68a1d91cc635889",
       "version_major": 2,
       "version_minor": 0
      },
      "text/plain": [
       "IntProgress(value=0, max=58)"
      ]
     },
     "metadata": {},
     "output_type": "display_data"
    },
    {
     "name": "stdout",
     "output_type": "stream",
     "text": [
      "***VALIDATION***:\n",
      "average correlation: 0.90\n",
      "average r2: 0.81\n",
      "---do_investigations. cluster index : 3---\n"
     ]
    },
    {
     "data": {
      "application/vnd.jupyter.widget-view+json": {
       "model_id": "ee0461dd9e794536bd7caed7bede0b81",
       "version_major": 2,
       "version_minor": 0
      },
      "text/plain": [
       "IntProgress(value=0, max=57)"
      ]
     },
     "metadata": {},
     "output_type": "display_data"
    },
    {
     "name": "stdout",
     "output_type": "stream",
     "text": [
      "Epoch 1/20\n",
      "368/368 [==============================] - 8s 10ms/step - loss: 0.2840 - mean_absolute_error: 0.3542 - val_loss: 0.1631 - val_mean_absolute_error: 0.2845\n",
      "Epoch 2/20\n",
      "368/368 [==============================] - 3s 7ms/step - loss: 0.2116 - mean_absolute_error: 0.3054 - val_loss: 0.1613 - val_mean_absolute_error: 0.2787\n",
      "Epoch 3/20\n",
      "368/368 [==============================] - 3s 7ms/step - loss: 0.2086 - mean_absolute_error: 0.3024 - val_loss: 0.1674 - val_mean_absolute_error: 0.2838\n",
      "Epoch 4/20\n",
      "368/368 [==============================] - 3s 7ms/step - loss: 0.2090 - mean_absolute_error: 0.3036 - val_loss: 0.1608 - val_mean_absolute_error: 0.2792\n",
      "Epoch 5/20\n",
      "368/368 [==============================] - 3s 7ms/step - loss: 0.2090 - mean_absolute_error: 0.3025 - val_loss: 0.1598 - val_mean_absolute_error: 0.2745\n",
      "Epoch 6/20\n",
      "368/368 [==============================] - 3s 7ms/step - loss: 0.2088 - mean_absolute_error: 0.3025 - val_loss: 0.1600 - val_mean_absolute_error: 0.2784\n",
      "Epoch 7/20\n",
      "368/368 [==============================] - 3s 7ms/step - loss: 0.2092 - mean_absolute_error: 0.3024 - val_loss: 0.1607 - val_mean_absolute_error: 0.2771\n",
      "***TRAIN***:\n",
      "correlation related to cluster centre: 0.89\n",
      "r2 score related to cluster centre: 0.79\n",
      "***VALIDATION***:\n",
      "correlation related to cluster centre: 0.91\n",
      "r2 score related to cluster centre: 0.82\n"
     ]
    },
    {
     "data": {
      "application/vnd.jupyter.widget-view+json": {
       "model_id": "807eec168c7547069947563a790749c9",
       "version_major": 2,
       "version_minor": 0
      },
      "text/plain": [
       "IntProgress(value=0, max=57)"
      ]
     },
     "metadata": {},
     "output_type": "display_data"
    },
    {
     "name": "stdout",
     "output_type": "stream",
     "text": [
      "***VALIDATION***:\n",
      "average correlation: 0.91\n",
      "average r2: 0.82\n",
      "---do_investigations. cluster index : 4---\n"
     ]
    },
    {
     "data": {
      "application/vnd.jupyter.widget-view+json": {
       "model_id": "5360349f79f74b7f9a20e5bd206c8049",
       "version_major": 2,
       "version_minor": 0
      },
      "text/plain": [
       "IntProgress(value=0, max=37)"
      ]
     },
     "metadata": {},
     "output_type": "display_data"
    },
    {
     "name": "stdout",
     "output_type": "stream",
     "text": [
      "Epoch 1/20\n",
      "368/368 [==============================] - 8s 10ms/step - loss: 0.2823 - mean_absolute_error: 0.3605 - val_loss: 0.1598 - val_mean_absolute_error: 0.2859\n",
      "Epoch 2/20\n",
      "368/368 [==============================] - 3s 7ms/step - loss: 0.2111 - mean_absolute_error: 0.3094 - val_loss: 0.1556 - val_mean_absolute_error: 0.2770\n",
      "Epoch 3/20\n",
      "368/368 [==============================] - 3s 7ms/step - loss: 0.2105 - mean_absolute_error: 0.3095 - val_loss: 0.1584 - val_mean_absolute_error: 0.2819\n",
      "Epoch 4/20\n",
      "368/368 [==============================] - 3s 7ms/step - loss: 0.2097 - mean_absolute_error: 0.3087 - val_loss: 0.1606 - val_mean_absolute_error: 0.2766\n",
      "***TRAIN***:\n",
      "correlation related to cluster centre: 0.89\n",
      "r2 score related to cluster centre: 0.79\n",
      "***VALIDATION***:\n",
      "correlation related to cluster centre: 0.91\n",
      "r2 score related to cluster centre: 0.82\n"
     ]
    },
    {
     "data": {
      "application/vnd.jupyter.widget-view+json": {
       "model_id": "cdb38e1c29a6401788bf857079cb1973",
       "version_major": 2,
       "version_minor": 0
      },
      "text/plain": [
       "IntProgress(value=0, max=37)"
      ]
     },
     "metadata": {},
     "output_type": "display_data"
    },
    {
     "name": "stdout",
     "output_type": "stream",
     "text": [
      "***VALIDATION***:\n",
      "average correlation: 0.91\n",
      "average r2: 0.81\n",
      "---do_investigations. cluster index : 5---\n"
     ]
    },
    {
     "data": {
      "application/vnd.jupyter.widget-view+json": {
       "model_id": "5081cd56c30a48a1a1fc4634802c587b",
       "version_major": 2,
       "version_minor": 0
      },
      "text/plain": [
       "IntProgress(value=0, max=13)"
      ]
     },
     "metadata": {},
     "output_type": "display_data"
    },
    {
     "name": "stdout",
     "output_type": "stream",
     "text": [
      "Epoch 1/20\n",
      "368/368 [==============================] - 8s 10ms/step - loss: 0.2672 - mean_absolute_error: 0.3575 - val_loss: 0.1823 - val_mean_absolute_error: 0.2899\n",
      "Epoch 2/20\n",
      "368/368 [==============================] - 3s 8ms/step - loss: 0.2055 - mean_absolute_error: 0.3120 - val_loss: 0.1778 - val_mean_absolute_error: 0.2976\n",
      "Epoch 3/20\n",
      "368/368 [==============================] - 3s 8ms/step - loss: 0.2046 - mean_absolute_error: 0.3111 - val_loss: 0.1778 - val_mean_absolute_error: 0.2886\n",
      "Epoch 4/20\n",
      "368/368 [==============================] - 3s 8ms/step - loss: 0.2045 - mean_absolute_error: 0.3108 - val_loss: 0.1800 - val_mean_absolute_error: 0.2887\n",
      "Epoch 5/20\n",
      "368/368 [==============================] - 3s 7ms/step - loss: 0.2038 - mean_absolute_error: 0.3099 - val_loss: 0.1815 - val_mean_absolute_error: 0.2865\n",
      "***TRAIN***:\n",
      "correlation related to cluster centre: 0.89\n",
      "r2 score related to cluster centre: 0.79\n",
      "***VALIDATION***:\n",
      "correlation related to cluster centre: 0.91\n",
      "r2 score related to cluster centre: 0.82\n"
     ]
    },
    {
     "data": {
      "application/vnd.jupyter.widget-view+json": {
       "model_id": "81874904dcbe4211ae4e16a7145e3170",
       "version_major": 2,
       "version_minor": 0
      },
      "text/plain": [
       "IntProgress(value=0, max=13)"
      ]
     },
     "metadata": {},
     "output_type": "display_data"
    },
    {
     "name": "stdout",
     "output_type": "stream",
     "text": [
      "***VALIDATION***:\n",
      "average correlation: 0.91\n",
      "average r2: 0.82\n",
      "---do_investigations. cluster index : 6---\n"
     ]
    },
    {
     "data": {
      "application/vnd.jupyter.widget-view+json": {
       "model_id": "d3a7cae4ccd64bcd9779443af991a112",
       "version_major": 2,
       "version_minor": 0
      },
      "text/plain": [
       "IntProgress(value=0, max=3)"
      ]
     },
     "metadata": {},
     "output_type": "display_data"
    },
    {
     "name": "stdout",
     "output_type": "stream",
     "text": [
      "Epoch 1/20\n",
      "368/368 [==============================] - 8s 10ms/step - loss: 0.2598 - mean_absolute_error: 0.3531 - val_loss: 0.1443 - val_mean_absolute_error: 0.2732\n",
      "Epoch 2/20\n",
      "368/368 [==============================] - 3s 7ms/step - loss: 0.2026 - mean_absolute_error: 0.3103 - val_loss: 0.1439 - val_mean_absolute_error: 0.2716\n",
      "Epoch 3/20\n",
      "368/368 [==============================] - 3s 7ms/step - loss: 0.2014 - mean_absolute_error: 0.3093 - val_loss: 0.1432 - val_mean_absolute_error: 0.2649\n",
      "Epoch 4/20\n",
      "368/368 [==============================] - 3s 7ms/step - loss: 0.2006 - mean_absolute_error: 0.3078 - val_loss: 0.1424 - val_mean_absolute_error: 0.2642\n",
      "Epoch 5/20\n",
      "368/368 [==============================] - 3s 7ms/step - loss: 0.2023 - mean_absolute_error: 0.3095 - val_loss: 0.1429 - val_mean_absolute_error: 0.2698\n",
      "Epoch 6/20\n",
      "368/368 [==============================] - 3s 7ms/step - loss: 0.2013 - mean_absolute_error: 0.3088 - val_loss: 0.1437 - val_mean_absolute_error: 0.2723\n",
      "***TRAIN***:\n",
      "correlation related to cluster centre: 0.90\n",
      "r2 score related to cluster centre: 0.80\n",
      "***VALIDATION***:\n",
      "correlation related to cluster centre: 0.91\n",
      "r2 score related to cluster centre: 0.83\n"
     ]
    },
    {
     "data": {
      "application/vnd.jupyter.widget-view+json": {
       "model_id": "b5aa84105af14be5967ff8b742f28a75",
       "version_major": 2,
       "version_minor": 0
      },
      "text/plain": [
       "IntProgress(value=0, max=3)"
      ]
     },
     "metadata": {},
     "output_type": "display_data"
    },
    {
     "name": "stdout",
     "output_type": "stream",
     "text": [
      "***VALIDATION***:\n",
      "average correlation: 0.91\n",
      "average r2: 0.83\n",
      "---do_investigations. cluster index : 7---\n"
     ]
    },
    {
     "data": {
      "application/vnd.jupyter.widget-view+json": {
       "model_id": "06a279fdf7cf45619f0f30165e19b098",
       "version_major": 2,
       "version_minor": 0
      },
      "text/plain": [
       "IntProgress(value=0, max=4)"
      ]
     },
     "metadata": {},
     "output_type": "display_data"
    },
    {
     "name": "stdout",
     "output_type": "stream",
     "text": [
      "Epoch 1/20\n",
      "368/368 [==============================] - 8s 10ms/step - loss: 0.2538 - mean_absolute_error: 0.3467 - val_loss: 0.1300 - val_mean_absolute_error: 0.2463\n",
      "Epoch 2/20\n",
      "368/368 [==============================] - 3s 7ms/step - loss: 0.1953 - mean_absolute_error: 0.2998 - val_loss: 0.1262 - val_mean_absolute_error: 0.2472\n",
      "Epoch 3/20\n",
      "368/368 [==============================] - 3s 7ms/step - loss: 0.1937 - mean_absolute_error: 0.2982 - val_loss: 0.1278 - val_mean_absolute_error: 0.2477\n",
      "Epoch 4/20\n",
      "368/368 [==============================] - 3s 7ms/step - loss: 0.1941 - mean_absolute_error: 0.2985 - val_loss: 0.1270 - val_mean_absolute_error: 0.2476\n",
      "***TRAIN***:\n",
      "correlation related to cluster centre: 0.90\n",
      "r2 score related to cluster centre: 0.81\n",
      "***VALIDATION***:\n",
      "correlation related to cluster centre: 0.92\n",
      "r2 score related to cluster centre: 0.84\n"
     ]
    },
    {
     "data": {
      "application/vnd.jupyter.widget-view+json": {
       "model_id": "a271ff1b168b4b5c97a31052f8d0cdcc",
       "version_major": 2,
       "version_minor": 0
      },
      "text/plain": [
       "IntProgress(value=0, max=4)"
      ]
     },
     "metadata": {},
     "output_type": "display_data"
    },
    {
     "name": "stdout",
     "output_type": "stream",
     "text": [
      "***VALIDATION***:\n",
      "average correlation: 0.92\n",
      "average r2: 0.84\n",
      "---do_investigations. cluster index : 8---\n"
     ]
    },
    {
     "data": {
      "application/vnd.jupyter.widget-view+json": {
       "model_id": "51c7ae1764dd4ce080bf013ff443354b",
       "version_major": 2,
       "version_minor": 0
      },
      "text/plain": [
       "IntProgress(value=0, max=28)"
      ]
     },
     "metadata": {},
     "output_type": "display_data"
    },
    {
     "name": "stdout",
     "output_type": "stream",
     "text": [
      "Epoch 1/20\n",
      "368/368 [==============================] - 8s 10ms/step - loss: 0.2532 - mean_absolute_error: 0.3425 - val_loss: 0.1393 - val_mean_absolute_error: 0.2689\n",
      "Epoch 2/20\n",
      "368/368 [==============================] - 3s 8ms/step - loss: 0.1907 - mean_absolute_error: 0.2978 - val_loss: 0.1387 - val_mean_absolute_error: 0.2668\n",
      "Epoch 3/20\n",
      "368/368 [==============================] - 3s 7ms/step - loss: 0.1891 - mean_absolute_error: 0.2958 - val_loss: 0.1395 - val_mean_absolute_error: 0.2705\n",
      "Epoch 4/20\n",
      "368/368 [==============================] - 3s 8ms/step - loss: 0.1892 - mean_absolute_error: 0.2964 - val_loss: 0.1388 - val_mean_absolute_error: 0.2689\n",
      "***TRAIN***:\n",
      "correlation related to cluster centre: 0.90\n",
      "r2 score related to cluster centre: 0.81\n",
      "***VALIDATION***:\n",
      "correlation related to cluster centre: 0.91\n",
      "r2 score related to cluster centre: 0.83\n"
     ]
    },
    {
     "data": {
      "application/vnd.jupyter.widget-view+json": {
       "model_id": "c99d0321fe0b46aea7b37ad444124af3",
       "version_major": 2,
       "version_minor": 0
      },
      "text/plain": [
       "IntProgress(value=0, max=28)"
      ]
     },
     "metadata": {},
     "output_type": "display_data"
    },
    {
     "name": "stdout",
     "output_type": "stream",
     "text": [
      "***VALIDATION***:\n",
      "average correlation: 0.91\n",
      "average r2: 0.83\n",
      "---do_investigations. cluster index : 9---\n"
     ]
    },
    {
     "data": {
      "application/vnd.jupyter.widget-view+json": {
       "model_id": "99f6e97dd21b4c51bc6f2b21cea63e40",
       "version_major": 2,
       "version_minor": 0
      },
      "text/plain": [
       "IntProgress(value=0, max=36)"
      ]
     },
     "metadata": {},
     "output_type": "display_data"
    },
    {
     "name": "stdout",
     "output_type": "stream",
     "text": [
      "Epoch 1/20\n",
      "368/368 [==============================] - 10s 10ms/step - loss: 0.2547 - mean_absolute_error: 0.3480 - val_loss: 0.1459 - val_mean_absolute_error: 0.2836\n",
      "Epoch 2/20\n",
      "368/368 [==============================] - 3s 7ms/step - loss: 0.1899 - mean_absolute_error: 0.2993 - val_loss: 0.1391 - val_mean_absolute_error: 0.2646\n",
      "Epoch 3/20\n",
      "368/368 [==============================] - 3s 7ms/step - loss: 0.1896 - mean_absolute_error: 0.2987 - val_loss: 0.1386 - val_mean_absolute_error: 0.2643\n",
      "Epoch 4/20\n",
      "368/368 [==============================] - 3s 7ms/step - loss: 0.1895 - mean_absolute_error: 0.2982 - val_loss: 0.1397 - val_mean_absolute_error: 0.2691\n",
      "Epoch 5/20\n",
      "368/368 [==============================] - 3s 7ms/step - loss: 0.1882 - mean_absolute_error: 0.2974 - val_loss: 0.1395 - val_mean_absolute_error: 0.2683\n",
      "***TRAIN***:\n",
      "correlation related to cluster centre: 0.90\n",
      "r2 score related to cluster centre: 0.81\n",
      "***VALIDATION***:\n",
      "correlation related to cluster centre: 0.91\n",
      "r2 score related to cluster centre: 0.83\n"
     ]
    },
    {
     "data": {
      "application/vnd.jupyter.widget-view+json": {
       "model_id": "313b0d943ed243deb278a48b06647a3b",
       "version_major": 2,
       "version_minor": 0
      },
      "text/plain": [
       "IntProgress(value=0, max=36)"
      ]
     },
     "metadata": {},
     "output_type": "display_data"
    },
    {
     "name": "stdout",
     "output_type": "stream",
     "text": [
      "***VALIDATION***:\n",
      "average correlation: 0.91\n",
      "average r2: 0.83\n",
      "---do_investigations. cluster index : 10---\n"
     ]
    },
    {
     "data": {
      "application/vnd.jupyter.widget-view+json": {
       "model_id": "581ed255a046493a9392a2e571e11f2d",
       "version_major": 2,
       "version_minor": 0
      },
      "text/plain": [
       "IntProgress(value=0, max=4)"
      ]
     },
     "metadata": {},
     "output_type": "display_data"
    },
    {
     "name": "stdout",
     "output_type": "stream",
     "text": [
      "Epoch 1/20\n",
      "368/368 [==============================] - 8s 10ms/step - loss: 0.2262 - mean_absolute_error: 0.3265 - val_loss: 0.2130 - val_mean_absolute_error: 0.3299\n",
      "Epoch 2/20\n",
      "368/368 [==============================] - 3s 8ms/step - loss: 0.1635 - mean_absolute_error: 0.2756 - val_loss: 0.2097 - val_mean_absolute_error: 0.3148\n",
      "Epoch 3/20\n",
      "368/368 [==============================] - 3s 8ms/step - loss: 0.1626 - mean_absolute_error: 0.2742 - val_loss: 0.2089 - val_mean_absolute_error: 0.3202\n",
      "Epoch 4/20\n",
      "368/368 [==============================] - 3s 8ms/step - loss: 0.1620 - mean_absolute_error: 0.2740 - val_loss: 0.2095 - val_mean_absolute_error: 0.3226\n",
      "Epoch 5/20\n",
      "368/368 [==============================] - 3s 8ms/step - loss: 0.1619 - mean_absolute_error: 0.2736 - val_loss: 0.2096 - val_mean_absolute_error: 0.3251\n",
      "***TRAIN***:\n",
      "correlation related to cluster centre: 0.92\n",
      "r2 score related to cluster centre: 0.84\n",
      "***VALIDATION***:\n",
      "correlation related to cluster centre: 0.91\n",
      "r2 score related to cluster centre: 0.83\n"
     ]
    },
    {
     "data": {
      "application/vnd.jupyter.widget-view+json": {
       "model_id": "87b4a59cb1814d46859d3f0d52317a30",
       "version_major": 2,
       "version_minor": 0
      },
      "text/plain": [
       "IntProgress(value=0, max=4)"
      ]
     },
     "metadata": {},
     "output_type": "display_data"
    },
    {
     "name": "stdout",
     "output_type": "stream",
     "text": [
      "***VALIDATION***:\n",
      "average correlation: 0.91\n",
      "average r2: 0.83\n",
      "---do_investigations. cluster index : 11---\n"
     ]
    },
    {
     "data": {
      "application/vnd.jupyter.widget-view+json": {
       "model_id": "f61195ea89854bbba1d7348e142c0409",
       "version_major": 2,
       "version_minor": 0
      },
      "text/plain": [
       "IntProgress(value=0, max=40)"
      ]
     },
     "metadata": {},
     "output_type": "display_data"
    },
    {
     "name": "stdout",
     "output_type": "stream",
     "text": [
      "Epoch 1/20\n",
      "368/368 [==============================] - 9s 10ms/step - loss: 0.2544 - mean_absolute_error: 0.3527 - val_loss: 0.1572 - val_mean_absolute_error: 0.2874\n",
      "Epoch 2/20\n",
      "368/368 [==============================] - 3s 8ms/step - loss: 0.1910 - mean_absolute_error: 0.3031 - val_loss: 0.1535 - val_mean_absolute_error: 0.2765\n",
      "Epoch 3/20\n",
      "368/368 [==============================] - 3s 7ms/step - loss: 0.1895 - mean_absolute_error: 0.3014 - val_loss: 0.1502 - val_mean_absolute_error: 0.2727\n",
      "Epoch 4/20\n",
      "368/368 [==============================] - 3s 7ms/step - loss: 0.1883 - mean_absolute_error: 0.3002 - val_loss: 0.1554 - val_mean_absolute_error: 0.2764\n",
      "Epoch 5/20\n",
      "368/368 [==============================] - 3s 7ms/step - loss: 0.1898 - mean_absolute_error: 0.3016 - val_loss: 0.1504 - val_mean_absolute_error: 0.2700\n",
      "***TRAIN***:\n",
      "correlation related to cluster centre: 0.90\n",
      "r2 score related to cluster centre: 0.81\n",
      "***VALIDATION***:\n",
      "correlation related to cluster centre: 0.91\n",
      "r2 score related to cluster centre: 0.83\n"
     ]
    },
    {
     "data": {
      "application/vnd.jupyter.widget-view+json": {
       "model_id": "6ddd6465e30d4781a83148cb80bffe77",
       "version_major": 2,
       "version_minor": 0
      },
      "text/plain": [
       "IntProgress(value=0, max=40)"
      ]
     },
     "metadata": {},
     "output_type": "display_data"
    },
    {
     "name": "stdout",
     "output_type": "stream",
     "text": [
      "***VALIDATION***:\n",
      "average correlation: 0.91\n",
      "average r2: 0.82\n",
      "---do_investigations. cluster index : 12---\n"
     ]
    },
    {
     "data": {
      "application/vnd.jupyter.widget-view+json": {
       "model_id": "19a508fc25b9450fa3be2671641b5677",
       "version_major": 2,
       "version_minor": 0
      },
      "text/plain": [
       "IntProgress(value=0, max=87)"
      ]
     },
     "metadata": {},
     "output_type": "display_data"
    },
    {
     "name": "stdout",
     "output_type": "stream",
     "text": [
      "Epoch 1/20\n",
      "368/368 [==============================] - 8s 10ms/step - loss: 0.2501 - mean_absolute_error: 0.3507 - val_loss: 0.1534 - val_mean_absolute_error: 0.2737\n",
      "Epoch 2/20\n",
      "368/368 [==============================] - 3s 7ms/step - loss: 0.1919 - mean_absolute_error: 0.3027 - val_loss: 0.1528 - val_mean_absolute_error: 0.2791\n",
      "Epoch 3/20\n",
      "368/368 [==============================] - 3s 7ms/step - loss: 0.1912 - mean_absolute_error: 0.3024 - val_loss: 0.1519 - val_mean_absolute_error: 0.2735\n",
      "Epoch 4/20\n",
      "368/368 [==============================] - 3s 8ms/step - loss: 0.1904 - mean_absolute_error: 0.3015 - val_loss: 0.1543 - val_mean_absolute_error: 0.2724\n",
      "Epoch 5/20\n",
      "368/368 [==============================] - 3s 8ms/step - loss: 0.1905 - mean_absolute_error: 0.3016 - val_loss: 0.1587 - val_mean_absolute_error: 0.2769\n",
      "***TRAIN***:\n",
      "correlation related to cluster centre: 0.90\n",
      "r2 score related to cluster centre: 0.80\n",
      "***VALIDATION***:\n",
      "correlation related to cluster centre: 0.91\n",
      "r2 score related to cluster centre: 0.82\n"
     ]
    },
    {
     "data": {
      "application/vnd.jupyter.widget-view+json": {
       "model_id": "6cc28cbc2f6242fab273e0c36ee2f20d",
       "version_major": 2,
       "version_minor": 0
      },
      "text/plain": [
       "IntProgress(value=0, max=87)"
      ]
     },
     "metadata": {},
     "output_type": "display_data"
    },
    {
     "name": "stdout",
     "output_type": "stream",
     "text": [
      "***VALIDATION***:\n",
      "average correlation: 0.91\n",
      "average r2: 0.81\n",
      "---do_investigations. cluster index : 13---\n"
     ]
    },
    {
     "data": {
      "application/vnd.jupyter.widget-view+json": {
       "model_id": "24da874d6bd94c70b8a40d3fc4e97d0b",
       "version_major": 2,
       "version_minor": 0
      },
      "text/plain": [
       "IntProgress(value=0, max=1898)"
      ]
     },
     "metadata": {},
     "output_type": "display_data"
    },
    {
     "name": "stdout",
     "output_type": "stream",
     "text": [
      "Epoch 1/20\n",
      "368/368 [==============================] - 8s 10ms/step - loss: 0.2627 - mean_absolute_error: 0.3596 - val_loss: 0.1918 - val_mean_absolute_error: 0.3017\n",
      "Epoch 2/20\n",
      "368/368 [==============================] - 3s 7ms/step - loss: 0.2025 - mean_absolute_error: 0.3151 - val_loss: 0.1911 - val_mean_absolute_error: 0.3043\n",
      "Epoch 3/20\n",
      "368/368 [==============================] - 3s 7ms/step - loss: 0.2018 - mean_absolute_error: 0.3130 - val_loss: 0.1898 - val_mean_absolute_error: 0.3005\n",
      "Epoch 4/20\n",
      "368/368 [==============================] - 3s 7ms/step - loss: 0.2018 - mean_absolute_error: 0.3133 - val_loss: 0.1930 - val_mean_absolute_error: 0.3114\n",
      "Epoch 5/20\n",
      "368/368 [==============================] - 3s 7ms/step - loss: 0.2015 - mean_absolute_error: 0.3126 - val_loss: 0.1903 - val_mean_absolute_error: 0.2927\n",
      "***TRAIN***:\n",
      "correlation related to cluster centre: 0.90\n",
      "r2 score related to cluster centre: 0.80\n",
      "***VALIDATION***:\n",
      "correlation related to cluster centre: 0.91\n",
      "r2 score related to cluster centre: 0.82\n"
     ]
    },
    {
     "data": {
      "application/vnd.jupyter.widget-view+json": {
       "model_id": "5dd02adae7b1484ba862d6d6eeade207",
       "version_major": 2,
       "version_minor": 0
      },
      "text/plain": [
       "IntProgress(value=0, max=1898)"
      ]
     },
     "metadata": {},
     "output_type": "display_data"
    },
    {
     "name": "stdout",
     "output_type": "stream",
     "text": [
      "***VALIDATION***:\n",
      "average correlation: 0.88\n",
      "average r2: 0.34\n",
      "---do_investigations. cluster index : 14---\n"
     ]
    },
    {
     "data": {
      "application/vnd.jupyter.widget-view+json": {
       "model_id": "3160540842f747418415f03c24c9d356",
       "version_major": 2,
       "version_minor": 0
      },
      "text/plain": [
       "IntProgress(value=0, max=28)"
      ]
     },
     "metadata": {},
     "output_type": "display_data"
    },
    {
     "name": "stdout",
     "output_type": "stream",
     "text": [
      "Epoch 1/20\n",
      "368/368 [==============================] - 11s 10ms/step - loss: 0.2673 - mean_absolute_error: 0.3338 - val_loss: 0.1741 - val_mean_absolute_error: 0.2820\n",
      "Epoch 2/20\n",
      "368/368 [==============================] - 3s 8ms/step - loss: 0.2110 - mean_absolute_error: 0.2911 - val_loss: 0.1679 - val_mean_absolute_error: 0.2748\n",
      "Epoch 3/20\n",
      "368/368 [==============================] - 3s 8ms/step - loss: 0.2104 - mean_absolute_error: 0.2906 - val_loss: 0.1677 - val_mean_absolute_error: 0.2718\n",
      "Epoch 4/20\n",
      "368/368 [==============================] - 3s 8ms/step - loss: 0.2102 - mean_absolute_error: 0.2901 - val_loss: 0.1767 - val_mean_absolute_error: 0.2774\n",
      "Epoch 5/20\n",
      "368/368 [==============================] - 3s 8ms/step - loss: 0.2103 - mean_absolute_error: 0.2901 - val_loss: 0.1812 - val_mean_absolute_error: 0.2831\n",
      "***TRAIN***:\n",
      "correlation related to cluster centre: 0.89\n",
      "r2 score related to cluster centre: 0.78\n",
      "***VALIDATION***:\n",
      "correlation related to cluster centre: 0.90\n",
      "r2 score related to cluster centre: 0.80\n"
     ]
    },
    {
     "data": {
      "application/vnd.jupyter.widget-view+json": {
       "model_id": "09eb3751a78b412ba9f1280be188f699",
       "version_major": 2,
       "version_minor": 0
      },
      "text/plain": [
       "IntProgress(value=0, max=28)"
      ]
     },
     "metadata": {},
     "output_type": "display_data"
    },
    {
     "name": "stdout",
     "output_type": "stream",
     "text": [
      "***VALIDATION***:\n",
      "average correlation: 0.90\n",
      "average r2: 0.80\n",
      "---do_investigations. cluster index : 15---\n"
     ]
    },
    {
     "data": {
      "application/vnd.jupyter.widget-view+json": {
       "model_id": "1d885758011d48cfbaba0cc53fe32142",
       "version_major": 2,
       "version_minor": 0
      },
      "text/plain": [
       "IntProgress(value=0, max=5)"
      ]
     },
     "metadata": {},
     "output_type": "display_data"
    },
    {
     "name": "stdout",
     "output_type": "stream",
     "text": [
      "Epoch 1/20\n",
      "368/368 [==============================] - 9s 10ms/step - loss: 0.2631 - mean_absolute_error: 0.3417 - val_loss: 0.2330 - val_mean_absolute_error: 0.3220\n",
      "Epoch 2/20\n",
      "368/368 [==============================] - 3s 8ms/step - loss: 0.2097 - mean_absolute_error: 0.3005 - val_loss: 0.2339 - val_mean_absolute_error: 0.3286\n",
      "Epoch 3/20\n",
      "368/368 [==============================] - 3s 8ms/step - loss: 0.2089 - mean_absolute_error: 0.2991 - val_loss: 0.2331 - val_mean_absolute_error: 0.3186\n",
      "***TRAIN***:\n",
      "correlation related to cluster centre: 0.89\n",
      "r2 score related to cluster centre: 0.79\n",
      "***VALIDATION***:\n",
      "correlation related to cluster centre: 0.90\n",
      "r2 score related to cluster centre: 0.82\n"
     ]
    },
    {
     "data": {
      "application/vnd.jupyter.widget-view+json": {
       "model_id": "867dced61f714cc19a9491b3202ec8fa",
       "version_major": 2,
       "version_minor": 0
      },
      "text/plain": [
       "IntProgress(value=0, max=5)"
      ]
     },
     "metadata": {},
     "output_type": "display_data"
    },
    {
     "name": "stdout",
     "output_type": "stream",
     "text": [
      "***VALIDATION***:\n",
      "average correlation: 0.90\n",
      "average r2: 0.81\n",
      "---do_investigations. cluster index : 16---\n"
     ]
    },
    {
     "data": {
      "application/vnd.jupyter.widget-view+json": {
       "model_id": "8653be39d8c047308e81c39d20425815",
       "version_major": 2,
       "version_minor": 0
      },
      "text/plain": [
       "IntProgress(value=0, max=5)"
      ]
     },
     "metadata": {},
     "output_type": "display_data"
    },
    {
     "name": "stdout",
     "output_type": "stream",
     "text": [
      "Epoch 1/20\n",
      "368/368 [==============================] - 11s 10ms/step - loss: 0.2548 - mean_absolute_error: 0.3492 - val_loss: 0.1509 - val_mean_absolute_error: 0.2715\n",
      "Epoch 2/20\n",
      "368/368 [==============================] - 3s 8ms/step - loss: 0.1891 - mean_absolute_error: 0.2969 - val_loss: 0.1473 - val_mean_absolute_error: 0.2629\n",
      "Epoch 3/20\n",
      "368/368 [==============================] - 3s 8ms/step - loss: 0.1883 - mean_absolute_error: 0.2960 - val_loss: 0.1503 - val_mean_absolute_error: 0.2640\n",
      "Epoch 4/20\n",
      "368/368 [==============================] - 3s 8ms/step - loss: 0.1884 - mean_absolute_error: 0.2958 - val_loss: 0.1484 - val_mean_absolute_error: 0.2670\n",
      "***TRAIN***:\n",
      "correlation related to cluster centre: 0.90\n",
      "r2 score related to cluster centre: 0.81\n",
      "***VALIDATION***:\n",
      "correlation related to cluster centre: 0.91\n",
      "r2 score related to cluster centre: 0.83\n"
     ]
    },
    {
     "data": {
      "application/vnd.jupyter.widget-view+json": {
       "model_id": "80b66ea451a542a8a3e2685040c59a52",
       "version_major": 2,
       "version_minor": 0
      },
      "text/plain": [
       "IntProgress(value=0, max=5)"
      ]
     },
     "metadata": {},
     "output_type": "display_data"
    },
    {
     "name": "stdout",
     "output_type": "stream",
     "text": [
      "***VALIDATION***:\n",
      "average correlation: 0.91\n",
      "average r2: 0.83\n",
      "---do_investigations. cluster index : 17---\n"
     ]
    },
    {
     "data": {
      "application/vnd.jupyter.widget-view+json": {
       "model_id": "66becf1002d44098ba13dfde53d5ada0",
       "version_major": 2,
       "version_minor": 0
      },
      "text/plain": [
       "IntProgress(value=0, max=3)"
      ]
     },
     "metadata": {},
     "output_type": "display_data"
    },
    {
     "name": "stdout",
     "output_type": "stream",
     "text": [
      "Epoch 1/20\n",
      "368/368 [==============================] - 9s 11ms/step - loss: 0.2482 - mean_absolute_error: 0.3466 - val_loss: 0.1741 - val_mean_absolute_error: 0.2935\n",
      "Epoch 2/20\n",
      "368/368 [==============================] - 3s 8ms/step - loss: 0.1810 - mean_absolute_error: 0.2937 - val_loss: 0.1758 - val_mean_absolute_error: 0.2990\n",
      "Epoch 3/20\n",
      "368/368 [==============================] - 3s 8ms/step - loss: 0.1811 - mean_absolute_error: 0.2937 - val_loss: 0.1743 - val_mean_absolute_error: 0.2896\n",
      "***TRAIN***:\n",
      "correlation related to cluster centre: 0.91\n",
      "r2 score related to cluster centre: 0.82\n",
      "***VALIDATION***:\n",
      "correlation related to cluster centre: 0.91\n",
      "r2 score related to cluster centre: 0.83\n"
     ]
    },
    {
     "data": {
      "application/vnd.jupyter.widget-view+json": {
       "model_id": "6f04d0eab4cc4a0fa0695a4c202c396a",
       "version_major": 2,
       "version_minor": 0
      },
      "text/plain": [
       "IntProgress(value=0, max=3)"
      ]
     },
     "metadata": {},
     "output_type": "display_data"
    },
    {
     "name": "stdout",
     "output_type": "stream",
     "text": [
      "***VALIDATION***:\n",
      "average correlation: 0.91\n",
      "average r2: 0.83\n",
      "---do_investigations. cluster index : 18---\n"
     ]
    },
    {
     "data": {
      "application/vnd.jupyter.widget-view+json": {
       "model_id": "3e67662d93d34ebebfd3cfb3976078b3",
       "version_major": 2,
       "version_minor": 0
      },
      "text/plain": [
       "IntProgress(value=0, max=4)"
      ]
     },
     "metadata": {},
     "output_type": "display_data"
    },
    {
     "name": "stdout",
     "output_type": "stream",
     "text": [
      "Epoch 1/20\n",
      "368/368 [==============================] - 8s 10ms/step - loss: 0.2176 - mean_absolute_error: 0.3251 - val_loss: 0.1612 - val_mean_absolute_error: 0.2815\n",
      "Epoch 2/20\n",
      "368/368 [==============================] - 3s 7ms/step - loss: 0.1562 - mean_absolute_error: 0.2722 - val_loss: 0.1590 - val_mean_absolute_error: 0.2848\n",
      "Epoch 3/20\n",
      "368/368 [==============================] - 3s 7ms/step - loss: 0.1543 - mean_absolute_error: 0.2709 - val_loss: 0.1590 - val_mean_absolute_error: 0.2829\n",
      "Epoch 4/20\n",
      "368/368 [==============================] - 3s 7ms/step - loss: 0.1540 - mean_absolute_error: 0.2697 - val_loss: 0.1594 - val_mean_absolute_error: 0.2742\n",
      "***TRAIN***:\n",
      "correlation related to cluster centre: 0.92\n",
      "r2 score related to cluster centre: 0.85\n",
      "***VALIDATION***:\n",
      "correlation related to cluster centre: 0.91\n",
      "r2 score related to cluster centre: 0.83\n"
     ]
    },
    {
     "data": {
      "application/vnd.jupyter.widget-view+json": {
       "model_id": "15dd419fa1574b519f768465d98745db",
       "version_major": 2,
       "version_minor": 0
      },
      "text/plain": [
       "IntProgress(value=0, max=4)"
      ]
     },
     "metadata": {},
     "output_type": "display_data"
    },
    {
     "name": "stdout",
     "output_type": "stream",
     "text": [
      "***VALIDATION***:\n",
      "average correlation: 0.91\n",
      "average r2: 0.83\n",
      "---do_investigations. cluster index : 19---\n"
     ]
    },
    {
     "data": {
      "application/vnd.jupyter.widget-view+json": {
       "model_id": "3557628ff5c1462888124fd4557a01aa",
       "version_major": 2,
       "version_minor": 0
      },
      "text/plain": [
       "IntProgress(value=0, max=3)"
      ]
     },
     "metadata": {},
     "output_type": "display_data"
    },
    {
     "name": "stdout",
     "output_type": "stream",
     "text": [
      "Epoch 1/20\n",
      "368/368 [==============================] - 9s 12ms/step - loss: 0.2333 - mean_absolute_error: 0.3151 - val_loss: 0.2506 - val_mean_absolute_error: 0.3524\n",
      "Epoch 2/20\n",
      "368/368 [==============================] - 3s 7ms/step - loss: 0.1706 - mean_absolute_error: 0.2673 - val_loss: 0.2495 - val_mean_absolute_error: 0.3534\n",
      "Epoch 3/20\n",
      "368/368 [==============================] - 3s 8ms/step - loss: 0.1700 - mean_absolute_error: 0.2672 - val_loss: 0.2492 - val_mean_absolute_error: 0.3456\n",
      "Epoch 4/20\n",
      "368/368 [==============================] - 3s 7ms/step - loss: 0.1701 - mean_absolute_error: 0.2677 - val_loss: 0.2491 - val_mean_absolute_error: 0.3498\n",
      "Epoch 5/20\n",
      "368/368 [==============================] - 3s 7ms/step - loss: 0.1688 - mean_absolute_error: 0.2663 - val_loss: 0.2526 - val_mean_absolute_error: 0.3623\n",
      "Epoch 6/20\n",
      "368/368 [==============================] - 3s 7ms/step - loss: 0.1686 - mean_absolute_error: 0.2662 - val_loss: 0.2500 - val_mean_absolute_error: 0.3544\n",
      "***TRAIN***:\n",
      "correlation related to cluster centre: 0.91\n",
      "r2 score related to cluster centre: 0.83\n",
      "***VALIDATION***:\n",
      "correlation related to cluster centre: 0.92\n",
      "r2 score related to cluster centre: 0.84\n"
     ]
    },
    {
     "data": {
      "application/vnd.jupyter.widget-view+json": {
       "model_id": "787447d756984576b471cb70bfdb8847",
       "version_major": 2,
       "version_minor": 0
      },
      "text/plain": [
       "IntProgress(value=0, max=3)"
      ]
     },
     "metadata": {},
     "output_type": "display_data"
    },
    {
     "name": "stdout",
     "output_type": "stream",
     "text": [
      "***VALIDATION***:\n",
      "average correlation: 0.91\n",
      "average r2: 0.83\n",
      "---do_investigations. cluster index : 20---\n"
     ]
    },
    {
     "data": {
      "application/vnd.jupyter.widget-view+json": {
       "model_id": "c79e6438d9124c21aa676cbf293251de",
       "version_major": 2,
       "version_minor": 0
      },
      "text/plain": [
       "IntProgress(value=0, max=34)"
      ]
     },
     "metadata": {},
     "output_type": "display_data"
    },
    {
     "name": "stdout",
     "output_type": "stream",
     "text": [
      "Epoch 1/20\n",
      "368/368 [==============================] - 8s 10ms/step - loss: 0.2640 - mean_absolute_error: 0.3427 - val_loss: 0.1681 - val_mean_absolute_error: 0.2799\n",
      "Epoch 2/20\n",
      "368/368 [==============================] - 3s 7ms/step - loss: 0.2111 - mean_absolute_error: 0.2978 - val_loss: 0.1658 - val_mean_absolute_error: 0.2684\n",
      "Epoch 3/20\n",
      "368/368 [==============================] - 3s 7ms/step - loss: 0.2097 - mean_absolute_error: 0.2966 - val_loss: 0.1668 - val_mean_absolute_error: 0.2836\n",
      "Epoch 4/20\n",
      "368/368 [==============================] - 3s 7ms/step - loss: 0.2090 - mean_absolute_error: 0.2958 - val_loss: 0.1653 - val_mean_absolute_error: 0.2750\n",
      "Epoch 5/20\n",
      "368/368 [==============================] - 3s 7ms/step - loss: 0.2095 - mean_absolute_error: 0.2957 - val_loss: 0.1656 - val_mean_absolute_error: 0.2748\n",
      "Epoch 6/20\n",
      "368/368 [==============================] - 3s 7ms/step - loss: 0.2095 - mean_absolute_error: 0.2956 - val_loss: 0.1662 - val_mean_absolute_error: 0.2789\n",
      "***TRAIN***:\n",
      "correlation related to cluster centre: 0.89\n",
      "r2 score related to cluster centre: 0.79\n",
      "***VALIDATION***:\n",
      "correlation related to cluster centre: 0.91\n",
      "r2 score related to cluster centre: 0.82\n"
     ]
    },
    {
     "data": {
      "application/vnd.jupyter.widget-view+json": {
       "model_id": "7920012794a74a2cb3a0ec2ccb3fa399",
       "version_major": 2,
       "version_minor": 0
      },
      "text/plain": [
       "IntProgress(value=0, max=34)"
      ]
     },
     "metadata": {},
     "output_type": "display_data"
    },
    {
     "name": "stdout",
     "output_type": "stream",
     "text": [
      "***VALIDATION***:\n",
      "average correlation: 0.90\n",
      "average r2: 0.81\n",
      "---do_investigations. cluster index : 21---\n"
     ]
    },
    {
     "data": {
      "application/vnd.jupyter.widget-view+json": {
       "model_id": "60d491ef70b64fd2a7535388495d4973",
       "version_major": 2,
       "version_minor": 0
      },
      "text/plain": [
       "IntProgress(value=0, max=1)"
      ]
     },
     "metadata": {},
     "output_type": "display_data"
    },
    {
     "name": "stdout",
     "output_type": "stream",
     "text": [
      "Epoch 1/20\n",
      "368/368 [==============================] - 8s 10ms/step - loss: 0.3079 - mean_absolute_error: 0.3765 - val_loss: 0.2213 - val_mean_absolute_error: 0.3304\n",
      "Epoch 2/20\n",
      "368/368 [==============================] - 3s 7ms/step - loss: 0.2422 - mean_absolute_error: 0.3267 - val_loss: 0.2198 - val_mean_absolute_error: 0.3225\n",
      "Epoch 3/20\n",
      "368/368 [==============================] - 3s 8ms/step - loss: 0.2415 - mean_absolute_error: 0.3265 - val_loss: 0.2208 - val_mean_absolute_error: 0.3271\n",
      "Epoch 4/20\n",
      "368/368 [==============================] - 3s 8ms/step - loss: 0.2401 - mean_absolute_error: 0.3259 - val_loss: 0.2186 - val_mean_absolute_error: 0.3227\n",
      "Epoch 5/20\n",
      "368/368 [==============================] - 3s 8ms/step - loss: 0.2401 - mean_absolute_error: 0.3252 - val_loss: 0.2219 - val_mean_absolute_error: 0.3357\n",
      "Epoch 6/20\n",
      "368/368 [==============================] - 3s 7ms/step - loss: 0.2397 - mean_absolute_error: 0.3259 - val_loss: 0.2220 - val_mean_absolute_error: 0.3263\n",
      "***TRAIN***:\n",
      "correlation related to cluster centre: 0.87\n",
      "r2 score related to cluster centre: 0.76\n",
      "***VALIDATION***:\n",
      "correlation related to cluster centre: 0.89\n",
      "r2 score related to cluster centre: 0.79\n"
     ]
    },
    {
     "data": {
      "application/vnd.jupyter.widget-view+json": {
       "model_id": "69a02bb1d1024ef7899d2aa9a7650428",
       "version_major": 2,
       "version_minor": 0
      },
      "text/plain": [
       "IntProgress(value=0, max=1)"
      ]
     },
     "metadata": {},
     "output_type": "display_data"
    },
    {
     "name": "stdout",
     "output_type": "stream",
     "text": [
      "***VALIDATION***:\n",
      "average correlation: 0.89\n",
      "average r2: 0.79\n",
      "---do_investigations. cluster index : 22---\n"
     ]
    },
    {
     "data": {
      "application/vnd.jupyter.widget-view+json": {
       "model_id": "7d75d80436254d1daae5610b713b5852",
       "version_major": 2,
       "version_minor": 0
      },
      "text/plain": [
       "IntProgress(value=0, max=1)"
      ]
     },
     "metadata": {},
     "output_type": "display_data"
    },
    {
     "name": "stdout",
     "output_type": "stream",
     "text": [
      "Epoch 1/20\n",
      "368/368 [==============================] - 8s 10ms/step - loss: 0.2750 - mean_absolute_error: 0.3611 - val_loss: 0.2788 - val_mean_absolute_error: 0.3612\n",
      "Epoch 2/20\n",
      "368/368 [==============================] - 3s 7ms/step - loss: 0.2179 - mean_absolute_error: 0.3161 - val_loss: 0.2747 - val_mean_absolute_error: 0.3633\n",
      "Epoch 3/20\n",
      "368/368 [==============================] - 3s 7ms/step - loss: 0.2160 - mean_absolute_error: 0.3148 - val_loss: 0.2739 - val_mean_absolute_error: 0.3634\n",
      "Epoch 4/20\n",
      "368/368 [==============================] - 3s 7ms/step - loss: 0.2160 - mean_absolute_error: 0.3148 - val_loss: 0.2744 - val_mean_absolute_error: 0.3615\n",
      "Epoch 5/20\n",
      "368/368 [==============================] - 3s 7ms/step - loss: 0.2153 - mean_absolute_error: 0.3138 - val_loss: 0.2737 - val_mean_absolute_error: 0.3638\n",
      "Epoch 6/20\n",
      "368/368 [==============================] - 3s 8ms/step - loss: 0.2150 - mean_absolute_error: 0.3131 - val_loss: 0.2740 - val_mean_absolute_error: 0.3618\n",
      "Epoch 7/20\n",
      "368/368 [==============================] - 3s 7ms/step - loss: 0.2144 - mean_absolute_error: 0.3126 - val_loss: 0.2767 - val_mean_absolute_error: 0.3705\n",
      "***TRAIN***:\n",
      "correlation related to cluster centre: 0.89\n",
      "r2 score related to cluster centre: 0.79\n",
      "***VALIDATION***:\n",
      "correlation related to cluster centre: 0.90\n",
      "r2 score related to cluster centre: 0.80\n"
     ]
    },
    {
     "data": {
      "application/vnd.jupyter.widget-view+json": {
       "model_id": "cdf97bc5819944c7b9439b15711e447c",
       "version_major": 2,
       "version_minor": 0
      },
      "text/plain": [
       "IntProgress(value=0, max=1)"
      ]
     },
     "metadata": {},
     "output_type": "display_data"
    },
    {
     "name": "stdout",
     "output_type": "stream",
     "text": [
      "***VALIDATION***:\n",
      "average correlation: 0.90\n",
      "average r2: 0.80\n",
      "---do_investigations. cluster index : 23---\n"
     ]
    },
    {
     "data": {
      "application/vnd.jupyter.widget-view+json": {
       "model_id": "a07ddb5bf8864316b39dbe8adf5da979",
       "version_major": 2,
       "version_minor": 0
      },
      "text/plain": [
       "IntProgress(value=0, max=2)"
      ]
     },
     "metadata": {},
     "output_type": "display_data"
    },
    {
     "name": "stdout",
     "output_type": "stream",
     "text": [
      "Epoch 1/20\n",
      "368/368 [==============================] - 8s 10ms/step - loss: 0.2650 - mean_absolute_error: 0.3597 - val_loss: 0.2380 - val_mean_absolute_error: 0.3479\n",
      "Epoch 2/20\n",
      "368/368 [==============================] - 3s 7ms/step - loss: 0.1948 - mean_absolute_error: 0.3045 - val_loss: 0.2402 - val_mean_absolute_error: 0.3460\n",
      "Epoch 3/20\n",
      "368/368 [==============================] - 3s 7ms/step - loss: 0.1937 - mean_absolute_error: 0.3025 - val_loss: 0.2520 - val_mean_absolute_error: 0.3557\n",
      "***TRAIN***:\n",
      "correlation related to cluster centre: 0.90\n",
      "r2 score related to cluster centre: 0.80\n",
      "***VALIDATION***:\n",
      "correlation related to cluster centre: 0.91\n",
      "r2 score related to cluster centre: 0.81\n"
     ]
    },
    {
     "data": {
      "application/vnd.jupyter.widget-view+json": {
       "model_id": "40caffbae9f5450ea7b17124609e54ff",
       "version_major": 2,
       "version_minor": 0
      },
      "text/plain": [
       "IntProgress(value=0, max=2)"
      ]
     },
     "metadata": {},
     "output_type": "display_data"
    },
    {
     "name": "stdout",
     "output_type": "stream",
     "text": [
      "***VALIDATION***:\n",
      "average correlation: 0.91\n",
      "average r2: 0.81\n",
      "---do_investigations. cluster index : 24---\n"
     ]
    },
    {
     "data": {
      "application/vnd.jupyter.widget-view+json": {
       "model_id": "8bc6f4401a3942a4988cc7b5fb550fd8",
       "version_major": 2,
       "version_minor": 0
      },
      "text/plain": [
       "IntProgress(value=0, max=7)"
      ]
     },
     "metadata": {},
     "output_type": "display_data"
    },
    {
     "name": "stdout",
     "output_type": "stream",
     "text": [
      "Epoch 1/20\n",
      "368/368 [==============================] - 9s 10ms/step - loss: 0.2676 - mean_absolute_error: 0.3573 - val_loss: 0.1496 - val_mean_absolute_error: 0.2640\n",
      "Epoch 2/20\n",
      "368/368 [==============================] - 3s 7ms/step - loss: 0.2138 - mean_absolute_error: 0.3138 - val_loss: 0.1541 - val_mean_absolute_error: 0.2672\n",
      "Epoch 3/20\n",
      "368/368 [==============================] - 3s 7ms/step - loss: 0.2133 - mean_absolute_error: 0.3125 - val_loss: 0.1448 - val_mean_absolute_error: 0.2592\n",
      "Epoch 4/20\n",
      "368/368 [==============================] - 3s 7ms/step - loss: 0.2120 - mean_absolute_error: 0.3116 - val_loss: 0.1473 - val_mean_absolute_error: 0.2617\n",
      "Epoch 5/20\n",
      "368/368 [==============================] - 3s 7ms/step - loss: 0.2126 - mean_absolute_error: 0.3112 - val_loss: 0.1467 - val_mean_absolute_error: 0.2631\n",
      "***TRAIN***:\n",
      "correlation related to cluster centre: 0.89\n",
      "r2 score related to cluster centre: 0.79\n",
      "***VALIDATION***:\n",
      "correlation related to cluster centre: 0.91\n",
      "r2 score related to cluster centre: 0.82\n"
     ]
    },
    {
     "data": {
      "application/vnd.jupyter.widget-view+json": {
       "model_id": "5c1d3d2f5da346298e9c0a123f1e4d46",
       "version_major": 2,
       "version_minor": 0
      },
      "text/plain": [
       "IntProgress(value=0, max=7)"
      ]
     },
     "metadata": {},
     "output_type": "display_data"
    },
    {
     "name": "stdout",
     "output_type": "stream",
     "text": [
      "***VALIDATION***:\n",
      "average correlation: 0.91\n",
      "average r2: 0.82\n",
      "---do_investigations. cluster index : 25---\n"
     ]
    },
    {
     "data": {
      "application/vnd.jupyter.widget-view+json": {
       "model_id": "544a42d953df4fa1b77198902f02543a",
       "version_major": 2,
       "version_minor": 0
      },
      "text/plain": [
       "IntProgress(value=0, max=1)"
      ]
     },
     "metadata": {},
     "output_type": "display_data"
    },
    {
     "name": "stdout",
     "output_type": "stream",
     "text": [
      "Epoch 1/20\n",
      "368/368 [==============================] - 8s 10ms/step - loss: 0.2736 - mean_absolute_error: 0.3498 - val_loss: 0.1104 - val_mean_absolute_error: 0.2324\n",
      "Epoch 2/20\n",
      "368/368 [==============================] - 3s 8ms/step - loss: 0.2142 - mean_absolute_error: 0.3035 - val_loss: 0.1112 - val_mean_absolute_error: 0.2360\n",
      "Epoch 3/20\n",
      "368/368 [==============================] - 3s 8ms/step - loss: 0.2122 - mean_absolute_error: 0.3009 - val_loss: 0.1190 - val_mean_absolute_error: 0.2485\n",
      "***TRAIN***:\n",
      "correlation related to cluster centre: 0.89\n",
      "r2 score related to cluster centre: 0.78\n",
      "***VALIDATION***:\n",
      "correlation related to cluster centre: 0.91\n",
      "r2 score related to cluster centre: 0.82\n"
     ]
    },
    {
     "data": {
      "application/vnd.jupyter.widget-view+json": {
       "model_id": "26f16531416a4a30a2384cf614139361",
       "version_major": 2,
       "version_minor": 0
      },
      "text/plain": [
       "IntProgress(value=0, max=1)"
      ]
     },
     "metadata": {},
     "output_type": "display_data"
    },
    {
     "name": "stdout",
     "output_type": "stream",
     "text": [
      "***VALIDATION***:\n",
      "average correlation: 0.91\n",
      "average r2: 0.82\n",
      "---do_investigations. cluster index : 26---\n"
     ]
    },
    {
     "data": {
      "application/vnd.jupyter.widget-view+json": {
       "model_id": "580c9bb1ed164722bf30f345d130e88e",
       "version_major": 2,
       "version_minor": 0
      },
      "text/plain": [
       "IntProgress(value=0, max=2)"
      ]
     },
     "metadata": {},
     "output_type": "display_data"
    },
    {
     "name": "stdout",
     "output_type": "stream",
     "text": [
      "Epoch 1/20\n",
      "368/368 [==============================] - 10s 11ms/step - loss: 0.2745 - mean_absolute_error: 0.3361 - val_loss: 0.0733 - val_mean_absolute_error: 0.1858\n",
      "Epoch 2/20\n",
      "368/368 [==============================] - 3s 8ms/step - loss: 0.2064 - mean_absolute_error: 0.2881 - val_loss: 0.0704 - val_mean_absolute_error: 0.1834\n",
      "Epoch 3/20\n",
      "368/368 [==============================] - 3s 8ms/step - loss: 0.2043 - mean_absolute_error: 0.2872 - val_loss: 0.0693 - val_mean_absolute_error: 0.1818\n",
      "Epoch 4/20\n",
      "368/368 [==============================] - 3s 8ms/step - loss: 0.2052 - mean_absolute_error: 0.2868 - val_loss: 0.0706 - val_mean_absolute_error: 0.1855\n",
      "Epoch 5/20\n",
      "368/368 [==============================] - 3s 8ms/step - loss: 0.2037 - mean_absolute_error: 0.2857 - val_loss: 0.0691 - val_mean_absolute_error: 0.1801\n",
      "Epoch 6/20\n",
      "368/368 [==============================] - 3s 8ms/step - loss: 0.2039 - mean_absolute_error: 0.2859 - val_loss: 0.0714 - val_mean_absolute_error: 0.1872\n",
      "Epoch 7/20\n",
      "368/368 [==============================] - 3s 7ms/step - loss: 0.2040 - mean_absolute_error: 0.2863 - val_loss: 0.0705 - val_mean_absolute_error: 0.1823\n",
      "***TRAIN***:\n",
      "correlation related to cluster centre: 0.89\n",
      "r2 score related to cluster centre: 0.80\n",
      "***VALIDATION***:\n",
      "correlation related to cluster centre: 0.91\n",
      "r2 score related to cluster centre: 0.83\n"
     ]
    },
    {
     "data": {
      "application/vnd.jupyter.widget-view+json": {
       "model_id": "e94779b083ee436cb02c3578e3554fbe",
       "version_major": 2,
       "version_minor": 0
      },
      "text/plain": [
       "IntProgress(value=0, max=2)"
      ]
     },
     "metadata": {},
     "output_type": "display_data"
    },
    {
     "name": "stdout",
     "output_type": "stream",
     "text": [
      "***VALIDATION***:\n",
      "average correlation: 0.92\n",
      "average r2: 0.84\n",
      "---do_investigations. cluster index : 27---\n"
     ]
    },
    {
     "data": {
      "application/vnd.jupyter.widget-view+json": {
       "model_id": "bb8c7a9b200a4e58a4a0e676d1d2b78a",
       "version_major": 2,
       "version_minor": 0
      },
      "text/plain": [
       "IntProgress(value=0, max=6)"
      ]
     },
     "metadata": {},
     "output_type": "display_data"
    },
    {
     "name": "stdout",
     "output_type": "stream",
     "text": [
      "Epoch 1/20\n",
      "368/368 [==============================] - 9s 10ms/step - loss: 0.2347 - mean_absolute_error: 0.3157 - val_loss: 0.0897 - val_mean_absolute_error: 0.2221\n",
      "Epoch 2/20\n",
      "368/368 [==============================] - 3s 7ms/step - loss: 0.1757 - mean_absolute_error: 0.2737 - val_loss: 0.0908 - val_mean_absolute_error: 0.2261\n",
      "Epoch 3/20\n",
      "368/368 [==============================] - 3s 7ms/step - loss: 0.1745 - mean_absolute_error: 0.2723 - val_loss: 0.0923 - val_mean_absolute_error: 0.2283\n",
      "***TRAIN***:\n",
      "correlation related to cluster centre: 0.91\n",
      "r2 score related to cluster centre: 0.82\n",
      "***VALIDATION***:\n",
      "correlation related to cluster centre: 0.91\n",
      "r2 score related to cluster centre: 0.81\n"
     ]
    },
    {
     "data": {
      "application/vnd.jupyter.widget-view+json": {
       "model_id": "53ba1b99658d41cb9586e9ad2e76854a",
       "version_major": 2,
       "version_minor": 0
      },
      "text/plain": [
       "IntProgress(value=0, max=6)"
      ]
     },
     "metadata": {},
     "output_type": "display_data"
    },
    {
     "name": "stdout",
     "output_type": "stream",
     "text": [
      "***VALIDATION***:\n",
      "average correlation: 0.91\n",
      "average r2: 0.81\n",
      "---do_investigations. cluster index : 28---\n"
     ]
    },
    {
     "data": {
      "application/vnd.jupyter.widget-view+json": {
       "model_id": "e15b477f39504534aa7bf0fa65205d3e",
       "version_major": 2,
       "version_minor": 0
      },
      "text/plain": [
       "IntProgress(value=0, max=1)"
      ]
     },
     "metadata": {},
     "output_type": "display_data"
    },
    {
     "name": "stdout",
     "output_type": "stream",
     "text": [
      "Epoch 1/20\n",
      "368/368 [==============================] - 8s 10ms/step - loss: 0.3000 - mean_absolute_error: 0.3671 - val_loss: 0.2343 - val_mean_absolute_error: 0.3196\n",
      "Epoch 2/20\n",
      "368/368 [==============================] - 3s 7ms/step - loss: 0.2280 - mean_absolute_error: 0.3101 - val_loss: 0.2312 - val_mean_absolute_error: 0.3098\n",
      "Epoch 3/20\n",
      "368/368 [==============================] - 3s 7ms/step - loss: 0.2261 - mean_absolute_error: 0.3081 - val_loss: 0.2307 - val_mean_absolute_error: 0.3052\n",
      "Epoch 4/20\n",
      "368/368 [==============================] - 3s 7ms/step - loss: 0.2256 - mean_absolute_error: 0.3076 - val_loss: 0.2291 - val_mean_absolute_error: 0.3102\n",
      "Epoch 5/20\n",
      "368/368 [==============================] - 3s 7ms/step - loss: 0.2252 - mean_absolute_error: 0.3071 - val_loss: 0.2309 - val_mean_absolute_error: 0.3006\n",
      "Epoch 6/20\n",
      "368/368 [==============================] - 3s 7ms/step - loss: 0.2255 - mean_absolute_error: 0.3075 - val_loss: 0.2304 - val_mean_absolute_error: 0.3114\n",
      "***TRAIN***:\n",
      "correlation related to cluster centre: 0.88\n",
      "r2 score related to cluster centre: 0.78\n",
      "***VALIDATION***:\n",
      "correlation related to cluster centre: 0.89\n",
      "r2 score related to cluster centre: 0.79\n"
     ]
    },
    {
     "data": {
      "application/vnd.jupyter.widget-view+json": {
       "model_id": "034fad2219b4451e843a198b90544f9b",
       "version_major": 2,
       "version_minor": 0
      },
      "text/plain": [
       "IntProgress(value=0, max=1)"
      ]
     },
     "metadata": {},
     "output_type": "display_data"
    },
    {
     "name": "stdout",
     "output_type": "stream",
     "text": [
      "***VALIDATION***:\n",
      "average correlation: 0.89\n",
      "average r2: 0.79\n",
      "---do_investigations. cluster index : 29---\n"
     ]
    },
    {
     "data": {
      "application/vnd.jupyter.widget-view+json": {
       "model_id": "34720d7dc4424c7b8877c580cbaaa84e",
       "version_major": 2,
       "version_minor": 0
      },
      "text/plain": [
       "IntProgress(value=0, max=4)"
      ]
     },
     "metadata": {},
     "output_type": "display_data"
    },
    {
     "name": "stdout",
     "output_type": "stream",
     "text": [
      "Epoch 1/20\n",
      "368/368 [==============================] - 8s 10ms/step - loss: 0.2735 - mean_absolute_error: 0.3562 - val_loss: 0.1575 - val_mean_absolute_error: 0.2849\n",
      "Epoch 2/20\n",
      "368/368 [==============================] - 3s 7ms/step - loss: 0.2154 - mean_absolute_error: 0.3095 - val_loss: 0.1654 - val_mean_absolute_error: 0.2942\n",
      "Epoch 3/20\n",
      "368/368 [==============================] - 3s 7ms/step - loss: 0.2155 - mean_absolute_error: 0.3095 - val_loss: 0.1600 - val_mean_absolute_error: 0.2790\n",
      "***TRAIN***:\n",
      "correlation related to cluster centre: 0.89\n",
      "r2 score related to cluster centre: 0.77\n",
      "***VALIDATION***:\n",
      "correlation related to cluster centre: 0.90\n",
      "r2 score related to cluster centre: 0.80\n"
     ]
    },
    {
     "data": {
      "application/vnd.jupyter.widget-view+json": {
       "model_id": "50494d8a98034ea89a9ea95073ac0dba",
       "version_major": 2,
       "version_minor": 0
      },
      "text/plain": [
       "IntProgress(value=0, max=4)"
      ]
     },
     "metadata": {},
     "output_type": "display_data"
    },
    {
     "name": "stdout",
     "output_type": "stream",
     "text": [
      "***VALIDATION***:\n",
      "average correlation: 0.90\n",
      "average r2: 0.80\n",
      "---do_investigations. cluster index : 30---\n"
     ]
    },
    {
     "data": {
      "application/vnd.jupyter.widget-view+json": {
       "model_id": "938e0af9de5247e39cc52900aa927853",
       "version_major": 2,
       "version_minor": 0
      },
      "text/plain": [
       "IntProgress(value=0, max=2)"
      ]
     },
     "metadata": {},
     "output_type": "display_data"
    },
    {
     "name": "stdout",
     "output_type": "stream",
     "text": [
      "Epoch 1/20\n",
      "368/368 [==============================] - 8s 10ms/step - loss: 0.2793 - mean_absolute_error: 0.3510 - val_loss: 0.1109 - val_mean_absolute_error: 0.2331\n",
      "Epoch 2/20\n",
      "368/368 [==============================] - 3s 7ms/step - loss: 0.2123 - mean_absolute_error: 0.3036 - val_loss: 0.1110 - val_mean_absolute_error: 0.2376\n",
      "Epoch 3/20\n",
      "368/368 [==============================] - 3s 7ms/step - loss: 0.2120 - mean_absolute_error: 0.3034 - val_loss: 0.1130 - val_mean_absolute_error: 0.2387\n",
      "***TRAIN***:\n",
      "correlation related to cluster centre: 0.89\n",
      "r2 score related to cluster centre: 0.79\n",
      "***VALIDATION***:\n",
      "correlation related to cluster centre: 0.92\n",
      "r2 score related to cluster centre: 0.83\n"
     ]
    },
    {
     "data": {
      "application/vnd.jupyter.widget-view+json": {
       "model_id": "8e0ed10941ef47bba103e0d633039ebb",
       "version_major": 2,
       "version_minor": 0
      },
      "text/plain": [
       "IntProgress(value=0, max=2)"
      ]
     },
     "metadata": {},
     "output_type": "display_data"
    },
    {
     "name": "stdout",
     "output_type": "stream",
     "text": [
      "***VALIDATION***:\n",
      "average correlation: 0.92\n",
      "average r2: 0.83\n",
      "---do_investigations. cluster index : 31---\n"
     ]
    },
    {
     "data": {
      "application/vnd.jupyter.widget-view+json": {
       "model_id": "ea49a89385d44bbfa820e0693b6e2f1a",
       "version_major": 2,
       "version_minor": 0
      },
      "text/plain": [
       "IntProgress(value=0, max=10)"
      ]
     },
     "metadata": {},
     "output_type": "display_data"
    },
    {
     "name": "stdout",
     "output_type": "stream",
     "text": [
      "Epoch 1/20\n",
      "368/368 [==============================] - 8s 10ms/step - loss: 0.2635 - mean_absolute_error: 0.3475 - val_loss: 0.1189 - val_mean_absolute_error: 0.2437\n",
      "Epoch 2/20\n",
      "368/368 [==============================] - 3s 9ms/step - loss: 0.1989 - mean_absolute_error: 0.2988 - val_loss: 0.1202 - val_mean_absolute_error: 0.2503\n",
      "Epoch 3/20\n",
      "368/368 [==============================] - 3s 9ms/step - loss: 0.1977 - mean_absolute_error: 0.2986 - val_loss: 0.1187 - val_mean_absolute_error: 0.2448\n",
      "Epoch 4/20\n",
      "368/368 [==============================] - 3s 8ms/step - loss: 0.1984 - mean_absolute_error: 0.2984 - val_loss: 0.1184 - val_mean_absolute_error: 0.2457\n",
      "Epoch 5/20\n",
      "368/368 [==============================] - 3s 8ms/step - loss: 0.1971 - mean_absolute_error: 0.2968 - val_loss: 0.1189 - val_mean_absolute_error: 0.2466\n",
      "Epoch 6/20\n",
      "368/368 [==============================] - 3s 8ms/step - loss: 0.1975 - mean_absolute_error: 0.2974 - val_loss: 0.1212 - val_mean_absolute_error: 0.2491\n",
      "***TRAIN***:\n",
      "correlation related to cluster centre: 0.90\n",
      "r2 score related to cluster centre: 0.80\n",
      "***VALIDATION***:\n",
      "correlation related to cluster centre: 0.91\n",
      "r2 score related to cluster centre: 0.83\n"
     ]
    },
    {
     "data": {
      "application/vnd.jupyter.widget-view+json": {
       "model_id": "8a3a70d2a73848ce9efacc973208b0b9",
       "version_major": 2,
       "version_minor": 0
      },
      "text/plain": [
       "IntProgress(value=0, max=10)"
      ]
     },
     "metadata": {},
     "output_type": "display_data"
    },
    {
     "name": "stdout",
     "output_type": "stream",
     "text": [
      "***VALIDATION***:\n",
      "average correlation: 0.91\n",
      "average r2: 0.83\n",
      "---do_investigations. cluster index : 32---\n"
     ]
    },
    {
     "data": {
      "application/vnd.jupyter.widget-view+json": {
       "model_id": "8f044559a1b348af8e09bd0b50284af8",
       "version_major": 2,
       "version_minor": 0
      },
      "text/plain": [
       "IntProgress(value=0, max=2)"
      ]
     },
     "metadata": {},
     "output_type": "display_data"
    },
    {
     "name": "stdout",
     "output_type": "stream",
     "text": [
      "Epoch 1/20\n",
      "368/368 [==============================] - 9s 10ms/step - loss: 0.3033 - mean_absolute_error: 0.3737 - val_loss: 0.1486 - val_mean_absolute_error: 0.2640\n",
      "Epoch 2/20\n",
      "368/368 [==============================] - 3s 8ms/step - loss: 0.2448 - mean_absolute_error: 0.3229 - val_loss: 0.1499 - val_mean_absolute_error: 0.2695\n",
      "Epoch 3/20\n",
      "368/368 [==============================] - 3s 8ms/step - loss: 0.2442 - mean_absolute_error: 0.3228 - val_loss: 0.1484 - val_mean_absolute_error: 0.2590\n",
      "Epoch 4/20\n",
      "368/368 [==============================] - 3s 8ms/step - loss: 0.2430 - mean_absolute_error: 0.3212 - val_loss: 0.1483 - val_mean_absolute_error: 0.2628\n",
      "Epoch 5/20\n",
      "368/368 [==============================] - 3s 9ms/step - loss: 0.2438 - mean_absolute_error: 0.3217 - val_loss: 0.1505 - val_mean_absolute_error: 0.2692\n",
      "Epoch 6/20\n",
      "368/368 [==============================] - 3s 8ms/step - loss: 0.2439 - mean_absolute_error: 0.3217 - val_loss: 0.1482 - val_mean_absolute_error: 0.2614\n",
      "Epoch 7/20\n",
      "368/368 [==============================] - 3s 8ms/step - loss: 0.2435 - mean_absolute_error: 0.3216 - val_loss: 0.1483 - val_mean_absolute_error: 0.2621\n",
      "Epoch 8/20\n",
      "368/368 [==============================] - 3s 8ms/step - loss: 0.2424 - mean_absolute_error: 0.3213 - val_loss: 0.1477 - val_mean_absolute_error: 0.2551\n",
      "Epoch 9/20\n",
      "368/368 [==============================] - 3s 8ms/step - loss: 0.2428 - mean_absolute_error: 0.3207 - val_loss: 0.1511 - val_mean_absolute_error: 0.2723\n",
      "Epoch 10/20\n",
      "368/368 [==============================] - 3s 8ms/step - loss: 0.2421 - mean_absolute_error: 0.3206 - val_loss: 0.1498 - val_mean_absolute_error: 0.2650\n",
      "***TRAIN***:\n",
      "correlation related to cluster centre: 0.87\n",
      "r2 score related to cluster centre: 0.76\n",
      "***VALIDATION***:\n",
      "correlation related to cluster centre: 0.88\n",
      "r2 score related to cluster centre: 0.78\n"
     ]
    },
    {
     "data": {
      "application/vnd.jupyter.widget-view+json": {
       "model_id": "9878f27d1fcf48b382ba105c448d7747",
       "version_major": 2,
       "version_minor": 0
      },
      "text/plain": [
       "IntProgress(value=0, max=2)"
      ]
     },
     "metadata": {},
     "output_type": "display_data"
    },
    {
     "name": "stdout",
     "output_type": "stream",
     "text": [
      "***VALIDATION***:\n",
      "average correlation: 0.87\n",
      "average r2: 0.76\n",
      "---do_investigations. cluster index : 33---\n"
     ]
    },
    {
     "data": {
      "application/vnd.jupyter.widget-view+json": {
       "model_id": "9d8701bd1283437095c983e402204758",
       "version_major": 2,
       "version_minor": 0
      },
      "text/plain": [
       "IntProgress(value=0, max=1)"
      ]
     },
     "metadata": {},
     "output_type": "display_data"
    },
    {
     "name": "stdout",
     "output_type": "stream",
     "text": [
      "Epoch 1/20\n",
      "368/368 [==============================] - 9s 11ms/step - loss: 0.2871 - mean_absolute_error: 0.3635 - val_loss: 0.1369 - val_mean_absolute_error: 0.2469\n",
      "Epoch 2/20\n",
      "368/368 [==============================] - 3s 8ms/step - loss: 0.2277 - mean_absolute_error: 0.3158 - val_loss: 0.1365 - val_mean_absolute_error: 0.2505\n",
      "Epoch 3/20\n",
      "368/368 [==============================] - 3s 8ms/step - loss: 0.2258 - mean_absolute_error: 0.3134 - val_loss: 0.1366 - val_mean_absolute_error: 0.2458\n",
      "Epoch 4/20\n",
      "368/368 [==============================] - 3s 8ms/step - loss: 0.2259 - mean_absolute_error: 0.3129 - val_loss: 0.1356 - val_mean_absolute_error: 0.2468\n",
      "Epoch 5/20\n",
      "368/368 [==============================] - 3s 8ms/step - loss: 0.2252 - mean_absolute_error: 0.3122 - val_loss: 0.1374 - val_mean_absolute_error: 0.2432\n",
      "Epoch 6/20\n",
      "368/368 [==============================] - 3s 8ms/step - loss: 0.2250 - mean_absolute_error: 0.3126 - val_loss: 0.1371 - val_mean_absolute_error: 0.2436\n",
      "***TRAIN***:\n",
      "correlation related to cluster centre: 0.88\n",
      "r2 score related to cluster centre: 0.77\n",
      "***VALIDATION***:\n",
      "correlation related to cluster centre: 0.89\n",
      "r2 score related to cluster centre: 0.79\n"
     ]
    },
    {
     "data": {
      "application/vnd.jupyter.widget-view+json": {
       "model_id": "200681a70ae845e8a6e56aee63d3e345",
       "version_major": 2,
       "version_minor": 0
      },
      "text/plain": [
       "IntProgress(value=0, max=1)"
      ]
     },
     "metadata": {},
     "output_type": "display_data"
    },
    {
     "name": "stdout",
     "output_type": "stream",
     "text": [
      "***VALIDATION***:\n",
      "average correlation: 0.89\n",
      "average r2: 0.79\n",
      "---do_investigations. cluster index : 34---\n"
     ]
    },
    {
     "data": {
      "application/vnd.jupyter.widget-view+json": {
       "model_id": "8409f194eb83495fb4709c90197adea2",
       "version_major": 2,
       "version_minor": 0
      },
      "text/plain": [
       "IntProgress(value=0, max=13)"
      ]
     },
     "metadata": {},
     "output_type": "display_data"
    },
    {
     "name": "stdout",
     "output_type": "stream",
     "text": [
      "Epoch 1/20\n",
      "368/368 [==============================] - 11s 11ms/step - loss: 0.2655 - mean_absolute_error: 0.3590 - val_loss: 0.1608 - val_mean_absolute_error: 0.2885\n",
      "Epoch 2/20\n",
      "368/368 [==============================] - 3s 8ms/step - loss: 0.2095 - mean_absolute_error: 0.3113 - val_loss: 0.1511 - val_mean_absolute_error: 0.2735\n",
      "Epoch 3/20\n",
      "368/368 [==============================] - 3s 8ms/step - loss: 0.2087 - mean_absolute_error: 0.3097 - val_loss: 0.1511 - val_mean_absolute_error: 0.2720\n",
      "Epoch 4/20\n",
      "368/368 [==============================] - 3s 8ms/step - loss: 0.2076 - mean_absolute_error: 0.3092 - val_loss: 0.1706 - val_mean_absolute_error: 0.2921\n",
      "Epoch 5/20\n",
      "368/368 [==============================] - 3s 8ms/step - loss: 0.2090 - mean_absolute_error: 0.3098 - val_loss: 0.1581 - val_mean_absolute_error: 0.2852\n",
      "***TRAIN***:\n",
      "correlation related to cluster centre: 0.89\n",
      "r2 score related to cluster centre: 0.78\n",
      "***VALIDATION***:\n",
      "correlation related to cluster centre: 0.91\n",
      "r2 score related to cluster centre: 0.81\n"
     ]
    },
    {
     "data": {
      "application/vnd.jupyter.widget-view+json": {
       "model_id": "b857173f90a845969f6f850d0fa6eb50",
       "version_major": 2,
       "version_minor": 0
      },
      "text/plain": [
       "IntProgress(value=0, max=13)"
      ]
     },
     "metadata": {},
     "output_type": "display_data"
    },
    {
     "name": "stdout",
     "output_type": "stream",
     "text": [
      "***VALIDATION***:\n",
      "average correlation: 0.91\n",
      "average r2: 0.81\n",
      "---do_investigations. cluster index : 35---\n"
     ]
    },
    {
     "data": {
      "application/vnd.jupyter.widget-view+json": {
       "model_id": "315d043372ee4863a02749c8d0a8105a",
       "version_major": 2,
       "version_minor": 0
      },
      "text/plain": [
       "IntProgress(value=0, max=15)"
      ]
     },
     "metadata": {},
     "output_type": "display_data"
    },
    {
     "name": "stdout",
     "output_type": "stream",
     "text": [
      "Epoch 1/20\n",
      "368/368 [==============================] - 8s 10ms/step - loss: 0.2643 - mean_absolute_error: 0.3533 - val_loss: 0.1363 - val_mean_absolute_error: 0.2499\n",
      "Epoch 2/20\n",
      "368/368 [==============================] - 3s 7ms/step - loss: 0.2056 - mean_absolute_error: 0.3066 - val_loss: 0.1335 - val_mean_absolute_error: 0.2538\n",
      "Epoch 3/20\n",
      "368/368 [==============================] - 3s 7ms/step - loss: 0.2066 - mean_absolute_error: 0.3077 - val_loss: 0.1353 - val_mean_absolute_error: 0.2478\n",
      "Epoch 4/20\n",
      "368/368 [==============================] - 3s 7ms/step - loss: 0.2056 - mean_absolute_error: 0.3070 - val_loss: 0.1339 - val_mean_absolute_error: 0.2511\n",
      "***TRAIN***:\n",
      "correlation related to cluster centre: 0.89\n",
      "r2 score related to cluster centre: 0.80\n",
      "***VALIDATION***:\n",
      "correlation related to cluster centre: 0.91\n",
      "r2 score related to cluster centre: 0.83\n"
     ]
    },
    {
     "data": {
      "application/vnd.jupyter.widget-view+json": {
       "model_id": "b242a1d22dce48bfa9acdda081878e8d",
       "version_major": 2,
       "version_minor": 0
      },
      "text/plain": [
       "IntProgress(value=0, max=15)"
      ]
     },
     "metadata": {},
     "output_type": "display_data"
    },
    {
     "name": "stdout",
     "output_type": "stream",
     "text": [
      "***VALIDATION***:\n",
      "average correlation: 0.91\n",
      "average r2: 0.82\n",
      "---do_investigations. cluster index : 36---\n"
     ]
    },
    {
     "data": {
      "application/vnd.jupyter.widget-view+json": {
       "model_id": "ace0a89147ee4be3a4f3207e75410315",
       "version_major": 2,
       "version_minor": 0
      },
      "text/plain": [
       "IntProgress(value=0, max=1)"
      ]
     },
     "metadata": {},
     "output_type": "display_data"
    },
    {
     "name": "stdout",
     "output_type": "stream",
     "text": [
      "Epoch 1/20\n",
      "368/368 [==============================] - 8s 10ms/step - loss: 0.2469 - mean_absolute_error: 0.2565 - val_loss: 0.3060 - val_mean_absolute_error: 0.2903\n",
      "Epoch 2/20\n",
      "368/368 [==============================] - 3s 8ms/step - loss: 0.1977 - mean_absolute_error: 0.2176 - val_loss: 0.3081 - val_mean_absolute_error: 0.2912\n",
      "Epoch 3/20\n",
      "368/368 [==============================] - 3s 8ms/step - loss: 0.1974 - mean_absolute_error: 0.2172 - val_loss: 0.3013 - val_mean_absolute_error: 0.2940\n",
      "Epoch 4/20\n",
      "368/368 [==============================] - 3s 8ms/step - loss: 0.1951 - mean_absolute_error: 0.2158 - val_loss: 0.3057 - val_mean_absolute_error: 0.2887\n",
      "Epoch 5/20\n",
      "368/368 [==============================] - 3s 8ms/step - loss: 0.1961 - mean_absolute_error: 0.2165 - val_loss: 0.3042 - val_mean_absolute_error: 0.2838\n",
      "***TRAIN***:\n",
      "correlation related to cluster centre: 0.90\n",
      "r2 score related to cluster centre: 0.80\n",
      "***VALIDATION***:\n",
      "correlation related to cluster centre: 0.90\n",
      "r2 score related to cluster centre: 0.80\n"
     ]
    },
    {
     "data": {
      "application/vnd.jupyter.widget-view+json": {
       "model_id": "65478113eaf64886986876cb1619c773",
       "version_major": 2,
       "version_minor": 0
      },
      "text/plain": [
       "IntProgress(value=0, max=1)"
      ]
     },
     "metadata": {},
     "output_type": "display_data"
    },
    {
     "name": "stdout",
     "output_type": "stream",
     "text": [
      "***VALIDATION***:\n",
      "average correlation: 0.90\n",
      "average r2: 0.80\n",
      "---do_investigations. cluster index : 37---\n"
     ]
    },
    {
     "data": {
      "application/vnd.jupyter.widget-view+json": {
       "model_id": "84f496caaa8f499f874050a30bbfcffa",
       "version_major": 2,
       "version_minor": 0
      },
      "text/plain": [
       "IntProgress(value=0, max=1)"
      ]
     },
     "metadata": {},
     "output_type": "display_data"
    },
    {
     "name": "stdout",
     "output_type": "stream",
     "text": [
      "Epoch 1/20\n",
      "368/368 [==============================] - 8s 10ms/step - loss: 0.2808 - mean_absolute_error: 0.3360 - val_loss: 0.2295 - val_mean_absolute_error: 0.3058\n",
      "Epoch 2/20\n",
      "368/368 [==============================] - 3s 7ms/step - loss: 0.2060 - mean_absolute_error: 0.2881 - val_loss: 0.2220 - val_mean_absolute_error: 0.2952\n",
      "Epoch 3/20\n",
      "368/368 [==============================] - 3s 7ms/step - loss: 0.2058 - mean_absolute_error: 0.2886 - val_loss: 0.2193 - val_mean_absolute_error: 0.2874\n",
      "Epoch 4/20\n",
      "368/368 [==============================] - 3s 8ms/step - loss: 0.2048 - mean_absolute_error: 0.2870 - val_loss: 0.2199 - val_mean_absolute_error: 0.2907\n",
      "Epoch 5/20\n",
      "368/368 [==============================] - 3s 7ms/step - loss: 0.2037 - mean_absolute_error: 0.2863 - val_loss: 0.2197 - val_mean_absolute_error: 0.2854\n",
      "***TRAIN***:\n",
      "correlation related to cluster centre: 0.89\n",
      "r2 score related to cluster centre: 0.80\n",
      "***VALIDATION***:\n",
      "correlation related to cluster centre: 0.90\n",
      "r2 score related to cluster centre: 0.81\n"
     ]
    },
    {
     "data": {
      "application/vnd.jupyter.widget-view+json": {
       "model_id": "fbec3f877cc046dda05d41e2964f1169",
       "version_major": 2,
       "version_minor": 0
      },
      "text/plain": [
       "IntProgress(value=0, max=1)"
      ]
     },
     "metadata": {},
     "output_type": "display_data"
    },
    {
     "name": "stdout",
     "output_type": "stream",
     "text": [
      "***VALIDATION***:\n",
      "average correlation: 0.90\n",
      "average r2: 0.81\n",
      "---do_investigations. cluster index : 38---\n"
     ]
    },
    {
     "data": {
      "application/vnd.jupyter.widget-view+json": {
       "model_id": "537362f0dd0c4010b10c93610815f9d0",
       "version_major": 2,
       "version_minor": 0
      },
      "text/plain": [
       "IntProgress(value=0, max=6)"
      ]
     },
     "metadata": {},
     "output_type": "display_data"
    },
    {
     "name": "stdout",
     "output_type": "stream",
     "text": [
      "Epoch 1/20\n",
      "368/368 [==============================] - 8s 10ms/step - loss: 0.2665 - mean_absolute_error: 0.3532 - val_loss: 0.1582 - val_mean_absolute_error: 0.2849\n",
      "Epoch 2/20\n",
      "368/368 [==============================] - 3s 8ms/step - loss: 0.2054 - mean_absolute_error: 0.3094 - val_loss: 0.1597 - val_mean_absolute_error: 0.2882\n",
      "Epoch 3/20\n",
      "368/368 [==============================] - 3s 8ms/step - loss: 0.2047 - mean_absolute_error: 0.3089 - val_loss: 0.1572 - val_mean_absolute_error: 0.2800\n",
      "Epoch 4/20\n",
      "368/368 [==============================] - 3s 8ms/step - loss: 0.2039 - mean_absolute_error: 0.3076 - val_loss: 0.1577 - val_mean_absolute_error: 0.2838\n",
      "Epoch 5/20\n",
      "368/368 [==============================] - 3s 8ms/step - loss: 0.2040 - mean_absolute_error: 0.3077 - val_loss: 0.1572 - val_mean_absolute_error: 0.2800\n",
      "***TRAIN***:\n",
      "correlation related to cluster centre: 0.89\n",
      "r2 score related to cluster centre: 0.80\n",
      "***VALIDATION***:\n",
      "correlation related to cluster centre: 0.91\n",
      "r2 score related to cluster centre: 0.83\n"
     ]
    },
    {
     "data": {
      "application/vnd.jupyter.widget-view+json": {
       "model_id": "4f80f10dfb8e402a82d5d53ff431b476",
       "version_major": 2,
       "version_minor": 0
      },
      "text/plain": [
       "IntProgress(value=0, max=6)"
      ]
     },
     "metadata": {},
     "output_type": "display_data"
    },
    {
     "name": "stdout",
     "output_type": "stream",
     "text": [
      "***VALIDATION***:\n",
      "average correlation: 0.91\n",
      "average r2: 0.83\n",
      "---do_investigations. cluster index : 39---\n"
     ]
    },
    {
     "data": {
      "application/vnd.jupyter.widget-view+json": {
       "model_id": "d827c2697509434c98c68bdab6b0be8d",
       "version_major": 2,
       "version_minor": 0
      },
      "text/plain": [
       "IntProgress(value=0, max=5)"
      ]
     },
     "metadata": {},
     "output_type": "display_data"
    },
    {
     "name": "stdout",
     "output_type": "stream",
     "text": [
      "Epoch 1/20\n",
      "368/368 [==============================] - 8s 10ms/step - loss: 0.2727 - mean_absolute_error: 0.3614 - val_loss: 0.1474 - val_mean_absolute_error: 0.2823\n",
      "Epoch 2/20\n",
      "368/368 [==============================] - 3s 7ms/step - loss: 0.2035 - mean_absolute_error: 0.3066 - val_loss: 0.1441 - val_mean_absolute_error: 0.2727\n",
      "Epoch 3/20\n",
      "368/368 [==============================] - 3s 8ms/step - loss: 0.2027 - mean_absolute_error: 0.3061 - val_loss: 0.1462 - val_mean_absolute_error: 0.2793\n",
      "Epoch 4/20\n",
      "368/368 [==============================] - 3s 8ms/step - loss: 0.2032 - mean_absolute_error: 0.3059 - val_loss: 0.1436 - val_mean_absolute_error: 0.2694\n",
      "Epoch 5/20\n",
      "368/368 [==============================] - 3s 8ms/step - loss: 0.2038 - mean_absolute_error: 0.3061 - val_loss: 0.1426 - val_mean_absolute_error: 0.2641\n",
      "Epoch 6/20\n",
      "368/368 [==============================] - 3s 8ms/step - loss: 0.2023 - mean_absolute_error: 0.3050 - val_loss: 0.1466 - val_mean_absolute_error: 0.2761\n",
      "Epoch 7/20\n",
      "368/368 [==============================] - 3s 8ms/step - loss: 0.2027 - mean_absolute_error: 0.3052 - val_loss: 0.1455 - val_mean_absolute_error: 0.2772\n",
      "***TRAIN***:\n",
      "correlation related to cluster centre: 0.89\n",
      "r2 score related to cluster centre: 0.80\n",
      "***VALIDATION***:\n",
      "correlation related to cluster centre: 0.91\n",
      "r2 score related to cluster centre: 0.82\n"
     ]
    },
    {
     "data": {
      "application/vnd.jupyter.widget-view+json": {
       "model_id": "fc317abe527647948857d8fa08251c82",
       "version_major": 2,
       "version_minor": 0
      },
      "text/plain": [
       "IntProgress(value=0, max=5)"
      ]
     },
     "metadata": {},
     "output_type": "display_data"
    },
    {
     "name": "stdout",
     "output_type": "stream",
     "text": [
      "***VALIDATION***:\n",
      "average correlation: 0.91\n",
      "average r2: 0.82\n",
      "---do_investigations. cluster index : 40---\n"
     ]
    },
    {
     "data": {
      "application/vnd.jupyter.widget-view+json": {
       "model_id": "169480fe8504469488ccfaab22c812b1",
       "version_major": 2,
       "version_minor": 0
      },
      "text/plain": [
       "IntProgress(value=0, max=1)"
      ]
     },
     "metadata": {},
     "output_type": "display_data"
    },
    {
     "name": "stdout",
     "output_type": "stream",
     "text": [
      "Epoch 1/20\n",
      "368/368 [==============================] - 9s 10ms/step - loss: 0.2740 - mean_absolute_error: 0.3449 - val_loss: 0.2307 - val_mean_absolute_error: 0.3109\n",
      "Epoch 2/20\n",
      "368/368 [==============================] - 3s 8ms/step - loss: 0.2014 - mean_absolute_error: 0.2885 - val_loss: 0.2298 - val_mean_absolute_error: 0.3104\n",
      "Epoch 3/20\n",
      "368/368 [==============================] - 3s 8ms/step - loss: 0.2012 - mean_absolute_error: 0.2879 - val_loss: 0.2342 - val_mean_absolute_error: 0.3117\n",
      "Epoch 4/20\n",
      "368/368 [==============================] - 3s 8ms/step - loss: 0.2005 - mean_absolute_error: 0.2874 - val_loss: 0.2317 - val_mean_absolute_error: 0.3074\n",
      "***TRAIN***:\n",
      "correlation related to cluster centre: 0.90\n",
      "r2 score related to cluster centre: 0.80\n",
      "***VALIDATION***:\n",
      "correlation related to cluster centre: 0.91\n",
      "r2 score related to cluster centre: 0.82\n"
     ]
    },
    {
     "data": {
      "application/vnd.jupyter.widget-view+json": {
       "model_id": "408a3e47c5ba46c0be1413ae5cb90c87",
       "version_major": 2,
       "version_minor": 0
      },
      "text/plain": [
       "IntProgress(value=0, max=1)"
      ]
     },
     "metadata": {},
     "output_type": "display_data"
    },
    {
     "name": "stdout",
     "output_type": "stream",
     "text": [
      "***VALIDATION***:\n",
      "average correlation: 0.91\n",
      "average r2: 0.82\n",
      "---do_investigations. cluster index : 41---\n"
     ]
    },
    {
     "data": {
      "application/vnd.jupyter.widget-view+json": {
       "model_id": "afef543b51de47e7b885e7769e293e04",
       "version_major": 2,
       "version_minor": 0
      },
      "text/plain": [
       "IntProgress(value=0, max=1)"
      ]
     },
     "metadata": {},
     "output_type": "display_data"
    },
    {
     "name": "stdout",
     "output_type": "stream",
     "text": [
      "Epoch 1/20\n",
      "368/368 [==============================] - 8s 10ms/step - loss: 0.2891 - mean_absolute_error: 0.3033 - val_loss: 0.3258 - val_mean_absolute_error: 0.3560\n",
      "Epoch 2/20\n",
      "368/368 [==============================] - 3s 8ms/step - loss: 0.2200 - mean_absolute_error: 0.2573 - val_loss: 0.3199 - val_mean_absolute_error: 0.3418\n",
      "Epoch 3/20\n",
      "368/368 [==============================] - 3s 8ms/step - loss: 0.2163 - mean_absolute_error: 0.2552 - val_loss: 0.3183 - val_mean_absolute_error: 0.3419\n",
      "Epoch 4/20\n",
      "368/368 [==============================] - 3s 8ms/step - loss: 0.2169 - mean_absolute_error: 0.2550 - val_loss: 0.3203 - val_mean_absolute_error: 0.3419\n",
      "Epoch 5/20\n",
      "368/368 [==============================] - 3s 8ms/step - loss: 0.2158 - mean_absolute_error: 0.2539 - val_loss: 0.3177 - val_mean_absolute_error: 0.3425\n",
      "Epoch 6/20\n",
      "368/368 [==============================] - 3s 7ms/step - loss: 0.2143 - mean_absolute_error: 0.2538 - val_loss: 0.3168 - val_mean_absolute_error: 0.3427\n",
      "Epoch 7/20\n",
      "368/368 [==============================] - 3s 7ms/step - loss: 0.2159 - mean_absolute_error: 0.2549 - val_loss: 0.3166 - val_mean_absolute_error: 0.3393\n",
      "Epoch 8/20\n",
      "368/368 [==============================] - 3s 8ms/step - loss: 0.2140 - mean_absolute_error: 0.2538 - val_loss: 0.3186 - val_mean_absolute_error: 0.3381\n",
      "Epoch 9/20\n",
      "368/368 [==============================] - 3s 7ms/step - loss: 0.2143 - mean_absolute_error: 0.2536 - val_loss: 0.3200 - val_mean_absolute_error: 0.3502\n",
      "***TRAIN***:\n",
      "correlation related to cluster centre: 0.89\n",
      "r2 score related to cluster centre: 0.79\n",
      "***VALIDATION***:\n",
      "correlation related to cluster centre: 0.89\n",
      "r2 score related to cluster centre: 0.78\n"
     ]
    },
    {
     "data": {
      "application/vnd.jupyter.widget-view+json": {
       "model_id": "2c691797d7f24feda0f3f6843a336ff8",
       "version_major": 2,
       "version_minor": 0
      },
      "text/plain": [
       "IntProgress(value=0, max=1)"
      ]
     },
     "metadata": {},
     "output_type": "display_data"
    },
    {
     "name": "stdout",
     "output_type": "stream",
     "text": [
      "***VALIDATION***:\n",
      "average correlation: 0.89\n",
      "average r2: 0.78\n",
      "---do_investigations. cluster index : 42---\n"
     ]
    },
    {
     "data": {
      "application/vnd.jupyter.widget-view+json": {
       "model_id": "462b2b09c02640bfa438bccbc021b491",
       "version_major": 2,
       "version_minor": 0
      },
      "text/plain": [
       "IntProgress(value=0, max=1)"
      ]
     },
     "metadata": {},
     "output_type": "display_data"
    },
    {
     "name": "stdout",
     "output_type": "stream",
     "text": [
      "Epoch 1/20\n",
      "368/368 [==============================] - 8s 10ms/step - loss: 0.2839 - mean_absolute_error: 0.3396 - val_loss: 0.3202 - val_mean_absolute_error: 0.3282\n",
      "Epoch 2/20\n",
      "368/368 [==============================] - 3s 7ms/step - loss: 0.2329 - mean_absolute_error: 0.2955 - val_loss: 0.3123 - val_mean_absolute_error: 0.3305\n",
      "Epoch 3/20\n",
      "368/368 [==============================] - 3s 7ms/step - loss: 0.2328 - mean_absolute_error: 0.2952 - val_loss: 0.3155 - val_mean_absolute_error: 0.3252\n",
      "Epoch 4/20\n",
      "368/368 [==============================] - 3s 8ms/step - loss: 0.2315 - mean_absolute_error: 0.2948 - val_loss: 0.3138 - val_mean_absolute_error: 0.3255\n",
      "***TRAIN***:\n",
      "correlation related to cluster centre: 0.88\n",
      "r2 score related to cluster centre: 0.77\n",
      "***VALIDATION***:\n",
      "correlation related to cluster centre: 0.88\n",
      "r2 score related to cluster centre: 0.78\n"
     ]
    },
    {
     "data": {
      "application/vnd.jupyter.widget-view+json": {
       "model_id": "f2544ce5b84c4140aaa1b858bd7798bc",
       "version_major": 2,
       "version_minor": 0
      },
      "text/plain": [
       "IntProgress(value=0, max=1)"
      ]
     },
     "metadata": {},
     "output_type": "display_data"
    },
    {
     "name": "stdout",
     "output_type": "stream",
     "text": [
      "***VALIDATION***:\n",
      "average correlation: 0.88\n",
      "average r2: 0.78\n",
      "---do_investigations. cluster index : 43---\n"
     ]
    },
    {
     "data": {
      "application/vnd.jupyter.widget-view+json": {
       "model_id": "5b937fc79db846f19cc6be2b1b84ea7d",
       "version_major": 2,
       "version_minor": 0
      },
      "text/plain": [
       "IntProgress(value=0, max=1)"
      ]
     },
     "metadata": {},
     "output_type": "display_data"
    },
    {
     "name": "stdout",
     "output_type": "stream",
     "text": [
      "Epoch 1/20\n",
      "368/368 [==============================] - 8s 10ms/step - loss: 0.3025 - mean_absolute_error: 0.3675 - val_loss: 0.2116 - val_mean_absolute_error: 0.2999\n",
      "Epoch 2/20\n",
      "368/368 [==============================] - 3s 7ms/step - loss: 0.2381 - mean_absolute_error: 0.3189 - val_loss: 0.2091 - val_mean_absolute_error: 0.3027\n",
      "Epoch 3/20\n",
      "368/368 [==============================] - 3s 7ms/step - loss: 0.2369 - mean_absolute_error: 0.3176 - val_loss: 0.2090 - val_mean_absolute_error: 0.3059\n",
      "Epoch 4/20\n",
      "368/368 [==============================] - 3s 7ms/step - loss: 0.2358 - mean_absolute_error: 0.3171 - val_loss: 0.2083 - val_mean_absolute_error: 0.3027\n",
      "Epoch 5/20\n",
      "368/368 [==============================] - 3s 7ms/step - loss: 0.2357 - mean_absolute_error: 0.3172 - val_loss: 0.2076 - val_mean_absolute_error: 0.3004\n",
      "Epoch 6/20\n",
      "368/368 [==============================] - 3s 7ms/step - loss: 0.2354 - mean_absolute_error: 0.3167 - val_loss: 0.2080 - val_mean_absolute_error: 0.3021\n",
      "Epoch 7/20\n",
      "368/368 [==============================] - 3s 7ms/step - loss: 0.2352 - mean_absolute_error: 0.3173 - val_loss: 0.2072 - val_mean_absolute_error: 0.2950\n",
      "Epoch 8/20\n",
      "368/368 [==============================] - 3s 8ms/step - loss: 0.2356 - mean_absolute_error: 0.3165 - val_loss: 0.2086 - val_mean_absolute_error: 0.3041\n",
      "Epoch 9/20\n",
      "368/368 [==============================] - 3s 8ms/step - loss: 0.2348 - mean_absolute_error: 0.3166 - val_loss: 0.2075 - val_mean_absolute_error: 0.2956\n",
      "***TRAIN***:\n",
      "correlation related to cluster centre: 0.88\n",
      "r2 score related to cluster centre: 0.77\n",
      "***VALIDATION***:\n",
      "correlation related to cluster centre: 0.89\n",
      "r2 score related to cluster centre: 0.80\n"
     ]
    },
    {
     "data": {
      "application/vnd.jupyter.widget-view+json": {
       "model_id": "b4361c09792e40f8a556e5f650292ee8",
       "version_major": 2,
       "version_minor": 0
      },
      "text/plain": [
       "IntProgress(value=0, max=1)"
      ]
     },
     "metadata": {},
     "output_type": "display_data"
    },
    {
     "name": "stdout",
     "output_type": "stream",
     "text": [
      "***VALIDATION***:\n",
      "average correlation: 0.89\n",
      "average r2: 0.80\n",
      "---do_investigations. cluster index : 44---\n"
     ]
    },
    {
     "data": {
      "application/vnd.jupyter.widget-view+json": {
       "model_id": "17337b1ad25a4118be3f122b519619be",
       "version_major": 2,
       "version_minor": 0
      },
      "text/plain": [
       "IntProgress(value=0, max=1)"
      ]
     },
     "metadata": {},
     "output_type": "display_data"
    },
    {
     "name": "stdout",
     "output_type": "stream",
     "text": [
      "Epoch 1/20\n",
      "368/368 [==============================] - 10s 10ms/step - loss: 0.2954 - mean_absolute_error: 0.3564 - val_loss: 0.1531 - val_mean_absolute_error: 0.2422\n",
      "Epoch 2/20\n",
      "368/368 [==============================] - 3s 8ms/step - loss: 0.2316 - mean_absolute_error: 0.3063 - val_loss: 0.1598 - val_mean_absolute_error: 0.2482\n",
      "Epoch 3/20\n",
      "368/368 [==============================] - 3s 8ms/step - loss: 0.2308 - mean_absolute_error: 0.3064 - val_loss: 0.1527 - val_mean_absolute_error: 0.2463\n",
      "Epoch 4/20\n",
      "368/368 [==============================] - 3s 8ms/step - loss: 0.2306 - mean_absolute_error: 0.3058 - val_loss: 0.1514 - val_mean_absolute_error: 0.2444\n",
      "Epoch 5/20\n",
      "368/368 [==============================] - 3s 7ms/step - loss: 0.2308 - mean_absolute_error: 0.3057 - val_loss: 0.1558 - val_mean_absolute_error: 0.2480\n",
      "Epoch 6/20\n",
      "368/368 [==============================] - 3s 7ms/step - loss: 0.2304 - mean_absolute_error: 0.3056 - val_loss: 0.1574 - val_mean_absolute_error: 0.2538\n",
      "***TRAIN***:\n",
      "correlation related to cluster centre: 0.88\n",
      "r2 score related to cluster centre: 0.76\n",
      "***VALIDATION***:\n",
      "correlation related to cluster centre: 0.90\n",
      "r2 score related to cluster centre: 0.79\n"
     ]
    },
    {
     "data": {
      "application/vnd.jupyter.widget-view+json": {
       "model_id": "09dc4b645d734b668195513f3fdf17c4",
       "version_major": 2,
       "version_minor": 0
      },
      "text/plain": [
       "IntProgress(value=0, max=1)"
      ]
     },
     "metadata": {},
     "output_type": "display_data"
    },
    {
     "name": "stdout",
     "output_type": "stream",
     "text": [
      "***VALIDATION***:\n",
      "average correlation: 0.90\n",
      "average r2: 0.79\n",
      "---do_investigations. cluster index : 45---\n"
     ]
    },
    {
     "data": {
      "application/vnd.jupyter.widget-view+json": {
       "model_id": "b63ce25cfaf448c5ab48757aae6de064",
       "version_major": 2,
       "version_minor": 0
      },
      "text/plain": [
       "IntProgress(value=0, max=1)"
      ]
     },
     "metadata": {},
     "output_type": "display_data"
    },
    {
     "name": "stdout",
     "output_type": "stream",
     "text": [
      "Epoch 1/20\n",
      "368/368 [==============================] - 8s 10ms/step - loss: 0.3094 - mean_absolute_error: 0.2767 - val_loss: 0.0022 - val_mean_absolute_error: 0.0190\n",
      "Epoch 2/20\n",
      "368/368 [==============================] - 3s 8ms/step - loss: 0.2528 - mean_absolute_error: 0.2281 - val_loss: 0.0022 - val_mean_absolute_error: 0.0218\n",
      "Epoch 3/20\n",
      "368/368 [==============================] - 3s 8ms/step - loss: 0.2520 - mean_absolute_error: 0.2259 - val_loss: 0.0025 - val_mean_absolute_error: 0.0282\n",
      "Epoch 4/20\n",
      "368/368 [==============================] - 3s 8ms/step - loss: 0.2507 - mean_absolute_error: 0.2258 - val_loss: 0.0024 - val_mean_absolute_error: 0.0193\n",
      "***TRAIN***:\n",
      "correlation related to cluster centre: 0.87\n",
      "r2 score related to cluster centre: 0.75\n",
      "***VALIDATION***:\n",
      "correlation related to cluster centre: 0.92\n",
      "r2 score related to cluster centre: 0.75\n"
     ]
    },
    {
     "data": {
      "application/vnd.jupyter.widget-view+json": {
       "model_id": "77dc1bf32f104765adc7a269c410f7d3",
       "version_major": 2,
       "version_minor": 0
      },
      "text/plain": [
       "IntProgress(value=0, max=1)"
      ]
     },
     "metadata": {},
     "output_type": "display_data"
    },
    {
     "name": "stdout",
     "output_type": "stream",
     "text": [
      "***VALIDATION***:\n",
      "average correlation: 0.92\n",
      "average r2: 0.75\n",
      "---do_investigations. cluster index : 46---\n"
     ]
    },
    {
     "data": {
      "application/vnd.jupyter.widget-view+json": {
       "model_id": "b2f70070dc0943a99d6bdeb50da71360",
       "version_major": 2,
       "version_minor": 0
      },
      "text/plain": [
       "IntProgress(value=0, max=1)"
      ]
     },
     "metadata": {},
     "output_type": "display_data"
    },
    {
     "name": "stdout",
     "output_type": "stream",
     "text": [
      "Epoch 1/20\n",
      "368/368 [==============================] - 9s 10ms/step - loss: 0.3098 - mean_absolute_error: 0.2669 - val_loss: 0.0022 - val_mean_absolute_error: 0.0256\n",
      "Epoch 2/20\n",
      "368/368 [==============================] - 3s 8ms/step - loss: 0.2537 - mean_absolute_error: 0.2253 - val_loss: 0.0054 - val_mean_absolute_error: 0.0639\n",
      "Epoch 3/20\n",
      "368/368 [==============================] - 3s 8ms/step - loss: 0.2516 - mean_absolute_error: 0.2246 - val_loss: 0.0018 - val_mean_absolute_error: 0.0167\n",
      "Epoch 4/20\n",
      "368/368 [==============================] - 3s 7ms/step - loss: 0.2506 - mean_absolute_error: 0.2215 - val_loss: 0.0029 - val_mean_absolute_error: 0.0383\n",
      "Epoch 5/20\n",
      "368/368 [==============================] - 3s 7ms/step - loss: 0.2502 - mean_absolute_error: 0.2209 - val_loss: 0.0030 - val_mean_absolute_error: 0.0412\n",
      "***TRAIN***:\n",
      "correlation related to cluster centre: 0.87\n",
      "r2 score related to cluster centre: 0.75\n",
      "***VALIDATION***:\n",
      "correlation related to cluster centre: 0.92\n",
      "r2 score related to cluster centre: 0.66\n"
     ]
    },
    {
     "data": {
      "application/vnd.jupyter.widget-view+json": {
       "model_id": "94e6f3bb1ecc4a0aad0377b90b111d10",
       "version_major": 2,
       "version_minor": 0
      },
      "text/plain": [
       "IntProgress(value=0, max=1)"
      ]
     },
     "metadata": {},
     "output_type": "display_data"
    },
    {
     "name": "stdout",
     "output_type": "stream",
     "text": [
      "***VALIDATION***:\n",
      "average correlation: 0.92\n",
      "average r2: 0.66\n",
      "---do_investigations. cluster index : 47---\n"
     ]
    },
    {
     "data": {
      "application/vnd.jupyter.widget-view+json": {
       "model_id": "7acea78b9a3647238a3a3786e9aace41",
       "version_major": 2,
       "version_minor": 0
      },
      "text/plain": [
       "IntProgress(value=0, max=1)"
      ]
     },
     "metadata": {},
     "output_type": "display_data"
    },
    {
     "name": "stdout",
     "output_type": "stream",
     "text": [
      "Epoch 1/20\n",
      "368/368 [==============================] - 8s 10ms/step - loss: 0.3238 - mean_absolute_error: 0.2909 - val_loss: 0.0189 - val_mean_absolute_error: 0.1002\n",
      "Epoch 2/20\n",
      "368/368 [==============================] - 3s 8ms/step - loss: 0.2668 - mean_absolute_error: 0.2495 - val_loss: 0.0193 - val_mean_absolute_error: 0.1034\n",
      "Epoch 3/20\n",
      "368/368 [==============================] - 3s 8ms/step - loss: 0.2657 - mean_absolute_error: 0.2495 - val_loss: 0.0185 - val_mean_absolute_error: 0.0970\n",
      "Epoch 4/20\n",
      "368/368 [==============================] - 3s 9ms/step - loss: 0.2641 - mean_absolute_error: 0.2469 - val_loss: 0.0189 - val_mean_absolute_error: 0.1022\n",
      "Epoch 5/20\n",
      "368/368 [==============================] - 3s 9ms/step - loss: 0.2648 - mean_absolute_error: 0.2480 - val_loss: 0.0163 - val_mean_absolute_error: 0.0819\n",
      "Epoch 6/20\n",
      "368/368 [==============================] - 4s 11ms/step - loss: 0.2639 - mean_absolute_error: 0.2479 - val_loss: 0.0167 - val_mean_absolute_error: 0.0852\n",
      "Epoch 7/20\n",
      "368/368 [==============================] - 3s 8ms/step - loss: 0.2632 - mean_absolute_error: 0.2468 - val_loss: 0.0188 - val_mean_absolute_error: 0.1018\n",
      "***TRAIN***:\n",
      "correlation related to cluster centre: 0.86\n",
      "r2 score related to cluster centre: 0.74\n",
      "***VALIDATION***:\n",
      "correlation related to cluster centre: 0.92\n",
      "r2 score related to cluster centre: 0.81\n"
     ]
    },
    {
     "data": {
      "application/vnd.jupyter.widget-view+json": {
       "model_id": "4684bd7d59b14ed09012931b36aa4bd4",
       "version_major": 2,
       "version_minor": 0
      },
      "text/plain": [
       "IntProgress(value=0, max=1)"
      ]
     },
     "metadata": {},
     "output_type": "display_data"
    },
    {
     "name": "stdout",
     "output_type": "stream",
     "text": [
      "***VALIDATION***:\n",
      "average correlation: 0.92\n",
      "average r2: 0.81\n",
      "---do_investigations. cluster index : 48---\n"
     ]
    },
    {
     "data": {
      "application/vnd.jupyter.widget-view+json": {
       "model_id": "6c98880910674556ae3a3d7e57ed263f",
       "version_major": 2,
       "version_minor": 0
      },
      "text/plain": [
       "IntProgress(value=0, max=7)"
      ]
     },
     "metadata": {},
     "output_type": "display_data"
    },
    {
     "name": "stdout",
     "output_type": "stream",
     "text": [
      "Epoch 1/20\n",
      "368/368 [==============================] - 10s 10ms/step - loss: 0.2819 - mean_absolute_error: 0.3583 - val_loss: 0.1557 - val_mean_absolute_error: 0.2673\n",
      "Epoch 2/20\n",
      "368/368 [==============================] - 3s 8ms/step - loss: 0.2162 - mean_absolute_error: 0.3061 - val_loss: 0.1534 - val_mean_absolute_error: 0.2691\n",
      "Epoch 3/20\n",
      "368/368 [==============================] - 3s 8ms/step - loss: 0.2139 - mean_absolute_error: 0.3042 - val_loss: 0.1553 - val_mean_absolute_error: 0.2673\n",
      "Epoch 4/20\n",
      "368/368 [==============================] - 3s 8ms/step - loss: 0.2141 - mean_absolute_error: 0.3045 - val_loss: 0.1528 - val_mean_absolute_error: 0.2674\n",
      "Epoch 5/20\n",
      "368/368 [==============================] - 3s 8ms/step - loss: 0.2139 - mean_absolute_error: 0.3040 - val_loss: 0.1543 - val_mean_absolute_error: 0.2695\n",
      "Epoch 6/20\n",
      "368/368 [==============================] - 3s 8ms/step - loss: 0.2138 - mean_absolute_error: 0.3040 - val_loss: 0.1528 - val_mean_absolute_error: 0.2656\n",
      "***TRAIN***:\n",
      "correlation related to cluster centre: 0.89\n",
      "r2 score related to cluster centre: 0.79\n",
      "***VALIDATION***:\n",
      "correlation related to cluster centre: 0.91\n",
      "r2 score related to cluster centre: 0.82\n"
     ]
    },
    {
     "data": {
      "application/vnd.jupyter.widget-view+json": {
       "model_id": "cf92303b3d7e44b9bc654e173fcec5c2",
       "version_major": 2,
       "version_minor": 0
      },
      "text/plain": [
       "IntProgress(value=0, max=7)"
      ]
     },
     "metadata": {},
     "output_type": "display_data"
    },
    {
     "name": "stdout",
     "output_type": "stream",
     "text": [
      "***VALIDATION***:\n",
      "average correlation: 0.90\n",
      "average r2: 0.82\n",
      "---do_investigations. cluster index : 49---\n"
     ]
    },
    {
     "data": {
      "application/vnd.jupyter.widget-view+json": {
       "model_id": "10dfe230423a48cb9de0d417003b03c2",
       "version_major": 2,
       "version_minor": 0
      },
      "text/plain": [
       "IntProgress(value=0, max=1)"
      ]
     },
     "metadata": {},
     "output_type": "display_data"
    },
    {
     "name": "stdout",
     "output_type": "stream",
     "text": [
      "Epoch 1/20\n",
      "368/368 [==============================] - 9s 11ms/step - loss: 0.2143 - mean_absolute_error: 0.2599 - val_loss: 0.0706 - val_mean_absolute_error: 0.1671\n",
      "Epoch 2/20\n",
      "368/368 [==============================] - 3s 8ms/step - loss: 0.1321 - mean_absolute_error: 0.2047 - val_loss: 0.0704 - val_mean_absolute_error: 0.1684\n",
      "Epoch 3/20\n",
      "368/368 [==============================] - 3s 7ms/step - loss: 0.1312 - mean_absolute_error: 0.2041 - val_loss: 0.0680 - val_mean_absolute_error: 0.1563\n",
      "Epoch 4/20\n",
      "368/368 [==============================] - 3s 8ms/step - loss: 0.1300 - mean_absolute_error: 0.2024 - val_loss: 0.0649 - val_mean_absolute_error: 0.1499\n",
      "Epoch 5/20\n",
      "368/368 [==============================] - 3s 7ms/step - loss: 0.1291 - mean_absolute_error: 0.1994 - val_loss: 0.0701 - val_mean_absolute_error: 0.1714\n",
      "Epoch 6/20\n",
      "368/368 [==============================] - 3s 7ms/step - loss: 0.1291 - mean_absolute_error: 0.2018 - val_loss: 0.0647 - val_mean_absolute_error: 0.1468\n",
      "Epoch 7/20\n",
      "368/368 [==============================] - 3s 8ms/step - loss: 0.1298 - mean_absolute_error: 0.1997 - val_loss: 0.0646 - val_mean_absolute_error: 0.1450\n",
      "Epoch 8/20\n",
      "368/368 [==============================] - 3s 8ms/step - loss: 0.1292 - mean_absolute_error: 0.2002 - val_loss: 0.0654 - val_mean_absolute_error: 0.1522\n",
      "Epoch 9/20\n",
      "368/368 [==============================] - 3s 7ms/step - loss: 0.1287 - mean_absolute_error: 0.2003 - val_loss: 0.0646 - val_mean_absolute_error: 0.1492\n",
      "***TRAIN***:\n",
      "correlation related to cluster centre: 0.94\n",
      "r2 score related to cluster centre: 0.87\n",
      "***VALIDATION***:\n",
      "correlation related to cluster centre: 0.94\n",
      "r2 score related to cluster centre: 0.88\n"
     ]
    },
    {
     "data": {
      "application/vnd.jupyter.widget-view+json": {
       "model_id": "1956d19af7b44feba99ebc3d9f8a33df",
       "version_major": 2,
       "version_minor": 0
      },
      "text/plain": [
       "IntProgress(value=0, max=1)"
      ]
     },
     "metadata": {},
     "output_type": "display_data"
    },
    {
     "name": "stdout",
     "output_type": "stream",
     "text": [
      "***VALIDATION***:\n",
      "average correlation: 0.94\n",
      "average r2: 0.88\n",
      "---do_investigations. cluster index : 50---\n"
     ]
    },
    {
     "data": {
      "application/vnd.jupyter.widget-view+json": {
       "model_id": "5d7c173a388c4c08ae8ed9fa3078cb5f",
       "version_major": 2,
       "version_minor": 0
      },
      "text/plain": [
       "IntProgress(value=0, max=1)"
      ]
     },
     "metadata": {},
     "output_type": "display_data"
    },
    {
     "name": "stdout",
     "output_type": "stream",
     "text": [
      "Epoch 1/20\n",
      "368/368 [==============================] - 8s 10ms/step - loss: 0.2126 - mean_absolute_error: 0.3011 - val_loss: 0.0991 - val_mean_absolute_error: 0.2033\n",
      "Epoch 2/20\n",
      "368/368 [==============================] - 3s 7ms/step - loss: 0.1482 - mean_absolute_error: 0.2507 - val_loss: 0.0981 - val_mean_absolute_error: 0.1955\n",
      "Epoch 3/20\n",
      "368/368 [==============================] - 3s 8ms/step - loss: 0.1471 - mean_absolute_error: 0.2487 - val_loss: 0.0966 - val_mean_absolute_error: 0.1986\n",
      "Epoch 4/20\n",
      "368/368 [==============================] - 3s 8ms/step - loss: 0.1473 - mean_absolute_error: 0.2494 - val_loss: 0.0971 - val_mean_absolute_error: 0.1983\n",
      "Epoch 5/20\n",
      "368/368 [==============================] - 3s 7ms/step - loss: 0.1469 - mean_absolute_error: 0.2486 - val_loss: 0.0992 - val_mean_absolute_error: 0.2021\n",
      "***TRAIN***:\n",
      "correlation related to cluster centre: 0.93\n",
      "r2 score related to cluster centre: 0.85\n",
      "***VALIDATION***:\n",
      "correlation related to cluster centre: 0.92\n",
      "r2 score related to cluster centre: 0.85\n"
     ]
    },
    {
     "data": {
      "application/vnd.jupyter.widget-view+json": {
       "model_id": "0e1edef9c86f43efbd0c56594da0ea9f",
       "version_major": 2,
       "version_minor": 0
      },
      "text/plain": [
       "IntProgress(value=0, max=1)"
      ]
     },
     "metadata": {},
     "output_type": "display_data"
    },
    {
     "name": "stdout",
     "output_type": "stream",
     "text": [
      "***VALIDATION***:\n",
      "average correlation: 0.92\n",
      "average r2: 0.85\n",
      "---do_investigations. cluster index : 51---\n"
     ]
    },
    {
     "data": {
      "application/vnd.jupyter.widget-view+json": {
       "model_id": "ea356b90eeaa445da1b7b07f1510a670",
       "version_major": 2,
       "version_minor": 0
      },
      "text/plain": [
       "IntProgress(value=0, max=1)"
      ]
     },
     "metadata": {},
     "output_type": "display_data"
    },
    {
     "name": "stdout",
     "output_type": "stream",
     "text": [
      "Epoch 1/20\n",
      "368/368 [==============================] - 8s 10ms/step - loss: 0.2064 - mean_absolute_error: 0.3037 - val_loss: 0.1216 - val_mean_absolute_error: 0.2271\n",
      "Epoch 2/20\n",
      "368/368 [==============================] - 3s 8ms/step - loss: 0.1383 - mean_absolute_error: 0.2475 - val_loss: 0.1259 - val_mean_absolute_error: 0.2330\n",
      "Epoch 3/20\n",
      "368/368 [==============================] - 3s 8ms/step - loss: 0.1378 - mean_absolute_error: 0.2463 - val_loss: 0.1198 - val_mean_absolute_error: 0.2237\n",
      "Epoch 4/20\n",
      "368/368 [==============================] - 3s 8ms/step - loss: 0.1367 - mean_absolute_error: 0.2456 - val_loss: 0.1215 - val_mean_absolute_error: 0.2243\n",
      "Epoch 5/20\n",
      "368/368 [==============================] - 3s 7ms/step - loss: 0.1362 - mean_absolute_error: 0.2448 - val_loss: 0.1233 - val_mean_absolute_error: 0.2267\n",
      "***TRAIN***:\n",
      "correlation related to cluster centre: 0.93\n",
      "r2 score related to cluster centre: 0.86\n",
      "***VALIDATION***:\n",
      "correlation related to cluster centre: 0.93\n",
      "r2 score related to cluster centre: 0.87\n"
     ]
    },
    {
     "data": {
      "application/vnd.jupyter.widget-view+json": {
       "model_id": "14dee0b2c7aa42e594378c79260e4826",
       "version_major": 2,
       "version_minor": 0
      },
      "text/plain": [
       "IntProgress(value=0, max=1)"
      ]
     },
     "metadata": {},
     "output_type": "display_data"
    },
    {
     "name": "stdout",
     "output_type": "stream",
     "text": [
      "***VALIDATION***:\n",
      "average correlation: 0.93\n",
      "average r2: 0.87\n",
      "---do_investigations. cluster index : 52---\n"
     ]
    },
    {
     "data": {
      "application/vnd.jupyter.widget-view+json": {
       "model_id": "708526b10f6a47efab47f94afacbdfe1",
       "version_major": 2,
       "version_minor": 0
      },
      "text/plain": [
       "IntProgress(value=0, max=8)"
      ]
     },
     "metadata": {},
     "output_type": "display_data"
    },
    {
     "name": "stdout",
     "output_type": "stream",
     "text": [
      "Epoch 1/20\n",
      "368/368 [==============================] - 8s 10ms/step - loss: 0.2906 - mean_absolute_error: 0.3699 - val_loss: 0.1717 - val_mean_absolute_error: 0.3021\n",
      "Epoch 2/20\n",
      "368/368 [==============================] - 3s 8ms/step - loss: 0.2125 - mean_absolute_error: 0.3130 - val_loss: 0.1624 - val_mean_absolute_error: 0.2785\n",
      "Epoch 3/20\n",
      "368/368 [==============================] - 3s 8ms/step - loss: 0.2128 - mean_absolute_error: 0.3125 - val_loss: 0.1629 - val_mean_absolute_error: 0.2810\n",
      "Epoch 4/20\n",
      "368/368 [==============================] - 3s 7ms/step - loss: 0.2113 - mean_absolute_error: 0.3112 - val_loss: 0.1592 - val_mean_absolute_error: 0.2806\n",
      "Epoch 5/20\n",
      "368/368 [==============================] - 3s 8ms/step - loss: 0.2108 - mean_absolute_error: 0.3111 - val_loss: 0.1606 - val_mean_absolute_error: 0.2779\n",
      "Epoch 6/20\n",
      "368/368 [==============================] - 3s 8ms/step - loss: 0.2117 - mean_absolute_error: 0.3116 - val_loss: 0.1588 - val_mean_absolute_error: 0.2765\n",
      "Epoch 7/20\n",
      "368/368 [==============================] - 3s 7ms/step - loss: 0.2107 - mean_absolute_error: 0.3105 - val_loss: 0.1588 - val_mean_absolute_error: 0.2791\n",
      "Epoch 8/20\n",
      "368/368 [==============================] - 3s 7ms/step - loss: 0.2102 - mean_absolute_error: 0.3107 - val_loss: 0.1590 - val_mean_absolute_error: 0.2772\n",
      "***TRAIN***:\n",
      "correlation related to cluster centre: 0.89\n",
      "r2 score related to cluster centre: 0.79\n",
      "***VALIDATION***:\n",
      "correlation related to cluster centre: 0.90\n",
      "r2 score related to cluster centre: 0.82\n"
     ]
    },
    {
     "data": {
      "application/vnd.jupyter.widget-view+json": {
       "model_id": "9a3940c913a145cf87deb791a255f49a",
       "version_major": 2,
       "version_minor": 0
      },
      "text/plain": [
       "IntProgress(value=0, max=8)"
      ]
     },
     "metadata": {},
     "output_type": "display_data"
    },
    {
     "name": "stdout",
     "output_type": "stream",
     "text": [
      "***VALIDATION***:\n",
      "average correlation: 0.90\n",
      "average r2: 0.81\n",
      "---do_investigations. cluster index : 53---\n"
     ]
    },
    {
     "data": {
      "application/vnd.jupyter.widget-view+json": {
       "model_id": "135511119b2943dcb996a0b71b3a7a96",
       "version_major": 2,
       "version_minor": 0
      },
      "text/plain": [
       "IntProgress(value=0, max=1)"
      ]
     },
     "metadata": {},
     "output_type": "display_data"
    },
    {
     "name": "stdout",
     "output_type": "stream",
     "text": [
      "Epoch 1/20\n",
      "368/368 [==============================] - 8s 10ms/step - loss: 0.2517 - mean_absolute_error: 0.3337 - val_loss: 0.1332 - val_mean_absolute_error: 0.2427\n",
      "Epoch 2/20\n",
      "368/368 [==============================] - 3s 7ms/step - loss: 0.1967 - mean_absolute_error: 0.2921 - val_loss: 0.1310 - val_mean_absolute_error: 0.2443\n",
      "Epoch 3/20\n",
      "368/368 [==============================] - 3s 7ms/step - loss: 0.1974 - mean_absolute_error: 0.2927 - val_loss: 0.1310 - val_mean_absolute_error: 0.2451\n",
      "Epoch 4/20\n",
      "368/368 [==============================] - 3s 7ms/step - loss: 0.1962 - mean_absolute_error: 0.2923 - val_loss: 0.1310 - val_mean_absolute_error: 0.2414\n",
      "***TRAIN***:\n",
      "correlation related to cluster centre: 0.90\n",
      "r2 score related to cluster centre: 0.81\n",
      "***VALIDATION***:\n",
      "correlation related to cluster centre: 0.90\n",
      "r2 score related to cluster centre: 0.80\n"
     ]
    },
    {
     "data": {
      "application/vnd.jupyter.widget-view+json": {
       "model_id": "e963c39c31894cd88b66bb2ddc5cfcdc",
       "version_major": 2,
       "version_minor": 0
      },
      "text/plain": [
       "IntProgress(value=0, max=1)"
      ]
     },
     "metadata": {},
     "output_type": "display_data"
    },
    {
     "name": "stdout",
     "output_type": "stream",
     "text": [
      "***VALIDATION***:\n",
      "average correlation: 0.90\n",
      "average r2: 0.80\n",
      "---do_investigations. cluster index : 54---\n"
     ]
    },
    {
     "data": {
      "application/vnd.jupyter.widget-view+json": {
       "model_id": "e346f44ed16849f6acc35c09dcd75313",
       "version_major": 2,
       "version_minor": 0
      },
      "text/plain": [
       "IntProgress(value=0, max=2)"
      ]
     },
     "metadata": {},
     "output_type": "display_data"
    },
    {
     "name": "stdout",
     "output_type": "stream",
     "text": [
      "Epoch 1/20\n",
      "368/368 [==============================] - 8s 10ms/step - loss: 0.2561 - mean_absolute_error: 0.3360 - val_loss: 0.1148 - val_mean_absolute_error: 0.2198\n",
      "Epoch 2/20\n",
      "368/368 [==============================] - 3s 8ms/step - loss: 0.1910 - mean_absolute_error: 0.2863 - val_loss: 0.1119 - val_mean_absolute_error: 0.2186\n",
      "Epoch 3/20\n",
      "368/368 [==============================] - 3s 8ms/step - loss: 0.1892 - mean_absolute_error: 0.2843 - val_loss: 0.1143 - val_mean_absolute_error: 0.2217\n",
      "Epoch 4/20\n",
      "368/368 [==============================] - 3s 8ms/step - loss: 0.1899 - mean_absolute_error: 0.2850 - val_loss: 0.1158 - val_mean_absolute_error: 0.2210\n",
      "***TRAIN***:\n",
      "correlation related to cluster centre: 0.90\n",
      "r2 score related to cluster centre: 0.81\n",
      "***VALIDATION***:\n",
      "correlation related to cluster centre: 0.90\n",
      "r2 score related to cluster centre: 0.81\n"
     ]
    },
    {
     "data": {
      "application/vnd.jupyter.widget-view+json": {
       "model_id": "c57538b758e04d1097e365aa4c4ee528",
       "version_major": 2,
       "version_minor": 0
      },
      "text/plain": [
       "IntProgress(value=0, max=2)"
      ]
     },
     "metadata": {},
     "output_type": "display_data"
    },
    {
     "name": "stdout",
     "output_type": "stream",
     "text": [
      "***VALIDATION***:\n",
      "average correlation: 0.90\n",
      "average r2: 0.81\n",
      "---do_investigations. cluster index : 55---\n"
     ]
    },
    {
     "data": {
      "application/vnd.jupyter.widget-view+json": {
       "model_id": "4f9a05e645e943839eb5a5387eac9c61",
       "version_major": 2,
       "version_minor": 0
      },
      "text/plain": [
       "IntProgress(value=0, max=10)"
      ]
     },
     "metadata": {},
     "output_type": "display_data"
    },
    {
     "name": "stdout",
     "output_type": "stream",
     "text": [
      "Epoch 1/20\n",
      "368/368 [==============================] - 12s 10ms/step - loss: 0.2859 - mean_absolute_error: 0.3740 - val_loss: 0.1809 - val_mean_absolute_error: 0.2995\n",
      "Epoch 2/20\n",
      "368/368 [==============================] - 3s 8ms/step - loss: 0.2073 - mean_absolute_error: 0.3155 - val_loss: 0.1826 - val_mean_absolute_error: 0.2967\n",
      "Epoch 3/20\n",
      "368/368 [==============================] - 3s 8ms/step - loss: 0.2056 - mean_absolute_error: 0.3135 - val_loss: 0.1750 - val_mean_absolute_error: 0.2862\n",
      "Epoch 4/20\n",
      "368/368 [==============================] - 3s 8ms/step - loss: 0.2054 - mean_absolute_error: 0.3128 - val_loss: 0.1743 - val_mean_absolute_error: 0.2926\n",
      "Epoch 5/20\n",
      "368/368 [==============================] - 3s 8ms/step - loss: 0.2050 - mean_absolute_error: 0.3126 - val_loss: 0.1770 - val_mean_absolute_error: 0.2889\n",
      "Epoch 6/20\n",
      "368/368 [==============================] - 3s 8ms/step - loss: 0.2049 - mean_absolute_error: 0.3118 - val_loss: 0.1743 - val_mean_absolute_error: 0.2912\n",
      "Epoch 7/20\n",
      "368/368 [==============================] - 3s 8ms/step - loss: 0.2041 - mean_absolute_error: 0.3113 - val_loss: 0.1752 - val_mean_absolute_error: 0.2900\n",
      "Epoch 8/20\n",
      "368/368 [==============================] - 3s 8ms/step - loss: 0.2042 - mean_absolute_error: 0.3113 - val_loss: 0.1755 - val_mean_absolute_error: 0.2921\n",
      "***TRAIN***:\n",
      "correlation related to cluster centre: 0.89\n",
      "r2 score related to cluster centre: 0.80\n",
      "***VALIDATION***:\n",
      "correlation related to cluster centre: 0.91\n",
      "r2 score related to cluster centre: 0.82\n"
     ]
    },
    {
     "data": {
      "application/vnd.jupyter.widget-view+json": {
       "model_id": "989fc40f69e14a1f81a2a96a5b927c08",
       "version_major": 2,
       "version_minor": 0
      },
      "text/plain": [
       "IntProgress(value=0, max=10)"
      ]
     },
     "metadata": {},
     "output_type": "display_data"
    },
    {
     "name": "stdout",
     "output_type": "stream",
     "text": [
      "***VALIDATION***:\n",
      "average correlation: 0.91\n",
      "average r2: 0.82\n",
      "---do_investigations. cluster index : 56---\n"
     ]
    },
    {
     "data": {
      "application/vnd.jupyter.widget-view+json": {
       "model_id": "5678f5e5be974999ab485e97e0d13bdc",
       "version_major": 2,
       "version_minor": 0
      },
      "text/plain": [
       "IntProgress(value=0, max=2)"
      ]
     },
     "metadata": {},
     "output_type": "display_data"
    },
    {
     "name": "stdout",
     "output_type": "stream",
     "text": [
      "Epoch 1/20\n",
      "368/368 [==============================] - 9s 11ms/step - loss: 0.2714 - mean_absolute_error: 0.3562 - val_loss: 0.1888 - val_mean_absolute_error: 0.2915\n",
      "Epoch 2/20\n",
      "368/368 [==============================] - 3s 8ms/step - loss: 0.2080 - mean_absolute_error: 0.3099 - val_loss: 0.1947 - val_mean_absolute_error: 0.2922\n",
      "Epoch 3/20\n",
      "368/368 [==============================] - 3s 8ms/step - loss: 0.2078 - mean_absolute_error: 0.3099 - val_loss: 0.1936 - val_mean_absolute_error: 0.2862\n",
      "***TRAIN***:\n",
      "correlation related to cluster centre: 0.89\n",
      "r2 score related to cluster centre: 0.79\n",
      "***VALIDATION***:\n",
      "correlation related to cluster centre: 0.90\n",
      "r2 score related to cluster centre: 0.81\n"
     ]
    },
    {
     "data": {
      "application/vnd.jupyter.widget-view+json": {
       "model_id": "4c6c39806504438f9c08ec2ca14f3149",
       "version_major": 2,
       "version_minor": 0
      },
      "text/plain": [
       "IntProgress(value=0, max=2)"
      ]
     },
     "metadata": {},
     "output_type": "display_data"
    },
    {
     "name": "stdout",
     "output_type": "stream",
     "text": [
      "***VALIDATION***:\n",
      "average correlation: 0.90\n",
      "average r2: 0.81\n",
      "---do_investigations. cluster index : 57---\n"
     ]
    },
    {
     "data": {
      "application/vnd.jupyter.widget-view+json": {
       "model_id": "76bfc7e7f62d4426b84296c8101b6d61",
       "version_major": 2,
       "version_minor": 0
      },
      "text/plain": [
       "IntProgress(value=0, max=1)"
      ]
     },
     "metadata": {},
     "output_type": "display_data"
    },
    {
     "name": "stdout",
     "output_type": "stream",
     "text": [
      "Epoch 1/20\n",
      "368/368 [==============================] - 8s 10ms/step - loss: 0.2362 - mean_absolute_error: 0.3373 - val_loss: 0.1837 - val_mean_absolute_error: 0.2958\n",
      "Epoch 2/20\n",
      "368/368 [==============================] - 3s 8ms/step - loss: 0.1661 - mean_absolute_error: 0.2794 - val_loss: 0.1788 - val_mean_absolute_error: 0.2972\n",
      "Epoch 3/20\n",
      "368/368 [==============================] - 3s 8ms/step - loss: 0.1659 - mean_absolute_error: 0.2795 - val_loss: 0.1810 - val_mean_absolute_error: 0.2963\n",
      "Epoch 4/20\n",
      "368/368 [==============================] - 3s 8ms/step - loss: 0.1657 - mean_absolute_error: 0.2796 - val_loss: 0.1868 - val_mean_absolute_error: 0.3066\n",
      "***TRAIN***:\n",
      "correlation related to cluster centre: 0.91\n",
      "r2 score related to cluster centre: 0.83\n",
      "***VALIDATION***:\n",
      "correlation related to cluster centre: 0.91\n",
      "r2 score related to cluster centre: 0.82\n"
     ]
    },
    {
     "data": {
      "application/vnd.jupyter.widget-view+json": {
       "model_id": "18e4e6c7ad77453da6d1fa1cce7fa35a",
       "version_major": 2,
       "version_minor": 0
      },
      "text/plain": [
       "IntProgress(value=0, max=1)"
      ]
     },
     "metadata": {},
     "output_type": "display_data"
    },
    {
     "name": "stdout",
     "output_type": "stream",
     "text": [
      "***VALIDATION***:\n",
      "average correlation: 0.91\n",
      "average r2: 0.82\n",
      "---do_investigations. cluster index : 58---\n"
     ]
    },
    {
     "data": {
      "application/vnd.jupyter.widget-view+json": {
       "model_id": "7879aa5e65614dd9ab022cfee4a94624",
       "version_major": 2,
       "version_minor": 0
      },
      "text/plain": [
       "IntProgress(value=0, max=1)"
      ]
     },
     "metadata": {},
     "output_type": "display_data"
    },
    {
     "name": "stdout",
     "output_type": "stream",
     "text": [
      "Epoch 1/20\n",
      "368/368 [==============================] - 8s 10ms/step - loss: 0.2454 - mean_absolute_error: 0.3483 - val_loss: 0.1914 - val_mean_absolute_error: 0.3152\n",
      "Epoch 2/20\n",
      "368/368 [==============================] - 3s 8ms/step - loss: 0.1912 - mean_absolute_error: 0.3028 - val_loss: 0.1817 - val_mean_absolute_error: 0.2998\n",
      "Epoch 3/20\n",
      "368/368 [==============================] - 3s 8ms/step - loss: 0.1904 - mean_absolute_error: 0.3022 - val_loss: 0.1823 - val_mean_absolute_error: 0.3064\n",
      "Epoch 4/20\n",
      "368/368 [==============================] - 3s 8ms/step - loss: 0.1902 - mean_absolute_error: 0.3022 - val_loss: 0.1830 - val_mean_absolute_error: 0.3035\n",
      "***TRAIN***:\n",
      "correlation related to cluster centre: 0.90\n",
      "r2 score related to cluster centre: 0.81\n",
      "***VALIDATION***:\n",
      "correlation related to cluster centre: 0.91\n",
      "r2 score related to cluster centre: 0.83\n"
     ]
    },
    {
     "data": {
      "application/vnd.jupyter.widget-view+json": {
       "model_id": "2f83f058c23f481eb5a104c90a8edbe3",
       "version_major": 2,
       "version_minor": 0
      },
      "text/plain": [
       "IntProgress(value=0, max=1)"
      ]
     },
     "metadata": {},
     "output_type": "display_data"
    },
    {
     "name": "stdout",
     "output_type": "stream",
     "text": [
      "***VALIDATION***:\n",
      "average correlation: 0.91\n",
      "average r2: 0.83\n",
      "---do_investigations. cluster index : 59---\n"
     ]
    },
    {
     "data": {
      "application/vnd.jupyter.widget-view+json": {
       "model_id": "f8157264ed5b4d2989af1bf8c02be072",
       "version_major": 2,
       "version_minor": 0
      },
      "text/plain": [
       "IntProgress(value=0, max=15)"
      ]
     },
     "metadata": {},
     "output_type": "display_data"
    },
    {
     "name": "stdout",
     "output_type": "stream",
     "text": [
      "Epoch 1/20\n",
      "368/368 [==============================] - 9s 11ms/step - loss: 0.2636 - mean_absolute_error: 0.3621 - val_loss: 0.1674 - val_mean_absolute_error: 0.2890\n",
      "Epoch 2/20\n",
      "368/368 [==============================] - 3s 8ms/step - loss: 0.2036 - mean_absolute_error: 0.3142 - val_loss: 0.1673 - val_mean_absolute_error: 0.2917\n",
      "Epoch 3/20\n",
      "368/368 [==============================] - 3s 8ms/step - loss: 0.2032 - mean_absolute_error: 0.3134 - val_loss: 0.1663 - val_mean_absolute_error: 0.2868\n",
      "Epoch 4/20\n",
      "368/368 [==============================] - 3s 8ms/step - loss: 0.2036 - mean_absolute_error: 0.3137 - val_loss: 0.1666 - val_mean_absolute_error: 0.2835\n",
      "Epoch 5/20\n",
      "368/368 [==============================] - 3s 8ms/step - loss: 0.2032 - mean_absolute_error: 0.3127 - val_loss: 0.1652 - val_mean_absolute_error: 0.2842\n",
      "Epoch 6/20\n",
      "368/368 [==============================] - 3s 8ms/step - loss: 0.2027 - mean_absolute_error: 0.3125 - val_loss: 0.1667 - val_mean_absolute_error: 0.2876\n",
      "Epoch 7/20\n",
      "368/368 [==============================] - 3s 8ms/step - loss: 0.2029 - mean_absolute_error: 0.3125 - val_loss: 0.1660 - val_mean_absolute_error: 0.2829\n",
      "***TRAIN***:\n",
      "correlation related to cluster centre: 0.89\n",
      "r2 score related to cluster centre: 0.80\n",
      "***VALIDATION***:\n",
      "correlation related to cluster centre: 0.91\n",
      "r2 score related to cluster centre: 0.82\n"
     ]
    },
    {
     "data": {
      "application/vnd.jupyter.widget-view+json": {
       "model_id": "36bb5b7b43554b23a28bd0d0c0fa2010",
       "version_major": 2,
       "version_minor": 0
      },
      "text/plain": [
       "IntProgress(value=0, max=15)"
      ]
     },
     "metadata": {},
     "output_type": "display_data"
    },
    {
     "name": "stdout",
     "output_type": "stream",
     "text": [
      "***VALIDATION***:\n",
      "average correlation: 0.91\n",
      "average r2: 0.83\n",
      "weighted_average_correlation: 0.89\n",
      "weighted_average_r2_score: 0.46\n",
      "bad clusters rate: 0.67%\n",
      "------------------------------------------------------\n"
     ]
    }
   ],
   "source": [
    "first_path = r\"C:\\Coding\\final-qualifying-work_2023-2024\\ClusteringCpp\\output\\mst 5.txt\"\n",
    "second_path = r\"C:\\Coding\\final-qualifying-work_2023-2024\\ClusteringCpp\\output\\mst 15.txt\"\n",
    "third_path = r\"C:\\Coding\\final-qualifying-work_2023-2024\\ClusteringCpp\\output\\mst 30.txt\"\n",
    "fourth_path = r\"C:\\Coding\\final-qualifying-work_2023-2024\\ClusteringCpp\\output\\mst 60.txt\"\n",
    "\n",
    "output_file = open(\"computational-experiments-output-mst-1.txt\", \"a\")\n",
    "\n",
    "selected_path = fourth_path\n",
    "\n",
    "print('------------------------------------------------------')\n",
    "output_file.write('------------------------------------------------------\\n')\n",
    "\n",
    "print(f\"lstm {os.path.split(selected_path)[-1]}\")\n",
    "output_file.write(f\"lstm {os.path.split(selected_path)[-1]}\\n\")\n",
    "show_results(lstm_model, get_clusters(selected_path), CONV_WIDTH)\n",
    "\n",
    "print('------------------------------------------------------')\n",
    "output_file.write('------------------------------------------------------\\n')\n",
    "\n",
    "output_file.close()"
   ]
  },
  {
   "cell_type": "code",
   "execution_count": 21,
   "id": "915af8ba-5da6-4d99-9208-7457ea28bd96",
   "metadata": {},
   "outputs": [
    {
     "name": "stdout",
     "output_type": "stream",
     "text": [
      "------------------------------------------------------\n",
      "rnn mst 5.txt\n",
      "---do_investigations. cluster index : 0---\n"
     ]
    },
    {
     "data": {
      "application/vnd.jupyter.widget-view+json": {
       "model_id": "c3ff8dd8bf344bdca451ba6f46ecb1a5",
       "version_major": 2,
       "version_minor": 0
      },
      "text/plain": [
       "IntProgress(value=0, max=5323)"
      ]
     },
     "metadata": {},
     "output_type": "display_data"
    },
    {
     "name": "stdout",
     "output_type": "stream",
     "text": [
      "Epoch 1/20\n",
      "WARNING:tensorflow:From C:\\python\\python311\\Lib\\site-packages\\keras\\src\\utils\\tf_utils.py:492: The name tf.ragged.RaggedTensorValue is deprecated. Please use tf.compat.v1.ragged.RaggedTensorValue instead.\n",
      "\n",
      "368/368 [==============================] - 3s 4ms/step - loss: 0.2377 - mean_absolute_error: 0.3155 - val_loss: 0.2334 - val_mean_absolute_error: 0.2957\n",
      "Epoch 2/20\n",
      "368/368 [==============================] - 1s 3ms/step - loss: 0.2109 - mean_absolute_error: 0.2937 - val_loss: 0.2134 - val_mean_absolute_error: 0.2825\n",
      "Epoch 3/20\n",
      "368/368 [==============================] - 1s 3ms/step - loss: 0.2093 - mean_absolute_error: 0.2918 - val_loss: 0.2042 - val_mean_absolute_error: 0.2799\n",
      "Epoch 4/20\n",
      "368/368 [==============================] - 1s 3ms/step - loss: 0.2090 - mean_absolute_error: 0.2907 - val_loss: 0.2036 - val_mean_absolute_error: 0.2839\n",
      "Epoch 5/20\n",
      "368/368 [==============================] - 1s 3ms/step - loss: 0.2074 - mean_absolute_error: 0.2909 - val_loss: 0.2048 - val_mean_absolute_error: 0.2788\n",
      "Epoch 6/20\n",
      "368/368 [==============================] - 1s 3ms/step - loss: 0.2083 - mean_absolute_error: 0.2904 - val_loss: 0.2046 - val_mean_absolute_error: 0.2773\n",
      "***TRAIN***:\n",
      "correlation related to cluster centre: 0.89\n",
      "r2 score related to cluster centre: 0.79\n",
      "***VALIDATION***:\n",
      "correlation related to cluster centre: 0.90\n",
      "r2 score related to cluster centre: 0.81\n"
     ]
    },
    {
     "data": {
      "application/vnd.jupyter.widget-view+json": {
       "model_id": "01441b29df694b67a21c5a6ec4e23f3b",
       "version_major": 2,
       "version_minor": 0
      },
      "text/plain": [
       "IntProgress(value=0, max=5323)"
      ]
     },
     "metadata": {},
     "output_type": "display_data"
    },
    {
     "name": "stdout",
     "output_type": "stream",
     "text": [
      "***VALIDATION***:\n",
      "average correlation: nan\n",
      "average r2: -10385404389777960547978838016.00\n",
      "---do_investigations. cluster index : 1---\n"
     ]
    },
    {
     "data": {
      "application/vnd.jupyter.widget-view+json": {
       "model_id": "6274fac4d2c642518b25620c6a62b8a6",
       "version_major": 2,
       "version_minor": 0
      },
      "text/plain": [
       "IntProgress(value=0, max=2349)"
      ]
     },
     "metadata": {},
     "output_type": "display_data"
    },
    {
     "name": "stdout",
     "output_type": "stream",
     "text": [
      "Epoch 1/20\n",
      "368/368 [==============================] - 4s 6ms/step - loss: 0.2356 - mean_absolute_error: 0.3360 - val_loss: 0.1574 - val_mean_absolute_error: 0.2786\n",
      "Epoch 2/20\n",
      "368/368 [==============================] - 2s 4ms/step - loss: 0.2046 - mean_absolute_error: 0.3091 - val_loss: 0.1574 - val_mean_absolute_error: 0.2770\n",
      "Epoch 3/20\n",
      "368/368 [==============================] - 1s 4ms/step - loss: 0.2046 - mean_absolute_error: 0.3089 - val_loss: 0.1567 - val_mean_absolute_error: 0.2769\n",
      "Epoch 4/20\n",
      "368/368 [==============================] - 2s 4ms/step - loss: 0.2037 - mean_absolute_error: 0.3085 - val_loss: 0.1587 - val_mean_absolute_error: 0.2808\n",
      "Epoch 5/20\n",
      "368/368 [==============================] - 2s 4ms/step - loss: 0.2038 - mean_absolute_error: 0.3085 - val_loss: 0.1577 - val_mean_absolute_error: 0.2803\n",
      "***TRAIN***:\n",
      "correlation related to cluster centre: 0.89\n",
      "r2 score related to cluster centre: 0.80\n",
      "***VALIDATION***:\n",
      "correlation related to cluster centre: 0.91\n",
      "r2 score related to cluster centre: 0.82\n"
     ]
    },
    {
     "data": {
      "application/vnd.jupyter.widget-view+json": {
       "model_id": "c8f25d66bac44eef9f3d16345e846519",
       "version_major": 2,
       "version_minor": 0
      },
      "text/plain": [
       "IntProgress(value=0, max=2349)"
      ]
     },
     "metadata": {},
     "output_type": "display_data"
    },
    {
     "name": "stdout",
     "output_type": "stream",
     "text": [
      "***VALIDATION***:\n",
      "average correlation: 0.89\n",
      "average r2: -9.34\n",
      "---do_investigations. cluster index : 2---\n"
     ]
    },
    {
     "data": {
      "application/vnd.jupyter.widget-view+json": {
       "model_id": "3bae5eba5c954241bd235018d94b61cd",
       "version_major": 2,
       "version_minor": 0
      },
      "text/plain": [
       "IntProgress(value=0, max=4)"
      ]
     },
     "metadata": {},
     "output_type": "display_data"
    },
    {
     "name": "stdout",
     "output_type": "stream",
     "text": [
      "Epoch 1/20\n",
      "368/368 [==============================] - 3s 5ms/step - loss: 0.2259 - mean_absolute_error: 0.3305 - val_loss: 0.2398 - val_mean_absolute_error: 0.3350\n",
      "Epoch 2/20\n",
      "368/368 [==============================] - 1s 4ms/step - loss: 0.2032 - mean_absolute_error: 0.3068 - val_loss: 0.2451 - val_mean_absolute_error: 0.3474\n",
      "Epoch 3/20\n",
      "368/368 [==============================] - 1s 4ms/step - loss: 0.2030 - mean_absolute_error: 0.3063 - val_loss: 0.2485 - val_mean_absolute_error: 0.3469\n",
      "***TRAIN***:\n",
      "correlation related to cluster centre: 0.90\n",
      "r2 score related to cluster centre: 0.80\n",
      "***VALIDATION***:\n",
      "correlation related to cluster centre: 0.90\n",
      "r2 score related to cluster centre: 0.81\n"
     ]
    },
    {
     "data": {
      "application/vnd.jupyter.widget-view+json": {
       "model_id": "f8af58f5a20e48758910b2bf45bbf3b5",
       "version_major": 2,
       "version_minor": 0
      },
      "text/plain": [
       "IntProgress(value=0, max=4)"
      ]
     },
     "metadata": {},
     "output_type": "display_data"
    },
    {
     "name": "stdout",
     "output_type": "stream",
     "text": [
      "***VALIDATION***:\n",
      "average correlation: 0.90\n",
      "average r2: 0.80\n",
      "---do_investigations. cluster index : 3---\n"
     ]
    },
    {
     "data": {
      "application/vnd.jupyter.widget-view+json": {
       "model_id": "3d7330e683ca46db804f17014d29e4c8",
       "version_major": 2,
       "version_minor": 0
      },
      "text/plain": [
       "IntProgress(value=0, max=3)"
      ]
     },
     "metadata": {},
     "output_type": "display_data"
    },
    {
     "name": "stdout",
     "output_type": "stream",
     "text": [
      "Epoch 1/20\n",
      "368/368 [==============================] - 3s 5ms/step - loss: 0.2939 - mean_absolute_error: 0.2582 - val_loss: 0.0075 - val_mean_absolute_error: 0.0728\n",
      "Epoch 2/20\n",
      "368/368 [==============================] - 1s 4ms/step - loss: 0.2556 - mean_absolute_error: 0.2335 - val_loss: 0.0072 - val_mean_absolute_error: 0.0709\n",
      "Epoch 3/20\n",
      "368/368 [==============================] - 1s 4ms/step - loss: 0.2540 - mean_absolute_error: 0.2326 - val_loss: 0.0100 - val_mean_absolute_error: 0.0879\n",
      "Epoch 4/20\n",
      "368/368 [==============================] - 1s 4ms/step - loss: 0.2541 - mean_absolute_error: 0.2330 - val_loss: 0.0144 - val_mean_absolute_error: 0.1092\n",
      "***TRAIN***:\n",
      "correlation related to cluster centre: 0.86\n",
      "r2 score related to cluster centre: 0.74\n",
      "***VALIDATION***:\n",
      "correlation related to cluster centre: 0.88\n",
      "r2 score related to cluster centre: 0.26\n"
     ]
    },
    {
     "data": {
      "application/vnd.jupyter.widget-view+json": {
       "model_id": "df6186bf3e264fc5842673e26b68be37",
       "version_major": 2,
       "version_minor": 0
      },
      "text/plain": [
       "IntProgress(value=0, max=3)"
      ]
     },
     "metadata": {},
     "output_type": "display_data"
    },
    {
     "name": "stdout",
     "output_type": "stream",
     "text": [
      "***VALIDATION***:\n",
      "average correlation: 0.89\n",
      "average r2: -0.38\n",
      "---do_investigations. cluster index : 4---\n"
     ]
    },
    {
     "data": {
      "application/vnd.jupyter.widget-view+json": {
       "model_id": "7c9357defb454376884030cea0387e90",
       "version_major": 2,
       "version_minor": 0
      },
      "text/plain": [
       "IntProgress(value=0, max=1)"
      ]
     },
     "metadata": {},
     "output_type": "display_data"
    },
    {
     "name": "stdout",
     "output_type": "stream",
     "text": [
      "Epoch 1/20\n",
      "368/368 [==============================] - 3s 5ms/step - loss: 0.1949 - mean_absolute_error: 0.3058 - val_loss: 0.1833 - val_mean_absolute_error: 0.2923\n",
      "Epoch 2/20\n",
      "368/368 [==============================] - 1s 4ms/step - loss: 0.1679 - mean_absolute_error: 0.2818 - val_loss: 0.1843 - val_mean_absolute_error: 0.2927\n",
      "Epoch 3/20\n",
      "368/368 [==============================] - 1s 4ms/step - loss: 0.1676 - mean_absolute_error: 0.2812 - val_loss: 0.1790 - val_mean_absolute_error: 0.2990\n",
      "Epoch 4/20\n",
      "368/368 [==============================] - 1s 4ms/step - loss: 0.1664 - mean_absolute_error: 0.2800 - val_loss: 0.1805 - val_mean_absolute_error: 0.2983\n",
      "Epoch 5/20\n",
      "368/368 [==============================] - 1s 4ms/step - loss: 0.1664 - mean_absolute_error: 0.2798 - val_loss: 0.1790 - val_mean_absolute_error: 0.2971\n",
      "***TRAIN***:\n",
      "correlation related to cluster centre: 0.91\n",
      "r2 score related to cluster centre: 0.84\n",
      "***VALIDATION***:\n",
      "correlation related to cluster centre: 0.91\n",
      "r2 score related to cluster centre: 0.82\n"
     ]
    },
    {
     "data": {
      "application/vnd.jupyter.widget-view+json": {
       "model_id": "2eb2207231dd4f179326cad3ff399876",
       "version_major": 2,
       "version_minor": 0
      },
      "text/plain": [
       "IntProgress(value=0, max=1)"
      ]
     },
     "metadata": {},
     "output_type": "display_data"
    },
    {
     "name": "stdout",
     "output_type": "stream",
     "text": [
      "***VALIDATION***:\n",
      "average correlation: 0.91\n",
      "average r2: 0.82\n",
      "weighted_average_correlation: 0.90\n",
      "weighted_average_r2_score: 0.81\n",
      "bad clusters rate: 1.00%\n",
      "------------------------------------------------------\n"
     ]
    }
   ],
   "source": [
    "first_path = r\"C:\\Coding\\final-qualifying-work_2023-2024\\ClusteringCpp\\output\\mst 5.txt\"\n",
    "second_path = r\"C:\\Coding\\final-qualifying-work_2023-2024\\ClusteringCpp\\output\\mst 15.txt\"\n",
    "third_path = r\"C:\\Coding\\final-qualifying-work_2023-2024\\ClusteringCpp\\output\\mst 30.txt\"\n",
    "fourth_path = r\"C:\\Coding\\final-qualifying-work_2023-2024\\ClusteringCpp\\output\\mst 60.txt\"\n",
    "\n",
    "output_file = open(\"computational-experiments-output-mst-1.txt\", \"a\")\n",
    "\n",
    "selected_path = first_path\n",
    "\n",
    "print('------------------------------------------------------')\n",
    "output_file.write('------------------------------------------------------\\n')\n",
    "\n",
    "print(f\"rnn {os.path.split(selected_path)[-1]}\")\n",
    "output_file.write(f\"rnn {os.path.split(selected_path)[-1]}\\n\")\n",
    "show_results(rnn_model, get_clusters(selected_path), CONV_WIDTH)\n",
    "\n",
    "print('------------------------------------------------------')\n",
    "output_file.write('------------------------------------------------------\\n')\n",
    "\n",
    "output_file.close()"
   ]
  },
  {
   "cell_type": "code",
   "execution_count": 22,
   "id": "24d19556-5646-45dd-b8bf-07d68f1d812d",
   "metadata": {},
   "outputs": [
    {
     "name": "stdout",
     "output_type": "stream",
     "text": [
      "------------------------------------------------------\n",
      "rnn mst 15.txt\n",
      "---do_investigations. cluster index : 0---\n"
     ]
    },
    {
     "data": {
      "application/vnd.jupyter.widget-view+json": {
       "model_id": "f5845b57ce974626b794c0b0af0850c5",
       "version_major": 2,
       "version_minor": 0
      },
      "text/plain": [
       "IntProgress(value=0, max=5318)"
      ]
     },
     "metadata": {},
     "output_type": "display_data"
    },
    {
     "name": "stdout",
     "output_type": "stream",
     "text": [
      "Epoch 1/20\n",
      "368/368 [==============================] - 3s 4ms/step - loss: 0.2384 - mean_absolute_error: 0.3117 - val_loss: 0.2172 - val_mean_absolute_error: 0.2972\n",
      "Epoch 2/20\n",
      "368/368 [==============================] - 1s 4ms/step - loss: 0.2109 - mean_absolute_error: 0.2938 - val_loss: 0.2109 - val_mean_absolute_error: 0.2997\n",
      "Epoch 3/20\n",
      "368/368 [==============================] - 1s 4ms/step - loss: 0.2083 - mean_absolute_error: 0.2914 - val_loss: 0.2030 - val_mean_absolute_error: 0.2877\n",
      "Epoch 4/20\n",
      "368/368 [==============================] - 1s 4ms/step - loss: 0.2089 - mean_absolute_error: 0.2914 - val_loss: 0.2073 - val_mean_absolute_error: 0.2889\n",
      "Epoch 5/20\n",
      "368/368 [==============================] - 1s 4ms/step - loss: 0.2082 - mean_absolute_error: 0.2912 - val_loss: 0.2078 - val_mean_absolute_error: 0.3010\n",
      "***TRAIN***:\n",
      "correlation related to cluster centre: 0.89\n",
      "r2 score related to cluster centre: 0.79\n",
      "***VALIDATION***:\n",
      "correlation related to cluster centre: 0.90\n",
      "r2 score related to cluster centre: 0.81\n"
     ]
    },
    {
     "data": {
      "application/vnd.jupyter.widget-view+json": {
       "model_id": "7bfeb8261bdd4fdd853a933e6b785c0d",
       "version_major": 2,
       "version_minor": 0
      },
      "text/plain": [
       "IntProgress(value=0, max=5318)"
      ]
     },
     "metadata": {},
     "output_type": "display_data"
    },
    {
     "name": "stdout",
     "output_type": "stream",
     "text": [
      "***VALIDATION***:\n",
      "average correlation: nan\n",
      "average r2: -100940245241615113171161317376.00\n",
      "---do_investigations. cluster index : 1---\n"
     ]
    },
    {
     "data": {
      "application/vnd.jupyter.widget-view+json": {
       "model_id": "1608157c444a420893c041839d2a9e74",
       "version_major": 2,
       "version_minor": 0
      },
      "text/plain": [
       "IntProgress(value=0, max=66)"
      ]
     },
     "metadata": {},
     "output_type": "display_data"
    },
    {
     "name": "stdout",
     "output_type": "stream",
     "text": [
      "Epoch 1/20\n",
      "368/368 [==============================] - 3s 4ms/step - loss: 0.2551 - mean_absolute_error: 0.3358 - val_loss: 0.1654 - val_mean_absolute_error: 0.2661\n",
      "Epoch 2/20\n",
      "368/368 [==============================] - 1s 3ms/step - loss: 0.2115 - mean_absolute_error: 0.3060 - val_loss: 0.1635 - val_mean_absolute_error: 0.2673\n",
      "Epoch 3/20\n",
      "368/368 [==============================] - 1s 4ms/step - loss: 0.2103 - mean_absolute_error: 0.3038 - val_loss: 0.1648 - val_mean_absolute_error: 0.2664\n",
      "Epoch 4/20\n",
      "368/368 [==============================] - 1s 4ms/step - loss: 0.2106 - mean_absolute_error: 0.3041 - val_loss: 0.1624 - val_mean_absolute_error: 0.2692\n",
      "Epoch 5/20\n",
      "368/368 [==============================] - 1s 4ms/step - loss: 0.2120 - mean_absolute_error: 0.3063 - val_loss: 0.1635 - val_mean_absolute_error: 0.2656\n",
      "Epoch 6/20\n",
      "368/368 [==============================] - 1s 3ms/step - loss: 0.2105 - mean_absolute_error: 0.3036 - val_loss: 0.1652 - val_mean_absolute_error: 0.2739\n",
      "***TRAIN***:\n",
      "correlation related to cluster centre: 0.89\n",
      "r2 score related to cluster centre: 0.79\n",
      "***VALIDATION***:\n",
      "correlation related to cluster centre: 0.91\n",
      "r2 score related to cluster centre: 0.82\n"
     ]
    },
    {
     "data": {
      "application/vnd.jupyter.widget-view+json": {
       "model_id": "125fd82063444b5a975090077b423ed0",
       "version_major": 2,
       "version_minor": 0
      },
      "text/plain": [
       "IntProgress(value=0, max=66)"
      ]
     },
     "metadata": {},
     "output_type": "display_data"
    },
    {
     "name": "stdout",
     "output_type": "stream",
     "text": [
      "***VALIDATION***:\n",
      "average correlation: 0.90\n",
      "average r2: 0.81\n",
      "---do_investigations. cluster index : 2---\n"
     ]
    },
    {
     "data": {
      "application/vnd.jupyter.widget-view+json": {
       "model_id": "06083fdf1ee54bb59374c5523c6352f6",
       "version_major": 2,
       "version_minor": 0
      },
      "text/plain": [
       "IntProgress(value=0, max=107)"
      ]
     },
     "metadata": {},
     "output_type": "display_data"
    },
    {
     "name": "stdout",
     "output_type": "stream",
     "text": [
      "Epoch 1/20\n",
      "368/368 [==============================] - 3s 4ms/step - loss: 0.2481 - mean_absolute_error: 0.3400 - val_loss: 0.1519 - val_mean_absolute_error: 0.2695\n",
      "Epoch 2/20\n",
      "368/368 [==============================] - 1s 4ms/step - loss: 0.2139 - mean_absolute_error: 0.3143 - val_loss: 0.1472 - val_mean_absolute_error: 0.2659\n",
      "Epoch 3/20\n",
      "368/368 [==============================] - 1s 4ms/step - loss: 0.2109 - mean_absolute_error: 0.3117 - val_loss: 0.1468 - val_mean_absolute_error: 0.2614\n",
      "Epoch 4/20\n",
      "368/368 [==============================] - 1s 4ms/step - loss: 0.2107 - mean_absolute_error: 0.3107 - val_loss: 0.1461 - val_mean_absolute_error: 0.2655\n",
      "Epoch 5/20\n",
      "368/368 [==============================] - 1s 3ms/step - loss: 0.2105 - mean_absolute_error: 0.3115 - val_loss: 0.1483 - val_mean_absolute_error: 0.2632\n",
      "Epoch 6/20\n",
      "368/368 [==============================] - 1s 3ms/step - loss: 0.2106 - mean_absolute_error: 0.3103 - val_loss: 0.1460 - val_mean_absolute_error: 0.2650\n",
      "Epoch 7/20\n",
      "368/368 [==============================] - 1s 4ms/step - loss: 0.2088 - mean_absolute_error: 0.3089 - val_loss: 0.1463 - val_mean_absolute_error: 0.2678\n",
      "Epoch 8/20\n",
      "368/368 [==============================] - 1s 4ms/step - loss: 0.2091 - mean_absolute_error: 0.3090 - val_loss: 0.1462 - val_mean_absolute_error: 0.2650\n",
      "***TRAIN***:\n",
      "correlation related to cluster centre: 0.89\n",
      "r2 score related to cluster centre: 0.79\n",
      "***VALIDATION***:\n",
      "correlation related to cluster centre: 0.91\n",
      "r2 score related to cluster centre: 0.82\n"
     ]
    },
    {
     "data": {
      "application/vnd.jupyter.widget-view+json": {
       "model_id": "4aeb5786dbf04101ab297ea91f2d3a68",
       "version_major": 2,
       "version_minor": 0
      },
      "text/plain": [
       "IntProgress(value=0, max=107)"
      ]
     },
     "metadata": {},
     "output_type": "display_data"
    },
    {
     "name": "stdout",
     "output_type": "stream",
     "text": [
      "***VALIDATION***:\n",
      "average correlation: 0.91\n",
      "average r2: 0.82\n",
      "---do_investigations. cluster index : 3---\n"
     ]
    },
    {
     "data": {
      "application/vnd.jupyter.widget-view+json": {
       "model_id": "ccea9100b6bf45519c51fcbcf619953c",
       "version_major": 2,
       "version_minor": 0
      },
      "text/plain": [
       "IntProgress(value=0, max=13)"
      ]
     },
     "metadata": {},
     "output_type": "display_data"
    },
    {
     "name": "stdout",
     "output_type": "stream",
     "text": [
      "Epoch 1/20\n",
      "368/368 [==============================] - 3s 4ms/step - loss: 0.2272 - mean_absolute_error: 0.3308 - val_loss: 0.1790 - val_mean_absolute_error: 0.3004\n",
      "Epoch 2/20\n",
      "368/368 [==============================] - 1s 4ms/step - loss: 0.2078 - mean_absolute_error: 0.3139 - val_loss: 0.1827 - val_mean_absolute_error: 0.2908\n",
      "Epoch 3/20\n",
      "368/368 [==============================] - 1s 4ms/step - loss: 0.2057 - mean_absolute_error: 0.3116 - val_loss: 0.1839 - val_mean_absolute_error: 0.2991\n",
      "***TRAIN***:\n",
      "correlation related to cluster centre: 0.89\n",
      "r2 score related to cluster centre: 0.79\n",
      "***VALIDATION***:\n",
      "correlation related to cluster centre: 0.91\n",
      "r2 score related to cluster centre: 0.82\n"
     ]
    },
    {
     "data": {
      "application/vnd.jupyter.widget-view+json": {
       "model_id": "4393e76a84f84611be608a0525572a79",
       "version_major": 2,
       "version_minor": 0
      },
      "text/plain": [
       "IntProgress(value=0, max=13)"
      ]
     },
     "metadata": {},
     "output_type": "display_data"
    },
    {
     "name": "stdout",
     "output_type": "stream",
     "text": [
      "***VALIDATION***:\n",
      "average correlation: 0.91\n",
      "average r2: 0.81\n",
      "---do_investigations. cluster index : 4---\n"
     ]
    },
    {
     "data": {
      "application/vnd.jupyter.widget-view+json": {
       "model_id": "5cd615aebdac40e6b084a88c9fe149ed",
       "version_major": 2,
       "version_minor": 0
      },
      "text/plain": [
       "IntProgress(value=0, max=2143)"
      ]
     },
     "metadata": {},
     "output_type": "display_data"
    },
    {
     "name": "stdout",
     "output_type": "stream",
     "text": [
      "Epoch 1/20\n",
      "368/368 [==============================] - 3s 4ms/step - loss: 0.2293 - mean_absolute_error: 0.3326 - val_loss: 0.1666 - val_mean_absolute_error: 0.2809\n",
      "Epoch 2/20\n",
      "368/368 [==============================] - 1s 4ms/step - loss: 0.2001 - mean_absolute_error: 0.3102 - val_loss: 0.1801 - val_mean_absolute_error: 0.3082\n",
      "Epoch 3/20\n",
      "368/368 [==============================] - 1s 4ms/step - loss: 0.2002 - mean_absolute_error: 0.3100 - val_loss: 0.1677 - val_mean_absolute_error: 0.2834\n",
      "***TRAIN***:\n",
      "correlation related to cluster centre: 0.90\n",
      "r2 score related to cluster centre: 0.80\n",
      "***VALIDATION***:\n",
      "correlation related to cluster centre: 0.91\n",
      "r2 score related to cluster centre: 0.82\n"
     ]
    },
    {
     "data": {
      "application/vnd.jupyter.widget-view+json": {
       "model_id": "80885adc01544ebe83261d20da138e4b",
       "version_major": 2,
       "version_minor": 0
      },
      "text/plain": [
       "IntProgress(value=0, max=2143)"
      ]
     },
     "metadata": {},
     "output_type": "display_data"
    },
    {
     "name": "stdout",
     "output_type": "stream",
     "text": [
      "***VALIDATION***:\n",
      "average correlation: 0.89\n",
      "average r2: -5.00\n",
      "---do_investigations. cluster index : 5---\n"
     ]
    },
    {
     "data": {
      "application/vnd.jupyter.widget-view+json": {
       "model_id": "92c629e4104a4c9288de6af4928682b5",
       "version_major": 2,
       "version_minor": 0
      },
      "text/plain": [
       "IntProgress(value=0, max=5)"
      ]
     },
     "metadata": {},
     "output_type": "display_data"
    },
    {
     "name": "stdout",
     "output_type": "stream",
     "text": [
      "Epoch 1/20\n",
      "368/368 [==============================] - 3s 4ms/step - loss: 0.2374 - mean_absolute_error: 0.3228 - val_loss: 0.2386 - val_mean_absolute_error: 0.3247\n",
      "Epoch 2/20\n",
      "368/368 [==============================] - 1s 4ms/step - loss: 0.2120 - mean_absolute_error: 0.3029 - val_loss: 0.2506 - val_mean_absolute_error: 0.3347\n",
      "Epoch 3/20\n",
      "368/368 [==============================] - 1s 4ms/step - loss: 0.2106 - mean_absolute_error: 0.3006 - val_loss: 0.2329 - val_mean_absolute_error: 0.3200\n",
      "Epoch 4/20\n",
      "368/368 [==============================] - 1s 4ms/step - loss: 0.2095 - mean_absolute_error: 0.2987 - val_loss: 0.2435 - val_mean_absolute_error: 0.3394\n",
      "Epoch 5/20\n",
      "368/368 [==============================] - 1s 4ms/step - loss: 0.2094 - mean_absolute_error: 0.2992 - val_loss: 0.2332 - val_mean_absolute_error: 0.3247\n",
      "***TRAIN***:\n",
      "correlation related to cluster centre: 0.89\n",
      "r2 score related to cluster centre: 0.79\n",
      "***VALIDATION***:\n",
      "correlation related to cluster centre: 0.90\n",
      "r2 score related to cluster centre: 0.82\n"
     ]
    },
    {
     "data": {
      "application/vnd.jupyter.widget-view+json": {
       "model_id": "56e1a9643d7e414c9408277bfa484360",
       "version_major": 2,
       "version_minor": 0
      },
      "text/plain": [
       "IntProgress(value=0, max=5)"
      ]
     },
     "metadata": {},
     "output_type": "display_data"
    },
    {
     "name": "stdout",
     "output_type": "stream",
     "text": [
      "***VALIDATION***:\n",
      "average correlation: 0.90\n",
      "average r2: 0.81\n",
      "---do_investigations. cluster index : 6---\n"
     ]
    },
    {
     "data": {
      "application/vnd.jupyter.widget-view+json": {
       "model_id": "e3890126fe7c46348bca3a8611622c3c",
       "version_major": 2,
       "version_minor": 0
      },
      "text/plain": [
       "IntProgress(value=0, max=9)"
      ]
     },
     "metadata": {},
     "output_type": "display_data"
    },
    {
     "name": "stdout",
     "output_type": "stream",
     "text": [
      "Epoch 1/20\n",
      "368/368 [==============================] - 3s 4ms/step - loss: 0.2170 - mean_absolute_error: 0.3217 - val_loss: 0.1616 - val_mean_absolute_error: 0.2764\n",
      "Epoch 2/20\n",
      "368/368 [==============================] - 1s 4ms/step - loss: 0.1882 - mean_absolute_error: 0.2993 - val_loss: 0.1608 - val_mean_absolute_error: 0.2795\n",
      "Epoch 3/20\n",
      "368/368 [==============================] - 1s 4ms/step - loss: 0.1889 - mean_absolute_error: 0.2990 - val_loss: 0.1598 - val_mean_absolute_error: 0.2790\n",
      "Epoch 4/20\n",
      "368/368 [==============================] - 1s 4ms/step - loss: 0.1879 - mean_absolute_error: 0.2990 - val_loss: 0.1650 - val_mean_absolute_error: 0.2742\n",
      "Epoch 5/20\n",
      "368/368 [==============================] - 1s 4ms/step - loss: 0.1874 - mean_absolute_error: 0.2982 - val_loss: 0.1641 - val_mean_absolute_error: 0.2787\n",
      "***TRAIN***:\n",
      "correlation related to cluster centre: 0.90\n",
      "r2 score related to cluster centre: 0.81\n",
      "***VALIDATION***:\n",
      "correlation related to cluster centre: 0.91\n",
      "r2 score related to cluster centre: 0.82\n"
     ]
    },
    {
     "data": {
      "application/vnd.jupyter.widget-view+json": {
       "model_id": "b551a999cdcf459496e4e30bd5a5cde0",
       "version_major": 2,
       "version_minor": 0
      },
      "text/plain": [
       "IntProgress(value=0, max=9)"
      ]
     },
     "metadata": {},
     "output_type": "display_data"
    },
    {
     "name": "stdout",
     "output_type": "stream",
     "text": [
      "***VALIDATION***:\n",
      "average correlation: 0.91\n",
      "average r2: 0.82\n",
      "---do_investigations. cluster index : 7---\n"
     ]
    },
    {
     "data": {
      "application/vnd.jupyter.widget-view+json": {
       "model_id": "e0878ff938544620951d84285bed3a56",
       "version_major": 2,
       "version_minor": 0
      },
      "text/plain": [
       "IntProgress(value=0, max=7)"
      ]
     },
     "metadata": {},
     "output_type": "display_data"
    },
    {
     "name": "stdout",
     "output_type": "stream",
     "text": [
      "Epoch 1/20\n",
      "368/368 [==============================] - 3s 4ms/step - loss: 0.1923 - mean_absolute_error: 0.2990 - val_loss: 0.2004 - val_mean_absolute_error: 0.3214\n",
      "Epoch 2/20\n",
      "368/368 [==============================] - 1s 4ms/step - loss: 0.1635 - mean_absolute_error: 0.2757 - val_loss: 0.2046 - val_mean_absolute_error: 0.3202\n",
      "Epoch 3/20\n",
      "368/368 [==============================] - 1s 4ms/step - loss: 0.1625 - mean_absolute_error: 0.2749 - val_loss: 0.2024 - val_mean_absolute_error: 0.3178\n",
      "***TRAIN***:\n",
      "correlation related to cluster centre: 0.92\n",
      "r2 score related to cluster centre: 0.84\n",
      "***VALIDATION***:\n",
      "correlation related to cluster centre: 0.91\n",
      "r2 score related to cluster centre: 0.83\n"
     ]
    },
    {
     "data": {
      "application/vnd.jupyter.widget-view+json": {
       "model_id": "fa195ff4210846498fffae6038f99a03",
       "version_major": 2,
       "version_minor": 0
      },
      "text/plain": [
       "IntProgress(value=0, max=7)"
      ]
     },
     "metadata": {},
     "output_type": "display_data"
    },
    {
     "name": "stdout",
     "output_type": "stream",
     "text": [
      "***VALIDATION***:\n",
      "average correlation: 0.91\n",
      "average r2: 0.83\n",
      "---do_investigations. cluster index : 8---\n"
     ]
    },
    {
     "data": {
      "application/vnd.jupyter.widget-view+json": {
       "model_id": "0af89c904f504faa92f35c0c8bde694d",
       "version_major": 2,
       "version_minor": 0
      },
      "text/plain": [
       "IntProgress(value=0, max=1)"
      ]
     },
     "metadata": {},
     "output_type": "display_data"
    },
    {
     "name": "stdout",
     "output_type": "stream",
     "text": [
      "Epoch 1/20\n",
      "368/368 [==============================] - 3s 4ms/step - loss: 0.2733 - mean_absolute_error: 0.3517 - val_loss: 0.2418 - val_mean_absolute_error: 0.3482\n",
      "Epoch 2/20\n",
      "368/368 [==============================] - 1s 4ms/step - loss: 0.2452 - mean_absolute_error: 0.3301 - val_loss: 0.2333 - val_mean_absolute_error: 0.3396\n",
      "Epoch 3/20\n",
      "368/368 [==============================] - 1s 4ms/step - loss: 0.2420 - mean_absolute_error: 0.3271 - val_loss: 0.2315 - val_mean_absolute_error: 0.3395\n",
      "Epoch 4/20\n",
      "368/368 [==============================] - 1s 4ms/step - loss: 0.2399 - mean_absolute_error: 0.3254 - val_loss: 0.2330 - val_mean_absolute_error: 0.3434\n",
      "Epoch 5/20\n",
      "368/368 [==============================] - 1s 4ms/step - loss: 0.2411 - mean_absolute_error: 0.3266 - val_loss: 0.2284 - val_mean_absolute_error: 0.3397\n",
      "Epoch 6/20\n",
      "368/368 [==============================] - 1s 4ms/step - loss: 0.2409 - mean_absolute_error: 0.3266 - val_loss: 0.2324 - val_mean_absolute_error: 0.3396\n",
      "Epoch 7/20\n",
      "368/368 [==============================] - 1s 4ms/step - loss: 0.2395 - mean_absolute_error: 0.3259 - val_loss: 0.2255 - val_mean_absolute_error: 0.3255\n",
      "Epoch 8/20\n",
      "368/368 [==============================] - 1s 4ms/step - loss: 0.2398 - mean_absolute_error: 0.3257 - val_loss: 0.2254 - val_mean_absolute_error: 0.3339\n",
      "Epoch 9/20\n",
      "368/368 [==============================] - 1s 4ms/step - loss: 0.2404 - mean_absolute_error: 0.3258 - val_loss: 0.2272 - val_mean_absolute_error: 0.3314\n",
      "Epoch 10/20\n",
      "368/368 [==============================] - 1s 4ms/step - loss: 0.2379 - mean_absolute_error: 0.3238 - val_loss: 0.2298 - val_mean_absolute_error: 0.3390\n",
      "***TRAIN***:\n",
      "correlation related to cluster centre: 0.87\n",
      "r2 score related to cluster centre: 0.76\n",
      "***VALIDATION***:\n",
      "correlation related to cluster centre: 0.89\n",
      "r2 score related to cluster centre: 0.78\n"
     ]
    },
    {
     "data": {
      "application/vnd.jupyter.widget-view+json": {
       "model_id": "5c406edabad349188e9846e6895d56c6",
       "version_major": 2,
       "version_minor": 0
      },
      "text/plain": [
       "IntProgress(value=0, max=1)"
      ]
     },
     "metadata": {},
     "output_type": "display_data"
    },
    {
     "name": "stdout",
     "output_type": "stream",
     "text": [
      "***VALIDATION***:\n",
      "average correlation: 0.89\n",
      "average r2: 0.78\n",
      "---do_investigations. cluster index : 9---\n"
     ]
    },
    {
     "data": {
      "application/vnd.jupyter.widget-view+json": {
       "model_id": "6bf5ed2213aa4e16936673dea00b5fa1",
       "version_major": 2,
       "version_minor": 0
      },
      "text/plain": [
       "IntProgress(value=0, max=3)"
      ]
     },
     "metadata": {},
     "output_type": "display_data"
    },
    {
     "name": "stdout",
     "output_type": "stream",
     "text": [
      "Epoch 1/20\n",
      "368/368 [==============================] - 3s 4ms/step - loss: 0.2249 - mean_absolute_error: 0.3258 - val_loss: 0.2491 - val_mean_absolute_error: 0.3548\n",
      "Epoch 2/20\n",
      "368/368 [==============================] - 1s 4ms/step - loss: 0.2004 - mean_absolute_error: 0.3057 - val_loss: 0.2496 - val_mean_absolute_error: 0.3497\n",
      "Epoch 3/20\n",
      "368/368 [==============================] - 1s 4ms/step - loss: 0.1994 - mean_absolute_error: 0.3047 - val_loss: 0.2603 - val_mean_absolute_error: 0.3617\n",
      "***TRAIN***:\n",
      "correlation related to cluster centre: 0.90\n",
      "r2 score related to cluster centre: 0.80\n",
      "***VALIDATION***:\n",
      "correlation related to cluster centre: 0.91\n",
      "r2 score related to cluster centre: 0.81\n"
     ]
    },
    {
     "data": {
      "application/vnd.jupyter.widget-view+json": {
       "model_id": "193dc507bcf34c19aff13fc2fc7bbe76",
       "version_major": 2,
       "version_minor": 0
      },
      "text/plain": [
       "IntProgress(value=0, max=3)"
      ]
     },
     "metadata": {},
     "output_type": "display_data"
    },
    {
     "name": "stdout",
     "output_type": "stream",
     "text": [
      "***VALIDATION***:\n",
      "average correlation: 0.90\n",
      "average r2: 0.80\n",
      "---do_investigations. cluster index : 10---\n"
     ]
    },
    {
     "data": {
      "application/vnd.jupyter.widget-view+json": {
       "model_id": "b563dfc3661f43bdbd47f326214fe47d",
       "version_major": 2,
       "version_minor": 0
      },
      "text/plain": [
       "IntProgress(value=0, max=2)"
      ]
     },
     "metadata": {},
     "output_type": "display_data"
    },
    {
     "name": "stdout",
     "output_type": "stream",
     "text": [
      "Epoch 1/20\n",
      "368/368 [==============================] - 3s 4ms/step - loss: 0.2560 - mean_absolute_error: 0.3247 - val_loss: 0.0708 - val_mean_absolute_error: 0.1802\n",
      "Epoch 2/20\n",
      "368/368 [==============================] - 1s 3ms/step - loss: 0.2071 - mean_absolute_error: 0.2901 - val_loss: 0.0702 - val_mean_absolute_error: 0.1864\n",
      "Epoch 3/20\n",
      "368/368 [==============================] - 1s 4ms/step - loss: 0.2075 - mean_absolute_error: 0.2907 - val_loss: 0.0702 - val_mean_absolute_error: 0.1797\n",
      "Epoch 4/20\n",
      "368/368 [==============================] - 1s 4ms/step - loss: 0.2064 - mean_absolute_error: 0.2910 - val_loss: 0.0701 - val_mean_absolute_error: 0.1779\n",
      "Epoch 5/20\n",
      "368/368 [==============================] - 1s 4ms/step - loss: 0.2049 - mean_absolute_error: 0.2889 - val_loss: 0.0696 - val_mean_absolute_error: 0.1767\n",
      "Epoch 6/20\n",
      "368/368 [==============================] - 1s 3ms/step - loss: 0.2043 - mean_absolute_error: 0.2880 - val_loss: 0.0699 - val_mean_absolute_error: 0.1793\n",
      "Epoch 7/20\n",
      "368/368 [==============================] - 1s 3ms/step - loss: 0.2056 - mean_absolute_error: 0.2894 - val_loss: 0.0711 - val_mean_absolute_error: 0.1793\n",
      "***TRAIN***:\n",
      "correlation related to cluster centre: 0.89\n",
      "r2 score related to cluster centre: 0.79\n",
      "***VALIDATION***:\n",
      "correlation related to cluster centre: 0.91\n",
      "r2 score related to cluster centre: 0.83\n"
     ]
    },
    {
     "data": {
      "application/vnd.jupyter.widget-view+json": {
       "model_id": "69677ad9332c4458802b096742a406bb",
       "version_major": 2,
       "version_minor": 0
      },
      "text/plain": [
       "IntProgress(value=0, max=2)"
      ]
     },
     "metadata": {},
     "output_type": "display_data"
    },
    {
     "name": "stdout",
     "output_type": "stream",
     "text": [
      "***VALIDATION***:\n",
      "average correlation: 0.92\n",
      "average r2: 0.84\n",
      "---do_investigations. cluster index : 11---\n"
     ]
    },
    {
     "data": {
      "application/vnd.jupyter.widget-view+json": {
       "model_id": "8d5fce97944d43fda85363ffedb74f89",
       "version_major": 2,
       "version_minor": 0
      },
      "text/plain": [
       "IntProgress(value=0, max=1)"
      ]
     },
     "metadata": {},
     "output_type": "display_data"
    },
    {
     "name": "stdout",
     "output_type": "stream",
     "text": [
      "Epoch 1/20\n",
      "368/368 [==============================] - 3s 4ms/step - loss: 0.2476 - mean_absolute_error: 0.2769 - val_loss: 0.3240 - val_mean_absolute_error: 0.3406\n",
      "Epoch 2/20\n",
      "368/368 [==============================] - 1s 4ms/step - loss: 0.2197 - mean_absolute_error: 0.2576 - val_loss: 0.3220 - val_mean_absolute_error: 0.3477\n",
      "Epoch 3/20\n",
      "368/368 [==============================] - 1s 4ms/step - loss: 0.2178 - mean_absolute_error: 0.2573 - val_loss: 0.3207 - val_mean_absolute_error: 0.3225\n",
      "Epoch 4/20\n",
      "368/368 [==============================] - 1s 4ms/step - loss: 0.2192 - mean_absolute_error: 0.2581 - val_loss: 0.3198 - val_mean_absolute_error: 0.3318\n",
      "Epoch 5/20\n",
      "368/368 [==============================] - 1s 4ms/step - loss: 0.2164 - mean_absolute_error: 0.2548 - val_loss: 0.3166 - val_mean_absolute_error: 0.3312\n",
      "Epoch 6/20\n",
      "368/368 [==============================] - 1s 4ms/step - loss: 0.2157 - mean_absolute_error: 0.2542 - val_loss: 0.3189 - val_mean_absolute_error: 0.3228\n",
      "Epoch 7/20\n",
      "368/368 [==============================] - 1s 4ms/step - loss: 0.2156 - mean_absolute_error: 0.2541 - val_loss: 0.3225 - val_mean_absolute_error: 0.3354\n",
      "***TRAIN***:\n",
      "correlation related to cluster centre: 0.89\n",
      "r2 score related to cluster centre: 0.78\n",
      "***VALIDATION***:\n",
      "correlation related to cluster centre: 0.89\n",
      "r2 score related to cluster centre: 0.78\n"
     ]
    },
    {
     "data": {
      "application/vnd.jupyter.widget-view+json": {
       "model_id": "ebd5d84bc12443468635a343df0eeda8",
       "version_major": 2,
       "version_minor": 0
      },
      "text/plain": [
       "IntProgress(value=0, max=1)"
      ]
     },
     "metadata": {},
     "output_type": "display_data"
    },
    {
     "name": "stdout",
     "output_type": "stream",
     "text": [
      "***VALIDATION***:\n",
      "average correlation: 0.89\n",
      "average r2: 0.78\n",
      "---do_investigations. cluster index : 12---\n"
     ]
    },
    {
     "data": {
      "application/vnd.jupyter.widget-view+json": {
       "model_id": "5ea015abe24f4f498f9fe97f08a7e205",
       "version_major": 2,
       "version_minor": 0
      },
      "text/plain": [
       "IntProgress(value=0, max=3)"
      ]
     },
     "metadata": {},
     "output_type": "display_data"
    },
    {
     "name": "stdout",
     "output_type": "stream",
     "text": [
      "Epoch 1/20\n",
      "368/368 [==============================] - 3s 4ms/step - loss: 0.2821 - mean_absolute_error: 0.2515 - val_loss: 0.0036 - val_mean_absolute_error: 0.0339\n",
      "Epoch 2/20\n",
      "368/368 [==============================] - 1s 4ms/step - loss: 0.2562 - mean_absolute_error: 0.2348 - val_loss: 0.0039 - val_mean_absolute_error: 0.0376\n",
      "Epoch 3/20\n",
      "368/368 [==============================] - 1s 4ms/step - loss: 0.2537 - mean_absolute_error: 0.2318 - val_loss: 0.0038 - val_mean_absolute_error: 0.0389\n",
      "***TRAIN***:\n",
      "correlation related to cluster centre: 0.87\n",
      "r2 score related to cluster centre: 0.75\n",
      "***VALIDATION***:\n",
      "correlation related to cluster centre: 0.91\n",
      "r2 score related to cluster centre: 0.81\n"
     ]
    },
    {
     "data": {
      "application/vnd.jupyter.widget-view+json": {
       "model_id": "725851d1fa3a45d2a3ba75905a23e2b6",
       "version_major": 2,
       "version_minor": 0
      },
      "text/plain": [
       "IntProgress(value=0, max=3)"
      ]
     },
     "metadata": {},
     "output_type": "display_data"
    },
    {
     "name": "stdout",
     "output_type": "stream",
     "text": [
      "***VALIDATION***:\n",
      "average correlation: 0.91\n",
      "average r2: 0.77\n",
      "---do_investigations. cluster index : 13---\n"
     ]
    },
    {
     "data": {
      "application/vnd.jupyter.widget-view+json": {
       "model_id": "c1740f8fd24d4b879ea1bb95cb74c77c",
       "version_major": 2,
       "version_minor": 0
      },
      "text/plain": [
       "IntProgress(value=0, max=1)"
      ]
     },
     "metadata": {},
     "output_type": "display_data"
    },
    {
     "name": "stdout",
     "output_type": "stream",
     "text": [
      "Epoch 1/20\n",
      "368/368 [==============================] - 3s 4ms/step - loss: 0.1831 - mean_absolute_error: 0.2749 - val_loss: 0.0971 - val_mean_absolute_error: 0.2005\n",
      "Epoch 2/20\n",
      "368/368 [==============================] - 1s 4ms/step - loss: 0.1483 - mean_absolute_error: 0.2502 - val_loss: 0.0985 - val_mean_absolute_error: 0.2062\n",
      "Epoch 3/20\n",
      "368/368 [==============================] - 1s 4ms/step - loss: 0.1480 - mean_absolute_error: 0.2499 - val_loss: 0.0978 - val_mean_absolute_error: 0.2031\n",
      "***TRAIN***:\n",
      "correlation related to cluster centre: 0.92\n",
      "r2 score related to cluster centre: 0.85\n",
      "***VALIDATION***:\n",
      "correlation related to cluster centre: 0.92\n",
      "r2 score related to cluster centre: 0.85\n"
     ]
    },
    {
     "data": {
      "application/vnd.jupyter.widget-view+json": {
       "model_id": "a91dde74a2494c1db4a5ac0785ccde6b",
       "version_major": 2,
       "version_minor": 0
      },
      "text/plain": [
       "IntProgress(value=0, max=1)"
      ]
     },
     "metadata": {},
     "output_type": "display_data"
    },
    {
     "name": "stdout",
     "output_type": "stream",
     "text": [
      "***VALIDATION***:\n",
      "average correlation: 0.92\n",
      "average r2: 0.85\n",
      "---do_investigations. cluster index : 14---\n"
     ]
    },
    {
     "data": {
      "application/vnd.jupyter.widget-view+json": {
       "model_id": "9aaad264053a4972b8ebec6904d8d804",
       "version_major": 2,
       "version_minor": 0
      },
      "text/plain": [
       "IntProgress(value=0, max=1)"
      ]
     },
     "metadata": {},
     "output_type": "display_data"
    },
    {
     "name": "stdout",
     "output_type": "stream",
     "text": [
      "Epoch 1/20\n",
      "368/368 [==============================] - 3s 4ms/step - loss: 0.1931 - mean_absolute_error: 0.3044 - val_loss: 0.1797 - val_mean_absolute_error: 0.2912\n",
      "Epoch 2/20\n",
      "368/368 [==============================] - 1s 4ms/step - loss: 0.1677 - mean_absolute_error: 0.2821 - val_loss: 0.1793 - val_mean_absolute_error: 0.2930\n",
      "Epoch 3/20\n",
      "368/368 [==============================] - 1s 4ms/step - loss: 0.1677 - mean_absolute_error: 0.2822 - val_loss: 0.1804 - val_mean_absolute_error: 0.2986\n",
      "Epoch 4/20\n",
      "368/368 [==============================] - 1s 4ms/step - loss: 0.1672 - mean_absolute_error: 0.2812 - val_loss: 0.1780 - val_mean_absolute_error: 0.2937\n",
      "Epoch 5/20\n",
      "368/368 [==============================] - 1s 4ms/step - loss: 0.1675 - mean_absolute_error: 0.2826 - val_loss: 0.1791 - val_mean_absolute_error: 0.3000\n",
      "Epoch 6/20\n",
      "368/368 [==============================] - 1s 4ms/step - loss: 0.1667 - mean_absolute_error: 0.2805 - val_loss: 0.1782 - val_mean_absolute_error: 0.2947\n",
      "***TRAIN***:\n",
      "correlation related to cluster centre: 0.91\n",
      "r2 score related to cluster centre: 0.84\n",
      "***VALIDATION***:\n",
      "correlation related to cluster centre: 0.91\n",
      "r2 score related to cluster centre: 0.82\n"
     ]
    },
    {
     "data": {
      "application/vnd.jupyter.widget-view+json": {
       "model_id": "16f8ab9bf8c84eb9a70e61104bdcaaad",
       "version_major": 2,
       "version_minor": 0
      },
      "text/plain": [
       "IntProgress(value=0, max=1)"
      ]
     },
     "metadata": {},
     "output_type": "display_data"
    },
    {
     "name": "stdout",
     "output_type": "stream",
     "text": [
      "***VALIDATION***:\n",
      "average correlation: 0.91\n",
      "average r2: 0.82\n",
      "weighted_average_correlation: 0.91\n",
      "weighted_average_r2_score: 0.82\n",
      "bad clusters rate: 0.97%\n",
      "------------------------------------------------------\n"
     ]
    }
   ],
   "source": [
    "first_path = r\"C:\\Coding\\final-qualifying-work_2023-2024\\ClusteringCpp\\output\\mst 5.txt\"\n",
    "second_path = r\"C:\\Coding\\final-qualifying-work_2023-2024\\ClusteringCpp\\output\\mst 15.txt\"\n",
    "third_path = r\"C:\\Coding\\final-qualifying-work_2023-2024\\ClusteringCpp\\output\\mst 30.txt\"\n",
    "fourth_path = r\"C:\\Coding\\final-qualifying-work_2023-2024\\ClusteringCpp\\output\\mst 60.txt\"\n",
    "\n",
    "output_file = open(\"computational-experiments-output-mst-1.txt\", \"a\")\n",
    "\n",
    "selected_path = second_path\n",
    "\n",
    "print('------------------------------------------------------')\n",
    "output_file.write('------------------------------------------------------\\n')\n",
    "\n",
    "print(f\"rnn {os.path.split(selected_path)[-1]}\")\n",
    "output_file.write(f\"rnn {os.path.split(selected_path)[-1]}\\n\")\n",
    "show_results(rnn_model, get_clusters(selected_path), CONV_WIDTH)\n",
    "\n",
    "print('------------------------------------------------------')\n",
    "output_file.write('------------------------------------------------------\\n')\n",
    "\n",
    "output_file.close()"
   ]
  },
  {
   "cell_type": "code",
   "execution_count": 23,
   "id": "5b616aa1-228f-483a-bb0b-93208a09ddea",
   "metadata": {},
   "outputs": [
    {
     "name": "stdout",
     "output_type": "stream",
     "text": [
      "------------------------------------------------------\n",
      "rnn mst 30.txt\n",
      "---do_investigations. cluster index : 0---\n"
     ]
    },
    {
     "data": {
      "application/vnd.jupyter.widget-view+json": {
       "model_id": "885fbfcf02314fe4913af2956c28b6b3",
       "version_major": 2,
       "version_minor": 0
      },
      "text/plain": [
       "IntProgress(value=0, max=5195)"
      ]
     },
     "metadata": {},
     "output_type": "display_data"
    },
    {
     "name": "stdout",
     "output_type": "stream",
     "text": [
      "Epoch 1/20\n",
      "368/368 [==============================] - 3s 4ms/step - loss: 0.2420 - mean_absolute_error: 0.3092 - val_loss: 0.2240 - val_mean_absolute_error: 0.2837\n",
      "Epoch 2/20\n",
      "368/368 [==============================] - 1s 4ms/step - loss: 0.2110 - mean_absolute_error: 0.2877 - val_loss: 0.2213 - val_mean_absolute_error: 0.2847\n",
      "Epoch 3/20\n",
      "368/368 [==============================] - 1s 4ms/step - loss: 0.2084 - mean_absolute_error: 0.2862 - val_loss: 0.2238 - val_mean_absolute_error: 0.2853\n",
      "Epoch 4/20\n",
      "368/368 [==============================] - 1s 4ms/step - loss: 0.2093 - mean_absolute_error: 0.2873 - val_loss: 0.2184 - val_mean_absolute_error: 0.2831\n",
      "Epoch 5/20\n",
      "368/368 [==============================] - 1s 4ms/step - loss: 0.2090 - mean_absolute_error: 0.2865 - val_loss: 0.2163 - val_mean_absolute_error: 0.2812\n",
      "Epoch 6/20\n",
      "368/368 [==============================] - 1s 4ms/step - loss: 0.2072 - mean_absolute_error: 0.2845 - val_loss: 0.2294 - val_mean_absolute_error: 0.2865\n",
      "Epoch 7/20\n",
      "368/368 [==============================] - 1s 4ms/step - loss: 0.2063 - mean_absolute_error: 0.2846 - val_loss: 0.2204 - val_mean_absolute_error: 0.2864\n",
      "***TRAIN***:\n",
      "correlation related to cluster centre: 0.89\n",
      "r2 score related to cluster centre: 0.80\n",
      "***VALIDATION***:\n",
      "correlation related to cluster centre: 0.90\n",
      "r2 score related to cluster centre: 0.81\n"
     ]
    },
    {
     "data": {
      "application/vnd.jupyter.widget-view+json": {
       "model_id": "5e44cce637ed4dfba523b9ae5b269dd6",
       "version_major": 2,
       "version_minor": 0
      },
      "text/plain": [
       "IntProgress(value=0, max=5195)"
      ]
     },
     "metadata": {},
     "output_type": "display_data"
    },
    {
     "name": "stdout",
     "output_type": "stream",
     "text": [
      "***VALIDATION***:\n",
      "average correlation: nan\n",
      "average r2: -41595993781287503974478381056.00\n",
      "---do_investigations. cluster index : 1---\n"
     ]
    },
    {
     "data": {
      "application/vnd.jupyter.widget-view+json": {
       "model_id": "dc4022bba8224acfa236265fa002f6fc",
       "version_major": 2,
       "version_minor": 0
      },
      "text/plain": [
       "IntProgress(value=0, max=60)"
      ]
     },
     "metadata": {},
     "output_type": "display_data"
    },
    {
     "name": "stdout",
     "output_type": "stream",
     "text": [
      "Epoch 1/20\n",
      "368/368 [==============================] - 3s 4ms/step - loss: 0.2564 - mean_absolute_error: 0.3424 - val_loss: 0.1863 - val_mean_absolute_error: 0.3035\n",
      "Epoch 2/20\n",
      "368/368 [==============================] - 1s 4ms/step - loss: 0.2060 - mean_absolute_error: 0.3076 - val_loss: 0.1849 - val_mean_absolute_error: 0.3051\n",
      "Epoch 3/20\n",
      "368/368 [==============================] - 1s 4ms/step - loss: 0.2059 - mean_absolute_error: 0.3078 - val_loss: 0.1885 - val_mean_absolute_error: 0.3154\n",
      "Epoch 4/20\n",
      "368/368 [==============================] - 1s 4ms/step - loss: 0.2059 - mean_absolute_error: 0.3083 - val_loss: 0.1842 - val_mean_absolute_error: 0.2999\n",
      "Epoch 5/20\n",
      "368/368 [==============================] - 1s 4ms/step - loss: 0.2051 - mean_absolute_error: 0.3073 - val_loss: 0.1852 - val_mean_absolute_error: 0.2956\n",
      "Epoch 6/20\n",
      "368/368 [==============================] - 1s 4ms/step - loss: 0.2062 - mean_absolute_error: 0.3081 - val_loss: 0.1850 - val_mean_absolute_error: 0.2996\n",
      "***TRAIN***:\n",
      "correlation related to cluster centre: 0.89\n",
      "r2 score related to cluster centre: 0.80\n",
      "***VALIDATION***:\n",
      "correlation related to cluster centre: 0.91\n",
      "r2 score related to cluster centre: 0.82\n"
     ]
    },
    {
     "data": {
      "application/vnd.jupyter.widget-view+json": {
       "model_id": "f60dad0f4f274712b19d0f4f5b6e07ab",
       "version_major": 2,
       "version_minor": 0
      },
      "text/plain": [
       "IntProgress(value=0, max=60)"
      ]
     },
     "metadata": {},
     "output_type": "display_data"
    },
    {
     "name": "stdout",
     "output_type": "stream",
     "text": [
      "***VALIDATION***:\n",
      "average correlation: 0.90\n",
      "average r2: 0.81\n",
      "---do_investigations. cluster index : 2---\n"
     ]
    },
    {
     "data": {
      "application/vnd.jupyter.widget-view+json": {
       "model_id": "53b3b4b48d5b44b0833b1b17584daa26",
       "version_major": 2,
       "version_minor": 0
      },
      "text/plain": [
       "IntProgress(value=0, max=64)"
      ]
     },
     "metadata": {},
     "output_type": "display_data"
    },
    {
     "name": "stdout",
     "output_type": "stream",
     "text": [
      "Epoch 1/20\n",
      "368/368 [==============================] - 3s 4ms/step - loss: 0.2442 - mean_absolute_error: 0.3291 - val_loss: 0.1653 - val_mean_absolute_error: 0.2889\n",
      "Epoch 2/20\n",
      "368/368 [==============================] - 1s 4ms/step - loss: 0.2141 - mean_absolute_error: 0.3079 - val_loss: 0.1765 - val_mean_absolute_error: 0.2993\n",
      "Epoch 3/20\n",
      "368/368 [==============================] - 1s 4ms/step - loss: 0.2112 - mean_absolute_error: 0.3055 - val_loss: 0.1659 - val_mean_absolute_error: 0.2916\n",
      "***TRAIN***:\n",
      "correlation related to cluster centre: 0.89\n",
      "r2 score related to cluster centre: 0.79\n",
      "***VALIDATION***:\n",
      "correlation related to cluster centre: 0.91\n",
      "r2 score related to cluster centre: 0.81\n"
     ]
    },
    {
     "data": {
      "application/vnd.jupyter.widget-view+json": {
       "model_id": "3138608f5f3b4bf7b2e61e6644ef1b72",
       "version_major": 2,
       "version_minor": 0
      },
      "text/plain": [
       "IntProgress(value=0, max=64)"
      ]
     },
     "metadata": {},
     "output_type": "display_data"
    },
    {
     "name": "stdout",
     "output_type": "stream",
     "text": [
      "***VALIDATION***:\n",
      "average correlation: 0.90\n",
      "average r2: 0.81\n",
      "---do_investigations. cluster index : 3---\n"
     ]
    },
    {
     "data": {
      "application/vnd.jupyter.widget-view+json": {
       "model_id": "0b5957003d11499ab1d949b3d56398e2",
       "version_major": 2,
       "version_minor": 0
      },
      "text/plain": [
       "IntProgress(value=0, max=60)"
      ]
     },
     "metadata": {},
     "output_type": "display_data"
    },
    {
     "name": "stdout",
     "output_type": "stream",
     "text": [
      "Epoch 1/20\n",
      "368/368 [==============================] - 3s 4ms/step - loss: 0.2479 - mean_absolute_error: 0.3400 - val_loss: 0.1581 - val_mean_absolute_error: 0.2849\n",
      "Epoch 2/20\n",
      "368/368 [==============================] - 1s 4ms/step - loss: 0.2132 - mean_absolute_error: 0.3113 - val_loss: 0.1575 - val_mean_absolute_error: 0.2870\n",
      "Epoch 3/20\n",
      "368/368 [==============================] - 1s 4ms/step - loss: 0.2149 - mean_absolute_error: 0.3128 - val_loss: 0.1561 - val_mean_absolute_error: 0.2818\n",
      "Epoch 4/20\n",
      "368/368 [==============================] - 1s 4ms/step - loss: 0.2134 - mean_absolute_error: 0.3114 - val_loss: 0.1563 - val_mean_absolute_error: 0.2859\n",
      "Epoch 5/20\n",
      "368/368 [==============================] - 1s 4ms/step - loss: 0.2130 - mean_absolute_error: 0.3119 - val_loss: 0.1530 - val_mean_absolute_error: 0.2678\n",
      "Epoch 6/20\n",
      "368/368 [==============================] - 1s 4ms/step - loss: 0.2106 - mean_absolute_error: 0.3088 - val_loss: 0.1533 - val_mean_absolute_error: 0.2743\n",
      "Epoch 7/20\n",
      "368/368 [==============================] - 1s 4ms/step - loss: 0.2110 - mean_absolute_error: 0.3093 - val_loss: 0.1533 - val_mean_absolute_error: 0.2640\n",
      "***TRAIN***:\n",
      "correlation related to cluster centre: 0.89\n",
      "r2 score related to cluster centre: 0.79\n",
      "***VALIDATION***:\n",
      "correlation related to cluster centre: 0.91\n",
      "r2 score related to cluster centre: 0.82\n"
     ]
    },
    {
     "data": {
      "application/vnd.jupyter.widget-view+json": {
       "model_id": "ba4ea015b1a54469a74941761b0ed9b8",
       "version_major": 2,
       "version_minor": 0
      },
      "text/plain": [
       "IntProgress(value=0, max=60)"
      ]
     },
     "metadata": {},
     "output_type": "display_data"
    },
    {
     "name": "stdout",
     "output_type": "stream",
     "text": [
      "***VALIDATION***:\n",
      "average correlation: 0.90\n",
      "average r2: 0.82\n",
      "---do_investigations. cluster index : 4---\n"
     ]
    },
    {
     "data": {
      "application/vnd.jupyter.widget-view+json": {
       "model_id": "ff25f9759e7148ff8da24ed32450d7d4",
       "version_major": 2,
       "version_minor": 0
      },
      "text/plain": [
       "IntProgress(value=0, max=13)"
      ]
     },
     "metadata": {},
     "output_type": "display_data"
    },
    {
     "name": "stdout",
     "output_type": "stream",
     "text": [
      "Epoch 1/20\n",
      "368/368 [==============================] - 3s 5ms/step - loss: 0.2473 - mean_absolute_error: 0.3458 - val_loss: 0.1851 - val_mean_absolute_error: 0.2948\n",
      "Epoch 2/20\n",
      "368/368 [==============================] - 1s 4ms/step - loss: 0.2085 - mean_absolute_error: 0.3165 - val_loss: 0.1793 - val_mean_absolute_error: 0.3016\n",
      "Epoch 3/20\n",
      "368/368 [==============================] - 1s 4ms/step - loss: 0.2063 - mean_absolute_error: 0.3143 - val_loss: 0.1820 - val_mean_absolute_error: 0.3084\n",
      "Epoch 4/20\n",
      "368/368 [==============================] - 1s 4ms/step - loss: 0.2066 - mean_absolute_error: 0.3146 - val_loss: 0.1819 - val_mean_absolute_error: 0.3077\n",
      "***TRAIN***:\n",
      "correlation related to cluster centre: 0.89\n",
      "r2 score related to cluster centre: 0.79\n",
      "***VALIDATION***:\n",
      "correlation related to cluster centre: 0.91\n",
      "r2 score related to cluster centre: 0.82\n"
     ]
    },
    {
     "data": {
      "application/vnd.jupyter.widget-view+json": {
       "model_id": "c65e477da8854405b0eabeb1a87eb931",
       "version_major": 2,
       "version_minor": 0
      },
      "text/plain": [
       "IntProgress(value=0, max=13)"
      ]
     },
     "metadata": {},
     "output_type": "display_data"
    },
    {
     "name": "stdout",
     "output_type": "stream",
     "text": [
      "***VALIDATION***:\n",
      "average correlation: 0.91\n",
      "average r2: 0.82\n",
      "---do_investigations. cluster index : 5---\n"
     ]
    },
    {
     "data": {
      "application/vnd.jupyter.widget-view+json": {
       "model_id": "9cb2a8866d6b403ebdc4fe9effb22c62",
       "version_major": 2,
       "version_minor": 0
      },
      "text/plain": [
       "IntProgress(value=0, max=102)"
      ]
     },
     "metadata": {},
     "output_type": "display_data"
    },
    {
     "name": "stdout",
     "output_type": "stream",
     "text": [
      "Epoch 1/20\n",
      "368/368 [==============================] - 3s 4ms/step - loss: 0.2191 - mean_absolute_error: 0.3212 - val_loss: 0.1370 - val_mean_absolute_error: 0.2648\n",
      "Epoch 2/20\n",
      "368/368 [==============================] - 1s 4ms/step - loss: 0.1952 - mean_absolute_error: 0.3011 - val_loss: 0.1390 - val_mean_absolute_error: 0.2540\n",
      "Epoch 3/20\n",
      "368/368 [==============================] - 1s 4ms/step - loss: 0.1939 - mean_absolute_error: 0.2999 - val_loss: 0.1352 - val_mean_absolute_error: 0.2548\n",
      "Epoch 4/20\n",
      "368/368 [==============================] - 1s 4ms/step - loss: 0.1944 - mean_absolute_error: 0.3017 - val_loss: 0.1351 - val_mean_absolute_error: 0.2550\n",
      "Epoch 5/20\n",
      "368/368 [==============================] - 1s 4ms/step - loss: 0.1940 - mean_absolute_error: 0.3000 - val_loss: 0.1348 - val_mean_absolute_error: 0.2557\n",
      "Epoch 6/20\n",
      "368/368 [==============================] - 1s 4ms/step - loss: 0.1939 - mean_absolute_error: 0.2998 - val_loss: 0.1362 - val_mean_absolute_error: 0.2504\n",
      "Epoch 7/20\n",
      "368/368 [==============================] - 1s 4ms/step - loss: 0.1945 - mean_absolute_error: 0.3001 - val_loss: 0.1359 - val_mean_absolute_error: 0.2545\n",
      "***TRAIN***:\n",
      "correlation related to cluster centre: 0.90\n",
      "r2 score related to cluster centre: 0.81\n",
      "***VALIDATION***:\n",
      "correlation related to cluster centre: 0.91\n",
      "r2 score related to cluster centre: 0.83\n"
     ]
    },
    {
     "data": {
      "application/vnd.jupyter.widget-view+json": {
       "model_id": "0119145df6ff4f4587d06ba607b21e98",
       "version_major": 2,
       "version_minor": 0
      },
      "text/plain": [
       "IntProgress(value=0, max=102)"
      ]
     },
     "metadata": {},
     "output_type": "display_data"
    },
    {
     "name": "stdout",
     "output_type": "stream",
     "text": [
      "***VALIDATION***:\n",
      "average correlation: 0.91\n",
      "average r2: 0.83\n",
      "---do_investigations. cluster index : 6---\n"
     ]
    },
    {
     "data": {
      "application/vnd.jupyter.widget-view+json": {
       "model_id": "c2cd719bddd94a3cb2e0ee9ceffe74b1",
       "version_major": 2,
       "version_minor": 0
      },
      "text/plain": [
       "IntProgress(value=0, max=4)"
      ]
     },
     "metadata": {},
     "output_type": "display_data"
    },
    {
     "name": "stdout",
     "output_type": "stream",
     "text": [
      "Epoch 1/20\n",
      "368/368 [==============================] - 3s 5ms/step - loss: 0.1881 - mean_absolute_error: 0.2986 - val_loss: 0.2148 - val_mean_absolute_error: 0.3333\n",
      "Epoch 2/20\n",
      "368/368 [==============================] - 1s 4ms/step - loss: 0.1639 - mean_absolute_error: 0.2763 - val_loss: 0.2109 - val_mean_absolute_error: 0.3192\n",
      "Epoch 3/20\n",
      "368/368 [==============================] - 1s 4ms/step - loss: 0.1627 - mean_absolute_error: 0.2745 - val_loss: 0.2113 - val_mean_absolute_error: 0.3213\n",
      "Epoch 4/20\n",
      "368/368 [==============================] - 1s 4ms/step - loss: 0.1633 - mean_absolute_error: 0.2750 - val_loss: 0.2098 - val_mean_absolute_error: 0.3193\n",
      "Epoch 5/20\n",
      "368/368 [==============================] - 1s 4ms/step - loss: 0.1626 - mean_absolute_error: 0.2744 - val_loss: 0.2107 - val_mean_absolute_error: 0.3243\n",
      "Epoch 6/20\n",
      "368/368 [==============================] - 1s 4ms/step - loss: 0.1619 - mean_absolute_error: 0.2741 - val_loss: 0.2103 - val_mean_absolute_error: 0.3208\n",
      "***TRAIN***:\n",
      "correlation related to cluster centre: 0.92\n",
      "r2 score related to cluster centre: 0.84\n",
      "***VALIDATION***:\n",
      "correlation related to cluster centre: 0.91\n",
      "r2 score related to cluster centre: 0.83\n"
     ]
    },
    {
     "data": {
      "application/vnd.jupyter.widget-view+json": {
       "model_id": "44d93dd7c23642e8801f755a24197df9",
       "version_major": 2,
       "version_minor": 0
      },
      "text/plain": [
       "IntProgress(value=0, max=4)"
      ]
     },
     "metadata": {},
     "output_type": "display_data"
    },
    {
     "name": "stdout",
     "output_type": "stream",
     "text": [
      "***VALIDATION***:\n",
      "average correlation: 0.91\n",
      "average r2: 0.83\n",
      "---do_investigations. cluster index : 7---\n"
     ]
    },
    {
     "data": {
      "application/vnd.jupyter.widget-view+json": {
       "model_id": "b80f78c1fcd441d38d1dd0da167a3afb",
       "version_major": 2,
       "version_minor": 0
      },
      "text/plain": [
       "IntProgress(value=0, max=40)"
      ]
     },
     "metadata": {},
     "output_type": "display_data"
    },
    {
     "name": "stdout",
     "output_type": "stream",
     "text": [
      "Epoch 1/20\n",
      "368/368 [==============================] - 3s 4ms/step - loss: 0.2205 - mean_absolute_error: 0.3261 - val_loss: 0.1528 - val_mean_absolute_error: 0.2818\n",
      "Epoch 2/20\n",
      "368/368 [==============================] - 1s 4ms/step - loss: 0.1924 - mean_absolute_error: 0.3050 - val_loss: 0.1552 - val_mean_absolute_error: 0.2894\n",
      "Epoch 3/20\n",
      "368/368 [==============================] - 1s 4ms/step - loss: 0.1910 - mean_absolute_error: 0.3034 - val_loss: 0.1511 - val_mean_absolute_error: 0.2793\n",
      "Epoch 4/20\n",
      "368/368 [==============================] - 1s 4ms/step - loss: 0.1912 - mean_absolute_error: 0.3036 - val_loss: 0.1533 - val_mean_absolute_error: 0.2865\n",
      "Epoch 5/20\n",
      "368/368 [==============================] - 1s 4ms/step - loss: 0.1896 - mean_absolute_error: 0.3021 - val_loss: 0.1517 - val_mean_absolute_error: 0.2806\n",
      "***TRAIN***:\n",
      "correlation related to cluster centre: 0.90\n",
      "r2 score related to cluster centre: 0.81\n",
      "***VALIDATION***:\n",
      "correlation related to cluster centre: 0.91\n",
      "r2 score related to cluster centre: 0.83\n"
     ]
    },
    {
     "data": {
      "application/vnd.jupyter.widget-view+json": {
       "model_id": "07077c00d89f49e3a96bc3a7aa53b1c0",
       "version_major": 2,
       "version_minor": 0
      },
      "text/plain": [
       "IntProgress(value=0, max=40)"
      ]
     },
     "metadata": {},
     "output_type": "display_data"
    },
    {
     "name": "stdout",
     "output_type": "stream",
     "text": [
      "***VALIDATION***:\n",
      "average correlation: 0.91\n",
      "average r2: 0.82\n",
      "---do_investigations. cluster index : 8---\n"
     ]
    },
    {
     "data": {
      "application/vnd.jupyter.widget-view+json": {
       "model_id": "5651e677aa194f9c8ac81624aef3531b",
       "version_major": 2,
       "version_minor": 0
      },
      "text/plain": [
       "IntProgress(value=0, max=1996)"
      ]
     },
     "metadata": {},
     "output_type": "display_data"
    },
    {
     "name": "stdout",
     "output_type": "stream",
     "text": [
      "Epoch 1/20\n",
      "368/368 [==============================] - 3s 4ms/step - loss: 0.2396 - mean_absolute_error: 0.3389 - val_loss: 0.1871 - val_mean_absolute_error: 0.3033\n",
      "Epoch 2/20\n",
      "368/368 [==============================] - 1s 4ms/step - loss: 0.2033 - mean_absolute_error: 0.3135 - val_loss: 0.1841 - val_mean_absolute_error: 0.3000\n",
      "Epoch 3/20\n",
      "368/368 [==============================] - 1s 4ms/step - loss: 0.2020 - mean_absolute_error: 0.3126 - val_loss: 0.1826 - val_mean_absolute_error: 0.2967\n",
      "Epoch 4/20\n",
      "368/368 [==============================] - 1s 4ms/step - loss: 0.2026 - mean_absolute_error: 0.3126 - val_loss: 0.1843 - val_mean_absolute_error: 0.2995\n",
      "Epoch 5/20\n",
      "368/368 [==============================] - 1s 4ms/step - loss: 0.2017 - mean_absolute_error: 0.3119 - val_loss: 0.1870 - val_mean_absolute_error: 0.3001\n",
      "***TRAIN***:\n",
      "correlation related to cluster centre: 0.90\n",
      "r2 score related to cluster centre: 0.80\n",
      "***VALIDATION***:\n",
      "correlation related to cluster centre: 0.91\n",
      "r2 score related to cluster centre: 0.82\n"
     ]
    },
    {
     "data": {
      "application/vnd.jupyter.widget-view+json": {
       "model_id": "f93c117518a94eca8dfdd81f31570533",
       "version_major": 2,
       "version_minor": 0
      },
      "text/plain": [
       "IntProgress(value=0, max=1996)"
      ]
     },
     "metadata": {},
     "output_type": "display_data"
    },
    {
     "name": "stdout",
     "output_type": "stream",
     "text": [
      "***VALIDATION***:\n",
      "average correlation: 0.88\n",
      "average r2: -8.05\n",
      "---do_investigations. cluster index : 9---\n"
     ]
    },
    {
     "data": {
      "application/vnd.jupyter.widget-view+json": {
       "model_id": "38292a8b561f414fba999ce6656d7406",
       "version_major": 2,
       "version_minor": 0
      },
      "text/plain": [
       "IntProgress(value=0, max=62)"
      ]
     },
     "metadata": {},
     "output_type": "display_data"
    },
    {
     "name": "stdout",
     "output_type": "stream",
     "text": [
      "Epoch 1/20\n",
      "368/368 [==============================] - 3s 4ms/step - loss: 0.2516 - mean_absolute_error: 0.3201 - val_loss: 0.1678 - val_mean_absolute_error: 0.2722\n",
      "Epoch 2/20\n",
      "368/368 [==============================] - 1s 4ms/step - loss: 0.2125 - mean_absolute_error: 0.2959 - val_loss: 0.1669 - val_mean_absolute_error: 0.2636\n",
      "Epoch 3/20\n",
      "368/368 [==============================] - 1s 4ms/step - loss: 0.2123 - mean_absolute_error: 0.2953 - val_loss: 0.1691 - val_mean_absolute_error: 0.2710\n",
      "Epoch 4/20\n",
      "368/368 [==============================] - 1s 4ms/step - loss: 0.2104 - mean_absolute_error: 0.2943 - val_loss: 0.1684 - val_mean_absolute_error: 0.2679\n",
      "***TRAIN***:\n",
      "correlation related to cluster centre: 0.89\n",
      "r2 score related to cluster centre: 0.79\n",
      "***VALIDATION***:\n",
      "correlation related to cluster centre: 0.90\n",
      "r2 score related to cluster centre: 0.82\n"
     ]
    },
    {
     "data": {
      "application/vnd.jupyter.widget-view+json": {
       "model_id": "941c3daeac224195ac44ea7c5abc9b2c",
       "version_major": 2,
       "version_minor": 0
      },
      "text/plain": [
       "IntProgress(value=0, max=62)"
      ]
     },
     "metadata": {},
     "output_type": "display_data"
    },
    {
     "name": "stdout",
     "output_type": "stream",
     "text": [
      "***VALIDATION***:\n",
      "average correlation: 0.90\n",
      "average r2: 0.81\n",
      "---do_investigations. cluster index : 10---\n"
     ]
    },
    {
     "data": {
      "application/vnd.jupyter.widget-view+json": {
       "model_id": "779a833ccbae4a06a36e19cebe30056f",
       "version_major": 2,
       "version_minor": 0
      },
      "text/plain": [
       "IntProgress(value=0, max=5)"
      ]
     },
     "metadata": {},
     "output_type": "display_data"
    },
    {
     "name": "stdout",
     "output_type": "stream",
     "text": [
      "Epoch 1/20\n",
      "368/368 [==============================] - 3s 4ms/step - loss: 0.2366 - mean_absolute_error: 0.3244 - val_loss: 0.2401 - val_mean_absolute_error: 0.3103\n",
      "Epoch 2/20\n",
      "368/368 [==============================] - 1s 4ms/step - loss: 0.2119 - mean_absolute_error: 0.3016 - val_loss: 0.2466 - val_mean_absolute_error: 0.3184\n",
      "Epoch 3/20\n",
      "368/368 [==============================] - 1s 4ms/step - loss: 0.2105 - mean_absolute_error: 0.3005 - val_loss: 0.2444 - val_mean_absolute_error: 0.3239\n",
      "***TRAIN***:\n",
      "correlation related to cluster centre: 0.89\n",
      "r2 score related to cluster centre: 0.79\n",
      "***VALIDATION***:\n",
      "correlation related to cluster centre: 0.90\n",
      "r2 score related to cluster centre: 0.81\n"
     ]
    },
    {
     "data": {
      "application/vnd.jupyter.widget-view+json": {
       "model_id": "ee867a95fc4b40599be8a04889dd8822",
       "version_major": 2,
       "version_minor": 0
      },
      "text/plain": [
       "IntProgress(value=0, max=5)"
      ]
     },
     "metadata": {},
     "output_type": "display_data"
    },
    {
     "name": "stdout",
     "output_type": "stream",
     "text": [
      "***VALIDATION***:\n",
      "average correlation: 0.90\n",
      "average r2: 0.80\n",
      "---do_investigations. cluster index : 11---\n"
     ]
    },
    {
     "data": {
      "application/vnd.jupyter.widget-view+json": {
       "model_id": "634c22f4ac7247b49b63b337f10e869c",
       "version_major": 2,
       "version_minor": 0
      },
      "text/plain": [
       "IntProgress(value=0, max=9)"
      ]
     },
     "metadata": {},
     "output_type": "display_data"
    },
    {
     "name": "stdout",
     "output_type": "stream",
     "text": [
      "Epoch 1/20\n",
      "368/368 [==============================] - 3s 4ms/step - loss: 0.2070 - mean_absolute_error: 0.3163 - val_loss: 0.1673 - val_mean_absolute_error: 0.2999\n",
      "Epoch 2/20\n",
      "368/368 [==============================] - 1s 4ms/step - loss: 0.1894 - mean_absolute_error: 0.2988 - val_loss: 0.1683 - val_mean_absolute_error: 0.3043\n",
      "Epoch 3/20\n",
      "368/368 [==============================] - 1s 4ms/step - loss: 0.1876 - mean_absolute_error: 0.2981 - val_loss: 0.1674 - val_mean_absolute_error: 0.3026\n",
      "***TRAIN***:\n",
      "correlation related to cluster centre: 0.90\n",
      "r2 score related to cluster centre: 0.81\n",
      "***VALIDATION***:\n",
      "correlation related to cluster centre: 0.91\n",
      "r2 score related to cluster centre: 0.82\n"
     ]
    },
    {
     "data": {
      "application/vnd.jupyter.widget-view+json": {
       "model_id": "b10ae96c89a041b4847a18883714362a",
       "version_major": 2,
       "version_minor": 0
      },
      "text/plain": [
       "IntProgress(value=0, max=9)"
      ]
     },
     "metadata": {},
     "output_type": "display_data"
    },
    {
     "name": "stdout",
     "output_type": "stream",
     "text": [
      "***VALIDATION***:\n",
      "average correlation: 0.91\n",
      "average r2: 0.82\n",
      "---do_investigations. cluster index : 12---\n"
     ]
    },
    {
     "data": {
      "application/vnd.jupyter.widget-view+json": {
       "model_id": "f7437e713e174bf4a0b404631dc752d9",
       "version_major": 2,
       "version_minor": 0
      },
      "text/plain": [
       "IntProgress(value=0, max=7)"
      ]
     },
     "metadata": {},
     "output_type": "display_data"
    },
    {
     "name": "stdout",
     "output_type": "stream",
     "text": [
      "Epoch 1/20\n",
      "368/368 [==============================] - 3s 4ms/step - loss: 0.1904 - mean_absolute_error: 0.2990 - val_loss: 0.2003 - val_mean_absolute_error: 0.3105\n",
      "Epoch 2/20\n",
      "368/368 [==============================] - 1s 4ms/step - loss: 0.1613 - mean_absolute_error: 0.2739 - val_loss: 0.2031 - val_mean_absolute_error: 0.3081\n",
      "Epoch 3/20\n",
      "368/368 [==============================] - 1s 4ms/step - loss: 0.1613 - mean_absolute_error: 0.2734 - val_loss: 0.2039 - val_mean_absolute_error: 0.3092\n",
      "***TRAIN***:\n",
      "correlation related to cluster centre: 0.92\n",
      "r2 score related to cluster centre: 0.84\n",
      "***VALIDATION***:\n",
      "correlation related to cluster centre: 0.91\n",
      "r2 score related to cluster centre: 0.83\n"
     ]
    },
    {
     "data": {
      "application/vnd.jupyter.widget-view+json": {
       "model_id": "682e5f4ded59477890bf03f5eb5eaa6f",
       "version_major": 2,
       "version_minor": 0
      },
      "text/plain": [
       "IntProgress(value=0, max=7)"
      ]
     },
     "metadata": {},
     "output_type": "display_data"
    },
    {
     "name": "stdout",
     "output_type": "stream",
     "text": [
      "***VALIDATION***:\n",
      "average correlation: 0.91\n",
      "average r2: 0.83\n",
      "---do_investigations. cluster index : 13---\n"
     ]
    },
    {
     "data": {
      "application/vnd.jupyter.widget-view+json": {
       "model_id": "bc955e84b663425da8d6bdaef557f819",
       "version_major": 2,
       "version_minor": 0
      },
      "text/plain": [
       "IntProgress(value=0, max=1)"
      ]
     },
     "metadata": {},
     "output_type": "display_data"
    },
    {
     "name": "stdout",
     "output_type": "stream",
     "text": [
      "Epoch 1/20\n",
      "368/368 [==============================] - 3s 4ms/step - loss: 0.2773 - mean_absolute_error: 0.3542 - val_loss: 0.2243 - val_mean_absolute_error: 0.3378\n",
      "Epoch 2/20\n",
      "368/368 [==============================] - 1s 4ms/step - loss: 0.2428 - mean_absolute_error: 0.3285 - val_loss: 0.2207 - val_mean_absolute_error: 0.3293\n",
      "Epoch 3/20\n",
      "368/368 [==============================] - 1s 4ms/step - loss: 0.2425 - mean_absolute_error: 0.3285 - val_loss: 0.2223 - val_mean_absolute_error: 0.3257\n",
      "Epoch 4/20\n",
      "368/368 [==============================] - 1s 4ms/step - loss: 0.2413 - mean_absolute_error: 0.3268 - val_loss: 0.2247 - val_mean_absolute_error: 0.3361\n",
      "***TRAIN***:\n",
      "correlation related to cluster centre: 0.87\n",
      "r2 score related to cluster centre: 0.75\n",
      "***VALIDATION***:\n",
      "correlation related to cluster centre: 0.89\n",
      "r2 score related to cluster centre: 0.79\n"
     ]
    },
    {
     "data": {
      "application/vnd.jupyter.widget-view+json": {
       "model_id": "fc92a0fe65b04702a56918244f3263ee",
       "version_major": 2,
       "version_minor": 0
      },
      "text/plain": [
       "IntProgress(value=0, max=1)"
      ]
     },
     "metadata": {},
     "output_type": "display_data"
    },
    {
     "name": "stdout",
     "output_type": "stream",
     "text": [
      "***VALIDATION***:\n",
      "average correlation: 0.89\n",
      "average r2: 0.79\n",
      "---do_investigations. cluster index : 14---\n"
     ]
    },
    {
     "data": {
      "application/vnd.jupyter.widget-view+json": {
       "model_id": "a58b2258f3144561aea36420c264403c",
       "version_major": 2,
       "version_minor": 0
      },
      "text/plain": [
       "IntProgress(value=0, max=3)"
      ]
     },
     "metadata": {},
     "output_type": "display_data"
    },
    {
     "name": "stdout",
     "output_type": "stream",
     "text": [
      "Epoch 1/20\n",
      "368/368 [==============================] - 3s 4ms/step - loss: 0.2226 - mean_absolute_error: 0.3237 - val_loss: 0.2513 - val_mean_absolute_error: 0.3418\n",
      "Epoch 2/20\n",
      "368/368 [==============================] - 1s 4ms/step - loss: 0.2005 - mean_absolute_error: 0.3051 - val_loss: 0.2461 - val_mean_absolute_error: 0.3476\n",
      "Epoch 3/20\n",
      "368/368 [==============================] - 1s 4ms/step - loss: 0.1988 - mean_absolute_error: 0.3044 - val_loss: 0.2487 - val_mean_absolute_error: 0.3438\n",
      "Epoch 4/20\n",
      "368/368 [==============================] - 1s 4ms/step - loss: 0.1991 - mean_absolute_error: 0.3038 - val_loss: 0.2527 - val_mean_absolute_error: 0.3467\n",
      "***TRAIN***:\n",
      "correlation related to cluster centre: 0.90\n",
      "r2 score related to cluster centre: 0.80\n",
      "***VALIDATION***:\n",
      "correlation related to cluster centre: 0.90\n",
      "r2 score related to cluster centre: 0.81\n"
     ]
    },
    {
     "data": {
      "application/vnd.jupyter.widget-view+json": {
       "model_id": "b60a1a7a09ff43448d0dd062b99fefe2",
       "version_major": 2,
       "version_minor": 0
      },
      "text/plain": [
       "IntProgress(value=0, max=3)"
      ]
     },
     "metadata": {},
     "output_type": "display_data"
    },
    {
     "name": "stdout",
     "output_type": "stream",
     "text": [
      "***VALIDATION***:\n",
      "average correlation: 0.90\n",
      "average r2: 0.81\n",
      "---do_investigations. cluster index : 15---\n"
     ]
    },
    {
     "data": {
      "application/vnd.jupyter.widget-view+json": {
       "model_id": "55eef862436247f68e841e3233f2fa4a",
       "version_major": 2,
       "version_minor": 0
      },
      "text/plain": [
       "IntProgress(value=0, max=1)"
      ]
     },
     "metadata": {},
     "output_type": "display_data"
    },
    {
     "name": "stdout",
     "output_type": "stream",
     "text": [
      "Epoch 1/20\n",
      "368/368 [==============================] - 3s 4ms/step - loss: 0.2355 - mean_absolute_error: 0.3201 - val_loss: 0.1099 - val_mean_absolute_error: 0.2326\n",
      "Epoch 2/20\n",
      "368/368 [==============================] - 1s 4ms/step - loss: 0.2158 - mean_absolute_error: 0.3053 - val_loss: 0.1065 - val_mean_absolute_error: 0.2191\n",
      "Epoch 3/20\n",
      "368/368 [==============================] - 1s 4ms/step - loss: 0.2130 - mean_absolute_error: 0.3023 - val_loss: 0.1079 - val_mean_absolute_error: 0.2222\n",
      "Epoch 4/20\n",
      "368/368 [==============================] - 1s 4ms/step - loss: 0.2125 - mean_absolute_error: 0.3016 - val_loss: 0.1113 - val_mean_absolute_error: 0.2385\n",
      "***TRAIN***:\n",
      "correlation related to cluster centre: 0.89\n",
      "r2 score related to cluster centre: 0.79\n",
      "***VALIDATION***:\n",
      "correlation related to cluster centre: 0.92\n",
      "r2 score related to cluster centre: 0.83\n"
     ]
    },
    {
     "data": {
      "application/vnd.jupyter.widget-view+json": {
       "model_id": "5795f5d7e180483c9c2a9e5d6213211d",
       "version_major": 2,
       "version_minor": 0
      },
      "text/plain": [
       "IntProgress(value=0, max=1)"
      ]
     },
     "metadata": {},
     "output_type": "display_data"
    },
    {
     "name": "stdout",
     "output_type": "stream",
     "text": [
      "***VALIDATION***:\n",
      "average correlation: 0.92\n",
      "average r2: 0.83\n",
      "---do_investigations. cluster index : 16---\n"
     ]
    },
    {
     "data": {
      "application/vnd.jupyter.widget-view+json": {
       "model_id": "4509e8c0ef08422f9e2f0147de52a64e",
       "version_major": 2,
       "version_minor": 0
      },
      "text/plain": [
       "IntProgress(value=0, max=2)"
      ]
     },
     "metadata": {},
     "output_type": "display_data"
    },
    {
     "name": "stdout",
     "output_type": "stream",
     "text": [
      "Epoch 1/20\n",
      "368/368 [==============================] - 3s 4ms/step - loss: 0.2461 - mean_absolute_error: 0.3173 - val_loss: 0.0739 - val_mean_absolute_error: 0.1809\n",
      "Epoch 2/20\n",
      "368/368 [==============================] - 1s 4ms/step - loss: 0.2075 - mean_absolute_error: 0.2908 - val_loss: 0.0722 - val_mean_absolute_error: 0.1785\n",
      "Epoch 3/20\n",
      "368/368 [==============================] - 1s 4ms/step - loss: 0.2067 - mean_absolute_error: 0.2896 - val_loss: 0.0692 - val_mean_absolute_error: 0.1774\n",
      "Epoch 4/20\n",
      "368/368 [==============================] - 1s 4ms/step - loss: 0.2063 - mean_absolute_error: 0.2894 - val_loss: 0.0711 - val_mean_absolute_error: 0.1819\n",
      "Epoch 5/20\n",
      "368/368 [==============================] - 1s 4ms/step - loss: 0.2064 - mean_absolute_error: 0.2884 - val_loss: 0.0715 - val_mean_absolute_error: 0.1858\n",
      "***TRAIN***:\n",
      "correlation related to cluster centre: 0.89\n",
      "r2 score related to cluster centre: 0.80\n",
      "***VALIDATION***:\n",
      "correlation related to cluster centre: 0.91\n",
      "r2 score related to cluster centre: 0.83\n"
     ]
    },
    {
     "data": {
      "application/vnd.jupyter.widget-view+json": {
       "model_id": "64aad41a34154514a5b2369850b57d17",
       "version_major": 2,
       "version_minor": 0
      },
      "text/plain": [
       "IntProgress(value=0, max=2)"
      ]
     },
     "metadata": {},
     "output_type": "display_data"
    },
    {
     "name": "stdout",
     "output_type": "stream",
     "text": [
      "***VALIDATION***:\n",
      "average correlation: 0.92\n",
      "average r2: 0.84\n",
      "---do_investigations. cluster index : 17---\n"
     ]
    },
    {
     "data": {
      "application/vnd.jupyter.widget-view+json": {
       "model_id": "37c90f9f364644e992599a459defe02f",
       "version_major": 2,
       "version_minor": 0
      },
      "text/plain": [
       "IntProgress(value=0, max=3)"
      ]
     },
     "metadata": {},
     "output_type": "display_data"
    },
    {
     "name": "stdout",
     "output_type": "stream",
     "text": [
      "Epoch 1/20\n",
      "368/368 [==============================] - 3s 4ms/step - loss: 0.2320 - mean_absolute_error: 0.3244 - val_loss: 0.1172 - val_mean_absolute_error: 0.2287\n",
      "Epoch 2/20\n",
      "368/368 [==============================] - 1s 4ms/step - loss: 0.2174 - mean_absolute_error: 0.3115 - val_loss: 0.1154 - val_mean_absolute_error: 0.2309\n",
      "Epoch 3/20\n",
      "368/368 [==============================] - 1s 4ms/step - loss: 0.2156 - mean_absolute_error: 0.3091 - val_loss: 0.1147 - val_mean_absolute_error: 0.2358\n",
      "Epoch 4/20\n",
      "368/368 [==============================] - 1s 4ms/step - loss: 0.2166 - mean_absolute_error: 0.3094 - val_loss: 0.1149 - val_mean_absolute_error: 0.2315\n",
      "Epoch 5/20\n",
      "368/368 [==============================] - 1s 4ms/step - loss: 0.2151 - mean_absolute_error: 0.3083 - val_loss: 0.1147 - val_mean_absolute_error: 0.2376\n",
      "***TRAIN***:\n",
      "correlation related to cluster centre: 0.89\n",
      "r2 score related to cluster centre: 0.79\n",
      "***VALIDATION***:\n",
      "correlation related to cluster centre: 0.91\n",
      "r2 score related to cluster centre: 0.82\n"
     ]
    },
    {
     "data": {
      "application/vnd.jupyter.widget-view+json": {
       "model_id": "c85041414ea94493a0189102d22a0ffc",
       "version_major": 2,
       "version_minor": 0
      },
      "text/plain": [
       "IntProgress(value=0, max=3)"
      ]
     },
     "metadata": {},
     "output_type": "display_data"
    },
    {
     "name": "stdout",
     "output_type": "stream",
     "text": [
      "***VALIDATION***:\n",
      "average correlation: 0.91\n",
      "average r2: 0.82\n",
      "---do_investigations. cluster index : 18---\n"
     ]
    },
    {
     "data": {
      "application/vnd.jupyter.widget-view+json": {
       "model_id": "60b4f3dae101425da1253cc5805f15b0",
       "version_major": 2,
       "version_minor": 0
      },
      "text/plain": [
       "IntProgress(value=0, max=34)"
      ]
     },
     "metadata": {},
     "output_type": "display_data"
    },
    {
     "name": "stdout",
     "output_type": "stream",
     "text": [
      "Epoch 1/20\n",
      "368/368 [==============================] - 3s 4ms/step - loss: 0.2356 - mean_absolute_error: 0.3333 - val_loss: 0.1468 - val_mean_absolute_error: 0.2702\n",
      "Epoch 2/20\n",
      "368/368 [==============================] - 1s 4ms/step - loss: 0.2093 - mean_absolute_error: 0.3118 - val_loss: 0.1427 - val_mean_absolute_error: 0.2638\n",
      "Epoch 3/20\n",
      "368/368 [==============================] - 1s 4ms/step - loss: 0.2074 - mean_absolute_error: 0.3093 - val_loss: 0.1451 - val_mean_absolute_error: 0.2671\n",
      "Epoch 4/20\n",
      "368/368 [==============================] - 1s 4ms/step - loss: 0.2081 - mean_absolute_error: 0.3096 - val_loss: 0.1425 - val_mean_absolute_error: 0.2630\n",
      "Epoch 5/20\n",
      "368/368 [==============================] - 1s 4ms/step - loss: 0.2064 - mean_absolute_error: 0.3090 - val_loss: 0.1443 - val_mean_absolute_error: 0.2661\n",
      "Epoch 6/20\n",
      "368/368 [==============================] - 1s 4ms/step - loss: 0.2069 - mean_absolute_error: 0.3090 - val_loss: 0.1423 - val_mean_absolute_error: 0.2650\n",
      "Epoch 7/20\n",
      "368/368 [==============================] - 1s 4ms/step - loss: 0.2075 - mean_absolute_error: 0.3097 - val_loss: 0.1443 - val_mean_absolute_error: 0.2736\n",
      "Epoch 8/20\n",
      "368/368 [==============================] - 1s 4ms/step - loss: 0.2061 - mean_absolute_error: 0.3085 - val_loss: 0.1425 - val_mean_absolute_error: 0.2618\n",
      "***TRAIN***:\n",
      "correlation related to cluster centre: 0.89\n",
      "r2 score related to cluster centre: 0.80\n",
      "***VALIDATION***:\n",
      "correlation related to cluster centre: 0.91\n",
      "r2 score related to cluster centre: 0.83\n"
     ]
    },
    {
     "data": {
      "application/vnd.jupyter.widget-view+json": {
       "model_id": "adfade3d7c1c4f0c98f404f09f702ef9",
       "version_major": 2,
       "version_minor": 0
      },
      "text/plain": [
       "IntProgress(value=0, max=34)"
      ]
     },
     "metadata": {},
     "output_type": "display_data"
    },
    {
     "name": "stdout",
     "output_type": "stream",
     "text": [
      "***VALIDATION***:\n",
      "average correlation: 0.91\n",
      "average r2: 0.82\n",
      "---do_investigations. cluster index : 19---\n"
     ]
    },
    {
     "data": {
      "application/vnd.jupyter.widget-view+json": {
       "model_id": "08f370eb04d0469f8c6ac82194252892",
       "version_major": 2,
       "version_minor": 0
      },
      "text/plain": [
       "IntProgress(value=0, max=2)"
      ]
     },
     "metadata": {},
     "output_type": "display_data"
    },
    {
     "name": "stdout",
     "output_type": "stream",
     "text": [
      "Epoch 1/20\n",
      "368/368 [==============================] - 3s 4ms/step - loss: 0.2584 - mean_absolute_error: 0.3191 - val_loss: 0.2714 - val_mean_absolute_error: 0.3259\n",
      "Epoch 2/20\n",
      "368/368 [==============================] - 1s 4ms/step - loss: 0.2201 - mean_absolute_error: 0.2951 - val_loss: 0.2658 - val_mean_absolute_error: 0.3121\n",
      "Epoch 3/20\n",
      "368/368 [==============================] - 1s 4ms/step - loss: 0.2176 - mean_absolute_error: 0.2925 - val_loss: 0.2750 - val_mean_absolute_error: 0.3403\n",
      "Epoch 4/20\n",
      "368/368 [==============================] - 1s 4ms/step - loss: 0.2182 - mean_absolute_error: 0.2926 - val_loss: 0.2625 - val_mean_absolute_error: 0.3208\n",
      "Epoch 5/20\n",
      "368/368 [==============================] - 1s 4ms/step - loss: 0.2171 - mean_absolute_error: 0.2916 - val_loss: 0.2677 - val_mean_absolute_error: 0.3283\n",
      "Epoch 6/20\n",
      "368/368 [==============================] - 1s 4ms/step - loss: 0.2187 - mean_absolute_error: 0.2935 - val_loss: 0.2691 - val_mean_absolute_error: 0.3290\n",
      "***TRAIN***:\n",
      "correlation related to cluster centre: 0.89\n",
      "r2 score related to cluster centre: 0.78\n",
      "***VALIDATION***:\n",
      "correlation related to cluster centre: 0.90\n",
      "r2 score related to cluster centre: 0.79\n"
     ]
    },
    {
     "data": {
      "application/vnd.jupyter.widget-view+json": {
       "model_id": "f7279a0f1b5a4af09e8b18125a15cb00",
       "version_major": 2,
       "version_minor": 0
      },
      "text/plain": [
       "IntProgress(value=0, max=2)"
      ]
     },
     "metadata": {},
     "output_type": "display_data"
    },
    {
     "name": "stdout",
     "output_type": "stream",
     "text": [
      "***VALIDATION***:\n",
      "average correlation: 0.89\n",
      "average r2: 0.79\n",
      "---do_investigations. cluster index : 20---\n"
     ]
    },
    {
     "data": {
      "application/vnd.jupyter.widget-view+json": {
       "model_id": "62333746a8f743a6a8fb1c5d77cd961b",
       "version_major": 2,
       "version_minor": 0
      },
      "text/plain": [
       "IntProgress(value=0, max=5)"
      ]
     },
     "metadata": {},
     "output_type": "display_data"
    },
    {
     "name": "stdout",
     "output_type": "stream",
     "text": [
      "Epoch 1/20\n",
      "368/368 [==============================] - 3s 4ms/step - loss: 0.2467 - mean_absolute_error: 0.3390 - val_loss: 0.1444 - val_mean_absolute_error: 0.2704\n",
      "Epoch 2/20\n",
      "368/368 [==============================] - 1s 4ms/step - loss: 0.2057 - mean_absolute_error: 0.3088 - val_loss: 0.1459 - val_mean_absolute_error: 0.2682\n",
      "Epoch 3/20\n",
      "368/368 [==============================] - 1s 4ms/step - loss: 0.2046 - mean_absolute_error: 0.3089 - val_loss: 0.1450 - val_mean_absolute_error: 0.2600\n",
      "***TRAIN***:\n",
      "correlation related to cluster centre: 0.89\n",
      "r2 score related to cluster centre: 0.80\n",
      "***VALIDATION***:\n",
      "correlation related to cluster centre: 0.91\n",
      "r2 score related to cluster centre: 0.83\n"
     ]
    },
    {
     "data": {
      "application/vnd.jupyter.widget-view+json": {
       "model_id": "382949ba4d0b410f929f84cc1f7dae0c",
       "version_major": 2,
       "version_minor": 0
      },
      "text/plain": [
       "IntProgress(value=0, max=5)"
      ]
     },
     "metadata": {},
     "output_type": "display_data"
    },
    {
     "name": "stdout",
     "output_type": "stream",
     "text": [
      "***VALIDATION***:\n",
      "average correlation: 0.91\n",
      "average r2: 0.82\n",
      "---do_investigations. cluster index : 21---\n"
     ]
    },
    {
     "data": {
      "application/vnd.jupyter.widget-view+json": {
       "model_id": "49e1287e7c574300874b12232b76a9a7",
       "version_major": 2,
       "version_minor": 0
      },
      "text/plain": [
       "IntProgress(value=0, max=1)"
      ]
     },
     "metadata": {},
     "output_type": "display_data"
    },
    {
     "name": "stdout",
     "output_type": "stream",
     "text": [
      "Epoch 1/20\n",
      "368/368 [==============================] - 3s 4ms/step - loss: 0.2336 - mean_absolute_error: 0.3124 - val_loss: 0.2345 - val_mean_absolute_error: 0.3105\n",
      "Epoch 2/20\n",
      "368/368 [==============================] - 1s 4ms/step - loss: 0.2035 - mean_absolute_error: 0.2903 - val_loss: 0.2335 - val_mean_absolute_error: 0.3210\n",
      "Epoch 3/20\n",
      "368/368 [==============================] - 1s 4ms/step - loss: 0.2029 - mean_absolute_error: 0.2904 - val_loss: 0.2320 - val_mean_absolute_error: 0.3003\n",
      "Epoch 4/20\n",
      "368/368 [==============================] - 1s 4ms/step - loss: 0.2022 - mean_absolute_error: 0.2886 - val_loss: 0.2367 - val_mean_absolute_error: 0.3018\n",
      "Epoch 5/20\n",
      "368/368 [==============================] - 1s 4ms/step - loss: 0.2019 - mean_absolute_error: 0.2877 - val_loss: 0.2307 - val_mean_absolute_error: 0.3175\n",
      "Epoch 6/20\n",
      "368/368 [==============================] - 1s 4ms/step - loss: 0.2022 - mean_absolute_error: 0.2890 - val_loss: 0.2318 - val_mean_absolute_error: 0.2987\n",
      "Epoch 7/20\n",
      "368/368 [==============================] - 1s 4ms/step - loss: 0.2014 - mean_absolute_error: 0.2882 - val_loss: 0.2298 - val_mean_absolute_error: 0.3124\n",
      "Epoch 8/20\n",
      "368/368 [==============================] - 1s 4ms/step - loss: 0.2010 - mean_absolute_error: 0.2878 - val_loss: 0.2307 - val_mean_absolute_error: 0.3011\n",
      "Epoch 9/20\n",
      "368/368 [==============================] - 1s 4ms/step - loss: 0.2011 - mean_absolute_error: 0.2885 - val_loss: 0.2334 - val_mean_absolute_error: 0.3018\n",
      "***TRAIN***:\n",
      "correlation related to cluster centre: 0.90\n",
      "r2 score related to cluster centre: 0.80\n",
      "***VALIDATION***:\n",
      "correlation related to cluster centre: 0.91\n",
      "r2 score related to cluster centre: 0.82\n"
     ]
    },
    {
     "data": {
      "application/vnd.jupyter.widget-view+json": {
       "model_id": "41c15a1dffb24041b28fda98ba0e653c",
       "version_major": 2,
       "version_minor": 0
      },
      "text/plain": [
       "IntProgress(value=0, max=1)"
      ]
     },
     "metadata": {},
     "output_type": "display_data"
    },
    {
     "name": "stdout",
     "output_type": "stream",
     "text": [
      "***VALIDATION***:\n",
      "average correlation: 0.91\n",
      "average r2: 0.82\n",
      "---do_investigations. cluster index : 22---\n"
     ]
    },
    {
     "data": {
      "application/vnd.jupyter.widget-view+json": {
       "model_id": "ba6b9dbbaad1485d845f8d58f28938bc",
       "version_major": 2,
       "version_minor": 0
      },
      "text/plain": [
       "IntProgress(value=0, max=1)"
      ]
     },
     "metadata": {},
     "output_type": "display_data"
    },
    {
     "name": "stdout",
     "output_type": "stream",
     "text": [
      "Epoch 1/20\n",
      "368/368 [==============================] - 3s 4ms/step - loss: 0.2537 - mean_absolute_error: 0.2794 - val_loss: 0.3141 - val_mean_absolute_error: 0.3308\n",
      "Epoch 2/20\n",
      "368/368 [==============================] - 1s 4ms/step - loss: 0.2181 - mean_absolute_error: 0.2567 - val_loss: 0.3152 - val_mean_absolute_error: 0.3296\n",
      "Epoch 3/20\n",
      "368/368 [==============================] - 1s 4ms/step - loss: 0.2168 - mean_absolute_error: 0.2563 - val_loss: 0.3145 - val_mean_absolute_error: 0.3270\n",
      "***TRAIN***:\n",
      "correlation related to cluster centre: 0.89\n",
      "r2 score related to cluster centre: 0.79\n",
      "***VALIDATION***:\n",
      "correlation related to cluster centre: 0.89\n",
      "r2 score related to cluster centre: 0.79\n"
     ]
    },
    {
     "data": {
      "application/vnd.jupyter.widget-view+json": {
       "model_id": "6cae60f55d9945929159107e912607b3",
       "version_major": 2,
       "version_minor": 0
      },
      "text/plain": [
       "IntProgress(value=0, max=1)"
      ]
     },
     "metadata": {},
     "output_type": "display_data"
    },
    {
     "name": "stdout",
     "output_type": "stream",
     "text": [
      "***VALIDATION***:\n",
      "average correlation: 0.89\n",
      "average r2: 0.79\n",
      "---do_investigations. cluster index : 23---\n"
     ]
    },
    {
     "data": {
      "application/vnd.jupyter.widget-view+json": {
       "model_id": "be31df652e6943c6a3852e677ccd3ff2",
       "version_major": 2,
       "version_minor": 0
      },
      "text/plain": [
       "IntProgress(value=0, max=1)"
      ]
     },
     "metadata": {},
     "output_type": "display_data"
    },
    {
     "name": "stdout",
     "output_type": "stream",
     "text": [
      "Epoch 1/20\n",
      "368/368 [==============================] - 3s 4ms/step - loss: 0.2692 - mean_absolute_error: 0.3379 - val_loss: 0.1498 - val_mean_absolute_error: 0.2384\n",
      "Epoch 2/20\n",
      "368/368 [==============================] - 1s 4ms/step - loss: 0.2339 - mean_absolute_error: 0.3094 - val_loss: 0.1491 - val_mean_absolute_error: 0.2456\n",
      "Epoch 3/20\n",
      "368/368 [==============================] - 1s 4ms/step - loss: 0.2325 - mean_absolute_error: 0.3081 - val_loss: 0.1516 - val_mean_absolute_error: 0.2362\n",
      "Epoch 4/20\n",
      "368/368 [==============================] - 1s 4ms/step - loss: 0.2311 - mean_absolute_error: 0.3072 - val_loss: 0.1481 - val_mean_absolute_error: 0.2413\n",
      "Epoch 5/20\n",
      "368/368 [==============================] - 1s 4ms/step - loss: 0.2316 - mean_absolute_error: 0.3061 - val_loss: 0.1494 - val_mean_absolute_error: 0.2335\n",
      "Epoch 6/20\n",
      "368/368 [==============================] - 1s 4ms/step - loss: 0.2314 - mean_absolute_error: 0.3064 - val_loss: 0.1488 - val_mean_absolute_error: 0.2306\n",
      "***TRAIN***:\n",
      "correlation related to cluster centre: 0.88\n",
      "r2 score related to cluster centre: 0.77\n",
      "***VALIDATION***:\n",
      "correlation related to cluster centre: 0.90\n",
      "r2 score related to cluster centre: 0.80\n"
     ]
    },
    {
     "data": {
      "application/vnd.jupyter.widget-view+json": {
       "model_id": "3143c4b0b8cc4a3dad614ce601ef8857",
       "version_major": 2,
       "version_minor": 0
      },
      "text/plain": [
       "IntProgress(value=0, max=1)"
      ]
     },
     "metadata": {},
     "output_type": "display_data"
    },
    {
     "name": "stdout",
     "output_type": "stream",
     "text": [
      "***VALIDATION***:\n",
      "average correlation: 0.90\n",
      "average r2: 0.80\n",
      "---do_investigations. cluster index : 24---\n"
     ]
    },
    {
     "data": {
      "application/vnd.jupyter.widget-view+json": {
       "model_id": "8594ddcbb26046f9a7b5e6ee87ee2873",
       "version_major": 2,
       "version_minor": 0
      },
      "text/plain": [
       "IntProgress(value=0, max=1)"
      ]
     },
     "metadata": {},
     "output_type": "display_data"
    },
    {
     "name": "stdout",
     "output_type": "stream",
     "text": [
      "Epoch 1/20\n",
      "368/368 [==============================] - 3s 4ms/step - loss: 0.2808 - mean_absolute_error: 0.2511 - val_loss: 0.0041 - val_mean_absolute_error: 0.0495\n",
      "Epoch 2/20\n",
      "368/368 [==============================] - 1s 4ms/step - loss: 0.2550 - mean_absolute_error: 0.2327 - val_loss: 0.0051 - val_mean_absolute_error: 0.0555\n",
      "Epoch 3/20\n",
      "368/368 [==============================] - 1s 4ms/step - loss: 0.2531 - mean_absolute_error: 0.2294 - val_loss: 0.0038 - val_mean_absolute_error: 0.0445\n",
      "Epoch 4/20\n",
      "368/368 [==============================] - 1s 4ms/step - loss: 0.2516 - mean_absolute_error: 0.2291 - val_loss: 0.0043 - val_mean_absolute_error: 0.0505\n",
      "Epoch 5/20\n",
      "368/368 [==============================] - 1s 4ms/step - loss: 0.2507 - mean_absolute_error: 0.2275 - val_loss: 0.0035 - val_mean_absolute_error: 0.0358\n",
      "Epoch 6/20\n",
      "368/368 [==============================] - 1s 4ms/step - loss: 0.2507 - mean_absolute_error: 0.2271 - val_loss: 0.0039 - val_mean_absolute_error: 0.0436\n",
      "Epoch 7/20\n",
      "368/368 [==============================] - 1s 4ms/step - loss: 0.2499 - mean_absolute_error: 0.2287 - val_loss: 0.0047 - val_mean_absolute_error: 0.0549\n",
      "***TRAIN***:\n",
      "correlation related to cluster centre: 0.87\n",
      "r2 score related to cluster centre: 0.75\n",
      "***VALIDATION***:\n",
      "correlation related to cluster centre: 0.91\n",
      "r2 score related to cluster centre: 0.51\n"
     ]
    },
    {
     "data": {
      "application/vnd.jupyter.widget-view+json": {
       "model_id": "b144847f13e0466cb434f91df5cac448",
       "version_major": 2,
       "version_minor": 0
      },
      "text/plain": [
       "IntProgress(value=0, max=1)"
      ]
     },
     "metadata": {},
     "output_type": "display_data"
    },
    {
     "name": "stdout",
     "output_type": "stream",
     "text": [
      "***VALIDATION***:\n",
      "average correlation: 0.91\n",
      "average r2: 0.51\n",
      "---do_investigations. cluster index : 25---\n"
     ]
    },
    {
     "data": {
      "application/vnd.jupyter.widget-view+json": {
       "model_id": "04715ed3adf44cd2a33ee395d3e9b8ea",
       "version_major": 2,
       "version_minor": 0
      },
      "text/plain": [
       "IntProgress(value=0, max=2)"
      ]
     },
     "metadata": {},
     "output_type": "display_data"
    },
    {
     "name": "stdout",
     "output_type": "stream",
     "text": [
      "Epoch 1/20\n",
      "368/368 [==============================] - 3s 4ms/step - loss: 0.2806 - mean_absolute_error: 0.2532 - val_loss: 0.0061 - val_mean_absolute_error: 0.0450\n",
      "Epoch 2/20\n",
      "368/368 [==============================] - 1s 4ms/step - loss: 0.2611 - mean_absolute_error: 0.2371 - val_loss: 0.0114 - val_mean_absolute_error: 0.0897\n",
      "Epoch 3/20\n",
      "368/368 [==============================] - 1s 4ms/step - loss: 0.2604 - mean_absolute_error: 0.2365 - val_loss: 0.0094 - val_mean_absolute_error: 0.0757\n",
      "***TRAIN***:\n",
      "correlation related to cluster centre: 0.86\n",
      "r2 score related to cluster centre: 0.74\n",
      "***VALIDATION***:\n",
      "correlation related to cluster centre: 0.91\n",
      "r2 score related to cluster centre: 0.71\n"
     ]
    },
    {
     "data": {
      "application/vnd.jupyter.widget-view+json": {
       "model_id": "e624b25a212c4bc496aeaf9d72aa5377",
       "version_major": 2,
       "version_minor": 0
      },
      "text/plain": [
       "IntProgress(value=0, max=2)"
      ]
     },
     "metadata": {},
     "output_type": "display_data"
    },
    {
     "name": "stdout",
     "output_type": "stream",
     "text": [
      "***VALIDATION***:\n",
      "average correlation: 0.92\n",
      "average r2: 0.51\n",
      "---do_investigations. cluster index : 26---\n"
     ]
    },
    {
     "data": {
      "application/vnd.jupyter.widget-view+json": {
       "model_id": "db0050a0f1564ceb946b65c8cdf4640e",
       "version_major": 2,
       "version_minor": 0
      },
      "text/plain": [
       "IntProgress(value=0, max=1)"
      ]
     },
     "metadata": {},
     "output_type": "display_data"
    },
    {
     "name": "stdout",
     "output_type": "stream",
     "text": [
      "Epoch 1/20\n",
      "368/368 [==============================] - 3s 4ms/step - loss: 0.1875 - mean_absolute_error: 0.2810 - val_loss: 0.0981 - val_mean_absolute_error: 0.1993\n",
      "Epoch 2/20\n",
      "368/368 [==============================] - 1s 4ms/step - loss: 0.1489 - mean_absolute_error: 0.2510 - val_loss: 0.0982 - val_mean_absolute_error: 0.2048\n",
      "Epoch 3/20\n",
      "368/368 [==============================] - 1s 4ms/step - loss: 0.1498 - mean_absolute_error: 0.2518 - val_loss: 0.0991 - val_mean_absolute_error: 0.1978\n",
      "***TRAIN***:\n",
      "correlation related to cluster centre: 0.92\n",
      "r2 score related to cluster centre: 0.85\n",
      "***VALIDATION***:\n",
      "correlation related to cluster centre: 0.92\n",
      "r2 score related to cluster centre: 0.85\n"
     ]
    },
    {
     "data": {
      "application/vnd.jupyter.widget-view+json": {
       "model_id": "5bd2336757e84ad9a6b1708035e11604",
       "version_major": 2,
       "version_minor": 0
      },
      "text/plain": [
       "IntProgress(value=0, max=1)"
      ]
     },
     "metadata": {},
     "output_type": "display_data"
    },
    {
     "name": "stdout",
     "output_type": "stream",
     "text": [
      "***VALIDATION***:\n",
      "average correlation: 0.92\n",
      "average r2: 0.85\n",
      "---do_investigations. cluster index : 27---\n"
     ]
    },
    {
     "data": {
      "application/vnd.jupyter.widget-view+json": {
       "model_id": "51f777b7158343bfb8d2086125294429",
       "version_major": 2,
       "version_minor": 0
      },
      "text/plain": [
       "IntProgress(value=0, max=1)"
      ]
     },
     "metadata": {},
     "output_type": "display_data"
    },
    {
     "name": "stdout",
     "output_type": "stream",
     "text": [
      "Epoch 1/20\n",
      "368/368 [==============================] - 3s 6ms/step - loss: 0.1720 - mean_absolute_error: 0.2771 - val_loss: 0.1249 - val_mean_absolute_error: 0.2283\n",
      "Epoch 2/20\n",
      "368/368 [==============================] - 1s 4ms/step - loss: 0.1388 - mean_absolute_error: 0.2471 - val_loss: 0.1223 - val_mean_absolute_error: 0.2252\n",
      "Epoch 3/20\n",
      "368/368 [==============================] - 1s 4ms/step - loss: 0.1382 - mean_absolute_error: 0.2465 - val_loss: 0.1208 - val_mean_absolute_error: 0.2293\n",
      "Epoch 4/20\n",
      "368/368 [==============================] - 1s 4ms/step - loss: 0.1387 - mean_absolute_error: 0.2474 - val_loss: 0.1214 - val_mean_absolute_error: 0.2327\n",
      "Epoch 5/20\n",
      "368/368 [==============================] - 1s 4ms/step - loss: 0.1369 - mean_absolute_error: 0.2448 - val_loss: 0.1224 - val_mean_absolute_error: 0.2278\n",
      "***TRAIN***:\n",
      "correlation related to cluster centre: 0.93\n",
      "r2 score related to cluster centre: 0.86\n",
      "***VALIDATION***:\n",
      "correlation related to cluster centre: 0.93\n",
      "r2 score related to cluster centre: 0.87\n"
     ]
    },
    {
     "data": {
      "application/vnd.jupyter.widget-view+json": {
       "model_id": "8b37494f59ff4d98b000d5fd45d00317",
       "version_major": 2,
       "version_minor": 0
      },
      "text/plain": [
       "IntProgress(value=0, max=1)"
      ]
     },
     "metadata": {},
     "output_type": "display_data"
    },
    {
     "name": "stdout",
     "output_type": "stream",
     "text": [
      "***VALIDATION***:\n",
      "average correlation: 0.93\n",
      "average r2: 0.87\n",
      "---do_investigations. cluster index : 28---\n"
     ]
    },
    {
     "data": {
      "application/vnd.jupyter.widget-view+json": {
       "model_id": "66306b9fadbe49efb4f91572b4612f56",
       "version_major": 2,
       "version_minor": 0
      },
      "text/plain": [
       "IntProgress(value=0, max=3)"
      ]
     },
     "metadata": {},
     "output_type": "display_data"
    },
    {
     "name": "stdout",
     "output_type": "stream",
     "text": [
      "Epoch 1/20\n",
      "368/368 [==============================] - 3s 4ms/step - loss: 0.2214 - mean_absolute_error: 0.3128 - val_loss: 0.1232 - val_mean_absolute_error: 0.2257\n",
      "Epoch 2/20\n",
      "368/368 [==============================] - 1s 4ms/step - loss: 0.1928 - mean_absolute_error: 0.2867 - val_loss: 0.1245 - val_mean_absolute_error: 0.2367\n",
      "Epoch 3/20\n",
      "368/368 [==============================] - 1s 4ms/step - loss: 0.1927 - mean_absolute_error: 0.2865 - val_loss: 0.1206 - val_mean_absolute_error: 0.2333\n",
      "Epoch 4/20\n",
      "368/368 [==============================] - 1s 4ms/step - loss: 0.1933 - mean_absolute_error: 0.2875 - val_loss: 0.1182 - val_mean_absolute_error: 0.2287\n",
      "Epoch 5/20\n",
      "368/368 [==============================] - 1s 4ms/step - loss: 0.1928 - mean_absolute_error: 0.2874 - val_loss: 0.1257 - val_mean_absolute_error: 0.2300\n",
      "Epoch 6/20\n",
      "368/368 [==============================] - 1s 4ms/step - loss: 0.1925 - mean_absolute_error: 0.2873 - val_loss: 0.1187 - val_mean_absolute_error: 0.2277\n",
      "***TRAIN***:\n",
      "correlation related to cluster centre: 0.90\n",
      "r2 score related to cluster centre: 0.81\n",
      "***VALIDATION***:\n",
      "correlation related to cluster centre: 0.90\n",
      "r2 score related to cluster centre: 0.81\n"
     ]
    },
    {
     "data": {
      "application/vnd.jupyter.widget-view+json": {
       "model_id": "6c80b40d75954d77b4eca670b103dfcc",
       "version_major": 2,
       "version_minor": 0
      },
      "text/plain": [
       "IntProgress(value=0, max=3)"
      ]
     },
     "metadata": {},
     "output_type": "display_data"
    },
    {
     "name": "stdout",
     "output_type": "stream",
     "text": [
      "***VALIDATION***:\n",
      "average correlation: 0.90\n",
      "average r2: 0.81\n",
      "---do_investigations. cluster index : 29---\n"
     ]
    },
    {
     "data": {
      "application/vnd.jupyter.widget-view+json": {
       "model_id": "da8145b59d554bcea91f38aa53f36db1",
       "version_major": 2,
       "version_minor": 0
      },
      "text/plain": [
       "IntProgress(value=0, max=1)"
      ]
     },
     "metadata": {},
     "output_type": "display_data"
    },
    {
     "name": "stdout",
     "output_type": "stream",
     "text": [
      "Epoch 1/20\n",
      "368/368 [==============================] - 3s 4ms/step - loss: 0.2148 - mean_absolute_error: 0.3200 - val_loss: 0.1872 - val_mean_absolute_error: 0.2939\n",
      "Epoch 2/20\n",
      "368/368 [==============================] - 1s 4ms/step - loss: 0.1683 - mean_absolute_error: 0.2825 - val_loss: 0.1797 - val_mean_absolute_error: 0.2907\n",
      "Epoch 3/20\n",
      "368/368 [==============================] - 1s 4ms/step - loss: 0.1671 - mean_absolute_error: 0.2802 - val_loss: 0.1827 - val_mean_absolute_error: 0.2898\n",
      "Epoch 4/20\n",
      "368/368 [==============================] - 1s 4ms/step - loss: 0.1665 - mean_absolute_error: 0.2804 - val_loss: 0.1786 - val_mean_absolute_error: 0.2909\n",
      "Epoch 5/20\n",
      "368/368 [==============================] - 1s 4ms/step - loss: 0.1665 - mean_absolute_error: 0.2800 - val_loss: 0.1821 - val_mean_absolute_error: 0.2958\n",
      "Epoch 6/20\n",
      "368/368 [==============================] - 1s 4ms/step - loss: 0.1662 - mean_absolute_error: 0.2794 - val_loss: 0.1821 - val_mean_absolute_error: 0.3002\n",
      "***TRAIN***:\n",
      "correlation related to cluster centre: 0.91\n",
      "r2 score related to cluster centre: 0.83\n",
      "***VALIDATION***:\n",
      "correlation related to cluster centre: 0.91\n",
      "r2 score related to cluster centre: 0.82\n"
     ]
    },
    {
     "data": {
      "application/vnd.jupyter.widget-view+json": {
       "model_id": "b95494498f5d47d9956a490e8b54df56",
       "version_major": 2,
       "version_minor": 0
      },
      "text/plain": [
       "IntProgress(value=0, max=1)"
      ]
     },
     "metadata": {},
     "output_type": "display_data"
    },
    {
     "name": "stdout",
     "output_type": "stream",
     "text": [
      "***VALIDATION***:\n",
      "average correlation: 0.91\n",
      "average r2: 0.82\n",
      "weighted_average_correlation: 0.91\n",
      "weighted_average_r2_score: 0.82\n",
      "bad clusters rate: 0.94%\n",
      "------------------------------------------------------\n"
     ]
    }
   ],
   "source": [
    "first_path = r\"C:\\Coding\\final-qualifying-work_2023-2024\\ClusteringCpp\\output\\mst 5.txt\"\n",
    "second_path = r\"C:\\Coding\\final-qualifying-work_2023-2024\\ClusteringCpp\\output\\mst 15.txt\"\n",
    "third_path = r\"C:\\Coding\\final-qualifying-work_2023-2024\\ClusteringCpp\\output\\mst 30.txt\"\n",
    "fourth_path = r\"C:\\Coding\\final-qualifying-work_2023-2024\\ClusteringCpp\\output\\mst 60.txt\"\n",
    "\n",
    "output_file = open(\"computational-experiments-output-mst-1.txt\", \"a\")\n",
    "\n",
    "selected_path = third_path\n",
    "\n",
    "print('------------------------------------------------------')\n",
    "output_file.write('------------------------------------------------------\\n')\n",
    "\n",
    "print(f\"rnn {os.path.split(selected_path)[-1]}\")\n",
    "output_file.write(f\"rnn {os.path.split(selected_path)[-1]}\\n\")\n",
    "show_results(rnn_model, get_clusters(selected_path), CONV_WIDTH)\n",
    "\n",
    "print('------------------------------------------------------')\n",
    "output_file.write('------------------------------------------------------\\n')\n",
    "\n",
    "output_file.close()"
   ]
  },
  {
   "cell_type": "code",
   "execution_count": 24,
   "id": "061078af-1631-4112-8a89-4be8592b01a8",
   "metadata": {},
   "outputs": [
    {
     "name": "stdout",
     "output_type": "stream",
     "text": [
      "------------------------------------------------------\n",
      "rnn mst 60.txt\n",
      "---do_investigations. cluster index : 0---\n"
     ]
    },
    {
     "data": {
      "application/vnd.jupyter.widget-view+json": {
       "model_id": "35a3f1ebf2d9485db6923ab6142ded74",
       "version_major": 2,
       "version_minor": 0
      },
      "text/plain": [
       "IntProgress(value=0, max=5152)"
      ]
     },
     "metadata": {},
     "output_type": "display_data"
    },
    {
     "name": "stdout",
     "output_type": "stream",
     "text": [
      "Epoch 1/20\n",
      "368/368 [==============================] - 3s 4ms/step - loss: 0.2450 - mean_absolute_error: 0.3079 - val_loss: 0.2351 - val_mean_absolute_error: 0.2881\n",
      "Epoch 2/20\n",
      "368/368 [==============================] - 1s 4ms/step - loss: 0.2107 - mean_absolute_error: 0.2860 - val_loss: 0.2260 - val_mean_absolute_error: 0.2921\n",
      "Epoch 3/20\n",
      "368/368 [==============================] - 1s 4ms/step - loss: 0.2087 - mean_absolute_error: 0.2857 - val_loss: 0.2255 - val_mean_absolute_error: 0.2920\n",
      "Epoch 4/20\n",
      "368/368 [==============================] - 1s 4ms/step - loss: 0.2087 - mean_absolute_error: 0.2854 - val_loss: 0.2233 - val_mean_absolute_error: 0.2793\n",
      "Epoch 5/20\n",
      "368/368 [==============================] - 1s 4ms/step - loss: 0.2064 - mean_absolute_error: 0.2845 - val_loss: 0.2246 - val_mean_absolute_error: 0.2912\n",
      "Epoch 6/20\n",
      "368/368 [==============================] - 1s 4ms/step - loss: 0.2074 - mean_absolute_error: 0.2843 - val_loss: 0.2228 - val_mean_absolute_error: 0.2859\n",
      "Epoch 7/20\n",
      "368/368 [==============================] - 1s 4ms/step - loss: 0.2063 - mean_absolute_error: 0.2832 - val_loss: 0.2240 - val_mean_absolute_error: 0.2957\n",
      "Epoch 8/20\n",
      "368/368 [==============================] - 1s 4ms/step - loss: 0.2060 - mean_absolute_error: 0.2833 - val_loss: 0.2223 - val_mean_absolute_error: 0.2806\n",
      "Epoch 9/20\n",
      "368/368 [==============================] - 1s 4ms/step - loss: 0.2057 - mean_absolute_error: 0.2834 - val_loss: 0.2236 - val_mean_absolute_error: 0.2823\n",
      "Epoch 10/20\n",
      "368/368 [==============================] - 1s 4ms/step - loss: 0.2052 - mean_absolute_error: 0.2831 - val_loss: 0.2226 - val_mean_absolute_error: 0.2931\n",
      "***TRAIN***:\n",
      "correlation related to cluster centre: 0.89\n",
      "r2 score related to cluster centre: 0.80\n",
      "***VALIDATION***:\n",
      "correlation related to cluster centre: 0.90\n",
      "r2 score related to cluster centre: 0.81\n"
     ]
    },
    {
     "data": {
      "application/vnd.jupyter.widget-view+json": {
       "model_id": "779319294a704c489ef2e9ac930fe1d5",
       "version_major": 2,
       "version_minor": 0
      },
      "text/plain": [
       "IntProgress(value=0, max=5152)"
      ]
     },
     "metadata": {},
     "output_type": "display_data"
    },
    {
     "name": "stdout",
     "output_type": "stream",
     "text": [
      "***VALIDATION***:\n",
      "average correlation: nan\n",
      "average r2: -28088574456142767169424326656.00\n",
      "---do_investigations. cluster index : 1---\n"
     ]
    },
    {
     "data": {
      "application/vnd.jupyter.widget-view+json": {
       "model_id": "f8da78530e95487eb51410297b22003a",
       "version_major": 2,
       "version_minor": 0
      },
      "text/plain": [
       "IntProgress(value=0, max=42)"
      ]
     },
     "metadata": {},
     "output_type": "display_data"
    },
    {
     "name": "stdout",
     "output_type": "stream",
     "text": [
      "Epoch 1/20\n",
      "368/368 [==============================] - 3s 4ms/step - loss: 0.2313 - mean_absolute_error: 0.3053 - val_loss: 0.1737 - val_mean_absolute_error: 0.2742\n",
      "Epoch 2/20\n",
      "368/368 [==============================] - 1s 4ms/step - loss: 0.2106 - mean_absolute_error: 0.2885 - val_loss: 0.1760 - val_mean_absolute_error: 0.2754\n",
      "Epoch 3/20\n",
      "368/368 [==============================] - 1s 4ms/step - loss: 0.2078 - mean_absolute_error: 0.2859 - val_loss: 0.1846 - val_mean_absolute_error: 0.2817\n",
      "***TRAIN***:\n",
      "correlation related to cluster centre: 0.89\n",
      "r2 score related to cluster centre: 0.79\n",
      "***VALIDATION***:\n",
      "correlation related to cluster centre: 0.90\n",
      "r2 score related to cluster centre: 0.81\n"
     ]
    },
    {
     "data": {
      "application/vnd.jupyter.widget-view+json": {
       "model_id": "9f167f3e48d5492ca358f972f76868cf",
       "version_major": 2,
       "version_minor": 0
      },
      "text/plain": [
       "IntProgress(value=0, max=42)"
      ]
     },
     "metadata": {},
     "output_type": "display_data"
    },
    {
     "name": "stdout",
     "output_type": "stream",
     "text": [
      "***VALIDATION***:\n",
      "average correlation: 0.90\n",
      "average r2: 0.79\n",
      "---do_investigations. cluster index : 2---\n"
     ]
    },
    {
     "data": {
      "application/vnd.jupyter.widget-view+json": {
       "model_id": "f412775b293c41a49fbd3b75185cb534",
       "version_major": 2,
       "version_minor": 0
      },
      "text/plain": [
       "IntProgress(value=0, max=58)"
      ]
     },
     "metadata": {},
     "output_type": "display_data"
    },
    {
     "name": "stdout",
     "output_type": "stream",
     "text": [
      "Epoch 1/20\n",
      "368/368 [==============================] - 3s 5ms/step - loss: 0.2342 - mean_absolute_error: 0.3320 - val_loss: 0.1968 - val_mean_absolute_error: 0.3113\n",
      "Epoch 2/20\n",
      "368/368 [==============================] - 1s 4ms/step - loss: 0.2086 - mean_absolute_error: 0.3107 - val_loss: 0.1849 - val_mean_absolute_error: 0.3027\n",
      "Epoch 3/20\n",
      "368/368 [==============================] - 1s 4ms/step - loss: 0.2085 - mean_absolute_error: 0.3107 - val_loss: 0.1847 - val_mean_absolute_error: 0.3011\n",
      "Epoch 4/20\n",
      "368/368 [==============================] - 1s 4ms/step - loss: 0.2073 - mean_absolute_error: 0.3092 - val_loss: 0.1841 - val_mean_absolute_error: 0.2924\n",
      "Epoch 5/20\n",
      "368/368 [==============================] - 1s 4ms/step - loss: 0.2059 - mean_absolute_error: 0.3075 - val_loss: 0.1817 - val_mean_absolute_error: 0.2909\n",
      "Epoch 6/20\n",
      "368/368 [==============================] - 1s 4ms/step - loss: 0.2053 - mean_absolute_error: 0.3068 - val_loss: 0.1827 - val_mean_absolute_error: 0.2961\n",
      "Epoch 7/20\n",
      "368/368 [==============================] - 1s 4ms/step - loss: 0.2071 - mean_absolute_error: 0.3079 - val_loss: 0.1824 - val_mean_absolute_error: 0.2946\n",
      "***TRAIN***:\n",
      "correlation related to cluster centre: 0.89\n",
      "r2 score related to cluster centre: 0.80\n",
      "***VALIDATION***:\n",
      "correlation related to cluster centre: 0.91\n",
      "r2 score related to cluster centre: 0.82\n"
     ]
    },
    {
     "data": {
      "application/vnd.jupyter.widget-view+json": {
       "model_id": "c637498113e4403f84af288aee7214f6",
       "version_major": 2,
       "version_minor": 0
      },
      "text/plain": [
       "IntProgress(value=0, max=58)"
      ]
     },
     "metadata": {},
     "output_type": "display_data"
    },
    {
     "name": "stdout",
     "output_type": "stream",
     "text": [
      "***VALIDATION***:\n",
      "average correlation: 0.90\n",
      "average r2: 0.81\n",
      "---do_investigations. cluster index : 3---\n"
     ]
    },
    {
     "data": {
      "application/vnd.jupyter.widget-view+json": {
       "model_id": "315b09d268c34f7a8e99915eb75f49f6",
       "version_major": 2,
       "version_minor": 0
      },
      "text/plain": [
       "IntProgress(value=0, max=57)"
      ]
     },
     "metadata": {},
     "output_type": "display_data"
    },
    {
     "name": "stdout",
     "output_type": "stream",
     "text": [
      "Epoch 1/20\n",
      "368/368 [==============================] - 3s 4ms/step - loss: 0.2525 - mean_absolute_error: 0.3337 - val_loss: 0.1635 - val_mean_absolute_error: 0.2746\n",
      "Epoch 2/20\n",
      "368/368 [==============================] - 1s 4ms/step - loss: 0.2110 - mean_absolute_error: 0.3057 - val_loss: 0.1633 - val_mean_absolute_error: 0.2847\n",
      "Epoch 3/20\n",
      "368/368 [==============================] - 1s 4ms/step - loss: 0.2106 - mean_absolute_error: 0.3049 - val_loss: 0.1618 - val_mean_absolute_error: 0.2798\n",
      "Epoch 4/20\n",
      "368/368 [==============================] - 1s 4ms/step - loss: 0.2094 - mean_absolute_error: 0.3040 - val_loss: 0.1647 - val_mean_absolute_error: 0.2752\n",
      "Epoch 5/20\n",
      "368/368 [==============================] - 1s 4ms/step - loss: 0.2093 - mean_absolute_error: 0.3035 - val_loss: 0.1619 - val_mean_absolute_error: 0.2790\n",
      "***TRAIN***:\n",
      "correlation related to cluster centre: 0.89\n",
      "r2 score related to cluster centre: 0.79\n",
      "***VALIDATION***:\n",
      "correlation related to cluster centre: 0.91\n",
      "r2 score related to cluster centre: 0.82\n"
     ]
    },
    {
     "data": {
      "application/vnd.jupyter.widget-view+json": {
       "model_id": "0e0204a26c5d47db8368fa70d6faebd8",
       "version_major": 2,
       "version_minor": 0
      },
      "text/plain": [
       "IntProgress(value=0, max=57)"
      ]
     },
     "metadata": {},
     "output_type": "display_data"
    },
    {
     "name": "stdout",
     "output_type": "stream",
     "text": [
      "***VALIDATION***:\n",
      "average correlation: 0.90\n",
      "average r2: 0.82\n",
      "---do_investigations. cluster index : 4---\n"
     ]
    },
    {
     "data": {
      "application/vnd.jupyter.widget-view+json": {
       "model_id": "aaf0080096614bd98557a4088cfb9393",
       "version_major": 2,
       "version_minor": 0
      },
      "text/plain": [
       "IntProgress(value=0, max=37)"
      ]
     },
     "metadata": {},
     "output_type": "display_data"
    },
    {
     "name": "stdout",
     "output_type": "stream",
     "text": [
      "Epoch 1/20\n",
      "368/368 [==============================] - 3s 4ms/step - loss: 0.2352 - mean_absolute_error: 0.3296 - val_loss: 0.1612 - val_mean_absolute_error: 0.2817\n",
      "Epoch 2/20\n",
      "368/368 [==============================] - 1s 4ms/step - loss: 0.2131 - mean_absolute_error: 0.3121 - val_loss: 0.1605 - val_mean_absolute_error: 0.2759\n",
      "Epoch 3/20\n",
      "368/368 [==============================] - 1s 4ms/step - loss: 0.2125 - mean_absolute_error: 0.3111 - val_loss: 0.1612 - val_mean_absolute_error: 0.2829\n",
      "Epoch 4/20\n",
      "368/368 [==============================] - 1s 4ms/step - loss: 0.2114 - mean_absolute_error: 0.3101 - val_loss: 0.1615 - val_mean_absolute_error: 0.2757\n",
      "***TRAIN***:\n",
      "correlation related to cluster centre: 0.89\n",
      "r2 score related to cluster centre: 0.78\n",
      "***VALIDATION***:\n",
      "correlation related to cluster centre: 0.91\n",
      "r2 score related to cluster centre: 0.82\n"
     ]
    },
    {
     "data": {
      "application/vnd.jupyter.widget-view+json": {
       "model_id": "71a6238b1f04477c98095b5231849833",
       "version_major": 2,
       "version_minor": 0
      },
      "text/plain": [
       "IntProgress(value=0, max=37)"
      ]
     },
     "metadata": {},
     "output_type": "display_data"
    },
    {
     "name": "stdout",
     "output_type": "stream",
     "text": [
      "***VALIDATION***:\n",
      "average correlation: 0.90\n",
      "average r2: 0.81\n",
      "---do_investigations. cluster index : 5---\n"
     ]
    },
    {
     "data": {
      "application/vnd.jupyter.widget-view+json": {
       "model_id": "d4ad7bdc048246018e9750a90ed8d385",
       "version_major": 2,
       "version_minor": 0
      },
      "text/plain": [
       "IntProgress(value=0, max=13)"
      ]
     },
     "metadata": {},
     "output_type": "display_data"
    },
    {
     "name": "stdout",
     "output_type": "stream",
     "text": [
      "Epoch 1/20\n",
      "368/368 [==============================] - 3s 4ms/step - loss: 0.2395 - mean_absolute_error: 0.3383 - val_loss: 0.1835 - val_mean_absolute_error: 0.2917\n",
      "Epoch 2/20\n",
      "368/368 [==============================] - 1s 4ms/step - loss: 0.2079 - mean_absolute_error: 0.3145 - val_loss: 0.1902 - val_mean_absolute_error: 0.2973\n",
      "Epoch 3/20\n",
      "368/368 [==============================] - 1s 4ms/step - loss: 0.2072 - mean_absolute_error: 0.3147 - val_loss: 0.1871 - val_mean_absolute_error: 0.2965\n",
      "***TRAIN***:\n",
      "correlation related to cluster centre: 0.89\n",
      "r2 score related to cluster centre: 0.79\n",
      "***VALIDATION***:\n",
      "correlation related to cluster centre: 0.91\n",
      "r2 score related to cluster centre: 0.81\n"
     ]
    },
    {
     "data": {
      "application/vnd.jupyter.widget-view+json": {
       "model_id": "55771e31b7ab4bc1bae277b56f059f64",
       "version_major": 2,
       "version_minor": 0
      },
      "text/plain": [
       "IntProgress(value=0, max=13)"
      ]
     },
     "metadata": {},
     "output_type": "display_data"
    },
    {
     "name": "stdout",
     "output_type": "stream",
     "text": [
      "***VALIDATION***:\n",
      "average correlation: 0.91\n",
      "average r2: 0.81\n",
      "---do_investigations. cluster index : 6---\n"
     ]
    },
    {
     "data": {
      "application/vnd.jupyter.widget-view+json": {
       "model_id": "959b5f5cc06548ee96e444059f3af2e9",
       "version_major": 2,
       "version_minor": 0
      },
      "text/plain": [
       "IntProgress(value=0, max=3)"
      ]
     },
     "metadata": {},
     "output_type": "display_data"
    },
    {
     "name": "stdout",
     "output_type": "stream",
     "text": [
      "Epoch 1/20\n",
      "368/368 [==============================] - 3s 4ms/step - loss: 0.2365 - mean_absolute_error: 0.3357 - val_loss: 0.1477 - val_mean_absolute_error: 0.2780\n",
      "Epoch 2/20\n",
      "368/368 [==============================] - 1s 4ms/step - loss: 0.2032 - mean_absolute_error: 0.3109 - val_loss: 0.1488 - val_mean_absolute_error: 0.2845\n",
      "Epoch 3/20\n",
      "368/368 [==============================] - 1s 4ms/step - loss: 0.2029 - mean_absolute_error: 0.3109 - val_loss: 0.1500 - val_mean_absolute_error: 0.2843\n",
      "***TRAIN***:\n",
      "correlation related to cluster centre: 0.89\n",
      "r2 score related to cluster centre: 0.80\n",
      "***VALIDATION***:\n",
      "correlation related to cluster centre: 0.91\n",
      "r2 score related to cluster centre: 0.82\n"
     ]
    },
    {
     "data": {
      "application/vnd.jupyter.widget-view+json": {
       "model_id": "6832830b651d4730bd792d6a5c64f136",
       "version_major": 2,
       "version_minor": 0
      },
      "text/plain": [
       "IntProgress(value=0, max=3)"
      ]
     },
     "metadata": {},
     "output_type": "display_data"
    },
    {
     "name": "stdout",
     "output_type": "stream",
     "text": [
      "***VALIDATION***:\n",
      "average correlation: 0.91\n",
      "average r2: 0.82\n",
      "---do_investigations. cluster index : 7---\n"
     ]
    },
    {
     "data": {
      "application/vnd.jupyter.widget-view+json": {
       "model_id": "cd2dedb787d3483ca33613c6fd1181a9",
       "version_major": 2,
       "version_minor": 0
      },
      "text/plain": [
       "IntProgress(value=0, max=4)"
      ]
     },
     "metadata": {},
     "output_type": "display_data"
    },
    {
     "name": "stdout",
     "output_type": "stream",
     "text": [
      "Epoch 1/20\n",
      "368/368 [==============================] - 3s 4ms/step - loss: 0.2240 - mean_absolute_error: 0.3208 - val_loss: 0.1284 - val_mean_absolute_error: 0.2573\n",
      "Epoch 2/20\n",
      "368/368 [==============================] - 1s 4ms/step - loss: 0.1949 - mean_absolute_error: 0.3004 - val_loss: 0.1292 - val_mean_absolute_error: 0.2583\n",
      "Epoch 3/20\n",
      "368/368 [==============================] - 1s 4ms/step - loss: 0.1945 - mean_absolute_error: 0.2990 - val_loss: 0.1281 - val_mean_absolute_error: 0.2580\n",
      "Epoch 4/20\n",
      "368/368 [==============================] - 1s 4ms/step - loss: 0.1939 - mean_absolute_error: 0.2998 - val_loss: 0.1262 - val_mean_absolute_error: 0.2445\n",
      "Epoch 5/20\n",
      "368/368 [==============================] - 1s 4ms/step - loss: 0.1948 - mean_absolute_error: 0.3001 - val_loss: 0.1262 - val_mean_absolute_error: 0.2522\n",
      "Epoch 6/20\n",
      "368/368 [==============================] - 1s 4ms/step - loss: 0.1934 - mean_absolute_error: 0.2981 - val_loss: 0.1313 - val_mean_absolute_error: 0.2542\n",
      "***TRAIN***:\n",
      "correlation related to cluster centre: 0.90\n",
      "r2 score related to cluster centre: 0.80\n",
      "***VALIDATION***:\n",
      "correlation related to cluster centre: 0.91\n",
      "r2 score related to cluster centre: 0.83\n"
     ]
    },
    {
     "data": {
      "application/vnd.jupyter.widget-view+json": {
       "model_id": "3043ab2c81cb4217a6782e5a8becd2f7",
       "version_major": 2,
       "version_minor": 0
      },
      "text/plain": [
       "IntProgress(value=0, max=4)"
      ]
     },
     "metadata": {},
     "output_type": "display_data"
    },
    {
     "name": "stdout",
     "output_type": "stream",
     "text": [
      "***VALIDATION***:\n",
      "average correlation: 0.91\n",
      "average r2: 0.83\n",
      "---do_investigations. cluster index : 8---\n"
     ]
    },
    {
     "data": {
      "application/vnd.jupyter.widget-view+json": {
       "model_id": "8e468ad199854d4ba1b46286112d4a9a",
       "version_major": 2,
       "version_minor": 0
      },
      "text/plain": [
       "IntProgress(value=0, max=28)"
      ]
     },
     "metadata": {},
     "output_type": "display_data"
    },
    {
     "name": "stdout",
     "output_type": "stream",
     "text": [
      "Epoch 1/20\n",
      "368/368 [==============================] - 3s 4ms/step - loss: 0.2289 - mean_absolute_error: 0.3293 - val_loss: 0.1390 - val_mean_absolute_error: 0.2619\n",
      "Epoch 2/20\n",
      "368/368 [==============================] - 1s 4ms/step - loss: 0.1920 - mean_absolute_error: 0.2985 - val_loss: 0.1384 - val_mean_absolute_error: 0.2619\n",
      "Epoch 3/20\n",
      "368/368 [==============================] - 1s 4ms/step - loss: 0.1922 - mean_absolute_error: 0.2978 - val_loss: 0.1379 - val_mean_absolute_error: 0.2626\n",
      "Epoch 4/20\n",
      "368/368 [==============================] - 1s 4ms/step - loss: 0.1903 - mean_absolute_error: 0.2966 - val_loss: 0.1417 - val_mean_absolute_error: 0.2682\n",
      "Epoch 5/20\n",
      "368/368 [==============================] - 1s 4ms/step - loss: 0.1914 - mean_absolute_error: 0.2982 - val_loss: 0.1385 - val_mean_absolute_error: 0.2639\n",
      "***TRAIN***:\n",
      "correlation related to cluster centre: 0.90\n",
      "r2 score related to cluster centre: 0.81\n",
      "***VALIDATION***:\n",
      "correlation related to cluster centre: 0.91\n",
      "r2 score related to cluster centre: 0.83\n"
     ]
    },
    {
     "data": {
      "application/vnd.jupyter.widget-view+json": {
       "model_id": "cf04883e9c4d4079b8208e057f305b7a",
       "version_major": 2,
       "version_minor": 0
      },
      "text/plain": [
       "IntProgress(value=0, max=28)"
      ]
     },
     "metadata": {},
     "output_type": "display_data"
    },
    {
     "name": "stdout",
     "output_type": "stream",
     "text": [
      "***VALIDATION***:\n",
      "average correlation: 0.91\n",
      "average r2: 0.83\n",
      "---do_investigations. cluster index : 9---\n"
     ]
    },
    {
     "data": {
      "application/vnd.jupyter.widget-view+json": {
       "model_id": "5a5d6229938d4af4b8eac3f9088c649d",
       "version_major": 2,
       "version_minor": 0
      },
      "text/plain": [
       "IntProgress(value=0, max=36)"
      ]
     },
     "metadata": {},
     "output_type": "display_data"
    },
    {
     "name": "stdout",
     "output_type": "stream",
     "text": [
      "Epoch 1/20\n",
      "368/368 [==============================] - 3s 4ms/step - loss: 0.2237 - mean_absolute_error: 0.3285 - val_loss: 0.1432 - val_mean_absolute_error: 0.2669\n",
      "Epoch 2/20\n",
      "368/368 [==============================] - 1s 4ms/step - loss: 0.1905 - mean_absolute_error: 0.2995 - val_loss: 0.1420 - val_mean_absolute_error: 0.2722\n",
      "Epoch 3/20\n",
      "368/368 [==============================] - 1s 4ms/step - loss: 0.1921 - mean_absolute_error: 0.3013 - val_loss: 0.1448 - val_mean_absolute_error: 0.2781\n",
      "Epoch 4/20\n",
      "368/368 [==============================] - 1s 4ms/step - loss: 0.1899 - mean_absolute_error: 0.2995 - val_loss: 0.1406 - val_mean_absolute_error: 0.2640\n",
      "Epoch 5/20\n",
      "368/368 [==============================] - 1s 4ms/step - loss: 0.1907 - mean_absolute_error: 0.3001 - val_loss: 0.1427 - val_mean_absolute_error: 0.2766\n",
      "Epoch 6/20\n",
      "368/368 [==============================] - 1s 4ms/step - loss: 0.1906 - mean_absolute_error: 0.2997 - val_loss: 0.1449 - val_mean_absolute_error: 0.2736\n",
      "***TRAIN***:\n",
      "correlation related to cluster centre: 0.90\n",
      "r2 score related to cluster centre: 0.81\n",
      "***VALIDATION***:\n",
      "correlation related to cluster centre: 0.91\n",
      "r2 score related to cluster centre: 0.82\n"
     ]
    },
    {
     "data": {
      "application/vnd.jupyter.widget-view+json": {
       "model_id": "1c5bcf403bb541acbfa5f1fe02b2ba21",
       "version_major": 2,
       "version_minor": 0
      },
      "text/plain": [
       "IntProgress(value=0, max=36)"
      ]
     },
     "metadata": {},
     "output_type": "display_data"
    },
    {
     "name": "stdout",
     "output_type": "stream",
     "text": [
      "***VALIDATION***:\n",
      "average correlation: 0.91\n",
      "average r2: 0.82\n",
      "---do_investigations. cluster index : 10---\n"
     ]
    },
    {
     "data": {
      "application/vnd.jupyter.widget-view+json": {
       "model_id": "8772e06bbbcf472a8f1bfcb3d456772b",
       "version_major": 2,
       "version_minor": 0
      },
      "text/plain": [
       "IntProgress(value=0, max=4)"
      ]
     },
     "metadata": {},
     "output_type": "display_data"
    },
    {
     "name": "stdout",
     "output_type": "stream",
     "text": [
      "Epoch 1/20\n",
      "368/368 [==============================] - 3s 4ms/step - loss: 0.1908 - mean_absolute_error: 0.2997 - val_loss: 0.2126 - val_mean_absolute_error: 0.3212\n",
      "Epoch 2/20\n",
      "368/368 [==============================] - 1s 4ms/step - loss: 0.1640 - mean_absolute_error: 0.2755 - val_loss: 0.2118 - val_mean_absolute_error: 0.3204\n",
      "Epoch 3/20\n",
      "368/368 [==============================] - 1s 4ms/step - loss: 0.1631 - mean_absolute_error: 0.2752 - val_loss: 0.2116 - val_mean_absolute_error: 0.3212\n",
      "Epoch 4/20\n",
      "368/368 [==============================] - 1s 4ms/step - loss: 0.1633 - mean_absolute_error: 0.2749 - val_loss: 0.2116 - val_mean_absolute_error: 0.3163\n",
      "Epoch 5/20\n",
      "368/368 [==============================] - 1s 4ms/step - loss: 0.1622 - mean_absolute_error: 0.2748 - val_loss: 0.2126 - val_mean_absolute_error: 0.3178\n",
      "Epoch 6/20\n",
      "368/368 [==============================] - 1s 4ms/step - loss: 0.1622 - mean_absolute_error: 0.2738 - val_loss: 0.2135 - val_mean_absolute_error: 0.3131\n",
      "***TRAIN***:\n",
      "correlation related to cluster centre: 0.92\n",
      "r2 score related to cluster centre: 0.84\n",
      "***VALIDATION***:\n",
      "correlation related to cluster centre: 0.91\n",
      "r2 score related to cluster centre: 0.83\n"
     ]
    },
    {
     "data": {
      "application/vnd.jupyter.widget-view+json": {
       "model_id": "d5525524cda84bd7a37ed4ecf42eaa0e",
       "version_major": 2,
       "version_minor": 0
      },
      "text/plain": [
       "IntProgress(value=0, max=4)"
      ]
     },
     "metadata": {},
     "output_type": "display_data"
    },
    {
     "name": "stdout",
     "output_type": "stream",
     "text": [
      "***VALIDATION***:\n",
      "average correlation: 0.91\n",
      "average r2: 0.83\n",
      "---do_investigations. cluster index : 11---\n"
     ]
    },
    {
     "data": {
      "application/vnd.jupyter.widget-view+json": {
       "model_id": "1581257e20c442dcacb3bd7fdbf5fb0e",
       "version_major": 2,
       "version_minor": 0
      },
      "text/plain": [
       "IntProgress(value=0, max=40)"
      ]
     },
     "metadata": {},
     "output_type": "display_data"
    },
    {
     "name": "stdout",
     "output_type": "stream",
     "text": [
      "Epoch 1/20\n",
      "368/368 [==============================] - 3s 4ms/step - loss: 0.2182 - mean_absolute_error: 0.3237 - val_loss: 0.1663 - val_mean_absolute_error: 0.3061\n",
      "Epoch 2/20\n",
      "368/368 [==============================] - 1s 4ms/step - loss: 0.1910 - mean_absolute_error: 0.3039 - val_loss: 0.1555 - val_mean_absolute_error: 0.2894\n",
      "Epoch 3/20\n",
      "368/368 [==============================] - 1s 4ms/step - loss: 0.1905 - mean_absolute_error: 0.3027 - val_loss: 0.1530 - val_mean_absolute_error: 0.2827\n",
      "Epoch 4/20\n",
      "368/368 [==============================] - 1s 4ms/step - loss: 0.1898 - mean_absolute_error: 0.3021 - val_loss: 0.1510 - val_mean_absolute_error: 0.2806\n",
      "Epoch 5/20\n",
      "368/368 [==============================] - 1s 4ms/step - loss: 0.1899 - mean_absolute_error: 0.3022 - val_loss: 0.1527 - val_mean_absolute_error: 0.2855\n",
      "Epoch 6/20\n",
      "368/368 [==============================] - 1s 4ms/step - loss: 0.1899 - mean_absolute_error: 0.3021 - val_loss: 0.1503 - val_mean_absolute_error: 0.2783\n",
      "Epoch 7/20\n",
      "368/368 [==============================] - 1s 4ms/step - loss: 0.1892 - mean_absolute_error: 0.3008 - val_loss: 0.1512 - val_mean_absolute_error: 0.2814\n",
      "Epoch 8/20\n",
      "368/368 [==============================] - 1s 4ms/step - loss: 0.1896 - mean_absolute_error: 0.3013 - val_loss: 0.1531 - val_mean_absolute_error: 0.2834\n",
      "***TRAIN***:\n",
      "correlation related to cluster centre: 0.90\n",
      "r2 score related to cluster centre: 0.81\n",
      "***VALIDATION***:\n",
      "correlation related to cluster centre: 0.91\n",
      "r2 score related to cluster centre: 0.82\n"
     ]
    },
    {
     "data": {
      "application/vnd.jupyter.widget-view+json": {
       "model_id": "3455728038b24aacb83a5553b0e10850",
       "version_major": 2,
       "version_minor": 0
      },
      "text/plain": [
       "IntProgress(value=0, max=40)"
      ]
     },
     "metadata": {},
     "output_type": "display_data"
    },
    {
     "name": "stdout",
     "output_type": "stream",
     "text": [
      "***VALIDATION***:\n",
      "average correlation: 0.91\n",
      "average r2: 0.82\n",
      "---do_investigations. cluster index : 12---\n"
     ]
    },
    {
     "data": {
      "application/vnd.jupyter.widget-view+json": {
       "model_id": "36c2f570e160489fafbe66250cb50995",
       "version_major": 2,
       "version_minor": 0
      },
      "text/plain": [
       "IntProgress(value=0, max=87)"
      ]
     },
     "metadata": {},
     "output_type": "display_data"
    },
    {
     "name": "stdout",
     "output_type": "stream",
     "text": [
      "Epoch 1/20\n",
      "368/368 [==============================] - 4s 4ms/step - loss: 0.2126 - mean_absolute_error: 0.3229 - val_loss: 0.1562 - val_mean_absolute_error: 0.2730\n",
      "Epoch 2/20\n",
      "368/368 [==============================] - 1s 4ms/step - loss: 0.1931 - mean_absolute_error: 0.3039 - val_loss: 0.1547 - val_mean_absolute_error: 0.2688\n",
      "Epoch 3/20\n",
      "368/368 [==============================] - 1s 4ms/step - loss: 0.1916 - mean_absolute_error: 0.3027 - val_loss: 0.1538 - val_mean_absolute_error: 0.2738\n",
      "Epoch 4/20\n",
      "368/368 [==============================] - 1s 4ms/step - loss: 0.1915 - mean_absolute_error: 0.3019 - val_loss: 0.1535 - val_mean_absolute_error: 0.2695\n",
      "Epoch 5/20\n",
      "368/368 [==============================] - 1s 4ms/step - loss: 0.1908 - mean_absolute_error: 0.3021 - val_loss: 0.1530 - val_mean_absolute_error: 0.2716\n",
      "Epoch 6/20\n",
      "368/368 [==============================] - 1s 4ms/step - loss: 0.1916 - mean_absolute_error: 0.3017 - val_loss: 0.1562 - val_mean_absolute_error: 0.2683\n",
      "Epoch 7/20\n",
      "368/368 [==============================] - 1s 4ms/step - loss: 0.1915 - mean_absolute_error: 0.3018 - val_loss: 0.1550 - val_mean_absolute_error: 0.2710\n",
      "***TRAIN***:\n",
      "correlation related to cluster centre: 0.90\n",
      "r2 score related to cluster centre: 0.81\n",
      "***VALIDATION***:\n",
      "correlation related to cluster centre: 0.91\n",
      "r2 score related to cluster centre: 0.83\n"
     ]
    },
    {
     "data": {
      "application/vnd.jupyter.widget-view+json": {
       "model_id": "715b4d6ec0ab450c81290e2daee670ce",
       "version_major": 2,
       "version_minor": 0
      },
      "text/plain": [
       "IntProgress(value=0, max=87)"
      ]
     },
     "metadata": {},
     "output_type": "display_data"
    },
    {
     "name": "stdout",
     "output_type": "stream",
     "text": [
      "***VALIDATION***:\n",
      "average correlation: 0.90\n",
      "average r2: 0.81\n",
      "---do_investigations. cluster index : 13---\n"
     ]
    },
    {
     "data": {
      "application/vnd.jupyter.widget-view+json": {
       "model_id": "d9e15dbd79354dbca1f9169d2d2c18e4",
       "version_major": 2,
       "version_minor": 0
      },
      "text/plain": [
       "IntProgress(value=0, max=1898)"
      ]
     },
     "metadata": {},
     "output_type": "display_data"
    },
    {
     "name": "stdout",
     "output_type": "stream",
     "text": [
      "Epoch 1/20\n",
      "368/368 [==============================] - 3s 5ms/step - loss: 0.2489 - mean_absolute_error: 0.3469 - val_loss: 0.1943 - val_mean_absolute_error: 0.3026\n",
      "Epoch 2/20\n",
      "368/368 [==============================] - 1s 4ms/step - loss: 0.2034 - mean_absolute_error: 0.3127 - val_loss: 0.1940 - val_mean_absolute_error: 0.3096\n",
      "Epoch 3/20\n",
      "368/368 [==============================] - 1s 4ms/step - loss: 0.2027 - mean_absolute_error: 0.3133 - val_loss: 0.1908 - val_mean_absolute_error: 0.2949\n",
      "Epoch 4/20\n",
      "368/368 [==============================] - 1s 4ms/step - loss: 0.2029 - mean_absolute_error: 0.3128 - val_loss: 0.1951 - val_mean_absolute_error: 0.3138\n",
      "Epoch 5/20\n",
      "368/368 [==============================] - 1s 4ms/step - loss: 0.2024 - mean_absolute_error: 0.3123 - val_loss: 0.1927 - val_mean_absolute_error: 0.2974\n",
      "***TRAIN***:\n",
      "correlation related to cluster centre: 0.90\n",
      "r2 score related to cluster centre: 0.80\n",
      "***VALIDATION***:\n",
      "correlation related to cluster centre: 0.91\n",
      "r2 score related to cluster centre: 0.82\n"
     ]
    },
    {
     "data": {
      "application/vnd.jupyter.widget-view+json": {
       "model_id": "1234c83f17d74e159038ff7336fb6e2e",
       "version_major": 2,
       "version_minor": 0
      },
      "text/plain": [
       "IntProgress(value=0, max=1898)"
      ]
     },
     "metadata": {},
     "output_type": "display_data"
    },
    {
     "name": "stdout",
     "output_type": "stream",
     "text": [
      "***VALIDATION***:\n",
      "average correlation: 0.89\n",
      "average r2: -3.74\n",
      "---do_investigations. cluster index : 14---\n"
     ]
    },
    {
     "data": {
      "application/vnd.jupyter.widget-view+json": {
       "model_id": "4dab467a67814856909f59052296dcca",
       "version_major": 2,
       "version_minor": 0
      },
      "text/plain": [
       "IntProgress(value=0, max=28)"
      ]
     },
     "metadata": {},
     "output_type": "display_data"
    },
    {
     "name": "stdout",
     "output_type": "stream",
     "text": [
      "Epoch 1/20\n",
      "368/368 [==============================] - 3s 4ms/step - loss: 0.2515 - mean_absolute_error: 0.3171 - val_loss: 0.1791 - val_mean_absolute_error: 0.2835\n",
      "Epoch 2/20\n",
      "368/368 [==============================] - 1s 4ms/step - loss: 0.2144 - mean_absolute_error: 0.2930 - val_loss: 0.1771 - val_mean_absolute_error: 0.2799\n",
      "Epoch 3/20\n",
      "368/368 [==============================] - 1s 4ms/step - loss: 0.2131 - mean_absolute_error: 0.2927 - val_loss: 0.1722 - val_mean_absolute_error: 0.2771\n",
      "Epoch 4/20\n",
      "368/368 [==============================] - 1s 4ms/step - loss: 0.2128 - mean_absolute_error: 0.2916 - val_loss: 0.1706 - val_mean_absolute_error: 0.2586\n",
      "Epoch 5/20\n",
      "368/368 [==============================] - 1s 4ms/step - loss: 0.2111 - mean_absolute_error: 0.2899 - val_loss: 0.1679 - val_mean_absolute_error: 0.2627\n",
      "Epoch 6/20\n",
      "368/368 [==============================] - 1s 4ms/step - loss: 0.2097 - mean_absolute_error: 0.2888 - val_loss: 0.1762 - val_mean_absolute_error: 0.2699\n",
      "Epoch 7/20\n",
      "368/368 [==============================] - 1s 4ms/step - loss: 0.2102 - mean_absolute_error: 0.2898 - val_loss: 0.1704 - val_mean_absolute_error: 0.2794\n",
      "***TRAIN***:\n",
      "correlation related to cluster centre: 0.89\n",
      "r2 score related to cluster centre: 0.79\n",
      "***VALIDATION***:\n",
      "correlation related to cluster centre: 0.90\n",
      "r2 score related to cluster centre: 0.81\n"
     ]
    },
    {
     "data": {
      "application/vnd.jupyter.widget-view+json": {
       "model_id": "3d3cb5ac4ae240458782b4871eace40e",
       "version_major": 2,
       "version_minor": 0
      },
      "text/plain": [
       "IntProgress(value=0, max=28)"
      ]
     },
     "metadata": {},
     "output_type": "display_data"
    },
    {
     "name": "stdout",
     "output_type": "stream",
     "text": [
      "***VALIDATION***:\n",
      "average correlation: 0.90\n",
      "average r2: 0.81\n",
      "---do_investigations. cluster index : 15---\n"
     ]
    },
    {
     "data": {
      "application/vnd.jupyter.widget-view+json": {
       "model_id": "c2b43dd5792e4a04bf149b58ee8192e8",
       "version_major": 2,
       "version_minor": 0
      },
      "text/plain": [
       "IntProgress(value=0, max=5)"
      ]
     },
     "metadata": {},
     "output_type": "display_data"
    },
    {
     "name": "stdout",
     "output_type": "stream",
     "text": [
      "Epoch 1/20\n",
      "368/368 [==============================] - 3s 4ms/step - loss: 0.2283 - mean_absolute_error: 0.3167 - val_loss: 0.2377 - val_mean_absolute_error: 0.3098\n",
      "Epoch 2/20\n",
      "368/368 [==============================] - 1s 4ms/step - loss: 0.2118 - mean_absolute_error: 0.3022 - val_loss: 0.2406 - val_mean_absolute_error: 0.3143\n",
      "Epoch 3/20\n",
      "368/368 [==============================] - 1s 4ms/step - loss: 0.2117 - mean_absolute_error: 0.3013 - val_loss: 0.2402 - val_mean_absolute_error: 0.3259\n",
      "***TRAIN***:\n",
      "correlation related to cluster centre: 0.89\n",
      "r2 score related to cluster centre: 0.79\n",
      "***VALIDATION***:\n",
      "correlation related to cluster centre: 0.90\n",
      "r2 score related to cluster centre: 0.81\n"
     ]
    },
    {
     "data": {
      "application/vnd.jupyter.widget-view+json": {
       "model_id": "148a766f39824236aa9b0e83a2fe7522",
       "version_major": 2,
       "version_minor": 0
      },
      "text/plain": [
       "IntProgress(value=0, max=5)"
      ]
     },
     "metadata": {},
     "output_type": "display_data"
    },
    {
     "name": "stdout",
     "output_type": "stream",
     "text": [
      "***VALIDATION***:\n",
      "average correlation: 0.90\n",
      "average r2: 0.80\n",
      "---do_investigations. cluster index : 16---\n"
     ]
    },
    {
     "data": {
      "application/vnd.jupyter.widget-view+json": {
       "model_id": "71271de4094a4d8d8072baa7d3d5fa88",
       "version_major": 2,
       "version_minor": 0
      },
      "text/plain": [
       "IntProgress(value=0, max=5)"
      ]
     },
     "metadata": {},
     "output_type": "display_data"
    },
    {
     "name": "stdout",
     "output_type": "stream",
     "text": [
      "Epoch 1/20\n",
      "368/368 [==============================] - 3s 4ms/step - loss: 0.2101 - mean_absolute_error: 0.3160 - val_loss: 0.1531 - val_mean_absolute_error: 0.2701\n",
      "Epoch 2/20\n",
      "368/368 [==============================] - 1s 4ms/step - loss: 0.1894 - mean_absolute_error: 0.2968 - val_loss: 0.1470 - val_mean_absolute_error: 0.2676\n",
      "Epoch 3/20\n",
      "368/368 [==============================] - 1s 4ms/step - loss: 0.1889 - mean_absolute_error: 0.2960 - val_loss: 0.1474 - val_mean_absolute_error: 0.2726\n",
      "Epoch 4/20\n",
      "368/368 [==============================] - 1s 4ms/step - loss: 0.1881 - mean_absolute_error: 0.2956 - val_loss: 0.1501 - val_mean_absolute_error: 0.2787\n",
      "***TRAIN***:\n",
      "correlation related to cluster centre: 0.90\n",
      "r2 score related to cluster centre: 0.81\n",
      "***VALIDATION***:\n",
      "correlation related to cluster centre: 0.91\n",
      "r2 score related to cluster centre: 0.83\n"
     ]
    },
    {
     "data": {
      "application/vnd.jupyter.widget-view+json": {
       "model_id": "0417900c06cd4e79a7cecd587a7dd068",
       "version_major": 2,
       "version_minor": 0
      },
      "text/plain": [
       "IntProgress(value=0, max=5)"
      ]
     },
     "metadata": {},
     "output_type": "display_data"
    },
    {
     "name": "stdout",
     "output_type": "stream",
     "text": [
      "***VALIDATION***:\n",
      "average correlation: 0.91\n",
      "average r2: 0.82\n",
      "---do_investigations. cluster index : 17---\n"
     ]
    },
    {
     "data": {
      "application/vnd.jupyter.widget-view+json": {
       "model_id": "ceee024172c84672941807f4702a71ab",
       "version_major": 2,
       "version_minor": 0
      },
      "text/plain": [
       "IntProgress(value=0, max=3)"
      ]
     },
     "metadata": {},
     "output_type": "display_data"
    },
    {
     "name": "stdout",
     "output_type": "stream",
     "text": [
      "Epoch 1/20\n",
      "368/368 [==============================] - 3s 4ms/step - loss: 0.2050 - mean_absolute_error: 0.3160 - val_loss: 0.1919 - val_mean_absolute_error: 0.2983\n",
      "Epoch 2/20\n",
      "368/368 [==============================] - 1s 4ms/step - loss: 0.1823 - mean_absolute_error: 0.2952 - val_loss: 0.1814 - val_mean_absolute_error: 0.2901\n",
      "Epoch 3/20\n",
      "368/368 [==============================] - 1s 4ms/step - loss: 0.1830 - mean_absolute_error: 0.2961 - val_loss: 0.1846 - val_mean_absolute_error: 0.2911\n",
      "Epoch 4/20\n",
      "368/368 [==============================] - 1s 4ms/step - loss: 0.1827 - mean_absolute_error: 0.2953 - val_loss: 0.1791 - val_mean_absolute_error: 0.3033\n",
      "Epoch 5/20\n",
      "368/368 [==============================] - 1s 4ms/step - loss: 0.1815 - mean_absolute_error: 0.2946 - val_loss: 0.1872 - val_mean_absolute_error: 0.2945\n",
      "Epoch 6/20\n",
      "368/368 [==============================] - 1s 4ms/step - loss: 0.1828 - mean_absolute_error: 0.2958 - val_loss: 0.1796 - val_mean_absolute_error: 0.2983\n",
      "***TRAIN***:\n",
      "correlation related to cluster centre: 0.91\n",
      "r2 score related to cluster centre: 0.82\n",
      "***VALIDATION***:\n",
      "correlation related to cluster centre: 0.91\n",
      "r2 score related to cluster centre: 0.82\n"
     ]
    },
    {
     "data": {
      "application/vnd.jupyter.widget-view+json": {
       "model_id": "758a3355c03a415bbd41fac64c538a3b",
       "version_major": 2,
       "version_minor": 0
      },
      "text/plain": [
       "IntProgress(value=0, max=3)"
      ]
     },
     "metadata": {},
     "output_type": "display_data"
    },
    {
     "name": "stdout",
     "output_type": "stream",
     "text": [
      "***VALIDATION***:\n",
      "average correlation: 0.91\n",
      "average r2: 0.83\n",
      "---do_investigations. cluster index : 18---\n"
     ]
    },
    {
     "data": {
      "application/vnd.jupyter.widget-view+json": {
       "model_id": "4305ac182dc046c5b1fe2ca4231dd155",
       "version_major": 2,
       "version_minor": 0
      },
      "text/plain": [
       "IntProgress(value=0, max=4)"
      ]
     },
     "metadata": {},
     "output_type": "display_data"
    },
    {
     "name": "stdout",
     "output_type": "stream",
     "text": [
      "Epoch 1/20\n",
      "368/368 [==============================] - 3s 4ms/step - loss: 0.1979 - mean_absolute_error: 0.3058 - val_loss: 0.1622 - val_mean_absolute_error: 0.2817\n",
      "Epoch 2/20\n",
      "368/368 [==============================] - 1s 4ms/step - loss: 0.1554 - mean_absolute_error: 0.2707 - val_loss: 0.1650 - val_mean_absolute_error: 0.2830\n",
      "Epoch 3/20\n",
      "368/368 [==============================] - 1s 4ms/step - loss: 0.1561 - mean_absolute_error: 0.2721 - val_loss: 0.1605 - val_mean_absolute_error: 0.2825\n",
      "Epoch 4/20\n",
      "368/368 [==============================] - 1s 4ms/step - loss: 0.1548 - mean_absolute_error: 0.2703 - val_loss: 0.1611 - val_mean_absolute_error: 0.2822\n",
      "Epoch 5/20\n",
      "368/368 [==============================] - 1s 4ms/step - loss: 0.1550 - mean_absolute_error: 0.2708 - val_loss: 0.1642 - val_mean_absolute_error: 0.2788\n",
      "***TRAIN***:\n",
      "correlation related to cluster centre: 0.92\n",
      "r2 score related to cluster centre: 0.84\n",
      "***VALIDATION***:\n",
      "correlation related to cluster centre: 0.91\n",
      "r2 score related to cluster centre: 0.83\n"
     ]
    },
    {
     "data": {
      "application/vnd.jupyter.widget-view+json": {
       "model_id": "2ffb9b7a463047389333ea147ffd3430",
       "version_major": 2,
       "version_minor": 0
      },
      "text/plain": [
       "IntProgress(value=0, max=4)"
      ]
     },
     "metadata": {},
     "output_type": "display_data"
    },
    {
     "name": "stdout",
     "output_type": "stream",
     "text": [
      "***VALIDATION***:\n",
      "average correlation: 0.91\n",
      "average r2: 0.83\n",
      "---do_investigations. cluster index : 19---\n"
     ]
    },
    {
     "data": {
      "application/vnd.jupyter.widget-view+json": {
       "model_id": "765a15d73f0b4f8d92bdf49fd7f2c359",
       "version_major": 2,
       "version_minor": 0
      },
      "text/plain": [
       "IntProgress(value=0, max=3)"
      ]
     },
     "metadata": {},
     "output_type": "display_data"
    },
    {
     "name": "stdout",
     "output_type": "stream",
     "text": [
      "Epoch 1/20\n",
      "368/368 [==============================] - 3s 4ms/step - loss: 0.1998 - mean_absolute_error: 0.2914 - val_loss: 0.2546 - val_mean_absolute_error: 0.3528\n",
      "Epoch 2/20\n",
      "368/368 [==============================] - 1s 4ms/step - loss: 0.1707 - mean_absolute_error: 0.2678 - val_loss: 0.2612 - val_mean_absolute_error: 0.3636\n",
      "Epoch 3/20\n",
      "368/368 [==============================] - 1s 4ms/step - loss: 0.1704 - mean_absolute_error: 0.2675 - val_loss: 0.2514 - val_mean_absolute_error: 0.3570\n",
      "Epoch 4/20\n",
      "368/368 [==============================] - 1s 4ms/step - loss: 0.1695 - mean_absolute_error: 0.2665 - val_loss: 0.2548 - val_mean_absolute_error: 0.3486\n",
      "Epoch 5/20\n",
      "368/368 [==============================] - 1s 4ms/step - loss: 0.1690 - mean_absolute_error: 0.2658 - val_loss: 0.2526 - val_mean_absolute_error: 0.3463\n",
      "***TRAIN***:\n",
      "correlation related to cluster centre: 0.91\n",
      "r2 score related to cluster centre: 0.83\n",
      "***VALIDATION***:\n",
      "correlation related to cluster centre: 0.91\n",
      "r2 score related to cluster centre: 0.84\n"
     ]
    },
    {
     "data": {
      "application/vnd.jupyter.widget-view+json": {
       "model_id": "2c3d098024774768933741ca65ba4560",
       "version_major": 2,
       "version_minor": 0
      },
      "text/plain": [
       "IntProgress(value=0, max=3)"
      ]
     },
     "metadata": {},
     "output_type": "display_data"
    },
    {
     "name": "stdout",
     "output_type": "stream",
     "text": [
      "***VALIDATION***:\n",
      "average correlation: 0.91\n",
      "average r2: 0.83\n",
      "---do_investigations. cluster index : 20---\n"
     ]
    },
    {
     "data": {
      "application/vnd.jupyter.widget-view+json": {
       "model_id": "15618b3a0ff342b5aba5fbca20d9316a",
       "version_major": 2,
       "version_minor": 0
      },
      "text/plain": [
       "IntProgress(value=0, max=34)"
      ]
     },
     "metadata": {},
     "output_type": "display_data"
    },
    {
     "name": "stdout",
     "output_type": "stream",
     "text": [
      "Epoch 1/20\n",
      "368/368 [==============================] - 3s 4ms/step - loss: 0.2547 - mean_absolute_error: 0.3319 - val_loss: 0.1734 - val_mean_absolute_error: 0.2941\n",
      "Epoch 2/20\n",
      "368/368 [==============================] - 1s 4ms/step - loss: 0.2132 - mean_absolute_error: 0.2994 - val_loss: 0.1691 - val_mean_absolute_error: 0.2805\n",
      "Epoch 3/20\n",
      "368/368 [==============================] - 1s 4ms/step - loss: 0.2129 - mean_absolute_error: 0.2986 - val_loss: 0.1694 - val_mean_absolute_error: 0.2891\n",
      "Epoch 4/20\n",
      "368/368 [==============================] - 1s 4ms/step - loss: 0.2138 - mean_absolute_error: 0.3000 - val_loss: 0.1669 - val_mean_absolute_error: 0.2718\n",
      "Epoch 5/20\n",
      "368/368 [==============================] - 1s 4ms/step - loss: 0.2135 - mean_absolute_error: 0.2995 - val_loss: 0.1674 - val_mean_absolute_error: 0.2787\n",
      "Epoch 6/20\n",
      "368/368 [==============================] - 1s 4ms/step - loss: 0.2108 - mean_absolute_error: 0.2974 - val_loss: 0.1669 - val_mean_absolute_error: 0.2803\n",
      "***TRAIN***:\n",
      "correlation related to cluster centre: 0.89\n",
      "r2 score related to cluster centre: 0.79\n",
      "***VALIDATION***:\n",
      "correlation related to cluster centre: 0.90\n",
      "r2 score related to cluster centre: 0.82\n"
     ]
    },
    {
     "data": {
      "application/vnd.jupyter.widget-view+json": {
       "model_id": "cce56453fccf49e3b1fa6de3a00cd7fb",
       "version_major": 2,
       "version_minor": 0
      },
      "text/plain": [
       "IntProgress(value=0, max=34)"
      ]
     },
     "metadata": {},
     "output_type": "display_data"
    },
    {
     "name": "stdout",
     "output_type": "stream",
     "text": [
      "***VALIDATION***:\n",
      "average correlation: 0.90\n",
      "average r2: 0.81\n",
      "---do_investigations. cluster index : 21---\n"
     ]
    },
    {
     "data": {
      "application/vnd.jupyter.widget-view+json": {
       "model_id": "6e7a29b2cc604e018512fd924ce4398a",
       "version_major": 2,
       "version_minor": 0
      },
      "text/plain": [
       "IntProgress(value=0, max=1)"
      ]
     },
     "metadata": {},
     "output_type": "display_data"
    },
    {
     "name": "stdout",
     "output_type": "stream",
     "text": [
      "Epoch 1/20\n",
      "368/368 [==============================] - 3s 5ms/step - loss: 0.2670 - mean_absolute_error: 0.3496 - val_loss: 0.2513 - val_mean_absolute_error: 0.3644\n",
      "Epoch 2/20\n",
      "368/368 [==============================] - 1s 4ms/step - loss: 0.2435 - mean_absolute_error: 0.3289 - val_loss: 0.2412 - val_mean_absolute_error: 0.3405\n",
      "Epoch 3/20\n",
      "368/368 [==============================] - 1s 4ms/step - loss: 0.2423 - mean_absolute_error: 0.3278 - val_loss: 0.2390 - val_mean_absolute_error: 0.3510\n",
      "Epoch 4/20\n",
      "368/368 [==============================] - 1s 4ms/step - loss: 0.2416 - mean_absolute_error: 0.3278 - val_loss: 0.2407 - val_mean_absolute_error: 0.3494\n",
      "Epoch 5/20\n",
      "368/368 [==============================] - 1s 4ms/step - loss: 0.2403 - mean_absolute_error: 0.3266 - val_loss: 0.2256 - val_mean_absolute_error: 0.3334\n",
      "Epoch 6/20\n",
      "368/368 [==============================] - 1s 4ms/step - loss: 0.2396 - mean_absolute_error: 0.3256 - val_loss: 0.2356 - val_mean_absolute_error: 0.3404\n",
      "Epoch 7/20\n",
      "368/368 [==============================] - 1s 4ms/step - loss: 0.2391 - mean_absolute_error: 0.3257 - val_loss: 0.2273 - val_mean_absolute_error: 0.3328\n",
      "***TRAIN***:\n",
      "correlation related to cluster centre: 0.87\n",
      "r2 score related to cluster centre: 0.76\n",
      "***VALIDATION***:\n",
      "correlation related to cluster centre: 0.89\n",
      "r2 score related to cluster centre: 0.79\n"
     ]
    },
    {
     "data": {
      "application/vnd.jupyter.widget-view+json": {
       "model_id": "f77b88944b3b4636ba08d0054e771c8e",
       "version_major": 2,
       "version_minor": 0
      },
      "text/plain": [
       "IntProgress(value=0, max=1)"
      ]
     },
     "metadata": {},
     "output_type": "display_data"
    },
    {
     "name": "stdout",
     "output_type": "stream",
     "text": [
      "***VALIDATION***:\n",
      "average correlation: 0.89\n",
      "average r2: 0.79\n",
      "---do_investigations. cluster index : 22---\n"
     ]
    },
    {
     "data": {
      "application/vnd.jupyter.widget-view+json": {
       "model_id": "fab5d8eecd4a43ba8673721352acb5b6",
       "version_major": 2,
       "version_minor": 0
      },
      "text/plain": [
       "IntProgress(value=0, max=1)"
      ]
     },
     "metadata": {},
     "output_type": "display_data"
    },
    {
     "name": "stdout",
     "output_type": "stream",
     "text": [
      "Epoch 1/20\n",
      "368/368 [==============================] - 3s 4ms/step - loss: 0.2438 - mean_absolute_error: 0.3364 - val_loss: 0.2819 - val_mean_absolute_error: 0.3465\n",
      "Epoch 2/20\n",
      "368/368 [==============================] - 1s 4ms/step - loss: 0.2181 - mean_absolute_error: 0.3165 - val_loss: 0.2767 - val_mean_absolute_error: 0.3519\n",
      "Epoch 3/20\n",
      "368/368 [==============================] - 1s 4ms/step - loss: 0.2175 - mean_absolute_error: 0.3160 - val_loss: 0.2768 - val_mean_absolute_error: 0.3459\n",
      "Epoch 4/20\n",
      "368/368 [==============================] - 1s 4ms/step - loss: 0.2171 - mean_absolute_error: 0.3162 - val_loss: 0.2840 - val_mean_absolute_error: 0.3498\n",
      "***TRAIN***:\n",
      "correlation related to cluster centre: 0.89\n",
      "r2 score related to cluster centre: 0.78\n",
      "***VALIDATION***:\n",
      "correlation related to cluster centre: 0.90\n",
      "r2 score related to cluster centre: 0.80\n"
     ]
    },
    {
     "data": {
      "application/vnd.jupyter.widget-view+json": {
       "model_id": "fcb042d1b1024071a0246f18be266a80",
       "version_major": 2,
       "version_minor": 0
      },
      "text/plain": [
       "IntProgress(value=0, max=1)"
      ]
     },
     "metadata": {},
     "output_type": "display_data"
    },
    {
     "name": "stdout",
     "output_type": "stream",
     "text": [
      "***VALIDATION***:\n",
      "average correlation: 0.90\n",
      "average r2: 0.80\n",
      "---do_investigations. cluster index : 23---\n"
     ]
    },
    {
     "data": {
      "application/vnd.jupyter.widget-view+json": {
       "model_id": "21c90165a43d4ce2a8cadec2fe28a3f9",
       "version_major": 2,
       "version_minor": 0
      },
      "text/plain": [
       "IntProgress(value=0, max=2)"
      ]
     },
     "metadata": {},
     "output_type": "display_data"
    },
    {
     "name": "stdout",
     "output_type": "stream",
     "text": [
      "Epoch 1/20\n",
      "368/368 [==============================] - 3s 4ms/step - loss: 0.2297 - mean_absolute_error: 0.3349 - val_loss: 0.2351 - val_mean_absolute_error: 0.3351\n",
      "Epoch 2/20\n",
      "368/368 [==============================] - 1s 4ms/step - loss: 0.1965 - mean_absolute_error: 0.3055 - val_loss: 0.2302 - val_mean_absolute_error: 0.3357\n",
      "Epoch 3/20\n",
      "368/368 [==============================] - 1s 4ms/step - loss: 0.1952 - mean_absolute_error: 0.3044 - val_loss: 0.2302 - val_mean_absolute_error: 0.3347\n",
      "Epoch 4/20\n",
      "368/368 [==============================] - 1s 4ms/step - loss: 0.1952 - mean_absolute_error: 0.3030 - val_loss: 0.2372 - val_mean_absolute_error: 0.3388\n",
      "Epoch 5/20\n",
      "368/368 [==============================] - 1s 4ms/step - loss: 0.1941 - mean_absolute_error: 0.3035 - val_loss: 0.2355 - val_mean_absolute_error: 0.3370\n",
      "***TRAIN***:\n",
      "correlation related to cluster centre: 0.90\n",
      "r2 score related to cluster centre: 0.81\n",
      "***VALIDATION***:\n",
      "correlation related to cluster centre: 0.91\n",
      "r2 score related to cluster centre: 0.82\n"
     ]
    },
    {
     "data": {
      "application/vnd.jupyter.widget-view+json": {
       "model_id": "b592e15bfa334778ab01dcb6681d515b",
       "version_major": 2,
       "version_minor": 0
      },
      "text/plain": [
       "IntProgress(value=0, max=2)"
      ]
     },
     "metadata": {},
     "output_type": "display_data"
    },
    {
     "name": "stdout",
     "output_type": "stream",
     "text": [
      "***VALIDATION***:\n",
      "average correlation: 0.91\n",
      "average r2: 0.82\n",
      "---do_investigations. cluster index : 24---\n"
     ]
    },
    {
     "data": {
      "application/vnd.jupyter.widget-view+json": {
       "model_id": "cd35b4ed3d014154ac3cc83350913f3a",
       "version_major": 2,
       "version_minor": 0
      },
      "text/plain": [
       "IntProgress(value=0, max=7)"
      ]
     },
     "metadata": {},
     "output_type": "display_data"
    },
    {
     "name": "stdout",
     "output_type": "stream",
     "text": [
      "Epoch 1/20\n",
      "368/368 [==============================] - 3s 4ms/step - loss: 0.2339 - mean_absolute_error: 0.3307 - val_loss: 0.1466 - val_mean_absolute_error: 0.2707\n",
      "Epoch 2/20\n",
      "368/368 [==============================] - 1s 4ms/step - loss: 0.2141 - mean_absolute_error: 0.3135 - val_loss: 0.1447 - val_mean_absolute_error: 0.2659\n",
      "Epoch 3/20\n",
      "368/368 [==============================] - 1s 4ms/step - loss: 0.2131 - mean_absolute_error: 0.3121 - val_loss: 0.1448 - val_mean_absolute_error: 0.2605\n",
      "Epoch 4/20\n",
      "368/368 [==============================] - 1s 4ms/step - loss: 0.2134 - mean_absolute_error: 0.3115 - val_loss: 0.1447 - val_mean_absolute_error: 0.2662\n",
      "***TRAIN***:\n",
      "correlation related to cluster centre: 0.89\n",
      "r2 score related to cluster centre: 0.79\n",
      "***VALIDATION***:\n",
      "correlation related to cluster centre: 0.91\n",
      "r2 score related to cluster centre: 0.82\n"
     ]
    },
    {
     "data": {
      "application/vnd.jupyter.widget-view+json": {
       "model_id": "9ca37303439b4dddb4b7f51828c392c1",
       "version_major": 2,
       "version_minor": 0
      },
      "text/plain": [
       "IntProgress(value=0, max=7)"
      ]
     },
     "metadata": {},
     "output_type": "display_data"
    },
    {
     "name": "stdout",
     "output_type": "stream",
     "text": [
      "***VALIDATION***:\n",
      "average correlation: 0.91\n",
      "average r2: 0.82\n",
      "---do_investigations. cluster index : 25---\n"
     ]
    },
    {
     "data": {
      "application/vnd.jupyter.widget-view+json": {
       "model_id": "249188ccbcbb494699bc2d51586762fb",
       "version_major": 2,
       "version_minor": 0
      },
      "text/plain": [
       "IntProgress(value=0, max=1)"
      ]
     },
     "metadata": {},
     "output_type": "display_data"
    },
    {
     "name": "stdout",
     "output_type": "stream",
     "text": [
      "Epoch 1/20\n",
      "368/368 [==============================] - 3s 4ms/step - loss: 0.2511 - mean_absolute_error: 0.3341 - val_loss: 0.1227 - val_mean_absolute_error: 0.2388\n",
      "Epoch 2/20\n",
      "368/368 [==============================] - 1s 4ms/step - loss: 0.2146 - mean_absolute_error: 0.3030 - val_loss: 0.1119 - val_mean_absolute_error: 0.2315\n",
      "Epoch 3/20\n",
      "368/368 [==============================] - 1s 4ms/step - loss: 0.2146 - mean_absolute_error: 0.3029 - val_loss: 0.1059 - val_mean_absolute_error: 0.2202\n",
      "Epoch 4/20\n",
      "368/368 [==============================] - 1s 4ms/step - loss: 0.2131 - mean_absolute_error: 0.3020 - val_loss: 0.1138 - val_mean_absolute_error: 0.2356\n",
      "Epoch 5/20\n",
      "368/368 [==============================] - 1s 4ms/step - loss: 0.2136 - mean_absolute_error: 0.3017 - val_loss: 0.1063 - val_mean_absolute_error: 0.2222\n",
      "***TRAIN***:\n",
      "correlation related to cluster centre: 0.89\n",
      "r2 score related to cluster centre: 0.79\n",
      "***VALIDATION***:\n",
      "correlation related to cluster centre: 0.92\n",
      "r2 score related to cluster centre: 0.84\n"
     ]
    },
    {
     "data": {
      "application/vnd.jupyter.widget-view+json": {
       "model_id": "977498ac078d47e3b55f7d00590ffda6",
       "version_major": 2,
       "version_minor": 0
      },
      "text/plain": [
       "IntProgress(value=0, max=1)"
      ]
     },
     "metadata": {},
     "output_type": "display_data"
    },
    {
     "name": "stdout",
     "output_type": "stream",
     "text": [
      "***VALIDATION***:\n",
      "average correlation: 0.92\n",
      "average r2: 0.84\n",
      "---do_investigations. cluster index : 26---\n"
     ]
    },
    {
     "data": {
      "application/vnd.jupyter.widget-view+json": {
       "model_id": "8ea252e081c24ed193363c8cfcb371a2",
       "version_major": 2,
       "version_minor": 0
      },
      "text/plain": [
       "IntProgress(value=0, max=2)"
      ]
     },
     "metadata": {},
     "output_type": "display_data"
    },
    {
     "name": "stdout",
     "output_type": "stream",
     "text": [
      "Epoch 1/20\n",
      "368/368 [==============================] - 3s 4ms/step - loss: 0.2388 - mean_absolute_error: 0.3154 - val_loss: 0.0723 - val_mean_absolute_error: 0.1872\n",
      "Epoch 2/20\n",
      "368/368 [==============================] - 1s 4ms/step - loss: 0.2076 - mean_absolute_error: 0.2908 - val_loss: 0.0692 - val_mean_absolute_error: 0.1780\n",
      "Epoch 3/20\n",
      "368/368 [==============================] - 1s 4ms/step - loss: 0.2063 - mean_absolute_error: 0.2896 - val_loss: 0.0713 - val_mean_absolute_error: 0.1853\n",
      "Epoch 4/20\n",
      "368/368 [==============================] - 1s 4ms/step - loss: 0.2057 - mean_absolute_error: 0.2885 - val_loss: 0.0712 - val_mean_absolute_error: 0.1873\n",
      "***TRAIN***:\n",
      "correlation related to cluster centre: 0.89\n",
      "r2 score related to cluster centre: 0.80\n",
      "***VALIDATION***:\n",
      "correlation related to cluster centre: 0.91\n",
      "r2 score related to cluster centre: 0.83\n"
     ]
    },
    {
     "data": {
      "application/vnd.jupyter.widget-view+json": {
       "model_id": "f04cad1321bd4ae7a98328ef51f0158e",
       "version_major": 2,
       "version_minor": 0
      },
      "text/plain": [
       "IntProgress(value=0, max=2)"
      ]
     },
     "metadata": {},
     "output_type": "display_data"
    },
    {
     "name": "stdout",
     "output_type": "stream",
     "text": [
      "***VALIDATION***:\n",
      "average correlation: 0.92\n",
      "average r2: 0.83\n",
      "---do_investigations. cluster index : 27---\n"
     ]
    },
    {
     "data": {
      "application/vnd.jupyter.widget-view+json": {
       "model_id": "60e4c11fe64740e19d4a3a5dd827c34f",
       "version_major": 2,
       "version_minor": 0
      },
      "text/plain": [
       "IntProgress(value=0, max=6)"
      ]
     },
     "metadata": {},
     "output_type": "display_data"
    },
    {
     "name": "stdout",
     "output_type": "stream",
     "text": [
      "Epoch 1/20\n",
      "368/368 [==============================] - 3s 4ms/step - loss: 0.2062 - mean_absolute_error: 0.2957 - val_loss: 0.0933 - val_mean_absolute_error: 0.2237\n",
      "Epoch 2/20\n",
      "368/368 [==============================] - 1s 4ms/step - loss: 0.1749 - mean_absolute_error: 0.2726 - val_loss: 0.0906 - val_mean_absolute_error: 0.2153\n",
      "Epoch 3/20\n",
      "368/368 [==============================] - 1s 4ms/step - loss: 0.1758 - mean_absolute_error: 0.2735 - val_loss: 0.0856 - val_mean_absolute_error: 0.2003\n",
      "Epoch 4/20\n",
      "368/368 [==============================] - 1s 4ms/step - loss: 0.1741 - mean_absolute_error: 0.2719 - val_loss: 0.0857 - val_mean_absolute_error: 0.2061\n",
      "Epoch 5/20\n",
      "368/368 [==============================] - 1s 4ms/step - loss: 0.1740 - mean_absolute_error: 0.2722 - val_loss: 0.0921 - val_mean_absolute_error: 0.2152\n",
      "***TRAIN***:\n",
      "correlation related to cluster centre: 0.91\n",
      "r2 score related to cluster centre: 0.82\n",
      "***VALIDATION***:\n",
      "correlation related to cluster centre: 0.91\n",
      "r2 score related to cluster centre: 0.81\n"
     ]
    },
    {
     "data": {
      "application/vnd.jupyter.widget-view+json": {
       "model_id": "b4ea00098c9a4f03b9846a101aa3fff5",
       "version_major": 2,
       "version_minor": 0
      },
      "text/plain": [
       "IntProgress(value=0, max=6)"
      ]
     },
     "metadata": {},
     "output_type": "display_data"
    },
    {
     "name": "stdout",
     "output_type": "stream",
     "text": [
      "***VALIDATION***:\n",
      "average correlation: 0.91\n",
      "average r2: 0.82\n",
      "---do_investigations. cluster index : 28---\n"
     ]
    },
    {
     "data": {
      "application/vnd.jupyter.widget-view+json": {
       "model_id": "e22026906b4d4c429f20016488be4874",
       "version_major": 2,
       "version_minor": 0
      },
      "text/plain": [
       "IntProgress(value=0, max=1)"
      ]
     },
     "metadata": {},
     "output_type": "display_data"
    },
    {
     "name": "stdout",
     "output_type": "stream",
     "text": [
      "Epoch 1/20\n",
      "368/368 [==============================] - 4s 7ms/step - loss: 0.2572 - mean_absolute_error: 0.3338 - val_loss: 0.2340 - val_mean_absolute_error: 0.3176\n",
      "Epoch 2/20\n",
      "368/368 [==============================] - 1s 4ms/step - loss: 0.2274 - mean_absolute_error: 0.3094 - val_loss: 0.2313 - val_mean_absolute_error: 0.3244\n",
      "Epoch 3/20\n",
      "368/368 [==============================] - 1s 4ms/step - loss: 0.2262 - mean_absolute_error: 0.3087 - val_loss: 0.2339 - val_mean_absolute_error: 0.3220\n",
      "Epoch 4/20\n",
      "368/368 [==============================] - 1s 4ms/step - loss: 0.2266 - mean_absolute_error: 0.3085 - val_loss: 0.2324 - val_mean_absolute_error: 0.3258\n",
      "***TRAIN***:\n",
      "correlation related to cluster centre: 0.88\n",
      "r2 score related to cluster centre: 0.77\n",
      "***VALIDATION***:\n",
      "correlation related to cluster centre: 0.89\n",
      "r2 score related to cluster centre: 0.79\n"
     ]
    },
    {
     "data": {
      "application/vnd.jupyter.widget-view+json": {
       "model_id": "07519e8a7cd843179a34df20fef59a52",
       "version_major": 2,
       "version_minor": 0
      },
      "text/plain": [
       "IntProgress(value=0, max=1)"
      ]
     },
     "metadata": {},
     "output_type": "display_data"
    },
    {
     "name": "stdout",
     "output_type": "stream",
     "text": [
      "***VALIDATION***:\n",
      "average correlation: 0.89\n",
      "average r2: 0.79\n",
      "---do_investigations. cluster index : 29---\n"
     ]
    },
    {
     "data": {
      "application/vnd.jupyter.widget-view+json": {
       "model_id": "72364c936fe94320b1578c946ea7c40b",
       "version_major": 2,
       "version_minor": 0
      },
      "text/plain": [
       "IntProgress(value=0, max=4)"
      ]
     },
     "metadata": {},
     "output_type": "display_data"
    },
    {
     "name": "stdout",
     "output_type": "stream",
     "text": [
      "Epoch 1/20\n",
      "368/368 [==============================] - 3s 4ms/step - loss: 0.2396 - mean_absolute_error: 0.3340 - val_loss: 0.1503 - val_mean_absolute_error: 0.2662\n",
      "Epoch 2/20\n",
      "368/368 [==============================] - 1s 4ms/step - loss: 0.2189 - mean_absolute_error: 0.3119 - val_loss: 0.1482 - val_mean_absolute_error: 0.2603\n",
      "Epoch 3/20\n",
      "368/368 [==============================] - 1s 4ms/step - loss: 0.2148 - mean_absolute_error: 0.3098 - val_loss: 0.1490 - val_mean_absolute_error: 0.2636\n",
      "Epoch 4/20\n",
      "368/368 [==============================] - 1s 4ms/step - loss: 0.2163 - mean_absolute_error: 0.3103 - val_loss: 0.1488 - val_mean_absolute_error: 0.2664\n",
      "***TRAIN***:\n",
      "correlation related to cluster centre: 0.89\n",
      "r2 score related to cluster centre: 0.79\n",
      "***VALIDATION***:\n",
      "correlation related to cluster centre: 0.91\n",
      "r2 score related to cluster centre: 0.81\n"
     ]
    },
    {
     "data": {
      "application/vnd.jupyter.widget-view+json": {
       "model_id": "39b075c0f6fe46ee85bad864e6cd850a",
       "version_major": 2,
       "version_minor": 0
      },
      "text/plain": [
       "IntProgress(value=0, max=4)"
      ]
     },
     "metadata": {},
     "output_type": "display_data"
    },
    {
     "name": "stdout",
     "output_type": "stream",
     "text": [
      "***VALIDATION***:\n",
      "average correlation: 0.90\n",
      "average r2: 0.81\n",
      "---do_investigations. cluster index : 30---\n"
     ]
    },
    {
     "data": {
      "application/vnd.jupyter.widget-view+json": {
       "model_id": "cde4e3dfeeba47c0bb606815d9fc9208",
       "version_major": 2,
       "version_minor": 0
      },
      "text/plain": [
       "IntProgress(value=0, max=2)"
      ]
     },
     "metadata": {},
     "output_type": "display_data"
    },
    {
     "name": "stdout",
     "output_type": "stream",
     "text": [
      "Epoch 1/20\n",
      "368/368 [==============================] - 3s 4ms/step - loss: 0.2293 - mean_absolute_error: 0.3200 - val_loss: 0.1160 - val_mean_absolute_error: 0.2454\n",
      "Epoch 2/20\n",
      "368/368 [==============================] - 1s 4ms/step - loss: 0.2142 - mean_absolute_error: 0.3053 - val_loss: 0.1217 - val_mean_absolute_error: 0.2612\n",
      "Epoch 3/20\n",
      "368/368 [==============================] - 1s 4ms/step - loss: 0.2126 - mean_absolute_error: 0.3037 - val_loss: 0.1205 - val_mean_absolute_error: 0.2466\n",
      "***TRAIN***:\n",
      "correlation related to cluster centre: 0.89\n",
      "r2 score related to cluster centre: 0.78\n",
      "***VALIDATION***:\n",
      "correlation related to cluster centre: 0.91\n",
      "r2 score related to cluster centre: 0.82\n"
     ]
    },
    {
     "data": {
      "application/vnd.jupyter.widget-view+json": {
       "model_id": "4d3677acea084d3ca4d025892d8bb9ea",
       "version_major": 2,
       "version_minor": 0
      },
      "text/plain": [
       "IntProgress(value=0, max=2)"
      ]
     },
     "metadata": {},
     "output_type": "display_data"
    },
    {
     "name": "stdout",
     "output_type": "stream",
     "text": [
      "***VALIDATION***:\n",
      "average correlation: 0.91\n",
      "average r2: 0.82\n",
      "---do_investigations. cluster index : 31---\n"
     ]
    },
    {
     "data": {
      "application/vnd.jupyter.widget-view+json": {
       "model_id": "6d96cc8e356548b499de73076aba11f9",
       "version_major": 2,
       "version_minor": 0
      },
      "text/plain": [
       "IntProgress(value=0, max=10)"
      ]
     },
     "metadata": {},
     "output_type": "display_data"
    },
    {
     "name": "stdout",
     "output_type": "stream",
     "text": [
      "Epoch 1/20\n",
      "368/368 [==============================] - 3s 4ms/step - loss: 0.2343 - mean_absolute_error: 0.3285 - val_loss: 0.1229 - val_mean_absolute_error: 0.2428\n",
      "Epoch 2/20\n",
      "368/368 [==============================] - 1s 4ms/step - loss: 0.2023 - mean_absolute_error: 0.3030 - val_loss: 0.1225 - val_mean_absolute_error: 0.2464\n",
      "Epoch 3/20\n",
      "368/368 [==============================] - 1s 4ms/step - loss: 0.2019 - mean_absolute_error: 0.3035 - val_loss: 0.1193 - val_mean_absolute_error: 0.2364\n",
      "Epoch 4/20\n",
      "368/368 [==============================] - 1s 4ms/step - loss: 0.2001 - mean_absolute_error: 0.3010 - val_loss: 0.1174 - val_mean_absolute_error: 0.2351\n",
      "Epoch 5/20\n",
      "368/368 [==============================] - 1s 4ms/step - loss: 0.1996 - mean_absolute_error: 0.3003 - val_loss: 0.1191 - val_mean_absolute_error: 0.2342\n",
      "Epoch 6/20\n",
      "368/368 [==============================] - 1s 4ms/step - loss: 0.1994 - mean_absolute_error: 0.3005 - val_loss: 0.1179 - val_mean_absolute_error: 0.2329\n",
      "***TRAIN***:\n",
      "correlation related to cluster centre: 0.90\n",
      "r2 score related to cluster centre: 0.80\n",
      "***VALIDATION***:\n",
      "correlation related to cluster centre: 0.91\n",
      "r2 score related to cluster centre: 0.83\n"
     ]
    },
    {
     "data": {
      "application/vnd.jupyter.widget-view+json": {
       "model_id": "65ed4276d7b34ee7a8b1ccd12dcbadc2",
       "version_major": 2,
       "version_minor": 0
      },
      "text/plain": [
       "IntProgress(value=0, max=10)"
      ]
     },
     "metadata": {},
     "output_type": "display_data"
    },
    {
     "name": "stdout",
     "output_type": "stream",
     "text": [
      "***VALIDATION***:\n",
      "average correlation: 0.91\n",
      "average r2: 0.83\n",
      "---do_investigations. cluster index : 32---\n"
     ]
    },
    {
     "data": {
      "application/vnd.jupyter.widget-view+json": {
       "model_id": "5b1f39c9d41247789223dd4ac62aa9b9",
       "version_major": 2,
       "version_minor": 0
      },
      "text/plain": [
       "IntProgress(value=0, max=2)"
      ]
     },
     "metadata": {},
     "output_type": "display_data"
    },
    {
     "name": "stdout",
     "output_type": "stream",
     "text": [
      "Epoch 1/20\n",
      "368/368 [==============================] - 3s 4ms/step - loss: 0.2722 - mean_absolute_error: 0.3448 - val_loss: 0.1518 - val_mean_absolute_error: 0.2728\n",
      "Epoch 2/20\n",
      "368/368 [==============================] - 1s 4ms/step - loss: 0.2465 - mean_absolute_error: 0.3248 - val_loss: 0.1495 - val_mean_absolute_error: 0.2768\n",
      "Epoch 3/20\n",
      "368/368 [==============================] - 1s 4ms/step - loss: 0.2458 - mean_absolute_error: 0.3242 - val_loss: 0.1465 - val_mean_absolute_error: 0.2583\n",
      "Epoch 4/20\n",
      "368/368 [==============================] - 1s 4ms/step - loss: 0.2449 - mean_absolute_error: 0.3232 - val_loss: 0.1585 - val_mean_absolute_error: 0.2975\n",
      "Epoch 5/20\n",
      "368/368 [==============================] - 1s 4ms/step - loss: 0.2454 - mean_absolute_error: 0.3233 - val_loss: 0.1479 - val_mean_absolute_error: 0.2637\n",
      "***TRAIN***:\n",
      "correlation related to cluster centre: 0.87\n",
      "r2 score related to cluster centre: 0.76\n",
      "***VALIDATION***:\n",
      "correlation related to cluster centre: 0.88\n",
      "r2 score related to cluster centre: 0.78\n"
     ]
    },
    {
     "data": {
      "application/vnd.jupyter.widget-view+json": {
       "model_id": "d8fe487270b24a49b3d71b8c59c0a271",
       "version_major": 2,
       "version_minor": 0
      },
      "text/plain": [
       "IntProgress(value=0, max=2)"
      ]
     },
     "metadata": {},
     "output_type": "display_data"
    },
    {
     "name": "stdout",
     "output_type": "stream",
     "text": [
      "***VALIDATION***:\n",
      "average correlation: 0.87\n",
      "average r2: 0.76\n",
      "---do_investigations. cluster index : 33---\n"
     ]
    },
    {
     "data": {
      "application/vnd.jupyter.widget-view+json": {
       "model_id": "55edc02ac070431683ceb377770698c4",
       "version_major": 2,
       "version_minor": 0
      },
      "text/plain": [
       "IntProgress(value=0, max=1)"
      ]
     },
     "metadata": {},
     "output_type": "display_data"
    },
    {
     "name": "stdout",
     "output_type": "stream",
     "text": [
      "Epoch 1/20\n",
      "368/368 [==============================] - 3s 4ms/step - loss: 0.2580 - mean_absolute_error: 0.3414 - val_loss: 0.1392 - val_mean_absolute_error: 0.2551\n",
      "Epoch 2/20\n",
      "368/368 [==============================] - 1s 4ms/step - loss: 0.2271 - mean_absolute_error: 0.3138 - val_loss: 0.1352 - val_mean_absolute_error: 0.2491\n",
      "Epoch 3/20\n",
      "368/368 [==============================] - 1s 4ms/step - loss: 0.2272 - mean_absolute_error: 0.3142 - val_loss: 0.1386 - val_mean_absolute_error: 0.2457\n",
      "Epoch 4/20\n",
      "368/368 [==============================] - 1s 4ms/step - loss: 0.2278 - mean_absolute_error: 0.3144 - val_loss: 0.1346 - val_mean_absolute_error: 0.2438\n",
      "Epoch 5/20\n",
      "368/368 [==============================] - 1s 4ms/step - loss: 0.2260 - mean_absolute_error: 0.3124 - val_loss: 0.1367 - val_mean_absolute_error: 0.2465\n",
      "Epoch 6/20\n",
      "368/368 [==============================] - 1s 4ms/step - loss: 0.2262 - mean_absolute_error: 0.3126 - val_loss: 0.1347 - val_mean_absolute_error: 0.2398\n",
      "***TRAIN***:\n",
      "correlation related to cluster centre: 0.88\n",
      "r2 score related to cluster centre: 0.78\n",
      "***VALIDATION***:\n",
      "correlation related to cluster centre: 0.89\n",
      "r2 score related to cluster centre: 0.79\n"
     ]
    },
    {
     "data": {
      "application/vnd.jupyter.widget-view+json": {
       "model_id": "a615cdecc7df46aba395549fdb58b88e",
       "version_major": 2,
       "version_minor": 0
      },
      "text/plain": [
       "IntProgress(value=0, max=1)"
      ]
     },
     "metadata": {},
     "output_type": "display_data"
    },
    {
     "name": "stdout",
     "output_type": "stream",
     "text": [
      "***VALIDATION***:\n",
      "average correlation: 0.89\n",
      "average r2: 0.79\n",
      "---do_investigations. cluster index : 34---\n"
     ]
    },
    {
     "data": {
      "application/vnd.jupyter.widget-view+json": {
       "model_id": "ab4326299dcb4df080195460ff7ee96c",
       "version_major": 2,
       "version_minor": 0
      },
      "text/plain": [
       "IntProgress(value=0, max=13)"
      ]
     },
     "metadata": {},
     "output_type": "display_data"
    },
    {
     "name": "stdout",
     "output_type": "stream",
     "text": [
      "Epoch 1/20\n",
      "368/368 [==============================] - 3s 4ms/step - loss: 0.2479 - mean_absolute_error: 0.3390 - val_loss: 0.1479 - val_mean_absolute_error: 0.2689\n",
      "Epoch 2/20\n",
      "368/368 [==============================] - 1s 4ms/step - loss: 0.2107 - mean_absolute_error: 0.3125 - val_loss: 0.1491 - val_mean_absolute_error: 0.2798\n",
      "Epoch 3/20\n",
      "368/368 [==============================] - 1s 4ms/step - loss: 0.2093 - mean_absolute_error: 0.3109 - val_loss: 0.1494 - val_mean_absolute_error: 0.2677\n",
      "***TRAIN***:\n",
      "correlation related to cluster centre: 0.89\n",
      "r2 score related to cluster centre: 0.79\n",
      "***VALIDATION***:\n",
      "correlation related to cluster centre: 0.91\n",
      "r2 score related to cluster centre: 0.82\n"
     ]
    },
    {
     "data": {
      "application/vnd.jupyter.widget-view+json": {
       "model_id": "fa804b464fe24e148fe45c5c4aeb1ade",
       "version_major": 2,
       "version_minor": 0
      },
      "text/plain": [
       "IntProgress(value=0, max=13)"
      ]
     },
     "metadata": {},
     "output_type": "display_data"
    },
    {
     "name": "stdout",
     "output_type": "stream",
     "text": [
      "***VALIDATION***:\n",
      "average correlation: 0.91\n",
      "average r2: 0.82\n",
      "---do_investigations. cluster index : 35---\n"
     ]
    },
    {
     "data": {
      "application/vnd.jupyter.widget-view+json": {
       "model_id": "25d1f9526e4247fd9397c323aedd380c",
       "version_major": 2,
       "version_minor": 0
      },
      "text/plain": [
       "IntProgress(value=0, max=15)"
      ]
     },
     "metadata": {},
     "output_type": "display_data"
    },
    {
     "name": "stdout",
     "output_type": "stream",
     "text": [
      "Epoch 1/20\n",
      "368/368 [==============================] - 3s 4ms/step - loss: 0.2438 - mean_absolute_error: 0.3352 - val_loss: 0.1523 - val_mean_absolute_error: 0.2914\n",
      "Epoch 2/20\n",
      "368/368 [==============================] - 1s 4ms/step - loss: 0.2079 - mean_absolute_error: 0.3093 - val_loss: 0.1393 - val_mean_absolute_error: 0.2709\n",
      "Epoch 3/20\n",
      "368/368 [==============================] - 1s 4ms/step - loss: 0.2072 - mean_absolute_error: 0.3097 - val_loss: 0.1421 - val_mean_absolute_error: 0.2673\n",
      "Epoch 4/20\n",
      "368/368 [==============================] - 1s 4ms/step - loss: 0.2065 - mean_absolute_error: 0.3088 - val_loss: 0.1409 - val_mean_absolute_error: 0.2743\n",
      "***TRAIN***:\n",
      "correlation related to cluster centre: 0.89\n",
      "r2 score related to cluster centre: 0.79\n",
      "***VALIDATION***:\n",
      "correlation related to cluster centre: 0.91\n",
      "r2 score related to cluster centre: 0.82\n"
     ]
    },
    {
     "data": {
      "application/vnd.jupyter.widget-view+json": {
       "model_id": "b2caead10903495baf1b38112d22cb82",
       "version_major": 2,
       "version_minor": 0
      },
      "text/plain": [
       "IntProgress(value=0, max=15)"
      ]
     },
     "metadata": {},
     "output_type": "display_data"
    },
    {
     "name": "stdout",
     "output_type": "stream",
     "text": [
      "***VALIDATION***:\n",
      "average correlation: 0.91\n",
      "average r2: 0.81\n",
      "---do_investigations. cluster index : 36---\n"
     ]
    },
    {
     "data": {
      "application/vnd.jupyter.widget-view+json": {
       "model_id": "0e997d8171c843d3a852583fec2b5774",
       "version_major": 2,
       "version_minor": 0
      },
      "text/plain": [
       "IntProgress(value=0, max=1)"
      ]
     },
     "metadata": {},
     "output_type": "display_data"
    },
    {
     "name": "stdout",
     "output_type": "stream",
     "text": [
      "Epoch 1/20\n",
      "368/368 [==============================] - 3s 4ms/step - loss: 0.2198 - mean_absolute_error: 0.2344 - val_loss: 0.3113 - val_mean_absolute_error: 0.2917\n",
      "Epoch 2/20\n",
      "368/368 [==============================] - 1s 4ms/step - loss: 0.1991 - mean_absolute_error: 0.2188 - val_loss: 0.3158 - val_mean_absolute_error: 0.2952\n",
      "Epoch 3/20\n",
      "368/368 [==============================] - 1s 4ms/step - loss: 0.1973 - mean_absolute_error: 0.2178 - val_loss: 0.3026 - val_mean_absolute_error: 0.2853\n",
      "Epoch 4/20\n",
      "368/368 [==============================] - 1s 4ms/step - loss: 0.1978 - mean_absolute_error: 0.2186 - val_loss: 0.3014 - val_mean_absolute_error: 0.2890\n",
      "Epoch 5/20\n",
      "368/368 [==============================] - 1s 4ms/step - loss: 0.1956 - mean_absolute_error: 0.2163 - val_loss: 0.3008 - val_mean_absolute_error: 0.2882\n",
      "Epoch 6/20\n",
      "368/368 [==============================] - 1s 4ms/step - loss: 0.1988 - mean_absolute_error: 0.2183 - val_loss: 0.3034 - val_mean_absolute_error: 0.2976\n",
      "Epoch 7/20\n",
      "368/368 [==============================] - 1s 4ms/step - loss: 0.1961 - mean_absolute_error: 0.2163 - val_loss: 0.2995 - val_mean_absolute_error: 0.2834\n",
      "Epoch 8/20\n",
      "368/368 [==============================] - 1s 4ms/step - loss: 0.1954 - mean_absolute_error: 0.2157 - val_loss: 0.3027 - val_mean_absolute_error: 0.2862\n",
      "Epoch 9/20\n",
      "368/368 [==============================] - 1s 4ms/step - loss: 0.1946 - mean_absolute_error: 0.2163 - val_loss: 0.3042 - val_mean_absolute_error: 0.2844\n",
      "***TRAIN***:\n",
      "correlation related to cluster centre: 0.90\n",
      "r2 score related to cluster centre: 0.80\n",
      "***VALIDATION***:\n",
      "correlation related to cluster centre: 0.90\n",
      "r2 score related to cluster centre: 0.80\n"
     ]
    },
    {
     "data": {
      "application/vnd.jupyter.widget-view+json": {
       "model_id": "d320bb14fc7f4756b7d5bbd920a30ace",
       "version_major": 2,
       "version_minor": 0
      },
      "text/plain": [
       "IntProgress(value=0, max=1)"
      ]
     },
     "metadata": {},
     "output_type": "display_data"
    },
    {
     "name": "stdout",
     "output_type": "stream",
     "text": [
      "***VALIDATION***:\n",
      "average correlation: 0.90\n",
      "average r2: 0.80\n",
      "---do_investigations. cluster index : 37---\n"
     ]
    },
    {
     "data": {
      "application/vnd.jupyter.widget-view+json": {
       "model_id": "659646017a2d4f21977e35a0c79761fc",
       "version_major": 2,
       "version_minor": 0
      },
      "text/plain": [
       "IntProgress(value=0, max=1)"
      ]
     },
     "metadata": {},
     "output_type": "display_data"
    },
    {
     "name": "stdout",
     "output_type": "stream",
     "text": [
      "Epoch 1/20\n",
      "368/368 [==============================] - 3s 4ms/step - loss: 0.2418 - mean_absolute_error: 0.3152 - val_loss: 0.2255 - val_mean_absolute_error: 0.2931\n",
      "Epoch 2/20\n",
      "368/368 [==============================] - 1s 4ms/step - loss: 0.2066 - mean_absolute_error: 0.2893 - val_loss: 0.2253 - val_mean_absolute_error: 0.2938\n",
      "Epoch 3/20\n",
      "368/368 [==============================] - 1s 4ms/step - loss: 0.2074 - mean_absolute_error: 0.2892 - val_loss: 0.2211 - val_mean_absolute_error: 0.2812\n",
      "Epoch 4/20\n",
      "368/368 [==============================] - 1s 4ms/step - loss: 0.2047 - mean_absolute_error: 0.2872 - val_loss: 0.2226 - val_mean_absolute_error: 0.2833\n",
      "Epoch 5/20\n",
      "368/368 [==============================] - 1s 4ms/step - loss: 0.2039 - mean_absolute_error: 0.2866 - val_loss: 0.2247 - val_mean_absolute_error: 0.2881\n",
      "***TRAIN***:\n",
      "correlation related to cluster centre: 0.89\n",
      "r2 score related to cluster centre: 0.80\n",
      "***VALIDATION***:\n",
      "correlation related to cluster centre: 0.90\n",
      "r2 score related to cluster centre: 0.81\n"
     ]
    },
    {
     "data": {
      "application/vnd.jupyter.widget-view+json": {
       "model_id": "4125bd041ede4a5786a624efc1a3527b",
       "version_major": 2,
       "version_minor": 0
      },
      "text/plain": [
       "IntProgress(value=0, max=1)"
      ]
     },
     "metadata": {},
     "output_type": "display_data"
    },
    {
     "name": "stdout",
     "output_type": "stream",
     "text": [
      "***VALIDATION***:\n",
      "average correlation: 0.90\n",
      "average r2: 0.81\n",
      "---do_investigations. cluster index : 38---\n"
     ]
    },
    {
     "data": {
      "application/vnd.jupyter.widget-view+json": {
       "model_id": "16e2d61fe5d147439bbf20bb535ab992",
       "version_major": 2,
       "version_minor": 0
      },
      "text/plain": [
       "IntProgress(value=0, max=6)"
      ]
     },
     "metadata": {},
     "output_type": "display_data"
    },
    {
     "name": "stdout",
     "output_type": "stream",
     "text": [
      "Epoch 1/20\n",
      "368/368 [==============================] - 3s 4ms/step - loss: 0.2404 - mean_absolute_error: 0.3386 - val_loss: 0.1591 - val_mean_absolute_error: 0.2765\n",
      "Epoch 2/20\n",
      "368/368 [==============================] - 1s 4ms/step - loss: 0.2086 - mean_absolute_error: 0.3126 - val_loss: 0.1573 - val_mean_absolute_error: 0.2752\n",
      "Epoch 3/20\n",
      "368/368 [==============================] - 1s 4ms/step - loss: 0.2062 - mean_absolute_error: 0.3099 - val_loss: 0.1578 - val_mean_absolute_error: 0.2772\n",
      "Epoch 4/20\n",
      "368/368 [==============================] - 1s 4ms/step - loss: 0.2061 - mean_absolute_error: 0.3098 - val_loss: 0.1607 - val_mean_absolute_error: 0.2802\n",
      "***TRAIN***:\n",
      "correlation related to cluster centre: 0.89\n",
      "r2 score related to cluster centre: 0.79\n",
      "***VALIDATION***:\n",
      "correlation related to cluster centre: 0.91\n",
      "r2 score related to cluster centre: 0.82\n"
     ]
    },
    {
     "data": {
      "application/vnd.jupyter.widget-view+json": {
       "model_id": "6bda76355de0488e9702f376b8434933",
       "version_major": 2,
       "version_minor": 0
      },
      "text/plain": [
       "IntProgress(value=0, max=6)"
      ]
     },
     "metadata": {},
     "output_type": "display_data"
    },
    {
     "name": "stdout",
     "output_type": "stream",
     "text": [
      "***VALIDATION***:\n",
      "average correlation: 0.91\n",
      "average r2: 0.82\n",
      "---do_investigations. cluster index : 39---\n"
     ]
    },
    {
     "data": {
      "application/vnd.jupyter.widget-view+json": {
       "model_id": "b2bbd7336fda40239149a02c706325bc",
       "version_major": 2,
       "version_minor": 0
      },
      "text/plain": [
       "IntProgress(value=0, max=5)"
      ]
     },
     "metadata": {},
     "output_type": "display_data"
    },
    {
     "name": "stdout",
     "output_type": "stream",
     "text": [
      "Epoch 1/20\n",
      "368/368 [==============================] - 3s 4ms/step - loss: 0.2457 - mean_absolute_error: 0.3405 - val_loss: 0.1467 - val_mean_absolute_error: 0.2717\n",
      "Epoch 2/20\n",
      "368/368 [==============================] - 1s 4ms/step - loss: 0.2050 - mean_absolute_error: 0.3085 - val_loss: 0.1463 - val_mean_absolute_error: 0.2712\n",
      "Epoch 3/20\n",
      "368/368 [==============================] - 1s 4ms/step - loss: 0.2044 - mean_absolute_error: 0.3079 - val_loss: 0.1439 - val_mean_absolute_error: 0.2640\n",
      "Epoch 4/20\n",
      "368/368 [==============================] - 1s 4ms/step - loss: 0.2052 - mean_absolute_error: 0.3081 - val_loss: 0.1447 - val_mean_absolute_error: 0.2675\n",
      "Epoch 5/20\n",
      "368/368 [==============================] - 1s 4ms/step - loss: 0.2047 - mean_absolute_error: 0.3082 - val_loss: 0.1447 - val_mean_absolute_error: 0.2646\n",
      "***TRAIN***:\n",
      "correlation related to cluster centre: 0.89\n",
      "r2 score related to cluster centre: 0.80\n",
      "***VALIDATION***:\n",
      "correlation related to cluster centre: 0.91\n",
      "r2 score related to cluster centre: 0.83\n"
     ]
    },
    {
     "data": {
      "application/vnd.jupyter.widget-view+json": {
       "model_id": "583267f66e21492480ed0e0fad445c1d",
       "version_major": 2,
       "version_minor": 0
      },
      "text/plain": [
       "IntProgress(value=0, max=5)"
      ]
     },
     "metadata": {},
     "output_type": "display_data"
    },
    {
     "name": "stdout",
     "output_type": "stream",
     "text": [
      "***VALIDATION***:\n",
      "average correlation: 0.91\n",
      "average r2: 0.82\n",
      "---do_investigations. cluster index : 40---\n"
     ]
    },
    {
     "data": {
      "application/vnd.jupyter.widget-view+json": {
       "model_id": "fd5c0ef5238c4016a656d1e9e1fb248f",
       "version_major": 2,
       "version_minor": 0
      },
      "text/plain": [
       "IntProgress(value=0, max=1)"
      ]
     },
     "metadata": {},
     "output_type": "display_data"
    },
    {
     "name": "stdout",
     "output_type": "stream",
     "text": [
      "Epoch 1/20\n",
      "368/368 [==============================] - 3s 4ms/step - loss: 0.2245 - mean_absolute_error: 0.3088 - val_loss: 0.2323 - val_mean_absolute_error: 0.3085\n",
      "Epoch 2/20\n",
      "368/368 [==============================] - 1s 4ms/step - loss: 0.2018 - mean_absolute_error: 0.2888 - val_loss: 0.2359 - val_mean_absolute_error: 0.3038\n",
      "Epoch 3/20\n",
      "368/368 [==============================] - 1s 4ms/step - loss: 0.2026 - mean_absolute_error: 0.2905 - val_loss: 0.2316 - val_mean_absolute_error: 0.3029\n",
      "Epoch 4/20\n",
      "368/368 [==============================] - 1s 4ms/step - loss: 0.2018 - mean_absolute_error: 0.2887 - val_loss: 0.2346 - val_mean_absolute_error: 0.2967\n",
      "Epoch 5/20\n",
      "368/368 [==============================] - 1s 4ms/step - loss: 0.2018 - mean_absolute_error: 0.2885 - val_loss: 0.2305 - val_mean_absolute_error: 0.3077\n",
      "Epoch 6/20\n",
      "368/368 [==============================] - 1s 4ms/step - loss: 0.2017 - mean_absolute_error: 0.2880 - val_loss: 0.2323 - val_mean_absolute_error: 0.3018\n",
      "Epoch 7/20\n",
      "368/368 [==============================] - 1s 4ms/step - loss: 0.2008 - mean_absolute_error: 0.2878 - val_loss: 0.2314 - val_mean_absolute_error: 0.3106\n",
      "***TRAIN***:\n",
      "correlation related to cluster centre: 0.90\n",
      "r2 score related to cluster centre: 0.80\n",
      "***VALIDATION***:\n",
      "correlation related to cluster centre: 0.91\n",
      "r2 score related to cluster centre: 0.82\n"
     ]
    },
    {
     "data": {
      "application/vnd.jupyter.widget-view+json": {
       "model_id": "8781a2a70cd943809619ceaefcde3057",
       "version_major": 2,
       "version_minor": 0
      },
      "text/plain": [
       "IntProgress(value=0, max=1)"
      ]
     },
     "metadata": {},
     "output_type": "display_data"
    },
    {
     "name": "stdout",
     "output_type": "stream",
     "text": [
      "***VALIDATION***:\n",
      "average correlation: 0.91\n",
      "average r2: 0.82\n",
      "---do_investigations. cluster index : 41---\n"
     ]
    },
    {
     "data": {
      "application/vnd.jupyter.widget-view+json": {
       "model_id": "e2fd73c115574e8a8aee7d7213b26235",
       "version_major": 2,
       "version_minor": 0
      },
      "text/plain": [
       "IntProgress(value=0, max=1)"
      ]
     },
     "metadata": {},
     "output_type": "display_data"
    },
    {
     "name": "stdout",
     "output_type": "stream",
     "text": [
      "Epoch 1/20\n",
      "368/368 [==============================] - 3s 4ms/step - loss: 0.2351 - mean_absolute_error: 0.2719 - val_loss: 0.3271 - val_mean_absolute_error: 0.3271\n",
      "Epoch 2/20\n",
      "368/368 [==============================] - 1s 4ms/step - loss: 0.2188 - mean_absolute_error: 0.2574 - val_loss: 0.3174 - val_mean_absolute_error: 0.3120\n",
      "Epoch 3/20\n",
      "368/368 [==============================] - 1s 4ms/step - loss: 0.2184 - mean_absolute_error: 0.2576 - val_loss: 0.3186 - val_mean_absolute_error: 0.3194\n",
      "Epoch 4/20\n",
      "368/368 [==============================] - 1s 4ms/step - loss: 0.2162 - mean_absolute_error: 0.2553 - val_loss: 0.3177 - val_mean_absolute_error: 0.3191\n",
      "***TRAIN***:\n",
      "correlation related to cluster centre: 0.89\n",
      "r2 score related to cluster centre: 0.79\n",
      "***VALIDATION***:\n",
      "correlation related to cluster centre: 0.89\n",
      "r2 score related to cluster centre: 0.79\n"
     ]
    },
    {
     "data": {
      "application/vnd.jupyter.widget-view+json": {
       "model_id": "99d5b04f04594a7fb5713d9e3f76baa3",
       "version_major": 2,
       "version_minor": 0
      },
      "text/plain": [
       "IntProgress(value=0, max=1)"
      ]
     },
     "metadata": {},
     "output_type": "display_data"
    },
    {
     "name": "stdout",
     "output_type": "stream",
     "text": [
      "***VALIDATION***:\n",
      "average correlation: 0.89\n",
      "average r2: 0.79\n",
      "---do_investigations. cluster index : 42---\n"
     ]
    },
    {
     "data": {
      "application/vnd.jupyter.widget-view+json": {
       "model_id": "2d042d6544f64633a1a5f24a1f572f9d",
       "version_major": 2,
       "version_minor": 0
      },
      "text/plain": [
       "IntProgress(value=0, max=1)"
      ]
     },
     "metadata": {},
     "output_type": "display_data"
    },
    {
     "name": "stdout",
     "output_type": "stream",
     "text": [
      "Epoch 1/20\n",
      "368/368 [==============================] - 3s 4ms/step - loss: 0.2618 - mean_absolute_error: 0.3172 - val_loss: 0.3275 - val_mean_absolute_error: 0.3796\n",
      "Epoch 2/20\n",
      "368/368 [==============================] - 1s 4ms/step - loss: 0.2358 - mean_absolute_error: 0.2968 - val_loss: 0.3154 - val_mean_absolute_error: 0.3693\n",
      "Epoch 3/20\n",
      "368/368 [==============================] - 1s 4ms/step - loss: 0.2338 - mean_absolute_error: 0.2970 - val_loss: 0.3257 - val_mean_absolute_error: 0.3821\n",
      "Epoch 4/20\n",
      "368/368 [==============================] - 1s 4ms/step - loss: 0.2329 - mean_absolute_error: 0.2951 - val_loss: 0.3153 - val_mean_absolute_error: 0.3614\n",
      "Epoch 5/20\n",
      "368/368 [==============================] - 1s 4ms/step - loss: 0.2322 - mean_absolute_error: 0.2955 - val_loss: 0.3173 - val_mean_absolute_error: 0.3789\n",
      "Epoch 6/20\n",
      "368/368 [==============================] - 1s 4ms/step - loss: 0.2320 - mean_absolute_error: 0.2942 - val_loss: 0.3150 - val_mean_absolute_error: 0.3709\n",
      "Epoch 7/20\n",
      "368/368 [==============================] - 1s 4ms/step - loss: 0.2310 - mean_absolute_error: 0.2946 - val_loss: 0.3135 - val_mean_absolute_error: 0.3643\n",
      "Epoch 8/20\n",
      "368/368 [==============================] - 1s 4ms/step - loss: 0.2301 - mean_absolute_error: 0.2929 - val_loss: 0.3156 - val_mean_absolute_error: 0.3757\n",
      "Epoch 9/20\n",
      "368/368 [==============================] - 1s 4ms/step - loss: 0.2312 - mean_absolute_error: 0.2943 - val_loss: 0.3150 - val_mean_absolute_error: 0.3666\n",
      "***TRAIN***:\n",
      "correlation related to cluster centre: 0.88\n",
      "r2 score related to cluster centre: 0.77\n",
      "***VALIDATION***:\n",
      "correlation related to cluster centre: 0.88\n",
      "r2 score related to cluster centre: 0.78\n"
     ]
    },
    {
     "data": {
      "application/vnd.jupyter.widget-view+json": {
       "model_id": "6e4e141da3f14ea9a5c9212d7d255d5e",
       "version_major": 2,
       "version_minor": 0
      },
      "text/plain": [
       "IntProgress(value=0, max=1)"
      ]
     },
     "metadata": {},
     "output_type": "display_data"
    },
    {
     "name": "stdout",
     "output_type": "stream",
     "text": [
      "***VALIDATION***:\n",
      "average correlation: 0.88\n",
      "average r2: 0.78\n",
      "---do_investigations. cluster index : 43---\n"
     ]
    },
    {
     "data": {
      "application/vnd.jupyter.widget-view+json": {
       "model_id": "0715bc02da314efc879ce90c2a2ee856",
       "version_major": 2,
       "version_minor": 0
      },
      "text/plain": [
       "IntProgress(value=0, max=1)"
      ]
     },
     "metadata": {},
     "output_type": "display_data"
    },
    {
     "name": "stdout",
     "output_type": "stream",
     "text": [
      "Epoch 1/20\n",
      "368/368 [==============================] - 3s 4ms/step - loss: 0.2571 - mean_absolute_error: 0.3369 - val_loss: 0.2087 - val_mean_absolute_error: 0.2866\n",
      "Epoch 2/20\n",
      "368/368 [==============================] - 1s 4ms/step - loss: 0.2380 - mean_absolute_error: 0.3197 - val_loss: 0.2083 - val_mean_absolute_error: 0.2869\n",
      "Epoch 3/20\n",
      "368/368 [==============================] - 1s 4ms/step - loss: 0.2371 - mean_absolute_error: 0.3181 - val_loss: 0.2087 - val_mean_absolute_error: 0.2931\n",
      "Epoch 4/20\n",
      "368/368 [==============================] - 1s 4ms/step - loss: 0.2356 - mean_absolute_error: 0.3168 - val_loss: 0.2066 - val_mean_absolute_error: 0.2898\n",
      "Epoch 5/20\n",
      "368/368 [==============================] - 1s 4ms/step - loss: 0.2360 - mean_absolute_error: 0.3168 - val_loss: 0.2074 - val_mean_absolute_error: 0.2863\n",
      "Epoch 6/20\n",
      "368/368 [==============================] - 1s 4ms/step - loss: 0.2352 - mean_absolute_error: 0.3162 - val_loss: 0.2121 - val_mean_absolute_error: 0.2847\n",
      "***TRAIN***:\n",
      "correlation related to cluster centre: 0.88\n",
      "r2 score related to cluster centre: 0.76\n",
      "***VALIDATION***:\n",
      "correlation related to cluster centre: 0.89\n",
      "r2 score related to cluster centre: 0.79\n"
     ]
    },
    {
     "data": {
      "application/vnd.jupyter.widget-view+json": {
       "model_id": "7da3340f8b61426db5ba127382a63dc7",
       "version_major": 2,
       "version_minor": 0
      },
      "text/plain": [
       "IntProgress(value=0, max=1)"
      ]
     },
     "metadata": {},
     "output_type": "display_data"
    },
    {
     "name": "stdout",
     "output_type": "stream",
     "text": [
      "***VALIDATION***:\n",
      "average correlation: 0.89\n",
      "average r2: 0.79\n",
      "---do_investigations. cluster index : 44---\n"
     ]
    },
    {
     "data": {
      "application/vnd.jupyter.widget-view+json": {
       "model_id": "c65ab8d1b197408db8843aafd1c4e0d6",
       "version_major": 2,
       "version_minor": 0
      },
      "text/plain": [
       "IntProgress(value=0, max=1)"
      ]
     },
     "metadata": {},
     "output_type": "display_data"
    },
    {
     "name": "stdout",
     "output_type": "stream",
     "text": [
      "Epoch 1/20\n",
      "368/368 [==============================] - 3s 4ms/step - loss: 0.2712 - mean_absolute_error: 0.3395 - val_loss: 0.1554 - val_mean_absolute_error: 0.2490\n",
      "Epoch 2/20\n",
      "368/368 [==============================] - 1s 4ms/step - loss: 0.2353 - mean_absolute_error: 0.3094 - val_loss: 0.1601 - val_mean_absolute_error: 0.2502\n",
      "Epoch 3/20\n",
      "368/368 [==============================] - 1s 4ms/step - loss: 0.2347 - mean_absolute_error: 0.3094 - val_loss: 0.1550 - val_mean_absolute_error: 0.2460\n",
      "Epoch 4/20\n",
      "368/368 [==============================] - 1s 4ms/step - loss: 0.2318 - mean_absolute_error: 0.3072 - val_loss: 0.1633 - val_mean_absolute_error: 0.2596\n",
      "Epoch 5/20\n",
      "368/368 [==============================] - 1s 4ms/step - loss: 0.2323 - mean_absolute_error: 0.3078 - val_loss: 0.1497 - val_mean_absolute_error: 0.2418\n",
      "Epoch 6/20\n",
      "368/368 [==============================] - 1s 4ms/step - loss: 0.2307 - mean_absolute_error: 0.3064 - val_loss: 0.1574 - val_mean_absolute_error: 0.2523\n",
      "Epoch 7/20\n",
      "368/368 [==============================] - 1s 4ms/step - loss: 0.2321 - mean_absolute_error: 0.3073 - val_loss: 0.1535 - val_mean_absolute_error: 0.2428\n",
      "***TRAIN***:\n",
      "correlation related to cluster centre: 0.88\n",
      "r2 score related to cluster centre: 0.77\n",
      "***VALIDATION***:\n",
      "correlation related to cluster centre: 0.90\n",
      "r2 score related to cluster centre: 0.80\n"
     ]
    },
    {
     "data": {
      "application/vnd.jupyter.widget-view+json": {
       "model_id": "ef526d643b294aaaba94a87da50179da",
       "version_major": 2,
       "version_minor": 0
      },
      "text/plain": [
       "IntProgress(value=0, max=1)"
      ]
     },
     "metadata": {},
     "output_type": "display_data"
    },
    {
     "name": "stdout",
     "output_type": "stream",
     "text": [
      "***VALIDATION***:\n",
      "average correlation: 0.90\n",
      "average r2: 0.80\n",
      "---do_investigations. cluster index : 45---\n"
     ]
    },
    {
     "data": {
      "application/vnd.jupyter.widget-view+json": {
       "model_id": "e4c38909a7d1419eb19001c6f0ade60c",
       "version_major": 2,
       "version_minor": 0
      },
      "text/plain": [
       "IntProgress(value=0, max=1)"
      ]
     },
     "metadata": {},
     "output_type": "display_data"
    },
    {
     "name": "stdout",
     "output_type": "stream",
     "text": [
      "Epoch 1/20\n",
      "368/368 [==============================] - 3s 4ms/step - loss: 0.2931 - mean_absolute_error: 0.2594 - val_loss: 0.0021 - val_mean_absolute_error: 0.0191\n",
      "Epoch 2/20\n",
      "368/368 [==============================] - 1s 4ms/step - loss: 0.2551 - mean_absolute_error: 0.2318 - val_loss: 0.0025 - val_mean_absolute_error: 0.0239\n",
      "Epoch 3/20\n",
      "368/368 [==============================] - 1s 4ms/step - loss: 0.2507 - mean_absolute_error: 0.2276 - val_loss: 0.0023 - val_mean_absolute_error: 0.0167\n",
      "***TRAIN***:\n",
      "correlation related to cluster centre: 0.87\n",
      "r2 score related to cluster centre: 0.75\n",
      "***VALIDATION***:\n",
      "correlation related to cluster centre: 0.91\n",
      "r2 score related to cluster centre: 0.76\n"
     ]
    },
    {
     "data": {
      "application/vnd.jupyter.widget-view+json": {
       "model_id": "8bc035be11fe4f65952f64f9b5016dce",
       "version_major": 2,
       "version_minor": 0
      },
      "text/plain": [
       "IntProgress(value=0, max=1)"
      ]
     },
     "metadata": {},
     "output_type": "display_data"
    },
    {
     "name": "stdout",
     "output_type": "stream",
     "text": [
      "***VALIDATION***:\n",
      "average correlation: 0.91\n",
      "average r2: 0.76\n",
      "---do_investigations. cluster index : 46---\n"
     ]
    },
    {
     "data": {
      "application/vnd.jupyter.widget-view+json": {
       "model_id": "fc37c17406af4010bac51c637137143a",
       "version_major": 2,
       "version_minor": 0
      },
      "text/plain": [
       "IntProgress(value=0, max=1)"
      ]
     },
     "metadata": {},
     "output_type": "display_data"
    },
    {
     "name": "stdout",
     "output_type": "stream",
     "text": [
      "Epoch 1/20\n",
      "368/368 [==============================] - 3s 4ms/step - loss: 0.2928 - mean_absolute_error: 0.2501 - val_loss: 0.0016 - val_mean_absolute_error: 0.0217\n",
      "Epoch 2/20\n",
      "368/368 [==============================] - 1s 4ms/step - loss: 0.2539 - mean_absolute_error: 0.2241 - val_loss: 0.0026 - val_mean_absolute_error: 0.0378\n",
      "Epoch 3/20\n",
      "368/368 [==============================] - 1s 4ms/step - loss: 0.2527 - mean_absolute_error: 0.2234 - val_loss: 0.0022 - val_mean_absolute_error: 0.0266\n",
      "***TRAIN***:\n",
      "correlation related to cluster centre: 0.87\n",
      "r2 score related to cluster centre: 0.75\n",
      "***VALIDATION***:\n",
      "correlation related to cluster centre: 0.93\n",
      "r2 score related to cluster centre: 0.76\n"
     ]
    },
    {
     "data": {
      "application/vnd.jupyter.widget-view+json": {
       "model_id": "884113ff3e384cf0be25e2b1abb66445",
       "version_major": 2,
       "version_minor": 0
      },
      "text/plain": [
       "IntProgress(value=0, max=1)"
      ]
     },
     "metadata": {},
     "output_type": "display_data"
    },
    {
     "name": "stdout",
     "output_type": "stream",
     "text": [
      "***VALIDATION***:\n",
      "average correlation: 0.93\n",
      "average r2: 0.76\n",
      "---do_investigations. cluster index : 47---\n"
     ]
    },
    {
     "data": {
      "application/vnd.jupyter.widget-view+json": {
       "model_id": "8ebc8529f0bf456690e36b4ce0c9d9cc",
       "version_major": 2,
       "version_minor": 0
      },
      "text/plain": [
       "IntProgress(value=0, max=1)"
      ]
     },
     "metadata": {},
     "output_type": "display_data"
    },
    {
     "name": "stdout",
     "output_type": "stream",
     "text": [
      "Epoch 1/20\n",
      "368/368 [==============================] - 3s 4ms/step - loss: 0.3026 - mean_absolute_error: 0.2824 - val_loss: 0.0156 - val_mean_absolute_error: 0.0710\n",
      "Epoch 2/20\n",
      "368/368 [==============================] - 1s 4ms/step - loss: 0.2698 - mean_absolute_error: 0.2532 - val_loss: 0.0162 - val_mean_absolute_error: 0.0825\n",
      "Epoch 3/20\n",
      "368/368 [==============================] - 1s 4ms/step - loss: 0.2668 - mean_absolute_error: 0.2515 - val_loss: 0.0153 - val_mean_absolute_error: 0.0692\n",
      "Epoch 4/20\n",
      "368/368 [==============================] - 1s 4ms/step - loss: 0.2669 - mean_absolute_error: 0.2516 - val_loss: 0.0153 - val_mean_absolute_error: 0.0683\n",
      "Epoch 5/20\n",
      "368/368 [==============================] - 1s 4ms/step - loss: 0.2655 - mean_absolute_error: 0.2503 - val_loss: 0.0189 - val_mean_absolute_error: 0.0972\n",
      "***TRAIN***:\n",
      "correlation related to cluster centre: 0.86\n",
      "r2 score related to cluster centre: 0.74\n",
      "***VALIDATION***:\n",
      "correlation related to cluster centre: 0.92\n",
      "r2 score related to cluster centre: 0.81\n"
     ]
    },
    {
     "data": {
      "application/vnd.jupyter.widget-view+json": {
       "model_id": "f40671d2b42442c88327c2fe91ed8be1",
       "version_major": 2,
       "version_minor": 0
      },
      "text/plain": [
       "IntProgress(value=0, max=1)"
      ]
     },
     "metadata": {},
     "output_type": "display_data"
    },
    {
     "name": "stdout",
     "output_type": "stream",
     "text": [
      "***VALIDATION***:\n",
      "average correlation: 0.92\n",
      "average r2: 0.81\n",
      "---do_investigations. cluster index : 48---\n"
     ]
    },
    {
     "data": {
      "application/vnd.jupyter.widget-view+json": {
       "model_id": "97645bab24e74d1496ab9372007ae672",
       "version_major": 2,
       "version_minor": 0
      },
      "text/plain": [
       "IntProgress(value=0, max=7)"
      ]
     },
     "metadata": {},
     "output_type": "display_data"
    },
    {
     "name": "stdout",
     "output_type": "stream",
     "text": [
      "Epoch 1/20\n",
      "368/368 [==============================] - 4s 7ms/step - loss: 0.2740 - mean_absolute_error: 0.3433 - val_loss: 0.1623 - val_mean_absolute_error: 0.2761\n",
      "Epoch 2/20\n",
      "368/368 [==============================] - 1s 4ms/step - loss: 0.2191 - mean_absolute_error: 0.3095 - val_loss: 0.1559 - val_mean_absolute_error: 0.2731\n",
      "Epoch 3/20\n",
      "368/368 [==============================] - 1s 4ms/step - loss: 0.2171 - mean_absolute_error: 0.3076 - val_loss: 0.1644 - val_mean_absolute_error: 0.2772\n",
      "Epoch 4/20\n",
      "368/368 [==============================] - 1s 4ms/step - loss: 0.2167 - mean_absolute_error: 0.3077 - val_loss: 0.1569 - val_mean_absolute_error: 0.2695\n",
      "***TRAIN***:\n",
      "correlation related to cluster centre: 0.89\n",
      "r2 score related to cluster centre: 0.79\n",
      "***VALIDATION***:\n",
      "correlation related to cluster centre: 0.90\n",
      "r2 score related to cluster centre: 0.81\n"
     ]
    },
    {
     "data": {
      "application/vnd.jupyter.widget-view+json": {
       "model_id": "02d1a4f13b13454c9ba4d1efd5fb1fa9",
       "version_major": 2,
       "version_minor": 0
      },
      "text/plain": [
       "IntProgress(value=0, max=7)"
      ]
     },
     "metadata": {},
     "output_type": "display_data"
    },
    {
     "name": "stdout",
     "output_type": "stream",
     "text": [
      "***VALIDATION***:\n",
      "average correlation: 0.90\n",
      "average r2: 0.81\n",
      "---do_investigations. cluster index : 49---\n"
     ]
    },
    {
     "data": {
      "application/vnd.jupyter.widget-view+json": {
       "model_id": "ab57840851194e49bd3b4dc82c8cf5ef",
       "version_major": 2,
       "version_minor": 0
      },
      "text/plain": [
       "IntProgress(value=0, max=1)"
      ]
     },
     "metadata": {},
     "output_type": "display_data"
    },
    {
     "name": "stdout",
     "output_type": "stream",
     "text": [
      "Epoch 1/20\n",
      "368/368 [==============================] - 3s 4ms/step - loss: 0.1765 - mean_absolute_error: 0.2332 - val_loss: 0.0629 - val_mean_absolute_error: 0.1465\n",
      "Epoch 2/20\n",
      "368/368 [==============================] - 1s 4ms/step - loss: 0.1313 - mean_absolute_error: 0.2029 - val_loss: 0.0629 - val_mean_absolute_error: 0.1480\n",
      "Epoch 3/20\n",
      "368/368 [==============================] - 1s 4ms/step - loss: 0.1303 - mean_absolute_error: 0.2030 - val_loss: 0.0642 - val_mean_absolute_error: 0.1496\n",
      "Epoch 4/20\n",
      "368/368 [==============================] - 1s 4ms/step - loss: 0.1307 - mean_absolute_error: 0.2010 - val_loss: 0.0637 - val_mean_absolute_error: 0.1463\n",
      "***TRAIN***:\n",
      "correlation related to cluster centre: 0.93\n",
      "r2 score related to cluster centre: 0.87\n",
      "***VALIDATION***:\n",
      "correlation related to cluster centre: 0.94\n",
      "r2 score related to cluster centre: 0.88\n"
     ]
    },
    {
     "data": {
      "application/vnd.jupyter.widget-view+json": {
       "model_id": "31a99181d8c8466f9e8c3b872e5ca108",
       "version_major": 2,
       "version_minor": 0
      },
      "text/plain": [
       "IntProgress(value=0, max=1)"
      ]
     },
     "metadata": {},
     "output_type": "display_data"
    },
    {
     "name": "stdout",
     "output_type": "stream",
     "text": [
      "***VALIDATION***:\n",
      "average correlation: 0.94\n",
      "average r2: 0.88\n",
      "---do_investigations. cluster index : 50---\n"
     ]
    },
    {
     "data": {
      "application/vnd.jupyter.widget-view+json": {
       "model_id": "04136d12073f4961a96aac5c4071e86a",
       "version_major": 2,
       "version_minor": 0
      },
      "text/plain": [
       "IntProgress(value=0, max=1)"
      ]
     },
     "metadata": {},
     "output_type": "display_data"
    },
    {
     "name": "stdout",
     "output_type": "stream",
     "text": [
      "Epoch 1/20\n",
      "368/368 [==============================] - 3s 4ms/step - loss: 0.1709 - mean_absolute_error: 0.2705 - val_loss: 0.0985 - val_mean_absolute_error: 0.2021\n",
      "Epoch 2/20\n",
      "368/368 [==============================] - 1s 4ms/step - loss: 0.1489 - mean_absolute_error: 0.2514 - val_loss: 0.0990 - val_mean_absolute_error: 0.1967\n",
      "Epoch 3/20\n",
      "368/368 [==============================] - 1s 4ms/step - loss: 0.1479 - mean_absolute_error: 0.2502 - val_loss: 0.0994 - val_mean_absolute_error: 0.1919\n",
      "***TRAIN***:\n",
      "correlation related to cluster centre: 0.92\n",
      "r2 score related to cluster centre: 0.85\n",
      "***VALIDATION***:\n",
      "correlation related to cluster centre: 0.92\n",
      "r2 score related to cluster centre: 0.85\n"
     ]
    },
    {
     "data": {
      "application/vnd.jupyter.widget-view+json": {
       "model_id": "aba2c68a93c947c694c32d51ffae3a7b",
       "version_major": 2,
       "version_minor": 0
      },
      "text/plain": [
       "IntProgress(value=0, max=1)"
      ]
     },
     "metadata": {},
     "output_type": "display_data"
    },
    {
     "name": "stdout",
     "output_type": "stream",
     "text": [
      "***VALIDATION***:\n",
      "average correlation: 0.92\n",
      "average r2: 0.85\n",
      "---do_investigations. cluster index : 51---\n"
     ]
    },
    {
     "data": {
      "application/vnd.jupyter.widget-view+json": {
       "model_id": "4ff39bd65d564d0ea2587be0fce8ecba",
       "version_major": 2,
       "version_minor": 0
      },
      "text/plain": [
       "IntProgress(value=0, max=1)"
      ]
     },
     "metadata": {},
     "output_type": "display_data"
    },
    {
     "name": "stdout",
     "output_type": "stream",
     "text": [
      "Epoch 1/20\n",
      "368/368 [==============================] - 3s 4ms/step - loss: 0.1855 - mean_absolute_error: 0.2848 - val_loss: 0.1232 - val_mean_absolute_error: 0.2308\n",
      "Epoch 2/20\n",
      "368/368 [==============================] - 1s 4ms/step - loss: 0.1408 - mean_absolute_error: 0.2492 - val_loss: 0.1217 - val_mean_absolute_error: 0.2251\n",
      "Epoch 3/20\n",
      "368/368 [==============================] - 1s 4ms/step - loss: 0.1379 - mean_absolute_error: 0.2468 - val_loss: 0.1234 - val_mean_absolute_error: 0.2332\n",
      "Epoch 4/20\n",
      "368/368 [==============================] - 1s 4ms/step - loss: 0.1383 - mean_absolute_error: 0.2476 - val_loss: 0.1221 - val_mean_absolute_error: 0.2351\n",
      "***TRAIN***:\n",
      "correlation related to cluster centre: 0.93\n",
      "r2 score related to cluster centre: 0.86\n",
      "***VALIDATION***:\n",
      "correlation related to cluster centre: 0.93\n",
      "r2 score related to cluster centre: 0.87\n"
     ]
    },
    {
     "data": {
      "application/vnd.jupyter.widget-view+json": {
       "model_id": "e1b9aaa5785248aabdcf73805dd2d1a0",
       "version_major": 2,
       "version_minor": 0
      },
      "text/plain": [
       "IntProgress(value=0, max=1)"
      ]
     },
     "metadata": {},
     "output_type": "display_data"
    },
    {
     "name": "stdout",
     "output_type": "stream",
     "text": [
      "***VALIDATION***:\n",
      "average correlation: 0.93\n",
      "average r2: 0.87\n",
      "---do_investigations. cluster index : 52---\n"
     ]
    },
    {
     "data": {
      "application/vnd.jupyter.widget-view+json": {
       "model_id": "0fe2f0e250ca41e5ab03947838abd6d7",
       "version_major": 2,
       "version_minor": 0
      },
      "text/plain": [
       "IntProgress(value=0, max=8)"
      ]
     },
     "metadata": {},
     "output_type": "display_data"
    },
    {
     "name": "stdout",
     "output_type": "stream",
     "text": [
      "Epoch 1/20\n",
      "368/368 [==============================] - 3s 4ms/step - loss: 0.2388 - mean_absolute_error: 0.3360 - val_loss: 0.1626 - val_mean_absolute_error: 0.2860\n",
      "Epoch 2/20\n",
      "368/368 [==============================] - 1s 4ms/step - loss: 0.2150 - mean_absolute_error: 0.3149 - val_loss: 0.1608 - val_mean_absolute_error: 0.2852\n",
      "Epoch 3/20\n",
      "368/368 [==============================] - 1s 4ms/step - loss: 0.2136 - mean_absolute_error: 0.3133 - val_loss: 0.1630 - val_mean_absolute_error: 0.2801\n",
      "Epoch 4/20\n",
      "368/368 [==============================] - 1s 4ms/step - loss: 0.2129 - mean_absolute_error: 0.3130 - val_loss: 0.1611 - val_mean_absolute_error: 0.2778\n",
      "***TRAIN***:\n",
      "correlation related to cluster centre: 0.89\n",
      "r2 score related to cluster centre: 0.79\n",
      "***VALIDATION***:\n",
      "correlation related to cluster centre: 0.90\n",
      "r2 score related to cluster centre: 0.81\n"
     ]
    },
    {
     "data": {
      "application/vnd.jupyter.widget-view+json": {
       "model_id": "db132a9114e248c0844087c8a84f8739",
       "version_major": 2,
       "version_minor": 0
      },
      "text/plain": [
       "IntProgress(value=0, max=8)"
      ]
     },
     "metadata": {},
     "output_type": "display_data"
    },
    {
     "name": "stdout",
     "output_type": "stream",
     "text": [
      "***VALIDATION***:\n",
      "average correlation: 0.90\n",
      "average r2: 0.81\n",
      "---do_investigations. cluster index : 53---\n"
     ]
    },
    {
     "data": {
      "application/vnd.jupyter.widget-view+json": {
       "model_id": "800b4c3aea9b4f5a9d16cf55d9f49fff",
       "version_major": 2,
       "version_minor": 0
      },
      "text/plain": [
       "IntProgress(value=0, max=1)"
      ]
     },
     "metadata": {},
     "output_type": "display_data"
    },
    {
     "name": "stdout",
     "output_type": "stream",
     "text": [
      "Epoch 1/20\n",
      "368/368 [==============================] - 3s 4ms/step - loss: 0.2249 - mean_absolute_error: 0.3171 - val_loss: 0.1398 - val_mean_absolute_error: 0.2512\n",
      "Epoch 2/20\n",
      "368/368 [==============================] - 1s 4ms/step - loss: 0.2005 - mean_absolute_error: 0.2967 - val_loss: 0.1438 - val_mean_absolute_error: 0.2508\n",
      "Epoch 3/20\n",
      "368/368 [==============================] - 1s 4ms/step - loss: 0.1987 - mean_absolute_error: 0.2949 - val_loss: 0.1367 - val_mean_absolute_error: 0.2518\n",
      "Epoch 4/20\n",
      "368/368 [==============================] - 1s 4ms/step - loss: 0.1990 - mean_absolute_error: 0.2953 - val_loss: 0.1339 - val_mean_absolute_error: 0.2432\n",
      "Epoch 5/20\n",
      "368/368 [==============================] - 1s 4ms/step - loss: 0.1986 - mean_absolute_error: 0.2944 - val_loss: 0.1351 - val_mean_absolute_error: 0.2487\n",
      "Epoch 6/20\n",
      "368/368 [==============================] - 1s 4ms/step - loss: 0.1977 - mean_absolute_error: 0.2941 - val_loss: 0.1382 - val_mean_absolute_error: 0.2447\n",
      "***TRAIN***:\n",
      "correlation related to cluster centre: 0.90\n",
      "r2 score related to cluster centre: 0.80\n",
      "***VALIDATION***:\n",
      "correlation related to cluster centre: 0.89\n",
      "r2 score related to cluster centre: 0.79\n"
     ]
    },
    {
     "data": {
      "application/vnd.jupyter.widget-view+json": {
       "model_id": "beefe292a7b0482b90face9f5735e68b",
       "version_major": 2,
       "version_minor": 0
      },
      "text/plain": [
       "IntProgress(value=0, max=1)"
      ]
     },
     "metadata": {},
     "output_type": "display_data"
    },
    {
     "name": "stdout",
     "output_type": "stream",
     "text": [
      "***VALIDATION***:\n",
      "average correlation: 0.89\n",
      "average r2: 0.79\n",
      "---do_investigations. cluster index : 54---\n"
     ]
    },
    {
     "data": {
      "application/vnd.jupyter.widget-view+json": {
       "model_id": "409b2d0ed8a64a02a55e7464e19a23a3",
       "version_major": 2,
       "version_minor": 0
      },
      "text/plain": [
       "IntProgress(value=0, max=2)"
      ]
     },
     "metadata": {},
     "output_type": "display_data"
    },
    {
     "name": "stdout",
     "output_type": "stream",
     "text": [
      "Epoch 1/20\n",
      "368/368 [==============================] - 3s 4ms/step - loss: 0.2192 - mean_absolute_error: 0.3094 - val_loss: 0.1161 - val_mean_absolute_error: 0.2303\n",
      "Epoch 2/20\n",
      "368/368 [==============================] - 1s 4ms/step - loss: 0.1918 - mean_absolute_error: 0.2870 - val_loss: 0.1180 - val_mean_absolute_error: 0.2260\n",
      "Epoch 3/20\n",
      "368/368 [==============================] - 1s 4ms/step - loss: 0.1911 - mean_absolute_error: 0.2863 - val_loss: 0.1151 - val_mean_absolute_error: 0.2298\n",
      "Epoch 4/20\n",
      "368/368 [==============================] - 1s 4ms/step - loss: 0.1901 - mean_absolute_error: 0.2859 - val_loss: 0.1158 - val_mean_absolute_error: 0.2243\n",
      "Epoch 5/20\n",
      "368/368 [==============================] - 1s 4ms/step - loss: 0.1891 - mean_absolute_error: 0.2844 - val_loss: 0.1166 - val_mean_absolute_error: 0.2242\n",
      "***TRAIN***:\n",
      "correlation related to cluster centre: 0.90\n",
      "r2 score related to cluster centre: 0.81\n",
      "***VALIDATION***:\n",
      "correlation related to cluster centre: 0.90\n",
      "r2 score related to cluster centre: 0.81\n"
     ]
    },
    {
     "data": {
      "application/vnd.jupyter.widget-view+json": {
       "model_id": "e2d54ad7365b4fba8c47bfa9d71d1d51",
       "version_major": 2,
       "version_minor": 0
      },
      "text/plain": [
       "IntProgress(value=0, max=2)"
      ]
     },
     "metadata": {},
     "output_type": "display_data"
    },
    {
     "name": "stdout",
     "output_type": "stream",
     "text": [
      "***VALIDATION***:\n",
      "average correlation: 0.90\n",
      "average r2: 0.81\n",
      "---do_investigations. cluster index : 55---\n"
     ]
    },
    {
     "data": {
      "application/vnd.jupyter.widget-view+json": {
       "model_id": "d76457aff84747b790b7bc738f48e70e",
       "version_major": 2,
       "version_minor": 0
      },
      "text/plain": [
       "IntProgress(value=0, max=10)"
      ]
     },
     "metadata": {},
     "output_type": "display_data"
    },
    {
     "name": "stdout",
     "output_type": "stream",
     "text": [
      "Epoch 1/20\n",
      "368/368 [==============================] - 3s 4ms/step - loss: 0.2472 - mean_absolute_error: 0.3448 - val_loss: 0.1806 - val_mean_absolute_error: 0.3030\n",
      "Epoch 2/20\n",
      "368/368 [==============================] - 1s 4ms/step - loss: 0.2067 - mean_absolute_error: 0.3150 - val_loss: 0.1777 - val_mean_absolute_error: 0.2990\n",
      "Epoch 3/20\n",
      "368/368 [==============================] - 1s 4ms/step - loss: 0.2066 - mean_absolute_error: 0.3140 - val_loss: 0.1773 - val_mean_absolute_error: 0.2908\n",
      "Epoch 4/20\n",
      "368/368 [==============================] - 1s 4ms/step - loss: 0.2062 - mean_absolute_error: 0.3137 - val_loss: 0.1783 - val_mean_absolute_error: 0.3011\n",
      "Epoch 5/20\n",
      "368/368 [==============================] - 1s 4ms/step - loss: 0.2058 - mean_absolute_error: 0.3134 - val_loss: 0.1749 - val_mean_absolute_error: 0.2896\n",
      "Epoch 6/20\n",
      "368/368 [==============================] - 1s 4ms/step - loss: 0.2047 - mean_absolute_error: 0.3125 - val_loss: 0.1768 - val_mean_absolute_error: 0.3010\n",
      "Epoch 7/20\n",
      "368/368 [==============================] - 1s 4ms/step - loss: 0.2048 - mean_absolute_error: 0.3131 - val_loss: 0.1751 - val_mean_absolute_error: 0.2929\n",
      "***TRAIN***:\n",
      "correlation related to cluster centre: 0.89\n",
      "r2 score related to cluster centre: 0.80\n",
      "***VALIDATION***:\n",
      "correlation related to cluster centre: 0.91\n",
      "r2 score related to cluster centre: 0.82\n"
     ]
    },
    {
     "data": {
      "application/vnd.jupyter.widget-view+json": {
       "model_id": "cfe74921fce44f18aeaa4b8e99bc089c",
       "version_major": 2,
       "version_minor": 0
      },
      "text/plain": [
       "IntProgress(value=0, max=10)"
      ]
     },
     "metadata": {},
     "output_type": "display_data"
    },
    {
     "name": "stdout",
     "output_type": "stream",
     "text": [
      "***VALIDATION***:\n",
      "average correlation: 0.91\n",
      "average r2: 0.82\n",
      "---do_investigations. cluster index : 56---\n"
     ]
    },
    {
     "data": {
      "application/vnd.jupyter.widget-view+json": {
       "model_id": "2d71fc05d1504011aa841416fd7743f9",
       "version_major": 2,
       "version_minor": 0
      },
      "text/plain": [
       "IntProgress(value=0, max=2)"
      ]
     },
     "metadata": {},
     "output_type": "display_data"
    },
    {
     "name": "stdout",
     "output_type": "stream",
     "text": [
      "Epoch 1/20\n",
      "368/368 [==============================] - 3s 4ms/step - loss: 0.2554 - mean_absolute_error: 0.3427 - val_loss: 0.2083 - val_mean_absolute_error: 0.3129\n",
      "Epoch 2/20\n",
      "368/368 [==============================] - 1s 4ms/step - loss: 0.2100 - mean_absolute_error: 0.3112 - val_loss: 0.2027 - val_mean_absolute_error: 0.3170\n",
      "Epoch 3/20\n",
      "368/368 [==============================] - 1s 4ms/step - loss: 0.2105 - mean_absolute_error: 0.3118 - val_loss: 0.1919 - val_mean_absolute_error: 0.2986\n",
      "Epoch 4/20\n",
      "368/368 [==============================] - 1s 4ms/step - loss: 0.2089 - mean_absolute_error: 0.3100 - val_loss: 0.1959 - val_mean_absolute_error: 0.3055\n",
      "Epoch 5/20\n",
      "368/368 [==============================] - 1s 4ms/step - loss: 0.2085 - mean_absolute_error: 0.3104 - val_loss: 0.1945 - val_mean_absolute_error: 0.3029\n",
      "***TRAIN***:\n",
      "correlation related to cluster centre: 0.89\n",
      "r2 score related to cluster centre: 0.79\n",
      "***VALIDATION***:\n",
      "correlation related to cluster centre: 0.90\n",
      "r2 score related to cluster centre: 0.81\n"
     ]
    },
    {
     "data": {
      "application/vnd.jupyter.widget-view+json": {
       "model_id": "eb983d0f0fde468c81d2071c75956c44",
       "version_major": 2,
       "version_minor": 0
      },
      "text/plain": [
       "IntProgress(value=0, max=2)"
      ]
     },
     "metadata": {},
     "output_type": "display_data"
    },
    {
     "name": "stdout",
     "output_type": "stream",
     "text": [
      "***VALIDATION***:\n",
      "average correlation: 0.90\n",
      "average r2: 0.81\n",
      "---do_investigations. cluster index : 57---\n"
     ]
    },
    {
     "data": {
      "application/vnd.jupyter.widget-view+json": {
       "model_id": "f35314a17bec4178a40a31c5b54a4845",
       "version_major": 2,
       "version_minor": 0
      },
      "text/plain": [
       "IntProgress(value=0, max=1)"
      ]
     },
     "metadata": {},
     "output_type": "display_data"
    },
    {
     "name": "stdout",
     "output_type": "stream",
     "text": [
      "Epoch 1/20\n",
      "368/368 [==============================] - 3s 4ms/step - loss: 0.1943 - mean_absolute_error: 0.3045 - val_loss: 0.1813 - val_mean_absolute_error: 0.3013\n",
      "Epoch 2/20\n",
      "368/368 [==============================] - 1s 4ms/step - loss: 0.1678 - mean_absolute_error: 0.2822 - val_loss: 0.1804 - val_mean_absolute_error: 0.2957\n",
      "Epoch 3/20\n",
      "368/368 [==============================] - 1s 4ms/step - loss: 0.1672 - mean_absolute_error: 0.2811 - val_loss: 0.1814 - val_mean_absolute_error: 0.3029\n",
      "Epoch 4/20\n",
      "368/368 [==============================] - 1s 4ms/step - loss: 0.1669 - mean_absolute_error: 0.2809 - val_loss: 0.1796 - val_mean_absolute_error: 0.2990\n",
      "Epoch 5/20\n",
      "368/368 [==============================] - 1s 4ms/step - loss: 0.1664 - mean_absolute_error: 0.2806 - val_loss: 0.1804 - val_mean_absolute_error: 0.2901\n",
      "Epoch 6/20\n",
      "368/368 [==============================] - 1s 4ms/step - loss: 0.1659 - mean_absolute_error: 0.2799 - val_loss: 0.1792 - val_mean_absolute_error: 0.2889\n",
      "Epoch 7/20\n",
      "368/368 [==============================] - 1s 4ms/step - loss: 0.1665 - mean_absolute_error: 0.2801 - val_loss: 0.1794 - val_mean_absolute_error: 0.2981\n",
      "Epoch 8/20\n",
      "368/368 [==============================] - 1s 4ms/step - loss: 0.1657 - mean_absolute_error: 0.2789 - val_loss: 0.1796 - val_mean_absolute_error: 0.3006\n",
      "***TRAIN***:\n",
      "correlation related to cluster centre: 0.91\n",
      "r2 score related to cluster centre: 0.84\n",
      "***VALIDATION***:\n",
      "correlation related to cluster centre: 0.91\n",
      "r2 score related to cluster centre: 0.82\n"
     ]
    },
    {
     "data": {
      "application/vnd.jupyter.widget-view+json": {
       "model_id": "47eda48cdc1f42c9bc496d65565013f9",
       "version_major": 2,
       "version_minor": 0
      },
      "text/plain": [
       "IntProgress(value=0, max=1)"
      ]
     },
     "metadata": {},
     "output_type": "display_data"
    },
    {
     "name": "stdout",
     "output_type": "stream",
     "text": [
      "***VALIDATION***:\n",
      "average correlation: 0.91\n",
      "average r2: 0.82\n",
      "---do_investigations. cluster index : 58---\n"
     ]
    },
    {
     "data": {
      "application/vnd.jupyter.widget-view+json": {
       "model_id": "af04950bbb6c454faeea2bc245bd7afe",
       "version_major": 2,
       "version_minor": 0
      },
      "text/plain": [
       "IntProgress(value=0, max=1)"
      ]
     },
     "metadata": {},
     "output_type": "display_data"
    },
    {
     "name": "stdout",
     "output_type": "stream",
     "text": [
      "Epoch 1/20\n",
      "368/368 [==============================] - 3s 4ms/step - loss: 0.2125 - mean_absolute_error: 0.3234 - val_loss: 0.1821 - val_mean_absolute_error: 0.3059\n",
      "Epoch 2/20\n",
      "368/368 [==============================] - 1s 4ms/step - loss: 0.1942 - mean_absolute_error: 0.3059 - val_loss: 0.1855 - val_mean_absolute_error: 0.3080\n",
      "Epoch 3/20\n",
      "368/368 [==============================] - 1s 4ms/step - loss: 0.1926 - mean_absolute_error: 0.3046 - val_loss: 0.1874 - val_mean_absolute_error: 0.3125\n",
      "***TRAIN***:\n",
      "correlation related to cluster centre: 0.90\n",
      "r2 score related to cluster centre: 0.81\n",
      "***VALIDATION***:\n",
      "correlation related to cluster centre: 0.91\n",
      "r2 score related to cluster centre: 0.82\n"
     ]
    },
    {
     "data": {
      "application/vnd.jupyter.widget-view+json": {
       "model_id": "3f3151a957ec4ab298dfe2c51e300bfc",
       "version_major": 2,
       "version_minor": 0
      },
      "text/plain": [
       "IntProgress(value=0, max=1)"
      ]
     },
     "metadata": {},
     "output_type": "display_data"
    },
    {
     "name": "stdout",
     "output_type": "stream",
     "text": [
      "***VALIDATION***:\n",
      "average correlation: 0.91\n",
      "average r2: 0.82\n",
      "---do_investigations. cluster index : 59---\n"
     ]
    },
    {
     "data": {
      "application/vnd.jupyter.widget-view+json": {
       "model_id": "1fdeaa6b939b48c19c432d3e878b98da",
       "version_major": 2,
       "version_minor": 0
      },
      "text/plain": [
       "IntProgress(value=0, max=15)"
      ]
     },
     "metadata": {},
     "output_type": "display_data"
    },
    {
     "name": "stdout",
     "output_type": "stream",
     "text": [
      "Epoch 1/20\n",
      "368/368 [==============================] - 3s 4ms/step - loss: 0.2441 - mean_absolute_error: 0.3412 - val_loss: 0.1681 - val_mean_absolute_error: 0.2922\n",
      "Epoch 2/20\n",
      "368/368 [==============================] - 1s 4ms/step - loss: 0.2067 - mean_absolute_error: 0.3164 - val_loss: 0.1686 - val_mean_absolute_error: 0.2875\n",
      "Epoch 3/20\n",
      "368/368 [==============================] - 1s 4ms/step - loss: 0.2049 - mean_absolute_error: 0.3151 - val_loss: 0.1680 - val_mean_absolute_error: 0.2933\n",
      "Epoch 4/20\n",
      "368/368 [==============================] - 1s 4ms/step - loss: 0.2049 - mean_absolute_error: 0.3145 - val_loss: 0.1685 - val_mean_absolute_error: 0.2990\n",
      "Epoch 5/20\n",
      "368/368 [==============================] - 1s 4ms/step - loss: 0.2056 - mean_absolute_error: 0.3158 - val_loss: 0.1717 - val_mean_absolute_error: 0.3003\n",
      "***TRAIN***:\n",
      "correlation related to cluster centre: 0.89\n",
      "r2 score related to cluster centre: 0.80\n",
      "***VALIDATION***:\n",
      "correlation related to cluster centre: 0.91\n",
      "r2 score related to cluster centre: 0.82\n"
     ]
    },
    {
     "data": {
      "application/vnd.jupyter.widget-view+json": {
       "model_id": "494eccb6845447018c27209a04f61614",
       "version_major": 2,
       "version_minor": 0
      },
      "text/plain": [
       "IntProgress(value=0, max=15)"
      ]
     },
     "metadata": {},
     "output_type": "display_data"
    },
    {
     "name": "stdout",
     "output_type": "stream",
     "text": [
      "***VALIDATION***:\n",
      "average correlation: 0.91\n",
      "average r2: 0.82\n",
      "weighted_average_correlation: 0.91\n",
      "weighted_average_r2_score: 0.81\n",
      "bad clusters rate: 0.92%\n",
      "------------------------------------------------------\n"
     ]
    }
   ],
   "source": [
    "first_path = r\"C:\\Coding\\final-qualifying-work_2023-2024\\ClusteringCpp\\output\\mst 5.txt\"\n",
    "second_path = r\"C:\\Coding\\final-qualifying-work_2023-2024\\ClusteringCpp\\output\\mst 15.txt\"\n",
    "third_path = r\"C:\\Coding\\final-qualifying-work_2023-2024\\ClusteringCpp\\output\\mst 30.txt\"\n",
    "fourth_path = r\"C:\\Coding\\final-qualifying-work_2023-2024\\ClusteringCpp\\output\\mst 60.txt\"\n",
    "\n",
    "output_file = open(\"computational-experiments-output-mst-1.txt\", \"a\")\n",
    "\n",
    "selected_path = fourth_path\n",
    "\n",
    "print('------------------------------------------------------')\n",
    "output_file.write('------------------------------------------------------\\n')\n",
    "\n",
    "print(f\"rnn {os.path.split(selected_path)[-1]}\")\n",
    "output_file.write(f\"rnn {os.path.split(selected_path)[-1]}\\n\")\n",
    "show_results(rnn_model, get_clusters(selected_path), CONV_WIDTH)\n",
    "\n",
    "print('------------------------------------------------------')\n",
    "output_file.write('------------------------------------------------------\\n')\n",
    "\n",
    "output_file.close()"
   ]
  }
 ],
 "metadata": {
  "kernelspec": {
   "display_name": "Python 3 (ipykernel)",
   "language": "python",
   "name": "python3"
  },
  "language_info": {
   "codemirror_mode": {
    "name": "ipython",
    "version": 3
   },
   "file_extension": ".py",
   "mimetype": "text/x-python",
   "name": "python",
   "nbconvert_exporter": "python",
   "pygments_lexer": "ipython3",
   "version": "3.11.7"
  }
 },
 "nbformat": 4,
 "nbformat_minor": 5
}
