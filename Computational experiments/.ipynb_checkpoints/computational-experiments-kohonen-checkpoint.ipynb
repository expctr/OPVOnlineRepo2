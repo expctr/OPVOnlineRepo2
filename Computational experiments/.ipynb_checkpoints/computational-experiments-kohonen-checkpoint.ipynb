{
 "cells": [
  {
   "cell_type": "code",
   "execution_count": 1,
   "id": "5c496ac8-c639-4c8c-b976-f1f8ce168874",
   "metadata": {},
   "outputs": [
    {
     "name": "stderr",
     "output_type": "stream",
     "text": [
      "C:\\Users\\iasha\\AppData\\Local\\Temp\\ipykernel_2552\\424092037.py:11: DeprecationWarning: \n",
      "Pyarrow will become a required dependency of pandas in the next major release of pandas (pandas 3.0),\n",
      "(to allow more performant data types, such as the Arrow string type, and better interoperability with other libraries)\n",
      "but was not found to be installed on your system.\n",
      "If this would cause problems for you,\n",
      "please provide us feedback at https://github.com/pandas-dev/pandas/issues/54466\n",
      "        \n",
      "  import pandas as pd\n"
     ]
    },
    {
     "name": "stdout",
     "output_type": "stream",
     "text": [
      "WARNING:tensorflow:From C:\\python\\python311\\Lib\\site-packages\\keras\\src\\losses.py:2976: The name tf.losses.sparse_softmax_cross_entropy is deprecated. Please use tf.compat.v1.losses.sparse_softmax_cross_entropy instead.\n",
      "\n"
     ]
    }
   ],
   "source": [
    "import os\n",
    "import datetime\n",
    "import time\n",
    "\n",
    "import IPython\n",
    "import IPython.display\n",
    "from ipywidgets import IntProgress\n",
    "import matplotlib as mpl\n",
    "import matplotlib.pyplot as plt\n",
    "import numpy as np\n",
    "import pandas as pd\n",
    "import seaborn as sns\n",
    "import tensorflow as tf\n",
    "from tensorflow import keras\n",
    "\n",
    "from sklearn.metrics import r2_score\n",
    "import math\n",
    "\n",
    "mpl.rcParams['figure.figsize'] = (8, 6)\n",
    "mpl.rcParams['axes.grid'] = False"
   ]
  },
  {
   "cell_type": "code",
   "execution_count": 2,
   "id": "bc1317b0-357d-40b7-a89d-e429d7ac48b8",
   "metadata": {},
   "outputs": [],
   "source": [
    "import warnings\n",
    "warnings.filterwarnings('ignore')"
   ]
  },
  {
   "cell_type": "code",
   "execution_count": 3,
   "id": "742088f3-4104-4d45-badc-c8a3c3a343ce",
   "metadata": {},
   "outputs": [],
   "source": [
    "def convert_line_to_list(line: str):\n",
    "    split_line = line.split(' ')\n",
    "    result_list = []\n",
    "\n",
    "    for current in split_line:\n",
    "        if current == '\\n':\n",
    "            continue\n",
    "            \n",
    "        result_list.append(int(current))\n",
    "\n",
    "    return result_list"
   ]
  },
  {
   "cell_type": "code",
   "execution_count": 4,
   "id": "83a2dd6c-76e1-4a80-99c2-84151541c387",
   "metadata": {},
   "outputs": [],
   "source": [
    "def get_mlt(clustering_unit_index):\n",
    "    return clustering_unit_index // 80 * 0.25\n",
    "\n",
    "def get_magneticLat(clustering_unit_index):\n",
    "    return clustering_unit_index % 80 * 0.5 + 50"
   ]
  },
  {
   "cell_type": "code",
   "execution_count": 5,
   "id": "089333f6-d844-463c-a7d2-9e77bde24183",
   "metadata": {},
   "outputs": [],
   "source": [
    "def cluster_unit_index_to_file_path(clustering_unit_index):\n",
    "    mlt = get_mlt(clustering_unit_index)\n",
    "    magnetic_lat = get_magneticLat(clustering_unit_index)\n",
    "    \n",
    "    return f\"C:\\\\Coding\\\\final-qualifying-work_2023-2024\\\\OvationPrimeDataCollector\\\\north-nowcast-diffuse\\\\{mlt:.2f}_{magnetic_lat:.1f}.csv\""
   ]
  },
  {
   "cell_type": "code",
   "execution_count": 6,
   "id": "6ad54871-4fe2-4df3-9f9e-62438de26146",
   "metadata": {},
   "outputs": [],
   "source": [
    "def get_cluster_centre(cluster):\n",
    "    cluster_centre = pd.read_csv(cluster_unit_index_to_file_path(cluster[0]), sep=';', low_memory=False)\n",
    "\n",
    "    f = IntProgress(min=0, max=len(cluster))\n",
    "    display(f)\n",
    "    i = 0\n",
    "    for clustering_unit_index in cluster:\n",
    "        # if i % 100 == 0:\n",
    "        #     f.value += 100\n",
    "        f.value += 1\n",
    "        if i == 0:\n",
    "            i += 1\n",
    "            continue\n",
    "        current_df = pd.read_csv(cluster_unit_index_to_file_path(clustering_unit_index), sep=';', low_memory=False)\n",
    "        cluster_centre['y'] += current_df['y']\n",
    "        i += 1\n",
    "\n",
    "    cluster_centre['y'] = cluster_centre['y'].divide(len(cluster))\n",
    "    return cluster_centre"
   ]
  },
  {
   "cell_type": "code",
   "execution_count": 7,
   "id": "b50eb510-5229-43a4-849c-3198776f5d03",
   "metadata": {},
   "outputs": [],
   "source": [
    "class WindowGenerator():\n",
    "  def __init__(self, input_width, label_width, shift,\n",
    "               train_df, val_df, test_df,\n",
    "               label_columns=None):\n",
    "    # Store the raw data.\n",
    "    self.train_df = train_df\n",
    "    self.val_df = val_df\n",
    "    self.test_df = test_df\n",
    "\n",
    "    # Work out the label column indices.\n",
    "    self.label_columns = label_columns\n",
    "    if label_columns is not None:\n",
    "      self.label_columns_indices = {name: i for i, name in\n",
    "                                    enumerate(label_columns)}\n",
    "    self.column_indices = {name: i for i, name in\n",
    "                           enumerate(train_df.columns)}\n",
    "\n",
    "    # Work out the window parameters.\n",
    "    self.input_width = input_width\n",
    "    self.label_width = label_width\n",
    "    self.shift = shift\n",
    "\n",
    "    self.total_window_size = input_width + shift\n",
    "\n",
    "    self.input_slice = slice(0, input_width)\n",
    "    self.input_indices = np.arange(self.total_window_size)[self.input_slice]\n",
    "\n",
    "    self.label_start = self.total_window_size - self.label_width\n",
    "    self.labels_slice = slice(self.label_start, None)\n",
    "    self.label_indices = np.arange(self.total_window_size)[self.labels_slice]\n",
    "\n",
    "  def __repr__(self):\n",
    "    return '\\n'.join([\n",
    "        f'Total window size: {self.total_window_size}',\n",
    "        f'Input indices: {self.input_indices}',\n",
    "        f'Label indices: {self.label_indices}',\n",
    "        f'Label column name(s): {self.label_columns}'])"
   ]
  },
  {
   "cell_type": "code",
   "execution_count": 8,
   "id": "958236c6-c012-45dd-b624-c41bb3beba93",
   "metadata": {},
   "outputs": [],
   "source": [
    "def split_window(self, features):\n",
    "  inputs = features[:, self.input_slice, :]\n",
    "  labels = features[:, self.labels_slice, :]\n",
    "  if self.label_columns is not None:\n",
    "    labels = tf.stack(\n",
    "        [labels[:, :, self.column_indices[name]] for name in self.label_columns],\n",
    "        axis=-1)\n",
    "\n",
    "  # Slicing doesn't preserve static shape information, so set the shapes\n",
    "  # manually. This way the `tf.data.Datasets` are easier to inspect.\n",
    "  inputs.set_shape([None, self.input_width, None])\n",
    "  labels.set_shape([None, self.label_width, None])\n",
    "\n",
    "  return inputs, labels\n",
    "\n",
    "WindowGenerator.split_window = split_window"
   ]
  },
  {
   "cell_type": "code",
   "execution_count": 9,
   "id": "ab174b92-5d20-47bd-8807-5c570866f4aa",
   "metadata": {},
   "outputs": [],
   "source": [
    "def make_dataset(self, data):\n",
    "  data = np.array(data, dtype=np.float32)\n",
    "  ds = tf.keras.utils.timeseries_dataset_from_array(\n",
    "      data=data,\n",
    "      targets=None,\n",
    "      sequence_length=self.total_window_size,\n",
    "      sequence_stride=1,\n",
    "      shuffle=True,\n",
    "      batch_size=32,)\n",
    "\n",
    "  ds = ds.map(self.split_window)\n",
    "\n",
    "  return ds\n",
    "\n",
    "WindowGenerator.make_dataset = make_dataset"
   ]
  },
  {
   "cell_type": "code",
   "execution_count": 10,
   "id": "fc69391d-8896-4743-abf2-342b4d7cc1cb",
   "metadata": {},
   "outputs": [],
   "source": [
    "@property\n",
    "def train(self):\n",
    "  return self.make_dataset(self.train_df)\n",
    "\n",
    "@property\n",
    "def val(self):\n",
    "  return self.make_dataset(self.val_df)\n",
    "\n",
    "@property\n",
    "def test(self):\n",
    "  return self.make_dataset(self.test_df)\n",
    "\n",
    "@property\n",
    "def example(self):\n",
    "  \"\"\"Get and cache an example batch of `inputs, labels` for plotting.\"\"\"\n",
    "  result = getattr(self, '_example', None)\n",
    "  if result is None:\n",
    "    # No example batch was found, so get one from the `.train` dataset\n",
    "    result = next(iter(self.train))\n",
    "    # And cache it for next time\n",
    "    self._example = result\n",
    "  return result\n",
    "\n",
    "WindowGenerator.train = train\n",
    "WindowGenerator.val = val\n",
    "WindowGenerator.test = test\n",
    "WindowGenerator.example = example"
   ]
  },
  {
   "cell_type": "code",
   "execution_count": 11,
   "id": "cec89917-81cd-432f-91d5-da59e269b839",
   "metadata": {},
   "outputs": [],
   "source": [
    "MAX_EPOCHS = 20\n",
    "\n",
    "def compile_and_fit(model, window, patience=2):\n",
    "  early_stopping = tf.keras.callbacks.EarlyStopping(monitor='val_loss',\n",
    "                                                    patience=patience,\n",
    "                                                    mode='min')\n",
    "    \n",
    "  model.compile(loss=tf.losses.MeanSquaredError(),\n",
    "                optimizer=tf.optimizers.Adam(),\n",
    "                metrics=[tf.metrics.MeanAbsoluteError()])\n",
    "\n",
    "  history = model.fit(window.train, epochs=MAX_EPOCHS,\n",
    "                      validation_data=window.val,\n",
    "                      callbacks=[early_stopping])\n",
    "  return history"
   ]
  },
  {
   "cell_type": "code",
   "execution_count": 34,
   "id": "a325b965-1e56-45ce-9d42-eff74866ef4b",
   "metadata": {},
   "outputs": [],
   "source": [
    "# output_file = open(\"computational-experiments-output.txt\", \"w\")"
   ]
  },
  {
   "cell_type": "code",
   "execution_count": 12,
   "id": "49a0d13a-d100-4a85-ad2f-72775c79b05c",
   "metadata": {},
   "outputs": [],
   "source": [
    "def investigate(cluster_index, model, conv_width, clusters, save_data):\n",
    "    cluster_centre = get_cluster_centre(clusters[cluster_index])\n",
    "    cluster_centre = cluster_centre.drop(['date'], axis=1)\n",
    "    cluster_centre = cluster_centre.drop(['segment'], axis=1)\n",
    "    \n",
    "    n = len(cluster_centre)\n",
    "    train_df = cluster_centre[0:int(n*0.7)]\n",
    "    val_df = cluster_centre[int(n*0.7):int(n*0.9)]\n",
    "    test_df = cluster_centre[int(n*0.9):]\n",
    "\n",
    "    train_mean = train_df.mean()\n",
    "    train_std = train_df.std()\n",
    "\n",
    "    train_df = (train_df - train_mean) / train_std\n",
    "    val_df = (val_df - train_mean) / train_std\n",
    "    test_df = (test_df - train_mean) / train_std\n",
    "    \n",
    "    conv_window = WindowGenerator(\n",
    "    input_width=conv_width,\n",
    "    label_width=1,\n",
    "    shift=1,\n",
    "    train_df=train_df,\n",
    "    val_df=val_df,\n",
    "    test_df=test_df,\n",
    "    label_columns=['y']\n",
    "    )\n",
    "\n",
    "    model = keras.models.Sequential.from_config(model.get_config())\n",
    "    \n",
    "    history = compile_and_fit(model, conv_window)\n",
    "\n",
    "    inputs, labels = conv_window.example\n",
    "\n",
    "    val_df_numpy = val_df.to_numpy()\n",
    "    train_df_numpy = train_df.to_numpy()\n",
    "    new_true_values_val = []\n",
    "    new_true_values_train = []\n",
    "    new_input_val = []\n",
    "    new_input_train = []\n",
    "\n",
    "    new_true_values_val = val_df_numpy[3:].flatten()\n",
    "    new_input_val = np.column_stack([val_df_numpy[0:-3], val_df_numpy[1:-2], val_df_numpy[2:-1]])\n",
    "\n",
    "    new_true_values_train = train_df_numpy[3:].flatten()\n",
    "    new_input_train = np.column_stack([train_df_numpy[0:-3], train_df_numpy[1:-2], train_df_numpy[2:-1]])\n",
    "        \n",
    "    val_predictions = model(np.array(new_input_val)).numpy()\n",
    "    train_predictions = model(np.array(new_input_train)).numpy()\n",
    "    \n",
    "    new_val_predictions = val_predictions.flatten()\n",
    "    new_train_predictions = train_predictions.flatten()\n",
    "    \n",
    "    new_true_values_val = (new_true_values_val * train_std['y']) + train_mean['y']\n",
    "    new_val_predictions = (new_val_predictions * train_std['y']) + train_mean['y']\n",
    "\n",
    "    new_true_values_train = (new_true_values_train * train_std['y']) + train_mean['y']\n",
    "    new_train_predictions = (new_train_predictions * train_std['y']) + train_mean['y']\n",
    "\n",
    "    print(\"***TRAIN***:\")\n",
    "    output_file.write(\"***TRAIN***:\\n\")\n",
    "    print(f\"correlation related to cluster centre: {np.corrcoef(new_true_values_train, new_train_predictions)[0][1]:.2f}\")\n",
    "    output_file.write(f\"correlation related to cluster centre: {np.corrcoef(new_true_values_train, new_train_predictions)[0][1]:.2f}\\n\")\n",
    "    print(f\"r2 score related to cluster centre: {r2_score(new_true_values_train, new_train_predictions):.2f}\")\n",
    "    output_file.write(f\"r2 score related to cluster centre: {r2_score(new_true_values_train, new_train_predictions):.2f}\\n\")\n",
    "    print(\"***VALIDATION***:\")\n",
    "    output_file.write(\"***VALIDATION***:\\n\")\n",
    "    print(f\"correlation related to cluster centre: {np.corrcoef(new_true_values_val, new_val_predictions)[0][1]:.2f}\")\n",
    "    output_file.write(f\"correlation related to cluster centre: {np.corrcoef(new_true_values_val, new_val_predictions)[0][1]:.2f}\\n\")\n",
    "    print(f\"r2 score related to cluster centre: {r2_score(new_true_values_val, new_val_predictions):.2f}\")\n",
    "    output_file.write(f\"r2 score related to cluster centre: {r2_score(new_true_values_val, new_val_predictions):.2f}\\n\")\n",
    "\n",
    "    sum_correlation_val = 0\n",
    "    sum_r2_val = 0\n",
    "\n",
    "    f = IntProgress(min=0, max=len(clusters[cluster_index]))\n",
    "    display(f)\n",
    "\n",
    "    i = 0\n",
    "    for clustering_unit_index in clusters[cluster_index]:\n",
    "        if (i % 100 == 0):\n",
    "            f.value += 100\n",
    "        \n",
    "        current_df = pd.read_csv(cluster_unit_index_to_file_path(clustering_unit_index), sep=';', low_memory=False)\n",
    "        current_df = current_df.drop(['date'], axis=1)\n",
    "        current_df = current_df.drop(['segment'], axis=1)\n",
    "\n",
    "        n = len(current_df)\n",
    "        current_train_df = current_df[0:int(n*0.7)]\n",
    "        current_val_df = current_df[int(n*0.7):int(n*0.9)]\n",
    "        current_test_df = current_df[int(n*0.9):]\n",
    "\n",
    "        current_train_df = (current_train_df - train_mean) / train_std\n",
    "        current_val_df = (current_val_df - train_mean) / train_std\n",
    "        current_test_df = (current_test_df - train_mean) / train_std\n",
    "\n",
    "        current_val_df_numpy = current_val_df.to_numpy()\n",
    "        current_new_true_values_val = current_val_df_numpy[3:].flatten()\n",
    "        current_new_input_val = np.column_stack([current_val_df_numpy[0:-3], current_val_df_numpy[1:-2], current_val_df_numpy[2:-1]])\n",
    "\n",
    "        current_val_predictions = model(np.array(current_new_input_val)).numpy()\n",
    "        current_new_val_predictions = current_val_predictions.flatten()\n",
    "\n",
    "        current_new_true_values_val = (current_new_true_values_val * train_std['y']) + train_mean['y']\n",
    "        current_new_val_predictions = (current_new_val_predictions * train_std['y']) + train_mean['y']\n",
    "            \n",
    "        sum_correlation_val += np.corrcoef(current_new_true_values_val, current_new_val_predictions)[0][1]\n",
    "        sum_r2_val += r2_score(current_new_true_values_val, current_new_val_predictions)\n",
    "\n",
    "        i += 1\n",
    "\n",
    "    if (save_data):\n",
    "        f = open(f\"train mean and std for cluster {cluster_index}.txt\", \"w\")\n",
    "        f.write(str(train_mean.mean()) + ' ' + str(train_std.mean()))\n",
    "        f.close()\n",
    "        model.save(f\"model for cluster {cluster_index}\")\n",
    "\n",
    "    cluster_len = len(clusters[cluster_index])\n",
    "    \n",
    "    return sum_correlation_val / cluster_len, sum_r2_val / cluster_len,"
   ]
  },
  {
   "cell_type": "code",
   "execution_count": 13,
   "id": "5ad4b77a-3091-45a8-a871-5977a48e687f",
   "metadata": {},
   "outputs": [],
   "source": [
    "def do_investigations(model, clusters, conv_width):\n",
    "    cluster_sizes = []\n",
    "    correlations = []\n",
    "    r2_scores = []\n",
    "\n",
    "    for i in range(len(clusters)):\n",
    "        print(f\"---do_investigations. cluster index : {i}---\")\n",
    "        output_file.write(f\"---do_investigations. cluster index : {i}---\\n\")\n",
    "        average_correlation, average_r2 = investigate(i, model, conv_width, clusters, False)\n",
    "        \n",
    "        print(\"***VALIDATION***:\")\n",
    "        output_file.write(\"***VALIDATION***:\\n\")\n",
    "        print(f\"average correlation: {average_correlation:.2f}\")\n",
    "        output_file.write(f\"average correlation: {average_correlation:.2f}\\n\")\n",
    "        print(f\"average r2: {average_r2:.2f}\")\n",
    "        output_file.write(f\"average r2: {average_r2:.2f}\\n\")\n",
    "\n",
    "        cluster_sizes.append(len(clusters[i]))\n",
    "        correlations.append(average_correlation)\n",
    "        r2_scores.append(average_r2)\n",
    "\n",
    "    return cluster_sizes, correlations, r2_scores"
   ]
  },
  {
   "cell_type": "code",
   "execution_count": 14,
   "id": "bd5bb17d-f0f0-41f8-a216-1f604354c7ed",
   "metadata": {},
   "outputs": [],
   "source": [
    "def print_metrics(cluster_sizes, correlations, r2_scores, clusters):\n",
    "    total_size = 0\n",
    "    correlation_sum = 0\n",
    "    r2_score_sum = 0\n",
    "    \n",
    "    bad_clusters_indices = []\n",
    "\n",
    "    for i in range(len(cluster_sizes)):\n",
    "        if (math.isnan(correlations[i]) or (r2_scores[i] < 0)):\n",
    "            bad_clusters_indices.append(i)\n",
    "            continue\n",
    "        \n",
    "        correlation_sum += cluster_sizes[i] * correlations[i]\n",
    "        r2_score_sum += cluster_sizes[i] * r2_scores[i]\n",
    "        total_size += cluster_sizes[i]\n",
    "\n",
    "    weighted_average_correlation = correlation_sum / total_size\n",
    "    weighted_average_r2_score = r2_score_sum / total_size\n",
    "\n",
    "    print(f\"weighted_average_correlation: {weighted_average_correlation:.2f}\")\n",
    "    output_file.write(f\"weighted_average_correlation: {weighted_average_correlation:.2f}\\n\")\n",
    "    print(f\"weighted_average_r2_score: {weighted_average_r2_score:.2f}\")\n",
    "    output_file.write(f\"weighted_average_r2_score: {weighted_average_r2_score:.2f}\\n\")\n",
    "\n",
    "    bad_clusters_size_sum = 0\n",
    "    total_clusters_size_sum = 0\n",
    "\n",
    "    for cluster_size in cluster_sizes:\n",
    "        total_clusters_size_sum += cluster_size\n",
    "    \n",
    "    for bad_cluster_index in bad_clusters_indices:\n",
    "        bad_clusters_size_sum += len(clusters[bad_cluster_index])\n",
    "\n",
    "    bad_clusters_rate = bad_clusters_size_sum / total_clusters_size_sum\n",
    "\n",
    "    print(f\"bad clusters rate: {bad_clusters_rate:.2f}%\")\n",
    "    output_file.write(f\"bad clusters rate: {bad_clusters_rate:.2f}%\\n\")"
   ]
  },
  {
   "cell_type": "code",
   "execution_count": 15,
   "id": "5617952d-1bcf-466e-9388-799b85c6bc7e",
   "metadata": {},
   "outputs": [],
   "source": [
    "def show_results(model, clusters, conv_width):\n",
    "    cluster_sizes, correlations, r2_scores = do_investigations(model, clusters, conv_width)\n",
    "    print_metrics(cluster_sizes, correlations, r2_scores, clusters)"
   ]
  },
  {
   "cell_type": "code",
   "execution_count": 16,
   "id": "776882d6-8435-46f0-9c36-eb1c89b0634a",
   "metadata": {},
   "outputs": [],
   "source": [
    "CONV_WIDTH = 3"
   ]
  },
  {
   "cell_type": "code",
   "execution_count": 17,
   "id": "10b769f4-4e06-4d51-bb0b-561f86733e5a",
   "metadata": {
    "scrolled": true
   },
   "outputs": [
    {
     "name": "stdout",
     "output_type": "stream",
     "text": [
      "WARNING:tensorflow:From C:\\python\\python311\\Lib\\site-packages\\keras\\src\\backend.py:873: The name tf.get_default_graph is deprecated. Please use tf.compat.v1.get_default_graph instead.\n",
      "\n"
     ]
    }
   ],
   "source": [
    "multi_step_dense_model = tf.keras.Sequential([\n",
    "    # Shape: (time, features) => (time*features)\n",
    "    tf.keras.layers.Flatten(),\n",
    "    tf.keras.layers.Dense(units=32, activation='relu'),\n",
    "    tf.keras.layers.Dense(units=32, activation='relu'),\n",
    "    tf.keras.layers.Dense(units=1),\n",
    "    # Add back the time dimension.\n",
    "    # Shape: (outputs) => (1, outputs)\n",
    "    tf.keras.layers.Reshape([1, -1]),\n",
    "])"
   ]
  },
  {
   "cell_type": "code",
   "execution_count": 18,
   "id": "6b7e99b0-3f31-4d4a-8398-dd8fce7fc683",
   "metadata": {
    "scrolled": true
   },
   "outputs": [],
   "source": [
    "lstm_model = tf.keras.models.Sequential([\n",
    "    # Shape [batch, time, features] => [batch, time, lstm_units]\n",
    "    tf.keras.layers.Conv1D(filters=32,\n",
    "                           kernel_size=(CONV_WIDTH,),\n",
    "                           activation='relu'),\n",
    "    tf.keras.layers.LSTM(128, return_sequences=True),\n",
    "    # Shape => [batch, time, features]\n",
    "    tf.keras.layers.Dense(units=1)\n",
    "])"
   ]
  },
  {
   "cell_type": "code",
   "execution_count": 19,
   "id": "e33b7ad0-dae9-4997-83ac-db93f7889d3a",
   "metadata": {},
   "outputs": [],
   "source": [
    "rnn_model = tf.keras.models.Sequential([\n",
    "    # Shape [batch, time, features] => [batch, time, lstm_units]\n",
    "    tf.keras.layers.Conv1D(filters=32,\n",
    "                           kernel_size=(CONV_WIDTH,),\n",
    "                           activation='relu'),\n",
    "    tf.keras.layers.SimpleRNN(128, return_sequences=True),\n",
    "    # Shape => [batch, time, features]\n",
    "    tf.keras.layers.Dense(units=1)\n",
    "])"
   ]
  },
  {
   "cell_type": "code",
   "execution_count": 20,
   "id": "5f284891-fcf1-4d84-879b-274cfbbd243e",
   "metadata": {},
   "outputs": [],
   "source": [
    "def get_clusters(path):\n",
    "    file = open(path, 'r')\n",
    "    lines = file.readlines()\n",
    "    file.close()\n",
    "\n",
    "    clusters = []\n",
    "\n",
    "    for line in lines:\n",
    "        if line.strip() == '':\n",
    "            continue\n",
    "        clusters.append(convert_line_to_list(line))\n",
    "\n",
    "    return clusters"
   ]
  },
  {
   "cell_type": "code",
   "execution_count": 22,
   "id": "d2b73a57-fa23-43c6-9bb9-c2fe8d33736a",
   "metadata": {},
   "outputs": [
    {
     "name": "stdout",
     "output_type": "stream",
     "text": [
      "msd kohonen 15 0.1 0.1.txt\n",
      "---do_investigations. cluster index : 0---\n"
     ]
    },
    {
     "data": {
      "application/vnd.jupyter.widget-view+json": {
       "model_id": "e2c64f53150d44a09286de0b659ca6cf",
       "version_major": 2,
       "version_minor": 0
      },
      "text/plain": [
       "IntProgress(value=0, max=5788)"
      ]
     },
     "metadata": {},
     "output_type": "display_data"
    },
    {
     "name": "stdout",
     "output_type": "stream",
     "text": [
      "Epoch 1/20\n",
      "WARNING:tensorflow:From C:\\python\\python311\\Lib\\site-packages\\keras\\src\\utils\\tf_utils.py:492: The name tf.ragged.RaggedTensorValue is deprecated. Please use tf.compat.v1.ragged.RaggedTensorValue instead.\n",
      "\n",
      "368/368 [==============================] - 2s 3ms/step - loss: 0.2709 - mean_absolute_error: 0.3076 - val_loss: 0.2332 - val_mean_absolute_error: 0.2651\n",
      "Epoch 2/20\n",
      "368/368 [==============================] - 1s 2ms/step - loss: 0.1963 - mean_absolute_error: 0.2694 - val_loss: 0.2304 - val_mean_absolute_error: 0.2685\n",
      "Epoch 3/20\n",
      "368/368 [==============================] - 1s 2ms/step - loss: 0.1949 - mean_absolute_error: 0.2687 - val_loss: 0.2286 - val_mean_absolute_error: 0.2612\n",
      "Epoch 4/20\n",
      "368/368 [==============================] - 1s 2ms/step - loss: 0.1931 - mean_absolute_error: 0.2683 - val_loss: 0.2281 - val_mean_absolute_error: 0.2620\n",
      "Epoch 5/20\n",
      "368/368 [==============================] - 1s 2ms/step - loss: 0.1930 - mean_absolute_error: 0.2672 - val_loss: 0.2257 - val_mean_absolute_error: 0.2679\n",
      "Epoch 6/20\n",
      "368/368 [==============================] - 1s 2ms/step - loss: 0.1926 - mean_absolute_error: 0.2679 - val_loss: 0.2255 - val_mean_absolute_error: 0.2660\n",
      "Epoch 7/20\n",
      "368/368 [==============================] - 1s 2ms/step - loss: 0.1939 - mean_absolute_error: 0.2678 - val_loss: 0.2299 - val_mean_absolute_error: 0.2665\n",
      "Epoch 8/20\n",
      "368/368 [==============================] - 1s 2ms/step - loss: 0.1944 - mean_absolute_error: 0.2688 - val_loss: 0.2287 - val_mean_absolute_error: 0.2668\n",
      "***TRAIN***:\n",
      "correlation related to cluster centre: 0.90\n",
      "r2 score related to cluster centre: 0.81\n",
      "***VALIDATION***:\n",
      "correlation related to cluster centre: 0.90\n",
      "r2 score related to cluster centre: 0.81\n"
     ]
    },
    {
     "data": {
      "application/vnd.jupyter.widget-view+json": {
       "model_id": "c319957f4152434eaa28e41e65f55702",
       "version_major": 2,
       "version_minor": 0
      },
      "text/plain": [
       "IntProgress(value=0, max=5788)"
      ]
     },
     "metadata": {},
     "output_type": "display_data"
    },
    {
     "name": "stdout",
     "output_type": "stream",
     "text": [
      "***VALIDATION***:\n",
      "average correlation: nan\n",
      "average r2: -6211285110130805857920745472.00\n",
      "---do_investigations. cluster index : 1---\n"
     ]
    },
    {
     "data": {
      "application/vnd.jupyter.widget-view+json": {
       "model_id": "0190e93f1b2740d9a454d0c2cb5fe7c5",
       "version_major": 2,
       "version_minor": 0
      },
      "text/plain": [
       "IntProgress(value=0, max=930)"
      ]
     },
     "metadata": {},
     "output_type": "display_data"
    },
    {
     "name": "stdout",
     "output_type": "stream",
     "text": [
      "Epoch 1/20\n",
      "368/368 [==============================] - 2s 3ms/step - loss: 0.2589 - mean_absolute_error: 0.3462 - val_loss: 0.2053 - val_mean_absolute_error: 0.3003\n",
      "Epoch 2/20\n",
      "368/368 [==============================] - 1s 3ms/step - loss: 0.2025 - mean_absolute_error: 0.2984 - val_loss: 0.2035 - val_mean_absolute_error: 0.3006\n",
      "Epoch 3/20\n",
      "368/368 [==============================] - 1s 3ms/step - loss: 0.2028 - mean_absolute_error: 0.2986 - val_loss: 0.2022 - val_mean_absolute_error: 0.2963\n",
      "Epoch 4/20\n",
      "368/368 [==============================] - 1s 3ms/step - loss: 0.2035 - mean_absolute_error: 0.2994 - val_loss: 0.2047 - val_mean_absolute_error: 0.2994\n",
      "Epoch 5/20\n",
      "368/368 [==============================] - 1s 3ms/step - loss: 0.2019 - mean_absolute_error: 0.2973 - val_loss: 0.2076 - val_mean_absolute_error: 0.3036\n",
      "***TRAIN***:\n",
      "correlation related to cluster centre: 0.89\n",
      "r2 score related to cluster centre: 0.79\n",
      "***VALIDATION***:\n",
      "correlation related to cluster centre: 0.90\n",
      "r2 score related to cluster centre: 0.81\n"
     ]
    },
    {
     "data": {
      "application/vnd.jupyter.widget-view+json": {
       "model_id": "853d7685c1374490830d2541b30d24b1",
       "version_major": 2,
       "version_minor": 0
      },
      "text/plain": [
       "IntProgress(value=0, max=930)"
      ]
     },
     "metadata": {},
     "output_type": "display_data"
    },
    {
     "name": "stdout",
     "output_type": "stream",
     "text": [
      "***VALIDATION***:\n",
      "average correlation: 0.90\n",
      "average r2: 0.68\n",
      "---do_investigations. cluster index : 2---\n"
     ]
    },
    {
     "data": {
      "application/vnd.jupyter.widget-view+json": {
       "model_id": "6afe2b137d544155be73aa3b91cee55d",
       "version_major": 2,
       "version_minor": 0
      },
      "text/plain": [
       "IntProgress(value=0, max=205)"
      ]
     },
     "metadata": {},
     "output_type": "display_data"
    },
    {
     "name": "stdout",
     "output_type": "stream",
     "text": [
      "Epoch 1/20\n",
      "368/368 [==============================] - 2s 4ms/step - loss: 0.2627 - mean_absolute_error: 0.3411 - val_loss: 0.1841 - val_mean_absolute_error: 0.2878\n",
      "Epoch 2/20\n",
      "368/368 [==============================] - 1s 3ms/step - loss: 0.2060 - mean_absolute_error: 0.2934 - val_loss: 0.1880 - val_mean_absolute_error: 0.2852\n",
      "Epoch 3/20\n",
      "368/368 [==============================] - 1s 3ms/step - loss: 0.2058 - mean_absolute_error: 0.2925 - val_loss: 0.1857 - val_mean_absolute_error: 0.2853\n",
      "***TRAIN***:\n",
      "correlation related to cluster centre: 0.89\n",
      "r2 score related to cluster centre: 0.79\n",
      "***VALIDATION***:\n",
      "correlation related to cluster centre: 0.91\n",
      "r2 score related to cluster centre: 0.82\n"
     ]
    },
    {
     "data": {
      "application/vnd.jupyter.widget-view+json": {
       "model_id": "f28c84f385be4eda9a9d75ea25af21c0",
       "version_major": 2,
       "version_minor": 0
      },
      "text/plain": [
       "IntProgress(value=0, max=205)"
      ]
     },
     "metadata": {},
     "output_type": "display_data"
    },
    {
     "name": "stdout",
     "output_type": "stream",
     "text": [
      "***VALIDATION***:\n",
      "average correlation: 0.90\n",
      "average r2: 0.81\n",
      "---do_investigations. cluster index : 3---\n"
     ]
    },
    {
     "data": {
      "application/vnd.jupyter.widget-view+json": {
       "model_id": "8eaaf0c6ff8e458eb5d6145f432307e0",
       "version_major": 2,
       "version_minor": 0
      },
      "text/plain": [
       "IntProgress(value=0, max=317)"
      ]
     },
     "metadata": {},
     "output_type": "display_data"
    },
    {
     "name": "stdout",
     "output_type": "stream",
     "text": [
      "Epoch 1/20\n",
      "368/368 [==============================] - 2s 4ms/step - loss: 0.2723 - mean_absolute_error: 0.3644 - val_loss: 0.1691 - val_mean_absolute_error: 0.2800\n",
      "Epoch 2/20\n",
      "368/368 [==============================] - 1s 3ms/step - loss: 0.1907 - mean_absolute_error: 0.2998 - val_loss: 0.1679 - val_mean_absolute_error: 0.2770\n",
      "Epoch 3/20\n",
      "368/368 [==============================] - 1s 3ms/step - loss: 0.1899 - mean_absolute_error: 0.2988 - val_loss: 0.1675 - val_mean_absolute_error: 0.2766\n",
      "Epoch 4/20\n",
      "368/368 [==============================] - 1s 3ms/step - loss: 0.1894 - mean_absolute_error: 0.2981 - val_loss: 0.1675 - val_mean_absolute_error: 0.2812\n",
      "Epoch 5/20\n",
      "368/368 [==============================] - 1s 3ms/step - loss: 0.1892 - mean_absolute_error: 0.2978 - val_loss: 0.1677 - val_mean_absolute_error: 0.2783\n",
      "***TRAIN***:\n",
      "correlation related to cluster centre: 0.90\n",
      "r2 score related to cluster centre: 0.81\n",
      "***VALIDATION***:\n",
      "correlation related to cluster centre: 0.91\n",
      "r2 score related to cluster centre: 0.83\n"
     ]
    },
    {
     "data": {
      "application/vnd.jupyter.widget-view+json": {
       "model_id": "248380031d554681a50412af9f28e328",
       "version_major": 2,
       "version_minor": 0
      },
      "text/plain": [
       "IntProgress(value=0, max=317)"
      ]
     },
     "metadata": {},
     "output_type": "display_data"
    },
    {
     "name": "stdout",
     "output_type": "stream",
     "text": [
      "***VALIDATION***:\n",
      "average correlation: 0.91\n",
      "average r2: 0.80\n",
      "---do_investigations. cluster index : 4---\n"
     ]
    },
    {
     "data": {
      "application/vnd.jupyter.widget-view+json": {
       "model_id": "5589ee9d395144d2be0cfdec66659b6f",
       "version_major": 2,
       "version_minor": 0
      },
      "text/plain": [
       "IntProgress(value=0, max=125)"
      ]
     },
     "metadata": {},
     "output_type": "display_data"
    },
    {
     "name": "stdout",
     "output_type": "stream",
     "text": [
      "Epoch 1/20\n",
      "368/368 [==============================] - 2s 4ms/step - loss: 0.2699 - mean_absolute_error: 0.3490 - val_loss: 0.1684 - val_mean_absolute_error: 0.2767\n",
      "Epoch 2/20\n",
      "368/368 [==============================] - 1s 3ms/step - loss: 0.2092 - mean_absolute_error: 0.3037 - val_loss: 0.1671 - val_mean_absolute_error: 0.2784\n",
      "Epoch 3/20\n",
      "368/368 [==============================] - 1s 3ms/step - loss: 0.2079 - mean_absolute_error: 0.3018 - val_loss: 0.1673 - val_mean_absolute_error: 0.2767\n",
      "Epoch 4/20\n",
      "368/368 [==============================] - 1s 3ms/step - loss: 0.2078 - mean_absolute_error: 0.3008 - val_loss: 0.1674 - val_mean_absolute_error: 0.2786\n",
      "***TRAIN***:\n",
      "correlation related to cluster centre: 0.89\n",
      "r2 score related to cluster centre: 0.79\n",
      "***VALIDATION***:\n",
      "correlation related to cluster centre: 0.91\n",
      "r2 score related to cluster centre: 0.82\n"
     ]
    },
    {
     "data": {
      "application/vnd.jupyter.widget-view+json": {
       "model_id": "32f5a1ac18f04f7fa4edb913bbf1330a",
       "version_major": 2,
       "version_minor": 0
      },
      "text/plain": [
       "IntProgress(value=0, max=125)"
      ]
     },
     "metadata": {},
     "output_type": "display_data"
    },
    {
     "name": "stdout",
     "output_type": "stream",
     "text": [
      "***VALIDATION***:\n",
      "average correlation: 0.90\n",
      "average r2: 0.82\n",
      "---do_investigations. cluster index : 5---\n"
     ]
    },
    {
     "data": {
      "application/vnd.jupyter.widget-view+json": {
       "model_id": "7dede3d1ae65436bbdd6dc954a506864",
       "version_major": 2,
       "version_minor": 0
      },
      "text/plain": [
       "IntProgress(value=0, max=160)"
      ]
     },
     "metadata": {},
     "output_type": "display_data"
    },
    {
     "name": "stdout",
     "output_type": "stream",
     "text": [
      "Epoch 1/20\n",
      "368/368 [==============================] - 2s 4ms/step - loss: 0.2485 - mean_absolute_error: 0.3440 - val_loss: 0.1583 - val_mean_absolute_error: 0.2881\n",
      "Epoch 2/20\n",
      "368/368 [==============================] - 1s 3ms/step - loss: 0.1967 - mean_absolute_error: 0.3058 - val_loss: 0.1555 - val_mean_absolute_error: 0.2771\n",
      "Epoch 3/20\n",
      "368/368 [==============================] - 1s 3ms/step - loss: 0.1964 - mean_absolute_error: 0.3057 - val_loss: 0.1605 - val_mean_absolute_error: 0.2950\n",
      "Epoch 4/20\n",
      "368/368 [==============================] - 1s 3ms/step - loss: 0.1955 - mean_absolute_error: 0.3048 - val_loss: 0.1574 - val_mean_absolute_error: 0.2838\n",
      "***TRAIN***:\n",
      "correlation related to cluster centre: 0.90\n",
      "r2 score related to cluster centre: 0.81\n",
      "***VALIDATION***:\n",
      "correlation related to cluster centre: 0.91\n",
      "r2 score related to cluster centre: 0.83\n"
     ]
    },
    {
     "data": {
      "application/vnd.jupyter.widget-view+json": {
       "model_id": "a0819712117844f7a3e798a4c4737402",
       "version_major": 2,
       "version_minor": 0
      },
      "text/plain": [
       "IntProgress(value=0, max=160)"
      ]
     },
     "metadata": {},
     "output_type": "display_data"
    },
    {
     "name": "stdout",
     "output_type": "stream",
     "text": [
      "***VALIDATION***:\n",
      "average correlation: 0.91\n",
      "average r2: 0.81\n",
      "---do_investigations. cluster index : 6---\n"
     ]
    },
    {
     "data": {
      "application/vnd.jupyter.widget-view+json": {
       "model_id": "95ce629235c84431aff766a84d1307d0",
       "version_major": 2,
       "version_minor": 0
      },
      "text/plain": [
       "IntProgress(value=0, max=69)"
      ]
     },
     "metadata": {},
     "output_type": "display_data"
    },
    {
     "name": "stdout",
     "output_type": "stream",
     "text": [
      "Epoch 1/20\n",
      "368/368 [==============================] - 2s 4ms/step - loss: 0.2584 - mean_absolute_error: 0.3457 - val_loss: 0.1466 - val_mean_absolute_error: 0.2654\n",
      "Epoch 2/20\n",
      "368/368 [==============================] - 1s 3ms/step - loss: 0.2108 - mean_absolute_error: 0.3099 - val_loss: 0.1460 - val_mean_absolute_error: 0.2670\n",
      "Epoch 3/20\n",
      "368/368 [==============================] - 1s 3ms/step - loss: 0.2095 - mean_absolute_error: 0.3082 - val_loss: 0.1480 - val_mean_absolute_error: 0.2597\n",
      "Epoch 4/20\n",
      "368/368 [==============================] - 1s 3ms/step - loss: 0.2092 - mean_absolute_error: 0.3075 - val_loss: 0.1458 - val_mean_absolute_error: 0.2625\n",
      "Epoch 5/20\n",
      "368/368 [==============================] - 1s 3ms/step - loss: 0.2100 - mean_absolute_error: 0.3087 - val_loss: 0.1477 - val_mean_absolute_error: 0.2597\n",
      "Epoch 6/20\n",
      "368/368 [==============================] - 1s 3ms/step - loss: 0.2093 - mean_absolute_error: 0.3079 - val_loss: 0.1464 - val_mean_absolute_error: 0.2641\n",
      "***TRAIN***:\n",
      "correlation related to cluster centre: 0.89\n",
      "r2 score related to cluster centre: 0.79\n",
      "***VALIDATION***:\n",
      "correlation related to cluster centre: 0.91\n",
      "r2 score related to cluster centre: 0.82\n"
     ]
    },
    {
     "data": {
      "application/vnd.jupyter.widget-view+json": {
       "model_id": "365b5335bf9f421287dba3cda3082d4d",
       "version_major": 2,
       "version_minor": 0
      },
      "text/plain": [
       "IntProgress(value=0, max=69)"
      ]
     },
     "metadata": {},
     "output_type": "display_data"
    },
    {
     "name": "stdout",
     "output_type": "stream",
     "text": [
      "***VALIDATION***:\n",
      "average correlation: 0.90\n",
      "average r2: 0.82\n",
      "---do_investigations. cluster index : 7---\n"
     ]
    },
    {
     "data": {
      "application/vnd.jupyter.widget-view+json": {
       "model_id": "6d3db7a4366b459ca6790d666022073c",
       "version_major": 2,
       "version_minor": 0
      },
      "text/plain": [
       "IntProgress(value=0, max=61)"
      ]
     },
     "metadata": {},
     "output_type": "display_data"
    },
    {
     "name": "stdout",
     "output_type": "stream",
     "text": [
      "Epoch 1/20\n",
      "368/368 [==============================] - 2s 3ms/step - loss: 0.2726 - mean_absolute_error: 0.3509 - val_loss: 0.1356 - val_mean_absolute_error: 0.2529\n",
      "Epoch 2/20\n",
      "368/368 [==============================] - 1s 3ms/step - loss: 0.2006 - mean_absolute_error: 0.3042 - val_loss: 0.1321 - val_mean_absolute_error: 0.2523\n",
      "Epoch 3/20\n",
      "368/368 [==============================] - 1s 3ms/step - loss: 0.1988 - mean_absolute_error: 0.3022 - val_loss: 0.1324 - val_mean_absolute_error: 0.2549\n",
      "Epoch 4/20\n",
      "368/368 [==============================] - 1s 3ms/step - loss: 0.1985 - mean_absolute_error: 0.3024 - val_loss: 0.1320 - val_mean_absolute_error: 0.2490\n",
      "Epoch 5/20\n",
      "368/368 [==============================] - 1s 3ms/step - loss: 0.1982 - mean_absolute_error: 0.3020 - val_loss: 0.1335 - val_mean_absolute_error: 0.2566\n",
      "Epoch 6/20\n",
      "368/368 [==============================] - 1s 3ms/step - loss: 0.1980 - mean_absolute_error: 0.3022 - val_loss: 0.1321 - val_mean_absolute_error: 0.2488\n",
      "***TRAIN***:\n",
      "correlation related to cluster centre: 0.90\n",
      "r2 score related to cluster centre: 0.80\n",
      "***VALIDATION***:\n",
      "correlation related to cluster centre: 0.91\n",
      "r2 score related to cluster centre: 0.83\n"
     ]
    },
    {
     "data": {
      "application/vnd.jupyter.widget-view+json": {
       "model_id": "ba86d3a67da74623837623bea1d45961",
       "version_major": 2,
       "version_minor": 0
      },
      "text/plain": [
       "IntProgress(value=0, max=61)"
      ]
     },
     "metadata": {},
     "output_type": "display_data"
    },
    {
     "name": "stdout",
     "output_type": "stream",
     "text": [
      "***VALIDATION***:\n",
      "average correlation: 0.91\n",
      "average r2: 0.83\n",
      "---do_investigations. cluster index : 8---\n"
     ]
    },
    {
     "data": {
      "application/vnd.jupyter.widget-view+json": {
       "model_id": "f5d28db5c7c544cd98feaff2d354d4b8",
       "version_major": 2,
       "version_minor": 0
      },
      "text/plain": [
       "IntProgress(value=0, max=3)"
      ]
     },
     "metadata": {},
     "output_type": "display_data"
    },
    {
     "name": "stdout",
     "output_type": "stream",
     "text": [
      "Epoch 1/20\n",
      "368/368 [==============================] - 2s 4ms/step - loss: 0.3260 - mean_absolute_error: 0.2684 - val_loss: 0.0050 - val_mean_absolute_error: 0.0449\n",
      "Epoch 2/20\n",
      "368/368 [==============================] - 1s 3ms/step - loss: 0.2524 - mean_absolute_error: 0.2297 - val_loss: 0.0042 - val_mean_absolute_error: 0.0356\n",
      "Epoch 3/20\n",
      "368/368 [==============================] - 1s 3ms/step - loss: 0.2514 - mean_absolute_error: 0.2295 - val_loss: 0.0050 - val_mean_absolute_error: 0.0502\n",
      "Epoch 4/20\n",
      "368/368 [==============================] - 1s 3ms/step - loss: 0.2511 - mean_absolute_error: 0.2293 - val_loss: 0.0088 - val_mean_absolute_error: 0.0788\n",
      "***TRAIN***:\n",
      "correlation related to cluster centre: 0.87\n",
      "r2 score related to cluster centre: 0.74\n",
      "***VALIDATION***:\n",
      "correlation related to cluster centre: 0.90\n",
      "r2 score related to cluster centre: 0.55\n"
     ]
    },
    {
     "data": {
      "application/vnd.jupyter.widget-view+json": {
       "model_id": "68d66448a61845838ae7b694bdeb1c9d",
       "version_major": 2,
       "version_minor": 0
      },
      "text/plain": [
       "IntProgress(value=0, max=3)"
      ]
     },
     "metadata": {},
     "output_type": "display_data"
    },
    {
     "name": "stdout",
     "output_type": "stream",
     "text": [
      "***VALIDATION***:\n",
      "average correlation: 0.91\n",
      "average r2: 0.30\n",
      "---do_investigations. cluster index : 9---\n"
     ]
    },
    {
     "data": {
      "application/vnd.jupyter.widget-view+json": {
       "model_id": "afeac96696ec498c9c037dc9b4c0b9c0",
       "version_major": 2,
       "version_minor": 0
      },
      "text/plain": [
       "IntProgress(value=0, max=21)"
      ]
     },
     "metadata": {},
     "output_type": "display_data"
    },
    {
     "name": "stdout",
     "output_type": "stream",
     "text": [
      "Epoch 1/20\n",
      "368/368 [==============================] - 2s 3ms/step - loss: 0.2338 - mean_absolute_error: 0.3312 - val_loss: 0.1599 - val_mean_absolute_error: 0.2771\n",
      "Epoch 2/20\n",
      "368/368 [==============================] - 1s 3ms/step - loss: 0.1718 - mean_absolute_error: 0.2857 - val_loss: 0.1590 - val_mean_absolute_error: 0.2742\n",
      "Epoch 3/20\n",
      "368/368 [==============================] - 1s 3ms/step - loss: 0.1706 - mean_absolute_error: 0.2842 - val_loss: 0.1559 - val_mean_absolute_error: 0.2760\n",
      "Epoch 4/20\n",
      "368/368 [==============================] - 1s 3ms/step - loss: 0.1698 - mean_absolute_error: 0.2839 - val_loss: 0.1545 - val_mean_absolute_error: 0.2726\n",
      "Epoch 5/20\n",
      "368/368 [==============================] - 1s 3ms/step - loss: 0.1699 - mean_absolute_error: 0.2829 - val_loss: 0.1539 - val_mean_absolute_error: 0.2737\n",
      "Epoch 6/20\n",
      "368/368 [==============================] - 1s 3ms/step - loss: 0.1694 - mean_absolute_error: 0.2829 - val_loss: 0.1548 - val_mean_absolute_error: 0.2712\n",
      "Epoch 7/20\n",
      "368/368 [==============================] - 1s 3ms/step - loss: 0.1689 - mean_absolute_error: 0.2825 - val_loss: 0.1555 - val_mean_absolute_error: 0.2790\n",
      "***TRAIN***:\n",
      "correlation related to cluster centre: 0.91\n",
      "r2 score related to cluster centre: 0.83\n",
      "***VALIDATION***:\n",
      "correlation related to cluster centre: 0.91\n",
      "r2 score related to cluster centre: 0.83\n"
     ]
    },
    {
     "data": {
      "application/vnd.jupyter.widget-view+json": {
       "model_id": "bf840f1eca6a40bdbca17a26e86ae49d",
       "version_major": 2,
       "version_minor": 0
      },
      "text/plain": [
       "IntProgress(value=0, max=21)"
      ]
     },
     "metadata": {},
     "output_type": "display_data"
    },
    {
     "name": "stdout",
     "output_type": "stream",
     "text": [
      "***VALIDATION***:\n",
      "average correlation: 0.91\n",
      "average r2: 0.83\n",
      "---do_investigations. cluster index : 10---\n"
     ]
    },
    {
     "data": {
      "application/vnd.jupyter.widget-view+json": {
       "model_id": "f4c2b53209c54938b24984a86b954aa7",
       "version_major": 2,
       "version_minor": 0
      },
      "text/plain": [
       "IntProgress(value=0, max=1)"
      ]
     },
     "metadata": {},
     "output_type": "display_data"
    },
    {
     "name": "stdout",
     "output_type": "stream",
     "text": [
      "Epoch 1/20\n",
      "368/368 [==============================] - 2s 3ms/step - loss: 0.2573 - mean_absolute_error: 0.3460 - val_loss: 0.1823 - val_mean_absolute_error: 0.2971\n",
      "Epoch 2/20\n",
      "368/368 [==============================] - 1s 3ms/step - loss: 0.1674 - mean_absolute_error: 0.2815 - val_loss: 0.1792 - val_mean_absolute_error: 0.2982\n",
      "Epoch 3/20\n",
      "368/368 [==============================] - 1s 3ms/step - loss: 0.1660 - mean_absolute_error: 0.2800 - val_loss: 0.1799 - val_mean_absolute_error: 0.2915\n",
      "Epoch 4/20\n",
      "368/368 [==============================] - 1s 3ms/step - loss: 0.1658 - mean_absolute_error: 0.2795 - val_loss: 0.1796 - val_mean_absolute_error: 0.2925\n",
      "***TRAIN***:\n",
      "correlation related to cluster centre: 0.91\n",
      "r2 score related to cluster centre: 0.84\n",
      "***VALIDATION***:\n",
      "correlation related to cluster centre: 0.91\n",
      "r2 score related to cluster centre: 0.82\n"
     ]
    },
    {
     "data": {
      "application/vnd.jupyter.widget-view+json": {
       "model_id": "33d4f564eac94c79ae2688b08773c9a2",
       "version_major": 2,
       "version_minor": 0
      },
      "text/plain": [
       "IntProgress(value=0, max=1)"
      ]
     },
     "metadata": {},
     "output_type": "display_data"
    },
    {
     "name": "stdout",
     "output_type": "stream",
     "text": [
      "***VALIDATION***:\n",
      "average correlation: 0.91\n",
      "average r2: 0.82\n",
      "weighted_average_correlation: 0.91\n",
      "weighted_average_r2_score: 0.74\n",
      "bad clusters rate: 0.75%\n"
     ]
    }
   ],
   "source": [
    "first_path = r\"C:\\Coding\\final-qualifying-work_2023-2024\\ClusteringCpp\\output\\kohonen 15 0.1 0.1.txt\"\n",
    "second_path = r\"C:\\Coding\\final-qualifying-work_2023-2024\\ClusteringCpp\\output\\kohonen 15 0.1 0.1 - 3 0.1 0.1.txt\"\n",
    "third_path = r\"C:\\Coding\\final-qualifying-work_2023-2024\\ClusteringCpp\\output\\kohonen 15 0.1 0.1 - 2 0.1 0.1.txt\"\n",
    "fourth_path = r\"C:\\Coding\\final-qualifying-work_2023-2024\\ClusteringCpp\\output\\kohonen 15 0.1 0.1 - 1 0.1 0.1.txt\"\n",
    "\n",
    "output_file = open(\"computational-experiments-output\", \"a\")\n",
    "\n",
    "selected_path = first_path\n",
    "\n",
    "print(f\"msd {os.path.split(selected_path)[-1]}\")\n",
    "output_file.write(f\"msd {os.path.split(selected_path)[-1]}\\n\")\n",
    "show_results(multi_step_dense_model, get_clusters(selected_path), CONV_WIDTH)\n",
    "\n",
    "output_file.close()"
   ]
  },
  {
   "cell_type": "code",
   "execution_count": 23,
   "id": "d93a1189-f1b9-496b-9ef4-b67fe25dcbd2",
   "metadata": {},
   "outputs": [
    {
     "name": "stdout",
     "output_type": "stream",
     "text": [
      "msd kohonen 15 0.1 0.1 - 3 0.1 0.1.txt\n",
      "---do_investigations. cluster index : 0---\n"
     ]
    },
    {
     "data": {
      "application/vnd.jupyter.widget-view+json": {
       "model_id": "2390fdc9d3e34aa3995e4ad7c3beb3ec",
       "version_major": 2,
       "version_minor": 0
      },
      "text/plain": [
       "IntProgress(value=0, max=654)"
      ]
     },
     "metadata": {},
     "output_type": "display_data"
    },
    {
     "name": "stdout",
     "output_type": "stream",
     "text": [
      "Epoch 1/20\n",
      "368/368 [==============================] - 2s 3ms/step - loss: 0.2329 - mean_absolute_error: 0.3438 - val_loss: 0.1940 - val_mean_absolute_error: 0.3129\n",
      "Epoch 2/20\n",
      "368/368 [==============================] - 1s 3ms/step - loss: 0.2025 - mean_absolute_error: 0.3152 - val_loss: 0.2020 - val_mean_absolute_error: 0.3186\n",
      "Epoch 3/20\n",
      "368/368 [==============================] - 1s 3ms/step - loss: 0.2030 - mean_absolute_error: 0.3158 - val_loss: 0.1921 - val_mean_absolute_error: 0.3100\n",
      "Epoch 4/20\n",
      "368/368 [==============================] - 1s 3ms/step - loss: 0.2023 - mean_absolute_error: 0.3153 - val_loss: 0.2030 - val_mean_absolute_error: 0.3255\n",
      "Epoch 5/20\n",
      "368/368 [==============================] - 1s 3ms/step - loss: 0.2015 - mean_absolute_error: 0.3151 - val_loss: 0.1943 - val_mean_absolute_error: 0.3176\n",
      "***TRAIN***:\n",
      "correlation related to cluster centre: 0.90\n",
      "r2 score related to cluster centre: 0.80\n",
      "***VALIDATION***:\n",
      "correlation related to cluster centre: 0.91\n",
      "r2 score related to cluster centre: 0.82\n"
     ]
    },
    {
     "data": {
      "application/vnd.jupyter.widget-view+json": {
       "model_id": "52082b8bdf0445d094e3d963aafbd0e2",
       "version_major": 2,
       "version_minor": 0
      },
      "text/plain": [
       "IntProgress(value=0, max=654)"
      ]
     },
     "metadata": {},
     "output_type": "display_data"
    },
    {
     "name": "stdout",
     "output_type": "stream",
     "text": [
      "***VALIDATION***:\n",
      "average correlation: 0.91\n",
      "average r2: 0.66\n",
      "---do_investigations. cluster index : 1---\n"
     ]
    },
    {
     "data": {
      "application/vnd.jupyter.widget-view+json": {
       "model_id": "5ecffe4fd4344e04a2c095342eb2726e",
       "version_major": 2,
       "version_minor": 0
      },
      "text/plain": [
       "IntProgress(value=0, max=174)"
      ]
     },
     "metadata": {},
     "output_type": "display_data"
    },
    {
     "name": "stdout",
     "output_type": "stream",
     "text": [
      "Epoch 1/20\n",
      "368/368 [==============================] - 2s 3ms/step - loss: 0.2627 - mean_absolute_error: 0.3433 - val_loss: 0.1742 - val_mean_absolute_error: 0.2799\n",
      "Epoch 2/20\n",
      "368/368 [==============================] - 1s 3ms/step - loss: 0.2081 - mean_absolute_error: 0.3017 - val_loss: 0.1710 - val_mean_absolute_error: 0.2750\n",
      "Epoch 3/20\n",
      "368/368 [==============================] - 1s 3ms/step - loss: 0.2075 - mean_absolute_error: 0.3007 - val_loss: 0.1808 - val_mean_absolute_error: 0.2872\n",
      "Epoch 4/20\n",
      "368/368 [==============================] - 1s 3ms/step - loss: 0.2078 - mean_absolute_error: 0.3008 - val_loss: 0.1719 - val_mean_absolute_error: 0.2768\n",
      "***TRAIN***:\n",
      "correlation related to cluster centre: 0.89\n",
      "r2 score related to cluster centre: 0.79\n",
      "***VALIDATION***:\n",
      "correlation related to cluster centre: 0.91\n",
      "r2 score related to cluster centre: 0.82\n"
     ]
    },
    {
     "data": {
      "application/vnd.jupyter.widget-view+json": {
       "model_id": "23c08e4f84024f3a82202419d0d9f658",
       "version_major": 2,
       "version_minor": 0
      },
      "text/plain": [
       "IntProgress(value=0, max=174)"
      ]
     },
     "metadata": {},
     "output_type": "display_data"
    },
    {
     "name": "stdout",
     "output_type": "stream",
     "text": [
      "***VALIDATION***:\n",
      "average correlation: 0.90\n",
      "average r2: 0.81\n",
      "---do_investigations. cluster index : 2---\n"
     ]
    },
    {
     "data": {
      "application/vnd.jupyter.widget-view+json": {
       "model_id": "6a20889cee484e55a37d1a51839e69fa",
       "version_major": 2,
       "version_minor": 0
      },
      "text/plain": [
       "IntProgress(value=0, max=160)"
      ]
     },
     "metadata": {},
     "output_type": "display_data"
    },
    {
     "name": "stdout",
     "output_type": "stream",
     "text": [
      "Epoch 1/20\n",
      "368/368 [==============================] - 2s 3ms/step - loss: 0.2632 - mean_absolute_error: 0.3568 - val_loss: 0.1592 - val_mean_absolute_error: 0.2871\n",
      "Epoch 2/20\n",
      "368/368 [==============================] - 1s 3ms/step - loss: 0.1967 - mean_absolute_error: 0.3075 - val_loss: 0.1591 - val_mean_absolute_error: 0.2775\n",
      "Epoch 3/20\n",
      "368/368 [==============================] - 1s 3ms/step - loss: 0.1948 - mean_absolute_error: 0.3051 - val_loss: 0.1569 - val_mean_absolute_error: 0.2779\n",
      "Epoch 4/20\n",
      "368/368 [==============================] - 1s 3ms/step - loss: 0.1945 - mean_absolute_error: 0.3048 - val_loss: 0.1577 - val_mean_absolute_error: 0.2782\n",
      "Epoch 5/20\n",
      "368/368 [==============================] - 1s 3ms/step - loss: 0.1947 - mean_absolute_error: 0.3050 - val_loss: 0.1565 - val_mean_absolute_error: 0.2784\n",
      "Epoch 6/20\n",
      "368/368 [==============================] - 1s 3ms/step - loss: 0.1946 - mean_absolute_error: 0.3047 - val_loss: 0.1555 - val_mean_absolute_error: 0.2795\n",
      "Epoch 7/20\n",
      "368/368 [==============================] - 1s 3ms/step - loss: 0.1937 - mean_absolute_error: 0.3041 - val_loss: 0.1576 - val_mean_absolute_error: 0.2802\n",
      "Epoch 8/20\n",
      "368/368 [==============================] - 1s 3ms/step - loss: 0.1942 - mean_absolute_error: 0.3046 - val_loss: 0.1561 - val_mean_absolute_error: 0.2847\n",
      "***TRAIN***:\n",
      "correlation related to cluster centre: 0.90\n",
      "r2 score related to cluster centre: 0.81\n",
      "***VALIDATION***:\n",
      "correlation related to cluster centre: 0.91\n",
      "r2 score related to cluster centre: 0.83\n"
     ]
    },
    {
     "data": {
      "application/vnd.jupyter.widget-view+json": {
       "model_id": "2c8a6826f0e14a1f8b68c7976d20ff3d",
       "version_major": 2,
       "version_minor": 0
      },
      "text/plain": [
       "IntProgress(value=0, max=160)"
      ]
     },
     "metadata": {},
     "output_type": "display_data"
    },
    {
     "name": "stdout",
     "output_type": "stream",
     "text": [
      "***VALIDATION***:\n",
      "average correlation: 0.91\n",
      "average r2: 0.80\n",
      "---do_investigations. cluster index : 3---\n"
     ]
    },
    {
     "data": {
      "application/vnd.jupyter.widget-view+json": {
       "model_id": "dccf6399da314554993e00c32f862a9a",
       "version_major": 2,
       "version_minor": 0
      },
      "text/plain": [
       "IntProgress(value=0, max=277)"
      ]
     },
     "metadata": {},
     "output_type": "display_data"
    },
    {
     "name": "stdout",
     "output_type": "stream",
     "text": [
      "Epoch 1/20\n",
      "368/368 [==============================] - 2s 3ms/step - loss: 0.2376 - mean_absolute_error: 0.3216 - val_loss: 0.1972 - val_mean_absolute_error: 0.2734\n",
      "Epoch 2/20\n",
      "368/368 [==============================] - 1s 3ms/step - loss: 0.2061 - mean_absolute_error: 0.2885 - val_loss: 0.2019 - val_mean_absolute_error: 0.2782\n",
      "Epoch 3/20\n",
      "368/368 [==============================] - 1s 3ms/step - loss: 0.2055 - mean_absolute_error: 0.2871 - val_loss: 0.2014 - val_mean_absolute_error: 0.2802\n",
      "***TRAIN***:\n",
      "correlation related to cluster centre: 0.89\n",
      "r2 score related to cluster centre: 0.79\n",
      "***VALIDATION***:\n",
      "correlation related to cluster centre: 0.90\n",
      "r2 score related to cluster centre: 0.81\n"
     ]
    },
    {
     "data": {
      "application/vnd.jupyter.widget-view+json": {
       "model_id": "2989f8ac3455454dabadf79901c9c696",
       "version_major": 2,
       "version_minor": 0
      },
      "text/plain": [
       "IntProgress(value=0, max=277)"
      ]
     },
     "metadata": {},
     "output_type": "display_data"
    },
    {
     "name": "stdout",
     "output_type": "stream",
     "text": [
      "***VALIDATION***:\n",
      "average correlation: 0.90\n",
      "average r2: 0.80\n",
      "---do_investigations. cluster index : 4---\n"
     ]
    },
    {
     "data": {
      "application/vnd.jupyter.widget-view+json": {
       "model_id": "74d81f9938ae4385b9106e7e5b273332",
       "version_major": 2,
       "version_minor": 0
      },
      "text/plain": [
       "IntProgress(value=0, max=33)"
      ]
     },
     "metadata": {},
     "output_type": "display_data"
    },
    {
     "name": "stdout",
     "output_type": "stream",
     "text": [
      "Epoch 1/20\n",
      "368/368 [==============================] - 2s 3ms/step - loss: 0.3064 - mean_absolute_error: 0.3754 - val_loss: 0.1419 - val_mean_absolute_error: 0.2594\n",
      "Epoch 2/20\n",
      "368/368 [==============================] - 1s 3ms/step - loss: 0.2144 - mean_absolute_error: 0.3103 - val_loss: 0.1408 - val_mean_absolute_error: 0.2651\n",
      "Epoch 3/20\n",
      "368/368 [==============================] - 1s 3ms/step - loss: 0.2131 - mean_absolute_error: 0.3086 - val_loss: 0.1428 - val_mean_absolute_error: 0.2648\n",
      "Epoch 4/20\n",
      "368/368 [==============================] - 1s 3ms/step - loss: 0.2130 - mean_absolute_error: 0.3087 - val_loss: 0.1418 - val_mean_absolute_error: 0.2681\n",
      "***TRAIN***:\n",
      "correlation related to cluster centre: 0.89\n",
      "r2 score related to cluster centre: 0.79\n",
      "***VALIDATION***:\n",
      "correlation related to cluster centre: 0.91\n",
      "r2 score related to cluster centre: 0.82\n"
     ]
    },
    {
     "data": {
      "application/vnd.jupyter.widget-view+json": {
       "model_id": "fc671e7408dc46b285b3aeac8db2e2a2",
       "version_major": 2,
       "version_minor": 0
      },
      "text/plain": [
       "IntProgress(value=0, max=33)"
      ]
     },
     "metadata": {},
     "output_type": "display_data"
    },
    {
     "name": "stdout",
     "output_type": "stream",
     "text": [
      "***VALIDATION***:\n",
      "average correlation: 0.90\n",
      "average r2: 0.81\n",
      "---do_investigations. cluster index : 5---\n"
     ]
    },
    {
     "data": {
      "application/vnd.jupyter.widget-view+json": {
       "model_id": "0ebba7b6385343c898c31a0c1c104246",
       "version_major": 2,
       "version_minor": 0
      },
      "text/plain": [
       "IntProgress(value=0, max=279)"
      ]
     },
     "metadata": {},
     "output_type": "display_data"
    },
    {
     "name": "stdout",
     "output_type": "stream",
     "text": [
      "Epoch 1/20\n",
      "368/368 [==============================] - 2s 3ms/step - loss: 0.2878 - mean_absolute_error: 0.3652 - val_loss: 0.1714 - val_mean_absolute_error: 0.2792\n",
      "Epoch 2/20\n",
      "368/368 [==============================] - 1s 3ms/step - loss: 0.1903 - mean_absolute_error: 0.3000 - val_loss: 0.1698 - val_mean_absolute_error: 0.2900\n",
      "Epoch 3/20\n",
      "368/368 [==============================] - 1s 3ms/step - loss: 0.1891 - mean_absolute_error: 0.2983 - val_loss: 0.1792 - val_mean_absolute_error: 0.2857\n",
      "Epoch 4/20\n",
      "368/368 [==============================] - 1s 3ms/step - loss: 0.1897 - mean_absolute_error: 0.2984 - val_loss: 0.1679 - val_mean_absolute_error: 0.2740\n",
      "Epoch 5/20\n",
      "368/368 [==============================] - 1s 3ms/step - loss: 0.1885 - mean_absolute_error: 0.2980 - val_loss: 0.1715 - val_mean_absolute_error: 0.2793\n",
      "Epoch 6/20\n",
      "368/368 [==============================] - 1s 3ms/step - loss: 0.1889 - mean_absolute_error: 0.2980 - val_loss: 0.1681 - val_mean_absolute_error: 0.2729\n",
      "***TRAIN***:\n",
      "correlation related to cluster centre: 0.90\n",
      "r2 score related to cluster centre: 0.81\n",
      "***VALIDATION***:\n",
      "correlation related to cluster centre: 0.91\n",
      "r2 score related to cluster centre: 0.83\n"
     ]
    },
    {
     "data": {
      "application/vnd.jupyter.widget-view+json": {
       "model_id": "3589a5bdbd09443e84828173307cb5f7",
       "version_major": 2,
       "version_minor": 0
      },
      "text/plain": [
       "IntProgress(value=0, max=279)"
      ]
     },
     "metadata": {},
     "output_type": "display_data"
    },
    {
     "name": "stdout",
     "output_type": "stream",
     "text": [
      "***VALIDATION***:\n",
      "average correlation: 0.91\n",
      "average r2: 0.81\n",
      "---do_investigations. cluster index : 6---\n"
     ]
    },
    {
     "data": {
      "application/vnd.jupyter.widget-view+json": {
       "model_id": "e7db0d53fcc640d99a1991ac56250e77",
       "version_major": 2,
       "version_minor": 0
      },
      "text/plain": [
       "IntProgress(value=0, max=97)"
      ]
     },
     "metadata": {},
     "output_type": "display_data"
    },
    {
     "name": "stdout",
     "output_type": "stream",
     "text": [
      "Epoch 1/20\n",
      "368/368 [==============================] - 2s 3ms/step - loss: 0.2427 - mean_absolute_error: 0.3398 - val_loss: 0.1484 - val_mean_absolute_error: 0.2754\n",
      "Epoch 2/20\n",
      "368/368 [==============================] - 1s 3ms/step - loss: 0.2054 - mean_absolute_error: 0.3085 - val_loss: 0.1487 - val_mean_absolute_error: 0.2713\n",
      "Epoch 3/20\n",
      "368/368 [==============================] - 1s 3ms/step - loss: 0.2057 - mean_absolute_error: 0.3083 - val_loss: 0.1490 - val_mean_absolute_error: 0.2700\n",
      "***TRAIN***:\n",
      "correlation related to cluster centre: 0.89\n",
      "r2 score related to cluster centre: 0.79\n",
      "***VALIDATION***:\n",
      "correlation related to cluster centre: 0.91\n",
      "r2 score related to cluster centre: 0.82\n"
     ]
    },
    {
     "data": {
      "application/vnd.jupyter.widget-view+json": {
       "model_id": "c89da71d95124bbba6f6f3cd3af98915",
       "version_major": 2,
       "version_minor": 0
      },
      "text/plain": [
       "IntProgress(value=0, max=97)"
      ]
     },
     "metadata": {},
     "output_type": "display_data"
    },
    {
     "name": "stdout",
     "output_type": "stream",
     "text": [
      "***VALIDATION***:\n",
      "average correlation: 0.91\n",
      "average r2: 0.82\n",
      "---do_investigations. cluster index : 7---\n"
     ]
    },
    {
     "data": {
      "application/vnd.jupyter.widget-view+json": {
       "model_id": "3d2c4c9e135c4328a0a5d19bf88e58ca",
       "version_major": 2,
       "version_minor": 0
      },
      "text/plain": [
       "IntProgress(value=0, max=3)"
      ]
     },
     "metadata": {},
     "output_type": "display_data"
    },
    {
     "name": "stdout",
     "output_type": "stream",
     "text": [
      "Epoch 1/20\n",
      "368/368 [==============================] - 2s 3ms/step - loss: 0.2924 - mean_absolute_error: 0.2645 - val_loss: 0.0045 - val_mean_absolute_error: 0.0432\n",
      "Epoch 2/20\n",
      "368/368 [==============================] - 1s 3ms/step - loss: 0.2521 - mean_absolute_error: 0.2298 - val_loss: 0.0042 - val_mean_absolute_error: 0.0396\n",
      "Epoch 3/20\n",
      "368/368 [==============================] - 1s 3ms/step - loss: 0.2528 - mean_absolute_error: 0.2303 - val_loss: 0.0042 - val_mean_absolute_error: 0.0368\n",
      "Epoch 4/20\n",
      "368/368 [==============================] - 1s 3ms/step - loss: 0.2505 - mean_absolute_error: 0.2285 - val_loss: 0.0041 - val_mean_absolute_error: 0.0342\n",
      "Epoch 5/20\n",
      "368/368 [==============================] - 1s 3ms/step - loss: 0.2492 - mean_absolute_error: 0.2276 - val_loss: 0.0040 - val_mean_absolute_error: 0.0359\n",
      "Epoch 6/20\n",
      "368/368 [==============================] - 1s 3ms/step - loss: 0.2506 - mean_absolute_error: 0.2292 - val_loss: 0.0041 - val_mean_absolute_error: 0.0363\n",
      "Epoch 7/20\n",
      "368/368 [==============================] - 1s 3ms/step - loss: 0.2479 - mean_absolute_error: 0.2276 - val_loss: 0.0044 - val_mean_absolute_error: 0.0425\n",
      "***TRAIN***:\n",
      "correlation related to cluster centre: 0.87\n",
      "r2 score related to cluster centre: 0.76\n",
      "***VALIDATION***:\n",
      "correlation related to cluster centre: 0.90\n",
      "r2 score related to cluster centre: 0.78\n"
     ]
    },
    {
     "data": {
      "application/vnd.jupyter.widget-view+json": {
       "model_id": "8e05ee53e11f432dab6697bc9576cdfa",
       "version_major": 2,
       "version_minor": 0
      },
      "text/plain": [
       "IntProgress(value=0, max=3)"
      ]
     },
     "metadata": {},
     "output_type": "display_data"
    },
    {
     "name": "stdout",
     "output_type": "stream",
     "text": [
      "***VALIDATION***:\n",
      "average correlation: 0.90\n",
      "average r2: 0.72\n",
      "---do_investigations. cluster index : 8---\n"
     ]
    },
    {
     "data": {
      "application/vnd.jupyter.widget-view+json": {
       "model_id": "9053ee72b9b04bfcbbc946af49945bb4",
       "version_major": 2,
       "version_minor": 0
      },
      "text/plain": [
       "IntProgress(value=0, max=41)"
      ]
     },
     "metadata": {},
     "output_type": "display_data"
    },
    {
     "name": "stdout",
     "output_type": "stream",
     "text": [
      "Epoch 1/20\n",
      "368/368 [==============================] - 2s 3ms/step - loss: 0.2398 - mean_absolute_error: 0.3419 - val_loss: 0.1436 - val_mean_absolute_error: 0.2700\n",
      "Epoch 2/20\n",
      "368/368 [==============================] - 1s 3ms/step - loss: 0.1772 - mean_absolute_error: 0.2881 - val_loss: 0.1449 - val_mean_absolute_error: 0.2762\n",
      "Epoch 3/20\n",
      "368/368 [==============================] - 1s 3ms/step - loss: 0.1759 - mean_absolute_error: 0.2866 - val_loss: 0.1392 - val_mean_absolute_error: 0.2602\n",
      "Epoch 4/20\n",
      "368/368 [==============================] - 1s 2ms/step - loss: 0.1758 - mean_absolute_error: 0.2857 - val_loss: 0.1387 - val_mean_absolute_error: 0.2590\n",
      "Epoch 5/20\n",
      "368/368 [==============================] - 1s 3ms/step - loss: 0.1761 - mean_absolute_error: 0.2859 - val_loss: 0.1411 - val_mean_absolute_error: 0.2657\n",
      "Epoch 6/20\n",
      "368/368 [==============================] - 1s 3ms/step - loss: 0.1752 - mean_absolute_error: 0.2853 - val_loss: 0.1409 - val_mean_absolute_error: 0.2635\n",
      "***TRAIN***:\n",
      "correlation related to cluster centre: 0.91\n",
      "r2 score related to cluster centre: 0.82\n",
      "***VALIDATION***:\n",
      "correlation related to cluster centre: 0.91\n",
      "r2 score related to cluster centre: 0.83\n"
     ]
    },
    {
     "data": {
      "application/vnd.jupyter.widget-view+json": {
       "model_id": "bdac67bb8076489fae26c0737d78d8be",
       "version_major": 2,
       "version_minor": 0
      },
      "text/plain": [
       "IntProgress(value=0, max=41)"
      ]
     },
     "metadata": {},
     "output_type": "display_data"
    },
    {
     "name": "stdout",
     "output_type": "stream",
     "text": [
      "***VALIDATION***:\n",
      "average correlation: 0.91\n",
      "average r2: 0.83\n",
      "---do_investigations. cluster index : 9---\n"
     ]
    },
    {
     "data": {
      "application/vnd.jupyter.widget-view+json": {
       "model_id": "b5334853c79e4bd3821123fb8a859514",
       "version_major": 2,
       "version_minor": 0
      },
      "text/plain": [
       "IntProgress(value=0, max=1)"
      ]
     },
     "metadata": {},
     "output_type": "display_data"
    },
    {
     "name": "stdout",
     "output_type": "stream",
     "text": [
      "Epoch 1/20\n",
      "368/368 [==============================] - 2s 3ms/step - loss: 0.2117 - mean_absolute_error: 0.3160 - val_loss: 0.1839 - val_mean_absolute_error: 0.2937\n",
      "Epoch 2/20\n",
      "368/368 [==============================] - 1s 3ms/step - loss: 0.1663 - mean_absolute_error: 0.2794 - val_loss: 0.1845 - val_mean_absolute_error: 0.2980\n",
      "Epoch 3/20\n",
      "368/368 [==============================] - 1s 3ms/step - loss: 0.1652 - mean_absolute_error: 0.2782 - val_loss: 0.1834 - val_mean_absolute_error: 0.2966\n",
      "Epoch 4/20\n",
      "368/368 [==============================] - 1s 3ms/step - loss: 0.1653 - mean_absolute_error: 0.2782 - val_loss: 0.1800 - val_mean_absolute_error: 0.2912\n",
      "Epoch 5/20\n",
      "368/368 [==============================] - 1s 2ms/step - loss: 0.1646 - mean_absolute_error: 0.2778 - val_loss: 0.1836 - val_mean_absolute_error: 0.2989\n",
      "Epoch 6/20\n",
      "368/368 [==============================] - 1s 3ms/step - loss: 0.1648 - mean_absolute_error: 0.2776 - val_loss: 0.1834 - val_mean_absolute_error: 0.3004\n",
      "***TRAIN***:\n",
      "correlation related to cluster centre: 0.91\n",
      "r2 score related to cluster centre: 0.83\n",
      "***VALIDATION***:\n",
      "correlation related to cluster centre: 0.91\n",
      "r2 score related to cluster centre: 0.82\n"
     ]
    },
    {
     "data": {
      "application/vnd.jupyter.widget-view+json": {
       "model_id": "30740d35460940489da8dfdc8d6f6c43",
       "version_major": 2,
       "version_minor": 0
      },
      "text/plain": [
       "IntProgress(value=0, max=1)"
      ]
     },
     "metadata": {},
     "output_type": "display_data"
    },
    {
     "name": "stdout",
     "output_type": "stream",
     "text": [
      "***VALIDATION***:\n",
      "average correlation: 0.91\n",
      "average r2: 0.82\n",
      "---do_investigations. cluster index : 10---\n"
     ]
    },
    {
     "data": {
      "application/vnd.jupyter.widget-view+json": {
       "model_id": "7aa15fdbdecf44959bfb60379f8143ea",
       "version_major": 2,
       "version_minor": 0
      },
      "text/plain": [
       "IntProgress(value=0, max=4509)"
      ]
     },
     "metadata": {},
     "output_type": "display_data"
    },
    {
     "name": "stdout",
     "output_type": "stream",
     "text": [
      "Epoch 1/20\n",
      "368/368 [==============================] - 2s 3ms/step - loss: 0.1613 - mean_absolute_error: 0.2500 - val_loss: 0.1182 - val_mean_absolute_error: 0.1753\n",
      "Epoch 2/20\n",
      "368/368 [==============================] - 1s 3ms/step - loss: 0.1033 - mean_absolute_error: 0.1933 - val_loss: 0.1167 - val_mean_absolute_error: 0.1745\n",
      "Epoch 3/20\n",
      "368/368 [==============================] - 1s 3ms/step - loss: 0.1018 - mean_absolute_error: 0.1916 - val_loss: 0.1168 - val_mean_absolute_error: 0.1733\n",
      "Epoch 4/20\n",
      "368/368 [==============================] - 1s 3ms/step - loss: 0.1022 - mean_absolute_error: 0.1929 - val_loss: 0.1172 - val_mean_absolute_error: 0.1742\n",
      "***TRAIN***:\n",
      "correlation related to cluster centre: 0.95\n",
      "r2 score related to cluster centre: 0.90\n",
      "***VALIDATION***:\n",
      "correlation related to cluster centre: 0.91\n",
      "r2 score related to cluster centre: 0.83\n"
     ]
    },
    {
     "data": {
      "application/vnd.jupyter.widget-view+json": {
       "model_id": "df9f1cb9e5bc4c668272dd0fa2606eb3",
       "version_major": 2,
       "version_minor": 0
      },
      "text/plain": [
       "IntProgress(value=0, max=4509)"
      ]
     },
     "metadata": {},
     "output_type": "display_data"
    },
    {
     "name": "stdout",
     "output_type": "stream",
     "text": [
      "***VALIDATION***:\n",
      "average correlation: nan\n",
      "average r2: -93376396301119790327529472.00\n",
      "---do_investigations. cluster index : 11---\n"
     ]
    },
    {
     "data": {
      "application/vnd.jupyter.widget-view+json": {
       "model_id": "e270e0de206145f8a9549114295892e8",
       "version_major": 2,
       "version_minor": 0
      },
      "text/plain": [
       "IntProgress(value=0, max=163)"
      ]
     },
     "metadata": {},
     "output_type": "display_data"
    },
    {
     "name": "stdout",
     "output_type": "stream",
     "text": [
      "Epoch 1/20\n",
      "368/368 [==============================] - 2s 3ms/step - loss: 0.2629 - mean_absolute_error: 0.3137 - val_loss: 0.2525 - val_mean_absolute_error: 0.2936\n",
      "Epoch 2/20\n",
      "368/368 [==============================] - 1s 2ms/step - loss: 0.2082 - mean_absolute_error: 0.2768 - val_loss: 0.2604 - val_mean_absolute_error: 0.2885\n",
      "Epoch 3/20\n",
      "368/368 [==============================] - 1s 3ms/step - loss: 0.2069 - mean_absolute_error: 0.2757 - val_loss: 0.2472 - val_mean_absolute_error: 0.2844\n",
      "Epoch 4/20\n",
      "368/368 [==============================] - 1s 2ms/step - loss: 0.2058 - mean_absolute_error: 0.2745 - val_loss: 0.2485 - val_mean_absolute_error: 0.2870\n",
      "Epoch 5/20\n",
      "368/368 [==============================] - 1s 2ms/step - loss: 0.2053 - mean_absolute_error: 0.2748 - val_loss: 0.2510 - val_mean_absolute_error: 0.2848\n",
      "***TRAIN***:\n",
      "correlation related to cluster centre: 0.89\n",
      "r2 score related to cluster centre: 0.80\n",
      "***VALIDATION***:\n",
      "correlation related to cluster centre: 0.90\n",
      "r2 score related to cluster centre: 0.81\n"
     ]
    },
    {
     "data": {
      "application/vnd.jupyter.widget-view+json": {
       "model_id": "d8ecd10ece424555b8f33097f1af62fd",
       "version_major": 2,
       "version_minor": 0
      },
      "text/plain": [
       "IntProgress(value=0, max=163)"
      ]
     },
     "metadata": {},
     "output_type": "display_data"
    },
    {
     "name": "stdout",
     "output_type": "stream",
     "text": [
      "***VALIDATION***:\n",
      "average correlation: 0.90\n",
      "average r2: 0.81\n",
      "---do_investigations. cluster index : 12---\n"
     ]
    },
    {
     "data": {
      "application/vnd.jupyter.widget-view+json": {
       "model_id": "2b3d257cab374c5d85f7ae3d3efd61a1",
       "version_major": 2,
       "version_minor": 0
      },
      "text/plain": [
       "IntProgress(value=0, max=511)"
      ]
     },
     "metadata": {},
     "output_type": "display_data"
    },
    {
     "name": "stdout",
     "output_type": "stream",
     "text": [
      "Epoch 1/20\n",
      "368/368 [==============================] - 2s 3ms/step - loss: 0.1744 - mean_absolute_error: 0.2665 - val_loss: 0.1191 - val_mean_absolute_error: 0.2152\n",
      "Epoch 2/20\n",
      "368/368 [==============================] - 1s 3ms/step - loss: 0.1453 - mean_absolute_error: 0.2410 - val_loss: 0.1216 - val_mean_absolute_error: 0.2176\n",
      "Epoch 3/20\n",
      "368/368 [==============================] - 1s 2ms/step - loss: 0.1447 - mean_absolute_error: 0.2402 - val_loss: 0.1208 - val_mean_absolute_error: 0.2222\n",
      "***TRAIN***:\n",
      "correlation related to cluster centre: 0.93\n",
      "r2 score related to cluster centre: 0.86\n",
      "***VALIDATION***:\n",
      "correlation related to cluster centre: 0.93\n",
      "r2 score related to cluster centre: 0.86\n"
     ]
    },
    {
     "data": {
      "application/vnd.jupyter.widget-view+json": {
       "model_id": "9c3ff04aeff94fc8b33c3801b7a878f2",
       "version_major": 2,
       "version_minor": 0
      },
      "text/plain": [
       "IntProgress(value=0, max=511)"
      ]
     },
     "metadata": {},
     "output_type": "display_data"
    },
    {
     "name": "stdout",
     "output_type": "stream",
     "text": [
      "***VALIDATION***:\n",
      "average correlation: 0.90\n",
      "average r2: 0.79\n",
      "---do_investigations. cluster index : 13---\n"
     ]
    },
    {
     "data": {
      "application/vnd.jupyter.widget-view+json": {
       "model_id": "bbb0cb75a36a4369b320b3f6a04092ef",
       "version_major": 2,
       "version_minor": 0
      },
      "text/plain": [
       "IntProgress(value=0, max=573)"
      ]
     },
     "metadata": {},
     "output_type": "display_data"
    },
    {
     "name": "stdout",
     "output_type": "stream",
     "text": [
      "Epoch 1/20\n",
      "368/368 [==============================] - 2s 3ms/step - loss: 0.2803 - mean_absolute_error: 0.3385 - val_loss: 0.2437 - val_mean_absolute_error: 0.2767\n",
      "Epoch 2/20\n",
      "368/368 [==============================] - 1s 2ms/step - loss: 0.2061 - mean_absolute_error: 0.2809 - val_loss: 0.2342 - val_mean_absolute_error: 0.2722\n",
      "Epoch 3/20\n",
      "368/368 [==============================] - 1s 2ms/step - loss: 0.2027 - mean_absolute_error: 0.2780 - val_loss: 0.2331 - val_mean_absolute_error: 0.2732\n",
      "Epoch 4/20\n",
      "368/368 [==============================] - 1s 2ms/step - loss: 0.2045 - mean_absolute_error: 0.2789 - val_loss: 0.2352 - val_mean_absolute_error: 0.2736\n",
      "Epoch 5/20\n",
      "368/368 [==============================] - 1s 2ms/step - loss: 0.2026 - mean_absolute_error: 0.2779 - val_loss: 0.2315 - val_mean_absolute_error: 0.2733\n",
      "Epoch 6/20\n",
      "368/368 [==============================] - 1s 2ms/step - loss: 0.2026 - mean_absolute_error: 0.2772 - val_loss: 0.2323 - val_mean_absolute_error: 0.2767\n",
      "Epoch 7/20\n",
      "368/368 [==============================] - 1s 2ms/step - loss: 0.2020 - mean_absolute_error: 0.2773 - val_loss: 0.2323 - val_mean_absolute_error: 0.2694\n",
      "***TRAIN***:\n",
      "correlation related to cluster centre: 0.90\n",
      "r2 score related to cluster centre: 0.80\n",
      "***VALIDATION***:\n",
      "correlation related to cluster centre: 0.90\n",
      "r2 score related to cluster centre: 0.81\n"
     ]
    },
    {
     "data": {
      "application/vnd.jupyter.widget-view+json": {
       "model_id": "a3e62b38e4e9472482a08a582b83403b",
       "version_major": 2,
       "version_minor": 0
      },
      "text/plain": [
       "IntProgress(value=0, max=573)"
      ]
     },
     "metadata": {},
     "output_type": "display_data"
    },
    {
     "name": "stdout",
     "output_type": "stream",
     "text": [
      "***VALIDATION***:\n",
      "average correlation: 0.89\n",
      "average r2: 0.76\n",
      "---do_investigations. cluster index : 14---\n"
     ]
    },
    {
     "data": {
      "application/vnd.jupyter.widget-view+json": {
       "model_id": "fcbd86159b394b2c8e37f586acee171c",
       "version_major": 2,
       "version_minor": 0
      },
      "text/plain": [
       "IntProgress(value=0, max=200)"
      ]
     },
     "metadata": {},
     "output_type": "display_data"
    },
    {
     "name": "stdout",
     "output_type": "stream",
     "text": [
      "Epoch 1/20\n",
      "368/368 [==============================] - 2s 3ms/step - loss: 0.2403 - mean_absolute_error: 0.3439 - val_loss: 0.1847 - val_mean_absolute_error: 0.2901\n",
      "Epoch 2/20\n",
      "368/368 [==============================] - 1s 2ms/step - loss: 0.2028 - mean_absolute_error: 0.3074 - val_loss: 0.1858 - val_mean_absolute_error: 0.2869\n",
      "Epoch 3/20\n",
      "368/368 [==============================] - 1s 2ms/step - loss: 0.2022 - mean_absolute_error: 0.3066 - val_loss: 0.1854 - val_mean_absolute_error: 0.2885\n",
      "***TRAIN***:\n",
      "correlation related to cluster centre: 0.90\n",
      "r2 score related to cluster centre: 0.80\n",
      "***VALIDATION***:\n",
      "correlation related to cluster centre: 0.90\n",
      "r2 score related to cluster centre: 0.82\n"
     ]
    },
    {
     "data": {
      "application/vnd.jupyter.widget-view+json": {
       "model_id": "8d5e536a4cf24fc89de997ca224bb0b2",
       "version_major": 2,
       "version_minor": 0
      },
      "text/plain": [
       "IntProgress(value=0, max=200)"
      ]
     },
     "metadata": {},
     "output_type": "display_data"
    },
    {
     "name": "stdout",
     "output_type": "stream",
     "text": [
      "***VALIDATION***:\n",
      "average correlation: 0.90\n",
      "average r2: 0.80\n",
      "---do_investigations. cluster index : 15---\n"
     ]
    },
    {
     "data": {
      "application/vnd.jupyter.widget-view+json": {
       "model_id": "a147d1b2decc4b07842ffe1e325700a2",
       "version_major": 2,
       "version_minor": 0
      },
      "text/plain": [
       "IntProgress(value=0, max=5)"
      ]
     },
     "metadata": {},
     "output_type": "display_data"
    },
    {
     "name": "stdout",
     "output_type": "stream",
     "text": [
      "Epoch 1/20\n",
      "368/368 [==============================] - 2s 3ms/step - loss: 0.3024 - mean_absolute_error: 0.2407 - val_loss: 0.3043 - val_mean_absolute_error: 0.2716\n",
      "Epoch 2/20\n",
      "368/368 [==============================] - 1s 2ms/step - loss: 0.1924 - mean_absolute_error: 0.2005 - val_loss: 0.3247 - val_mean_absolute_error: 0.2693\n",
      "Epoch 3/20\n",
      "368/368 [==============================] - 1s 2ms/step - loss: 0.1903 - mean_absolute_error: 0.1992 - val_loss: 0.3312 - val_mean_absolute_error: 0.2747\n",
      "***TRAIN***:\n",
      "correlation related to cluster centre: 0.90\n",
      "r2 score related to cluster centre: 0.81\n",
      "***VALIDATION***:\n",
      "correlation related to cluster centre: 0.91\n",
      "r2 score related to cluster centre: 0.82\n"
     ]
    },
    {
     "data": {
      "application/vnd.jupyter.widget-view+json": {
       "model_id": "d23389f6a68445e9a27287f0d88da2b8",
       "version_major": 2,
       "version_minor": 0
      },
      "text/plain": [
       "IntProgress(value=0, max=5)"
      ]
     },
     "metadata": {},
     "output_type": "display_data"
    },
    {
     "name": "stdout",
     "output_type": "stream",
     "text": [
      "***VALIDATION***:\n",
      "average correlation: 0.91\n",
      "average r2: 0.81\n",
      "weighted_average_correlation: 0.90\n",
      "weighted_average_r2_score: 0.77\n",
      "bad clusters rate: 0.59%\n"
     ]
    }
   ],
   "source": [
    "first_path = r\"C:\\Coding\\final-qualifying-work_2023-2024\\ClusteringCpp\\output\\kohonen 15 0.1 0.1.txt\"\n",
    "second_path = r\"C:\\Coding\\final-qualifying-work_2023-2024\\ClusteringCpp\\output\\kohonen 15 0.1 0.1 - 3 0.1 0.1.txt\"\n",
    "third_path = r\"C:\\Coding\\final-qualifying-work_2023-2024\\ClusteringCpp\\output\\kohonen 15 0.1 0.1 - 2 0.1 0.1.txt\"\n",
    "fourth_path = r\"C:\\Coding\\final-qualifying-work_2023-2024\\ClusteringCpp\\output\\kohonen 15 0.1 0.1 - 1 0.1 0.1.txt\"\n",
    "\n",
    "output_file = open(\"computational-experiments-output\", \"a\")\n",
    "\n",
    "selected_path = second_path\n",
    "\n",
    "print(f\"msd {os.path.split(selected_path)[-1]}\")\n",
    "output_file.write(f\"msd {os.path.split(selected_path)[-1]}\\n\")\n",
    "show_results(multi_step_dense_model, get_clusters(selected_path), CONV_WIDTH)\n",
    "\n",
    "output_file.close()"
   ]
  },
  {
   "cell_type": "code",
   "execution_count": 24,
   "id": "d571c3b8-2497-468e-88ec-47c064d63ed6",
   "metadata": {},
   "outputs": [
    {
     "name": "stdout",
     "output_type": "stream",
     "text": [
      "msd kohonen 15 0.1 0.1 - 2 0.1 0.1.txt\n",
      "---do_investigations. cluster index : 0---\n"
     ]
    },
    {
     "data": {
      "application/vnd.jupyter.widget-view+json": {
       "model_id": "7202bd80cd1949448f7290908d9fc79b",
       "version_major": 2,
       "version_minor": 0
      },
      "text/plain": [
       "IntProgress(value=0, max=222)"
      ]
     },
     "metadata": {},
     "output_type": "display_data"
    },
    {
     "name": "stdout",
     "output_type": "stream",
     "text": [
      "Epoch 1/20\n",
      "368/368 [==============================] - 2s 3ms/step - loss: 0.2792 - mean_absolute_error: 0.3435 - val_loss: 0.1777 - val_mean_absolute_error: 0.2809\n",
      "Epoch 2/20\n",
      "368/368 [==============================] - 1s 2ms/step - loss: 0.2081 - mean_absolute_error: 0.2987 - val_loss: 0.1760 - val_mean_absolute_error: 0.2863\n",
      "Epoch 3/20\n",
      "368/368 [==============================] - 1s 3ms/step - loss: 0.2080 - mean_absolute_error: 0.2969 - val_loss: 0.1746 - val_mean_absolute_error: 0.2777\n",
      "Epoch 4/20\n",
      "368/368 [==============================] - 1s 2ms/step - loss: 0.2073 - mean_absolute_error: 0.2966 - val_loss: 0.1750 - val_mean_absolute_error: 0.2736\n",
      "Epoch 5/20\n",
      "368/368 [==============================] - 1s 2ms/step - loss: 0.2070 - mean_absolute_error: 0.2957 - val_loss: 0.1739 - val_mean_absolute_error: 0.2812\n",
      "Epoch 6/20\n",
      "368/368 [==============================] - 1s 2ms/step - loss: 0.2056 - mean_absolute_error: 0.2946 - val_loss: 0.1740 - val_mean_absolute_error: 0.2820\n",
      "Epoch 7/20\n",
      "368/368 [==============================] - 1s 2ms/step - loss: 0.2061 - mean_absolute_error: 0.2949 - val_loss: 0.1761 - val_mean_absolute_error: 0.2863\n",
      "***TRAIN***:\n",
      "correlation related to cluster centre: 0.89\n",
      "r2 score related to cluster centre: 0.79\n",
      "***VALIDATION***:\n",
      "correlation related to cluster centre: 0.91\n",
      "r2 score related to cluster centre: 0.82\n"
     ]
    },
    {
     "data": {
      "application/vnd.jupyter.widget-view+json": {
       "model_id": "de63ee4ebd944f92a326e78357bbdf0a",
       "version_major": 2,
       "version_minor": 0
      },
      "text/plain": [
       "IntProgress(value=0, max=222)"
      ]
     },
     "metadata": {},
     "output_type": "display_data"
    },
    {
     "name": "stdout",
     "output_type": "stream",
     "text": [
      "***VALIDATION***:\n",
      "average correlation: 0.90\n",
      "average r2: 0.80\n",
      "---do_investigations. cluster index : 1---\n"
     ]
    },
    {
     "data": {
      "application/vnd.jupyter.widget-view+json": {
       "model_id": "cbbe02fbfa8e49e6a2adc547d539573d",
       "version_major": 2,
       "version_minor": 0
      },
      "text/plain": [
       "IntProgress(value=0, max=824)"
      ]
     },
     "metadata": {},
     "output_type": "display_data"
    },
    {
     "name": "stdout",
     "output_type": "stream",
     "text": [
      "Epoch 1/20\n",
      "368/368 [==============================] - 2s 3ms/step - loss: 0.2570 - mean_absolute_error: 0.3368 - val_loss: 0.2008 - val_mean_absolute_error: 0.2934\n",
      "Epoch 2/20\n",
      "368/368 [==============================] - 1s 2ms/step - loss: 0.2028 - mean_absolute_error: 0.2976 - val_loss: 0.2001 - val_mean_absolute_error: 0.2963\n",
      "Epoch 3/20\n",
      "368/368 [==============================] - 1s 2ms/step - loss: 0.2024 - mean_absolute_error: 0.2969 - val_loss: 0.1993 - val_mean_absolute_error: 0.2953\n",
      "Epoch 4/20\n",
      "368/368 [==============================] - 1s 3ms/step - loss: 0.2024 - mean_absolute_error: 0.2979 - val_loss: 0.1992 - val_mean_absolute_error: 0.2965\n",
      "Epoch 5/20\n",
      "368/368 [==============================] - 1s 3ms/step - loss: 0.2028 - mean_absolute_error: 0.2973 - val_loss: 0.2014 - val_mean_absolute_error: 0.2894\n",
      "Epoch 6/20\n",
      "368/368 [==============================] - 1s 2ms/step - loss: 0.2015 - mean_absolute_error: 0.2952 - val_loss: 0.1993 - val_mean_absolute_error: 0.2944\n",
      "***TRAIN***:\n",
      "correlation related to cluster centre: 0.90\n",
      "r2 score related to cluster centre: 0.80\n",
      "***VALIDATION***:\n",
      "correlation related to cluster centre: 0.91\n",
      "r2 score related to cluster centre: 0.82\n"
     ]
    },
    {
     "data": {
      "application/vnd.jupyter.widget-view+json": {
       "model_id": "7b9d57d3e9354f81b48f931cab4d194f",
       "version_major": 2,
       "version_minor": 0
      },
      "text/plain": [
       "IntProgress(value=0, max=824)"
      ]
     },
     "metadata": {},
     "output_type": "display_data"
    },
    {
     "name": "stdout",
     "output_type": "stream",
     "text": [
      "***VALIDATION***:\n",
      "average correlation: 0.90\n",
      "average r2: 0.74\n",
      "---do_investigations. cluster index : 2---\n"
     ]
    },
    {
     "data": {
      "application/vnd.jupyter.widget-view+json": {
       "model_id": "fcc3d22f6f3b454b85bb0256266f1861",
       "version_major": 2,
       "version_minor": 0
      },
      "text/plain": [
       "IntProgress(value=0, max=285)"
      ]
     },
     "metadata": {},
     "output_type": "display_data"
    },
    {
     "name": "stdout",
     "output_type": "stream",
     "text": [
      "Epoch 1/20\n",
      "368/368 [==============================] - 2s 3ms/step - loss: 0.2479 - mean_absolute_error: 0.3467 - val_loss: 0.1718 - val_mean_absolute_error: 0.2787\n",
      "Epoch 2/20\n",
      "368/368 [==============================] - 1s 3ms/step - loss: 0.1854 - mean_absolute_error: 0.2957 - val_loss: 0.1703 - val_mean_absolute_error: 0.2803\n",
      "Epoch 3/20\n",
      "368/368 [==============================] - 1s 3ms/step - loss: 0.1855 - mean_absolute_error: 0.2961 - val_loss: 0.1723 - val_mean_absolute_error: 0.2847\n",
      "Epoch 4/20\n",
      "368/368 [==============================] - 1s 3ms/step - loss: 0.1848 - mean_absolute_error: 0.2947 - val_loss: 0.1688 - val_mean_absolute_error: 0.2798\n",
      "Epoch 5/20\n",
      "368/368 [==============================] - 1s 3ms/step - loss: 0.1847 - mean_absolute_error: 0.2952 - val_loss: 0.1699 - val_mean_absolute_error: 0.2755\n",
      "Epoch 6/20\n",
      "368/368 [==============================] - 1s 2ms/step - loss: 0.1846 - mean_absolute_error: 0.2948 - val_loss: 0.1693 - val_mean_absolute_error: 0.2826\n",
      "***TRAIN***:\n",
      "correlation related to cluster centre: 0.90\n",
      "r2 score related to cluster centre: 0.82\n",
      "***VALIDATION***:\n",
      "correlation related to cluster centre: 0.91\n",
      "r2 score related to cluster centre: 0.83\n"
     ]
    },
    {
     "data": {
      "application/vnd.jupyter.widget-view+json": {
       "model_id": "82dba5f264e14823975fd0e3e6048c2e",
       "version_major": 2,
       "version_minor": 0
      },
      "text/plain": [
       "IntProgress(value=0, max=285)"
      ]
     },
     "metadata": {},
     "output_type": "display_data"
    },
    {
     "name": "stdout",
     "output_type": "stream",
     "text": [
      "***VALIDATION***:\n",
      "average correlation: 0.91\n",
      "average r2: 0.79\n",
      "---do_investigations. cluster index : 3---\n"
     ]
    },
    {
     "data": {
      "application/vnd.jupyter.widget-view+json": {
       "model_id": "4f29b74b192e432886f9f546f4a5016c",
       "version_major": 2,
       "version_minor": 0
      },
      "text/plain": [
       "IntProgress(value=0, max=114)"
      ]
     },
     "metadata": {},
     "output_type": "display_data"
    },
    {
     "name": "stdout",
     "output_type": "stream",
     "text": [
      "Epoch 1/20\n",
      "368/368 [==============================] - 2s 3ms/step - loss: 0.2965 - mean_absolute_error: 0.3595 - val_loss: 0.1574 - val_mean_absolute_error: 0.2805\n",
      "Epoch 2/20\n",
      "368/368 [==============================] - 1s 2ms/step - loss: 0.2107 - mean_absolute_error: 0.3093 - val_loss: 0.1562 - val_mean_absolute_error: 0.2755\n",
      "Epoch 3/20\n",
      "368/368 [==============================] - 1s 3ms/step - loss: 0.2116 - mean_absolute_error: 0.3102 - val_loss: 0.1584 - val_mean_absolute_error: 0.2742\n",
      "Epoch 4/20\n",
      "368/368 [==============================] - 1s 2ms/step - loss: 0.2110 - mean_absolute_error: 0.3101 - val_loss: 0.1563 - val_mean_absolute_error: 0.2778\n",
      "***TRAIN***:\n",
      "correlation related to cluster centre: 0.89\n",
      "r2 score related to cluster centre: 0.79\n",
      "***VALIDATION***:\n",
      "correlation related to cluster centre: 0.91\n",
      "r2 score related to cluster centre: 0.82\n"
     ]
    },
    {
     "data": {
      "application/vnd.jupyter.widget-view+json": {
       "model_id": "d668003df5504fe5b9a275a07559836f",
       "version_major": 2,
       "version_minor": 0
      },
      "text/plain": [
       "IntProgress(value=0, max=114)"
      ]
     },
     "metadata": {},
     "output_type": "display_data"
    },
    {
     "name": "stdout",
     "output_type": "stream",
     "text": [
      "***VALIDATION***:\n",
      "average correlation: 0.90\n",
      "average r2: 0.81\n",
      "---do_investigations. cluster index : 4---\n"
     ]
    },
    {
     "data": {
      "application/vnd.jupyter.widget-view+json": {
       "model_id": "932cfea5c27b4585bb959b5890542d46",
       "version_major": 2,
       "version_minor": 0
      },
      "text/plain": [
       "IntProgress(value=0, max=201)"
      ]
     },
     "metadata": {},
     "output_type": "display_data"
    },
    {
     "name": "stdout",
     "output_type": "stream",
     "text": [
      "Epoch 1/20\n",
      "368/368 [==============================] - 2s 3ms/step - loss: 0.2503 - mean_absolute_error: 0.3520 - val_loss: 0.1636 - val_mean_absolute_error: 0.2886\n",
      "Epoch 2/20\n",
      "368/368 [==============================] - 1s 3ms/step - loss: 0.1991 - mean_absolute_error: 0.3095 - val_loss: 0.1639 - val_mean_absolute_error: 0.2876\n",
      "Epoch 3/20\n",
      "368/368 [==============================] - 1s 3ms/step - loss: 0.1973 - mean_absolute_error: 0.3068 - val_loss: 0.1660 - val_mean_absolute_error: 0.2892\n",
      "***TRAIN***:\n",
      "correlation related to cluster centre: 0.90\n",
      "r2 score related to cluster centre: 0.80\n",
      "***VALIDATION***:\n",
      "correlation related to cluster centre: 0.91\n",
      "r2 score related to cluster centre: 0.82\n"
     ]
    },
    {
     "data": {
      "application/vnd.jupyter.widget-view+json": {
       "model_id": "43e297621c974da3b0e39af697a932ff",
       "version_major": 2,
       "version_minor": 0
      },
      "text/plain": [
       "IntProgress(value=0, max=201)"
      ]
     },
     "metadata": {},
     "output_type": "display_data"
    },
    {
     "name": "stdout",
     "output_type": "stream",
     "text": [
      "***VALIDATION***:\n",
      "average correlation: 0.91\n",
      "average r2: 0.76\n",
      "---do_investigations. cluster index : 5---\n"
     ]
    },
    {
     "data": {
      "application/vnd.jupyter.widget-view+json": {
       "model_id": "cdbb821bce6f426f8819fab1d9b9c96d",
       "version_major": 2,
       "version_minor": 0
      },
      "text/plain": [
       "IntProgress(value=0, max=82)"
      ]
     },
     "metadata": {},
     "output_type": "display_data"
    },
    {
     "name": "stdout",
     "output_type": "stream",
     "text": [
      "Epoch 1/20\n",
      "368/368 [==============================] - 2s 3ms/step - loss: 0.2554 - mean_absolute_error: 0.3455 - val_loss: 0.1388 - val_mean_absolute_error: 0.2563\n",
      "Epoch 2/20\n",
      "368/368 [==============================] - 1s 2ms/step - loss: 0.2019 - mean_absolute_error: 0.3050 - val_loss: 0.1358 - val_mean_absolute_error: 0.2613\n",
      "Epoch 3/20\n",
      "368/368 [==============================] - 1s 2ms/step - loss: 0.2003 - mean_absolute_error: 0.3034 - val_loss: 0.1363 - val_mean_absolute_error: 0.2591\n",
      "Epoch 4/20\n",
      "368/368 [==============================] - 1s 2ms/step - loss: 0.1999 - mean_absolute_error: 0.3030 - val_loss: 0.1351 - val_mean_absolute_error: 0.2556\n",
      "Epoch 5/20\n",
      "368/368 [==============================] - 1s 3ms/step - loss: 0.1998 - mean_absolute_error: 0.3031 - val_loss: 0.1358 - val_mean_absolute_error: 0.2536\n",
      "Epoch 6/20\n",
      "368/368 [==============================] - 1s 3ms/step - loss: 0.1999 - mean_absolute_error: 0.3025 - val_loss: 0.1367 - val_mean_absolute_error: 0.2598\n",
      "***TRAIN***:\n",
      "correlation related to cluster centre: 0.90\n",
      "r2 score related to cluster centre: 0.80\n",
      "***VALIDATION***:\n",
      "correlation related to cluster centre: 0.91\n",
      "r2 score related to cluster centre: 0.83\n"
     ]
    },
    {
     "data": {
      "application/vnd.jupyter.widget-view+json": {
       "model_id": "d8169701db094a44a767d750ac82e111",
       "version_major": 2,
       "version_minor": 0
      },
      "text/plain": [
       "IntProgress(value=0, max=82)"
      ]
     },
     "metadata": {},
     "output_type": "display_data"
    },
    {
     "name": "stdout",
     "output_type": "stream",
     "text": [
      "***VALIDATION***:\n",
      "average correlation: 0.91\n",
      "average r2: 0.83\n",
      "---do_investigations. cluster index : 6---\n"
     ]
    },
    {
     "data": {
      "application/vnd.jupyter.widget-view+json": {
       "model_id": "6c025c24988d452495c62f381c2d52a6",
       "version_major": 2,
       "version_minor": 0
      },
      "text/plain": [
       "IntProgress(value=0, max=3)"
      ]
     },
     "metadata": {},
     "output_type": "display_data"
    },
    {
     "name": "stdout",
     "output_type": "stream",
     "text": [
      "Epoch 1/20\n",
      "368/368 [==============================] - 2s 3ms/step - loss: 0.3102 - mean_absolute_error: 0.2688 - val_loss: 0.0050 - val_mean_absolute_error: 0.0494\n",
      "Epoch 2/20\n",
      "368/368 [==============================] - 1s 2ms/step - loss: 0.2519 - mean_absolute_error: 0.2318 - val_loss: 0.0050 - val_mean_absolute_error: 0.0500\n",
      "Epoch 3/20\n",
      "368/368 [==============================] - 1s 2ms/step - loss: 0.2503 - mean_absolute_error: 0.2301 - val_loss: 0.0047 - val_mean_absolute_error: 0.0480\n",
      "Epoch 4/20\n",
      "368/368 [==============================] - 1s 2ms/step - loss: 0.2492 - mean_absolute_error: 0.2285 - val_loss: 0.0061 - val_mean_absolute_error: 0.0611\n",
      "Epoch 5/20\n",
      "368/368 [==============================] - 1s 3ms/step - loss: 0.2486 - mean_absolute_error: 0.2286 - val_loss: 0.0041 - val_mean_absolute_error: 0.0410\n",
      "Epoch 6/20\n",
      "368/368 [==============================] - 1s 3ms/step - loss: 0.2480 - mean_absolute_error: 0.2280 - val_loss: 0.0060 - val_mean_absolute_error: 0.0617\n",
      "Epoch 7/20\n",
      "368/368 [==============================] - 1s 3ms/step - loss: 0.2477 - mean_absolute_error: 0.2282 - val_loss: 0.0039 - val_mean_absolute_error: 0.0387\n",
      "Epoch 8/20\n",
      "368/368 [==============================] - 1s 2ms/step - loss: 0.2484 - mean_absolute_error: 0.2282 - val_loss: 0.0048 - val_mean_absolute_error: 0.0490\n",
      "Epoch 9/20\n",
      "368/368 [==============================] - 1s 2ms/step - loss: 0.2478 - mean_absolute_error: 0.2281 - val_loss: 0.0047 - val_mean_absolute_error: 0.0477\n",
      "***TRAIN***:\n",
      "correlation related to cluster centre: 0.87\n",
      "r2 score related to cluster centre: 0.76\n",
      "***VALIDATION***:\n",
      "correlation related to cluster centre: 0.90\n",
      "r2 score related to cluster centre: 0.76\n"
     ]
    },
    {
     "data": {
      "application/vnd.jupyter.widget-view+json": {
       "model_id": "c40a8de030654cdbb7f0b9679ecb73e5",
       "version_major": 2,
       "version_minor": 0
      },
      "text/plain": [
       "IntProgress(value=0, max=3)"
      ]
     },
     "metadata": {},
     "output_type": "display_data"
    },
    {
     "name": "stdout",
     "output_type": "stream",
     "text": [
      "***VALIDATION***:\n",
      "average correlation: 0.91\n",
      "average r2: 0.68\n",
      "---do_investigations. cluster index : 7---\n"
     ]
    },
    {
     "data": {
      "application/vnd.jupyter.widget-view+json": {
       "model_id": "8498a4db4c6c4b7d80a60425a11ad9e4",
       "version_major": 2,
       "version_minor": 0
      },
      "text/plain": [
       "IntProgress(value=0, max=38)"
      ]
     },
     "metadata": {},
     "output_type": "display_data"
    },
    {
     "name": "stdout",
     "output_type": "stream",
     "text": [
      "Epoch 1/20\n",
      "368/368 [==============================] - 2s 3ms/step - loss: 0.1982 - mean_absolute_error: 0.3103 - val_loss: 0.1440 - val_mean_absolute_error: 0.2568\n",
      "Epoch 2/20\n",
      "368/368 [==============================] - 1s 2ms/step - loss: 0.1703 - mean_absolute_error: 0.2835 - val_loss: 0.1412 - val_mean_absolute_error: 0.2548\n",
      "Epoch 3/20\n",
      "368/368 [==============================] - 1s 3ms/step - loss: 0.1696 - mean_absolute_error: 0.2825 - val_loss: 0.1390 - val_mean_absolute_error: 0.2547\n",
      "Epoch 4/20\n",
      "368/368 [==============================] - 1s 2ms/step - loss: 0.1684 - mean_absolute_error: 0.2815 - val_loss: 0.1407 - val_mean_absolute_error: 0.2540\n",
      "Epoch 5/20\n",
      "368/368 [==============================] - 1s 2ms/step - loss: 0.1679 - mean_absolute_error: 0.2806 - val_loss: 0.1404 - val_mean_absolute_error: 0.2636\n",
      "***TRAIN***:\n",
      "correlation related to cluster centre: 0.91\n",
      "r2 score related to cluster centre: 0.83\n",
      "***VALIDATION***:\n",
      "correlation related to cluster centre: 0.92\n",
      "r2 score related to cluster centre: 0.83\n"
     ]
    },
    {
     "data": {
      "application/vnd.jupyter.widget-view+json": {
       "model_id": "e02cced2f90c41f8ad0dd85565289802",
       "version_major": 2,
       "version_minor": 0
      },
      "text/plain": [
       "IntProgress(value=0, max=38)"
      ]
     },
     "metadata": {},
     "output_type": "display_data"
    },
    {
     "name": "stdout",
     "output_type": "stream",
     "text": [
      "***VALIDATION***:\n",
      "average correlation: 0.92\n",
      "average r2: 0.83\n",
      "---do_investigations. cluster index : 8---\n"
     ]
    },
    {
     "data": {
      "application/vnd.jupyter.widget-view+json": {
       "model_id": "a5033ade1cde4ba991e9dfbf83e848a8",
       "version_major": 2,
       "version_minor": 0
      },
      "text/plain": [
       "IntProgress(value=0, max=1)"
      ]
     },
     "metadata": {},
     "output_type": "display_data"
    },
    {
     "name": "stdout",
     "output_type": "stream",
     "text": [
      "Epoch 1/20\n",
      "368/368 [==============================] - 2s 3ms/step - loss: 0.2005 - mean_absolute_error: 0.3132 - val_loss: 0.1829 - val_mean_absolute_error: 0.2913\n",
      "Epoch 2/20\n",
      "368/368 [==============================] - 1s 2ms/step - loss: 0.1662 - mean_absolute_error: 0.2789 - val_loss: 0.1842 - val_mean_absolute_error: 0.3063\n",
      "Epoch 3/20\n",
      "368/368 [==============================] - 1s 2ms/step - loss: 0.1664 - mean_absolute_error: 0.2797 - val_loss: 0.1934 - val_mean_absolute_error: 0.3257\n",
      "***TRAIN***:\n",
      "correlation related to cluster centre: 0.91\n",
      "r2 score related to cluster centre: 0.83\n",
      "***VALIDATION***:\n",
      "correlation related to cluster centre: 0.91\n",
      "r2 score related to cluster centre: 0.81\n"
     ]
    },
    {
     "data": {
      "application/vnd.jupyter.widget-view+json": {
       "model_id": "c6c8011411aa4359a9b59217d6a4c59a",
       "version_major": 2,
       "version_minor": 0
      },
      "text/plain": [
       "IntProgress(value=0, max=1)"
      ]
     },
     "metadata": {},
     "output_type": "display_data"
    },
    {
     "name": "stdout",
     "output_type": "stream",
     "text": [
      "***VALIDATION***:\n",
      "average correlation: 0.91\n",
      "average r2: 0.81\n",
      "---do_investigations. cluster index : 9---\n"
     ]
    },
    {
     "data": {
      "application/vnd.jupyter.widget-view+json": {
       "model_id": "c1d1eb52497242da82d5072d87e3d388",
       "version_major": 2,
       "version_minor": 0
      },
      "text/plain": [
       "IntProgress(value=0, max=4089)"
      ]
     },
     "metadata": {},
     "output_type": "display_data"
    },
    {
     "name": "stdout",
     "output_type": "stream",
     "text": [
      "Epoch 1/20\n",
      "368/368 [==============================] - 2s 3ms/step - loss: 0.1651 - mean_absolute_error: 0.2548 - val_loss: 0.1411 - val_mean_absolute_error: 0.2009\n",
      "Epoch 2/20\n",
      "368/368 [==============================] - 1s 2ms/step - loss: 0.1184 - mean_absolute_error: 0.2078 - val_loss: 0.1377 - val_mean_absolute_error: 0.1998\n",
      "Epoch 3/20\n",
      "368/368 [==============================] - 1s 2ms/step - loss: 0.1183 - mean_absolute_error: 0.2072 - val_loss: 0.1386 - val_mean_absolute_error: 0.1992\n",
      "Epoch 4/20\n",
      "368/368 [==============================] - 1s 2ms/step - loss: 0.1170 - mean_absolute_error: 0.2068 - val_loss: 0.1364 - val_mean_absolute_error: 0.1944\n",
      "Epoch 5/20\n",
      "368/368 [==============================] - 1s 2ms/step - loss: 0.1164 - mean_absolute_error: 0.2053 - val_loss: 0.1371 - val_mean_absolute_error: 0.1936\n",
      "Epoch 6/20\n",
      "368/368 [==============================] - 1s 2ms/step - loss: 0.1171 - mean_absolute_error: 0.2068 - val_loss: 0.1543 - val_mean_absolute_error: 0.2200\n",
      "***TRAIN***:\n",
      "correlation related to cluster centre: 0.94\n",
      "r2 score related to cluster centre: 0.88\n",
      "***VALIDATION***:\n",
      "correlation related to cluster centre: 0.91\n",
      "r2 score related to cluster centre: 0.81\n"
     ]
    },
    {
     "data": {
      "application/vnd.jupyter.widget-view+json": {
       "model_id": "234533bb91b84d9486f3fe231b9b5979",
       "version_major": 2,
       "version_minor": 0
      },
      "text/plain": [
       "IntProgress(value=0, max=4089)"
      ]
     },
     "metadata": {},
     "output_type": "display_data"
    },
    {
     "name": "stdout",
     "output_type": "stream",
     "text": [
      "***VALIDATION***:\n",
      "average correlation: nan\n",
      "average r2: -56828495476033748494974976.00\n",
      "---do_investigations. cluster index : 10---\n"
     ]
    },
    {
     "data": {
      "application/vnd.jupyter.widget-view+json": {
       "model_id": "0ffc6ce0c6b84da585c061b188b4c351",
       "version_major": 2,
       "version_minor": 0
      },
      "text/plain": [
       "IntProgress(value=0, max=190)"
      ]
     },
     "metadata": {},
     "output_type": "display_data"
    },
    {
     "name": "stdout",
     "output_type": "stream",
     "text": [
      "Epoch 1/20\n",
      "368/368 [==============================] - 2s 3ms/step - loss: 0.2554 - mean_absolute_error: 0.3491 - val_loss: 0.1781 - val_mean_absolute_error: 0.2766\n",
      "Epoch 2/20\n",
      "368/368 [==============================] - 1s 2ms/step - loss: 0.2011 - mean_absolute_error: 0.3027 - val_loss: 0.1783 - val_mean_absolute_error: 0.2804\n",
      "Epoch 3/20\n",
      "368/368 [==============================] - 1s 2ms/step - loss: 0.2004 - mean_absolute_error: 0.3021 - val_loss: 0.1777 - val_mean_absolute_error: 0.2723\n",
      "Epoch 4/20\n",
      "368/368 [==============================] - 1s 2ms/step - loss: 0.1995 - mean_absolute_error: 0.3011 - val_loss: 0.1754 - val_mean_absolute_error: 0.2722\n",
      "Epoch 5/20\n",
      "368/368 [==============================] - 1s 2ms/step - loss: 0.1996 - mean_absolute_error: 0.3012 - val_loss: 0.1763 - val_mean_absolute_error: 0.2762\n",
      "Epoch 6/20\n",
      "368/368 [==============================] - 1s 2ms/step - loss: 0.2005 - mean_absolute_error: 0.3015 - val_loss: 0.1756 - val_mean_absolute_error: 0.2736\n",
      "***TRAIN***:\n",
      "correlation related to cluster centre: 0.90\n",
      "r2 score related to cluster centre: 0.80\n",
      "***VALIDATION***:\n",
      "correlation related to cluster centre: 0.90\n",
      "r2 score related to cluster centre: 0.82\n"
     ]
    },
    {
     "data": {
      "application/vnd.jupyter.widget-view+json": {
       "model_id": "462a7b5f19084bb88fffe33f01bd7e4b",
       "version_major": 2,
       "version_minor": 0
      },
      "text/plain": [
       "IntProgress(value=0, max=190)"
      ]
     },
     "metadata": {},
     "output_type": "display_data"
    },
    {
     "name": "stdout",
     "output_type": "stream",
     "text": [
      "***VALIDATION***:\n",
      "average correlation: 0.90\n",
      "average r2: 0.80\n",
      "---do_investigations. cluster index : 11---\n"
     ]
    },
    {
     "data": {
      "application/vnd.jupyter.widget-view+json": {
       "model_id": "bf762610480d40478ebc4c5c0f5b1b5c",
       "version_major": 2,
       "version_minor": 0
      },
      "text/plain": [
       "IntProgress(value=0, max=226)"
      ]
     },
     "metadata": {},
     "output_type": "display_data"
    },
    {
     "name": "stdout",
     "output_type": "stream",
     "text": [
      "Epoch 1/20\n",
      "368/368 [==============================] - 2s 3ms/step - loss: 0.2586 - mean_absolute_error: 0.3154 - val_loss: 0.2592 - val_mean_absolute_error: 0.2781\n",
      "Epoch 2/20\n",
      "368/368 [==============================] - 1s 3ms/step - loss: 0.2057 - mean_absolute_error: 0.2713 - val_loss: 0.2593 - val_mean_absolute_error: 0.2758\n",
      "Epoch 3/20\n",
      "368/368 [==============================] - 1s 2ms/step - loss: 0.2066 - mean_absolute_error: 0.2721 - val_loss: 0.2560 - val_mean_absolute_error: 0.2825\n",
      "Epoch 4/20\n",
      "368/368 [==============================] - 1s 2ms/step - loss: 0.2057 - mean_absolute_error: 0.2701 - val_loss: 0.2557 - val_mean_absolute_error: 0.2771\n",
      "Epoch 5/20\n",
      "368/368 [==============================] - 1s 2ms/step - loss: 0.2044 - mean_absolute_error: 0.2700 - val_loss: 0.2579 - val_mean_absolute_error: 0.2705\n",
      "Epoch 6/20\n",
      "368/368 [==============================] - 1s 2ms/step - loss: 0.2041 - mean_absolute_error: 0.2702 - val_loss: 0.2575 - val_mean_absolute_error: 0.2743\n",
      "***TRAIN***:\n",
      "correlation related to cluster centre: 0.89\n",
      "r2 score related to cluster centre: 0.80\n",
      "***VALIDATION***:\n",
      "correlation related to cluster centre: 0.90\n",
      "r2 score related to cluster centre: 0.81\n"
     ]
    },
    {
     "data": {
      "application/vnd.jupyter.widget-view+json": {
       "model_id": "a0db94c509864f6e876ba12e8b09cbdb",
       "version_major": 2,
       "version_minor": 0
      },
      "text/plain": [
       "IntProgress(value=0, max=226)"
      ]
     },
     "metadata": {},
     "output_type": "display_data"
    },
    {
     "name": "stdout",
     "output_type": "stream",
     "text": [
      "***VALIDATION***:\n",
      "average correlation: 0.90\n",
      "average r2: 0.80\n",
      "---do_investigations. cluster index : 12---\n"
     ]
    },
    {
     "data": {
      "application/vnd.jupyter.widget-view+json": {
       "model_id": "d60bd6082bf54516a6b91e602f90de49",
       "version_major": 2,
       "version_minor": 0
      },
      "text/plain": [
       "IntProgress(value=0, max=693)"
      ]
     },
     "metadata": {},
     "output_type": "display_data"
    },
    {
     "name": "stdout",
     "output_type": "stream",
     "text": [
      "Epoch 1/20\n",
      "368/368 [==============================] - 2s 3ms/step - loss: 0.2016 - mean_absolute_error: 0.2906 - val_loss: 0.1429 - val_mean_absolute_error: 0.2161\n",
      "Epoch 2/20\n",
      "368/368 [==============================] - 1s 3ms/step - loss: 0.1751 - mean_absolute_error: 0.2638 - val_loss: 0.1423 - val_mean_absolute_error: 0.2154\n",
      "Epoch 3/20\n",
      "368/368 [==============================] - 1s 2ms/step - loss: 0.1754 - mean_absolute_error: 0.2640 - val_loss: 0.1616 - val_mean_absolute_error: 0.2383\n",
      "Epoch 4/20\n",
      "368/368 [==============================] - 1s 2ms/step - loss: 0.1746 - mean_absolute_error: 0.2633 - val_loss: 0.1508 - val_mean_absolute_error: 0.2263\n",
      "***TRAIN***:\n",
      "correlation related to cluster centre: 0.91\n",
      "r2 score related to cluster centre: 0.82\n",
      "***VALIDATION***:\n",
      "correlation related to cluster centre: 0.90\n",
      "r2 score related to cluster centre: 0.80\n"
     ]
    },
    {
     "data": {
      "application/vnd.jupyter.widget-view+json": {
       "model_id": "da624bf4850d4aa09fc3c78a7d1e0474",
       "version_major": 2,
       "version_minor": 0
      },
      "text/plain": [
       "IntProgress(value=0, max=693)"
      ]
     },
     "metadata": {},
     "output_type": "display_data"
    },
    {
     "name": "stdout",
     "output_type": "stream",
     "text": [
      "***VALIDATION***:\n",
      "average correlation: 0.89\n",
      "average r2: 0.73\n",
      "---do_investigations. cluster index : 13---\n"
     ]
    },
    {
     "data": {
      "application/vnd.jupyter.widget-view+json": {
       "model_id": "78997ad548f149e2bd4ecf0539393172",
       "version_major": 2,
       "version_minor": 0
      },
      "text/plain": [
       "IntProgress(value=0, max=1)"
      ]
     },
     "metadata": {},
     "output_type": "display_data"
    },
    {
     "name": "stdout",
     "output_type": "stream",
     "text": [
      "Epoch 1/20\n",
      "368/368 [==============================] - 2s 3ms/step - loss: 0.3091 - mean_absolute_error: 0.2443 - val_loss: 0.2684 - val_mean_absolute_error: 0.2885\n",
      "Epoch 2/20\n",
      "368/368 [==============================] - 1s 2ms/step - loss: 0.1896 - mean_absolute_error: 0.2006 - val_loss: 0.2609 - val_mean_absolute_error: 0.2804\n",
      "Epoch 3/20\n",
      "368/368 [==============================] - 1s 2ms/step - loss: 0.1888 - mean_absolute_error: 0.2019 - val_loss: 0.3022 - val_mean_absolute_error: 0.2923\n",
      "Epoch 4/20\n",
      "368/368 [==============================] - 1s 2ms/step - loss: 0.1876 - mean_absolute_error: 0.2001 - val_loss: 0.2803 - val_mean_absolute_error: 0.2852\n",
      "***TRAIN***:\n",
      "correlation related to cluster centre: 0.90\n",
      "r2 score related to cluster centre: 0.81\n",
      "***VALIDATION***:\n",
      "correlation related to cluster centre: 0.92\n",
      "r2 score related to cluster centre: 0.83\n"
     ]
    },
    {
     "data": {
      "application/vnd.jupyter.widget-view+json": {
       "model_id": "5e192458459242b4bbd1253345a1621e",
       "version_major": 2,
       "version_minor": 0
      },
      "text/plain": [
       "IntProgress(value=0, max=1)"
      ]
     },
     "metadata": {},
     "output_type": "display_data"
    },
    {
     "name": "stdout",
     "output_type": "stream",
     "text": [
      "***VALIDATION***:\n",
      "average correlation: 0.92\n",
      "average r2: 0.83\n",
      "---do_investigations. cluster index : 14---\n"
     ]
    },
    {
     "data": {
      "application/vnd.jupyter.widget-view+json": {
       "model_id": "01d83f30e3344ab4bec364e6a95a2043",
       "version_major": 2,
       "version_minor": 0
      },
      "text/plain": [
       "IntProgress(value=0, max=364)"
      ]
     },
     "metadata": {},
     "output_type": "display_data"
    },
    {
     "name": "stdout",
     "output_type": "stream",
     "text": [
      "Epoch 1/20\n",
      "368/368 [==============================] - 2s 3ms/step - loss: 0.1186 - mean_absolute_error: 0.2097 - val_loss: 0.0682 - val_mean_absolute_error: 0.1627\n",
      "Epoch 2/20\n",
      "368/368 [==============================] - 1s 3ms/step - loss: 0.0877 - mean_absolute_error: 0.1758 - val_loss: 0.0636 - val_mean_absolute_error: 0.1470\n",
      "Epoch 3/20\n",
      "368/368 [==============================] - 1s 2ms/step - loss: 0.0866 - mean_absolute_error: 0.1734 - val_loss: 0.0626 - val_mean_absolute_error: 0.1447\n",
      "Epoch 4/20\n",
      "368/368 [==============================] - 1s 3ms/step - loss: 0.0862 - mean_absolute_error: 0.1733 - val_loss: 0.0640 - val_mean_absolute_error: 0.1454\n",
      "Epoch 5/20\n",
      "368/368 [==============================] - 1s 3ms/step - loss: 0.0864 - mean_absolute_error: 0.1736 - val_loss: 0.0625 - val_mean_absolute_error: 0.1467\n",
      "Epoch 6/20\n",
      "368/368 [==============================] - 1s 2ms/step - loss: 0.0858 - mean_absolute_error: 0.1726 - val_loss: 0.0635 - val_mean_absolute_error: 0.1417\n",
      "Epoch 7/20\n",
      "368/368 [==============================] - 1s 2ms/step - loss: 0.0858 - mean_absolute_error: 0.1726 - val_loss: 0.0630 - val_mean_absolute_error: 0.1418\n",
      "***TRAIN***:\n",
      "correlation related to cluster centre: 0.96\n",
      "r2 score related to cluster centre: 0.92\n",
      "***VALIDATION***:\n",
      "correlation related to cluster centre: 0.95\n",
      "r2 score related to cluster centre: 0.91\n"
     ]
    },
    {
     "data": {
      "application/vnd.jupyter.widget-view+json": {
       "model_id": "ac7113269fbe4327a91c4eed93987594",
       "version_major": 2,
       "version_minor": 0
      },
      "text/plain": [
       "IntProgress(value=0, max=364)"
      ]
     },
     "metadata": {},
     "output_type": "display_data"
    },
    {
     "name": "stdout",
     "output_type": "stream",
     "text": [
      "***VALIDATION***:\n",
      "average correlation: 0.90\n",
      "average r2: 0.77\n",
      "---do_investigations. cluster index : 15---\n"
     ]
    },
    {
     "data": {
      "application/vnd.jupyter.widget-view+json": {
       "model_id": "afe6120b11f648ab88b687dfcc918c47",
       "version_major": 2,
       "version_minor": 0
      },
      "text/plain": [
       "IntProgress(value=0, max=90)"
      ]
     },
     "metadata": {},
     "output_type": "display_data"
    },
    {
     "name": "stdout",
     "output_type": "stream",
     "text": [
      "Epoch 1/20\n",
      "368/368 [==============================] - 2s 3ms/step - loss: 0.2551 - mean_absolute_error: 0.3210 - val_loss: 0.2678 - val_mean_absolute_error: 0.2836\n",
      "Epoch 2/20\n",
      "368/368 [==============================] - 1s 2ms/step - loss: 0.2106 - mean_absolute_error: 0.2753 - val_loss: 0.2635 - val_mean_absolute_error: 0.2855\n",
      "Epoch 3/20\n",
      "368/368 [==============================] - 1s 2ms/step - loss: 0.2100 - mean_absolute_error: 0.2732 - val_loss: 0.2609 - val_mean_absolute_error: 0.2826\n",
      "Epoch 4/20\n",
      "368/368 [==============================] - 1s 2ms/step - loss: 0.2087 - mean_absolute_error: 0.2733 - val_loss: 0.2635 - val_mean_absolute_error: 0.2772\n",
      "Epoch 5/20\n",
      "368/368 [==============================] - 1s 2ms/step - loss: 0.2080 - mean_absolute_error: 0.2722 - val_loss: 0.2705 - val_mean_absolute_error: 0.2818\n",
      "***TRAIN***:\n",
      "correlation related to cluster centre: 0.89\n",
      "r2 score related to cluster centre: 0.79\n",
      "***VALIDATION***:\n",
      "correlation related to cluster centre: 0.90\n",
      "r2 score related to cluster centre: 0.80\n"
     ]
    },
    {
     "data": {
      "application/vnd.jupyter.widget-view+json": {
       "model_id": "fb8282809fc94482b76c2bb463c68bf8",
       "version_major": 2,
       "version_minor": 0
      },
      "text/plain": [
       "IntProgress(value=0, max=90)"
      ]
     },
     "metadata": {},
     "output_type": "display_data"
    },
    {
     "name": "stdout",
     "output_type": "stream",
     "text": [
      "***VALIDATION***:\n",
      "average correlation: 0.90\n",
      "average r2: 0.80\n",
      "---do_investigations. cluster index : 16---\n"
     ]
    },
    {
     "data": {
      "application/vnd.jupyter.widget-view+json": {
       "model_id": "080b4414b537480aa70b5758c2160158",
       "version_major": 2,
       "version_minor": 0
      },
      "text/plain": [
       "IntProgress(value=0, max=10)"
      ]
     },
     "metadata": {},
     "output_type": "display_data"
    },
    {
     "name": "stdout",
     "output_type": "stream",
     "text": [
      "Epoch 1/20\n",
      "368/368 [==============================] - 2s 3ms/step - loss: 0.2349 - mean_absolute_error: 0.2426 - val_loss: 0.3522 - val_mean_absolute_error: 0.2748\n",
      "Epoch 2/20\n",
      "368/368 [==============================] - 1s 2ms/step - loss: 0.1865 - mean_absolute_error: 0.1976 - val_loss: 0.3674 - val_mean_absolute_error: 0.2815\n",
      "Epoch 3/20\n",
      "368/368 [==============================] - 1s 2ms/step - loss: 0.1839 - mean_absolute_error: 0.1970 - val_loss: 0.3412 - val_mean_absolute_error: 0.2728\n",
      "Epoch 4/20\n",
      "368/368 [==============================] - 1s 2ms/step - loss: 0.1817 - mean_absolute_error: 0.1956 - val_loss: 0.3609 - val_mean_absolute_error: 0.2771\n",
      "Epoch 5/20\n",
      "368/368 [==============================] - 1s 3ms/step - loss: 0.1818 - mean_absolute_error: 0.1956 - val_loss: 0.3396 - val_mean_absolute_error: 0.2693\n",
      "Epoch 6/20\n",
      "368/368 [==============================] - 1s 2ms/step - loss: 0.1820 - mean_absolute_error: 0.1952 - val_loss: 0.3454 - val_mean_absolute_error: 0.2720\n",
      "Epoch 7/20\n",
      "368/368 [==============================] - 1s 2ms/step - loss: 0.1823 - mean_absolute_error: 0.1949 - val_loss: 0.3622 - val_mean_absolute_error: 0.2799\n",
      "***TRAIN***:\n",
      "correlation related to cluster centre: 0.91\n",
      "r2 score related to cluster centre: 0.81\n",
      "***VALIDATION***:\n",
      "correlation related to cluster centre: 0.91\n",
      "r2 score related to cluster centre: 0.82\n"
     ]
    },
    {
     "data": {
      "application/vnd.jupyter.widget-view+json": {
       "model_id": "e392fc751aac462493611fb71fa7a011",
       "version_major": 2,
       "version_minor": 0
      },
      "text/plain": [
       "IntProgress(value=0, max=10)"
      ]
     },
     "metadata": {},
     "output_type": "display_data"
    },
    {
     "name": "stdout",
     "output_type": "stream",
     "text": [
      "***VALIDATION***:\n",
      "average correlation: 0.91\n",
      "average r2: 0.82\n",
      "---do_investigations. cluster index : 17---\n"
     ]
    },
    {
     "data": {
      "application/vnd.jupyter.widget-view+json": {
       "model_id": "5dd47f8a18cd4504a24ba4046f423769",
       "version_major": 2,
       "version_minor": 0
      },
      "text/plain": [
       "IntProgress(value=0, max=2)"
      ]
     },
     "metadata": {},
     "output_type": "display_data"
    },
    {
     "name": "stdout",
     "output_type": "stream",
     "text": [
      "Epoch 1/20\n",
      "368/368 [==============================] - 2s 3ms/step - loss: 0.4316 - mean_absolute_error: 0.2728 - val_loss: 0.2801 - val_mean_absolute_error: 0.2343\n",
      "Epoch 2/20\n",
      "368/368 [==============================] - 1s 3ms/step - loss: 0.1970 - mean_absolute_error: 0.1945 - val_loss: 0.2602 - val_mean_absolute_error: 0.2455\n",
      "Epoch 3/20\n",
      "368/368 [==============================] - 1s 3ms/step - loss: 0.1945 - mean_absolute_error: 0.1939 - val_loss: 0.2600 - val_mean_absolute_error: 0.2240\n",
      "Epoch 4/20\n",
      "368/368 [==============================] - 1s 3ms/step - loss: 0.1937 - mean_absolute_error: 0.1926 - val_loss: 0.2630 - val_mean_absolute_error: 0.2414\n",
      "Epoch 5/20\n",
      "368/368 [==============================] - 1s 3ms/step - loss: 0.1917 - mean_absolute_error: 0.1917 - val_loss: 0.2711 - val_mean_absolute_error: 0.2356\n",
      "***TRAIN***:\n",
      "correlation related to cluster centre: 0.90\n",
      "r2 score related to cluster centre: 0.80\n",
      "***VALIDATION***:\n",
      "correlation related to cluster centre: 0.92\n",
      "r2 score related to cluster centre: 0.84\n"
     ]
    },
    {
     "data": {
      "application/vnd.jupyter.widget-view+json": {
       "model_id": "ca1207bef56340b1b0dfdcca2b966c42",
       "version_major": 2,
       "version_minor": 0
      },
      "text/plain": [
       "IntProgress(value=0, max=2)"
      ]
     },
     "metadata": {},
     "output_type": "display_data"
    },
    {
     "name": "stdout",
     "output_type": "stream",
     "text": [
      "***VALIDATION***:\n",
      "average correlation: 0.92\n",
      "average r2: 0.83\n",
      "---do_investigations. cluster index : 18---\n"
     ]
    },
    {
     "data": {
      "application/vnd.jupyter.widget-view+json": {
       "model_id": "562420a40adf4f3c8a83d3c4793a44c4",
       "version_major": 2,
       "version_minor": 0
      },
      "text/plain": [
       "IntProgress(value=0, max=41)"
      ]
     },
     "metadata": {},
     "output_type": "display_data"
    },
    {
     "name": "stdout",
     "output_type": "stream",
     "text": [
      "Epoch 1/20\n",
      "368/368 [==============================] - 2s 3ms/step - loss: 0.2512 - mean_absolute_error: 0.3280 - val_loss: 0.2124 - val_mean_absolute_error: 0.2895\n",
      "Epoch 2/20\n",
      "368/368 [==============================] - 1s 2ms/step - loss: 0.2041 - mean_absolute_error: 0.2906 - val_loss: 0.2055 - val_mean_absolute_error: 0.2908\n",
      "Epoch 3/20\n",
      "368/368 [==============================] - 1s 3ms/step - loss: 0.2014 - mean_absolute_error: 0.2884 - val_loss: 0.2060 - val_mean_absolute_error: 0.2971\n",
      "Epoch 4/20\n",
      "368/368 [==============================] - 1s 3ms/step - loss: 0.2022 - mean_absolute_error: 0.2879 - val_loss: 0.2079 - val_mean_absolute_error: 0.2907\n",
      "***TRAIN***:\n",
      "correlation related to cluster centre: 0.89\n",
      "r2 score related to cluster centre: 0.79\n",
      "***VALIDATION***:\n",
      "correlation related to cluster centre: 0.90\n",
      "r2 score related to cluster centre: 0.80\n"
     ]
    },
    {
     "data": {
      "application/vnd.jupyter.widget-view+json": {
       "model_id": "b82da199e21d40e5832e87b3c79f1bcd",
       "version_major": 2,
       "version_minor": 0
      },
      "text/plain": [
       "IntProgress(value=0, max=41)"
      ]
     },
     "metadata": {},
     "output_type": "display_data"
    },
    {
     "name": "stdout",
     "output_type": "stream",
     "text": [
      "***VALIDATION***:\n",
      "average correlation: 0.90\n",
      "average r2: 0.80\n",
      "---do_investigations. cluster index : 19---\n"
     ]
    },
    {
     "data": {
      "application/vnd.jupyter.widget-view+json": {
       "model_id": "fa097c54f49f4765a814f7041845dfba",
       "version_major": 2,
       "version_minor": 0
      },
      "text/plain": [
       "IntProgress(value=0, max=40)"
      ]
     },
     "metadata": {},
     "output_type": "display_data"
    },
    {
     "name": "stdout",
     "output_type": "stream",
     "text": [
      "Epoch 1/20\n",
      "368/368 [==============================] - 2s 3ms/step - loss: 0.2519 - mean_absolute_error: 0.3088 - val_loss: 0.2468 - val_mean_absolute_error: 0.2777\n",
      "Epoch 2/20\n",
      "368/368 [==============================] - 1s 3ms/step - loss: 0.2106 - mean_absolute_error: 0.2766 - val_loss: 0.2446 - val_mean_absolute_error: 0.2737\n",
      "Epoch 3/20\n",
      "368/368 [==============================] - 1s 3ms/step - loss: 0.2065 - mean_absolute_error: 0.2730 - val_loss: 0.2417 - val_mean_absolute_error: 0.2817\n",
      "Epoch 4/20\n",
      "368/368 [==============================] - 1s 3ms/step - loss: 0.2079 - mean_absolute_error: 0.2733 - val_loss: 0.2446 - val_mean_absolute_error: 0.2911\n",
      "Epoch 5/20\n",
      "368/368 [==============================] - 1s 3ms/step - loss: 0.2046 - mean_absolute_error: 0.2723 - val_loss: 0.2414 - val_mean_absolute_error: 0.2894\n",
      "Epoch 6/20\n",
      "368/368 [==============================] - 1s 3ms/step - loss: 0.2052 - mean_absolute_error: 0.2724 - val_loss: 0.2415 - val_mean_absolute_error: 0.2838\n",
      "Epoch 7/20\n",
      "368/368 [==============================] - 1s 3ms/step - loss: 0.2068 - mean_absolute_error: 0.2735 - val_loss: 0.2474 - val_mean_absolute_error: 0.2797\n",
      "***TRAIN***:\n",
      "correlation related to cluster centre: 0.89\n",
      "r2 score related to cluster centre: 0.79\n",
      "***VALIDATION***:\n",
      "correlation related to cluster centre: 0.90\n",
      "r2 score related to cluster centre: 0.81\n"
     ]
    },
    {
     "data": {
      "application/vnd.jupyter.widget-view+json": {
       "model_id": "2418f636a82641a6a7965410413fef24",
       "version_major": 2,
       "version_minor": 0
      },
      "text/plain": [
       "IntProgress(value=0, max=40)"
      ]
     },
     "metadata": {},
     "output_type": "display_data"
    },
    {
     "name": "stdout",
     "output_type": "stream",
     "text": [
      "***VALIDATION***:\n",
      "average correlation: 0.90\n",
      "average r2: 0.81\n",
      "---do_investigations. cluster index : 20---\n"
     ]
    },
    {
     "data": {
      "application/vnd.jupyter.widget-view+json": {
       "model_id": "2934decc31c54b86a2bd953cf7a40c6a",
       "version_major": 2,
       "version_minor": 0
      },
      "text/plain": [
       "IntProgress(value=0, max=164)"
      ]
     },
     "metadata": {},
     "output_type": "display_data"
    },
    {
     "name": "stdout",
     "output_type": "stream",
     "text": [
      "Epoch 1/20\n",
      "368/368 [==============================] - 2s 3ms/step - loss: 0.2208 - mean_absolute_error: 0.3157 - val_loss: 0.1420 - val_mean_absolute_error: 0.2378\n",
      "Epoch 2/20\n",
      "368/368 [==============================] - 1s 3ms/step - loss: 0.1794 - mean_absolute_error: 0.2707 - val_loss: 0.1406 - val_mean_absolute_error: 0.2424\n",
      "Epoch 3/20\n",
      "368/368 [==============================] - 1s 3ms/step - loss: 0.1769 - mean_absolute_error: 0.2678 - val_loss: 0.1385 - val_mean_absolute_error: 0.2312\n",
      "Epoch 4/20\n",
      "368/368 [==============================] - 1s 3ms/step - loss: 0.1780 - mean_absolute_error: 0.2680 - val_loss: 0.1392 - val_mean_absolute_error: 0.2340\n",
      "Epoch 5/20\n",
      "368/368 [==============================] - 1s 2ms/step - loss: 0.1778 - mean_absolute_error: 0.2670 - val_loss: 0.1398 - val_mean_absolute_error: 0.2419\n",
      "***TRAIN***:\n",
      "correlation related to cluster centre: 0.91\n",
      "r2 score related to cluster centre: 0.83\n",
      "***VALIDATION***:\n",
      "correlation related to cluster centre: 0.92\n",
      "r2 score related to cluster centre: 0.85\n"
     ]
    },
    {
     "data": {
      "application/vnd.jupyter.widget-view+json": {
       "model_id": "a5ae1e0e1f224e2b996be57ec3306f94",
       "version_major": 2,
       "version_minor": 0
      },
      "text/plain": [
       "IntProgress(value=0, max=164)"
      ]
     },
     "metadata": {},
     "output_type": "display_data"
    },
    {
     "name": "stdout",
     "output_type": "stream",
     "text": [
      "***VALIDATION***:\n",
      "average correlation: 0.90\n",
      "average r2: 0.77\n",
      "weighted_average_correlation: 0.90\n",
      "weighted_average_r2_score: 0.77\n",
      "bad clusters rate: 0.53%\n"
     ]
    }
   ],
   "source": [
    "first_path = r\"C:\\Coding\\final-qualifying-work_2023-2024\\ClusteringCpp\\output\\kohonen 15 0.1 0.1.txt\"\n",
    "second_path = r\"C:\\Coding\\final-qualifying-work_2023-2024\\ClusteringCpp\\output\\kohonen 15 0.1 0.1 - 3 0.1 0.1.txt\"\n",
    "third_path = r\"C:\\Coding\\final-qualifying-work_2023-2024\\ClusteringCpp\\output\\kohonen 15 0.1 0.1 - 2 0.1 0.1.txt\"\n",
    "fourth_path = r\"C:\\Coding\\final-qualifying-work_2023-2024\\ClusteringCpp\\output\\kohonen 15 0.1 0.1 - 1 0.1 0.1.txt\"\n",
    "\n",
    "output_file = open(\"computational-experiments-output\", \"a\")\n",
    "\n",
    "selected_path = third_path\n",
    "\n",
    "print(f\"msd {os.path.split(selected_path)[-1]}\")\n",
    "output_file.write(f\"msd {os.path.split(selected_path)[-1]}\\n\")\n",
    "show_results(multi_step_dense_model, get_clusters(selected_path), CONV_WIDTH)\n",
    "\n",
    "output_file.close()"
   ]
  },
  {
   "cell_type": "code",
   "execution_count": 25,
   "id": "3e1b4b1b-1796-4859-8553-95169013d186",
   "metadata": {},
   "outputs": [
    {
     "name": "stdout",
     "output_type": "stream",
     "text": [
      "msd kohonen 15 0.1 0.1 - 1 0.1 0.1.txt\n",
      "---do_investigations. cluster index : 0---\n"
     ]
    },
    {
     "data": {
      "application/vnd.jupyter.widget-view+json": {
       "model_id": "7f6264ba1a2446d8882fb00c9d8824f2",
       "version_major": 2,
       "version_minor": 0
      },
      "text/plain": [
       "IntProgress(value=0, max=269)"
      ]
     },
     "metadata": {},
     "output_type": "display_data"
    },
    {
     "name": "stdout",
     "output_type": "stream",
     "text": [
      "Epoch 1/20\n",
      "368/368 [==============================] - 2s 3ms/step - loss: 0.2703 - mean_absolute_error: 0.3634 - val_loss: 0.1672 - val_mean_absolute_error: 0.2868\n",
      "Epoch 2/20\n",
      "368/368 [==============================] - 1s 2ms/step - loss: 0.1897 - mean_absolute_error: 0.3005 - val_loss: 0.1663 - val_mean_absolute_error: 0.2889\n",
      "Epoch 3/20\n",
      "368/368 [==============================] - 1s 2ms/step - loss: 0.1876 - mean_absolute_error: 0.2981 - val_loss: 0.1653 - val_mean_absolute_error: 0.2855\n",
      "Epoch 4/20\n",
      "368/368 [==============================] - 1s 2ms/step - loss: 0.1879 - mean_absolute_error: 0.2983 - val_loss: 0.1617 - val_mean_absolute_error: 0.2774\n",
      "Epoch 5/20\n",
      "368/368 [==============================] - 1s 2ms/step - loss: 0.1871 - mean_absolute_error: 0.2977 - val_loss: 0.1653 - val_mean_absolute_error: 0.2821\n",
      "Epoch 6/20\n",
      "368/368 [==============================] - 1s 3ms/step - loss: 0.1869 - mean_absolute_error: 0.2972 - val_loss: 0.1619 - val_mean_absolute_error: 0.2798\n",
      "***TRAIN***:\n",
      "correlation related to cluster centre: 0.90\n",
      "r2 score related to cluster centre: 0.81\n",
      "***VALIDATION***:\n",
      "correlation related to cluster centre: 0.91\n",
      "r2 score related to cluster centre: 0.83\n"
     ]
    },
    {
     "data": {
      "application/vnd.jupyter.widget-view+json": {
       "model_id": "03fc42dfb58744d4a26429fee10ad680",
       "version_major": 2,
       "version_minor": 0
      },
      "text/plain": [
       "IntProgress(value=0, max=269)"
      ]
     },
     "metadata": {},
     "output_type": "display_data"
    },
    {
     "name": "stdout",
     "output_type": "stream",
     "text": [
      "***VALIDATION***:\n",
      "average correlation: 0.91\n",
      "average r2: 0.76\n",
      "---do_investigations. cluster index : 1---\n"
     ]
    },
    {
     "data": {
      "application/vnd.jupyter.widget-view+json": {
       "model_id": "1124475cbc134e50a6e4d0c3ffa3e329",
       "version_major": 2,
       "version_minor": 0
      },
      "text/plain": [
       "IntProgress(value=0, max=161)"
      ]
     },
     "metadata": {},
     "output_type": "display_data"
    },
    {
     "name": "stdout",
     "output_type": "stream",
     "text": [
      "Epoch 1/20\n",
      "368/368 [==============================] - 2s 3ms/step - loss: 0.2288 - mean_absolute_error: 0.3338 - val_loss: 0.1558 - val_mean_absolute_error: 0.2752\n",
      "Epoch 2/20\n",
      "368/368 [==============================] - 1s 2ms/step - loss: 0.1949 - mean_absolute_error: 0.3042 - val_loss: 0.1539 - val_mean_absolute_error: 0.2751\n",
      "Epoch 3/20\n",
      "368/368 [==============================] - 1s 3ms/step - loss: 0.1945 - mean_absolute_error: 0.3034 - val_loss: 0.1532 - val_mean_absolute_error: 0.2763\n",
      "Epoch 4/20\n",
      "368/368 [==============================] - 1s 3ms/step - loss: 0.1937 - mean_absolute_error: 0.3028 - val_loss: 0.1557 - val_mean_absolute_error: 0.2782\n",
      "Epoch 5/20\n",
      "368/368 [==============================] - 1s 2ms/step - loss: 0.1937 - mean_absolute_error: 0.3027 - val_loss: 0.1543 - val_mean_absolute_error: 0.2760\n",
      "***TRAIN***:\n",
      "correlation related to cluster centre: 0.90\n",
      "r2 score related to cluster centre: 0.81\n",
      "***VALIDATION***:\n",
      "correlation related to cluster centre: 0.91\n",
      "r2 score related to cluster centre: 0.83\n"
     ]
    },
    {
     "data": {
      "application/vnd.jupyter.widget-view+json": {
       "model_id": "15774dc1f4dc4724b43cbc34c0bed5bb",
       "version_major": 2,
       "version_minor": 0
      },
      "text/plain": [
       "IntProgress(value=0, max=161)"
      ]
     },
     "metadata": {},
     "output_type": "display_data"
    },
    {
     "name": "stdout",
     "output_type": "stream",
     "text": [
      "***VALIDATION***:\n",
      "average correlation: 0.91\n",
      "average r2: 0.82\n",
      "---do_investigations. cluster index : 2---\n"
     ]
    },
    {
     "data": {
      "application/vnd.jupyter.widget-view+json": {
       "model_id": "69f4077705a8436aa2d845fd212f59ce",
       "version_major": 2,
       "version_minor": 0
      },
      "text/plain": [
       "IntProgress(value=0, max=653)"
      ]
     },
     "metadata": {},
     "output_type": "display_data"
    },
    {
     "name": "stdout",
     "output_type": "stream",
     "text": [
      "Epoch 1/20\n",
      "368/368 [==============================] - 2s 3ms/step - loss: 0.2610 - mean_absolute_error: 0.3573 - val_loss: 0.1904 - val_mean_absolute_error: 0.3113\n",
      "Epoch 2/20\n",
      "368/368 [==============================] - 1s 2ms/step - loss: 0.1985 - mean_absolute_error: 0.3124 - val_loss: 0.1887 - val_mean_absolute_error: 0.3097\n",
      "Epoch 3/20\n",
      "368/368 [==============================] - 1s 3ms/step - loss: 0.1981 - mean_absolute_error: 0.3118 - val_loss: 0.1875 - val_mean_absolute_error: 0.3052\n",
      "Epoch 4/20\n",
      "368/368 [==============================] - 1s 2ms/step - loss: 0.1978 - mean_absolute_error: 0.3112 - val_loss: 0.1904 - val_mean_absolute_error: 0.3151\n",
      "Epoch 5/20\n",
      "368/368 [==============================] - 1s 2ms/step - loss: 0.1977 - mean_absolute_error: 0.3110 - val_loss: 0.1890 - val_mean_absolute_error: 0.3091\n",
      "***TRAIN***:\n",
      "correlation related to cluster centre: 0.90\n",
      "r2 score related to cluster centre: 0.80\n",
      "***VALIDATION***:\n",
      "correlation related to cluster centre: 0.91\n",
      "r2 score related to cluster centre: 0.82\n"
     ]
    },
    {
     "data": {
      "application/vnd.jupyter.widget-view+json": {
       "model_id": "55a28c0c82db4291b063dda61618f56a",
       "version_major": 2,
       "version_minor": 0
      },
      "text/plain": [
       "IntProgress(value=0, max=653)"
      ]
     },
     "metadata": {},
     "output_type": "display_data"
    },
    {
     "name": "stdout",
     "output_type": "stream",
     "text": [
      "***VALIDATION***:\n",
      "average correlation: 0.91\n",
      "average r2: 0.67\n",
      "---do_investigations. cluster index : 3---\n"
     ]
    },
    {
     "data": {
      "application/vnd.jupyter.widget-view+json": {
       "model_id": "60cd0a5c818d4ddda4dce043832fdca0",
       "version_major": 2,
       "version_minor": 0
      },
      "text/plain": [
       "IntProgress(value=0, max=11)"
      ]
     },
     "metadata": {},
     "output_type": "display_data"
    },
    {
     "name": "stdout",
     "output_type": "stream",
     "text": [
      "Epoch 1/20\n",
      "368/368 [==============================] - 2s 3ms/step - loss: 0.2060 - mean_absolute_error: 0.3211 - val_loss: 0.1666 - val_mean_absolute_error: 0.2871\n",
      "Epoch 2/20\n",
      "368/368 [==============================] - 1s 3ms/step - loss: 0.1753 - mean_absolute_error: 0.2892 - val_loss: 0.1657 - val_mean_absolute_error: 0.2835\n",
      "Epoch 3/20\n",
      "368/368 [==============================] - 1s 2ms/step - loss: 0.1753 - mean_absolute_error: 0.2880 - val_loss: 0.1653 - val_mean_absolute_error: 0.2856\n",
      "Epoch 4/20\n",
      "368/368 [==============================] - 1s 2ms/step - loss: 0.1753 - mean_absolute_error: 0.2884 - val_loss: 0.1658 - val_mean_absolute_error: 0.2857\n",
      "Epoch 5/20\n",
      "368/368 [==============================] - 1s 2ms/step - loss: 0.1741 - mean_absolute_error: 0.2870 - val_loss: 0.1658 - val_mean_absolute_error: 0.2876\n",
      "***TRAIN***:\n",
      "correlation related to cluster centre: 0.91\n",
      "r2 score related to cluster centre: 0.83\n",
      "***VALIDATION***:\n",
      "correlation related to cluster centre: 0.91\n",
      "r2 score related to cluster centre: 0.83\n"
     ]
    },
    {
     "data": {
      "application/vnd.jupyter.widget-view+json": {
       "model_id": "96ad7531c2414a8bab9171ba5c9dfbd1",
       "version_major": 2,
       "version_minor": 0
      },
      "text/plain": [
       "IntProgress(value=0, max=11)"
      ]
     },
     "metadata": {},
     "output_type": "display_data"
    },
    {
     "name": "stdout",
     "output_type": "stream",
     "text": [
      "***VALIDATION***:\n",
      "average correlation: 0.91\n",
      "average r2: 0.83\n",
      "---do_investigations. cluster index : 4---\n"
     ]
    },
    {
     "data": {
      "application/vnd.jupyter.widget-view+json": {
       "model_id": "4967c0b0b0da4ad4a731497d28752c9c",
       "version_major": 2,
       "version_minor": 0
      },
      "text/plain": [
       "IntProgress(value=0, max=314)"
      ]
     },
     "metadata": {},
     "output_type": "display_data"
    },
    {
     "name": "stdout",
     "output_type": "stream",
     "text": [
      "Epoch 1/20\n",
      "368/368 [==============================] - 2s 3ms/step - loss: 0.2483 - mean_absolute_error: 0.3220 - val_loss: 0.1958 - val_mean_absolute_error: 0.2795\n",
      "Epoch 2/20\n",
      "368/368 [==============================] - 1s 3ms/step - loss: 0.2065 - mean_absolute_error: 0.2904 - val_loss: 0.1992 - val_mean_absolute_error: 0.2706\n",
      "Epoch 3/20\n",
      "368/368 [==============================] - 1s 3ms/step - loss: 0.2044 - mean_absolute_error: 0.2886 - val_loss: 0.1923 - val_mean_absolute_error: 0.2746\n",
      "Epoch 4/20\n",
      "368/368 [==============================] - 1s 3ms/step - loss: 0.2055 - mean_absolute_error: 0.2905 - val_loss: 0.1925 - val_mean_absolute_error: 0.2746\n",
      "Epoch 5/20\n",
      "368/368 [==============================] - 1s 2ms/step - loss: 0.2042 - mean_absolute_error: 0.2887 - val_loss: 0.1916 - val_mean_absolute_error: 0.2769\n",
      "Epoch 6/20\n",
      "368/368 [==============================] - 1s 3ms/step - loss: 0.2048 - mean_absolute_error: 0.2884 - val_loss: 0.1921 - val_mean_absolute_error: 0.2762\n",
      "Epoch 7/20\n",
      "368/368 [==============================] - 1s 3ms/step - loss: 0.2038 - mean_absolute_error: 0.2880 - val_loss: 0.1911 - val_mean_absolute_error: 0.2782\n",
      "Epoch 8/20\n",
      "368/368 [==============================] - 1s 2ms/step - loss: 0.2046 - mean_absolute_error: 0.2880 - val_loss: 0.1919 - val_mean_absolute_error: 0.2722\n",
      "Epoch 9/20\n",
      "368/368 [==============================] - 1s 3ms/step - loss: 0.2040 - mean_absolute_error: 0.2880 - val_loss: 0.1921 - val_mean_absolute_error: 0.2721\n",
      "***TRAIN***:\n",
      "correlation related to cluster centre: 0.89\n",
      "r2 score related to cluster centre: 0.80\n",
      "***VALIDATION***:\n",
      "correlation related to cluster centre: 0.91\n",
      "r2 score related to cluster centre: 0.82\n"
     ]
    },
    {
     "data": {
      "application/vnd.jupyter.widget-view+json": {
       "model_id": "c25f07a523ba48a382bf10d7ddb57b9d",
       "version_major": 2,
       "version_minor": 0
      },
      "text/plain": [
       "IntProgress(value=0, max=314)"
      ]
     },
     "metadata": {},
     "output_type": "display_data"
    },
    {
     "name": "stdout",
     "output_type": "stream",
     "text": [
      "***VALIDATION***:\n",
      "average correlation: 0.90\n",
      "average r2: 0.81\n",
      "---do_investigations. cluster index : 5---\n"
     ]
    },
    {
     "data": {
      "application/vnd.jupyter.widget-view+json": {
       "model_id": "54eb2862949343e3b5105683aff0bfc9",
       "version_major": 2,
       "version_minor": 0
      },
      "text/plain": [
       "IntProgress(value=0, max=168)"
      ]
     },
     "metadata": {},
     "output_type": "display_data"
    },
    {
     "name": "stdout",
     "output_type": "stream",
     "text": [
      "Epoch 1/20\n",
      "368/368 [==============================] - 2s 3ms/step - loss: 0.2649 - mean_absolute_error: 0.3503 - val_loss: 0.1803 - val_mean_absolute_error: 0.2864\n",
      "Epoch 2/20\n",
      "368/368 [==============================] - 1s 2ms/step - loss: 0.2107 - mean_absolute_error: 0.3034 - val_loss: 0.1724 - val_mean_absolute_error: 0.2786\n",
      "Epoch 3/20\n",
      "368/368 [==============================] - 1s 2ms/step - loss: 0.2086 - mean_absolute_error: 0.3023 - val_loss: 0.1876 - val_mean_absolute_error: 0.2932\n",
      "Epoch 4/20\n",
      "368/368 [==============================] - 1s 2ms/step - loss: 0.2100 - mean_absolute_error: 0.3029 - val_loss: 0.1731 - val_mean_absolute_error: 0.2747\n",
      "***TRAIN***:\n",
      "correlation related to cluster centre: 0.89\n",
      "r2 score related to cluster centre: 0.79\n",
      "***VALIDATION***:\n",
      "correlation related to cluster centre: 0.91\n",
      "r2 score related to cluster centre: 0.82\n"
     ]
    },
    {
     "data": {
      "application/vnd.jupyter.widget-view+json": {
       "model_id": "221f930bdf9c44b3b73f3e408ebf4586",
       "version_major": 2,
       "version_minor": 0
      },
      "text/plain": [
       "IntProgress(value=0, max=168)"
      ]
     },
     "metadata": {},
     "output_type": "display_data"
    },
    {
     "name": "stdout",
     "output_type": "stream",
     "text": [
      "***VALIDATION***:\n",
      "average correlation: 0.90\n",
      "average r2: 0.81\n",
      "---do_investigations. cluster index : 6---\n"
     ]
    },
    {
     "data": {
      "application/vnd.jupyter.widget-view+json": {
       "model_id": "eb7e08c7fbf941ada9feb0f7965e0944",
       "version_major": 2,
       "version_minor": 0
      },
      "text/plain": [
       "IntProgress(value=0, max=93)"
      ]
     },
     "metadata": {},
     "output_type": "display_data"
    },
    {
     "name": "stdout",
     "output_type": "stream",
     "text": [
      "Epoch 1/20\n",
      "368/368 [==============================] - 2s 3ms/step - loss: 0.2695 - mean_absolute_error: 0.3522 - val_loss: 0.1436 - val_mean_absolute_error: 0.2671\n",
      "Epoch 2/20\n",
      "368/368 [==============================] - 1s 2ms/step - loss: 0.2071 - mean_absolute_error: 0.3103 - val_loss: 0.1435 - val_mean_absolute_error: 0.2694\n",
      "Epoch 3/20\n",
      "368/368 [==============================] - 1s 3ms/step - loss: 0.2048 - mean_absolute_error: 0.3076 - val_loss: 0.1425 - val_mean_absolute_error: 0.2640\n",
      "Epoch 4/20\n",
      "368/368 [==============================] - 1s 2ms/step - loss: 0.2047 - mean_absolute_error: 0.3075 - val_loss: 0.1413 - val_mean_absolute_error: 0.2633\n",
      "Epoch 5/20\n",
      "368/368 [==============================] - 1s 2ms/step - loss: 0.2041 - mean_absolute_error: 0.3065 - val_loss: 0.1416 - val_mean_absolute_error: 0.2653\n",
      "Epoch 6/20\n",
      "368/368 [==============================] - 1s 2ms/step - loss: 0.2039 - mean_absolute_error: 0.3068 - val_loss: 0.1417 - val_mean_absolute_error: 0.2674\n",
      "***TRAIN***:\n",
      "correlation related to cluster centre: 0.89\n",
      "r2 score related to cluster centre: 0.80\n",
      "***VALIDATION***:\n",
      "correlation related to cluster centre: 0.91\n",
      "r2 score related to cluster centre: 0.82\n"
     ]
    },
    {
     "data": {
      "application/vnd.jupyter.widget-view+json": {
       "model_id": "b7b8e56af18b491ca5fd7a24c8fd01aa",
       "version_major": 2,
       "version_minor": 0
      },
      "text/plain": [
       "IntProgress(value=0, max=93)"
      ]
     },
     "metadata": {},
     "output_type": "display_data"
    },
    {
     "name": "stdout",
     "output_type": "stream",
     "text": [
      "***VALIDATION***:\n",
      "average correlation: 0.91\n",
      "average r2: 0.82\n",
      "---do_investigations. cluster index : 7---\n"
     ]
    },
    {
     "data": {
      "application/vnd.jupyter.widget-view+json": {
       "model_id": "c8e61841f929440fa9405af2b83a38fd",
       "version_major": 2,
       "version_minor": 0
      },
      "text/plain": [
       "IntProgress(value=0, max=4)"
      ]
     },
     "metadata": {},
     "output_type": "display_data"
    },
    {
     "name": "stdout",
     "output_type": "stream",
     "text": [
      "Epoch 1/20\n",
      "368/368 [==============================] - 2s 3ms/step - loss: 0.2793 - mean_absolute_error: 0.2795 - val_loss: 0.0228 - val_mean_absolute_error: 0.0985\n",
      "Epoch 2/20\n",
      "368/368 [==============================] - 1s 2ms/step - loss: 0.2397 - mean_absolute_error: 0.2572 - val_loss: 0.0230 - val_mean_absolute_error: 0.0951\n",
      "Epoch 3/20\n",
      "368/368 [==============================] - 1s 2ms/step - loss: 0.2388 - mean_absolute_error: 0.2564 - val_loss: 0.0235 - val_mean_absolute_error: 0.1051\n",
      "***TRAIN***:\n",
      "correlation related to cluster centre: 0.88\n",
      "r2 score related to cluster centre: 0.77\n",
      "***VALIDATION***:\n",
      "correlation related to cluster centre: 0.90\n",
      "r2 score related to cluster centre: 0.81\n"
     ]
    },
    {
     "data": {
      "application/vnd.jupyter.widget-view+json": {
       "model_id": "537d1c84cc374357ad4b945d9a750cb1",
       "version_major": 2,
       "version_minor": 0
      },
      "text/plain": [
       "IntProgress(value=0, max=4)"
      ]
     },
     "metadata": {},
     "output_type": "display_data"
    },
    {
     "name": "stdout",
     "output_type": "stream",
     "text": [
      "***VALIDATION***:\n",
      "average correlation: 0.91\n",
      "average r2: 0.48\n",
      "---do_investigations. cluster index : 8---\n"
     ]
    },
    {
     "data": {
      "application/vnd.jupyter.widget-view+json": {
       "model_id": "8c2031954d6447edb94d81c0d248e50e",
       "version_major": 2,
       "version_minor": 0
      },
      "text/plain": [
       "IntProgress(value=0, max=21)"
      ]
     },
     "metadata": {},
     "output_type": "display_data"
    },
    {
     "name": "stdout",
     "output_type": "stream",
     "text": [
      "Epoch 1/20\n",
      "368/368 [==============================] - 2s 3ms/step - loss: 0.2844 - mean_absolute_error: 0.3754 - val_loss: 0.1421 - val_mean_absolute_error: 0.2647\n",
      "Epoch 2/20\n",
      "368/368 [==============================] - 1s 2ms/step - loss: 0.2176 - mean_absolute_error: 0.3124 - val_loss: 0.1456 - val_mean_absolute_error: 0.2729\n",
      "Epoch 3/20\n",
      "368/368 [==============================] - 1s 3ms/step - loss: 0.2158 - mean_absolute_error: 0.3103 - val_loss: 0.1376 - val_mean_absolute_error: 0.2506\n",
      "Epoch 4/20\n",
      "368/368 [==============================] - 1s 2ms/step - loss: 0.2153 - mean_absolute_error: 0.3090 - val_loss: 0.1378 - val_mean_absolute_error: 0.2515\n",
      "Epoch 5/20\n",
      "368/368 [==============================] - 1s 2ms/step - loss: 0.2140 - mean_absolute_error: 0.3083 - val_loss: 0.1383 - val_mean_absolute_error: 0.2474\n",
      "***TRAIN***:\n",
      "correlation related to cluster centre: 0.89\n",
      "r2 score related to cluster centre: 0.79\n",
      "***VALIDATION***:\n",
      "correlation related to cluster centre: 0.91\n",
      "r2 score related to cluster centre: 0.82\n"
     ]
    },
    {
     "data": {
      "application/vnd.jupyter.widget-view+json": {
       "model_id": "fe14fc889aae4b3188a7f2772308746e",
       "version_major": 2,
       "version_minor": 0
      },
      "text/plain": [
       "IntProgress(value=0, max=21)"
      ]
     },
     "metadata": {},
     "output_type": "display_data"
    },
    {
     "name": "stdout",
     "output_type": "stream",
     "text": [
      "***VALIDATION***:\n",
      "average correlation: 0.90\n",
      "average r2: 0.81\n",
      "---do_investigations. cluster index : 9---\n"
     ]
    },
    {
     "data": {
      "application/vnd.jupyter.widget-view+json": {
       "model_id": "9b31a3ab14244c598446f5583522682c",
       "version_major": 2,
       "version_minor": 0
      },
      "text/plain": [
       "IntProgress(value=0, max=1171)"
      ]
     },
     "metadata": {},
     "output_type": "display_data"
    },
    {
     "name": "stdout",
     "output_type": "stream",
     "text": [
      "Epoch 1/20\n",
      "368/368 [==============================] - 2s 3ms/step - loss: 0.1002 - mean_absolute_error: 0.1920 - val_loss: 0.0509 - val_mean_absolute_error: 0.1174\n",
      "Epoch 2/20\n",
      "368/368 [==============================] - 1s 2ms/step - loss: 0.0409 - mean_absolute_error: 0.1213 - val_loss: 0.0493 - val_mean_absolute_error: 0.1141\n",
      "Epoch 3/20\n",
      "368/368 [==============================] - 1s 2ms/step - loss: 0.0405 - mean_absolute_error: 0.1205 - val_loss: 0.0490 - val_mean_absolute_error: 0.1120\n",
      "Epoch 4/20\n",
      "368/368 [==============================] - 1s 2ms/step - loss: 0.0404 - mean_absolute_error: 0.1202 - val_loss: 0.0488 - val_mean_absolute_error: 0.1116\n",
      "Epoch 5/20\n",
      "368/368 [==============================] - 1s 3ms/step - loss: 0.0405 - mean_absolute_error: 0.1210 - val_loss: 0.0488 - val_mean_absolute_error: 0.1117\n",
      "Epoch 6/20\n",
      "368/368 [==============================] - 1s 2ms/step - loss: 0.0404 - mean_absolute_error: 0.1202 - val_loss: 0.0491 - val_mean_absolute_error: 0.1153\n",
      "Epoch 7/20\n",
      "368/368 [==============================] - 1s 2ms/step - loss: 0.0405 - mean_absolute_error: 0.1218 - val_loss: 0.0496 - val_mean_absolute_error: 0.1179\n",
      "***TRAIN***:\n",
      "correlation related to cluster centre: 0.98\n",
      "r2 score related to cluster centre: 0.96\n",
      "***VALIDATION***:\n",
      "correlation related to cluster centre: 0.95\n",
      "r2 score related to cluster centre: 0.89\n"
     ]
    },
    {
     "data": {
      "application/vnd.jupyter.widget-view+json": {
       "model_id": "8636ea94de334f37b8356d6b596894b3",
       "version_major": 2,
       "version_minor": 0
      },
      "text/plain": [
       "IntProgress(value=0, max=1171)"
      ]
     },
     "metadata": {},
     "output_type": "display_data"
    },
    {
     "name": "stdout",
     "output_type": "stream",
     "text": [
      "***VALIDATION***:\n",
      "average correlation: nan\n",
      "average r2: -29713380417513724655435776.00\n",
      "---do_investigations. cluster index : 10---\n"
     ]
    },
    {
     "data": {
      "application/vnd.jupyter.widget-view+json": {
       "model_id": "4b52791481544e168b32afd7b137c36e",
       "version_major": 2,
       "version_minor": 0
      },
      "text/plain": [
       "IntProgress(value=0, max=2569)"
      ]
     },
     "metadata": {},
     "output_type": "display_data"
    },
    {
     "name": "stdout",
     "output_type": "stream",
     "text": [
      "Epoch 1/20\n",
      "368/368 [==============================] - 2s 3ms/step - loss: 0.1138 - mean_absolute_error: 0.2038 - val_loss: 0.0637 - val_mean_absolute_error: 0.1315\n",
      "Epoch 2/20\n",
      "368/368 [==============================] - 1s 2ms/step - loss: 0.0607 - mean_absolute_error: 0.1507 - val_loss: 0.0616 - val_mean_absolute_error: 0.1264\n",
      "Epoch 3/20\n",
      "368/368 [==============================] - 1s 2ms/step - loss: 0.0598 - mean_absolute_error: 0.1500 - val_loss: 0.0630 - val_mean_absolute_error: 0.1333\n",
      "Epoch 4/20\n",
      "368/368 [==============================] - 1s 3ms/step - loss: 0.0595 - mean_absolute_error: 0.1481 - val_loss: 0.0657 - val_mean_absolute_error: 0.1431\n",
      "***TRAIN***:\n",
      "correlation related to cluster centre: 0.97\n",
      "r2 score related to cluster centre: 0.94\n",
      "***VALIDATION***:\n",
      "correlation related to cluster centre: 0.94\n",
      "r2 score related to cluster centre: 0.87\n"
     ]
    },
    {
     "data": {
      "application/vnd.jupyter.widget-view+json": {
       "model_id": "b295fd3842454f71b4db8d9552bac191",
       "version_major": 2,
       "version_minor": 0
      },
      "text/plain": [
       "IntProgress(value=0, max=2569)"
      ]
     },
     "metadata": {},
     "output_type": "display_data"
    },
    {
     "name": "stdout",
     "output_type": "stream",
     "text": [
      "***VALIDATION***:\n",
      "average correlation: nan\n",
      "average r2: -11685879012078389213265920.00\n",
      "---do_investigations. cluster index : 11---\n"
     ]
    },
    {
     "data": {
      "application/vnd.jupyter.widget-view+json": {
       "model_id": "42459c5d90824552b8da0574d8dbf77d",
       "version_major": 2,
       "version_minor": 0
      },
      "text/plain": [
       "IntProgress(value=0, max=47)"
      ]
     },
     "metadata": {},
     "output_type": "display_data"
    },
    {
     "name": "stdout",
     "output_type": "stream",
     "text": [
      "Epoch 1/20\n",
      "368/368 [==============================] - 2s 3ms/step - loss: 0.2518 - mean_absolute_error: 0.3471 - val_loss: 0.1831 - val_mean_absolute_error: 0.2726\n",
      "Epoch 2/20\n",
      "368/368 [==============================] - 1s 2ms/step - loss: 0.2041 - mean_absolute_error: 0.3049 - val_loss: 0.1786 - val_mean_absolute_error: 0.2715\n",
      "Epoch 3/20\n",
      "368/368 [==============================] - 1s 2ms/step - loss: 0.2010 - mean_absolute_error: 0.3029 - val_loss: 0.1800 - val_mean_absolute_error: 0.2715\n",
      "Epoch 4/20\n",
      "368/368 [==============================] - 1s 2ms/step - loss: 0.2001 - mean_absolute_error: 0.3018 - val_loss: 0.1776 - val_mean_absolute_error: 0.2708\n",
      "Epoch 5/20\n",
      "368/368 [==============================] - 1s 3ms/step - loss: 0.1996 - mean_absolute_error: 0.3013 - val_loss: 0.1780 - val_mean_absolute_error: 0.2671\n",
      "Epoch 6/20\n",
      "368/368 [==============================] - 1s 2ms/step - loss: 0.1994 - mean_absolute_error: 0.3009 - val_loss: 0.1786 - val_mean_absolute_error: 0.2688\n",
      "***TRAIN***:\n",
      "correlation related to cluster centre: 0.90\n",
      "r2 score related to cluster centre: 0.80\n",
      "***VALIDATION***:\n",
      "correlation related to cluster centre: 0.90\n",
      "r2 score related to cluster centre: 0.82\n"
     ]
    },
    {
     "data": {
      "application/vnd.jupyter.widget-view+json": {
       "model_id": "5cd57c3dd54c4dd8ab69462776bad81b",
       "version_major": 2,
       "version_minor": 0
      },
      "text/plain": [
       "IntProgress(value=0, max=47)"
      ]
     },
     "metadata": {},
     "output_type": "display_data"
    },
    {
     "name": "stdout",
     "output_type": "stream",
     "text": [
      "***VALIDATION***:\n",
      "average correlation: 0.90\n",
      "average r2: 0.81\n",
      "---do_investigations. cluster index : 12---\n"
     ]
    },
    {
     "data": {
      "application/vnd.jupyter.widget-view+json": {
       "model_id": "fdc2cc13b1fa4c0e9b2af57789f9db97",
       "version_major": 2,
       "version_minor": 0
      },
      "text/plain": [
       "IntProgress(value=0, max=124)"
      ]
     },
     "metadata": {},
     "output_type": "display_data"
    },
    {
     "name": "stdout",
     "output_type": "stream",
     "text": [
      "Epoch 1/20\n",
      "368/368 [==============================] - 2s 3ms/step - loss: 0.2596 - mean_absolute_error: 0.3007 - val_loss: 0.2753 - val_mean_absolute_error: 0.2798\n",
      "Epoch 2/20\n",
      "368/368 [==============================] - 1s 2ms/step - loss: 0.2093 - mean_absolute_error: 0.2728 - val_loss: 0.2730 - val_mean_absolute_error: 0.2754\n",
      "Epoch 3/20\n",
      "368/368 [==============================] - 1s 3ms/step - loss: 0.2069 - mean_absolute_error: 0.2710 - val_loss: 0.2687 - val_mean_absolute_error: 0.2753\n",
      "Epoch 4/20\n",
      "368/368 [==============================] - 1s 2ms/step - loss: 0.2053 - mean_absolute_error: 0.2688 - val_loss: 0.2663 - val_mean_absolute_error: 0.2732\n",
      "Epoch 5/20\n",
      "368/368 [==============================] - 1s 2ms/step - loss: 0.2054 - mean_absolute_error: 0.2685 - val_loss: 0.2823 - val_mean_absolute_error: 0.2810\n",
      "Epoch 6/20\n",
      "368/368 [==============================] - 1s 2ms/step - loss: 0.2052 - mean_absolute_error: 0.2681 - val_loss: 0.2667 - val_mean_absolute_error: 0.2766\n",
      "***TRAIN***:\n",
      "correlation related to cluster centre: 0.89\n",
      "r2 score related to cluster centre: 0.80\n",
      "***VALIDATION***:\n",
      "correlation related to cluster centre: 0.90\n",
      "r2 score related to cluster centre: 0.80\n"
     ]
    },
    {
     "data": {
      "application/vnd.jupyter.widget-view+json": {
       "model_id": "f93f7070f12048ae89010abd6ee1bb31",
       "version_major": 2,
       "version_minor": 0
      },
      "text/plain": [
       "IntProgress(value=0, max=124)"
      ]
     },
     "metadata": {},
     "output_type": "display_data"
    },
    {
     "name": "stdout",
     "output_type": "stream",
     "text": [
      "***VALIDATION***:\n",
      "average correlation: 0.90\n",
      "average r2: 0.80\n",
      "---do_investigations. cluster index : 13---\n"
     ]
    },
    {
     "data": {
      "application/vnd.jupyter.widget-view+json": {
       "model_id": "7f2430527e204ec3bb6e1afc8394098b",
       "version_major": 2,
       "version_minor": 0
      },
      "text/plain": [
       "IntProgress(value=0, max=19)"
      ]
     },
     "metadata": {},
     "output_type": "display_data"
    },
    {
     "name": "stdout",
     "output_type": "stream",
     "text": [
      "Epoch 1/20\n",
      "368/368 [==============================] - 2s 3ms/step - loss: 0.2483 - mean_absolute_error: 0.3063 - val_loss: 0.2579 - val_mean_absolute_error: 0.2784\n",
      "Epoch 2/20\n",
      "368/368 [==============================] - 1s 3ms/step - loss: 0.2095 - mean_absolute_error: 0.2720 - val_loss: 0.2614 - val_mean_absolute_error: 0.2814\n",
      "Epoch 3/20\n",
      "368/368 [==============================] - 1s 2ms/step - loss: 0.2062 - mean_absolute_error: 0.2693 - val_loss: 0.2543 - val_mean_absolute_error: 0.2725\n",
      "Epoch 4/20\n",
      "368/368 [==============================] - 1s 2ms/step - loss: 0.2064 - mean_absolute_error: 0.2686 - val_loss: 0.2485 - val_mean_absolute_error: 0.2723\n",
      "Epoch 5/20\n",
      "368/368 [==============================] - 1s 2ms/step - loss: 0.2077 - mean_absolute_error: 0.2695 - val_loss: 0.2570 - val_mean_absolute_error: 0.2726\n",
      "Epoch 6/20\n",
      "368/368 [==============================] - 1s 2ms/step - loss: 0.2071 - mean_absolute_error: 0.2687 - val_loss: 0.2501 - val_mean_absolute_error: 0.2707\n",
      "***TRAIN***:\n",
      "correlation related to cluster centre: 0.89\n",
      "r2 score related to cluster centre: 0.80\n",
      "***VALIDATION***:\n",
      "correlation related to cluster centre: 0.90\n",
      "r2 score related to cluster centre: 0.80\n"
     ]
    },
    {
     "data": {
      "application/vnd.jupyter.widget-view+json": {
       "model_id": "e09c38e654c945d887dc8ad01f4c749e",
       "version_major": 2,
       "version_minor": 0
      },
      "text/plain": [
       "IntProgress(value=0, max=19)"
      ]
     },
     "metadata": {},
     "output_type": "display_data"
    },
    {
     "name": "stdout",
     "output_type": "stream",
     "text": [
      "***VALIDATION***:\n",
      "average correlation: 0.90\n",
      "average r2: 0.81\n",
      "---do_investigations. cluster index : 14---\n"
     ]
    },
    {
     "data": {
      "application/vnd.jupyter.widget-view+json": {
       "model_id": "6bff5ff4676c4069817df0014c4f9b42",
       "version_major": 2,
       "version_minor": 0
      },
      "text/plain": [
       "IntProgress(value=0, max=217)"
      ]
     },
     "metadata": {},
     "output_type": "display_data"
    },
    {
     "name": "stdout",
     "output_type": "stream",
     "text": [
      "Epoch 1/20\n",
      "368/368 [==============================] - 2s 3ms/step - loss: 0.1656 - mean_absolute_error: 0.2552 - val_loss: 0.0956 - val_mean_absolute_error: 0.1828\n",
      "Epoch 2/20\n",
      "368/368 [==============================] - 1s 2ms/step - loss: 0.1281 - mean_absolute_error: 0.2198 - val_loss: 0.0946 - val_mean_absolute_error: 0.1861\n",
      "Epoch 3/20\n",
      "368/368 [==============================] - 1s 2ms/step - loss: 0.1274 - mean_absolute_error: 0.2204 - val_loss: 0.0952 - val_mean_absolute_error: 0.1921\n",
      "Epoch 4/20\n",
      "368/368 [==============================] - 1s 2ms/step - loss: 0.1271 - mean_absolute_error: 0.2200 - val_loss: 0.0943 - val_mean_absolute_error: 0.1818\n",
      "Epoch 5/20\n",
      "368/368 [==============================] - 1s 2ms/step - loss: 0.1269 - mean_absolute_error: 0.2207 - val_loss: 0.0947 - val_mean_absolute_error: 0.1900\n",
      "Epoch 6/20\n",
      "368/368 [==============================] - 1s 2ms/step - loss: 0.1266 - mean_absolute_error: 0.2190 - val_loss: 0.0943 - val_mean_absolute_error: 0.1870\n",
      "***TRAIN***:\n",
      "correlation related to cluster centre: 0.94\n",
      "r2 score related to cluster centre: 0.87\n",
      "***VALIDATION***:\n",
      "correlation related to cluster centre: 0.94\n",
      "r2 score related to cluster centre: 0.88\n"
     ]
    },
    {
     "data": {
      "application/vnd.jupyter.widget-view+json": {
       "model_id": "c06ec8e335254003a11ac52ca76bc8fe",
       "version_major": 2,
       "version_minor": 0
      },
      "text/plain": [
       "IntProgress(value=0, max=217)"
      ]
     },
     "metadata": {},
     "output_type": "display_data"
    },
    {
     "name": "stdout",
     "output_type": "stream",
     "text": [
      "***VALIDATION***:\n",
      "average correlation: 0.89\n",
      "average r2: 0.75\n",
      "---do_investigations. cluster index : 15---\n"
     ]
    },
    {
     "data": {
      "application/vnd.jupyter.widget-view+json": {
       "model_id": "b46368b5b1b34011ba804d06e05a33e7",
       "version_major": 2,
       "version_minor": 0
      },
      "text/plain": [
       "IntProgress(value=0, max=47)"
      ]
     },
     "metadata": {},
     "output_type": "display_data"
    },
    {
     "name": "stdout",
     "output_type": "stream",
     "text": [
      "Epoch 1/20\n",
      "368/368 [==============================] - 2s 3ms/step - loss: 0.2355 - mean_absolute_error: 0.3325 - val_loss: 0.1700 - val_mean_absolute_error: 0.2709\n",
      "Epoch 2/20\n",
      "368/368 [==============================] - 1s 3ms/step - loss: 0.2028 - mean_absolute_error: 0.3035 - val_loss: 0.1682 - val_mean_absolute_error: 0.2716\n",
      "Epoch 3/20\n",
      "368/368 [==============================] - 1s 3ms/step - loss: 0.2030 - mean_absolute_error: 0.3033 - val_loss: 0.1664 - val_mean_absolute_error: 0.2655\n",
      "Epoch 4/20\n",
      "368/368 [==============================] - 1s 3ms/step - loss: 0.2005 - mean_absolute_error: 0.3011 - val_loss: 0.1668 - val_mean_absolute_error: 0.2705\n",
      "Epoch 5/20\n",
      "368/368 [==============================] - 1s 3ms/step - loss: 0.2009 - mean_absolute_error: 0.3017 - val_loss: 0.1640 - val_mean_absolute_error: 0.2654\n",
      "Epoch 6/20\n",
      "368/368 [==============================] - 1s 3ms/step - loss: 0.1999 - mean_absolute_error: 0.3008 - val_loss: 0.1669 - val_mean_absolute_error: 0.2642\n",
      "Epoch 7/20\n",
      "368/368 [==============================] - 1s 3ms/step - loss: 0.2001 - mean_absolute_error: 0.3006 - val_loss: 0.1644 - val_mean_absolute_error: 0.2670\n",
      "***TRAIN***:\n",
      "correlation related to cluster centre: 0.90\n",
      "r2 score related to cluster centre: 0.80\n",
      "***VALIDATION***:\n",
      "correlation related to cluster centre: 0.90\n",
      "r2 score related to cluster centre: 0.82\n"
     ]
    },
    {
     "data": {
      "application/vnd.jupyter.widget-view+json": {
       "model_id": "2b473f0b5a594c5aa1562451f628491f",
       "version_major": 2,
       "version_minor": 0
      },
      "text/plain": [
       "IntProgress(value=0, max=47)"
      ]
     },
     "metadata": {},
     "output_type": "display_data"
    },
    {
     "name": "stdout",
     "output_type": "stream",
     "text": [
      "***VALIDATION***:\n",
      "average correlation: 0.90\n",
      "average r2: 0.81\n",
      "---do_investigations. cluster index : 16---\n"
     ]
    },
    {
     "data": {
      "application/vnd.jupyter.widget-view+json": {
       "model_id": "dcdcb4a595e1436b8fe82c6b52cd480e",
       "version_major": 2,
       "version_minor": 0
      },
      "text/plain": [
       "IntProgress(value=0, max=385)"
      ]
     },
     "metadata": {},
     "output_type": "display_data"
    },
    {
     "name": "stdout",
     "output_type": "stream",
     "text": [
      "Epoch 1/20\n",
      "368/368 [==============================] - 2s 3ms/step - loss: 0.1208 - mean_absolute_error: 0.1512 - val_loss: 0.0244 - val_mean_absolute_error: 0.0785\n",
      "Epoch 2/20\n",
      "368/368 [==============================] - 1s 3ms/step - loss: 0.0118 - mean_absolute_error: 0.0552 - val_loss: 0.0218 - val_mean_absolute_error: 0.0777\n",
      "Epoch 3/20\n",
      "368/368 [==============================] - 1s 3ms/step - loss: 0.0112 - mean_absolute_error: 0.0541 - val_loss: 0.0217 - val_mean_absolute_error: 0.0826\n",
      "Epoch 4/20\n",
      "368/368 [==============================] - 1s 3ms/step - loss: 0.0109 - mean_absolute_error: 0.0532 - val_loss: 0.0201 - val_mean_absolute_error: 0.0742\n",
      "Epoch 5/20\n",
      "368/368 [==============================] - 1s 3ms/step - loss: 0.0108 - mean_absolute_error: 0.0534 - val_loss: 0.0196 - val_mean_absolute_error: 0.0715\n",
      "Epoch 6/20\n",
      "368/368 [==============================] - 1s 3ms/step - loss: 0.0107 - mean_absolute_error: 0.0528 - val_loss: 0.0212 - val_mean_absolute_error: 0.0834\n",
      "Epoch 7/20\n",
      "368/368 [==============================] - 1s 3ms/step - loss: 0.0107 - mean_absolute_error: 0.0529 - val_loss: 0.0246 - val_mean_absolute_error: 0.1014\n",
      "***TRAIN***:\n",
      "correlation related to cluster centre: 0.99\n",
      "r2 score related to cluster centre: 0.99\n",
      "***VALIDATION***:\n",
      "correlation related to cluster centre: 0.98\n",
      "r2 score related to cluster centre: 0.94\n"
     ]
    },
    {
     "data": {
      "application/vnd.jupyter.widget-view+json": {
       "model_id": "b7a51619711149b3b80d6ecdd8ad1490",
       "version_major": 2,
       "version_minor": 0
      },
      "text/plain": [
       "IntProgress(value=0, max=385)"
      ]
     },
     "metadata": {},
     "output_type": "display_data"
    },
    {
     "name": "stdout",
     "output_type": "stream",
     "text": [
      "***VALIDATION***:\n",
      "average correlation: 0.89\n",
      "average r2: 0.78\n",
      "---do_investigations. cluster index : 17---\n"
     ]
    },
    {
     "data": {
      "application/vnd.jupyter.widget-view+json": {
       "model_id": "314735febf4f4e698ca73c3668adf632",
       "version_major": 2,
       "version_minor": 0
      },
      "text/plain": [
       "IntProgress(value=0, max=357)"
      ]
     },
     "metadata": {},
     "output_type": "display_data"
    },
    {
     "name": "stdout",
     "output_type": "stream",
     "text": [
      "Epoch 1/20\n",
      "368/368 [==============================] - 2s 3ms/step - loss: 0.2671 - mean_absolute_error: 0.3015 - val_loss: 0.2592 - val_mean_absolute_error: 0.2724\n",
      "Epoch 2/20\n",
      "368/368 [==============================] - 1s 3ms/step - loss: 0.2075 - mean_absolute_error: 0.2716 - val_loss: 0.2522 - val_mean_absolute_error: 0.2764\n",
      "Epoch 3/20\n",
      "368/368 [==============================] - 1s 3ms/step - loss: 0.2062 - mean_absolute_error: 0.2703 - val_loss: 0.2503 - val_mean_absolute_error: 0.2782\n",
      "Epoch 4/20\n",
      "368/368 [==============================] - 1s 3ms/step - loss: 0.2059 - mean_absolute_error: 0.2698 - val_loss: 0.2509 - val_mean_absolute_error: 0.2813\n",
      "Epoch 5/20\n",
      "368/368 [==============================] - 1s 3ms/step - loss: 0.2045 - mean_absolute_error: 0.2698 - val_loss: 0.2504 - val_mean_absolute_error: 0.2763\n",
      "***TRAIN***:\n",
      "correlation related to cluster centre: 0.89\n",
      "r2 score related to cluster centre: 0.80\n",
      "***VALIDATION***:\n",
      "correlation related to cluster centre: 0.90\n",
      "r2 score related to cluster centre: 0.81\n"
     ]
    },
    {
     "data": {
      "application/vnd.jupyter.widget-view+json": {
       "model_id": "68f9dcf781f945d599b94b31a4b832b7",
       "version_major": 2,
       "version_minor": 0
      },
      "text/plain": [
       "IntProgress(value=0, max=357)"
      ]
     },
     "metadata": {},
     "output_type": "display_data"
    },
    {
     "name": "stdout",
     "output_type": "stream",
     "text": [
      "***VALIDATION***:\n",
      "average correlation: 0.88\n",
      "average r2: 0.77\n",
      "---do_investigations. cluster index : 18---\n"
     ]
    },
    {
     "data": {
      "application/vnd.jupyter.widget-view+json": {
       "model_id": "a02affdcdfd24fdc82f46881f3496c91",
       "version_major": 2,
       "version_minor": 0
      },
      "text/plain": [
       "IntProgress(value=0, max=169)"
      ]
     },
     "metadata": {},
     "output_type": "display_data"
    },
    {
     "name": "stdout",
     "output_type": "stream",
     "text": [
      "Epoch 1/20\n",
      "368/368 [==============================] - 2s 3ms/step - loss: 0.2985 - mean_absolute_error: 0.3489 - val_loss: 0.1535 - val_mean_absolute_error: 0.2343\n",
      "Epoch 2/20\n",
      "368/368 [==============================] - 1s 3ms/step - loss: 0.2022 - mean_absolute_error: 0.2887 - val_loss: 0.1484 - val_mean_absolute_error: 0.2324\n",
      "Epoch 3/20\n",
      "368/368 [==============================] - 1s 3ms/step - loss: 0.2003 - mean_absolute_error: 0.2865 - val_loss: 0.1461 - val_mean_absolute_error: 0.2312\n",
      "Epoch 4/20\n",
      "368/368 [==============================] - 1s 3ms/step - loss: 0.1982 - mean_absolute_error: 0.2851 - val_loss: 0.1454 - val_mean_absolute_error: 0.2319\n",
      "Epoch 5/20\n",
      "368/368 [==============================] - 1s 2ms/step - loss: 0.1979 - mean_absolute_error: 0.2855 - val_loss: 0.1466 - val_mean_absolute_error: 0.2301\n",
      "Epoch 6/20\n",
      "368/368 [==============================] - 1s 3ms/step - loss: 0.1976 - mean_absolute_error: 0.2841 - val_loss: 0.1451 - val_mean_absolute_error: 0.2357\n",
      "Epoch 7/20\n",
      "368/368 [==============================] - 1s 3ms/step - loss: 0.1975 - mean_absolute_error: 0.2841 - val_loss: 0.1460 - val_mean_absolute_error: 0.2362\n",
      "Epoch 8/20\n",
      "368/368 [==============================] - 1s 3ms/step - loss: 0.1969 - mean_absolute_error: 0.2853 - val_loss: 0.1454 - val_mean_absolute_error: 0.2320\n",
      "***TRAIN***:\n",
      "correlation related to cluster centre: 0.90\n",
      "r2 score related to cluster centre: 0.81\n",
      "***VALIDATION***:\n",
      "correlation related to cluster centre: 0.90\n",
      "r2 score related to cluster centre: 0.82\n"
     ]
    },
    {
     "data": {
      "application/vnd.jupyter.widget-view+json": {
       "model_id": "2196c1aafdd14d15bddfd85bf3164cbb",
       "version_major": 2,
       "version_minor": 0
      },
      "text/plain": [
       "IntProgress(value=0, max=169)"
      ]
     },
     "metadata": {},
     "output_type": "display_data"
    },
    {
     "name": "stdout",
     "output_type": "stream",
     "text": [
      "***VALIDATION***:\n",
      "average correlation: 0.89\n",
      "average r2: 0.78\n",
      "---do_investigations. cluster index : 19---\n"
     ]
    },
    {
     "data": {
      "application/vnd.jupyter.widget-view+json": {
       "model_id": "83cd19ad432f44b2b57f44a8d2d88cf6",
       "version_major": 2,
       "version_minor": 0
      },
      "text/plain": [
       "IntProgress(value=0, max=118)"
      ]
     },
     "metadata": {},
     "output_type": "display_data"
    },
    {
     "name": "stdout",
     "output_type": "stream",
     "text": [
      "Epoch 1/20\n",
      "368/368 [==============================] - 2s 3ms/step - loss: 0.2252 - mean_absolute_error: 0.3076 - val_loss: 0.1472 - val_mean_absolute_error: 0.2662\n",
      "Epoch 2/20\n",
      "368/368 [==============================] - 1s 3ms/step - loss: 0.1758 - mean_absolute_error: 0.2737 - val_loss: 0.1442 - val_mean_absolute_error: 0.2591\n",
      "Epoch 3/20\n",
      "368/368 [==============================] - 1s 2ms/step - loss: 0.1757 - mean_absolute_error: 0.2730 - val_loss: 0.1423 - val_mean_absolute_error: 0.2535\n",
      "Epoch 4/20\n",
      "368/368 [==============================] - 1s 2ms/step - loss: 0.1758 - mean_absolute_error: 0.2722 - val_loss: 0.1470 - val_mean_absolute_error: 0.2678\n",
      "Epoch 5/20\n",
      "368/368 [==============================] - 1s 2ms/step - loss: 0.1744 - mean_absolute_error: 0.2722 - val_loss: 0.1427 - val_mean_absolute_error: 0.2555\n",
      "***TRAIN***:\n",
      "correlation related to cluster centre: 0.91\n",
      "r2 score related to cluster centre: 0.83\n",
      "***VALIDATION***:\n",
      "correlation related to cluster centre: 0.92\n",
      "r2 score related to cluster centre: 0.84\n"
     ]
    },
    {
     "data": {
      "application/vnd.jupyter.widget-view+json": {
       "model_id": "07e82e6a20a649eaad5f8d52790ccc36",
       "version_major": 2,
       "version_minor": 0
      },
      "text/plain": [
       "IntProgress(value=0, max=118)"
      ]
     },
     "metadata": {},
     "output_type": "display_data"
    },
    {
     "name": "stdout",
     "output_type": "stream",
     "text": [
      "***VALIDATION***:\n",
      "average correlation: 0.90\n",
      "average r2: 0.78\n",
      "---do_investigations. cluster index : 20---\n"
     ]
    },
    {
     "data": {
      "application/vnd.jupyter.widget-view+json": {
       "model_id": "13e3db2378984d87953cb5d796be1249",
       "version_major": 2,
       "version_minor": 0
      },
      "text/plain": [
       "IntProgress(value=0, max=17)"
      ]
     },
     "metadata": {},
     "output_type": "display_data"
    },
    {
     "name": "stdout",
     "output_type": "stream",
     "text": [
      "Epoch 1/20\n",
      "368/368 [==============================] - 2s 3ms/step - loss: 0.2808 - mean_absolute_error: 0.3242 - val_loss: 0.2188 - val_mean_absolute_error: 0.2922\n",
      "Epoch 2/20\n",
      "368/368 [==============================] - 1s 2ms/step - loss: 0.2062 - mean_absolute_error: 0.2825 - val_loss: 0.2129 - val_mean_absolute_error: 0.2814\n",
      "Epoch 3/20\n",
      "368/368 [==============================] - 1s 3ms/step - loss: 0.2047 - mean_absolute_error: 0.2823 - val_loss: 0.2143 - val_mean_absolute_error: 0.2945\n",
      "Epoch 4/20\n",
      "368/368 [==============================] - 1s 3ms/step - loss: 0.2044 - mean_absolute_error: 0.2817 - val_loss: 0.2172 - val_mean_absolute_error: 0.2986\n",
      "***TRAIN***:\n",
      "correlation related to cluster centre: 0.89\n",
      "r2 score related to cluster centre: 0.79\n",
      "***VALIDATION***:\n",
      "correlation related to cluster centre: 0.90\n",
      "r2 score related to cluster centre: 0.81\n"
     ]
    },
    {
     "data": {
      "application/vnd.jupyter.widget-view+json": {
       "model_id": "7c1a9006edab42c59b9c18c3d0ca78da",
       "version_major": 2,
       "version_minor": 0
      },
      "text/plain": [
       "IntProgress(value=0, max=17)"
      ]
     },
     "metadata": {},
     "output_type": "display_data"
    },
    {
     "name": "stdout",
     "output_type": "stream",
     "text": [
      "***VALIDATION***:\n",
      "average correlation: 0.90\n",
      "average r2: 0.81\n",
      "---do_investigations. cluster index : 21---\n"
     ]
    },
    {
     "data": {
      "application/vnd.jupyter.widget-view+json": {
       "model_id": "080ed5c124cc46b0b4f47c71669df82d",
       "version_major": 2,
       "version_minor": 0
      },
      "text/plain": [
       "IntProgress(value=0, max=51)"
      ]
     },
     "metadata": {},
     "output_type": "display_data"
    },
    {
     "name": "stdout",
     "output_type": "stream",
     "text": [
      "Epoch 1/20\n",
      "368/368 [==============================] - 2s 3ms/step - loss: 0.2624 - mean_absolute_error: 0.3210 - val_loss: 0.2537 - val_mean_absolute_error: 0.2817\n",
      "Epoch 2/20\n",
      "368/368 [==============================] - 1s 3ms/step - loss: 0.2083 - mean_absolute_error: 0.2735 - val_loss: 0.2518 - val_mean_absolute_error: 0.2711\n",
      "Epoch 3/20\n",
      "368/368 [==============================] - 1s 3ms/step - loss: 0.2070 - mean_absolute_error: 0.2710 - val_loss: 0.2500 - val_mean_absolute_error: 0.2725\n",
      "Epoch 4/20\n",
      "368/368 [==============================] - 1s 3ms/step - loss: 0.2058 - mean_absolute_error: 0.2708 - val_loss: 0.2517 - val_mean_absolute_error: 0.2726\n",
      "Epoch 5/20\n",
      "368/368 [==============================] - 1s 2ms/step - loss: 0.2081 - mean_absolute_error: 0.2712 - val_loss: 0.2560 - val_mean_absolute_error: 0.2786\n",
      "***TRAIN***:\n",
      "correlation related to cluster centre: 0.89\n",
      "r2 score related to cluster centre: 0.79\n",
      "***VALIDATION***:\n",
      "correlation related to cluster centre: 0.90\n",
      "r2 score related to cluster centre: 0.80\n"
     ]
    },
    {
     "data": {
      "application/vnd.jupyter.widget-view+json": {
       "model_id": "0e69692e2d2245cb8de09ee12cf3a6f9",
       "version_major": 2,
       "version_minor": 0
      },
      "text/plain": [
       "IntProgress(value=0, max=51)"
      ]
     },
     "metadata": {},
     "output_type": "display_data"
    },
    {
     "name": "stdout",
     "output_type": "stream",
     "text": [
      "***VALIDATION***:\n",
      "average correlation: 0.90\n",
      "average r2: 0.80\n",
      "---do_investigations. cluster index : 22---\n"
     ]
    },
    {
     "data": {
      "application/vnd.jupyter.widget-view+json": {
       "model_id": "037516ceabb741ffa4acf67ec161a159",
       "version_major": 2,
       "version_minor": 0
      },
      "text/plain": [
       "IntProgress(value=0, max=67)"
      ]
     },
     "metadata": {},
     "output_type": "display_data"
    },
    {
     "name": "stdout",
     "output_type": "stream",
     "text": [
      "Epoch 1/20\n",
      "368/368 [==============================] - 2s 3ms/step - loss: 0.2758 - mean_absolute_error: 0.3706 - val_loss: 0.1979 - val_mean_absolute_error: 0.2991\n",
      "Epoch 2/20\n",
      "368/368 [==============================] - 1s 3ms/step - loss: 0.2017 - mean_absolute_error: 0.3089 - val_loss: 0.1957 - val_mean_absolute_error: 0.2975\n",
      "Epoch 3/20\n",
      "368/368 [==============================] - 1s 3ms/step - loss: 0.2015 - mean_absolute_error: 0.3075 - val_loss: 0.1960 - val_mean_absolute_error: 0.2953\n",
      "Epoch 4/20\n",
      "368/368 [==============================] - 1s 3ms/step - loss: 0.2019 - mean_absolute_error: 0.3077 - val_loss: 0.1972 - val_mean_absolute_error: 0.2941\n",
      "***TRAIN***:\n",
      "correlation related to cluster centre: 0.90\n",
      "r2 score related to cluster centre: 0.80\n",
      "***VALIDATION***:\n",
      "correlation related to cluster centre: 0.90\n",
      "r2 score related to cluster centre: 0.81\n"
     ]
    },
    {
     "data": {
      "application/vnd.jupyter.widget-view+json": {
       "model_id": "dda6bbd1989346448cdf8b750f155215",
       "version_major": 2,
       "version_minor": 0
      },
      "text/plain": [
       "IntProgress(value=0, max=67)"
      ]
     },
     "metadata": {},
     "output_type": "display_data"
    },
    {
     "name": "stdout",
     "output_type": "stream",
     "text": [
      "***VALIDATION***:\n",
      "average correlation: 0.90\n",
      "average r2: 0.80\n",
      "---do_investigations. cluster index : 23---\n"
     ]
    },
    {
     "data": {
      "application/vnd.jupyter.widget-view+json": {
       "model_id": "bbdb2d74b26449b2a0be75e30ae90f8c",
       "version_major": 2,
       "version_minor": 0
      },
      "text/plain": [
       "IntProgress(value=0, max=34)"
      ]
     },
     "metadata": {},
     "output_type": "display_data"
    },
    {
     "name": "stdout",
     "output_type": "stream",
     "text": [
      "Epoch 1/20\n",
      "368/368 [==============================] - 2s 3ms/step - loss: 0.2686 - mean_absolute_error: 0.3112 - val_loss: 0.2647 - val_mean_absolute_error: 0.2890\n",
      "Epoch 2/20\n",
      "368/368 [==============================] - 1s 3ms/step - loss: 0.2074 - mean_absolute_error: 0.2739 - val_loss: 0.2605 - val_mean_absolute_error: 0.2767\n",
      "Epoch 3/20\n",
      "368/368 [==============================] - 1s 3ms/step - loss: 0.2067 - mean_absolute_error: 0.2708 - val_loss: 0.2627 - val_mean_absolute_error: 0.2881\n",
      "Epoch 4/20\n",
      "368/368 [==============================] - 1s 3ms/step - loss: 0.2071 - mean_absolute_error: 0.2709 - val_loss: 0.2574 - val_mean_absolute_error: 0.2856\n",
      "Epoch 5/20\n",
      "368/368 [==============================] - 1s 3ms/step - loss: 0.2058 - mean_absolute_error: 0.2702 - val_loss: 0.2601 - val_mean_absolute_error: 0.2904\n",
      "Epoch 6/20\n",
      "368/368 [==============================] - 1s 3ms/step - loss: 0.2051 - mean_absolute_error: 0.2688 - val_loss: 0.2557 - val_mean_absolute_error: 0.2817\n",
      "Epoch 7/20\n",
      "368/368 [==============================] - 1s 3ms/step - loss: 0.2058 - mean_absolute_error: 0.2702 - val_loss: 0.2565 - val_mean_absolute_error: 0.2860\n",
      "Epoch 8/20\n",
      "368/368 [==============================] - 1s 3ms/step - loss: 0.2055 - mean_absolute_error: 0.2690 - val_loss: 0.2564 - val_mean_absolute_error: 0.2892\n",
      "***TRAIN***:\n",
      "correlation related to cluster centre: 0.89\n",
      "r2 score related to cluster centre: 0.80\n",
      "***VALIDATION***:\n",
      "correlation related to cluster centre: 0.90\n",
      "r2 score related to cluster centre: 0.81\n"
     ]
    },
    {
     "data": {
      "application/vnd.jupyter.widget-view+json": {
       "model_id": "260a2e8c0f544fea8f99baffd3a86864",
       "version_major": 2,
       "version_minor": 0
      },
      "text/plain": [
       "IntProgress(value=0, max=34)"
      ]
     },
     "metadata": {},
     "output_type": "display_data"
    },
    {
     "name": "stdout",
     "output_type": "stream",
     "text": [
      "***VALIDATION***:\n",
      "average correlation: 0.90\n",
      "average r2: 0.81\n",
      "---do_investigations. cluster index : 24---\n"
     ]
    },
    {
     "data": {
      "application/vnd.jupyter.widget-view+json": {
       "model_id": "01b2cf2ac68a460e8a2a6f2979bdbe36",
       "version_major": 2,
       "version_minor": 0
      },
      "text/plain": [
       "IntProgress(value=0, max=12)"
      ]
     },
     "metadata": {},
     "output_type": "display_data"
    },
    {
     "name": "stdout",
     "output_type": "stream",
     "text": [
      "Epoch 1/20\n",
      "368/368 [==============================] - 2s 3ms/step - loss: 0.2734 - mean_absolute_error: 0.3574 - val_loss: 0.1960 - val_mean_absolute_error: 0.3033\n",
      "Epoch 2/20\n",
      "368/368 [==============================] - 1s 3ms/step - loss: 0.2075 - mean_absolute_error: 0.3147 - val_loss: 0.1941 - val_mean_absolute_error: 0.3099\n",
      "Epoch 3/20\n",
      "368/368 [==============================] - 1s 3ms/step - loss: 0.2054 - mean_absolute_error: 0.3127 - val_loss: 0.1942 - val_mean_absolute_error: 0.3081\n",
      "Epoch 4/20\n",
      "368/368 [==============================] - 1s 3ms/step - loss: 0.2052 - mean_absolute_error: 0.3125 - val_loss: 0.1938 - val_mean_absolute_error: 0.3056\n",
      "Epoch 5/20\n",
      "368/368 [==============================] - 1s 3ms/step - loss: 0.2063 - mean_absolute_error: 0.3128 - val_loss: 0.1939 - val_mean_absolute_error: 0.3103\n",
      "Epoch 6/20\n",
      "368/368 [==============================] - 1s 2ms/step - loss: 0.2056 - mean_absolute_error: 0.3117 - val_loss: 0.1936 - val_mean_absolute_error: 0.3100\n",
      "Epoch 7/20\n",
      "368/368 [==============================] - 1s 2ms/step - loss: 0.2057 - mean_absolute_error: 0.3123 - val_loss: 0.1944 - val_mean_absolute_error: 0.3044\n",
      "Epoch 8/20\n",
      "368/368 [==============================] - 1s 3ms/step - loss: 0.2058 - mean_absolute_error: 0.3121 - val_loss: 0.1937 - val_mean_absolute_error: 0.3041\n",
      "***TRAIN***:\n",
      "correlation related to cluster centre: 0.89\n",
      "r2 score related to cluster centre: 0.80\n",
      "***VALIDATION***:\n",
      "correlation related to cluster centre: 0.90\n",
      "r2 score related to cluster centre: 0.82\n"
     ]
    },
    {
     "data": {
      "application/vnd.jupyter.widget-view+json": {
       "model_id": "4ff17064e5f642988985d67b3169a666",
       "version_major": 2,
       "version_minor": 0
      },
      "text/plain": [
       "IntProgress(value=0, max=12)"
      ]
     },
     "metadata": {},
     "output_type": "display_data"
    },
    {
     "name": "stdout",
     "output_type": "stream",
     "text": [
      "***VALIDATION***:\n",
      "average correlation: 0.90\n",
      "average r2: 0.81\n",
      "---do_investigations. cluster index : 25---\n"
     ]
    },
    {
     "data": {
      "application/vnd.jupyter.widget-view+json": {
       "model_id": "c8d76f2b0c56424ba33e020fdb3b136f",
       "version_major": 2,
       "version_minor": 0
      },
      "text/plain": [
       "IntProgress(value=0, max=185)"
      ]
     },
     "metadata": {},
     "output_type": "display_data"
    },
    {
     "name": "stdout",
     "output_type": "stream",
     "text": [
      "Epoch 1/20\n",
      "368/368 [==============================] - 2s 3ms/step - loss: 0.0990 - mean_absolute_error: 0.1937 - val_loss: 0.0718 - val_mean_absolute_error: 0.1643\n",
      "Epoch 2/20\n",
      "368/368 [==============================] - 1s 2ms/step - loss: 0.0683 - mean_absolute_error: 0.1595 - val_loss: 0.0737 - val_mean_absolute_error: 0.1643\n",
      "Epoch 3/20\n",
      "368/368 [==============================] - 1s 2ms/step - loss: 0.0679 - mean_absolute_error: 0.1592 - val_loss: 0.0687 - val_mean_absolute_error: 0.1619\n",
      "Epoch 4/20\n",
      "368/368 [==============================] - 1s 2ms/step - loss: 0.0677 - mean_absolute_error: 0.1595 - val_loss: 0.0678 - val_mean_absolute_error: 0.1589\n",
      "Epoch 5/20\n",
      "368/368 [==============================] - 1s 2ms/step - loss: 0.0679 - mean_absolute_error: 0.1596 - val_loss: 0.0709 - val_mean_absolute_error: 0.1632\n",
      "Epoch 6/20\n",
      "368/368 [==============================] - 1s 2ms/step - loss: 0.0671 - mean_absolute_error: 0.1587 - val_loss: 0.0675 - val_mean_absolute_error: 0.1569\n",
      "Epoch 7/20\n",
      "368/368 [==============================] - 1s 2ms/step - loss: 0.0675 - mean_absolute_error: 0.1591 - val_loss: 0.0693 - val_mean_absolute_error: 0.1615\n",
      "Epoch 8/20\n",
      "368/368 [==============================] - 1s 2ms/step - loss: 0.0673 - mean_absolute_error: 0.1589 - val_loss: 0.0677 - val_mean_absolute_error: 0.1574\n",
      "***TRAIN***:\n",
      "correlation related to cluster centre: 0.97\n",
      "r2 score related to cluster centre: 0.93\n",
      "***VALIDATION***:\n",
      "correlation related to cluster centre: 0.95\n",
      "r2 score related to cluster centre: 0.89\n"
     ]
    },
    {
     "data": {
      "application/vnd.jupyter.widget-view+json": {
       "model_id": "25c24dd5beca4bd3b629a2d30a81b2da",
       "version_major": 2,
       "version_minor": 0
      },
      "text/plain": [
       "IntProgress(value=0, max=185)"
      ]
     },
     "metadata": {},
     "output_type": "display_data"
    },
    {
     "name": "stdout",
     "output_type": "stream",
     "text": [
      "***VALIDATION***:\n",
      "average correlation: 0.90\n",
      "average r2: 0.80\n",
      "---do_investigations. cluster index : 26---\n"
     ]
    },
    {
     "data": {
      "application/vnd.jupyter.widget-view+json": {
       "model_id": "a729a9f254774ac3a5a31a62e61d0e72",
       "version_major": 2,
       "version_minor": 0
      },
      "text/plain": [
       "IntProgress(value=0, max=16)"
      ]
     },
     "metadata": {},
     "output_type": "display_data"
    },
    {
     "name": "stdout",
     "output_type": "stream",
     "text": [
      "Epoch 1/20\n",
      "368/368 [==============================] - 2s 3ms/step - loss: 0.3549 - mean_absolute_error: 0.2798 - val_loss: 0.4097 - val_mean_absolute_error: 0.2907\n",
      "Epoch 2/20\n",
      "368/368 [==============================] - 1s 2ms/step - loss: 0.2087 - mean_absolute_error: 0.2288 - val_loss: 0.3895 - val_mean_absolute_error: 0.2917\n",
      "Epoch 3/20\n",
      "368/368 [==============================] - 1s 3ms/step - loss: 0.2044 - mean_absolute_error: 0.2259 - val_loss: 0.4116 - val_mean_absolute_error: 0.2972\n",
      "Epoch 4/20\n",
      "368/368 [==============================] - 1s 3ms/step - loss: 0.2020 - mean_absolute_error: 0.2259 - val_loss: 0.3866 - val_mean_absolute_error: 0.2885\n",
      "Epoch 5/20\n",
      "368/368 [==============================] - 1s 2ms/step - loss: 0.1991 - mean_absolute_error: 0.2238 - val_loss: 0.3873 - val_mean_absolute_error: 0.2922\n",
      "Epoch 6/20\n",
      "368/368 [==============================] - 1s 2ms/step - loss: 0.1994 - mean_absolute_error: 0.2249 - val_loss: 0.3924 - val_mean_absolute_error: 0.2898\n",
      "***TRAIN***:\n",
      "correlation related to cluster centre: 0.90\n",
      "r2 score related to cluster centre: 0.81\n",
      "***VALIDATION***:\n",
      "correlation related to cluster centre: 0.91\n",
      "r2 score related to cluster centre: 0.82\n"
     ]
    },
    {
     "data": {
      "application/vnd.jupyter.widget-view+json": {
       "model_id": "c798c24416874d188911c7574590023a",
       "version_major": 2,
       "version_minor": 0
      },
      "text/plain": [
       "IntProgress(value=0, max=16)"
      ]
     },
     "metadata": {},
     "output_type": "display_data"
    },
    {
     "name": "stdout",
     "output_type": "stream",
     "text": [
      "***VALIDATION***:\n",
      "average correlation: 0.90\n",
      "average r2: 0.81\n",
      "---do_investigations. cluster index : 27---\n"
     ]
    },
    {
     "data": {
      "application/vnd.jupyter.widget-view+json": {
       "model_id": "96716354b207441bbdb2487f9cdb3ef1",
       "version_major": 2,
       "version_minor": 0
      },
      "text/plain": [
       "IntProgress(value=0, max=17)"
      ]
     },
     "metadata": {},
     "output_type": "display_data"
    },
    {
     "name": "stdout",
     "output_type": "stream",
     "text": [
      "Epoch 1/20\n",
      "368/368 [==============================] - 2s 3ms/step - loss: 0.2727 - mean_absolute_error: 0.3275 - val_loss: 0.2523 - val_mean_absolute_error: 0.2791\n",
      "Epoch 2/20\n",
      "368/368 [==============================] - 1s 2ms/step - loss: 0.2078 - mean_absolute_error: 0.2772 - val_loss: 0.2518 - val_mean_absolute_error: 0.2832\n",
      "Epoch 3/20\n",
      "368/368 [==============================] - 1s 2ms/step - loss: 0.2075 - mean_absolute_error: 0.2765 - val_loss: 0.2492 - val_mean_absolute_error: 0.2776\n",
      "Epoch 4/20\n",
      "368/368 [==============================] - 1s 2ms/step - loss: 0.2077 - mean_absolute_error: 0.2763 - val_loss: 0.2496 - val_mean_absolute_error: 0.2889\n",
      "Epoch 5/20\n",
      "368/368 [==============================] - 1s 2ms/step - loss: 0.2079 - mean_absolute_error: 0.2762 - val_loss: 0.2481 - val_mean_absolute_error: 0.2861\n",
      "Epoch 6/20\n",
      "368/368 [==============================] - 1s 2ms/step - loss: 0.2061 - mean_absolute_error: 0.2755 - val_loss: 0.2486 - val_mean_absolute_error: 0.2824\n",
      "Epoch 7/20\n",
      "368/368 [==============================] - 1s 2ms/step - loss: 0.2058 - mean_absolute_error: 0.2746 - val_loss: 0.2478 - val_mean_absolute_error: 0.2834\n",
      "Epoch 8/20\n",
      "368/368 [==============================] - 1s 2ms/step - loss: 0.2064 - mean_absolute_error: 0.2746 - val_loss: 0.2483 - val_mean_absolute_error: 0.2851\n",
      "Epoch 9/20\n",
      "368/368 [==============================] - 1s 2ms/step - loss: 0.2049 - mean_absolute_error: 0.2742 - val_loss: 0.2524 - val_mean_absolute_error: 0.2881\n",
      "***TRAIN***:\n",
      "correlation related to cluster centre: 0.89\n",
      "r2 score related to cluster centre: 0.80\n",
      "***VALIDATION***:\n",
      "correlation related to cluster centre: 0.90\n",
      "r2 score related to cluster centre: 0.81\n"
     ]
    },
    {
     "data": {
      "application/vnd.jupyter.widget-view+json": {
       "model_id": "27eb8814cc824b49913b8cc19738644e",
       "version_major": 2,
       "version_minor": 0
      },
      "text/plain": [
       "IntProgress(value=0, max=17)"
      ]
     },
     "metadata": {},
     "output_type": "display_data"
    },
    {
     "name": "stdout",
     "output_type": "stream",
     "text": [
      "***VALIDATION***:\n",
      "average correlation: 0.90\n",
      "average r2: 0.81\n",
      "---do_investigations. cluster index : 28---\n"
     ]
    },
    {
     "data": {
      "application/vnd.jupyter.widget-view+json": {
       "model_id": "b1684dcc32b843f8a4b3c91d88bdb6d1",
       "version_major": 2,
       "version_minor": 0
      },
      "text/plain": [
       "IntProgress(value=0, max=39)"
      ]
     },
     "metadata": {},
     "output_type": "display_data"
    },
    {
     "name": "stdout",
     "output_type": "stream",
     "text": [
      "Epoch 1/20\n",
      "368/368 [==============================] - 2s 3ms/step - loss: 0.2851 - mean_absolute_error: 0.3760 - val_loss: 0.2125 - val_mean_absolute_error: 0.3315\n",
      "Epoch 2/20\n",
      "368/368 [==============================] - 1s 2ms/step - loss: 0.2003 - mean_absolute_error: 0.3135 - val_loss: 0.2122 - val_mean_absolute_error: 0.3337\n",
      "Epoch 3/20\n",
      "368/368 [==============================] - 1s 2ms/step - loss: 0.1995 - mean_absolute_error: 0.3127 - val_loss: 0.2093 - val_mean_absolute_error: 0.3251\n",
      "Epoch 4/20\n",
      "368/368 [==============================] - 1s 2ms/step - loss: 0.1985 - mean_absolute_error: 0.3116 - val_loss: 0.2104 - val_mean_absolute_error: 0.3270\n",
      "Epoch 5/20\n",
      "368/368 [==============================] - 1s 2ms/step - loss: 0.1984 - mean_absolute_error: 0.3116 - val_loss: 0.2112 - val_mean_absolute_error: 0.3331\n",
      "***TRAIN***:\n",
      "correlation related to cluster centre: 0.90\n",
      "r2 score related to cluster centre: 0.80\n",
      "***VALIDATION***:\n",
      "correlation related to cluster centre: 0.90\n",
      "r2 score related to cluster centre: 0.81\n"
     ]
    },
    {
     "data": {
      "application/vnd.jupyter.widget-view+json": {
       "model_id": "53f86925804d4d30a3ab9ddec35ae6ae",
       "version_major": 2,
       "version_minor": 0
      },
      "text/plain": [
       "IntProgress(value=0, max=39)"
      ]
     },
     "metadata": {},
     "output_type": "display_data"
    },
    {
     "name": "stdout",
     "output_type": "stream",
     "text": [
      "***VALIDATION***:\n",
      "average correlation: 0.89\n",
      "average r2: 0.76\n",
      "---do_investigations. cluster index : 29---\n"
     ]
    },
    {
     "data": {
      "application/vnd.jupyter.widget-view+json": {
       "model_id": "faeb1bfa53894dc09e918db409fff042",
       "version_major": 2,
       "version_minor": 0
      },
      "text/plain": [
       "IntProgress(value=0, max=17)"
      ]
     },
     "metadata": {},
     "output_type": "display_data"
    },
    {
     "name": "stdout",
     "output_type": "stream",
     "text": [
      "Epoch 1/20\n",
      "368/368 [==============================] - 2s 3ms/step - loss: 0.2732 - mean_absolute_error: 0.2920 - val_loss: 0.4038 - val_mean_absolute_error: 0.3149\n",
      "Epoch 2/20\n",
      "368/368 [==============================] - 1s 2ms/step - loss: 0.2146 - mean_absolute_error: 0.2524 - val_loss: 0.3976 - val_mean_absolute_error: 0.3087\n",
      "Epoch 3/20\n",
      "368/368 [==============================] - 1s 2ms/step - loss: 0.2162 - mean_absolute_error: 0.2511 - val_loss: 0.4040 - val_mean_absolute_error: 0.3138\n",
      "Epoch 4/20\n",
      "368/368 [==============================] - 1s 3ms/step - loss: 0.2149 - mean_absolute_error: 0.2504 - val_loss: 0.3939 - val_mean_absolute_error: 0.3036\n",
      "Epoch 5/20\n",
      "368/368 [==============================] - 1s 2ms/step - loss: 0.2121 - mean_absolute_error: 0.2494 - val_loss: 0.3897 - val_mean_absolute_error: 0.3042\n",
      "Epoch 6/20\n",
      "368/368 [==============================] - 1s 2ms/step - loss: 0.2141 - mean_absolute_error: 0.2504 - val_loss: 0.3932 - val_mean_absolute_error: 0.3037\n",
      "Epoch 7/20\n",
      "368/368 [==============================] - 1s 2ms/step - loss: 0.2107 - mean_absolute_error: 0.2480 - val_loss: 0.3921 - val_mean_absolute_error: 0.3022\n",
      "***TRAIN***:\n",
      "correlation related to cluster centre: 0.89\n",
      "r2 score related to cluster centre: 0.80\n",
      "***VALIDATION***:\n",
      "correlation related to cluster centre: 0.90\n",
      "r2 score related to cluster centre: 0.81\n"
     ]
    },
    {
     "data": {
      "application/vnd.jupyter.widget-view+json": {
       "model_id": "45456a7718f147d392af66684d7cda64",
       "version_major": 2,
       "version_minor": 0
      },
      "text/plain": [
       "IntProgress(value=0, max=17)"
      ]
     },
     "metadata": {},
     "output_type": "display_data"
    },
    {
     "name": "stdout",
     "output_type": "stream",
     "text": [
      "***VALIDATION***:\n",
      "average correlation: 0.90\n",
      "average r2: 0.80\n",
      "---do_investigations. cluster index : 30---\n"
     ]
    },
    {
     "data": {
      "application/vnd.jupyter.widget-view+json": {
       "model_id": "c2adbadf6e6e45e6820b62af7f0e8019",
       "version_major": 2,
       "version_minor": 0
      },
      "text/plain": [
       "IntProgress(value=0, max=4)"
      ]
     },
     "metadata": {},
     "output_type": "display_data"
    },
    {
     "name": "stdout",
     "output_type": "stream",
     "text": [
      "Epoch 1/20\n",
      "368/368 [==============================] - 2s 3ms/step - loss: 0.2787 - mean_absolute_error: 0.3090 - val_loss: 0.3514 - val_mean_absolute_error: 0.3262\n",
      "Epoch 2/20\n",
      "368/368 [==============================] - 1s 2ms/step - loss: 0.2133 - mean_absolute_error: 0.2694 - val_loss: 0.3397 - val_mean_absolute_error: 0.3271\n",
      "Epoch 3/20\n",
      "368/368 [==============================] - 1s 2ms/step - loss: 0.2114 - mean_absolute_error: 0.2686 - val_loss: 0.3412 - val_mean_absolute_error: 0.3339\n",
      "Epoch 4/20\n",
      "368/368 [==============================] - 1s 3ms/step - loss: 0.2103 - mean_absolute_error: 0.2679 - val_loss: 0.3404 - val_mean_absolute_error: 0.3385\n",
      "***TRAIN***:\n",
      "correlation related to cluster centre: 0.89\n",
      "r2 score related to cluster centre: 0.79\n",
      "***VALIDATION***:\n",
      "correlation related to cluster centre: 0.90\n",
      "r2 score related to cluster centre: 0.81\n"
     ]
    },
    {
     "data": {
      "application/vnd.jupyter.widget-view+json": {
       "model_id": "0d3ff63010db45368d339be20bdee93e",
       "version_major": 2,
       "version_minor": 0
      },
      "text/plain": [
       "IntProgress(value=0, max=4)"
      ]
     },
     "metadata": {},
     "output_type": "display_data"
    },
    {
     "name": "stdout",
     "output_type": "stream",
     "text": [
      "***VALIDATION***:\n",
      "average correlation: 0.90\n",
      "average r2: 0.81\n",
      "---do_investigations. cluster index : 31---\n"
     ]
    },
    {
     "data": {
      "application/vnd.jupyter.widget-view+json": {
       "model_id": "860921bb2d6041eda4fc9432be82a762",
       "version_major": 2,
       "version_minor": 0
      },
      "text/plain": [
       "IntProgress(value=0, max=67)"
      ]
     },
     "metadata": {},
     "output_type": "display_data"
    },
    {
     "name": "stdout",
     "output_type": "stream",
     "text": [
      "Epoch 1/20\n",
      "368/368 [==============================] - 2s 3ms/step - loss: 0.2331 - mean_absolute_error: 0.3337 - val_loss: 0.1680 - val_mean_absolute_error: 0.2622\n",
      "Epoch 2/20\n",
      "368/368 [==============================] - 1s 2ms/step - loss: 0.1870 - mean_absolute_error: 0.2843 - val_loss: 0.1622 - val_mean_absolute_error: 0.2577\n",
      "Epoch 3/20\n",
      "368/368 [==============================] - 1s 2ms/step - loss: 0.1884 - mean_absolute_error: 0.2857 - val_loss: 0.1645 - val_mean_absolute_error: 0.2563\n",
      "Epoch 4/20\n",
      "368/368 [==============================] - 1s 3ms/step - loss: 0.1862 - mean_absolute_error: 0.2834 - val_loss: 0.1623 - val_mean_absolute_error: 0.2582\n",
      "***TRAIN***:\n",
      "correlation related to cluster centre: 0.90\n",
      "r2 score related to cluster centre: 0.82\n",
      "***VALIDATION***:\n",
      "correlation related to cluster centre: 0.91\n",
      "r2 score related to cluster centre: 0.84\n"
     ]
    },
    {
     "data": {
      "application/vnd.jupyter.widget-view+json": {
       "model_id": "bb89d324848a46acb86aa58269e54fa4",
       "version_major": 2,
       "version_minor": 0
      },
      "text/plain": [
       "IntProgress(value=0, max=67)"
      ]
     },
     "metadata": {},
     "output_type": "display_data"
    },
    {
     "name": "stdout",
     "output_type": "stream",
     "text": [
      "***VALIDATION***:\n",
      "average correlation: 0.91\n",
      "average r2: 0.80\n",
      "---do_investigations. cluster index : 32---\n"
     ]
    },
    {
     "data": {
      "application/vnd.jupyter.widget-view+json": {
       "model_id": "068e9543f45d47a88a6010c0b8190d76",
       "version_major": 2,
       "version_minor": 0
      },
      "text/plain": [
       "IntProgress(value=0, max=4)"
      ]
     },
     "metadata": {},
     "output_type": "display_data"
    },
    {
     "name": "stdout",
     "output_type": "stream",
     "text": [
      "Epoch 1/20\n",
      "368/368 [==============================] - 2s 3ms/step - loss: 0.3517 - mean_absolute_error: 0.2415 - val_loss: 0.3046 - val_mean_absolute_error: 0.2542\n",
      "Epoch 2/20\n",
      "368/368 [==============================] - 1s 2ms/step - loss: 0.1798 - mean_absolute_error: 0.1865 - val_loss: 0.2972 - val_mean_absolute_error: 0.2537\n",
      "Epoch 3/20\n",
      "368/368 [==============================] - 1s 3ms/step - loss: 0.1773 - mean_absolute_error: 0.1848 - val_loss: 0.2957 - val_mean_absolute_error: 0.2490\n",
      "Epoch 4/20\n",
      "368/368 [==============================] - 1s 3ms/step - loss: 0.1760 - mean_absolute_error: 0.1839 - val_loss: 0.2981 - val_mean_absolute_error: 0.2451\n",
      "Epoch 5/20\n",
      "368/368 [==============================] - 1s 2ms/step - loss: 0.1756 - mean_absolute_error: 0.1837 - val_loss: 0.2960 - val_mean_absolute_error: 0.2396\n",
      "***TRAIN***:\n",
      "correlation related to cluster centre: 0.91\n",
      "r2 score related to cluster centre: 0.83\n",
      "***VALIDATION***:\n",
      "correlation related to cluster centre: 0.92\n",
      "r2 score related to cluster centre: 0.85\n"
     ]
    },
    {
     "data": {
      "application/vnd.jupyter.widget-view+json": {
       "model_id": "31543e24b7d047708566083dee87fd87",
       "version_major": 2,
       "version_minor": 0
      },
      "text/plain": [
       "IntProgress(value=0, max=4)"
      ]
     },
     "metadata": {},
     "output_type": "display_data"
    },
    {
     "name": "stdout",
     "output_type": "stream",
     "text": [
      "***VALIDATION***:\n",
      "average correlation: 0.92\n",
      "average r2: 0.85\n",
      "---do_investigations. cluster index : 33---\n"
     ]
    },
    {
     "data": {
      "application/vnd.jupyter.widget-view+json": {
       "model_id": "9c3fc2bebb394f86b1997a2982bfe604",
       "version_major": 2,
       "version_minor": 0
      },
      "text/plain": [
       "IntProgress(value=0, max=151)"
      ]
     },
     "metadata": {},
     "output_type": "display_data"
    },
    {
     "name": "stdout",
     "output_type": "stream",
     "text": [
      "Epoch 1/20\n",
      "368/368 [==============================] - 2s 3ms/step - loss: 0.3013 - mean_absolute_error: 0.3465 - val_loss: 0.1818 - val_mean_absolute_error: 0.2652\n",
      "Epoch 2/20\n",
      "368/368 [==============================] - 1s 2ms/step - loss: 0.1993 - mean_absolute_error: 0.2953 - val_loss: 0.1822 - val_mean_absolute_error: 0.2776\n",
      "Epoch 3/20\n",
      "368/368 [==============================] - 1s 2ms/step - loss: 0.1978 - mean_absolute_error: 0.2944 - val_loss: 0.1779 - val_mean_absolute_error: 0.2696\n",
      "Epoch 4/20\n",
      "368/368 [==============================] - 1s 2ms/step - loss: 0.1986 - mean_absolute_error: 0.2950 - val_loss: 0.1777 - val_mean_absolute_error: 0.2709\n",
      "Epoch 5/20\n",
      "368/368 [==============================] - 1s 3ms/step - loss: 0.1966 - mean_absolute_error: 0.2932 - val_loss: 0.1841 - val_mean_absolute_error: 0.2737\n",
      "Epoch 6/20\n",
      "368/368 [==============================] - 1s 3ms/step - loss: 0.1977 - mean_absolute_error: 0.2941 - val_loss: 0.1772 - val_mean_absolute_error: 0.2694\n",
      "Epoch 7/20\n",
      "368/368 [==============================] - 1s 2ms/step - loss: 0.1972 - mean_absolute_error: 0.2932 - val_loss: 0.1765 - val_mean_absolute_error: 0.2660\n",
      "Epoch 8/20\n",
      "368/368 [==============================] - 1s 3ms/step - loss: 0.1974 - mean_absolute_error: 0.2942 - val_loss: 0.1774 - val_mean_absolute_error: 0.2704\n",
      "Epoch 9/20\n",
      "368/368 [==============================] - 1s 3ms/step - loss: 0.1966 - mean_absolute_error: 0.2933 - val_loss: 0.1771 - val_mean_absolute_error: 0.2684\n",
      "***TRAIN***:\n",
      "correlation related to cluster centre: 0.90\n",
      "r2 score related to cluster centre: 0.81\n",
      "***VALIDATION***:\n",
      "correlation related to cluster centre: 0.90\n",
      "r2 score related to cluster centre: 0.81\n"
     ]
    },
    {
     "data": {
      "application/vnd.jupyter.widget-view+json": {
       "model_id": "cd1a40980a074f25b3a0c02724d407ad",
       "version_major": 2,
       "version_minor": 0
      },
      "text/plain": [
       "IntProgress(value=0, max=151)"
      ]
     },
     "metadata": {},
     "output_type": "display_data"
    },
    {
     "name": "stdout",
     "output_type": "stream",
     "text": [
      "***VALIDATION***:\n",
      "average correlation: 0.89\n",
      "average r2: 0.78\n",
      "---do_investigations. cluster index : 34---\n"
     ]
    },
    {
     "data": {
      "application/vnd.jupyter.widget-view+json": {
       "model_id": "93f1327c79e545bfb4829b9ec5ce0f4e",
       "version_major": 2,
       "version_minor": 0
      },
      "text/plain": [
       "IntProgress(value=0, max=2)"
      ]
     },
     "metadata": {},
     "output_type": "display_data"
    },
    {
     "name": "stdout",
     "output_type": "stream",
     "text": [
      "Epoch 1/20\n",
      "368/368 [==============================] - 2s 3ms/step - loss: 0.2835 - mean_absolute_error: 0.2869 - val_loss: 0.3796 - val_mean_absolute_error: 0.3070\n",
      "Epoch 2/20\n",
      "368/368 [==============================] - 1s 3ms/step - loss: 0.2181 - mean_absolute_error: 0.2477 - val_loss: 0.3718 - val_mean_absolute_error: 0.3129\n",
      "Epoch 3/20\n",
      "368/368 [==============================] - 1s 3ms/step - loss: 0.2166 - mean_absolute_error: 0.2465 - val_loss: 0.3699 - val_mean_absolute_error: 0.3017\n",
      "Epoch 4/20\n",
      "368/368 [==============================] - 1s 2ms/step - loss: 0.2147 - mean_absolute_error: 0.2461 - val_loss: 0.3685 - val_mean_absolute_error: 0.3060\n",
      "Epoch 5/20\n",
      "368/368 [==============================] - 1s 3ms/step - loss: 0.2147 - mean_absolute_error: 0.2458 - val_loss: 0.3682 - val_mean_absolute_error: 0.3106\n",
      "Epoch 6/20\n",
      "368/368 [==============================] - 1s 2ms/step - loss: 0.2131 - mean_absolute_error: 0.2450 - val_loss: 0.3681 - val_mean_absolute_error: 0.3041\n",
      "Epoch 7/20\n",
      "368/368 [==============================] - 1s 3ms/step - loss: 0.2122 - mean_absolute_error: 0.2446 - val_loss: 0.3715 - val_mean_absolute_error: 0.3017\n",
      "Epoch 8/20\n",
      "368/368 [==============================] - 1s 2ms/step - loss: 0.2112 - mean_absolute_error: 0.2436 - val_loss: 0.3669 - val_mean_absolute_error: 0.3093\n",
      "Epoch 9/20\n",
      "368/368 [==============================] - 1s 2ms/step - loss: 0.2114 - mean_absolute_error: 0.2436 - val_loss: 0.3672 - val_mean_absolute_error: 0.3052\n",
      "Epoch 10/20\n",
      "368/368 [==============================] - 1s 3ms/step - loss: 0.2109 - mean_absolute_error: 0.2436 - val_loss: 0.3689 - val_mean_absolute_error: 0.3101\n",
      "***TRAIN***:\n",
      "correlation related to cluster centre: 0.89\n",
      "r2 score related to cluster centre: 0.79\n",
      "***VALIDATION***:\n",
      "correlation related to cluster centre: 0.90\n",
      "r2 score related to cluster centre: 0.81\n"
     ]
    },
    {
     "data": {
      "application/vnd.jupyter.widget-view+json": {
       "model_id": "31bb1151f7f24819b8f2d6f8fb545559",
       "version_major": 2,
       "version_minor": 0
      },
      "text/plain": [
       "IntProgress(value=0, max=2)"
      ]
     },
     "metadata": {},
     "output_type": "display_data"
    },
    {
     "name": "stdout",
     "output_type": "stream",
     "text": [
      "***VALIDATION***:\n",
      "average correlation: 0.90\n",
      "average r2: 0.81\n",
      "---do_investigations. cluster index : 35---\n"
     ]
    },
    {
     "data": {
      "application/vnd.jupyter.widget-view+json": {
       "model_id": "411304259c1143d1b1582752646d77b3",
       "version_major": 2,
       "version_minor": 0
      },
      "text/plain": [
       "IntProgress(value=0, max=31)"
      ]
     },
     "metadata": {},
     "output_type": "display_data"
    },
    {
     "name": "stdout",
     "output_type": "stream",
     "text": [
      "Epoch 1/20\n",
      "368/368 [==============================] - 2s 3ms/step - loss: 0.2475 - mean_absolute_error: 0.3368 - val_loss: 0.1826 - val_mean_absolute_error: 0.2778\n",
      "Epoch 2/20\n",
      "368/368 [==============================] - 1s 3ms/step - loss: 0.2007 - mean_absolute_error: 0.2939 - val_loss: 0.1829 - val_mean_absolute_error: 0.2723\n",
      "Epoch 3/20\n",
      "368/368 [==============================] - 1s 3ms/step - loss: 0.2008 - mean_absolute_error: 0.2934 - val_loss: 0.1841 - val_mean_absolute_error: 0.2822\n",
      "***TRAIN***:\n",
      "correlation related to cluster centre: 0.90\n",
      "r2 score related to cluster centre: 0.80\n",
      "***VALIDATION***:\n",
      "correlation related to cluster centre: 0.90\n",
      "r2 score related to cluster centre: 0.81\n"
     ]
    },
    {
     "data": {
      "application/vnd.jupyter.widget-view+json": {
       "model_id": "77f6ae511bf54eee84f91286751b1c88",
       "version_major": 2,
       "version_minor": 0
      },
      "text/plain": [
       "IntProgress(value=0, max=31)"
      ]
     },
     "metadata": {},
     "output_type": "display_data"
    },
    {
     "name": "stdout",
     "output_type": "stream",
     "text": [
      "***VALIDATION***:\n",
      "average correlation: 0.90\n",
      "average r2: 0.71\n",
      "---do_investigations. cluster index : 36---\n"
     ]
    },
    {
     "data": {
      "application/vnd.jupyter.widget-view+json": {
       "model_id": "5db05afb9cce48d49c64aa6aef157da8",
       "version_major": 2,
       "version_minor": 0
      },
      "text/plain": [
       "IntProgress(value=0, max=18)"
      ]
     },
     "metadata": {},
     "output_type": "display_data"
    },
    {
     "name": "stdout",
     "output_type": "stream",
     "text": [
      "Epoch 1/20\n",
      "368/368 [==============================] - 2s 3ms/step - loss: 0.2856 - mean_absolute_error: 0.3386 - val_loss: 0.1991 - val_mean_absolute_error: 0.2817\n",
      "Epoch 2/20\n",
      "368/368 [==============================] - 1s 3ms/step - loss: 0.2034 - mean_absolute_error: 0.2917 - val_loss: 0.1978 - val_mean_absolute_error: 0.2833\n",
      "Epoch 3/20\n",
      "368/368 [==============================] - 1s 3ms/step - loss: 0.2023 - mean_absolute_error: 0.2903 - val_loss: 0.2002 - val_mean_absolute_error: 0.2790\n",
      "Epoch 4/20\n",
      "368/368 [==============================] - 1s 3ms/step - loss: 0.2028 - mean_absolute_error: 0.2897 - val_loss: 0.1979 - val_mean_absolute_error: 0.2765\n",
      "***TRAIN***:\n",
      "correlation related to cluster centre: 0.90\n",
      "r2 score related to cluster centre: 0.80\n",
      "***VALIDATION***:\n",
      "correlation related to cluster centre: 0.90\n",
      "r2 score related to cluster centre: 0.81\n"
     ]
    },
    {
     "data": {
      "application/vnd.jupyter.widget-view+json": {
       "model_id": "ad23a32e260643a785650e6396b73243",
       "version_major": 2,
       "version_minor": 0
      },
      "text/plain": [
       "IntProgress(value=0, max=18)"
      ]
     },
     "metadata": {},
     "output_type": "display_data"
    },
    {
     "name": "stdout",
     "output_type": "stream",
     "text": [
      "***VALIDATION***:\n",
      "average correlation: 0.90\n",
      "average r2: 0.81\n",
      "---do_investigations. cluster index : 37---\n"
     ]
    },
    {
     "data": {
      "application/vnd.jupyter.widget-view+json": {
       "model_id": "327167b963a24820bee13ac9e210088a",
       "version_major": 2,
       "version_minor": 0
      },
      "text/plain": [
       "IntProgress(value=0, max=1)"
      ]
     },
     "metadata": {},
     "output_type": "display_data"
    },
    {
     "name": "stdout",
     "output_type": "stream",
     "text": [
      "Epoch 1/20\n",
      "368/368 [==============================] - 2s 3ms/step - loss: 0.2902 - mean_absolute_error: 0.2306 - val_loss: 0.3374 - val_mean_absolute_error: 0.2589\n",
      "Epoch 2/20\n",
      "368/368 [==============================] - 1s 3ms/step - loss: 0.1979 - mean_absolute_error: 0.1846 - val_loss: 0.3128 - val_mean_absolute_error: 0.2556\n",
      "Epoch 3/20\n",
      "368/368 [==============================] - 1s 3ms/step - loss: 0.1971 - mean_absolute_error: 0.1852 - val_loss: 0.3218 - val_mean_absolute_error: 0.2488\n",
      "Epoch 4/20\n",
      "368/368 [==============================] - 1s 3ms/step - loss: 0.1936 - mean_absolute_error: 0.1816 - val_loss: 0.3013 - val_mean_absolute_error: 0.2518\n",
      "Epoch 5/20\n",
      "368/368 [==============================] - 1s 3ms/step - loss: 0.1927 - mean_absolute_error: 0.1825 - val_loss: 0.2934 - val_mean_absolute_error: 0.2499\n",
      "Epoch 6/20\n",
      "368/368 [==============================] - 1s 3ms/step - loss: 0.1948 - mean_absolute_error: 0.1829 - val_loss: 0.3091 - val_mean_absolute_error: 0.2601\n",
      "Epoch 7/20\n",
      "368/368 [==============================] - 1s 3ms/step - loss: 0.1942 - mean_absolute_error: 0.1824 - val_loss: 0.3180 - val_mean_absolute_error: 0.2607\n",
      "***TRAIN***:\n",
      "correlation related to cluster centre: 0.90\n",
      "r2 score related to cluster centre: 0.79\n",
      "***VALIDATION***:\n",
      "correlation related to cluster centre: 0.91\n",
      "r2 score related to cluster centre: 0.80\n"
     ]
    },
    {
     "data": {
      "application/vnd.jupyter.widget-view+json": {
       "model_id": "a8299a45bb9040d5bffca6f47b53da8f",
       "version_major": 2,
       "version_minor": 0
      },
      "text/plain": [
       "IntProgress(value=0, max=1)"
      ]
     },
     "metadata": {},
     "output_type": "display_data"
    },
    {
     "name": "stdout",
     "output_type": "stream",
     "text": [
      "***VALIDATION***:\n",
      "average correlation: 0.91\n",
      "average r2: 0.80\n",
      "---do_investigations. cluster index : 38---\n"
     ]
    },
    {
     "data": {
      "application/vnd.jupyter.widget-view+json": {
       "model_id": "bd7848572fbc418d91b7d0ead0ed9440",
       "version_major": 2,
       "version_minor": 0
      },
      "text/plain": [
       "IntProgress(value=0, max=5)"
      ]
     },
     "metadata": {},
     "output_type": "display_data"
    },
    {
     "name": "stdout",
     "output_type": "stream",
     "text": [
      "Epoch 1/20\n",
      "368/368 [==============================] - 2s 3ms/step - loss: 0.3306 - mean_absolute_error: 0.3722 - val_loss: 0.2256 - val_mean_absolute_error: 0.3247\n",
      "Epoch 2/20\n",
      "368/368 [==============================] - 1s 3ms/step - loss: 0.2092 - mean_absolute_error: 0.3070 - val_loss: 0.2195 - val_mean_absolute_error: 0.3222\n",
      "Epoch 3/20\n",
      "368/368 [==============================] - 1s 3ms/step - loss: 0.2068 - mean_absolute_error: 0.3044 - val_loss: 0.2161 - val_mean_absolute_error: 0.3119\n",
      "Epoch 4/20\n",
      "368/368 [==============================] - 1s 2ms/step - loss: 0.2058 - mean_absolute_error: 0.3046 - val_loss: 0.2185 - val_mean_absolute_error: 0.3258\n",
      "Epoch 5/20\n",
      "368/368 [==============================] - 1s 3ms/step - loss: 0.2055 - mean_absolute_error: 0.3038 - val_loss: 0.2149 - val_mean_absolute_error: 0.3157\n",
      "Epoch 6/20\n",
      "368/368 [==============================] - 1s 2ms/step - loss: 0.2058 - mean_absolute_error: 0.3037 - val_loss: 0.2156 - val_mean_absolute_error: 0.3111\n",
      "Epoch 7/20\n",
      "368/368 [==============================] - 1s 3ms/step - loss: 0.2049 - mean_absolute_error: 0.3033 - val_loss: 0.2145 - val_mean_absolute_error: 0.3124\n",
      "Epoch 8/20\n",
      "368/368 [==============================] - 1s 3ms/step - loss: 0.2038 - mean_absolute_error: 0.3019 - val_loss: 0.2163 - val_mean_absolute_error: 0.3155\n",
      "Epoch 9/20\n",
      "368/368 [==============================] - 1s 3ms/step - loss: 0.2044 - mean_absolute_error: 0.3024 - val_loss: 0.2190 - val_mean_absolute_error: 0.3266\n",
      "***TRAIN***:\n",
      "correlation related to cluster centre: 0.89\n",
      "r2 score related to cluster centre: 0.80\n",
      "***VALIDATION***:\n",
      "correlation related to cluster centre: 0.90\n",
      "r2 score related to cluster centre: 0.81\n"
     ]
    },
    {
     "data": {
      "application/vnd.jupyter.widget-view+json": {
       "model_id": "9994c13915964b62b0237775c15fa3fa",
       "version_major": 2,
       "version_minor": 0
      },
      "text/plain": [
       "IntProgress(value=0, max=5)"
      ]
     },
     "metadata": {},
     "output_type": "display_data"
    },
    {
     "name": "stdout",
     "output_type": "stream",
     "text": [
      "***VALIDATION***:\n",
      "average correlation: 0.90\n",
      "average r2: 0.81\n",
      "---do_investigations. cluster index : 39---\n"
     ]
    },
    {
     "data": {
      "application/vnd.jupyter.widget-view+json": {
       "model_id": "6701c2b144994f2ab7fcbf9ff7dbae8c",
       "version_major": 2,
       "version_minor": 0
      },
      "text/plain": [
       "IntProgress(value=0, max=6)"
      ]
     },
     "metadata": {},
     "output_type": "display_data"
    },
    {
     "name": "stdout",
     "output_type": "stream",
     "text": [
      "Epoch 1/20\n",
      "368/368 [==============================] - 2s 3ms/step - loss: 0.2664 - mean_absolute_error: 0.3268 - val_loss: 0.2807 - val_mean_absolute_error: 0.3472\n",
      "Epoch 2/20\n",
      "368/368 [==============================] - 1s 3ms/step - loss: 0.2167 - mean_absolute_error: 0.2822 - val_loss: 0.2730 - val_mean_absolute_error: 0.3371\n",
      "Epoch 3/20\n",
      "368/368 [==============================] - 1s 3ms/step - loss: 0.2152 - mean_absolute_error: 0.2812 - val_loss: 0.2648 - val_mean_absolute_error: 0.3283\n",
      "Epoch 4/20\n",
      "368/368 [==============================] - 1s 3ms/step - loss: 0.2163 - mean_absolute_error: 0.2812 - val_loss: 0.2699 - val_mean_absolute_error: 0.3412\n",
      "Epoch 5/20\n",
      "368/368 [==============================] - 1s 3ms/step - loss: 0.2146 - mean_absolute_error: 0.2796 - val_loss: 0.2654 - val_mean_absolute_error: 0.3362\n",
      "***TRAIN***:\n",
      "correlation related to cluster centre: 0.89\n",
      "r2 score related to cluster centre: 0.79\n",
      "***VALIDATION***:\n",
      "correlation related to cluster centre: 0.90\n",
      "r2 score related to cluster centre: 0.82\n"
     ]
    },
    {
     "data": {
      "application/vnd.jupyter.widget-view+json": {
       "model_id": "748667a28ef54f65b85c3cecefb4a896",
       "version_major": 2,
       "version_minor": 0
      },
      "text/plain": [
       "IntProgress(value=0, max=6)"
      ]
     },
     "metadata": {},
     "output_type": "display_data"
    },
    {
     "name": "stdout",
     "output_type": "stream",
     "text": [
      "***VALIDATION***:\n",
      "average correlation: 0.90\n",
      "average r2: 0.80\n",
      "---do_investigations. cluster index : 40---\n"
     ]
    },
    {
     "data": {
      "application/vnd.jupyter.widget-view+json": {
       "model_id": "8aaf169d0d6443a08244da9601feda48",
       "version_major": 2,
       "version_minor": 0
      },
      "text/plain": [
       "IntProgress(value=0, max=13)"
      ]
     },
     "metadata": {},
     "output_type": "display_data"
    },
    {
     "name": "stdout",
     "output_type": "stream",
     "text": [
      "Epoch 1/20\n",
      "368/368 [==============================] - 2s 3ms/step - loss: 0.2588 - mean_absolute_error: 0.3529 - val_loss: 0.1787 - val_mean_absolute_error: 0.2728\n",
      "Epoch 2/20\n",
      "368/368 [==============================] - 1s 3ms/step - loss: 0.2014 - mean_absolute_error: 0.3035 - val_loss: 0.1760 - val_mean_absolute_error: 0.2681\n",
      "Epoch 3/20\n",
      "368/368 [==============================] - 1s 3ms/step - loss: 0.1999 - mean_absolute_error: 0.3018 - val_loss: 0.1754 - val_mean_absolute_error: 0.2697\n",
      "Epoch 4/20\n",
      "368/368 [==============================] - 1s 3ms/step - loss: 0.1994 - mean_absolute_error: 0.3015 - val_loss: 0.1774 - val_mean_absolute_error: 0.2721\n",
      "Epoch 5/20\n",
      "368/368 [==============================] - 1s 3ms/step - loss: 0.1988 - mean_absolute_error: 0.3016 - val_loss: 0.1803 - val_mean_absolute_error: 0.2692\n",
      "***TRAIN***:\n",
      "correlation related to cluster centre: 0.90\n",
      "r2 score related to cluster centre: 0.80\n",
      "***VALIDATION***:\n",
      "correlation related to cluster centre: 0.90\n",
      "r2 score related to cluster centre: 0.81\n"
     ]
    },
    {
     "data": {
      "application/vnd.jupyter.widget-view+json": {
       "model_id": "7fdbce971f1540b0895b0d7e1f28adf1",
       "version_major": 2,
       "version_minor": 0
      },
      "text/plain": [
       "IntProgress(value=0, max=13)"
      ]
     },
     "metadata": {},
     "output_type": "display_data"
    },
    {
     "name": "stdout",
     "output_type": "stream",
     "text": [
      "***VALIDATION***:\n",
      "average correlation: 0.90\n",
      "average r2: 0.81\n",
      "---do_investigations. cluster index : 41---\n"
     ]
    },
    {
     "data": {
      "application/vnd.jupyter.widget-view+json": {
       "model_id": "cbc69b184bdf4be49c1ee2c9f94c8c93",
       "version_major": 2,
       "version_minor": 0
      },
      "text/plain": [
       "IntProgress(value=0, max=2)"
      ]
     },
     "metadata": {},
     "output_type": "display_data"
    },
    {
     "name": "stdout",
     "output_type": "stream",
     "text": [
      "Epoch 1/20\n",
      "368/368 [==============================] - 2s 3ms/step - loss: 0.2061 - mean_absolute_error: 0.2324 - val_loss: 0.3556 - val_mean_absolute_error: 0.3065\n",
      "Epoch 2/20\n",
      "368/368 [==============================] - 1s 3ms/step - loss: 0.1836 - mean_absolute_error: 0.2081 - val_loss: 0.3545 - val_mean_absolute_error: 0.3111\n",
      "Epoch 3/20\n",
      "368/368 [==============================] - 1s 3ms/step - loss: 0.1817 - mean_absolute_error: 0.2057 - val_loss: 0.3536 - val_mean_absolute_error: 0.3105\n",
      "Epoch 4/20\n",
      "368/368 [==============================] - 1s 3ms/step - loss: 0.1815 - mean_absolute_error: 0.2059 - val_loss: 0.3530 - val_mean_absolute_error: 0.3046\n",
      "Epoch 5/20\n",
      "368/368 [==============================] - 1s 3ms/step - loss: 0.1802 - mean_absolute_error: 0.2054 - val_loss: 0.3531 - val_mean_absolute_error: 0.3102\n",
      "Epoch 6/20\n",
      "368/368 [==============================] - 1s 3ms/step - loss: 0.1806 - mean_absolute_error: 0.2055 - val_loss: 0.3522 - val_mean_absolute_error: 0.3078\n",
      "Epoch 7/20\n",
      "368/368 [==============================] - 1s 3ms/step - loss: 0.1796 - mean_absolute_error: 0.2048 - val_loss: 0.3536 - val_mean_absolute_error: 0.3026\n",
      "Epoch 8/20\n",
      "368/368 [==============================] - 1s 3ms/step - loss: 0.1793 - mean_absolute_error: 0.2054 - val_loss: 0.3541 - val_mean_absolute_error: 0.3060\n",
      "***TRAIN***:\n",
      "correlation related to cluster centre: 0.91\n",
      "r2 score related to cluster centre: 0.82\n",
      "***VALIDATION***:\n",
      "correlation related to cluster centre: 0.91\n",
      "r2 score related to cluster centre: 0.82\n"
     ]
    },
    {
     "data": {
      "application/vnd.jupyter.widget-view+json": {
       "model_id": "3f5f7166168a4c559dce4563eb2a7a1e",
       "version_major": 2,
       "version_minor": 0
      },
      "text/plain": [
       "IntProgress(value=0, max=2)"
      ]
     },
     "metadata": {},
     "output_type": "display_data"
    },
    {
     "name": "stdout",
     "output_type": "stream",
     "text": [
      "***VALIDATION***:\n",
      "average correlation: 0.91\n",
      "average r2: 0.82\n",
      "---do_investigations. cluster index : 42---\n"
     ]
    },
    {
     "data": {
      "application/vnd.jupyter.widget-view+json": {
       "model_id": "76c6ff9550cf4c1d817840c82f3462ad",
       "version_major": 2,
       "version_minor": 0
      },
      "text/plain": [
       "IntProgress(value=0, max=1)"
      ]
     },
     "metadata": {},
     "output_type": "display_data"
    },
    {
     "name": "stdout",
     "output_type": "stream",
     "text": [
      "Epoch 1/20\n",
      "368/368 [==============================] - 2s 3ms/step - loss: 0.2705 - mean_absolute_error: 0.2393 - val_loss: 0.2927 - val_mean_absolute_error: 0.2540\n",
      "Epoch 2/20\n",
      "368/368 [==============================] - 1s 2ms/step - loss: 0.1954 - mean_absolute_error: 0.2037 - val_loss: 0.3134 - val_mean_absolute_error: 0.2765\n",
      "Epoch 3/20\n",
      "368/368 [==============================] - 1s 3ms/step - loss: 0.1920 - mean_absolute_error: 0.2029 - val_loss: 0.2905 - val_mean_absolute_error: 0.2451\n",
      "Epoch 4/20\n",
      "368/368 [==============================] - 1s 3ms/step - loss: 0.1913 - mean_absolute_error: 0.2015 - val_loss: 0.2928 - val_mean_absolute_error: 0.2473\n",
      "Epoch 5/20\n",
      "368/368 [==============================] - 1s 2ms/step - loss: 0.1925 - mean_absolute_error: 0.2031 - val_loss: 0.2909 - val_mean_absolute_error: 0.2453\n",
      "***TRAIN***:\n",
      "correlation related to cluster centre: 0.90\n",
      "r2 score related to cluster centre: 0.81\n",
      "***VALIDATION***:\n",
      "correlation related to cluster centre: 0.92\n",
      "r2 score related to cluster centre: 0.84\n"
     ]
    },
    {
     "data": {
      "application/vnd.jupyter.widget-view+json": {
       "model_id": "070f7cd1775549848883d63e67994423",
       "version_major": 2,
       "version_minor": 0
      },
      "text/plain": [
       "IntProgress(value=0, max=1)"
      ]
     },
     "metadata": {},
     "output_type": "display_data"
    },
    {
     "name": "stdout",
     "output_type": "stream",
     "text": [
      "***VALIDATION***:\n",
      "average correlation: 0.92\n",
      "average r2: 0.84\n",
      "---do_investigations. cluster index : 43---\n"
     ]
    },
    {
     "data": {
      "application/vnd.jupyter.widget-view+json": {
       "model_id": "a255b180a7784ee78d2c4e7d997adf4f",
       "version_major": 2,
       "version_minor": 0
      },
      "text/plain": [
       "IntProgress(value=0, max=2)"
      ]
     },
     "metadata": {},
     "output_type": "display_data"
    },
    {
     "name": "stdout",
     "output_type": "stream",
     "text": [
      "Epoch 1/20\n",
      "368/368 [==============================] - 2s 3ms/step - loss: 0.2401 - mean_absolute_error: 0.2999 - val_loss: 0.1244 - val_mean_absolute_error: 0.2020\n",
      "Epoch 2/20\n",
      "368/368 [==============================] - 1s 2ms/step - loss: 0.1994 - mean_absolute_error: 0.2591 - val_loss: 0.1230 - val_mean_absolute_error: 0.2031\n",
      "Epoch 3/20\n",
      "368/368 [==============================] - 1s 3ms/step - loss: 0.1985 - mean_absolute_error: 0.2587 - val_loss: 0.1231 - val_mean_absolute_error: 0.2076\n",
      "Epoch 4/20\n",
      "368/368 [==============================] - 1s 3ms/step - loss: 0.1993 - mean_absolute_error: 0.2588 - val_loss: 0.1229 - val_mean_absolute_error: 0.2002\n",
      "Epoch 5/20\n",
      "368/368 [==============================] - 1s 3ms/step - loss: 0.1977 - mean_absolute_error: 0.2572 - val_loss: 0.1230 - val_mean_absolute_error: 0.2067\n",
      "Epoch 6/20\n",
      "368/368 [==============================] - 1s 3ms/step - loss: 0.1996 - mean_absolute_error: 0.2585 - val_loss: 0.1234 - val_mean_absolute_error: 0.2024\n",
      "***TRAIN***:\n",
      "correlation related to cluster centre: 0.90\n",
      "r2 score related to cluster centre: 0.80\n",
      "***VALIDATION***:\n",
      "correlation related to cluster centre: 0.90\n",
      "r2 score related to cluster centre: 0.80\n"
     ]
    },
    {
     "data": {
      "application/vnd.jupyter.widget-view+json": {
       "model_id": "e280e1e83e0d4a7ea7d31d5d57770ade",
       "version_major": 2,
       "version_minor": 0
      },
      "text/plain": [
       "IntProgress(value=0, max=2)"
      ]
     },
     "metadata": {},
     "output_type": "display_data"
    },
    {
     "name": "stdout",
     "output_type": "stream",
     "text": [
      "***VALIDATION***:\n",
      "average correlation: 0.90\n",
      "average r2: 0.80\n",
      "---do_investigations. cluster index : 44---\n"
     ]
    },
    {
     "data": {
      "application/vnd.jupyter.widget-view+json": {
       "model_id": "9f571425b1e94bdba28da96bd1474239",
       "version_major": 2,
       "version_minor": 0
      },
      "text/plain": [
       "IntProgress(value=0, max=1)"
      ]
     },
     "metadata": {},
     "output_type": "display_data"
    },
    {
     "name": "stdout",
     "output_type": "stream",
     "text": [
      "Epoch 1/20\n",
      "368/368 [==============================] - 2s 3ms/step - loss: 0.2420 - mean_absolute_error: 0.2072 - val_loss: 0.3374 - val_mean_absolute_error: 0.2329\n",
      "Epoch 2/20\n",
      "368/368 [==============================] - 1s 2ms/step - loss: 0.1877 - mean_absolute_error: 0.1789 - val_loss: 0.3412 - val_mean_absolute_error: 0.2280\n",
      "Epoch 3/20\n",
      "368/368 [==============================] - 1s 3ms/step - loss: 0.1855 - mean_absolute_error: 0.1770 - val_loss: 0.3374 - val_mean_absolute_error: 0.2260\n",
      "***TRAIN***:\n",
      "correlation related to cluster centre: 0.91\n",
      "r2 score related to cluster centre: 0.82\n",
      "***VALIDATION***:\n",
      "correlation related to cluster centre: 0.90\n",
      "r2 score related to cluster centre: 0.81\n"
     ]
    },
    {
     "data": {
      "application/vnd.jupyter.widget-view+json": {
       "model_id": "2421df43f7ef43c5870276c272bf1022",
       "version_major": 2,
       "version_minor": 0
      },
      "text/plain": [
       "IntProgress(value=0, max=1)"
      ]
     },
     "metadata": {},
     "output_type": "display_data"
    },
    {
     "name": "stdout",
     "output_type": "stream",
     "text": [
      "***VALIDATION***:\n",
      "average correlation: 0.90\n",
      "average r2: 0.81\n",
      "weighted_average_correlation: 0.90\n",
      "weighted_average_r2_score: 0.77\n",
      "bad clusters rate: 0.49%\n"
     ]
    }
   ],
   "source": [
    "first_path = r\"C:\\Coding\\final-qualifying-work_2023-2024\\ClusteringCpp\\output\\kohonen 15 0.1 0.1.txt\"\n",
    "second_path = r\"C:\\Coding\\final-qualifying-work_2023-2024\\ClusteringCpp\\output\\kohonen 15 0.1 0.1 - 3 0.1 0.1.txt\"\n",
    "third_path = r\"C:\\Coding\\final-qualifying-work_2023-2024\\ClusteringCpp\\output\\kohonen 15 0.1 0.1 - 2 0.1 0.1.txt\"\n",
    "fourth_path = r\"C:\\Coding\\final-qualifying-work_2023-2024\\ClusteringCpp\\output\\kohonen 15 0.1 0.1 - 1 0.1 0.1.txt\"\n",
    "\n",
    "output_file = open(\"computational-experiments-output\", \"a\")\n",
    "\n",
    "selected_path = fourth_path\n",
    "\n",
    "print(f\"msd {os.path.split(selected_path)[-1]}\")\n",
    "output_file.write(f\"msd {os.path.split(selected_path)[-1]}\\n\")\n",
    "show_results(multi_step_dense_model, get_clusters(selected_path), CONV_WIDTH)\n",
    "\n",
    "output_file.close()"
   ]
  },
  {
   "cell_type": "code",
   "execution_count": 26,
   "id": "ca4db4fd-ad30-4974-9cde-287bf2864bdf",
   "metadata": {},
   "outputs": [
    {
     "name": "stdout",
     "output_type": "stream",
     "text": [
      "lstm kohonen 15 0.1 0.1.txt\n",
      "---do_investigations. cluster index : 0---\n"
     ]
    },
    {
     "data": {
      "application/vnd.jupyter.widget-view+json": {
       "model_id": "3c7a49e0fd4e4fff8935ab01457cee41",
       "version_major": 2,
       "version_minor": 0
      },
      "text/plain": [
       "IntProgress(value=0, max=5788)"
      ]
     },
     "metadata": {},
     "output_type": "display_data"
    },
    {
     "name": "stdout",
     "output_type": "stream",
     "text": [
      "Epoch 1/20\n",
      "368/368 [==============================] - 6s 6ms/step - loss: 0.2555 - mean_absolute_error: 0.3158 - val_loss: 0.2562 - val_mean_absolute_error: 0.2779\n",
      "Epoch 2/20\n",
      "368/368 [==============================] - 2s 5ms/step - loss: 0.1976 - mean_absolute_error: 0.2714 - val_loss: 0.2391 - val_mean_absolute_error: 0.2642\n",
      "Epoch 3/20\n",
      "368/368 [==============================] - 2s 5ms/step - loss: 0.1983 - mean_absolute_error: 0.2715 - val_loss: 0.2398 - val_mean_absolute_error: 0.2671\n",
      "Epoch 4/20\n",
      "368/368 [==============================] - 2s 5ms/step - loss: 0.1961 - mean_absolute_error: 0.2698 - val_loss: 0.2375 - val_mean_absolute_error: 0.2674\n",
      "Epoch 5/20\n",
      "368/368 [==============================] - 2s 5ms/step - loss: 0.1967 - mean_absolute_error: 0.2704 - val_loss: 0.2645 - val_mean_absolute_error: 0.2828\n",
      "Epoch 6/20\n",
      "368/368 [==============================] - 2s 5ms/step - loss: 0.1958 - mean_absolute_error: 0.2702 - val_loss: 0.2476 - val_mean_absolute_error: 0.2729\n",
      "***TRAIN***:\n",
      "correlation related to cluster centre: 0.90\n",
      "r2 score related to cluster centre: 0.81\n",
      "***VALIDATION***:\n",
      "correlation related to cluster centre: 0.90\n",
      "r2 score related to cluster centre: 0.79\n"
     ]
    },
    {
     "data": {
      "application/vnd.jupyter.widget-view+json": {
       "model_id": "628800d79fa449a89405647a5da707a8",
       "version_major": 2,
       "version_minor": 0
      },
      "text/plain": [
       "IntProgress(value=0, max=5788)"
      ]
     },
     "metadata": {},
     "output_type": "display_data"
    },
    {
     "name": "stdout",
     "output_type": "stream",
     "text": [
      "***VALIDATION***:\n",
      "average correlation: nan\n",
      "average r2: -978905577997787022305001472.00\n",
      "---do_investigations. cluster index : 1---\n"
     ]
    },
    {
     "data": {
      "application/vnd.jupyter.widget-view+json": {
       "model_id": "b70f517242ee4aa098a3362a9431441d",
       "version_major": 2,
       "version_minor": 0
      },
      "text/plain": [
       "IntProgress(value=0, max=930)"
      ]
     },
     "metadata": {},
     "output_type": "display_data"
    },
    {
     "name": "stdout",
     "output_type": "stream",
     "text": [
      "Epoch 1/20\n",
      "368/368 [==============================] - 5s 6ms/step - loss: 0.2741 - mean_absolute_error: 0.3542 - val_loss: 0.2062 - val_mean_absolute_error: 0.3017\n",
      "Epoch 2/20\n",
      "368/368 [==============================] - 2s 5ms/step - loss: 0.2047 - mean_absolute_error: 0.3031 - val_loss: 0.2047 - val_mean_absolute_error: 0.2967\n",
      "Epoch 3/20\n",
      "368/368 [==============================] - 2s 5ms/step - loss: 0.2050 - mean_absolute_error: 0.3018 - val_loss: 0.2086 - val_mean_absolute_error: 0.2961\n",
      "Epoch 4/20\n",
      "368/368 [==============================] - 2s 5ms/step - loss: 0.2033 - mean_absolute_error: 0.3002 - val_loss: 0.2063 - val_mean_absolute_error: 0.3052\n",
      "***TRAIN***:\n",
      "correlation related to cluster centre: 0.89\n",
      "r2 score related to cluster centre: 0.80\n",
      "***VALIDATION***:\n",
      "correlation related to cluster centre: 0.90\n",
      "r2 score related to cluster centre: 0.82\n"
     ]
    },
    {
     "data": {
      "application/vnd.jupyter.widget-view+json": {
       "model_id": "21030519add047a8901d7dd74d81bff4",
       "version_major": 2,
       "version_minor": 0
      },
      "text/plain": [
       "IntProgress(value=0, max=930)"
      ]
     },
     "metadata": {},
     "output_type": "display_data"
    },
    {
     "name": "stdout",
     "output_type": "stream",
     "text": [
      "***VALIDATION***:\n",
      "average correlation: 0.90\n",
      "average r2: 0.70\n",
      "---do_investigations. cluster index : 2---\n"
     ]
    },
    {
     "data": {
      "application/vnd.jupyter.widget-view+json": {
       "model_id": "4f3cc53611af46cb8f603514892ede3a",
       "version_major": 2,
       "version_minor": 0
      },
      "text/plain": [
       "IntProgress(value=0, max=205)"
      ]
     },
     "metadata": {},
     "output_type": "display_data"
    },
    {
     "name": "stdout",
     "output_type": "stream",
     "text": [
      "Epoch 1/20\n",
      "368/368 [==============================] - 5s 6ms/step - loss: 0.2595 - mean_absolute_error: 0.3395 - val_loss: 0.1908 - val_mean_absolute_error: 0.2743\n",
      "Epoch 2/20\n",
      "368/368 [==============================] - 2s 5ms/step - loss: 0.2092 - mean_absolute_error: 0.2969 - val_loss: 0.1843 - val_mean_absolute_error: 0.2758\n",
      "Epoch 3/20\n",
      "368/368 [==============================] - 2s 5ms/step - loss: 0.2068 - mean_absolute_error: 0.2940 - val_loss: 0.1834 - val_mean_absolute_error: 0.2849\n",
      "Epoch 4/20\n",
      "368/368 [==============================] - 2s 5ms/step - loss: 0.2066 - mean_absolute_error: 0.2947 - val_loss: 0.1839 - val_mean_absolute_error: 0.2761\n",
      "Epoch 5/20\n",
      "368/368 [==============================] - 2s 5ms/step - loss: 0.2061 - mean_absolute_error: 0.2935 - val_loss: 0.1857 - val_mean_absolute_error: 0.2756\n",
      "***TRAIN***:\n",
      "correlation related to cluster centre: 0.89\n",
      "r2 score related to cluster centre: 0.79\n",
      "***VALIDATION***:\n",
      "correlation related to cluster centre: 0.90\n",
      "r2 score related to cluster centre: 0.82\n"
     ]
    },
    {
     "data": {
      "application/vnd.jupyter.widget-view+json": {
       "model_id": "682ae52d16a24534936b296c6c6ab5f2",
       "version_major": 2,
       "version_minor": 0
      },
      "text/plain": [
       "IntProgress(value=0, max=205)"
      ]
     },
     "metadata": {},
     "output_type": "display_data"
    },
    {
     "name": "stdout",
     "output_type": "stream",
     "text": [
      "***VALIDATION***:\n",
      "average correlation: 0.90\n",
      "average r2: 0.81\n",
      "---do_investigations. cluster index : 3---\n"
     ]
    },
    {
     "data": {
      "application/vnd.jupyter.widget-view+json": {
       "model_id": "5839d76e86694057b92943877c4a5c2a",
       "version_major": 2,
       "version_minor": 0
      },
      "text/plain": [
       "IntProgress(value=0, max=317)"
      ]
     },
     "metadata": {},
     "output_type": "display_data"
    },
    {
     "name": "stdout",
     "output_type": "stream",
     "text": [
      "Epoch 1/20\n",
      "368/368 [==============================] - 5s 6ms/step - loss: 0.2615 - mean_absolute_error: 0.3586 - val_loss: 0.1708 - val_mean_absolute_error: 0.2853\n",
      "Epoch 2/20\n",
      "368/368 [==============================] - 2s 5ms/step - loss: 0.1912 - mean_absolute_error: 0.3009 - val_loss: 0.1741 - val_mean_absolute_error: 0.2926\n",
      "Epoch 3/20\n",
      "368/368 [==============================] - 2s 5ms/step - loss: 0.1904 - mean_absolute_error: 0.3001 - val_loss: 0.1675 - val_mean_absolute_error: 0.2822\n",
      "Epoch 4/20\n",
      "368/368 [==============================] - 2s 5ms/step - loss: 0.1895 - mean_absolute_error: 0.2992 - val_loss: 0.1736 - val_mean_absolute_error: 0.2937\n",
      "Epoch 5/20\n",
      "368/368 [==============================] - 2s 5ms/step - loss: 0.1897 - mean_absolute_error: 0.2991 - val_loss: 0.1714 - val_mean_absolute_error: 0.2918\n",
      "***TRAIN***:\n",
      "correlation related to cluster centre: 0.90\n",
      "r2 score related to cluster centre: 0.81\n",
      "***VALIDATION***:\n",
      "correlation related to cluster centre: 0.91\n",
      "r2 score related to cluster centre: 0.83\n"
     ]
    },
    {
     "data": {
      "application/vnd.jupyter.widget-view+json": {
       "model_id": "0b5b6c78478348688fce1e1c89d6228a",
       "version_major": 2,
       "version_minor": 0
      },
      "text/plain": [
       "IntProgress(value=0, max=317)"
      ]
     },
     "metadata": {},
     "output_type": "display_data"
    },
    {
     "name": "stdout",
     "output_type": "stream",
     "text": [
      "***VALIDATION***:\n",
      "average correlation: 0.90\n",
      "average r2: 0.76\n",
      "---do_investigations. cluster index : 4---\n"
     ]
    },
    {
     "data": {
      "application/vnd.jupyter.widget-view+json": {
       "model_id": "fdbcefcd18d94ca3bb2d10ec0b6d19e7",
       "version_major": 2,
       "version_minor": 0
      },
      "text/plain": [
       "IntProgress(value=0, max=125)"
      ]
     },
     "metadata": {},
     "output_type": "display_data"
    },
    {
     "name": "stdout",
     "output_type": "stream",
     "text": [
      "Epoch 1/20\n",
      "368/368 [==============================] - 8s 16ms/step - loss: 0.2696 - mean_absolute_error: 0.3510 - val_loss: 0.1712 - val_mean_absolute_error: 0.2865\n",
      "Epoch 2/20\n",
      "368/368 [==============================] - 2s 5ms/step - loss: 0.2108 - mean_absolute_error: 0.3052 - val_loss: 0.1712 - val_mean_absolute_error: 0.2875\n",
      "Epoch 3/20\n",
      "368/368 [==============================] - 2s 5ms/step - loss: 0.2104 - mean_absolute_error: 0.3051 - val_loss: 0.1666 - val_mean_absolute_error: 0.2805\n",
      "Epoch 4/20\n",
      "368/368 [==============================] - 2s 5ms/step - loss: 0.2100 - mean_absolute_error: 0.3031 - val_loss: 0.1755 - val_mean_absolute_error: 0.2961\n",
      "Epoch 5/20\n",
      "368/368 [==============================] - 2s 5ms/step - loss: 0.2088 - mean_absolute_error: 0.3030 - val_loss: 0.1721 - val_mean_absolute_error: 0.2907\n",
      "***TRAIN***:\n",
      "correlation related to cluster centre: 0.89\n",
      "r2 score related to cluster centre: 0.79\n",
      "***VALIDATION***:\n",
      "correlation related to cluster centre: 0.91\n",
      "r2 score related to cluster centre: 0.82\n"
     ]
    },
    {
     "data": {
      "application/vnd.jupyter.widget-view+json": {
       "model_id": "917d2c0ff5704fb8beeeca88fb64fc75",
       "version_major": 2,
       "version_minor": 0
      },
      "text/plain": [
       "IntProgress(value=0, max=125)"
      ]
     },
     "metadata": {},
     "output_type": "display_data"
    },
    {
     "name": "stdout",
     "output_type": "stream",
     "text": [
      "***VALIDATION***:\n",
      "average correlation: 0.91\n",
      "average r2: 0.81\n",
      "---do_investigations. cluster index : 5---\n"
     ]
    },
    {
     "data": {
      "application/vnd.jupyter.widget-view+json": {
       "model_id": "02be148b5b39433ab0e8f407fc0c158f",
       "version_major": 2,
       "version_minor": 0
      },
      "text/plain": [
       "IntProgress(value=0, max=160)"
      ]
     },
     "metadata": {},
     "output_type": "display_data"
    },
    {
     "name": "stdout",
     "output_type": "stream",
     "text": [
      "Epoch 1/20\n",
      "368/368 [==============================] - 5s 6ms/step - loss: 0.2558 - mean_absolute_error: 0.3534 - val_loss: 0.1571 - val_mean_absolute_error: 0.2819\n",
      "Epoch 2/20\n",
      "368/368 [==============================] - 2s 5ms/step - loss: 0.1967 - mean_absolute_error: 0.3069 - val_loss: 0.1561 - val_mean_absolute_error: 0.2751\n",
      "Epoch 3/20\n",
      "368/368 [==============================] - 2s 5ms/step - loss: 0.1967 - mean_absolute_error: 0.3061 - val_loss: 0.1575 - val_mean_absolute_error: 0.2852\n",
      "Epoch 4/20\n",
      "368/368 [==============================] - 2s 5ms/step - loss: 0.1975 - mean_absolute_error: 0.3067 - val_loss: 0.1571 - val_mean_absolute_error: 0.2847\n",
      "***TRAIN***:\n",
      "correlation related to cluster centre: 0.90\n",
      "r2 score related to cluster centre: 0.81\n",
      "***VALIDATION***:\n",
      "correlation related to cluster centre: 0.91\n",
      "r2 score related to cluster centre: 0.83\n"
     ]
    },
    {
     "data": {
      "application/vnd.jupyter.widget-view+json": {
       "model_id": "50581ce16456470caf4257f3146b24d0",
       "version_major": 2,
       "version_minor": 0
      },
      "text/plain": [
       "IntProgress(value=0, max=160)"
      ]
     },
     "metadata": {},
     "output_type": "display_data"
    },
    {
     "name": "stdout",
     "output_type": "stream",
     "text": [
      "***VALIDATION***:\n",
      "average correlation: 0.91\n",
      "average r2: 0.81\n",
      "---do_investigations. cluster index : 6---\n"
     ]
    },
    {
     "data": {
      "application/vnd.jupyter.widget-view+json": {
       "model_id": "00d366e707d6488f9f0f02d8b7cc8078",
       "version_major": 2,
       "version_minor": 0
      },
      "text/plain": [
       "IntProgress(value=0, max=69)"
      ]
     },
     "metadata": {},
     "output_type": "display_data"
    },
    {
     "name": "stdout",
     "output_type": "stream",
     "text": [
      "Epoch 1/20\n",
      "368/368 [==============================] - 5s 6ms/step - loss: 0.2749 - mean_absolute_error: 0.3614 - val_loss: 0.1471 - val_mean_absolute_error: 0.2664\n",
      "Epoch 2/20\n",
      "368/368 [==============================] - 2s 5ms/step - loss: 0.2129 - mean_absolute_error: 0.3117 - val_loss: 0.1480 - val_mean_absolute_error: 0.2711\n",
      "Epoch 3/20\n",
      "368/368 [==============================] - 2s 5ms/step - loss: 0.2117 - mean_absolute_error: 0.3104 - val_loss: 0.1495 - val_mean_absolute_error: 0.2720\n",
      "***TRAIN***:\n",
      "correlation related to cluster centre: 0.89\n",
      "r2 score related to cluster centre: 0.79\n",
      "***VALIDATION***:\n",
      "correlation related to cluster centre: 0.91\n",
      "r2 score related to cluster centre: 0.82\n"
     ]
    },
    {
     "data": {
      "application/vnd.jupyter.widget-view+json": {
       "model_id": "ae07642bd8c94720b8f034c3e8990bcc",
       "version_major": 2,
       "version_minor": 0
      },
      "text/plain": [
       "IntProgress(value=0, max=69)"
      ]
     },
     "metadata": {},
     "output_type": "display_data"
    },
    {
     "name": "stdout",
     "output_type": "stream",
     "text": [
      "***VALIDATION***:\n",
      "average correlation: 0.90\n",
      "average r2: 0.81\n",
      "---do_investigations. cluster index : 7---\n"
     ]
    },
    {
     "data": {
      "application/vnd.jupyter.widget-view+json": {
       "model_id": "8f134af822d941f398d972358b7775f1",
       "version_major": 2,
       "version_minor": 0
      },
      "text/plain": [
       "IntProgress(value=0, max=61)"
      ]
     },
     "metadata": {},
     "output_type": "display_data"
    },
    {
     "name": "stdout",
     "output_type": "stream",
     "text": [
      "Epoch 1/20\n",
      "368/368 [==============================] - 5s 6ms/step - loss: 0.2720 - mean_absolute_error: 0.3610 - val_loss: 0.1346 - val_mean_absolute_error: 0.2596\n",
      "Epoch 2/20\n",
      "368/368 [==============================] - 2s 5ms/step - loss: 0.2023 - mean_absolute_error: 0.3070 - val_loss: 0.1324 - val_mean_absolute_error: 0.2571\n",
      "Epoch 3/20\n",
      "368/368 [==============================] - 2s 5ms/step - loss: 0.2014 - mean_absolute_error: 0.3055 - val_loss: 0.1342 - val_mean_absolute_error: 0.2618\n",
      "Epoch 4/20\n",
      "368/368 [==============================] - 2s 5ms/step - loss: 0.1996 - mean_absolute_error: 0.3041 - val_loss: 0.1315 - val_mean_absolute_error: 0.2529\n",
      "Epoch 5/20\n",
      "368/368 [==============================] - 2s 5ms/step - loss: 0.1998 - mean_absolute_error: 0.3042 - val_loss: 0.1311 - val_mean_absolute_error: 0.2546\n",
      "Epoch 6/20\n",
      "368/368 [==============================] - 2s 5ms/step - loss: 0.1989 - mean_absolute_error: 0.3034 - val_loss: 0.1314 - val_mean_absolute_error: 0.2561\n",
      "Epoch 7/20\n",
      "368/368 [==============================] - 2s 5ms/step - loss: 0.1991 - mean_absolute_error: 0.3023 - val_loss: 0.1317 - val_mean_absolute_error: 0.2530\n",
      "***TRAIN***:\n",
      "correlation related to cluster centre: 0.90\n",
      "r2 score related to cluster centre: 0.80\n",
      "***VALIDATION***:\n",
      "correlation related to cluster centre: 0.91\n",
      "r2 score related to cluster centre: 0.83\n"
     ]
    },
    {
     "data": {
      "application/vnd.jupyter.widget-view+json": {
       "model_id": "b0e9cdb5d3fb40ddb32f9a3b6c0946c0",
       "version_major": 2,
       "version_minor": 0
      },
      "text/plain": [
       "IntProgress(value=0, max=61)"
      ]
     },
     "metadata": {},
     "output_type": "display_data"
    },
    {
     "name": "stdout",
     "output_type": "stream",
     "text": [
      "***VALIDATION***:\n",
      "average correlation: 0.91\n",
      "average r2: 0.83\n",
      "---do_investigations. cluster index : 8---\n"
     ]
    },
    {
     "data": {
      "application/vnd.jupyter.widget-view+json": {
       "model_id": "8d36eb6bbc6f4491ae042895dc150d92",
       "version_major": 2,
       "version_minor": 0
      },
      "text/plain": [
       "IntProgress(value=0, max=3)"
      ]
     },
     "metadata": {},
     "output_type": "display_data"
    },
    {
     "name": "stdout",
     "output_type": "stream",
     "text": [
      "Epoch 1/20\n",
      "368/368 [==============================] - 5s 6ms/step - loss: 0.3091 - mean_absolute_error: 0.2825 - val_loss: 0.0044 - val_mean_absolute_error: 0.0384\n",
      "Epoch 2/20\n",
      "368/368 [==============================] - 2s 5ms/step - loss: 0.2543 - mean_absolute_error: 0.2347 - val_loss: 0.0045 - val_mean_absolute_error: 0.0395\n",
      "Epoch 3/20\n",
      "368/368 [==============================] - 2s 5ms/step - loss: 0.2522 - mean_absolute_error: 0.2304 - val_loss: 0.0051 - val_mean_absolute_error: 0.0495\n",
      "***TRAIN***:\n",
      "correlation related to cluster centre: 0.87\n",
      "r2 score related to cluster centre: 0.75\n",
      "***VALIDATION***:\n",
      "correlation related to cluster centre: 0.91\n",
      "r2 score related to cluster centre: 0.74\n"
     ]
    },
    {
     "data": {
      "application/vnd.jupyter.widget-view+json": {
       "model_id": "3e1c6c0eb0e24359ae3218b26003f6b9",
       "version_major": 2,
       "version_minor": 0
      },
      "text/plain": [
       "IntProgress(value=0, max=3)"
      ]
     },
     "metadata": {},
     "output_type": "display_data"
    },
    {
     "name": "stdout",
     "output_type": "stream",
     "text": [
      "***VALIDATION***:\n",
      "average correlation: 0.91\n",
      "average r2: 0.70\n",
      "---do_investigations. cluster index : 9---\n"
     ]
    },
    {
     "data": {
      "application/vnd.jupyter.widget-view+json": {
       "model_id": "28d272ebe5d1414a9220191c22e7f2eb",
       "version_major": 2,
       "version_minor": 0
      },
      "text/plain": [
       "IntProgress(value=0, max=21)"
      ]
     },
     "metadata": {},
     "output_type": "display_data"
    },
    {
     "name": "stdout",
     "output_type": "stream",
     "text": [
      "Epoch 1/20\n",
      "368/368 [==============================] - 4s 6ms/step - loss: 0.2363 - mean_absolute_error: 0.3387 - val_loss: 0.1559 - val_mean_absolute_error: 0.2761\n",
      "Epoch 2/20\n",
      "368/368 [==============================] - 2s 5ms/step - loss: 0.1712 - mean_absolute_error: 0.2867 - val_loss: 0.1541 - val_mean_absolute_error: 0.2746\n",
      "Epoch 3/20\n",
      "368/368 [==============================] - 2s 5ms/step - loss: 0.1705 - mean_absolute_error: 0.2855 - val_loss: 0.1546 - val_mean_absolute_error: 0.2717\n",
      "Epoch 4/20\n",
      "368/368 [==============================] - 2s 5ms/step - loss: 0.1718 - mean_absolute_error: 0.2863 - val_loss: 0.1573 - val_mean_absolute_error: 0.2791\n",
      "***TRAIN***:\n",
      "correlation related to cluster centre: 0.91\n",
      "r2 score related to cluster centre: 0.82\n",
      "***VALIDATION***:\n",
      "correlation related to cluster centre: 0.91\n",
      "r2 score related to cluster centre: 0.83\n"
     ]
    },
    {
     "data": {
      "application/vnd.jupyter.widget-view+json": {
       "model_id": "9d0f99b6e6064bb5b55a9c639753d4be",
       "version_major": 2,
       "version_minor": 0
      },
      "text/plain": [
       "IntProgress(value=0, max=21)"
      ]
     },
     "metadata": {},
     "output_type": "display_data"
    },
    {
     "name": "stdout",
     "output_type": "stream",
     "text": [
      "***VALIDATION***:\n",
      "average correlation: 0.91\n",
      "average r2: 0.83\n",
      "---do_investigations. cluster index : 10---\n"
     ]
    },
    {
     "data": {
      "application/vnd.jupyter.widget-view+json": {
       "model_id": "806bc389bfca4912a39ad361b64d5edc",
       "version_major": 2,
       "version_minor": 0
      },
      "text/plain": [
       "IntProgress(value=0, max=1)"
      ]
     },
     "metadata": {},
     "output_type": "display_data"
    },
    {
     "name": "stdout",
     "output_type": "stream",
     "text": [
      "Epoch 1/20\n",
      "368/368 [==============================] - 4s 6ms/step - loss: 0.2235 - mean_absolute_error: 0.3273 - val_loss: 0.1840 - val_mean_absolute_error: 0.3140\n",
      "Epoch 2/20\n",
      "368/368 [==============================] - 2s 5ms/step - loss: 0.1665 - mean_absolute_error: 0.2799 - val_loss: 0.1787 - val_mean_absolute_error: 0.2995\n",
      "Epoch 3/20\n",
      "368/368 [==============================] - 2s 5ms/step - loss: 0.1665 - mean_absolute_error: 0.2796 - val_loss: 0.1798 - val_mean_absolute_error: 0.3044\n",
      "Epoch 4/20\n",
      "368/368 [==============================] - 2s 5ms/step - loss: 0.1666 - mean_absolute_error: 0.2808 - val_loss: 0.1797 - val_mean_absolute_error: 0.3035\n",
      "***TRAIN***:\n",
      "correlation related to cluster centre: 0.91\n",
      "r2 score related to cluster centre: 0.84\n",
      "***VALIDATION***:\n",
      "correlation related to cluster centre: 0.91\n",
      "r2 score related to cluster centre: 0.82\n"
     ]
    },
    {
     "data": {
      "application/vnd.jupyter.widget-view+json": {
       "model_id": "39ea69627d7b432fbcceb7aa27fdf8f9",
       "version_major": 2,
       "version_minor": 0
      },
      "text/plain": [
       "IntProgress(value=0, max=1)"
      ]
     },
     "metadata": {},
     "output_type": "display_data"
    },
    {
     "name": "stdout",
     "output_type": "stream",
     "text": [
      "***VALIDATION***:\n",
      "average correlation: 0.91\n",
      "average r2: 0.82\n",
      "weighted_average_correlation: 0.90\n",
      "weighted_average_r2_score: 0.75\n",
      "bad clusters rate: 0.75%\n"
     ]
    }
   ],
   "source": [
    "first_path = r\"C:\\Coding\\final-qualifying-work_2023-2024\\ClusteringCpp\\output\\kohonen 15 0.1 0.1.txt\"\n",
    "second_path = r\"C:\\Coding\\final-qualifying-work_2023-2024\\ClusteringCpp\\output\\kohonen 15 0.1 0.1 - 3 0.1 0.1.txt\"\n",
    "third_path = r\"C:\\Coding\\final-qualifying-work_2023-2024\\ClusteringCpp\\output\\kohonen 15 0.1 0.1 - 2 0.1 0.1.txt\"\n",
    "fourth_path = r\"C:\\Coding\\final-qualifying-work_2023-2024\\ClusteringCpp\\output\\kohonen 15 0.1 0.1 - 1 0.1 0.1.txt\"\n",
    "\n",
    "output_file = open(\"computational-experiments-output\", \"a\")\n",
    "\n",
    "selected_path = first_path\n",
    "\n",
    "print(f\"lstm {os.path.split(selected_path)[-1]}\")\n",
    "output_file.write(f\"lstm {os.path.split(selected_path)[-1]}\\n\")\n",
    "show_results(lstm_model, get_clusters(selected_path), CONV_WIDTH)\n",
    "\n",
    "output_file.close()"
   ]
  },
  {
   "cell_type": "code",
   "execution_count": 27,
   "id": "5eb8dcb3-58e6-4f86-9753-6ef063772923",
   "metadata": {},
   "outputs": [
    {
     "name": "stdout",
     "output_type": "stream",
     "text": [
      "lstm kohonen 15 0.1 0.1 - 3 0.1 0.1.txt\n",
      "---do_investigations. cluster index : 0---\n"
     ]
    },
    {
     "data": {
      "application/vnd.jupyter.widget-view+json": {
       "model_id": "73fdecc0883f4b07af46cc57781980d2",
       "version_major": 2,
       "version_minor": 0
      },
      "text/plain": [
       "IntProgress(value=0, max=654)"
      ]
     },
     "metadata": {},
     "output_type": "display_data"
    },
    {
     "name": "stdout",
     "output_type": "stream",
     "text": [
      "Epoch 1/20\n",
      "368/368 [==============================] - 4s 6ms/step - loss: 0.2590 - mean_absolute_error: 0.3617 - val_loss: 0.1938 - val_mean_absolute_error: 0.3026\n",
      "Epoch 2/20\n",
      "368/368 [==============================] - 2s 5ms/step - loss: 0.2039 - mean_absolute_error: 0.3175 - val_loss: 0.1927 - val_mean_absolute_error: 0.2988\n",
      "Epoch 3/20\n",
      "368/368 [==============================] - 2s 5ms/step - loss: 0.2043 - mean_absolute_error: 0.3180 - val_loss: 0.1919 - val_mean_absolute_error: 0.2985\n",
      "Epoch 4/20\n",
      "368/368 [==============================] - 2s 5ms/step - loss: 0.2020 - mean_absolute_error: 0.3155 - val_loss: 0.1909 - val_mean_absolute_error: 0.2986\n",
      "Epoch 5/20\n",
      "368/368 [==============================] - 2s 5ms/step - loss: 0.2016 - mean_absolute_error: 0.3144 - val_loss: 0.1910 - val_mean_absolute_error: 0.2999\n",
      "Epoch 6/20\n",
      "368/368 [==============================] - 2s 5ms/step - loss: 0.2017 - mean_absolute_error: 0.3147 - val_loss: 0.1920 - val_mean_absolute_error: 0.3002\n",
      "***TRAIN***:\n",
      "correlation related to cluster centre: 0.90\n",
      "r2 score related to cluster centre: 0.80\n",
      "***VALIDATION***:\n",
      "correlation related to cluster centre: 0.91\n",
      "r2 score related to cluster centre: 0.82\n"
     ]
    },
    {
     "data": {
      "application/vnd.jupyter.widget-view+json": {
       "model_id": "2ad81a03c59f4026af275bcb42b8998c",
       "version_major": 2,
       "version_minor": 0
      },
      "text/plain": [
       "IntProgress(value=0, max=654)"
      ]
     },
     "metadata": {},
     "output_type": "display_data"
    },
    {
     "name": "stdout",
     "output_type": "stream",
     "text": [
      "***VALIDATION***:\n",
      "average correlation: 0.90\n",
      "average r2: 0.78\n",
      "---do_investigations. cluster index : 1---\n"
     ]
    },
    {
     "data": {
      "application/vnd.jupyter.widget-view+json": {
       "model_id": "26657ed9238a4fb9888232029f565758",
       "version_major": 2,
       "version_minor": 0
      },
      "text/plain": [
       "IntProgress(value=0, max=174)"
      ]
     },
     "metadata": {},
     "output_type": "display_data"
    },
    {
     "name": "stdout",
     "output_type": "stream",
     "text": [
      "Epoch 1/20\n",
      "368/368 [==============================] - 4s 6ms/step - loss: 0.2751 - mean_absolute_error: 0.3534 - val_loss: 0.1700 - val_mean_absolute_error: 0.2783\n",
      "Epoch 2/20\n",
      "368/368 [==============================] - 2s 5ms/step - loss: 0.2101 - mean_absolute_error: 0.3038 - val_loss: 0.1699 - val_mean_absolute_error: 0.2715\n",
      "Epoch 3/20\n",
      "368/368 [==============================] - 2s 5ms/step - loss: 0.2087 - mean_absolute_error: 0.3023 - val_loss: 0.1698 - val_mean_absolute_error: 0.2737\n",
      "Epoch 4/20\n",
      "368/368 [==============================] - 2s 5ms/step - loss: 0.2084 - mean_absolute_error: 0.3016 - val_loss: 0.1691 - val_mean_absolute_error: 0.2784\n",
      "Epoch 5/20\n",
      "368/368 [==============================] - 2s 5ms/step - loss: 0.2082 - mean_absolute_error: 0.3017 - val_loss: 0.1704 - val_mean_absolute_error: 0.2704\n",
      "Epoch 6/20\n",
      "368/368 [==============================] - 2s 5ms/step - loss: 0.2072 - mean_absolute_error: 0.3010 - val_loss: 0.1703 - val_mean_absolute_error: 0.2750\n",
      "***TRAIN***:\n",
      "correlation related to cluster centre: 0.89\n",
      "r2 score related to cluster centre: 0.79\n",
      "***VALIDATION***:\n",
      "correlation related to cluster centre: 0.91\n",
      "r2 score related to cluster centre: 0.82\n"
     ]
    },
    {
     "data": {
      "application/vnd.jupyter.widget-view+json": {
       "model_id": "67c38ed0fbbe4703b5a91a23f5ee67b6",
       "version_major": 2,
       "version_minor": 0
      },
      "text/plain": [
       "IntProgress(value=0, max=174)"
      ]
     },
     "metadata": {},
     "output_type": "display_data"
    },
    {
     "name": "stdout",
     "output_type": "stream",
     "text": [
      "***VALIDATION***:\n",
      "average correlation: 0.90\n",
      "average r2: 0.81\n",
      "---do_investigations. cluster index : 2---\n"
     ]
    },
    {
     "data": {
      "application/vnd.jupyter.widget-view+json": {
       "model_id": "2bdd0c9e42a745d78105e02990b664ab",
       "version_major": 2,
       "version_minor": 0
      },
      "text/plain": [
       "IntProgress(value=0, max=160)"
      ]
     },
     "metadata": {},
     "output_type": "display_data"
    },
    {
     "name": "stdout",
     "output_type": "stream",
     "text": [
      "Epoch 1/20\n",
      "368/368 [==============================] - 6s 6ms/step - loss: 0.2613 - mean_absolute_error: 0.3533 - val_loss: 0.1563 - val_mean_absolute_error: 0.2783\n",
      "Epoch 2/20\n",
      "368/368 [==============================] - 2s 5ms/step - loss: 0.1962 - mean_absolute_error: 0.3062 - val_loss: 0.1553 - val_mean_absolute_error: 0.2779\n",
      "Epoch 3/20\n",
      "368/368 [==============================] - 2s 5ms/step - loss: 0.1946 - mean_absolute_error: 0.3050 - val_loss: 0.1557 - val_mean_absolute_error: 0.2805\n",
      "Epoch 4/20\n",
      "368/368 [==============================] - 2s 5ms/step - loss: 0.1947 - mean_absolute_error: 0.3052 - val_loss: 0.1612 - val_mean_absolute_error: 0.2853\n",
      "***TRAIN***:\n",
      "correlation related to cluster centre: 0.90\n",
      "r2 score related to cluster centre: 0.80\n",
      "***VALIDATION***:\n",
      "correlation related to cluster centre: 0.91\n",
      "r2 score related to cluster centre: 0.82\n"
     ]
    },
    {
     "data": {
      "application/vnd.jupyter.widget-view+json": {
       "model_id": "2a685cc2c14547629959c4c837c34d85",
       "version_major": 2,
       "version_minor": 0
      },
      "text/plain": [
       "IntProgress(value=0, max=160)"
      ]
     },
     "metadata": {},
     "output_type": "display_data"
    },
    {
     "name": "stdout",
     "output_type": "stream",
     "text": [
      "***VALIDATION***:\n",
      "average correlation: 0.91\n",
      "average r2: 0.80\n",
      "---do_investigations. cluster index : 3---\n"
     ]
    },
    {
     "data": {
      "application/vnd.jupyter.widget-view+json": {
       "model_id": "ae24d309d5be4be2a37332219aa345ec",
       "version_major": 2,
       "version_minor": 0
      },
      "text/plain": [
       "IntProgress(value=0, max=277)"
      ]
     },
     "metadata": {},
     "output_type": "display_data"
    },
    {
     "name": "stdout",
     "output_type": "stream",
     "text": [
      "Epoch 1/20\n",
      "368/368 [==============================] - 4s 6ms/step - loss: 0.2679 - mean_absolute_error: 0.3293 - val_loss: 0.1966 - val_mean_absolute_error: 0.2845\n",
      "Epoch 2/20\n",
      "368/368 [==============================] - 2s 5ms/step - loss: 0.2058 - mean_absolute_error: 0.2884 - val_loss: 0.2028 - val_mean_absolute_error: 0.2895\n",
      "Epoch 3/20\n",
      "368/368 [==============================] - 2s 5ms/step - loss: 0.2063 - mean_absolute_error: 0.2881 - val_loss: 0.2106 - val_mean_absolute_error: 0.2931\n",
      "***TRAIN***:\n",
      "correlation related to cluster centre: 0.89\n",
      "r2 score related to cluster centre: 0.79\n",
      "***VALIDATION***:\n",
      "correlation related to cluster centre: 0.90\n",
      "r2 score related to cluster centre: 0.80\n"
     ]
    },
    {
     "data": {
      "application/vnd.jupyter.widget-view+json": {
       "model_id": "81cbf3829c3c442e9da3e026a354e34a",
       "version_major": 2,
       "version_minor": 0
      },
      "text/plain": [
       "IntProgress(value=0, max=277)"
      ]
     },
     "metadata": {},
     "output_type": "display_data"
    },
    {
     "name": "stdout",
     "output_type": "stream",
     "text": [
      "***VALIDATION***:\n",
      "average correlation: 0.90\n",
      "average r2: 0.79\n",
      "---do_investigations. cluster index : 4---\n"
     ]
    },
    {
     "data": {
      "application/vnd.jupyter.widget-view+json": {
       "model_id": "08bbab685359403b92dc7f606144b3a9",
       "version_major": 2,
       "version_minor": 0
      },
      "text/plain": [
       "IntProgress(value=0, max=33)"
      ]
     },
     "metadata": {},
     "output_type": "display_data"
    },
    {
     "name": "stdout",
     "output_type": "stream",
     "text": [
      "Epoch 1/20\n",
      "368/368 [==============================] - 4s 6ms/step - loss: 0.2872 - mean_absolute_error: 0.3656 - val_loss: 0.1408 - val_mean_absolute_error: 0.2635\n",
      "Epoch 2/20\n",
      "368/368 [==============================] - 2s 5ms/step - loss: 0.2160 - mean_absolute_error: 0.3119 - val_loss: 0.1403 - val_mean_absolute_error: 0.2583\n",
      "Epoch 3/20\n",
      "368/368 [==============================] - 2s 5ms/step - loss: 0.2147 - mean_absolute_error: 0.3106 - val_loss: 0.1419 - val_mean_absolute_error: 0.2702\n",
      "Epoch 4/20\n",
      "368/368 [==============================] - 2s 5ms/step - loss: 0.2142 - mean_absolute_error: 0.3101 - val_loss: 0.1428 - val_mean_absolute_error: 0.2685\n",
      "***TRAIN***:\n",
      "correlation related to cluster centre: 0.89\n",
      "r2 score related to cluster centre: 0.79\n",
      "***VALIDATION***:\n",
      "correlation related to cluster centre: 0.91\n",
      "r2 score related to cluster centre: 0.82\n"
     ]
    },
    {
     "data": {
      "application/vnd.jupyter.widget-view+json": {
       "model_id": "fb86aed932ed47ddaddbb812e256cc35",
       "version_major": 2,
       "version_minor": 0
      },
      "text/plain": [
       "IntProgress(value=0, max=33)"
      ]
     },
     "metadata": {},
     "output_type": "display_data"
    },
    {
     "name": "stdout",
     "output_type": "stream",
     "text": [
      "***VALIDATION***:\n",
      "average correlation: 0.90\n",
      "average r2: 0.81\n",
      "---do_investigations. cluster index : 5---\n"
     ]
    },
    {
     "data": {
      "application/vnd.jupyter.widget-view+json": {
       "model_id": "95346a66668d4d0893c524c89a236894",
       "version_major": 2,
       "version_minor": 0
      },
      "text/plain": [
       "IntProgress(value=0, max=279)"
      ]
     },
     "metadata": {},
     "output_type": "display_data"
    },
    {
     "name": "stdout",
     "output_type": "stream",
     "text": [
      "Epoch 1/20\n",
      "368/368 [==============================] - 5s 6ms/step - loss: 0.2513 - mean_absolute_error: 0.3477 - val_loss: 0.1801 - val_mean_absolute_error: 0.2907\n",
      "Epoch 2/20\n",
      "368/368 [==============================] - 2s 5ms/step - loss: 0.1910 - mean_absolute_error: 0.3007 - val_loss: 0.1726 - val_mean_absolute_error: 0.2856\n",
      "Epoch 3/20\n",
      "368/368 [==============================] - 2s 5ms/step - loss: 0.1902 - mean_absolute_error: 0.2999 - val_loss: 0.1711 - val_mean_absolute_error: 0.2876\n",
      "Epoch 4/20\n",
      "368/368 [==============================] - 2s 5ms/step - loss: 0.1909 - mean_absolute_error: 0.3006 - val_loss: 0.1769 - val_mean_absolute_error: 0.2830\n",
      "Epoch 5/20\n",
      "368/368 [==============================] - 2s 5ms/step - loss: 0.1892 - mean_absolute_error: 0.2992 - val_loss: 0.1692 - val_mean_absolute_error: 0.2853\n",
      "Epoch 6/20\n",
      "368/368 [==============================] - 2s 5ms/step - loss: 0.1897 - mean_absolute_error: 0.2993 - val_loss: 0.1717 - val_mean_absolute_error: 0.2891\n",
      "Epoch 7/20\n",
      "368/368 [==============================] - 2s 5ms/step - loss: 0.1902 - mean_absolute_error: 0.3000 - val_loss: 0.1723 - val_mean_absolute_error: 0.2886\n",
      "***TRAIN***:\n",
      "correlation related to cluster centre: 0.90\n",
      "r2 score related to cluster centre: 0.81\n",
      "***VALIDATION***:\n",
      "correlation related to cluster centre: 0.91\n",
      "r2 score related to cluster centre: 0.83\n"
     ]
    },
    {
     "data": {
      "application/vnd.jupyter.widget-view+json": {
       "model_id": "b3424309e7d44236bddac2c2ecd712f1",
       "version_major": 2,
       "version_minor": 0
      },
      "text/plain": [
       "IntProgress(value=0, max=279)"
      ]
     },
     "metadata": {},
     "output_type": "display_data"
    },
    {
     "name": "stdout",
     "output_type": "stream",
     "text": [
      "***VALIDATION***:\n",
      "average correlation: 0.90\n",
      "average r2: 0.77\n",
      "---do_investigations. cluster index : 6---\n"
     ]
    },
    {
     "data": {
      "application/vnd.jupyter.widget-view+json": {
       "model_id": "9b5533fb1a83424c93c32c7b1c242078",
       "version_major": 2,
       "version_minor": 0
      },
      "text/plain": [
       "IntProgress(value=0, max=97)"
      ]
     },
     "metadata": {},
     "output_type": "display_data"
    },
    {
     "name": "stdout",
     "output_type": "stream",
     "text": [
      "Epoch 1/20\n",
      "368/368 [==============================] - 4s 6ms/step - loss: 0.2797 - mean_absolute_error: 0.3680 - val_loss: 0.1491 - val_mean_absolute_error: 0.2730\n",
      "Epoch 2/20\n",
      "368/368 [==============================] - 2s 5ms/step - loss: 0.2077 - mean_absolute_error: 0.3118 - val_loss: 0.1462 - val_mean_absolute_error: 0.2669\n",
      "Epoch 3/20\n",
      "368/368 [==============================] - 2s 5ms/step - loss: 0.2061 - mean_absolute_error: 0.3098 - val_loss: 0.1452 - val_mean_absolute_error: 0.2703\n",
      "Epoch 4/20\n",
      "368/368 [==============================] - 2s 5ms/step - loss: 0.2058 - mean_absolute_error: 0.3098 - val_loss: 0.1467 - val_mean_absolute_error: 0.2741\n",
      "Epoch 5/20\n",
      "368/368 [==============================] - 2s 5ms/step - loss: 0.2052 - mean_absolute_error: 0.3090 - val_loss: 0.1446 - val_mean_absolute_error: 0.2656\n",
      "Epoch 6/20\n",
      "368/368 [==============================] - 2s 5ms/step - loss: 0.2058 - mean_absolute_error: 0.3083 - val_loss: 0.1454 - val_mean_absolute_error: 0.2671\n",
      "Epoch 7/20\n",
      "368/368 [==============================] - 2s 5ms/step - loss: 0.2052 - mean_absolute_error: 0.3075 - val_loss: 0.1460 - val_mean_absolute_error: 0.2669\n",
      "***TRAIN***:\n",
      "correlation related to cluster centre: 0.89\n",
      "r2 score related to cluster centre: 0.79\n",
      "***VALIDATION***:\n",
      "correlation related to cluster centre: 0.91\n",
      "r2 score related to cluster centre: 0.82\n"
     ]
    },
    {
     "data": {
      "application/vnd.jupyter.widget-view+json": {
       "model_id": "8654f7719b994bf98dca191871d75b5e",
       "version_major": 2,
       "version_minor": 0
      },
      "text/plain": [
       "IntProgress(value=0, max=97)"
      ]
     },
     "metadata": {},
     "output_type": "display_data"
    },
    {
     "name": "stdout",
     "output_type": "stream",
     "text": [
      "***VALIDATION***:\n",
      "average correlation: 0.91\n",
      "average r2: 0.82\n",
      "---do_investigations. cluster index : 7---\n"
     ]
    },
    {
     "data": {
      "application/vnd.jupyter.widget-view+json": {
       "model_id": "0f26c3936718430b9a02ea7cd3522fc7",
       "version_major": 2,
       "version_minor": 0
      },
      "text/plain": [
       "IntProgress(value=0, max=3)"
      ]
     },
     "metadata": {},
     "output_type": "display_data"
    },
    {
     "name": "stdout",
     "output_type": "stream",
     "text": [
      "Epoch 1/20\n",
      "368/368 [==============================] - 5s 6ms/step - loss: 0.3084 - mean_absolute_error: 0.2747 - val_loss: 0.0041 - val_mean_absolute_error: 0.0384\n",
      "Epoch 2/20\n",
      "368/368 [==============================] - 2s 5ms/step - loss: 0.2526 - mean_absolute_error: 0.2326 - val_loss: 0.0047 - val_mean_absolute_error: 0.0478\n",
      "Epoch 3/20\n",
      "368/368 [==============================] - 2s 5ms/step - loss: 0.2516 - mean_absolute_error: 0.2311 - val_loss: 0.0041 - val_mean_absolute_error: 0.0422\n",
      "Epoch 4/20\n",
      "368/368 [==============================] - 2s 5ms/step - loss: 0.2516 - mean_absolute_error: 0.2305 - val_loss: 0.0035 - val_mean_absolute_error: 0.0329\n",
      "Epoch 5/20\n",
      "368/368 [==============================] - 2s 5ms/step - loss: 0.2498 - mean_absolute_error: 0.2307 - val_loss: 0.0036 - val_mean_absolute_error: 0.0346\n",
      "Epoch 6/20\n",
      "368/368 [==============================] - 2s 5ms/step - loss: 0.2497 - mean_absolute_error: 0.2293 - val_loss: 0.0036 - val_mean_absolute_error: 0.0361\n",
      "***TRAIN***:\n",
      "correlation related to cluster centre: 0.87\n",
      "r2 score related to cluster centre: 0.75\n",
      "***VALIDATION***:\n",
      "correlation related to cluster centre: 0.91\n",
      "r2 score related to cluster centre: 0.81\n"
     ]
    },
    {
     "data": {
      "application/vnd.jupyter.widget-view+json": {
       "model_id": "00bb317064454254953c91a6f00e7b31",
       "version_major": 2,
       "version_minor": 0
      },
      "text/plain": [
       "IntProgress(value=0, max=3)"
      ]
     },
     "metadata": {},
     "output_type": "display_data"
    },
    {
     "name": "stdout",
     "output_type": "stream",
     "text": [
      "***VALIDATION***:\n",
      "average correlation: 0.91\n",
      "average r2: 0.80\n",
      "---do_investigations. cluster index : 8---\n"
     ]
    },
    {
     "data": {
      "application/vnd.jupyter.widget-view+json": {
       "model_id": "ee474f266c6844b79dd45ea8057a80cf",
       "version_major": 2,
       "version_minor": 0
      },
      "text/plain": [
       "IntProgress(value=0, max=41)"
      ]
     },
     "metadata": {},
     "output_type": "display_data"
    },
    {
     "name": "stdout",
     "output_type": "stream",
     "text": [
      "Epoch 1/20\n",
      "368/368 [==============================] - 5s 6ms/step - loss: 0.2427 - mean_absolute_error: 0.3378 - val_loss: 0.1433 - val_mean_absolute_error: 0.2730\n",
      "Epoch 2/20\n",
      "368/368 [==============================] - 2s 5ms/step - loss: 0.1771 - mean_absolute_error: 0.2877 - val_loss: 0.1422 - val_mean_absolute_error: 0.2763\n",
      "Epoch 3/20\n",
      "368/368 [==============================] - 2s 5ms/step - loss: 0.1767 - mean_absolute_error: 0.2875 - val_loss: 0.1426 - val_mean_absolute_error: 0.2759\n",
      "Epoch 4/20\n",
      "368/368 [==============================] - 2s 5ms/step - loss: 0.1781 - mean_absolute_error: 0.2883 - val_loss: 0.1434 - val_mean_absolute_error: 0.2799\n",
      "***TRAIN***:\n",
      "correlation related to cluster centre: 0.91\n",
      "r2 score related to cluster centre: 0.82\n",
      "***VALIDATION***:\n",
      "correlation related to cluster centre: 0.91\n",
      "r2 score related to cluster centre: 0.83\n"
     ]
    },
    {
     "data": {
      "application/vnd.jupyter.widget-view+json": {
       "model_id": "ab7a7bf5c66d4d29b82edb7ed4ab1b58",
       "version_major": 2,
       "version_minor": 0
      },
      "text/plain": [
       "IntProgress(value=0, max=41)"
      ]
     },
     "metadata": {},
     "output_type": "display_data"
    },
    {
     "name": "stdout",
     "output_type": "stream",
     "text": [
      "***VALIDATION***:\n",
      "average correlation: 0.91\n",
      "average r2: 0.82\n",
      "---do_investigations. cluster index : 9---\n"
     ]
    },
    {
     "data": {
      "application/vnd.jupyter.widget-view+json": {
       "model_id": "76749c47a76f42ab9af401bf4f2bec41",
       "version_major": 2,
       "version_minor": 0
      },
      "text/plain": [
       "IntProgress(value=0, max=1)"
      ]
     },
     "metadata": {},
     "output_type": "display_data"
    },
    {
     "name": "stdout",
     "output_type": "stream",
     "text": [
      "Epoch 1/20\n",
      "368/368 [==============================] - 4s 6ms/step - loss: 0.2262 - mean_absolute_error: 0.3283 - val_loss: 0.1804 - val_mean_absolute_error: 0.2928\n",
      "Epoch 2/20\n",
      "368/368 [==============================] - 2s 5ms/step - loss: 0.1660 - mean_absolute_error: 0.2799 - val_loss: 0.1780 - val_mean_absolute_error: 0.2931\n",
      "Epoch 3/20\n",
      "368/368 [==============================] - 2s 5ms/step - loss: 0.1664 - mean_absolute_error: 0.2808 - val_loss: 0.1784 - val_mean_absolute_error: 0.2997\n",
      "Epoch 4/20\n",
      "368/368 [==============================] - 2s 5ms/step - loss: 0.1654 - mean_absolute_error: 0.2786 - val_loss: 0.1809 - val_mean_absolute_error: 0.2992\n",
      "***TRAIN***:\n",
      "correlation related to cluster centre: 0.91\n",
      "r2 score related to cluster centre: 0.83\n",
      "***VALIDATION***:\n",
      "correlation related to cluster centre: 0.91\n",
      "r2 score related to cluster centre: 0.82\n"
     ]
    },
    {
     "data": {
      "application/vnd.jupyter.widget-view+json": {
       "model_id": "ff70c67fd7f841efbd0a458ea4de3886",
       "version_major": 2,
       "version_minor": 0
      },
      "text/plain": [
       "IntProgress(value=0, max=1)"
      ]
     },
     "metadata": {},
     "output_type": "display_data"
    },
    {
     "name": "stdout",
     "output_type": "stream",
     "text": [
      "***VALIDATION***:\n",
      "average correlation: 0.91\n",
      "average r2: 0.82\n",
      "---do_investigations. cluster index : 10---\n"
     ]
    },
    {
     "data": {
      "application/vnd.jupyter.widget-view+json": {
       "model_id": "1fa756d853a343bfbc07e1d556db5372",
       "version_major": 2,
       "version_minor": 0
      },
      "text/plain": [
       "IntProgress(value=0, max=4509)"
      ]
     },
     "metadata": {},
     "output_type": "display_data"
    },
    {
     "name": "stdout",
     "output_type": "stream",
     "text": [
      "Epoch 1/20\n",
      "368/368 [==============================] - 4s 6ms/step - loss: 0.1780 - mean_absolute_error: 0.2573 - val_loss: 0.1321 - val_mean_absolute_error: 0.1803\n",
      "Epoch 2/20\n",
      "368/368 [==============================] - 2s 5ms/step - loss: 0.1059 - mean_absolute_error: 0.1965 - val_loss: 0.1245 - val_mean_absolute_error: 0.1773\n",
      "Epoch 3/20\n",
      "368/368 [==============================] - 2s 5ms/step - loss: 0.1035 - mean_absolute_error: 0.1931 - val_loss: 0.1216 - val_mean_absolute_error: 0.1752\n",
      "Epoch 4/20\n",
      "368/368 [==============================] - 2s 5ms/step - loss: 0.1031 - mean_absolute_error: 0.1951 - val_loss: 0.1209 - val_mean_absolute_error: 0.1760\n",
      "Epoch 5/20\n",
      "368/368 [==============================] - 2s 5ms/step - loss: 0.1028 - mean_absolute_error: 0.1941 - val_loss: 0.1208 - val_mean_absolute_error: 0.1776\n",
      "Epoch 6/20\n",
      "368/368 [==============================] - 2s 5ms/step - loss: 0.1034 - mean_absolute_error: 0.1942 - val_loss: 0.1206 - val_mean_absolute_error: 0.1756\n",
      "Epoch 7/20\n",
      "368/368 [==============================] - 2s 5ms/step - loss: 0.1023 - mean_absolute_error: 0.1937 - val_loss: 0.1190 - val_mean_absolute_error: 0.1747\n",
      "Epoch 8/20\n",
      "368/368 [==============================] - 2s 5ms/step - loss: 0.1020 - mean_absolute_error: 0.1935 - val_loss: 0.1210 - val_mean_absolute_error: 0.1775\n",
      "Epoch 9/20\n",
      "368/368 [==============================] - 2s 5ms/step - loss: 0.1021 - mean_absolute_error: 0.1913 - val_loss: 0.1228 - val_mean_absolute_error: 0.1799\n",
      "***TRAIN***:\n",
      "correlation related to cluster centre: 0.95\n",
      "r2 score related to cluster centre: 0.90\n",
      "***VALIDATION***:\n",
      "correlation related to cluster centre: 0.91\n",
      "r2 score related to cluster centre: 0.83\n"
     ]
    },
    {
     "data": {
      "application/vnd.jupyter.widget-view+json": {
       "model_id": "6d34d6651c624c348584df44f0cc6de1",
       "version_major": 2,
       "version_minor": 0
      },
      "text/plain": [
       "IntProgress(value=0, max=4509)"
      ]
     },
     "metadata": {},
     "output_type": "display_data"
    },
    {
     "name": "stdout",
     "output_type": "stream",
     "text": [
      "***VALIDATION***:\n",
      "average correlation: nan\n",
      "average r2: -114121861063727771675525120.00\n",
      "---do_investigations. cluster index : 11---\n"
     ]
    },
    {
     "data": {
      "application/vnd.jupyter.widget-view+json": {
       "model_id": "5e3b602757564f0d9db57dff2d8b5c92",
       "version_major": 2,
       "version_minor": 0
      },
      "text/plain": [
       "IntProgress(value=0, max=163)"
      ]
     },
     "metadata": {},
     "output_type": "display_data"
    },
    {
     "name": "stdout",
     "output_type": "stream",
     "text": [
      "Epoch 1/20\n",
      "368/368 [==============================] - 8s 6ms/step - loss: 0.2784 - mean_absolute_error: 0.3298 - val_loss: 0.2603 - val_mean_absolute_error: 0.3017\n",
      "Epoch 2/20\n",
      "368/368 [==============================] - 2s 5ms/step - loss: 0.2098 - mean_absolute_error: 0.2795 - val_loss: 0.2582 - val_mean_absolute_error: 0.3002\n",
      "Epoch 3/20\n",
      "368/368 [==============================] - 2s 5ms/step - loss: 0.2082 - mean_absolute_error: 0.2782 - val_loss: 0.2559 - val_mean_absolute_error: 0.2963\n",
      "Epoch 4/20\n",
      "368/368 [==============================] - 2s 5ms/step - loss: 0.2091 - mean_absolute_error: 0.2787 - val_loss: 0.2555 - val_mean_absolute_error: 0.2863\n",
      "Epoch 5/20\n",
      "368/368 [==============================] - 2s 5ms/step - loss: 0.2059 - mean_absolute_error: 0.2756 - val_loss: 0.2531 - val_mean_absolute_error: 0.2888\n",
      "Epoch 6/20\n",
      "368/368 [==============================] - 2s 5ms/step - loss: 0.2073 - mean_absolute_error: 0.2767 - val_loss: 0.2584 - val_mean_absolute_error: 0.2926\n",
      "Epoch 7/20\n",
      "368/368 [==============================] - 2s 5ms/step - loss: 0.2056 - mean_absolute_error: 0.2754 - val_loss: 0.2569 - val_mean_absolute_error: 0.3000\n",
      "***TRAIN***:\n",
      "correlation related to cluster centre: 0.89\n",
      "r2 score related to cluster centre: 0.79\n",
      "***VALIDATION***:\n",
      "correlation related to cluster centre: 0.90\n",
      "r2 score related to cluster centre: 0.80\n"
     ]
    },
    {
     "data": {
      "application/vnd.jupyter.widget-view+json": {
       "model_id": "674bcbc30e134561bdd81028b79c537d",
       "version_major": 2,
       "version_minor": 0
      },
      "text/plain": [
       "IntProgress(value=0, max=163)"
      ]
     },
     "metadata": {},
     "output_type": "display_data"
    },
    {
     "name": "stdout",
     "output_type": "stream",
     "text": [
      "***VALIDATION***:\n",
      "average correlation: 0.89\n",
      "average r2: 0.80\n",
      "---do_investigations. cluster index : 12---\n"
     ]
    },
    {
     "data": {
      "application/vnd.jupyter.widget-view+json": {
       "model_id": "ded1be251d9544b3afcfb34ce606dc40",
       "version_major": 2,
       "version_minor": 0
      },
      "text/plain": [
       "IntProgress(value=0, max=511)"
      ]
     },
     "metadata": {},
     "output_type": "display_data"
    },
    {
     "name": "stdout",
     "output_type": "stream",
     "text": [
      "Epoch 1/20\n",
      "368/368 [==============================] - 5s 6ms/step - loss: 0.2461 - mean_absolute_error: 0.3158 - val_loss: 0.1274 - val_mean_absolute_error: 0.2322\n",
      "Epoch 2/20\n",
      "368/368 [==============================] - 2s 5ms/step - loss: 0.1500 - mean_absolute_error: 0.2469 - val_loss: 0.1190 - val_mean_absolute_error: 0.2117\n",
      "Epoch 3/20\n",
      "368/368 [==============================] - 2s 5ms/step - loss: 0.1465 - mean_absolute_error: 0.2428 - val_loss: 0.1232 - val_mean_absolute_error: 0.2201\n",
      "Epoch 4/20\n",
      "368/368 [==============================] - 2s 5ms/step - loss: 0.1461 - mean_absolute_error: 0.2417 - val_loss: 0.1193 - val_mean_absolute_error: 0.2180\n",
      "***TRAIN***:\n",
      "correlation related to cluster centre: 0.93\n",
      "r2 score related to cluster centre: 0.86\n",
      "***VALIDATION***:\n",
      "correlation related to cluster centre: 0.93\n",
      "r2 score related to cluster centre: 0.86\n"
     ]
    },
    {
     "data": {
      "application/vnd.jupyter.widget-view+json": {
       "model_id": "cad3379b18354429adfa4721fda2a1b0",
       "version_major": 2,
       "version_minor": 0
      },
      "text/plain": [
       "IntProgress(value=0, max=511)"
      ]
     },
     "metadata": {},
     "output_type": "display_data"
    },
    {
     "name": "stdout",
     "output_type": "stream",
     "text": [
      "***VALIDATION***:\n",
      "average correlation: 0.90\n",
      "average r2: 0.71\n",
      "---do_investigations. cluster index : 13---\n"
     ]
    },
    {
     "data": {
      "application/vnd.jupyter.widget-view+json": {
       "model_id": "68b82e20910a4a398cf809a9e00a9d2d",
       "version_major": 2,
       "version_minor": 0
      },
      "text/plain": [
       "IntProgress(value=0, max=573)"
      ]
     },
     "metadata": {},
     "output_type": "display_data"
    },
    {
     "name": "stdout",
     "output_type": "stream",
     "text": [
      "Epoch 1/20\n",
      "368/368 [==============================] - 5s 6ms/step - loss: 0.2730 - mean_absolute_error: 0.3335 - val_loss: 0.2556 - val_mean_absolute_error: 0.2934\n",
      "Epoch 2/20\n",
      "368/368 [==============================] - 2s 5ms/step - loss: 0.2062 - mean_absolute_error: 0.2815 - val_loss: 0.2438 - val_mean_absolute_error: 0.2872\n",
      "Epoch 3/20\n",
      "368/368 [==============================] - 2s 5ms/step - loss: 0.2042 - mean_absolute_error: 0.2786 - val_loss: 0.2414 - val_mean_absolute_error: 0.2791\n",
      "Epoch 4/20\n",
      "368/368 [==============================] - 2s 5ms/step - loss: 0.2025 - mean_absolute_error: 0.2781 - val_loss: 0.2509 - val_mean_absolute_error: 0.2957\n",
      "Epoch 5/20\n",
      "368/368 [==============================] - 2s 5ms/step - loss: 0.2037 - mean_absolute_error: 0.2780 - val_loss: 0.2391 - val_mean_absolute_error: 0.2797\n",
      "Epoch 6/20\n",
      "368/368 [==============================] - 2s 5ms/step - loss: 0.2024 - mean_absolute_error: 0.2775 - val_loss: 0.2499 - val_mean_absolute_error: 0.2832\n",
      "Epoch 7/20\n",
      "368/368 [==============================] - 2s 5ms/step - loss: 0.2029 - mean_absolute_error: 0.2771 - val_loss: 0.2571 - val_mean_absolute_error: 0.2910\n",
      "***TRAIN***:\n",
      "correlation related to cluster centre: 0.89\n",
      "r2 score related to cluster centre: 0.79\n",
      "***VALIDATION***:\n",
      "correlation related to cluster centre: 0.90\n",
      "r2 score related to cluster centre: 0.79\n"
     ]
    },
    {
     "data": {
      "application/vnd.jupyter.widget-view+json": {
       "model_id": "d61819dcc3534746ab5995bb12238a62",
       "version_major": 2,
       "version_minor": 0
      },
      "text/plain": [
       "IntProgress(value=0, max=573)"
      ]
     },
     "metadata": {},
     "output_type": "display_data"
    },
    {
     "name": "stdout",
     "output_type": "stream",
     "text": [
      "***VALIDATION***:\n",
      "average correlation: 0.89\n",
      "average r2: 0.74\n",
      "---do_investigations. cluster index : 14---\n"
     ]
    },
    {
     "data": {
      "application/vnd.jupyter.widget-view+json": {
       "model_id": "1e66b1ff807949d2b234bb2d1ebdc79f",
       "version_major": 2,
       "version_minor": 0
      },
      "text/plain": [
       "IntProgress(value=0, max=200)"
      ]
     },
     "metadata": {},
     "output_type": "display_data"
    },
    {
     "name": "stdout",
     "output_type": "stream",
     "text": [
      "Epoch 1/20\n",
      "368/368 [==============================] - 5s 6ms/step - loss: 0.2693 - mean_absolute_error: 0.3646 - val_loss: 0.1870 - val_mean_absolute_error: 0.2943\n",
      "Epoch 2/20\n",
      "368/368 [==============================] - 2s 5ms/step - loss: 0.2040 - mean_absolute_error: 0.3085 - val_loss: 0.1851 - val_mean_absolute_error: 0.2850\n",
      "Epoch 3/20\n",
      "368/368 [==============================] - 2s 5ms/step - loss: 0.2035 - mean_absolute_error: 0.3074 - val_loss: 0.1841 - val_mean_absolute_error: 0.2872\n",
      "Epoch 4/20\n",
      "368/368 [==============================] - 2s 5ms/step - loss: 0.2026 - mean_absolute_error: 0.3067 - val_loss: 0.1855 - val_mean_absolute_error: 0.2929\n",
      "Epoch 5/20\n",
      "368/368 [==============================] - 2s 5ms/step - loss: 0.2026 - mean_absolute_error: 0.3068 - val_loss: 0.1842 - val_mean_absolute_error: 0.2907\n",
      "***TRAIN***:\n",
      "correlation related to cluster centre: 0.90\n",
      "r2 score related to cluster centre: 0.80\n",
      "***VALIDATION***:\n",
      "correlation related to cluster centre: 0.90\n",
      "r2 score related to cluster centre: 0.82\n"
     ]
    },
    {
     "data": {
      "application/vnd.jupyter.widget-view+json": {
       "model_id": "92c075a6f86e4c02a9da72191f7447cd",
       "version_major": 2,
       "version_minor": 0
      },
      "text/plain": [
       "IntProgress(value=0, max=200)"
      ]
     },
     "metadata": {},
     "output_type": "display_data"
    },
    {
     "name": "stdout",
     "output_type": "stream",
     "text": [
      "***VALIDATION***:\n",
      "average correlation: 0.90\n",
      "average r2: 0.79\n",
      "---do_investigations. cluster index : 15---\n"
     ]
    },
    {
     "data": {
      "application/vnd.jupyter.widget-view+json": {
       "model_id": "3ccd59ba2668495393c1a2b06f54b8db",
       "version_major": 2,
       "version_minor": 0
      },
      "text/plain": [
       "IntProgress(value=0, max=5)"
      ]
     },
     "metadata": {},
     "output_type": "display_data"
    },
    {
     "name": "stdout",
     "output_type": "stream",
     "text": [
      "Epoch 1/20\n",
      "368/368 [==============================] - 5s 6ms/step - loss: 0.2921 - mean_absolute_error: 0.2495 - val_loss: 0.3290 - val_mean_absolute_error: 0.2832\n",
      "Epoch 2/20\n",
      "368/368 [==============================] - 2s 5ms/step - loss: 0.1938 - mean_absolute_error: 0.2007 - val_loss: 0.3167 - val_mean_absolute_error: 0.2768\n",
      "Epoch 3/20\n",
      "368/368 [==============================] - 2s 5ms/step - loss: 0.1919 - mean_absolute_error: 0.1991 - val_loss: 0.3138 - val_mean_absolute_error: 0.2703\n",
      "Epoch 4/20\n",
      "368/368 [==============================] - 2s 5ms/step - loss: 0.1895 - mean_absolute_error: 0.1990 - val_loss: 0.3141 - val_mean_absolute_error: 0.2603\n",
      "Epoch 5/20\n",
      "368/368 [==============================] - 2s 5ms/step - loss: 0.1897 - mean_absolute_error: 0.1974 - val_loss: 0.3133 - val_mean_absolute_error: 0.2641\n",
      "Epoch 6/20\n",
      "368/368 [==============================] - 2s 5ms/step - loss: 0.1887 - mean_absolute_error: 0.1972 - val_loss: 0.3146 - val_mean_absolute_error: 0.2713\n",
      "Epoch 7/20\n",
      "368/368 [==============================] - 2s 5ms/step - loss: 0.1883 - mean_absolute_error: 0.1972 - val_loss: 0.3123 - val_mean_absolute_error: 0.2643\n",
      "Epoch 8/20\n",
      "368/368 [==============================] - 2s 5ms/step - loss: 0.1873 - mean_absolute_error: 0.1967 - val_loss: 0.3133 - val_mean_absolute_error: 0.2647\n",
      "Epoch 9/20\n",
      "368/368 [==============================] - 2s 5ms/step - loss: 0.1867 - mean_absolute_error: 0.1962 - val_loss: 0.3138 - val_mean_absolute_error: 0.2700\n",
      "***TRAIN***:\n",
      "correlation related to cluster centre: 0.90\n",
      "r2 score related to cluster centre: 0.82\n",
      "***VALIDATION***:\n",
      "correlation related to cluster centre: 0.91\n",
      "r2 score related to cluster centre: 0.83\n"
     ]
    },
    {
     "data": {
      "application/vnd.jupyter.widget-view+json": {
       "model_id": "e882e3b42c05485fa8db2bd0fdbc573a",
       "version_major": 2,
       "version_minor": 0
      },
      "text/plain": [
       "IntProgress(value=0, max=5)"
      ]
     },
     "metadata": {},
     "output_type": "display_data"
    },
    {
     "name": "stdout",
     "output_type": "stream",
     "text": [
      "***VALIDATION***:\n",
      "average correlation: 0.91\n",
      "average r2: 0.82\n",
      "weighted_average_correlation: 0.90\n",
      "weighted_average_r2_score: 0.77\n",
      "bad clusters rate: 0.59%\n"
     ]
    }
   ],
   "source": [
    "first_path = r\"C:\\Coding\\final-qualifying-work_2023-2024\\ClusteringCpp\\output\\kohonen 15 0.1 0.1.txt\"\n",
    "second_path = r\"C:\\Coding\\final-qualifying-work_2023-2024\\ClusteringCpp\\output\\kohonen 15 0.1 0.1 - 3 0.1 0.1.txt\"\n",
    "third_path = r\"C:\\Coding\\final-qualifying-work_2023-2024\\ClusteringCpp\\output\\kohonen 15 0.1 0.1 - 2 0.1 0.1.txt\"\n",
    "fourth_path = r\"C:\\Coding\\final-qualifying-work_2023-2024\\ClusteringCpp\\output\\kohonen 15 0.1 0.1 - 1 0.1 0.1.txt\"\n",
    "\n",
    "output_file = open(\"computational-experiments-output\", \"a\")\n",
    "\n",
    "selected_path = second_path\n",
    "\n",
    "print(f\"lstm {os.path.split(selected_path)[-1]}\")\n",
    "output_file.write(f\"lstm {os.path.split(selected_path)[-1]}\\n\")\n",
    "show_results(lstm_model, get_clusters(selected_path), CONV_WIDTH)\n",
    "\n",
    "output_file.close()"
   ]
  },
  {
   "cell_type": "code",
   "execution_count": 28,
   "id": "0e4983c5-c97a-422e-b9d5-a218082edc8a",
   "metadata": {},
   "outputs": [
    {
     "name": "stdout",
     "output_type": "stream",
     "text": [
      "lstm kohonen 15 0.1 0.1 - 2 0.1 0.1.txt\n",
      "---do_investigations. cluster index : 0---\n"
     ]
    },
    {
     "data": {
      "application/vnd.jupyter.widget-view+json": {
       "model_id": "e66cdba51bc8473e8d91c47e02240e19",
       "version_major": 2,
       "version_minor": 0
      },
      "text/plain": [
       "IntProgress(value=0, max=222)"
      ]
     },
     "metadata": {},
     "output_type": "display_data"
    },
    {
     "name": "stdout",
     "output_type": "stream",
     "text": [
      "Epoch 1/20\n",
      "368/368 [==============================] - 5s 6ms/step - loss: 0.2709 - mean_absolute_error: 0.3452 - val_loss: 0.1757 - val_mean_absolute_error: 0.2798\n",
      "Epoch 2/20\n",
      "368/368 [==============================] - 2s 5ms/step - loss: 0.2083 - mean_absolute_error: 0.2985 - val_loss: 0.1743 - val_mean_absolute_error: 0.2786\n",
      "Epoch 3/20\n",
      "368/368 [==============================] - 2s 5ms/step - loss: 0.2078 - mean_absolute_error: 0.2977 - val_loss: 0.1753 - val_mean_absolute_error: 0.2770\n",
      "Epoch 4/20\n",
      "368/368 [==============================] - 2s 5ms/step - loss: 0.2085 - mean_absolute_error: 0.2983 - val_loss: 0.1738 - val_mean_absolute_error: 0.2801\n",
      "Epoch 5/20\n",
      "368/368 [==============================] - 2s 5ms/step - loss: 0.2063 - mean_absolute_error: 0.2959 - val_loss: 0.1750 - val_mean_absolute_error: 0.2740\n",
      "Epoch 6/20\n",
      "368/368 [==============================] - 2s 5ms/step - loss: 0.2079 - mean_absolute_error: 0.2975 - val_loss: 0.1742 - val_mean_absolute_error: 0.2844\n",
      "***TRAIN***:\n",
      "correlation related to cluster centre: 0.89\n",
      "r2 score related to cluster centre: 0.80\n",
      "***VALIDATION***:\n",
      "correlation related to cluster centre: 0.91\n",
      "r2 score related to cluster centre: 0.82\n"
     ]
    },
    {
     "data": {
      "application/vnd.jupyter.widget-view+json": {
       "model_id": "0c799ae4e5fc49fe9990c8a292b60142",
       "version_major": 2,
       "version_minor": 0
      },
      "text/plain": [
       "IntProgress(value=0, max=222)"
      ]
     },
     "metadata": {},
     "output_type": "display_data"
    },
    {
     "name": "stdout",
     "output_type": "stream",
     "text": [
      "***VALIDATION***:\n",
      "average correlation: 0.90\n",
      "average r2: 0.81\n",
      "---do_investigations. cluster index : 1---\n"
     ]
    },
    {
     "data": {
      "application/vnd.jupyter.widget-view+json": {
       "model_id": "889d6da64e19425f8a50a2d962cd5af6",
       "version_major": 2,
       "version_minor": 0
      },
      "text/plain": [
       "IntProgress(value=0, max=824)"
      ]
     },
     "metadata": {},
     "output_type": "display_data"
    },
    {
     "name": "stdout",
     "output_type": "stream",
     "text": [
      "Epoch 1/20\n",
      "368/368 [==============================] - 5s 6ms/step - loss: 0.2809 - mean_absolute_error: 0.3579 - val_loss: 0.2042 - val_mean_absolute_error: 0.2998\n",
      "Epoch 2/20\n",
      "368/368 [==============================] - 2s 5ms/step - loss: 0.2060 - mean_absolute_error: 0.3009 - val_loss: 0.2023 - val_mean_absolute_error: 0.3006\n",
      "Epoch 3/20\n",
      "368/368 [==============================] - 2s 5ms/step - loss: 0.2052 - mean_absolute_error: 0.2994 - val_loss: 0.2018 - val_mean_absolute_error: 0.3000\n",
      "Epoch 4/20\n",
      "368/368 [==============================] - 2s 5ms/step - loss: 0.2038 - mean_absolute_error: 0.2987 - val_loss: 0.2014 - val_mean_absolute_error: 0.2949\n",
      "Epoch 5/20\n",
      "368/368 [==============================] - 2s 5ms/step - loss: 0.2031 - mean_absolute_error: 0.2985 - val_loss: 0.2012 - val_mean_absolute_error: 0.3008\n",
      "Epoch 6/20\n",
      "368/368 [==============================] - 2s 5ms/step - loss: 0.2033 - mean_absolute_error: 0.2981 - val_loss: 0.2018 - val_mean_absolute_error: 0.3037\n",
      "Epoch 7/20\n",
      "368/368 [==============================] - 2s 5ms/step - loss: 0.2033 - mean_absolute_error: 0.2978 - val_loss: 0.2002 - val_mean_absolute_error: 0.2958\n",
      "Epoch 8/20\n",
      "368/368 [==============================] - 2s 5ms/step - loss: 0.2025 - mean_absolute_error: 0.2975 - val_loss: 0.2000 - val_mean_absolute_error: 0.2935\n",
      "Epoch 9/20\n",
      "368/368 [==============================] - 2s 5ms/step - loss: 0.2022 - mean_absolute_error: 0.2968 - val_loss: 0.2015 - val_mean_absolute_error: 0.3033\n",
      "Epoch 10/20\n",
      "368/368 [==============================] - 2s 5ms/step - loss: 0.2020 - mean_absolute_error: 0.2959 - val_loss: 0.2029 - val_mean_absolute_error: 0.2975\n",
      "***TRAIN***:\n",
      "correlation related to cluster centre: 0.89\n",
      "r2 score related to cluster centre: 0.80\n",
      "***VALIDATION***:\n",
      "correlation related to cluster centre: 0.90\n",
      "r2 score related to cluster centre: 0.82\n"
     ]
    },
    {
     "data": {
      "application/vnd.jupyter.widget-view+json": {
       "model_id": "24e70a9dc9eb461d9625b029e23748e2",
       "version_major": 2,
       "version_minor": 0
      },
      "text/plain": [
       "IntProgress(value=0, max=824)"
      ]
     },
     "metadata": {},
     "output_type": "display_data"
    },
    {
     "name": "stdout",
     "output_type": "stream",
     "text": [
      "***VALIDATION***:\n",
      "average correlation: 0.90\n",
      "average r2: 0.75\n",
      "---do_investigations. cluster index : 2---\n"
     ]
    },
    {
     "data": {
      "application/vnd.jupyter.widget-view+json": {
       "model_id": "af832a8f91db4ee6bace0f3396d16cb9",
       "version_major": 2,
       "version_minor": 0
      },
      "text/plain": [
       "IntProgress(value=0, max=285)"
      ]
     },
     "metadata": {},
     "output_type": "display_data"
    },
    {
     "name": "stdout",
     "output_type": "stream",
     "text": [
      "Epoch 1/20\n",
      "368/368 [==============================] - 5s 6ms/step - loss: 0.2529 - mean_absolute_error: 0.3486 - val_loss: 0.1769 - val_mean_absolute_error: 0.2935\n",
      "Epoch 2/20\n",
      "368/368 [==============================] - 2s 5ms/step - loss: 0.1862 - mean_absolute_error: 0.2968 - val_loss: 0.1714 - val_mean_absolute_error: 0.2860\n",
      "Epoch 3/20\n",
      "368/368 [==============================] - 2s 5ms/step - loss: 0.1854 - mean_absolute_error: 0.2959 - val_loss: 0.1709 - val_mean_absolute_error: 0.2820\n",
      "Epoch 4/20\n",
      "368/368 [==============================] - 2s 5ms/step - loss: 0.1844 - mean_absolute_error: 0.2951 - val_loss: 0.1749 - val_mean_absolute_error: 0.2867\n",
      "Epoch 5/20\n",
      "368/368 [==============================] - 2s 5ms/step - loss: 0.1846 - mean_absolute_error: 0.2955 - val_loss: 0.1801 - val_mean_absolute_error: 0.2882\n",
      "***TRAIN***:\n",
      "correlation related to cluster centre: 0.90\n",
      "r2 score related to cluster centre: 0.81\n",
      "***VALIDATION***:\n",
      "correlation related to cluster centre: 0.91\n",
      "r2 score related to cluster centre: 0.82\n"
     ]
    },
    {
     "data": {
      "application/vnd.jupyter.widget-view+json": {
       "model_id": "9c7f7a16d1ff406d90ab8b8c36f08cd1",
       "version_major": 2,
       "version_minor": 0
      },
      "text/plain": [
       "IntProgress(value=0, max=285)"
      ]
     },
     "metadata": {},
     "output_type": "display_data"
    },
    {
     "name": "stdout",
     "output_type": "stream",
     "text": [
      "***VALIDATION***:\n",
      "average correlation: 0.90\n",
      "average r2: 0.73\n",
      "---do_investigations. cluster index : 3---\n"
     ]
    },
    {
     "data": {
      "application/vnd.jupyter.widget-view+json": {
       "model_id": "93fd8bf1632242558e7a18e99c38b15b",
       "version_major": 2,
       "version_minor": 0
      },
      "text/plain": [
       "IntProgress(value=0, max=114)"
      ]
     },
     "metadata": {},
     "output_type": "display_data"
    },
    {
     "name": "stdout",
     "output_type": "stream",
     "text": [
      "Epoch 1/20\n",
      "368/368 [==============================] - 5s 6ms/step - loss: 0.2704 - mean_absolute_error: 0.3576 - val_loss: 0.1588 - val_mean_absolute_error: 0.2810\n",
      "Epoch 2/20\n",
      "368/368 [==============================] - 2s 5ms/step - loss: 0.2115 - mean_absolute_error: 0.3108 - val_loss: 0.1570 - val_mean_absolute_error: 0.2823\n",
      "Epoch 3/20\n",
      "368/368 [==============================] - 2s 5ms/step - loss: 0.2110 - mean_absolute_error: 0.3098 - val_loss: 0.1616 - val_mean_absolute_error: 0.2824\n",
      "Epoch 4/20\n",
      "368/368 [==============================] - 2s 5ms/step - loss: 0.2105 - mean_absolute_error: 0.3091 - val_loss: 0.1549 - val_mean_absolute_error: 0.2742\n",
      "Epoch 5/20\n",
      "368/368 [==============================] - 2s 5ms/step - loss: 0.2097 - mean_absolute_error: 0.3078 - val_loss: 0.1565 - val_mean_absolute_error: 0.2825\n",
      "Epoch 6/20\n",
      "368/368 [==============================] - 2s 5ms/step - loss: 0.2096 - mean_absolute_error: 0.3081 - val_loss: 0.1573 - val_mean_absolute_error: 0.2753\n",
      "***TRAIN***:\n",
      "correlation related to cluster centre: 0.89\n",
      "r2 score related to cluster centre: 0.79\n",
      "***VALIDATION***:\n",
      "correlation related to cluster centre: 0.91\n",
      "r2 score related to cluster centre: 0.82\n"
     ]
    },
    {
     "data": {
      "application/vnd.jupyter.widget-view+json": {
       "model_id": "5dca241ccf4c4c3a902b50d99a343990",
       "version_major": 2,
       "version_minor": 0
      },
      "text/plain": [
       "IntProgress(value=0, max=114)"
      ]
     },
     "metadata": {},
     "output_type": "display_data"
    },
    {
     "name": "stdout",
     "output_type": "stream",
     "text": [
      "***VALIDATION***:\n",
      "average correlation: 0.90\n",
      "average r2: 0.81\n",
      "---do_investigations. cluster index : 4---\n"
     ]
    },
    {
     "data": {
      "application/vnd.jupyter.widget-view+json": {
       "model_id": "9b725d40755b4898bd3c9be3a3740f7f",
       "version_major": 2,
       "version_minor": 0
      },
      "text/plain": [
       "IntProgress(value=0, max=201)"
      ]
     },
     "metadata": {},
     "output_type": "display_data"
    },
    {
     "name": "stdout",
     "output_type": "stream",
     "text": [
      "Epoch 1/20\n",
      "368/368 [==============================] - 5s 6ms/step - loss: 0.2492 - mean_absolute_error: 0.3497 - val_loss: 0.1603 - val_mean_absolute_error: 0.2784\n",
      "Epoch 2/20\n",
      "368/368 [==============================] - 2s 5ms/step - loss: 0.1982 - mean_absolute_error: 0.3075 - val_loss: 0.1601 - val_mean_absolute_error: 0.2799\n",
      "Epoch 3/20\n",
      "368/368 [==============================] - 2s 5ms/step - loss: 0.1973 - mean_absolute_error: 0.3080 - val_loss: 0.1624 - val_mean_absolute_error: 0.2905\n",
      "Epoch 4/20\n",
      "368/368 [==============================] - 2s 5ms/step - loss: 0.1980 - mean_absolute_error: 0.3076 - val_loss: 0.1603 - val_mean_absolute_error: 0.2740\n",
      "***TRAIN***:\n",
      "correlation related to cluster centre: 0.90\n",
      "r2 score related to cluster centre: 0.80\n",
      "***VALIDATION***:\n",
      "correlation related to cluster centre: 0.91\n",
      "r2 score related to cluster centre: 0.83\n"
     ]
    },
    {
     "data": {
      "application/vnd.jupyter.widget-view+json": {
       "model_id": "aedd64509dce4ce784ff5dceb8860205",
       "version_major": 2,
       "version_minor": 0
      },
      "text/plain": [
       "IntProgress(value=0, max=201)"
      ]
     },
     "metadata": {},
     "output_type": "display_data"
    },
    {
     "name": "stdout",
     "output_type": "stream",
     "text": [
      "***VALIDATION***:\n",
      "average correlation: 0.91\n",
      "average r2: 0.82\n",
      "---do_investigations. cluster index : 5---\n"
     ]
    },
    {
     "data": {
      "application/vnd.jupyter.widget-view+json": {
       "model_id": "4bfc57017cb1493ba1e025becd6ab90e",
       "version_major": 2,
       "version_minor": 0
      },
      "text/plain": [
       "IntProgress(value=0, max=82)"
      ]
     },
     "metadata": {},
     "output_type": "display_data"
    },
    {
     "name": "stdout",
     "output_type": "stream",
     "text": [
      "Epoch 1/20\n",
      "368/368 [==============================] - 5s 6ms/step - loss: 0.2691 - mean_absolute_error: 0.3587 - val_loss: 0.1371 - val_mean_absolute_error: 0.2557\n",
      "Epoch 2/20\n",
      "368/368 [==============================] - 2s 5ms/step - loss: 0.2015 - mean_absolute_error: 0.3054 - val_loss: 0.1344 - val_mean_absolute_error: 0.2514\n",
      "Epoch 3/20\n",
      "368/368 [==============================] - 2s 5ms/step - loss: 0.2014 - mean_absolute_error: 0.3045 - val_loss: 0.1356 - val_mean_absolute_error: 0.2582\n",
      "Epoch 4/20\n",
      "368/368 [==============================] - 2s 5ms/step - loss: 0.2007 - mean_absolute_error: 0.3042 - val_loss: 0.1352 - val_mean_absolute_error: 0.2497\n",
      "***TRAIN***:\n",
      "correlation related to cluster centre: 0.90\n",
      "r2 score related to cluster centre: 0.80\n",
      "***VALIDATION***:\n",
      "correlation related to cluster centre: 0.91\n",
      "r2 score related to cluster centre: 0.83\n"
     ]
    },
    {
     "data": {
      "application/vnd.jupyter.widget-view+json": {
       "model_id": "2b4eece88670491cbe37df0564b3d066",
       "version_major": 2,
       "version_minor": 0
      },
      "text/plain": [
       "IntProgress(value=0, max=82)"
      ]
     },
     "metadata": {},
     "output_type": "display_data"
    },
    {
     "name": "stdout",
     "output_type": "stream",
     "text": [
      "***VALIDATION***:\n",
      "average correlation: 0.91\n",
      "average r2: 0.83\n",
      "---do_investigations. cluster index : 6---\n"
     ]
    },
    {
     "data": {
      "application/vnd.jupyter.widget-view+json": {
       "model_id": "4513d4253b7d4fdd8a39770282560b6c",
       "version_major": 2,
       "version_minor": 0
      },
      "text/plain": [
       "IntProgress(value=0, max=3)"
      ]
     },
     "metadata": {},
     "output_type": "display_data"
    },
    {
     "name": "stdout",
     "output_type": "stream",
     "text": [
      "Epoch 1/20\n",
      "368/368 [==============================] - 12s 6ms/step - loss: 0.2964 - mean_absolute_error: 0.2667 - val_loss: 0.0042 - val_mean_absolute_error: 0.0380\n",
      "Epoch 2/20\n",
      "368/368 [==============================] - 2s 5ms/step - loss: 0.2518 - mean_absolute_error: 0.2300 - val_loss: 0.0058 - val_mean_absolute_error: 0.0596\n",
      "Epoch 3/20\n",
      "368/368 [==============================] - 2s 5ms/step - loss: 0.2512 - mean_absolute_error: 0.2294 - val_loss: 0.0041 - val_mean_absolute_error: 0.0426\n",
      "Epoch 4/20\n",
      "368/368 [==============================] - 2s 5ms/step - loss: 0.2519 - mean_absolute_error: 0.2299 - val_loss: 0.0035 - val_mean_absolute_error: 0.0320\n",
      "Epoch 5/20\n",
      "368/368 [==============================] - 2s 5ms/step - loss: 0.2504 - mean_absolute_error: 0.2288 - val_loss: 0.0040 - val_mean_absolute_error: 0.0426\n",
      "Epoch 6/20\n",
      "368/368 [==============================] - 2s 5ms/step - loss: 0.2501 - mean_absolute_error: 0.2289 - val_loss: 0.0035 - val_mean_absolute_error: 0.0325\n",
      "***TRAIN***:\n",
      "correlation related to cluster centre: 0.87\n",
      "r2 score related to cluster centre: 0.75\n",
      "***VALIDATION***:\n",
      "correlation related to cluster centre: 0.91\n",
      "r2 score related to cluster centre: 0.82\n"
     ]
    },
    {
     "data": {
      "application/vnd.jupyter.widget-view+json": {
       "model_id": "f8dd67438ee94bc0bab3d04d14ca91b7",
       "version_major": 2,
       "version_minor": 0
      },
      "text/plain": [
       "IntProgress(value=0, max=3)"
      ]
     },
     "metadata": {},
     "output_type": "display_data"
    },
    {
     "name": "stdout",
     "output_type": "stream",
     "text": [
      "***VALIDATION***:\n",
      "average correlation: 0.91\n",
      "average r2: 0.83\n",
      "---do_investigations. cluster index : 7---\n"
     ]
    },
    {
     "data": {
      "application/vnd.jupyter.widget-view+json": {
       "model_id": "93a61abcb2c54f1dadd6284279989096",
       "version_major": 2,
       "version_minor": 0
      },
      "text/plain": [
       "IntProgress(value=0, max=38)"
      ]
     },
     "metadata": {},
     "output_type": "display_data"
    },
    {
     "name": "stdout",
     "output_type": "stream",
     "text": [
      "Epoch 1/20\n",
      "368/368 [==============================] - 5s 6ms/step - loss: 0.2316 - mean_absolute_error: 0.3333 - val_loss: 0.1399 - val_mean_absolute_error: 0.2668\n",
      "Epoch 2/20\n",
      "368/368 [==============================] - 2s 5ms/step - loss: 0.1696 - mean_absolute_error: 0.2823 - val_loss: 0.1390 - val_mean_absolute_error: 0.2632\n",
      "Epoch 3/20\n",
      "368/368 [==============================] - 2s 5ms/step - loss: 0.1694 - mean_absolute_error: 0.2814 - val_loss: 0.1391 - val_mean_absolute_error: 0.2631\n",
      "Epoch 4/20\n",
      "368/368 [==============================] - 2s 5ms/step - loss: 0.1687 - mean_absolute_error: 0.2817 - val_loss: 0.1381 - val_mean_absolute_error: 0.2578\n",
      "Epoch 5/20\n",
      "368/368 [==============================] - 2s 5ms/step - loss: 0.1690 - mean_absolute_error: 0.2820 - val_loss: 0.1419 - val_mean_absolute_error: 0.2611\n",
      "Epoch 6/20\n",
      "368/368 [==============================] - 2s 5ms/step - loss: 0.1683 - mean_absolute_error: 0.2803 - val_loss: 0.1387 - val_mean_absolute_error: 0.2651\n",
      "***TRAIN***:\n",
      "correlation related to cluster centre: 0.91\n",
      "r2 score related to cluster centre: 0.83\n",
      "***VALIDATION***:\n",
      "correlation related to cluster centre: 0.92\n",
      "r2 score related to cluster centre: 0.84\n"
     ]
    },
    {
     "data": {
      "application/vnd.jupyter.widget-view+json": {
       "model_id": "5e0259bee3b44048ba2f337933ab377e",
       "version_major": 2,
       "version_minor": 0
      },
      "text/plain": [
       "IntProgress(value=0, max=38)"
      ]
     },
     "metadata": {},
     "output_type": "display_data"
    },
    {
     "name": "stdout",
     "output_type": "stream",
     "text": [
      "***VALIDATION***:\n",
      "average correlation: 0.92\n",
      "average r2: 0.83\n",
      "---do_investigations. cluster index : 8---\n"
     ]
    },
    {
     "data": {
      "application/vnd.jupyter.widget-view+json": {
       "model_id": "60a7d0241dac42c18c883b394d4760a9",
       "version_major": 2,
       "version_minor": 0
      },
      "text/plain": [
       "IntProgress(value=0, max=1)"
      ]
     },
     "metadata": {},
     "output_type": "display_data"
    },
    {
     "name": "stdout",
     "output_type": "stream",
     "text": [
      "Epoch 1/20\n",
      "368/368 [==============================] - 5s 6ms/step - loss: 0.2311 - mean_absolute_error: 0.3339 - val_loss: 0.1799 - val_mean_absolute_error: 0.3007\n",
      "Epoch 2/20\n",
      "368/368 [==============================] - 2s 5ms/step - loss: 0.1669 - mean_absolute_error: 0.2811 - val_loss: 0.1797 - val_mean_absolute_error: 0.3057\n",
      "Epoch 3/20\n",
      "368/368 [==============================] - 2s 5ms/step - loss: 0.1659 - mean_absolute_error: 0.2803 - val_loss: 0.1807 - val_mean_absolute_error: 0.3064\n",
      "Epoch 4/20\n",
      "368/368 [==============================] - 2s 5ms/step - loss: 0.1661 - mean_absolute_error: 0.2802 - val_loss: 0.1823 - val_mean_absolute_error: 0.3109\n",
      "***TRAIN***:\n",
      "correlation related to cluster centre: 0.91\n",
      "r2 score related to cluster centre: 0.83\n",
      "***VALIDATION***:\n",
      "correlation related to cluster centre: 0.91\n",
      "r2 score related to cluster centre: 0.82\n"
     ]
    },
    {
     "data": {
      "application/vnd.jupyter.widget-view+json": {
       "model_id": "f40cc88bad1d4fd58d6f141c5ed895a4",
       "version_major": 2,
       "version_minor": 0
      },
      "text/plain": [
       "IntProgress(value=0, max=1)"
      ]
     },
     "metadata": {},
     "output_type": "display_data"
    },
    {
     "name": "stdout",
     "output_type": "stream",
     "text": [
      "***VALIDATION***:\n",
      "average correlation: 0.91\n",
      "average r2: 0.82\n",
      "---do_investigations. cluster index : 9---\n"
     ]
    },
    {
     "data": {
      "application/vnd.jupyter.widget-view+json": {
       "model_id": "a88553fdd6a84305aad0f5188ed3bd80",
       "version_major": 2,
       "version_minor": 0
      },
      "text/plain": [
       "IntProgress(value=0, max=4089)"
      ]
     },
     "metadata": {},
     "output_type": "display_data"
    },
    {
     "name": "stdout",
     "output_type": "stream",
     "text": [
      "Epoch 1/20\n",
      "368/368 [==============================] - 5s 6ms/step - loss: 0.1843 - mean_absolute_error: 0.2649 - val_loss: 0.1518 - val_mean_absolute_error: 0.2102\n",
      "Epoch 2/20\n",
      "368/368 [==============================] - 2s 5ms/step - loss: 0.1201 - mean_absolute_error: 0.2116 - val_loss: 0.1462 - val_mean_absolute_error: 0.2040\n",
      "Epoch 3/20\n",
      "368/368 [==============================] - 2s 5ms/step - loss: 0.1191 - mean_absolute_error: 0.2111 - val_loss: 0.1584 - val_mean_absolute_error: 0.2238\n",
      "Epoch 4/20\n",
      "368/368 [==============================] - 2s 5ms/step - loss: 0.1190 - mean_absolute_error: 0.2111 - val_loss: 0.1474 - val_mean_absolute_error: 0.2058\n",
      "***TRAIN***:\n",
      "correlation related to cluster centre: 0.94\n",
      "r2 score related to cluster centre: 0.88\n",
      "***VALIDATION***:\n",
      "correlation related to cluster centre: 0.91\n",
      "r2 score related to cluster centre: 0.82\n"
     ]
    },
    {
     "data": {
      "application/vnd.jupyter.widget-view+json": {
       "model_id": "c211e739de24472396219387d0ad009a",
       "version_major": 2,
       "version_minor": 0
      },
      "text/plain": [
       "IntProgress(value=0, max=4089)"
      ]
     },
     "metadata": {},
     "output_type": "display_data"
    },
    {
     "name": "stdout",
     "output_type": "stream",
     "text": [
      "***VALIDATION***:\n",
      "average correlation: nan\n",
      "average r2: -7261383027983761459380224.00\n",
      "---do_investigations. cluster index : 10---\n"
     ]
    },
    {
     "data": {
      "application/vnd.jupyter.widget-view+json": {
       "model_id": "88d3d5b96d4f4be5a73943d7e5d4026c",
       "version_major": 2,
       "version_minor": 0
      },
      "text/plain": [
       "IntProgress(value=0, max=190)"
      ]
     },
     "metadata": {},
     "output_type": "display_data"
    },
    {
     "name": "stdout",
     "output_type": "stream",
     "text": [
      "Epoch 1/20\n",
      "368/368 [==============================] - 5s 7ms/step - loss: 0.2466 - mean_absolute_error: 0.3400 - val_loss: 0.1841 - val_mean_absolute_error: 0.2787\n",
      "Epoch 2/20\n",
      "368/368 [==============================] - 2s 5ms/step - loss: 0.2019 - mean_absolute_error: 0.3040 - val_loss: 0.1768 - val_mean_absolute_error: 0.2757\n",
      "Epoch 3/20\n",
      "368/368 [==============================] - 2s 5ms/step - loss: 0.2008 - mean_absolute_error: 0.3034 - val_loss: 0.1774 - val_mean_absolute_error: 0.2759\n",
      "Epoch 4/20\n",
      "368/368 [==============================] - 2s 5ms/step - loss: 0.2017 - mean_absolute_error: 0.3026 - val_loss: 0.1792 - val_mean_absolute_error: 0.2790\n",
      "***TRAIN***:\n",
      "correlation related to cluster centre: 0.90\n",
      "r2 score related to cluster centre: 0.80\n",
      "***VALIDATION***:\n",
      "correlation related to cluster centre: 0.90\n",
      "r2 score related to cluster centre: 0.81\n"
     ]
    },
    {
     "data": {
      "application/vnd.jupyter.widget-view+json": {
       "model_id": "37864ee84407423bbe8c922194b70ba0",
       "version_major": 2,
       "version_minor": 0
      },
      "text/plain": [
       "IntProgress(value=0, max=190)"
      ]
     },
     "metadata": {},
     "output_type": "display_data"
    },
    {
     "name": "stdout",
     "output_type": "stream",
     "text": [
      "***VALIDATION***:\n",
      "average correlation: 0.90\n",
      "average r2: 0.79\n",
      "---do_investigations. cluster index : 11---\n"
     ]
    },
    {
     "data": {
      "application/vnd.jupyter.widget-view+json": {
       "model_id": "66e1fdf10ed14f459fdb7b3e59c06ceb",
       "version_major": 2,
       "version_minor": 0
      },
      "text/plain": [
       "IntProgress(value=0, max=226)"
      ]
     },
     "metadata": {},
     "output_type": "display_data"
    },
    {
     "name": "stdout",
     "output_type": "stream",
     "text": [
      "Epoch 1/20\n",
      "368/368 [==============================] - 5s 6ms/step - loss: 0.2786 - mean_absolute_error: 0.3177 - val_loss: 0.2676 - val_mean_absolute_error: 0.2793\n",
      "Epoch 2/20\n",
      "368/368 [==============================] - 2s 5ms/step - loss: 0.2072 - mean_absolute_error: 0.2723 - val_loss: 0.2664 - val_mean_absolute_error: 0.2837\n",
      "Epoch 3/20\n",
      "368/368 [==============================] - 2s 5ms/step - loss: 0.2076 - mean_absolute_error: 0.2723 - val_loss: 0.2663 - val_mean_absolute_error: 0.2735\n",
      "Epoch 4/20\n",
      "368/368 [==============================] - 2s 5ms/step - loss: 0.2084 - mean_absolute_error: 0.2715 - val_loss: 0.2642 - val_mean_absolute_error: 0.2798\n",
      "Epoch 5/20\n",
      "368/368 [==============================] - 2s 5ms/step - loss: 0.2052 - mean_absolute_error: 0.2710 - val_loss: 0.2684 - val_mean_absolute_error: 0.2681\n",
      "Epoch 6/20\n",
      "368/368 [==============================] - 2s 5ms/step - loss: 0.2059 - mean_absolute_error: 0.2708 - val_loss: 0.2655 - val_mean_absolute_error: 0.2745\n",
      "***TRAIN***:\n",
      "correlation related to cluster centre: 0.89\n",
      "r2 score related to cluster centre: 0.80\n",
      "***VALIDATION***:\n",
      "correlation related to cluster centre: 0.90\n",
      "r2 score related to cluster centre: 0.80\n"
     ]
    },
    {
     "data": {
      "application/vnd.jupyter.widget-view+json": {
       "model_id": "42d3394e53e24d278653a983c472b754",
       "version_major": 2,
       "version_minor": 0
      },
      "text/plain": [
       "IntProgress(value=0, max=226)"
      ]
     },
     "metadata": {},
     "output_type": "display_data"
    },
    {
     "name": "stdout",
     "output_type": "stream",
     "text": [
      "***VALIDATION***:\n",
      "average correlation: 0.89\n",
      "average r2: 0.79\n",
      "---do_investigations. cluster index : 12---\n"
     ]
    },
    {
     "data": {
      "application/vnd.jupyter.widget-view+json": {
       "model_id": "8b9b3c7954b0437dbe81c0c384cac9ea",
       "version_major": 2,
       "version_minor": 0
      },
      "text/plain": [
       "IntProgress(value=0, max=693)"
      ]
     },
     "metadata": {},
     "output_type": "display_data"
    },
    {
     "name": "stdout",
     "output_type": "stream",
     "text": [
      "Epoch 1/20\n",
      "368/368 [==============================] - 5s 6ms/step - loss: 0.2325 - mean_absolute_error: 0.3102 - val_loss: 0.1510 - val_mean_absolute_error: 0.2197\n",
      "Epoch 2/20\n",
      "368/368 [==============================] - 2s 5ms/step - loss: 0.1758 - mean_absolute_error: 0.2660 - val_loss: 0.1627 - val_mean_absolute_error: 0.2388\n",
      "Epoch 3/20\n",
      "368/368 [==============================] - 2s 5ms/step - loss: 0.1760 - mean_absolute_error: 0.2670 - val_loss: 0.1497 - val_mean_absolute_error: 0.2192\n",
      "Epoch 4/20\n",
      "368/368 [==============================] - 2s 5ms/step - loss: 0.1748 - mean_absolute_error: 0.2663 - val_loss: 0.1490 - val_mean_absolute_error: 0.2180\n",
      "Epoch 5/20\n",
      "368/368 [==============================] - 2s 5ms/step - loss: 0.1748 - mean_absolute_error: 0.2662 - val_loss: 0.1467 - val_mean_absolute_error: 0.2171\n",
      "Epoch 6/20\n",
      "368/368 [==============================] - 2s 5ms/step - loss: 0.1745 - mean_absolute_error: 0.2662 - val_loss: 0.1491 - val_mean_absolute_error: 0.2157\n",
      "Epoch 7/20\n",
      "368/368 [==============================] - 2s 5ms/step - loss: 0.1752 - mean_absolute_error: 0.2663 - val_loss: 0.1528 - val_mean_absolute_error: 0.2239\n",
      "***TRAIN***:\n",
      "correlation related to cluster centre: 0.91\n",
      "r2 score related to cluster centre: 0.82\n",
      "***VALIDATION***:\n",
      "correlation related to cluster centre: 0.90\n",
      "r2 score related to cluster centre: 0.80\n"
     ]
    },
    {
     "data": {
      "application/vnd.jupyter.widget-view+json": {
       "model_id": "c6924c1dcee342eebcd64621a27ad549",
       "version_major": 2,
       "version_minor": 0
      },
      "text/plain": [
       "IntProgress(value=0, max=693)"
      ]
     },
     "metadata": {},
     "output_type": "display_data"
    },
    {
     "name": "stdout",
     "output_type": "stream",
     "text": [
      "***VALIDATION***:\n",
      "average correlation: 0.88\n",
      "average r2: 0.76\n",
      "---do_investigations. cluster index : 13---\n"
     ]
    },
    {
     "data": {
      "application/vnd.jupyter.widget-view+json": {
       "model_id": "981cf8de79ae4658a3871cf97a0cc65b",
       "version_major": 2,
       "version_minor": 0
      },
      "text/plain": [
       "IntProgress(value=0, max=1)"
      ]
     },
     "metadata": {},
     "output_type": "display_data"
    },
    {
     "name": "stdout",
     "output_type": "stream",
     "text": [
      "Epoch 1/20\n",
      "368/368 [==============================] - 5s 6ms/step - loss: 0.2707 - mean_absolute_error: 0.2463 - val_loss: 0.2700 - val_mean_absolute_error: 0.2998\n",
      "Epoch 2/20\n",
      "368/368 [==============================] - 2s 5ms/step - loss: 0.1937 - mean_absolute_error: 0.2043 - val_loss: 0.2645 - val_mean_absolute_error: 0.2861\n",
      "Epoch 3/20\n",
      "368/368 [==============================] - 2s 5ms/step - loss: 0.1912 - mean_absolute_error: 0.2040 - val_loss: 0.2618 - val_mean_absolute_error: 0.2848\n",
      "Epoch 4/20\n",
      "368/368 [==============================] - 2s 5ms/step - loss: 0.1911 - mean_absolute_error: 0.2026 - val_loss: 0.2672 - val_mean_absolute_error: 0.2927\n",
      "Epoch 5/20\n",
      "368/368 [==============================] - 2s 5ms/step - loss: 0.1899 - mean_absolute_error: 0.2017 - val_loss: 0.2634 - val_mean_absolute_error: 0.2813\n",
      "***TRAIN***:\n",
      "correlation related to cluster centre: 0.90\n",
      "r2 score related to cluster centre: 0.81\n",
      "***VALIDATION***:\n",
      "correlation related to cluster centre: 0.92\n",
      "r2 score related to cluster centre: 0.84\n"
     ]
    },
    {
     "data": {
      "application/vnd.jupyter.widget-view+json": {
       "model_id": "92d0fa47a00a4e34bdac58ff8bc4a0f5",
       "version_major": 2,
       "version_minor": 0
      },
      "text/plain": [
       "IntProgress(value=0, max=1)"
      ]
     },
     "metadata": {},
     "output_type": "display_data"
    },
    {
     "name": "stdout",
     "output_type": "stream",
     "text": [
      "***VALIDATION***:\n",
      "average correlation: 0.92\n",
      "average r2: 0.84\n",
      "---do_investigations. cluster index : 14---\n"
     ]
    },
    {
     "data": {
      "application/vnd.jupyter.widget-view+json": {
       "model_id": "89002705993442d997f1f83a90b8b10f",
       "version_major": 2,
       "version_minor": 0
      },
      "text/plain": [
       "IntProgress(value=0, max=364)"
      ]
     },
     "metadata": {},
     "output_type": "display_data"
    },
    {
     "name": "stdout",
     "output_type": "stream",
     "text": [
      "Epoch 1/20\n",
      "368/368 [==============================] - 5s 6ms/step - loss: 0.1459 - mean_absolute_error: 0.2307 - val_loss: 0.0697 - val_mean_absolute_error: 0.1568\n",
      "Epoch 2/20\n",
      "368/368 [==============================] - 2s 5ms/step - loss: 0.0887 - mean_absolute_error: 0.1766 - val_loss: 0.0639 - val_mean_absolute_error: 0.1438\n",
      "Epoch 3/20\n",
      "368/368 [==============================] - 2s 5ms/step - loss: 0.0868 - mean_absolute_error: 0.1742 - val_loss: 0.0631 - val_mean_absolute_error: 0.1453\n",
      "Epoch 4/20\n",
      "368/368 [==============================] - 2s 5ms/step - loss: 0.0878 - mean_absolute_error: 0.1760 - val_loss: 0.0633 - val_mean_absolute_error: 0.1416\n",
      "Epoch 5/20\n",
      "368/368 [==============================] - 2s 5ms/step - loss: 0.0877 - mean_absolute_error: 0.1742 - val_loss: 0.0638 - val_mean_absolute_error: 0.1421\n",
      "***TRAIN***:\n",
      "correlation related to cluster centre: 0.96\n",
      "r2 score related to cluster centre: 0.91\n",
      "***VALIDATION***:\n",
      "correlation related to cluster centre: 0.95\n",
      "r2 score related to cluster centre: 0.90\n"
     ]
    },
    {
     "data": {
      "application/vnd.jupyter.widget-view+json": {
       "model_id": "25025cb0a1eb496c888497467dc44977",
       "version_major": 2,
       "version_minor": 0
      },
      "text/plain": [
       "IntProgress(value=0, max=364)"
      ]
     },
     "metadata": {},
     "output_type": "display_data"
    },
    {
     "name": "stdout",
     "output_type": "stream",
     "text": [
      "***VALIDATION***:\n",
      "average correlation: 0.89\n",
      "average r2: 0.68\n",
      "---do_investigations. cluster index : 15---\n"
     ]
    },
    {
     "data": {
      "application/vnd.jupyter.widget-view+json": {
       "model_id": "ecd61c2845c4446bb05f0cc302deb7d0",
       "version_major": 2,
       "version_minor": 0
      },
      "text/plain": [
       "IntProgress(value=0, max=90)"
      ]
     },
     "metadata": {},
     "output_type": "display_data"
    },
    {
     "name": "stdout",
     "output_type": "stream",
     "text": [
      "Epoch 1/20\n",
      "368/368 [==============================] - 5s 6ms/step - loss: 0.3101 - mean_absolute_error: 0.3314 - val_loss: 0.2915 - val_mean_absolute_error: 0.3074\n",
      "Epoch 2/20\n",
      "368/368 [==============================] - 2s 5ms/step - loss: 0.2101 - mean_absolute_error: 0.2746 - val_loss: 0.2748 - val_mean_absolute_error: 0.2816\n",
      "Epoch 3/20\n",
      "368/368 [==============================] - 2s 5ms/step - loss: 0.2096 - mean_absolute_error: 0.2749 - val_loss: 0.2717 - val_mean_absolute_error: 0.2856\n",
      "Epoch 4/20\n",
      "368/368 [==============================] - 2s 5ms/step - loss: 0.2082 - mean_absolute_error: 0.2734 - val_loss: 0.2701 - val_mean_absolute_error: 0.2832\n",
      "Epoch 5/20\n",
      "368/368 [==============================] - 2s 5ms/step - loss: 0.2075 - mean_absolute_error: 0.2725 - val_loss: 0.2725 - val_mean_absolute_error: 0.2758\n",
      "Epoch 6/20\n",
      "368/368 [==============================] - 2s 5ms/step - loss: 0.2076 - mean_absolute_error: 0.2727 - val_loss: 0.2708 - val_mean_absolute_error: 0.2807\n",
      "***TRAIN***:\n",
      "correlation related to cluster centre: 0.89\n",
      "r2 score related to cluster centre: 0.80\n",
      "***VALIDATION***:\n",
      "correlation related to cluster centre: 0.90\n",
      "r2 score related to cluster centre: 0.80\n"
     ]
    },
    {
     "data": {
      "application/vnd.jupyter.widget-view+json": {
       "model_id": "d9ba57ca4c2348ca8d65beed4d7d149d",
       "version_major": 2,
       "version_minor": 0
      },
      "text/plain": [
       "IntProgress(value=0, max=90)"
      ]
     },
     "metadata": {},
     "output_type": "display_data"
    },
    {
     "name": "stdout",
     "output_type": "stream",
     "text": [
      "***VALIDATION***:\n",
      "average correlation: 0.89\n",
      "average r2: 0.80\n",
      "---do_investigations. cluster index : 16---\n"
     ]
    },
    {
     "data": {
      "application/vnd.jupyter.widget-view+json": {
       "model_id": "645c97cd903241f7b3b0c1bb55eb57f3",
       "version_major": 2,
       "version_minor": 0
      },
      "text/plain": [
       "IntProgress(value=0, max=10)"
      ]
     },
     "metadata": {},
     "output_type": "display_data"
    },
    {
     "name": "stdout",
     "output_type": "stream",
     "text": [
      "Epoch 1/20\n",
      "368/368 [==============================] - 5s 6ms/step - loss: 0.2526 - mean_absolute_error: 0.2389 - val_loss: 0.3610 - val_mean_absolute_error: 0.2781\n",
      "Epoch 2/20\n",
      "368/368 [==============================] - 2s 5ms/step - loss: 0.1886 - mean_absolute_error: 0.1993 - val_loss: 0.3480 - val_mean_absolute_error: 0.2703\n",
      "Epoch 3/20\n",
      "368/368 [==============================] - 2s 5ms/step - loss: 0.1873 - mean_absolute_error: 0.1984 - val_loss: 0.3425 - val_mean_absolute_error: 0.2697\n",
      "Epoch 4/20\n",
      "368/368 [==============================] - 2s 5ms/step - loss: 0.1857 - mean_absolute_error: 0.1980 - val_loss: 0.3453 - val_mean_absolute_error: 0.2705\n",
      "Epoch 5/20\n",
      "368/368 [==============================] - 2s 5ms/step - loss: 0.1856 - mean_absolute_error: 0.1983 - val_loss: 0.3462 - val_mean_absolute_error: 0.2779\n",
      "***TRAIN***:\n",
      "correlation related to cluster centre: 0.90\n",
      "r2 score related to cluster centre: 0.81\n",
      "***VALIDATION***:\n",
      "correlation related to cluster centre: 0.91\n",
      "r2 score related to cluster centre: 0.83\n"
     ]
    },
    {
     "data": {
      "application/vnd.jupyter.widget-view+json": {
       "model_id": "2c7068792ad94bfb832d38893f9dd815",
       "version_major": 2,
       "version_minor": 0
      },
      "text/plain": [
       "IntProgress(value=0, max=10)"
      ]
     },
     "metadata": {},
     "output_type": "display_data"
    },
    {
     "name": "stdout",
     "output_type": "stream",
     "text": [
      "***VALIDATION***:\n",
      "average correlation: 0.91\n",
      "average r2: 0.82\n",
      "---do_investigations. cluster index : 17---\n"
     ]
    },
    {
     "data": {
      "application/vnd.jupyter.widget-view+json": {
       "model_id": "077f78f77f274d208b0e67441f3106a5",
       "version_major": 2,
       "version_minor": 0
      },
      "text/plain": [
       "IntProgress(value=0, max=2)"
      ]
     },
     "metadata": {},
     "output_type": "display_data"
    },
    {
     "name": "stdout",
     "output_type": "stream",
     "text": [
      "Epoch 1/20\n",
      "368/368 [==============================] - 5s 6ms/step - loss: 0.2872 - mean_absolute_error: 0.2384 - val_loss: 0.2768 - val_mean_absolute_error: 0.2452\n",
      "Epoch 2/20\n",
      "368/368 [==============================] - 2s 5ms/step - loss: 0.1982 - mean_absolute_error: 0.1940 - val_loss: 0.2743 - val_mean_absolute_error: 0.2507\n",
      "Epoch 3/20\n",
      "368/368 [==============================] - 2s 5ms/step - loss: 0.1964 - mean_absolute_error: 0.1946 - val_loss: 0.2970 - val_mean_absolute_error: 0.2767\n",
      "Epoch 4/20\n",
      "368/368 [==============================] - 2s 5ms/step - loss: 0.1952 - mean_absolute_error: 0.1938 - val_loss: 0.2705 - val_mean_absolute_error: 0.2405\n",
      "Epoch 5/20\n",
      "368/368 [==============================] - 2s 5ms/step - loss: 0.1962 - mean_absolute_error: 0.1939 - val_loss: 0.2838 - val_mean_absolute_error: 0.2562\n",
      "Epoch 6/20\n",
      "368/368 [==============================] - 2s 5ms/step - loss: 0.1949 - mean_absolute_error: 0.1932 - val_loss: 0.2660 - val_mean_absolute_error: 0.2462\n",
      "Epoch 7/20\n",
      "368/368 [==============================] - 2s 5ms/step - loss: 0.1954 - mean_absolute_error: 0.1926 - val_loss: 0.2688 - val_mean_absolute_error: 0.2610\n",
      "Epoch 8/20\n",
      "368/368 [==============================] - 2s 5ms/step - loss: 0.1941 - mean_absolute_error: 0.1930 - val_loss: 0.2718 - val_mean_absolute_error: 0.2340\n",
      "***TRAIN***:\n",
      "correlation related to cluster centre: 0.90\n",
      "r2 score related to cluster centre: 0.80\n",
      "***VALIDATION***:\n",
      "correlation related to cluster centre: 0.92\n",
      "r2 score related to cluster centre: 0.84\n"
     ]
    },
    {
     "data": {
      "application/vnd.jupyter.widget-view+json": {
       "model_id": "459ec2ff3d064affaed2b83c66fc2935",
       "version_major": 2,
       "version_minor": 0
      },
      "text/plain": [
       "IntProgress(value=0, max=2)"
      ]
     },
     "metadata": {},
     "output_type": "display_data"
    },
    {
     "name": "stdout",
     "output_type": "stream",
     "text": [
      "***VALIDATION***:\n",
      "average correlation: 0.91\n",
      "average r2: 0.83\n",
      "---do_investigations. cluster index : 18---\n"
     ]
    },
    {
     "data": {
      "application/vnd.jupyter.widget-view+json": {
       "model_id": "5f3a98b4deb244799233cf98dbaf3fea",
       "version_major": 2,
       "version_minor": 0
      },
      "text/plain": [
       "IntProgress(value=0, max=41)"
      ]
     },
     "metadata": {},
     "output_type": "display_data"
    },
    {
     "name": "stdout",
     "output_type": "stream",
     "text": [
      "Epoch 1/20\n",
      "368/368 [==============================] - 5s 6ms/step - loss: 0.2701 - mean_absolute_error: 0.3371 - val_loss: 0.2051 - val_mean_absolute_error: 0.2752\n",
      "Epoch 2/20\n",
      "368/368 [==============================] - 2s 5ms/step - loss: 0.2078 - mean_absolute_error: 0.2931 - val_loss: 0.2000 - val_mean_absolute_error: 0.2781\n",
      "Epoch 3/20\n",
      "368/368 [==============================] - 2s 5ms/step - loss: 0.2054 - mean_absolute_error: 0.2914 - val_loss: 0.1990 - val_mean_absolute_error: 0.2839\n",
      "Epoch 4/20\n",
      "368/368 [==============================] - 2s 5ms/step - loss: 0.2042 - mean_absolute_error: 0.2909 - val_loss: 0.2009 - val_mean_absolute_error: 0.2725\n",
      "Epoch 5/20\n",
      "368/368 [==============================] - 2s 5ms/step - loss: 0.2044 - mean_absolute_error: 0.2902 - val_loss: 0.1987 - val_mean_absolute_error: 0.2859\n",
      "Epoch 6/20\n",
      "368/368 [==============================] - 2s 5ms/step - loss: 0.2031 - mean_absolute_error: 0.2902 - val_loss: 0.1987 - val_mean_absolute_error: 0.2735\n",
      "Epoch 7/20\n",
      "368/368 [==============================] - 2s 5ms/step - loss: 0.2060 - mean_absolute_error: 0.2911 - val_loss: 0.1990 - val_mean_absolute_error: 0.2766\n",
      "***TRAIN***:\n",
      "correlation related to cluster centre: 0.89\n",
      "r2 score related to cluster centre: 0.80\n",
      "***VALIDATION***:\n",
      "correlation related to cluster centre: 0.90\n",
      "r2 score related to cluster centre: 0.81\n"
     ]
    },
    {
     "data": {
      "application/vnd.jupyter.widget-view+json": {
       "model_id": "6951d78048034a8a8c91a05fb0e11fcb",
       "version_major": 2,
       "version_minor": 0
      },
      "text/plain": [
       "IntProgress(value=0, max=41)"
      ]
     },
     "metadata": {},
     "output_type": "display_data"
    },
    {
     "name": "stdout",
     "output_type": "stream",
     "text": [
      "***VALIDATION***:\n",
      "average correlation: 0.90\n",
      "average r2: 0.81\n",
      "---do_investigations. cluster index : 19---\n"
     ]
    },
    {
     "data": {
      "application/vnd.jupyter.widget-view+json": {
       "model_id": "8207964ce98b4c19b67b64b8cba9c7e8",
       "version_major": 2,
       "version_minor": 0
      },
      "text/plain": [
       "IntProgress(value=0, max=40)"
      ]
     },
     "metadata": {},
     "output_type": "display_data"
    },
    {
     "name": "stdout",
     "output_type": "stream",
     "text": [
      "Epoch 1/20\n",
      "368/368 [==============================] - 12s 7ms/step - loss: 0.2775 - mean_absolute_error: 0.3228 - val_loss: 0.2615 - val_mean_absolute_error: 0.2822\n",
      "Epoch 2/20\n",
      "368/368 [==============================] - 2s 6ms/step - loss: 0.2106 - mean_absolute_error: 0.2770 - val_loss: 0.2559 - val_mean_absolute_error: 0.2768\n",
      "Epoch 3/20\n",
      "368/368 [==============================] - 2s 5ms/step - loss: 0.2098 - mean_absolute_error: 0.2771 - val_loss: 0.2543 - val_mean_absolute_error: 0.2844\n",
      "Epoch 4/20\n",
      "368/368 [==============================] - 2s 5ms/step - loss: 0.2083 - mean_absolute_error: 0.2758 - val_loss: 0.2524 - val_mean_absolute_error: 0.2802\n",
      "Epoch 5/20\n",
      "368/368 [==============================] - 2s 5ms/step - loss: 0.2072 - mean_absolute_error: 0.2745 - val_loss: 0.2521 - val_mean_absolute_error: 0.2847\n",
      "Epoch 6/20\n",
      "368/368 [==============================] - 2s 5ms/step - loss: 0.2089 - mean_absolute_error: 0.2751 - val_loss: 0.2537 - val_mean_absolute_error: 0.2716\n",
      "Epoch 7/20\n",
      "368/368 [==============================] - 2s 5ms/step - loss: 0.2074 - mean_absolute_error: 0.2740 - val_loss: 0.2538 - val_mean_absolute_error: 0.2755\n",
      "***TRAIN***:\n",
      "correlation related to cluster centre: 0.89\n",
      "r2 score related to cluster centre: 0.80\n",
      "***VALIDATION***:\n",
      "correlation related to cluster centre: 0.90\n",
      "r2 score related to cluster centre: 0.80\n"
     ]
    },
    {
     "data": {
      "application/vnd.jupyter.widget-view+json": {
       "model_id": "a8df4c61fdae48bc95b6ae4b6bd024a4",
       "version_major": 2,
       "version_minor": 0
      },
      "text/plain": [
       "IntProgress(value=0, max=40)"
      ]
     },
     "metadata": {},
     "output_type": "display_data"
    },
    {
     "name": "stdout",
     "output_type": "stream",
     "text": [
      "***VALIDATION***:\n",
      "average correlation: 0.89\n",
      "average r2: 0.80\n",
      "---do_investigations. cluster index : 20---\n"
     ]
    },
    {
     "data": {
      "application/vnd.jupyter.widget-view+json": {
       "model_id": "47f0383df2534215b350dfd2587d5c01",
       "version_major": 2,
       "version_minor": 0
      },
      "text/plain": [
       "IntProgress(value=0, max=164)"
      ]
     },
     "metadata": {},
     "output_type": "display_data"
    },
    {
     "name": "stdout",
     "output_type": "stream",
     "text": [
      "Epoch 1/20\n",
      "368/368 [==============================] - 5s 6ms/step - loss: 0.2514 - mean_absolute_error: 0.3227 - val_loss: 0.1484 - val_mean_absolute_error: 0.2463\n",
      "Epoch 2/20\n",
      "368/368 [==============================] - 2s 5ms/step - loss: 0.1774 - mean_absolute_error: 0.2690 - val_loss: 0.1397 - val_mean_absolute_error: 0.2354\n",
      "Epoch 3/20\n",
      "368/368 [==============================] - 2s 5ms/step - loss: 0.1773 - mean_absolute_error: 0.2678 - val_loss: 0.1454 - val_mean_absolute_error: 0.2454\n",
      "Epoch 4/20\n",
      "368/368 [==============================] - 2s 5ms/step - loss: 0.1764 - mean_absolute_error: 0.2676 - val_loss: 0.1434 - val_mean_absolute_error: 0.2402\n",
      "***TRAIN***:\n",
      "correlation related to cluster centre: 0.91\n",
      "r2 score related to cluster centre: 0.82\n",
      "***VALIDATION***:\n",
      "correlation related to cluster centre: 0.92\n",
      "r2 score related to cluster centre: 0.84\n"
     ]
    },
    {
     "data": {
      "application/vnd.jupyter.widget-view+json": {
       "model_id": "37e51694e8294045951ebf07264e5b94",
       "version_major": 2,
       "version_minor": 0
      },
      "text/plain": [
       "IntProgress(value=0, max=164)"
      ]
     },
     "metadata": {},
     "output_type": "display_data"
    },
    {
     "name": "stdout",
     "output_type": "stream",
     "text": [
      "***VALIDATION***:\n",
      "average correlation: 0.90\n",
      "average r2: 0.72\n",
      "weighted_average_correlation: 0.90\n",
      "weighted_average_r2_score: 0.76\n",
      "bad clusters rate: 0.53%\n"
     ]
    }
   ],
   "source": [
    "first_path = r\"C:\\Coding\\final-qualifying-work_2023-2024\\ClusteringCpp\\output\\kohonen 15 0.1 0.1.txt\"\n",
    "second_path = r\"C:\\Coding\\final-qualifying-work_2023-2024\\ClusteringCpp\\output\\kohonen 15 0.1 0.1 - 3 0.1 0.1.txt\"\n",
    "third_path = r\"C:\\Coding\\final-qualifying-work_2023-2024\\ClusteringCpp\\output\\kohonen 15 0.1 0.1 - 2 0.1 0.1.txt\"\n",
    "fourth_path = r\"C:\\Coding\\final-qualifying-work_2023-2024\\ClusteringCpp\\output\\kohonen 15 0.1 0.1 - 1 0.1 0.1.txt\"\n",
    "\n",
    "output_file = open(\"computational-experiments-output\", \"a\")\n",
    "\n",
    "selected_path = third_path\n",
    "\n",
    "print(f\"lstm {os.path.split(selected_path)[-1]}\")\n",
    "output_file.write(f\"lstm {os.path.split(selected_path)[-1]}\\n\")\n",
    "show_results(lstm_model, get_clusters(selected_path), CONV_WIDTH)\n",
    "\n",
    "output_file.close()"
   ]
  },
  {
   "cell_type": "code",
   "execution_count": 29,
   "id": "6faf54b7-ddcb-4da8-b7fe-6725da7153ed",
   "metadata": {},
   "outputs": [
    {
     "name": "stdout",
     "output_type": "stream",
     "text": [
      "lstm kohonen 15 0.1 0.1 - 1 0.1 0.1.txt\n",
      "---do_investigations. cluster index : 0---\n"
     ]
    },
    {
     "data": {
      "application/vnd.jupyter.widget-view+json": {
       "model_id": "ac3e03408c554c93a568e600d164bc27",
       "version_major": 2,
       "version_minor": 0
      },
      "text/plain": [
       "IntProgress(value=0, max=269)"
      ]
     },
     "metadata": {},
     "output_type": "display_data"
    },
    {
     "name": "stdout",
     "output_type": "stream",
     "text": [
      "Epoch 1/20\n",
      "368/368 [==============================] - 5s 6ms/step - loss: 0.2600 - mean_absolute_error: 0.3522 - val_loss: 0.1656 - val_mean_absolute_error: 0.2846\n",
      "Epoch 2/20\n",
      "368/368 [==============================] - 2s 5ms/step - loss: 0.1891 - mean_absolute_error: 0.3000 - val_loss: 0.1640 - val_mean_absolute_error: 0.2821\n",
      "Epoch 3/20\n",
      "368/368 [==============================] - 2s 5ms/step - loss: 0.1891 - mean_absolute_error: 0.2997 - val_loss: 0.1647 - val_mean_absolute_error: 0.2788\n",
      "Epoch 4/20\n",
      "368/368 [==============================] - 2s 5ms/step - loss: 0.1876 - mean_absolute_error: 0.2983 - val_loss: 0.1628 - val_mean_absolute_error: 0.2717\n",
      "Epoch 5/20\n",
      "368/368 [==============================] - 2s 5ms/step - loss: 0.1892 - mean_absolute_error: 0.2997 - val_loss: 0.1613 - val_mean_absolute_error: 0.2736\n",
      "Epoch 6/20\n",
      "368/368 [==============================] - 2s 5ms/step - loss: 0.1880 - mean_absolute_error: 0.2987 - val_loss: 0.1620 - val_mean_absolute_error: 0.2826\n",
      "Epoch 7/20\n",
      "368/368 [==============================] - 2s 5ms/step - loss: 0.1878 - mean_absolute_error: 0.2987 - val_loss: 0.1618 - val_mean_absolute_error: 0.2775\n",
      "***TRAIN***:\n",
      "correlation related to cluster centre: 0.90\n",
      "r2 score related to cluster centre: 0.81\n",
      "***VALIDATION***:\n",
      "correlation related to cluster centre: 0.91\n",
      "r2 score related to cluster centre: 0.83\n"
     ]
    },
    {
     "data": {
      "application/vnd.jupyter.widget-view+json": {
       "model_id": "2e9b8c97beec4954b208949c45a65769",
       "version_major": 2,
       "version_minor": 0
      },
      "text/plain": [
       "IntProgress(value=0, max=269)"
      ]
     },
     "metadata": {},
     "output_type": "display_data"
    },
    {
     "name": "stdout",
     "output_type": "stream",
     "text": [
      "***VALIDATION***:\n",
      "average correlation: 0.90\n",
      "average r2: 0.76\n",
      "---do_investigations. cluster index : 1---\n"
     ]
    },
    {
     "data": {
      "application/vnd.jupyter.widget-view+json": {
       "model_id": "81590e3616404adf913f4ff317f4ae57",
       "version_major": 2,
       "version_minor": 0
      },
      "text/plain": [
       "IntProgress(value=0, max=161)"
      ]
     },
     "metadata": {},
     "output_type": "display_data"
    },
    {
     "name": "stdout",
     "output_type": "stream",
     "text": [
      "Epoch 1/20\n",
      "368/368 [==============================] - 5s 6ms/step - loss: 0.2783 - mean_absolute_error: 0.3648 - val_loss: 0.1612 - val_mean_absolute_error: 0.2749\n",
      "Epoch 2/20\n",
      "368/368 [==============================] - 2s 5ms/step - loss: 0.1957 - mean_absolute_error: 0.3056 - val_loss: 0.1546 - val_mean_absolute_error: 0.2696\n",
      "Epoch 3/20\n",
      "368/368 [==============================] - 2s 5ms/step - loss: 0.1947 - mean_absolute_error: 0.3050 - val_loss: 0.1577 - val_mean_absolute_error: 0.2728\n",
      "Epoch 4/20\n",
      "368/368 [==============================] - 2s 5ms/step - loss: 0.1940 - mean_absolute_error: 0.3034 - val_loss: 0.1588 - val_mean_absolute_error: 0.2763\n",
      "***TRAIN***:\n",
      "correlation related to cluster centre: 0.90\n",
      "r2 score related to cluster centre: 0.80\n",
      "***VALIDATION***:\n",
      "correlation related to cluster centre: 0.91\n",
      "r2 score related to cluster centre: 0.82\n"
     ]
    },
    {
     "data": {
      "application/vnd.jupyter.widget-view+json": {
       "model_id": "79ae8227e1fa423b86c585b8f2963b4d",
       "version_major": 2,
       "version_minor": 0
      },
      "text/plain": [
       "IntProgress(value=0, max=161)"
      ]
     },
     "metadata": {},
     "output_type": "display_data"
    },
    {
     "name": "stdout",
     "output_type": "stream",
     "text": [
      "***VALIDATION***:\n",
      "average correlation: 0.91\n",
      "average r2: 0.82\n",
      "---do_investigations. cluster index : 2---\n"
     ]
    },
    {
     "data": {
      "application/vnd.jupyter.widget-view+json": {
       "model_id": "f57076b02ed94f6e97021fb42967f3a8",
       "version_major": 2,
       "version_minor": 0
      },
      "text/plain": [
       "IntProgress(value=0, max=653)"
      ]
     },
     "metadata": {},
     "output_type": "display_data"
    },
    {
     "name": "stdout",
     "output_type": "stream",
     "text": [
      "Epoch 1/20\n",
      "368/368 [==============================] - 5s 6ms/step - loss: 0.2537 - mean_absolute_error: 0.3581 - val_loss: 0.1900 - val_mean_absolute_error: 0.3050\n",
      "Epoch 2/20\n",
      "368/368 [==============================] - 2s 5ms/step - loss: 0.1988 - mean_absolute_error: 0.3132 - val_loss: 0.1886 - val_mean_absolute_error: 0.2978\n",
      "Epoch 3/20\n",
      "368/368 [==============================] - 2s 5ms/step - loss: 0.1983 - mean_absolute_error: 0.3120 - val_loss: 0.1913 - val_mean_absolute_error: 0.3053\n",
      "Epoch 4/20\n",
      "368/368 [==============================] - 2s 5ms/step - loss: 0.1978 - mean_absolute_error: 0.3122 - val_loss: 0.1927 - val_mean_absolute_error: 0.2984\n",
      "***TRAIN***:\n",
      "correlation related to cluster centre: 0.90\n",
      "r2 score related to cluster centre: 0.80\n",
      "***VALIDATION***:\n",
      "correlation related to cluster centre: 0.91\n",
      "r2 score related to cluster centre: 0.82\n"
     ]
    },
    {
     "data": {
      "application/vnd.jupyter.widget-view+json": {
       "model_id": "fc291b0a07a441219f2da780868bcf17",
       "version_major": 2,
       "version_minor": 0
      },
      "text/plain": [
       "IntProgress(value=0, max=653)"
      ]
     },
     "metadata": {},
     "output_type": "display_data"
    },
    {
     "name": "stdout",
     "output_type": "stream",
     "text": [
      "***VALIDATION***:\n",
      "average correlation: 0.90\n",
      "average r2: 0.75\n",
      "---do_investigations. cluster index : 3---\n"
     ]
    },
    {
     "data": {
      "application/vnd.jupyter.widget-view+json": {
       "model_id": "b0f2cc0e012d4dfb88e2da4a8d6e0d7a",
       "version_major": 2,
       "version_minor": 0
      },
      "text/plain": [
       "IntProgress(value=0, max=11)"
      ]
     },
     "metadata": {},
     "output_type": "display_data"
    },
    {
     "name": "stdout",
     "output_type": "stream",
     "text": [
      "Epoch 1/20\n",
      "368/368 [==============================] - 5s 6ms/step - loss: 0.2373 - mean_absolute_error: 0.3396 - val_loss: 0.1666 - val_mean_absolute_error: 0.2879\n",
      "Epoch 2/20\n",
      "368/368 [==============================] - 2s 5ms/step - loss: 0.1758 - mean_absolute_error: 0.2899 - val_loss: 0.1676 - val_mean_absolute_error: 0.2810\n",
      "Epoch 3/20\n",
      "368/368 [==============================] - 2s 5ms/step - loss: 0.1758 - mean_absolute_error: 0.2895 - val_loss: 0.1658 - val_mean_absolute_error: 0.2912\n",
      "Epoch 4/20\n",
      "368/368 [==============================] - 2s 5ms/step - loss: 0.1753 - mean_absolute_error: 0.2892 - val_loss: 0.1658 - val_mean_absolute_error: 0.2850\n",
      "Epoch 5/20\n",
      "368/368 [==============================] - 2s 5ms/step - loss: 0.1748 - mean_absolute_error: 0.2882 - val_loss: 0.1658 - val_mean_absolute_error: 0.2819\n",
      "***TRAIN***:\n",
      "correlation related to cluster centre: 0.91\n",
      "r2 score related to cluster centre: 0.83\n",
      "***VALIDATION***:\n",
      "correlation related to cluster centre: 0.91\n",
      "r2 score related to cluster centre: 0.83\n"
     ]
    },
    {
     "data": {
      "application/vnd.jupyter.widget-view+json": {
       "model_id": "ad1e7e9341b547a9ba20098e339974c4",
       "version_major": 2,
       "version_minor": 0
      },
      "text/plain": [
       "IntProgress(value=0, max=11)"
      ]
     },
     "metadata": {},
     "output_type": "display_data"
    },
    {
     "name": "stdout",
     "output_type": "stream",
     "text": [
      "***VALIDATION***:\n",
      "average correlation: 0.91\n",
      "average r2: 0.83\n",
      "---do_investigations. cluster index : 4---\n"
     ]
    },
    {
     "data": {
      "application/vnd.jupyter.widget-view+json": {
       "model_id": "6ae22f12e9c24ab8a9a71c3a83fdb1b1",
       "version_major": 2,
       "version_minor": 0
      },
      "text/plain": [
       "IntProgress(value=0, max=314)"
      ]
     },
     "metadata": {},
     "output_type": "display_data"
    },
    {
     "name": "stdout",
     "output_type": "stream",
     "text": [
      "Epoch 1/20\n",
      "368/368 [==============================] - 5s 6ms/step - loss: 0.2594 - mean_absolute_error: 0.3318 - val_loss: 0.1970 - val_mean_absolute_error: 0.2749\n",
      "Epoch 2/20\n",
      "368/368 [==============================] - 2s 5ms/step - loss: 0.2077 - mean_absolute_error: 0.2926 - val_loss: 0.1966 - val_mean_absolute_error: 0.2723\n",
      "Epoch 3/20\n",
      "368/368 [==============================] - 2s 5ms/step - loss: 0.2057 - mean_absolute_error: 0.2904 - val_loss: 0.1949 - val_mean_absolute_error: 0.2757\n",
      "Epoch 4/20\n",
      "368/368 [==============================] - 2s 5ms/step - loss: 0.2063 - mean_absolute_error: 0.2911 - val_loss: 0.1968 - val_mean_absolute_error: 0.2748\n",
      "Epoch 5/20\n",
      "368/368 [==============================] - 2s 5ms/step - loss: 0.2060 - mean_absolute_error: 0.2910 - val_loss: 0.1959 - val_mean_absolute_error: 0.2725\n",
      "***TRAIN***:\n",
      "correlation related to cluster centre: 0.89\n",
      "r2 score related to cluster centre: 0.79\n",
      "***VALIDATION***:\n",
      "correlation related to cluster centre: 0.91\n",
      "r2 score related to cluster centre: 0.82\n"
     ]
    },
    {
     "data": {
      "application/vnd.jupyter.widget-view+json": {
       "model_id": "2344f96945a5409abb0286dba2013cb6",
       "version_major": 2,
       "version_minor": 0
      },
      "text/plain": [
       "IntProgress(value=0, max=314)"
      ]
     },
     "metadata": {},
     "output_type": "display_data"
    },
    {
     "name": "stdout",
     "output_type": "stream",
     "text": [
      "***VALIDATION***:\n",
      "average correlation: 0.90\n",
      "average r2: 0.81\n",
      "---do_investigations. cluster index : 5---\n"
     ]
    },
    {
     "data": {
      "application/vnd.jupyter.widget-view+json": {
       "model_id": "5340dc4a66c5425dad2a519ff941225e",
       "version_major": 2,
       "version_minor": 0
      },
      "text/plain": [
       "IntProgress(value=0, max=168)"
      ]
     },
     "metadata": {},
     "output_type": "display_data"
    },
    {
     "name": "stdout",
     "output_type": "stream",
     "text": [
      "Epoch 1/20\n",
      "368/368 [==============================] - 5s 6ms/step - loss: 0.2761 - mean_absolute_error: 0.3493 - val_loss: 0.1717 - val_mean_absolute_error: 0.2889\n",
      "Epoch 2/20\n",
      "368/368 [==============================] - 2s 5ms/step - loss: 0.2086 - mean_absolute_error: 0.3034 - val_loss: 0.1696 - val_mean_absolute_error: 0.2888\n",
      "Epoch 3/20\n",
      "368/368 [==============================] - 2s 5ms/step - loss: 0.2087 - mean_absolute_error: 0.3034 - val_loss: 0.1724 - val_mean_absolute_error: 0.2939\n",
      "Epoch 4/20\n",
      "368/368 [==============================] - 2s 5ms/step - loss: 0.2087 - mean_absolute_error: 0.3026 - val_loss: 0.1707 - val_mean_absolute_error: 0.2924\n",
      "***TRAIN***:\n",
      "correlation related to cluster centre: 0.89\n",
      "r2 score related to cluster centre: 0.79\n",
      "***VALIDATION***:\n",
      "correlation related to cluster centre: 0.91\n",
      "r2 score related to cluster centre: 0.82\n"
     ]
    },
    {
     "data": {
      "application/vnd.jupyter.widget-view+json": {
       "model_id": "de51b19b95b84af6965aa33f8d996ee3",
       "version_major": 2,
       "version_minor": 0
      },
      "text/plain": [
       "IntProgress(value=0, max=168)"
      ]
     },
     "metadata": {},
     "output_type": "display_data"
    },
    {
     "name": "stdout",
     "output_type": "stream",
     "text": [
      "***VALIDATION***:\n",
      "average correlation: 0.91\n",
      "average r2: 0.81\n",
      "---do_investigations. cluster index : 6---\n"
     ]
    },
    {
     "data": {
      "application/vnd.jupyter.widget-view+json": {
       "model_id": "03e27ffb0c9d444696917495fbffc1ca",
       "version_major": 2,
       "version_minor": 0
      },
      "text/plain": [
       "IntProgress(value=0, max=93)"
      ]
     },
     "metadata": {},
     "output_type": "display_data"
    },
    {
     "name": "stdout",
     "output_type": "stream",
     "text": [
      "Epoch 1/20\n",
      "368/368 [==============================] - 5s 6ms/step - loss: 0.2926 - mean_absolute_error: 0.3670 - val_loss: 0.1446 - val_mean_absolute_error: 0.2680\n",
      "Epoch 2/20\n",
      "368/368 [==============================] - 2s 5ms/step - loss: 0.2069 - mean_absolute_error: 0.3091 - val_loss: 0.1405 - val_mean_absolute_error: 0.2574\n",
      "Epoch 3/20\n",
      "368/368 [==============================] - 2s 5ms/step - loss: 0.2071 - mean_absolute_error: 0.3093 - val_loss: 0.1424 - val_mean_absolute_error: 0.2719\n",
      "Epoch 4/20\n",
      "368/368 [==============================] - 2s 5ms/step - loss: 0.2054 - mean_absolute_error: 0.3077 - val_loss: 0.1399 - val_mean_absolute_error: 0.2617\n",
      "Epoch 5/20\n",
      "368/368 [==============================] - 2s 5ms/step - loss: 0.2047 - mean_absolute_error: 0.3077 - val_loss: 0.1399 - val_mean_absolute_error: 0.2624\n",
      "Epoch 6/20\n",
      "368/368 [==============================] - 2s 5ms/step - loss: 0.2058 - mean_absolute_error: 0.3080 - val_loss: 0.1410 - val_mean_absolute_error: 0.2615\n",
      "Epoch 7/20\n",
      "368/368 [==============================] - 2s 5ms/step - loss: 0.2047 - mean_absolute_error: 0.3069 - val_loss: 0.1401 - val_mean_absolute_error: 0.2596\n",
      "***TRAIN***:\n",
      "correlation related to cluster centre: 0.89\n",
      "r2 score related to cluster centre: 0.80\n",
      "***VALIDATION***:\n",
      "correlation related to cluster centre: 0.91\n",
      "r2 score related to cluster centre: 0.83\n"
     ]
    },
    {
     "data": {
      "application/vnd.jupyter.widget-view+json": {
       "model_id": "d70ed7abe96e45c6af1c1758aa2bcfaa",
       "version_major": 2,
       "version_minor": 0
      },
      "text/plain": [
       "IntProgress(value=0, max=93)"
      ]
     },
     "metadata": {},
     "output_type": "display_data"
    },
    {
     "name": "stdout",
     "output_type": "stream",
     "text": [
      "***VALIDATION***:\n",
      "average correlation: 0.91\n",
      "average r2: 0.83\n",
      "---do_investigations. cluster index : 7---\n"
     ]
    },
    {
     "data": {
      "application/vnd.jupyter.widget-view+json": {
       "model_id": "60fe619a49a9467288e4fc1da78fcb31",
       "version_major": 2,
       "version_minor": 0
      },
      "text/plain": [
       "IntProgress(value=0, max=4)"
      ]
     },
     "metadata": {},
     "output_type": "display_data"
    },
    {
     "name": "stdout",
     "output_type": "stream",
     "text": [
      "Epoch 1/20\n",
      "368/368 [==============================] - 5s 6ms/step - loss: 0.3112 - mean_absolute_error: 0.3052 - val_loss: 0.0264 - val_mean_absolute_error: 0.1181\n",
      "Epoch 2/20\n",
      "368/368 [==============================] - 2s 5ms/step - loss: 0.2412 - mean_absolute_error: 0.2594 - val_loss: 0.0270 - val_mean_absolute_error: 0.1176\n",
      "Epoch 3/20\n",
      "368/368 [==============================] - 2s 5ms/step - loss: 0.2396 - mean_absolute_error: 0.2586 - val_loss: 0.0267 - val_mean_absolute_error: 0.1184\n",
      "***TRAIN***:\n",
      "correlation related to cluster centre: 0.87\n",
      "r2 score related to cluster centre: 0.76\n",
      "***VALIDATION***:\n",
      "correlation related to cluster centre: 0.90\n",
      "r2 score related to cluster centre: 0.79\n"
     ]
    },
    {
     "data": {
      "application/vnd.jupyter.widget-view+json": {
       "model_id": "231eef3574d54e0fb33646ffab892d03",
       "version_major": 2,
       "version_minor": 0
      },
      "text/plain": [
       "IntProgress(value=0, max=4)"
      ]
     },
     "metadata": {},
     "output_type": "display_data"
    },
    {
     "name": "stdout",
     "output_type": "stream",
     "text": [
      "***VALIDATION***:\n",
      "average correlation: 0.91\n",
      "average r2: 0.24\n",
      "---do_investigations. cluster index : 8---\n"
     ]
    },
    {
     "data": {
      "application/vnd.jupyter.widget-view+json": {
       "model_id": "387abc552fd748b183b762864568e0c7",
       "version_major": 2,
       "version_minor": 0
      },
      "text/plain": [
       "IntProgress(value=0, max=21)"
      ]
     },
     "metadata": {},
     "output_type": "display_data"
    },
    {
     "name": "stdout",
     "output_type": "stream",
     "text": [
      "Epoch 1/20\n",
      "368/368 [==============================] - 5s 6ms/step - loss: 0.2760 - mean_absolute_error: 0.3564 - val_loss: 0.1403 - val_mean_absolute_error: 0.2585\n",
      "Epoch 2/20\n",
      "368/368 [==============================] - 2s 5ms/step - loss: 0.2164 - mean_absolute_error: 0.3100 - val_loss: 0.1418 - val_mean_absolute_error: 0.2621\n",
      "Epoch 3/20\n",
      "368/368 [==============================] - 2s 5ms/step - loss: 0.2171 - mean_absolute_error: 0.3103 - val_loss: 0.1372 - val_mean_absolute_error: 0.2526\n",
      "Epoch 4/20\n",
      "368/368 [==============================] - 2s 5ms/step - loss: 0.2158 - mean_absolute_error: 0.3092 - val_loss: 0.1403 - val_mean_absolute_error: 0.2562\n",
      "Epoch 5/20\n",
      "368/368 [==============================] - 2s 5ms/step - loss: 0.2167 - mean_absolute_error: 0.3097 - val_loss: 0.1359 - val_mean_absolute_error: 0.2541\n",
      "Epoch 6/20\n",
      "368/368 [==============================] - 2s 5ms/step - loss: 0.2147 - mean_absolute_error: 0.3079 - val_loss: 0.1371 - val_mean_absolute_error: 0.2570\n",
      "Epoch 7/20\n",
      "368/368 [==============================] - 2s 5ms/step - loss: 0.2145 - mean_absolute_error: 0.3077 - val_loss: 0.1378 - val_mean_absolute_error: 0.2468\n",
      "***TRAIN***:\n",
      "correlation related to cluster centre: 0.89\n",
      "r2 score related to cluster centre: 0.78\n",
      "***VALIDATION***:\n",
      "correlation related to cluster centre: 0.91\n",
      "r2 score related to cluster centre: 0.82\n"
     ]
    },
    {
     "data": {
      "application/vnd.jupyter.widget-view+json": {
       "model_id": "55d2f6029e06498092158fca909a7910",
       "version_major": 2,
       "version_minor": 0
      },
      "text/plain": [
       "IntProgress(value=0, max=21)"
      ]
     },
     "metadata": {},
     "output_type": "display_data"
    },
    {
     "name": "stdout",
     "output_type": "stream",
     "text": [
      "***VALIDATION***:\n",
      "average correlation: 0.90\n",
      "average r2: 0.81\n",
      "---do_investigations. cluster index : 9---\n"
     ]
    },
    {
     "data": {
      "application/vnd.jupyter.widget-view+json": {
       "model_id": "f2e8eea80359471b8bbe46f5176ebc81",
       "version_major": 2,
       "version_minor": 0
      },
      "text/plain": [
       "IntProgress(value=0, max=1171)"
      ]
     },
     "metadata": {},
     "output_type": "display_data"
    },
    {
     "name": "stdout",
     "output_type": "stream",
     "text": [
      "Epoch 1/20\n",
      "368/368 [==============================] - 5s 7ms/step - loss: 0.1062 - mean_absolute_error: 0.1920 - val_loss: 0.0614 - val_mean_absolute_error: 0.1582\n",
      "Epoch 2/20\n",
      "368/368 [==============================] - 2s 5ms/step - loss: 0.0413 - mean_absolute_error: 0.1225 - val_loss: 0.0645 - val_mean_absolute_error: 0.1678\n",
      "Epoch 3/20\n",
      "368/368 [==============================] - 2s 5ms/step - loss: 0.0410 - mean_absolute_error: 0.1218 - val_loss: 0.0494 - val_mean_absolute_error: 0.1132\n",
      "Epoch 4/20\n",
      "368/368 [==============================] - 2s 5ms/step - loss: 0.0407 - mean_absolute_error: 0.1216 - val_loss: 0.0558 - val_mean_absolute_error: 0.1421\n",
      "Epoch 5/20\n",
      "368/368 [==============================] - 2s 5ms/step - loss: 0.0407 - mean_absolute_error: 0.1209 - val_loss: 0.0498 - val_mean_absolute_error: 0.1162\n",
      "***TRAIN***:\n",
      "correlation related to cluster centre: 0.98\n",
      "r2 score related to cluster centre: 0.96\n",
      "***VALIDATION***:\n",
      "correlation related to cluster centre: 0.95\n",
      "r2 score related to cluster centre: 0.89\n"
     ]
    },
    {
     "data": {
      "application/vnd.jupyter.widget-view+json": {
       "model_id": "9467b0278ebb404ba7dd4ec775580d57",
       "version_major": 2,
       "version_minor": 0
      },
      "text/plain": [
       "IntProgress(value=0, max=1171)"
      ]
     },
     "metadata": {},
     "output_type": "display_data"
    },
    {
     "name": "stdout",
     "output_type": "stream",
     "text": [
      "***VALIDATION***:\n",
      "average correlation: nan\n",
      "average r2: -18845796528549483142709248.00\n",
      "---do_investigations. cluster index : 10---\n"
     ]
    },
    {
     "data": {
      "application/vnd.jupyter.widget-view+json": {
       "model_id": "64d1c59861ac44f88a5004d452320cd7",
       "version_major": 2,
       "version_minor": 0
      },
      "text/plain": [
       "IntProgress(value=0, max=2569)"
      ]
     },
     "metadata": {},
     "output_type": "display_data"
    },
    {
     "name": "stdout",
     "output_type": "stream",
     "text": [
      "Epoch 1/20\n",
      "368/368 [==============================] - 5s 6ms/step - loss: 0.1278 - mean_absolute_error: 0.2186 - val_loss: 0.0692 - val_mean_absolute_error: 0.1321\n",
      "Epoch 2/20\n",
      "368/368 [==============================] - 2s 5ms/step - loss: 0.0621 - mean_absolute_error: 0.1524 - val_loss: 0.0678 - val_mean_absolute_error: 0.1368\n",
      "Epoch 3/20\n",
      "368/368 [==============================] - 2s 5ms/step - loss: 0.0608 - mean_absolute_error: 0.1504 - val_loss: 0.0667 - val_mean_absolute_error: 0.1343\n",
      "Epoch 4/20\n",
      "368/368 [==============================] - 2s 5ms/step - loss: 0.0606 - mean_absolute_error: 0.1506 - val_loss: 0.0671 - val_mean_absolute_error: 0.1375\n",
      "Epoch 5/20\n",
      "368/368 [==============================] - 2s 5ms/step - loss: 0.0608 - mean_absolute_error: 0.1521 - val_loss: 0.0653 - val_mean_absolute_error: 0.1311\n",
      "Epoch 6/20\n",
      "368/368 [==============================] - 2s 5ms/step - loss: 0.0603 - mean_absolute_error: 0.1503 - val_loss: 0.0641 - val_mean_absolute_error: 0.1284\n",
      "Epoch 7/20\n",
      "368/368 [==============================] - 2s 5ms/step - loss: 0.0606 - mean_absolute_error: 0.1510 - val_loss: 0.0645 - val_mean_absolute_error: 0.1293\n",
      "Epoch 8/20\n",
      "368/368 [==============================] - 2s 5ms/step - loss: 0.0600 - mean_absolute_error: 0.1488 - val_loss: 0.0779 - val_mean_absolute_error: 0.1667\n",
      "***TRAIN***:\n",
      "correlation related to cluster centre: 0.97\n",
      "r2 score related to cluster centre: 0.94\n",
      "***VALIDATION***:\n",
      "correlation related to cluster centre: 0.94\n",
      "r2 score related to cluster centre: 0.85\n"
     ]
    },
    {
     "data": {
      "application/vnd.jupyter.widget-view+json": {
       "model_id": "547fe44d0178402f92b1cff3f045e855",
       "version_major": 2,
       "version_minor": 0
      },
      "text/plain": [
       "IntProgress(value=0, max=2569)"
      ]
     },
     "metadata": {},
     "output_type": "display_data"
    },
    {
     "name": "stdout",
     "output_type": "stream",
     "text": [
      "***VALIDATION***:\n",
      "average correlation: nan\n",
      "average r2: -34840303314489582888681472.00\n",
      "---do_investigations. cluster index : 11---\n"
     ]
    },
    {
     "data": {
      "application/vnd.jupyter.widget-view+json": {
       "model_id": "ee14359b830a40e38dd7a614592a5a10",
       "version_major": 2,
       "version_minor": 0
      },
      "text/plain": [
       "IntProgress(value=0, max=47)"
      ]
     },
     "metadata": {},
     "output_type": "display_data"
    },
    {
     "name": "stdout",
     "output_type": "stream",
     "text": [
      "Epoch 1/20\n",
      "368/368 [==============================] - 5s 6ms/step - loss: 0.2659 - mean_absolute_error: 0.3490 - val_loss: 0.1792 - val_mean_absolute_error: 0.2825\n",
      "Epoch 2/20\n",
      "368/368 [==============================] - 2s 5ms/step - loss: 0.2014 - mean_absolute_error: 0.3033 - val_loss: 0.1792 - val_mean_absolute_error: 0.2795\n",
      "Epoch 3/20\n",
      "368/368 [==============================] - 2s 5ms/step - loss: 0.2024 - mean_absolute_error: 0.3032 - val_loss: 0.1807 - val_mean_absolute_error: 0.2829\n",
      "***TRAIN***:\n",
      "correlation related to cluster centre: 0.90\n",
      "r2 score related to cluster centre: 0.80\n",
      "***VALIDATION***:\n",
      "correlation related to cluster centre: 0.90\n",
      "r2 score related to cluster centre: 0.81\n"
     ]
    },
    {
     "data": {
      "application/vnd.jupyter.widget-view+json": {
       "model_id": "107c0b82cb804ea187c2bb2cc6f44349",
       "version_major": 2,
       "version_minor": 0
      },
      "text/plain": [
       "IntProgress(value=0, max=47)"
      ]
     },
     "metadata": {},
     "output_type": "display_data"
    },
    {
     "name": "stdout",
     "output_type": "stream",
     "text": [
      "***VALIDATION***:\n",
      "average correlation: 0.90\n",
      "average r2: 0.80\n",
      "---do_investigations. cluster index : 12---\n"
     ]
    },
    {
     "data": {
      "application/vnd.jupyter.widget-view+json": {
       "model_id": "b14a85c3c76644d7ae48dd8bdb0f799f",
       "version_major": 2,
       "version_minor": 0
      },
      "text/plain": [
       "IntProgress(value=0, max=124)"
      ]
     },
     "metadata": {},
     "output_type": "display_data"
    },
    {
     "name": "stdout",
     "output_type": "stream",
     "text": [
      "Epoch 1/20\n",
      "368/368 [==============================] - 5s 6ms/step - loss: 0.2739 - mean_absolute_error: 0.3077 - val_loss: 0.2741 - val_mean_absolute_error: 0.2844\n",
      "Epoch 2/20\n",
      "368/368 [==============================] - 2s 5ms/step - loss: 0.2101 - mean_absolute_error: 0.2727 - val_loss: 0.2688 - val_mean_absolute_error: 0.2806\n",
      "Epoch 3/20\n",
      "368/368 [==============================] - 2s 5ms/step - loss: 0.2075 - mean_absolute_error: 0.2712 - val_loss: 0.2676 - val_mean_absolute_error: 0.2760\n",
      "Epoch 4/20\n",
      "368/368 [==============================] - 2s 5ms/step - loss: 0.2072 - mean_absolute_error: 0.2702 - val_loss: 0.2671 - val_mean_absolute_error: 0.2741\n",
      "Epoch 5/20\n",
      "368/368 [==============================] - 2s 5ms/step - loss: 0.2080 - mean_absolute_error: 0.2703 - val_loss: 0.2755 - val_mean_absolute_error: 0.2874\n",
      "Epoch 6/20\n",
      "368/368 [==============================] - 2s 5ms/step - loss: 0.2070 - mean_absolute_error: 0.2701 - val_loss: 0.2661 - val_mean_absolute_error: 0.2776\n",
      "Epoch 7/20\n",
      "368/368 [==============================] - 2s 5ms/step - loss: 0.2060 - mean_absolute_error: 0.2693 - val_loss: 0.2692 - val_mean_absolute_error: 0.2840\n",
      "Epoch 8/20\n",
      "368/368 [==============================] - 2s 5ms/step - loss: 0.2067 - mean_absolute_error: 0.2690 - val_loss: 0.2671 - val_mean_absolute_error: 0.2871\n",
      "***TRAIN***:\n",
      "correlation related to cluster centre: 0.89\n",
      "r2 score related to cluster centre: 0.80\n",
      "***VALIDATION***:\n",
      "correlation related to cluster centre: 0.90\n",
      "r2 score related to cluster centre: 0.80\n"
     ]
    },
    {
     "data": {
      "application/vnd.jupyter.widget-view+json": {
       "model_id": "b1e4f290001a43739eabe5b3a3825112",
       "version_major": 2,
       "version_minor": 0
      },
      "text/plain": [
       "IntProgress(value=0, max=124)"
      ]
     },
     "metadata": {},
     "output_type": "display_data"
    },
    {
     "name": "stdout",
     "output_type": "stream",
     "text": [
      "***VALIDATION***:\n",
      "average correlation: 0.89\n",
      "average r2: 0.80\n",
      "---do_investigations. cluster index : 13---\n"
     ]
    },
    {
     "data": {
      "application/vnd.jupyter.widget-view+json": {
       "model_id": "a8b0f31ebfe3494ab5ae4f72398a83be",
       "version_major": 2,
       "version_minor": 0
      },
      "text/plain": [
       "IntProgress(value=0, max=19)"
      ]
     },
     "metadata": {},
     "output_type": "display_data"
    },
    {
     "name": "stdout",
     "output_type": "stream",
     "text": [
      "Epoch 1/20\n",
      "368/368 [==============================] - 15s 34ms/step - loss: 0.2871 - mean_absolute_error: 0.3195 - val_loss: 0.2638 - val_mean_absolute_error: 0.2864\n",
      "Epoch 2/20\n",
      "368/368 [==============================] - 2s 5ms/step - loss: 0.2093 - mean_absolute_error: 0.2725 - val_loss: 0.2635 - val_mean_absolute_error: 0.2837\n",
      "Epoch 3/20\n",
      "368/368 [==============================] - 2s 5ms/step - loss: 0.2083 - mean_absolute_error: 0.2712 - val_loss: 0.2669 - val_mean_absolute_error: 0.2846\n",
      "Epoch 4/20\n",
      "368/368 [==============================] - 2s 5ms/step - loss: 0.2090 - mean_absolute_error: 0.2706 - val_loss: 0.2619 - val_mean_absolute_error: 0.2824\n",
      "Epoch 5/20\n",
      "368/368 [==============================] - 2s 5ms/step - loss: 0.2088 - mean_absolute_error: 0.2712 - val_loss: 0.2690 - val_mean_absolute_error: 0.2821\n",
      "Epoch 6/20\n",
      "368/368 [==============================] - 2s 5ms/step - loss: 0.2093 - mean_absolute_error: 0.2706 - val_loss: 0.2784 - val_mean_absolute_error: 0.2926\n",
      "***TRAIN***:\n",
      "correlation related to cluster centre: 0.89\n",
      "r2 score related to cluster centre: 0.78\n",
      "***VALIDATION***:\n",
      "correlation related to cluster centre: 0.90\n",
      "r2 score related to cluster centre: 0.78\n"
     ]
    },
    {
     "data": {
      "application/vnd.jupyter.widget-view+json": {
       "model_id": "dc443f77cad34e768a085b03729a9744",
       "version_major": 2,
       "version_minor": 0
      },
      "text/plain": [
       "IntProgress(value=0, max=19)"
      ]
     },
     "metadata": {},
     "output_type": "display_data"
    },
    {
     "name": "stdout",
     "output_type": "stream",
     "text": [
      "***VALIDATION***:\n",
      "average correlation: 0.90\n",
      "average r2: 0.78\n",
      "---do_investigations. cluster index : 14---\n"
     ]
    },
    {
     "data": {
      "application/vnd.jupyter.widget-view+json": {
       "model_id": "a243d0c244ed4b57b3a8deb934f575b3",
       "version_major": 2,
       "version_minor": 0
      },
      "text/plain": [
       "IntProgress(value=0, max=217)"
      ]
     },
     "metadata": {},
     "output_type": "display_data"
    },
    {
     "name": "stdout",
     "output_type": "stream",
     "text": [
      "Epoch 1/20\n",
      "368/368 [==============================] - 5s 6ms/step - loss: 0.2065 - mean_absolute_error: 0.2836 - val_loss: 0.0957 - val_mean_absolute_error: 0.1874\n",
      "Epoch 2/20\n",
      "368/368 [==============================] - 2s 5ms/step - loss: 0.1287 - mean_absolute_error: 0.2224 - val_loss: 0.0955 - val_mean_absolute_error: 0.1917\n",
      "Epoch 3/20\n",
      "368/368 [==============================] - 2s 5ms/step - loss: 0.1292 - mean_absolute_error: 0.2226 - val_loss: 0.0951 - val_mean_absolute_error: 0.1904\n",
      "Epoch 4/20\n",
      "368/368 [==============================] - 2s 5ms/step - loss: 0.1283 - mean_absolute_error: 0.2218 - val_loss: 0.0941 - val_mean_absolute_error: 0.1829\n",
      "Epoch 5/20\n",
      "368/368 [==============================] - 2s 5ms/step - loss: 0.1273 - mean_absolute_error: 0.2210 - val_loss: 0.0943 - val_mean_absolute_error: 0.1856\n",
      "Epoch 6/20\n",
      "368/368 [==============================] - 2s 5ms/step - loss: 0.1278 - mean_absolute_error: 0.2207 - val_loss: 0.0986 - val_mean_absolute_error: 0.1937\n",
      "***TRAIN***:\n",
      "correlation related to cluster centre: 0.93\n",
      "r2 score related to cluster centre: 0.86\n",
      "***VALIDATION***:\n",
      "correlation related to cluster centre: 0.94\n",
      "r2 score related to cluster centre: 0.87\n"
     ]
    },
    {
     "data": {
      "application/vnd.jupyter.widget-view+json": {
       "model_id": "aa562e762b1144b48bf6440e06265cc5",
       "version_major": 2,
       "version_minor": 0
      },
      "text/plain": [
       "IntProgress(value=0, max=217)"
      ]
     },
     "metadata": {},
     "output_type": "display_data"
    },
    {
     "name": "stdout",
     "output_type": "stream",
     "text": [
      "***VALIDATION***:\n",
      "average correlation: 0.89\n",
      "average r2: 0.66\n",
      "---do_investigations. cluster index : 15---\n"
     ]
    },
    {
     "data": {
      "application/vnd.jupyter.widget-view+json": {
       "model_id": "e9fbec8ad8d34e2083ecd1563dcc7911",
       "version_major": 2,
       "version_minor": 0
      },
      "text/plain": [
       "IntProgress(value=0, max=47)"
      ]
     },
     "metadata": {},
     "output_type": "display_data"
    },
    {
     "name": "stdout",
     "output_type": "stream",
     "text": [
      "Epoch 1/20\n",
      "368/368 [==============================] - 5s 6ms/step - loss: 0.2721 - mean_absolute_error: 0.3505 - val_loss: 0.1660 - val_mean_absolute_error: 0.2828\n",
      "Epoch 2/20\n",
      "368/368 [==============================] - 2s 5ms/step - loss: 0.2027 - mean_absolute_error: 0.3040 - val_loss: 0.1672 - val_mean_absolute_error: 0.2862\n",
      "Epoch 3/20\n",
      "368/368 [==============================] - 2s 5ms/step - loss: 0.2024 - mean_absolute_error: 0.3035 - val_loss: 0.1719 - val_mean_absolute_error: 0.2886\n",
      "***TRAIN***:\n",
      "correlation related to cluster centre: 0.90\n",
      "r2 score related to cluster centre: 0.79\n",
      "***VALIDATION***:\n",
      "correlation related to cluster centre: 0.90\n",
      "r2 score related to cluster centre: 0.81\n"
     ]
    },
    {
     "data": {
      "application/vnd.jupyter.widget-view+json": {
       "model_id": "2e571fcbc22d414da76bf4bad458353a",
       "version_major": 2,
       "version_minor": 0
      },
      "text/plain": [
       "IntProgress(value=0, max=47)"
      ]
     },
     "metadata": {},
     "output_type": "display_data"
    },
    {
     "name": "stdout",
     "output_type": "stream",
     "text": [
      "***VALIDATION***:\n",
      "average correlation: 0.90\n",
      "average r2: 0.79\n",
      "---do_investigations. cluster index : 16---\n"
     ]
    },
    {
     "data": {
      "application/vnd.jupyter.widget-view+json": {
       "model_id": "15ff80d5b02c4c018f06ee3c77e25cb2",
       "version_major": 2,
       "version_minor": 0
      },
      "text/plain": [
       "IntProgress(value=0, max=385)"
      ]
     },
     "metadata": {},
     "output_type": "display_data"
    },
    {
     "name": "stdout",
     "output_type": "stream",
     "text": [
      "Epoch 1/20\n",
      "368/368 [==============================] - 5s 6ms/step - loss: 0.0674 - mean_absolute_error: 0.1246 - val_loss: 0.0212 - val_mean_absolute_error: 0.0738\n",
      "Epoch 2/20\n",
      "368/368 [==============================] - 2s 5ms/step - loss: 0.0115 - mean_absolute_error: 0.0563 - val_loss: 0.0186 - val_mean_absolute_error: 0.0622\n",
      "Epoch 3/20\n",
      "368/368 [==============================] - 2s 5ms/step - loss: 0.0110 - mean_absolute_error: 0.0541 - val_loss: 0.0179 - val_mean_absolute_error: 0.0613\n",
      "Epoch 4/20\n",
      "368/368 [==============================] - 2s 5ms/step - loss: 0.0108 - mean_absolute_error: 0.0539 - val_loss: 0.0183 - val_mean_absolute_error: 0.0667\n",
      "Epoch 5/20\n",
      "368/368 [==============================] - 2s 5ms/step - loss: 0.0109 - mean_absolute_error: 0.0548 - val_loss: 0.0178 - val_mean_absolute_error: 0.0607\n",
      "Epoch 6/20\n",
      "368/368 [==============================] - 2s 5ms/step - loss: 0.0108 - mean_absolute_error: 0.0539 - val_loss: 0.0180 - val_mean_absolute_error: 0.0649\n",
      "Epoch 7/20\n",
      "368/368 [==============================] - 2s 5ms/step - loss: 0.0108 - mean_absolute_error: 0.0544 - val_loss: 0.0177 - val_mean_absolute_error: 0.0631\n",
      "Epoch 8/20\n",
      "368/368 [==============================] - 2s 5ms/step - loss: 0.0107 - mean_absolute_error: 0.0538 - val_loss: 0.0179 - val_mean_absolute_error: 0.0626\n",
      "Epoch 9/20\n",
      "368/368 [==============================] - 2s 5ms/step - loss: 0.0109 - mean_absolute_error: 0.0550 - val_loss: 0.0181 - val_mean_absolute_error: 0.0624\n",
      "***TRAIN***:\n",
      "correlation related to cluster centre: 0.99\n",
      "r2 score related to cluster centre: 0.99\n",
      "***VALIDATION***:\n",
      "correlation related to cluster centre: 0.98\n",
      "r2 score related to cluster centre: 0.96\n"
     ]
    },
    {
     "data": {
      "application/vnd.jupyter.widget-view+json": {
       "model_id": "f1e4d723f0f94f6b921fb12c0abf31b9",
       "version_major": 2,
       "version_minor": 0
      },
      "text/plain": [
       "IntProgress(value=0, max=385)"
      ]
     },
     "metadata": {},
     "output_type": "display_data"
    },
    {
     "name": "stdout",
     "output_type": "stream",
     "text": [
      "***VALIDATION***:\n",
      "average correlation: 0.87\n",
      "average r2: 0.73\n",
      "---do_investigations. cluster index : 17---\n"
     ]
    },
    {
     "data": {
      "application/vnd.jupyter.widget-view+json": {
       "model_id": "192543a5f6c445dfa56d3928aafcd71c",
       "version_major": 2,
       "version_minor": 0
      },
      "text/plain": [
       "IntProgress(value=0, max=357)"
      ]
     },
     "metadata": {},
     "output_type": "display_data"
    },
    {
     "name": "stdout",
     "output_type": "stream",
     "text": [
      "Epoch 1/20\n",
      "368/368 [==============================] - 5s 6ms/step - loss: 0.3072 - mean_absolute_error: 0.3303 - val_loss: 0.2671 - val_mean_absolute_error: 0.2776\n",
      "Epoch 2/20\n",
      "368/368 [==============================] - 2s 5ms/step - loss: 0.2061 - mean_absolute_error: 0.2727 - val_loss: 0.2636 - val_mean_absolute_error: 0.2710\n",
      "Epoch 3/20\n",
      "368/368 [==============================] - 2s 5ms/step - loss: 0.2069 - mean_absolute_error: 0.2723 - val_loss: 0.2606 - val_mean_absolute_error: 0.2778\n",
      "Epoch 4/20\n",
      "368/368 [==============================] - 2s 5ms/step - loss: 0.2039 - mean_absolute_error: 0.2700 - val_loss: 0.2624 - val_mean_absolute_error: 0.2853\n",
      "Epoch 5/20\n",
      "368/368 [==============================] - 2s 5ms/step - loss: 0.2048 - mean_absolute_error: 0.2707 - val_loss: 0.2627 - val_mean_absolute_error: 0.2697\n",
      "***TRAIN***:\n",
      "correlation related to cluster centre: 0.89\n",
      "r2 score related to cluster centre: 0.80\n",
      "***VALIDATION***:\n",
      "correlation related to cluster centre: 0.90\n",
      "r2 score related to cluster centre: 0.80\n"
     ]
    },
    {
     "data": {
      "application/vnd.jupyter.widget-view+json": {
       "model_id": "43ff69d76193457c82f9c24921a04e58",
       "version_major": 2,
       "version_minor": 0
      },
      "text/plain": [
       "IntProgress(value=0, max=357)"
      ]
     },
     "metadata": {},
     "output_type": "display_data"
    },
    {
     "name": "stdout",
     "output_type": "stream",
     "text": [
      "***VALIDATION***:\n",
      "average correlation: 0.87\n",
      "average r2: 0.75\n",
      "---do_investigations. cluster index : 18---\n"
     ]
    },
    {
     "data": {
      "application/vnd.jupyter.widget-view+json": {
       "model_id": "8cf3add95b154fa58fd772d6a242ad78",
       "version_major": 2,
       "version_minor": 0
      },
      "text/plain": [
       "IntProgress(value=0, max=169)"
      ]
     },
     "metadata": {},
     "output_type": "display_data"
    },
    {
     "name": "stdout",
     "output_type": "stream",
     "text": [
      "Epoch 1/20\n",
      "368/368 [==============================] - 5s 6ms/step - loss: 0.2759 - mean_absolute_error: 0.3419 - val_loss: 0.1515 - val_mean_absolute_error: 0.2435\n",
      "Epoch 2/20\n",
      "368/368 [==============================] - 2s 5ms/step - loss: 0.2026 - mean_absolute_error: 0.2892 - val_loss: 0.1484 - val_mean_absolute_error: 0.2364\n",
      "Epoch 3/20\n",
      "368/368 [==============================] - 2s 5ms/step - loss: 0.2010 - mean_absolute_error: 0.2881 - val_loss: 0.1479 - val_mean_absolute_error: 0.2345\n",
      "Epoch 4/20\n",
      "368/368 [==============================] - 2s 5ms/step - loss: 0.2004 - mean_absolute_error: 0.2869 - val_loss: 0.1486 - val_mean_absolute_error: 0.2343\n",
      "Epoch 5/20\n",
      "368/368 [==============================] - 2s 5ms/step - loss: 0.1995 - mean_absolute_error: 0.2857 - val_loss: 0.1476 - val_mean_absolute_error: 0.2360\n",
      "Epoch 6/20\n",
      "368/368 [==============================] - 2s 5ms/step - loss: 0.2004 - mean_absolute_error: 0.2870 - val_loss: 0.1481 - val_mean_absolute_error: 0.2322\n",
      "Epoch 7/20\n",
      "368/368 [==============================] - 2s 5ms/step - loss: 0.1987 - mean_absolute_error: 0.2854 - val_loss: 0.1470 - val_mean_absolute_error: 0.2361\n",
      "Epoch 8/20\n",
      "368/368 [==============================] - 2s 5ms/step - loss: 0.1989 - mean_absolute_error: 0.2852 - val_loss: 0.1502 - val_mean_absolute_error: 0.2376\n",
      "Epoch 9/20\n",
      "368/368 [==============================] - 2s 5ms/step - loss: 0.1997 - mean_absolute_error: 0.2863 - val_loss: 0.1465 - val_mean_absolute_error: 0.2345\n",
      "Epoch 10/20\n",
      "368/368 [==============================] - 2s 5ms/step - loss: 0.1980 - mean_absolute_error: 0.2848 - val_loss: 0.1463 - val_mean_absolute_error: 0.2341\n",
      "Epoch 11/20\n",
      "368/368 [==============================] - 2s 5ms/step - loss: 0.1990 - mean_absolute_error: 0.2853 - val_loss: 0.1492 - val_mean_absolute_error: 0.2314\n",
      "Epoch 12/20\n",
      "368/368 [==============================] - 2s 5ms/step - loss: 0.1991 - mean_absolute_error: 0.2851 - val_loss: 0.1471 - val_mean_absolute_error: 0.2325\n",
      "***TRAIN***:\n",
      "correlation related to cluster centre: 0.90\n",
      "r2 score related to cluster centre: 0.81\n",
      "***VALIDATION***:\n",
      "correlation related to cluster centre: 0.90\n",
      "r2 score related to cluster centre: 0.81\n"
     ]
    },
    {
     "data": {
      "application/vnd.jupyter.widget-view+json": {
       "model_id": "6abce932f8e549eaa7355a4d28552a6b",
       "version_major": 2,
       "version_minor": 0
      },
      "text/plain": [
       "IntProgress(value=0, max=169)"
      ]
     },
     "metadata": {},
     "output_type": "display_data"
    },
    {
     "name": "stdout",
     "output_type": "stream",
     "text": [
      "***VALIDATION***:\n",
      "average correlation: 0.89\n",
      "average r2: 0.78\n",
      "---do_investigations. cluster index : 19---\n"
     ]
    },
    {
     "data": {
      "application/vnd.jupyter.widget-view+json": {
       "model_id": "f114675c96cd4225917eb53713440fbd",
       "version_major": 2,
       "version_minor": 0
      },
      "text/plain": [
       "IntProgress(value=0, max=118)"
      ]
     },
     "metadata": {},
     "output_type": "display_data"
    },
    {
     "name": "stdout",
     "output_type": "stream",
     "text": [
      "Epoch 1/20\n",
      "368/368 [==============================] - 5s 6ms/step - loss: 0.2372 - mean_absolute_error: 0.3228 - val_loss: 0.1421 - val_mean_absolute_error: 0.2467\n",
      "Epoch 2/20\n",
      "368/368 [==============================] - 2s 5ms/step - loss: 0.1788 - mean_absolute_error: 0.2767 - val_loss: 0.1416 - val_mean_absolute_error: 0.2480\n",
      "Epoch 3/20\n",
      "368/368 [==============================] - 2s 5ms/step - loss: 0.1771 - mean_absolute_error: 0.2739 - val_loss: 0.1415 - val_mean_absolute_error: 0.2414\n",
      "Epoch 4/20\n",
      "368/368 [==============================] - 2s 5ms/step - loss: 0.1766 - mean_absolute_error: 0.2746 - val_loss: 0.1413 - val_mean_absolute_error: 0.2479\n",
      "Epoch 5/20\n",
      "368/368 [==============================] - 2s 5ms/step - loss: 0.1759 - mean_absolute_error: 0.2738 - val_loss: 0.1409 - val_mean_absolute_error: 0.2445\n",
      "Epoch 6/20\n",
      "368/368 [==============================] - 2s 5ms/step - loss: 0.1767 - mean_absolute_error: 0.2737 - val_loss: 0.1412 - val_mean_absolute_error: 0.2485\n",
      "Epoch 7/20\n",
      "368/368 [==============================] - 2s 5ms/step - loss: 0.1762 - mean_absolute_error: 0.2740 - val_loss: 0.1421 - val_mean_absolute_error: 0.2464\n",
      "***TRAIN***:\n",
      "correlation related to cluster centre: 0.91\n",
      "r2 score related to cluster centre: 0.83\n",
      "***VALIDATION***:\n",
      "correlation related to cluster centre: 0.92\n",
      "r2 score related to cluster centre: 0.84\n"
     ]
    },
    {
     "data": {
      "application/vnd.jupyter.widget-view+json": {
       "model_id": "a6ca071332044f44944c3e37100c0113",
       "version_major": 2,
       "version_minor": 0
      },
      "text/plain": [
       "IntProgress(value=0, max=118)"
      ]
     },
     "metadata": {},
     "output_type": "display_data"
    },
    {
     "name": "stdout",
     "output_type": "stream",
     "text": [
      "***VALIDATION***:\n",
      "average correlation: 0.90\n",
      "average r2: 0.76\n",
      "---do_investigations. cluster index : 20---\n"
     ]
    },
    {
     "data": {
      "application/vnd.jupyter.widget-view+json": {
       "model_id": "9b59c9bbc7854a2ab485c77abf0db766",
       "version_major": 2,
       "version_minor": 0
      },
      "text/plain": [
       "IntProgress(value=0, max=17)"
      ]
     },
     "metadata": {},
     "output_type": "display_data"
    },
    {
     "name": "stdout",
     "output_type": "stream",
     "text": [
      "Epoch 1/20\n",
      "368/368 [==============================] - 5s 6ms/step - loss: 0.2716 - mean_absolute_error: 0.3325 - val_loss: 0.2208 - val_mean_absolute_error: 0.2901\n",
      "Epoch 2/20\n",
      "368/368 [==============================] - 2s 5ms/step - loss: 0.2040 - mean_absolute_error: 0.2842 - val_loss: 0.2202 - val_mean_absolute_error: 0.2961\n",
      "Epoch 3/20\n",
      "368/368 [==============================] - 2s 5ms/step - loss: 0.2034 - mean_absolute_error: 0.2836 - val_loss: 0.2184 - val_mean_absolute_error: 0.2865\n",
      "Epoch 4/20\n",
      "368/368 [==============================] - 2s 5ms/step - loss: 0.2040 - mean_absolute_error: 0.2837 - val_loss: 0.2213 - val_mean_absolute_error: 0.2896\n",
      "Epoch 5/20\n",
      "368/368 [==============================] - 2s 5ms/step - loss: 0.2054 - mean_absolute_error: 0.2839 - val_loss: 0.2257 - val_mean_absolute_error: 0.2998\n",
      "***TRAIN***:\n",
      "correlation related to cluster centre: 0.89\n",
      "r2 score related to cluster centre: 0.79\n",
      "***VALIDATION***:\n",
      "correlation related to cluster centre: 0.90\n",
      "r2 score related to cluster centre: 0.80\n"
     ]
    },
    {
     "data": {
      "application/vnd.jupyter.widget-view+json": {
       "model_id": "ba048c9f16934ea8bc7391065c2c496d",
       "version_major": 2,
       "version_minor": 0
      },
      "text/plain": [
       "IntProgress(value=0, max=17)"
      ]
     },
     "metadata": {},
     "output_type": "display_data"
    },
    {
     "name": "stdout",
     "output_type": "stream",
     "text": [
      "***VALIDATION***:\n",
      "average correlation: 0.90\n",
      "average r2: 0.80\n",
      "---do_investigations. cluster index : 21---\n"
     ]
    },
    {
     "data": {
      "application/vnd.jupyter.widget-view+json": {
       "model_id": "081095bcd0544f119af932acd8c617f8",
       "version_major": 2,
       "version_minor": 0
      },
      "text/plain": [
       "IntProgress(value=0, max=51)"
      ]
     },
     "metadata": {},
     "output_type": "display_data"
    },
    {
     "name": "stdout",
     "output_type": "stream",
     "text": [
      "Epoch 1/20\n",
      "368/368 [==============================] - 5s 6ms/step - loss: 0.2840 - mean_absolute_error: 0.3230 - val_loss: 0.2618 - val_mean_absolute_error: 0.2702\n",
      "Epoch 2/20\n",
      "368/368 [==============================] - 2s 5ms/step - loss: 0.2086 - mean_absolute_error: 0.2726 - val_loss: 0.2606 - val_mean_absolute_error: 0.2722\n",
      "Epoch 3/20\n",
      "368/368 [==============================] - 2s 5ms/step - loss: 0.2081 - mean_absolute_error: 0.2732 - val_loss: 0.2583 - val_mean_absolute_error: 0.2835\n",
      "Epoch 4/20\n",
      "368/368 [==============================] - 2s 5ms/step - loss: 0.2082 - mean_absolute_error: 0.2735 - val_loss: 0.2583 - val_mean_absolute_error: 0.2774\n",
      "Epoch 5/20\n",
      "368/368 [==============================] - 2s 5ms/step - loss: 0.2072 - mean_absolute_error: 0.2723 - val_loss: 0.2580 - val_mean_absolute_error: 0.2769\n",
      "Epoch 6/20\n",
      "368/368 [==============================] - 2s 5ms/step - loss: 0.2087 - mean_absolute_error: 0.2725 - val_loss: 0.2594 - val_mean_absolute_error: 0.2809\n",
      "Epoch 7/20\n",
      "368/368 [==============================] - 2s 5ms/step - loss: 0.2086 - mean_absolute_error: 0.2729 - val_loss: 0.2615 - val_mean_absolute_error: 0.2681\n",
      "***TRAIN***:\n",
      "correlation related to cluster centre: 0.89\n",
      "r2 score related to cluster centre: 0.80\n",
      "***VALIDATION***:\n",
      "correlation related to cluster centre: 0.90\n",
      "r2 score related to cluster centre: 0.80\n"
     ]
    },
    {
     "data": {
      "application/vnd.jupyter.widget-view+json": {
       "model_id": "461bf504f19b48a28499967ae1439a7e",
       "version_major": 2,
       "version_minor": 0
      },
      "text/plain": [
       "IntProgress(value=0, max=51)"
      ]
     },
     "metadata": {},
     "output_type": "display_data"
    },
    {
     "name": "stdout",
     "output_type": "stream",
     "text": [
      "***VALIDATION***:\n",
      "average correlation: 0.90\n",
      "average r2: 0.80\n",
      "---do_investigations. cluster index : 22---\n"
     ]
    },
    {
     "data": {
      "application/vnd.jupyter.widget-view+json": {
       "model_id": "77229399ab3346de9f0073bdba00c497",
       "version_major": 2,
       "version_minor": 0
      },
      "text/plain": [
       "IntProgress(value=0, max=67)"
      ]
     },
     "metadata": {},
     "output_type": "display_data"
    },
    {
     "name": "stdout",
     "output_type": "stream",
     "text": [
      "Epoch 1/20\n",
      "368/368 [==============================] - 5s 6ms/step - loss: 0.3075 - mean_absolute_error: 0.3718 - val_loss: 0.2002 - val_mean_absolute_error: 0.3033\n",
      "Epoch 2/20\n",
      "368/368 [==============================] - 2s 5ms/step - loss: 0.2036 - mean_absolute_error: 0.3090 - val_loss: 0.2013 - val_mean_absolute_error: 0.3006\n",
      "Epoch 3/20\n",
      "368/368 [==============================] - 2s 5ms/step - loss: 0.2040 - mean_absolute_error: 0.3099 - val_loss: 0.1969 - val_mean_absolute_error: 0.2920\n",
      "Epoch 4/20\n",
      "368/368 [==============================] - 2s 5ms/step - loss: 0.2027 - mean_absolute_error: 0.3083 - val_loss: 0.2101 - val_mean_absolute_error: 0.3095\n",
      "Epoch 5/20\n",
      "368/368 [==============================] - 2s 5ms/step - loss: 0.2032 - mean_absolute_error: 0.3088 - val_loss: 0.1978 - val_mean_absolute_error: 0.3053\n",
      "***TRAIN***:\n",
      "correlation related to cluster centre: 0.90\n",
      "r2 score related to cluster centre: 0.80\n",
      "***VALIDATION***:\n",
      "correlation related to cluster centre: 0.90\n",
      "r2 score related to cluster centre: 0.81\n"
     ]
    },
    {
     "data": {
      "application/vnd.jupyter.widget-view+json": {
       "model_id": "6f0d3d9f144a4b7685e498d04ef7ea88",
       "version_major": 2,
       "version_minor": 0
      },
      "text/plain": [
       "IntProgress(value=0, max=67)"
      ]
     },
     "metadata": {},
     "output_type": "display_data"
    },
    {
     "name": "stdout",
     "output_type": "stream",
     "text": [
      "***VALIDATION***:\n",
      "average correlation: 0.90\n",
      "average r2: 0.79\n",
      "---do_investigations. cluster index : 23---\n"
     ]
    },
    {
     "data": {
      "application/vnd.jupyter.widget-view+json": {
       "model_id": "6f46d6a899e74d20944dee3548dd7c03",
       "version_major": 2,
       "version_minor": 0
      },
      "text/plain": [
       "IntProgress(value=0, max=34)"
      ]
     },
     "metadata": {},
     "output_type": "display_data"
    },
    {
     "name": "stdout",
     "output_type": "stream",
     "text": [
      "Epoch 1/20\n",
      "368/368 [==============================] - 5s 6ms/step - loss: 0.3139 - mean_absolute_error: 0.3346 - val_loss: 0.2771 - val_mean_absolute_error: 0.2811\n",
      "Epoch 2/20\n",
      "368/368 [==============================] - 2s 5ms/step - loss: 0.2136 - mean_absolute_error: 0.2760 - val_loss: 0.2688 - val_mean_absolute_error: 0.2918\n",
      "Epoch 3/20\n",
      "368/368 [==============================] - 2s 5ms/step - loss: 0.2096 - mean_absolute_error: 0.2740 - val_loss: 0.2700 - val_mean_absolute_error: 0.2767\n",
      "Epoch 4/20\n",
      "368/368 [==============================] - 2s 5ms/step - loss: 0.2093 - mean_absolute_error: 0.2729 - val_loss: 0.2722 - val_mean_absolute_error: 0.2954\n",
      "***TRAIN***:\n",
      "correlation related to cluster centre: 0.89\n",
      "r2 score related to cluster centre: 0.79\n",
      "***VALIDATION***:\n",
      "correlation related to cluster centre: 0.89\n",
      "r2 score related to cluster centre: 0.79\n"
     ]
    },
    {
     "data": {
      "application/vnd.jupyter.widget-view+json": {
       "model_id": "1545fe23d5634ee797d55a9503a8369e",
       "version_major": 2,
       "version_minor": 0
      },
      "text/plain": [
       "IntProgress(value=0, max=34)"
      ]
     },
     "metadata": {},
     "output_type": "display_data"
    },
    {
     "name": "stdout",
     "output_type": "stream",
     "text": [
      "***VALIDATION***:\n",
      "average correlation: 0.89\n",
      "average r2: 0.79\n",
      "---do_investigations. cluster index : 24---\n"
     ]
    },
    {
     "data": {
      "application/vnd.jupyter.widget-view+json": {
       "model_id": "891c0419fbac41b49ecc45ae796c063c",
       "version_major": 2,
       "version_minor": 0
      },
      "text/plain": [
       "IntProgress(value=0, max=12)"
      ]
     },
     "metadata": {},
     "output_type": "display_data"
    },
    {
     "name": "stdout",
     "output_type": "stream",
     "text": [
      "Epoch 1/20\n",
      "368/368 [==============================] - 5s 6ms/step - loss: 0.2744 - mean_absolute_error: 0.3661 - val_loss: 0.1980 - val_mean_absolute_error: 0.3006\n",
      "Epoch 2/20\n",
      "368/368 [==============================] - 2s 5ms/step - loss: 0.2084 - mean_absolute_error: 0.3162 - val_loss: 0.1964 - val_mean_absolute_error: 0.2970\n",
      "Epoch 3/20\n",
      "368/368 [==============================] - 2s 5ms/step - loss: 0.2059 - mean_absolute_error: 0.3138 - val_loss: 0.1991 - val_mean_absolute_error: 0.2947\n",
      "Epoch 4/20\n",
      "368/368 [==============================] - 2s 5ms/step - loss: 0.2060 - mean_absolute_error: 0.3133 - val_loss: 0.1952 - val_mean_absolute_error: 0.2963\n",
      "Epoch 5/20\n",
      "368/368 [==============================] - 2s 5ms/step - loss: 0.2064 - mean_absolute_error: 0.3134 - val_loss: 0.1931 - val_mean_absolute_error: 0.2998\n",
      "Epoch 6/20\n",
      "368/368 [==============================] - 2s 5ms/step - loss: 0.2057 - mean_absolute_error: 0.3130 - val_loss: 0.1952 - val_mean_absolute_error: 0.2961\n",
      "Epoch 7/20\n",
      "368/368 [==============================] - 2s 5ms/step - loss: 0.2065 - mean_absolute_error: 0.3131 - val_loss: 0.1950 - val_mean_absolute_error: 0.2962\n",
      "***TRAIN***:\n",
      "correlation related to cluster centre: 0.89\n",
      "r2 score related to cluster centre: 0.79\n",
      "***VALIDATION***:\n",
      "correlation related to cluster centre: 0.90\n",
      "r2 score related to cluster centre: 0.81\n"
     ]
    },
    {
     "data": {
      "application/vnd.jupyter.widget-view+json": {
       "model_id": "b70f08ed990a42d2848ae50df22ccfaf",
       "version_major": 2,
       "version_minor": 0
      },
      "text/plain": [
       "IntProgress(value=0, max=12)"
      ]
     },
     "metadata": {},
     "output_type": "display_data"
    },
    {
     "name": "stdout",
     "output_type": "stream",
     "text": [
      "***VALIDATION***:\n",
      "average correlation: 0.90\n",
      "average r2: 0.81\n",
      "---do_investigations. cluster index : 25---\n"
     ]
    },
    {
     "data": {
      "application/vnd.jupyter.widget-view+json": {
       "model_id": "e58ecc6c2d6146a2920ba49fa5cbb663",
       "version_major": 2,
       "version_minor": 0
      },
      "text/plain": [
       "IntProgress(value=0, max=185)"
      ]
     },
     "metadata": {},
     "output_type": "display_data"
    },
    {
     "name": "stdout",
     "output_type": "stream",
     "text": [
      "Epoch 1/20\n",
      "368/368 [==============================] - 15s 11ms/step - loss: 0.1418 - mean_absolute_error: 0.2315 - val_loss: 0.0720 - val_mean_absolute_error: 0.1701\n",
      "Epoch 2/20\n",
      "368/368 [==============================] - 2s 5ms/step - loss: 0.0700 - mean_absolute_error: 0.1637 - val_loss: 0.0673 - val_mean_absolute_error: 0.1636\n",
      "Epoch 3/20\n",
      "368/368 [==============================] - 2s 5ms/step - loss: 0.0685 - mean_absolute_error: 0.1604 - val_loss: 0.0684 - val_mean_absolute_error: 0.1682\n",
      "Epoch 4/20\n",
      "368/368 [==============================] - 2s 6ms/step - loss: 0.0686 - mean_absolute_error: 0.1610 - val_loss: 0.0665 - val_mean_absolute_error: 0.1615\n",
      "Epoch 5/20\n",
      "368/368 [==============================] - 2s 5ms/step - loss: 0.0683 - mean_absolute_error: 0.1604 - val_loss: 0.0667 - val_mean_absolute_error: 0.1575\n",
      "Epoch 6/20\n",
      "368/368 [==============================] - 2s 5ms/step - loss: 0.0676 - mean_absolute_error: 0.1586 - val_loss: 0.0667 - val_mean_absolute_error: 0.1557\n",
      "***TRAIN***:\n",
      "correlation related to cluster centre: 0.97\n",
      "r2 score related to cluster centre: 0.93\n",
      "***VALIDATION***:\n",
      "correlation related to cluster centre: 0.95\n",
      "r2 score related to cluster centre: 0.89\n"
     ]
    },
    {
     "data": {
      "application/vnd.jupyter.widget-view+json": {
       "model_id": "ce56b3c9d03b41d98e8c6268a22be631",
       "version_major": 2,
       "version_minor": 0
      },
      "text/plain": [
       "IntProgress(value=0, max=185)"
      ]
     },
     "metadata": {},
     "output_type": "display_data"
    },
    {
     "name": "stdout",
     "output_type": "stream",
     "text": [
      "***VALIDATION***:\n",
      "average correlation: 0.90\n",
      "average r2: 0.80\n",
      "---do_investigations. cluster index : 26---\n"
     ]
    },
    {
     "data": {
      "application/vnd.jupyter.widget-view+json": {
       "model_id": "f4f6c3a0d21b48e0924a1e876bbc8bbb",
       "version_major": 2,
       "version_minor": 0
      },
      "text/plain": [
       "IntProgress(value=0, max=16)"
      ]
     },
     "metadata": {},
     "output_type": "display_data"
    },
    {
     "name": "stdout",
     "output_type": "stream",
     "text": [
      "Epoch 1/20\n",
      "368/368 [==============================] - 7s 7ms/step - loss: 0.2830 - mean_absolute_error: 0.2719 - val_loss: 0.4668 - val_mean_absolute_error: 0.2923\n",
      "Epoch 2/20\n",
      "368/368 [==============================] - 2s 5ms/step - loss: 0.2082 - mean_absolute_error: 0.2293 - val_loss: 0.4469 - val_mean_absolute_error: 0.2905\n",
      "Epoch 3/20\n",
      "368/368 [==============================] - 2s 5ms/step - loss: 0.2082 - mean_absolute_error: 0.2289 - val_loss: 0.4360 - val_mean_absolute_error: 0.2896\n",
      "Epoch 4/20\n",
      "368/368 [==============================] - 2s 5ms/step - loss: 0.2035 - mean_absolute_error: 0.2259 - val_loss: 0.4327 - val_mean_absolute_error: 0.3090\n",
      "Epoch 5/20\n",
      "368/368 [==============================] - 2s 5ms/step - loss: 0.2044 - mean_absolute_error: 0.2279 - val_loss: 0.4388 - val_mean_absolute_error: 0.3081\n",
      "Epoch 6/20\n",
      "368/368 [==============================] - 2s 5ms/step - loss: 0.2002 - mean_absolute_error: 0.2262 - val_loss: 0.4347 - val_mean_absolute_error: 0.2944\n",
      "***TRAIN***:\n",
      "correlation related to cluster centre: 0.90\n",
      "r2 score related to cluster centre: 0.80\n",
      "***VALIDATION***:\n",
      "correlation related to cluster centre: 0.89\n",
      "r2 score related to cluster centre: 0.80\n"
     ]
    },
    {
     "data": {
      "application/vnd.jupyter.widget-view+json": {
       "model_id": "6ac6d404d5ae42d2b4eb184dca8f26ad",
       "version_major": 2,
       "version_minor": 0
      },
      "text/plain": [
       "IntProgress(value=0, max=16)"
      ]
     },
     "metadata": {},
     "output_type": "display_data"
    },
    {
     "name": "stdout",
     "output_type": "stream",
     "text": [
      "***VALIDATION***:\n",
      "average correlation: 0.89\n",
      "average r2: 0.79\n",
      "---do_investigations. cluster index : 27---\n"
     ]
    },
    {
     "data": {
      "application/vnd.jupyter.widget-view+json": {
       "model_id": "3d8aee420d3d4bd2846dea468fcd8262",
       "version_major": 2,
       "version_minor": 0
      },
      "text/plain": [
       "IntProgress(value=0, max=17)"
      ]
     },
     "metadata": {},
     "output_type": "display_data"
    },
    {
     "name": "stdout",
     "output_type": "stream",
     "text": [
      "Epoch 1/20\n",
      "368/368 [==============================] - 7s 7ms/step - loss: 0.2689 - mean_absolute_error: 0.3224 - val_loss: 0.2620 - val_mean_absolute_error: 0.2980\n",
      "Epoch 2/20\n",
      "368/368 [==============================] - 2s 5ms/step - loss: 0.2104 - mean_absolute_error: 0.2787 - val_loss: 0.2590 - val_mean_absolute_error: 0.2853\n",
      "Epoch 3/20\n",
      "368/368 [==============================] - 2s 6ms/step - loss: 0.2103 - mean_absolute_error: 0.2785 - val_loss: 0.2618 - val_mean_absolute_error: 0.3022\n",
      "Epoch 4/20\n",
      "368/368 [==============================] - 2s 5ms/step - loss: 0.2086 - mean_absolute_error: 0.2783 - val_loss: 0.2597 - val_mean_absolute_error: 0.2860\n",
      "***TRAIN***:\n",
      "correlation related to cluster centre: 0.89\n",
      "r2 score related to cluster centre: 0.80\n",
      "***VALIDATION***:\n",
      "correlation related to cluster centre: 0.90\n",
      "r2 score related to cluster centre: 0.80\n"
     ]
    },
    {
     "data": {
      "application/vnd.jupyter.widget-view+json": {
       "model_id": "846892b28e6e46cab916879491597560",
       "version_major": 2,
       "version_minor": 0
      },
      "text/plain": [
       "IntProgress(value=0, max=17)"
      ]
     },
     "metadata": {},
     "output_type": "display_data"
    },
    {
     "name": "stdout",
     "output_type": "stream",
     "text": [
      "***VALIDATION***:\n",
      "average correlation: 0.90\n",
      "average r2: 0.80\n",
      "---do_investigations. cluster index : 28---\n"
     ]
    },
    {
     "data": {
      "application/vnd.jupyter.widget-view+json": {
       "model_id": "7493f2c791ba47eaadef170989dd2b1c",
       "version_major": 2,
       "version_minor": 0
      },
      "text/plain": [
       "IntProgress(value=0, max=39)"
      ]
     },
     "metadata": {},
     "output_type": "display_data"
    },
    {
     "name": "stdout",
     "output_type": "stream",
     "text": [
      "Epoch 1/20\n",
      "368/368 [==============================] - 6s 7ms/step - loss: 0.2663 - mean_absolute_error: 0.3616 - val_loss: 0.2133 - val_mean_absolute_error: 0.3330\n",
      "Epoch 2/20\n",
      "368/368 [==============================] - 2s 5ms/step - loss: 0.2002 - mean_absolute_error: 0.3139 - val_loss: 0.2112 - val_mean_absolute_error: 0.3319\n",
      "Epoch 3/20\n",
      "368/368 [==============================] - 2s 5ms/step - loss: 0.1997 - mean_absolute_error: 0.3133 - val_loss: 0.2117 - val_mean_absolute_error: 0.3201\n",
      "Epoch 4/20\n",
      "368/368 [==============================] - 2s 5ms/step - loss: 0.2004 - mean_absolute_error: 0.3143 - val_loss: 0.2113 - val_mean_absolute_error: 0.3274\n",
      "***TRAIN***:\n",
      "correlation related to cluster centre: 0.90\n",
      "r2 score related to cluster centre: 0.80\n",
      "***VALIDATION***:\n",
      "correlation related to cluster centre: 0.90\n",
      "r2 score related to cluster centre: 0.81\n"
     ]
    },
    {
     "data": {
      "application/vnd.jupyter.widget-view+json": {
       "model_id": "c1fd554e5e674a29a36911a5546bb302",
       "version_major": 2,
       "version_minor": 0
      },
      "text/plain": [
       "IntProgress(value=0, max=39)"
      ]
     },
     "metadata": {},
     "output_type": "display_data"
    },
    {
     "name": "stdout",
     "output_type": "stream",
     "text": [
      "***VALIDATION***:\n",
      "average correlation: 0.89\n",
      "average r2: 0.78\n",
      "---do_investigations. cluster index : 29---\n"
     ]
    },
    {
     "data": {
      "application/vnd.jupyter.widget-view+json": {
       "model_id": "52b340d6963946e2b1cdc4335013fd89",
       "version_major": 2,
       "version_minor": 0
      },
      "text/plain": [
       "IntProgress(value=0, max=17)"
      ]
     },
     "metadata": {},
     "output_type": "display_data"
    },
    {
     "name": "stdout",
     "output_type": "stream",
     "text": [
      "Epoch 1/20\n",
      "368/368 [==============================] - 12s 8ms/step - loss: 0.3156 - mean_absolute_error: 0.3041 - val_loss: 0.4492 - val_mean_absolute_error: 0.3073\n",
      "Epoch 2/20\n",
      "368/368 [==============================] - 2s 5ms/step - loss: 0.2153 - mean_absolute_error: 0.2531 - val_loss: 0.4439 - val_mean_absolute_error: 0.3118\n",
      "Epoch 3/20\n",
      "368/368 [==============================] - 2s 6ms/step - loss: 0.2140 - mean_absolute_error: 0.2528 - val_loss: 0.4402 - val_mean_absolute_error: 0.3222\n",
      "Epoch 4/20\n",
      "368/368 [==============================] - 2s 5ms/step - loss: 0.2150 - mean_absolute_error: 0.2528 - val_loss: 0.4433 - val_mean_absolute_error: 0.3237\n",
      "Epoch 5/20\n",
      "368/368 [==============================] - 2s 6ms/step - loss: 0.2130 - mean_absolute_error: 0.2520 - val_loss: 0.4355 - val_mean_absolute_error: 0.3177\n",
      "Epoch 6/20\n",
      "368/368 [==============================] - 2s 5ms/step - loss: 0.2119 - mean_absolute_error: 0.2516 - val_loss: 0.4337 - val_mean_absolute_error: 0.3136\n",
      "Epoch 7/20\n",
      "368/368 [==============================] - 2s 5ms/step - loss: 0.2107 - mean_absolute_error: 0.2505 - val_loss: 0.4390 - val_mean_absolute_error: 0.3223\n",
      "Epoch 8/20\n",
      "368/368 [==============================] - 2s 5ms/step - loss: 0.2119 - mean_absolute_error: 0.2516 - val_loss: 0.4372 - val_mean_absolute_error: 0.3045\n",
      "***TRAIN***:\n",
      "correlation related to cluster centre: 0.89\n",
      "r2 score related to cluster centre: 0.80\n",
      "***VALIDATION***:\n",
      "correlation related to cluster centre: 0.89\n",
      "r2 score related to cluster centre: 0.79\n"
     ]
    },
    {
     "data": {
      "application/vnd.jupyter.widget-view+json": {
       "model_id": "40b8ecb60d264684b9e132425cba0d71",
       "version_major": 2,
       "version_minor": 0
      },
      "text/plain": [
       "IntProgress(value=0, max=17)"
      ]
     },
     "metadata": {},
     "output_type": "display_data"
    },
    {
     "name": "stdout",
     "output_type": "stream",
     "text": [
      "***VALIDATION***:\n",
      "average correlation: 0.88\n",
      "average r2: 0.76\n",
      "---do_investigations. cluster index : 30---\n"
     ]
    },
    {
     "data": {
      "application/vnd.jupyter.widget-view+json": {
       "model_id": "556bb976a4894d318382ba6d1cc5be84",
       "version_major": 2,
       "version_minor": 0
      },
      "text/plain": [
       "IntProgress(value=0, max=4)"
      ]
     },
     "metadata": {},
     "output_type": "display_data"
    },
    {
     "name": "stdout",
     "output_type": "stream",
     "text": [
      "Epoch 1/20\n",
      "368/368 [==============================] - 9s 6ms/step - loss: 0.2856 - mean_absolute_error: 0.3152 - val_loss: 0.3707 - val_mean_absolute_error: 0.3207\n",
      "Epoch 2/20\n",
      "368/368 [==============================] - 2s 5ms/step - loss: 0.2140 - mean_absolute_error: 0.2710 - val_loss: 0.3632 - val_mean_absolute_error: 0.3255\n",
      "Epoch 3/20\n",
      "368/368 [==============================] - 2s 6ms/step - loss: 0.2121 - mean_absolute_error: 0.2691 - val_loss: 0.3664 - val_mean_absolute_error: 0.3314\n",
      "Epoch 4/20\n",
      "368/368 [==============================] - 3s 9ms/step - loss: 0.2116 - mean_absolute_error: 0.2689 - val_loss: 0.3716 - val_mean_absolute_error: 0.3274\n",
      "***TRAIN***:\n",
      "correlation related to cluster centre: 0.89\n",
      "r2 score related to cluster centre: 0.78\n",
      "***VALIDATION***:\n",
      "correlation related to cluster centre: 0.89\n",
      "r2 score related to cluster centre: 0.79\n"
     ]
    },
    {
     "data": {
      "application/vnd.jupyter.widget-view+json": {
       "model_id": "ad40705376354cccafafd46001c7247a",
       "version_major": 2,
       "version_minor": 0
      },
      "text/plain": [
       "IntProgress(value=0, max=4)"
      ]
     },
     "metadata": {},
     "output_type": "display_data"
    },
    {
     "name": "stdout",
     "output_type": "stream",
     "text": [
      "***VALIDATION***:\n",
      "average correlation: 0.89\n",
      "average r2: 0.79\n",
      "---do_investigations. cluster index : 31---\n"
     ]
    },
    {
     "data": {
      "application/vnd.jupyter.widget-view+json": {
       "model_id": "36ee218aeaba4a38977cd0d399897f58",
       "version_major": 2,
       "version_minor": 0
      },
      "text/plain": [
       "IntProgress(value=0, max=67)"
      ]
     },
     "metadata": {},
     "output_type": "display_data"
    },
    {
     "name": "stdout",
     "output_type": "stream",
     "text": [
      "Epoch 1/20\n",
      "368/368 [==============================] - 45s 8ms/step - loss: 0.2658 - mean_absolute_error: 0.3452 - val_loss: 0.1649 - val_mean_absolute_error: 0.2649\n",
      "Epoch 2/20\n",
      "368/368 [==============================] - 2s 5ms/step - loss: 0.1886 - mean_absolute_error: 0.2884 - val_loss: 0.1627 - val_mean_absolute_error: 0.2593\n",
      "Epoch 3/20\n",
      "368/368 [==============================] - 2s 6ms/step - loss: 0.1874 - mean_absolute_error: 0.2865 - val_loss: 0.1657 - val_mean_absolute_error: 0.2539\n",
      "Epoch 4/20\n",
      "368/368 [==============================] - 2s 5ms/step - loss: 0.1869 - mean_absolute_error: 0.2854 - val_loss: 0.1620 - val_mean_absolute_error: 0.2643\n",
      "Epoch 5/20\n",
      "368/368 [==============================] - 2s 5ms/step - loss: 0.1888 - mean_absolute_error: 0.2867 - val_loss: 0.1621 - val_mean_absolute_error: 0.2573\n",
      "Epoch 6/20\n",
      "368/368 [==============================] - 2s 5ms/step - loss: 0.1882 - mean_absolute_error: 0.2859 - val_loss: 0.1630 - val_mean_absolute_error: 0.2644\n",
      "***TRAIN***:\n",
      "correlation related to cluster centre: 0.90\n",
      "r2 score related to cluster centre: 0.81\n",
      "***VALIDATION***:\n",
      "correlation related to cluster centre: 0.92\n",
      "r2 score related to cluster centre: 0.84\n"
     ]
    },
    {
     "data": {
      "application/vnd.jupyter.widget-view+json": {
       "model_id": "d1a3297cf6574b368c9a72949c281ad5",
       "version_major": 2,
       "version_minor": 0
      },
      "text/plain": [
       "IntProgress(value=0, max=67)"
      ]
     },
     "metadata": {},
     "output_type": "display_data"
    },
    {
     "name": "stdout",
     "output_type": "stream",
     "text": [
      "***VALIDATION***:\n",
      "average correlation: 0.91\n",
      "average r2: 0.81\n",
      "---do_investigations. cluster index : 32---\n"
     ]
    },
    {
     "data": {
      "application/vnd.jupyter.widget-view+json": {
       "model_id": "eb716e90e06843eda004518ff60f3caf",
       "version_major": 2,
       "version_minor": 0
      },
      "text/plain": [
       "IntProgress(value=0, max=4)"
      ]
     },
     "metadata": {},
     "output_type": "display_data"
    },
    {
     "name": "stdout",
     "output_type": "stream",
     "text": [
      "Epoch 1/20\n",
      "368/368 [==============================] - 8s 8ms/step - loss: 0.2667 - mean_absolute_error: 0.2328 - val_loss: 0.3315 - val_mean_absolute_error: 0.2564\n",
      "Epoch 2/20\n",
      "368/368 [==============================] - 2s 5ms/step - loss: 0.1834 - mean_absolute_error: 0.1892 - val_loss: 0.3447 - val_mean_absolute_error: 0.2676\n",
      "Epoch 3/20\n",
      "368/368 [==============================] - 2s 5ms/step - loss: 0.1819 - mean_absolute_error: 0.1889 - val_loss: 0.3298 - val_mean_absolute_error: 0.2576\n",
      "Epoch 4/20\n",
      "368/368 [==============================] - 2s 5ms/step - loss: 0.1799 - mean_absolute_error: 0.1883 - val_loss: 0.3219 - val_mean_absolute_error: 0.2532\n",
      "Epoch 5/20\n",
      "368/368 [==============================] - 2s 5ms/step - loss: 0.1823 - mean_absolute_error: 0.1870 - val_loss: 0.3203 - val_mean_absolute_error: 0.2549\n",
      "Epoch 6/20\n",
      "368/368 [==============================] - 2s 5ms/step - loss: 0.1774 - mean_absolute_error: 0.1869 - val_loss: 0.3219 - val_mean_absolute_error: 0.2685\n",
      "Epoch 7/20\n",
      "368/368 [==============================] - 2s 5ms/step - loss: 0.1780 - mean_absolute_error: 0.1859 - val_loss: 0.3270 - val_mean_absolute_error: 0.2611\n",
      "***TRAIN***:\n",
      "correlation related to cluster centre: 0.91\n",
      "r2 score related to cluster centre: 0.83\n",
      "***VALIDATION***:\n",
      "correlation related to cluster centre: 0.92\n",
      "r2 score related to cluster centre: 0.84\n"
     ]
    },
    {
     "data": {
      "application/vnd.jupyter.widget-view+json": {
       "model_id": "8882edcd2a6148b39b9af26c533cc601",
       "version_major": 2,
       "version_minor": 0
      },
      "text/plain": [
       "IntProgress(value=0, max=4)"
      ]
     },
     "metadata": {},
     "output_type": "display_data"
    },
    {
     "name": "stdout",
     "output_type": "stream",
     "text": [
      "***VALIDATION***:\n",
      "average correlation: 0.92\n",
      "average r2: 0.84\n",
      "---do_investigations. cluster index : 33---\n"
     ]
    },
    {
     "data": {
      "application/vnd.jupyter.widget-view+json": {
       "model_id": "46db0bd821184f888fb815f725f51327",
       "version_major": 2,
       "version_minor": 0
      },
      "text/plain": [
       "IntProgress(value=0, max=151)"
      ]
     },
     "metadata": {},
     "output_type": "display_data"
    },
    {
     "name": "stdout",
     "output_type": "stream",
     "text": [
      "Epoch 1/20\n",
      "368/368 [==============================] - 7s 8ms/step - loss: 0.2707 - mean_absolute_error: 0.3430 - val_loss: 0.1923 - val_mean_absolute_error: 0.2830\n",
      "Epoch 2/20\n",
      "368/368 [==============================] - 2s 5ms/step - loss: 0.1999 - mean_absolute_error: 0.2959 - val_loss: 0.1801 - val_mean_absolute_error: 0.2657\n",
      "Epoch 3/20\n",
      "368/368 [==============================] - 2s 5ms/step - loss: 0.1996 - mean_absolute_error: 0.2951 - val_loss: 0.1782 - val_mean_absolute_error: 0.2647\n",
      "Epoch 4/20\n",
      "368/368 [==============================] - 2s 5ms/step - loss: 0.1994 - mean_absolute_error: 0.2953 - val_loss: 0.1829 - val_mean_absolute_error: 0.2687\n",
      "Epoch 5/20\n",
      "368/368 [==============================] - 2s 5ms/step - loss: 0.1989 - mean_absolute_error: 0.2956 - val_loss: 0.1863 - val_mean_absolute_error: 0.2781\n",
      "***TRAIN***:\n",
      "correlation related to cluster centre: 0.90\n",
      "r2 score related to cluster centre: 0.80\n",
      "***VALIDATION***:\n",
      "correlation related to cluster centre: 0.90\n",
      "r2 score related to cluster centre: 0.80\n"
     ]
    },
    {
     "data": {
      "application/vnd.jupyter.widget-view+json": {
       "model_id": "70835ffac66a4953b2b60c639d2a27de",
       "version_major": 2,
       "version_minor": 0
      },
      "text/plain": [
       "IntProgress(value=0, max=151)"
      ]
     },
     "metadata": {},
     "output_type": "display_data"
    },
    {
     "name": "stdout",
     "output_type": "stream",
     "text": [
      "***VALIDATION***:\n",
      "average correlation: 0.89\n",
      "average r2: 0.76\n",
      "---do_investigations. cluster index : 34---\n"
     ]
    },
    {
     "data": {
      "application/vnd.jupyter.widget-view+json": {
       "model_id": "af80b0da7c00440287f42106071cb532",
       "version_major": 2,
       "version_minor": 0
      },
      "text/plain": [
       "IntProgress(value=0, max=2)"
      ]
     },
     "metadata": {},
     "output_type": "display_data"
    },
    {
     "name": "stdout",
     "output_type": "stream",
     "text": [
      "Epoch 1/20\n",
      "368/368 [==============================] - 6s 7ms/step - loss: 0.2964 - mean_absolute_error: 0.2951 - val_loss: 0.4520 - val_mean_absolute_error: 0.3419\n",
      "Epoch 2/20\n",
      "368/368 [==============================] - 2s 5ms/step - loss: 0.2172 - mean_absolute_error: 0.2473 - val_loss: 0.3966 - val_mean_absolute_error: 0.3141\n",
      "Epoch 3/20\n",
      "368/368 [==============================] - 2s 5ms/step - loss: 0.2165 - mean_absolute_error: 0.2466 - val_loss: 0.4011 - val_mean_absolute_error: 0.3181\n",
      "Epoch 4/20\n",
      "368/368 [==============================] - 2s 5ms/step - loss: 0.2123 - mean_absolute_error: 0.2453 - val_loss: 0.4049 - val_mean_absolute_error: 0.3177\n",
      "***TRAIN***:\n",
      "correlation related to cluster centre: 0.89\n",
      "r2 score related to cluster centre: 0.77\n",
      "***VALIDATION***:\n",
      "correlation related to cluster centre: 0.90\n",
      "r2 score related to cluster centre: 0.80\n"
     ]
    },
    {
     "data": {
      "application/vnd.jupyter.widget-view+json": {
       "model_id": "84e172e2e1ed4cb4b097c1af4558159c",
       "version_major": 2,
       "version_minor": 0
      },
      "text/plain": [
       "IntProgress(value=0, max=2)"
      ]
     },
     "metadata": {},
     "output_type": "display_data"
    },
    {
     "name": "stdout",
     "output_type": "stream",
     "text": [
      "***VALIDATION***:\n",
      "average correlation: 0.89\n",
      "average r2: 0.80\n",
      "---do_investigations. cluster index : 35---\n"
     ]
    },
    {
     "data": {
      "application/vnd.jupyter.widget-view+json": {
       "model_id": "b7f11f558ce34afc9e9bd6896a9517cd",
       "version_major": 2,
       "version_minor": 0
      },
      "text/plain": [
       "IntProgress(value=0, max=31)"
      ]
     },
     "metadata": {},
     "output_type": "display_data"
    },
    {
     "name": "stdout",
     "output_type": "stream",
     "text": [
      "Epoch 1/20\n",
      "368/368 [==============================] - 6s 7ms/step - loss: 0.2767 - mean_absolute_error: 0.3427 - val_loss: 0.1842 - val_mean_absolute_error: 0.2772\n",
      "Epoch 2/20\n",
      "368/368 [==============================] - 2s 5ms/step - loss: 0.2031 - mean_absolute_error: 0.2944 - val_loss: 0.1885 - val_mean_absolute_error: 0.2842\n",
      "Epoch 3/20\n",
      "368/368 [==============================] - 2s 5ms/step - loss: 0.2017 - mean_absolute_error: 0.2931 - val_loss: 0.1845 - val_mean_absolute_error: 0.2721\n",
      "***TRAIN***:\n",
      "correlation related to cluster centre: 0.90\n",
      "r2 score related to cluster centre: 0.80\n",
      "***VALIDATION***:\n",
      "correlation related to cluster centre: 0.90\n",
      "r2 score related to cluster centre: 0.81\n"
     ]
    },
    {
     "data": {
      "application/vnd.jupyter.widget-view+json": {
       "model_id": "6b2699d02f0e4112ba973f0aa320e33e",
       "version_major": 2,
       "version_minor": 0
      },
      "text/plain": [
       "IntProgress(value=0, max=31)"
      ]
     },
     "metadata": {},
     "output_type": "display_data"
    },
    {
     "name": "stdout",
     "output_type": "stream",
     "text": [
      "***VALIDATION***:\n",
      "average correlation: 0.90\n",
      "average r2: 0.78\n",
      "---do_investigations. cluster index : 36---\n"
     ]
    },
    {
     "data": {
      "application/vnd.jupyter.widget-view+json": {
       "model_id": "0231069953e64e44b679da901983c880",
       "version_major": 2,
       "version_minor": 0
      },
      "text/plain": [
       "IntProgress(value=0, max=18)"
      ]
     },
     "metadata": {},
     "output_type": "display_data"
    },
    {
     "name": "stdout",
     "output_type": "stream",
     "text": [
      "Epoch 1/20\n",
      "368/368 [==============================] - 5s 6ms/step - loss: 0.2572 - mean_absolute_error: 0.3349 - val_loss: 0.1997 - val_mean_absolute_error: 0.2795\n",
      "Epoch 2/20\n",
      "368/368 [==============================] - 2s 5ms/step - loss: 0.2055 - mean_absolute_error: 0.2925 - val_loss: 0.2021 - val_mean_absolute_error: 0.2852\n",
      "Epoch 3/20\n",
      "368/368 [==============================] - 2s 5ms/step - loss: 0.2043 - mean_absolute_error: 0.2911 - val_loss: 0.1988 - val_mean_absolute_error: 0.2742\n",
      "Epoch 4/20\n",
      "368/368 [==============================] - 2s 5ms/step - loss: 0.2053 - mean_absolute_error: 0.2917 - val_loss: 0.1977 - val_mean_absolute_error: 0.2838\n",
      "Epoch 5/20\n",
      "368/368 [==============================] - 2s 5ms/step - loss: 0.2044 - mean_absolute_error: 0.2908 - val_loss: 0.1975 - val_mean_absolute_error: 0.2840\n",
      "Epoch 6/20\n",
      "368/368 [==============================] - 2s 5ms/step - loss: 0.2035 - mean_absolute_error: 0.2908 - val_loss: 0.1990 - val_mean_absolute_error: 0.2809\n",
      "Epoch 7/20\n",
      "368/368 [==============================] - 2s 5ms/step - loss: 0.2040 - mean_absolute_error: 0.2901 - val_loss: 0.1977 - val_mean_absolute_error: 0.2741\n",
      "***TRAIN***:\n",
      "correlation related to cluster centre: 0.89\n",
      "r2 score related to cluster centre: 0.80\n",
      "***VALIDATION***:\n",
      "correlation related to cluster centre: 0.90\n",
      "r2 score related to cluster centre: 0.81\n"
     ]
    },
    {
     "data": {
      "application/vnd.jupyter.widget-view+json": {
       "model_id": "28acb7a5d19c442cb63c79dd1d6d34b9",
       "version_major": 2,
       "version_minor": 0
      },
      "text/plain": [
       "IntProgress(value=0, max=18)"
      ]
     },
     "metadata": {},
     "output_type": "display_data"
    },
    {
     "name": "stdout",
     "output_type": "stream",
     "text": [
      "***VALIDATION***:\n",
      "average correlation: 0.90\n",
      "average r2: 0.81\n",
      "---do_investigations. cluster index : 37---\n"
     ]
    },
    {
     "data": {
      "application/vnd.jupyter.widget-view+json": {
       "model_id": "8c5f7dc58a7c4abdb961abcec6f7d46c",
       "version_major": 2,
       "version_minor": 0
      },
      "text/plain": [
       "IntProgress(value=0, max=1)"
      ]
     },
     "metadata": {},
     "output_type": "display_data"
    },
    {
     "name": "stdout",
     "output_type": "stream",
     "text": [
      "Epoch 1/20\n",
      "368/368 [==============================] - 5s 7ms/step - loss: 0.2948 - mean_absolute_error: 0.2303 - val_loss: 0.2896 - val_mean_absolute_error: 0.2226\n",
      "Epoch 2/20\n",
      "368/368 [==============================] - 2s 5ms/step - loss: 0.2027 - mean_absolute_error: 0.1866 - val_loss: 0.2746 - val_mean_absolute_error: 0.2225\n",
      "Epoch 3/20\n",
      "368/368 [==============================] - 2s 5ms/step - loss: 0.1995 - mean_absolute_error: 0.1851 - val_loss: 0.2784 - val_mean_absolute_error: 0.2217\n",
      "Epoch 4/20\n",
      "368/368 [==============================] - 2s 5ms/step - loss: 0.1979 - mean_absolute_error: 0.1842 - val_loss: 0.2762 - val_mean_absolute_error: 0.2217\n",
      "***TRAIN***:\n",
      "correlation related to cluster centre: 0.90\n",
      "r2 score related to cluster centre: 0.81\n",
      "***VALIDATION***:\n",
      "correlation related to cluster centre: 0.91\n",
      "r2 score related to cluster centre: 0.83\n"
     ]
    },
    {
     "data": {
      "application/vnd.jupyter.widget-view+json": {
       "model_id": "2ee3c6e605c2490fa1a03601950102f1",
       "version_major": 2,
       "version_minor": 0
      },
      "text/plain": [
       "IntProgress(value=0, max=1)"
      ]
     },
     "metadata": {},
     "output_type": "display_data"
    },
    {
     "name": "stdout",
     "output_type": "stream",
     "text": [
      "***VALIDATION***:\n",
      "average correlation: 0.91\n",
      "average r2: 0.83\n",
      "---do_investigations. cluster index : 38---\n"
     ]
    },
    {
     "data": {
      "application/vnd.jupyter.widget-view+json": {
       "model_id": "b08ab6d2ab374e6389ee73d2aa13fd32",
       "version_major": 2,
       "version_minor": 0
      },
      "text/plain": [
       "IntProgress(value=0, max=5)"
      ]
     },
     "metadata": {},
     "output_type": "display_data"
    },
    {
     "name": "stdout",
     "output_type": "stream",
     "text": [
      "Epoch 1/20\n",
      "368/368 [==============================] - 5s 6ms/step - loss: 0.2634 - mean_absolute_error: 0.3502 - val_loss: 0.2163 - val_mean_absolute_error: 0.3140\n",
      "Epoch 2/20\n",
      "368/368 [==============================] - 2s 5ms/step - loss: 0.2078 - mean_absolute_error: 0.3064 - val_loss: 0.2168 - val_mean_absolute_error: 0.3165\n",
      "Epoch 3/20\n",
      "368/368 [==============================] - 2s 5ms/step - loss: 0.2057 - mean_absolute_error: 0.3050 - val_loss: 0.2158 - val_mean_absolute_error: 0.3112\n",
      "Epoch 4/20\n",
      "368/368 [==============================] - 2s 5ms/step - loss: 0.2060 - mean_absolute_error: 0.3043 - val_loss: 0.2142 - val_mean_absolute_error: 0.3083\n",
      "Epoch 5/20\n",
      "368/368 [==============================] - 2s 5ms/step - loss: 0.2069 - mean_absolute_error: 0.3052 - val_loss: 0.2169 - val_mean_absolute_error: 0.3193\n",
      "Epoch 6/20\n",
      "368/368 [==============================] - 2s 5ms/step - loss: 0.2058 - mean_absolute_error: 0.3036 - val_loss: 0.2151 - val_mean_absolute_error: 0.3115\n",
      "***TRAIN***:\n",
      "correlation related to cluster centre: 0.89\n",
      "r2 score related to cluster centre: 0.80\n",
      "***VALIDATION***:\n",
      "correlation related to cluster centre: 0.90\n",
      "r2 score related to cluster centre: 0.81\n"
     ]
    },
    {
     "data": {
      "application/vnd.jupyter.widget-view+json": {
       "model_id": "55a72133b7634da98274954dfc37a9ac",
       "version_major": 2,
       "version_minor": 0
      },
      "text/plain": [
       "IntProgress(value=0, max=5)"
      ]
     },
     "metadata": {},
     "output_type": "display_data"
    },
    {
     "name": "stdout",
     "output_type": "stream",
     "text": [
      "***VALIDATION***:\n",
      "average correlation: 0.90\n",
      "average r2: 0.81\n",
      "---do_investigations. cluster index : 39---\n"
     ]
    },
    {
     "data": {
      "application/vnd.jupyter.widget-view+json": {
       "model_id": "4f77df55b40c44359fed8c581f824076",
       "version_major": 2,
       "version_minor": 0
      },
      "text/plain": [
       "IntProgress(value=0, max=6)"
      ]
     },
     "metadata": {},
     "output_type": "display_data"
    },
    {
     "name": "stdout",
     "output_type": "stream",
     "text": [
      "Epoch 1/20\n",
      "368/368 [==============================] - 7s 8ms/step - loss: 0.2992 - mean_absolute_error: 0.3312 - val_loss: 0.2757 - val_mean_absolute_error: 0.3217\n",
      "Epoch 2/20\n",
      "368/368 [==============================] - 2s 5ms/step - loss: 0.2176 - mean_absolute_error: 0.2820 - val_loss: 0.2662 - val_mean_absolute_error: 0.3272\n",
      "Epoch 3/20\n",
      "368/368 [==============================] - 2s 5ms/step - loss: 0.2171 - mean_absolute_error: 0.2818 - val_loss: 0.2708 - val_mean_absolute_error: 0.3324\n",
      "Epoch 4/20\n",
      "368/368 [==============================] - 2s 5ms/step - loss: 0.2163 - mean_absolute_error: 0.2819 - val_loss: 0.2734 - val_mean_absolute_error: 0.3203\n",
      "***TRAIN***:\n",
      "correlation related to cluster centre: 0.89\n",
      "r2 score related to cluster centre: 0.78\n",
      "***VALIDATION***:\n",
      "correlation related to cluster centre: 0.90\n",
      "r2 score related to cluster centre: 0.81\n"
     ]
    },
    {
     "data": {
      "application/vnd.jupyter.widget-view+json": {
       "model_id": "a42589229d5d447d8f40ac5b02c07fac",
       "version_major": 2,
       "version_minor": 0
      },
      "text/plain": [
       "IntProgress(value=0, max=6)"
      ]
     },
     "metadata": {},
     "output_type": "display_data"
    },
    {
     "name": "stdout",
     "output_type": "stream",
     "text": [
      "***VALIDATION***:\n",
      "average correlation: 0.89\n",
      "average r2: 0.80\n",
      "---do_investigations. cluster index : 40---\n"
     ]
    },
    {
     "data": {
      "application/vnd.jupyter.widget-view+json": {
       "model_id": "f3efc721aa4b4049b265b517da53ca56",
       "version_major": 2,
       "version_minor": 0
      },
      "text/plain": [
       "IntProgress(value=0, max=13)"
      ]
     },
     "metadata": {},
     "output_type": "display_data"
    },
    {
     "name": "stdout",
     "output_type": "stream",
     "text": [
      "Epoch 1/20\n",
      "368/368 [==============================] - 6s 7ms/step - loss: 0.2890 - mean_absolute_error: 0.3570 - val_loss: 0.1814 - val_mean_absolute_error: 0.2757\n",
      "Epoch 2/20\n",
      "368/368 [==============================] - 2s 5ms/step - loss: 0.2019 - mean_absolute_error: 0.3041 - val_loss: 0.1755 - val_mean_absolute_error: 0.2705\n",
      "Epoch 3/20\n",
      "368/368 [==============================] - 2s 5ms/step - loss: 0.2021 - mean_absolute_error: 0.3047 - val_loss: 0.1785 - val_mean_absolute_error: 0.2742\n",
      "Epoch 4/20\n",
      "368/368 [==============================] - 2s 5ms/step - loss: 0.2008 - mean_absolute_error: 0.3034 - val_loss: 0.1785 - val_mean_absolute_error: 0.2711\n",
      "***TRAIN***:\n",
      "correlation related to cluster centre: 0.90\n",
      "r2 score related to cluster centre: 0.80\n",
      "***VALIDATION***:\n",
      "correlation related to cluster centre: 0.90\n",
      "r2 score related to cluster centre: 0.82\n"
     ]
    },
    {
     "data": {
      "application/vnd.jupyter.widget-view+json": {
       "model_id": "ee8b60a138ae43cfbbc7a2bdfbaf94e7",
       "version_major": 2,
       "version_minor": 0
      },
      "text/plain": [
       "IntProgress(value=0, max=13)"
      ]
     },
     "metadata": {},
     "output_type": "display_data"
    },
    {
     "name": "stdout",
     "output_type": "stream",
     "text": [
      "***VALIDATION***:\n",
      "average correlation: 0.90\n",
      "average r2: 0.81\n",
      "---do_investigations. cluster index : 41---\n"
     ]
    },
    {
     "data": {
      "application/vnd.jupyter.widget-view+json": {
       "model_id": "0f41b3bdf9034d64b5d3c6ce265e81b3",
       "version_major": 2,
       "version_minor": 0
      },
      "text/plain": [
       "IntProgress(value=0, max=2)"
      ]
     },
     "metadata": {},
     "output_type": "display_data"
    },
    {
     "name": "stdout",
     "output_type": "stream",
     "text": [
      "Epoch 1/20\n",
      "368/368 [==============================] - 7s 7ms/step - loss: 0.2447 - mean_absolute_error: 0.2537 - val_loss: 0.4176 - val_mean_absolute_error: 0.3247\n",
      "Epoch 2/20\n",
      "368/368 [==============================] - 2s 5ms/step - loss: 0.1872 - mean_absolute_error: 0.2102 - val_loss: 0.3816 - val_mean_absolute_error: 0.3139\n",
      "Epoch 3/20\n",
      "368/368 [==============================] - 2s 5ms/step - loss: 0.1854 - mean_absolute_error: 0.2107 - val_loss: 0.3660 - val_mean_absolute_error: 0.3042\n",
      "Epoch 4/20\n",
      "368/368 [==============================] - 2s 5ms/step - loss: 0.1850 - mean_absolute_error: 0.2093 - val_loss: 0.3672 - val_mean_absolute_error: 0.3051\n",
      "Epoch 5/20\n",
      "368/368 [==============================] - 2s 5ms/step - loss: 0.1846 - mean_absolute_error: 0.2096 - val_loss: 0.3615 - val_mean_absolute_error: 0.3001\n",
      "Epoch 6/20\n",
      "368/368 [==============================] - 2s 5ms/step - loss: 0.1845 - mean_absolute_error: 0.2091 - val_loss: 0.3593 - val_mean_absolute_error: 0.3050\n",
      "Epoch 7/20\n",
      "368/368 [==============================] - 2s 5ms/step - loss: 0.1826 - mean_absolute_error: 0.2074 - val_loss: 0.3663 - val_mean_absolute_error: 0.3047\n",
      "Epoch 8/20\n",
      "368/368 [==============================] - 2s 5ms/step - loss: 0.1831 - mean_absolute_error: 0.2083 - val_loss: 0.3799 - val_mean_absolute_error: 0.3154\n",
      "***TRAIN***:\n",
      "correlation related to cluster centre: 0.91\n",
      "r2 score related to cluster centre: 0.82\n",
      "***VALIDATION***:\n",
      "correlation related to cluster centre: 0.90\n",
      "r2 score related to cluster centre: 0.81\n"
     ]
    },
    {
     "data": {
      "application/vnd.jupyter.widget-view+json": {
       "model_id": "02f7c138f57d40c48b15b838ae25a197",
       "version_major": 2,
       "version_minor": 0
      },
      "text/plain": [
       "IntProgress(value=0, max=2)"
      ]
     },
     "metadata": {},
     "output_type": "display_data"
    },
    {
     "name": "stdout",
     "output_type": "stream",
     "text": [
      "***VALIDATION***:\n",
      "average correlation: 0.90\n",
      "average r2: 0.81\n",
      "---do_investigations. cluster index : 42---\n"
     ]
    },
    {
     "data": {
      "application/vnd.jupyter.widget-view+json": {
       "model_id": "36615485e3bb41e4a015906e41d27400",
       "version_major": 2,
       "version_minor": 0
      },
      "text/plain": [
       "IntProgress(value=0, max=1)"
      ]
     },
     "metadata": {},
     "output_type": "display_data"
    },
    {
     "name": "stdout",
     "output_type": "stream",
     "text": [
      "Epoch 1/20\n",
      "368/368 [==============================] - 8s 7ms/step - loss: 0.2824 - mean_absolute_error: 0.2464 - val_loss: 0.3123 - val_mean_absolute_error: 0.2597\n",
      "Epoch 2/20\n",
      "368/368 [==============================] - 2s 5ms/step - loss: 0.2005 - mean_absolute_error: 0.2081 - val_loss: 0.3118 - val_mean_absolute_error: 0.2573\n",
      "Epoch 3/20\n",
      "368/368 [==============================] - 2s 5ms/step - loss: 0.1955 - mean_absolute_error: 0.2051 - val_loss: 0.3143 - val_mean_absolute_error: 0.2663\n",
      "Epoch 4/20\n",
      "368/368 [==============================] - 2s 5ms/step - loss: 0.1959 - mean_absolute_error: 0.2052 - val_loss: 0.3095 - val_mean_absolute_error: 0.2571\n",
      "Epoch 5/20\n",
      "368/368 [==============================] - 2s 5ms/step - loss: 0.1977 - mean_absolute_error: 0.2065 - val_loss: 0.3248 - val_mean_absolute_error: 0.2633\n",
      "Epoch 6/20\n",
      "368/368 [==============================] - 2s 5ms/step - loss: 0.1954 - mean_absolute_error: 0.2049 - val_loss: 0.3379 - val_mean_absolute_error: 0.2644\n",
      "***TRAIN***:\n",
      "correlation related to cluster centre: 0.90\n",
      "r2 score related to cluster centre: 0.80\n",
      "***VALIDATION***:\n",
      "correlation related to cluster centre: 0.91\n",
      "r2 score related to cluster centre: 0.81\n"
     ]
    },
    {
     "data": {
      "application/vnd.jupyter.widget-view+json": {
       "model_id": "707355be80444af5b29e05b7f4e535d6",
       "version_major": 2,
       "version_minor": 0
      },
      "text/plain": [
       "IntProgress(value=0, max=1)"
      ]
     },
     "metadata": {},
     "output_type": "display_data"
    },
    {
     "name": "stdout",
     "output_type": "stream",
     "text": [
      "***VALIDATION***:\n",
      "average correlation: 0.91\n",
      "average r2: 0.81\n",
      "---do_investigations. cluster index : 43---\n"
     ]
    },
    {
     "data": {
      "application/vnd.jupyter.widget-view+json": {
       "model_id": "21071fe48a7c4ccfa6be55cfef0edbff",
       "version_major": 2,
       "version_minor": 0
      },
      "text/plain": [
       "IntProgress(value=0, max=2)"
      ]
     },
     "metadata": {},
     "output_type": "display_data"
    },
    {
     "name": "stdout",
     "output_type": "stream",
     "text": [
      "Epoch 1/20\n",
      "368/368 [==============================] - 5s 6ms/step - loss: 0.2741 - mean_absolute_error: 0.3105 - val_loss: 0.1306 - val_mean_absolute_error: 0.2158\n",
      "Epoch 2/20\n",
      "368/368 [==============================] - 2s 5ms/step - loss: 0.2023 - mean_absolute_error: 0.2616 - val_loss: 0.1257 - val_mean_absolute_error: 0.2127\n",
      "Epoch 3/20\n",
      "368/368 [==============================] - 2s 5ms/step - loss: 0.2008 - mean_absolute_error: 0.2607 - val_loss: 0.1240 - val_mean_absolute_error: 0.2104\n",
      "Epoch 4/20\n",
      "368/368 [==============================] - 2s 5ms/step - loss: 0.1997 - mean_absolute_error: 0.2597 - val_loss: 0.1241 - val_mean_absolute_error: 0.2125\n",
      "Epoch 5/20\n",
      "368/368 [==============================] - 2s 5ms/step - loss: 0.1998 - mean_absolute_error: 0.2594 - val_loss: 0.1232 - val_mean_absolute_error: 0.2073\n",
      "Epoch 6/20\n",
      "368/368 [==============================] - 2s 5ms/step - loss: 0.2005 - mean_absolute_error: 0.2605 - val_loss: 0.1236 - val_mean_absolute_error: 0.2095\n",
      "Epoch 7/20\n",
      "368/368 [==============================] - 2s 5ms/step - loss: 0.2001 - mean_absolute_error: 0.2595 - val_loss: 0.1232 - val_mean_absolute_error: 0.2056\n",
      "Epoch 8/20\n",
      "368/368 [==============================] - 2s 5ms/step - loss: 0.1998 - mean_absolute_error: 0.2596 - val_loss: 0.1236 - val_mean_absolute_error: 0.2109\n",
      "Epoch 9/20\n",
      "368/368 [==============================] - 2s 5ms/step - loss: 0.1983 - mean_absolute_error: 0.2589 - val_loss: 0.1247 - val_mean_absolute_error: 0.2102\n",
      "***TRAIN***:\n",
      "correlation related to cluster centre: 0.90\n",
      "r2 score related to cluster centre: 0.80\n",
      "***VALIDATION***:\n",
      "correlation related to cluster centre: 0.90\n",
      "r2 score related to cluster centre: 0.80\n"
     ]
    },
    {
     "data": {
      "application/vnd.jupyter.widget-view+json": {
       "model_id": "6a324a7da3fc45369b6b932b0c54e8dd",
       "version_major": 2,
       "version_minor": 0
      },
      "text/plain": [
       "IntProgress(value=0, max=2)"
      ]
     },
     "metadata": {},
     "output_type": "display_data"
    },
    {
     "name": "stdout",
     "output_type": "stream",
     "text": [
      "***VALIDATION***:\n",
      "average correlation: 0.90\n",
      "average r2: 0.80\n",
      "---do_investigations. cluster index : 44---\n"
     ]
    },
    {
     "data": {
      "application/vnd.jupyter.widget-view+json": {
       "model_id": "9beb077ef4d245979c9706fa7f460adb",
       "version_major": 2,
       "version_minor": 0
      },
      "text/plain": [
       "IntProgress(value=0, max=1)"
      ]
     },
     "metadata": {},
     "output_type": "display_data"
    },
    {
     "name": "stdout",
     "output_type": "stream",
     "text": [
      "Epoch 1/20\n",
      "368/368 [==============================] - 6s 6ms/step - loss: 0.3045 - mean_absolute_error: 0.2257 - val_loss: 0.3540 - val_mean_absolute_error: 0.2271\n",
      "Epoch 2/20\n",
      "368/368 [==============================] - 2s 5ms/step - loss: 0.1918 - mean_absolute_error: 0.1810 - val_loss: 0.3475 - val_mean_absolute_error: 0.2363\n",
      "Epoch 3/20\n",
      "368/368 [==============================] - 2s 5ms/step - loss: 0.1910 - mean_absolute_error: 0.1805 - val_loss: 0.3437 - val_mean_absolute_error: 0.2298\n",
      "Epoch 4/20\n",
      "368/368 [==============================] - 2s 5ms/step - loss: 0.1887 - mean_absolute_error: 0.1798 - val_loss: 0.3432 - val_mean_absolute_error: 0.2274\n",
      "Epoch 5/20\n",
      "368/368 [==============================] - 2s 5ms/step - loss: 0.1864 - mean_absolute_error: 0.1798 - val_loss: 0.3408 - val_mean_absolute_error: 0.2249\n",
      "Epoch 6/20\n",
      "368/368 [==============================] - 2s 5ms/step - loss: 0.1873 - mean_absolute_error: 0.1792 - val_loss: 0.3496 - val_mean_absolute_error: 0.2321\n",
      "Epoch 7/20\n",
      "368/368 [==============================] - 2s 5ms/step - loss: 0.1854 - mean_absolute_error: 0.1787 - val_loss: 0.3386 - val_mean_absolute_error: 0.2325\n",
      "Epoch 8/20\n",
      "368/368 [==============================] - 2s 5ms/step - loss: 0.1862 - mean_absolute_error: 0.1798 - val_loss: 0.3389 - val_mean_absolute_error: 0.2251\n",
      "Epoch 9/20\n",
      "368/368 [==============================] - 2s 5ms/step - loss: 0.1872 - mean_absolute_error: 0.1787 - val_loss: 0.3388 - val_mean_absolute_error: 0.2328\n",
      "***TRAIN***:\n",
      "correlation related to cluster centre: 0.91\n",
      "r2 score related to cluster centre: 0.82\n",
      "***VALIDATION***:\n",
      "correlation related to cluster centre: 0.90\n",
      "r2 score related to cluster centre: 0.81\n"
     ]
    },
    {
     "data": {
      "application/vnd.jupyter.widget-view+json": {
       "model_id": "ed84920a8b774669a3d153a713936734",
       "version_major": 2,
       "version_minor": 0
      },
      "text/plain": [
       "IntProgress(value=0, max=1)"
      ]
     },
     "metadata": {},
     "output_type": "display_data"
    },
    {
     "name": "stdout",
     "output_type": "stream",
     "text": [
      "***VALIDATION***:\n",
      "average correlation: 0.90\n",
      "average r2: 0.81\n",
      "weighted_average_correlation: 0.89\n",
      "weighted_average_r2_score: 0.77\n",
      "bad clusters rate: 0.49%\n"
     ]
    }
   ],
   "source": [
    "first_path = r\"C:\\Coding\\final-qualifying-work_2023-2024\\ClusteringCpp\\output\\kohonen 15 0.1 0.1.txt\"\n",
    "second_path = r\"C:\\Coding\\final-qualifying-work_2023-2024\\ClusteringCpp\\output\\kohonen 15 0.1 0.1 - 3 0.1 0.1.txt\"\n",
    "third_path = r\"C:\\Coding\\final-qualifying-work_2023-2024\\ClusteringCpp\\output\\kohonen 15 0.1 0.1 - 2 0.1 0.1.txt\"\n",
    "fourth_path = r\"C:\\Coding\\final-qualifying-work_2023-2024\\ClusteringCpp\\output\\kohonen 15 0.1 0.1 - 1 0.1 0.1.txt\"\n",
    "\n",
    "output_file = open(\"computational-experiments-output\", \"a\")\n",
    "\n",
    "selected_path = fourth_path\n",
    "\n",
    "print(f\"lstm {os.path.split(selected_path)[-1]}\")\n",
    "output_file.write(f\"lstm {os.path.split(selected_path)[-1]}\\n\")\n",
    "show_results(lstm_model, get_clusters(selected_path), CONV_WIDTH)\n",
    "\n",
    "output_file.close()"
   ]
  },
  {
   "cell_type": "code",
   "execution_count": 30,
   "id": "70a59cb5-4701-40bd-a649-91084cc793f7",
   "metadata": {},
   "outputs": [
    {
     "name": "stdout",
     "output_type": "stream",
     "text": [
      "rnn kohonen 15 0.1 0.1.txt\n",
      "---do_investigations. cluster index : 0---\n"
     ]
    },
    {
     "data": {
      "application/vnd.jupyter.widget-view+json": {
       "model_id": "8dc7303a995e4979abc4fb51f4c9cd69",
       "version_major": 2,
       "version_minor": 0
      },
      "text/plain": [
       "IntProgress(value=0, max=5788)"
      ]
     },
     "metadata": {},
     "output_type": "display_data"
    },
    {
     "name": "stdout",
     "output_type": "stream",
     "text": [
      "Epoch 1/20\n",
      "368/368 [==============================] - 8s 7ms/step - loss: 0.2381 - mean_absolute_error: 0.2946 - val_loss: 0.2511 - val_mean_absolute_error: 0.2682\n",
      "Epoch 2/20\n",
      "368/368 [==============================] - 2s 4ms/step - loss: 0.1986 - mean_absolute_error: 0.2717 - val_loss: 0.2530 - val_mean_absolute_error: 0.2707\n",
      "Epoch 3/20\n",
      "368/368 [==============================] - 2s 4ms/step - loss: 0.1975 - mean_absolute_error: 0.2713 - val_loss: 0.2440 - val_mean_absolute_error: 0.2720\n",
      "Epoch 4/20\n",
      "368/368 [==============================] - 2s 5ms/step - loss: 0.1966 - mean_absolute_error: 0.2718 - val_loss: 0.2520 - val_mean_absolute_error: 0.2709\n",
      "Epoch 5/20\n",
      "368/368 [==============================] - 2s 5ms/step - loss: 0.1972 - mean_absolute_error: 0.2722 - val_loss: 0.2451 - val_mean_absolute_error: 0.2652\n",
      "***TRAIN***:\n",
      "correlation related to cluster centre: 0.90\n",
      "r2 score related to cluster centre: 0.81\n",
      "***VALIDATION***:\n",
      "correlation related to cluster centre: 0.89\n",
      "r2 score related to cluster centre: 0.79\n"
     ]
    },
    {
     "data": {
      "application/vnd.jupyter.widget-view+json": {
       "model_id": "bd5117a2a4284de7a91ba853e64c8c1b",
       "version_major": 2,
       "version_minor": 0
      },
      "text/plain": [
       "IntProgress(value=0, max=5788)"
      ]
     },
     "metadata": {},
     "output_type": "display_data"
    },
    {
     "name": "stdout",
     "output_type": "stream",
     "text": [
      "***VALIDATION***:\n",
      "average correlation: nan\n",
      "average r2: -4115998449898177659486076928.00\n",
      "---do_investigations. cluster index : 1---\n"
     ]
    },
    {
     "data": {
      "application/vnd.jupyter.widget-view+json": {
       "model_id": "0f50fc1fda56479c93ba044862c54e71",
       "version_major": 2,
       "version_minor": 0
      },
      "text/plain": [
       "IntProgress(value=0, max=930)"
      ]
     },
     "metadata": {},
     "output_type": "display_data"
    },
    {
     "name": "stdout",
     "output_type": "stream",
     "text": [
      "Epoch 1/20\n",
      "368/368 [==============================] - 7s 5ms/step - loss: 0.2381 - mean_absolute_error: 0.3263 - val_loss: 0.2104 - val_mean_absolute_error: 0.2976\n",
      "Epoch 2/20\n",
      "368/368 [==============================] - 2s 4ms/step - loss: 0.2060 - mean_absolute_error: 0.3016 - val_loss: 0.2223 - val_mean_absolute_error: 0.3118\n",
      "Epoch 3/20\n",
      "368/368 [==============================] - 1s 4ms/step - loss: 0.2052 - mean_absolute_error: 0.3009 - val_loss: 0.2076 - val_mean_absolute_error: 0.2992\n",
      "Epoch 4/20\n",
      "368/368 [==============================] - 1s 4ms/step - loss: 0.2035 - mean_absolute_error: 0.3002 - val_loss: 0.2311 - val_mean_absolute_error: 0.3340\n",
      "Epoch 5/20\n",
      "368/368 [==============================] - 1s 4ms/step - loss: 0.2052 - mean_absolute_error: 0.3019 - val_loss: 0.2072 - val_mean_absolute_error: 0.2975\n",
      "Epoch 6/20\n",
      "368/368 [==============================] - 1s 4ms/step - loss: 0.2030 - mean_absolute_error: 0.2999 - val_loss: 0.2121 - val_mean_absolute_error: 0.3143\n",
      "Epoch 7/20\n",
      "368/368 [==============================] - 1s 4ms/step - loss: 0.2036 - mean_absolute_error: 0.2999 - val_loss: 0.2117 - val_mean_absolute_error: 0.2986\n",
      "***TRAIN***:\n",
      "correlation related to cluster centre: 0.89\n",
      "r2 score related to cluster centre: 0.80\n",
      "***VALIDATION***:\n",
      "correlation related to cluster centre: 0.90\n",
      "r2 score related to cluster centre: 0.81\n"
     ]
    },
    {
     "data": {
      "application/vnd.jupyter.widget-view+json": {
       "model_id": "d40fd484e085492b96ea0c61978973db",
       "version_major": 2,
       "version_minor": 0
      },
      "text/plain": [
       "IntProgress(value=0, max=930)"
      ]
     },
     "metadata": {},
     "output_type": "display_data"
    },
    {
     "name": "stdout",
     "output_type": "stream",
     "text": [
      "***VALIDATION***:\n",
      "average correlation: 0.90\n",
      "average r2: 0.73\n",
      "---do_investigations. cluster index : 2---\n"
     ]
    },
    {
     "data": {
      "application/vnd.jupyter.widget-view+json": {
       "model_id": "0540db0673b94cd6a30229a7566e2a68",
       "version_major": 2,
       "version_minor": 0
      },
      "text/plain": [
       "IntProgress(value=0, max=205)"
      ]
     },
     "metadata": {},
     "output_type": "display_data"
    },
    {
     "name": "stdout",
     "output_type": "stream",
     "text": [
      "Epoch 1/20\n",
      "368/368 [==============================] - 7s 5ms/step - loss: 0.2319 - mean_absolute_error: 0.3149 - val_loss: 0.1910 - val_mean_absolute_error: 0.2912\n",
      "Epoch 2/20\n",
      "368/368 [==============================] - 1s 4ms/step - loss: 0.2092 - mean_absolute_error: 0.2961 - val_loss: 0.1871 - val_mean_absolute_error: 0.2979\n",
      "Epoch 3/20\n",
      "368/368 [==============================] - 1s 4ms/step - loss: 0.2092 - mean_absolute_error: 0.2959 - val_loss: 0.1873 - val_mean_absolute_error: 0.2817\n",
      "Epoch 4/20\n",
      "368/368 [==============================] - 1s 4ms/step - loss: 0.2077 - mean_absolute_error: 0.2939 - val_loss: 0.1849 - val_mean_absolute_error: 0.2877\n",
      "Epoch 5/20\n",
      "368/368 [==============================] - 1s 4ms/step - loss: 0.2073 - mean_absolute_error: 0.2932 - val_loss: 0.1858 - val_mean_absolute_error: 0.2948\n",
      "Epoch 6/20\n",
      "368/368 [==============================] - 1s 4ms/step - loss: 0.2075 - mean_absolute_error: 0.2937 - val_loss: 0.1855 - val_mean_absolute_error: 0.2962\n",
      "***TRAIN***:\n",
      "correlation related to cluster centre: 0.89\n",
      "r2 score related to cluster centre: 0.79\n",
      "***VALIDATION***:\n",
      "correlation related to cluster centre: 0.91\n",
      "r2 score related to cluster centre: 0.82\n"
     ]
    },
    {
     "data": {
      "application/vnd.jupyter.widget-view+json": {
       "model_id": "c70cdb81269c4ed0a2d623721e66bfe1",
       "version_major": 2,
       "version_minor": 0
      },
      "text/plain": [
       "IntProgress(value=0, max=205)"
      ]
     },
     "metadata": {},
     "output_type": "display_data"
    },
    {
     "name": "stdout",
     "output_type": "stream",
     "text": [
      "***VALIDATION***:\n",
      "average correlation: 0.90\n",
      "average r2: 0.80\n",
      "---do_investigations. cluster index : 3---\n"
     ]
    },
    {
     "data": {
      "application/vnd.jupyter.widget-view+json": {
       "model_id": "a990712839a5412da6a67c4f6a912cac",
       "version_major": 2,
       "version_minor": 0
      },
      "text/plain": [
       "IntProgress(value=0, max=317)"
      ]
     },
     "metadata": {},
     "output_type": "display_data"
    },
    {
     "name": "stdout",
     "output_type": "stream",
     "text": [
      "Epoch 1/20\n",
      "368/368 [==============================] - 7s 11ms/step - loss: 0.2231 - mean_absolute_error: 0.3267 - val_loss: 0.1768 - val_mean_absolute_error: 0.2802\n",
      "Epoch 2/20\n",
      "368/368 [==============================] - 1s 4ms/step - loss: 0.1929 - mean_absolute_error: 0.3025 - val_loss: 0.1715 - val_mean_absolute_error: 0.2822\n",
      "Epoch 3/20\n",
      "368/368 [==============================] - 1s 4ms/step - loss: 0.1928 - mean_absolute_error: 0.3025 - val_loss: 0.1721 - val_mean_absolute_error: 0.2755\n",
      "Epoch 4/20\n",
      "368/368 [==============================] - 1s 4ms/step - loss: 0.1911 - mean_absolute_error: 0.3015 - val_loss: 0.1696 - val_mean_absolute_error: 0.2793\n",
      "Epoch 5/20\n",
      "368/368 [==============================] - 1s 4ms/step - loss: 0.1916 - mean_absolute_error: 0.3013 - val_loss: 0.1691 - val_mean_absolute_error: 0.2826\n",
      "Epoch 6/20\n",
      "368/368 [==============================] - 1s 4ms/step - loss: 0.1914 - mean_absolute_error: 0.3014 - val_loss: 0.1701 - val_mean_absolute_error: 0.2832\n",
      "Epoch 7/20\n",
      "368/368 [==============================] - 1s 4ms/step - loss: 0.1909 - mean_absolute_error: 0.3008 - val_loss: 0.1709 - val_mean_absolute_error: 0.2856\n",
      "***TRAIN***:\n",
      "correlation related to cluster centre: 0.90\n",
      "r2 score related to cluster centre: 0.81\n",
      "***VALIDATION***:\n",
      "correlation related to cluster centre: 0.91\n",
      "r2 score related to cluster centre: 0.83\n"
     ]
    },
    {
     "data": {
      "application/vnd.jupyter.widget-view+json": {
       "model_id": "55a7822951654460809599e8e3e6f7d5",
       "version_major": 2,
       "version_minor": 0
      },
      "text/plain": [
       "IntProgress(value=0, max=317)"
      ]
     },
     "metadata": {},
     "output_type": "display_data"
    },
    {
     "name": "stdout",
     "output_type": "stream",
     "text": [
      "***VALIDATION***:\n",
      "average correlation: 0.91\n",
      "average r2: 0.73\n",
      "---do_investigations. cluster index : 4---\n"
     ]
    },
    {
     "data": {
      "application/vnd.jupyter.widget-view+json": {
       "model_id": "cb20244850634863b6c2f5739cf5b709",
       "version_major": 2,
       "version_minor": 0
      },
      "text/plain": [
       "IntProgress(value=0, max=125)"
      ]
     },
     "metadata": {},
     "output_type": "display_data"
    },
    {
     "name": "stdout",
     "output_type": "stream",
     "text": [
      "Epoch 1/20\n",
      "368/368 [==============================] - 5s 6ms/step - loss: 0.2339 - mean_absolute_error: 0.3235 - val_loss: 0.1747 - val_mean_absolute_error: 0.2977\n",
      "Epoch 2/20\n",
      "368/368 [==============================] - 4s 10ms/step - loss: 0.2134 - mean_absolute_error: 0.3063 - val_loss: 0.1738 - val_mean_absolute_error: 0.2931\n",
      "Epoch 3/20\n",
      "368/368 [==============================] - 1s 4ms/step - loss: 0.2102 - mean_absolute_error: 0.3036 - val_loss: 0.1691 - val_mean_absolute_error: 0.2902\n",
      "Epoch 4/20\n",
      "368/368 [==============================] - 1s 4ms/step - loss: 0.2110 - mean_absolute_error: 0.3044 - val_loss: 0.1691 - val_mean_absolute_error: 0.2875\n",
      "Epoch 5/20\n",
      "368/368 [==============================] - 1s 4ms/step - loss: 0.2108 - mean_absolute_error: 0.3038 - val_loss: 0.1696 - val_mean_absolute_error: 0.2895\n",
      "Epoch 6/20\n",
      "368/368 [==============================] - 1s 4ms/step - loss: 0.2102 - mean_absolute_error: 0.3033 - val_loss: 0.1697 - val_mean_absolute_error: 0.2861\n",
      "***TRAIN***:\n",
      "correlation related to cluster centre: 0.89\n",
      "r2 score related to cluster centre: 0.79\n",
      "***VALIDATION***:\n",
      "correlation related to cluster centre: 0.91\n",
      "r2 score related to cluster centre: 0.82\n"
     ]
    },
    {
     "data": {
      "application/vnd.jupyter.widget-view+json": {
       "model_id": "61d1fbc1110440bd869b03bc8e93dcf9",
       "version_major": 2,
       "version_minor": 0
      },
      "text/plain": [
       "IntProgress(value=0, max=125)"
      ]
     },
     "metadata": {},
     "output_type": "display_data"
    },
    {
     "name": "stdout",
     "output_type": "stream",
     "text": [
      "***VALIDATION***:\n",
      "average correlation: 0.90\n",
      "average r2: 0.81\n",
      "---do_investigations. cluster index : 5---\n"
     ]
    },
    {
     "data": {
      "application/vnd.jupyter.widget-view+json": {
       "model_id": "7a0395dfbab84e9db22427f71a235b4d",
       "version_major": 2,
       "version_minor": 0
      },
      "text/plain": [
       "IntProgress(value=0, max=160)"
      ]
     },
     "metadata": {},
     "output_type": "display_data"
    },
    {
     "name": "stdout",
     "output_type": "stream",
     "text": [
      "Epoch 1/20\n",
      "368/368 [==============================] - 13s 7ms/step - loss: 0.2218 - mean_absolute_error: 0.3273 - val_loss: 0.1589 - val_mean_absolute_error: 0.2794\n",
      "Epoch 2/20\n",
      "368/368 [==============================] - 1s 4ms/step - loss: 0.1988 - mean_absolute_error: 0.3091 - val_loss: 0.1572 - val_mean_absolute_error: 0.2741\n",
      "Epoch 3/20\n",
      "368/368 [==============================] - 1s 4ms/step - loss: 0.1992 - mean_absolute_error: 0.3085 - val_loss: 0.1565 - val_mean_absolute_error: 0.2722\n",
      "Epoch 4/20\n",
      "368/368 [==============================] - 1s 4ms/step - loss: 0.1982 - mean_absolute_error: 0.3078 - val_loss: 0.1561 - val_mean_absolute_error: 0.2767\n",
      "Epoch 5/20\n",
      "368/368 [==============================] - 1s 4ms/step - loss: 0.1966 - mean_absolute_error: 0.3067 - val_loss: 0.1562 - val_mean_absolute_error: 0.2795\n",
      "Epoch 6/20\n",
      "368/368 [==============================] - 1s 4ms/step - loss: 0.1980 - mean_absolute_error: 0.3079 - val_loss: 0.1557 - val_mean_absolute_error: 0.2763\n",
      "Epoch 7/20\n",
      "368/368 [==============================] - 1s 4ms/step - loss: 0.1975 - mean_absolute_error: 0.3076 - val_loss: 0.1570 - val_mean_absolute_error: 0.2851\n",
      "Epoch 8/20\n",
      "368/368 [==============================] - 1s 4ms/step - loss: 0.1963 - mean_absolute_error: 0.3060 - val_loss: 0.1574 - val_mean_absolute_error: 0.2781\n",
      "***TRAIN***:\n",
      "correlation related to cluster centre: 0.90\n",
      "r2 score related to cluster centre: 0.80\n",
      "***VALIDATION***:\n",
      "correlation related to cluster centre: 0.91\n",
      "r2 score related to cluster centre: 0.83\n"
     ]
    },
    {
     "data": {
      "application/vnd.jupyter.widget-view+json": {
       "model_id": "7fc6902562b14fadb7c04c5851981ae6",
       "version_major": 2,
       "version_minor": 0
      },
      "text/plain": [
       "IntProgress(value=0, max=160)"
      ]
     },
     "metadata": {},
     "output_type": "display_data"
    },
    {
     "name": "stdout",
     "output_type": "stream",
     "text": [
      "***VALIDATION***:\n",
      "average correlation: 0.91\n",
      "average r2: 0.82\n",
      "---do_investigations. cluster index : 6---\n"
     ]
    },
    {
     "data": {
      "application/vnd.jupyter.widget-view+json": {
       "model_id": "f70953ae35974ca3bb59c7c8feee66f5",
       "version_major": 2,
       "version_minor": 0
      },
      "text/plain": [
       "IntProgress(value=0, max=69)"
      ]
     },
     "metadata": {},
     "output_type": "display_data"
    },
    {
     "name": "stdout",
     "output_type": "stream",
     "text": [
      "Epoch 1/20\n",
      "368/368 [==============================] - 13s 8ms/step - loss: 0.2342 - mean_absolute_error: 0.3310 - val_loss: 0.1492 - val_mean_absolute_error: 0.2692\n",
      "Epoch 2/20\n",
      "368/368 [==============================] - 1s 4ms/step - loss: 0.2134 - mean_absolute_error: 0.3131 - val_loss: 0.1501 - val_mean_absolute_error: 0.2705\n",
      "Epoch 3/20\n",
      "368/368 [==============================] - 2s 4ms/step - loss: 0.2132 - mean_absolute_error: 0.3119 - val_loss: 0.1543 - val_mean_absolute_error: 0.2757\n",
      "***TRAIN***:\n",
      "correlation related to cluster centre: 0.89\n",
      "r2 score related to cluster centre: 0.78\n",
      "***VALIDATION***:\n",
      "correlation related to cluster centre: 0.90\n",
      "r2 score related to cluster centre: 0.81\n"
     ]
    },
    {
     "data": {
      "application/vnd.jupyter.widget-view+json": {
       "model_id": "954d7bf71b174e11806e69ce92c0294f",
       "version_major": 2,
       "version_minor": 0
      },
      "text/plain": [
       "IntProgress(value=0, max=69)"
      ]
     },
     "metadata": {},
     "output_type": "display_data"
    },
    {
     "name": "stdout",
     "output_type": "stream",
     "text": [
      "***VALIDATION***:\n",
      "average correlation: 0.90\n",
      "average r2: 0.81\n",
      "---do_investigations. cluster index : 7---\n"
     ]
    },
    {
     "data": {
      "application/vnd.jupyter.widget-view+json": {
       "model_id": "d0fa9ed82e5a4dd6b98e634dbb071318",
       "version_major": 2,
       "version_minor": 0
      },
      "text/plain": [
       "IntProgress(value=0, max=61)"
      ]
     },
     "metadata": {},
     "output_type": "display_data"
    },
    {
     "name": "stdout",
     "output_type": "stream",
     "text": [
      "Epoch 1/20\n",
      "368/368 [==============================] - 11s 13ms/step - loss: 0.2350 - mean_absolute_error: 0.3292 - val_loss: 0.1329 - val_mean_absolute_error: 0.2551\n",
      "Epoch 2/20\n",
      "368/368 [==============================] - 2s 4ms/step - loss: 0.2020 - mean_absolute_error: 0.3059 - val_loss: 0.1329 - val_mean_absolute_error: 0.2573\n",
      "Epoch 3/20\n",
      "368/368 [==============================] - 2s 4ms/step - loss: 0.2022 - mean_absolute_error: 0.3057 - val_loss: 0.1336 - val_mean_absolute_error: 0.2639\n",
      "Epoch 4/20\n",
      "368/368 [==============================] - 2s 4ms/step - loss: 0.2013 - mean_absolute_error: 0.3049 - val_loss: 0.1346 - val_mean_absolute_error: 0.2625\n",
      "***TRAIN***:\n",
      "correlation related to cluster centre: 0.90\n",
      "r2 score related to cluster centre: 0.80\n",
      "***VALIDATION***:\n",
      "correlation related to cluster centre: 0.91\n",
      "r2 score related to cluster centre: 0.83\n"
     ]
    },
    {
     "data": {
      "application/vnd.jupyter.widget-view+json": {
       "model_id": "c18761283fa344a1963ba5f754bb86b2",
       "version_major": 2,
       "version_minor": 0
      },
      "text/plain": [
       "IntProgress(value=0, max=61)"
      ]
     },
     "metadata": {},
     "output_type": "display_data"
    },
    {
     "name": "stdout",
     "output_type": "stream",
     "text": [
      "***VALIDATION***:\n",
      "average correlation: 0.91\n",
      "average r2: 0.82\n",
      "---do_investigations. cluster index : 8---\n"
     ]
    },
    {
     "data": {
      "application/vnd.jupyter.widget-view+json": {
       "model_id": "d78144558e874b0882b1bf2c5edc2726",
       "version_major": 2,
       "version_minor": 0
      },
      "text/plain": [
       "IntProgress(value=0, max=3)"
      ]
     },
     "metadata": {},
     "output_type": "display_data"
    },
    {
     "name": "stdout",
     "output_type": "stream",
     "text": [
      "Epoch 1/20\n",
      "368/368 [==============================] - 13s 9ms/step - loss: 0.2939 - mean_absolute_error: 0.2615 - val_loss: 0.0063 - val_mean_absolute_error: 0.0634\n",
      "Epoch 2/20\n",
      "368/368 [==============================] - 1s 4ms/step - loss: 0.2555 - mean_absolute_error: 0.2340 - val_loss: 0.0039 - val_mean_absolute_error: 0.0353\n",
      "Epoch 3/20\n",
      "368/368 [==============================] - 1s 4ms/step - loss: 0.2530 - mean_absolute_error: 0.2323 - val_loss: 0.0036 - val_mean_absolute_error: 0.0318\n",
      "Epoch 4/20\n",
      "368/368 [==============================] - 1s 4ms/step - loss: 0.2539 - mean_absolute_error: 0.2326 - val_loss: 0.0040 - val_mean_absolute_error: 0.0334\n",
      "Epoch 5/20\n",
      "368/368 [==============================] - 1s 4ms/step - loss: 0.2525 - mean_absolute_error: 0.2318 - val_loss: 0.0038 - val_mean_absolute_error: 0.0355\n",
      "***TRAIN***:\n",
      "correlation related to cluster centre: 0.87\n",
      "r2 score related to cluster centre: 0.75\n",
      "***VALIDATION***:\n",
      "correlation related to cluster centre: 0.91\n",
      "r2 score related to cluster centre: 0.80\n"
     ]
    },
    {
     "data": {
      "application/vnd.jupyter.widget-view+json": {
       "model_id": "98207bb718324d568c815cc194c10377",
       "version_major": 2,
       "version_minor": 0
      },
      "text/plain": [
       "IntProgress(value=0, max=3)"
      ]
     },
     "metadata": {},
     "output_type": "display_data"
    },
    {
     "name": "stdout",
     "output_type": "stream",
     "text": [
      "***VALIDATION***:\n",
      "average correlation: 0.91\n",
      "average r2: 0.80\n",
      "---do_investigations. cluster index : 9---\n"
     ]
    },
    {
     "data": {
      "application/vnd.jupyter.widget-view+json": {
       "model_id": "aec8d07f1c894592b1fa04620b7c5ce0",
       "version_major": 2,
       "version_minor": 0
      },
      "text/plain": [
       "IntProgress(value=0, max=21)"
      ]
     },
     "metadata": {},
     "output_type": "display_data"
    },
    {
     "name": "stdout",
     "output_type": "stream",
     "text": [
      "Epoch 1/20\n",
      "368/368 [==============================] - 8s 7ms/step - loss: 0.2004 - mean_absolute_error: 0.3080 - val_loss: 0.1548 - val_mean_absolute_error: 0.2756\n",
      "Epoch 2/20\n",
      "368/368 [==============================] - 2s 5ms/step - loss: 0.1728 - mean_absolute_error: 0.2881 - val_loss: 0.1575 - val_mean_absolute_error: 0.2900\n",
      "Epoch 3/20\n",
      "368/368 [==============================] - 2s 4ms/step - loss: 0.1727 - mean_absolute_error: 0.2878 - val_loss: 0.1565 - val_mean_absolute_error: 0.2815\n",
      "***TRAIN***:\n",
      "correlation related to cluster centre: 0.91\n",
      "r2 score related to cluster centre: 0.83\n",
      "***VALIDATION***:\n",
      "correlation related to cluster centre: 0.91\n",
      "r2 score related to cluster centre: 0.83\n"
     ]
    },
    {
     "data": {
      "application/vnd.jupyter.widget-view+json": {
       "model_id": "e92d8ec7b4dd4f2fa70369f71e524dbf",
       "version_major": 2,
       "version_minor": 0
      },
      "text/plain": [
       "IntProgress(value=0, max=21)"
      ]
     },
     "metadata": {},
     "output_type": "display_data"
    },
    {
     "name": "stdout",
     "output_type": "stream",
     "text": [
      "***VALIDATION***:\n",
      "average correlation: 0.91\n",
      "average r2: 0.83\n",
      "---do_investigations. cluster index : 10---\n"
     ]
    },
    {
     "data": {
      "application/vnd.jupyter.widget-view+json": {
       "model_id": "4b2e1c73b23540d799af594bbd9ba330",
       "version_major": 2,
       "version_minor": 0
      },
      "text/plain": [
       "IntProgress(value=0, max=1)"
      ]
     },
     "metadata": {},
     "output_type": "display_data"
    },
    {
     "name": "stdout",
     "output_type": "stream",
     "text": [
      "Epoch 1/20\n",
      "368/368 [==============================] - 18s 13ms/step - loss: 0.1944 - mean_absolute_error: 0.3032 - val_loss: 0.1817 - val_mean_absolute_error: 0.3040\n",
      "Epoch 2/20\n",
      "368/368 [==============================] - 2s 4ms/step - loss: 0.1678 - mean_absolute_error: 0.2818 - val_loss: 0.1806 - val_mean_absolute_error: 0.2918\n",
      "Epoch 3/20\n",
      "368/368 [==============================] - 1s 4ms/step - loss: 0.1665 - mean_absolute_error: 0.2799 - val_loss: 0.1810 - val_mean_absolute_error: 0.2958\n",
      "Epoch 4/20\n",
      "368/368 [==============================] - 1s 4ms/step - loss: 0.1666 - mean_absolute_error: 0.2801 - val_loss: 0.1806 - val_mean_absolute_error: 0.2997\n",
      "***TRAIN***:\n",
      "correlation related to cluster centre: 0.91\n",
      "r2 score related to cluster centre: 0.84\n",
      "***VALIDATION***:\n",
      "correlation related to cluster centre: 0.91\n",
      "r2 score related to cluster centre: 0.82\n"
     ]
    },
    {
     "data": {
      "application/vnd.jupyter.widget-view+json": {
       "model_id": "58aec702838d4f9bb4399681d9ce2890",
       "version_major": 2,
       "version_minor": 0
      },
      "text/plain": [
       "IntProgress(value=0, max=1)"
      ]
     },
     "metadata": {},
     "output_type": "display_data"
    },
    {
     "name": "stdout",
     "output_type": "stream",
     "text": [
      "***VALIDATION***:\n",
      "average correlation: 0.91\n",
      "average r2: 0.82\n",
      "weighted_average_correlation: 0.90\n",
      "weighted_average_r2_score: 0.76\n",
      "bad clusters rate: 0.75%\n"
     ]
    }
   ],
   "source": [
    "first_path = r\"C:\\Coding\\final-qualifying-work_2023-2024\\ClusteringCpp\\output\\kohonen 15 0.1 0.1.txt\"\n",
    "second_path = r\"C:\\Coding\\final-qualifying-work_2023-2024\\ClusteringCpp\\output\\kohonen 15 0.1 0.1 - 3 0.1 0.1.txt\"\n",
    "third_path = r\"C:\\Coding\\final-qualifying-work_2023-2024\\ClusteringCpp\\output\\kohonen 15 0.1 0.1 - 2 0.1 0.1.txt\"\n",
    "fourth_path = r\"C:\\Coding\\final-qualifying-work_2023-2024\\ClusteringCpp\\output\\kohonen 15 0.1 0.1 - 1 0.1 0.1.txt\"\n",
    "\n",
    "output_file = open(\"computational-experiments-output\", \"a\")\n",
    "\n",
    "selected_path = first_path\n",
    "\n",
    "print(f\"rnn {os.path.split(selected_path)[-1]}\")\n",
    "output_file.write(f\"rnn {os.path.split(selected_path)[-1]}\\n\")\n",
    "show_results(rnn_model, get_clusters(selected_path), CONV_WIDTH)\n",
    "\n",
    "output_file.close()"
   ]
  },
  {
   "cell_type": "code",
   "execution_count": 31,
   "id": "cf3097fc-7900-4b0c-9b5c-4a36b2e3be3a",
   "metadata": {},
   "outputs": [
    {
     "name": "stdout",
     "output_type": "stream",
     "text": [
      "rnn kohonen 15 0.1 0.1 - 3 0.1 0.1.txt\n",
      "---do_investigations. cluster index : 0---\n"
     ]
    },
    {
     "data": {
      "application/vnd.jupyter.widget-view+json": {
       "model_id": "1745532dc4244e658b0fb578e8154efc",
       "version_major": 2,
       "version_minor": 0
      },
      "text/plain": [
       "IntProgress(value=0, max=654)"
      ]
     },
     "metadata": {},
     "output_type": "display_data"
    },
    {
     "name": "stdout",
     "output_type": "stream",
     "text": [
      "Epoch 1/20\n",
      "368/368 [==============================] - 13s 14ms/step - loss: 0.2269 - mean_absolute_error: 0.3361 - val_loss: 0.1936 - val_mean_absolute_error: 0.3029\n",
      "Epoch 2/20\n",
      "368/368 [==============================] - 1s 4ms/step - loss: 0.2032 - mean_absolute_error: 0.3162 - val_loss: 0.1923 - val_mean_absolute_error: 0.3042\n",
      "Epoch 3/20\n",
      "368/368 [==============================] - 1s 4ms/step - loss: 0.2032 - mean_absolute_error: 0.3161 - val_loss: 0.1960 - val_mean_absolute_error: 0.3018\n",
      "Epoch 4/20\n",
      "368/368 [==============================] - 1s 4ms/step - loss: 0.2028 - mean_absolute_error: 0.3164 - val_loss: 0.1923 - val_mean_absolute_error: 0.3000\n",
      "Epoch 5/20\n",
      "368/368 [==============================] - 1s 4ms/step - loss: 0.2030 - mean_absolute_error: 0.3164 - val_loss: 0.1928 - val_mean_absolute_error: 0.2986\n",
      "Epoch 6/20\n",
      "368/368 [==============================] - 1s 4ms/step - loss: 0.2038 - mean_absolute_error: 0.3173 - val_loss: 0.1910 - val_mean_absolute_error: 0.2999\n",
      "Epoch 7/20\n",
      "368/368 [==============================] - 1s 4ms/step - loss: 0.2028 - mean_absolute_error: 0.3155 - val_loss: 0.1935 - val_mean_absolute_error: 0.3047\n",
      "Epoch 8/20\n",
      "368/368 [==============================] - 1s 4ms/step - loss: 0.2020 - mean_absolute_error: 0.3153 - val_loss: 0.1911 - val_mean_absolute_error: 0.2986\n",
      "***TRAIN***:\n",
      "correlation related to cluster centre: 0.90\n",
      "r2 score related to cluster centre: 0.80\n",
      "***VALIDATION***:\n",
      "correlation related to cluster centre: 0.91\n",
      "r2 score related to cluster centre: 0.82\n"
     ]
    },
    {
     "data": {
      "application/vnd.jupyter.widget-view+json": {
       "model_id": "1b9c6fccd5764a55a89ca10c18fb07e9",
       "version_major": 2,
       "version_minor": 0
      },
      "text/plain": [
       "IntProgress(value=0, max=654)"
      ]
     },
     "metadata": {},
     "output_type": "display_data"
    },
    {
     "name": "stdout",
     "output_type": "stream",
     "text": [
      "***VALIDATION***:\n",
      "average correlation: 0.90\n",
      "average r2: 0.73\n",
      "---do_investigations. cluster index : 1---\n"
     ]
    },
    {
     "data": {
      "application/vnd.jupyter.widget-view+json": {
       "model_id": "af0c2eadd40b4f5bbe85c5fd9df09e63",
       "version_major": 2,
       "version_minor": 0
      },
      "text/plain": [
       "IntProgress(value=0, max=174)"
      ]
     },
     "metadata": {},
     "output_type": "display_data"
    },
    {
     "name": "stdout",
     "output_type": "stream",
     "text": [
      "Epoch 1/20\n",
      "368/368 [==============================] - 10s 8ms/step - loss: 0.2468 - mean_absolute_error: 0.3304 - val_loss: 0.1789 - val_mean_absolute_error: 0.2840\n",
      "Epoch 2/20\n",
      "368/368 [==============================] - 1s 4ms/step - loss: 0.2105 - mean_absolute_error: 0.3046 - val_loss: 0.1767 - val_mean_absolute_error: 0.2899\n",
      "Epoch 3/20\n",
      "368/368 [==============================] - 1s 4ms/step - loss: 0.2096 - mean_absolute_error: 0.3040 - val_loss: 0.1713 - val_mean_absolute_error: 0.2779\n",
      "Epoch 4/20\n",
      "368/368 [==============================] - 1s 4ms/step - loss: 0.2087 - mean_absolute_error: 0.3030 - val_loss: 0.1817 - val_mean_absolute_error: 0.2830\n",
      "Epoch 5/20\n",
      "368/368 [==============================] - 1s 4ms/step - loss: 0.2097 - mean_absolute_error: 0.3032 - val_loss: 0.1776 - val_mean_absolute_error: 0.2849\n",
      "***TRAIN***:\n",
      "correlation related to cluster centre: 0.89\n",
      "r2 score related to cluster centre: 0.79\n",
      "***VALIDATION***:\n",
      "correlation related to cluster centre: 0.91\n",
      "r2 score related to cluster centre: 0.81\n"
     ]
    },
    {
     "data": {
      "application/vnd.jupyter.widget-view+json": {
       "model_id": "e61932f3afcc41d8872d94782117efdc",
       "version_major": 2,
       "version_minor": 0
      },
      "text/plain": [
       "IntProgress(value=0, max=174)"
      ]
     },
     "metadata": {},
     "output_type": "display_data"
    },
    {
     "name": "stdout",
     "output_type": "stream",
     "text": [
      "***VALIDATION***:\n",
      "average correlation: 0.90\n",
      "average r2: 0.81\n",
      "---do_investigations. cluster index : 2---\n"
     ]
    },
    {
     "data": {
      "application/vnd.jupyter.widget-view+json": {
       "model_id": "18f0c429c082431aa359b6e28df2ff7d",
       "version_major": 2,
       "version_minor": 0
      },
      "text/plain": [
       "IntProgress(value=0, max=160)"
      ]
     },
     "metadata": {},
     "output_type": "display_data"
    },
    {
     "name": "stdout",
     "output_type": "stream",
     "text": [
      "Epoch 1/20\n",
      "368/368 [==============================] - 102s 8ms/step - loss: 0.2173 - mean_absolute_error: 0.3229 - val_loss: 0.1615 - val_mean_absolute_error: 0.2836\n",
      "Epoch 2/20\n",
      "368/368 [==============================] - 2s 4ms/step - loss: 0.1979 - mean_absolute_error: 0.3087 - val_loss: 0.1592 - val_mean_absolute_error: 0.2799\n",
      "Epoch 3/20\n",
      "368/368 [==============================] - 2s 6ms/step - loss: 0.1957 - mean_absolute_error: 0.3058 - val_loss: 0.1618 - val_mean_absolute_error: 0.2880\n",
      "Epoch 4/20\n",
      "368/368 [==============================] - 2s 6ms/step - loss: 0.1957 - mean_absolute_error: 0.3052 - val_loss: 0.1581 - val_mean_absolute_error: 0.2821\n",
      "Epoch 5/20\n",
      "368/368 [==============================] - 3s 9ms/step - loss: 0.1951 - mean_absolute_error: 0.3048 - val_loss: 0.1578 - val_mean_absolute_error: 0.2798\n",
      "Epoch 6/20\n",
      "368/368 [==============================] - 1s 4ms/step - loss: 0.1951 - mean_absolute_error: 0.3055 - val_loss: 0.1554 - val_mean_absolute_error: 0.2746\n",
      "Epoch 7/20\n",
      "368/368 [==============================] - 1s 4ms/step - loss: 0.1951 - mean_absolute_error: 0.3049 - val_loss: 0.1604 - val_mean_absolute_error: 0.2845\n",
      "Epoch 8/20\n",
      "368/368 [==============================] - 1s 4ms/step - loss: 0.1950 - mean_absolute_error: 0.3052 - val_loss: 0.1582 - val_mean_absolute_error: 0.2844\n",
      "***TRAIN***:\n",
      "correlation related to cluster centre: 0.90\n",
      "r2 score related to cluster centre: 0.81\n",
      "***VALIDATION***:\n",
      "correlation related to cluster centre: 0.91\n",
      "r2 score related to cluster centre: 0.83\n"
     ]
    },
    {
     "data": {
      "application/vnd.jupyter.widget-view+json": {
       "model_id": "dbaafcef82404cbeba19f2b3d08cccdc",
       "version_major": 2,
       "version_minor": 0
      },
      "text/plain": [
       "IntProgress(value=0, max=160)"
      ]
     },
     "metadata": {},
     "output_type": "display_data"
    },
    {
     "name": "stdout",
     "output_type": "stream",
     "text": [
      "***VALIDATION***:\n",
      "average correlation: 0.91\n",
      "average r2: 0.79\n",
      "---do_investigations. cluster index : 3---\n"
     ]
    },
    {
     "data": {
      "application/vnd.jupyter.widget-view+json": {
       "model_id": "6e3d77427b1441c888c22d641a825e31",
       "version_major": 2,
       "version_minor": 0
      },
      "text/plain": [
       "IntProgress(value=0, max=277)"
      ]
     },
     "metadata": {},
     "output_type": "display_data"
    },
    {
     "name": "stdout",
     "output_type": "stream",
     "text": [
      "Epoch 1/20\n",
      "368/368 [==============================] - 16s 5ms/step - loss: 0.2487 - mean_absolute_error: 0.3183 - val_loss: 0.2077 - val_mean_absolute_error: 0.2858\n",
      "Epoch 2/20\n",
      "368/368 [==============================] - 1s 4ms/step - loss: 0.2110 - mean_absolute_error: 0.2932 - val_loss: 0.1982 - val_mean_absolute_error: 0.2775\n",
      "Epoch 3/20\n",
      "368/368 [==============================] - 1s 4ms/step - loss: 0.2084 - mean_absolute_error: 0.2908 - val_loss: 0.2000 - val_mean_absolute_error: 0.2834\n",
      "Epoch 4/20\n",
      "368/368 [==============================] - 1s 4ms/step - loss: 0.2089 - mean_absolute_error: 0.2907 - val_loss: 0.2022 - val_mean_absolute_error: 0.2964\n",
      "***TRAIN***:\n",
      "correlation related to cluster centre: 0.89\n",
      "r2 score related to cluster centre: 0.79\n",
      "***VALIDATION***:\n",
      "correlation related to cluster centre: 0.90\n",
      "r2 score related to cluster centre: 0.81\n"
     ]
    },
    {
     "data": {
      "application/vnd.jupyter.widget-view+json": {
       "model_id": "8dece4066e9043b686a1534eb7c096d6",
       "version_major": 2,
       "version_minor": 0
      },
      "text/plain": [
       "IntProgress(value=0, max=277)"
      ]
     },
     "metadata": {},
     "output_type": "display_data"
    },
    {
     "name": "stdout",
     "output_type": "stream",
     "text": [
      "***VALIDATION***:\n",
      "average correlation: 0.90\n",
      "average r2: 0.79\n",
      "---do_investigations. cluster index : 4---\n"
     ]
    },
    {
     "data": {
      "application/vnd.jupyter.widget-view+json": {
       "model_id": "46e985839a7f408784bf1df513bbe823",
       "version_major": 2,
       "version_minor": 0
      },
      "text/plain": [
       "IntProgress(value=0, max=33)"
      ]
     },
     "metadata": {},
     "output_type": "display_data"
    },
    {
     "name": "stdout",
     "output_type": "stream",
     "text": [
      "Epoch 1/20\n",
      "368/368 [==============================] - 4s 5ms/step - loss: 0.2464 - mean_absolute_error: 0.3339 - val_loss: 0.1418 - val_mean_absolute_error: 0.2600\n",
      "Epoch 2/20\n",
      "368/368 [==============================] - 1s 4ms/step - loss: 0.2167 - mean_absolute_error: 0.3120 - val_loss: 0.1457 - val_mean_absolute_error: 0.2682\n",
      "Epoch 3/20\n",
      "368/368 [==============================] - 1s 4ms/step - loss: 0.2180 - mean_absolute_error: 0.3128 - val_loss: 0.1544 - val_mean_absolute_error: 0.2793\n",
      "***TRAIN***:\n",
      "correlation related to cluster centre: 0.89\n",
      "r2 score related to cluster centre: 0.77\n",
      "***VALIDATION***:\n",
      "correlation related to cluster centre: 0.91\n",
      "r2 score related to cluster centre: 0.80\n"
     ]
    },
    {
     "data": {
      "application/vnd.jupyter.widget-view+json": {
       "model_id": "6a42781ecd244128aebe54b1100771d7",
       "version_major": 2,
       "version_minor": 0
      },
      "text/plain": [
       "IntProgress(value=0, max=33)"
      ]
     },
     "metadata": {},
     "output_type": "display_data"
    },
    {
     "name": "stdout",
     "output_type": "stream",
     "text": [
      "***VALIDATION***:\n",
      "average correlation: 0.90\n",
      "average r2: 0.79\n",
      "---do_investigations. cluster index : 5---\n"
     ]
    },
    {
     "data": {
      "application/vnd.jupyter.widget-view+json": {
       "model_id": "53611c8ad0f9496cbebf8d92b6806371",
       "version_major": 2,
       "version_minor": 0
      },
      "text/plain": [
       "IntProgress(value=0, max=279)"
      ]
     },
     "metadata": {},
     "output_type": "display_data"
    },
    {
     "name": "stdout",
     "output_type": "stream",
     "text": [
      "Epoch 1/20\n",
      "368/368 [==============================] - 4s 5ms/step - loss: 0.2113 - mean_absolute_error: 0.3160 - val_loss: 0.1751 - val_mean_absolute_error: 0.2766\n",
      "Epoch 2/20\n",
      "368/368 [==============================] - 1s 4ms/step - loss: 0.1922 - mean_absolute_error: 0.3018 - val_loss: 0.1736 - val_mean_absolute_error: 0.2775\n",
      "Epoch 3/20\n",
      "368/368 [==============================] - 1s 4ms/step - loss: 0.1910 - mean_absolute_error: 0.3008 - val_loss: 0.1798 - val_mean_absolute_error: 0.2839\n",
      "Epoch 4/20\n",
      "368/368 [==============================] - 1s 4ms/step - loss: 0.1910 - mean_absolute_error: 0.3008 - val_loss: 0.1701 - val_mean_absolute_error: 0.2793\n",
      "Epoch 5/20\n",
      "368/368 [==============================] - 1s 4ms/step - loss: 0.1903 - mean_absolute_error: 0.3006 - val_loss: 0.1709 - val_mean_absolute_error: 0.2739\n",
      "Epoch 6/20\n",
      "368/368 [==============================] - 1s 4ms/step - loss: 0.1908 - mean_absolute_error: 0.2999 - val_loss: 0.1696 - val_mean_absolute_error: 0.2741\n",
      "Epoch 7/20\n",
      "368/368 [==============================] - 2s 6ms/step - loss: 0.1904 - mean_absolute_error: 0.2998 - val_loss: 0.1688 - val_mean_absolute_error: 0.2759\n",
      "Epoch 8/20\n",
      "368/368 [==============================] - 1s 4ms/step - loss: 0.1898 - mean_absolute_error: 0.2995 - val_loss: 0.1695 - val_mean_absolute_error: 0.2764\n",
      "Epoch 9/20\n",
      "368/368 [==============================] - 1s 4ms/step - loss: 0.1897 - mean_absolute_error: 0.2996 - val_loss: 0.1698 - val_mean_absolute_error: 0.2764\n",
      "***TRAIN***:\n",
      "correlation related to cluster centre: 0.90\n",
      "r2 score related to cluster centre: 0.81\n",
      "***VALIDATION***:\n",
      "correlation related to cluster centre: 0.91\n",
      "r2 score related to cluster centre: 0.83\n"
     ]
    },
    {
     "data": {
      "application/vnd.jupyter.widget-view+json": {
       "model_id": "35c8df4220124343958a3df1d16e3895",
       "version_major": 2,
       "version_minor": 0
      },
      "text/plain": [
       "IntProgress(value=0, max=279)"
      ]
     },
     "metadata": {},
     "output_type": "display_data"
    },
    {
     "name": "stdout",
     "output_type": "stream",
     "text": [
      "***VALIDATION***:\n",
      "average correlation: 0.90\n",
      "average r2: 0.78\n",
      "---do_investigations. cluster index : 6---\n"
     ]
    },
    {
     "data": {
      "application/vnd.jupyter.widget-view+json": {
       "model_id": "a145602415c2400eaffb6d5cc86cd6b1",
       "version_major": 2,
       "version_minor": 0
      },
      "text/plain": [
       "IntProgress(value=0, max=97)"
      ]
     },
     "metadata": {},
     "output_type": "display_data"
    },
    {
     "name": "stdout",
     "output_type": "stream",
     "text": [
      "Epoch 1/20\n",
      "368/368 [==============================] - 4s 5ms/step - loss: 0.2372 - mean_absolute_error: 0.3327 - val_loss: 0.1468 - val_mean_absolute_error: 0.2693\n",
      "Epoch 2/20\n",
      "368/368 [==============================] - 1s 4ms/step - loss: 0.2061 - mean_absolute_error: 0.3092 - val_loss: 0.1473 - val_mean_absolute_error: 0.2709\n",
      "Epoch 3/20\n",
      "368/368 [==============================] - 1s 4ms/step - loss: 0.2065 - mean_absolute_error: 0.3091 - val_loss: 0.1444 - val_mean_absolute_error: 0.2636\n",
      "Epoch 4/20\n",
      "368/368 [==============================] - 1s 4ms/step - loss: 0.2062 - mean_absolute_error: 0.3098 - val_loss: 0.1486 - val_mean_absolute_error: 0.2827\n",
      "Epoch 5/20\n",
      "368/368 [==============================] - 1s 4ms/step - loss: 0.2047 - mean_absolute_error: 0.3075 - val_loss: 0.1480 - val_mean_absolute_error: 0.2798\n",
      "***TRAIN***:\n",
      "correlation related to cluster centre: 0.89\n",
      "r2 score related to cluster centre: 0.79\n",
      "***VALIDATION***:\n",
      "correlation related to cluster centre: 0.91\n",
      "r2 score related to cluster centre: 0.82\n"
     ]
    },
    {
     "data": {
      "application/vnd.jupyter.widget-view+json": {
       "model_id": "27954fb5111d4a3280d58d764f6a6e4e",
       "version_major": 2,
       "version_minor": 0
      },
      "text/plain": [
       "IntProgress(value=0, max=97)"
      ]
     },
     "metadata": {},
     "output_type": "display_data"
    },
    {
     "name": "stdout",
     "output_type": "stream",
     "text": [
      "***VALIDATION***:\n",
      "average correlation: 0.91\n",
      "average r2: 0.82\n",
      "---do_investigations. cluster index : 7---\n"
     ]
    },
    {
     "data": {
      "application/vnd.jupyter.widget-view+json": {
       "model_id": "3ee512791cfe4264bfb2ecd35b497fc9",
       "version_major": 2,
       "version_minor": 0
      },
      "text/plain": [
       "IntProgress(value=0, max=3)"
      ]
     },
     "metadata": {},
     "output_type": "display_data"
    },
    {
     "name": "stdout",
     "output_type": "stream",
     "text": [
      "Epoch 1/20\n",
      "368/368 [==============================] - 4s 5ms/step - loss: 0.3006 - mean_absolute_error: 0.2620 - val_loss: 0.0061 - val_mean_absolute_error: 0.0636\n",
      "Epoch 2/20\n",
      "368/368 [==============================] - 1s 4ms/step - loss: 0.2564 - mean_absolute_error: 0.2348 - val_loss: 0.0038 - val_mean_absolute_error: 0.0407\n",
      "Epoch 3/20\n",
      "368/368 [==============================] - 1s 4ms/step - loss: 0.2547 - mean_absolute_error: 0.2321 - val_loss: 0.0044 - val_mean_absolute_error: 0.0464\n",
      "Epoch 4/20\n",
      "368/368 [==============================] - 1s 4ms/step - loss: 0.2520 - mean_absolute_error: 0.2309 - val_loss: 0.0051 - val_mean_absolute_error: 0.0539\n",
      "***TRAIN***:\n",
      "correlation related to cluster centre: 0.87\n",
      "r2 score related to cluster centre: 0.75\n",
      "***VALIDATION***:\n",
      "correlation related to cluster centre: 0.91\n",
      "r2 score related to cluster centre: 0.74\n"
     ]
    },
    {
     "data": {
      "application/vnd.jupyter.widget-view+json": {
       "model_id": "eb071be335c34b3bb19fbb7af0535f02",
       "version_major": 2,
       "version_minor": 0
      },
      "text/plain": [
       "IntProgress(value=0, max=3)"
      ]
     },
     "metadata": {},
     "output_type": "display_data"
    },
    {
     "name": "stdout",
     "output_type": "stream",
     "text": [
      "***VALIDATION***:\n",
      "average correlation: 0.91\n",
      "average r2: 0.63\n",
      "---do_investigations. cluster index : 8---\n"
     ]
    },
    {
     "data": {
      "application/vnd.jupyter.widget-view+json": {
       "model_id": "750513d3a5ad454d90ce58098cc969b6",
       "version_major": 2,
       "version_minor": 0
      },
      "text/plain": [
       "IntProgress(value=0, max=41)"
      ]
     },
     "metadata": {},
     "output_type": "display_data"
    },
    {
     "name": "stdout",
     "output_type": "stream",
     "text": [
      "Epoch 1/20\n",
      "368/368 [==============================] - 4s 5ms/step - loss: 0.2078 - mean_absolute_error: 0.3150 - val_loss: 0.1511 - val_mean_absolute_error: 0.2800\n",
      "Epoch 2/20\n",
      "368/368 [==============================] - 1s 4ms/step - loss: 0.1784 - mean_absolute_error: 0.2897 - val_loss: 0.1412 - val_mean_absolute_error: 0.2631\n",
      "Epoch 3/20\n",
      "368/368 [==============================] - 1s 4ms/step - loss: 0.1775 - mean_absolute_error: 0.2880 - val_loss: 0.1399 - val_mean_absolute_error: 0.2642\n",
      "Epoch 4/20\n",
      "368/368 [==============================] - 1s 4ms/step - loss: 0.1776 - mean_absolute_error: 0.2888 - val_loss: 0.1398 - val_mean_absolute_error: 0.2595\n",
      "Epoch 5/20\n",
      "368/368 [==============================] - 1s 4ms/step - loss: 0.1779 - mean_absolute_error: 0.2886 - val_loss: 0.1406 - val_mean_absolute_error: 0.2610\n",
      "Epoch 6/20\n",
      "368/368 [==============================] - 1s 4ms/step - loss: 0.1771 - mean_absolute_error: 0.2884 - val_loss: 0.1408 - val_mean_absolute_error: 0.2668\n",
      "***TRAIN***:\n",
      "correlation related to cluster centre: 0.91\n",
      "r2 score related to cluster centre: 0.83\n",
      "***VALIDATION***:\n",
      "correlation related to cluster centre: 0.91\n",
      "r2 score related to cluster centre: 0.83\n"
     ]
    },
    {
     "data": {
      "application/vnd.jupyter.widget-view+json": {
       "model_id": "339a4cf6a0574a00a3777aeb40052269",
       "version_major": 2,
       "version_minor": 0
      },
      "text/plain": [
       "IntProgress(value=0, max=41)"
      ]
     },
     "metadata": {},
     "output_type": "display_data"
    },
    {
     "name": "stdout",
     "output_type": "stream",
     "text": [
      "***VALIDATION***:\n",
      "average correlation: 0.91\n",
      "average r2: 0.83\n",
      "---do_investigations. cluster index : 9---\n"
     ]
    },
    {
     "data": {
      "application/vnd.jupyter.widget-view+json": {
       "model_id": "626f9866ee0a4368b3475835355693fd",
       "version_major": 2,
       "version_minor": 0
      },
      "text/plain": [
       "IntProgress(value=0, max=1)"
      ]
     },
     "metadata": {},
     "output_type": "display_data"
    },
    {
     "name": "stdout",
     "output_type": "stream",
     "text": [
      "Epoch 1/20\n",
      "368/368 [==============================] - 15s 9ms/step - loss: 0.1988 - mean_absolute_error: 0.3071 - val_loss: 0.1823 - val_mean_absolute_error: 0.2909\n",
      "Epoch 2/20\n",
      "368/368 [==============================] - 5s 12ms/step - loss: 0.1683 - mean_absolute_error: 0.2819 - val_loss: 0.1814 - val_mean_absolute_error: 0.2934\n",
      "Epoch 3/20\n",
      "368/368 [==============================] - 2s 5ms/step - loss: 0.1669 - mean_absolute_error: 0.2804 - val_loss: 0.1892 - val_mean_absolute_error: 0.2922\n",
      "Epoch 4/20\n",
      "368/368 [==============================] - 2s 4ms/step - loss: 0.1674 - mean_absolute_error: 0.2806 - val_loss: 0.1814 - val_mean_absolute_error: 0.2905\n",
      "***TRAIN***:\n",
      "correlation related to cluster centre: 0.91\n",
      "r2 score related to cluster centre: 0.83\n",
      "***VALIDATION***:\n",
      "correlation related to cluster centre: 0.91\n",
      "r2 score related to cluster centre: 0.82\n"
     ]
    },
    {
     "data": {
      "application/vnd.jupyter.widget-view+json": {
       "model_id": "19df99e51590478b9a6503acab59fd36",
       "version_major": 2,
       "version_minor": 0
      },
      "text/plain": [
       "IntProgress(value=0, max=1)"
      ]
     },
     "metadata": {},
     "output_type": "display_data"
    },
    {
     "name": "stdout",
     "output_type": "stream",
     "text": [
      "***VALIDATION***:\n",
      "average correlation: 0.91\n",
      "average r2: 0.82\n",
      "---do_investigations. cluster index : 10---\n"
     ]
    },
    {
     "data": {
      "application/vnd.jupyter.widget-view+json": {
       "model_id": "6207aea923ac4fbc9235f6362ba8dad6",
       "version_major": 2,
       "version_minor": 0
      },
      "text/plain": [
       "IntProgress(value=0, max=4509)"
      ]
     },
     "metadata": {},
     "output_type": "display_data"
    },
    {
     "name": "stdout",
     "output_type": "stream",
     "text": [
      "Epoch 1/20\n",
      "368/368 [==============================] - 52s 25ms/step - loss: 0.1477 - mean_absolute_error: 0.2388 - val_loss: 0.1263 - val_mean_absolute_error: 0.1784\n",
      "Epoch 2/20\n",
      "368/368 [==============================] - 4s 10ms/step - loss: 0.1055 - mean_absolute_error: 0.1988 - val_loss: 0.1315 - val_mean_absolute_error: 0.1924\n",
      "Epoch 3/20\n",
      "368/368 [==============================] - 2s 6ms/step - loss: 0.1035 - mean_absolute_error: 0.1943 - val_loss: 0.1280 - val_mean_absolute_error: 0.1876\n",
      "***TRAIN***:\n",
      "correlation related to cluster centre: 0.95\n",
      "r2 score related to cluster centre: 0.90\n",
      "***VALIDATION***:\n",
      "correlation related to cluster centre: 0.91\n",
      "r2 score related to cluster centre: 0.82\n"
     ]
    },
    {
     "data": {
      "application/vnd.jupyter.widget-view+json": {
       "model_id": "7b4eabfef1b24991988b3f464baa0124",
       "version_major": 2,
       "version_minor": 0
      },
      "text/plain": [
       "IntProgress(value=0, max=4509)"
      ]
     },
     "metadata": {},
     "output_type": "display_data"
    },
    {
     "name": "stdout",
     "output_type": "stream",
     "text": [
      "***VALIDATION***:\n",
      "average correlation: nan\n",
      "average r2: -322400407941951957327937536.00\n",
      "---do_investigations. cluster index : 11---\n"
     ]
    },
    {
     "data": {
      "application/vnd.jupyter.widget-view+json": {
       "model_id": "23f90150f44e49cf94be626797121cd7",
       "version_major": 2,
       "version_minor": 0
      },
      "text/plain": [
       "IntProgress(value=0, max=163)"
      ]
     },
     "metadata": {},
     "output_type": "display_data"
    },
    {
     "name": "stdout",
     "output_type": "stream",
     "text": [
      "Epoch 1/20\n",
      "368/368 [==============================] - 6s 6ms/step - loss: 0.2430 - mean_absolute_error: 0.2982 - val_loss: 0.2663 - val_mean_absolute_error: 0.2910\n",
      "Epoch 2/20\n",
      "368/368 [==============================] - 2s 4ms/step - loss: 0.2101 - mean_absolute_error: 0.2788 - val_loss: 0.2717 - val_mean_absolute_error: 0.2831\n",
      "Epoch 3/20\n",
      "368/368 [==============================] - 2s 4ms/step - loss: 0.2098 - mean_absolute_error: 0.2800 - val_loss: 0.2667 - val_mean_absolute_error: 0.2862\n",
      "***TRAIN***:\n",
      "correlation related to cluster centre: 0.89\n",
      "r2 score related to cluster centre: 0.79\n",
      "***VALIDATION***:\n",
      "correlation related to cluster centre: 0.90\n",
      "r2 score related to cluster centre: 0.80\n"
     ]
    },
    {
     "data": {
      "application/vnd.jupyter.widget-view+json": {
       "model_id": "8a799e70959947dc8bc9299cedc06e1c",
       "version_major": 2,
       "version_minor": 0
      },
      "text/plain": [
       "IntProgress(value=0, max=163)"
      ]
     },
     "metadata": {},
     "output_type": "display_data"
    },
    {
     "name": "stdout",
     "output_type": "stream",
     "text": [
      "***VALIDATION***:\n",
      "average correlation: 0.89\n",
      "average r2: 0.79\n",
      "---do_investigations. cluster index : 12---\n"
     ]
    },
    {
     "data": {
      "application/vnd.jupyter.widget-view+json": {
       "model_id": "c74cecbda34a4921bf42bd13b523c9f8",
       "version_major": 2,
       "version_minor": 0
      },
      "text/plain": [
       "IntProgress(value=0, max=511)"
      ]
     },
     "metadata": {},
     "output_type": "display_data"
    },
    {
     "name": "stdout",
     "output_type": "stream",
     "text": [
      "Epoch 1/20\n",
      "368/368 [==============================] - 5s 5ms/step - loss: 0.1710 - mean_absolute_error: 0.2635 - val_loss: 0.1208 - val_mean_absolute_error: 0.2111\n",
      "Epoch 2/20\n",
      "368/368 [==============================] - 2s 4ms/step - loss: 0.1474 - mean_absolute_error: 0.2441 - val_loss: 0.1201 - val_mean_absolute_error: 0.2223\n",
      "Epoch 3/20\n",
      "368/368 [==============================] - 1s 4ms/step - loss: 0.1472 - mean_absolute_error: 0.2427 - val_loss: 0.1188 - val_mean_absolute_error: 0.2124\n",
      "Epoch 4/20\n",
      "368/368 [==============================] - 1s 4ms/step - loss: 0.1472 - mean_absolute_error: 0.2434 - val_loss: 0.1199 - val_mean_absolute_error: 0.2112\n",
      "Epoch 5/20\n",
      "368/368 [==============================] - 1s 4ms/step - loss: 0.1461 - mean_absolute_error: 0.2424 - val_loss: 0.1180 - val_mean_absolute_error: 0.2141\n",
      "Epoch 6/20\n",
      "368/368 [==============================] - 2s 4ms/step - loss: 0.1460 - mean_absolute_error: 0.2411 - val_loss: 0.1192 - val_mean_absolute_error: 0.2192\n",
      "Epoch 7/20\n",
      "368/368 [==============================] - 1s 4ms/step - loss: 0.1460 - mean_absolute_error: 0.2425 - val_loss: 0.1192 - val_mean_absolute_error: 0.2109\n",
      "***TRAIN***:\n",
      "correlation related to cluster centre: 0.93\n",
      "r2 score related to cluster centre: 0.86\n",
      "***VALIDATION***:\n",
      "correlation related to cluster centre: 0.93\n",
      "r2 score related to cluster centre: 0.86\n"
     ]
    },
    {
     "data": {
      "application/vnd.jupyter.widget-view+json": {
       "model_id": "182d32216d5348b882509f85bd554cde",
       "version_major": 2,
       "version_minor": 0
      },
      "text/plain": [
       "IntProgress(value=0, max=511)"
      ]
     },
     "metadata": {},
     "output_type": "display_data"
    },
    {
     "name": "stdout",
     "output_type": "stream",
     "text": [
      "***VALIDATION***:\n",
      "average correlation: 0.90\n",
      "average r2: 0.74\n",
      "---do_investigations. cluster index : 13---\n"
     ]
    },
    {
     "data": {
      "application/vnd.jupyter.widget-view+json": {
       "model_id": "f4c39046325c41e8be6db3d9e2fb5d70",
       "version_major": 2,
       "version_minor": 0
      },
      "text/plain": [
       "IntProgress(value=0, max=573)"
      ]
     },
     "metadata": {},
     "output_type": "display_data"
    },
    {
     "name": "stdout",
     "output_type": "stream",
     "text": [
      "Epoch 1/20\n",
      "368/368 [==============================] - 4s 5ms/step - loss: 0.2471 - mean_absolute_error: 0.3036 - val_loss: 0.2444 - val_mean_absolute_error: 0.2888\n",
      "Epoch 2/20\n",
      "368/368 [==============================] - 2s 4ms/step - loss: 0.2070 - mean_absolute_error: 0.2799 - val_loss: 0.2429 - val_mean_absolute_error: 0.2694\n",
      "Epoch 3/20\n",
      "368/368 [==============================] - 2s 4ms/step - loss: 0.2063 - mean_absolute_error: 0.2783 - val_loss: 0.2365 - val_mean_absolute_error: 0.2744\n",
      "Epoch 4/20\n",
      "368/368 [==============================] - 2s 4ms/step - loss: 0.2047 - mean_absolute_error: 0.2782 - val_loss: 0.2412 - val_mean_absolute_error: 0.2666\n",
      "Epoch 5/20\n",
      "368/368 [==============================] - 2s 4ms/step - loss: 0.2064 - mean_absolute_error: 0.2801 - val_loss: 0.2353 - val_mean_absolute_error: 0.2794\n",
      "Epoch 6/20\n",
      "368/368 [==============================] - 2s 4ms/step - loss: 0.2048 - mean_absolute_error: 0.2785 - val_loss: 0.2351 - val_mean_absolute_error: 0.2681\n",
      "Epoch 7/20\n",
      "368/368 [==============================] - 2s 4ms/step - loss: 0.2054 - mean_absolute_error: 0.2791 - val_loss: 0.2376 - val_mean_absolute_error: 0.2650\n",
      "Epoch 8/20\n",
      "368/368 [==============================] - 1s 4ms/step - loss: 0.2028 - mean_absolute_error: 0.2771 - val_loss: 0.2342 - val_mean_absolute_error: 0.2710\n",
      "Epoch 9/20\n",
      "368/368 [==============================] - 2s 4ms/step - loss: 0.2041 - mean_absolute_error: 0.2775 - val_loss: 0.2355 - val_mean_absolute_error: 0.2699\n",
      "Epoch 10/20\n",
      "368/368 [==============================] - 1s 4ms/step - loss: 0.2023 - mean_absolute_error: 0.2776 - val_loss: 0.2382 - val_mean_absolute_error: 0.2924\n",
      "***TRAIN***:\n",
      "correlation related to cluster centre: 0.89\n",
      "r2 score related to cluster centre: 0.80\n",
      "***VALIDATION***:\n",
      "correlation related to cluster centre: 0.90\n",
      "r2 score related to cluster centre: 0.80\n"
     ]
    },
    {
     "data": {
      "application/vnd.jupyter.widget-view+json": {
       "model_id": "e733fb9fe4ba472796e3b153fe82059a",
       "version_major": 2,
       "version_minor": 0
      },
      "text/plain": [
       "IntProgress(value=0, max=573)"
      ]
     },
     "metadata": {},
     "output_type": "display_data"
    },
    {
     "name": "stdout",
     "output_type": "stream",
     "text": [
      "***VALIDATION***:\n",
      "average correlation: 0.88\n",
      "average r2: 0.72\n",
      "---do_investigations. cluster index : 14---\n"
     ]
    },
    {
     "data": {
      "application/vnd.jupyter.widget-view+json": {
       "model_id": "28ecaec8482840fcb5fc57a26ee2ea1a",
       "version_major": 2,
       "version_minor": 0
      },
      "text/plain": [
       "IntProgress(value=0, max=200)"
      ]
     },
     "metadata": {},
     "output_type": "display_data"
    },
    {
     "name": "stdout",
     "output_type": "stream",
     "text": [
      "Epoch 1/20\n",
      "368/368 [==============================] - 4s 5ms/step - loss: 0.2326 - mean_absolute_error: 0.3292 - val_loss: 0.1900 - val_mean_absolute_error: 0.2956\n",
      "Epoch 2/20\n",
      "368/368 [==============================] - 2s 4ms/step - loss: 0.2058 - mean_absolute_error: 0.3097 - val_loss: 0.1907 - val_mean_absolute_error: 0.2968\n",
      "Epoch 3/20\n",
      "368/368 [==============================] - 2s 4ms/step - loss: 0.2054 - mean_absolute_error: 0.3088 - val_loss: 0.1883 - val_mean_absolute_error: 0.2915\n",
      "Epoch 4/20\n",
      "368/368 [==============================] - 2s 4ms/step - loss: 0.2039 - mean_absolute_error: 0.3069 - val_loss: 0.1897 - val_mean_absolute_error: 0.2941\n",
      "Epoch 5/20\n",
      "368/368 [==============================] - 2s 4ms/step - loss: 0.2039 - mean_absolute_error: 0.3074 - val_loss: 0.1873 - val_mean_absolute_error: 0.2945\n",
      "Epoch 6/20\n",
      "368/368 [==============================] - 2s 4ms/step - loss: 0.2051 - mean_absolute_error: 0.3088 - val_loss: 0.1848 - val_mean_absolute_error: 0.2895\n",
      "Epoch 7/20\n",
      "368/368 [==============================] - 1s 4ms/step - loss: 0.2041 - mean_absolute_error: 0.3076 - val_loss: 0.1855 - val_mean_absolute_error: 0.2864\n",
      "Epoch 8/20\n",
      "368/368 [==============================] - 1s 4ms/step - loss: 0.2037 - mean_absolute_error: 0.3070 - val_loss: 0.1866 - val_mean_absolute_error: 0.2898\n",
      "***TRAIN***:\n",
      "correlation related to cluster centre: 0.89\n",
      "r2 score related to cluster centre: 0.80\n",
      "***VALIDATION***:\n",
      "correlation related to cluster centre: 0.90\n",
      "r2 score related to cluster centre: 0.81\n"
     ]
    },
    {
     "data": {
      "application/vnd.jupyter.widget-view+json": {
       "model_id": "e93fe3d48b9d47eb9d43d20ef8bb9ef7",
       "version_major": 2,
       "version_minor": 0
      },
      "text/plain": [
       "IntProgress(value=0, max=200)"
      ]
     },
     "metadata": {},
     "output_type": "display_data"
    },
    {
     "name": "stdout",
     "output_type": "stream",
     "text": [
      "***VALIDATION***:\n",
      "average correlation: 0.90\n",
      "average r2: 0.79\n",
      "---do_investigations. cluster index : 15---\n"
     ]
    },
    {
     "data": {
      "application/vnd.jupyter.widget-view+json": {
       "model_id": "79ff1ec5928944c387c0a7cd9df3d81f",
       "version_major": 2,
       "version_minor": 0
      },
      "text/plain": [
       "IntProgress(value=0, max=5)"
      ]
     },
     "metadata": {},
     "output_type": "display_data"
    },
    {
     "name": "stdout",
     "output_type": "stream",
     "text": [
      "Epoch 1/20\n",
      "368/368 [==============================] - 4s 5ms/step - loss: 0.2384 - mean_absolute_error: 0.2217 - val_loss: 0.3263 - val_mean_absolute_error: 0.2788\n",
      "Epoch 2/20\n",
      "368/368 [==============================] - 2s 4ms/step - loss: 0.1942 - mean_absolute_error: 0.2012 - val_loss: 0.3188 - val_mean_absolute_error: 0.2662\n",
      "Epoch 3/20\n",
      "368/368 [==============================] - 2s 4ms/step - loss: 0.1977 - mean_absolute_error: 0.2033 - val_loss: 0.3169 - val_mean_absolute_error: 0.2624\n",
      "Epoch 4/20\n",
      "368/368 [==============================] - 2s 4ms/step - loss: 0.1904 - mean_absolute_error: 0.1985 - val_loss: 0.3175 - val_mean_absolute_error: 0.2654\n",
      "Epoch 5/20\n",
      "368/368 [==============================] - 2s 4ms/step - loss: 0.1939 - mean_absolute_error: 0.2009 - val_loss: 0.3150 - val_mean_absolute_error: 0.2727\n",
      "Epoch 6/20\n",
      "368/368 [==============================] - 2s 4ms/step - loss: 0.1899 - mean_absolute_error: 0.1969 - val_loss: 0.3147 - val_mean_absolute_error: 0.2725\n",
      "Epoch 7/20\n",
      "368/368 [==============================] - 2s 4ms/step - loss: 0.1915 - mean_absolute_error: 0.1988 - val_loss: 0.3140 - val_mean_absolute_error: 0.2661\n",
      "Epoch 8/20\n",
      "368/368 [==============================] - 1s 4ms/step - loss: 0.1931 - mean_absolute_error: 0.2014 - val_loss: 0.3121 - val_mean_absolute_error: 0.2678\n",
      "Epoch 9/20\n",
      "368/368 [==============================] - 2s 4ms/step - loss: 0.1887 - mean_absolute_error: 0.1965 - val_loss: 0.3164 - val_mean_absolute_error: 0.2674\n",
      "Epoch 10/20\n",
      "368/368 [==============================] - 2s 4ms/step - loss: 0.1905 - mean_absolute_error: 0.1990 - val_loss: 0.3105 - val_mean_absolute_error: 0.2754\n",
      "Epoch 11/20\n",
      "368/368 [==============================] - 2s 4ms/step - loss: 0.1893 - mean_absolute_error: 0.1982 - val_loss: 0.3122 - val_mean_absolute_error: 0.2724\n",
      "Epoch 12/20\n",
      "368/368 [==============================] - 2s 4ms/step - loss: 0.1915 - mean_absolute_error: 0.1995 - val_loss: 0.3072 - val_mean_absolute_error: 0.2636\n",
      "Epoch 13/20\n",
      "368/368 [==============================] - 2s 4ms/step - loss: 0.1882 - mean_absolute_error: 0.1973 - val_loss: 0.3100 - val_mean_absolute_error: 0.2804\n",
      "Epoch 14/20\n",
      "368/368 [==============================] - 1s 4ms/step - loss: 0.1869 - mean_absolute_error: 0.1969 - val_loss: 0.3085 - val_mean_absolute_error: 0.2801\n",
      "***TRAIN***:\n",
      "correlation related to cluster centre: 0.90\n",
      "r2 score related to cluster centre: 0.82\n",
      "***VALIDATION***:\n",
      "correlation related to cluster centre: 0.91\n",
      "r2 score related to cluster centre: 0.83\n"
     ]
    },
    {
     "data": {
      "application/vnd.jupyter.widget-view+json": {
       "model_id": "84bcca2bc6bf4d76937b521818b615b9",
       "version_major": 2,
       "version_minor": 0
      },
      "text/plain": [
       "IntProgress(value=0, max=5)"
      ]
     },
     "metadata": {},
     "output_type": "display_data"
    },
    {
     "name": "stdout",
     "output_type": "stream",
     "text": [
      "***VALIDATION***:\n",
      "average correlation: 0.91\n",
      "average r2: 0.82\n",
      "weighted_average_correlation: 0.90\n",
      "weighted_average_r2_score: 0.76\n",
      "bad clusters rate: 0.59%\n"
     ]
    }
   ],
   "source": [
    "first_path = r\"C:\\Coding\\final-qualifying-work_2023-2024\\ClusteringCpp\\output\\kohonen 15 0.1 0.1.txt\"\n",
    "second_path = r\"C:\\Coding\\final-qualifying-work_2023-2024\\ClusteringCpp\\output\\kohonen 15 0.1 0.1 - 3 0.1 0.1.txt\"\n",
    "third_path = r\"C:\\Coding\\final-qualifying-work_2023-2024\\ClusteringCpp\\output\\kohonen 15 0.1 0.1 - 2 0.1 0.1.txt\"\n",
    "fourth_path = r\"C:\\Coding\\final-qualifying-work_2023-2024\\ClusteringCpp\\output\\kohonen 15 0.1 0.1 - 1 0.1 0.1.txt\"\n",
    "\n",
    "output_file = open(\"computational-experiments-output\", \"a\")\n",
    "\n",
    "selected_path = second_path\n",
    "\n",
    "print(f\"rnn {os.path.split(selected_path)[-1]}\")\n",
    "output_file.write(f\"rnn {os.path.split(selected_path)[-1]}\\n\")\n",
    "show_results(rnn_model, get_clusters(selected_path), CONV_WIDTH)\n",
    "\n",
    "output_file.close()"
   ]
  },
  {
   "cell_type": "code",
   "execution_count": 32,
   "id": "2fe8e172-0f78-40e8-8990-fc3c7ade884d",
   "metadata": {},
   "outputs": [
    {
     "name": "stdout",
     "output_type": "stream",
     "text": [
      "rnn kohonen 15 0.1 0.1 - 2 0.1 0.1.txt\n",
      "---do_investigations. cluster index : 0---\n"
     ]
    },
    {
     "data": {
      "application/vnd.jupyter.widget-view+json": {
       "model_id": "c8842737305c4dbba3d8e594766de7ac",
       "version_major": 2,
       "version_minor": 0
      },
      "text/plain": [
       "IntProgress(value=0, max=222)"
      ]
     },
     "metadata": {},
     "output_type": "display_data"
    },
    {
     "name": "stdout",
     "output_type": "stream",
     "text": [
      "Epoch 1/20\n",
      "368/368 [==============================] - 6s 6ms/step - loss: 0.2424 - mean_absolute_error: 0.3215 - val_loss: 0.1802 - val_mean_absolute_error: 0.2866\n",
      "Epoch 2/20\n",
      "368/368 [==============================] - 2s 4ms/step - loss: 0.2103 - mean_absolute_error: 0.2981 - val_loss: 0.1764 - val_mean_absolute_error: 0.2877\n",
      "Epoch 3/20\n",
      "368/368 [==============================] - 2s 4ms/step - loss: 0.2103 - mean_absolute_error: 0.2989 - val_loss: 0.1783 - val_mean_absolute_error: 0.2908\n",
      "Epoch 4/20\n",
      "368/368 [==============================] - 2s 4ms/step - loss: 0.2080 - mean_absolute_error: 0.2964 - val_loss: 0.1754 - val_mean_absolute_error: 0.2807\n",
      "Epoch 5/20\n",
      "368/368 [==============================] - 2s 4ms/step - loss: 0.2079 - mean_absolute_error: 0.2957 - val_loss: 0.1777 - val_mean_absolute_error: 0.2891\n",
      "Epoch 6/20\n",
      "368/368 [==============================] - 2s 4ms/step - loss: 0.2072 - mean_absolute_error: 0.2956 - val_loss: 0.1785 - val_mean_absolute_error: 0.2890\n",
      "***TRAIN***:\n",
      "correlation related to cluster centre: 0.89\n",
      "r2 score related to cluster centre: 0.79\n",
      "***VALIDATION***:\n",
      "correlation related to cluster centre: 0.91\n",
      "r2 score related to cluster centre: 0.82\n"
     ]
    },
    {
     "data": {
      "application/vnd.jupyter.widget-view+json": {
       "model_id": "81b2b6c2708c43ddb41022b61ea37f66",
       "version_major": 2,
       "version_minor": 0
      },
      "text/plain": [
       "IntProgress(value=0, max=222)"
      ]
     },
     "metadata": {},
     "output_type": "display_data"
    },
    {
     "name": "stdout",
     "output_type": "stream",
     "text": [
      "***VALIDATION***:\n",
      "average correlation: 0.90\n",
      "average r2: 0.80\n",
      "---do_investigations. cluster index : 1---\n"
     ]
    },
    {
     "data": {
      "application/vnd.jupyter.widget-view+json": {
       "model_id": "df11a22db9754691ab8a15f10cba26ba",
       "version_major": 2,
       "version_minor": 0
      },
      "text/plain": [
       "IntProgress(value=0, max=824)"
      ]
     },
     "metadata": {},
     "output_type": "display_data"
    },
    {
     "name": "stdout",
     "output_type": "stream",
     "text": [
      "Epoch 1/20\n",
      "368/368 [==============================] - 5s 6ms/step - loss: 0.2289 - mean_absolute_error: 0.3211 - val_loss: 0.2051 - val_mean_absolute_error: 0.3020\n",
      "Epoch 2/20\n",
      "368/368 [==============================] - 2s 4ms/step - loss: 0.2059 - mean_absolute_error: 0.3001 - val_loss: 0.2032 - val_mean_absolute_error: 0.2954\n",
      "Epoch 3/20\n",
      "368/368 [==============================] - 2s 4ms/step - loss: 0.2042 - mean_absolute_error: 0.2991 - val_loss: 0.2029 - val_mean_absolute_error: 0.2912\n",
      "Epoch 4/20\n",
      "368/368 [==============================] - 2s 4ms/step - loss: 0.2040 - mean_absolute_error: 0.2990 - val_loss: 0.2027 - val_mean_absolute_error: 0.2908\n",
      "Epoch 5/20\n",
      "368/368 [==============================] - 2s 4ms/step - loss: 0.2044 - mean_absolute_error: 0.2990 - val_loss: 0.2020 - val_mean_absolute_error: 0.2896\n",
      "Epoch 6/20\n",
      "368/368 [==============================] - 2s 4ms/step - loss: 0.2034 - mean_absolute_error: 0.2977 - val_loss: 0.2024 - val_mean_absolute_error: 0.2881\n",
      "Epoch 7/20\n",
      "368/368 [==============================] - 2s 4ms/step - loss: 0.2033 - mean_absolute_error: 0.2981 - val_loss: 0.2024 - val_mean_absolute_error: 0.2880\n",
      "***TRAIN***:\n",
      "correlation related to cluster centre: 0.89\n",
      "r2 score related to cluster centre: 0.80\n",
      "***VALIDATION***:\n",
      "correlation related to cluster centre: 0.90\n",
      "r2 score related to cluster centre: 0.82\n"
     ]
    },
    {
     "data": {
      "application/vnd.jupyter.widget-view+json": {
       "model_id": "9ba642b8a8b34373a1b936a7ef24eeda",
       "version_major": 2,
       "version_minor": 0
      },
      "text/plain": [
       "IntProgress(value=0, max=824)"
      ]
     },
     "metadata": {},
     "output_type": "display_data"
    },
    {
     "name": "stdout",
     "output_type": "stream",
     "text": [
      "***VALIDATION***:\n",
      "average correlation: 0.90\n",
      "average r2: 0.76\n",
      "---do_investigations. cluster index : 2---\n"
     ]
    },
    {
     "data": {
      "application/vnd.jupyter.widget-view+json": {
       "model_id": "d9b82d35195744639d8dcfd964771463",
       "version_major": 2,
       "version_minor": 0
      },
      "text/plain": [
       "IntProgress(value=0, max=285)"
      ]
     },
     "metadata": {},
     "output_type": "display_data"
    },
    {
     "name": "stdout",
     "output_type": "stream",
     "text": [
      "Epoch 1/20\n",
      "368/368 [==============================] - 5s 6ms/step - loss: 0.2045 - mean_absolute_error: 0.3137 - val_loss: 0.1713 - val_mean_absolute_error: 0.2811\n",
      "Epoch 2/20\n",
      "368/368 [==============================] - 2s 5ms/step - loss: 0.1876 - mean_absolute_error: 0.2997 - val_loss: 0.1724 - val_mean_absolute_error: 0.2818\n",
      "Epoch 3/20\n",
      "368/368 [==============================] - 2s 5ms/step - loss: 0.1871 - mean_absolute_error: 0.2978 - val_loss: 0.1707 - val_mean_absolute_error: 0.2814\n",
      "Epoch 4/20\n",
      "368/368 [==============================] - 2s 4ms/step - loss: 0.1854 - mean_absolute_error: 0.2956 - val_loss: 0.1696 - val_mean_absolute_error: 0.2808\n",
      "Epoch 5/20\n",
      "368/368 [==============================] - 2s 4ms/step - loss: 0.1861 - mean_absolute_error: 0.2967 - val_loss: 0.1731 - val_mean_absolute_error: 0.2845\n",
      "Epoch 6/20\n",
      "368/368 [==============================] - 2s 4ms/step - loss: 0.1853 - mean_absolute_error: 0.2960 - val_loss: 0.1691 - val_mean_absolute_error: 0.2745\n",
      "Epoch 7/20\n",
      "368/368 [==============================] - 2s 5ms/step - loss: 0.1854 - mean_absolute_error: 0.2956 - val_loss: 0.1687 - val_mean_absolute_error: 0.2757\n",
      "Epoch 8/20\n",
      "368/368 [==============================] - 2s 4ms/step - loss: 0.1853 - mean_absolute_error: 0.2956 - val_loss: 0.1729 - val_mean_absolute_error: 0.2834\n",
      "Epoch 9/20\n",
      "368/368 [==============================] - 2s 5ms/step - loss: 0.1860 - mean_absolute_error: 0.2968 - val_loss: 0.1706 - val_mean_absolute_error: 0.2725\n",
      "***TRAIN***:\n",
      "correlation related to cluster centre: 0.90\n",
      "r2 score related to cluster centre: 0.82\n",
      "***VALIDATION***:\n",
      "correlation related to cluster centre: 0.91\n",
      "r2 score related to cluster centre: 0.83\n"
     ]
    },
    {
     "data": {
      "application/vnd.jupyter.widget-view+json": {
       "model_id": "a95af7b595014a22bc0e619b6ab7e69c",
       "version_major": 2,
       "version_minor": 0
      },
      "text/plain": [
       "IntProgress(value=0, max=285)"
      ]
     },
     "metadata": {},
     "output_type": "display_data"
    },
    {
     "name": "stdout",
     "output_type": "stream",
     "text": [
      "***VALIDATION***:\n",
      "average correlation: 0.90\n",
      "average r2: 0.79\n",
      "---do_investigations. cluster index : 3---\n"
     ]
    },
    {
     "data": {
      "application/vnd.jupyter.widget-view+json": {
       "model_id": "52954a0da7764746bd814ab67385821b",
       "version_major": 2,
       "version_minor": 0
      },
      "text/plain": [
       "IntProgress(value=0, max=114)"
      ]
     },
     "metadata": {},
     "output_type": "display_data"
    },
    {
     "name": "stdout",
     "output_type": "stream",
     "text": [
      "Epoch 1/20\n",
      "368/368 [==============================] - 5s 6ms/step - loss: 0.2434 - mean_absolute_error: 0.3329 - val_loss: 0.1616 - val_mean_absolute_error: 0.2850\n",
      "Epoch 2/20\n",
      "368/368 [==============================] - 2s 5ms/step - loss: 0.2141 - mean_absolute_error: 0.3115 - val_loss: 0.1565 - val_mean_absolute_error: 0.2748\n",
      "Epoch 3/20\n",
      "368/368 [==============================] - 2s 5ms/step - loss: 0.2116 - mean_absolute_error: 0.3092 - val_loss: 0.1600 - val_mean_absolute_error: 0.2747\n",
      "Epoch 4/20\n",
      "368/368 [==============================] - 2s 5ms/step - loss: 0.2116 - mean_absolute_error: 0.3097 - val_loss: 0.1606 - val_mean_absolute_error: 0.2896\n",
      "***TRAIN***:\n",
      "correlation related to cluster centre: 0.89\n",
      "r2 score related to cluster centre: 0.79\n",
      "***VALIDATION***:\n",
      "correlation related to cluster centre: 0.91\n",
      "r2 score related to cluster centre: 0.81\n"
     ]
    },
    {
     "data": {
      "application/vnd.jupyter.widget-view+json": {
       "model_id": "21628d49b3fd4e5d814ba72d8efbeddf",
       "version_major": 2,
       "version_minor": 0
      },
      "text/plain": [
       "IntProgress(value=0, max=114)"
      ]
     },
     "metadata": {},
     "output_type": "display_data"
    },
    {
     "name": "stdout",
     "output_type": "stream",
     "text": [
      "***VALIDATION***:\n",
      "average correlation: 0.90\n",
      "average r2: 0.81\n",
      "---do_investigations. cluster index : 4---\n"
     ]
    },
    {
     "data": {
      "application/vnd.jupyter.widget-view+json": {
       "model_id": "d493a8ed84d24fd69b845f38f5283270",
       "version_major": 2,
       "version_minor": 0
      },
      "text/plain": [
       "IntProgress(value=0, max=201)"
      ]
     },
     "metadata": {},
     "output_type": "display_data"
    },
    {
     "name": "stdout",
     "output_type": "stream",
     "text": [
      "Epoch 1/20\n",
      "368/368 [==============================] - 5s 6ms/step - loss: 0.2452 - mean_absolute_error: 0.3436 - val_loss: 0.1642 - val_mean_absolute_error: 0.2787\n",
      "Epoch 2/20\n",
      "368/368 [==============================] - 2s 4ms/step - loss: 0.2003 - mean_absolute_error: 0.3102 - val_loss: 0.1637 - val_mean_absolute_error: 0.2883\n",
      "Epoch 3/20\n",
      "368/368 [==============================] - 2s 4ms/step - loss: 0.1992 - mean_absolute_error: 0.3095 - val_loss: 0.1646 - val_mean_absolute_error: 0.2794\n",
      "Epoch 4/20\n",
      "368/368 [==============================] - 2s 4ms/step - loss: 0.1988 - mean_absolute_error: 0.3081 - val_loss: 0.1616 - val_mean_absolute_error: 0.2829\n",
      "Epoch 5/20\n",
      "368/368 [==============================] - 2s 4ms/step - loss: 0.1985 - mean_absolute_error: 0.3085 - val_loss: 0.1615 - val_mean_absolute_error: 0.2847\n",
      "Epoch 6/20\n",
      "368/368 [==============================] - 2s 4ms/step - loss: 0.1974 - mean_absolute_error: 0.3072 - val_loss: 0.1613 - val_mean_absolute_error: 0.2838\n",
      "Epoch 7/20\n",
      "368/368 [==============================] - 2s 4ms/step - loss: 0.1989 - mean_absolute_error: 0.3084 - val_loss: 0.1635 - val_mean_absolute_error: 0.2891\n",
      "Epoch 8/20\n",
      "368/368 [==============================] - 2s 4ms/step - loss: 0.1984 - mean_absolute_error: 0.3085 - val_loss: 0.1609 - val_mean_absolute_error: 0.2785\n",
      "Epoch 9/20\n",
      "368/368 [==============================] - 2s 4ms/step - loss: 0.1977 - mean_absolute_error: 0.3075 - val_loss: 0.1622 - val_mean_absolute_error: 0.2841\n",
      "Epoch 10/20\n",
      "368/368 [==============================] - 2s 4ms/step - loss: 0.1981 - mean_absolute_error: 0.3078 - val_loss: 0.1610 - val_mean_absolute_error: 0.2824\n",
      "***TRAIN***:\n",
      "correlation related to cluster centre: 0.90\n",
      "r2 score related to cluster centre: 0.81\n",
      "***VALIDATION***:\n",
      "correlation related to cluster centre: 0.91\n",
      "r2 score related to cluster centre: 0.83\n"
     ]
    },
    {
     "data": {
      "application/vnd.jupyter.widget-view+json": {
       "model_id": "0bc32e74ad8e4eaf946cfe9228f6427c",
       "version_major": 2,
       "version_minor": 0
      },
      "text/plain": [
       "IntProgress(value=0, max=201)"
      ]
     },
     "metadata": {},
     "output_type": "display_data"
    },
    {
     "name": "stdout",
     "output_type": "stream",
     "text": [
      "***VALIDATION***:\n",
      "average correlation: 0.91\n",
      "average r2: 0.79\n",
      "---do_investigations. cluster index : 5---\n"
     ]
    },
    {
     "data": {
      "application/vnd.jupyter.widget-view+json": {
       "model_id": "feeb59dc8d7144a6aba78bbbf21157f8",
       "version_major": 2,
       "version_minor": 0
      },
      "text/plain": [
       "IntProgress(value=0, max=82)"
      ]
     },
     "metadata": {},
     "output_type": "display_data"
    },
    {
     "name": "stdout",
     "output_type": "stream",
     "text": [
      "Epoch 1/20\n",
      "368/368 [==============================] - 4s 5ms/step - loss: 0.2314 - mean_absolute_error: 0.3342 - val_loss: 0.1394 - val_mean_absolute_error: 0.2587\n",
      "Epoch 2/20\n",
      "368/368 [==============================] - 2s 4ms/step - loss: 0.2061 - mean_absolute_error: 0.3100 - val_loss: 0.1458 - val_mean_absolute_error: 0.2838\n",
      "Epoch 3/20\n",
      "368/368 [==============================] - 2s 4ms/step - loss: 0.2036 - mean_absolute_error: 0.3072 - val_loss: 0.1402 - val_mean_absolute_error: 0.2700\n",
      "***TRAIN***:\n",
      "correlation related to cluster centre: 0.89\n",
      "r2 score related to cluster centre: 0.80\n",
      "***VALIDATION***:\n",
      "correlation related to cluster centre: 0.91\n",
      "r2 score related to cluster centre: 0.82\n"
     ]
    },
    {
     "data": {
      "application/vnd.jupyter.widget-view+json": {
       "model_id": "2df8b289cdd3486caf546bf775508206",
       "version_major": 2,
       "version_minor": 0
      },
      "text/plain": [
       "IntProgress(value=0, max=82)"
      ]
     },
     "metadata": {},
     "output_type": "display_data"
    },
    {
     "name": "stdout",
     "output_type": "stream",
     "text": [
      "***VALIDATION***:\n",
      "average correlation: 0.91\n",
      "average r2: 0.82\n",
      "---do_investigations. cluster index : 6---\n"
     ]
    },
    {
     "data": {
      "application/vnd.jupyter.widget-view+json": {
       "model_id": "09d1dc2e6a0b4b5c9d9a47d9ae254fe6",
       "version_major": 2,
       "version_minor": 0
      },
      "text/plain": [
       "IntProgress(value=0, max=3)"
      ]
     },
     "metadata": {},
     "output_type": "display_data"
    },
    {
     "name": "stdout",
     "output_type": "stream",
     "text": [
      "Epoch 1/20\n",
      "368/368 [==============================] - 4s 5ms/step - loss: 0.2942 - mean_absolute_error: 0.2611 - val_loss: 0.0168 - val_mean_absolute_error: 0.1206\n",
      "Epoch 2/20\n",
      "368/368 [==============================] - 2s 4ms/step - loss: 0.2554 - mean_absolute_error: 0.2329 - val_loss: 0.0037 - val_mean_absolute_error: 0.0322\n",
      "Epoch 3/20\n",
      "368/368 [==============================] - 2s 4ms/step - loss: 0.2540 - mean_absolute_error: 0.2326 - val_loss: 0.0048 - val_mean_absolute_error: 0.0502\n",
      "Epoch 4/20\n",
      "368/368 [==============================] - 2s 4ms/step - loss: 0.2534 - mean_absolute_error: 0.2333 - val_loss: 0.0073 - val_mean_absolute_error: 0.0712\n",
      "***TRAIN***:\n",
      "correlation related to cluster centre: 0.87\n",
      "r2 score related to cluster centre: 0.75\n",
      "***VALIDATION***:\n",
      "correlation related to cluster centre: 0.91\n",
      "r2 score related to cluster centre: 0.63\n"
     ]
    },
    {
     "data": {
      "application/vnd.jupyter.widget-view+json": {
       "model_id": "8386b3b5730f42debbbc154b1ac84f97",
       "version_major": 2,
       "version_minor": 0
      },
      "text/plain": [
       "IntProgress(value=0, max=3)"
      ]
     },
     "metadata": {},
     "output_type": "display_data"
    },
    {
     "name": "stdout",
     "output_type": "stream",
     "text": [
      "***VALIDATION***:\n",
      "average correlation: 0.91\n",
      "average r2: 0.46\n",
      "---do_investigations. cluster index : 7---\n"
     ]
    },
    {
     "data": {
      "application/vnd.jupyter.widget-view+json": {
       "model_id": "d84292b6fccd46ccb0ee9a60f5366ade",
       "version_major": 2,
       "version_minor": 0
      },
      "text/plain": [
       "IntProgress(value=0, max=38)"
      ]
     },
     "metadata": {},
     "output_type": "display_data"
    },
    {
     "name": "stdout",
     "output_type": "stream",
     "text": [
      "Epoch 1/20\n",
      "368/368 [==============================] - 4s 5ms/step - loss: 0.1944 - mean_absolute_error: 0.3039 - val_loss: 0.1488 - val_mean_absolute_error: 0.2823\n",
      "Epoch 2/20\n",
      "368/368 [==============================] - 2s 4ms/step - loss: 0.1710 - mean_absolute_error: 0.2832 - val_loss: 0.1476 - val_mean_absolute_error: 0.2861\n",
      "Epoch 3/20\n",
      "368/368 [==============================] - 2s 4ms/step - loss: 0.1707 - mean_absolute_error: 0.2833 - val_loss: 0.1454 - val_mean_absolute_error: 0.2803\n",
      "Epoch 4/20\n",
      "368/368 [==============================] - 2s 4ms/step - loss: 0.1701 - mean_absolute_error: 0.2826 - val_loss: 0.1449 - val_mean_absolute_error: 0.2674\n",
      "Epoch 5/20\n",
      "368/368 [==============================] - 2s 4ms/step - loss: 0.1687 - mean_absolute_error: 0.2820 - val_loss: 0.1433 - val_mean_absolute_error: 0.2751\n",
      "Epoch 6/20\n",
      "368/368 [==============================] - 2s 4ms/step - loss: 0.1691 - mean_absolute_error: 0.2822 - val_loss: 0.1504 - val_mean_absolute_error: 0.2859\n",
      "Epoch 7/20\n",
      "368/368 [==============================] - 2s 4ms/step - loss: 0.1694 - mean_absolute_error: 0.2827 - val_loss: 0.1462 - val_mean_absolute_error: 0.2754\n",
      "***TRAIN***:\n",
      "correlation related to cluster centre: 0.91\n",
      "r2 score related to cluster centre: 0.83\n",
      "***VALIDATION***:\n",
      "correlation related to cluster centre: 0.91\n",
      "r2 score related to cluster centre: 0.83\n"
     ]
    },
    {
     "data": {
      "application/vnd.jupyter.widget-view+json": {
       "model_id": "59eacb86f619433a9a33ff8c6dff3e78",
       "version_major": 2,
       "version_minor": 0
      },
      "text/plain": [
       "IntProgress(value=0, max=38)"
      ]
     },
     "metadata": {},
     "output_type": "display_data"
    },
    {
     "name": "stdout",
     "output_type": "stream",
     "text": [
      "***VALIDATION***:\n",
      "average correlation: 0.92\n",
      "average r2: 0.82\n",
      "---do_investigations. cluster index : 8---\n"
     ]
    },
    {
     "data": {
      "application/vnd.jupyter.widget-view+json": {
       "model_id": "9779221747b74c4db5ef7d66fee6700a",
       "version_major": 2,
       "version_minor": 0
      },
      "text/plain": [
       "IntProgress(value=0, max=1)"
      ]
     },
     "metadata": {},
     "output_type": "display_data"
    },
    {
     "name": "stdout",
     "output_type": "stream",
     "text": [
      "Epoch 1/20\n",
      "368/368 [==============================] - 4s 5ms/step - loss: 0.1958 - mean_absolute_error: 0.3051 - val_loss: 0.1970 - val_mean_absolute_error: 0.3335\n",
      "Epoch 2/20\n",
      "368/368 [==============================] - 2s 4ms/step - loss: 0.1681 - mean_absolute_error: 0.2813 - val_loss: 0.1975 - val_mean_absolute_error: 0.3291\n",
      "Epoch 3/20\n",
      "368/368 [==============================] - 2s 4ms/step - loss: 0.1671 - mean_absolute_error: 0.2806 - val_loss: 0.1856 - val_mean_absolute_error: 0.3142\n",
      "Epoch 4/20\n",
      "368/368 [==============================] - 1s 4ms/step - loss: 0.1678 - mean_absolute_error: 0.2812 - val_loss: 0.1879 - val_mean_absolute_error: 0.3214\n",
      "Epoch 5/20\n",
      "368/368 [==============================] - 2s 4ms/step - loss: 0.1667 - mean_absolute_error: 0.2793 - val_loss: 0.1914 - val_mean_absolute_error: 0.3242\n",
      "***TRAIN***:\n",
      "correlation related to cluster centre: 0.91\n",
      "r2 score related to cluster centre: 0.83\n",
      "***VALIDATION***:\n",
      "correlation related to cluster centre: 0.91\n",
      "r2 score related to cluster centre: 0.81\n"
     ]
    },
    {
     "data": {
      "application/vnd.jupyter.widget-view+json": {
       "model_id": "871beb81d2494e879c2e8f88178339a5",
       "version_major": 2,
       "version_minor": 0
      },
      "text/plain": [
       "IntProgress(value=0, max=1)"
      ]
     },
     "metadata": {},
     "output_type": "display_data"
    },
    {
     "name": "stdout",
     "output_type": "stream",
     "text": [
      "***VALIDATION***:\n",
      "average correlation: 0.91\n",
      "average r2: 0.81\n",
      "---do_investigations. cluster index : 9---\n"
     ]
    },
    {
     "data": {
      "application/vnd.jupyter.widget-view+json": {
       "model_id": "ae607731916c4c2982c430b8796b9c69",
       "version_major": 2,
       "version_minor": 0
      },
      "text/plain": [
       "IntProgress(value=0, max=4089)"
      ]
     },
     "metadata": {},
     "output_type": "display_data"
    },
    {
     "name": "stdout",
     "output_type": "stream",
     "text": [
      "Epoch 1/20\n",
      "368/368 [==============================] - 6s 7ms/step - loss: 0.1442 - mean_absolute_error: 0.2305 - val_loss: 0.1531 - val_mean_absolute_error: 0.1977\n",
      "Epoch 2/20\n",
      "368/368 [==============================] - 2s 4ms/step - loss: 0.1206 - mean_absolute_error: 0.2116 - val_loss: 0.1475 - val_mean_absolute_error: 0.1977\n",
      "Epoch 3/20\n",
      "368/368 [==============================] - 2s 4ms/step - loss: 0.1193 - mean_absolute_error: 0.2109 - val_loss: 0.1455 - val_mean_absolute_error: 0.1994\n",
      "Epoch 4/20\n",
      "368/368 [==============================] - 2s 4ms/step - loss: 0.1201 - mean_absolute_error: 0.2102 - val_loss: 0.1482 - val_mean_absolute_error: 0.2013\n",
      "Epoch 5/20\n",
      "368/368 [==============================] - 2s 4ms/step - loss: 0.1194 - mean_absolute_error: 0.2107 - val_loss: 0.1449 - val_mean_absolute_error: 0.1988\n",
      "Epoch 6/20\n",
      "368/368 [==============================] - 2s 4ms/step - loss: 0.1184 - mean_absolute_error: 0.2103 - val_loss: 0.1477 - val_mean_absolute_error: 0.1996\n",
      "Epoch 7/20\n",
      "368/368 [==============================] - 2s 4ms/step - loss: 0.1187 - mean_absolute_error: 0.2095 - val_loss: 0.1446 - val_mean_absolute_error: 0.1980\n",
      "Epoch 8/20\n",
      "368/368 [==============================] - 2s 4ms/step - loss: 0.1184 - mean_absolute_error: 0.2088 - val_loss: 0.1472 - val_mean_absolute_error: 0.2012\n",
      "Epoch 9/20\n",
      "368/368 [==============================] - 2s 4ms/step - loss: 0.1180 - mean_absolute_error: 0.2090 - val_loss: 0.1427 - val_mean_absolute_error: 0.1956\n",
      "Epoch 10/20\n",
      "368/368 [==============================] - 2s 4ms/step - loss: 0.1177 - mean_absolute_error: 0.2090 - val_loss: 0.1475 - val_mean_absolute_error: 0.2008\n",
      "Epoch 11/20\n",
      "368/368 [==============================] - 2s 4ms/step - loss: 0.1168 - mean_absolute_error: 0.2078 - val_loss: 0.1417 - val_mean_absolute_error: 0.1978\n",
      "Epoch 12/20\n",
      "368/368 [==============================] - 2s 4ms/step - loss: 0.1174 - mean_absolute_error: 0.2074 - val_loss: 0.1421 - val_mean_absolute_error: 0.1961\n",
      "Epoch 13/20\n",
      "368/368 [==============================] - 2s 4ms/step - loss: 0.1170 - mean_absolute_error: 0.2075 - val_loss: 0.1445 - val_mean_absolute_error: 0.1998\n",
      "***TRAIN***:\n",
      "correlation related to cluster centre: 0.94\n",
      "r2 score related to cluster centre: 0.88\n",
      "***VALIDATION***:\n",
      "correlation related to cluster centre: 0.91\n",
      "r2 score related to cluster centre: 0.82\n"
     ]
    },
    {
     "data": {
      "application/vnd.jupyter.widget-view+json": {
       "model_id": "918e5322b1a44a69b0c7dd7b183507af",
       "version_major": 2,
       "version_minor": 0
      },
      "text/plain": [
       "IntProgress(value=0, max=4089)"
      ]
     },
     "metadata": {},
     "output_type": "display_data"
    },
    {
     "name": "stdout",
     "output_type": "stream",
     "text": [
      "***VALIDATION***:\n",
      "average correlation: nan\n",
      "average r2: -1668779217569180669580410880.00\n",
      "---do_investigations. cluster index : 10---\n"
     ]
    },
    {
     "data": {
      "application/vnd.jupyter.widget-view+json": {
       "model_id": "5e949c7f975947c7b7631f86323f1755",
       "version_major": 2,
       "version_minor": 0
      },
      "text/plain": [
       "IntProgress(value=0, max=190)"
      ]
     },
     "metadata": {},
     "output_type": "display_data"
    },
    {
     "name": "stdout",
     "output_type": "stream",
     "text": [
      "Epoch 1/20\n",
      "368/368 [==============================] - 6s 6ms/step - loss: 0.2390 - mean_absolute_error: 0.3297 - val_loss: 0.1833 - val_mean_absolute_error: 0.2729\n",
      "Epoch 2/20\n",
      "368/368 [==============================] - 2s 4ms/step - loss: 0.2047 - mean_absolute_error: 0.3055 - val_loss: 0.1835 - val_mean_absolute_error: 0.2761\n",
      "Epoch 3/20\n",
      "368/368 [==============================] - 2s 4ms/step - loss: 0.2034 - mean_absolute_error: 0.3045 - val_loss: 0.1813 - val_mean_absolute_error: 0.2833\n",
      "Epoch 4/20\n",
      "368/368 [==============================] - 2s 4ms/step - loss: 0.2023 - mean_absolute_error: 0.3039 - val_loss: 0.1811 - val_mean_absolute_error: 0.2721\n",
      "Epoch 5/20\n",
      "368/368 [==============================] - 2s 4ms/step - loss: 0.2013 - mean_absolute_error: 0.3025 - val_loss: 0.1786 - val_mean_absolute_error: 0.2811\n",
      "Epoch 6/20\n",
      "368/368 [==============================] - 2s 4ms/step - loss: 0.2035 - mean_absolute_error: 0.3046 - val_loss: 0.1772 - val_mean_absolute_error: 0.2789\n",
      "Epoch 7/20\n",
      "368/368 [==============================] - 2s 4ms/step - loss: 0.2008 - mean_absolute_error: 0.3026 - val_loss: 0.1773 - val_mean_absolute_error: 0.2747\n",
      "Epoch 8/20\n",
      "368/368 [==============================] - 2s 4ms/step - loss: 0.2016 - mean_absolute_error: 0.3025 - val_loss: 0.1781 - val_mean_absolute_error: 0.2784\n",
      "***TRAIN***:\n",
      "correlation related to cluster centre: 0.90\n",
      "r2 score related to cluster centre: 0.80\n",
      "***VALIDATION***:\n",
      "correlation related to cluster centre: 0.90\n",
      "r2 score related to cluster centre: 0.81\n"
     ]
    },
    {
     "data": {
      "application/vnd.jupyter.widget-view+json": {
       "model_id": "0012e06bd2c84ce3bae6a069217c26bf",
       "version_major": 2,
       "version_minor": 0
      },
      "text/plain": [
       "IntProgress(value=0, max=190)"
      ]
     },
     "metadata": {},
     "output_type": "display_data"
    },
    {
     "name": "stdout",
     "output_type": "stream",
     "text": [
      "***VALIDATION***:\n",
      "average correlation: 0.90\n",
      "average r2: 0.79\n",
      "---do_investigations. cluster index : 11---\n"
     ]
    },
    {
     "data": {
      "application/vnd.jupyter.widget-view+json": {
       "model_id": "a6eeeb4aa6a343f29dd4ca5a5dfd83fb",
       "version_major": 2,
       "version_minor": 0
      },
      "text/plain": [
       "IntProgress(value=0, max=226)"
      ]
     },
     "metadata": {},
     "output_type": "display_data"
    },
    {
     "name": "stdout",
     "output_type": "stream",
     "text": [
      "Epoch 1/20\n",
      "368/368 [==============================] - 5s 6ms/step - loss: 0.2596 - mean_absolute_error: 0.3007 - val_loss: 0.2867 - val_mean_absolute_error: 0.2963\n",
      "Epoch 2/20\n",
      "368/368 [==============================] - 2s 4ms/step - loss: 0.2112 - mean_absolute_error: 0.2762 - val_loss: 0.2817 - val_mean_absolute_error: 0.3053\n",
      "Epoch 3/20\n",
      "368/368 [==============================] - 2s 4ms/step - loss: 0.2116 - mean_absolute_error: 0.2750 - val_loss: 0.2774 - val_mean_absolute_error: 0.3080\n",
      "Epoch 4/20\n",
      "368/368 [==============================] - 2s 4ms/step - loss: 0.2071 - mean_absolute_error: 0.2723 - val_loss: 0.2722 - val_mean_absolute_error: 0.2835\n",
      "Epoch 5/20\n",
      "368/368 [==============================] - 2s 4ms/step - loss: 0.2079 - mean_absolute_error: 0.2719 - val_loss: 0.2725 - val_mean_absolute_error: 0.2900\n",
      "Epoch 6/20\n",
      "368/368 [==============================] - 2s 4ms/step - loss: 0.2072 - mean_absolute_error: 0.2742 - val_loss: 0.2718 - val_mean_absolute_error: 0.2958\n",
      "Epoch 7/20\n",
      "368/368 [==============================] - 2s 4ms/step - loss: 0.2062 - mean_absolute_error: 0.2713 - val_loss: 0.2727 - val_mean_absolute_error: 0.2901\n",
      "Epoch 8/20\n",
      "368/368 [==============================] - 2s 4ms/step - loss: 0.2059 - mean_absolute_error: 0.2714 - val_loss: 0.2693 - val_mean_absolute_error: 0.3009\n",
      "Epoch 9/20\n",
      "368/368 [==============================] - 2s 4ms/step - loss: 0.2057 - mean_absolute_error: 0.2706 - val_loss: 0.2760 - val_mean_absolute_error: 0.3134\n",
      "Epoch 10/20\n",
      "368/368 [==============================] - 2s 5ms/step - loss: 0.2069 - mean_absolute_error: 0.2723 - val_loss: 0.2707 - val_mean_absolute_error: 0.2952\n",
      "***TRAIN***:\n",
      "correlation related to cluster centre: 0.89\n",
      "r2 score related to cluster centre: 0.79\n",
      "***VALIDATION***:\n",
      "correlation related to cluster centre: 0.90\n",
      "r2 score related to cluster centre: 0.80\n"
     ]
    },
    {
     "data": {
      "application/vnd.jupyter.widget-view+json": {
       "model_id": "e1c49b52809749b8a520d981d65c15c4",
       "version_major": 2,
       "version_minor": 0
      },
      "text/plain": [
       "IntProgress(value=0, max=226)"
      ]
     },
     "metadata": {},
     "output_type": "display_data"
    },
    {
     "name": "stdout",
     "output_type": "stream",
     "text": [
      "***VALIDATION***:\n",
      "average correlation: 0.89\n",
      "average r2: 0.77\n",
      "---do_investigations. cluster index : 12---\n"
     ]
    },
    {
     "data": {
      "application/vnd.jupyter.widget-view+json": {
       "model_id": "a0521a4d0a504ca0a3da515b5b8e139e",
       "version_major": 2,
       "version_minor": 0
      },
      "text/plain": [
       "IntProgress(value=0, max=693)"
      ]
     },
     "metadata": {},
     "output_type": "display_data"
    },
    {
     "name": "stdout",
     "output_type": "stream",
     "text": [
      "Epoch 1/20\n",
      "368/368 [==============================] - 5s 5ms/step - loss: 0.2296 - mean_absolute_error: 0.2964 - val_loss: 0.1512 - val_mean_absolute_error: 0.2147\n",
      "Epoch 2/20\n",
      "368/368 [==============================] - 2s 4ms/step - loss: 0.1814 - mean_absolute_error: 0.2669 - val_loss: 0.1450 - val_mean_absolute_error: 0.2185\n",
      "Epoch 3/20\n",
      "368/368 [==============================] - 2s 4ms/step - loss: 0.1803 - mean_absolute_error: 0.2688 - val_loss: 0.1453 - val_mean_absolute_error: 0.2200\n",
      "Epoch 4/20\n",
      "368/368 [==============================] - 2s 4ms/step - loss: 0.1779 - mean_absolute_error: 0.2684 - val_loss: 0.1502 - val_mean_absolute_error: 0.2215\n",
      "***TRAIN***:\n",
      "correlation related to cluster centre: 0.91\n",
      "r2 score related to cluster centre: 0.82\n",
      "***VALIDATION***:\n",
      "correlation related to cluster centre: 0.90\n",
      "r2 score related to cluster centre: 0.81\n"
     ]
    },
    {
     "data": {
      "application/vnd.jupyter.widget-view+json": {
       "model_id": "d8b1b6caf4e14bb5b5aae2d66252b8a9",
       "version_major": 2,
       "version_minor": 0
      },
      "text/plain": [
       "IntProgress(value=0, max=693)"
      ]
     },
     "metadata": {},
     "output_type": "display_data"
    },
    {
     "name": "stdout",
     "output_type": "stream",
     "text": [
      "***VALIDATION***:\n",
      "average correlation: 0.88\n",
      "average r2: 0.74\n",
      "---do_investigations. cluster index : 13---\n"
     ]
    },
    {
     "data": {
      "application/vnd.jupyter.widget-view+json": {
       "model_id": "f3f1686088d240209697ac14fdaf7b0c",
       "version_major": 2,
       "version_minor": 0
      },
      "text/plain": [
       "IntProgress(value=0, max=1)"
      ]
     },
     "metadata": {},
     "output_type": "display_data"
    },
    {
     "name": "stdout",
     "output_type": "stream",
     "text": [
      "Epoch 1/20\n",
      "368/368 [==============================] - 5s 5ms/step - loss: 0.2285 - mean_absolute_error: 0.2238 - val_loss: 0.2892 - val_mean_absolute_error: 0.2768\n",
      "Epoch 2/20\n",
      "368/368 [==============================] - 2s 4ms/step - loss: 0.1930 - mean_absolute_error: 0.2050 - val_loss: 0.2973 - val_mean_absolute_error: 0.2834\n",
      "Epoch 3/20\n",
      "368/368 [==============================] - 2s 4ms/step - loss: 0.1928 - mean_absolute_error: 0.2050 - val_loss: 0.3109 - val_mean_absolute_error: 0.2950\n",
      "***TRAIN***:\n",
      "correlation related to cluster centre: 0.90\n",
      "r2 score related to cluster centre: 0.80\n",
      "***VALIDATION***:\n",
      "correlation related to cluster centre: 0.92\n",
      "r2 score related to cluster centre: 0.82\n"
     ]
    },
    {
     "data": {
      "application/vnd.jupyter.widget-view+json": {
       "model_id": "87438df318aa46fda4bc7205fe7b3168",
       "version_major": 2,
       "version_minor": 0
      },
      "text/plain": [
       "IntProgress(value=0, max=1)"
      ]
     },
     "metadata": {},
     "output_type": "display_data"
    },
    {
     "name": "stdout",
     "output_type": "stream",
     "text": [
      "***VALIDATION***:\n",
      "average correlation: 0.92\n",
      "average r2: 0.82\n",
      "---do_investigations. cluster index : 14---\n"
     ]
    },
    {
     "data": {
      "application/vnd.jupyter.widget-view+json": {
       "model_id": "8672c2efe8e44d39852f2eed3d925414",
       "version_major": 2,
       "version_minor": 0
      },
      "text/plain": [
       "IntProgress(value=0, max=364)"
      ]
     },
     "metadata": {},
     "output_type": "display_data"
    },
    {
     "name": "stdout",
     "output_type": "stream",
     "text": [
      "Epoch 1/20\n",
      "368/368 [==============================] - 5s 5ms/step - loss: 0.1074 - mean_absolute_error: 0.1953 - val_loss: 0.0666 - val_mean_absolute_error: 0.1483\n",
      "Epoch 2/20\n",
      "368/368 [==============================] - 2s 4ms/step - loss: 0.0884 - mean_absolute_error: 0.1756 - val_loss: 0.0652 - val_mean_absolute_error: 0.1509\n",
      "Epoch 3/20\n",
      "368/368 [==============================] - 2s 4ms/step - loss: 0.0877 - mean_absolute_error: 0.1755 - val_loss: 0.0662 - val_mean_absolute_error: 0.1465\n",
      "Epoch 4/20\n",
      "368/368 [==============================] - 2s 4ms/step - loss: 0.0878 - mean_absolute_error: 0.1753 - val_loss: 0.0688 - val_mean_absolute_error: 0.1530\n",
      "***TRAIN***:\n",
      "correlation related to cluster centre: 0.96\n",
      "r2 score related to cluster centre: 0.91\n",
      "***VALIDATION***:\n",
      "correlation related to cluster centre: 0.95\n",
      "r2 score related to cluster centre: 0.90\n"
     ]
    },
    {
     "data": {
      "application/vnd.jupyter.widget-view+json": {
       "model_id": "e81b47c6d8814f36a2affde17787ea1f",
       "version_major": 2,
       "version_minor": 0
      },
      "text/plain": [
       "IntProgress(value=0, max=364)"
      ]
     },
     "metadata": {},
     "output_type": "display_data"
    },
    {
     "name": "stdout",
     "output_type": "stream",
     "text": [
      "***VALIDATION***:\n",
      "average correlation: 0.89\n",
      "average r2: 0.76\n",
      "---do_investigations. cluster index : 15---\n"
     ]
    },
    {
     "data": {
      "application/vnd.jupyter.widget-view+json": {
       "model_id": "cfe59181e702494b9a7eff205f3dc4b0",
       "version_major": 2,
       "version_minor": 0
      },
      "text/plain": [
       "IntProgress(value=0, max=90)"
      ]
     },
     "metadata": {},
     "output_type": "display_data"
    },
    {
     "name": "stdout",
     "output_type": "stream",
     "text": [
      "Epoch 1/20\n",
      "368/368 [==============================] - 4s 5ms/step - loss: 0.2519 - mean_absolute_error: 0.3002 - val_loss: 0.2849 - val_mean_absolute_error: 0.2952\n",
      "Epoch 2/20\n",
      "368/368 [==============================] - 2s 4ms/step - loss: 0.2131 - mean_absolute_error: 0.2763 - val_loss: 0.2809 - val_mean_absolute_error: 0.2839\n",
      "Epoch 3/20\n",
      "368/368 [==============================] - 2s 4ms/step - loss: 0.2103 - mean_absolute_error: 0.2742 - val_loss: 0.2795 - val_mean_absolute_error: 0.3021\n",
      "Epoch 4/20\n",
      "368/368 [==============================] - 2s 4ms/step - loss: 0.2094 - mean_absolute_error: 0.2741 - val_loss: 0.2767 - val_mean_absolute_error: 0.3005\n",
      "Epoch 5/20\n",
      "368/368 [==============================] - 2s 4ms/step - loss: 0.2114 - mean_absolute_error: 0.2753 - val_loss: 0.2766 - val_mean_absolute_error: 0.2845\n",
      "Epoch 6/20\n",
      "368/368 [==============================] - 2s 4ms/step - loss: 0.2099 - mean_absolute_error: 0.2731 - val_loss: 0.2751 - val_mean_absolute_error: 0.2947\n",
      "Epoch 7/20\n",
      "368/368 [==============================] - 2s 4ms/step - loss: 0.2091 - mean_absolute_error: 0.2728 - val_loss: 0.2784 - val_mean_absolute_error: 0.3107\n",
      "Epoch 8/20\n",
      "368/368 [==============================] - 2s 4ms/step - loss: 0.2085 - mean_absolute_error: 0.2731 - val_loss: 0.2776 - val_mean_absolute_error: 0.2958\n",
      "***TRAIN***:\n",
      "correlation related to cluster centre: 0.89\n",
      "r2 score related to cluster centre: 0.79\n",
      "***VALIDATION***:\n",
      "correlation related to cluster centre: 0.89\n",
      "r2 score related to cluster centre: 0.79\n"
     ]
    },
    {
     "data": {
      "application/vnd.jupyter.widget-view+json": {
       "model_id": "d4a7fba78b3947439fb575d7db44080d",
       "version_major": 2,
       "version_minor": 0
      },
      "text/plain": [
       "IntProgress(value=0, max=90)"
      ]
     },
     "metadata": {},
     "output_type": "display_data"
    },
    {
     "name": "stdout",
     "output_type": "stream",
     "text": [
      "***VALIDATION***:\n",
      "average correlation: 0.89\n",
      "average r2: 0.79\n",
      "---do_investigations. cluster index : 16---\n"
     ]
    },
    {
     "data": {
      "application/vnd.jupyter.widget-view+json": {
       "model_id": "11c8fb7cd29c457e9e4bf33f1043fc9f",
       "version_major": 2,
       "version_minor": 0
      },
      "text/plain": [
       "IntProgress(value=0, max=10)"
      ]
     },
     "metadata": {},
     "output_type": "display_data"
    },
    {
     "name": "stdout",
     "output_type": "stream",
     "text": [
      "Epoch 1/20\n",
      "368/368 [==============================] - 5s 6ms/step - loss: 0.2162 - mean_absolute_error: 0.2155 - val_loss: 0.4163 - val_mean_absolute_error: 0.2971\n",
      "Epoch 2/20\n",
      "368/368 [==============================] - 2s 4ms/step - loss: 0.1876 - mean_absolute_error: 0.1984 - val_loss: 0.3964 - val_mean_absolute_error: 0.3012\n",
      "Epoch 3/20\n",
      "368/368 [==============================] - 2s 4ms/step - loss: 0.1860 - mean_absolute_error: 0.1977 - val_loss: 0.4004 - val_mean_absolute_error: 0.3082\n",
      "Epoch 4/20\n",
      "368/368 [==============================] - 2s 4ms/step - loss: 0.1855 - mean_absolute_error: 0.1959 - val_loss: 0.3636 - val_mean_absolute_error: 0.2847\n",
      "Epoch 5/20\n",
      "368/368 [==============================] - 2s 4ms/step - loss: 0.1901 - mean_absolute_error: 0.1997 - val_loss: 0.3632 - val_mean_absolute_error: 0.3115\n",
      "Epoch 6/20\n",
      "368/368 [==============================] - 2s 4ms/step - loss: 0.1868 - mean_absolute_error: 0.2014 - val_loss: 0.3524 - val_mean_absolute_error: 0.2759\n",
      "Epoch 7/20\n",
      "368/368 [==============================] - 2s 4ms/step - loss: 0.1824 - mean_absolute_error: 0.1951 - val_loss: 0.4227 - val_mean_absolute_error: 0.3109\n",
      "Epoch 8/20\n",
      "368/368 [==============================] - 2s 4ms/step - loss: 0.1852 - mean_absolute_error: 0.1974 - val_loss: 0.3803 - val_mean_absolute_error: 0.3049\n",
      "***TRAIN***:\n",
      "correlation related to cluster centre: 0.91\n",
      "r2 score related to cluster centre: 0.81\n",
      "***VALIDATION***:\n",
      "correlation related to cluster centre: 0.91\n",
      "r2 score related to cluster centre: 0.81\n"
     ]
    },
    {
     "data": {
      "application/vnd.jupyter.widget-view+json": {
       "model_id": "d531b3168fd349d6bd792c1b3dd78b38",
       "version_major": 2,
       "version_minor": 0
      },
      "text/plain": [
       "IntProgress(value=0, max=10)"
      ]
     },
     "metadata": {},
     "output_type": "display_data"
    },
    {
     "name": "stdout",
     "output_type": "stream",
     "text": [
      "***VALIDATION***:\n",
      "average correlation: 0.91\n",
      "average r2: 0.80\n",
      "---do_investigations. cluster index : 17---\n"
     ]
    },
    {
     "data": {
      "application/vnd.jupyter.widget-view+json": {
       "model_id": "5bc29bfe23eb46939e0110c61ec634fd",
       "version_major": 2,
       "version_minor": 0
      },
      "text/plain": [
       "IntProgress(value=0, max=2)"
      ]
     },
     "metadata": {},
     "output_type": "display_data"
    },
    {
     "name": "stdout",
     "output_type": "stream",
     "text": [
      "Epoch 1/20\n",
      "368/368 [==============================] - 4s 5ms/step - loss: 0.2458 - mean_absolute_error: 0.2176 - val_loss: 0.2945 - val_mean_absolute_error: 0.2780\n",
      "Epoch 2/20\n",
      "368/368 [==============================] - 2s 4ms/step - loss: 0.2056 - mean_absolute_error: 0.1989 - val_loss: 0.2793 - val_mean_absolute_error: 0.2296\n",
      "Epoch 3/20\n",
      "368/368 [==============================] - 2s 4ms/step - loss: 0.2022 - mean_absolute_error: 0.1980 - val_loss: 0.2893 - val_mean_absolute_error: 0.2453\n",
      "Epoch 4/20\n",
      "368/368 [==============================] - 2s 4ms/step - loss: 0.1977 - mean_absolute_error: 0.1957 - val_loss: 0.2743 - val_mean_absolute_error: 0.2602\n",
      "Epoch 5/20\n",
      "368/368 [==============================] - 2s 4ms/step - loss: 0.1989 - mean_absolute_error: 0.1982 - val_loss: 0.2947 - val_mean_absolute_error: 0.2661\n",
      "Epoch 6/20\n",
      "368/368 [==============================] - 2s 4ms/step - loss: 0.1975 - mean_absolute_error: 0.1944 - val_loss: 0.2914 - val_mean_absolute_error: 0.2434\n",
      "***TRAIN***:\n",
      "correlation related to cluster centre: 0.90\n",
      "r2 score related to cluster centre: 0.80\n",
      "***VALIDATION***:\n",
      "correlation related to cluster centre: 0.91\n",
      "r2 score related to cluster centre: 0.82\n"
     ]
    },
    {
     "data": {
      "application/vnd.jupyter.widget-view+json": {
       "model_id": "cd32bfea4e2f4bcc836b95b100c4e645",
       "version_major": 2,
       "version_minor": 0
      },
      "text/plain": [
       "IntProgress(value=0, max=2)"
      ]
     },
     "metadata": {},
     "output_type": "display_data"
    },
    {
     "name": "stdout",
     "output_type": "stream",
     "text": [
      "***VALIDATION***:\n",
      "average correlation: 0.91\n",
      "average r2: 0.82\n",
      "---do_investigations. cluster index : 18---\n"
     ]
    },
    {
     "data": {
      "application/vnd.jupyter.widget-view+json": {
       "model_id": "861b1527be9f40fd9417657bcd5d610d",
       "version_major": 2,
       "version_minor": 0
      },
      "text/plain": [
       "IntProgress(value=0, max=41)"
      ]
     },
     "metadata": {},
     "output_type": "display_data"
    },
    {
     "name": "stdout",
     "output_type": "stream",
     "text": [
      "Epoch 1/20\n",
      "368/368 [==============================] - 4s 5ms/step - loss: 0.2311 - mean_absolute_error: 0.3091 - val_loss: 0.2063 - val_mean_absolute_error: 0.2834\n",
      "Epoch 2/20\n",
      "368/368 [==============================] - 2s 4ms/step - loss: 0.2065 - mean_absolute_error: 0.2929 - val_loss: 0.2044 - val_mean_absolute_error: 0.2741\n",
      "Epoch 3/20\n",
      "368/368 [==============================] - 2s 4ms/step - loss: 0.2052 - mean_absolute_error: 0.2899 - val_loss: 0.2081 - val_mean_absolute_error: 0.2975\n",
      "Epoch 4/20\n",
      "368/368 [==============================] - 2s 4ms/step - loss: 0.2047 - mean_absolute_error: 0.2915 - val_loss: 0.2035 - val_mean_absolute_error: 0.2772\n",
      "Epoch 5/20\n",
      "368/368 [==============================] - 2s 4ms/step - loss: 0.2053 - mean_absolute_error: 0.2912 - val_loss: 0.2044 - val_mean_absolute_error: 0.2732\n",
      "Epoch 6/20\n",
      "368/368 [==============================] - 2s 4ms/step - loss: 0.2028 - mean_absolute_error: 0.2897 - val_loss: 0.2010 - val_mean_absolute_error: 0.2819\n",
      "Epoch 7/20\n",
      "368/368 [==============================] - 2s 4ms/step - loss: 0.2036 - mean_absolute_error: 0.2896 - val_loss: 0.2054 - val_mean_absolute_error: 0.2760\n",
      "Epoch 8/20\n",
      "368/368 [==============================] - 2s 4ms/step - loss: 0.2041 - mean_absolute_error: 0.2902 - val_loss: 0.1999 - val_mean_absolute_error: 0.2786\n",
      "Epoch 9/20\n",
      "368/368 [==============================] - 2s 4ms/step - loss: 0.2040 - mean_absolute_error: 0.2898 - val_loss: 0.2050 - val_mean_absolute_error: 0.2878\n",
      "Epoch 10/20\n",
      "368/368 [==============================] - 2s 4ms/step - loss: 0.2028 - mean_absolute_error: 0.2885 - val_loss: 0.2196 - val_mean_absolute_error: 0.3025\n",
      "***TRAIN***:\n",
      "correlation related to cluster centre: 0.89\n",
      "r2 score related to cluster centre: 0.79\n",
      "***VALIDATION***:\n",
      "correlation related to cluster centre: 0.90\n",
      "r2 score related to cluster centre: 0.79\n"
     ]
    },
    {
     "data": {
      "application/vnd.jupyter.widget-view+json": {
       "model_id": "64e37b61aec04cad988714c61789cabc",
       "version_major": 2,
       "version_minor": 0
      },
      "text/plain": [
       "IntProgress(value=0, max=41)"
      ]
     },
     "metadata": {},
     "output_type": "display_data"
    },
    {
     "name": "stdout",
     "output_type": "stream",
     "text": [
      "***VALIDATION***:\n",
      "average correlation: 0.90\n",
      "average r2: 0.78\n",
      "---do_investigations. cluster index : 19---\n"
     ]
    },
    {
     "data": {
      "application/vnd.jupyter.widget-view+json": {
       "model_id": "3fd870d8c16c4c6980f0c551b1ae21ec",
       "version_major": 2,
       "version_minor": 0
      },
      "text/plain": [
       "IntProgress(value=0, max=40)"
      ]
     },
     "metadata": {},
     "output_type": "display_data"
    },
    {
     "name": "stdout",
     "output_type": "stream",
     "text": [
      "Epoch 1/20\n",
      "368/368 [==============================] - 4s 5ms/step - loss: 0.2561 - mean_absolute_error: 0.3051 - val_loss: 0.2665 - val_mean_absolute_error: 0.2958\n",
      "Epoch 2/20\n",
      "368/368 [==============================] - 2s 4ms/step - loss: 0.2148 - mean_absolute_error: 0.2790 - val_loss: 0.2574 - val_mean_absolute_error: 0.2888\n",
      "Epoch 3/20\n",
      "368/368 [==============================] - 2s 4ms/step - loss: 0.2110 - mean_absolute_error: 0.2768 - val_loss: 0.2561 - val_mean_absolute_error: 0.2855\n",
      "Epoch 4/20\n",
      "368/368 [==============================] - 2s 4ms/step - loss: 0.2096 - mean_absolute_error: 0.2758 - val_loss: 0.2546 - val_mean_absolute_error: 0.2864\n",
      "Epoch 5/20\n",
      "368/368 [==============================] - 2s 4ms/step - loss: 0.2112 - mean_absolute_error: 0.2755 - val_loss: 0.2550 - val_mean_absolute_error: 0.2884\n",
      "Epoch 6/20\n",
      "368/368 [==============================] - 2s 4ms/step - loss: 0.2097 - mean_absolute_error: 0.2760 - val_loss: 0.2557 - val_mean_absolute_error: 0.2976\n",
      "***TRAIN***:\n",
      "correlation related to cluster centre: 0.89\n",
      "r2 score related to cluster centre: 0.79\n",
      "***VALIDATION***:\n",
      "correlation related to cluster centre: 0.90\n",
      "r2 score related to cluster centre: 0.80\n"
     ]
    },
    {
     "data": {
      "application/vnd.jupyter.widget-view+json": {
       "model_id": "236a9f05c7c74c14ae0f9e32ecf6b1ba",
       "version_major": 2,
       "version_minor": 0
      },
      "text/plain": [
       "IntProgress(value=0, max=40)"
      ]
     },
     "metadata": {},
     "output_type": "display_data"
    },
    {
     "name": "stdout",
     "output_type": "stream",
     "text": [
      "***VALIDATION***:\n",
      "average correlation: 0.89\n",
      "average r2: 0.80\n",
      "---do_investigations. cluster index : 20---\n"
     ]
    },
    {
     "data": {
      "application/vnd.jupyter.widget-view+json": {
       "model_id": "2f840c7514af443fa3c0b9acccbb71c5",
       "version_major": 2,
       "version_minor": 0
      },
      "text/plain": [
       "IntProgress(value=0, max=164)"
      ]
     },
     "metadata": {},
     "output_type": "display_data"
    },
    {
     "name": "stdout",
     "output_type": "stream",
     "text": [
      "Epoch 1/20\n",
      "368/368 [==============================] - 4s 6ms/step - loss: 0.2048 - mean_absolute_error: 0.2888 - val_loss: 0.1417 - val_mean_absolute_error: 0.2319\n",
      "Epoch 2/20\n",
      "368/368 [==============================] - 2s 4ms/step - loss: 0.1790 - mean_absolute_error: 0.2701 - val_loss: 0.1434 - val_mean_absolute_error: 0.2306\n",
      "Epoch 3/20\n",
      "368/368 [==============================] - 2s 5ms/step - loss: 0.1800 - mean_absolute_error: 0.2712 - val_loss: 0.1411 - val_mean_absolute_error: 0.2300\n",
      "Epoch 4/20\n",
      "368/368 [==============================] - 2s 5ms/step - loss: 0.1809 - mean_absolute_error: 0.2718 - val_loss: 0.1420 - val_mean_absolute_error: 0.2295\n",
      "Epoch 5/20\n",
      "368/368 [==============================] - 2s 5ms/step - loss: 0.1788 - mean_absolute_error: 0.2685 - val_loss: 0.1420 - val_mean_absolute_error: 0.2336\n",
      "***TRAIN***:\n",
      "correlation related to cluster centre: 0.91\n",
      "r2 score related to cluster centre: 0.82\n",
      "***VALIDATION***:\n",
      "correlation related to cluster centre: 0.92\n",
      "r2 score related to cluster centre: 0.84\n"
     ]
    },
    {
     "data": {
      "application/vnd.jupyter.widget-view+json": {
       "model_id": "19b812ebf20243948a98c065fdaa3c1d",
       "version_major": 2,
       "version_minor": 0
      },
      "text/plain": [
       "IntProgress(value=0, max=164)"
      ]
     },
     "metadata": {},
     "output_type": "display_data"
    },
    {
     "name": "stdout",
     "output_type": "stream",
     "text": [
      "***VALIDATION***:\n",
      "average correlation: 0.90\n",
      "average r2: 0.75\n",
      "weighted_average_correlation: 0.89\n",
      "weighted_average_r2_score: 0.77\n",
      "bad clusters rate: 0.53%\n"
     ]
    }
   ],
   "source": [
    "first_path = r\"C:\\Coding\\final-qualifying-work_2023-2024\\ClusteringCpp\\output\\kohonen 15 0.1 0.1.txt\"\n",
    "second_path = r\"C:\\Coding\\final-qualifying-work_2023-2024\\ClusteringCpp\\output\\kohonen 15 0.1 0.1 - 3 0.1 0.1.txt\"\n",
    "third_path = r\"C:\\Coding\\final-qualifying-work_2023-2024\\ClusteringCpp\\output\\kohonen 15 0.1 0.1 - 2 0.1 0.1.txt\"\n",
    "fourth_path = r\"C:\\Coding\\final-qualifying-work_2023-2024\\ClusteringCpp\\output\\kohonen 15 0.1 0.1 - 1 0.1 0.1.txt\"\n",
    "\n",
    "output_file = open(\"computational-experiments-output\", \"a\")\n",
    "\n",
    "selected_path = third_path\n",
    "\n",
    "print(f\"rnn {os.path.split(selected_path)[-1]}\")\n",
    "output_file.write(f\"rnn {os.path.split(selected_path)[-1]}\\n\")\n",
    "show_results(rnn_model, get_clusters(selected_path), CONV_WIDTH)\n",
    "\n",
    "output_file.close()"
   ]
  },
  {
   "cell_type": "code",
   "execution_count": 33,
   "id": "94b8177e-81fe-4658-b430-d1e27215912b",
   "metadata": {},
   "outputs": [
    {
     "name": "stdout",
     "output_type": "stream",
     "text": [
      "rnn kohonen 15 0.1 0.1 - 1 0.1 0.1.txt\n",
      "---do_investigations. cluster index : 0---\n"
     ]
    },
    {
     "data": {
      "application/vnd.jupyter.widget-view+json": {
       "model_id": "7dcb31ff97f14f358baa1d99d489c247",
       "version_major": 2,
       "version_minor": 0
      },
      "text/plain": [
       "IntProgress(value=0, max=269)"
      ]
     },
     "metadata": {},
     "output_type": "display_data"
    },
    {
     "name": "stdout",
     "output_type": "stream",
     "text": [
      "Epoch 1/20\n",
      "368/368 [==============================] - 4s 5ms/step - loss: 0.2216 - mean_absolute_error: 0.3289 - val_loss: 0.1659 - val_mean_absolute_error: 0.2826\n",
      "Epoch 2/20\n",
      "368/368 [==============================] - 2s 4ms/step - loss: 0.1905 - mean_absolute_error: 0.3024 - val_loss: 0.1685 - val_mean_absolute_error: 0.2862\n",
      "Epoch 3/20\n",
      "368/368 [==============================] - 2s 4ms/step - loss: 0.1899 - mean_absolute_error: 0.3007 - val_loss: 0.1645 - val_mean_absolute_error: 0.2785\n",
      "Epoch 4/20\n",
      "368/368 [==============================] - 2s 5ms/step - loss: 0.1910 - mean_absolute_error: 0.3015 - val_loss: 0.1639 - val_mean_absolute_error: 0.2784\n",
      "Epoch 5/20\n",
      "368/368 [==============================] - 2s 5ms/step - loss: 0.1894 - mean_absolute_error: 0.3003 - val_loss: 0.1623 - val_mean_absolute_error: 0.2711\n",
      "Epoch 6/20\n",
      "368/368 [==============================] - 2s 5ms/step - loss: 0.1886 - mean_absolute_error: 0.2993 - val_loss: 0.1624 - val_mean_absolute_error: 0.2713\n",
      "Epoch 7/20\n",
      "368/368 [==============================] - 2s 4ms/step - loss: 0.1892 - mean_absolute_error: 0.2999 - val_loss: 0.1639 - val_mean_absolute_error: 0.2744\n",
      "***TRAIN***:\n",
      "correlation related to cluster centre: 0.90\n",
      "r2 score related to cluster centre: 0.81\n",
      "***VALIDATION***:\n",
      "correlation related to cluster centre: 0.91\n",
      "r2 score related to cluster centre: 0.83\n"
     ]
    },
    {
     "data": {
      "application/vnd.jupyter.widget-view+json": {
       "model_id": "93d2de712f754b7793221c103e98c530",
       "version_major": 2,
       "version_minor": 0
      },
      "text/plain": [
       "IntProgress(value=0, max=269)"
      ]
     },
     "metadata": {},
     "output_type": "display_data"
    },
    {
     "name": "stdout",
     "output_type": "stream",
     "text": [
      "***VALIDATION***:\n",
      "average correlation: 0.91\n",
      "average r2: 0.77\n",
      "---do_investigations. cluster index : 1---\n"
     ]
    },
    {
     "data": {
      "application/vnd.jupyter.widget-view+json": {
       "model_id": "cf24b12477734096a3b2c3925f8a05e0",
       "version_major": 2,
       "version_minor": 0
      },
      "text/plain": [
       "IntProgress(value=0, max=161)"
      ]
     },
     "metadata": {},
     "output_type": "display_data"
    },
    {
     "name": "stdout",
     "output_type": "stream",
     "text": [
      "Epoch 1/20\n",
      "368/368 [==============================] - 4s 5ms/step - loss: 0.2299 - mean_absolute_error: 0.3317 - val_loss: 0.1582 - val_mean_absolute_error: 0.2860\n",
      "Epoch 2/20\n",
      "368/368 [==============================] - 1s 4ms/step - loss: 0.1967 - mean_absolute_error: 0.3061 - val_loss: 0.1556 - val_mean_absolute_error: 0.2698\n",
      "Epoch 3/20\n",
      "368/368 [==============================] - 2s 4ms/step - loss: 0.1963 - mean_absolute_error: 0.3052 - val_loss: 0.1536 - val_mean_absolute_error: 0.2713\n",
      "Epoch 4/20\n",
      "368/368 [==============================] - 2s 4ms/step - loss: 0.1947 - mean_absolute_error: 0.3047 - val_loss: 0.1527 - val_mean_absolute_error: 0.2699\n",
      "Epoch 5/20\n",
      "368/368 [==============================] - 2s 4ms/step - loss: 0.1961 - mean_absolute_error: 0.3054 - val_loss: 0.1528 - val_mean_absolute_error: 0.2687\n",
      "Epoch 6/20\n",
      "368/368 [==============================] - 2s 4ms/step - loss: 0.1945 - mean_absolute_error: 0.3043 - val_loss: 0.1522 - val_mean_absolute_error: 0.2721\n",
      "Epoch 7/20\n",
      "368/368 [==============================] - 1s 4ms/step - loss: 0.1939 - mean_absolute_error: 0.3030 - val_loss: 0.1529 - val_mean_absolute_error: 0.2677\n",
      "Epoch 8/20\n",
      "368/368 [==============================] - 2s 4ms/step - loss: 0.1942 - mean_absolute_error: 0.3033 - val_loss: 0.1528 - val_mean_absolute_error: 0.2728\n",
      "***TRAIN***:\n",
      "correlation related to cluster centre: 0.90\n",
      "r2 score related to cluster centre: 0.81\n",
      "***VALIDATION***:\n",
      "correlation related to cluster centre: 0.91\n",
      "r2 score related to cluster centre: 0.83\n"
     ]
    },
    {
     "data": {
      "application/vnd.jupyter.widget-view+json": {
       "model_id": "aaf227cb5fde494b8f5d10d67548d940",
       "version_major": 2,
       "version_minor": 0
      },
      "text/plain": [
       "IntProgress(value=0, max=161)"
      ]
     },
     "metadata": {},
     "output_type": "display_data"
    },
    {
     "name": "stdout",
     "output_type": "stream",
     "text": [
      "***VALIDATION***:\n",
      "average correlation: 0.91\n",
      "average r2: 0.83\n",
      "---do_investigations. cluster index : 2---\n"
     ]
    },
    {
     "data": {
      "application/vnd.jupyter.widget-view+json": {
       "model_id": "8eb7fe2227274f598105edebaed1d403",
       "version_major": 2,
       "version_minor": 0
      },
      "text/plain": [
       "IntProgress(value=0, max=653)"
      ]
     },
     "metadata": {},
     "output_type": "display_data"
    },
    {
     "name": "stdout",
     "output_type": "stream",
     "text": [
      "Epoch 1/20\n",
      "368/368 [==============================] - 4s 5ms/step - loss: 0.2499 - mean_absolute_error: 0.3482 - val_loss: 0.1920 - val_mean_absolute_error: 0.2991\n",
      "Epoch 2/20\n",
      "368/368 [==============================] - 2s 4ms/step - loss: 0.2003 - mean_absolute_error: 0.3142 - val_loss: 0.1904 - val_mean_absolute_error: 0.2994\n",
      "Epoch 3/20\n",
      "368/368 [==============================] - 1s 4ms/step - loss: 0.2006 - mean_absolute_error: 0.3139 - val_loss: 0.1902 - val_mean_absolute_error: 0.3018\n",
      "Epoch 4/20\n",
      "368/368 [==============================] - 1s 4ms/step - loss: 0.2001 - mean_absolute_error: 0.3132 - val_loss: 0.1919 - val_mean_absolute_error: 0.3060\n",
      "Epoch 5/20\n",
      "368/368 [==============================] - 1s 4ms/step - loss: 0.1991 - mean_absolute_error: 0.3131 - val_loss: 0.1889 - val_mean_absolute_error: 0.2967\n",
      "Epoch 6/20\n",
      "368/368 [==============================] - 2s 4ms/step - loss: 0.1994 - mean_absolute_error: 0.3127 - val_loss: 0.1908 - val_mean_absolute_error: 0.2994\n",
      "Epoch 7/20\n",
      "368/368 [==============================] - 1s 4ms/step - loss: 0.2001 - mean_absolute_error: 0.3131 - val_loss: 0.1913 - val_mean_absolute_error: 0.2992\n",
      "***TRAIN***:\n",
      "correlation related to cluster centre: 0.90\n",
      "r2 score related to cluster centre: 0.80\n",
      "***VALIDATION***:\n",
      "correlation related to cluster centre: 0.91\n",
      "r2 score related to cluster centre: 0.82\n"
     ]
    },
    {
     "data": {
      "application/vnd.jupyter.widget-view+json": {
       "model_id": "f410531d536346e5a37ace536f79ff86",
       "version_major": 2,
       "version_minor": 0
      },
      "text/plain": [
       "IntProgress(value=0, max=653)"
      ]
     },
     "metadata": {},
     "output_type": "display_data"
    },
    {
     "name": "stdout",
     "output_type": "stream",
     "text": [
      "***VALIDATION***:\n",
      "average correlation: 0.90\n",
      "average r2: 0.70\n",
      "---do_investigations. cluster index : 3---\n"
     ]
    },
    {
     "data": {
      "application/vnd.jupyter.widget-view+json": {
       "model_id": "ecc1367c31864f2784fa6e16d0fbe3f4",
       "version_major": 2,
       "version_minor": 0
      },
      "text/plain": [
       "IntProgress(value=0, max=11)"
      ]
     },
     "metadata": {},
     "output_type": "display_data"
    },
    {
     "name": "stdout",
     "output_type": "stream",
     "text": [
      "Epoch 1/20\n",
      "368/368 [==============================] - 4s 5ms/step - loss: 0.2145 - mean_absolute_error: 0.3206 - val_loss: 0.1725 - val_mean_absolute_error: 0.2824\n",
      "Epoch 2/20\n",
      "368/368 [==============================] - 1s 4ms/step - loss: 0.1792 - mean_absolute_error: 0.2927 - val_loss: 0.1691 - val_mean_absolute_error: 0.2894\n",
      "Epoch 3/20\n",
      "368/368 [==============================] - 1s 4ms/step - loss: 0.1768 - mean_absolute_error: 0.2904 - val_loss: 0.1667 - val_mean_absolute_error: 0.2907\n",
      "Epoch 4/20\n",
      "368/368 [==============================] - 2s 4ms/step - loss: 0.1761 - mean_absolute_error: 0.2898 - val_loss: 0.1663 - val_mean_absolute_error: 0.2872\n",
      "Epoch 5/20\n",
      "368/368 [==============================] - 1s 4ms/step - loss: 0.1752 - mean_absolute_error: 0.2887 - val_loss: 0.1669 - val_mean_absolute_error: 0.2849\n",
      "Epoch 6/20\n",
      "368/368 [==============================] - 1s 4ms/step - loss: 0.1753 - mean_absolute_error: 0.2891 - val_loss: 0.1666 - val_mean_absolute_error: 0.2901\n",
      "***TRAIN***:\n",
      "correlation related to cluster centre: 0.91\n",
      "r2 score related to cluster centre: 0.83\n",
      "***VALIDATION***:\n",
      "correlation related to cluster centre: 0.91\n",
      "r2 score related to cluster centre: 0.83\n"
     ]
    },
    {
     "data": {
      "application/vnd.jupyter.widget-view+json": {
       "model_id": "53a2f2d12e72422a8e71ee4f1453049e",
       "version_major": 2,
       "version_minor": 0
      },
      "text/plain": [
       "IntProgress(value=0, max=11)"
      ]
     },
     "metadata": {},
     "output_type": "display_data"
    },
    {
     "name": "stdout",
     "output_type": "stream",
     "text": [
      "***VALIDATION***:\n",
      "average correlation: 0.91\n",
      "average r2: 0.83\n",
      "---do_investigations. cluster index : 4---\n"
     ]
    },
    {
     "data": {
      "application/vnd.jupyter.widget-view+json": {
       "model_id": "49100415b72742ebbed7ec5c3709a0de",
       "version_major": 2,
       "version_minor": 0
      },
      "text/plain": [
       "IntProgress(value=0, max=314)"
      ]
     },
     "metadata": {},
     "output_type": "display_data"
    },
    {
     "name": "stdout",
     "output_type": "stream",
     "text": [
      "Epoch 1/20\n",
      "368/368 [==============================] - 4s 6ms/step - loss: 0.2349 - mean_absolute_error: 0.3166 - val_loss: 0.2067 - val_mean_absolute_error: 0.2834\n",
      "Epoch 2/20\n",
      "368/368 [==============================] - 2s 4ms/step - loss: 0.2106 - mean_absolute_error: 0.2947 - val_loss: 0.1955 - val_mean_absolute_error: 0.2820\n",
      "Epoch 3/20\n",
      "368/368 [==============================] - 2s 4ms/step - loss: 0.2081 - mean_absolute_error: 0.2927 - val_loss: 0.1969 - val_mean_absolute_error: 0.2731\n",
      "Epoch 4/20\n",
      "368/368 [==============================] - 2s 5ms/step - loss: 0.2083 - mean_absolute_error: 0.2929 - val_loss: 0.1934 - val_mean_absolute_error: 0.2812\n",
      "Epoch 5/20\n",
      "368/368 [==============================] - 2s 4ms/step - loss: 0.2068 - mean_absolute_error: 0.2903 - val_loss: 0.1956 - val_mean_absolute_error: 0.2718\n",
      "Epoch 6/20\n",
      "368/368 [==============================] - 2s 4ms/step - loss: 0.2071 - mean_absolute_error: 0.2900 - val_loss: 0.1974 - val_mean_absolute_error: 0.2766\n",
      "***TRAIN***:\n",
      "correlation related to cluster centre: 0.89\n",
      "r2 score related to cluster centre: 0.80\n",
      "***VALIDATION***:\n",
      "correlation related to cluster centre: 0.90\n",
      "r2 score related to cluster centre: 0.81\n"
     ]
    },
    {
     "data": {
      "application/vnd.jupyter.widget-view+json": {
       "model_id": "9e59c87cab754f5a979891be046c7db0",
       "version_major": 2,
       "version_minor": 0
      },
      "text/plain": [
       "IntProgress(value=0, max=314)"
      ]
     },
     "metadata": {},
     "output_type": "display_data"
    },
    {
     "name": "stdout",
     "output_type": "stream",
     "text": [
      "***VALIDATION***:\n",
      "average correlation: 0.90\n",
      "average r2: 0.80\n",
      "---do_investigations. cluster index : 5---\n"
     ]
    },
    {
     "data": {
      "application/vnd.jupyter.widget-view+json": {
       "model_id": "c5c48f5acda8431183881a4bf6261b78",
       "version_major": 2,
       "version_minor": 0
      },
      "text/plain": [
       "IntProgress(value=0, max=168)"
      ]
     },
     "metadata": {},
     "output_type": "display_data"
    },
    {
     "name": "stdout",
     "output_type": "stream",
     "text": [
      "Epoch 1/20\n",
      "368/368 [==============================] - 4s 6ms/step - loss: 0.2396 - mean_absolute_error: 0.3294 - val_loss: 0.1730 - val_mean_absolute_error: 0.2951\n",
      "Epoch 2/20\n",
      "368/368 [==============================] - 2s 4ms/step - loss: 0.2128 - mean_absolute_error: 0.3068 - val_loss: 0.1780 - val_mean_absolute_error: 0.2937\n",
      "Epoch 3/20\n",
      "368/368 [==============================] - 2s 4ms/step - loss: 0.2104 - mean_absolute_error: 0.3044 - val_loss: 0.1800 - val_mean_absolute_error: 0.2878\n",
      "***TRAIN***:\n",
      "correlation related to cluster centre: 0.89\n",
      "r2 score related to cluster centre: 0.79\n",
      "***VALIDATION***:\n",
      "correlation related to cluster centre: 0.91\n",
      "r2 score related to cluster centre: 0.81\n"
     ]
    },
    {
     "data": {
      "application/vnd.jupyter.widget-view+json": {
       "model_id": "932a3cc586a74d888b2f4fc3064473f4",
       "version_major": 2,
       "version_minor": 0
      },
      "text/plain": [
       "IntProgress(value=0, max=168)"
      ]
     },
     "metadata": {},
     "output_type": "display_data"
    },
    {
     "name": "stdout",
     "output_type": "stream",
     "text": [
      "***VALIDATION***:\n",
      "average correlation: 0.90\n",
      "average r2: 0.80\n",
      "---do_investigations. cluster index : 6---\n"
     ]
    },
    {
     "data": {
      "application/vnd.jupyter.widget-view+json": {
       "model_id": "07aa6f2e29d04d5eb3d3f72a142d711d",
       "version_major": 2,
       "version_minor": 0
      },
      "text/plain": [
       "IntProgress(value=0, max=93)"
      ]
     },
     "metadata": {},
     "output_type": "display_data"
    },
    {
     "name": "stdout",
     "output_type": "stream",
     "text": [
      "Epoch 1/20\n",
      "368/368 [==============================] - 4s 5ms/step - loss: 0.2306 - mean_absolute_error: 0.3285 - val_loss: 0.1425 - val_mean_absolute_error: 0.2680\n",
      "Epoch 2/20\n",
      "368/368 [==============================] - 2s 4ms/step - loss: 0.2068 - mean_absolute_error: 0.3087 - val_loss: 0.1460 - val_mean_absolute_error: 0.2794\n",
      "Epoch 3/20\n",
      "368/368 [==============================] - 2s 4ms/step - loss: 0.2072 - mean_absolute_error: 0.3091 - val_loss: 0.1437 - val_mean_absolute_error: 0.2712\n",
      "***TRAIN***:\n",
      "correlation related to cluster centre: 0.89\n",
      "r2 score related to cluster centre: 0.80\n",
      "***VALIDATION***:\n",
      "correlation related to cluster centre: 0.91\n",
      "r2 score related to cluster centre: 0.82\n"
     ]
    },
    {
     "data": {
      "application/vnd.jupyter.widget-view+json": {
       "model_id": "81a5f973c90549949b115bf81939fd42",
       "version_major": 2,
       "version_minor": 0
      },
      "text/plain": [
       "IntProgress(value=0, max=93)"
      ]
     },
     "metadata": {},
     "output_type": "display_data"
    },
    {
     "name": "stdout",
     "output_type": "stream",
     "text": [
      "***VALIDATION***:\n",
      "average correlation: 0.91\n",
      "average r2: 0.82\n",
      "---do_investigations. cluster index : 7---\n"
     ]
    },
    {
     "data": {
      "application/vnd.jupyter.widget-view+json": {
       "model_id": "e5d6a1be2d2b4919838e925ceb9e77cd",
       "version_major": 2,
       "version_minor": 0
      },
      "text/plain": [
       "IntProgress(value=0, max=4)"
      ]
     },
     "metadata": {},
     "output_type": "display_data"
    },
    {
     "name": "stdout",
     "output_type": "stream",
     "text": [
      "Epoch 1/20\n",
      "368/368 [==============================] - 34s 6ms/step - loss: 0.2759 - mean_absolute_error: 0.2818 - val_loss: 0.0252 - val_mean_absolute_error: 0.1063\n",
      "Epoch 2/20\n",
      "368/368 [==============================] - 2s 4ms/step - loss: 0.2429 - mean_absolute_error: 0.2605 - val_loss: 0.0235 - val_mean_absolute_error: 0.1001\n",
      "Epoch 3/20\n",
      "368/368 [==============================] - 2s 4ms/step - loss: 0.2409 - mean_absolute_error: 0.2595 - val_loss: 0.0231 - val_mean_absolute_error: 0.0961\n",
      "Epoch 4/20\n",
      "368/368 [==============================] - 2s 4ms/step - loss: 0.2405 - mean_absolute_error: 0.2585 - val_loss: 0.0246 - val_mean_absolute_error: 0.1092\n",
      "Epoch 5/20\n",
      "368/368 [==============================] - 2s 4ms/step - loss: 0.2411 - mean_absolute_error: 0.2592 - val_loss: 0.0228 - val_mean_absolute_error: 0.0953\n",
      "Epoch 6/20\n",
      "368/368 [==============================] - 2s 4ms/step - loss: 0.2393 - mean_absolute_error: 0.2584 - val_loss: 0.0231 - val_mean_absolute_error: 0.0997\n",
      "Epoch 7/20\n",
      "368/368 [==============================] - 2s 4ms/step - loss: 0.2386 - mean_absolute_error: 0.2575 - val_loss: 0.0242 - val_mean_absolute_error: 0.1084\n",
      "***TRAIN***:\n",
      "correlation related to cluster centre: 0.88\n",
      "r2 score related to cluster centre: 0.77\n",
      "***VALIDATION***:\n",
      "correlation related to cluster centre: 0.91\n",
      "r2 score related to cluster centre: 0.81\n"
     ]
    },
    {
     "data": {
      "application/vnd.jupyter.widget-view+json": {
       "model_id": "574c67f45d1b4509b8f7b9856aea3e12",
       "version_major": 2,
       "version_minor": 0
      },
      "text/plain": [
       "IntProgress(value=0, max=4)"
      ]
     },
     "metadata": {},
     "output_type": "display_data"
    },
    {
     "name": "stdout",
     "output_type": "stream",
     "text": [
      "***VALIDATION***:\n",
      "average correlation: 0.91\n",
      "average r2: 0.40\n",
      "---do_investigations. cluster index : 8---\n"
     ]
    },
    {
     "data": {
      "application/vnd.jupyter.widget-view+json": {
       "model_id": "d333f87262fa4ad5a249a618affabbdd",
       "version_major": 2,
       "version_minor": 0
      },
      "text/plain": [
       "IntProgress(value=0, max=21)"
      ]
     },
     "metadata": {},
     "output_type": "display_data"
    },
    {
     "name": "stdout",
     "output_type": "stream",
     "text": [
      "Epoch 1/20\n",
      "368/368 [==============================] - 4s 5ms/step - loss: 0.2541 - mean_absolute_error: 0.3384 - val_loss: 0.1392 - val_mean_absolute_error: 0.2570\n",
      "Epoch 2/20\n",
      "368/368 [==============================] - 2s 4ms/step - loss: 0.2185 - mean_absolute_error: 0.3125 - val_loss: 0.1467 - val_mean_absolute_error: 0.2559\n",
      "Epoch 3/20\n",
      "368/368 [==============================] - 2s 4ms/step - loss: 0.2175 - mean_absolute_error: 0.3119 - val_loss: 0.1372 - val_mean_absolute_error: 0.2547\n",
      "Epoch 4/20\n",
      "368/368 [==============================] - 2s 4ms/step - loss: 0.2157 - mean_absolute_error: 0.3096 - val_loss: 0.1370 - val_mean_absolute_error: 0.2546\n",
      "Epoch 5/20\n",
      "368/368 [==============================] - 2s 4ms/step - loss: 0.2165 - mean_absolute_error: 0.3098 - val_loss: 0.1372 - val_mean_absolute_error: 0.2503\n",
      "Epoch 6/20\n",
      "368/368 [==============================] - 2s 4ms/step - loss: 0.2157 - mean_absolute_error: 0.3098 - val_loss: 0.1390 - val_mean_absolute_error: 0.2487\n",
      "***TRAIN***:\n",
      "correlation related to cluster centre: 0.89\n",
      "r2 score related to cluster centre: 0.78\n",
      "***VALIDATION***:\n",
      "correlation related to cluster centre: 0.90\n",
      "r2 score related to cluster centre: 0.82\n"
     ]
    },
    {
     "data": {
      "application/vnd.jupyter.widget-view+json": {
       "model_id": "3983a0f474cc42dab2e1a2c9962e700d",
       "version_major": 2,
       "version_minor": 0
      },
      "text/plain": [
       "IntProgress(value=0, max=21)"
      ]
     },
     "metadata": {},
     "output_type": "display_data"
    },
    {
     "name": "stdout",
     "output_type": "stream",
     "text": [
      "***VALIDATION***:\n",
      "average correlation: 0.90\n",
      "average r2: 0.81\n",
      "---do_investigations. cluster index : 9---\n"
     ]
    },
    {
     "data": {
      "application/vnd.jupyter.widget-view+json": {
       "model_id": "86006a2c143545ae85ce9a6c81772154",
       "version_major": 2,
       "version_minor": 0
      },
      "text/plain": [
       "IntProgress(value=0, max=1171)"
      ]
     },
     "metadata": {},
     "output_type": "display_data"
    },
    {
     "name": "stdout",
     "output_type": "stream",
     "text": [
      "Epoch 1/20\n",
      "368/368 [==============================] - 4s 5ms/step - loss: 0.0700 - mean_absolute_error: 0.1576 - val_loss: 0.0544 - val_mean_absolute_error: 0.1248\n",
      "Epoch 2/20\n",
      "368/368 [==============================] - 2s 4ms/step - loss: 0.0418 - mean_absolute_error: 0.1243 - val_loss: 0.0504 - val_mean_absolute_error: 0.1131\n",
      "Epoch 3/20\n",
      "368/368 [==============================] - 2s 4ms/step - loss: 0.0415 - mean_absolute_error: 0.1236 - val_loss: 0.0497 - val_mean_absolute_error: 0.1129\n",
      "Epoch 4/20\n",
      "368/368 [==============================] - 2s 4ms/step - loss: 0.0412 - mean_absolute_error: 0.1238 - val_loss: 0.0500 - val_mean_absolute_error: 0.1157\n",
      "Epoch 5/20\n",
      "368/368 [==============================] - 2s 4ms/step - loss: 0.0420 - mean_absolute_error: 0.1259 - val_loss: 0.0545 - val_mean_absolute_error: 0.1316\n",
      "***TRAIN***:\n",
      "correlation related to cluster centre: 0.98\n",
      "r2 score related to cluster centre: 0.96\n",
      "***VALIDATION***:\n",
      "correlation related to cluster centre: 0.95\n",
      "r2 score related to cluster centre: 0.88\n"
     ]
    },
    {
     "data": {
      "application/vnd.jupyter.widget-view+json": {
       "model_id": "36e68d4f66894a76a9c91296ce5173d8",
       "version_major": 2,
       "version_minor": 0
      },
      "text/plain": [
       "IntProgress(value=0, max=1171)"
      ]
     },
     "metadata": {},
     "output_type": "display_data"
    },
    {
     "name": "stdout",
     "output_type": "stream",
     "text": [
      "***VALIDATION***:\n",
      "average correlation: nan\n",
      "average r2: -179045111242813582549712896.00\n",
      "---do_investigations. cluster index : 10---\n"
     ]
    },
    {
     "data": {
      "application/vnd.jupyter.widget-view+json": {
       "model_id": "6e5f9eb4d49147cbbe4861114126b60a",
       "version_major": 2,
       "version_minor": 0
      },
      "text/plain": [
       "IntProgress(value=0, max=2569)"
      ]
     },
     "metadata": {},
     "output_type": "display_data"
    },
    {
     "name": "stdout",
     "output_type": "stream",
     "text": [
      "Epoch 1/20\n",
      "368/368 [==============================] - 6s 7ms/step - loss: 0.0916 - mean_absolute_error: 0.1849 - val_loss: 0.0657 - val_mean_absolute_error: 0.1291\n",
      "Epoch 2/20\n",
      "368/368 [==============================] - 2s 5ms/step - loss: 0.0620 - mean_absolute_error: 0.1535 - val_loss: 0.0635 - val_mean_absolute_error: 0.1240\n",
      "Epoch 3/20\n",
      "368/368 [==============================] - 2s 5ms/step - loss: 0.0612 - mean_absolute_error: 0.1526 - val_loss: 0.0661 - val_mean_absolute_error: 0.1375\n",
      "Epoch 4/20\n",
      "368/368 [==============================] - 2s 4ms/step - loss: 0.0611 - mean_absolute_error: 0.1512 - val_loss: 0.0640 - val_mean_absolute_error: 0.1286\n",
      "***TRAIN***:\n",
      "correlation related to cluster centre: 0.97\n",
      "r2 score related to cluster centre: 0.94\n",
      "***VALIDATION***:\n",
      "correlation related to cluster centre: 0.94\n",
      "r2 score related to cluster centre: 0.88\n"
     ]
    },
    {
     "data": {
      "application/vnd.jupyter.widget-view+json": {
       "model_id": "b5ecf06134cb433fb7fc4bacf9ed4f2d",
       "version_major": 2,
       "version_minor": 0
      },
      "text/plain": [
       "IntProgress(value=0, max=2569)"
      ]
     },
     "metadata": {},
     "output_type": "display_data"
    },
    {
     "name": "stdout",
     "output_type": "stream",
     "text": [
      "***VALIDATION***:\n",
      "average correlation: nan\n",
      "average r2: -20501521763669860123934720.00\n",
      "---do_investigations. cluster index : 11---\n"
     ]
    },
    {
     "data": {
      "application/vnd.jupyter.widget-view+json": {
       "model_id": "8762f35ba47646ef967793ffe3fdb6cf",
       "version_major": 2,
       "version_minor": 0
      },
      "text/plain": [
       "IntProgress(value=0, max=47)"
      ]
     },
     "metadata": {},
     "output_type": "display_data"
    },
    {
     "name": "stdout",
     "output_type": "stream",
     "text": [
      "Epoch 1/20\n",
      "368/368 [==============================] - 7s 6ms/step - loss: 0.2249 - mean_absolute_error: 0.3201 - val_loss: 0.1830 - val_mean_absolute_error: 0.2789\n",
      "Epoch 2/20\n",
      "368/368 [==============================] - 2s 4ms/step - loss: 0.2049 - mean_absolute_error: 0.3050 - val_loss: 0.1858 - val_mean_absolute_error: 0.2956\n",
      "Epoch 3/20\n",
      "368/368 [==============================] - 2s 4ms/step - loss: 0.2040 - mean_absolute_error: 0.3042 - val_loss: 0.1817 - val_mean_absolute_error: 0.2849\n",
      "Epoch 4/20\n",
      "368/368 [==============================] - 2s 4ms/step - loss: 0.2040 - mean_absolute_error: 0.3047 - val_loss: 0.1805 - val_mean_absolute_error: 0.2822\n",
      "Epoch 5/20\n",
      "368/368 [==============================] - 2s 4ms/step - loss: 0.2032 - mean_absolute_error: 0.3035 - val_loss: 0.1801 - val_mean_absolute_error: 0.2825\n",
      "Epoch 6/20\n",
      "368/368 [==============================] - 2s 5ms/step - loss: 0.2028 - mean_absolute_error: 0.3028 - val_loss: 0.1859 - val_mean_absolute_error: 0.2946\n",
      "Epoch 7/20\n",
      "368/368 [==============================] - 2s 4ms/step - loss: 0.2020 - mean_absolute_error: 0.3024 - val_loss: 0.1797 - val_mean_absolute_error: 0.2845\n",
      "Epoch 8/20\n",
      "368/368 [==============================] - 2s 4ms/step - loss: 0.2021 - mean_absolute_error: 0.3034 - val_loss: 0.1802 - val_mean_absolute_error: 0.2844\n",
      "Epoch 9/20\n",
      "368/368 [==============================] - 2s 5ms/step - loss: 0.2009 - mean_absolute_error: 0.3019 - val_loss: 0.1807 - val_mean_absolute_error: 0.2812\n",
      "***TRAIN***:\n",
      "correlation related to cluster centre: 0.90\n",
      "r2 score related to cluster centre: 0.80\n",
      "***VALIDATION***:\n",
      "correlation related to cluster centre: 0.90\n",
      "r2 score related to cluster centre: 0.81\n"
     ]
    },
    {
     "data": {
      "application/vnd.jupyter.widget-view+json": {
       "model_id": "034c0bd99b804e94b70dcc09503b3223",
       "version_major": 2,
       "version_minor": 0
      },
      "text/plain": [
       "IntProgress(value=0, max=47)"
      ]
     },
     "metadata": {},
     "output_type": "display_data"
    },
    {
     "name": "stdout",
     "output_type": "stream",
     "text": [
      "***VALIDATION***:\n",
      "average correlation: 0.90\n",
      "average r2: 0.80\n",
      "---do_investigations. cluster index : 12---\n"
     ]
    },
    {
     "data": {
      "application/vnd.jupyter.widget-view+json": {
       "model_id": "85dc4c51cd2f407db1031caf8ca52d1e",
       "version_major": 2,
       "version_minor": 0
      },
      "text/plain": [
       "IntProgress(value=0, max=124)"
      ]
     },
     "metadata": {},
     "output_type": "display_data"
    },
    {
     "name": "stdout",
     "output_type": "stream",
     "text": [
      "Epoch 1/20\n",
      "368/368 [==============================] - 5s 6ms/step - loss: 0.2469 - mean_absolute_error: 0.2947 - val_loss: 0.2906 - val_mean_absolute_error: 0.2881\n",
      "Epoch 2/20\n",
      "368/368 [==============================] - 2s 4ms/step - loss: 0.2129 - mean_absolute_error: 0.2719 - val_loss: 0.2798 - val_mean_absolute_error: 0.2834\n",
      "Epoch 3/20\n",
      "368/368 [==============================] - 2s 4ms/step - loss: 0.2121 - mean_absolute_error: 0.2712 - val_loss: 0.2803 - val_mean_absolute_error: 0.2844\n",
      "Epoch 4/20\n",
      "368/368 [==============================] - 2s 4ms/step - loss: 0.2103 - mean_absolute_error: 0.2710 - val_loss: 0.2767 - val_mean_absolute_error: 0.2896\n",
      "Epoch 5/20\n",
      "368/368 [==============================] - 2s 4ms/step - loss: 0.2085 - mean_absolute_error: 0.2700 - val_loss: 0.2796 - val_mean_absolute_error: 0.2994\n",
      "Epoch 6/20\n",
      "368/368 [==============================] - 2s 4ms/step - loss: 0.2106 - mean_absolute_error: 0.2711 - val_loss: 0.2746 - val_mean_absolute_error: 0.2877\n",
      "Epoch 7/20\n",
      "368/368 [==============================] - 2s 4ms/step - loss: 0.2105 - mean_absolute_error: 0.2716 - val_loss: 0.2733 - val_mean_absolute_error: 0.2852\n",
      "Epoch 8/20\n",
      "368/368 [==============================] - 2s 5ms/step - loss: 0.2077 - mean_absolute_error: 0.2690 - val_loss: 0.2724 - val_mean_absolute_error: 0.2836\n",
      "Epoch 9/20\n",
      "368/368 [==============================] - 2s 4ms/step - loss: 0.2078 - mean_absolute_error: 0.2690 - val_loss: 0.2779 - val_mean_absolute_error: 0.2775\n",
      "Epoch 10/20\n",
      "368/368 [==============================] - 2s 5ms/step - loss: 0.2080 - mean_absolute_error: 0.2687 - val_loss: 0.2720 - val_mean_absolute_error: 0.2959\n",
      "Epoch 11/20\n",
      "368/368 [==============================] - 2s 4ms/step - loss: 0.2079 - mean_absolute_error: 0.2695 - val_loss: 0.2703 - val_mean_absolute_error: 0.2766\n",
      "Epoch 12/20\n",
      "368/368 [==============================] - 2s 4ms/step - loss: 0.2076 - mean_absolute_error: 0.2684 - val_loss: 0.2701 - val_mean_absolute_error: 0.2894\n",
      "Epoch 13/20\n",
      "368/368 [==============================] - 2s 5ms/step - loss: 0.2064 - mean_absolute_error: 0.2685 - val_loss: 0.2697 - val_mean_absolute_error: 0.2881\n",
      "Epoch 14/20\n",
      "368/368 [==============================] - 2s 4ms/step - loss: 0.2089 - mean_absolute_error: 0.2696 - val_loss: 0.2750 - val_mean_absolute_error: 0.2831\n",
      "Epoch 15/20\n",
      "368/368 [==============================] - 2s 4ms/step - loss: 0.2064 - mean_absolute_error: 0.2682 - val_loss: 0.2693 - val_mean_absolute_error: 0.2836\n",
      "Epoch 16/20\n",
      "368/368 [==============================] - 2s 4ms/step - loss: 0.2068 - mean_absolute_error: 0.2680 - val_loss: 0.2691 - val_mean_absolute_error: 0.2897\n",
      "Epoch 17/20\n",
      "368/368 [==============================] - 2s 4ms/step - loss: 0.2069 - mean_absolute_error: 0.2680 - val_loss: 0.2710 - val_mean_absolute_error: 0.2885\n",
      "Epoch 18/20\n",
      "368/368 [==============================] - 2s 4ms/step - loss: 0.2059 - mean_absolute_error: 0.2677 - val_loss: 0.2737 - val_mean_absolute_error: 0.2887\n",
      "***TRAIN***:\n",
      "correlation related to cluster centre: 0.89\n",
      "r2 score related to cluster centre: 0.80\n",
      "***VALIDATION***:\n",
      "correlation related to cluster centre: 0.90\n",
      "r2 score related to cluster centre: 0.80\n"
     ]
    },
    {
     "data": {
      "application/vnd.jupyter.widget-view+json": {
       "model_id": "c9351238ad114810af43e0f51036637f",
       "version_major": 2,
       "version_minor": 0
      },
      "text/plain": [
       "IntProgress(value=0, max=124)"
      ]
     },
     "metadata": {},
     "output_type": "display_data"
    },
    {
     "name": "stdout",
     "output_type": "stream",
     "text": [
      "***VALIDATION***:\n",
      "average correlation: 0.89\n",
      "average r2: 0.79\n",
      "---do_investigations. cluster index : 13---\n"
     ]
    },
    {
     "data": {
      "application/vnd.jupyter.widget-view+json": {
       "model_id": "86d2a1f002e24bc0a2db2add23a5f29c",
       "version_major": 2,
       "version_minor": 0
      },
      "text/plain": [
       "IntProgress(value=0, max=19)"
      ]
     },
     "metadata": {},
     "output_type": "display_data"
    },
    {
     "name": "stdout",
     "output_type": "stream",
     "text": [
      "Epoch 1/20\n",
      "368/368 [==============================] - 5s 6ms/step - loss: 0.2470 - mean_absolute_error: 0.2923 - val_loss: 0.2900 - val_mean_absolute_error: 0.2950\n",
      "Epoch 2/20\n",
      "368/368 [==============================] - 2s 4ms/step - loss: 0.2121 - mean_absolute_error: 0.2716 - val_loss: 0.2813 - val_mean_absolute_error: 0.2868\n",
      "Epoch 3/20\n",
      "368/368 [==============================] - 2s 4ms/step - loss: 0.2119 - mean_absolute_error: 0.2711 - val_loss: 0.2752 - val_mean_absolute_error: 0.2933\n",
      "Epoch 4/20\n",
      "368/368 [==============================] - 2s 4ms/step - loss: 0.2104 - mean_absolute_error: 0.2708 - val_loss: 0.2700 - val_mean_absolute_error: 0.2946\n",
      "Epoch 5/20\n",
      "368/368 [==============================] - 2s 4ms/step - loss: 0.2087 - mean_absolute_error: 0.2689 - val_loss: 0.2818 - val_mean_absolute_error: 0.2866\n",
      "Epoch 6/20\n",
      "368/368 [==============================] - 2s 4ms/step - loss: 0.2089 - mean_absolute_error: 0.2704 - val_loss: 0.2953 - val_mean_absolute_error: 0.2984\n",
      "***TRAIN***:\n",
      "correlation related to cluster centre: 0.89\n",
      "r2 score related to cluster centre: 0.78\n",
      "***VALIDATION***:\n",
      "correlation related to cluster centre: 0.89\n",
      "r2 score related to cluster centre: 0.77\n"
     ]
    },
    {
     "data": {
      "application/vnd.jupyter.widget-view+json": {
       "model_id": "98c1aea672274c2197294074fe7fb42c",
       "version_major": 2,
       "version_minor": 0
      },
      "text/plain": [
       "IntProgress(value=0, max=19)"
      ]
     },
     "metadata": {},
     "output_type": "display_data"
    },
    {
     "name": "stdout",
     "output_type": "stream",
     "text": [
      "***VALIDATION***:\n",
      "average correlation: 0.89\n",
      "average r2: 0.77\n",
      "---do_investigations. cluster index : 14---\n"
     ]
    },
    {
     "data": {
      "application/vnd.jupyter.widget-view+json": {
       "model_id": "ee8fc8d614ee41a087694d84dd29d655",
       "version_major": 2,
       "version_minor": 0
      },
      "text/plain": [
       "IntProgress(value=0, max=217)"
      ]
     },
     "metadata": {},
     "output_type": "display_data"
    },
    {
     "name": "stdout",
     "output_type": "stream",
     "text": [
      "Epoch 1/20\n",
      "368/368 [==============================] - 5s 5ms/step - loss: 0.1547 - mean_absolute_error: 0.2440 - val_loss: 0.0986 - val_mean_absolute_error: 0.1852\n",
      "Epoch 2/20\n",
      "368/368 [==============================] - 2s 4ms/step - loss: 0.1312 - mean_absolute_error: 0.2254 - val_loss: 0.0980 - val_mean_absolute_error: 0.1900\n",
      "Epoch 3/20\n",
      "368/368 [==============================] - 2s 4ms/step - loss: 0.1296 - mean_absolute_error: 0.2237 - val_loss: 0.0975 - val_mean_absolute_error: 0.1944\n",
      "Epoch 4/20\n",
      "368/368 [==============================] - 2s 5ms/step - loss: 0.1299 - mean_absolute_error: 0.2244 - val_loss: 0.0977 - val_mean_absolute_error: 0.1897\n",
      "Epoch 5/20\n",
      "368/368 [==============================] - 2s 4ms/step - loss: 0.1302 - mean_absolute_error: 0.2244 - val_loss: 0.0982 - val_mean_absolute_error: 0.1947\n",
      "***TRAIN***:\n",
      "correlation related to cluster centre: 0.94\n",
      "r2 score related to cluster centre: 0.87\n",
      "***VALIDATION***:\n",
      "correlation related to cluster centre: 0.94\n",
      "r2 score related to cluster centre: 0.87\n"
     ]
    },
    {
     "data": {
      "application/vnd.jupyter.widget-view+json": {
       "model_id": "8b1c20e4f6324147940b19084b80d83b",
       "version_major": 2,
       "version_minor": 0
      },
      "text/plain": [
       "IntProgress(value=0, max=217)"
      ]
     },
     "metadata": {},
     "output_type": "display_data"
    },
    {
     "name": "stdout",
     "output_type": "stream",
     "text": [
      "***VALIDATION***:\n",
      "average correlation: 0.89\n",
      "average r2: 0.68\n",
      "---do_investigations. cluster index : 15---\n"
     ]
    },
    {
     "data": {
      "application/vnd.jupyter.widget-view+json": {
       "model_id": "d325f55369e04b5a87f267dfd2f382f8",
       "version_major": 2,
       "version_minor": 0
      },
      "text/plain": [
       "IntProgress(value=0, max=47)"
      ]
     },
     "metadata": {},
     "output_type": "display_data"
    },
    {
     "name": "stdout",
     "output_type": "stream",
     "text": [
      "Epoch 1/20\n",
      "368/368 [==============================] - 4s 6ms/step - loss: 0.2482 - mean_absolute_error: 0.3260 - val_loss: 0.1661 - val_mean_absolute_error: 0.2746\n",
      "Epoch 2/20\n",
      "368/368 [==============================] - 2s 4ms/step - loss: 0.2075 - mean_absolute_error: 0.3064 - val_loss: 0.1711 - val_mean_absolute_error: 0.2759\n",
      "Epoch 3/20\n",
      "368/368 [==============================] - 2s 5ms/step - loss: 0.2035 - mean_absolute_error: 0.3033 - val_loss: 0.1645 - val_mean_absolute_error: 0.2633\n",
      "Epoch 4/20\n",
      "368/368 [==============================] - 2s 5ms/step - loss: 0.2052 - mean_absolute_error: 0.3053 - val_loss: 0.1676 - val_mean_absolute_error: 0.2732\n",
      "Epoch 5/20\n",
      "368/368 [==============================] - 2s 5ms/step - loss: 0.2033 - mean_absolute_error: 0.3036 - val_loss: 0.1644 - val_mean_absolute_error: 0.2660\n",
      "Epoch 6/20\n",
      "368/368 [==============================] - 2s 4ms/step - loss: 0.2050 - mean_absolute_error: 0.3064 - val_loss: 0.1645 - val_mean_absolute_error: 0.2649\n",
      "Epoch 7/20\n",
      "368/368 [==============================] - 2s 4ms/step - loss: 0.2038 - mean_absolute_error: 0.3035 - val_loss: 0.1671 - val_mean_absolute_error: 0.2728\n",
      "***TRAIN***:\n",
      "correlation related to cluster centre: 0.90\n",
      "r2 score related to cluster centre: 0.80\n",
      "***VALIDATION***:\n",
      "correlation related to cluster centre: 0.90\n",
      "r2 score related to cluster centre: 0.81\n"
     ]
    },
    {
     "data": {
      "application/vnd.jupyter.widget-view+json": {
       "model_id": "4efd17d1c8394480ad119d6b2fb7a317",
       "version_major": 2,
       "version_minor": 0
      },
      "text/plain": [
       "IntProgress(value=0, max=47)"
      ]
     },
     "metadata": {},
     "output_type": "display_data"
    },
    {
     "name": "stdout",
     "output_type": "stream",
     "text": [
      "***VALIDATION***:\n",
      "average correlation: 0.90\n",
      "average r2: 0.80\n",
      "---do_investigations. cluster index : 16---\n"
     ]
    },
    {
     "data": {
      "application/vnd.jupyter.widget-view+json": {
       "model_id": "e64fb7cbd4634eb283f7218f3ae4f7a6",
       "version_major": 2,
       "version_minor": 0
      },
      "text/plain": [
       "IntProgress(value=0, max=385)"
      ]
     },
     "metadata": {},
     "output_type": "display_data"
    },
    {
     "name": "stdout",
     "output_type": "stream",
     "text": [
      "Epoch 1/20\n",
      "368/368 [==============================] - 4s 6ms/step - loss: 0.0288 - mean_absolute_error: 0.0857 - val_loss: 0.0219 - val_mean_absolute_error: 0.0735\n",
      "Epoch 2/20\n",
      "368/368 [==============================] - 2s 5ms/step - loss: 0.0117 - mean_absolute_error: 0.0579 - val_loss: 0.0200 - val_mean_absolute_error: 0.0645\n",
      "Epoch 3/20\n",
      "368/368 [==============================] - 2s 5ms/step - loss: 0.0113 - mean_absolute_error: 0.0563 - val_loss: 0.0204 - val_mean_absolute_error: 0.0739\n",
      "Epoch 4/20\n",
      "368/368 [==============================] - 2s 5ms/step - loss: 0.0113 - mean_absolute_error: 0.0569 - val_loss: 0.0192 - val_mean_absolute_error: 0.0639\n",
      "Epoch 5/20\n",
      "368/368 [==============================] - 2s 5ms/step - loss: 0.0112 - mean_absolute_error: 0.0571 - val_loss: 0.0196 - val_mean_absolute_error: 0.0664\n",
      "Epoch 6/20\n",
      "368/368 [==============================] - 2s 5ms/step - loss: 0.0113 - mean_absolute_error: 0.0576 - val_loss: 0.0207 - val_mean_absolute_error: 0.0737\n",
      "***TRAIN***:\n",
      "correlation related to cluster centre: 0.99\n",
      "r2 score related to cluster centre: 0.99\n",
      "***VALIDATION***:\n",
      "correlation related to cluster centre: 0.98\n",
      "r2 score related to cluster centre: 0.95\n"
     ]
    },
    {
     "data": {
      "application/vnd.jupyter.widget-view+json": {
       "model_id": "c226b187475a41168c4f6834b575d4d5",
       "version_major": 2,
       "version_minor": 0
      },
      "text/plain": [
       "IntProgress(value=0, max=385)"
      ]
     },
     "metadata": {},
     "output_type": "display_data"
    },
    {
     "name": "stdout",
     "output_type": "stream",
     "text": [
      "***VALIDATION***:\n",
      "average correlation: 0.87\n",
      "average r2: 0.73\n",
      "---do_investigations. cluster index : 17---\n"
     ]
    },
    {
     "data": {
      "application/vnd.jupyter.widget-view+json": {
       "model_id": "9736adbb13b747e7ae30d2f23687a6ab",
       "version_major": 2,
       "version_minor": 0
      },
      "text/plain": [
       "IntProgress(value=0, max=357)"
      ]
     },
     "metadata": {},
     "output_type": "display_data"
    },
    {
     "name": "stdout",
     "output_type": "stream",
     "text": [
      "Epoch 1/20\n",
      "368/368 [==============================] - 6s 6ms/step - loss: 0.2407 - mean_absolute_error: 0.2926 - val_loss: 0.2733 - val_mean_absolute_error: 0.2733\n",
      "Epoch 2/20\n",
      "368/368 [==============================] - 2s 5ms/step - loss: 0.2094 - mean_absolute_error: 0.2738 - val_loss: 0.2683 - val_mean_absolute_error: 0.2691\n",
      "Epoch 3/20\n",
      "368/368 [==============================] - 2s 5ms/step - loss: 0.2083 - mean_absolute_error: 0.2733 - val_loss: 0.2658 - val_mean_absolute_error: 0.2783\n",
      "Epoch 4/20\n",
      "368/368 [==============================] - 2s 5ms/step - loss: 0.2068 - mean_absolute_error: 0.2725 - val_loss: 0.2649 - val_mean_absolute_error: 0.2738\n",
      "Epoch 5/20\n",
      "368/368 [==============================] - 2s 5ms/step - loss: 0.2046 - mean_absolute_error: 0.2708 - val_loss: 0.2621 - val_mean_absolute_error: 0.2730\n",
      "Epoch 6/20\n",
      "368/368 [==============================] - 2s 5ms/step - loss: 0.2053 - mean_absolute_error: 0.2700 - val_loss: 0.2625 - val_mean_absolute_error: 0.2703\n",
      "Epoch 7/20\n",
      "368/368 [==============================] - 2s 5ms/step - loss: 0.2054 - mean_absolute_error: 0.2711 - val_loss: 0.2609 - val_mean_absolute_error: 0.2727\n",
      "Epoch 8/20\n",
      "368/368 [==============================] - 2s 5ms/step - loss: 0.2045 - mean_absolute_error: 0.2709 - val_loss: 0.2609 - val_mean_absolute_error: 0.2706\n",
      "Epoch 9/20\n",
      "368/368 [==============================] - 2s 5ms/step - loss: 0.2041 - mean_absolute_error: 0.2700 - val_loss: 0.2598 - val_mean_absolute_error: 0.2737\n",
      "Epoch 10/20\n",
      "368/368 [==============================] - 2s 5ms/step - loss: 0.2034 - mean_absolute_error: 0.2707 - val_loss: 0.2628 - val_mean_absolute_error: 0.2693\n",
      "Epoch 11/20\n",
      "368/368 [==============================] - 2s 5ms/step - loss: 0.2034 - mean_absolute_error: 0.2699 - val_loss: 0.2641 - val_mean_absolute_error: 0.2679\n",
      "***TRAIN***:\n",
      "correlation related to cluster centre: 0.90\n",
      "r2 score related to cluster centre: 0.80\n",
      "***VALIDATION***:\n",
      "correlation related to cluster centre: 0.90\n",
      "r2 score related to cluster centre: 0.80\n"
     ]
    },
    {
     "data": {
      "application/vnd.jupyter.widget-view+json": {
       "model_id": "6e0b11a895804f2baf9cd435ed8a6d95",
       "version_major": 2,
       "version_minor": 0
      },
      "text/plain": [
       "IntProgress(value=0, max=357)"
      ]
     },
     "metadata": {},
     "output_type": "display_data"
    },
    {
     "name": "stdout",
     "output_type": "stream",
     "text": [
      "***VALIDATION***:\n",
      "average correlation: 0.87\n",
      "average r2: 0.75\n",
      "---do_investigations. cluster index : 18---\n"
     ]
    },
    {
     "data": {
      "application/vnd.jupyter.widget-view+json": {
       "model_id": "1f6659f7eee94c21986ca9b553b46888",
       "version_major": 2,
       "version_minor": 0
      },
      "text/plain": [
       "IntProgress(value=0, max=169)"
      ]
     },
     "metadata": {},
     "output_type": "display_data"
    },
    {
     "name": "stdout",
     "output_type": "stream",
     "text": [
      "Epoch 1/20\n",
      "368/368 [==============================] - 5s 6ms/step - loss: 0.2385 - mean_absolute_error: 0.3056 - val_loss: 0.1530 - val_mean_absolute_error: 0.2371\n",
      "Epoch 2/20\n",
      "368/368 [==============================] - 2s 5ms/step - loss: 0.2045 - mean_absolute_error: 0.2879 - val_loss: 0.1562 - val_mean_absolute_error: 0.2486\n",
      "Epoch 3/20\n",
      "368/368 [==============================] - 2s 5ms/step - loss: 0.2039 - mean_absolute_error: 0.2892 - val_loss: 0.1514 - val_mean_absolute_error: 0.2450\n",
      "Epoch 4/20\n",
      "368/368 [==============================] - 2s 5ms/step - loss: 0.2025 - mean_absolute_error: 0.2871 - val_loss: 0.1488 - val_mean_absolute_error: 0.2465\n",
      "Epoch 5/20\n",
      "368/368 [==============================] - 2s 5ms/step - loss: 0.2021 - mean_absolute_error: 0.2876 - val_loss: 0.1488 - val_mean_absolute_error: 0.2423\n",
      "Epoch 6/20\n",
      "368/368 [==============================] - 2s 5ms/step - loss: 0.2017 - mean_absolute_error: 0.2878 - val_loss: 0.1501 - val_mean_absolute_error: 0.2496\n",
      "***TRAIN***:\n",
      "correlation related to cluster centre: 0.90\n",
      "r2 score related to cluster centre: 0.80\n",
      "***VALIDATION***:\n",
      "correlation related to cluster centre: 0.90\n",
      "r2 score related to cluster centre: 0.81\n"
     ]
    },
    {
     "data": {
      "application/vnd.jupyter.widget-view+json": {
       "model_id": "d41bf3096d534fb1be21b788b664ffbd",
       "version_major": 2,
       "version_minor": 0
      },
      "text/plain": [
       "IntProgress(value=0, max=169)"
      ]
     },
     "metadata": {},
     "output_type": "display_data"
    },
    {
     "name": "stdout",
     "output_type": "stream",
     "text": [
      "***VALIDATION***:\n",
      "average correlation: 0.89\n",
      "average r2: 0.75\n",
      "---do_investigations. cluster index : 19---\n"
     ]
    },
    {
     "data": {
      "application/vnd.jupyter.widget-view+json": {
       "model_id": "cdb5b1e4c77c42ebb88d0f592aede2e8",
       "version_major": 2,
       "version_minor": 0
      },
      "text/plain": [
       "IntProgress(value=0, max=118)"
      ]
     },
     "metadata": {},
     "output_type": "display_data"
    },
    {
     "name": "stdout",
     "output_type": "stream",
     "text": [
      "Epoch 1/20\n",
      "368/368 [==============================] - 5s 6ms/step - loss: 0.2185 - mean_absolute_error: 0.3076 - val_loss: 0.1480 - val_mean_absolute_error: 0.2441\n",
      "Epoch 2/20\n",
      "368/368 [==============================] - 2s 5ms/step - loss: 0.1804 - mean_absolute_error: 0.2775 - val_loss: 0.1483 - val_mean_absolute_error: 0.2558\n",
      "Epoch 3/20\n",
      "368/368 [==============================] - 2s 5ms/step - loss: 0.1787 - mean_absolute_error: 0.2756 - val_loss: 0.1434 - val_mean_absolute_error: 0.2449\n",
      "Epoch 4/20\n",
      "368/368 [==============================] - 2s 5ms/step - loss: 0.1791 - mean_absolute_error: 0.2771 - val_loss: 0.1516 - val_mean_absolute_error: 0.2551\n",
      "Epoch 5/20\n",
      "368/368 [==============================] - 2s 5ms/step - loss: 0.1786 - mean_absolute_error: 0.2757 - val_loss: 0.1459 - val_mean_absolute_error: 0.2483\n",
      "***TRAIN***:\n",
      "correlation related to cluster centre: 0.91\n",
      "r2 score related to cluster centre: 0.82\n",
      "***VALIDATION***:\n",
      "correlation related to cluster centre: 0.92\n",
      "r2 score related to cluster centre: 0.84\n"
     ]
    },
    {
     "data": {
      "application/vnd.jupyter.widget-view+json": {
       "model_id": "74baa1e8809b44a2ae6e390daa2795b7",
       "version_major": 2,
       "version_minor": 0
      },
      "text/plain": [
       "IntProgress(value=0, max=118)"
      ]
     },
     "metadata": {},
     "output_type": "display_data"
    },
    {
     "name": "stdout",
     "output_type": "stream",
     "text": [
      "***VALIDATION***:\n",
      "average correlation: 0.90\n",
      "average r2: 0.80\n",
      "---do_investigations. cluster index : 20---\n"
     ]
    },
    {
     "data": {
      "application/vnd.jupyter.widget-view+json": {
       "model_id": "3f259328d9644f74ac1f459d5bbe6a91",
       "version_major": 2,
       "version_minor": 0
      },
      "text/plain": [
       "IntProgress(value=0, max=17)"
      ]
     },
     "metadata": {},
     "output_type": "display_data"
    },
    {
     "name": "stdout",
     "output_type": "stream",
     "text": [
      "Epoch 1/20\n",
      "368/368 [==============================] - 6s 7ms/step - loss: 0.2470 - mean_absolute_error: 0.3091 - val_loss: 0.2240 - val_mean_absolute_error: 0.2833\n",
      "Epoch 2/20\n",
      "368/368 [==============================] - 2s 5ms/step - loss: 0.2084 - mean_absolute_error: 0.2839 - val_loss: 0.2218 - val_mean_absolute_error: 0.2851\n",
      "Epoch 3/20\n",
      "368/368 [==============================] - 2s 5ms/step - loss: 0.2053 - mean_absolute_error: 0.2834 - val_loss: 0.2216 - val_mean_absolute_error: 0.2867\n",
      "Epoch 4/20\n",
      "368/368 [==============================] - 2s 5ms/step - loss: 0.2076 - mean_absolute_error: 0.2838 - val_loss: 0.2204 - val_mean_absolute_error: 0.2750\n",
      "Epoch 5/20\n",
      "368/368 [==============================] - 2s 5ms/step - loss: 0.2055 - mean_absolute_error: 0.2825 - val_loss: 0.2208 - val_mean_absolute_error: 0.2750\n",
      "Epoch 6/20\n",
      "368/368 [==============================] - 2s 5ms/step - loss: 0.2049 - mean_absolute_error: 0.2818 - val_loss: 0.2221 - val_mean_absolute_error: 0.2796\n",
      "***TRAIN***:\n",
      "correlation related to cluster centre: 0.89\n",
      "r2 score related to cluster centre: 0.80\n",
      "***VALIDATION***:\n",
      "correlation related to cluster centre: 0.90\n",
      "r2 score related to cluster centre: 0.80\n"
     ]
    },
    {
     "data": {
      "application/vnd.jupyter.widget-view+json": {
       "model_id": "cc123bf9f3fe42b18f7daf267651fc1c",
       "version_major": 2,
       "version_minor": 0
      },
      "text/plain": [
       "IntProgress(value=0, max=17)"
      ]
     },
     "metadata": {},
     "output_type": "display_data"
    },
    {
     "name": "stdout",
     "output_type": "stream",
     "text": [
      "***VALIDATION***:\n",
      "average correlation: 0.90\n",
      "average r2: 0.80\n",
      "---do_investigations. cluster index : 21---\n"
     ]
    },
    {
     "data": {
      "application/vnd.jupyter.widget-view+json": {
       "model_id": "f1f302bc50014193aae26a7f061b4368",
       "version_major": 2,
       "version_minor": 0
      },
      "text/plain": [
       "IntProgress(value=0, max=51)"
      ]
     },
     "metadata": {},
     "output_type": "display_data"
    },
    {
     "name": "stdout",
     "output_type": "stream",
     "text": [
      "Epoch 1/20\n",
      "368/368 [==============================] - 5s 6ms/step - loss: 0.2529 - mean_absolute_error: 0.2981 - val_loss: 0.2738 - val_mean_absolute_error: 0.2868\n",
      "Epoch 2/20\n",
      "368/368 [==============================] - 2s 5ms/step - loss: 0.2128 - mean_absolute_error: 0.2759 - val_loss: 0.2691 - val_mean_absolute_error: 0.2912\n",
      "Epoch 3/20\n",
      "368/368 [==============================] - 2s 5ms/step - loss: 0.2117 - mean_absolute_error: 0.2744 - val_loss: 0.2682 - val_mean_absolute_error: 0.2820\n",
      "Epoch 4/20\n",
      "368/368 [==============================] - 2s 5ms/step - loss: 0.2091 - mean_absolute_error: 0.2725 - val_loss: 0.2640 - val_mean_absolute_error: 0.2838\n",
      "Epoch 5/20\n",
      "368/368 [==============================] - 2s 5ms/step - loss: 0.2113 - mean_absolute_error: 0.2746 - val_loss: 0.2680 - val_mean_absolute_error: 0.2934\n",
      "Epoch 6/20\n",
      "368/368 [==============================] - 2s 5ms/step - loss: 0.2084 - mean_absolute_error: 0.2730 - val_loss: 0.2630 - val_mean_absolute_error: 0.2819\n",
      "Epoch 7/20\n",
      "368/368 [==============================] - 2s 5ms/step - loss: 0.2110 - mean_absolute_error: 0.2731 - val_loss: 0.2636 - val_mean_absolute_error: 0.2799\n",
      "Epoch 8/20\n",
      "368/368 [==============================] - 2s 5ms/step - loss: 0.2104 - mean_absolute_error: 0.2738 - val_loss: 0.2681 - val_mean_absolute_error: 0.2764\n",
      "***TRAIN***:\n",
      "correlation related to cluster centre: 0.89\n",
      "r2 score related to cluster centre: 0.80\n",
      "***VALIDATION***:\n",
      "correlation related to cluster centre: 0.89\n",
      "r2 score related to cluster centre: 0.80\n"
     ]
    },
    {
     "data": {
      "application/vnd.jupyter.widget-view+json": {
       "model_id": "6a3f04491bef4fc3966970493bb30e89",
       "version_major": 2,
       "version_minor": 0
      },
      "text/plain": [
       "IntProgress(value=0, max=51)"
      ]
     },
     "metadata": {},
     "output_type": "display_data"
    },
    {
     "name": "stdout",
     "output_type": "stream",
     "text": [
      "***VALIDATION***:\n",
      "average correlation: 0.89\n",
      "average r2: 0.79\n",
      "---do_investigations. cluster index : 22---\n"
     ]
    },
    {
     "data": {
      "application/vnd.jupyter.widget-view+json": {
       "model_id": "b7ca0f88cb4040679ec0fbaa9b083f96",
       "version_major": 2,
       "version_minor": 0
      },
      "text/plain": [
       "IntProgress(value=0, max=67)"
      ]
     },
     "metadata": {},
     "output_type": "display_data"
    },
    {
     "name": "stdout",
     "output_type": "stream",
     "text": [
      "Epoch 1/20\n",
      "368/368 [==============================] - 5s 6ms/step - loss: 0.2518 - mean_absolute_error: 0.3428 - val_loss: 0.2067 - val_mean_absolute_error: 0.2949\n",
      "Epoch 2/20\n",
      "368/368 [==============================] - 2s 5ms/step - loss: 0.2063 - mean_absolute_error: 0.3112 - val_loss: 0.2181 - val_mean_absolute_error: 0.3063\n",
      "Epoch 3/20\n",
      "368/368 [==============================] - 2s 5ms/step - loss: 0.2047 - mean_absolute_error: 0.3106 - val_loss: 0.2142 - val_mean_absolute_error: 0.3046\n",
      "***TRAIN***:\n",
      "correlation related to cluster centre: 0.89\n",
      "r2 score related to cluster centre: 0.79\n",
      "***VALIDATION***:\n",
      "correlation related to cluster centre: 0.90\n",
      "r2 score related to cluster centre: 0.80\n"
     ]
    },
    {
     "data": {
      "application/vnd.jupyter.widget-view+json": {
       "model_id": "0df616fc6ffc46d4a4c23162e2452e64",
       "version_major": 2,
       "version_minor": 0
      },
      "text/plain": [
       "IntProgress(value=0, max=67)"
      ]
     },
     "metadata": {},
     "output_type": "display_data"
    },
    {
     "name": "stdout",
     "output_type": "stream",
     "text": [
      "***VALIDATION***:\n",
      "average correlation: 0.90\n",
      "average r2: 0.77\n",
      "---do_investigations. cluster index : 23---\n"
     ]
    },
    {
     "data": {
      "application/vnd.jupyter.widget-view+json": {
       "model_id": "9827d01e7c6b4bfdab22ea010726c415",
       "version_major": 2,
       "version_minor": 0
      },
      "text/plain": [
       "IntProgress(value=0, max=34)"
      ]
     },
     "metadata": {},
     "output_type": "display_data"
    },
    {
     "name": "stdout",
     "output_type": "stream",
     "text": [
      "Epoch 1/20\n",
      "368/368 [==============================] - 5s 6ms/step - loss: 0.2590 - mean_absolute_error: 0.3027 - val_loss: 0.2755 - val_mean_absolute_error: 0.2822\n",
      "Epoch 2/20\n",
      "368/368 [==============================] - 2s 5ms/step - loss: 0.2111 - mean_absolute_error: 0.2737 - val_loss: 0.2699 - val_mean_absolute_error: 0.2990\n",
      "Epoch 3/20\n",
      "368/368 [==============================] - 2s 5ms/step - loss: 0.2112 - mean_absolute_error: 0.2728 - val_loss: 0.2704 - val_mean_absolute_error: 0.2846\n",
      "Epoch 4/20\n",
      "368/368 [==============================] - 2s 5ms/step - loss: 0.2109 - mean_absolute_error: 0.2743 - val_loss: 0.2694 - val_mean_absolute_error: 0.2717\n",
      "Epoch 5/20\n",
      "368/368 [==============================] - 2s 5ms/step - loss: 0.2082 - mean_absolute_error: 0.2721 - val_loss: 0.2660 - val_mean_absolute_error: 0.3005\n",
      "Epoch 6/20\n",
      "368/368 [==============================] - 2s 5ms/step - loss: 0.2100 - mean_absolute_error: 0.2724 - val_loss: 0.2664 - val_mean_absolute_error: 0.2777\n",
      "Epoch 7/20\n",
      "368/368 [==============================] - 2s 5ms/step - loss: 0.2102 - mean_absolute_error: 0.2724 - val_loss: 0.2651 - val_mean_absolute_error: 0.2945\n",
      "Epoch 8/20\n",
      "368/368 [==============================] - 2s 5ms/step - loss: 0.2080 - mean_absolute_error: 0.2715 - val_loss: 0.2687 - val_mean_absolute_error: 0.3105\n",
      "Epoch 9/20\n",
      "368/368 [==============================] - 2s 5ms/step - loss: 0.2090 - mean_absolute_error: 0.2725 - val_loss: 0.2665 - val_mean_absolute_error: 0.2937\n",
      "***TRAIN***:\n",
      "correlation related to cluster centre: 0.89\n",
      "r2 score related to cluster centre: 0.79\n",
      "***VALIDATION***:\n",
      "correlation related to cluster centre: 0.89\n",
      "r2 score related to cluster centre: 0.80\n"
     ]
    },
    {
     "data": {
      "application/vnd.jupyter.widget-view+json": {
       "model_id": "cf99420b6d8846e9b7091a0c579be3b8",
       "version_major": 2,
       "version_minor": 0
      },
      "text/plain": [
       "IntProgress(value=0, max=34)"
      ]
     },
     "metadata": {},
     "output_type": "display_data"
    },
    {
     "name": "stdout",
     "output_type": "stream",
     "text": [
      "***VALIDATION***:\n",
      "average correlation: 0.89\n",
      "average r2: 0.80\n",
      "---do_investigations. cluster index : 24---\n"
     ]
    },
    {
     "data": {
      "application/vnd.jupyter.widget-view+json": {
       "model_id": "6c35afad4a64462983dd153edced0712",
       "version_major": 2,
       "version_minor": 0
      },
      "text/plain": [
       "IntProgress(value=0, max=12)"
      ]
     },
     "metadata": {},
     "output_type": "display_data"
    },
    {
     "name": "stdout",
     "output_type": "stream",
     "text": [
      "Epoch 1/20\n",
      "368/368 [==============================] - 5s 6ms/step - loss: 0.2415 - mean_absolute_error: 0.3413 - val_loss: 0.2021 - val_mean_absolute_error: 0.3166\n",
      "Epoch 2/20\n",
      "368/368 [==============================] - 2s 5ms/step - loss: 0.2090 - mean_absolute_error: 0.3150 - val_loss: 0.2057 - val_mean_absolute_error: 0.3178\n",
      "Epoch 3/20\n",
      "368/368 [==============================] - 2s 5ms/step - loss: 0.2068 - mean_absolute_error: 0.3142 - val_loss: 0.2218 - val_mean_absolute_error: 0.3340\n",
      "***TRAIN***:\n",
      "correlation related to cluster centre: 0.89\n",
      "r2 score related to cluster centre: 0.78\n",
      "***VALIDATION***:\n",
      "correlation related to cluster centre: 0.90\n",
      "r2 score related to cluster centre: 0.79\n"
     ]
    },
    {
     "data": {
      "application/vnd.jupyter.widget-view+json": {
       "model_id": "48da8b45294e41069e22f672ab83e172",
       "version_major": 2,
       "version_minor": 0
      },
      "text/plain": [
       "IntProgress(value=0, max=12)"
      ]
     },
     "metadata": {},
     "output_type": "display_data"
    },
    {
     "name": "stdout",
     "output_type": "stream",
     "text": [
      "***VALIDATION***:\n",
      "average correlation: 0.90\n",
      "average r2: 0.78\n",
      "---do_investigations. cluster index : 25---\n"
     ]
    },
    {
     "data": {
      "application/vnd.jupyter.widget-view+json": {
       "model_id": "4c2e27500c814b04870050cbaf752da8",
       "version_major": 2,
       "version_minor": 0
      },
      "text/plain": [
       "IntProgress(value=0, max=185)"
      ]
     },
     "metadata": {},
     "output_type": "display_data"
    },
    {
     "name": "stdout",
     "output_type": "stream",
     "text": [
      "Epoch 1/20\n",
      "368/368 [==============================] - 5s 6ms/step - loss: 0.0918 - mean_absolute_error: 0.1848 - val_loss: 0.0707 - val_mean_absolute_error: 0.1585\n",
      "Epoch 2/20\n",
      "368/368 [==============================] - 2s 5ms/step - loss: 0.0687 - mean_absolute_error: 0.1615 - val_loss: 0.0668 - val_mean_absolute_error: 0.1608\n",
      "Epoch 3/20\n",
      "368/368 [==============================] - 2s 5ms/step - loss: 0.0690 - mean_absolute_error: 0.1611 - val_loss: 0.0733 - val_mean_absolute_error: 0.1882\n",
      "Epoch 4/20\n",
      "368/368 [==============================] - 2s 5ms/step - loss: 0.0687 - mean_absolute_error: 0.1616 - val_loss: 0.0694 - val_mean_absolute_error: 0.1670\n",
      "***TRAIN***:\n",
      "correlation related to cluster centre: 0.97\n",
      "r2 score related to cluster centre: 0.93\n",
      "***VALIDATION***:\n",
      "correlation related to cluster centre: 0.95\n",
      "r2 score related to cluster centre: 0.89\n"
     ]
    },
    {
     "data": {
      "application/vnd.jupyter.widget-view+json": {
       "model_id": "62467f3cd50a4955be7ff59b4ef23fe1",
       "version_major": 2,
       "version_minor": 0
      },
      "text/plain": [
       "IntProgress(value=0, max=185)"
      ]
     },
     "metadata": {},
     "output_type": "display_data"
    },
    {
     "name": "stdout",
     "output_type": "stream",
     "text": [
      "***VALIDATION***:\n",
      "average correlation: 0.90\n",
      "average r2: 0.78\n",
      "---do_investigations. cluster index : 26---\n"
     ]
    },
    {
     "data": {
      "application/vnd.jupyter.widget-view+json": {
       "model_id": "5468a6c39f804e759a3f159b6d381156",
       "version_major": 2,
       "version_minor": 0
      },
      "text/plain": [
       "IntProgress(value=0, max=16)"
      ]
     },
     "metadata": {},
     "output_type": "display_data"
    },
    {
     "name": "stdout",
     "output_type": "stream",
     "text": [
      "Epoch 1/20\n",
      "368/368 [==============================] - 4s 6ms/step - loss: 0.2458 - mean_absolute_error: 0.2502 - val_loss: 0.6787 - val_mean_absolute_error: 0.3761\n",
      "Epoch 2/20\n",
      "368/368 [==============================] - 2s 5ms/step - loss: 0.2060 - mean_absolute_error: 0.2312 - val_loss: 0.5713 - val_mean_absolute_error: 0.3563\n",
      "Epoch 3/20\n",
      "368/368 [==============================] - 2s 5ms/step - loss: 0.2033 - mean_absolute_error: 0.2285 - val_loss: 0.5471 - val_mean_absolute_error: 0.3254\n",
      "Epoch 4/20\n",
      "368/368 [==============================] - 2s 5ms/step - loss: 0.2036 - mean_absolute_error: 0.2297 - val_loss: 0.5043 - val_mean_absolute_error: 0.3271\n",
      "Epoch 5/20\n",
      "368/368 [==============================] - 2s 5ms/step - loss: 0.1996 - mean_absolute_error: 0.2260 - val_loss: 0.4948 - val_mean_absolute_error: 0.3160\n",
      "Epoch 6/20\n",
      "368/368 [==============================] - 2s 5ms/step - loss: 0.2010 - mean_absolute_error: 0.2292 - val_loss: 0.5228 - val_mean_absolute_error: 0.3289\n",
      "Epoch 7/20\n",
      "368/368 [==============================] - 2s 5ms/step - loss: 0.1978 - mean_absolute_error: 0.2290 - val_loss: 0.5523 - val_mean_absolute_error: 0.3464\n",
      "***TRAIN***:\n",
      "correlation related to cluster centre: 0.89\n",
      "r2 score related to cluster centre: 0.77\n",
      "***VALIDATION***:\n",
      "correlation related to cluster centre: 0.89\n",
      "r2 score related to cluster centre: 0.74\n"
     ]
    },
    {
     "data": {
      "application/vnd.jupyter.widget-view+json": {
       "model_id": "a8ef0a73518c42a480b2e3e3f6fde010",
       "version_major": 2,
       "version_minor": 0
      },
      "text/plain": [
       "IntProgress(value=0, max=16)"
      ]
     },
     "metadata": {},
     "output_type": "display_data"
    },
    {
     "name": "stdout",
     "output_type": "stream",
     "text": [
      "***VALIDATION***:\n",
      "average correlation: 0.89\n",
      "average r2: 0.74\n",
      "---do_investigations. cluster index : 27---\n"
     ]
    },
    {
     "data": {
      "application/vnd.jupyter.widget-view+json": {
       "model_id": "850a5de18376409f81213f6c7e757556",
       "version_major": 2,
       "version_minor": 0
      },
      "text/plain": [
       "IntProgress(value=0, max=17)"
      ]
     },
     "metadata": {},
     "output_type": "display_data"
    },
    {
     "name": "stdout",
     "output_type": "stream",
     "text": [
      "Epoch 1/20\n",
      "368/368 [==============================] - 4s 6ms/step - loss: 0.2354 - mean_absolute_error: 0.2983 - val_loss: 0.2673 - val_mean_absolute_error: 0.2909\n",
      "Epoch 2/20\n",
      "368/368 [==============================] - 2s 5ms/step - loss: 0.2111 - mean_absolute_error: 0.2790 - val_loss: 0.2652 - val_mean_absolute_error: 0.2794\n",
      "Epoch 3/20\n",
      "368/368 [==============================] - 2s 5ms/step - loss: 0.2107 - mean_absolute_error: 0.2794 - val_loss: 0.2659 - val_mean_absolute_error: 0.2803\n",
      "Epoch 4/20\n",
      "368/368 [==============================] - 2s 5ms/step - loss: 0.2102 - mean_absolute_error: 0.2775 - val_loss: 0.2624 - val_mean_absolute_error: 0.2894\n",
      "Epoch 5/20\n",
      "368/368 [==============================] - 2s 5ms/step - loss: 0.2086 - mean_absolute_error: 0.2778 - val_loss: 0.2612 - val_mean_absolute_error: 0.2864\n",
      "Epoch 6/20\n",
      "368/368 [==============================] - 2s 5ms/step - loss: 0.2072 - mean_absolute_error: 0.2761 - val_loss: 0.2647 - val_mean_absolute_error: 0.2899\n",
      "Epoch 7/20\n",
      "368/368 [==============================] - 2s 5ms/step - loss: 0.2074 - mean_absolute_error: 0.2771 - val_loss: 0.2619 - val_mean_absolute_error: 0.2887\n",
      "***TRAIN***:\n",
      "correlation related to cluster centre: 0.89\n",
      "r2 score related to cluster centre: 0.79\n",
      "***VALIDATION***:\n",
      "correlation related to cluster centre: 0.90\n",
      "r2 score related to cluster centre: 0.80\n"
     ]
    },
    {
     "data": {
      "application/vnd.jupyter.widget-view+json": {
       "model_id": "a62aad4d7c414a3f9f0632cc0a411bcf",
       "version_major": 2,
       "version_minor": 0
      },
      "text/plain": [
       "IntProgress(value=0, max=17)"
      ]
     },
     "metadata": {},
     "output_type": "display_data"
    },
    {
     "name": "stdout",
     "output_type": "stream",
     "text": [
      "***VALIDATION***:\n",
      "average correlation: 0.90\n",
      "average r2: 0.80\n",
      "---do_investigations. cluster index : 28---\n"
     ]
    },
    {
     "data": {
      "application/vnd.jupyter.widget-view+json": {
       "model_id": "35007e291f2049a1bb5844e3ca12cdb1",
       "version_major": 2,
       "version_minor": 0
      },
      "text/plain": [
       "IntProgress(value=0, max=39)"
      ]
     },
     "metadata": {},
     "output_type": "display_data"
    },
    {
     "name": "stdout",
     "output_type": "stream",
     "text": [
      "Epoch 1/20\n",
      "368/368 [==============================] - 5s 6ms/step - loss: 0.2279 - mean_absolute_error: 0.3384 - val_loss: 0.2128 - val_mean_absolute_error: 0.3218\n",
      "Epoch 2/20\n",
      "368/368 [==============================] - 2s 5ms/step - loss: 0.2020 - mean_absolute_error: 0.3156 - val_loss: 0.2112 - val_mean_absolute_error: 0.3214\n",
      "Epoch 3/20\n",
      "368/368 [==============================] - 2s 5ms/step - loss: 0.2021 - mean_absolute_error: 0.3162 - val_loss: 0.2175 - val_mean_absolute_error: 0.3171\n",
      "Epoch 4/20\n",
      "368/368 [==============================] - 2s 5ms/step - loss: 0.1999 - mean_absolute_error: 0.3145 - val_loss: 0.2119 - val_mean_absolute_error: 0.3212\n",
      "***TRAIN***:\n",
      "correlation related to cluster centre: 0.90\n",
      "r2 score related to cluster centre: 0.80\n",
      "***VALIDATION***:\n",
      "correlation related to cluster centre: 0.90\n",
      "r2 score related to cluster centre: 0.81\n"
     ]
    },
    {
     "data": {
      "application/vnd.jupyter.widget-view+json": {
       "model_id": "b84efcd824094b629ebb57793f0a9938",
       "version_major": 2,
       "version_minor": 0
      },
      "text/plain": [
       "IntProgress(value=0, max=39)"
      ]
     },
     "metadata": {},
     "output_type": "display_data"
    },
    {
     "name": "stdout",
     "output_type": "stream",
     "text": [
      "***VALIDATION***:\n",
      "average correlation: 0.89\n",
      "average r2: 0.77\n",
      "---do_investigations. cluster index : 29---\n"
     ]
    },
    {
     "data": {
      "application/vnd.jupyter.widget-view+json": {
       "model_id": "b40d5f00016f4d5091f9944ad9208f78",
       "version_major": 2,
       "version_minor": 0
      },
      "text/plain": [
       "IntProgress(value=0, max=17)"
      ]
     },
     "metadata": {},
     "output_type": "display_data"
    },
    {
     "name": "stdout",
     "output_type": "stream",
     "text": [
      "Epoch 1/20\n",
      "368/368 [==============================] - 4s 6ms/step - loss: 0.2543 - mean_absolute_error: 0.2723 - val_loss: 0.5004 - val_mean_absolute_error: 0.3144\n",
      "Epoch 2/20\n",
      "368/368 [==============================] - 2s 5ms/step - loss: 0.2159 - mean_absolute_error: 0.2530 - val_loss: 0.4673 - val_mean_absolute_error: 0.3069\n",
      "Epoch 3/20\n",
      "368/368 [==============================] - 2s 5ms/step - loss: 0.2117 - mean_absolute_error: 0.2533 - val_loss: 0.4791 - val_mean_absolute_error: 0.3134\n",
      "Epoch 4/20\n",
      "368/368 [==============================] - 2s 5ms/step - loss: 0.2134 - mean_absolute_error: 0.2528 - val_loss: 0.4547 - val_mean_absolute_error: 0.3021\n",
      "Epoch 5/20\n",
      "368/368 [==============================] - 2s 5ms/step - loss: 0.2130 - mean_absolute_error: 0.2518 - val_loss: 0.4568 - val_mean_absolute_error: 0.3002\n",
      "Epoch 6/20\n",
      "368/368 [==============================] - 2s 5ms/step - loss: 0.2099 - mean_absolute_error: 0.2509 - val_loss: 0.4587 - val_mean_absolute_error: 0.3028\n",
      "***TRAIN***:\n",
      "correlation related to cluster centre: 0.89\n",
      "r2 score related to cluster centre: 0.78\n",
      "***VALIDATION***:\n",
      "correlation related to cluster centre: 0.88\n",
      "r2 score related to cluster centre: 0.78\n"
     ]
    },
    {
     "data": {
      "application/vnd.jupyter.widget-view+json": {
       "model_id": "e83587e150604b43aee0287bc9754b27",
       "version_major": 2,
       "version_minor": 0
      },
      "text/plain": [
       "IntProgress(value=0, max=17)"
      ]
     },
     "metadata": {},
     "output_type": "display_data"
    },
    {
     "name": "stdout",
     "output_type": "stream",
     "text": [
      "***VALIDATION***:\n",
      "average correlation: 0.87\n",
      "average r2: 0.76\n",
      "---do_investigations. cluster index : 30---\n"
     ]
    },
    {
     "data": {
      "application/vnd.jupyter.widget-view+json": {
       "model_id": "fdb014ac4ca8422fa4ec7a5b57f11ca6",
       "version_major": 2,
       "version_minor": 0
      },
      "text/plain": [
       "IntProgress(value=0, max=4)"
      ]
     },
     "metadata": {},
     "output_type": "display_data"
    },
    {
     "name": "stdout",
     "output_type": "stream",
     "text": [
      "Epoch 1/20\n",
      "368/368 [==============================] - 4s 6ms/step - loss: 0.2552 - mean_absolute_error: 0.2916 - val_loss: 0.4109 - val_mean_absolute_error: 0.3559\n",
      "Epoch 2/20\n",
      "368/368 [==============================] - 2s 5ms/step - loss: 0.2182 - mean_absolute_error: 0.2713 - val_loss: 0.3832 - val_mean_absolute_error: 0.3573\n",
      "Epoch 3/20\n",
      "368/368 [==============================] - 2s 5ms/step - loss: 0.2136 - mean_absolute_error: 0.2692 - val_loss: 0.3852 - val_mean_absolute_error: 0.3459\n",
      "Epoch 4/20\n",
      "368/368 [==============================] - 2s 5ms/step - loss: 0.2140 - mean_absolute_error: 0.2689 - val_loss: 0.3793 - val_mean_absolute_error: 0.3503\n",
      "Epoch 5/20\n",
      "368/368 [==============================] - 2s 5ms/step - loss: 0.2136 - mean_absolute_error: 0.2693 - val_loss: 0.3702 - val_mean_absolute_error: 0.3515\n",
      "Epoch 6/20\n",
      "368/368 [==============================] - 2s 5ms/step - loss: 0.2124 - mean_absolute_error: 0.2671 - val_loss: 0.3862 - val_mean_absolute_error: 0.3585\n",
      "Epoch 7/20\n",
      "368/368 [==============================] - 2s 5ms/step - loss: 0.2125 - mean_absolute_error: 0.2682 - val_loss: 0.3729 - val_mean_absolute_error: 0.3359\n",
      "***TRAIN***:\n",
      "correlation related to cluster centre: 0.89\n",
      "r2 score related to cluster centre: 0.79\n",
      "***VALIDATION***:\n",
      "correlation related to cluster centre: 0.89\n",
      "r2 score related to cluster centre: 0.79\n"
     ]
    },
    {
     "data": {
      "application/vnd.jupyter.widget-view+json": {
       "model_id": "c4d685ceaccc49fe90200d9f00b8582c",
       "version_major": 2,
       "version_minor": 0
      },
      "text/plain": [
       "IntProgress(value=0, max=4)"
      ]
     },
     "metadata": {},
     "output_type": "display_data"
    },
    {
     "name": "stdout",
     "output_type": "stream",
     "text": [
      "***VALIDATION***:\n",
      "average correlation: 0.89\n",
      "average r2: 0.79\n",
      "---do_investigations. cluster index : 31---\n"
     ]
    },
    {
     "data": {
      "application/vnd.jupyter.widget-view+json": {
       "model_id": "faa5ce210f1b4f15aef5ab55301db1c3",
       "version_major": 2,
       "version_minor": 0
      },
      "text/plain": [
       "IntProgress(value=0, max=67)"
      ]
     },
     "metadata": {},
     "output_type": "display_data"
    },
    {
     "name": "stdout",
     "output_type": "stream",
     "text": [
      "Epoch 1/20\n",
      "368/368 [==============================] - 4s 6ms/step - loss: 0.2222 - mean_absolute_error: 0.3153 - val_loss: 0.1652 - val_mean_absolute_error: 0.2638\n",
      "Epoch 2/20\n",
      "368/368 [==============================] - 2s 5ms/step - loss: 0.1899 - mean_absolute_error: 0.2880 - val_loss: 0.1651 - val_mean_absolute_error: 0.2704\n",
      "Epoch 3/20\n",
      "368/368 [==============================] - 2s 5ms/step - loss: 0.1892 - mean_absolute_error: 0.2879 - val_loss: 0.1654 - val_mean_absolute_error: 0.2636\n",
      "Epoch 4/20\n",
      "368/368 [==============================] - 2s 5ms/step - loss: 0.1875 - mean_absolute_error: 0.2861 - val_loss: 0.1638 - val_mean_absolute_error: 0.2625\n",
      "Epoch 5/20\n",
      "368/368 [==============================] - 2s 5ms/step - loss: 0.1882 - mean_absolute_error: 0.2871 - val_loss: 0.1636 - val_mean_absolute_error: 0.2628\n",
      "Epoch 6/20\n",
      "368/368 [==============================] - 2s 5ms/step - loss: 0.1878 - mean_absolute_error: 0.2859 - val_loss: 0.1643 - val_mean_absolute_error: 0.2641\n",
      "Epoch 7/20\n",
      "368/368 [==============================] - 2s 5ms/step - loss: 0.1880 - mean_absolute_error: 0.2863 - val_loss: 0.1669 - val_mean_absolute_error: 0.2647\n",
      "***TRAIN***:\n",
      "correlation related to cluster centre: 0.90\n",
      "r2 score related to cluster centre: 0.81\n",
      "***VALIDATION***:\n",
      "correlation related to cluster centre: 0.91\n",
      "r2 score related to cluster centre: 0.83\n"
     ]
    },
    {
     "data": {
      "application/vnd.jupyter.widget-view+json": {
       "model_id": "7f020652d43344db8b8de32e70099832",
       "version_major": 2,
       "version_minor": 0
      },
      "text/plain": [
       "IntProgress(value=0, max=67)"
      ]
     },
     "metadata": {},
     "output_type": "display_data"
    },
    {
     "name": "stdout",
     "output_type": "stream",
     "text": [
      "***VALIDATION***:\n",
      "average correlation: 0.91\n",
      "average r2: 0.78\n",
      "---do_investigations. cluster index : 32---\n"
     ]
    },
    {
     "data": {
      "application/vnd.jupyter.widget-view+json": {
       "model_id": "2d07a891007f4a4d89e386970bd4a445",
       "version_major": 2,
       "version_minor": 0
      },
      "text/plain": [
       "IntProgress(value=0, max=4)"
      ]
     },
     "metadata": {},
     "output_type": "display_data"
    },
    {
     "name": "stdout",
     "output_type": "stream",
     "text": [
      "Epoch 1/20\n",
      "368/368 [==============================] - 5s 6ms/step - loss: 0.2305 - mean_absolute_error: 0.2113 - val_loss: 0.3476 - val_mean_absolute_error: 0.2641\n",
      "Epoch 2/20\n",
      "368/368 [==============================] - 2s 5ms/step - loss: 0.1826 - mean_absolute_error: 0.1919 - val_loss: 0.3762 - val_mean_absolute_error: 0.2717\n",
      "Epoch 3/20\n",
      "368/368 [==============================] - 2s 5ms/step - loss: 0.1792 - mean_absolute_error: 0.1886 - val_loss: 0.3326 - val_mean_absolute_error: 0.2497\n",
      "Epoch 4/20\n",
      "368/368 [==============================] - 2s 5ms/step - loss: 0.1783 - mean_absolute_error: 0.1894 - val_loss: 0.3281 - val_mean_absolute_error: 0.2568\n",
      "Epoch 5/20\n",
      "368/368 [==============================] - 2s 5ms/step - loss: 0.1783 - mean_absolute_error: 0.1889 - val_loss: 0.3602 - val_mean_absolute_error: 0.2718\n",
      "Epoch 6/20\n",
      "368/368 [==============================] - 2s 5ms/step - loss: 0.1808 - mean_absolute_error: 0.1912 - val_loss: 0.3381 - val_mean_absolute_error: 0.2511\n",
      "***TRAIN***:\n",
      "correlation related to cluster centre: 0.91\n",
      "r2 score related to cluster centre: 0.82\n",
      "***VALIDATION***:\n",
      "correlation related to cluster centre: 0.92\n",
      "r2 score related to cluster centre: 0.83\n"
     ]
    },
    {
     "data": {
      "application/vnd.jupyter.widget-view+json": {
       "model_id": "a021848dc0534f41a642092c908f3ebb",
       "version_major": 2,
       "version_minor": 0
      },
      "text/plain": [
       "IntProgress(value=0, max=4)"
      ]
     },
     "metadata": {},
     "output_type": "display_data"
    },
    {
     "name": "stdout",
     "output_type": "stream",
     "text": [
      "***VALIDATION***:\n",
      "average correlation: 0.92\n",
      "average r2: 0.83\n",
      "---do_investigations. cluster index : 33---\n"
     ]
    },
    {
     "data": {
      "application/vnd.jupyter.widget-view+json": {
       "model_id": "615741434afd4034b1855c0c43c99fae",
       "version_major": 2,
       "version_minor": 0
      },
      "text/plain": [
       "IntProgress(value=0, max=151)"
      ]
     },
     "metadata": {},
     "output_type": "display_data"
    },
    {
     "name": "stdout",
     "output_type": "stream",
     "text": [
      "Epoch 1/20\n",
      "368/368 [==============================] - 5s 6ms/step - loss: 0.2253 - mean_absolute_error: 0.3128 - val_loss: 0.1922 - val_mean_absolute_error: 0.2739\n",
      "Epoch 2/20\n",
      "368/368 [==============================] - 2s 5ms/step - loss: 0.2055 - mean_absolute_error: 0.2996 - val_loss: 0.1831 - val_mean_absolute_error: 0.2698\n",
      "Epoch 3/20\n",
      "368/368 [==============================] - 2s 5ms/step - loss: 0.2028 - mean_absolute_error: 0.2983 - val_loss: 0.1846 - val_mean_absolute_error: 0.2734\n",
      "Epoch 4/20\n",
      "368/368 [==============================] - 2s 5ms/step - loss: 0.2045 - mean_absolute_error: 0.2992 - val_loss: 0.1788 - val_mean_absolute_error: 0.2665\n",
      "Epoch 5/20\n",
      "368/368 [==============================] - 2s 5ms/step - loss: 0.2009 - mean_absolute_error: 0.2963 - val_loss: 0.1887 - val_mean_absolute_error: 0.2751\n",
      "Epoch 6/20\n",
      "368/368 [==============================] - 2s 5ms/step - loss: 0.2016 - mean_absolute_error: 0.2971 - val_loss: 0.1807 - val_mean_absolute_error: 0.2727\n",
      "***TRAIN***:\n",
      "correlation related to cluster centre: 0.90\n",
      "r2 score related to cluster centre: 0.80\n",
      "***VALIDATION***:\n",
      "correlation related to cluster centre: 0.90\n",
      "r2 score related to cluster centre: 0.81\n"
     ]
    },
    {
     "data": {
      "application/vnd.jupyter.widget-view+json": {
       "model_id": "68ca568832e44551b3819f95243b01d3",
       "version_major": 2,
       "version_minor": 0
      },
      "text/plain": [
       "IntProgress(value=0, max=151)"
      ]
     },
     "metadata": {},
     "output_type": "display_data"
    },
    {
     "name": "stdout",
     "output_type": "stream",
     "text": [
      "***VALIDATION***:\n",
      "average correlation: 0.89\n",
      "average r2: 0.77\n",
      "---do_investigations. cluster index : 34---\n"
     ]
    },
    {
     "data": {
      "application/vnd.jupyter.widget-view+json": {
       "model_id": "1bc7b01cd8ac45a5a10b4cd85243f907",
       "version_major": 2,
       "version_minor": 0
      },
      "text/plain": [
       "IntProgress(value=0, max=2)"
      ]
     },
     "metadata": {},
     "output_type": "display_data"
    },
    {
     "name": "stdout",
     "output_type": "stream",
     "text": [
      "Epoch 1/20\n",
      "368/368 [==============================] - 5s 6ms/step - loss: 0.2581 - mean_absolute_error: 0.2681 - val_loss: 0.4435 - val_mean_absolute_error: 0.3330\n",
      "Epoch 2/20\n",
      "368/368 [==============================] - 2s 5ms/step - loss: 0.2203 - mean_absolute_error: 0.2477 - val_loss: 0.4155 - val_mean_absolute_error: 0.3246\n",
      "Epoch 3/20\n",
      "368/368 [==============================] - 2s 5ms/step - loss: 0.2181 - mean_absolute_error: 0.2493 - val_loss: 0.4125 - val_mean_absolute_error: 0.3239\n",
      "Epoch 4/20\n",
      "368/368 [==============================] - 2s 5ms/step - loss: 0.2179 - mean_absolute_error: 0.2486 - val_loss: 0.4085 - val_mean_absolute_error: 0.3252\n",
      "Epoch 5/20\n",
      "368/368 [==============================] - 2s 5ms/step - loss: 0.2169 - mean_absolute_error: 0.2474 - val_loss: 0.4052 - val_mean_absolute_error: 0.3213\n",
      "Epoch 6/20\n",
      "368/368 [==============================] - 2s 5ms/step - loss: 0.2159 - mean_absolute_error: 0.2478 - val_loss: 0.4048 - val_mean_absolute_error: 0.3245\n",
      "Epoch 7/20\n",
      "368/368 [==============================] - 2s 6ms/step - loss: 0.2152 - mean_absolute_error: 0.2469 - val_loss: 0.4060 - val_mean_absolute_error: 0.3339\n",
      "Epoch 8/20\n",
      "368/368 [==============================] - 2s 5ms/step - loss: 0.2152 - mean_absolute_error: 0.2475 - val_loss: 0.4040 - val_mean_absolute_error: 0.3163\n",
      "Epoch 9/20\n",
      "368/368 [==============================] - 2s 5ms/step - loss: 0.2149 - mean_absolute_error: 0.2478 - val_loss: 0.4035 - val_mean_absolute_error: 0.3220\n",
      "Epoch 10/20\n",
      "368/368 [==============================] - 2s 5ms/step - loss: 0.2157 - mean_absolute_error: 0.2474 - val_loss: 0.4133 - val_mean_absolute_error: 0.3122\n",
      "Epoch 11/20\n",
      "368/368 [==============================] - 2s 5ms/step - loss: 0.2151 - mean_absolute_error: 0.2468 - val_loss: 0.4020 - val_mean_absolute_error: 0.3137\n",
      "Epoch 12/20\n",
      "368/368 [==============================] - 2s 5ms/step - loss: 0.2132 - mean_absolute_error: 0.2469 - val_loss: 0.4045 - val_mean_absolute_error: 0.3128\n",
      "Epoch 13/20\n",
      "368/368 [==============================] - 2s 5ms/step - loss: 0.2135 - mean_absolute_error: 0.2451 - val_loss: 0.4039 - val_mean_absolute_error: 0.3093\n",
      "***TRAIN***:\n",
      "correlation related to cluster centre: 0.89\n",
      "r2 score related to cluster centre: 0.79\n",
      "***VALIDATION***:\n",
      "correlation related to cluster centre: 0.89\n",
      "r2 score related to cluster centre: 0.80\n"
     ]
    },
    {
     "data": {
      "application/vnd.jupyter.widget-view+json": {
       "model_id": "6b9236a8f45f44d092f31050ace74fae",
       "version_major": 2,
       "version_minor": 0
      },
      "text/plain": [
       "IntProgress(value=0, max=2)"
      ]
     },
     "metadata": {},
     "output_type": "display_data"
    },
    {
     "name": "stdout",
     "output_type": "stream",
     "text": [
      "***VALIDATION***:\n",
      "average correlation: 0.89\n",
      "average r2: 0.80\n",
      "---do_investigations. cluster index : 35---\n"
     ]
    },
    {
     "data": {
      "application/vnd.jupyter.widget-view+json": {
       "model_id": "a96dc66abf02455b88ca1ab2316a96b6",
       "version_major": 2,
       "version_minor": 0
      },
      "text/plain": [
       "IntProgress(value=0, max=31)"
      ]
     },
     "metadata": {},
     "output_type": "display_data"
    },
    {
     "name": "stdout",
     "output_type": "stream",
     "text": [
      "Epoch 1/20\n",
      "368/368 [==============================] - 8s 6ms/step - loss: 0.2594 - mean_absolute_error: 0.3297 - val_loss: 0.1970 - val_mean_absolute_error: 0.2809\n",
      "Epoch 2/20\n",
      "368/368 [==============================] - 2s 5ms/step - loss: 0.2068 - mean_absolute_error: 0.2963 - val_loss: 0.1862 - val_mean_absolute_error: 0.2682\n",
      "Epoch 3/20\n",
      "368/368 [==============================] - 2s 5ms/step - loss: 0.2032 - mean_absolute_error: 0.2935 - val_loss: 0.1839 - val_mean_absolute_error: 0.2691\n",
      "Epoch 4/20\n",
      "368/368 [==============================] - 2s 5ms/step - loss: 0.2035 - mean_absolute_error: 0.2941 - val_loss: 0.1845 - val_mean_absolute_error: 0.2690\n",
      "Epoch 5/20\n",
      "368/368 [==============================] - 2s 5ms/step - loss: 0.2030 - mean_absolute_error: 0.2944 - val_loss: 0.1839 - val_mean_absolute_error: 0.2686\n",
      "Epoch 6/20\n",
      "368/368 [==============================] - 2s 5ms/step - loss: 0.2046 - mean_absolute_error: 0.2955 - val_loss: 0.1828 - val_mean_absolute_error: 0.2775\n",
      "Epoch 7/20\n",
      "368/368 [==============================] - 2s 5ms/step - loss: 0.2036 - mean_absolute_error: 0.2941 - val_loss: 0.1827 - val_mean_absolute_error: 0.2709\n",
      "Epoch 8/20\n",
      "368/368 [==============================] - 2s 5ms/step - loss: 0.2018 - mean_absolute_error: 0.2931 - val_loss: 0.1877 - val_mean_absolute_error: 0.2679\n",
      "Epoch 9/20\n",
      "368/368 [==============================] - 2s 5ms/step - loss: 0.2017 - mean_absolute_error: 0.2928 - val_loss: 0.1823 - val_mean_absolute_error: 0.2691\n",
      "Epoch 10/20\n",
      "368/368 [==============================] - 2s 5ms/step - loss: 0.2019 - mean_absolute_error: 0.2924 - val_loss: 0.1883 - val_mean_absolute_error: 0.2738\n",
      "Epoch 11/20\n",
      "368/368 [==============================] - 2s 5ms/step - loss: 0.2015 - mean_absolute_error: 0.2925 - val_loss: 0.1850 - val_mean_absolute_error: 0.2671\n",
      "***TRAIN***:\n",
      "correlation related to cluster centre: 0.90\n",
      "r2 score related to cluster centre: 0.80\n",
      "***VALIDATION***:\n",
      "correlation related to cluster centre: 0.90\n",
      "r2 score related to cluster centre: 0.81\n"
     ]
    },
    {
     "data": {
      "application/vnd.jupyter.widget-view+json": {
       "model_id": "563a4622804e47e890e9631f1ae4bb1d",
       "version_major": 2,
       "version_minor": 0
      },
      "text/plain": [
       "IntProgress(value=0, max=31)"
      ]
     },
     "metadata": {},
     "output_type": "display_data"
    },
    {
     "name": "stdout",
     "output_type": "stream",
     "text": [
      "***VALIDATION***:\n",
      "average correlation: 0.90\n",
      "average r2: 0.78\n",
      "---do_investigations. cluster index : 36---\n"
     ]
    },
    {
     "data": {
      "application/vnd.jupyter.widget-view+json": {
       "model_id": "27e5890c6ebf4b2fb16118488e7c00c6",
       "version_major": 2,
       "version_minor": 0
      },
      "text/plain": [
       "IntProgress(value=0, max=18)"
      ]
     },
     "metadata": {},
     "output_type": "display_data"
    },
    {
     "name": "stdout",
     "output_type": "stream",
     "text": [
      "Epoch 1/20\n",
      "368/368 [==============================] - 4s 6ms/step - loss: 0.2489 - mean_absolute_error: 0.3216 - val_loss: 0.2081 - val_mean_absolute_error: 0.2840\n",
      "Epoch 2/20\n",
      "368/368 [==============================] - 2s 5ms/step - loss: 0.2094 - mean_absolute_error: 0.2941 - val_loss: 0.2008 - val_mean_absolute_error: 0.2818\n",
      "Epoch 3/20\n",
      "368/368 [==============================] - 2s 5ms/step - loss: 0.2074 - mean_absolute_error: 0.2930 - val_loss: 0.2004 - val_mean_absolute_error: 0.2780\n",
      "Epoch 4/20\n",
      "368/368 [==============================] - 2s 5ms/step - loss: 0.2068 - mean_absolute_error: 0.2930 - val_loss: 0.1991 - val_mean_absolute_error: 0.2812\n",
      "Epoch 5/20\n",
      "368/368 [==============================] - 2s 5ms/step - loss: 0.2049 - mean_absolute_error: 0.2918 - val_loss: 0.2197 - val_mean_absolute_error: 0.2932\n",
      "Epoch 6/20\n",
      "368/368 [==============================] - 2s 5ms/step - loss: 0.2052 - mean_absolute_error: 0.2910 - val_loss: 0.1993 - val_mean_absolute_error: 0.2761\n",
      "***TRAIN***:\n",
      "correlation related to cluster centre: 0.89\n",
      "r2 score related to cluster centre: 0.80\n",
      "***VALIDATION***:\n",
      "correlation related to cluster centre: 0.90\n",
      "r2 score related to cluster centre: 0.81\n"
     ]
    },
    {
     "data": {
      "application/vnd.jupyter.widget-view+json": {
       "model_id": "d4b504d6b4fc420e839f1ac8f7430c91",
       "version_major": 2,
       "version_minor": 0
      },
      "text/plain": [
       "IntProgress(value=0, max=18)"
      ]
     },
     "metadata": {},
     "output_type": "display_data"
    },
    {
     "name": "stdout",
     "output_type": "stream",
     "text": [
      "***VALIDATION***:\n",
      "average correlation: 0.90\n",
      "average r2: 0.80\n",
      "---do_investigations. cluster index : 37---\n"
     ]
    },
    {
     "data": {
      "application/vnd.jupyter.widget-view+json": {
       "model_id": "43c575f2a0ad42b692d216ddffe66367",
       "version_major": 2,
       "version_minor": 0
      },
      "text/plain": [
       "IntProgress(value=0, max=1)"
      ]
     },
     "metadata": {},
     "output_type": "display_data"
    },
    {
     "name": "stdout",
     "output_type": "stream",
     "text": [
      "Epoch 1/20\n",
      "368/368 [==============================] - 4s 6ms/step - loss: 0.2677 - mean_absolute_error: 0.2160 - val_loss: 0.3112 - val_mean_absolute_error: 0.2307\n",
      "Epoch 2/20\n",
      "368/368 [==============================] - 2s 5ms/step - loss: 0.2033 - mean_absolute_error: 0.1874 - val_loss: 0.2803 - val_mean_absolute_error: 0.2197\n",
      "Epoch 3/20\n",
      "368/368 [==============================] - 2s 5ms/step - loss: 0.1983 - mean_absolute_error: 0.1847 - val_loss: 0.2800 - val_mean_absolute_error: 0.2330\n",
      "Epoch 4/20\n",
      "368/368 [==============================] - 2s 5ms/step - loss: 0.2013 - mean_absolute_error: 0.1863 - val_loss: 0.2760 - val_mean_absolute_error: 0.2224\n",
      "Epoch 5/20\n",
      "368/368 [==============================] - 2s 5ms/step - loss: 0.1989 - mean_absolute_error: 0.1849 - val_loss: 0.2975 - val_mean_absolute_error: 0.2282\n",
      "Epoch 6/20\n",
      "368/368 [==============================] - 2s 5ms/step - loss: 0.1988 - mean_absolute_error: 0.1861 - val_loss: 0.2762 - val_mean_absolute_error: 0.2217\n",
      "***TRAIN***:\n",
      "correlation related to cluster centre: 0.90\n",
      "r2 score related to cluster centre: 0.81\n",
      "***VALIDATION***:\n",
      "correlation related to cluster centre: 0.91\n",
      "r2 score related to cluster centre: 0.83\n"
     ]
    },
    {
     "data": {
      "application/vnd.jupyter.widget-view+json": {
       "model_id": "ded93df762e1468380bb8124e1dd1cb9",
       "version_major": 2,
       "version_minor": 0
      },
      "text/plain": [
       "IntProgress(value=0, max=1)"
      ]
     },
     "metadata": {},
     "output_type": "display_data"
    },
    {
     "name": "stdout",
     "output_type": "stream",
     "text": [
      "***VALIDATION***:\n",
      "average correlation: 0.91\n",
      "average r2: 0.83\n",
      "---do_investigations. cluster index : 38---\n"
     ]
    },
    {
     "data": {
      "application/vnd.jupyter.widget-view+json": {
       "model_id": "ec50b18ccd9844fbb492b00054ec18c1",
       "version_major": 2,
       "version_minor": 0
      },
      "text/plain": [
       "IntProgress(value=0, max=5)"
      ]
     },
     "metadata": {},
     "output_type": "display_data"
    },
    {
     "name": "stdout",
     "output_type": "stream",
     "text": [
      "Epoch 1/20\n",
      "368/368 [==============================] - 4s 6ms/step - loss: 0.2504 - mean_absolute_error: 0.3413 - val_loss: 0.2223 - val_mean_absolute_error: 0.3200\n",
      "Epoch 2/20\n",
      "368/368 [==============================] - 2s 5ms/step - loss: 0.2090 - mean_absolute_error: 0.3079 - val_loss: 0.2177 - val_mean_absolute_error: 0.3117\n",
      "Epoch 3/20\n",
      "368/368 [==============================] - 2s 5ms/step - loss: 0.2078 - mean_absolute_error: 0.3062 - val_loss: 0.2242 - val_mean_absolute_error: 0.3203\n",
      "Epoch 4/20\n",
      "368/368 [==============================] - 2s 5ms/step - loss: 0.2074 - mean_absolute_error: 0.3053 - val_loss: 0.2282 - val_mean_absolute_error: 0.3234\n",
      "***TRAIN***:\n",
      "correlation related to cluster centre: 0.89\n",
      "r2 score related to cluster centre: 0.78\n",
      "***VALIDATION***:\n",
      "correlation related to cluster centre: 0.90\n",
      "r2 score related to cluster centre: 0.80\n"
     ]
    },
    {
     "data": {
      "application/vnd.jupyter.widget-view+json": {
       "model_id": "640add7680dd4462892587513d43b2da",
       "version_major": 2,
       "version_minor": 0
      },
      "text/plain": [
       "IntProgress(value=0, max=5)"
      ]
     },
     "metadata": {},
     "output_type": "display_data"
    },
    {
     "name": "stdout",
     "output_type": "stream",
     "text": [
      "***VALIDATION***:\n",
      "average correlation: 0.90\n",
      "average r2: 0.80\n",
      "---do_investigations. cluster index : 39---\n"
     ]
    },
    {
     "data": {
      "application/vnd.jupyter.widget-view+json": {
       "model_id": "14191bb00e6e4c98af37936c2eceddbc",
       "version_major": 2,
       "version_minor": 0
      },
      "text/plain": [
       "IntProgress(value=0, max=6)"
      ]
     },
     "metadata": {},
     "output_type": "display_data"
    },
    {
     "name": "stdout",
     "output_type": "stream",
     "text": [
      "Epoch 1/20\n",
      "368/368 [==============================] - 4s 6ms/step - loss: 0.2741 - mean_absolute_error: 0.3154 - val_loss: 0.2718 - val_mean_absolute_error: 0.3285\n",
      "Epoch 2/20\n",
      "368/368 [==============================] - 2s 5ms/step - loss: 0.2207 - mean_absolute_error: 0.2853 - val_loss: 0.2783 - val_mean_absolute_error: 0.3351\n",
      "Epoch 3/20\n",
      "368/368 [==============================] - 2s 5ms/step - loss: 0.2200 - mean_absolute_error: 0.2841 - val_loss: 0.2690 - val_mean_absolute_error: 0.3326\n",
      "Epoch 4/20\n",
      "368/368 [==============================] - 2s 5ms/step - loss: 0.2197 - mean_absolute_error: 0.2825 - val_loss: 0.2673 - val_mean_absolute_error: 0.3316\n",
      "Epoch 5/20\n",
      "368/368 [==============================] - 2s 5ms/step - loss: 0.2174 - mean_absolute_error: 0.2818 - val_loss: 0.2679 - val_mean_absolute_error: 0.3299\n",
      "Epoch 6/20\n",
      "368/368 [==============================] - 2s 5ms/step - loss: 0.2174 - mean_absolute_error: 0.2817 - val_loss: 0.2686 - val_mean_absolute_error: 0.3295\n",
      "***TRAIN***:\n",
      "correlation related to cluster centre: 0.89\n",
      "r2 score related to cluster centre: 0.78\n",
      "***VALIDATION***:\n",
      "correlation related to cluster centre: 0.90\n",
      "r2 score related to cluster centre: 0.81\n"
     ]
    },
    {
     "data": {
      "application/vnd.jupyter.widget-view+json": {
       "model_id": "93adee25733e4c90b1a5f52c39964094",
       "version_major": 2,
       "version_minor": 0
      },
      "text/plain": [
       "IntProgress(value=0, max=6)"
      ]
     },
     "metadata": {},
     "output_type": "display_data"
    },
    {
     "name": "stdout",
     "output_type": "stream",
     "text": [
      "***VALIDATION***:\n",
      "average correlation: 0.89\n",
      "average r2: 0.80\n",
      "---do_investigations. cluster index : 40---\n"
     ]
    },
    {
     "data": {
      "application/vnd.jupyter.widget-view+json": {
       "model_id": "606ee8f4887e47b6b66a1f56a8edb907",
       "version_major": 2,
       "version_minor": 0
      },
      "text/plain": [
       "IntProgress(value=0, max=13)"
      ]
     },
     "metadata": {},
     "output_type": "display_data"
    },
    {
     "name": "stdout",
     "output_type": "stream",
     "text": [
      "Epoch 1/20\n",
      "368/368 [==============================] - 4s 6ms/step - loss: 0.2416 - mean_absolute_error: 0.3341 - val_loss: 0.1817 - val_mean_absolute_error: 0.2779\n",
      "Epoch 2/20\n",
      "368/368 [==============================] - 2s 5ms/step - loss: 0.2048 - mean_absolute_error: 0.3060 - val_loss: 0.1844 - val_mean_absolute_error: 0.2742\n",
      "Epoch 3/20\n",
      "368/368 [==============================] - 2s 5ms/step - loss: 0.2031 - mean_absolute_error: 0.3061 - val_loss: 0.1798 - val_mean_absolute_error: 0.2699\n",
      "Epoch 4/20\n",
      "368/368 [==============================] - 2s 5ms/step - loss: 0.2024 - mean_absolute_error: 0.3046 - val_loss: 0.1904 - val_mean_absolute_error: 0.2824\n",
      "Epoch 5/20\n",
      "368/368 [==============================] - 2s 5ms/step - loss: 0.2016 - mean_absolute_error: 0.3038 - val_loss: 0.1876 - val_mean_absolute_error: 0.2777\n",
      "***TRAIN***:\n",
      "correlation related to cluster centre: 0.90\n",
      "r2 score related to cluster centre: 0.80\n",
      "***VALIDATION***:\n",
      "correlation related to cluster centre: 0.90\n",
      "r2 score related to cluster centre: 0.81\n"
     ]
    },
    {
     "data": {
      "application/vnd.jupyter.widget-view+json": {
       "model_id": "04789bf6662348d5a9d7d27219e961b4",
       "version_major": 2,
       "version_minor": 0
      },
      "text/plain": [
       "IntProgress(value=0, max=13)"
      ]
     },
     "metadata": {},
     "output_type": "display_data"
    },
    {
     "name": "stdout",
     "output_type": "stream",
     "text": [
      "***VALIDATION***:\n",
      "average correlation: 0.90\n",
      "average r2: 0.80\n",
      "---do_investigations. cluster index : 41---\n"
     ]
    },
    {
     "data": {
      "application/vnd.jupyter.widget-view+json": {
       "model_id": "0212900dd9a24da99fc719163fffaa1d",
       "version_major": 2,
       "version_minor": 0
      },
      "text/plain": [
       "IntProgress(value=0, max=2)"
      ]
     },
     "metadata": {},
     "output_type": "display_data"
    },
    {
     "name": "stdout",
     "output_type": "stream",
     "text": [
      "Epoch 1/20\n",
      "368/368 [==============================] - 4s 6ms/step - loss: 0.2227 - mean_absolute_error: 0.2292 - val_loss: 0.3869 - val_mean_absolute_error: 0.3152\n",
      "Epoch 2/20\n",
      "368/368 [==============================] - 2s 5ms/step - loss: 0.1887 - mean_absolute_error: 0.2125 - val_loss: 0.3761 - val_mean_absolute_error: 0.3072\n",
      "Epoch 3/20\n",
      "368/368 [==============================] - 2s 5ms/step - loss: 0.1871 - mean_absolute_error: 0.2107 - val_loss: 0.3705 - val_mean_absolute_error: 0.3116\n",
      "Epoch 4/20\n",
      "368/368 [==============================] - 2s 5ms/step - loss: 0.1842 - mean_absolute_error: 0.2096 - val_loss: 0.3666 - val_mean_absolute_error: 0.3070\n",
      "Epoch 5/20\n",
      "368/368 [==============================] - 2s 5ms/step - loss: 0.1846 - mean_absolute_error: 0.2089 - val_loss: 0.3884 - val_mean_absolute_error: 0.3214\n",
      "Epoch 6/20\n",
      "368/368 [==============================] - 2s 5ms/step - loss: 0.1848 - mean_absolute_error: 0.2108 - val_loss: 0.3713 - val_mean_absolute_error: 0.3173\n",
      "***TRAIN***:\n",
      "correlation related to cluster centre: 0.91\n",
      "r2 score related to cluster centre: 0.82\n",
      "***VALIDATION***:\n",
      "correlation related to cluster centre: 0.90\n",
      "r2 score related to cluster centre: 0.81\n"
     ]
    },
    {
     "data": {
      "application/vnd.jupyter.widget-view+json": {
       "model_id": "462ba3f0805f4a9fb06d3ef5cbce903a",
       "version_major": 2,
       "version_minor": 0
      },
      "text/plain": [
       "IntProgress(value=0, max=2)"
      ]
     },
     "metadata": {},
     "output_type": "display_data"
    },
    {
     "name": "stdout",
     "output_type": "stream",
     "text": [
      "***VALIDATION***:\n",
      "average correlation: 0.91\n",
      "average r2: 0.81\n",
      "---do_investigations. cluster index : 42---\n"
     ]
    },
    {
     "data": {
      "application/vnd.jupyter.widget-view+json": {
       "model_id": "71229c2be77040d1b183282cb825db62",
       "version_major": 2,
       "version_minor": 0
      },
      "text/plain": [
       "IntProgress(value=0, max=1)"
      ]
     },
     "metadata": {},
     "output_type": "display_data"
    },
    {
     "name": "stdout",
     "output_type": "stream",
     "text": [
      "Epoch 1/20\n",
      "368/368 [==============================] - 5s 7ms/step - loss: 0.2532 - mean_absolute_error: 0.2349 - val_loss: 0.3200 - val_mean_absolute_error: 0.2551\n",
      "Epoch 2/20\n",
      "368/368 [==============================] - 2s 5ms/step - loss: 0.2024 - mean_absolute_error: 0.2080 - val_loss: 0.3088 - val_mean_absolute_error: 0.2516\n",
      "Epoch 3/20\n",
      "368/368 [==============================] - 2s 5ms/step - loss: 0.2009 - mean_absolute_error: 0.2088 - val_loss: 0.3036 - val_mean_absolute_error: 0.2507\n",
      "Epoch 4/20\n",
      "368/368 [==============================] - 2s 5ms/step - loss: 0.1992 - mean_absolute_error: 0.2064 - val_loss: 0.3064 - val_mean_absolute_error: 0.2534\n",
      "Epoch 5/20\n",
      "368/368 [==============================] - 2s 5ms/step - loss: 0.1998 - mean_absolute_error: 0.2073 - val_loss: 0.3042 - val_mean_absolute_error: 0.2552\n",
      "***TRAIN***:\n",
      "correlation related to cluster centre: 0.90\n",
      "r2 score related to cluster centre: 0.81\n",
      "***VALIDATION***:\n",
      "correlation related to cluster centre: 0.91\n",
      "r2 score related to cluster centre: 0.83\n"
     ]
    },
    {
     "data": {
      "application/vnd.jupyter.widget-view+json": {
       "model_id": "e4b11273f4e440edb3a6bfb9a68fcdf5",
       "version_major": 2,
       "version_minor": 0
      },
      "text/plain": [
       "IntProgress(value=0, max=1)"
      ]
     },
     "metadata": {},
     "output_type": "display_data"
    },
    {
     "name": "stdout",
     "output_type": "stream",
     "text": [
      "***VALIDATION***:\n",
      "average correlation: 0.91\n",
      "average r2: 0.83\n",
      "---do_investigations. cluster index : 43---\n"
     ]
    },
    {
     "data": {
      "application/vnd.jupyter.widget-view+json": {
       "model_id": "bfbe800579f349d7ab596a2faea8f636",
       "version_major": 2,
       "version_minor": 0
      },
      "text/plain": [
       "IntProgress(value=0, max=2)"
      ]
     },
     "metadata": {},
     "output_type": "display_data"
    },
    {
     "name": "stdout",
     "output_type": "stream",
     "text": [
      "Epoch 1/20\n",
      "368/368 [==============================] - 6s 6ms/step - loss: 0.2592 - mean_absolute_error: 0.2891 - val_loss: 0.1283 - val_mean_absolute_error: 0.2171\n",
      "Epoch 2/20\n",
      "368/368 [==============================] - 2s 5ms/step - loss: 0.2058 - mean_absolute_error: 0.2629 - val_loss: 0.1294 - val_mean_absolute_error: 0.2024\n",
      "Epoch 3/20\n",
      "368/368 [==============================] - 2s 4ms/step - loss: 0.2041 - mean_absolute_error: 0.2615 - val_loss: 0.1263 - val_mean_absolute_error: 0.2026\n",
      "Epoch 4/20\n",
      "368/368 [==============================] - 2s 4ms/step - loss: 0.2027 - mean_absolute_error: 0.2605 - val_loss: 0.1260 - val_mean_absolute_error: 0.2137\n",
      "Epoch 5/20\n",
      "368/368 [==============================] - 1s 4ms/step - loss: 0.2013 - mean_absolute_error: 0.2593 - val_loss: 0.1277 - val_mean_absolute_error: 0.1965\n",
      "Epoch 6/20\n",
      "368/368 [==============================] - 1s 4ms/step - loss: 0.2017 - mean_absolute_error: 0.2590 - val_loss: 0.1271 - val_mean_absolute_error: 0.2220\n",
      "***TRAIN***:\n",
      "correlation related to cluster centre: 0.90\n",
      "r2 score related to cluster centre: 0.80\n",
      "***VALIDATION***:\n",
      "correlation related to cluster centre: 0.90\n",
      "r2 score related to cluster centre: 0.80\n"
     ]
    },
    {
     "data": {
      "application/vnd.jupyter.widget-view+json": {
       "model_id": "f382315e3204413fa1647a8b7352e201",
       "version_major": 2,
       "version_minor": 0
      },
      "text/plain": [
       "IntProgress(value=0, max=2)"
      ]
     },
     "metadata": {},
     "output_type": "display_data"
    },
    {
     "name": "stdout",
     "output_type": "stream",
     "text": [
      "***VALIDATION***:\n",
      "average correlation: 0.89\n",
      "average r2: 0.79\n",
      "---do_investigations. cluster index : 44---\n"
     ]
    },
    {
     "data": {
      "application/vnd.jupyter.widget-view+json": {
       "model_id": "b703983a83974b169676fe9acdb9b71f",
       "version_major": 2,
       "version_minor": 0
      },
      "text/plain": [
       "IntProgress(value=0, max=1)"
      ]
     },
     "metadata": {},
     "output_type": "display_data"
    },
    {
     "name": "stdout",
     "output_type": "stream",
     "text": [
      "Epoch 1/20\n",
      "368/368 [==============================] - 4s 5ms/step - loss: 0.2568 - mean_absolute_error: 0.2073 - val_loss: 0.3712 - val_mean_absolute_error: 0.2392\n",
      "Epoch 2/20\n",
      "368/368 [==============================] - 1s 4ms/step - loss: 0.1980 - mean_absolute_error: 0.1825 - val_loss: 0.3498 - val_mean_absolute_error: 0.2379\n",
      "Epoch 3/20\n",
      "368/368 [==============================] - 1s 4ms/step - loss: 0.1911 - mean_absolute_error: 0.1797 - val_loss: 0.3658 - val_mean_absolute_error: 0.2276\n",
      "Epoch 4/20\n",
      "368/368 [==============================] - 1s 4ms/step - loss: 0.1909 - mean_absolute_error: 0.1819 - val_loss: 0.3469 - val_mean_absolute_error: 0.2483\n",
      "Epoch 5/20\n",
      "368/368 [==============================] - 1s 4ms/step - loss: 0.1918 - mean_absolute_error: 0.1820 - val_loss: 0.3519 - val_mean_absolute_error: 0.2275\n",
      "Epoch 6/20\n",
      "368/368 [==============================] - 1s 4ms/step - loss: 0.1915 - mean_absolute_error: 0.1814 - val_loss: 0.3468 - val_mean_absolute_error: 0.2337\n",
      "Epoch 7/20\n",
      "368/368 [==============================] - 1s 4ms/step - loss: 0.1937 - mean_absolute_error: 0.1832 - val_loss: 0.3436 - val_mean_absolute_error: 0.2281\n",
      "Epoch 8/20\n",
      "368/368 [==============================] - 1s 4ms/step - loss: 0.1881 - mean_absolute_error: 0.1791 - val_loss: 0.3476 - val_mean_absolute_error: 0.2311\n",
      "Epoch 9/20\n",
      "368/368 [==============================] - 1s 4ms/step - loss: 0.1885 - mean_absolute_error: 0.1827 - val_loss: 0.3384 - val_mean_absolute_error: 0.2254\n",
      "Epoch 10/20\n",
      "368/368 [==============================] - 1s 4ms/step - loss: 0.1891 - mean_absolute_error: 0.1818 - val_loss: 0.3448 - val_mean_absolute_error: 0.2241\n",
      "Epoch 11/20\n",
      "368/368 [==============================] - 1s 4ms/step - loss: 0.1943 - mean_absolute_error: 0.1835 - val_loss: 0.3382 - val_mean_absolute_error: 0.2349\n",
      "Epoch 12/20\n",
      "368/368 [==============================] - 1s 4ms/step - loss: 0.1907 - mean_absolute_error: 0.1829 - val_loss: 0.3547 - val_mean_absolute_error: 0.2351\n",
      "Epoch 13/20\n",
      "368/368 [==============================] - 1s 4ms/step - loss: 0.1892 - mean_absolute_error: 0.1816 - val_loss: 0.3388 - val_mean_absolute_error: 0.2250\n",
      "***TRAIN***:\n",
      "correlation related to cluster centre: 0.91\n",
      "r2 score related to cluster centre: 0.82\n",
      "***VALIDATION***:\n",
      "correlation related to cluster centre: 0.90\n",
      "r2 score related to cluster centre: 0.81\n"
     ]
    },
    {
     "data": {
      "application/vnd.jupyter.widget-view+json": {
       "model_id": "31f62ef0162d45d3b8758a8425a03b3e",
       "version_major": 2,
       "version_minor": 0
      },
      "text/plain": [
       "IntProgress(value=0, max=1)"
      ]
     },
     "metadata": {},
     "output_type": "display_data"
    },
    {
     "name": "stdout",
     "output_type": "stream",
     "text": [
      "***VALIDATION***:\n",
      "average correlation: 0.90\n",
      "average r2: 0.81\n",
      "weighted_average_correlation: 0.89\n",
      "weighted_average_r2_score: 0.76\n",
      "bad clusters rate: 0.49%\n"
     ]
    }
   ],
   "source": [
    "first_path = r\"C:\\Coding\\final-qualifying-work_2023-2024\\ClusteringCpp\\output\\kohonen 15 0.1 0.1.txt\"\n",
    "second_path = r\"C:\\Coding\\final-qualifying-work_2023-2024\\ClusteringCpp\\output\\kohonen 15 0.1 0.1 - 3 0.1 0.1.txt\"\n",
    "third_path = r\"C:\\Coding\\final-qualifying-work_2023-2024\\ClusteringCpp\\output\\kohonen 15 0.1 0.1 - 2 0.1 0.1.txt\"\n",
    "fourth_path = r\"C:\\Coding\\final-qualifying-work_2023-2024\\ClusteringCpp\\output\\kohonen 15 0.1 0.1 - 1 0.1 0.1.txt\"\n",
    "\n",
    "output_file = open(\"computational-experiments-output\", \"a\")\n",
    "\n",
    "selected_path = fourth_path\n",
    "\n",
    "print(f\"rnn {os.path.split(selected_path)[-1]}\")\n",
    "output_file.write(f\"rnn {os.path.split(selected_path)[-1]}\\n\")\n",
    "show_results(rnn_model, get_clusters(selected_path), CONV_WIDTH)\n",
    "\n",
    "output_file.close()"
   ]
  }
 ],
 "metadata": {
  "kernelspec": {
   "display_name": "Python 3 (ipykernel)",
   "language": "python",
   "name": "python3"
  },
  "language_info": {
   "codemirror_mode": {
    "name": "ipython",
    "version": 3
   },
   "file_extension": ".py",
   "mimetype": "text/x-python",
   "name": "python",
   "nbconvert_exporter": "python",
   "pygments_lexer": "ipython3",
   "version": "3.11.7"
  }
 },
 "nbformat": 4,
 "nbformat_minor": 5
}
